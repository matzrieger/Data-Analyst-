{
 "cells": [
  {
   "cell_type": "markdown",
   "metadata": {},
   "source": [
    "Компания купила крупный сервис для чтения книг по подписке. В базе данных компании информация о книгах, издательствах, авторах, а также пользовательские обзоры книг. Эти данные помогут сформулировать ценностное предложение для нового продукта. Первая задача как аналитика — проанализировать базу данных. А именно:\n",
    "\n",
    "1) Подготовить подключение к базе данных\n",
    "\n",
    "2) Провести предобработку данных\n",
    "\n",
    "3)Посчитать, сколько книг вышло после 1 января 2000 года\n",
    "\n",
    "4)Для каждой книги посчитать количество обзоров и среднюю оценку\n",
    "\n",
    "5)Определить издательство, которое выпустило наибольшее число книг толще 50 страниц — так можно исключить из анализа брошюры\n",
    "\n",
    "6)Определить автора с самой высокой средней оценкой книг — учитывать только книги с 50 и более оценками\n",
    "\n",
    "7)Посчитать среднее количество обзоров от пользователей, которые поставили больше 50 оценок"
   ]
  },
  {
   "cell_type": "markdown",
   "metadata": {},
   "source": [
    "## Подготовить подключение к базе данных"
   ]
  },
  {
   "cell_type": "code",
   "execution_count": 1,
   "metadata": {},
   "outputs": [],
   "source": [
    "#!/usr/bin/python\n",
    "# -*- coding: utf-8 -*-\n",
    "\n",
    "import pandas as pd\n",
    "from sqlalchemy import create_engine\n",
    "import matplotlib.pyplot as plt\n",
    "\n",
    "# устанавливаем параметры\n",
    "db_config = {'user': 'praktikum_student', # имя пользователя\n",
    " 'pwd': 'Sdf4$2;d-d30pp', # пароль\n",
    " 'host': 'rc1b-wcoijxj3yxfsf3fs.mdb.yandexcloud.net',\n",
    " 'port': 6432, # порт подключения\n",
    " 'db': 'data-analyst-final-project-db'} # название базы данных\n",
    "connection_string = 'postgresql://{}:{}@{}:{}/{}'.format(db_config['user'],\n",
    " db_config['pwd'],\n",
    " db_config['host'],\n",
    " db_config['port'],\n",
    " db_config['db'])\n",
    "# сохраняем коннектор\n",
    "con = create_engine(connection_string, connect_args={'sslmode':'require'})"
   ]
  },
  {
   "cell_type": "code",
   "execution_count": 2,
   "metadata": {},
   "outputs": [
    {
     "data": {
      "text/html": [
       "<div>\n",
       "<style scoped>\n",
       "    .dataframe tbody tr th:only-of-type {\n",
       "        vertical-align: middle;\n",
       "    }\n",
       "\n",
       "    .dataframe tbody tr th {\n",
       "        vertical-align: top;\n",
       "    }\n",
       "\n",
       "    .dataframe thead th {\n",
       "        text-align: right;\n",
       "    }\n",
       "</style>\n",
       "<table border=\"1\" class=\"dataframe\">\n",
       "  <thead>\n",
       "    <tr style=\"text-align: right;\">\n",
       "      <th></th>\n",
       "      <th>book_id</th>\n",
       "      <th>author_id</th>\n",
       "      <th>title</th>\n",
       "      <th>num_pages</th>\n",
       "      <th>publication_date</th>\n",
       "      <th>publisher_id</th>\n",
       "    </tr>\n",
       "  </thead>\n",
       "  <tbody>\n",
       "    <tr>\n",
       "      <td>0</td>\n",
       "      <td>1</td>\n",
       "      <td>546</td>\n",
       "      <td>'Salem's Lot</td>\n",
       "      <td>594</td>\n",
       "      <td>2005-11-01</td>\n",
       "      <td>93</td>\n",
       "    </tr>\n",
       "    <tr>\n",
       "      <td>1</td>\n",
       "      <td>2</td>\n",
       "      <td>465</td>\n",
       "      <td>1 000 Places to See Before You Die</td>\n",
       "      <td>992</td>\n",
       "      <td>2003-05-22</td>\n",
       "      <td>336</td>\n",
       "    </tr>\n",
       "    <tr>\n",
       "      <td>2</td>\n",
       "      <td>3</td>\n",
       "      <td>407</td>\n",
       "      <td>13 Little Blue Envelopes (Little Blue Envelope...</td>\n",
       "      <td>322</td>\n",
       "      <td>2010-12-21</td>\n",
       "      <td>135</td>\n",
       "    </tr>\n",
       "    <tr>\n",
       "      <td>3</td>\n",
       "      <td>4</td>\n",
       "      <td>82</td>\n",
       "      <td>1491: New Revelations of the Americas Before C...</td>\n",
       "      <td>541</td>\n",
       "      <td>2006-10-10</td>\n",
       "      <td>309</td>\n",
       "    </tr>\n",
       "    <tr>\n",
       "      <td>4</td>\n",
       "      <td>5</td>\n",
       "      <td>125</td>\n",
       "      <td>1776</td>\n",
       "      <td>386</td>\n",
       "      <td>2006-07-04</td>\n",
       "      <td>268</td>\n",
       "    </tr>\n",
       "    <tr>\n",
       "      <td>...</td>\n",
       "      <td>...</td>\n",
       "      <td>...</td>\n",
       "      <td>...</td>\n",
       "      <td>...</td>\n",
       "      <td>...</td>\n",
       "      <td>...</td>\n",
       "    </tr>\n",
       "    <tr>\n",
       "      <td>995</td>\n",
       "      <td>996</td>\n",
       "      <td>571</td>\n",
       "      <td>Wyrd Sisters (Discworld  #6; Witches #2)</td>\n",
       "      <td>265</td>\n",
       "      <td>2001-02-06</td>\n",
       "      <td>147</td>\n",
       "    </tr>\n",
       "    <tr>\n",
       "      <td>996</td>\n",
       "      <td>997</td>\n",
       "      <td>454</td>\n",
       "      <td>Xenocide (Ender's Saga  #3)</td>\n",
       "      <td>592</td>\n",
       "      <td>1996-07-15</td>\n",
       "      <td>297</td>\n",
       "    </tr>\n",
       "    <tr>\n",
       "      <td>997</td>\n",
       "      <td>998</td>\n",
       "      <td>201</td>\n",
       "      <td>Year of Wonders</td>\n",
       "      <td>358</td>\n",
       "      <td>2002-04-30</td>\n",
       "      <td>212</td>\n",
       "    </tr>\n",
       "    <tr>\n",
       "      <td>998</td>\n",
       "      <td>999</td>\n",
       "      <td>94</td>\n",
       "      <td>You Suck (A Love Story  #2)</td>\n",
       "      <td>328</td>\n",
       "      <td>2007-01-16</td>\n",
       "      <td>331</td>\n",
       "    </tr>\n",
       "    <tr>\n",
       "      <td>999</td>\n",
       "      <td>1000</td>\n",
       "      <td>509</td>\n",
       "      <td>Zen and the Art of Motorcycle Maintenance: An ...</td>\n",
       "      <td>540</td>\n",
       "      <td>2006-04-25</td>\n",
       "      <td>143</td>\n",
       "    </tr>\n",
       "  </tbody>\n",
       "</table>\n",
       "<p>1000 rows × 6 columns</p>\n",
       "</div>"
      ],
      "text/plain": [
       "     book_id  author_id                                              title  \\\n",
       "0          1        546                                       'Salem's Lot   \n",
       "1          2        465                 1 000 Places to See Before You Die   \n",
       "2          3        407  13 Little Blue Envelopes (Little Blue Envelope...   \n",
       "3          4         82  1491: New Revelations of the Americas Before C...   \n",
       "4          5        125                                               1776   \n",
       "..       ...        ...                                                ...   \n",
       "995      996        571           Wyrd Sisters (Discworld  #6; Witches #2)   \n",
       "996      997        454                        Xenocide (Ender's Saga  #3)   \n",
       "997      998        201                                    Year of Wonders   \n",
       "998      999         94                        You Suck (A Love Story  #2)   \n",
       "999     1000        509  Zen and the Art of Motorcycle Maintenance: An ...   \n",
       "\n",
       "     num_pages publication_date  publisher_id  \n",
       "0          594       2005-11-01            93  \n",
       "1          992       2003-05-22           336  \n",
       "2          322       2010-12-21           135  \n",
       "3          541       2006-10-10           309  \n",
       "4          386       2006-07-04           268  \n",
       "..         ...              ...           ...  \n",
       "995        265       2001-02-06           147  \n",
       "996        592       1996-07-15           297  \n",
       "997        358       2002-04-30           212  \n",
       "998        328       2007-01-16           331  \n",
       "999        540       2006-04-25           143  \n",
       "\n",
       "[1000 rows x 6 columns]"
      ]
     },
     "execution_count": 2,
     "metadata": {},
     "output_type": "execute_result"
    }
   ],
   "source": [
    "query = '''\n",
    "            SELECT * FROM books\n",
    "        '''\n",
    "books = pd.io.sql.read_sql(query, con) \n",
    "books"
   ]
  },
  {
   "cell_type": "code",
   "execution_count": 3,
   "metadata": {},
   "outputs": [
    {
     "data": {
      "text/html": [
       "<div>\n",
       "<style scoped>\n",
       "    .dataframe tbody tr th:only-of-type {\n",
       "        vertical-align: middle;\n",
       "    }\n",
       "\n",
       "    .dataframe tbody tr th {\n",
       "        vertical-align: top;\n",
       "    }\n",
       "\n",
       "    .dataframe thead th {\n",
       "        text-align: right;\n",
       "    }\n",
       "</style>\n",
       "<table border=\"1\" class=\"dataframe\">\n",
       "  <thead>\n",
       "    <tr style=\"text-align: right;\">\n",
       "      <th></th>\n",
       "      <th>author_id</th>\n",
       "      <th>author</th>\n",
       "    </tr>\n",
       "  </thead>\n",
       "  <tbody>\n",
       "    <tr>\n",
       "      <td>0</td>\n",
       "      <td>1</td>\n",
       "      <td>A.S. Byatt</td>\n",
       "    </tr>\n",
       "    <tr>\n",
       "      <td>1</td>\n",
       "      <td>2</td>\n",
       "      <td>Aesop/Laura Harris/Laura Gibbs</td>\n",
       "    </tr>\n",
       "    <tr>\n",
       "      <td>2</td>\n",
       "      <td>3</td>\n",
       "      <td>Agatha Christie</td>\n",
       "    </tr>\n",
       "    <tr>\n",
       "      <td>3</td>\n",
       "      <td>4</td>\n",
       "      <td>Alan Brennert</td>\n",
       "    </tr>\n",
       "    <tr>\n",
       "      <td>4</td>\n",
       "      <td>5</td>\n",
       "      <td>Alan Moore/David   Lloyd</td>\n",
       "    </tr>\n",
       "    <tr>\n",
       "      <td>...</td>\n",
       "      <td>...</td>\n",
       "      <td>...</td>\n",
       "    </tr>\n",
       "    <tr>\n",
       "      <td>631</td>\n",
       "      <td>632</td>\n",
       "      <td>William Strunk Jr./E.B. White</td>\n",
       "    </tr>\n",
       "    <tr>\n",
       "      <td>632</td>\n",
       "      <td>633</td>\n",
       "      <td>Zadie Smith</td>\n",
       "    </tr>\n",
       "    <tr>\n",
       "      <td>633</td>\n",
       "      <td>634</td>\n",
       "      <td>Zilpha Keatley Snyder</td>\n",
       "    </tr>\n",
       "    <tr>\n",
       "      <td>634</td>\n",
       "      <td>635</td>\n",
       "      <td>Zora Neale Hurston</td>\n",
       "    </tr>\n",
       "    <tr>\n",
       "      <td>635</td>\n",
       "      <td>636</td>\n",
       "      <td>Åsne Seierstad/Ingrid Christopherson</td>\n",
       "    </tr>\n",
       "  </tbody>\n",
       "</table>\n",
       "<p>636 rows × 2 columns</p>\n",
       "</div>"
      ],
      "text/plain": [
       "     author_id                                author\n",
       "0            1                            A.S. Byatt\n",
       "1            2        Aesop/Laura Harris/Laura Gibbs\n",
       "2            3                       Agatha Christie\n",
       "3            4                         Alan Brennert\n",
       "4            5              Alan Moore/David   Lloyd\n",
       "..         ...                                   ...\n",
       "631        632         William Strunk Jr./E.B. White\n",
       "632        633                           Zadie Smith\n",
       "633        634                 Zilpha Keatley Snyder\n",
       "634        635                    Zora Neale Hurston\n",
       "635        636  Åsne Seierstad/Ingrid Christopherson\n",
       "\n",
       "[636 rows x 2 columns]"
      ]
     },
     "execution_count": 3,
     "metadata": {},
     "output_type": "execute_result"
    }
   ],
   "source": [
    "query = '''\n",
    "            SELECT * FROM authors\n",
    "        '''\n",
    "authors = pd.io.sql.read_sql(query, con) \n",
    "authors"
   ]
  },
  {
   "cell_type": "code",
   "execution_count": 4,
   "metadata": {},
   "outputs": [
    {
     "data": {
      "text/html": [
       "<div>\n",
       "<style scoped>\n",
       "    .dataframe tbody tr th:only-of-type {\n",
       "        vertical-align: middle;\n",
       "    }\n",
       "\n",
       "    .dataframe tbody tr th {\n",
       "        vertical-align: top;\n",
       "    }\n",
       "\n",
       "    .dataframe thead th {\n",
       "        text-align: right;\n",
       "    }\n",
       "</style>\n",
       "<table border=\"1\" class=\"dataframe\">\n",
       "  <thead>\n",
       "    <tr style=\"text-align: right;\">\n",
       "      <th></th>\n",
       "      <th>publisher_id</th>\n",
       "      <th>publisher</th>\n",
       "    </tr>\n",
       "  </thead>\n",
       "  <tbody>\n",
       "    <tr>\n",
       "      <td>0</td>\n",
       "      <td>1</td>\n",
       "      <td>Ace</td>\n",
       "    </tr>\n",
       "    <tr>\n",
       "      <td>1</td>\n",
       "      <td>2</td>\n",
       "      <td>Ace Book</td>\n",
       "    </tr>\n",
       "    <tr>\n",
       "      <td>2</td>\n",
       "      <td>3</td>\n",
       "      <td>Ace Books</td>\n",
       "    </tr>\n",
       "    <tr>\n",
       "      <td>3</td>\n",
       "      <td>4</td>\n",
       "      <td>Ace Hardcover</td>\n",
       "    </tr>\n",
       "    <tr>\n",
       "      <td>4</td>\n",
       "      <td>5</td>\n",
       "      <td>Addison Wesley Publishing Company</td>\n",
       "    </tr>\n",
       "    <tr>\n",
       "      <td>...</td>\n",
       "      <td>...</td>\n",
       "      <td>...</td>\n",
       "    </tr>\n",
       "    <tr>\n",
       "      <td>335</td>\n",
       "      <td>336</td>\n",
       "      <td>Workman Publishing Company</td>\n",
       "    </tr>\n",
       "    <tr>\n",
       "      <td>336</td>\n",
       "      <td>337</td>\n",
       "      <td>Wyatt Book</td>\n",
       "    </tr>\n",
       "    <tr>\n",
       "      <td>337</td>\n",
       "      <td>338</td>\n",
       "      <td>Yale University Press</td>\n",
       "    </tr>\n",
       "    <tr>\n",
       "      <td>338</td>\n",
       "      <td>339</td>\n",
       "      <td>Yearling</td>\n",
       "    </tr>\n",
       "    <tr>\n",
       "      <td>339</td>\n",
       "      <td>340</td>\n",
       "      <td>Yearling Books</td>\n",
       "    </tr>\n",
       "  </tbody>\n",
       "</table>\n",
       "<p>340 rows × 2 columns</p>\n",
       "</div>"
      ],
      "text/plain": [
       "     publisher_id                          publisher\n",
       "0               1                                Ace\n",
       "1               2                           Ace Book\n",
       "2               3                          Ace Books\n",
       "3               4                      Ace Hardcover\n",
       "4               5  Addison Wesley Publishing Company\n",
       "..            ...                                ...\n",
       "335           336         Workman Publishing Company\n",
       "336           337                         Wyatt Book\n",
       "337           338              Yale University Press\n",
       "338           339                           Yearling\n",
       "339           340                     Yearling Books\n",
       "\n",
       "[340 rows x 2 columns]"
      ]
     },
     "execution_count": 4,
     "metadata": {},
     "output_type": "execute_result"
    }
   ],
   "source": [
    "query = '''\n",
    "            SELECT * FROM publishers\n",
    "        '''\n",
    "publishers = pd.io.sql.read_sql(query, con) \n",
    "publishers"
   ]
  },
  {
   "cell_type": "code",
   "execution_count": 5,
   "metadata": {},
   "outputs": [
    {
     "data": {
      "text/html": [
       "<div>\n",
       "<style scoped>\n",
       "    .dataframe tbody tr th:only-of-type {\n",
       "        vertical-align: middle;\n",
       "    }\n",
       "\n",
       "    .dataframe tbody tr th {\n",
       "        vertical-align: top;\n",
       "    }\n",
       "\n",
       "    .dataframe thead th {\n",
       "        text-align: right;\n",
       "    }\n",
       "</style>\n",
       "<table border=\"1\" class=\"dataframe\">\n",
       "  <thead>\n",
       "    <tr style=\"text-align: right;\">\n",
       "      <th></th>\n",
       "      <th>rating_id</th>\n",
       "      <th>book_id</th>\n",
       "      <th>username</th>\n",
       "      <th>rating</th>\n",
       "    </tr>\n",
       "  </thead>\n",
       "  <tbody>\n",
       "    <tr>\n",
       "      <td>0</td>\n",
       "      <td>1</td>\n",
       "      <td>1</td>\n",
       "      <td>ryanfranco</td>\n",
       "      <td>4</td>\n",
       "    </tr>\n",
       "    <tr>\n",
       "      <td>1</td>\n",
       "      <td>2</td>\n",
       "      <td>1</td>\n",
       "      <td>grantpatricia</td>\n",
       "      <td>2</td>\n",
       "    </tr>\n",
       "    <tr>\n",
       "      <td>2</td>\n",
       "      <td>3</td>\n",
       "      <td>1</td>\n",
       "      <td>brandtandrea</td>\n",
       "      <td>5</td>\n",
       "    </tr>\n",
       "    <tr>\n",
       "      <td>3</td>\n",
       "      <td>4</td>\n",
       "      <td>2</td>\n",
       "      <td>lorichen</td>\n",
       "      <td>3</td>\n",
       "    </tr>\n",
       "    <tr>\n",
       "      <td>4</td>\n",
       "      <td>5</td>\n",
       "      <td>2</td>\n",
       "      <td>mariokeller</td>\n",
       "      <td>2</td>\n",
       "    </tr>\n",
       "    <tr>\n",
       "      <td>...</td>\n",
       "      <td>...</td>\n",
       "      <td>...</td>\n",
       "      <td>...</td>\n",
       "      <td>...</td>\n",
       "    </tr>\n",
       "    <tr>\n",
       "      <td>6451</td>\n",
       "      <td>6452</td>\n",
       "      <td>1000</td>\n",
       "      <td>carolrodriguez</td>\n",
       "      <td>4</td>\n",
       "    </tr>\n",
       "    <tr>\n",
       "      <td>6452</td>\n",
       "      <td>6453</td>\n",
       "      <td>1000</td>\n",
       "      <td>wendy18</td>\n",
       "      <td>4</td>\n",
       "    </tr>\n",
       "    <tr>\n",
       "      <td>6453</td>\n",
       "      <td>6454</td>\n",
       "      <td>1000</td>\n",
       "      <td>jarvispaul</td>\n",
       "      <td>5</td>\n",
       "    </tr>\n",
       "    <tr>\n",
       "      <td>6454</td>\n",
       "      <td>6455</td>\n",
       "      <td>1000</td>\n",
       "      <td>zross</td>\n",
       "      <td>2</td>\n",
       "    </tr>\n",
       "    <tr>\n",
       "      <td>6455</td>\n",
       "      <td>6456</td>\n",
       "      <td>1000</td>\n",
       "      <td>fharris</td>\n",
       "      <td>5</td>\n",
       "    </tr>\n",
       "  </tbody>\n",
       "</table>\n",
       "<p>6456 rows × 4 columns</p>\n",
       "</div>"
      ],
      "text/plain": [
       "      rating_id  book_id        username  rating\n",
       "0             1        1      ryanfranco       4\n",
       "1             2        1   grantpatricia       2\n",
       "2             3        1    brandtandrea       5\n",
       "3             4        2        lorichen       3\n",
       "4             5        2     mariokeller       2\n",
       "...         ...      ...             ...     ...\n",
       "6451       6452     1000  carolrodriguez       4\n",
       "6452       6453     1000         wendy18       4\n",
       "6453       6454     1000      jarvispaul       5\n",
       "6454       6455     1000           zross       2\n",
       "6455       6456     1000         fharris       5\n",
       "\n",
       "[6456 rows x 4 columns]"
      ]
     },
     "execution_count": 5,
     "metadata": {},
     "output_type": "execute_result"
    }
   ],
   "source": [
    "query = '''\n",
    "            SELECT * FROM ratings\n",
    "        '''\n",
    "ratings = pd.io.sql.read_sql(query, con) \n",
    "ratings"
   ]
  },
  {
   "cell_type": "code",
   "execution_count": 6,
   "metadata": {},
   "outputs": [
    {
     "data": {
      "text/html": [
       "<div>\n",
       "<style scoped>\n",
       "    .dataframe tbody tr th:only-of-type {\n",
       "        vertical-align: middle;\n",
       "    }\n",
       "\n",
       "    .dataframe tbody tr th {\n",
       "        vertical-align: top;\n",
       "    }\n",
       "\n",
       "    .dataframe thead th {\n",
       "        text-align: right;\n",
       "    }\n",
       "</style>\n",
       "<table border=\"1\" class=\"dataframe\">\n",
       "  <thead>\n",
       "    <tr style=\"text-align: right;\">\n",
       "      <th></th>\n",
       "      <th>review_id</th>\n",
       "      <th>book_id</th>\n",
       "      <th>username</th>\n",
       "      <th>text</th>\n",
       "    </tr>\n",
       "  </thead>\n",
       "  <tbody>\n",
       "    <tr>\n",
       "      <td>0</td>\n",
       "      <td>1</td>\n",
       "      <td>1</td>\n",
       "      <td>brandtandrea</td>\n",
       "      <td>Mention society tell send professor analysis. ...</td>\n",
       "    </tr>\n",
       "    <tr>\n",
       "      <td>1</td>\n",
       "      <td>2</td>\n",
       "      <td>1</td>\n",
       "      <td>ryanfranco</td>\n",
       "      <td>Foot glass pretty audience hit themselves. Amo...</td>\n",
       "    </tr>\n",
       "    <tr>\n",
       "      <td>2</td>\n",
       "      <td>3</td>\n",
       "      <td>2</td>\n",
       "      <td>lorichen</td>\n",
       "      <td>Listen treat keep worry. Miss husband tax but ...</td>\n",
       "    </tr>\n",
       "    <tr>\n",
       "      <td>3</td>\n",
       "      <td>4</td>\n",
       "      <td>3</td>\n",
       "      <td>johnsonamanda</td>\n",
       "      <td>Finally month interesting blue could nature cu...</td>\n",
       "    </tr>\n",
       "    <tr>\n",
       "      <td>4</td>\n",
       "      <td>5</td>\n",
       "      <td>3</td>\n",
       "      <td>scotttamara</td>\n",
       "      <td>Nation purpose heavy give wait song will. List...</td>\n",
       "    </tr>\n",
       "    <tr>\n",
       "      <td>...</td>\n",
       "      <td>...</td>\n",
       "      <td>...</td>\n",
       "      <td>...</td>\n",
       "      <td>...</td>\n",
       "    </tr>\n",
       "    <tr>\n",
       "      <td>2788</td>\n",
       "      <td>2789</td>\n",
       "      <td>999</td>\n",
       "      <td>martinadam</td>\n",
       "      <td>Later hospital turn easy community. Fact same ...</td>\n",
       "    </tr>\n",
       "    <tr>\n",
       "      <td>2789</td>\n",
       "      <td>2790</td>\n",
       "      <td>1000</td>\n",
       "      <td>wknight</td>\n",
       "      <td>Change lose answer close pressure. Spend so now.</td>\n",
       "    </tr>\n",
       "    <tr>\n",
       "      <td>2790</td>\n",
       "      <td>2791</td>\n",
       "      <td>1000</td>\n",
       "      <td>carolrodriguez</td>\n",
       "      <td>Authority go who television entire hair guy po...</td>\n",
       "    </tr>\n",
       "    <tr>\n",
       "      <td>2791</td>\n",
       "      <td>2792</td>\n",
       "      <td>1000</td>\n",
       "      <td>wendy18</td>\n",
       "      <td>Or western offer wonder ask. More hear phone f...</td>\n",
       "    </tr>\n",
       "    <tr>\n",
       "      <td>2792</td>\n",
       "      <td>2793</td>\n",
       "      <td>1000</td>\n",
       "      <td>jarvispaul</td>\n",
       "      <td>Republican staff bit eat material measure plan...</td>\n",
       "    </tr>\n",
       "  </tbody>\n",
       "</table>\n",
       "<p>2793 rows × 4 columns</p>\n",
       "</div>"
      ],
      "text/plain": [
       "      review_id  book_id        username  \\\n",
       "0             1        1    brandtandrea   \n",
       "1             2        1      ryanfranco   \n",
       "2             3        2        lorichen   \n",
       "3             4        3   johnsonamanda   \n",
       "4             5        3     scotttamara   \n",
       "...         ...      ...             ...   \n",
       "2788       2789      999      martinadam   \n",
       "2789       2790     1000         wknight   \n",
       "2790       2791     1000  carolrodriguez   \n",
       "2791       2792     1000         wendy18   \n",
       "2792       2793     1000      jarvispaul   \n",
       "\n",
       "                                                   text  \n",
       "0     Mention society tell send professor analysis. ...  \n",
       "1     Foot glass pretty audience hit themselves. Amo...  \n",
       "2     Listen treat keep worry. Miss husband tax but ...  \n",
       "3     Finally month interesting blue could nature cu...  \n",
       "4     Nation purpose heavy give wait song will. List...  \n",
       "...                                                 ...  \n",
       "2788  Later hospital turn easy community. Fact same ...  \n",
       "2789   Change lose answer close pressure. Spend so now.  \n",
       "2790  Authority go who television entire hair guy po...  \n",
       "2791  Or western offer wonder ask. More hear phone f...  \n",
       "2792  Republican staff bit eat material measure plan...  \n",
       "\n",
       "[2793 rows x 4 columns]"
      ]
     },
     "execution_count": 6,
     "metadata": {},
     "output_type": "execute_result"
    }
   ],
   "source": [
    "query = '''\n",
    "            SELECT * FROM reviews\n",
    "        '''\n",
    "reviews = pd.io.sql.read_sql(query, con) \n",
    "reviews"
   ]
  },
  {
   "cell_type": "markdown",
   "metadata": {},
   "source": [
    "## Провести предобработку данных"
   ]
  },
  {
   "cell_type": "code",
   "execution_count": 7,
   "metadata": {},
   "outputs": [
    {
     "data": {
      "text/html": [
       "<div>\n",
       "<style scoped>\n",
       "    .dataframe tbody tr th:only-of-type {\n",
       "        vertical-align: middle;\n",
       "    }\n",
       "\n",
       "    .dataframe tbody tr th {\n",
       "        vertical-align: top;\n",
       "    }\n",
       "\n",
       "    .dataframe thead th {\n",
       "        text-align: right;\n",
       "    }\n",
       "</style>\n",
       "<table border=\"1\" class=\"dataframe\">\n",
       "  <thead>\n",
       "    <tr style=\"text-align: right;\">\n",
       "      <th></th>\n",
       "      <th>book_id</th>\n",
       "      <th>author_id</th>\n",
       "      <th>title</th>\n",
       "      <th>num_pages</th>\n",
       "      <th>publication_date</th>\n",
       "      <th>publisher_id</th>\n",
       "    </tr>\n",
       "  </thead>\n",
       "  <tbody>\n",
       "    <tr>\n",
       "      <td>0</td>\n",
       "      <td>1</td>\n",
       "      <td>546</td>\n",
       "      <td>'Salem's Lot</td>\n",
       "      <td>594</td>\n",
       "      <td>2005-11-01</td>\n",
       "      <td>93</td>\n",
       "    </tr>\n",
       "    <tr>\n",
       "      <td>1</td>\n",
       "      <td>2</td>\n",
       "      <td>465</td>\n",
       "      <td>1 000 Places to See Before You Die</td>\n",
       "      <td>992</td>\n",
       "      <td>2003-05-22</td>\n",
       "      <td>336</td>\n",
       "    </tr>\n",
       "    <tr>\n",
       "      <td>2</td>\n",
       "      <td>3</td>\n",
       "      <td>407</td>\n",
       "      <td>13 Little Blue Envelopes (Little Blue Envelope...</td>\n",
       "      <td>322</td>\n",
       "      <td>2010-12-21</td>\n",
       "      <td>135</td>\n",
       "    </tr>\n",
       "    <tr>\n",
       "      <td>3</td>\n",
       "      <td>4</td>\n",
       "      <td>82</td>\n",
       "      <td>1491: New Revelations of the Americas Before C...</td>\n",
       "      <td>541</td>\n",
       "      <td>2006-10-10</td>\n",
       "      <td>309</td>\n",
       "    </tr>\n",
       "    <tr>\n",
       "      <td>4</td>\n",
       "      <td>5</td>\n",
       "      <td>125</td>\n",
       "      <td>1776</td>\n",
       "      <td>386</td>\n",
       "      <td>2006-07-04</td>\n",
       "      <td>268</td>\n",
       "    </tr>\n",
       "    <tr>\n",
       "      <td>...</td>\n",
       "      <td>...</td>\n",
       "      <td>...</td>\n",
       "      <td>...</td>\n",
       "      <td>...</td>\n",
       "      <td>...</td>\n",
       "      <td>...</td>\n",
       "    </tr>\n",
       "    <tr>\n",
       "      <td>995</td>\n",
       "      <td>996</td>\n",
       "      <td>571</td>\n",
       "      <td>Wyrd Sisters (Discworld  #6; Witches #2)</td>\n",
       "      <td>265</td>\n",
       "      <td>2001-02-06</td>\n",
       "      <td>147</td>\n",
       "    </tr>\n",
       "    <tr>\n",
       "      <td>996</td>\n",
       "      <td>997</td>\n",
       "      <td>454</td>\n",
       "      <td>Xenocide (Ender's Saga  #3)</td>\n",
       "      <td>592</td>\n",
       "      <td>1996-07-15</td>\n",
       "      <td>297</td>\n",
       "    </tr>\n",
       "    <tr>\n",
       "      <td>997</td>\n",
       "      <td>998</td>\n",
       "      <td>201</td>\n",
       "      <td>Year of Wonders</td>\n",
       "      <td>358</td>\n",
       "      <td>2002-04-30</td>\n",
       "      <td>212</td>\n",
       "    </tr>\n",
       "    <tr>\n",
       "      <td>998</td>\n",
       "      <td>999</td>\n",
       "      <td>94</td>\n",
       "      <td>You Suck (A Love Story  #2)</td>\n",
       "      <td>328</td>\n",
       "      <td>2007-01-16</td>\n",
       "      <td>331</td>\n",
       "    </tr>\n",
       "    <tr>\n",
       "      <td>999</td>\n",
       "      <td>1000</td>\n",
       "      <td>509</td>\n",
       "      <td>Zen and the Art of Motorcycle Maintenance: An ...</td>\n",
       "      <td>540</td>\n",
       "      <td>2006-04-25</td>\n",
       "      <td>143</td>\n",
       "    </tr>\n",
       "  </tbody>\n",
       "</table>\n",
       "<p>1000 rows × 6 columns</p>\n",
       "</div>"
      ],
      "text/plain": [
       "     book_id  author_id                                              title  \\\n",
       "0          1        546                                       'Salem's Lot   \n",
       "1          2        465                 1 000 Places to See Before You Die   \n",
       "2          3        407  13 Little Blue Envelopes (Little Blue Envelope...   \n",
       "3          4         82  1491: New Revelations of the Americas Before C...   \n",
       "4          5        125                                               1776   \n",
       "..       ...        ...                                                ...   \n",
       "995      996        571           Wyrd Sisters (Discworld  #6; Witches #2)   \n",
       "996      997        454                        Xenocide (Ender's Saga  #3)   \n",
       "997      998        201                                    Year of Wonders   \n",
       "998      999         94                        You Suck (A Love Story  #2)   \n",
       "999     1000        509  Zen and the Art of Motorcycle Maintenance: An ...   \n",
       "\n",
       "     num_pages publication_date  publisher_id  \n",
       "0          594       2005-11-01            93  \n",
       "1          992       2003-05-22           336  \n",
       "2          322       2010-12-21           135  \n",
       "3          541       2006-10-10           309  \n",
       "4          386       2006-07-04           268  \n",
       "..         ...              ...           ...  \n",
       "995        265       2001-02-06           147  \n",
       "996        592       1996-07-15           297  \n",
       "997        358       2002-04-30           212  \n",
       "998        328       2007-01-16           331  \n",
       "999        540       2006-04-25           143  \n",
       "\n",
       "[1000 rows x 6 columns]"
      ]
     },
     "execution_count": 7,
     "metadata": {},
     "output_type": "execute_result"
    }
   ],
   "source": [
    "books"
   ]
  },
  {
   "cell_type": "code",
   "execution_count": 8,
   "metadata": {
    "scrolled": true
   },
   "outputs": [
    {
     "name": "stdout",
     "output_type": "stream",
     "text": [
      "<class 'pandas.core.frame.DataFrame'>\n",
      "RangeIndex: 1000 entries, 0 to 999\n",
      "Data columns (total 6 columns):\n",
      "book_id             1000 non-null int64\n",
      "author_id           1000 non-null int64\n",
      "title               1000 non-null object\n",
      "num_pages           1000 non-null int64\n",
      "publication_date    1000 non-null object\n",
      "publisher_id        1000 non-null int64\n",
      "dtypes: int64(4), object(2)\n",
      "memory usage: 47.0+ KB\n"
     ]
    }
   ],
   "source": [
    "books.info()"
   ]
  },
  {
   "cell_type": "code",
   "execution_count": 9,
   "metadata": {},
   "outputs": [],
   "source": [
    "books['publication_date'] = pd.to_datetime(books['publication_date'])"
   ]
  },
  {
   "cell_type": "code",
   "execution_count": 10,
   "metadata": {},
   "outputs": [
    {
     "data": {
      "text/html": [
       "<div>\n",
       "<style scoped>\n",
       "    .dataframe tbody tr th:only-of-type {\n",
       "        vertical-align: middle;\n",
       "    }\n",
       "\n",
       "    .dataframe tbody tr th {\n",
       "        vertical-align: top;\n",
       "    }\n",
       "\n",
       "    .dataframe thead th {\n",
       "        text-align: right;\n",
       "    }\n",
       "</style>\n",
       "<table border=\"1\" class=\"dataframe\">\n",
       "  <thead>\n",
       "    <tr style=\"text-align: right;\">\n",
       "      <th></th>\n",
       "      <th>book_id</th>\n",
       "      <th>author_id</th>\n",
       "      <th>num_pages</th>\n",
       "      <th>publisher_id</th>\n",
       "    </tr>\n",
       "  </thead>\n",
       "  <tbody>\n",
       "    <tr>\n",
       "      <td>count</td>\n",
       "      <td>1000.000000</td>\n",
       "      <td>1000.000000</td>\n",
       "      <td>1000.00000</td>\n",
       "      <td>1000.000000</td>\n",
       "    </tr>\n",
       "    <tr>\n",
       "      <td>mean</td>\n",
       "      <td>500.500000</td>\n",
       "      <td>320.417000</td>\n",
       "      <td>389.11100</td>\n",
       "      <td>171.270000</td>\n",
       "    </tr>\n",
       "    <tr>\n",
       "      <td>std</td>\n",
       "      <td>288.819436</td>\n",
       "      <td>181.620172</td>\n",
       "      <td>229.39014</td>\n",
       "      <td>99.082685</td>\n",
       "    </tr>\n",
       "    <tr>\n",
       "      <td>min</td>\n",
       "      <td>1.000000</td>\n",
       "      <td>1.000000</td>\n",
       "      <td>14.00000</td>\n",
       "      <td>1.000000</td>\n",
       "    </tr>\n",
       "    <tr>\n",
       "      <td>25%</td>\n",
       "      <td>250.750000</td>\n",
       "      <td>162.750000</td>\n",
       "      <td>249.00000</td>\n",
       "      <td>83.000000</td>\n",
       "    </tr>\n",
       "    <tr>\n",
       "      <td>50%</td>\n",
       "      <td>500.500000</td>\n",
       "      <td>316.500000</td>\n",
       "      <td>352.00000</td>\n",
       "      <td>177.500000</td>\n",
       "    </tr>\n",
       "    <tr>\n",
       "      <td>75%</td>\n",
       "      <td>750.250000</td>\n",
       "      <td>481.000000</td>\n",
       "      <td>453.00000</td>\n",
       "      <td>258.000000</td>\n",
       "    </tr>\n",
       "    <tr>\n",
       "      <td>max</td>\n",
       "      <td>1000.000000</td>\n",
       "      <td>636.000000</td>\n",
       "      <td>2690.00000</td>\n",
       "      <td>340.000000</td>\n",
       "    </tr>\n",
       "  </tbody>\n",
       "</table>\n",
       "</div>"
      ],
      "text/plain": [
       "           book_id    author_id   num_pages  publisher_id\n",
       "count  1000.000000  1000.000000  1000.00000   1000.000000\n",
       "mean    500.500000   320.417000   389.11100    171.270000\n",
       "std     288.819436   181.620172   229.39014     99.082685\n",
       "min       1.000000     1.000000    14.00000      1.000000\n",
       "25%     250.750000   162.750000   249.00000     83.000000\n",
       "50%     500.500000   316.500000   352.00000    177.500000\n",
       "75%     750.250000   481.000000   453.00000    258.000000\n",
       "max    1000.000000   636.000000  2690.00000    340.000000"
      ]
     },
     "execution_count": 10,
     "metadata": {},
     "output_type": "execute_result"
    }
   ],
   "source": [
    "books.describe()"
   ]
  },
  {
   "cell_type": "code",
   "execution_count": 11,
   "metadata": {},
   "outputs": [
    {
     "data": {
      "text/plain": [
       "0"
      ]
     },
     "execution_count": 11,
     "metadata": {},
     "output_type": "execute_result"
    }
   ],
   "source": [
    "books.duplicated().sum()"
   ]
  },
  {
   "cell_type": "code",
   "execution_count": 12,
   "metadata": {},
   "outputs": [
    {
     "data": {
      "text/html": [
       "<div>\n",
       "<style scoped>\n",
       "    .dataframe tbody tr th:only-of-type {\n",
       "        vertical-align: middle;\n",
       "    }\n",
       "\n",
       "    .dataframe tbody tr th {\n",
       "        vertical-align: top;\n",
       "    }\n",
       "\n",
       "    .dataframe thead th {\n",
       "        text-align: right;\n",
       "    }\n",
       "</style>\n",
       "<table border=\"1\" class=\"dataframe\">\n",
       "  <thead>\n",
       "    <tr style=\"text-align: right;\">\n",
       "      <th></th>\n",
       "      <th>author_id</th>\n",
       "      <th>author</th>\n",
       "    </tr>\n",
       "  </thead>\n",
       "  <tbody>\n",
       "    <tr>\n",
       "      <td>0</td>\n",
       "      <td>1</td>\n",
       "      <td>A.S. Byatt</td>\n",
       "    </tr>\n",
       "    <tr>\n",
       "      <td>1</td>\n",
       "      <td>2</td>\n",
       "      <td>Aesop/Laura Harris/Laura Gibbs</td>\n",
       "    </tr>\n",
       "    <tr>\n",
       "      <td>2</td>\n",
       "      <td>3</td>\n",
       "      <td>Agatha Christie</td>\n",
       "    </tr>\n",
       "    <tr>\n",
       "      <td>3</td>\n",
       "      <td>4</td>\n",
       "      <td>Alan Brennert</td>\n",
       "    </tr>\n",
       "    <tr>\n",
       "      <td>4</td>\n",
       "      <td>5</td>\n",
       "      <td>Alan Moore/David   Lloyd</td>\n",
       "    </tr>\n",
       "    <tr>\n",
       "      <td>...</td>\n",
       "      <td>...</td>\n",
       "      <td>...</td>\n",
       "    </tr>\n",
       "    <tr>\n",
       "      <td>631</td>\n",
       "      <td>632</td>\n",
       "      <td>William Strunk Jr./E.B. White</td>\n",
       "    </tr>\n",
       "    <tr>\n",
       "      <td>632</td>\n",
       "      <td>633</td>\n",
       "      <td>Zadie Smith</td>\n",
       "    </tr>\n",
       "    <tr>\n",
       "      <td>633</td>\n",
       "      <td>634</td>\n",
       "      <td>Zilpha Keatley Snyder</td>\n",
       "    </tr>\n",
       "    <tr>\n",
       "      <td>634</td>\n",
       "      <td>635</td>\n",
       "      <td>Zora Neale Hurston</td>\n",
       "    </tr>\n",
       "    <tr>\n",
       "      <td>635</td>\n",
       "      <td>636</td>\n",
       "      <td>Åsne Seierstad/Ingrid Christopherson</td>\n",
       "    </tr>\n",
       "  </tbody>\n",
       "</table>\n",
       "<p>636 rows × 2 columns</p>\n",
       "</div>"
      ],
      "text/plain": [
       "     author_id                                author\n",
       "0            1                            A.S. Byatt\n",
       "1            2        Aesop/Laura Harris/Laura Gibbs\n",
       "2            3                       Agatha Christie\n",
       "3            4                         Alan Brennert\n",
       "4            5              Alan Moore/David   Lloyd\n",
       "..         ...                                   ...\n",
       "631        632         William Strunk Jr./E.B. White\n",
       "632        633                           Zadie Smith\n",
       "633        634                 Zilpha Keatley Snyder\n",
       "634        635                    Zora Neale Hurston\n",
       "635        636  Åsne Seierstad/Ingrid Christopherson\n",
       "\n",
       "[636 rows x 2 columns]"
      ]
     },
     "execution_count": 12,
     "metadata": {},
     "output_type": "execute_result"
    }
   ],
   "source": [
    "authors"
   ]
  },
  {
   "cell_type": "code",
   "execution_count": 13,
   "metadata": {},
   "outputs": [
    {
     "name": "stdout",
     "output_type": "stream",
     "text": [
      "<class 'pandas.core.frame.DataFrame'>\n",
      "RangeIndex: 636 entries, 0 to 635\n",
      "Data columns (total 2 columns):\n",
      "author_id    636 non-null int64\n",
      "author       636 non-null object\n",
      "dtypes: int64(1), object(1)\n",
      "memory usage: 10.1+ KB\n"
     ]
    }
   ],
   "source": [
    "authors.info()"
   ]
  },
  {
   "cell_type": "code",
   "execution_count": 14,
   "metadata": {},
   "outputs": [
    {
     "data": {
      "text/plain": [
       "0"
      ]
     },
     "execution_count": 14,
     "metadata": {},
     "output_type": "execute_result"
    }
   ],
   "source": [
    "authors.duplicated().sum()"
   ]
  },
  {
   "cell_type": "code",
   "execution_count": 15,
   "metadata": {},
   "outputs": [
    {
     "data": {
      "text/html": [
       "<div>\n",
       "<style scoped>\n",
       "    .dataframe tbody tr th:only-of-type {\n",
       "        vertical-align: middle;\n",
       "    }\n",
       "\n",
       "    .dataframe tbody tr th {\n",
       "        vertical-align: top;\n",
       "    }\n",
       "\n",
       "    .dataframe thead th {\n",
       "        text-align: right;\n",
       "    }\n",
       "</style>\n",
       "<table border=\"1\" class=\"dataframe\">\n",
       "  <thead>\n",
       "    <tr style=\"text-align: right;\">\n",
       "      <th></th>\n",
       "      <th>publisher_id</th>\n",
       "      <th>publisher</th>\n",
       "    </tr>\n",
       "  </thead>\n",
       "  <tbody>\n",
       "    <tr>\n",
       "      <td>0</td>\n",
       "      <td>1</td>\n",
       "      <td>Ace</td>\n",
       "    </tr>\n",
       "    <tr>\n",
       "      <td>1</td>\n",
       "      <td>2</td>\n",
       "      <td>Ace Book</td>\n",
       "    </tr>\n",
       "    <tr>\n",
       "      <td>2</td>\n",
       "      <td>3</td>\n",
       "      <td>Ace Books</td>\n",
       "    </tr>\n",
       "    <tr>\n",
       "      <td>3</td>\n",
       "      <td>4</td>\n",
       "      <td>Ace Hardcover</td>\n",
       "    </tr>\n",
       "    <tr>\n",
       "      <td>4</td>\n",
       "      <td>5</td>\n",
       "      <td>Addison Wesley Publishing Company</td>\n",
       "    </tr>\n",
       "    <tr>\n",
       "      <td>...</td>\n",
       "      <td>...</td>\n",
       "      <td>...</td>\n",
       "    </tr>\n",
       "    <tr>\n",
       "      <td>335</td>\n",
       "      <td>336</td>\n",
       "      <td>Workman Publishing Company</td>\n",
       "    </tr>\n",
       "    <tr>\n",
       "      <td>336</td>\n",
       "      <td>337</td>\n",
       "      <td>Wyatt Book</td>\n",
       "    </tr>\n",
       "    <tr>\n",
       "      <td>337</td>\n",
       "      <td>338</td>\n",
       "      <td>Yale University Press</td>\n",
       "    </tr>\n",
       "    <tr>\n",
       "      <td>338</td>\n",
       "      <td>339</td>\n",
       "      <td>Yearling</td>\n",
       "    </tr>\n",
       "    <tr>\n",
       "      <td>339</td>\n",
       "      <td>340</td>\n",
       "      <td>Yearling Books</td>\n",
       "    </tr>\n",
       "  </tbody>\n",
       "</table>\n",
       "<p>340 rows × 2 columns</p>\n",
       "</div>"
      ],
      "text/plain": [
       "     publisher_id                          publisher\n",
       "0               1                                Ace\n",
       "1               2                           Ace Book\n",
       "2               3                          Ace Books\n",
       "3               4                      Ace Hardcover\n",
       "4               5  Addison Wesley Publishing Company\n",
       "..            ...                                ...\n",
       "335           336         Workman Publishing Company\n",
       "336           337                         Wyatt Book\n",
       "337           338              Yale University Press\n",
       "338           339                           Yearling\n",
       "339           340                     Yearling Books\n",
       "\n",
       "[340 rows x 2 columns]"
      ]
     },
     "execution_count": 15,
     "metadata": {},
     "output_type": "execute_result"
    }
   ],
   "source": [
    "publishers"
   ]
  },
  {
   "cell_type": "code",
   "execution_count": 16,
   "metadata": {},
   "outputs": [
    {
     "name": "stdout",
     "output_type": "stream",
     "text": [
      "<class 'pandas.core.frame.DataFrame'>\n",
      "RangeIndex: 340 entries, 0 to 339\n",
      "Data columns (total 2 columns):\n",
      "publisher_id    340 non-null int64\n",
      "publisher       340 non-null object\n",
      "dtypes: int64(1), object(1)\n",
      "memory usage: 5.4+ KB\n"
     ]
    }
   ],
   "source": [
    "publishers.info()"
   ]
  },
  {
   "cell_type": "code",
   "execution_count": 17,
   "metadata": {},
   "outputs": [
    {
     "data": {
      "text/plain": [
       "0"
      ]
     },
     "execution_count": 17,
     "metadata": {},
     "output_type": "execute_result"
    }
   ],
   "source": [
    "publishers.duplicated().sum()"
   ]
  },
  {
   "cell_type": "code",
   "execution_count": 18,
   "metadata": {},
   "outputs": [
    {
     "data": {
      "text/html": [
       "<div>\n",
       "<style scoped>\n",
       "    .dataframe tbody tr th:only-of-type {\n",
       "        vertical-align: middle;\n",
       "    }\n",
       "\n",
       "    .dataframe tbody tr th {\n",
       "        vertical-align: top;\n",
       "    }\n",
       "\n",
       "    .dataframe thead th {\n",
       "        text-align: right;\n",
       "    }\n",
       "</style>\n",
       "<table border=\"1\" class=\"dataframe\">\n",
       "  <thead>\n",
       "    <tr style=\"text-align: right;\">\n",
       "      <th></th>\n",
       "      <th>rating_id</th>\n",
       "      <th>book_id</th>\n",
       "      <th>username</th>\n",
       "      <th>rating</th>\n",
       "    </tr>\n",
       "  </thead>\n",
       "  <tbody>\n",
       "    <tr>\n",
       "      <td>0</td>\n",
       "      <td>1</td>\n",
       "      <td>1</td>\n",
       "      <td>ryanfranco</td>\n",
       "      <td>4</td>\n",
       "    </tr>\n",
       "    <tr>\n",
       "      <td>1</td>\n",
       "      <td>2</td>\n",
       "      <td>1</td>\n",
       "      <td>grantpatricia</td>\n",
       "      <td>2</td>\n",
       "    </tr>\n",
       "    <tr>\n",
       "      <td>2</td>\n",
       "      <td>3</td>\n",
       "      <td>1</td>\n",
       "      <td>brandtandrea</td>\n",
       "      <td>5</td>\n",
       "    </tr>\n",
       "    <tr>\n",
       "      <td>3</td>\n",
       "      <td>4</td>\n",
       "      <td>2</td>\n",
       "      <td>lorichen</td>\n",
       "      <td>3</td>\n",
       "    </tr>\n",
       "    <tr>\n",
       "      <td>4</td>\n",
       "      <td>5</td>\n",
       "      <td>2</td>\n",
       "      <td>mariokeller</td>\n",
       "      <td>2</td>\n",
       "    </tr>\n",
       "    <tr>\n",
       "      <td>...</td>\n",
       "      <td>...</td>\n",
       "      <td>...</td>\n",
       "      <td>...</td>\n",
       "      <td>...</td>\n",
       "    </tr>\n",
       "    <tr>\n",
       "      <td>6451</td>\n",
       "      <td>6452</td>\n",
       "      <td>1000</td>\n",
       "      <td>carolrodriguez</td>\n",
       "      <td>4</td>\n",
       "    </tr>\n",
       "    <tr>\n",
       "      <td>6452</td>\n",
       "      <td>6453</td>\n",
       "      <td>1000</td>\n",
       "      <td>wendy18</td>\n",
       "      <td>4</td>\n",
       "    </tr>\n",
       "    <tr>\n",
       "      <td>6453</td>\n",
       "      <td>6454</td>\n",
       "      <td>1000</td>\n",
       "      <td>jarvispaul</td>\n",
       "      <td>5</td>\n",
       "    </tr>\n",
       "    <tr>\n",
       "      <td>6454</td>\n",
       "      <td>6455</td>\n",
       "      <td>1000</td>\n",
       "      <td>zross</td>\n",
       "      <td>2</td>\n",
       "    </tr>\n",
       "    <tr>\n",
       "      <td>6455</td>\n",
       "      <td>6456</td>\n",
       "      <td>1000</td>\n",
       "      <td>fharris</td>\n",
       "      <td>5</td>\n",
       "    </tr>\n",
       "  </tbody>\n",
       "</table>\n",
       "<p>6456 rows × 4 columns</p>\n",
       "</div>"
      ],
      "text/plain": [
       "      rating_id  book_id        username  rating\n",
       "0             1        1      ryanfranco       4\n",
       "1             2        1   grantpatricia       2\n",
       "2             3        1    brandtandrea       5\n",
       "3             4        2        lorichen       3\n",
       "4             5        2     mariokeller       2\n",
       "...         ...      ...             ...     ...\n",
       "6451       6452     1000  carolrodriguez       4\n",
       "6452       6453     1000         wendy18       4\n",
       "6453       6454     1000      jarvispaul       5\n",
       "6454       6455     1000           zross       2\n",
       "6455       6456     1000         fharris       5\n",
       "\n",
       "[6456 rows x 4 columns]"
      ]
     },
     "execution_count": 18,
     "metadata": {},
     "output_type": "execute_result"
    }
   ],
   "source": [
    "ratings"
   ]
  },
  {
   "cell_type": "code",
   "execution_count": 19,
   "metadata": {},
   "outputs": [
    {
     "name": "stdout",
     "output_type": "stream",
     "text": [
      "<class 'pandas.core.frame.DataFrame'>\n",
      "RangeIndex: 6456 entries, 0 to 6455\n",
      "Data columns (total 4 columns):\n",
      "rating_id    6456 non-null int64\n",
      "book_id      6456 non-null int64\n",
      "username     6456 non-null object\n",
      "rating       6456 non-null int64\n",
      "dtypes: int64(3), object(1)\n",
      "memory usage: 201.9+ KB\n"
     ]
    }
   ],
   "source": [
    "ratings.info()"
   ]
  },
  {
   "cell_type": "code",
   "execution_count": 20,
   "metadata": {},
   "outputs": [
    {
     "data": {
      "text/plain": [
       "0"
      ]
     },
     "execution_count": 20,
     "metadata": {},
     "output_type": "execute_result"
    }
   ],
   "source": [
    "ratings.duplicated().sum()"
   ]
  },
  {
   "cell_type": "code",
   "execution_count": 21,
   "metadata": {},
   "outputs": [
    {
     "data": {
      "text/html": [
       "<div>\n",
       "<style scoped>\n",
       "    .dataframe tbody tr th:only-of-type {\n",
       "        vertical-align: middle;\n",
       "    }\n",
       "\n",
       "    .dataframe tbody tr th {\n",
       "        vertical-align: top;\n",
       "    }\n",
       "\n",
       "    .dataframe thead th {\n",
       "        text-align: right;\n",
       "    }\n",
       "</style>\n",
       "<table border=\"1\" class=\"dataframe\">\n",
       "  <thead>\n",
       "    <tr style=\"text-align: right;\">\n",
       "      <th></th>\n",
       "      <th>review_id</th>\n",
       "      <th>book_id</th>\n",
       "      <th>username</th>\n",
       "      <th>text</th>\n",
       "    </tr>\n",
       "  </thead>\n",
       "  <tbody>\n",
       "    <tr>\n",
       "      <td>0</td>\n",
       "      <td>1</td>\n",
       "      <td>1</td>\n",
       "      <td>brandtandrea</td>\n",
       "      <td>Mention society tell send professor analysis. ...</td>\n",
       "    </tr>\n",
       "    <tr>\n",
       "      <td>1</td>\n",
       "      <td>2</td>\n",
       "      <td>1</td>\n",
       "      <td>ryanfranco</td>\n",
       "      <td>Foot glass pretty audience hit themselves. Amo...</td>\n",
       "    </tr>\n",
       "    <tr>\n",
       "      <td>2</td>\n",
       "      <td>3</td>\n",
       "      <td>2</td>\n",
       "      <td>lorichen</td>\n",
       "      <td>Listen treat keep worry. Miss husband tax but ...</td>\n",
       "    </tr>\n",
       "    <tr>\n",
       "      <td>3</td>\n",
       "      <td>4</td>\n",
       "      <td>3</td>\n",
       "      <td>johnsonamanda</td>\n",
       "      <td>Finally month interesting blue could nature cu...</td>\n",
       "    </tr>\n",
       "    <tr>\n",
       "      <td>4</td>\n",
       "      <td>5</td>\n",
       "      <td>3</td>\n",
       "      <td>scotttamara</td>\n",
       "      <td>Nation purpose heavy give wait song will. List...</td>\n",
       "    </tr>\n",
       "    <tr>\n",
       "      <td>...</td>\n",
       "      <td>...</td>\n",
       "      <td>...</td>\n",
       "      <td>...</td>\n",
       "      <td>...</td>\n",
       "    </tr>\n",
       "    <tr>\n",
       "      <td>2788</td>\n",
       "      <td>2789</td>\n",
       "      <td>999</td>\n",
       "      <td>martinadam</td>\n",
       "      <td>Later hospital turn easy community. Fact same ...</td>\n",
       "    </tr>\n",
       "    <tr>\n",
       "      <td>2789</td>\n",
       "      <td>2790</td>\n",
       "      <td>1000</td>\n",
       "      <td>wknight</td>\n",
       "      <td>Change lose answer close pressure. Spend so now.</td>\n",
       "    </tr>\n",
       "    <tr>\n",
       "      <td>2790</td>\n",
       "      <td>2791</td>\n",
       "      <td>1000</td>\n",
       "      <td>carolrodriguez</td>\n",
       "      <td>Authority go who television entire hair guy po...</td>\n",
       "    </tr>\n",
       "    <tr>\n",
       "      <td>2791</td>\n",
       "      <td>2792</td>\n",
       "      <td>1000</td>\n",
       "      <td>wendy18</td>\n",
       "      <td>Or western offer wonder ask. More hear phone f...</td>\n",
       "    </tr>\n",
       "    <tr>\n",
       "      <td>2792</td>\n",
       "      <td>2793</td>\n",
       "      <td>1000</td>\n",
       "      <td>jarvispaul</td>\n",
       "      <td>Republican staff bit eat material measure plan...</td>\n",
       "    </tr>\n",
       "  </tbody>\n",
       "</table>\n",
       "<p>2793 rows × 4 columns</p>\n",
       "</div>"
      ],
      "text/plain": [
       "      review_id  book_id        username  \\\n",
       "0             1        1    brandtandrea   \n",
       "1             2        1      ryanfranco   \n",
       "2             3        2        lorichen   \n",
       "3             4        3   johnsonamanda   \n",
       "4             5        3     scotttamara   \n",
       "...         ...      ...             ...   \n",
       "2788       2789      999      martinadam   \n",
       "2789       2790     1000         wknight   \n",
       "2790       2791     1000  carolrodriguez   \n",
       "2791       2792     1000         wendy18   \n",
       "2792       2793     1000      jarvispaul   \n",
       "\n",
       "                                                   text  \n",
       "0     Mention society tell send professor analysis. ...  \n",
       "1     Foot glass pretty audience hit themselves. Amo...  \n",
       "2     Listen treat keep worry. Miss husband tax but ...  \n",
       "3     Finally month interesting blue could nature cu...  \n",
       "4     Nation purpose heavy give wait song will. List...  \n",
       "...                                                 ...  \n",
       "2788  Later hospital turn easy community. Fact same ...  \n",
       "2789   Change lose answer close pressure. Spend so now.  \n",
       "2790  Authority go who television entire hair guy po...  \n",
       "2791  Or western offer wonder ask. More hear phone f...  \n",
       "2792  Republican staff bit eat material measure plan...  \n",
       "\n",
       "[2793 rows x 4 columns]"
      ]
     },
     "execution_count": 21,
     "metadata": {},
     "output_type": "execute_result"
    }
   ],
   "source": [
    "reviews"
   ]
  },
  {
   "cell_type": "code",
   "execution_count": 22,
   "metadata": {},
   "outputs": [
    {
     "name": "stdout",
     "output_type": "stream",
     "text": [
      "<class 'pandas.core.frame.DataFrame'>\n",
      "RangeIndex: 2793 entries, 0 to 2792\n",
      "Data columns (total 4 columns):\n",
      "review_id    2793 non-null int64\n",
      "book_id      2793 non-null int64\n",
      "username     2793 non-null object\n",
      "text         2793 non-null object\n",
      "dtypes: int64(2), object(2)\n",
      "memory usage: 87.4+ KB\n"
     ]
    }
   ],
   "source": [
    "reviews.info()"
   ]
  },
  {
   "cell_type": "code",
   "execution_count": 23,
   "metadata": {},
   "outputs": [
    {
     "data": {
      "text/plain": [
       "0"
      ]
     },
     "execution_count": 23,
     "metadata": {},
     "output_type": "execute_result"
    }
   ],
   "source": [
    "reviews.duplicated().sum()"
   ]
  },
  {
   "cell_type": "markdown",
   "metadata": {},
   "source": [
    "## Посчитать, сколько книг вышло после 1 января 2000 года\n"
   ]
  },
  {
   "cell_type": "code",
   "execution_count": 24,
   "metadata": {},
   "outputs": [
    {
     "data": {
      "text/html": [
       "<div>\n",
       "<style scoped>\n",
       "    .dataframe tbody tr th:only-of-type {\n",
       "        vertical-align: middle;\n",
       "    }\n",
       "\n",
       "    .dataframe tbody tr th {\n",
       "        vertical-align: top;\n",
       "    }\n",
       "\n",
       "    .dataframe thead th {\n",
       "        text-align: right;\n",
       "    }\n",
       "</style>\n",
       "<table border=\"1\" class=\"dataframe\">\n",
       "  <thead>\n",
       "    <tr style=\"text-align: right;\">\n",
       "      <th></th>\n",
       "      <th>count</th>\n",
       "    </tr>\n",
       "  </thead>\n",
       "  <tbody>\n",
       "    <tr>\n",
       "      <td>0</td>\n",
       "      <td>819</td>\n",
       "    </tr>\n",
       "  </tbody>\n",
       "</table>\n",
       "</div>"
      ],
      "text/plain": [
       "   count\n",
       "0    819"
      ]
     },
     "execution_count": 24,
     "metadata": {},
     "output_type": "execute_result"
    }
   ],
   "source": [
    "query = ''' select count(*)\n",
    "from books\n",
    "where publication_date > '2000-01-01'\n",
    "'''\n",
    "\n",
    "pd.read_sql(query, con)"
   ]
  },
  {
   "cell_type": "markdown",
   "metadata": {},
   "source": [
    "*После 1 января 2000 года вышла 819 книг*"
   ]
  },
  {
   "cell_type": "markdown",
   "metadata": {},
   "source": [
    "## Для каждой книги посчитать количество обзоров и среднюю оценку"
   ]
  },
  {
   "cell_type": "code",
   "execution_count": 25,
   "metadata": {},
   "outputs": [
    {
     "data": {
      "text/html": [
       "<div>\n",
       "<style scoped>\n",
       "    .dataframe tbody tr th:only-of-type {\n",
       "        vertical-align: middle;\n",
       "    }\n",
       "\n",
       "    .dataframe tbody tr th {\n",
       "        vertical-align: top;\n",
       "    }\n",
       "\n",
       "    .dataframe thead th {\n",
       "        text-align: right;\n",
       "    }\n",
       "</style>\n",
       "<table border=\"1\" class=\"dataframe\">\n",
       "  <thead>\n",
       "    <tr style=\"text-align: right;\">\n",
       "      <th></th>\n",
       "      <th>book_id</th>\n",
       "      <th>title</th>\n",
       "      <th>rating_avg</th>\n",
       "      <th>review_cnt</th>\n",
       "    </tr>\n",
       "  </thead>\n",
       "  <tbody>\n",
       "    <tr>\n",
       "      <td>0</td>\n",
       "      <td>948</td>\n",
       "      <td>Twilight (Twilight  #1)</td>\n",
       "      <td>3.662500</td>\n",
       "      <td>7</td>\n",
       "    </tr>\n",
       "    <tr>\n",
       "      <td>1</td>\n",
       "      <td>963</td>\n",
       "      <td>Water for Elephants</td>\n",
       "      <td>3.977273</td>\n",
       "      <td>6</td>\n",
       "    </tr>\n",
       "    <tr>\n",
       "      <td>2</td>\n",
       "      <td>734</td>\n",
       "      <td>The Glass Castle</td>\n",
       "      <td>4.206897</td>\n",
       "      <td>6</td>\n",
       "    </tr>\n",
       "    <tr>\n",
       "      <td>3</td>\n",
       "      <td>302</td>\n",
       "      <td>Harry Potter and the Prisoner of Azkaban (Harr...</td>\n",
       "      <td>4.414634</td>\n",
       "      <td>6</td>\n",
       "    </tr>\n",
       "    <tr>\n",
       "      <td>4</td>\n",
       "      <td>695</td>\n",
       "      <td>The Curious Incident of the Dog in the Night-Time</td>\n",
       "      <td>4.081081</td>\n",
       "      <td>6</td>\n",
       "    </tr>\n",
       "    <tr>\n",
       "      <td>...</td>\n",
       "      <td>...</td>\n",
       "      <td>...</td>\n",
       "      <td>...</td>\n",
       "      <td>...</td>\n",
       "    </tr>\n",
       "    <tr>\n",
       "      <td>995</td>\n",
       "      <td>83</td>\n",
       "      <td>Anne Rice's The Vampire Lestat: A Graphic Novel</td>\n",
       "      <td>3.666667</td>\n",
       "      <td>0</td>\n",
       "    </tr>\n",
       "    <tr>\n",
       "      <td>996</td>\n",
       "      <td>808</td>\n",
       "      <td>The Natural Way to Draw</td>\n",
       "      <td>3.000000</td>\n",
       "      <td>0</td>\n",
       "    </tr>\n",
       "    <tr>\n",
       "      <td>997</td>\n",
       "      <td>672</td>\n",
       "      <td>The Cat in the Hat and Other Dr. Seuss Favorites</td>\n",
       "      <td>5.000000</td>\n",
       "      <td>0</td>\n",
       "    </tr>\n",
       "    <tr>\n",
       "      <td>998</td>\n",
       "      <td>221</td>\n",
       "      <td>Essential Tales and Poems</td>\n",
       "      <td>4.000000</td>\n",
       "      <td>0</td>\n",
       "    </tr>\n",
       "    <tr>\n",
       "      <td>999</td>\n",
       "      <td>191</td>\n",
       "      <td>Disney's Beauty and the Beast (A Little Golden...</td>\n",
       "      <td>4.000000</td>\n",
       "      <td>0</td>\n",
       "    </tr>\n",
       "  </tbody>\n",
       "</table>\n",
       "<p>1000 rows × 4 columns</p>\n",
       "</div>"
      ],
      "text/plain": [
       "     book_id                                              title  rating_avg  \\\n",
       "0        948                            Twilight (Twilight  #1)    3.662500   \n",
       "1        963                                Water for Elephants    3.977273   \n",
       "2        734                                   The Glass Castle    4.206897   \n",
       "3        302  Harry Potter and the Prisoner of Azkaban (Harr...    4.414634   \n",
       "4        695  The Curious Incident of the Dog in the Night-Time    4.081081   \n",
       "..       ...                                                ...         ...   \n",
       "995       83    Anne Rice's The Vampire Lestat: A Graphic Novel    3.666667   \n",
       "996      808                            The Natural Way to Draw    3.000000   \n",
       "997      672   The Cat in the Hat and Other Dr. Seuss Favorites    5.000000   \n",
       "998      221                          Essential Tales and Poems    4.000000   \n",
       "999      191  Disney's Beauty and the Beast (A Little Golden...    4.000000   \n",
       "\n",
       "     review_cnt  \n",
       "0             7  \n",
       "1             6  \n",
       "2             6  \n",
       "3             6  \n",
       "4             6  \n",
       "..          ...  \n",
       "995           0  \n",
       "996           0  \n",
       "997           0  \n",
       "998           0  \n",
       "999           0  \n",
       "\n",
       "[1000 rows x 4 columns]"
      ]
     },
     "execution_count": 25,
     "metadata": {},
     "output_type": "execute_result"
    }
   ],
   "source": [
    "query = '''select \n",
    "books.book_id as book_id,\n",
    "books.title as title,\n",
    "avg(rating) as rating_avg,\n",
    "count(distinct review_id) as review_cnt\n",
    "from books\n",
    "    left join ratings on ratings.book_id = books.book_id\n",
    "    left join reviews on reviews.book_id = books.book_id\n",
    "group by\n",
    "    books.book_id,\n",
    "    books.title\n",
    "order by\n",
    "    review_cnt desc\n",
    "'''\n",
    "\n",
    "pd.read_sql(query, con)"
   ]
  },
  {
   "cell_type": "markdown",
   "metadata": {},
   "source": [
    "*Количество обзоров разниться от 0 до 7. Самое большое количество имеет книга Стефани Майер \"Сумерки\". Средний рейтинг данной книги 3.6. Рейтинг в приложении имеет пятибальную систему*"
   ]
  },
  {
   "cell_type": "markdown",
   "metadata": {},
   "source": [
    "## Определить издательство, которое выпустило наибольшее число книг толще 50 страниц — так можно исключить из анализа брошюры"
   ]
  },
  {
   "cell_type": "code",
   "execution_count": 26,
   "metadata": {},
   "outputs": [
    {
     "data": {
      "text/html": [
       "<div>\n",
       "<style scoped>\n",
       "    .dataframe tbody tr th:only-of-type {\n",
       "        vertical-align: middle;\n",
       "    }\n",
       "\n",
       "    .dataframe tbody tr th {\n",
       "        vertical-align: top;\n",
       "    }\n",
       "\n",
       "    .dataframe thead th {\n",
       "        text-align: right;\n",
       "    }\n",
       "</style>\n",
       "<table border=\"1\" class=\"dataframe\">\n",
       "  <thead>\n",
       "    <tr style=\"text-align: right;\">\n",
       "      <th></th>\n",
       "      <th>title_cnt</th>\n",
       "      <th>publisher</th>\n",
       "    </tr>\n",
       "  </thead>\n",
       "  <tbody>\n",
       "    <tr>\n",
       "      <td>0</td>\n",
       "      <td>42</td>\n",
       "      <td>Penguin Books</td>\n",
       "    </tr>\n",
       "    <tr>\n",
       "      <td>1</td>\n",
       "      <td>31</td>\n",
       "      <td>Vintage</td>\n",
       "    </tr>\n",
       "    <tr>\n",
       "      <td>2</td>\n",
       "      <td>25</td>\n",
       "      <td>Grand Central Publishing</td>\n",
       "    </tr>\n",
       "    <tr>\n",
       "      <td>3</td>\n",
       "      <td>24</td>\n",
       "      <td>Penguin Classics</td>\n",
       "    </tr>\n",
       "    <tr>\n",
       "      <td>4</td>\n",
       "      <td>19</td>\n",
       "      <td>Ballantine Books</td>\n",
       "    </tr>\n",
       "    <tr>\n",
       "      <td>...</td>\n",
       "      <td>...</td>\n",
       "      <td>...</td>\n",
       "    </tr>\n",
       "    <tr>\n",
       "      <td>329</td>\n",
       "      <td>1</td>\n",
       "      <td>Turtleback</td>\n",
       "    </tr>\n",
       "    <tr>\n",
       "      <td>330</td>\n",
       "      <td>1</td>\n",
       "      <td>Atheneum Books for Young Readers: Richard Jack...</td>\n",
       "    </tr>\n",
       "    <tr>\n",
       "      <td>331</td>\n",
       "      <td>1</td>\n",
       "      <td>Penguin Signet</td>\n",
       "    </tr>\n",
       "    <tr>\n",
       "      <td>332</td>\n",
       "      <td>1</td>\n",
       "      <td>Victor Gollancz</td>\n",
       "    </tr>\n",
       "    <tr>\n",
       "      <td>333</td>\n",
       "      <td>1</td>\n",
       "      <td>Harvard Business Review Press</td>\n",
       "    </tr>\n",
       "  </tbody>\n",
       "</table>\n",
       "<p>334 rows × 2 columns</p>\n",
       "</div>"
      ],
      "text/plain": [
       "     title_cnt                                          publisher\n",
       "0           42                                      Penguin Books\n",
       "1           31                                            Vintage\n",
       "2           25                           Grand Central Publishing\n",
       "3           24                                   Penguin Classics\n",
       "4           19                                   Ballantine Books\n",
       "..         ...                                                ...\n",
       "329          1                                         Turtleback\n",
       "330          1  Atheneum Books for Young Readers: Richard Jack...\n",
       "331          1                                     Penguin Signet\n",
       "332          1                                    Victor Gollancz\n",
       "333          1                      Harvard Business Review Press\n",
       "\n",
       "[334 rows x 2 columns]"
      ]
     },
     "execution_count": 26,
     "metadata": {},
     "output_type": "execute_result"
    }
   ],
   "source": [
    "query = ''' select count(title) as title_cnt,\n",
    "publisher\n",
    "from publishers\n",
    "    inner join books on books.publisher_id = publishers.publisher_id\n",
    "where num_pages > 50\n",
    "group by publisher\n",
    "order by title_cnt desc\n",
    "'''\n",
    "\n",
    "pd.read_sql(query, con)"
   ]
  },
  {
   "cell_type": "markdown",
   "metadata": {},
   "source": [
    "*Издательство Penguin Books выпустила наибольшее количество книг с суммой страниц больше 50*"
   ]
  },
  {
   "cell_type": "markdown",
   "metadata": {},
   "source": [
    "## Определить автора с самой высокой средней оценкой книг — учитывать только книги с 50 и более оценками"
   ]
  },
  {
   "cell_type": "code",
   "execution_count": 27,
   "metadata": {},
   "outputs": [
    {
     "data": {
      "text/html": [
       "<div>\n",
       "<style scoped>\n",
       "    .dataframe tbody tr th:only-of-type {\n",
       "        vertical-align: middle;\n",
       "    }\n",
       "\n",
       "    .dataframe tbody tr th {\n",
       "        vertical-align: top;\n",
       "    }\n",
       "\n",
       "    .dataframe thead th {\n",
       "        text-align: right;\n",
       "    }\n",
       "</style>\n",
       "<table border=\"1\" class=\"dataframe\">\n",
       "  <thead>\n",
       "    <tr style=\"text-align: right;\">\n",
       "      <th></th>\n",
       "      <th>author</th>\n",
       "      <th>rating_avg</th>\n",
       "      <th>rating_cnt</th>\n",
       "    </tr>\n",
       "  </thead>\n",
       "  <tbody>\n",
       "    <tr>\n",
       "      <td>0</td>\n",
       "      <td>J.K. Rowling/Mary GrandPré</td>\n",
       "      <td>4.283844</td>\n",
       "      <td>4</td>\n",
       "    </tr>\n",
       "    <tr>\n",
       "      <td>1</td>\n",
       "      <td>Markus Zusak/Cao Xuân Việt Khương</td>\n",
       "      <td>4.264151</td>\n",
       "      <td>1</td>\n",
       "    </tr>\n",
       "    <tr>\n",
       "      <td>2</td>\n",
       "      <td>J.R.R. Tolkien</td>\n",
       "      <td>4.258446</td>\n",
       "      <td>2</td>\n",
       "    </tr>\n",
       "    <tr>\n",
       "      <td>3</td>\n",
       "      <td>Louisa May Alcott</td>\n",
       "      <td>4.192308</td>\n",
       "      <td>1</td>\n",
       "    </tr>\n",
       "    <tr>\n",
       "      <td>4</td>\n",
       "      <td>Rick Riordan</td>\n",
       "      <td>4.080645</td>\n",
       "      <td>1</td>\n",
       "    </tr>\n",
       "    <tr>\n",
       "      <td>5</td>\n",
       "      <td>William Golding</td>\n",
       "      <td>3.901408</td>\n",
       "      <td>1</td>\n",
       "    </tr>\n",
       "    <tr>\n",
       "      <td>6</td>\n",
       "      <td>J.D. Salinger</td>\n",
       "      <td>3.825581</td>\n",
       "      <td>1</td>\n",
       "    </tr>\n",
       "    <tr>\n",
       "      <td>7</td>\n",
       "      <td>Paulo Coelho/Alan R. Clarke/Özdemir İnce</td>\n",
       "      <td>3.789474</td>\n",
       "      <td>1</td>\n",
       "    </tr>\n",
       "    <tr>\n",
       "      <td>8</td>\n",
       "      <td>William Shakespeare/Paul Werstine/Barbara A. M...</td>\n",
       "      <td>3.787879</td>\n",
       "      <td>1</td>\n",
       "    </tr>\n",
       "    <tr>\n",
       "      <td>9</td>\n",
       "      <td>Dan Brown</td>\n",
       "      <td>3.754540</td>\n",
       "      <td>2</td>\n",
       "    </tr>\n",
       "    <tr>\n",
       "      <td>10</td>\n",
       "      <td>Lois Lowry</td>\n",
       "      <td>3.750000</td>\n",
       "      <td>1</td>\n",
       "    </tr>\n",
       "    <tr>\n",
       "      <td>11</td>\n",
       "      <td>George Orwell/Boris Grabnar/Peter Škerl</td>\n",
       "      <td>3.729730</td>\n",
       "      <td>1</td>\n",
       "    </tr>\n",
       "    <tr>\n",
       "      <td>12</td>\n",
       "      <td>Stephenie Meyer</td>\n",
       "      <td>3.662500</td>\n",
       "      <td>1</td>\n",
       "    </tr>\n",
       "    <tr>\n",
       "      <td>13</td>\n",
       "      <td>John Steinbeck</td>\n",
       "      <td>3.622951</td>\n",
       "      <td>1</td>\n",
       "    </tr>\n",
       "  </tbody>\n",
       "</table>\n",
       "</div>"
      ],
      "text/plain": [
       "                                               author  rating_avg  rating_cnt\n",
       "0                          J.K. Rowling/Mary GrandPré    4.283844           4\n",
       "1                   Markus Zusak/Cao Xuân Việt Khương    4.264151           1\n",
       "2                                      J.R.R. Tolkien    4.258446           2\n",
       "3                                   Louisa May Alcott    4.192308           1\n",
       "4                                        Rick Riordan    4.080645           1\n",
       "5                                     William Golding    3.901408           1\n",
       "6                                       J.D. Salinger    3.825581           1\n",
       "7            Paulo Coelho/Alan R. Clarke/Özdemir İnce    3.789474           1\n",
       "8   William Shakespeare/Paul Werstine/Barbara A. M...    3.787879           1\n",
       "9                                           Dan Brown    3.754540           2\n",
       "10                                         Lois Lowry    3.750000           1\n",
       "11            George Orwell/Boris Grabnar/Peter Škerl    3.729730           1\n",
       "12                                    Stephenie Meyer    3.662500           1\n",
       "13                                     John Steinbeck    3.622951           1"
      ]
     },
     "execution_count": 27,
     "metadata": {},
     "output_type": "execute_result"
    }
   ],
   "source": [
    "query = ''' select \n",
    "authors.author as author,\n",
    "avg(rating.rating_avg) as rating_avg,\n",
    "count(rating.rating_cnt) as rating_cnt\n",
    "from books\n",
    "inner join(\n",
    "            select\n",
    "                book_id as book_id,\n",
    "                count( distinct ratings.rating_id) as rating_cnt,\n",
    "                avg(rating) as rating_avg\n",
    "            from ratings\n",
    "            group by book_id\n",
    "            having\n",
    "                count(ratings.rating_id) >= 50) as rating on rating.book_id = books.book_id\n",
    "inner join authors on authors.author_id = books.author_id\n",
    "group by author\n",
    "order by rating_avg desc,\n",
    "rating_cnt\n",
    "\n",
    "'''\n",
    "\n",
    "pd.read_sql(query, con)"
   ]
  },
  {
   "cell_type": "markdown",
   "metadata": {},
   "source": [
    "*Учитывая только книги с 50 и более оценками, автором с самой высокой средней оценкой книг является Джоан Роулинг*"
   ]
  },
  {
   "cell_type": "markdown",
   "metadata": {},
   "source": [
    "## Посчитать среднее количество обзоров от пользователей, которые поставили больше 50 оценок."
   ]
  },
  {
   "cell_type": "code",
   "execution_count": 28,
   "metadata": {},
   "outputs": [
    {
     "data": {
      "text/html": [
       "<div>\n",
       "<style scoped>\n",
       "    .dataframe tbody tr th:only-of-type {\n",
       "        vertical-align: middle;\n",
       "    }\n",
       "\n",
       "    .dataframe tbody tr th {\n",
       "        vertical-align: top;\n",
       "    }\n",
       "\n",
       "    .dataframe thead th {\n",
       "        text-align: right;\n",
       "    }\n",
       "</style>\n",
       "<table border=\"1\" class=\"dataframe\">\n",
       "  <thead>\n",
       "    <tr style=\"text-align: right;\">\n",
       "      <th></th>\n",
       "      <th>review_cnt_avg</th>\n",
       "    </tr>\n",
       "  </thead>\n",
       "  <tbody>\n",
       "    <tr>\n",
       "      <td>0</td>\n",
       "      <td>24.333333</td>\n",
       "    </tr>\n",
       "  </tbody>\n",
       "</table>\n",
       "</div>"
      ],
      "text/plain": [
       "   review_cnt_avg\n",
       "0       24.333333"
      ]
     },
     "execution_count": 28,
     "metadata": {},
     "output_type": "execute_result"
    }
   ],
   "source": [
    "query ='''select\n",
    "avg(reviwers.review_cnt) as review_cnt_avg\n",
    "from\n",
    "    (select\n",
    "        count(text) as review_cnt\n",
    "    from reviews\n",
    "    where username in\n",
    "        (select username\n",
    "        from ratings\n",
    "        group by\n",
    "            username\n",
    "        having\n",
    "            count(ratings) > 50)\n",
    "    group by \n",
    "            username\n",
    "    ) as reviwers\n",
    "'''\n",
    "\n",
    "pd.read_sql(query, con)"
   ]
  },
  {
   "cell_type": "markdown",
   "metadata": {},
   "source": [
    "*Среднее количество обзоров от пользователей, которые поставили больше 50 оценок, составляет около 24 штук*"
   ]
  },
  {
   "cell_type": "markdown",
   "metadata": {},
   "source": [
    "*По итогу работы выяснилось, что 819 книг было выпущенно с начала 21 века. Количество обзоров разниться от 0 до 7. Самое большое количество имеет книга Стефани Майер \"Сумерки\". Средний рейтинг данной книги 3.6. Рейтинг в приложении имеет пятибальную систему. Издательство Penguin Books выпустила наибольшее количество книг с суммой страниц больше 50, а автором с самой высокой средней оценкой книг является Джоан Роулинг. Пользователи в сервисе довольно активны - среднее количество обзоров от пользователей, которые поставили больше 50 оценок, составляет 24.*"
   ]
  }
 ],
 "metadata": {
  "ExecuteTimeLog": [
   {
    "duration": 736,
    "start_time": "2021-10-26T10:54:36.795Z"
   },
   {
    "duration": 355,
    "start_time": "2021-10-26T10:54:43.270Z"
   },
   {
    "duration": 90,
    "start_time": "2021-10-26T10:55:10.301Z"
   },
   {
    "duration": 78,
    "start_time": "2021-10-26T10:55:28.672Z"
   },
   {
    "duration": 136,
    "start_time": "2021-10-26T10:55:44.909Z"
   },
   {
    "duration": 129,
    "start_time": "2021-10-26T10:56:00.654Z"
   },
   {
    "duration": 15,
    "start_time": "2021-10-26T10:56:31.513Z"
   },
   {
    "duration": 7,
    "start_time": "2021-10-26T10:56:39.464Z"
   },
   {
    "duration": 5,
    "start_time": "2021-10-26T10:56:47.339Z"
   },
   {
    "duration": 20,
    "start_time": "2021-10-26T10:56:58.696Z"
   },
   {
    "duration": 8,
    "start_time": "2021-10-26T10:57:10.236Z"
   },
   {
    "duration": 9,
    "start_time": "2021-10-26T10:57:16.723Z"
   },
   {
    "duration": 6,
    "start_time": "2021-10-26T10:57:30.611Z"
   },
   {
    "duration": 6,
    "start_time": "2021-10-26T10:57:40.848Z"
   },
   {
    "duration": 10,
    "start_time": "2021-10-26T10:57:47.317Z"
   },
   {
    "duration": 6,
    "start_time": "2021-10-26T10:57:55.444Z"
   },
   {
    "duration": 5,
    "start_time": "2021-10-26T10:58:04.822Z"
   },
   {
    "duration": 13,
    "start_time": "2021-10-26T10:58:11.309Z"
   },
   {
    "duration": 7,
    "start_time": "2021-10-26T10:58:20.625Z"
   },
   {
    "duration": 7,
    "start_time": "2021-10-26T10:58:28.695Z"
   },
   {
    "duration": 10,
    "start_time": "2021-10-26T10:58:37.969Z"
   },
   {
    "duration": 6,
    "start_time": "2021-10-26T10:58:48.820Z"
   },
   {
    "duration": 7,
    "start_time": "2021-10-26T10:58:56.607Z"
   },
   {
    "duration": 11,
    "start_time": "2021-10-26T10:59:34.932Z"
   },
   {
    "duration": 23,
    "start_time": "2021-10-26T11:00:38.299Z"
   },
   {
    "duration": 28,
    "start_time": "2021-10-26T11:01:05.738Z"
   },
   {
    "duration": 21,
    "start_time": "2021-10-26T11:01:49.190Z"
   },
   {
    "duration": 11,
    "start_time": "2021-10-26T11:02:06.131Z"
   },
   {
    "duration": 26,
    "start_time": "2021-10-26T11:05:12.529Z"
   },
   {
    "duration": 10,
    "start_time": "2021-10-26T11:09:43.720Z"
   },
   {
    "duration": 8,
    "start_time": "2021-10-26T11:09:58.261Z"
   },
   {
    "duration": 12,
    "start_time": "2021-10-26T11:11:09.164Z"
   },
   {
    "duration": 8,
    "start_time": "2021-10-26T11:11:34.881Z"
   },
   {
    "duration": 7,
    "start_time": "2021-10-26T11:14:06.006Z"
   },
   {
    "duration": 8,
    "start_time": "2021-10-26T11:14:26.132Z"
   },
   {
    "duration": 9,
    "start_time": "2021-10-26T11:14:45.958Z"
   },
   {
    "duration": 8,
    "start_time": "2021-10-26T11:14:51.511Z"
   },
   {
    "duration": 8,
    "start_time": "2021-10-26T11:14:56.036Z"
   },
   {
    "duration": 8,
    "start_time": "2021-10-26T11:18:21.550Z"
   },
   {
    "duration": 23,
    "start_time": "2021-10-26T11:24:21.823Z"
   },
   {
    "duration": 19,
    "start_time": "2021-10-26T11:24:45.891Z"
   },
   {
    "duration": 29,
    "start_time": "2021-10-26T11:24:55.070Z"
   },
   {
    "duration": 36,
    "start_time": "2021-10-26T11:27:08.438Z"
   },
   {
    "duration": 27,
    "start_time": "2021-10-26T11:28:21.728Z"
   },
   {
    "duration": 29,
    "start_time": "2021-10-26T11:29:05.592Z"
   },
   {
    "duration": 351,
    "start_time": "2021-10-26T11:29:38.021Z"
   },
   {
    "duration": 278,
    "start_time": "2021-10-26T11:30:00.890Z"
   },
   {
    "duration": 254,
    "start_time": "2021-10-26T11:30:42.209Z"
   },
   {
    "duration": 31,
    "start_time": "2021-10-26T11:30:49.301Z"
   },
   {
    "duration": 33,
    "start_time": "2021-10-26T11:31:00.002Z"
   },
   {
    "duration": 29,
    "start_time": "2021-10-26T11:31:24.562Z"
   },
   {
    "duration": 26,
    "start_time": "2021-10-26T11:31:36.065Z"
   },
   {
    "duration": 37,
    "start_time": "2021-10-26T11:31:41.553Z"
   },
   {
    "duration": 10,
    "start_time": "2021-10-26T11:32:06.140Z"
   },
   {
    "duration": 9,
    "start_time": "2021-10-26T11:32:55.872Z"
   },
   {
    "duration": 194,
    "start_time": "2021-10-26T11:34:31.694Z"
   },
   {
    "duration": 306,
    "start_time": "2021-10-26T11:35:13.615Z"
   },
   {
    "duration": 1018,
    "start_time": "2021-10-26T11:36:04.046Z"
   },
   {
    "duration": 28,
    "start_time": "2021-10-26T11:37:23.690Z"
   },
   {
    "duration": 12,
    "start_time": "2021-10-26T11:58:55.854Z"
   },
   {
    "duration": 12,
    "start_time": "2021-10-26T11:59:01.500Z"
   },
   {
    "duration": 11,
    "start_time": "2021-10-26T11:59:43.024Z"
   },
   {
    "duration": 25,
    "start_time": "2021-10-26T11:59:52.881Z"
   },
   {
    "duration": 29,
    "start_time": "2021-10-26T12:00:46.149Z"
   },
   {
    "duration": 23,
    "start_time": "2021-10-26T12:01:05.719Z"
   },
   {
    "duration": 26,
    "start_time": "2021-10-26T12:01:36.695Z"
   },
   {
    "duration": 24,
    "start_time": "2021-10-26T12:01:41.141Z"
   },
   {
    "duration": 12,
    "start_time": "2021-10-26T12:04:06.492Z"
   },
   {
    "duration": 8,
    "start_time": "2021-10-26T12:04:27.891Z"
   },
   {
    "duration": 29,
    "start_time": "2021-10-26T12:08:13.603Z"
   },
   {
    "duration": 19,
    "start_time": "2021-10-26T12:15:56.813Z"
   },
   {
    "duration": 38,
    "start_time": "2021-10-26T12:17:21.187Z"
   },
   {
    "duration": 282,
    "start_time": "2021-10-26T12:18:06.137Z"
   },
   {
    "duration": 306,
    "start_time": "2021-10-26T12:18:18.398Z"
   },
   {
    "duration": 41,
    "start_time": "2021-10-26T12:18:22.714Z"
   },
   {
    "duration": 32,
    "start_time": "2021-10-26T12:19:10.334Z"
   },
   {
    "duration": 77,
    "start_time": "2021-10-26T12:40:06.064Z"
   },
   {
    "duration": 32,
    "start_time": "2021-10-26T12:40:10.308Z"
   },
   {
    "duration": 974,
    "start_time": "2021-10-26T18:13:03.839Z"
   },
   {
    "duration": 267,
    "start_time": "2021-10-26T18:13:04.815Z"
   },
   {
    "duration": 58,
    "start_time": "2021-10-26T18:13:05.086Z"
   },
   {
    "duration": 58,
    "start_time": "2021-10-26T18:13:05.147Z"
   },
   {
    "duration": 89,
    "start_time": "2021-10-26T18:13:05.208Z"
   },
   {
    "duration": 76,
    "start_time": "2021-10-26T18:13:05.299Z"
   },
   {
    "duration": 21,
    "start_time": "2021-10-26T18:13:05.378Z"
   },
   {
    "duration": 9,
    "start_time": "2021-10-26T18:13:05.401Z"
   },
   {
    "duration": 8,
    "start_time": "2021-10-26T18:13:05.414Z"
   },
   {
    "duration": 60,
    "start_time": "2021-10-26T18:13:05.424Z"
   },
   {
    "duration": 9,
    "start_time": "2021-10-26T18:13:05.487Z"
   },
   {
    "duration": 17,
    "start_time": "2021-10-26T18:13:05.499Z"
   },
   {
    "duration": 9,
    "start_time": "2021-10-26T18:13:05.518Z"
   },
   {
    "duration": 8,
    "start_time": "2021-10-26T18:13:05.529Z"
   },
   {
    "duration": 49,
    "start_time": "2021-10-26T18:13:05.539Z"
   },
   {
    "duration": 14,
    "start_time": "2021-10-26T18:13:05.590Z"
   },
   {
    "duration": 14,
    "start_time": "2021-10-26T18:13:05.606Z"
   },
   {
    "duration": 19,
    "start_time": "2021-10-26T18:13:05.622Z"
   },
   {
    "duration": 8,
    "start_time": "2021-10-26T18:13:05.643Z"
   },
   {
    "duration": 8,
    "start_time": "2021-10-26T18:13:05.682Z"
   },
   {
    "duration": 14,
    "start_time": "2021-10-26T18:13:05.693Z"
   },
   {
    "duration": 15,
    "start_time": "2021-10-26T18:13:05.710Z"
   },
   {
    "duration": 8,
    "start_time": "2021-10-26T18:13:05.727Z"
   },
   {
    "duration": 57,
    "start_time": "2021-10-26T18:13:05.737Z"
   },
   {
    "duration": 30,
    "start_time": "2021-10-26T18:13:05.796Z"
   },
   {
    "duration": 34,
    "start_time": "2021-10-26T18:13:05.828Z"
   },
   {
    "duration": 27,
    "start_time": "2021-10-26T18:13:05.885Z"
   },
   {
    "duration": 14,
    "start_time": "2021-10-26T18:13:05.915Z"
   },
   {
    "duration": 68,
    "start_time": "2021-10-26T18:13:05.932Z"
   },
   {
    "duration": 13,
    "start_time": "2021-10-26T18:13:06.002Z"
   },
   {
    "duration": 64,
    "start_time": "2021-10-26T18:13:06.018Z"
   },
   {
    "duration": 31,
    "start_time": "2021-10-26T18:13:06.085Z"
   },
   {
    "duration": 64,
    "start_time": "2021-10-26T18:13:06.119Z"
   },
   {
    "duration": 335,
    "start_time": "2021-10-26T21:17:37.669Z"
   },
   {
    "duration": 975,
    "start_time": "2021-10-26T21:18:04.078Z"
   },
   {
    "duration": 344,
    "start_time": "2021-10-26T21:18:05.055Z"
   },
   {
    "duration": 78,
    "start_time": "2021-10-26T21:18:05.402Z"
   },
   {
    "duration": 82,
    "start_time": "2021-10-26T21:18:05.482Z"
   },
   {
    "duration": 111,
    "start_time": "2021-10-26T21:18:05.566Z"
   },
   {
    "duration": 94,
    "start_time": "2021-10-26T21:18:05.679Z"
   },
   {
    "duration": 14,
    "start_time": "2021-10-26T21:18:05.774Z"
   },
   {
    "duration": 55,
    "start_time": "2021-10-26T21:18:05.790Z"
   },
   {
    "duration": 13,
    "start_time": "2021-10-26T21:18:05.848Z"
   },
   {
    "duration": 27,
    "start_time": "2021-10-26T21:18:05.863Z"
   },
   {
    "duration": 7,
    "start_time": "2021-10-26T21:18:05.892Z"
   },
   {
    "duration": 27,
    "start_time": "2021-10-26T21:18:05.901Z"
   },
   {
    "duration": 23,
    "start_time": "2021-10-26T21:18:05.930Z"
   },
   {
    "duration": 27,
    "start_time": "2021-10-26T21:18:05.955Z"
   },
   {
    "duration": 21,
    "start_time": "2021-10-26T21:18:05.983Z"
   },
   {
    "duration": 19,
    "start_time": "2021-10-26T21:18:06.006Z"
   },
   {
    "duration": 21,
    "start_time": "2021-10-26T21:18:06.027Z"
   },
   {
    "duration": 21,
    "start_time": "2021-10-26T21:18:06.050Z"
   },
   {
    "duration": 9,
    "start_time": "2021-10-26T21:18:06.072Z"
   },
   {
    "duration": 17,
    "start_time": "2021-10-26T21:18:06.083Z"
   },
   {
    "duration": 28,
    "start_time": "2021-10-26T21:18:06.102Z"
   },
   {
    "duration": 23,
    "start_time": "2021-10-26T21:18:06.132Z"
   },
   {
    "duration": 20,
    "start_time": "2021-10-26T21:18:06.158Z"
   },
   {
    "duration": 385,
    "start_time": "2021-10-26T21:18:06.180Z"
   },
   {
    "duration": 4,
    "start_time": "2021-10-26T21:19:58.277Z"
   },
   {
    "duration": 317,
    "start_time": "2021-10-26T21:20:05.766Z"
   },
   {
    "duration": 94,
    "start_time": "2021-10-26T21:20:11.393Z"
   },
   {
    "duration": 84,
    "start_time": "2021-10-26T21:20:16.981Z"
   },
   {
    "duration": 145,
    "start_time": "2021-10-26T21:20:22.227Z"
   },
   {
    "duration": 135,
    "start_time": "2021-10-26T21:20:26.746Z"
   },
   {
    "duration": 13,
    "start_time": "2021-10-26T21:20:30.544Z"
   },
   {
    "duration": 7,
    "start_time": "2021-10-26T21:20:31.621Z"
   },
   {
    "duration": 4,
    "start_time": "2021-10-26T21:20:32.041Z"
   },
   {
    "duration": 19,
    "start_time": "2021-10-26T21:20:32.408Z"
   },
   {
    "duration": 7,
    "start_time": "2021-10-26T21:20:32.766Z"
   },
   {
    "duration": 10,
    "start_time": "2021-10-26T21:20:33.120Z"
   },
   {
    "duration": 7,
    "start_time": "2021-10-26T21:20:33.512Z"
   },
   {
    "duration": 5,
    "start_time": "2021-10-26T21:20:33.911Z"
   },
   {
    "duration": 9,
    "start_time": "2021-10-26T21:20:34.304Z"
   },
   {
    "duration": 6,
    "start_time": "2021-10-26T21:20:34.713Z"
   },
   {
    "duration": 5,
    "start_time": "2021-10-26T21:20:35.130Z"
   },
   {
    "duration": 11,
    "start_time": "2021-10-26T21:20:35.557Z"
   },
   {
    "duration": 7,
    "start_time": "2021-10-26T21:20:35.978Z"
   },
   {
    "duration": 6,
    "start_time": "2021-10-26T21:20:36.401Z"
   },
   {
    "duration": 10,
    "start_time": "2021-10-26T21:20:36.811Z"
   },
   {
    "duration": 6,
    "start_time": "2021-10-26T21:20:37.203Z"
   },
   {
    "duration": 8,
    "start_time": "2021-10-26T21:20:37.637Z"
   },
   {
    "duration": 111,
    "start_time": "2021-10-26T21:20:40.259Z"
   },
   {
    "duration": 80,
    "start_time": "2021-10-26T21:45:53.027Z"
   },
   {
    "duration": 86,
    "start_time": "2021-10-26T21:46:48.094Z"
   },
   {
    "duration": 80,
    "start_time": "2021-10-26T21:48:35.184Z"
   },
   {
    "duration": 84,
    "start_time": "2021-10-26T21:50:01.651Z"
   },
   {
    "duration": 83,
    "start_time": "2021-10-26T21:51:24.257Z"
   },
   {
    "duration": 318,
    "start_time": "2021-10-26T21:55:06.601Z"
   },
   {
    "duration": 326,
    "start_time": "2021-10-26T21:55:29.989Z"
   },
   {
    "duration": 83,
    "start_time": "2021-10-26T21:56:22.355Z"
   },
   {
    "duration": 320,
    "start_time": "2021-10-26T21:56:38.834Z"
   },
   {
    "duration": 336,
    "start_time": "2021-10-26T21:57:05.268Z"
   },
   {
    "duration": 86,
    "start_time": "2021-10-26T21:58:54.970Z"
   },
   {
    "duration": 88,
    "start_time": "2021-10-26T21:59:01.215Z"
   },
   {
    "duration": 83,
    "start_time": "2021-10-26T21:59:11.598Z"
   },
   {
    "duration": 320,
    "start_time": "2021-10-26T22:02:55.757Z"
   },
   {
    "duration": 346,
    "start_time": "2021-10-26T22:03:05.098Z"
   },
   {
    "duration": 319,
    "start_time": "2021-10-26T22:04:18.348Z"
   },
   {
    "duration": 109,
    "start_time": "2021-10-26T22:04:52.570Z"
   },
   {
    "duration": 112,
    "start_time": "2021-10-26T22:05:04.504Z"
   },
   {
    "duration": 351,
    "start_time": "2021-10-26T22:07:45.161Z"
   },
   {
    "duration": 113,
    "start_time": "2021-10-26T22:07:59.707Z"
   },
   {
    "duration": 319,
    "start_time": "2021-10-26T22:14:41.230Z"
   },
   {
    "duration": 333,
    "start_time": "2021-10-26T22:15:15.172Z"
   },
   {
    "duration": 329,
    "start_time": "2021-10-26T22:15:37.611Z"
   },
   {
    "duration": 79,
    "start_time": "2021-10-26T22:15:47.553Z"
   },
   {
    "duration": 359,
    "start_time": "2021-10-26T22:16:07.618Z"
   },
   {
    "duration": 324,
    "start_time": "2021-10-26T22:16:47.507Z"
   },
   {
    "duration": 112,
    "start_time": "2021-10-26T22:17:04.009Z"
   },
   {
    "duration": 99,
    "start_time": "2021-10-26T22:17:47.291Z"
   },
   {
    "duration": 337,
    "start_time": "2021-10-26T22:18:03.658Z"
   },
   {
    "duration": 323,
    "start_time": "2021-10-26T22:18:16.002Z"
   },
   {
    "duration": 99,
    "start_time": "2021-10-26T22:18:43.022Z"
   },
   {
    "duration": 83,
    "start_time": "2021-10-26T22:19:43.699Z"
   },
   {
    "duration": 96,
    "start_time": "2021-10-26T22:19:57.954Z"
   },
   {
    "duration": 335,
    "start_time": "2021-10-26T22:21:15.096Z"
   },
   {
    "duration": 85,
    "start_time": "2021-10-26T22:21:25.451Z"
   },
   {
    "duration": 317,
    "start_time": "2021-10-26T22:34:10.093Z"
   },
   {
    "duration": 82,
    "start_time": "2021-10-26T22:34:50.221Z"
   },
   {
    "duration": 325,
    "start_time": "2021-10-26T22:36:32.454Z"
   },
   {
    "duration": 83,
    "start_time": "2021-10-26T22:36:54.490Z"
   },
   {
    "duration": 353,
    "start_time": "2021-10-26T22:37:28.250Z"
   },
   {
    "duration": 85,
    "start_time": "2021-10-26T22:38:59.464Z"
   },
   {
    "duration": 86,
    "start_time": "2021-10-26T22:39:16.718Z"
   },
   {
    "duration": 735,
    "start_time": "2021-10-26T22:42:18.117Z"
   },
   {
    "duration": 326,
    "start_time": "2021-10-26T22:42:18.854Z"
   },
   {
    "duration": -15842,
    "start_time": "2021-10-26T22:42:35.024Z"
   },
   {
    "duration": -15851,
    "start_time": "2021-10-26T22:42:35.034Z"
   },
   {
    "duration": -15858,
    "start_time": "2021-10-26T22:42:35.042Z"
   },
   {
    "duration": -15867,
    "start_time": "2021-10-26T22:42:35.052Z"
   },
   {
    "duration": -15874,
    "start_time": "2021-10-26T22:42:35.060Z"
   },
   {
    "duration": -15882,
    "start_time": "2021-10-26T22:42:35.069Z"
   },
   {
    "duration": -15898,
    "start_time": "2021-10-26T22:42:35.086Z"
   },
   {
    "duration": -15907,
    "start_time": "2021-10-26T22:42:35.096Z"
   },
   {
    "duration": -15936,
    "start_time": "2021-10-26T22:42:35.126Z"
   },
   {
    "duration": -15946,
    "start_time": "2021-10-26T22:42:35.137Z"
   },
   {
    "duration": -15956,
    "start_time": "2021-10-26T22:42:35.148Z"
   },
   {
    "duration": -15965,
    "start_time": "2021-10-26T22:42:35.158Z"
   },
   {
    "duration": -15975,
    "start_time": "2021-10-26T22:42:35.169Z"
   },
   {
    "duration": -15982,
    "start_time": "2021-10-26T22:42:35.177Z"
   },
   {
    "duration": -15990,
    "start_time": "2021-10-26T22:42:35.185Z"
   },
   {
    "duration": -15998,
    "start_time": "2021-10-26T22:42:35.194Z"
   },
   {
    "duration": -16004,
    "start_time": "2021-10-26T22:42:35.201Z"
   },
   {
    "duration": -16011,
    "start_time": "2021-10-26T22:42:35.209Z"
   },
   {
    "duration": -16017,
    "start_time": "2021-10-26T22:42:35.215Z"
   },
   {
    "duration": -16041,
    "start_time": "2021-10-26T22:42:35.240Z"
   },
   {
    "duration": -16051,
    "start_time": "2021-10-26T22:42:35.251Z"
   },
   {
    "duration": -16057,
    "start_time": "2021-10-26T22:42:35.258Z"
   },
   {
    "duration": -16063,
    "start_time": "2021-10-26T22:42:35.265Z"
   },
   {
    "duration": -16071,
    "start_time": "2021-10-26T22:42:35.273Z"
   },
   {
    "duration": -16077,
    "start_time": "2021-10-26T22:42:35.280Z"
   },
   {
    "duration": -16084,
    "start_time": "2021-10-26T22:42:35.288Z"
   },
   {
    "duration": 399,
    "start_time": "2021-10-26T22:43:08.835Z"
   },
   {
    "duration": 5,
    "start_time": "2021-10-26T22:43:22.326Z"
   },
   {
    "duration": 323,
    "start_time": "2021-10-26T22:43:22.335Z"
   },
   {
    "duration": 84,
    "start_time": "2021-10-26T22:43:22.660Z"
   },
   {
    "duration": 85,
    "start_time": "2021-10-26T22:43:22.746Z"
   },
   {
    "duration": 122,
    "start_time": "2021-10-26T22:43:22.834Z"
   },
   {
    "duration": 105,
    "start_time": "2021-10-26T22:43:22.958Z"
   },
   {
    "duration": 13,
    "start_time": "2021-10-26T22:43:23.065Z"
   },
   {
    "duration": 9,
    "start_time": "2021-10-26T22:43:23.079Z"
   },
   {
    "duration": 5,
    "start_time": "2021-10-26T22:43:23.090Z"
   },
   {
    "duration": 22,
    "start_time": "2021-10-26T22:43:23.097Z"
   },
   {
    "duration": 7,
    "start_time": "2021-10-26T22:43:23.121Z"
   },
   {
    "duration": 37,
    "start_time": "2021-10-26T22:43:23.130Z"
   },
   {
    "duration": 7,
    "start_time": "2021-10-26T22:43:23.169Z"
   },
   {
    "duration": 6,
    "start_time": "2021-10-26T22:43:23.178Z"
   },
   {
    "duration": 9,
    "start_time": "2021-10-26T22:43:23.185Z"
   },
   {
    "duration": 8,
    "start_time": "2021-10-26T22:43:23.196Z"
   },
   {
    "duration": 9,
    "start_time": "2021-10-26T22:43:23.205Z"
   },
   {
    "duration": 15,
    "start_time": "2021-10-26T22:43:23.216Z"
   },
   {
    "duration": 33,
    "start_time": "2021-10-26T22:43:23.233Z"
   },
   {
    "duration": 6,
    "start_time": "2021-10-26T22:43:23.268Z"
   },
   {
    "duration": 11,
    "start_time": "2021-10-26T22:43:23.276Z"
   },
   {
    "duration": 10,
    "start_time": "2021-10-26T22:43:23.289Z"
   },
   {
    "duration": 8,
    "start_time": "2021-10-26T22:43:23.301Z"
   },
   {
    "duration": 85,
    "start_time": "2021-10-26T22:43:23.312Z"
   },
   {
    "duration": 88,
    "start_time": "2021-10-26T22:43:23.399Z"
   },
   {
    "duration": 89,
    "start_time": "2021-10-26T22:43:23.489Z"
   },
   {
    "duration": 86,
    "start_time": "2021-10-26T22:43:23.580Z"
   },
   {
    "duration": 87,
    "start_time": "2021-10-26T22:43:23.668Z"
   },
   {
    "duration": 87,
    "start_time": "2021-10-26T22:45:07.674Z"
   },
   {
    "duration": 87,
    "start_time": "2021-10-26T22:45:09.959Z"
   },
   {
    "duration": 242,
    "start_time": "2021-10-26T22:47:41.424Z"
   },
   {
    "duration": 13,
    "start_time": "2021-10-26T22:48:12.850Z"
   },
   {
    "duration": 8,
    "start_time": "2021-10-26T22:50:45.705Z"
   },
   {
    "duration": 88,
    "start_time": "2021-10-26T23:02:16.947Z"
   },
   {
    "duration": 328,
    "start_time": "2021-10-26T23:03:16.401Z"
   },
   {
    "duration": 87,
    "start_time": "2021-10-26T23:03:26.443Z"
   },
   {
    "duration": 329,
    "start_time": "2021-10-26T23:07:06.423Z"
   },
   {
    "duration": 322,
    "start_time": "2021-10-26T23:09:19.997Z"
   },
   {
    "duration": 88,
    "start_time": "2021-10-26T23:09:29.733Z"
   },
   {
    "duration": 88,
    "start_time": "2021-10-26T23:10:13.274Z"
   },
   {
    "duration": 89,
    "start_time": "2021-10-26T23:10:42.320Z"
   },
   {
    "duration": 89,
    "start_time": "2021-10-26T23:12:32.652Z"
   },
   {
    "duration": 87,
    "start_time": "2021-10-26T23:12:38.059Z"
   },
   {
    "duration": 87,
    "start_time": "2021-10-26T23:13:45.560Z"
   },
   {
    "duration": 87,
    "start_time": "2021-10-26T23:15:04.577Z"
   },
   {
    "duration": 89,
    "start_time": "2021-10-26T23:19:52.333Z"
   },
   {
    "duration": 85,
    "start_time": "2021-10-26T23:22:14.514Z"
   },
   {
    "duration": 708,
    "start_time": "2021-10-26T23:22:42.092Z"
   },
   {
    "duration": 371,
    "start_time": "2021-10-26T23:22:42.801Z"
   },
   {
    "duration": 82,
    "start_time": "2021-10-26T23:22:43.174Z"
   },
   {
    "duration": 82,
    "start_time": "2021-10-26T23:22:43.257Z"
   },
   {
    "duration": 118,
    "start_time": "2021-10-26T23:22:43.340Z"
   },
   {
    "duration": 100,
    "start_time": "2021-10-26T23:22:43.460Z"
   },
   {
    "duration": 11,
    "start_time": "2021-10-26T23:22:43.562Z"
   },
   {
    "duration": 10,
    "start_time": "2021-10-26T23:22:43.575Z"
   },
   {
    "duration": 10,
    "start_time": "2021-10-26T23:22:43.587Z"
   },
   {
    "duration": 26,
    "start_time": "2021-10-26T23:22:43.598Z"
   },
   {
    "duration": 13,
    "start_time": "2021-10-26T23:22:43.625Z"
   },
   {
    "duration": 9,
    "start_time": "2021-10-26T23:22:43.639Z"
   },
   {
    "duration": 14,
    "start_time": "2021-10-26T23:22:43.650Z"
   },
   {
    "duration": 29,
    "start_time": "2021-10-26T23:22:43.665Z"
   },
   {
    "duration": 16,
    "start_time": "2021-10-26T23:22:43.696Z"
   },
   {
    "duration": 18,
    "start_time": "2021-10-26T23:22:43.714Z"
   },
   {
    "duration": 17,
    "start_time": "2021-10-26T23:22:43.733Z"
   },
   {
    "duration": 17,
    "start_time": "2021-10-26T23:22:43.752Z"
   },
   {
    "duration": 10,
    "start_time": "2021-10-26T23:22:43.770Z"
   },
   {
    "duration": 10,
    "start_time": "2021-10-26T23:22:43.782Z"
   },
   {
    "duration": 16,
    "start_time": "2021-10-26T23:22:43.793Z"
   },
   {
    "duration": 24,
    "start_time": "2021-10-26T23:22:43.811Z"
   },
   {
    "duration": 9,
    "start_time": "2021-10-26T23:22:43.838Z"
   },
   {
    "duration": 93,
    "start_time": "2021-10-26T23:22:43.849Z"
   },
   {
    "duration": 85,
    "start_time": "2021-10-26T23:22:43.944Z"
   },
   {
    "duration": 88,
    "start_time": "2021-10-26T23:22:44.030Z"
   },
   {
    "duration": 82,
    "start_time": "2021-10-26T23:22:44.120Z"
   },
   {
    "duration": 85,
    "start_time": "2021-10-26T23:22:44.203Z"
   },
   {
    "duration": 80,
    "start_time": "2021-10-26T23:22:44.290Z"
   },
   {
    "duration": 731,
    "start_time": "2021-10-26T23:26:15.721Z"
   },
   {
    "duration": 377,
    "start_time": "2021-10-26T23:26:16.454Z"
   },
   {
    "duration": 86,
    "start_time": "2021-10-26T23:26:16.833Z"
   },
   {
    "duration": 87,
    "start_time": "2021-10-26T23:26:16.920Z"
   },
   {
    "duration": 122,
    "start_time": "2021-10-26T23:26:17.008Z"
   },
   {
    "duration": 104,
    "start_time": "2021-10-26T23:26:17.131Z"
   },
   {
    "duration": 13,
    "start_time": "2021-10-26T23:26:17.237Z"
   },
   {
    "duration": 9,
    "start_time": "2021-10-26T23:26:17.252Z"
   },
   {
    "duration": 7,
    "start_time": "2021-10-26T23:26:17.264Z"
   },
   {
    "duration": 23,
    "start_time": "2021-10-26T23:26:17.273Z"
   },
   {
    "duration": 6,
    "start_time": "2021-10-26T23:26:17.298Z"
   },
   {
    "duration": 9,
    "start_time": "2021-10-26T23:26:17.306Z"
   },
   {
    "duration": 10,
    "start_time": "2021-10-26T23:26:17.317Z"
   },
   {
    "duration": 8,
    "start_time": "2021-10-26T23:26:17.328Z"
   },
   {
    "duration": 29,
    "start_time": "2021-10-26T23:26:17.338Z"
   },
   {
    "duration": 7,
    "start_time": "2021-10-26T23:26:17.369Z"
   },
   {
    "duration": 10,
    "start_time": "2021-10-26T23:26:17.378Z"
   },
   {
    "duration": 14,
    "start_time": "2021-10-26T23:26:17.390Z"
   },
   {
    "duration": 10,
    "start_time": "2021-10-26T23:26:17.405Z"
   },
   {
    "duration": 17,
    "start_time": "2021-10-26T23:26:17.416Z"
   },
   {
    "duration": 20,
    "start_time": "2021-10-26T23:26:17.435Z"
   },
   {
    "duration": 11,
    "start_time": "2021-10-26T23:26:17.457Z"
   },
   {
    "duration": 9,
    "start_time": "2021-10-26T23:26:17.471Z"
   },
   {
    "duration": 83,
    "start_time": "2021-10-26T23:26:17.481Z"
   },
   {
    "duration": 88,
    "start_time": "2021-10-26T23:26:17.566Z"
   },
   {
    "duration": 89,
    "start_time": "2021-10-26T23:26:17.656Z"
   },
   {
    "duration": 85,
    "start_time": "2021-10-26T23:26:17.746Z"
   },
   {
    "duration": 87,
    "start_time": "2021-10-26T23:26:17.833Z"
   },
   {
    "duration": 84,
    "start_time": "2021-10-26T23:26:17.921Z"
   },
   {
    "duration": 372,
    "start_time": "2021-10-27T19:52:38.508Z"
   },
   {
    "duration": 778,
    "start_time": "2021-10-27T19:52:56.205Z"
   },
   {
    "duration": 89,
    "start_time": "2021-10-27T19:52:56.985Z"
   },
   {
    "duration": 14,
    "start_time": "2021-10-27T19:52:57.076Z"
   },
   {
    "duration": 13,
    "start_time": "2021-10-27T19:52:57.092Z"
   },
   {
    "duration": 27,
    "start_time": "2021-10-27T19:52:57.107Z"
   },
   {
    "duration": 21,
    "start_time": "2021-10-27T19:52:57.135Z"
   },
   {
    "duration": 31,
    "start_time": "2021-10-27T19:52:57.158Z"
   },
   {
    "duration": 7,
    "start_time": "2021-10-27T19:52:57.193Z"
   },
   {
    "duration": 6,
    "start_time": "2021-10-27T19:52:57.202Z"
   },
   {
    "duration": 20,
    "start_time": "2021-10-27T19:52:57.210Z"
   },
   {
    "duration": 6,
    "start_time": "2021-10-27T19:52:57.232Z"
   },
   {
    "duration": 44,
    "start_time": "2021-10-27T19:52:57.240Z"
   },
   {
    "duration": 6,
    "start_time": "2021-10-27T19:52:57.286Z"
   },
   {
    "duration": 6,
    "start_time": "2021-10-27T19:52:57.294Z"
   },
   {
    "duration": 9,
    "start_time": "2021-10-27T19:52:57.301Z"
   },
   {
    "duration": 8,
    "start_time": "2021-10-27T19:52:57.313Z"
   },
   {
    "duration": 8,
    "start_time": "2021-10-27T19:52:57.323Z"
   },
   {
    "duration": 52,
    "start_time": "2021-10-27T19:52:57.334Z"
   },
   {
    "duration": 8,
    "start_time": "2021-10-27T19:52:57.388Z"
   },
   {
    "duration": 8,
    "start_time": "2021-10-27T19:52:57.398Z"
   },
   {
    "duration": 11,
    "start_time": "2021-10-27T19:52:57.408Z"
   },
   {
    "duration": 8,
    "start_time": "2021-10-27T19:52:57.421Z"
   },
   {
    "duration": 7,
    "start_time": "2021-10-27T19:52:57.477Z"
   },
   {
    "duration": 10,
    "start_time": "2021-10-27T19:52:57.486Z"
   },
   {
    "duration": 16,
    "start_time": "2021-10-27T19:52:57.497Z"
   },
   {
    "duration": 18,
    "start_time": "2021-10-27T19:52:57.515Z"
   },
   {
    "duration": 15,
    "start_time": "2021-10-27T19:52:57.534Z"
   },
   {
    "duration": 43,
    "start_time": "2021-10-27T19:52:57.550Z"
   },
   {
    "duration": 13,
    "start_time": "2021-10-27T19:52:57.594Z"
   },
   {
    "duration": 336,
    "start_time": "2021-10-27T20:15:11.257Z"
   },
   {
    "duration": 994,
    "start_time": "2021-10-27T20:15:18.336Z"
   },
   {
    "duration": 277,
    "start_time": "2021-10-27T20:15:19.333Z"
   },
   {
    "duration": 61,
    "start_time": "2021-10-27T20:15:19.614Z"
   },
   {
    "duration": 61,
    "start_time": "2021-10-27T20:15:19.677Z"
   },
   {
    "duration": 91,
    "start_time": "2021-10-27T20:15:19.740Z"
   },
   {
    "duration": 78,
    "start_time": "2021-10-27T20:15:19.834Z"
   },
   {
    "duration": 19,
    "start_time": "2021-10-27T20:15:19.915Z"
   },
   {
    "duration": 12,
    "start_time": "2021-10-27T20:15:19.938Z"
   },
   {
    "duration": 12,
    "start_time": "2021-10-27T20:15:19.953Z"
   },
   {
    "duration": 38,
    "start_time": "2021-10-27T20:15:19.967Z"
   },
   {
    "duration": 8,
    "start_time": "2021-10-27T20:15:20.008Z"
   },
   {
    "duration": 23,
    "start_time": "2021-10-27T20:15:20.018Z"
   },
   {
    "duration": 16,
    "start_time": "2021-10-27T20:15:20.043Z"
   },
   {
    "duration": 21,
    "start_time": "2021-10-27T20:15:20.062Z"
   },
   {
    "duration": 19,
    "start_time": "2021-10-27T20:15:20.086Z"
   },
   {
    "duration": 10,
    "start_time": "2021-10-27T20:15:20.107Z"
   },
   {
    "duration": 11,
    "start_time": "2021-10-27T20:15:20.119Z"
   },
   {
    "duration": 16,
    "start_time": "2021-10-27T20:15:20.133Z"
   },
   {
    "duration": 8,
    "start_time": "2021-10-27T20:15:20.182Z"
   },
   {
    "duration": 13,
    "start_time": "2021-10-27T20:15:20.193Z"
   },
   {
    "duration": 15,
    "start_time": "2021-10-27T20:15:20.208Z"
   },
   {
    "duration": 11,
    "start_time": "2021-10-27T20:15:20.226Z"
   },
   {
    "duration": 48,
    "start_time": "2021-10-27T20:15:20.241Z"
   },
   {
    "duration": 54,
    "start_time": "2021-10-27T20:15:20.291Z"
   },
   {
    "duration": 62,
    "start_time": "2021-10-27T20:15:20.348Z"
   },
   {
    "duration": 457,
    "start_time": "2021-10-27T20:15:20.412Z"
   },
   {
    "duration": -15796,
    "start_time": "2021-10-27T20:15:36.668Z"
   },
   {
    "duration": -15804,
    "start_time": "2021-10-27T20:15:36.677Z"
   },
   {
    "duration": -15821,
    "start_time": "2021-10-27T20:15:36.695Z"
   },
   {
    "duration": 416,
    "start_time": "2021-10-27T20:15:53.493Z"
   },
   {
    "duration": 343,
    "start_time": "2021-10-27T20:15:59.623Z"
   },
   {
    "duration": 342,
    "start_time": "2021-10-27T20:16:08.071Z"
   },
   {
    "duration": 386,
    "start_time": "2021-10-27T20:16:21.153Z"
   },
   {
    "duration": 91,
    "start_time": "2021-10-27T20:23:36.036Z"
   },
   {
    "duration": 9,
    "start_time": "2021-10-27T20:27:09.856Z"
   },
   {
    "duration": 10,
    "start_time": "2021-10-27T20:27:27.775Z"
   },
   {
    "duration": 9,
    "start_time": "2021-10-27T20:28:00.000Z"
   },
   {
    "duration": 57,
    "start_time": "2021-10-27T20:29:45.137Z"
   },
   {
    "duration": 454,
    "start_time": "2021-10-27T20:47:40.041Z"
   },
   {
    "duration": 57,
    "start_time": "2021-10-27T20:48:16.489Z"
   },
   {
    "duration": 58,
    "start_time": "2021-10-27T21:11:37.218Z"
   },
   {
    "duration": 974,
    "start_time": "2021-10-27T21:13:44.884Z"
   },
   {
    "duration": 294,
    "start_time": "2021-10-27T21:13:45.861Z"
   },
   {
    "duration": 64,
    "start_time": "2021-10-27T21:13:46.158Z"
   },
   {
    "duration": 63,
    "start_time": "2021-10-27T21:13:46.224Z"
   },
   {
    "duration": 98,
    "start_time": "2021-10-27T21:13:46.290Z"
   },
   {
    "duration": 81,
    "start_time": "2021-10-27T21:13:46.390Z"
   },
   {
    "duration": 20,
    "start_time": "2021-10-27T21:13:46.473Z"
   },
   {
    "duration": 16,
    "start_time": "2021-10-27T21:13:46.496Z"
   },
   {
    "duration": 7,
    "start_time": "2021-10-27T21:13:46.516Z"
   },
   {
    "duration": 57,
    "start_time": "2021-10-27T21:13:46.526Z"
   },
   {
    "duration": 9,
    "start_time": "2021-10-27T21:13:46.586Z"
   },
   {
    "duration": 12,
    "start_time": "2021-10-27T21:13:46.597Z"
   },
   {
    "duration": 8,
    "start_time": "2021-10-27T21:13:46.612Z"
   },
   {
    "duration": 9,
    "start_time": "2021-10-27T21:13:46.622Z"
   },
   {
    "duration": 55,
    "start_time": "2021-10-27T21:13:46.633Z"
   },
   {
    "duration": 11,
    "start_time": "2021-10-27T21:13:46.691Z"
   },
   {
    "duration": 7,
    "start_time": "2021-10-27T21:13:46.704Z"
   },
   {
    "duration": 16,
    "start_time": "2021-10-27T21:13:46.713Z"
   },
   {
    "duration": 52,
    "start_time": "2021-10-27T21:13:46.731Z"
   },
   {
    "duration": 8,
    "start_time": "2021-10-27T21:13:46.785Z"
   },
   {
    "duration": 14,
    "start_time": "2021-10-27T21:13:46.796Z"
   },
   {
    "duration": 9,
    "start_time": "2021-10-27T21:13:46.813Z"
   },
   {
    "duration": 10,
    "start_time": "2021-10-27T21:13:46.826Z"
   },
   {
    "duration": 100,
    "start_time": "2021-10-27T21:13:46.839Z"
   },
   {
    "duration": 81,
    "start_time": "2021-10-27T21:13:46.941Z"
   },
   {
    "duration": 65,
    "start_time": "2021-10-27T21:13:47.024Z"
   },
   {
    "duration": 67,
    "start_time": "2021-10-27T21:13:47.092Z"
   },
   {
    "duration": 63,
    "start_time": "2021-10-27T21:13:47.161Z"
   },
   {
    "duration": 976,
    "start_time": "2021-10-27T21:36:08.103Z"
   },
   {
    "duration": 272,
    "start_time": "2021-10-27T21:36:09.082Z"
   },
   {
    "duration": 63,
    "start_time": "2021-10-27T21:36:09.357Z"
   },
   {
    "duration": 59,
    "start_time": "2021-10-27T21:36:09.423Z"
   },
   {
    "duration": 86,
    "start_time": "2021-10-27T21:36:09.485Z"
   },
   {
    "duration": 74,
    "start_time": "2021-10-27T21:36:09.573Z"
   },
   {
    "duration": 19,
    "start_time": "2021-10-27T21:36:09.650Z"
   },
   {
    "duration": 9,
    "start_time": "2021-10-27T21:36:09.673Z"
   },
   {
    "duration": 6,
    "start_time": "2021-10-27T21:36:09.685Z"
   },
   {
    "duration": 29,
    "start_time": "2021-10-27T21:36:09.694Z"
   },
   {
    "duration": 8,
    "start_time": "2021-10-27T21:36:09.726Z"
   },
   {
    "duration": 49,
    "start_time": "2021-10-27T21:36:09.736Z"
   },
   {
    "duration": 9,
    "start_time": "2021-10-27T21:36:09.787Z"
   },
   {
    "duration": 9,
    "start_time": "2021-10-27T21:36:09.798Z"
   },
   {
    "duration": 12,
    "start_time": "2021-10-27T21:36:09.809Z"
   },
   {
    "duration": 9,
    "start_time": "2021-10-27T21:36:09.823Z"
   },
   {
    "duration": 51,
    "start_time": "2021-10-27T21:36:09.834Z"
   },
   {
    "duration": 15,
    "start_time": "2021-10-27T21:36:09.887Z"
   },
   {
    "duration": 7,
    "start_time": "2021-10-27T21:36:09.904Z"
   },
   {
    "duration": 8,
    "start_time": "2021-10-27T21:36:09.914Z"
   },
   {
    "duration": 14,
    "start_time": "2021-10-27T21:36:09.924Z"
   },
   {
    "duration": 8,
    "start_time": "2021-10-27T21:36:09.983Z"
   },
   {
    "duration": 8,
    "start_time": "2021-10-27T21:36:09.995Z"
   },
   {
    "duration": 56,
    "start_time": "2021-10-27T21:36:10.006Z"
   },
   {
    "duration": 77,
    "start_time": "2021-10-27T21:36:10.064Z"
   },
   {
    "duration": 62,
    "start_time": "2021-10-27T21:36:10.144Z"
   },
   {
    "duration": 64,
    "start_time": "2021-10-27T21:36:10.209Z"
   },
   {
    "duration": 57,
    "start_time": "2021-10-27T21:36:10.275Z"
   }
  ],
  "kernelspec": {
   "display_name": "Python 3",
   "language": "python",
   "name": "python3"
  },
  "language_info": {
   "codemirror_mode": {
    "name": "ipython",
    "version": 3
   },
   "file_extension": ".py",
   "mimetype": "text/x-python",
   "name": "python",
   "nbconvert_exporter": "python",
   "pygments_lexer": "ipython3",
   "version": "3.7.8"
  },
  "toc": {
   "base_numbering": 1,
   "nav_menu": {},
   "number_sections": true,
   "sideBar": true,
   "skip_h1_title": true,
   "title_cell": "Table of Contents",
   "title_sidebar": "Contents",
   "toc_cell": false,
   "toc_position": {},
   "toc_section_display": true,
   "toc_window_display": false
  }
 },
 "nbformat": 4,
 "nbformat_minor": 2
}
