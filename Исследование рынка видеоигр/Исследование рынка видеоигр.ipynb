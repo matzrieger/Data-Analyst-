{
 "cells": [
  {
   "cell_type": "markdown",
   "metadata": {},
   "source": [
    "Из открытых источников доступны исторические данные о продажах игр, оценки пользователей и экспертов, жанры и платформы. Необходимо выявить определяющие успешность игры закономерности. Это позволит сделать ставку на потенциально популярный продукт и спланировать рекламные кампании на 2017год. Данные до 2016 года. "
   ]
  },
  {
   "cell_type": "markdown",
   "metadata": {},
   "source": [
    "*План работы*\n",
    "1) Изучение общей информации\n",
    "\n",
    "2) Подготовка данных\n",
    "\n",
    "3) Проведение исследовательского анализа данных\n",
    "\n",
    "4) Составление портрета пользователя каждого региона\n",
    "\n",
    "5) Проверьте гипотез\n",
    "\n",
    "6) Общий вывод"
   ]
  },
  {
   "cell_type": "markdown",
   "metadata": {},
   "source": [
    "## Изучение общей информации"
   ]
  },
  {
   "cell_type": "code",
   "execution_count": 1,
   "metadata": {},
   "outputs": [
    {
     "data": {
      "text/html": [
       "<div>\n",
       "<style scoped>\n",
       "    .dataframe tbody tr th:only-of-type {\n",
       "        vertical-align: middle;\n",
       "    }\n",
       "\n",
       "    .dataframe tbody tr th {\n",
       "        vertical-align: top;\n",
       "    }\n",
       "\n",
       "    .dataframe thead th {\n",
       "        text-align: right;\n",
       "    }\n",
       "</style>\n",
       "<table border=\"1\" class=\"dataframe\">\n",
       "  <thead>\n",
       "    <tr style=\"text-align: right;\">\n",
       "      <th></th>\n",
       "      <th>Name</th>\n",
       "      <th>Platform</th>\n",
       "      <th>Year_of_Release</th>\n",
       "      <th>Genre</th>\n",
       "      <th>NA_sales</th>\n",
       "      <th>EU_sales</th>\n",
       "      <th>JP_sales</th>\n",
       "      <th>Other_sales</th>\n",
       "      <th>Critic_Score</th>\n",
       "      <th>User_Score</th>\n",
       "      <th>Rating</th>\n",
       "    </tr>\n",
       "  </thead>\n",
       "  <tbody>\n",
       "    <tr>\n",
       "      <td>0</td>\n",
       "      <td>Wii Sports</td>\n",
       "      <td>Wii</td>\n",
       "      <td>2006.0</td>\n",
       "      <td>Sports</td>\n",
       "      <td>41.36</td>\n",
       "      <td>28.96</td>\n",
       "      <td>3.77</td>\n",
       "      <td>8.45</td>\n",
       "      <td>76.0</td>\n",
       "      <td>8</td>\n",
       "      <td>E</td>\n",
       "    </tr>\n",
       "    <tr>\n",
       "      <td>1</td>\n",
       "      <td>Super Mario Bros.</td>\n",
       "      <td>NES</td>\n",
       "      <td>1985.0</td>\n",
       "      <td>Platform</td>\n",
       "      <td>29.08</td>\n",
       "      <td>3.58</td>\n",
       "      <td>6.81</td>\n",
       "      <td>0.77</td>\n",
       "      <td>NaN</td>\n",
       "      <td>NaN</td>\n",
       "      <td>NaN</td>\n",
       "    </tr>\n",
       "    <tr>\n",
       "      <td>2</td>\n",
       "      <td>Mario Kart Wii</td>\n",
       "      <td>Wii</td>\n",
       "      <td>2008.0</td>\n",
       "      <td>Racing</td>\n",
       "      <td>15.68</td>\n",
       "      <td>12.76</td>\n",
       "      <td>3.79</td>\n",
       "      <td>3.29</td>\n",
       "      <td>82.0</td>\n",
       "      <td>8.3</td>\n",
       "      <td>E</td>\n",
       "    </tr>\n",
       "    <tr>\n",
       "      <td>3</td>\n",
       "      <td>Wii Sports Resort</td>\n",
       "      <td>Wii</td>\n",
       "      <td>2009.0</td>\n",
       "      <td>Sports</td>\n",
       "      <td>15.61</td>\n",
       "      <td>10.93</td>\n",
       "      <td>3.28</td>\n",
       "      <td>2.95</td>\n",
       "      <td>80.0</td>\n",
       "      <td>8</td>\n",
       "      <td>E</td>\n",
       "    </tr>\n",
       "    <tr>\n",
       "      <td>4</td>\n",
       "      <td>Pokemon Red/Pokemon Blue</td>\n",
       "      <td>GB</td>\n",
       "      <td>1996.0</td>\n",
       "      <td>Role-Playing</td>\n",
       "      <td>11.27</td>\n",
       "      <td>8.89</td>\n",
       "      <td>10.22</td>\n",
       "      <td>1.00</td>\n",
       "      <td>NaN</td>\n",
       "      <td>NaN</td>\n",
       "      <td>NaN</td>\n",
       "    </tr>\n",
       "    <tr>\n",
       "      <td>...</td>\n",
       "      <td>...</td>\n",
       "      <td>...</td>\n",
       "      <td>...</td>\n",
       "      <td>...</td>\n",
       "      <td>...</td>\n",
       "      <td>...</td>\n",
       "      <td>...</td>\n",
       "      <td>...</td>\n",
       "      <td>...</td>\n",
       "      <td>...</td>\n",
       "      <td>...</td>\n",
       "    </tr>\n",
       "    <tr>\n",
       "      <td>16710</td>\n",
       "      <td>Samurai Warriors: Sanada Maru</td>\n",
       "      <td>PS3</td>\n",
       "      <td>2016.0</td>\n",
       "      <td>Action</td>\n",
       "      <td>0.00</td>\n",
       "      <td>0.00</td>\n",
       "      <td>0.01</td>\n",
       "      <td>0.00</td>\n",
       "      <td>NaN</td>\n",
       "      <td>NaN</td>\n",
       "      <td>NaN</td>\n",
       "    </tr>\n",
       "    <tr>\n",
       "      <td>16711</td>\n",
       "      <td>LMA Manager 2007</td>\n",
       "      <td>X360</td>\n",
       "      <td>2006.0</td>\n",
       "      <td>Sports</td>\n",
       "      <td>0.00</td>\n",
       "      <td>0.01</td>\n",
       "      <td>0.00</td>\n",
       "      <td>0.00</td>\n",
       "      <td>NaN</td>\n",
       "      <td>NaN</td>\n",
       "      <td>NaN</td>\n",
       "    </tr>\n",
       "    <tr>\n",
       "      <td>16712</td>\n",
       "      <td>Haitaka no Psychedelica</td>\n",
       "      <td>PSV</td>\n",
       "      <td>2016.0</td>\n",
       "      <td>Adventure</td>\n",
       "      <td>0.00</td>\n",
       "      <td>0.00</td>\n",
       "      <td>0.01</td>\n",
       "      <td>0.00</td>\n",
       "      <td>NaN</td>\n",
       "      <td>NaN</td>\n",
       "      <td>NaN</td>\n",
       "    </tr>\n",
       "    <tr>\n",
       "      <td>16713</td>\n",
       "      <td>Spirits &amp; Spells</td>\n",
       "      <td>GBA</td>\n",
       "      <td>2003.0</td>\n",
       "      <td>Platform</td>\n",
       "      <td>0.01</td>\n",
       "      <td>0.00</td>\n",
       "      <td>0.00</td>\n",
       "      <td>0.00</td>\n",
       "      <td>NaN</td>\n",
       "      <td>NaN</td>\n",
       "      <td>NaN</td>\n",
       "    </tr>\n",
       "    <tr>\n",
       "      <td>16714</td>\n",
       "      <td>Winning Post 8 2016</td>\n",
       "      <td>PSV</td>\n",
       "      <td>2016.0</td>\n",
       "      <td>Simulation</td>\n",
       "      <td>0.00</td>\n",
       "      <td>0.00</td>\n",
       "      <td>0.01</td>\n",
       "      <td>0.00</td>\n",
       "      <td>NaN</td>\n",
       "      <td>NaN</td>\n",
       "      <td>NaN</td>\n",
       "    </tr>\n",
       "  </tbody>\n",
       "</table>\n",
       "<p>16715 rows × 11 columns</p>\n",
       "</div>"
      ],
      "text/plain": [
       "                                Name Platform  Year_of_Release         Genre  \\\n",
       "0                         Wii Sports      Wii           2006.0        Sports   \n",
       "1                  Super Mario Bros.      NES           1985.0      Platform   \n",
       "2                     Mario Kart Wii      Wii           2008.0        Racing   \n",
       "3                  Wii Sports Resort      Wii           2009.0        Sports   \n",
       "4           Pokemon Red/Pokemon Blue       GB           1996.0  Role-Playing   \n",
       "...                              ...      ...              ...           ...   \n",
       "16710  Samurai Warriors: Sanada Maru      PS3           2016.0        Action   \n",
       "16711               LMA Manager 2007     X360           2006.0        Sports   \n",
       "16712        Haitaka no Psychedelica      PSV           2016.0     Adventure   \n",
       "16713               Spirits & Spells      GBA           2003.0      Platform   \n",
       "16714            Winning Post 8 2016      PSV           2016.0    Simulation   \n",
       "\n",
       "       NA_sales  EU_sales  JP_sales  Other_sales  Critic_Score User_Score  \\\n",
       "0         41.36     28.96      3.77         8.45          76.0          8   \n",
       "1         29.08      3.58      6.81         0.77           NaN        NaN   \n",
       "2         15.68     12.76      3.79         3.29          82.0        8.3   \n",
       "3         15.61     10.93      3.28         2.95          80.0          8   \n",
       "4         11.27      8.89     10.22         1.00           NaN        NaN   \n",
       "...         ...       ...       ...          ...           ...        ...   \n",
       "16710      0.00      0.00      0.01         0.00           NaN        NaN   \n",
       "16711      0.00      0.01      0.00         0.00           NaN        NaN   \n",
       "16712      0.00      0.00      0.01         0.00           NaN        NaN   \n",
       "16713      0.01      0.00      0.00         0.00           NaN        NaN   \n",
       "16714      0.00      0.00      0.01         0.00           NaN        NaN   \n",
       "\n",
       "      Rating  \n",
       "0          E  \n",
       "1        NaN  \n",
       "2          E  \n",
       "3          E  \n",
       "4        NaN  \n",
       "...      ...  \n",
       "16710    NaN  \n",
       "16711    NaN  \n",
       "16712    NaN  \n",
       "16713    NaN  \n",
       "16714    NaN  \n",
       "\n",
       "[16715 rows x 11 columns]"
      ]
     },
     "execution_count": 1,
     "metadata": {},
     "output_type": "execute_result"
    }
   ],
   "source": [
    "import pandas as pd\n",
    "from scipy import stats as st\n",
    "import matplotlib.pyplot as plt\n",
    "import numpy as np\n",
    "import warnings\n",
    "warnings.simplefilter('ignore')\n",
    "\n",
    "games = pd.read_csv('/datasets/games.csv')\n",
    "games"
   ]
  },
  {
   "cell_type": "code",
   "execution_count": 2,
   "metadata": {},
   "outputs": [
    {
     "name": "stdout",
     "output_type": "stream",
     "text": [
      "<class 'pandas.core.frame.DataFrame'>\n",
      "RangeIndex: 16715 entries, 0 to 16714\n",
      "Data columns (total 11 columns):\n",
      "Name               16713 non-null object\n",
      "Platform           16715 non-null object\n",
      "Year_of_Release    16446 non-null float64\n",
      "Genre              16713 non-null object\n",
      "NA_sales           16715 non-null float64\n",
      "EU_sales           16715 non-null float64\n",
      "JP_sales           16715 non-null float64\n",
      "Other_sales        16715 non-null float64\n",
      "Critic_Score       8137 non-null float64\n",
      "User_Score         10014 non-null object\n",
      "Rating             9949 non-null object\n",
      "dtypes: float64(6), object(5)\n",
      "memory usage: 1.4+ MB\n"
     ]
    }
   ],
   "source": [
    "games.info()"
   ]
  },
  {
   "cell_type": "code",
   "execution_count": 3,
   "metadata": {},
   "outputs": [
    {
     "data": {
      "text/html": [
       "<div>\n",
       "<style scoped>\n",
       "    .dataframe tbody tr th:only-of-type {\n",
       "        vertical-align: middle;\n",
       "    }\n",
       "\n",
       "    .dataframe tbody tr th {\n",
       "        vertical-align: top;\n",
       "    }\n",
       "\n",
       "    .dataframe thead th {\n",
       "        text-align: right;\n",
       "    }\n",
       "</style>\n",
       "<table border=\"1\" class=\"dataframe\">\n",
       "  <thead>\n",
       "    <tr style=\"text-align: right;\">\n",
       "      <th></th>\n",
       "      <th>Year_of_Release</th>\n",
       "      <th>NA_sales</th>\n",
       "      <th>EU_sales</th>\n",
       "      <th>JP_sales</th>\n",
       "      <th>Other_sales</th>\n",
       "      <th>Critic_Score</th>\n",
       "    </tr>\n",
       "  </thead>\n",
       "  <tbody>\n",
       "    <tr>\n",
       "      <td>count</td>\n",
       "      <td>16446.000000</td>\n",
       "      <td>16715.000000</td>\n",
       "      <td>16715.000000</td>\n",
       "      <td>16715.000000</td>\n",
       "      <td>16715.000000</td>\n",
       "      <td>8137.000000</td>\n",
       "    </tr>\n",
       "    <tr>\n",
       "      <td>mean</td>\n",
       "      <td>2006.484616</td>\n",
       "      <td>0.263377</td>\n",
       "      <td>0.145060</td>\n",
       "      <td>0.077617</td>\n",
       "      <td>0.047342</td>\n",
       "      <td>68.967679</td>\n",
       "    </tr>\n",
       "    <tr>\n",
       "      <td>std</td>\n",
       "      <td>5.877050</td>\n",
       "      <td>0.813604</td>\n",
       "      <td>0.503339</td>\n",
       "      <td>0.308853</td>\n",
       "      <td>0.186731</td>\n",
       "      <td>13.938165</td>\n",
       "    </tr>\n",
       "    <tr>\n",
       "      <td>min</td>\n",
       "      <td>1980.000000</td>\n",
       "      <td>0.000000</td>\n",
       "      <td>0.000000</td>\n",
       "      <td>0.000000</td>\n",
       "      <td>0.000000</td>\n",
       "      <td>13.000000</td>\n",
       "    </tr>\n",
       "    <tr>\n",
       "      <td>25%</td>\n",
       "      <td>2003.000000</td>\n",
       "      <td>0.000000</td>\n",
       "      <td>0.000000</td>\n",
       "      <td>0.000000</td>\n",
       "      <td>0.000000</td>\n",
       "      <td>60.000000</td>\n",
       "    </tr>\n",
       "    <tr>\n",
       "      <td>50%</td>\n",
       "      <td>2007.000000</td>\n",
       "      <td>0.080000</td>\n",
       "      <td>0.020000</td>\n",
       "      <td>0.000000</td>\n",
       "      <td>0.010000</td>\n",
       "      <td>71.000000</td>\n",
       "    </tr>\n",
       "    <tr>\n",
       "      <td>75%</td>\n",
       "      <td>2010.000000</td>\n",
       "      <td>0.240000</td>\n",
       "      <td>0.110000</td>\n",
       "      <td>0.040000</td>\n",
       "      <td>0.030000</td>\n",
       "      <td>79.000000</td>\n",
       "    </tr>\n",
       "    <tr>\n",
       "      <td>max</td>\n",
       "      <td>2016.000000</td>\n",
       "      <td>41.360000</td>\n",
       "      <td>28.960000</td>\n",
       "      <td>10.220000</td>\n",
       "      <td>10.570000</td>\n",
       "      <td>98.000000</td>\n",
       "    </tr>\n",
       "  </tbody>\n",
       "</table>\n",
       "</div>"
      ],
      "text/plain": [
       "       Year_of_Release      NA_sales      EU_sales      JP_sales  \\\n",
       "count     16446.000000  16715.000000  16715.000000  16715.000000   \n",
       "mean       2006.484616      0.263377      0.145060      0.077617   \n",
       "std           5.877050      0.813604      0.503339      0.308853   \n",
       "min        1980.000000      0.000000      0.000000      0.000000   \n",
       "25%        2003.000000      0.000000      0.000000      0.000000   \n",
       "50%        2007.000000      0.080000      0.020000      0.000000   \n",
       "75%        2010.000000      0.240000      0.110000      0.040000   \n",
       "max        2016.000000     41.360000     28.960000     10.220000   \n",
       "\n",
       "        Other_sales  Critic_Score  \n",
       "count  16715.000000   8137.000000  \n",
       "mean       0.047342     68.967679  \n",
       "std        0.186731     13.938165  \n",
       "min        0.000000     13.000000  \n",
       "25%        0.000000     60.000000  \n",
       "50%        0.010000     71.000000  \n",
       "75%        0.030000     79.000000  \n",
       "max       10.570000     98.000000  "
      ]
     },
     "execution_count": 3,
     "metadata": {},
     "output_type": "execute_result"
    }
   ],
   "source": [
    "games.describe()"
   ]
  },
  {
   "cell_type": "markdown",
   "metadata": {},
   "source": [
    "*Все столбцы нужно привести к нижнему регистру, изменить тип данных User_Score и Year_of_Release, заполним пропуски. В датасете встречается аббревиатура tbd, означающее, что данной игре дано меньше минимального количества оценок для точного определения общей средней оценки, её заменим нулём*"
   ]
  },
  {
   "cell_type": "markdown",
   "metadata": {},
   "source": [
    "## Подготовка данных"
   ]
  },
  {
   "cell_type": "code",
   "execution_count": 4,
   "metadata": {},
   "outputs": [
    {
     "data": {
      "text/html": [
       "<div>\n",
       "<style scoped>\n",
       "    .dataframe tbody tr th:only-of-type {\n",
       "        vertical-align: middle;\n",
       "    }\n",
       "\n",
       "    .dataframe tbody tr th {\n",
       "        vertical-align: top;\n",
       "    }\n",
       "\n",
       "    .dataframe thead th {\n",
       "        text-align: right;\n",
       "    }\n",
       "</style>\n",
       "<table border=\"1\" class=\"dataframe\">\n",
       "  <thead>\n",
       "    <tr style=\"text-align: right;\">\n",
       "      <th></th>\n",
       "      <th>name</th>\n",
       "      <th>platform</th>\n",
       "      <th>year_of_release</th>\n",
       "      <th>genre</th>\n",
       "      <th>na_sales</th>\n",
       "      <th>eu_sales</th>\n",
       "      <th>jp_sales</th>\n",
       "      <th>other_sales</th>\n",
       "      <th>critic_score</th>\n",
       "      <th>user_score</th>\n",
       "      <th>rating</th>\n",
       "    </tr>\n",
       "  </thead>\n",
       "  <tbody>\n",
       "    <tr>\n",
       "      <td>0</td>\n",
       "      <td>Wii Sports</td>\n",
       "      <td>Wii</td>\n",
       "      <td>2006.0</td>\n",
       "      <td>Sports</td>\n",
       "      <td>41.36</td>\n",
       "      <td>28.96</td>\n",
       "      <td>3.77</td>\n",
       "      <td>8.45</td>\n",
       "      <td>76.0</td>\n",
       "      <td>8</td>\n",
       "      <td>E</td>\n",
       "    </tr>\n",
       "    <tr>\n",
       "      <td>1</td>\n",
       "      <td>Super Mario Bros.</td>\n",
       "      <td>NES</td>\n",
       "      <td>1985.0</td>\n",
       "      <td>Platform</td>\n",
       "      <td>29.08</td>\n",
       "      <td>3.58</td>\n",
       "      <td>6.81</td>\n",
       "      <td>0.77</td>\n",
       "      <td>NaN</td>\n",
       "      <td>NaN</td>\n",
       "      <td>NaN</td>\n",
       "    </tr>\n",
       "    <tr>\n",
       "      <td>2</td>\n",
       "      <td>Mario Kart Wii</td>\n",
       "      <td>Wii</td>\n",
       "      <td>2008.0</td>\n",
       "      <td>Racing</td>\n",
       "      <td>15.68</td>\n",
       "      <td>12.76</td>\n",
       "      <td>3.79</td>\n",
       "      <td>3.29</td>\n",
       "      <td>82.0</td>\n",
       "      <td>8.3</td>\n",
       "      <td>E</td>\n",
       "    </tr>\n",
       "    <tr>\n",
       "      <td>3</td>\n",
       "      <td>Wii Sports Resort</td>\n",
       "      <td>Wii</td>\n",
       "      <td>2009.0</td>\n",
       "      <td>Sports</td>\n",
       "      <td>15.61</td>\n",
       "      <td>10.93</td>\n",
       "      <td>3.28</td>\n",
       "      <td>2.95</td>\n",
       "      <td>80.0</td>\n",
       "      <td>8</td>\n",
       "      <td>E</td>\n",
       "    </tr>\n",
       "    <tr>\n",
       "      <td>4</td>\n",
       "      <td>Pokemon Red/Pokemon Blue</td>\n",
       "      <td>GB</td>\n",
       "      <td>1996.0</td>\n",
       "      <td>Role-Playing</td>\n",
       "      <td>11.27</td>\n",
       "      <td>8.89</td>\n",
       "      <td>10.22</td>\n",
       "      <td>1.00</td>\n",
       "      <td>NaN</td>\n",
       "      <td>NaN</td>\n",
       "      <td>NaN</td>\n",
       "    </tr>\n",
       "    <tr>\n",
       "      <td>...</td>\n",
       "      <td>...</td>\n",
       "      <td>...</td>\n",
       "      <td>...</td>\n",
       "      <td>...</td>\n",
       "      <td>...</td>\n",
       "      <td>...</td>\n",
       "      <td>...</td>\n",
       "      <td>...</td>\n",
       "      <td>...</td>\n",
       "      <td>...</td>\n",
       "      <td>...</td>\n",
       "    </tr>\n",
       "    <tr>\n",
       "      <td>16710</td>\n",
       "      <td>Samurai Warriors: Sanada Maru</td>\n",
       "      <td>PS3</td>\n",
       "      <td>2016.0</td>\n",
       "      <td>Action</td>\n",
       "      <td>0.00</td>\n",
       "      <td>0.00</td>\n",
       "      <td>0.01</td>\n",
       "      <td>0.00</td>\n",
       "      <td>NaN</td>\n",
       "      <td>NaN</td>\n",
       "      <td>NaN</td>\n",
       "    </tr>\n",
       "    <tr>\n",
       "      <td>16711</td>\n",
       "      <td>LMA Manager 2007</td>\n",
       "      <td>X360</td>\n",
       "      <td>2006.0</td>\n",
       "      <td>Sports</td>\n",
       "      <td>0.00</td>\n",
       "      <td>0.01</td>\n",
       "      <td>0.00</td>\n",
       "      <td>0.00</td>\n",
       "      <td>NaN</td>\n",
       "      <td>NaN</td>\n",
       "      <td>NaN</td>\n",
       "    </tr>\n",
       "    <tr>\n",
       "      <td>16712</td>\n",
       "      <td>Haitaka no Psychedelica</td>\n",
       "      <td>PSV</td>\n",
       "      <td>2016.0</td>\n",
       "      <td>Adventure</td>\n",
       "      <td>0.00</td>\n",
       "      <td>0.00</td>\n",
       "      <td>0.01</td>\n",
       "      <td>0.00</td>\n",
       "      <td>NaN</td>\n",
       "      <td>NaN</td>\n",
       "      <td>NaN</td>\n",
       "    </tr>\n",
       "    <tr>\n",
       "      <td>16713</td>\n",
       "      <td>Spirits &amp; Spells</td>\n",
       "      <td>GBA</td>\n",
       "      <td>2003.0</td>\n",
       "      <td>Platform</td>\n",
       "      <td>0.01</td>\n",
       "      <td>0.00</td>\n",
       "      <td>0.00</td>\n",
       "      <td>0.00</td>\n",
       "      <td>NaN</td>\n",
       "      <td>NaN</td>\n",
       "      <td>NaN</td>\n",
       "    </tr>\n",
       "    <tr>\n",
       "      <td>16714</td>\n",
       "      <td>Winning Post 8 2016</td>\n",
       "      <td>PSV</td>\n",
       "      <td>2016.0</td>\n",
       "      <td>Simulation</td>\n",
       "      <td>0.00</td>\n",
       "      <td>0.00</td>\n",
       "      <td>0.01</td>\n",
       "      <td>0.00</td>\n",
       "      <td>NaN</td>\n",
       "      <td>NaN</td>\n",
       "      <td>NaN</td>\n",
       "    </tr>\n",
       "  </tbody>\n",
       "</table>\n",
       "<p>16715 rows × 11 columns</p>\n",
       "</div>"
      ],
      "text/plain": [
       "                                name platform  year_of_release         genre  \\\n",
       "0                         Wii Sports      Wii           2006.0        Sports   \n",
       "1                  Super Mario Bros.      NES           1985.0      Platform   \n",
       "2                     Mario Kart Wii      Wii           2008.0        Racing   \n",
       "3                  Wii Sports Resort      Wii           2009.0        Sports   \n",
       "4           Pokemon Red/Pokemon Blue       GB           1996.0  Role-Playing   \n",
       "...                              ...      ...              ...           ...   \n",
       "16710  Samurai Warriors: Sanada Maru      PS3           2016.0        Action   \n",
       "16711               LMA Manager 2007     X360           2006.0        Sports   \n",
       "16712        Haitaka no Psychedelica      PSV           2016.0     Adventure   \n",
       "16713               Spirits & Spells      GBA           2003.0      Platform   \n",
       "16714            Winning Post 8 2016      PSV           2016.0    Simulation   \n",
       "\n",
       "       na_sales  eu_sales  jp_sales  other_sales  critic_score user_score  \\\n",
       "0         41.36     28.96      3.77         8.45          76.0          8   \n",
       "1         29.08      3.58      6.81         0.77           NaN        NaN   \n",
       "2         15.68     12.76      3.79         3.29          82.0        8.3   \n",
       "3         15.61     10.93      3.28         2.95          80.0          8   \n",
       "4         11.27      8.89     10.22         1.00           NaN        NaN   \n",
       "...         ...       ...       ...          ...           ...        ...   \n",
       "16710      0.00      0.00      0.01         0.00           NaN        NaN   \n",
       "16711      0.00      0.01      0.00         0.00           NaN        NaN   \n",
       "16712      0.00      0.00      0.01         0.00           NaN        NaN   \n",
       "16713      0.01      0.00      0.00         0.00           NaN        NaN   \n",
       "16714      0.00      0.00      0.01         0.00           NaN        NaN   \n",
       "\n",
       "      rating  \n",
       "0          E  \n",
       "1        NaN  \n",
       "2          E  \n",
       "3          E  \n",
       "4        NaN  \n",
       "...      ...  \n",
       "16710    NaN  \n",
       "16711    NaN  \n",
       "16712    NaN  \n",
       "16713    NaN  \n",
       "16714    NaN  \n",
       "\n",
       "[16715 rows x 11 columns]"
      ]
     },
     "execution_count": 4,
     "metadata": {},
     "output_type": "execute_result"
    }
   ],
   "source": [
    "games.columns = games.columns.str.lower()\n",
    "games"
   ]
  },
  {
   "cell_type": "code",
   "execution_count": 5,
   "metadata": {},
   "outputs": [],
   "source": [
    "games['year_of_release'] = games['year_of_release'].fillna(games['year_of_release'].median())\n",
    "games['critic_score'] = games['critic_score'].fillna(games['critic_score'].median())\n",
    "games.loc[games['user_score'] == 'tbd', 'user_score'] = 0\n",
    "games['user_score'] = games['user_score'].fillna(games['user_score'].median())"
   ]
  },
  {
   "cell_type": "code",
   "execution_count": 6,
   "metadata": {},
   "outputs": [
    {
     "name": "stdout",
     "output_type": "stream",
     "text": [
      "<class 'pandas.core.frame.DataFrame'>\n",
      "RangeIndex: 16715 entries, 0 to 16714\n",
      "Data columns (total 11 columns):\n",
      "name               16713 non-null object\n",
      "platform           16715 non-null object\n",
      "year_of_release    16715 non-null int64\n",
      "genre              16713 non-null object\n",
      "na_sales           16715 non-null float64\n",
      "eu_sales           16715 non-null float64\n",
      "jp_sales           16715 non-null float64\n",
      "other_sales        16715 non-null float64\n",
      "critic_score       16715 non-null float64\n",
      "user_score         16715 non-null float64\n",
      "rating             9949 non-null object\n",
      "dtypes: float64(6), int64(1), object(4)\n",
      "memory usage: 1.4+ MB\n"
     ]
    }
   ],
   "source": [
    "games['year_of_release'] = games['year_of_release'].astype(int)\n",
    "games['user_score'] = games['user_score'].astype(float)\n",
    "games.info()"
   ]
  },
  {
   "cell_type": "markdown",
   "metadata": {},
   "source": [
    "*Подсчитаем суммарные продажи во всех регионах*"
   ]
  },
  {
   "cell_type": "code",
   "execution_count": 7,
   "metadata": {},
   "outputs": [
    {
     "data": {
      "text/html": [
       "<div>\n",
       "<style scoped>\n",
       "    .dataframe tbody tr th:only-of-type {\n",
       "        vertical-align: middle;\n",
       "    }\n",
       "\n",
       "    .dataframe tbody tr th {\n",
       "        vertical-align: top;\n",
       "    }\n",
       "\n",
       "    .dataframe thead th {\n",
       "        text-align: right;\n",
       "    }\n",
       "</style>\n",
       "<table border=\"1\" class=\"dataframe\">\n",
       "  <thead>\n",
       "    <tr style=\"text-align: right;\">\n",
       "      <th></th>\n",
       "      <th>name</th>\n",
       "      <th>platform</th>\n",
       "      <th>year_of_release</th>\n",
       "      <th>genre</th>\n",
       "      <th>na_sales</th>\n",
       "      <th>eu_sales</th>\n",
       "      <th>jp_sales</th>\n",
       "      <th>other_sales</th>\n",
       "      <th>critic_score</th>\n",
       "      <th>user_score</th>\n",
       "      <th>rating</th>\n",
       "      <th>sales</th>\n",
       "    </tr>\n",
       "  </thead>\n",
       "  <tbody>\n",
       "    <tr>\n",
       "      <td>0</td>\n",
       "      <td>Wii Sports</td>\n",
       "      <td>Wii</td>\n",
       "      <td>2006</td>\n",
       "      <td>Sports</td>\n",
       "      <td>41.36</td>\n",
       "      <td>28.96</td>\n",
       "      <td>3.77</td>\n",
       "      <td>8.45</td>\n",
       "      <td>76.0</td>\n",
       "      <td>8.0</td>\n",
       "      <td>E</td>\n",
       "      <td>74.09</td>\n",
       "    </tr>\n",
       "    <tr>\n",
       "      <td>1</td>\n",
       "      <td>Super Mario Bros.</td>\n",
       "      <td>NES</td>\n",
       "      <td>1985</td>\n",
       "      <td>Platform</td>\n",
       "      <td>29.08</td>\n",
       "      <td>3.58</td>\n",
       "      <td>6.81</td>\n",
       "      <td>0.77</td>\n",
       "      <td>71.0</td>\n",
       "      <td>6.9</td>\n",
       "      <td>NaN</td>\n",
       "      <td>39.47</td>\n",
       "    </tr>\n",
       "    <tr>\n",
       "      <td>2</td>\n",
       "      <td>Mario Kart Wii</td>\n",
       "      <td>Wii</td>\n",
       "      <td>2008</td>\n",
       "      <td>Racing</td>\n",
       "      <td>15.68</td>\n",
       "      <td>12.76</td>\n",
       "      <td>3.79</td>\n",
       "      <td>3.29</td>\n",
       "      <td>82.0</td>\n",
       "      <td>8.3</td>\n",
       "      <td>E</td>\n",
       "      <td>32.23</td>\n",
       "    </tr>\n",
       "    <tr>\n",
       "      <td>3</td>\n",
       "      <td>Wii Sports Resort</td>\n",
       "      <td>Wii</td>\n",
       "      <td>2009</td>\n",
       "      <td>Sports</td>\n",
       "      <td>15.61</td>\n",
       "      <td>10.93</td>\n",
       "      <td>3.28</td>\n",
       "      <td>2.95</td>\n",
       "      <td>80.0</td>\n",
       "      <td>8.0</td>\n",
       "      <td>E</td>\n",
       "      <td>29.82</td>\n",
       "    </tr>\n",
       "    <tr>\n",
       "      <td>4</td>\n",
       "      <td>Pokemon Red/Pokemon Blue</td>\n",
       "      <td>GB</td>\n",
       "      <td>1996</td>\n",
       "      <td>Role-Playing</td>\n",
       "      <td>11.27</td>\n",
       "      <td>8.89</td>\n",
       "      <td>10.22</td>\n",
       "      <td>1.00</td>\n",
       "      <td>71.0</td>\n",
       "      <td>6.9</td>\n",
       "      <td>NaN</td>\n",
       "      <td>30.38</td>\n",
       "    </tr>\n",
       "    <tr>\n",
       "      <td>...</td>\n",
       "      <td>...</td>\n",
       "      <td>...</td>\n",
       "      <td>...</td>\n",
       "      <td>...</td>\n",
       "      <td>...</td>\n",
       "      <td>...</td>\n",
       "      <td>...</td>\n",
       "      <td>...</td>\n",
       "      <td>...</td>\n",
       "      <td>...</td>\n",
       "      <td>...</td>\n",
       "      <td>...</td>\n",
       "    </tr>\n",
       "    <tr>\n",
       "      <td>16710</td>\n",
       "      <td>Samurai Warriors: Sanada Maru</td>\n",
       "      <td>PS3</td>\n",
       "      <td>2016</td>\n",
       "      <td>Action</td>\n",
       "      <td>0.00</td>\n",
       "      <td>0.00</td>\n",
       "      <td>0.01</td>\n",
       "      <td>0.00</td>\n",
       "      <td>71.0</td>\n",
       "      <td>6.9</td>\n",
       "      <td>NaN</td>\n",
       "      <td>0.01</td>\n",
       "    </tr>\n",
       "    <tr>\n",
       "      <td>16711</td>\n",
       "      <td>LMA Manager 2007</td>\n",
       "      <td>X360</td>\n",
       "      <td>2006</td>\n",
       "      <td>Sports</td>\n",
       "      <td>0.00</td>\n",
       "      <td>0.01</td>\n",
       "      <td>0.00</td>\n",
       "      <td>0.00</td>\n",
       "      <td>71.0</td>\n",
       "      <td>6.9</td>\n",
       "      <td>NaN</td>\n",
       "      <td>0.01</td>\n",
       "    </tr>\n",
       "    <tr>\n",
       "      <td>16712</td>\n",
       "      <td>Haitaka no Psychedelica</td>\n",
       "      <td>PSV</td>\n",
       "      <td>2016</td>\n",
       "      <td>Adventure</td>\n",
       "      <td>0.00</td>\n",
       "      <td>0.00</td>\n",
       "      <td>0.01</td>\n",
       "      <td>0.00</td>\n",
       "      <td>71.0</td>\n",
       "      <td>6.9</td>\n",
       "      <td>NaN</td>\n",
       "      <td>0.01</td>\n",
       "    </tr>\n",
       "    <tr>\n",
       "      <td>16713</td>\n",
       "      <td>Spirits &amp; Spells</td>\n",
       "      <td>GBA</td>\n",
       "      <td>2003</td>\n",
       "      <td>Platform</td>\n",
       "      <td>0.01</td>\n",
       "      <td>0.00</td>\n",
       "      <td>0.00</td>\n",
       "      <td>0.00</td>\n",
       "      <td>71.0</td>\n",
       "      <td>6.9</td>\n",
       "      <td>NaN</td>\n",
       "      <td>0.01</td>\n",
       "    </tr>\n",
       "    <tr>\n",
       "      <td>16714</td>\n",
       "      <td>Winning Post 8 2016</td>\n",
       "      <td>PSV</td>\n",
       "      <td>2016</td>\n",
       "      <td>Simulation</td>\n",
       "      <td>0.00</td>\n",
       "      <td>0.00</td>\n",
       "      <td>0.01</td>\n",
       "      <td>0.00</td>\n",
       "      <td>71.0</td>\n",
       "      <td>6.9</td>\n",
       "      <td>NaN</td>\n",
       "      <td>0.01</td>\n",
       "    </tr>\n",
       "  </tbody>\n",
       "</table>\n",
       "<p>16715 rows × 12 columns</p>\n",
       "</div>"
      ],
      "text/plain": [
       "                                name platform  year_of_release         genre  \\\n",
       "0                         Wii Sports      Wii             2006        Sports   \n",
       "1                  Super Mario Bros.      NES             1985      Platform   \n",
       "2                     Mario Kart Wii      Wii             2008        Racing   \n",
       "3                  Wii Sports Resort      Wii             2009        Sports   \n",
       "4           Pokemon Red/Pokemon Blue       GB             1996  Role-Playing   \n",
       "...                              ...      ...              ...           ...   \n",
       "16710  Samurai Warriors: Sanada Maru      PS3             2016        Action   \n",
       "16711               LMA Manager 2007     X360             2006        Sports   \n",
       "16712        Haitaka no Psychedelica      PSV             2016     Adventure   \n",
       "16713               Spirits & Spells      GBA             2003      Platform   \n",
       "16714            Winning Post 8 2016      PSV             2016    Simulation   \n",
       "\n",
       "       na_sales  eu_sales  jp_sales  other_sales  critic_score  user_score  \\\n",
       "0         41.36     28.96      3.77         8.45          76.0         8.0   \n",
       "1         29.08      3.58      6.81         0.77          71.0         6.9   \n",
       "2         15.68     12.76      3.79         3.29          82.0         8.3   \n",
       "3         15.61     10.93      3.28         2.95          80.0         8.0   \n",
       "4         11.27      8.89     10.22         1.00          71.0         6.9   \n",
       "...         ...       ...       ...          ...           ...         ...   \n",
       "16710      0.00      0.00      0.01         0.00          71.0         6.9   \n",
       "16711      0.00      0.01      0.00         0.00          71.0         6.9   \n",
       "16712      0.00      0.00      0.01         0.00          71.0         6.9   \n",
       "16713      0.01      0.00      0.00         0.00          71.0         6.9   \n",
       "16714      0.00      0.00      0.01         0.00          71.0         6.9   \n",
       "\n",
       "      rating  sales  \n",
       "0          E  74.09  \n",
       "1        NaN  39.47  \n",
       "2          E  32.23  \n",
       "3          E  29.82  \n",
       "4        NaN  30.38  \n",
       "...      ...    ...  \n",
       "16710    NaN   0.01  \n",
       "16711    NaN   0.01  \n",
       "16712    NaN   0.01  \n",
       "16713    NaN   0.01  \n",
       "16714    NaN   0.01  \n",
       "\n",
       "[16715 rows x 12 columns]"
      ]
     },
     "execution_count": 7,
     "metadata": {},
     "output_type": "execute_result"
    }
   ],
   "source": [
    "games['sales'] = games['na_sales'] + games['eu_sales'] + games['jp_sales']\n",
    "games"
   ]
  },
  {
   "cell_type": "markdown",
   "metadata": {},
   "source": [
    "## Проведение исследовательского анализа данных"
   ]
  },
  {
   "cell_type": "markdown",
   "metadata": {},
   "source": [
    "*Узнаем сколько игр выпускалось в разные годы*"
   ]
  },
  {
   "cell_type": "code",
   "execution_count": 8,
   "metadata": {
    "scrolled": true
   },
   "outputs": [
    {
     "data": {
      "text/html": [
       "<div>\n",
       "<style scoped>\n",
       "    .dataframe tbody tr th:only-of-type {\n",
       "        vertical-align: middle;\n",
       "    }\n",
       "\n",
       "    .dataframe tbody tr th {\n",
       "        vertical-align: top;\n",
       "    }\n",
       "\n",
       "    .dataframe thead th {\n",
       "        text-align: right;\n",
       "    }\n",
       "</style>\n",
       "<table border=\"1\" class=\"dataframe\">\n",
       "  <thead>\n",
       "    <tr style=\"text-align: right;\">\n",
       "      <th></th>\n",
       "      <th>year_of_release</th>\n",
       "      <th>name</th>\n",
       "    </tr>\n",
       "  </thead>\n",
       "  <tbody>\n",
       "    <tr>\n",
       "      <td>0</td>\n",
       "      <td>1980</td>\n",
       "      <td>9</td>\n",
       "    </tr>\n",
       "    <tr>\n",
       "      <td>1</td>\n",
       "      <td>1981</td>\n",
       "      <td>46</td>\n",
       "    </tr>\n",
       "    <tr>\n",
       "      <td>2</td>\n",
       "      <td>1982</td>\n",
       "      <td>36</td>\n",
       "    </tr>\n",
       "    <tr>\n",
       "      <td>3</td>\n",
       "      <td>1983</td>\n",
       "      <td>17</td>\n",
       "    </tr>\n",
       "    <tr>\n",
       "      <td>4</td>\n",
       "      <td>1984</td>\n",
       "      <td>14</td>\n",
       "    </tr>\n",
       "    <tr>\n",
       "      <td>5</td>\n",
       "      <td>1985</td>\n",
       "      <td>14</td>\n",
       "    </tr>\n",
       "    <tr>\n",
       "      <td>6</td>\n",
       "      <td>1986</td>\n",
       "      <td>21</td>\n",
       "    </tr>\n",
       "    <tr>\n",
       "      <td>7</td>\n",
       "      <td>1987</td>\n",
       "      <td>16</td>\n",
       "    </tr>\n",
       "    <tr>\n",
       "      <td>8</td>\n",
       "      <td>1988</td>\n",
       "      <td>15</td>\n",
       "    </tr>\n",
       "    <tr>\n",
       "      <td>9</td>\n",
       "      <td>1989</td>\n",
       "      <td>17</td>\n",
       "    </tr>\n",
       "    <tr>\n",
       "      <td>10</td>\n",
       "      <td>1990</td>\n",
       "      <td>16</td>\n",
       "    </tr>\n",
       "    <tr>\n",
       "      <td>11</td>\n",
       "      <td>1991</td>\n",
       "      <td>41</td>\n",
       "    </tr>\n",
       "    <tr>\n",
       "      <td>12</td>\n",
       "      <td>1992</td>\n",
       "      <td>43</td>\n",
       "    </tr>\n",
       "    <tr>\n",
       "      <td>13</td>\n",
       "      <td>1993</td>\n",
       "      <td>60</td>\n",
       "    </tr>\n",
       "    <tr>\n",
       "      <td>14</td>\n",
       "      <td>1994</td>\n",
       "      <td>121</td>\n",
       "    </tr>\n",
       "    <tr>\n",
       "      <td>15</td>\n",
       "      <td>1995</td>\n",
       "      <td>219</td>\n",
       "    </tr>\n",
       "    <tr>\n",
       "      <td>16</td>\n",
       "      <td>1996</td>\n",
       "      <td>263</td>\n",
       "    </tr>\n",
       "    <tr>\n",
       "      <td>17</td>\n",
       "      <td>1997</td>\n",
       "      <td>289</td>\n",
       "    </tr>\n",
       "    <tr>\n",
       "      <td>18</td>\n",
       "      <td>1998</td>\n",
       "      <td>379</td>\n",
       "    </tr>\n",
       "    <tr>\n",
       "      <td>19</td>\n",
       "      <td>1999</td>\n",
       "      <td>338</td>\n",
       "    </tr>\n",
       "    <tr>\n",
       "      <td>20</td>\n",
       "      <td>2000</td>\n",
       "      <td>350</td>\n",
       "    </tr>\n",
       "    <tr>\n",
       "      <td>21</td>\n",
       "      <td>2001</td>\n",
       "      <td>482</td>\n",
       "    </tr>\n",
       "    <tr>\n",
       "      <td>22</td>\n",
       "      <td>2002</td>\n",
       "      <td>829</td>\n",
       "    </tr>\n",
       "    <tr>\n",
       "      <td>23</td>\n",
       "      <td>2003</td>\n",
       "      <td>775</td>\n",
       "    </tr>\n",
       "    <tr>\n",
       "      <td>24</td>\n",
       "      <td>2004</td>\n",
       "      <td>762</td>\n",
       "    </tr>\n",
       "    <tr>\n",
       "      <td>25</td>\n",
       "      <td>2005</td>\n",
       "      <td>939</td>\n",
       "    </tr>\n",
       "    <tr>\n",
       "      <td>26</td>\n",
       "      <td>2006</td>\n",
       "      <td>1006</td>\n",
       "    </tr>\n",
       "    <tr>\n",
       "      <td>27</td>\n",
       "      <td>2007</td>\n",
       "      <td>1466</td>\n",
       "    </tr>\n",
       "    <tr>\n",
       "      <td>28</td>\n",
       "      <td>2008</td>\n",
       "      <td>1427</td>\n",
       "    </tr>\n",
       "    <tr>\n",
       "      <td>29</td>\n",
       "      <td>2009</td>\n",
       "      <td>1426</td>\n",
       "    </tr>\n",
       "    <tr>\n",
       "      <td>30</td>\n",
       "      <td>2010</td>\n",
       "      <td>1255</td>\n",
       "    </tr>\n",
       "    <tr>\n",
       "      <td>31</td>\n",
       "      <td>2011</td>\n",
       "      <td>1136</td>\n",
       "    </tr>\n",
       "    <tr>\n",
       "      <td>32</td>\n",
       "      <td>2012</td>\n",
       "      <td>653</td>\n",
       "    </tr>\n",
       "    <tr>\n",
       "      <td>33</td>\n",
       "      <td>2013</td>\n",
       "      <td>544</td>\n",
       "    </tr>\n",
       "    <tr>\n",
       "      <td>34</td>\n",
       "      <td>2014</td>\n",
       "      <td>581</td>\n",
       "    </tr>\n",
       "    <tr>\n",
       "      <td>35</td>\n",
       "      <td>2015</td>\n",
       "      <td>606</td>\n",
       "    </tr>\n",
       "    <tr>\n",
       "      <td>36</td>\n",
       "      <td>2016</td>\n",
       "      <td>502</td>\n",
       "    </tr>\n",
       "  </tbody>\n",
       "</table>\n",
       "</div>"
      ],
      "text/plain": [
       "    year_of_release  name\n",
       "0              1980     9\n",
       "1              1981    46\n",
       "2              1982    36\n",
       "3              1983    17\n",
       "4              1984    14\n",
       "5              1985    14\n",
       "6              1986    21\n",
       "7              1987    16\n",
       "8              1988    15\n",
       "9              1989    17\n",
       "10             1990    16\n",
       "11             1991    41\n",
       "12             1992    43\n",
       "13             1993    60\n",
       "14             1994   121\n",
       "15             1995   219\n",
       "16             1996   263\n",
       "17             1997   289\n",
       "18             1998   379\n",
       "19             1999   338\n",
       "20             2000   350\n",
       "21             2001   482\n",
       "22             2002   829\n",
       "23             2003   775\n",
       "24             2004   762\n",
       "25             2005   939\n",
       "26             2006  1006\n",
       "27             2007  1466\n",
       "28             2008  1427\n",
       "29             2009  1426\n",
       "30             2010  1255\n",
       "31             2011  1136\n",
       "32             2012   653\n",
       "33             2013   544\n",
       "34             2014   581\n",
       "35             2015   606\n",
       "36             2016   502"
      ]
     },
     "execution_count": 8,
     "metadata": {},
     "output_type": "execute_result"
    }
   ],
   "source": [
    "games.groupby('year_of_release')['name'].count().reset_index()"
   ]
  },
  {
   "cell_type": "markdown",
   "metadata": {},
   "source": [
    "*Посмотрим, как менялись продажи по платформам*"
   ]
  },
  {
   "cell_type": "code",
   "execution_count": 9,
   "metadata": {
    "scrolled": true
   },
   "outputs": [
    {
     "data": {
      "text/html": [
       "<div>\n",
       "<style scoped>\n",
       "    .dataframe tbody tr th:only-of-type {\n",
       "        vertical-align: middle;\n",
       "    }\n",
       "\n",
       "    .dataframe tbody tr th {\n",
       "        vertical-align: top;\n",
       "    }\n",
       "\n",
       "    .dataframe thead th {\n",
       "        text-align: right;\n",
       "    }\n",
       "</style>\n",
       "<table border=\"1\" class=\"dataframe\">\n",
       "  <thead>\n",
       "    <tr style=\"text-align: right;\">\n",
       "      <th></th>\n",
       "      <th>platform</th>\n",
       "      <th>sales</th>\n",
       "    </tr>\n",
       "  </thead>\n",
       "  <tbody>\n",
       "    <tr>\n",
       "      <td>16</td>\n",
       "      <td>PS2</td>\n",
       "      <td>1062.33</td>\n",
       "    </tr>\n",
       "    <tr>\n",
       "      <td>28</td>\n",
       "      <td>X360</td>\n",
       "      <td>885.66</td>\n",
       "    </tr>\n",
       "    <tr>\n",
       "      <td>26</td>\n",
       "      <td>Wii</td>\n",
       "      <td>828.44</td>\n",
       "    </tr>\n",
       "    <tr>\n",
       "      <td>17</td>\n",
       "      <td>PS3</td>\n",
       "      <td>803.97</td>\n",
       "    </tr>\n",
       "    <tr>\n",
       "      <td>4</td>\n",
       "      <td>DS</td>\n",
       "      <td>746.86</td>\n",
       "    </tr>\n",
       "    <tr>\n",
       "      <td>15</td>\n",
       "      <td>PS</td>\n",
       "      <td>689.95</td>\n",
       "    </tr>\n",
       "    <tr>\n",
       "      <td>6</td>\n",
       "      <td>GBA</td>\n",
       "      <td>310.12</td>\n",
       "    </tr>\n",
       "    <tr>\n",
       "      <td>18</td>\n",
       "      <td>PS4</td>\n",
       "      <td>265.79</td>\n",
       "    </tr>\n",
       "    <tr>\n",
       "      <td>19</td>\n",
       "      <td>PSP</td>\n",
       "      <td>252.63</td>\n",
       "    </tr>\n",
       "    <tr>\n",
       "      <td>29</td>\n",
       "      <td>XB</td>\n",
       "      <td>249.02</td>\n",
       "    </tr>\n",
       "    <tr>\n",
       "      <td>5</td>\n",
       "      <td>GB</td>\n",
       "      <td>247.26</td>\n",
       "    </tr>\n",
       "    <tr>\n",
       "      <td>11</td>\n",
       "      <td>NES</td>\n",
       "      <td>245.74</td>\n",
       "    </tr>\n",
       "    <tr>\n",
       "      <td>2</td>\n",
       "      <td>3DS</td>\n",
       "      <td>245.64</td>\n",
       "    </tr>\n",
       "    <tr>\n",
       "      <td>13</td>\n",
       "      <td>PC</td>\n",
       "      <td>237.14</td>\n",
       "    </tr>\n",
       "    <tr>\n",
       "      <td>10</td>\n",
       "      <td>N64</td>\n",
       "      <td>214.30</td>\n",
       "    </tr>\n",
       "    <tr>\n",
       "      <td>23</td>\n",
       "      <td>SNES</td>\n",
       "      <td>196.82</td>\n",
       "    </tr>\n",
       "    <tr>\n",
       "      <td>7</td>\n",
       "      <td>GC</td>\n",
       "      <td>193.75</td>\n",
       "    </tr>\n",
       "    <tr>\n",
       "      <td>30</td>\n",
       "      <td>XOne</td>\n",
       "      <td>145.05</td>\n",
       "    </tr>\n",
       "    <tr>\n",
       "      <td>0</td>\n",
       "      <td>2600</td>\n",
       "      <td>96.07</td>\n",
       "    </tr>\n",
       "    <tr>\n",
       "      <td>27</td>\n",
       "      <td>WiiU</td>\n",
       "      <td>76.24</td>\n",
       "    </tr>\n",
       "    <tr>\n",
       "      <td>20</td>\n",
       "      <td>PSV</td>\n",
       "      <td>47.61</td>\n",
       "    </tr>\n",
       "    <tr>\n",
       "      <td>21</td>\n",
       "      <td>SAT</td>\n",
       "      <td>33.52</td>\n",
       "    </tr>\n",
       "    <tr>\n",
       "      <td>8</td>\n",
       "      <td>GEN</td>\n",
       "      <td>29.80</td>\n",
       "    </tr>\n",
       "    <tr>\n",
       "      <td>3</td>\n",
       "      <td>DC</td>\n",
       "      <td>15.68</td>\n",
       "    </tr>\n",
       "    <tr>\n",
       "      <td>22</td>\n",
       "      <td>SCD</td>\n",
       "      <td>1.81</td>\n",
       "    </tr>\n",
       "    <tr>\n",
       "      <td>12</td>\n",
       "      <td>NG</td>\n",
       "      <td>1.44</td>\n",
       "    </tr>\n",
       "    <tr>\n",
       "      <td>25</td>\n",
       "      <td>WS</td>\n",
       "      <td>1.42</td>\n",
       "    </tr>\n",
       "    <tr>\n",
       "      <td>24</td>\n",
       "      <td>TG16</td>\n",
       "      <td>0.16</td>\n",
       "    </tr>\n",
       "    <tr>\n",
       "      <td>1</td>\n",
       "      <td>3DO</td>\n",
       "      <td>0.10</td>\n",
       "    </tr>\n",
       "    <tr>\n",
       "      <td>9</td>\n",
       "      <td>GG</td>\n",
       "      <td>0.04</td>\n",
       "    </tr>\n",
       "    <tr>\n",
       "      <td>14</td>\n",
       "      <td>PCFX</td>\n",
       "      <td>0.03</td>\n",
       "    </tr>\n",
       "  </tbody>\n",
       "</table>\n",
       "</div>"
      ],
      "text/plain": [
       "   platform    sales\n",
       "16      PS2  1062.33\n",
       "28     X360   885.66\n",
       "26      Wii   828.44\n",
       "17      PS3   803.97\n",
       "4        DS   746.86\n",
       "15       PS   689.95\n",
       "6       GBA   310.12\n",
       "18      PS4   265.79\n",
       "19      PSP   252.63\n",
       "29       XB   249.02\n",
       "5        GB   247.26\n",
       "11      NES   245.74\n",
       "2       3DS   245.64\n",
       "13       PC   237.14\n",
       "10      N64   214.30\n",
       "23     SNES   196.82\n",
       "7        GC   193.75\n",
       "30     XOne   145.05\n",
       "0      2600    96.07\n",
       "27     WiiU    76.24\n",
       "20      PSV    47.61\n",
       "21      SAT    33.52\n",
       "8       GEN    29.80\n",
       "3        DC    15.68\n",
       "22      SCD     1.81\n",
       "12       NG     1.44\n",
       "25       WS     1.42\n",
       "24     TG16     0.16\n",
       "1       3DO     0.10\n",
       "9        GG     0.04\n",
       "14     PCFX     0.03"
      ]
     },
     "execution_count": 9,
     "metadata": {},
     "output_type": "execute_result"
    }
   ],
   "source": [
    "top_platform = games.pivot_table(index = 'platform', values = 'sales', aggfunc = 'sum').reset_index()\n",
    "top_platform.sort_values('sales', ascending=False)"
   ]
  },
  {
   "cell_type": "code",
   "execution_count": 10,
   "metadata": {},
   "outputs": [
    {
     "data": {
      "image/png": "[encoded data removed]",
      "text/plain": [
       "<Figure size 432x288 with 1 Axes>"
      ]
     },
     "metadata": {
      "needs_background": "light"
     },
     "output_type": "display_data"
    },
    {
     "data": {
      "image/png": "[encoded data removed]",
      "text/plain": [
       "<Figure size 432x288 with 1 Axes>"
      ]
     },
     "metadata": {
      "needs_background": "light"
     },
     "output_type": "display_data"
    },
    {
     "data": {
      "image/png": "[encoded data removed]",
      "text/plain": [
       "<Figure size 432x288 with 1 Axes>"
      ]
     },
     "metadata": {
      "needs_background": "light"
     },
     "output_type": "display_data"
    },
    {
     "data": {
      "image/png": "[encoded data removed]",
      "text/plain": [
       "<Figure size 432x288 with 1 Axes>"
      ]
     },
     "metadata": {
      "needs_background": "light"
     },
     "output_type": "display_data"
    },
    {
     "data": {
      "image/png": "[encoded data removed]",
      "text/plain": [
       "<Figure size 432x288 with 1 Axes>"
      ]
     },
     "metadata": {
      "needs_background": "light"
     },
     "output_type": "display_data"
    },
    {
     "data": {
      "image/png": "[encoded data removed]",
      "text/plain": [
       "<Figure size 432x288 with 1 Axes>"
      ]
     },
     "metadata": {
      "needs_background": "light"
     },
     "output_type": "display_data"
    },
    {
     "data": {
      "image/png": "[encoded data removed]",
      "text/plain": [
       "<Figure size 432x288 with 1 Axes>"
      ]
     },
     "metadata": {
      "needs_background": "light"
     },
     "output_type": "display_data"
    },
    {
     "data": {
      "image/png": "[encoded data removed]",
      "text/plain": [
       "<Figure size 432x288 with 1 Axes>"
      ]
     },
     "metadata": {
      "needs_background": "light"
     },
     "output_type": "display_data"
    },
    {
     "data": {
      "image/png": "[encoded data removed]",
      "text/plain": [
       "<Figure size 432x288 with 1 Axes>"
      ]
     },
     "metadata": {
      "needs_background": "light"
     },
     "output_type": "display_data"
    },
    {
     "data": {
      "image/png": "[encoded data removed]",
      "text/plain": [
       "<Figure size 432x288 with 1 Axes>"
      ]
     },
     "metadata": {
      "needs_background": "light"
     },
     "output_type": "display_data"
    },
    {
     "data": {
      "image/png": "[encoded data removed]",
      "text/plain": [
       "<Figure size 432x288 with 1 Axes>"
      ]
     },
     "metadata": {
      "needs_background": "light"
     },
     "output_type": "display_data"
    },
    {
     "data": {
      "image/png": "[encoded data removed]",
      "text/plain": [
       "<Figure size 432x288 with 1 Axes>"
      ]
     },
     "metadata": {
      "needs_background": "light"
     },
     "output_type": "display_data"
    },
    {
     "data": {
      "image/png": "[encoded data removed]",
      "text/plain": [
       "<Figure size 432x288 with 1 Axes>"
      ]
     },
     "metadata": {
      "needs_background": "light"
     },
     "output_type": "display_data"
    },
    {
     "data": {
      "image/png": "[encoded data removed]",
      "text/plain": [
       "<Figure size 432x288 with 1 Axes>"
      ]
     },
     "metadata": {
      "needs_background": "light"
     },
     "output_type": "display_data"
    },
    {
     "data": {
      "image/png": "[encoded data removed]",
      "text/plain": [
       "<Figure size 432x288 with 1 Axes>"
      ]
     },
     "metadata": {
      "needs_background": "light"
     },
     "output_type": "display_data"
    },
    {
     "data": {
      "image/png": "[encoded data removed]",
      "text/plain": [
       "<Figure size 432x288 with 1 Axes>"
      ]
     },
     "metadata": {
      "needs_background": "light"
     },
     "output_type": "display_data"
    },
    {
     "data": {
      "image/png": "[encoded data removed]",
      "text/plain": [
       "<Figure size 432x288 with 1 Axes>"
      ]
     },
     "metadata": {
      "needs_background": "light"
     },
     "output_type": "display_data"
    },
    {
     "data": {
      "image/png": "[encoded data removed]",
      "text/plain": [
       "<Figure size 432x288 with 1 Axes>"
      ]
     },
     "metadata": {
      "needs_background": "light"
     },
     "output_type": "display_data"
    }
   ],
   "source": [
    "data = list(top_platform.query('sales > 100').sort_values(by ='sales', ascending = False)['platform'])\n",
    "platform_year_sales = games.pivot_table(index = ['platform','year_of_release'], values = 'sales', aggfunc = 'sum').reset_index()\n",
    "for name, group_data in platform_year_sales.groupby('platform'):\n",
    "    if name in data:\n",
    "        group_data.plot(x='year_of_release', y='sales', kind = 'bar', title = name, rot = 25)\n",
    "        plt.show()"
   ]
  },
  {
   "cell_type": "markdown",
   "metadata": {},
   "source": [
    "*Расцвет игропрома пришелся на 2006-07 года, высокий доход консоли приносят 4 года из срока жизни, а новое поколение консолей выпускают в среднем каждые 7 лет. PC гейминг всегда есть и будет. Также отметим, что портативные консоли теряют рынок, кроме Nintendo3DS. Из этого сделаем вывод, что актуальным периодом будем считать последние два года*"
   ]
  },
  {
   "cell_type": "markdown",
   "metadata": {},
   "source": [
    "*Узнаем какие платформы лидируют по продажам*"
   ]
  },
  {
   "cell_type": "code",
   "execution_count": 11,
   "metadata": {},
   "outputs": [
    {
     "data": {
      "text/html": [
       "<div>\n",
       "<style scoped>\n",
       "    .dataframe tbody tr th:only-of-type {\n",
       "        vertical-align: middle;\n",
       "    }\n",
       "\n",
       "    .dataframe tbody tr th {\n",
       "        vertical-align: top;\n",
       "    }\n",
       "\n",
       "    .dataframe thead th {\n",
       "        text-align: right;\n",
       "    }\n",
       "</style>\n",
       "<table border=\"1\" class=\"dataframe\">\n",
       "  <thead>\n",
       "    <tr style=\"text-align: right;\">\n",
       "      <th></th>\n",
       "      <th>name</th>\n",
       "      <th>platform</th>\n",
       "      <th>year_of_release</th>\n",
       "      <th>genre</th>\n",
       "      <th>na_sales</th>\n",
       "      <th>eu_sales</th>\n",
       "      <th>jp_sales</th>\n",
       "      <th>other_sales</th>\n",
       "      <th>critic_score</th>\n",
       "      <th>user_score</th>\n",
       "      <th>rating</th>\n",
       "      <th>sales</th>\n",
       "    </tr>\n",
       "  </thead>\n",
       "  <tbody>\n",
       "    <tr>\n",
       "      <td>31</td>\n",
       "      <td>Call of Duty: Black Ops 3</td>\n",
       "      <td>PS4</td>\n",
       "      <td>2015</td>\n",
       "      <td>Shooter</td>\n",
       "      <td>6.03</td>\n",
       "      <td>5.86</td>\n",
       "      <td>0.36</td>\n",
       "      <td>2.38</td>\n",
       "      <td>71.0</td>\n",
       "      <td>6.9</td>\n",
       "      <td>NaN</td>\n",
       "      <td>12.25</td>\n",
       "    </tr>\n",
       "    <tr>\n",
       "      <td>77</td>\n",
       "      <td>FIFA 16</td>\n",
       "      <td>PS4</td>\n",
       "      <td>2015</td>\n",
       "      <td>Sports</td>\n",
       "      <td>1.12</td>\n",
       "      <td>6.12</td>\n",
       "      <td>0.06</td>\n",
       "      <td>1.28</td>\n",
       "      <td>82.0</td>\n",
       "      <td>4.3</td>\n",
       "      <td>E</td>\n",
       "      <td>7.30</td>\n",
       "    </tr>\n",
       "    <tr>\n",
       "      <td>87</td>\n",
       "      <td>Star Wars Battlefront (2015)</td>\n",
       "      <td>PS4</td>\n",
       "      <td>2015</td>\n",
       "      <td>Shooter</td>\n",
       "      <td>2.99</td>\n",
       "      <td>3.49</td>\n",
       "      <td>0.22</td>\n",
       "      <td>1.28</td>\n",
       "      <td>71.0</td>\n",
       "      <td>6.9</td>\n",
       "      <td>NaN</td>\n",
       "      <td>6.70</td>\n",
       "    </tr>\n",
       "    <tr>\n",
       "      <td>94</td>\n",
       "      <td>FIFA 17</td>\n",
       "      <td>PS4</td>\n",
       "      <td>2016</td>\n",
       "      <td>Sports</td>\n",
       "      <td>0.66</td>\n",
       "      <td>5.75</td>\n",
       "      <td>0.08</td>\n",
       "      <td>1.11</td>\n",
       "      <td>85.0</td>\n",
       "      <td>5.0</td>\n",
       "      <td>E</td>\n",
       "      <td>6.49</td>\n",
       "    </tr>\n",
       "    <tr>\n",
       "      <td>99</td>\n",
       "      <td>Call of Duty: Black Ops 3</td>\n",
       "      <td>XOne</td>\n",
       "      <td>2015</td>\n",
       "      <td>Shooter</td>\n",
       "      <td>4.59</td>\n",
       "      <td>2.11</td>\n",
       "      <td>0.01</td>\n",
       "      <td>0.68</td>\n",
       "      <td>71.0</td>\n",
       "      <td>6.9</td>\n",
       "      <td>NaN</td>\n",
       "      <td>6.71</td>\n",
       "    </tr>\n",
       "    <tr>\n",
       "      <td>...</td>\n",
       "      <td>...</td>\n",
       "      <td>...</td>\n",
       "      <td>...</td>\n",
       "      <td>...</td>\n",
       "      <td>...</td>\n",
       "      <td>...</td>\n",
       "      <td>...</td>\n",
       "      <td>...</td>\n",
       "      <td>...</td>\n",
       "      <td>...</td>\n",
       "      <td>...</td>\n",
       "      <td>...</td>\n",
       "    </tr>\n",
       "    <tr>\n",
       "      <td>16699</td>\n",
       "      <td>The Longest 5 Minutes</td>\n",
       "      <td>PSV</td>\n",
       "      <td>2016</td>\n",
       "      <td>Action</td>\n",
       "      <td>0.00</td>\n",
       "      <td>0.00</td>\n",
       "      <td>0.01</td>\n",
       "      <td>0.00</td>\n",
       "      <td>71.0</td>\n",
       "      <td>6.9</td>\n",
       "      <td>NaN</td>\n",
       "      <td>0.01</td>\n",
       "    </tr>\n",
       "    <tr>\n",
       "      <td>16703</td>\n",
       "      <td>Strawberry Nauts</td>\n",
       "      <td>PSV</td>\n",
       "      <td>2016</td>\n",
       "      <td>Adventure</td>\n",
       "      <td>0.00</td>\n",
       "      <td>0.00</td>\n",
       "      <td>0.01</td>\n",
       "      <td>0.00</td>\n",
       "      <td>71.0</td>\n",
       "      <td>6.9</td>\n",
       "      <td>NaN</td>\n",
       "      <td>0.01</td>\n",
       "    </tr>\n",
       "    <tr>\n",
       "      <td>16710</td>\n",
       "      <td>Samurai Warriors: Sanada Maru</td>\n",
       "      <td>PS3</td>\n",
       "      <td>2016</td>\n",
       "      <td>Action</td>\n",
       "      <td>0.00</td>\n",
       "      <td>0.00</td>\n",
       "      <td>0.01</td>\n",
       "      <td>0.00</td>\n",
       "      <td>71.0</td>\n",
       "      <td>6.9</td>\n",
       "      <td>NaN</td>\n",
       "      <td>0.01</td>\n",
       "    </tr>\n",
       "    <tr>\n",
       "      <td>16712</td>\n",
       "      <td>Haitaka no Psychedelica</td>\n",
       "      <td>PSV</td>\n",
       "      <td>2016</td>\n",
       "      <td>Adventure</td>\n",
       "      <td>0.00</td>\n",
       "      <td>0.00</td>\n",
       "      <td>0.01</td>\n",
       "      <td>0.00</td>\n",
       "      <td>71.0</td>\n",
       "      <td>6.9</td>\n",
       "      <td>NaN</td>\n",
       "      <td>0.01</td>\n",
       "    </tr>\n",
       "    <tr>\n",
       "      <td>16714</td>\n",
       "      <td>Winning Post 8 2016</td>\n",
       "      <td>PSV</td>\n",
       "      <td>2016</td>\n",
       "      <td>Simulation</td>\n",
       "      <td>0.00</td>\n",
       "      <td>0.00</td>\n",
       "      <td>0.01</td>\n",
       "      <td>0.00</td>\n",
       "      <td>71.0</td>\n",
       "      <td>6.9</td>\n",
       "      <td>NaN</td>\n",
       "      <td>0.01</td>\n",
       "    </tr>\n",
       "  </tbody>\n",
       "</table>\n",
       "<p>1108 rows × 12 columns</p>\n",
       "</div>"
      ],
      "text/plain": [
       "                                name platform  year_of_release       genre  \\\n",
       "31         Call of Duty: Black Ops 3      PS4             2015     Shooter   \n",
       "77                           FIFA 16      PS4             2015      Sports   \n",
       "87      Star Wars Battlefront (2015)      PS4             2015     Shooter   \n",
       "94                           FIFA 17      PS4             2016      Sports   \n",
       "99         Call of Duty: Black Ops 3     XOne             2015     Shooter   \n",
       "...                              ...      ...              ...         ...   \n",
       "16699          The Longest 5 Minutes      PSV             2016      Action   \n",
       "16703               Strawberry Nauts      PSV             2016   Adventure   \n",
       "16710  Samurai Warriors: Sanada Maru      PS3             2016      Action   \n",
       "16712        Haitaka no Psychedelica      PSV             2016   Adventure   \n",
       "16714            Winning Post 8 2016      PSV             2016  Simulation   \n",
       "\n",
       "       na_sales  eu_sales  jp_sales  other_sales  critic_score  user_score  \\\n",
       "31         6.03      5.86      0.36         2.38          71.0         6.9   \n",
       "77         1.12      6.12      0.06         1.28          82.0         4.3   \n",
       "87         2.99      3.49      0.22         1.28          71.0         6.9   \n",
       "94         0.66      5.75      0.08         1.11          85.0         5.0   \n",
       "99         4.59      2.11      0.01         0.68          71.0         6.9   \n",
       "...         ...       ...       ...          ...           ...         ...   \n",
       "16699      0.00      0.00      0.01         0.00          71.0         6.9   \n",
       "16703      0.00      0.00      0.01         0.00          71.0         6.9   \n",
       "16710      0.00      0.00      0.01         0.00          71.0         6.9   \n",
       "16712      0.00      0.00      0.01         0.00          71.0         6.9   \n",
       "16714      0.00      0.00      0.01         0.00          71.0         6.9   \n",
       "\n",
       "      rating  sales  \n",
       "31       NaN  12.25  \n",
       "77         E   7.30  \n",
       "87       NaN   6.70  \n",
       "94         E   6.49  \n",
       "99       NaN   6.71  \n",
       "...      ...    ...  \n",
       "16699    NaN   0.01  \n",
       "16703    NaN   0.01  \n",
       "16710    NaN   0.01  \n",
       "16712    NaN   0.01  \n",
       "16714    NaN   0.01  \n",
       "\n",
       "[1108 rows x 12 columns]"
      ]
     },
     "execution_count": 11,
     "metadata": {},
     "output_type": "execute_result"
    }
   ],
   "source": [
    "df = games.query('year_of_release >= 2015')\n",
    "df"
   ]
  },
  {
   "cell_type": "code",
   "execution_count": 12,
   "metadata": {
    "scrolled": true
   },
   "outputs": [
    {
     "data": {
      "text/html": [
       "<div>\n",
       "<style scoped>\n",
       "    .dataframe tbody tr th:only-of-type {\n",
       "        vertical-align: middle;\n",
       "    }\n",
       "\n",
       "    .dataframe tbody tr th {\n",
       "        vertical-align: top;\n",
       "    }\n",
       "\n",
       "    .dataframe thead th {\n",
       "        text-align: right;\n",
       "    }\n",
       "</style>\n",
       "<table border=\"1\" class=\"dataframe\">\n",
       "  <thead>\n",
       "    <tr style=\"text-align: right;\">\n",
       "      <th></th>\n",
       "      <th>platform</th>\n",
       "      <th>year_of_release</th>\n",
       "      <th>sales</th>\n",
       "    </tr>\n",
       "  </thead>\n",
       "  <tbody>\n",
       "    <tr>\n",
       "      <td>0</td>\n",
       "      <td>3DS</td>\n",
       "      <td>2015</td>\n",
       "      <td>26.75</td>\n",
       "    </tr>\n",
       "    <tr>\n",
       "      <td>1</td>\n",
       "      <td>3DS</td>\n",
       "      <td>2016</td>\n",
       "      <td>14.50</td>\n",
       "    </tr>\n",
       "    <tr>\n",
       "      <td>2</td>\n",
       "      <td>PC</td>\n",
       "      <td>2015</td>\n",
       "      <td>7.93</td>\n",
       "    </tr>\n",
       "    <tr>\n",
       "      <td>3</td>\n",
       "      <td>PC</td>\n",
       "      <td>2016</td>\n",
       "      <td>4.89</td>\n",
       "    </tr>\n",
       "    <tr>\n",
       "      <td>4</td>\n",
       "      <td>PS3</td>\n",
       "      <td>2015</td>\n",
       "      <td>14.70</td>\n",
       "    </tr>\n",
       "    <tr>\n",
       "      <td>5</td>\n",
       "      <td>PS3</td>\n",
       "      <td>2016</td>\n",
       "      <td>3.23</td>\n",
       "    </tr>\n",
       "    <tr>\n",
       "      <td>6</td>\n",
       "      <td>PS4</td>\n",
       "      <td>2015</td>\n",
       "      <td>100.44</td>\n",
       "    </tr>\n",
       "    <tr>\n",
       "      <td>7</td>\n",
       "      <td>PS4</td>\n",
       "      <td>2016</td>\n",
       "      <td>59.01</td>\n",
       "    </tr>\n",
       "    <tr>\n",
       "      <td>8</td>\n",
       "      <td>PSP</td>\n",
       "      <td>2015</td>\n",
       "      <td>0.12</td>\n",
       "    </tr>\n",
       "    <tr>\n",
       "      <td>9</td>\n",
       "      <td>PSV</td>\n",
       "      <td>2015</td>\n",
       "      <td>5.93</td>\n",
       "    </tr>\n",
       "    <tr>\n",
       "      <td>10</td>\n",
       "      <td>PSV</td>\n",
       "      <td>2016</td>\n",
       "      <td>4.10</td>\n",
       "    </tr>\n",
       "    <tr>\n",
       "      <td>11</td>\n",
       "      <td>Wii</td>\n",
       "      <td>2015</td>\n",
       "      <td>1.05</td>\n",
       "    </tr>\n",
       "    <tr>\n",
       "      <td>12</td>\n",
       "      <td>Wii</td>\n",
       "      <td>2016</td>\n",
       "      <td>0.17</td>\n",
       "    </tr>\n",
       "    <tr>\n",
       "      <td>13</td>\n",
       "      <td>WiiU</td>\n",
       "      <td>2015</td>\n",
       "      <td>15.22</td>\n",
       "    </tr>\n",
       "    <tr>\n",
       "      <td>14</td>\n",
       "      <td>WiiU</td>\n",
       "      <td>2016</td>\n",
       "      <td>4.25</td>\n",
       "    </tr>\n",
       "    <tr>\n",
       "      <td>15</td>\n",
       "      <td>X360</td>\n",
       "      <td>2015</td>\n",
       "      <td>10.86</td>\n",
       "    </tr>\n",
       "    <tr>\n",
       "      <td>16</td>\n",
       "      <td>X360</td>\n",
       "      <td>2016</td>\n",
       "      <td>1.40</td>\n",
       "    </tr>\n",
       "    <tr>\n",
       "      <td>17</td>\n",
       "      <td>XOne</td>\n",
       "      <td>2015</td>\n",
       "      <td>54.67</td>\n",
       "    </tr>\n",
       "    <tr>\n",
       "      <td>18</td>\n",
       "      <td>XOne</td>\n",
       "      <td>2016</td>\n",
       "      <td>23.91</td>\n",
       "    </tr>\n",
       "  </tbody>\n",
       "</table>\n",
       "</div>"
      ],
      "text/plain": [
       "   platform  year_of_release   sales\n",
       "0       3DS             2015   26.75\n",
       "1       3DS             2016   14.50\n",
       "2        PC             2015    7.93\n",
       "3        PC             2016    4.89\n",
       "4       PS3             2015   14.70\n",
       "5       PS3             2016    3.23\n",
       "6       PS4             2015  100.44\n",
       "7       PS4             2016   59.01\n",
       "8       PSP             2015    0.12\n",
       "9       PSV             2015    5.93\n",
       "10      PSV             2016    4.10\n",
       "11      Wii             2015    1.05\n",
       "12      Wii             2016    0.17\n",
       "13     WiiU             2015   15.22\n",
       "14     WiiU             2016    4.25\n",
       "15     X360             2015   10.86\n",
       "16     X360             2016    1.40\n",
       "17     XOne             2015   54.67\n",
       "18     XOne             2016   23.91"
      ]
     },
     "execution_count": 12,
     "metadata": {},
     "output_type": "execute_result"
    }
   ],
   "source": [
    "df.pivot_table(index = ['platform','year_of_release'], values = 'sales', aggfunc = 'sum').reset_index()"
   ]
  },
  {
   "cell_type": "markdown",
   "metadata": {},
   "source": [
    "*Безоговорочным лидером за последний год является PS4. Следом идет XOne,3DS. Предыдущие поколение консолей теряют продажи большими темпами. PS4, XOne и 3DS - потенциально прибыльные платформы*"
   ]
  },
  {
   "cell_type": "code",
   "execution_count": 13,
   "metadata": {
    "scrolled": true
   },
   "outputs": [
    {
     "data": {
      "image/png": "[encoded data removed]",
      "text/plain": [
       "<Figure size 720x720 with 1 Axes>"
      ]
     },
     "metadata": {
      "needs_background": "light"
     },
     "output_type": "display_data"
    }
   ],
   "source": [
    "PS4 = df.loc[df.platform == 'PS4']['sales']\n",
    "XOne = df.loc[df.platform == 'XOne']['sales']\n",
    "N3DS = df.loc[df.platform == '3DS']['sales']\n",
    "\n",
    "labels = [' PS4', 'XOne', 'N3DS']\n",
    "plt.figure(figsize=(10,10))\n",
    "plt.boxplot([PS4,XOne,N3DS], labels=labels)\n",
    "plt.show()"
   ]
  },
  {
   "cell_type": "markdown",
   "metadata": {},
   "source": [
    "*Медианное значение каждой платформы смещено к нижниму квартилю и расположено примерно на сто тысяч проданных копий. Верхние усы ящика на отметках 800 тыс.,1300тыс., 500тыс. Показатели выше считаются выбросами.*"
   ]
  },
  {
   "cell_type": "markdown",
   "metadata": {},
   "source": [
    "*Посмотрим, как влияют на продажи внутри одной популярной платформы отзывы пользователей и критиков. Посчитаем корреляцию между отзывами и продажами*"
   ]
  },
  {
   "cell_type": "code",
   "execution_count": 14,
   "metadata": {},
   "outputs": [],
   "source": [
    "PS4_sales = df.loc[df.platform == 'PS4']['sales']\n",
    "PS4_user_score = df.loc[df.platform == 'PS4']['user_score']\n",
    "PS4_critic_score = df.loc[df.platform == 'PS4']['critic_score']\n",
    "XOne_sales = df.loc[df.platform == 'XOne']['sales']\n",
    "XOne_user_score = df.loc[df.platform == 'XOne']['user_score']\n",
    "XOne_critic_score = df.loc[df.platform == 'XOne']['critic_score']\n",
    "N3DS_sales = df.loc[df.platform == '3DS']['sales']\n",
    "N3DS_user_score = df.loc[df.platform == '3DS']['user_score']\n",
    "N3DS_critic_score = df.loc[df.platform == '3DS']['critic_score']"
   ]
  },
  {
   "cell_type": "code",
   "execution_count": 15,
   "metadata": {},
   "outputs": [
    {
     "data": {
      "image/png": "[encoded data removed]",
      "text/plain": [
       "<Figure size 432x288 with 1 Axes>"
      ]
     },
     "metadata": {
      "needs_background": "light"
     },
     "output_type": "display_data"
    }
   ],
   "source": [
    "fig, ax = plt.subplots()\n",
    "ax.scatter(PS4_sales, PS4_user_score, alpha=0.5)\n",
    "\n",
    "ax.set_xlabel('Продажи PS4', fontsize=15)\n",
    "ax.set_ylabel('Отзывы пользователей', fontsize=15)\n",
    "ax.set_title('Продажи относительно отзывов пользователей')\n",
    "\n",
    "ax.grid(True)\n",
    "fig.tight_layout()\n",
    "\n",
    "plt.show()"
   ]
  },
  {
   "cell_type": "code",
   "execution_count": 16,
   "metadata": {},
   "outputs": [
    {
     "data": {
      "image/png": "[encoded data removed]",
      "text/plain": [
       "<Figure size 432x288 with 1 Axes>"
      ]
     },
     "metadata": {
      "needs_background": "light"
     },
     "output_type": "display_data"
    }
   ],
   "source": [
    "fig, ax = plt.subplots()\n",
    "ax.scatter(PS4_sales, PS4_critic_score, alpha=0.5)\n",
    "\n",
    "ax.set_xlabel('Продажи PS4', fontsize=15)\n",
    "ax.set_ylabel('Отзывы критиков', fontsize=15)\n",
    "ax.set_title('Продажи относительно отзывов критиков')\n",
    "\n",
    "ax.grid(True)\n",
    "fig.tight_layout()\n",
    "\n",
    "plt.show()"
   ]
  },
  {
   "cell_type": "code",
   "execution_count": 17,
   "metadata": {},
   "outputs": [
    {
     "data": {
      "image/png": "[encoded data removed]",
      "text/plain": [
       "<Figure size 432x288 with 1 Axes>"
      ]
     },
     "metadata": {
      "needs_background": "light"
     },
     "output_type": "display_data"
    }
   ],
   "source": [
    "fig, ax = plt.subplots()\n",
    "ax.scatter(XOne_sales, XOne_user_score, alpha=0.5)\n",
    "\n",
    "ax.set_xlabel('Продажи XOne', fontsize=15)\n",
    "ax.set_ylabel('Отзывы пользователей', fontsize=15)\n",
    "ax.set_title('Продажи относительно отзывов пользователей')\n",
    "\n",
    "ax.grid(True)\n",
    "fig.tight_layout()\n",
    "\n",
    "plt.show()"
   ]
  },
  {
   "cell_type": "code",
   "execution_count": 18,
   "metadata": {},
   "outputs": [
    {
     "data": {
      "image/png": "[encoded data removed]",
      "text/plain": [
       "<Figure size 432x288 with 1 Axes>"
      ]
     },
     "metadata": {
      "needs_background": "light"
     },
     "output_type": "display_data"
    }
   ],
   "source": [
    "fig, ax = plt.subplots()\n",
    "ax.scatter(XOne_sales, XOne_critic_score, alpha=0.5)\n",
    "\n",
    "ax.set_xlabel('Продажи XOne', fontsize=15)\n",
    "ax.set_ylabel('Отзывы критиков', fontsize=15)\n",
    "ax.set_title('Продажи относительно отзывов критиков')\n",
    "\n",
    "ax.grid(True)\n",
    "fig.tight_layout()\n",
    "\n",
    "plt.show()"
   ]
  },
  {
   "cell_type": "code",
   "execution_count": 19,
   "metadata": {},
   "outputs": [
    {
     "data": {
      "image/png": "[encoded data removed]",
      "text/plain": [
       "<Figure size 432x288 with 1 Axes>"
      ]
     },
     "metadata": {
      "needs_background": "light"
     },
     "output_type": "display_data"
    }
   ],
   "source": [
    "fig, ax = plt.subplots()\n",
    "ax.scatter(N3DS_sales, N3DS_user_score, alpha=0.5)\n",
    "\n",
    "ax.set_xlabel('Продажи 3DS', fontsize=15)\n",
    "ax.set_ylabel('Отзывы пользователей', fontsize=15)\n",
    "ax.set_title('Продажи относительно отзывов пользователей')\n",
    "\n",
    "ax.grid(True)\n",
    "fig.tight_layout()\n",
    "\n",
    "plt.show()"
   ]
  },
  {
   "cell_type": "code",
   "execution_count": 20,
   "metadata": {},
   "outputs": [
    {
     "data": {
      "image/png": "[encoded data removed]",
      "text/plain": [
       "<Figure size 432x288 with 1 Axes>"
      ]
     },
     "metadata": {
      "needs_background": "light"
     },
     "output_type": "display_data"
    }
   ],
   "source": [
    "fig, ax = plt.subplots()\n",
    "ax.scatter(N3DS_sales, N3DS_critic_score, alpha=0.5)\n",
    "\n",
    "ax.set_xlabel('Продажи 3DS', fontsize=15)\n",
    "ax.set_ylabel('Отзывы критиков', fontsize=15)\n",
    "ax.set_title('Продажи относительно отзывов критиков')\n",
    "\n",
    "ax.grid(True)\n",
    "fig.tight_layout()\n",
    "\n",
    "plt.show()"
   ]
  },
  {
   "cell_type": "code",
   "execution_count": 21,
   "metadata": {},
   "outputs": [
    {
     "data": {
      "text/plain": [
       "0.002884971780179076"
      ]
     },
     "execution_count": 21,
     "metadata": {},
     "output_type": "execute_result"
    }
   ],
   "source": [
    "PS4_sales.corr(PS4_user_score)"
   ]
  },
  {
   "cell_type": "code",
   "execution_count": 22,
   "metadata": {},
   "outputs": [
    {
     "data": {
      "text/plain": [
       "0.29568115793396754"
      ]
     },
     "execution_count": 22,
     "metadata": {},
     "output_type": "execute_result"
    }
   ],
   "source": [
    "PS4_sales.corr(PS4_critic_score)"
   ]
  },
  {
   "cell_type": "code",
   "execution_count": 23,
   "metadata": {},
   "outputs": [
    {
     "data": {
      "text/plain": [
       "0.08091212347379426"
      ]
     },
     "execution_count": 23,
     "metadata": {},
     "output_type": "execute_result"
    }
   ],
   "source": [
    "XOne_sales.corr(XOne_user_score)"
   ]
  },
  {
   "cell_type": "code",
   "execution_count": 24,
   "metadata": {},
   "outputs": [
    {
     "data": {
      "text/plain": [
       "0.33667953113617205"
      ]
     },
     "execution_count": 24,
     "metadata": {},
     "output_type": "execute_result"
    }
   ],
   "source": [
    "XOne_sales.corr(XOne_critic_score)"
   ]
  },
  {
   "cell_type": "code",
   "execution_count": 25,
   "metadata": {},
   "outputs": [
    {
     "data": {
      "text/plain": [
       "0.12947585572523893"
      ]
     },
     "execution_count": 25,
     "metadata": {},
     "output_type": "execute_result"
    }
   ],
   "source": [
    "N3DS_sales.corr(N3DS_user_score)"
   ]
  },
  {
   "cell_type": "code",
   "execution_count": 26,
   "metadata": {},
   "outputs": [
    {
     "data": {
      "text/plain": [
       "0.071840617194795"
      ]
     },
     "execution_count": 26,
     "metadata": {},
     "output_type": "execute_result"
    }
   ],
   "source": [
    "N3DS_sales.corr(N3DS_critic_score)"
   ]
  },
  {
   "cell_type": "markdown",
   "metadata": {},
   "source": [
    "*Средний рейтинг у пользователей и критиков равен 7 и 70, соответсвенно.Отзывы имеют положительную корреляцию с продажами. Можно сделать вывод, что высокие оценки критиков повышают продажи PS4 и XOne. В случае с N3DSБ наоборот - высокие продажи обусловленны положительными оценками пользователей*"
   ]
  },
  {
   "cell_type": "markdown",
   "metadata": {},
   "source": [
    "\n",
    "*Посмотрим на общее распределение игр по жанрам по среднему значению*"
   ]
  },
  {
   "cell_type": "code",
   "execution_count": 27,
   "metadata": {},
   "outputs": [
    {
     "data": {
      "image/png": "[encoded data removed]",
      "text/plain": [
       "<Figure size 432x288 with 1 Axes>"
      ]
     },
     "metadata": {
      "needs_background": "light"
     },
     "output_type": "display_data"
    },
    {
     "data": {
      "image/png": "[encoded data removed]",
      "text/plain": [
       "<Figure size 432x288 with 1 Axes>"
      ]
     },
     "metadata": {
      "needs_background": "light"
     },
     "output_type": "display_data"
    },
    {
     "data": {
      "image/png": "[encoded data removed]",
      "text/plain": [
       "<Figure size 432x288 with 1 Axes>"
      ]
     },
     "metadata": {
      "needs_background": "light"
     },
     "output_type": "display_data"
    },
    {
     "data": {
      "image/png": "[encoded data removed]",
      "text/plain": [
       "<Figure size 432x288 with 1 Axes>"
      ]
     },
     "metadata": {
      "needs_background": "light"
     },
     "output_type": "display_data"
    },
    {
     "data": {
      "image/png": "[encoded data removed]",
      "text/plain": [
       "<Figure size 432x288 with 1 Axes>"
      ]
     },
     "metadata": {
      "needs_background": "light"
     },
     "output_type": "display_data"
    },
    {
     "data": {
      "image/png": "[encoded data removed]",
      "text/plain": [
       "<Figure size 432x288 with 1 Axes>"
      ]
     },
     "metadata": {
      "needs_background": "light"
     },
     "output_type": "display_data"
    },
    {
     "data": {
      "image/png": "[encoded data removed]",
      "text/plain": [
       "<Figure size 432x288 with 1 Axes>"
      ]
     },
     "metadata": {
      "needs_background": "light"
     },
     "output_type": "display_data"
    },
    {
     "data": {
      "image/png": "[encoded data removed]",
      "text/plain": [
       "<Figure size 432x288 with 1 Axes>"
      ]
     },
     "metadata": {
      "needs_background": "light"
     },
     "output_type": "display_data"
    },
    {
     "data": {
      "image/png": "[encoded data removed]",
      "text/plain": [
       "<Figure size 432x288 with 1 Axes>"
      ]
     },
     "metadata": {
      "needs_background": "light"
     },
     "output_type": "display_data"
    },
    {
     "data": {
      "image/png": "[encoded data removed]",
      "text/plain": [
       "<Figure size 432x288 with 1 Axes>"
      ]
     },
     "metadata": {
      "needs_background": "light"
     },
     "output_type": "display_data"
    },
    {
     "data": {
      "image/png": "[encoded data removed]",
      "text/plain": [
       "<Figure size 432x288 with 1 Axes>"
      ]
     },
     "metadata": {
      "needs_background": "light"
     },
     "output_type": "display_data"
    },
    {
     "data": {
      "image/png": "[encoded data removed]",
      "text/plain": [
       "<Figure size 432x288 with 1 Axes>"
      ]
     },
     "metadata": {
      "needs_background": "light"
     },
     "output_type": "display_data"
    }
   ],
   "source": [
    "genre_sales = df.pivot_table(index = 'genre', values = 'sales', aggfunc = 'mean').reset_index()\n",
    "for name, group_data in genre_sales.groupby('genre'):\n",
    "        group_data.plot(x='genre', y='sales', kind = 'bar', title = name)\n",
    "        plt.show()"
   ]
  },
  {
   "cell_type": "markdown",
   "metadata": {},
   "source": [
    "\n",
    "*Shooter имеет самые высокие продажи, Puzzle самые низкие. Жанры, имеющие высокие продажи - Shooter,Sports,Role-Playing*"
   ]
  },
  {
   "cell_type": "markdown",
   "metadata": {},
   "source": [
    "## Составление портрета пользователя каждого региона"
   ]
  },
  {
   "cell_type": "markdown",
   "metadata": {},
   "source": [
    "\n",
    "Определим для пользователя каждого региона самые популярные платформы (топ-5)"
   ]
  },
  {
   "cell_type": "code",
   "execution_count": 28,
   "metadata": {},
   "outputs": [
    {
     "data": {
      "text/html": [
       "<div>\n",
       "<style scoped>\n",
       "    .dataframe tbody tr th:only-of-type {\n",
       "        vertical-align: middle;\n",
       "    }\n",
       "\n",
       "    .dataframe tbody tr th {\n",
       "        vertical-align: top;\n",
       "    }\n",
       "\n",
       "    .dataframe thead th {\n",
       "        text-align: right;\n",
       "    }\n",
       "</style>\n",
       "<table border=\"1\" class=\"dataframe\">\n",
       "  <thead>\n",
       "    <tr style=\"text-align: right;\">\n",
       "      <th></th>\n",
       "      <th>platform</th>\n",
       "      <th>na_sales</th>\n",
       "    </tr>\n",
       "  </thead>\n",
       "  <tbody>\n",
       "    <tr>\n",
       "      <td>0</td>\n",
       "      <td>PS4</td>\n",
       "      <td>63.86</td>\n",
       "    </tr>\n",
       "    <tr>\n",
       "      <td>1</td>\n",
       "      <td>XOne</td>\n",
       "      <td>50.30</td>\n",
       "    </tr>\n",
       "    <tr>\n",
       "      <td>2</td>\n",
       "      <td>3DS</td>\n",
       "      <td>10.31</td>\n",
       "    </tr>\n",
       "    <tr>\n",
       "      <td>3</td>\n",
       "      <td>WiiU</td>\n",
       "      <td>8.86</td>\n",
       "    </tr>\n",
       "    <tr>\n",
       "      <td>4</td>\n",
       "      <td>X360</td>\n",
       "      <td>8.05</td>\n",
       "    </tr>\n",
       "  </tbody>\n",
       "</table>\n",
       "</div>"
      ],
      "text/plain": [
       "  platform  na_sales\n",
       "0      PS4     63.86\n",
       "1     XOne     50.30\n",
       "2      3DS     10.31\n",
       "3     WiiU      8.86\n",
       "4     X360      8.05"
      ]
     },
     "execution_count": 28,
     "metadata": {},
     "output_type": "execute_result"
    }
   ],
   "source": [
    "NA_platform = df.pivot_table(index='platform', values='na_sales', aggfunc='sum')\n",
    "NA_top5_platform = NA_platform.sort_values('na_sales', ascending = False).reset_index().head(5)\n",
    "NA_top5_platform"
   ]
  },
  {
   "cell_type": "code",
   "execution_count": 52,
   "metadata": {},
   "outputs": [
    {
     "data": {
      "image/png": "[encoded data removed]",
      "text/plain": [
       "<Figure size 432x288 with 1 Axes>"
      ]
     },
     "metadata": {
      "needs_background": "light"
     },
     "output_type": "display_data"
    }
   ],
   "source": [
    "fig, ax = plt.subplots()\n",
    "ax.plot(NA_top5_platform['platform'], NA_top5_platform['na_sales'])\n",
    "ax.set(xlabel='genre', ylabel='na_sales',\n",
    "       title='Популярные платформы в Северной Америке')\n",
    "ax.grid()\n",
    "plt.show()"
   ]
  },
  {
   "cell_type": "code",
   "execution_count": 29,
   "metadata": {},
   "outputs": [
    {
     "data": {
      "text/html": [
       "<div>\n",
       "<style scoped>\n",
       "    .dataframe tbody tr th:only-of-type {\n",
       "        vertical-align: middle;\n",
       "    }\n",
       "\n",
       "    .dataframe tbody tr th {\n",
       "        vertical-align: top;\n",
       "    }\n",
       "\n",
       "    .dataframe thead th {\n",
       "        text-align: right;\n",
       "    }\n",
       "</style>\n",
       "<table border=\"1\" class=\"dataframe\">\n",
       "  <thead>\n",
       "    <tr style=\"text-align: right;\">\n",
       "      <th></th>\n",
       "      <th>platform</th>\n",
       "      <th>eu_sales</th>\n",
       "    </tr>\n",
       "  </thead>\n",
       "  <tbody>\n",
       "    <tr>\n",
       "      <td>0</td>\n",
       "      <td>PS4</td>\n",
       "      <td>83.54</td>\n",
       "    </tr>\n",
       "    <tr>\n",
       "      <td>1</td>\n",
       "      <td>XOne</td>\n",
       "      <td>28.10</td>\n",
       "    </tr>\n",
       "    <tr>\n",
       "      <td>2</td>\n",
       "      <td>PC</td>\n",
       "      <td>9.10</td>\n",
       "    </tr>\n",
       "    <tr>\n",
       "      <td>3</td>\n",
       "      <td>3DS</td>\n",
       "      <td>7.39</td>\n",
       "    </tr>\n",
       "    <tr>\n",
       "      <td>4</td>\n",
       "      <td>PS3</td>\n",
       "      <td>7.30</td>\n",
       "    </tr>\n",
       "  </tbody>\n",
       "</table>\n",
       "</div>"
      ],
      "text/plain": [
       "  platform  eu_sales\n",
       "0      PS4     83.54\n",
       "1     XOne     28.10\n",
       "2       PC      9.10\n",
       "3      3DS      7.39\n",
       "4      PS3      7.30"
      ]
     },
     "execution_count": 29,
     "metadata": {},
     "output_type": "execute_result"
    }
   ],
   "source": [
    "EU_platform = df.pivot_table(index='platform', values='eu_sales', aggfunc='sum')\n",
    "EU_top5_platform = EU_platform.sort_values('eu_sales', ascending = False).reset_index().head(5)\n",
    "EU_top5_platform"
   ]
  },
  {
   "cell_type": "code",
   "execution_count": 51,
   "metadata": {},
   "outputs": [
    {
     "data": {
      "image/png": "[encoded data removed]",
      "text/plain": [
       "<Figure size 432x288 with 1 Axes>"
      ]
     },
     "metadata": {
      "needs_background": "light"
     },
     "output_type": "display_data"
    }
   ],
   "source": [
    "fig, ax = plt.subplots()\n",
    "ax.plot(EU_top5_platform['platform'], EU_top5_platform['eu_sales'])\n",
    "ax.set(xlabel='genre', ylabel='eu_sales',\n",
    "       title='Популярные платформы в Европе')\n",
    "ax.grid()\n",
    "plt.show()"
   ]
  },
  {
   "cell_type": "code",
   "execution_count": 30,
   "metadata": {},
   "outputs": [
    {
     "data": {
      "text/html": [
       "<div>\n",
       "<style scoped>\n",
       "    .dataframe tbody tr th:only-of-type {\n",
       "        vertical-align: middle;\n",
       "    }\n",
       "\n",
       "    .dataframe tbody tr th {\n",
       "        vertical-align: top;\n",
       "    }\n",
       "\n",
       "    .dataframe thead th {\n",
       "        text-align: right;\n",
       "    }\n",
       "</style>\n",
       "<table border=\"1\" class=\"dataframe\">\n",
       "  <thead>\n",
       "    <tr style=\"text-align: right;\">\n",
       "      <th></th>\n",
       "      <th>platform</th>\n",
       "      <th>jp_sales</th>\n",
       "    </tr>\n",
       "  </thead>\n",
       "  <tbody>\n",
       "    <tr>\n",
       "      <td>0</td>\n",
       "      <td>3DS</td>\n",
       "      <td>23.55</td>\n",
       "    </tr>\n",
       "    <tr>\n",
       "      <td>1</td>\n",
       "      <td>PS4</td>\n",
       "      <td>12.05</td>\n",
       "    </tr>\n",
       "    <tr>\n",
       "      <td>2</td>\n",
       "      <td>PSV</td>\n",
       "      <td>8.41</td>\n",
       "    </tr>\n",
       "    <tr>\n",
       "      <td>3</td>\n",
       "      <td>PS3</td>\n",
       "      <td>4.97</td>\n",
       "    </tr>\n",
       "    <tr>\n",
       "      <td>4</td>\n",
       "      <td>WiiU</td>\n",
       "      <td>4.12</td>\n",
       "    </tr>\n",
       "  </tbody>\n",
       "</table>\n",
       "</div>"
      ],
      "text/plain": [
       "  platform  jp_sales\n",
       "0      3DS     23.55\n",
       "1      PS4     12.05\n",
       "2      PSV      8.41\n",
       "3      PS3      4.97\n",
       "4     WiiU      4.12"
      ]
     },
     "execution_count": 30,
     "metadata": {},
     "output_type": "execute_result"
    }
   ],
   "source": [
    "JP_platform = df.pivot_table(index='platform', values='jp_sales', aggfunc='sum')\n",
    "JP_top5_platform = JP_platform.sort_values('jp_sales', ascending = False).reset_index().head(5)\n",
    "JP_top5_platform"
   ]
  },
  {
   "cell_type": "code",
   "execution_count": 50,
   "metadata": {},
   "outputs": [
    {
     "data": {
      "image/png": "[encoded data removed]",
      "text/plain": [
       "<Figure size 432x288 with 1 Axes>"
      ]
     },
     "metadata": {
      "needs_background": "light"
     },
     "output_type": "display_data"
    }
   ],
   "source": [
    "fig, ax = plt.subplots()\n",
    "ax.plot(JP_top5_platform['platform'], JP_top5_platform['jp_sales'])\n",
    "ax.set(xlabel='genre', ylabel='jp_sales',\n",
    "       title='Популярные платформы в Японии')\n",
    "ax.grid()\n",
    "plt.show()"
   ]
  },
  {
   "cell_type": "markdown",
   "metadata": {},
   "source": [
    "*В европейском и американском сегменте лидирует PS4. Разница в продажах между PS4 и XOne на этих рынках объясняется тем, что XOne американского производства. В Японии популярность имеют исключительно местные консоли. Также можно отметить лидирующую позицию у портативной консоли*"
   ]
  },
  {
   "cell_type": "markdown",
   "metadata": {},
   "source": [
    "*Определим для пользователя каждого региона самые популярные жанры (топ-5)*"
   ]
  },
  {
   "cell_type": "code",
   "execution_count": 31,
   "metadata": {},
   "outputs": [
    {
     "data": {
      "text/html": [
       "<div>\n",
       "<style scoped>\n",
       "    .dataframe tbody tr th:only-of-type {\n",
       "        vertical-align: middle;\n",
       "    }\n",
       "\n",
       "    .dataframe tbody tr th {\n",
       "        vertical-align: top;\n",
       "    }\n",
       "\n",
       "    .dataframe thead th {\n",
       "        text-align: right;\n",
       "    }\n",
       "</style>\n",
       "<table border=\"1\" class=\"dataframe\">\n",
       "  <thead>\n",
       "    <tr style=\"text-align: right;\">\n",
       "      <th></th>\n",
       "      <th>genre</th>\n",
       "      <th>na_sales</th>\n",
       "    </tr>\n",
       "  </thead>\n",
       "  <tbody>\n",
       "    <tr>\n",
       "      <td>0</td>\n",
       "      <td>Shooter</td>\n",
       "      <td>48.18</td>\n",
       "    </tr>\n",
       "    <tr>\n",
       "      <td>1</td>\n",
       "      <td>Action</td>\n",
       "      <td>33.68</td>\n",
       "    </tr>\n",
       "    <tr>\n",
       "      <td>2</td>\n",
       "      <td>Sports</td>\n",
       "      <td>26.31</td>\n",
       "    </tr>\n",
       "    <tr>\n",
       "      <td>3</td>\n",
       "      <td>Role-Playing</td>\n",
       "      <td>19.82</td>\n",
       "    </tr>\n",
       "    <tr>\n",
       "      <td>4</td>\n",
       "      <td>Misc</td>\n",
       "      <td>5.58</td>\n",
       "    </tr>\n",
       "  </tbody>\n",
       "</table>\n",
       "</div>"
      ],
      "text/plain": [
       "          genre  na_sales\n",
       "0       Shooter     48.18\n",
       "1        Action     33.68\n",
       "2        Sports     26.31\n",
       "3  Role-Playing     19.82\n",
       "4          Misc      5.58"
      ]
     },
     "execution_count": 31,
     "metadata": {},
     "output_type": "execute_result"
    }
   ],
   "source": [
    "NA_genres = df.pivot_table(index='genre', values='na_sales', aggfunc='sum')\n",
    "NA_top5_genres = NA_genres.sort_values('na_sales', ascending = False).reset_index().head(5)\n",
    "NA_top5_genres"
   ]
  },
  {
   "cell_type": "code",
   "execution_count": 49,
   "metadata": {},
   "outputs": [
    {
     "data": {
      "image/png": "[encoded data removed]",
      "text/plain": [
       "<Figure size 432x288 with 1 Axes>"
      ]
     },
     "metadata": {
      "needs_background": "light"
     },
     "output_type": "display_data"
    }
   ],
   "source": [
    "fig, ax = plt.subplots()\n",
    "ax.plot(NA_top5_genres['genre'], NA_top5_genres['na_sales'])\n",
    "ax.set(xlabel='genre', ylabel='na_sales',\n",
    "       title='Популярные жанры в Северной Америке')\n",
    "ax.grid()\n",
    "plt.show()"
   ]
  },
  {
   "cell_type": "code",
   "execution_count": 32,
   "metadata": {},
   "outputs": [
    {
     "data": {
      "text/html": [
       "<div>\n",
       "<style scoped>\n",
       "    .dataframe tbody tr th:only-of-type {\n",
       "        vertical-align: middle;\n",
       "    }\n",
       "\n",
       "    .dataframe tbody tr th {\n",
       "        vertical-align: top;\n",
       "    }\n",
       "\n",
       "    .dataframe thead th {\n",
       "        text-align: right;\n",
       "    }\n",
       "</style>\n",
       "<table border=\"1\" class=\"dataframe\">\n",
       "  <thead>\n",
       "    <tr style=\"text-align: right;\">\n",
       "      <th></th>\n",
       "      <th>genre</th>\n",
       "      <th>eu_sales</th>\n",
       "    </tr>\n",
       "  </thead>\n",
       "  <tbody>\n",
       "    <tr>\n",
       "      <td>0</td>\n",
       "      <td>Shooter</td>\n",
       "      <td>40.28</td>\n",
       "    </tr>\n",
       "    <tr>\n",
       "      <td>1</td>\n",
       "      <td>Action</td>\n",
       "      <td>34.82</td>\n",
       "    </tr>\n",
       "    <tr>\n",
       "      <td>2</td>\n",
       "      <td>Sports</td>\n",
       "      <td>27.82</td>\n",
       "    </tr>\n",
       "    <tr>\n",
       "      <td>3</td>\n",
       "      <td>Role-Playing</td>\n",
       "      <td>17.21</td>\n",
       "    </tr>\n",
       "    <tr>\n",
       "      <td>4</td>\n",
       "      <td>Racing</td>\n",
       "      <td>6.52</td>\n",
       "    </tr>\n",
       "  </tbody>\n",
       "</table>\n",
       "</div>"
      ],
      "text/plain": [
       "          genre  eu_sales\n",
       "0       Shooter     40.28\n",
       "1        Action     34.82\n",
       "2        Sports     27.82\n",
       "3  Role-Playing     17.21\n",
       "4        Racing      6.52"
      ]
     },
     "execution_count": 32,
     "metadata": {},
     "output_type": "execute_result"
    }
   ],
   "source": [
    "EU_genres = df.pivot_table(index='genre', values='eu_sales', aggfunc='sum')\n",
    "EU_top5_genres = EU_genres.sort_values('eu_sales', ascending = False).reset_index().head(5)\n",
    "EU_top5_genres"
   ]
  },
  {
   "cell_type": "code",
   "execution_count": 48,
   "metadata": {},
   "outputs": [
    {
     "data": {
      "image/png": "[encoded data removed]",
      "text/plain": [
       "<Figure size 432x288 with 1 Axes>"
      ]
     },
     "metadata": {
      "needs_background": "light"
     },
     "output_type": "display_data"
    }
   ],
   "source": [
    "fig, ax = plt.subplots()\n",
    "ax.plot(EU_top5_genres['genre'], EU_top5_genres['eu_sales'])\n",
    "ax.set(xlabel='genre', ylabel='eu_sales',\n",
    "       title='Популярные жанры в Европе')\n",
    "ax.grid()\n",
    "plt.show()"
   ]
  },
  {
   "cell_type": "code",
   "execution_count": 33,
   "metadata": {},
   "outputs": [
    {
     "data": {
      "text/html": [
       "<div>\n",
       "<style scoped>\n",
       "    .dataframe tbody tr th:only-of-type {\n",
       "        vertical-align: middle;\n",
       "    }\n",
       "\n",
       "    .dataframe tbody tr th {\n",
       "        vertical-align: top;\n",
       "    }\n",
       "\n",
       "    .dataframe thead th {\n",
       "        text-align: right;\n",
       "    }\n",
       "</style>\n",
       "<table border=\"1\" class=\"dataframe\">\n",
       "  <thead>\n",
       "    <tr style=\"text-align: right;\">\n",
       "      <th></th>\n",
       "      <th>genre</th>\n",
       "      <th>jp_sales</th>\n",
       "    </tr>\n",
       "  </thead>\n",
       "  <tbody>\n",
       "    <tr>\n",
       "      <td>0</td>\n",
       "      <td>Action</td>\n",
       "      <td>23.05</td>\n",
       "    </tr>\n",
       "    <tr>\n",
       "      <td>1</td>\n",
       "      <td>Role-Playing</td>\n",
       "      <td>13.41</td>\n",
       "    </tr>\n",
       "    <tr>\n",
       "      <td>2</td>\n",
       "      <td>Shooter</td>\n",
       "      <td>3.79</td>\n",
       "    </tr>\n",
       "    <tr>\n",
       "      <td>3</td>\n",
       "      <td>Misc</td>\n",
       "      <td>3.19</td>\n",
       "    </tr>\n",
       "    <tr>\n",
       "      <td>4</td>\n",
       "      <td>Adventure</td>\n",
       "      <td>2.22</td>\n",
       "    </tr>\n",
       "  </tbody>\n",
       "</table>\n",
       "</div>"
      ],
      "text/plain": [
       "          genre  jp_sales\n",
       "0        Action     23.05\n",
       "1  Role-Playing     13.41\n",
       "2       Shooter      3.79\n",
       "3          Misc      3.19\n",
       "4     Adventure      2.22"
      ]
     },
     "execution_count": 33,
     "metadata": {},
     "output_type": "execute_result"
    }
   ],
   "source": [
    "JP_genres = df.pivot_table(index='genre', values='jp_sales', aggfunc='sum')\n",
    "JP_top5_genres = JP_genres.sort_values('jp_sales', ascending = False).reset_index().head(5)\n",
    "JP_top5_genres"
   ]
  },
  {
   "cell_type": "code",
   "execution_count": 47,
   "metadata": {},
   "outputs": [
    {
     "data": {
      "image/png": "[encoded data removed]",
      "text/plain": [
       "<Figure size 432x288 with 1 Axes>"
      ]
     },
     "metadata": {
      "needs_background": "light"
     },
     "output_type": "display_data"
    }
   ],
   "source": [
    "fig, ax = plt.subplots()\n",
    "ax.plot(JP_top5_genres['genre'], JP_top5_genres['jp_sales'])\n",
    "ax.set(xlabel='genre', ylabel='jp_sales',\n",
    "       title='Популярные жанры в Японии')\n",
    "ax.grid()\n",
    "plt.show()"
   ]
  },
  {
   "cell_type": "markdown",
   "metadata": {},
   "source": [
    "*В топ5 попали жанры, имеющие высокие продажи по всему актуальному периоду. Различия в Японии обусловлено культурой сраны в поп-сегменте*"
   ]
  },
  {
   "cell_type": "markdown",
   "metadata": {},
   "source": [
    "*Проверим, влияет ли рейтинг ESRB на продажи в отдельном регионе*"
   ]
  },
  {
   "cell_type": "code",
   "execution_count": 34,
   "metadata": {},
   "outputs": [
    {
     "data": {
      "text/plain": [
       "0.6734552680870329"
      ]
     },
     "execution_count": 34,
     "metadata": {},
     "output_type": "execute_result"
    }
   ],
   "source": [
    "np.var(df.query('rating == rating')['sales'], ddof=1)"
   ]
  },
  {
   "cell_type": "code",
   "execution_count": 35,
   "metadata": {},
   "outputs": [
    {
     "data": {
      "text/plain": [
       "0.6397385401437622"
      ]
     },
     "execution_count": 35,
     "metadata": {},
     "output_type": "execute_result"
    }
   ],
   "source": [
    "np.var(df.query('rating != rating')['sales'], ddof=1)"
   ]
  },
  {
   "cell_type": "code",
   "execution_count": 36,
   "metadata": {},
   "outputs": [
    {
     "data": {
      "image/png": "[encoded data removed]",
      "text/plain": [
       "<Figure size 432x288 with 1 Axes>"
      ]
     },
     "metadata": {
      "needs_background": "light"
     },
     "output_type": "display_data"
    }
   ],
   "source": [
    "df.query('rating == rating')['sales'].hist();\n",
    "plt.ylabel('Частота появления')\n",
    "plt.title('Гистограмма суммы продаж игр с рейтингом')\n",
    "plt.grid(True)\n",
    "plt.show()"
   ]
  },
  {
   "cell_type": "code",
   "execution_count": 37,
   "metadata": {},
   "outputs": [
    {
     "data": {
      "image/png": "[encoded data removed]",
      "text/plain": [
       "<Figure size 432x288 with 1 Axes>"
      ]
     },
     "metadata": {
      "needs_background": "light"
     },
     "output_type": "display_data"
    }
   ],
   "source": [
    "df.query('rating != rating')['sales'].hist();\n",
    "plt.ylabel('Частота появления')\n",
    "plt.title('Гистограмма суммы продаж игр без рейтинга')\n",
    "plt.grid(True)\n",
    "plt.show()"
   ]
  },
  {
   "cell_type": "markdown",
   "metadata": {},
   "source": [
    "H_0: продажи игр, у которых есть рейтинг == продажам игр, у которых нет рейтинга\n",
    "\n",
    "H_1: продажи игр, у которых есть рейтинг != продажам игр, у которых нет рейтинга"
   ]
  },
  {
   "cell_type": "code",
   "execution_count": 38,
   "metadata": {},
   "outputs": [
    {
     "name": "stdout",
     "output_type": "stream",
     "text": [
      "p-значение:  2.1398498722921956e-05\n",
      "Отвергаем нулевую гипотезу\n"
     ]
    }
   ],
   "source": [
    "\n",
    "alpha = 0.05 \n",
    "\n",
    "results = st.ttest_ind(df.query('rating == rating')['sales'], df.query('rating != rating')['sales'])\n",
    "\n",
    "print('p-значение: ', results.pvalue)\n",
    "\n",
    "if results.pvalue < alpha:\n",
    "    print(\"Отвергаем нулевую гипотезу\")\n",
    "else:\n",
    "    print(\"Не получилось отвергнуть нулевую гипотезу\")"
   ]
  },
  {
   "cell_type": "markdown",
   "metadata": {},
   "source": [
    "*Из этого можем сделать вывод, что рейтинг влияет на продажи игр*"
   ]
  },
  {
   "cell_type": "markdown",
   "metadata": {},
   "source": [
    "## Проверка гипотез"
   ]
  },
  {
   "cell_type": "markdown",
   "metadata": {},
   "source": [
    "*Проверим гипотезу, что  средние пользовательские рейтинги платформ Xbox One и PC одинаковые*"
   ]
  },
  {
   "cell_type": "code",
   "execution_count": 39,
   "metadata": {},
   "outputs": [
    {
     "data": {
      "text/plain": [
       "4.272399538272851"
      ]
     },
     "execution_count": 39,
     "metadata": {},
     "output_type": "execute_result"
    }
   ],
   "source": [
    "np.var(df.query('platform == \"XOne\"')['user_score'], ddof=1)"
   ]
  },
  {
   "cell_type": "code",
   "execution_count": 40,
   "metadata": {},
   "outputs": [
    {
     "data": {
      "text/plain": [
       "4.0805741224794625"
      ]
     },
     "execution_count": 40,
     "metadata": {},
     "output_type": "execute_result"
    }
   ],
   "source": [
    "np.var(df.query('platform == \"PC\"')['user_score'], ddof=1)"
   ]
  },
  {
   "cell_type": "code",
   "execution_count": 41,
   "metadata": {},
   "outputs": [
    {
     "data": {
      "image/png": "[encoded data removed]",
      "text/plain": [
       "<Figure size 432x288 with 1 Axes>"
      ]
     },
     "metadata": {
      "needs_background": "light"
     },
     "output_type": "display_data"
    }
   ],
   "source": [
    "df.query('platform == \"XOne\"')['user_score'].hist();\n",
    "plt.ylabel('Частота появления')\n",
    "plt.title('Гистограмма суммы пользовательских рейтингов Xbox One')\n",
    "plt.grid(True)\n",
    "plt.show()"
   ]
  },
  {
   "cell_type": "code",
   "execution_count": 42,
   "metadata": {},
   "outputs": [
    {
     "data": {
      "image/png": "[encoded data removed]",
      "text/plain": [
       "<Figure size 432x288 with 1 Axes>"
      ]
     },
     "metadata": {
      "needs_background": "light"
     },
     "output_type": "display_data"
    }
   ],
   "source": [
    "df.query('platform == \"PC\"')['user_score'].hist();\n",
    "plt.ylabel('Частота появления')\n",
    "plt.title('Гистограмма суммы пользовательских рейтингов РС')\n",
    "plt.grid(True)\n",
    "plt.show()"
   ]
  },
  {
   "cell_type": "markdown",
   "metadata": {},
   "source": [
    "Н_0: Пользовательские рейтинги Xbox One == Пользовательским рейтингам PC\n",
    "\n",
    "Н_1: Пользовательские рейтинги Xbox One != Пользовательским рейтингам PC"
   ]
  },
  {
   "cell_type": "code",
   "execution_count": 43,
   "metadata": {},
   "outputs": [
    {
     "name": "stdout",
     "output_type": "stream",
     "text": [
      "p-значение:  0.8786682268537087\n",
      "Не получилось отвергнуть нулевую гипотезу\n"
     ]
    }
   ],
   "source": [
    "\n",
    "alpha = 0.05 \n",
    "\n",
    "results = st.ttest_ind(df.query('platform == \"XOne\"')['user_score'], df.query('platform == \"PC\"')['user_score'])\n",
    "\n",
    "print('p-значение: ', results.pvalue)\n",
    "\n",
    "if results.pvalue < alpha:\n",
    "    print(\"Отвергаем нулевую гипотезу\")\n",
    "else:\n",
    "    print(\"Не получилось отвергнуть нулевую гипотезу\") "
   ]
  },
  {
   "cell_type": "markdown",
   "metadata": {},
   "source": [
    "*Проверим гипотезу, что cредние пользовательские рейтинги жанров Action и Sports разные*"
   ]
  },
  {
   "cell_type": "code",
   "execution_count": 44,
   "metadata": {},
   "outputs": [
    {
     "data": {
      "text/plain": [
       "3.9562525225273837"
      ]
     },
     "execution_count": 44,
     "metadata": {},
     "output_type": "execute_result"
    }
   ],
   "source": [
    "np.var(df.query('genre == \"Action\"')['user_score'], ddof=1)"
   ]
  },
  {
   "cell_type": "code",
   "execution_count": 45,
   "metadata": {},
   "outputs": [
    {
     "data": {
      "text/plain": [
       "5.657009345794392"
      ]
     },
     "execution_count": 45,
     "metadata": {},
     "output_type": "execute_result"
    }
   ],
   "source": [
    "np.var(df.query('genre == \"Sports\"')['user_score'], ddof=1)"
   ]
  },
  {
   "cell_type": "markdown",
   "metadata": {},
   "source": [
    "Н_0: Пользовательские рейтинги Action == Пользовательским рейтингам Sports\n",
    "\n",
    "Н_1: Пользовательские рейтинги Action != Пользовательским рейтингам Sports"
   ]
  },
  {
   "cell_type": "code",
   "execution_count": 46,
   "metadata": {},
   "outputs": [
    {
     "name": "stdout",
     "output_type": "stream",
     "text": [
      "p-значение:  3.271191601995669e-09\n",
      "Отвергаем нулевую гипотезу\n"
     ]
    }
   ],
   "source": [
    "alpha = 0.05 \n",
    "\n",
    "results = st.ttest_ind(df.query('genre == \"Action\"')['user_score'], df.query('genre == \"Sports\"')['user_score'])\n",
    "\n",
    "print('p-значение: ', results.pvalue)\n",
    "\n",
    "if results.pvalue < alpha:\n",
    "    print(\"Отвергаем нулевую гипотезу\")\n",
    "else:\n",
    "    print(\"Не получилось отвергнуть нулевую гипотезу\")"
   ]
  },
  {
   "cell_type": "markdown",
   "metadata": {},
   "source": [
    "## Общий вывод"
   ]
  },
  {
   "cell_type": "markdown",
   "metadata": {},
   "source": [
    "### После анализа можем сделать вывод, что успешными платформами являются PlayStation4, Xbox One, Nintendo 3DS. На успех влияют высокие отзывы критиков, жанр игры, рейтинг.  Можно выделить такие жанры, как Shooter,Action,Sports,Role-Playing. Пользовательский успех также зависит от региона продаж. "
   ]
  }
 ],
 "metadata": {
  "ExecuteTimeLog": [
   {
    "duration": 1301,
    "start_time": "2021-06-11T22:35:51.696Z"
   },
   {
    "duration": 80,
    "start_time": "2021-06-11T22:36:00.927Z"
   },
   {
    "duration": 16,
    "start_time": "2021-06-11T22:37:07.781Z"
   },
   {
    "duration": 392,
    "start_time": "2021-06-11T22:38:49.326Z"
   },
   {
    "duration": 44,
    "start_time": "2021-06-11T22:38:57.888Z"
   },
   {
    "duration": 40,
    "start_time": "2021-06-11T22:43:44.447Z"
   },
   {
    "duration": 37,
    "start_time": "2021-06-11T22:45:39.033Z"
   },
   {
    "duration": 352,
    "start_time": "2021-06-11T23:04:57.754Z"
   },
   {
    "duration": 363,
    "start_time": "2021-06-11T23:05:18.145Z"
   },
   {
    "duration": 27,
    "start_time": "2021-06-11T23:06:52.780Z"
   },
   {
    "duration": 9371,
    "start_time": "2021-06-11T23:07:54.750Z"
   },
   {
    "duration": 328,
    "start_time": "2021-06-11T23:08:58.961Z"
   },
   {
    "duration": 361,
    "start_time": "2021-06-11T23:09:38.829Z"
   },
   {
    "duration": 116,
    "start_time": "2021-06-11T23:10:36.283Z"
   },
   {
    "duration": 120,
    "start_time": "2021-06-11T23:11:21.786Z"
   },
   {
    "duration": 108,
    "start_time": "2021-06-11T23:11:45.635Z"
   },
   {
    "duration": 346,
    "start_time": "2021-06-11T23:14:11.066Z"
   },
   {
    "duration": 363,
    "start_time": "2021-06-11T23:14:19.235Z"
   },
   {
    "duration": 333,
    "start_time": "2021-06-11T23:14:30.634Z"
   },
   {
    "duration": 38,
    "start_time": "2021-06-11T23:15:13.105Z"
   },
   {
    "duration": 843,
    "start_time": "2021-06-11T23:15:38.231Z"
   },
   {
    "duration": 15,
    "start_time": "2021-06-11T23:15:39.076Z"
   },
   {
    "duration": 57,
    "start_time": "2021-06-11T23:15:39.094Z"
   },
   {
    "duration": 36,
    "start_time": "2021-06-11T23:15:39.154Z"
   },
   {
    "duration": 9295,
    "start_time": "2021-06-11T23:15:54.669Z"
   },
   {
    "duration": 40,
    "start_time": "2021-06-11T23:16:13.076Z"
   },
   {
    "duration": 28,
    "start_time": "2021-06-11T23:18:22.426Z"
   },
   {
    "duration": 868,
    "start_time": "2021-06-11T23:18:36.016Z"
   },
   {
    "duration": 15,
    "start_time": "2021-06-11T23:18:36.887Z"
   },
   {
    "duration": 60,
    "start_time": "2021-06-11T23:18:36.905Z"
   },
   {
    "duration": 28,
    "start_time": "2021-06-11T23:18:36.967Z"
   },
   {
    "duration": 409,
    "start_time": "2021-06-11T23:20:35.561Z"
   },
   {
    "duration": 22,
    "start_time": "2021-06-11T23:24:51.068Z"
   },
   {
    "duration": 35,
    "start_time": "2021-06-11T23:25:03.118Z"
   },
   {
    "duration": 14,
    "start_time": "2021-06-11T23:25:28.520Z"
   },
   {
    "duration": 343,
    "start_time": "2021-06-11T23:26:50.633Z"
   },
   {
    "duration": 8,
    "start_time": "2021-06-11T23:27:16.946Z"
   },
   {
    "duration": 375,
    "start_time": "2021-06-11T23:27:31.745Z"
   },
   {
    "duration": 372,
    "start_time": "2021-06-11T23:28:05.243Z"
   },
   {
    "duration": 9,
    "start_time": "2021-06-11T23:28:15.524Z"
   },
   {
    "duration": 856,
    "start_time": "2021-06-11T23:28:30.846Z"
   },
   {
    "duration": 15,
    "start_time": "2021-06-11T23:28:31.705Z"
   },
   {
    "duration": 44,
    "start_time": "2021-06-11T23:28:31.726Z"
   },
   {
    "duration": 52,
    "start_time": "2021-06-11T23:28:31.773Z"
   },
   {
    "duration": 11,
    "start_time": "2021-06-11T23:28:31.828Z"
   },
   {
    "duration": 21,
    "start_time": "2021-06-11T23:28:49.969Z"
   },
   {
    "duration": 132,
    "start_time": "2021-06-11T23:29:46.150Z"
   },
   {
    "duration": 610,
    "start_time": "2021-06-11T23:30:04.020Z"
   },
   {
    "duration": 30,
    "start_time": "2021-06-11T23:31:48.320Z"
   },
   {
    "duration": 42,
    "start_time": "2021-06-11T23:31:57.400Z"
   },
   {
    "duration": 43,
    "start_time": "2021-06-11T23:32:03.744Z"
   },
   {
    "duration": 29,
    "start_time": "2021-06-11T23:32:28.773Z"
   },
   {
    "duration": 5,
    "start_time": "2021-06-11T23:33:10.920Z"
   },
   {
    "duration": 16,
    "start_time": "2021-06-11T23:34:05.298Z"
   },
   {
    "duration": 816,
    "start_time": "2021-06-11T23:34:29.749Z"
   },
   {
    "duration": 14,
    "start_time": "2021-06-11T23:34:30.568Z"
   },
   {
    "duration": 64,
    "start_time": "2021-06-11T23:34:30.585Z"
   },
   {
    "duration": 28,
    "start_time": "2021-06-11T23:34:30.652Z"
   },
   {
    "duration": 44,
    "start_time": "2021-06-11T23:34:30.683Z"
   },
   {
    "duration": 420,
    "start_time": "2021-06-11T23:34:55.030Z"
   },
   {
    "duration": 43,
    "start_time": "2021-06-11T23:35:01.423Z"
   },
   {
    "duration": 16,
    "start_time": "2021-06-11T23:35:19.870Z"
   },
   {
    "duration": 44,
    "start_time": "2021-06-11T23:35:23.760Z"
   },
   {
    "duration": 6,
    "start_time": "2021-06-11T23:36:08.825Z"
   },
   {
    "duration": 18,
    "start_time": "2021-06-11T23:36:10.254Z"
   },
   {
    "duration": 44,
    "start_time": "2021-06-11T23:36:14.460Z"
   },
   {
    "duration": 17,
    "start_time": "2021-06-11T23:37:11.594Z"
   },
   {
    "duration": 42,
    "start_time": "2021-06-11T23:37:15.098Z"
   },
   {
    "duration": 862,
    "start_time": "2021-06-11T23:37:28.317Z"
   },
   {
    "duration": 17,
    "start_time": "2021-06-11T23:37:29.182Z"
   },
   {
    "duration": 62,
    "start_time": "2021-06-11T23:37:29.203Z"
   },
   {
    "duration": 31,
    "start_time": "2021-06-11T23:37:29.268Z"
   },
   {
    "duration": 447,
    "start_time": "2021-06-11T23:37:29.327Z"
   },
   {
    "duration": -10233,
    "start_time": "2021-06-11T23:37:40.011Z"
   },
   {
    "duration": -10240,
    "start_time": "2021-06-11T23:37:40.019Z"
   },
   {
    "duration": 24,
    "start_time": "2021-06-11T23:38:04.556Z"
   },
   {
    "duration": 43,
    "start_time": "2021-06-11T23:38:08.857Z"
   },
   {
    "duration": 5,
    "start_time": "2021-06-11T23:38:25.961Z"
   },
   {
    "duration": 8,
    "start_time": "2021-06-11T23:38:50.704Z"
   },
   {
    "duration": 353,
    "start_time": "2021-06-11T23:43:35.341Z"
   },
   {
    "duration": 137,
    "start_time": "2021-06-11T23:46:53.788Z"
   },
   {
    "duration": 111,
    "start_time": "2021-06-11T23:46:59.190Z"
   },
   {
    "duration": 416,
    "start_time": "2021-06-11T23:47:16.996Z"
   },
   {
    "duration": 413,
    "start_time": "2021-06-11T23:47:39.673Z"
   },
   {
    "duration": 4,
    "start_time": "2021-06-11T23:48:00.366Z"
   },
   {
    "duration": 14,
    "start_time": "2021-06-11T23:48:24.140Z"
   },
   {
    "duration": 17,
    "start_time": "2021-06-11T23:52:06.317Z"
   },
   {
    "duration": 869,
    "start_time": "2021-06-11T23:52:30.932Z"
   },
   {
    "duration": 21,
    "start_time": "2021-06-11T23:52:31.804Z"
   },
   {
    "duration": 47,
    "start_time": "2021-06-11T23:52:31.829Z"
   },
   {
    "duration": 59,
    "start_time": "2021-06-11T23:52:31.878Z"
   },
   {
    "duration": 17,
    "start_time": "2021-06-11T23:52:31.940Z"
   },
   {
    "duration": 66,
    "start_time": "2021-06-11T23:52:31.960Z"
   },
   {
    "duration": 5,
    "start_time": "2021-06-11T23:52:32.029Z"
   },
   {
    "duration": 20,
    "start_time": "2021-06-11T23:52:32.037Z"
   },
   {
    "duration": 40,
    "start_time": "2021-06-11T23:53:26.692Z"
   },
   {
    "duration": 99,
    "start_time": "2021-06-11T23:56:27.005Z"
   },
   {
    "duration": 9,
    "start_time": "2021-06-11T23:56:33.993Z"
   },
   {
    "duration": 20,
    "start_time": "2021-06-11T23:57:04.601Z"
   },
   {
    "duration": 17,
    "start_time": "2021-06-11T23:57:31.201Z"
   },
   {
    "duration": 25,
    "start_time": "2021-06-11T23:58:22.512Z"
   },
   {
    "duration": 1523,
    "start_time": "2021-06-11T23:58:53.968Z"
   },
   {
    "duration": 7,
    "start_time": "2021-06-11T23:59:14.858Z"
   },
   {
    "duration": 16,
    "start_time": "2021-06-11T23:59:24.472Z"
   },
   {
    "duration": 822,
    "start_time": "2021-06-12T00:01:08.065Z"
   },
   {
    "duration": 17,
    "start_time": "2021-06-12T00:01:08.891Z"
   },
   {
    "duration": 45,
    "start_time": "2021-06-12T00:01:08.924Z"
   },
   {
    "duration": 53,
    "start_time": "2021-06-12T00:01:08.973Z"
   },
   {
    "duration": 18,
    "start_time": "2021-06-12T00:01:09.028Z"
   },
   {
    "duration": 18,
    "start_time": "2021-06-12T00:01:09.049Z"
   },
   {
    "duration": 5,
    "start_time": "2021-06-12T00:01:09.069Z"
   },
   {
    "duration": 37,
    "start_time": "2021-06-12T08:02:46.719Z"
   },
   {
    "duration": 36,
    "start_time": "2021-06-12T08:03:26.579Z"
   },
   {
    "duration": 23,
    "start_time": "2021-06-12T08:10:26.195Z"
   },
   {
    "duration": 502,
    "start_time": "2021-06-12T09:36:04.358Z"
   },
   {
    "duration": 342,
    "start_time": "2021-06-12T09:36:13.774Z"
   },
   {
    "duration": 313,
    "start_time": "2021-06-12T09:36:20.896Z"
   },
   {
    "duration": 66,
    "start_time": "2021-06-12T09:36:27.263Z"
   },
   {
    "duration": 62,
    "start_time": "2021-06-12T09:36:55.051Z"
   },
   {
    "duration": 69,
    "start_time": "2021-06-12T09:37:58.136Z"
   },
   {
    "duration": 29,
    "start_time": "2021-06-12T09:38:28.254Z"
   },
   {
    "duration": 51,
    "start_time": "2021-06-12T09:39:46.116Z"
   },
   {
    "duration": 404,
    "start_time": "2021-06-12T09:41:20.200Z"
   },
   {
    "duration": 670,
    "start_time": "2021-06-12T09:41:42.444Z"
   },
   {
    "duration": 30,
    "start_time": "2021-06-12T09:42:09.033Z"
   },
   {
    "duration": 23,
    "start_time": "2021-06-12T09:43:23.587Z"
   },
   {
    "duration": 336,
    "start_time": "2021-06-12T09:44:10.101Z"
   },
   {
    "duration": 23,
    "start_time": "2021-06-12T09:46:11.661Z"
   },
   {
    "duration": 296,
    "start_time": "2021-06-12T09:46:30.029Z"
   },
   {
    "duration": 16,
    "start_time": "2021-06-12T09:47:30.792Z"
   },
   {
    "duration": 25,
    "start_time": "2021-06-12T09:47:42.466Z"
   },
   {
    "duration": 28,
    "start_time": "2021-06-12T09:49:06.428Z"
   },
   {
    "duration": 30,
    "start_time": "2021-06-12T09:49:42.498Z"
   },
   {
    "duration": 6,
    "start_time": "2021-06-12T09:51:21.716Z"
   },
   {
    "duration": 8,
    "start_time": "2021-06-12T09:51:30.438Z"
   },
   {
    "duration": 10,
    "start_time": "2021-06-12T09:52:11.240Z"
   },
   {
    "duration": 347,
    "start_time": "2021-06-12T09:55:24.054Z"
   },
   {
    "duration": 346,
    "start_time": "2021-06-12T09:55:46.970Z"
   },
   {
    "duration": 6,
    "start_time": "2021-06-12T09:55:54.981Z"
   },
   {
    "duration": 413,
    "start_time": "2021-06-12T09:56:22.300Z"
   },
   {
    "duration": 368,
    "start_time": "2021-06-12T09:56:44.849Z"
   },
   {
    "duration": 45,
    "start_time": "2021-06-12T09:57:04.253Z"
   },
   {
    "duration": 41,
    "start_time": "2021-06-12T09:58:38.219Z"
   },
   {
    "duration": 55,
    "start_time": "2021-06-12T09:59:06.046Z"
   },
   {
    "duration": 53,
    "start_time": "2021-06-12T09:59:18.793Z"
   },
   {
    "duration": 25,
    "start_time": "2021-06-12T10:02:33.852Z"
   },
   {
    "duration": 29,
    "start_time": "2021-06-12T10:04:03.046Z"
   },
   {
    "duration": 426,
    "start_time": "2021-06-12T10:05:22.227Z"
   },
   {
    "duration": 516,
    "start_time": "2021-06-12T10:05:43.896Z"
   },
   {
    "duration": 406,
    "start_time": "2021-06-12T10:06:33.549Z"
   },
   {
    "duration": 42,
    "start_time": "2021-06-12T10:07:08.024Z"
   },
   {
    "duration": 25,
    "start_time": "2021-06-12T10:07:28.868Z"
   },
   {
    "duration": 24,
    "start_time": "2021-06-12T10:07:42.712Z"
   },
   {
    "duration": 232,
    "start_time": "2021-06-12T10:08:10.206Z"
   },
   {
    "duration": 371,
    "start_time": "2021-06-12T10:08:30.235Z"
   },
   {
    "duration": 26,
    "start_time": "2021-06-12T10:08:37.372Z"
   },
   {
    "duration": 24,
    "start_time": "2021-06-12T10:10:04.559Z"
   },
   {
    "duration": 9,
    "start_time": "2021-06-12T10:10:31.759Z"
   },
   {
    "duration": 29,
    "start_time": "2021-06-12T10:12:28.003Z"
   },
   {
    "duration": 501,
    "start_time": "2021-06-12T10:14:23.254Z"
   },
   {
    "duration": 313,
    "start_time": "2021-06-12T10:14:35.855Z"
   },
   {
    "duration": 22,
    "start_time": "2021-06-12T10:18:22.690Z"
   },
   {
    "duration": 21,
    "start_time": "2021-06-12T10:18:46.950Z"
   },
   {
    "duration": 20,
    "start_time": "2021-06-12T10:19:18.477Z"
   },
   {
    "duration": 21,
    "start_time": "2021-06-12T10:19:59.273Z"
   },
   {
    "duration": 103,
    "start_time": "2021-06-12T10:26:11.420Z"
   },
   {
    "duration": 30,
    "start_time": "2021-06-12T10:28:28.350Z"
   },
   {
    "duration": 47,
    "start_time": "2021-06-12T10:29:14.575Z"
   },
   {
    "duration": 467,
    "start_time": "2021-06-12T10:34:39.408Z"
   },
   {
    "duration": 529,
    "start_time": "2021-06-12T10:34:55.327Z"
   },
   {
    "duration": 114,
    "start_time": "2021-06-12T10:36:29.788Z"
   },
   {
    "duration": 350,
    "start_time": "2021-06-12T10:36:34.245Z"
   },
   {
    "duration": 14,
    "start_time": "2021-06-12T10:36:39.913Z"
   },
   {
    "duration": 10,
    "start_time": "2021-06-12T10:37:04.269Z"
   },
   {
    "duration": 1590,
    "start_time": "2021-06-12T10:43:42.351Z"
   },
   {
    "duration": 27,
    "start_time": "2021-06-12T10:44:17.833Z"
   },
   {
    "duration": 393,
    "start_time": "2021-06-12T10:44:40.763Z"
   },
   {
    "duration": 329,
    "start_time": "2021-06-12T10:45:13.865Z"
   },
   {
    "duration": 1544,
    "start_time": "2021-06-12T10:45:24.098Z"
   },
   {
    "duration": 369,
    "start_time": "2021-06-12T10:45:41.479Z"
   },
   {
    "duration": 26,
    "start_time": "2021-06-12T10:45:51.753Z"
   },
   {
    "duration": 355,
    "start_time": "2021-06-12T10:47:20.465Z"
   },
   {
    "duration": 26,
    "start_time": "2021-06-12T10:47:51.172Z"
   },
   {
    "duration": 386,
    "start_time": "2021-06-12T10:49:02.799Z"
   },
   {
    "duration": 21,
    "start_time": "2021-06-12T10:49:43.541Z"
   },
   {
    "duration": 27,
    "start_time": "2021-06-12T10:49:55.678Z"
   },
   {
    "duration": 26,
    "start_time": "2021-06-12T10:50:13.970Z"
   },
   {
    "duration": 35,
    "start_time": "2021-06-12T10:50:27.808Z"
   },
   {
    "duration": 29,
    "start_time": "2021-06-12T10:51:06.012Z"
   },
   {
    "duration": 328,
    "start_time": "2021-06-12T10:51:19.208Z"
   },
   {
    "duration": 33,
    "start_time": "2021-06-12T10:51:57.124Z"
   },
   {
    "duration": 35,
    "start_time": "2021-06-12T10:52:17.796Z"
   },
   {
    "duration": 34,
    "start_time": "2021-06-12T10:52:33.804Z"
   },
   {
    "duration": 37,
    "start_time": "2021-06-12T10:52:50.821Z"
   },
   {
    "duration": 39,
    "start_time": "2021-06-12T10:53:06.112Z"
   },
   {
    "duration": 36,
    "start_time": "2021-06-12T10:53:11.728Z"
   },
   {
    "duration": 34,
    "start_time": "2021-06-12T10:58:51.353Z"
   },
   {
    "duration": 798,
    "start_time": "2021-06-12T11:46:36.073Z"
   },
   {
    "duration": 416,
    "start_time": "2021-06-12T11:46:47.893Z"
   },
   {
    "duration": 15,
    "start_time": "2021-06-12T11:47:07.329Z"
   },
   {
    "duration": 23,
    "start_time": "2021-06-12T11:47:15.329Z"
   },
   {
    "duration": 24,
    "start_time": "2021-06-12T11:47:24.061Z"
   },
   {
    "duration": 344,
    "start_time": "2021-06-12T11:48:22.704Z"
   },
   {
    "duration": 346,
    "start_time": "2021-06-12T11:48:50.110Z"
   },
   {
    "duration": 19,
    "start_time": "2021-06-12T11:49:05.490Z"
   },
   {
    "duration": 21,
    "start_time": "2021-06-12T11:49:16.403Z"
   },
   {
    "duration": 872,
    "start_time": "2021-06-12T11:49:43.931Z"
   },
   {
    "duration": 14,
    "start_time": "2021-06-12T11:49:44.805Z"
   },
   {
    "duration": 43,
    "start_time": "2021-06-12T11:49:44.826Z"
   },
   {
    "duration": 30,
    "start_time": "2021-06-12T11:49:44.872Z"
   },
   {
    "duration": 18,
    "start_time": "2021-06-12T11:49:44.926Z"
   },
   {
    "duration": 17,
    "start_time": "2021-06-12T11:49:44.947Z"
   },
   {
    "duration": 69,
    "start_time": "2021-06-12T11:49:44.966Z"
   },
   {
    "duration": 17,
    "start_time": "2021-06-12T11:49:45.038Z"
   },
   {
    "duration": 24,
    "start_time": "2021-06-12T11:49:45.057Z"
   },
   {
    "duration": 24,
    "start_time": "2021-06-12T11:49:58.827Z"
   },
   {
    "duration": 453,
    "start_time": "2021-06-12T11:50:41.021Z"
   },
   {
    "duration": 24,
    "start_time": "2021-06-12T11:50:48.821Z"
   },
   {
    "duration": 31,
    "start_time": "2021-06-12T11:52:44.904Z"
   },
   {
    "duration": 33,
    "start_time": "2021-06-12T11:54:04.582Z"
   },
   {
    "duration": 584,
    "start_time": "2021-06-12T11:57:36.675Z"
   },
   {
    "duration": 8926,
    "start_time": "2021-06-12T11:57:49.118Z"
   },
   {
    "duration": 32,
    "start_time": "2021-06-12T11:58:22.644Z"
   },
   {
    "duration": 4415,
    "start_time": "2021-06-12T11:58:28.560Z"
   },
   {
    "duration": 8,
    "start_time": "2021-06-12T12:08:19.580Z"
   },
   {
    "duration": 360,
    "start_time": "2021-06-12T12:11:51.166Z"
   },
   {
    "duration": 39,
    "start_time": "2021-06-12T12:12:00.490Z"
   },
   {
    "duration": 35,
    "start_time": "2021-06-12T12:12:25.019Z"
   },
   {
    "duration": 496,
    "start_time": "2021-06-12T12:12:37.520Z"
   },
   {
    "duration": 35,
    "start_time": "2021-06-12T12:12:55.607Z"
   },
   {
    "duration": 34,
    "start_time": "2021-06-12T12:13:55.240Z"
   },
   {
    "duration": 24,
    "start_time": "2021-06-12T15:50:52.113Z"
   },
   {
    "duration": 383,
    "start_time": "2021-06-12T15:51:43.912Z"
   },
   {
    "duration": 25,
    "start_time": "2021-06-12T15:52:02.458Z"
   },
   {
    "duration": 378,
    "start_time": "2021-06-12T22:38:52.509Z"
   },
   {
    "duration": 819,
    "start_time": "2021-06-12T22:39:01.760Z"
   },
   {
    "duration": 14,
    "start_time": "2021-06-12T22:39:02.582Z"
   },
   {
    "duration": 56,
    "start_time": "2021-06-12T22:39:02.599Z"
   },
   {
    "duration": 30,
    "start_time": "2021-06-12T22:39:02.658Z"
   },
   {
    "duration": 45,
    "start_time": "2021-06-12T22:39:02.690Z"
   },
   {
    "duration": 17,
    "start_time": "2021-06-12T22:39:02.738Z"
   },
   {
    "duration": 36,
    "start_time": "2021-06-12T22:39:02.757Z"
   },
   {
    "duration": 44,
    "start_time": "2021-06-12T22:39:02.796Z"
   },
   {
    "duration": 26,
    "start_time": "2021-06-12T22:39:02.842Z"
   },
   {
    "duration": 428,
    "start_time": "2021-06-12T22:39:02.871Z"
   },
   {
    "duration": 406,
    "start_time": "2021-06-12T22:39:37.037Z"
   },
   {
    "duration": 414,
    "start_time": "2021-06-12T22:41:10.065Z"
   },
   {
    "duration": 49,
    "start_time": "2021-06-12T22:41:29.762Z"
   },
   {
    "duration": 33,
    "start_time": "2021-06-12T22:41:47.278Z"
   },
   {
    "duration": 357,
    "start_time": "2021-06-12T22:42:16.940Z"
   },
   {
    "duration": 33,
    "start_time": "2021-06-12T22:42:23.337Z"
   },
   {
    "duration": 863,
    "start_time": "2021-06-12T22:42:45.819Z"
   },
   {
    "duration": 14,
    "start_time": "2021-06-12T22:42:46.684Z"
   },
   {
    "duration": 53,
    "start_time": "2021-06-12T22:42:46.701Z"
   },
   {
    "duration": 28,
    "start_time": "2021-06-12T22:42:46.756Z"
   },
   {
    "duration": 43,
    "start_time": "2021-06-12T22:42:46.787Z"
   },
   {
    "duration": 17,
    "start_time": "2021-06-12T22:42:46.832Z"
   },
   {
    "duration": 34,
    "start_time": "2021-06-12T22:42:46.852Z"
   },
   {
    "duration": 44,
    "start_time": "2021-06-12T22:42:46.889Z"
   },
   {
    "duration": 27,
    "start_time": "2021-06-12T22:42:46.936Z"
   },
   {
    "duration": 64,
    "start_time": "2021-06-12T22:42:46.966Z"
   },
   {
    "duration": 143,
    "start_time": "2021-06-12T22:44:52.216Z"
   },
   {
    "duration": 35,
    "start_time": "2021-06-12T22:45:40.269Z"
   },
   {
    "duration": 34,
    "start_time": "2021-06-12T22:49:21.242Z"
   },
   {
    "duration": 35,
    "start_time": "2021-06-12T22:49:36.460Z"
   },
   {
    "duration": 943,
    "start_time": "2021-06-12T22:49:45.407Z"
   },
   {
    "duration": 448,
    "start_time": "2021-06-12T22:51:13.118Z"
   },
   {
    "duration": 892,
    "start_time": "2021-06-12T22:53:07.894Z"
   },
   {
    "duration": 16,
    "start_time": "2021-06-12T22:53:08.791Z"
   },
   {
    "duration": 62,
    "start_time": "2021-06-12T22:53:08.811Z"
   },
   {
    "duration": 51,
    "start_time": "2021-06-12T22:53:08.877Z"
   },
   {
    "duration": 20,
    "start_time": "2021-06-12T22:53:08.931Z"
   },
   {
    "duration": 20,
    "start_time": "2021-06-12T22:53:08.954Z"
   },
   {
    "duration": 73,
    "start_time": "2021-06-12T22:53:08.977Z"
   },
   {
    "duration": 18,
    "start_time": "2021-06-12T22:53:09.054Z"
   },
   {
    "duration": 60,
    "start_time": "2021-06-12T22:53:09.075Z"
   },
   {
    "duration": 548,
    "start_time": "2021-06-12T22:53:09.139Z"
   },
   {
    "duration": 7,
    "start_time": "2021-06-12T22:55:20.976Z"
   },
   {
    "duration": 36,
    "start_time": "2021-06-12T22:56:01.398Z"
   },
   {
    "duration": 370,
    "start_time": "2021-06-12T22:57:47.132Z"
   },
   {
    "duration": 833,
    "start_time": "2021-06-12T22:57:59.347Z"
   },
   {
    "duration": 14,
    "start_time": "2021-06-12T22:58:00.183Z"
   },
   {
    "duration": 60,
    "start_time": "2021-06-12T22:58:00.199Z"
   },
   {
    "duration": 29,
    "start_time": "2021-06-12T22:58:00.262Z"
   },
   {
    "duration": 39,
    "start_time": "2021-06-12T22:58:00.293Z"
   },
   {
    "duration": 19,
    "start_time": "2021-06-12T22:58:00.335Z"
   },
   {
    "duration": 36,
    "start_time": "2021-06-12T22:58:00.358Z"
   },
   {
    "duration": 44,
    "start_time": "2021-06-12T22:58:00.398Z"
   },
   {
    "duration": 27,
    "start_time": "2021-06-12T22:58:00.446Z"
   },
   {
    "duration": 623,
    "start_time": "2021-06-12T22:58:00.477Z"
   },
   {
    "duration": 6140,
    "start_time": "2021-06-12T22:58:37.992Z"
   },
   {
    "duration": 364,
    "start_time": "2021-06-12T23:32:47.321Z"
   },
   {
    "duration": 34,
    "start_time": "2021-06-12T23:33:05.609Z"
   },
   {
    "duration": 7,
    "start_time": "2021-06-12T23:34:27.587Z"
   },
   {
    "duration": 8,
    "start_time": "2021-06-12T23:34:42.738Z"
   },
   {
    "duration": 28,
    "start_time": "2021-06-12T23:37:21.861Z"
   },
   {
    "duration": 10,
    "start_time": "2021-06-12T23:38:06.943Z"
   },
   {
    "duration": 10,
    "start_time": "2021-06-12T23:38:40.120Z"
   },
   {
    "duration": 14,
    "start_time": "2021-06-12T23:42:06.904Z"
   },
   {
    "duration": 29,
    "start_time": "2021-06-12T23:43:49.270Z"
   },
   {
    "duration": 506,
    "start_time": "2021-06-12T23:44:22.880Z"
   },
   {
    "duration": 344,
    "start_time": "2021-06-12T23:44:32.916Z"
   },
   {
    "duration": 615,
    "start_time": "2021-06-12T23:44:49.576Z"
   },
   {
    "duration": 11,
    "start_time": "2021-06-12T23:46:04.946Z"
   },
   {
    "duration": 30356,
    "start_time": "2021-06-12T23:47:15.090Z"
   },
   {
    "duration": 342,
    "start_time": "2021-06-12T23:48:09.345Z"
   },
   {
    "duration": 371,
    "start_time": "2021-06-12T23:48:46.279Z"
   },
   {
    "duration": 364,
    "start_time": "2021-06-12T23:48:54.254Z"
   },
   {
    "duration": 340,
    "start_time": "2021-06-12T23:49:11.061Z"
   },
   {
    "duration": 373,
    "start_time": "2021-06-12T23:51:25.228Z"
   },
   {
    "duration": 1499,
    "start_time": "2021-06-12T23:51:42.193Z"
   },
   {
    "duration": 374,
    "start_time": "2021-06-12T23:52:49.823Z"
   },
   {
    "duration": 407,
    "start_time": "2021-06-12T23:53:21.811Z"
   },
   {
    "duration": 453,
    "start_time": "2021-06-12T23:54:01.586Z"
   },
   {
    "duration": 31978,
    "start_time": "2021-06-12T23:58:16.230Z"
   },
   {
    "duration": 323,
    "start_time": "2021-06-12T23:59:29.367Z"
   },
   {
    "duration": 29,
    "start_time": "2021-06-12T23:59:53.079Z"
   },
   {
    "duration": 848,
    "start_time": "2021-06-13T08:21:08.244Z"
   },
   {
    "duration": 15,
    "start_time": "2021-06-13T08:21:38.264Z"
   },
   {
    "duration": 357,
    "start_time": "2021-06-13T08:21:51.282Z"
   },
   {
    "duration": 39,
    "start_time": "2021-06-13T08:23:46.845Z"
   },
   {
    "duration": 28,
    "start_time": "2021-06-13T08:23:49.257Z"
   },
   {
    "duration": 124,
    "start_time": "2021-06-13T09:40:04.703Z"
   },
   {
    "duration": 363,
    "start_time": "2021-06-13T09:40:20.157Z"
   },
   {
    "duration": 356,
    "start_time": "2021-06-13T09:40:43.051Z"
   },
   {
    "duration": 282,
    "start_time": "2021-06-13T09:40:52.772Z"
   },
   {
    "duration": 576,
    "start_time": "2021-06-13T09:41:06.588Z"
   },
   {
    "duration": 871,
    "start_time": "2021-06-13T09:41:19.988Z"
   },
   {
    "duration": 231,
    "start_time": "2021-06-13T09:42:55.751Z"
   },
   {
    "duration": 428,
    "start_time": "2021-06-13T09:43:24.582Z"
   },
   {
    "duration": 362,
    "start_time": "2021-06-13T09:55:20.714Z"
   },
   {
    "duration": 333,
    "start_time": "2021-06-13T09:55:28.264Z"
   },
   {
    "duration": 404,
    "start_time": "2021-06-13T09:55:37.628Z"
   },
   {
    "duration": 31,
    "start_time": "2021-06-13T10:01:24.207Z"
   },
   {
    "duration": 8669,
    "start_time": "2021-06-13T10:09:36.414Z"
   },
   {
    "duration": 754,
    "start_time": "2021-06-13T10:21:28.223Z"
   },
   {
    "duration": 641,
    "start_time": "2021-06-13T10:24:10.699Z"
   },
   {
    "duration": 607,
    "start_time": "2021-06-13T10:25:06.413Z"
   },
   {
    "duration": 565,
    "start_time": "2021-06-13T10:25:40.375Z"
   },
   {
    "duration": 642,
    "start_time": "2021-06-13T10:25:59.311Z"
   },
   {
    "duration": 20,
    "start_time": "2021-06-13T10:27:40.057Z"
   },
   {
    "duration": 581,
    "start_time": "2021-06-13T10:27:41.727Z"
   },
   {
    "duration": 547,
    "start_time": "2021-06-13T10:27:47.081Z"
   },
   {
    "duration": 751,
    "start_time": "2021-06-13T10:28:42.893Z"
   },
   {
    "duration": 631,
    "start_time": "2021-06-13T10:29:36.119Z"
   },
   {
    "duration": 603,
    "start_time": "2021-06-13T10:30:22.043Z"
   },
   {
    "duration": 614,
    "start_time": "2021-06-13T10:30:56.134Z"
   },
   {
    "duration": 8,
    "start_time": "2021-06-13T10:34:28.590Z"
   },
   {
    "duration": 6,
    "start_time": "2021-06-13T10:34:38.918Z"
   },
   {
    "duration": 6,
    "start_time": "2021-06-13T10:34:40.554Z"
   },
   {
    "duration": 7,
    "start_time": "2021-06-13T11:07:49.497Z"
   },
   {
    "duration": 7,
    "start_time": "2021-06-13T11:07:50.427Z"
   },
   {
    "duration": 6,
    "start_time": "2021-06-13T11:07:51.301Z"
   },
   {
    "duration": 6,
    "start_time": "2021-06-13T11:07:52.088Z"
   },
   {
    "duration": 6,
    "start_time": "2021-06-13T11:07:52.798Z"
   },
   {
    "duration": 7,
    "start_time": "2021-06-13T11:09:36.228Z"
   },
   {
    "duration": 7,
    "start_time": "2021-06-13T11:19:08.765Z"
   },
   {
    "duration": 378,
    "start_time": "2021-06-13T11:22:49.084Z"
   },
   {
    "duration": 2904,
    "start_time": "2021-06-13T11:23:03.953Z"
   },
   {
    "duration": 2723,
    "start_time": "2021-06-13T11:23:48.167Z"
   },
   {
    "duration": 9092,
    "start_time": "2021-06-13T11:30:47.376Z"
   },
   {
    "duration": 364,
    "start_time": "2021-06-13T11:32:59.773Z"
   },
   {
    "duration": 121,
    "start_time": "2021-06-13T11:33:23.627Z"
   },
   {
    "duration": 327,
    "start_time": "2021-06-13T11:34:37.417Z"
   },
   {
    "duration": 932,
    "start_time": "2021-06-13T11:38:42.601Z"
   },
   {
    "duration": 1144,
    "start_time": "2021-06-13T11:39:32.656Z"
   },
   {
    "duration": 11,
    "start_time": "2021-06-13T11:39:44.627Z"
   },
   {
    "duration": 614,
    "start_time": "2021-06-13T11:40:47.491Z"
   },
   {
    "duration": 11,
    "start_time": "2021-06-13T11:41:16.498Z"
   },
   {
    "duration": 615,
    "start_time": "2021-06-13T11:41:17.464Z"
   },
   {
    "duration": 16,
    "start_time": "2021-06-13T11:44:14.724Z"
   },
   {
    "duration": 8,
    "start_time": "2021-06-13T11:44:57.568Z"
   },
   {
    "duration": 8,
    "start_time": "2021-06-13T11:44:58.363Z"
   },
   {
    "duration": 8,
    "start_time": "2021-06-13T11:44:58.999Z"
   },
   {
    "duration": 7,
    "start_time": "2021-06-13T11:44:59.500Z"
   },
   {
    "duration": 11,
    "start_time": "2021-06-13T11:45:06.810Z"
   },
   {
    "duration": 7,
    "start_time": "2021-06-13T11:45:57.539Z"
   },
   {
    "duration": 7,
    "start_time": "2021-06-13T11:46:04.516Z"
   },
   {
    "duration": 8,
    "start_time": "2021-06-13T11:46:10.866Z"
   },
   {
    "duration": 8,
    "start_time": "2021-06-13T11:46:26.668Z"
   },
   {
    "duration": 7,
    "start_time": "2021-06-13T11:46:27.442Z"
   },
   {
    "duration": 7,
    "start_time": "2021-06-13T11:46:28.145Z"
   },
   {
    "duration": 34,
    "start_time": "2021-06-13T11:52:26.602Z"
   },
   {
    "duration": 375,
    "start_time": "2021-06-13T11:56:35.382Z"
   },
   {
    "duration": 23,
    "start_time": "2021-06-13T11:56:41.391Z"
   },
   {
    "duration": 318,
    "start_time": "2021-06-13T11:57:49.974Z"
   },
   {
    "duration": 23,
    "start_time": "2021-06-13T11:57:59.914Z"
   },
   {
    "duration": 23,
    "start_time": "2021-06-13T11:58:13.509Z"
   },
   {
    "duration": 17,
    "start_time": "2021-06-13T11:58:57.873Z"
   },
   {
    "duration": 25,
    "start_time": "2021-06-13T11:59:07.746Z"
   },
   {
    "duration": 23,
    "start_time": "2021-06-13T11:59:44.063Z"
   },
   {
    "duration": 23,
    "start_time": "2021-06-13T12:00:06.943Z"
   },
   {
    "duration": 24,
    "start_time": "2021-06-13T12:01:05.432Z"
   },
   {
    "duration": 23,
    "start_time": "2021-06-13T12:01:19.175Z"
   },
   {
    "duration": 24,
    "start_time": "2021-06-13T12:01:34.126Z"
   },
   {
    "duration": 24,
    "start_time": "2021-06-13T12:01:41.101Z"
   },
   {
    "duration": 23,
    "start_time": "2021-06-13T12:01:54.126Z"
   },
   {
    "duration": 22,
    "start_time": "2021-06-13T12:03:25.051Z"
   },
   {
    "duration": 22,
    "start_time": "2021-06-13T12:08:57.273Z"
   },
   {
    "duration": 22,
    "start_time": "2021-06-13T12:26:01.049Z"
   },
   {
    "duration": 23,
    "start_time": "2021-06-13T12:27:05.963Z"
   },
   {
    "duration": 22,
    "start_time": "2021-06-13T12:27:09.568Z"
   },
   {
    "duration": 31,
    "start_time": "2021-06-13T12:43:44.195Z"
   },
   {
    "duration": 345,
    "start_time": "2021-06-13T12:45:17.441Z"
   },
   {
    "duration": 620,
    "start_time": "2021-06-13T12:45:33.736Z"
   },
   {
    "duration": 408,
    "start_time": "2021-06-13T12:46:40.540Z"
   },
   {
    "duration": 13,
    "start_time": "2021-06-13T12:47:52.706Z"
   },
   {
    "duration": 9,
    "start_time": "2021-06-13T12:49:38.753Z"
   },
   {
    "duration": 326,
    "start_time": "2021-06-13T12:56:47.055Z"
   },
   {
    "duration": 360,
    "start_time": "2021-06-13T12:59:51.132Z"
   },
   {
    "duration": 936,
    "start_time": "2021-06-13T13:02:04.222Z"
   },
   {
    "duration": 673,
    "start_time": "2021-06-13T13:02:19.423Z"
   },
   {
    "duration": 367,
    "start_time": "2021-06-13T13:02:53.866Z"
   },
   {
    "duration": 372,
    "start_time": "2021-06-13T13:03:23.758Z"
   },
   {
    "duration": 643,
    "start_time": "2021-06-13T13:08:07.211Z"
   },
   {
    "duration": 667,
    "start_time": "2021-06-13T13:08:37.169Z"
   },
   {
    "duration": 625,
    "start_time": "2021-06-13T13:08:52.096Z"
   },
   {
    "duration": 349,
    "start_time": "2021-06-13T13:09:36.447Z"
   },
   {
    "duration": 8356,
    "start_time": "2021-06-13T13:25:23.698Z"
   },
   {
    "duration": 15,
    "start_time": "2021-06-13T13:26:04.905Z"
   },
   {
    "duration": 14,
    "start_time": "2021-06-13T13:31:10.455Z"
   },
   {
    "duration": 13,
    "start_time": "2021-06-13T13:32:59.465Z"
   },
   {
    "duration": 15,
    "start_time": "2021-06-13T13:33:17.950Z"
   },
   {
    "duration": 14,
    "start_time": "2021-06-13T13:33:30.742Z"
   },
   {
    "duration": 15,
    "start_time": "2021-06-13T13:33:39.426Z"
   },
   {
    "duration": 14,
    "start_time": "2021-06-13T13:33:44.420Z"
   },
   {
    "duration": 106,
    "start_time": "2021-06-13T13:33:54.492Z"
   },
   {
    "duration": 14,
    "start_time": "2021-06-13T13:34:05.214Z"
   },
   {
    "duration": 14,
    "start_time": "2021-06-13T13:34:13.305Z"
   },
   {
    "duration": 14,
    "start_time": "2021-06-13T13:34:23.254Z"
   },
   {
    "duration": 14,
    "start_time": "2021-06-13T13:36:31.273Z"
   },
   {
    "duration": 14,
    "start_time": "2021-06-13T13:36:38.388Z"
   },
   {
    "duration": 14,
    "start_time": "2021-06-13T13:37:25.415Z"
   },
   {
    "duration": 34,
    "start_time": "2021-06-13T13:37:37.862Z"
   },
   {
    "duration": 14,
    "start_time": "2021-06-13T13:38:14.941Z"
   },
   {
    "duration": 15,
    "start_time": "2021-06-13T13:39:00.754Z"
   },
   {
    "duration": 638,
    "start_time": "2021-06-13T14:12:50.167Z"
   },
   {
    "duration": 10,
    "start_time": "2021-06-13T14:12:50.807Z"
   },
   {
    "duration": 28,
    "start_time": "2021-06-13T14:12:50.819Z"
   },
   {
    "duration": 39,
    "start_time": "2021-06-13T14:12:50.849Z"
   },
   {
    "duration": 15,
    "start_time": "2021-06-13T14:12:50.890Z"
   },
   {
    "duration": 16,
    "start_time": "2021-06-13T14:12:50.907Z"
   },
   {
    "duration": 22,
    "start_time": "2021-06-13T14:12:50.925Z"
   },
   {
    "duration": 41,
    "start_time": "2021-06-13T14:12:50.951Z"
   },
   {
    "duration": 18,
    "start_time": "2021-06-13T14:12:50.995Z"
   },
   {
    "duration": 3664,
    "start_time": "2021-06-13T14:12:51.015Z"
   },
   {
    "duration": 22,
    "start_time": "2021-06-13T14:12:54.684Z"
   },
   {
    "duration": 16,
    "start_time": "2021-06-13T14:12:54.707Z"
   },
   {
    "duration": 272,
    "start_time": "2021-06-13T14:12:54.725Z"
   },
   {
    "duration": 14,
    "start_time": "2021-06-13T14:12:54.999Z"
   },
   {
    "duration": 420,
    "start_time": "2021-06-13T14:12:55.015Z"
   },
   {
    "duration": 433,
    "start_time": "2021-06-13T14:12:55.437Z"
   },
   {
    "duration": 547,
    "start_time": "2021-06-13T14:12:55.873Z"
   },
   {
    "duration": 398,
    "start_time": "2021-06-13T14:12:56.421Z"
   },
   {
    "duration": 506,
    "start_time": "2021-06-13T14:12:56.821Z"
   },
   {
    "duration": 559,
    "start_time": "2021-06-13T14:12:57.329Z"
   },
   {
    "duration": 5,
    "start_time": "2021-06-13T14:12:57.889Z"
   },
   {
    "duration": 8,
    "start_time": "2021-06-13T14:12:57.895Z"
   },
   {
    "duration": 5,
    "start_time": "2021-06-13T14:12:57.906Z"
   },
   {
    "duration": 6,
    "start_time": "2021-06-13T14:12:57.912Z"
   },
   {
    "duration": 6,
    "start_time": "2021-06-13T14:12:57.919Z"
   },
   {
    "duration": 7,
    "start_time": "2021-06-13T14:12:57.927Z"
   },
   {
    "duration": 1802,
    "start_time": "2021-06-13T14:12:57.936Z"
   },
   {
    "duration": 16,
    "start_time": "2021-06-13T14:12:59.740Z"
   },
   {
    "duration": 32,
    "start_time": "2021-06-13T14:12:59.758Z"
   },
   {
    "duration": 17,
    "start_time": "2021-06-13T14:12:59.791Z"
   },
   {
    "duration": 17,
    "start_time": "2021-06-13T14:12:59.810Z"
   },
   {
    "duration": 15,
    "start_time": "2021-06-13T14:12:59.829Z"
   },
   {
    "duration": 49,
    "start_time": "2021-06-13T14:12:59.845Z"
   },
   {
    "duration": 251,
    "start_time": "2021-06-13T14:12:59.896Z"
   },
   {
    "duration": 13,
    "start_time": "2021-06-13T14:13:00.136Z"
   },
   {
    "duration": 12,
    "start_time": "2021-06-13T14:13:00.138Z"
   },
   {
    "duration": 4,
    "start_time": "2021-06-13T15:40:34.810Z"
   },
   {
    "duration": 397,
    "start_time": "2021-06-13T15:43:41.376Z"
   },
   {
    "duration": 858,
    "start_time": "2021-06-13T15:43:47.290Z"
   },
   {
    "duration": 15,
    "start_time": "2021-06-13T15:43:48.151Z"
   },
   {
    "duration": 56,
    "start_time": "2021-06-13T15:43:48.170Z"
   },
   {
    "duration": 29,
    "start_time": "2021-06-13T15:43:48.229Z"
   },
   {
    "duration": 20,
    "start_time": "2021-06-13T15:43:48.286Z"
   },
   {
    "duration": 16,
    "start_time": "2021-06-13T15:43:48.309Z"
   },
   {
    "duration": 65,
    "start_time": "2021-06-13T15:43:48.328Z"
   },
   {
    "duration": 18,
    "start_time": "2021-06-13T15:43:48.398Z"
   },
   {
    "duration": 25,
    "start_time": "2021-06-13T15:43:48.419Z"
   },
   {
    "duration": 5542,
    "start_time": "2021-06-13T15:43:48.447Z"
   },
   {
    "duration": 34,
    "start_time": "2021-06-13T15:43:53.992Z"
   },
   {
    "duration": 25,
    "start_time": "2021-06-13T15:43:54.029Z"
   },
   {
    "duration": 4,
    "start_time": "2021-06-13T15:43:54.085Z"
   },
   {
    "duration": 406,
    "start_time": "2021-06-13T15:43:54.091Z"
   },
   {
    "duration": 19,
    "start_time": "2021-06-13T15:43:54.500Z"
   },
   {
    "duration": 543,
    "start_time": "2021-06-13T15:43:54.521Z"
   },
   {
    "duration": 621,
    "start_time": "2021-06-13T15:43:55.067Z"
   },
   {
    "duration": 569,
    "start_time": "2021-06-13T15:43:55.691Z"
   },
   {
    "duration": 608,
    "start_time": "2021-06-13T15:43:56.263Z"
   },
   {
    "duration": 587,
    "start_time": "2021-06-13T15:43:56.874Z"
   },
   {
    "duration": 584,
    "start_time": "2021-06-13T15:43:57.463Z"
   },
   {
    "duration": 6,
    "start_time": "2021-06-13T15:43:58.050Z"
   },
   {
    "duration": 6,
    "start_time": "2021-06-13T15:43:58.061Z"
   },
   {
    "duration": 6,
    "start_time": "2021-06-13T15:43:58.086Z"
   },
   {
    "duration": 12,
    "start_time": "2021-06-13T15:43:58.094Z"
   },
   {
    "duration": 11,
    "start_time": "2021-06-13T15:43:58.109Z"
   },
   {
    "duration": 21,
    "start_time": "2021-06-13T15:43:58.122Z"
   },
   {
    "duration": 2716,
    "start_time": "2021-06-13T15:44:00.986Z"
   },
   {
    "duration": 287,
    "start_time": "2021-06-13T15:51:31.823Z"
   },
   {
    "duration": 24,
    "start_time": "2021-06-13T15:52:08.864Z"
   },
   {
    "duration": 263,
    "start_time": "2021-06-13T15:52:24.138Z"
   },
   {
    "duration": 281,
    "start_time": "2021-06-13T15:53:01.664Z"
   },
   {
    "duration": 474,
    "start_time": "2021-06-13T15:54:27.172Z"
   },
   {
    "duration": 841,
    "start_time": "2021-06-13T15:56:18.622Z"
   },
   {
    "duration": 16,
    "start_time": "2021-06-13T15:56:19.467Z"
   },
   {
    "duration": 46,
    "start_time": "2021-06-13T15:56:19.486Z"
   },
   {
    "duration": 51,
    "start_time": "2021-06-13T15:56:19.535Z"
   },
   {
    "duration": 22,
    "start_time": "2021-06-13T15:56:19.594Z"
   },
   {
    "duration": 18,
    "start_time": "2021-06-13T15:56:19.618Z"
   },
   {
    "duration": 65,
    "start_time": "2021-06-13T15:56:19.638Z"
   },
   {
    "duration": 16,
    "start_time": "2021-06-13T15:56:19.707Z"
   },
   {
    "duration": 23,
    "start_time": "2021-06-13T15:56:19.726Z"
   },
   {
    "duration": 5696,
    "start_time": "2021-06-13T15:56:19.751Z"
   },
   {
    "duration": 50,
    "start_time": "2021-06-13T15:56:25.449Z"
   },
   {
    "duration": 26,
    "start_time": "2021-06-13T15:56:25.501Z"
   },
   {
    "duration": 8,
    "start_time": "2021-06-13T15:56:25.529Z"
   },
   {
    "duration": 446,
    "start_time": "2021-06-13T15:56:25.539Z"
   },
   {
    "duration": 22,
    "start_time": "2021-06-13T15:56:25.988Z"
   },
   {
    "duration": 539,
    "start_time": "2021-06-13T15:56:26.012Z"
   },
   {
    "duration": 651,
    "start_time": "2021-06-13T15:56:26.554Z"
   },
   {
    "duration": 553,
    "start_time": "2021-06-13T15:56:27.207Z"
   },
   {
    "duration": 617,
    "start_time": "2021-06-13T15:56:27.762Z"
   },
   {
    "duration": 603,
    "start_time": "2021-06-13T15:56:28.385Z"
   },
   {
    "duration": 572,
    "start_time": "2021-06-13T15:56:28.991Z"
   },
   {
    "duration": 6,
    "start_time": "2021-06-13T15:56:29.566Z"
   },
   {
    "duration": 9,
    "start_time": "2021-06-13T15:56:29.590Z"
   },
   {
    "duration": 6,
    "start_time": "2021-06-13T15:56:29.602Z"
   },
   {
    "duration": 7,
    "start_time": "2021-06-13T15:56:29.610Z"
   },
   {
    "duration": 8,
    "start_time": "2021-06-13T15:56:29.620Z"
   },
   {
    "duration": 8,
    "start_time": "2021-06-13T15:56:29.630Z"
   },
   {
    "duration": 2869,
    "start_time": "2021-06-13T15:56:29.641Z"
   },
   {
    "duration": 24,
    "start_time": "2021-06-13T15:56:32.513Z"
   },
   {
    "duration": 53,
    "start_time": "2021-06-13T15:56:32.540Z"
   },
   {
    "duration": 25,
    "start_time": "2021-06-13T15:56:32.596Z"
   },
   {
    "duration": 25,
    "start_time": "2021-06-13T15:56:32.624Z"
   },
   {
    "duration": 56,
    "start_time": "2021-06-13T15:56:32.651Z"
   },
   {
    "duration": 21,
    "start_time": "2021-06-13T15:56:32.710Z"
   },
   {
    "duration": 482,
    "start_time": "2021-06-13T15:56:32.733Z"
   },
   {
    "duration": 12,
    "start_time": "2021-06-13T15:56:33.217Z"
   },
   {
    "duration": 18,
    "start_time": "2021-06-13T15:56:33.231Z"
   },
   {
    "duration": 85,
    "start_time": "2021-06-13T16:01:14.137Z"
   },
   {
    "duration": 523,
    "start_time": "2021-06-13T16:05:10.005Z"
   },
   {
    "duration": 19,
    "start_time": "2021-06-13T16:05:29.744Z"
   },
   {
    "duration": 11,
    "start_time": "2021-06-13T16:05:38.815Z"
   },
   {
    "duration": 31,
    "start_time": "2021-06-13T16:05:44.038Z"
   },
   {
    "duration": 28,
    "start_time": "2021-06-13T16:06:14.876Z"
   },
   {
    "duration": 102,
    "start_time": "2021-06-13T16:06:26.742Z"
   },
   {
    "duration": 19,
    "start_time": "2021-06-13T16:06:34.890Z"
   },
   {
    "duration": 71,
    "start_time": "2021-06-13T16:09:35.383Z"
   },
   {
    "duration": 499,
    "start_time": "2021-06-13T16:13:31.673Z"
   },
   {
    "duration": 7819,
    "start_time": "2021-06-13T16:13:53.035Z"
   },
   {
    "duration": 74,
    "start_time": "2021-06-13T16:14:20.725Z"
   },
   {
    "duration": 14,
    "start_time": "2021-06-13T16:14:20.801Z"
   },
   {
    "duration": 44,
    "start_time": "2021-06-13T16:14:20.818Z"
   },
   {
    "duration": 48,
    "start_time": "2021-06-13T16:14:20.865Z"
   },
   {
    "duration": 19,
    "start_time": "2021-06-13T16:14:20.916Z"
   },
   {
    "duration": 49,
    "start_time": "2021-06-13T16:14:20.937Z"
   },
   {
    "duration": 533,
    "start_time": "2021-06-13T16:14:38.210Z"
   },
   {
    "duration": 810,
    "start_time": "2021-06-13T16:16:35.913Z"
   },
   {
    "duration": 7968,
    "start_time": "2021-06-13T16:16:53.210Z"
   },
   {
    "duration": 11,
    "start_time": "2021-06-13T16:20:01.561Z"
   },
   {
    "duration": 11,
    "start_time": "2021-06-13T16:20:15.708Z"
   },
   {
    "duration": 95,
    "start_time": "2021-06-13T16:27:11.769Z"
   },
   {
    "duration": 102,
    "start_time": "2021-06-13T16:27:19.393Z"
   },
   {
    "duration": 10,
    "start_time": "2021-06-13T16:27:34.025Z"
   },
   {
    "duration": 10,
    "start_time": "2021-06-13T16:27:49.426Z"
   },
   {
    "duration": 9,
    "start_time": "2021-06-13T16:28:38.998Z"
   },
   {
    "duration": 10,
    "start_time": "2021-06-13T16:28:40.061Z"
   },
   {
    "duration": 319,
    "start_time": "2021-06-13T16:29:56.874Z"
   },
   {
    "duration": 303,
    "start_time": "2021-06-13T16:30:08.022Z"
   },
   {
    "duration": 12,
    "start_time": "2021-06-13T16:30:19.452Z"
   },
   {
    "duration": 278,
    "start_time": "2021-06-13T16:31:34.319Z"
   },
   {
    "duration": 316,
    "start_time": "2021-06-13T16:32:19.553Z"
   },
   {
    "duration": 122,
    "start_time": "2021-06-13T16:32:33.887Z"
   },
   {
    "duration": 311,
    "start_time": "2021-06-13T16:32:46.082Z"
   },
   {
    "duration": 309,
    "start_time": "2021-06-13T16:34:26.663Z"
   },
   {
    "duration": 296,
    "start_time": "2021-06-13T16:34:34.901Z"
   },
   {
    "duration": 341,
    "start_time": "2021-06-13T16:35:13.105Z"
   },
   {
    "duration": 292,
    "start_time": "2021-06-13T16:38:35.961Z"
   },
   {
    "duration": 292,
    "start_time": "2021-06-13T16:38:39.096Z"
   },
   {
    "duration": 1437,
    "start_time": "2021-06-13T16:38:56.113Z"
   },
   {
    "duration": 16,
    "start_time": "2021-06-13T16:38:57.553Z"
   },
   {
    "duration": 44,
    "start_time": "2021-06-13T16:38:57.586Z"
   },
   {
    "duration": 53,
    "start_time": "2021-06-13T16:38:57.632Z"
   },
   {
    "duration": 17,
    "start_time": "2021-06-13T16:38:57.688Z"
   },
   {
    "duration": 18,
    "start_time": "2021-06-13T16:38:57.707Z"
   },
   {
    "duration": 62,
    "start_time": "2021-06-13T16:38:57.727Z"
   },
   {
    "duration": 17,
    "start_time": "2021-06-13T16:38:57.791Z"
   },
   {
    "duration": 25,
    "start_time": "2021-06-13T16:38:57.812Z"
   },
   {
    "duration": 5756,
    "start_time": "2021-06-13T16:38:57.841Z"
   },
   {
    "duration": 37,
    "start_time": "2021-06-13T16:39:03.600Z"
   },
   {
    "duration": 61,
    "start_time": "2021-06-13T16:39:03.641Z"
   },
   {
    "duration": 388,
    "start_time": "2021-06-13T16:39:03.705Z"
   },
   {
    "duration": 19,
    "start_time": "2021-06-13T16:39:04.096Z"
   },
   {
    "duration": 642,
    "start_time": "2021-06-13T16:39:04.118Z"
   },
   {
    "duration": 598,
    "start_time": "2021-06-13T16:39:04.763Z"
   },
   {
    "duration": 587,
    "start_time": "2021-06-13T16:39:05.364Z"
   },
   {
    "duration": 614,
    "start_time": "2021-06-13T16:39:05.954Z"
   },
   {
    "duration": 585,
    "start_time": "2021-06-13T16:39:06.570Z"
   },
   {
    "duration": 547,
    "start_time": "2021-06-13T16:39:07.158Z"
   },
   {
    "duration": 7,
    "start_time": "2021-06-13T16:39:07.708Z"
   },
   {
    "duration": 10,
    "start_time": "2021-06-13T16:39:07.717Z"
   },
   {
    "duration": 7,
    "start_time": "2021-06-13T16:39:07.729Z"
   },
   {
    "duration": 6,
    "start_time": "2021-06-13T16:39:07.739Z"
   },
   {
    "duration": 7,
    "start_time": "2021-06-13T16:39:07.785Z"
   },
   {
    "duration": 7,
    "start_time": "2021-06-13T16:39:07.795Z"
   },
   {
    "duration": 2716,
    "start_time": "2021-06-13T16:39:07.807Z"
   },
   {
    "duration": 22,
    "start_time": "2021-06-13T16:39:10.527Z"
   },
   {
    "duration": 48,
    "start_time": "2021-06-13T16:39:10.551Z"
   },
   {
    "duration": 23,
    "start_time": "2021-06-13T16:39:10.602Z"
   },
   {
    "duration": 24,
    "start_time": "2021-06-13T16:39:10.628Z"
   },
   {
    "duration": 24,
    "start_time": "2021-06-13T16:39:10.685Z"
   },
   {
    "duration": 21,
    "start_time": "2021-06-13T16:39:10.712Z"
   },
   {
    "duration": 21,
    "start_time": "2021-06-13T16:39:10.735Z"
   },
   {
    "duration": 10,
    "start_time": "2021-06-13T16:39:10.785Z"
   },
   {
    "duration": 311,
    "start_time": "2021-06-13T16:39:10.798Z"
   },
   {
    "duration": 309,
    "start_time": "2021-06-13T16:39:11.111Z"
   },
   {
    "duration": 14,
    "start_time": "2021-06-13T16:39:11.423Z"
   },
   {
    "duration": 20,
    "start_time": "2021-06-13T16:39:11.440Z"
   },
   {
    "duration": 26,
    "start_time": "2021-06-13T16:39:11.462Z"
   },
   {
    "duration": 311,
    "start_time": "2021-06-13T16:39:11.491Z"
   },
   {
    "duration": 315,
    "start_time": "2021-06-13T16:39:11.804Z"
   },
   {
    "duration": 13,
    "start_time": "2021-06-13T16:39:12.122Z"
   },
   {
    "duration": 11,
    "start_time": "2021-06-13T16:39:12.138Z"
   },
   {
    "duration": 38,
    "start_time": "2021-06-13T16:39:12.152Z"
   },
   {
    "duration": 13,
    "start_time": "2021-06-13T16:39:12.192Z"
   },
   {
    "duration": 651,
    "start_time": "2021-06-13T16:45:14.889Z"
   },
   {
    "duration": 253,
    "start_time": "2021-06-13T16:46:35.548Z"
   },
   {
    "duration": 223,
    "start_time": "2021-06-13T16:47:16.757Z"
   },
   {
    "duration": 242,
    "start_time": "2021-06-13T16:48:42.993Z"
   },
   {
    "duration": 233,
    "start_time": "2021-06-13T16:49:27.495Z"
   },
   {
    "duration": 238,
    "start_time": "2021-06-13T16:50:04.760Z"
   }
  ],
  "kernelspec": {
   "display_name": "Python 3",
   "language": "python",
   "name": "python3"
  },
  "language_info": {
   "codemirror_mode": {
    "name": "ipython",
    "version": 3
   },
   "file_extension": ".py",
   "mimetype": "text/x-python",
   "name": "python",
   "nbconvert_exporter": "python",
   "pygments_lexer": "ipython3",
   "version": "3.8.8"
  },
  "toc": {
   "base_numbering": 1,
   "nav_menu": {},
   "number_sections": true,
   "sideBar": true,
   "skip_h1_title": true,
   "title_cell": "Table of Contents",
   "title_sidebar": "Contents",
   "toc_cell": false,
   "toc_position": {},
   "toc_section_display": true,
   "toc_window_display": false
  }
 },
 "nbformat": 4,
 "nbformat_minor": 2
}
