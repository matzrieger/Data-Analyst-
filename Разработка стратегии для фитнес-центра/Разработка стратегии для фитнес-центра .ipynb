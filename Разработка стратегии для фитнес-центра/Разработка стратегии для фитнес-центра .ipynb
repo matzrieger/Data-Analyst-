{
 "cells": [
  {
   "cell_type": "markdown",
   "metadata": {},
   "source": [
    "Сеть фитнес-центров разрабатывает стратегию взаимодействия с клиентами на основе аналитических данных. Распространённая проблема фитнес-клубов и других сервисов — отток клиентов. Для фитнес-центра можно считать, что клиент попал в отток, если за последний месяц ни разу не посетил спортзал. Чтобы бороться с оттоком, отдел по работе с клиентами перевёл в электронный вид множество клиентских анкет. Задача — провести анализ и подготовить план действий по удержанию клиентов.\n",
    "А именно:\n",
    "научиться прогнозировать вероятность оттока (на уровне следующего месяца) для каждого клиента;\n",
    "сформировать типичные портреты клиентов: выделить несколько наиболее ярких групп и охарактеризовать их основные свойства;\n",
    "проанализировать основные признаки, наиболее сильно влияющие на отток;\n",
    "сформулировать основные выводы и разработать рекомендации по повышению качества работы с клиентами:\n",
    "- выделить целевые группы клиентов;\n",
    "- предложить меры по снижению оттока;\n",
    "- определить другие особенности взаимодействия с клиентами."
   ]
  },
  {
   "cell_type": "markdown",
   "metadata": {},
   "source": [
    "План работы:\n",
    "\n",
    "1) [Загрузка данных](#Загрузка-данных)\n",
    "    \n",
    "2) [Проведение исследовательского анализа данных](#Проведение-исследовательского-анализа-данных)\n",
    "    \n",
    "3) [Построение модели прогнозирования оттока клиентов](#Построение-модели-прогнозирования-оттока-клиентов)\n",
    "    \n",
    "4) [Кластеризация клиентов](#Кластеризация-клиентов)\n",
    "    \n",
    "5) [Формулировка выводов и базовых рекомендаций по работе с клиентами](#Формулировка-выводов-и-базовых-рекомендаций-по-работе-с-клиентами)"
   ]
  },
  {
   "cell_type": "markdown",
   "metadata": {},
   "source": [
    "## Загрузка данных"
   ]
  },
  {
   "cell_type": "code",
   "execution_count": 1,
   "metadata": {},
   "outputs": [
    {
     "name": "stdout",
     "output_type": "stream",
     "text": [
      "(4000, 14)\n"
     ]
    },
    {
     "data": {
      "text/html": [
       "<div>\n",
       "<style scoped>\n",
       "    .dataframe tbody tr th:only-of-type {\n",
       "        vertical-align: middle;\n",
       "    }\n",
       "\n",
       "    .dataframe tbody tr th {\n",
       "        vertical-align: top;\n",
       "    }\n",
       "\n",
       "    .dataframe thead th {\n",
       "        text-align: right;\n",
       "    }\n",
       "</style>\n",
       "<table border=\"1\" class=\"dataframe\">\n",
       "  <thead>\n",
       "    <tr style=\"text-align: right;\">\n",
       "      <th></th>\n",
       "      <th>gender</th>\n",
       "      <th>Near_Location</th>\n",
       "      <th>Partner</th>\n",
       "      <th>Promo_friends</th>\n",
       "      <th>Phone</th>\n",
       "      <th>Contract_period</th>\n",
       "      <th>Group_visits</th>\n",
       "      <th>Age</th>\n",
       "      <th>Avg_additional_charges_total</th>\n",
       "      <th>Month_to_end_contract</th>\n",
       "      <th>Lifetime</th>\n",
       "      <th>Avg_class_frequency_total</th>\n",
       "      <th>Avg_class_frequency_current_month</th>\n",
       "      <th>Churn</th>\n",
       "    </tr>\n",
       "  </thead>\n",
       "  <tbody>\n",
       "    <tr>\n",
       "      <td>0</td>\n",
       "      <td>1</td>\n",
       "      <td>1</td>\n",
       "      <td>1</td>\n",
       "      <td>1</td>\n",
       "      <td>0</td>\n",
       "      <td>6</td>\n",
       "      <td>1</td>\n",
       "      <td>29</td>\n",
       "      <td>14.227470</td>\n",
       "      <td>5.0</td>\n",
       "      <td>3</td>\n",
       "      <td>0.020398</td>\n",
       "      <td>0.000000</td>\n",
       "      <td>0</td>\n",
       "    </tr>\n",
       "    <tr>\n",
       "      <td>1</td>\n",
       "      <td>0</td>\n",
       "      <td>1</td>\n",
       "      <td>0</td>\n",
       "      <td>0</td>\n",
       "      <td>1</td>\n",
       "      <td>12</td>\n",
       "      <td>1</td>\n",
       "      <td>31</td>\n",
       "      <td>113.202938</td>\n",
       "      <td>12.0</td>\n",
       "      <td>7</td>\n",
       "      <td>1.922936</td>\n",
       "      <td>1.910244</td>\n",
       "      <td>0</td>\n",
       "    </tr>\n",
       "    <tr>\n",
       "      <td>2</td>\n",
       "      <td>0</td>\n",
       "      <td>1</td>\n",
       "      <td>1</td>\n",
       "      <td>0</td>\n",
       "      <td>1</td>\n",
       "      <td>1</td>\n",
       "      <td>0</td>\n",
       "      <td>28</td>\n",
       "      <td>129.448479</td>\n",
       "      <td>1.0</td>\n",
       "      <td>2</td>\n",
       "      <td>1.859098</td>\n",
       "      <td>1.736502</td>\n",
       "      <td>0</td>\n",
       "    </tr>\n",
       "    <tr>\n",
       "      <td>3</td>\n",
       "      <td>0</td>\n",
       "      <td>1</td>\n",
       "      <td>1</td>\n",
       "      <td>1</td>\n",
       "      <td>1</td>\n",
       "      <td>12</td>\n",
       "      <td>1</td>\n",
       "      <td>33</td>\n",
       "      <td>62.669863</td>\n",
       "      <td>12.0</td>\n",
       "      <td>2</td>\n",
       "      <td>3.205633</td>\n",
       "      <td>3.357215</td>\n",
       "      <td>0</td>\n",
       "    </tr>\n",
       "    <tr>\n",
       "      <td>4</td>\n",
       "      <td>1</td>\n",
       "      <td>1</td>\n",
       "      <td>1</td>\n",
       "      <td>1</td>\n",
       "      <td>1</td>\n",
       "      <td>1</td>\n",
       "      <td>0</td>\n",
       "      <td>26</td>\n",
       "      <td>198.362265</td>\n",
       "      <td>1.0</td>\n",
       "      <td>3</td>\n",
       "      <td>1.113884</td>\n",
       "      <td>1.120078</td>\n",
       "      <td>0</td>\n",
       "    </tr>\n",
       "    <tr>\n",
       "      <td>...</td>\n",
       "      <td>...</td>\n",
       "      <td>...</td>\n",
       "      <td>...</td>\n",
       "      <td>...</td>\n",
       "      <td>...</td>\n",
       "      <td>...</td>\n",
       "      <td>...</td>\n",
       "      <td>...</td>\n",
       "      <td>...</td>\n",
       "      <td>...</td>\n",
       "      <td>...</td>\n",
       "      <td>...</td>\n",
       "      <td>...</td>\n",
       "      <td>...</td>\n",
       "    </tr>\n",
       "    <tr>\n",
       "      <td>3995</td>\n",
       "      <td>1</td>\n",
       "      <td>1</td>\n",
       "      <td>1</td>\n",
       "      <td>0</td>\n",
       "      <td>1</td>\n",
       "      <td>12</td>\n",
       "      <td>0</td>\n",
       "      <td>33</td>\n",
       "      <td>2.406023</td>\n",
       "      <td>12.0</td>\n",
       "      <td>8</td>\n",
       "      <td>2.284497</td>\n",
       "      <td>2.349070</td>\n",
       "      <td>0</td>\n",
       "    </tr>\n",
       "    <tr>\n",
       "      <td>3996</td>\n",
       "      <td>0</td>\n",
       "      <td>1</td>\n",
       "      <td>0</td>\n",
       "      <td>0</td>\n",
       "      <td>1</td>\n",
       "      <td>1</td>\n",
       "      <td>1</td>\n",
       "      <td>29</td>\n",
       "      <td>68.883764</td>\n",
       "      <td>1.0</td>\n",
       "      <td>1</td>\n",
       "      <td>1.277168</td>\n",
       "      <td>0.292859</td>\n",
       "      <td>1</td>\n",
       "    </tr>\n",
       "    <tr>\n",
       "      <td>3997</td>\n",
       "      <td>1</td>\n",
       "      <td>1</td>\n",
       "      <td>1</td>\n",
       "      <td>1</td>\n",
       "      <td>1</td>\n",
       "      <td>12</td>\n",
       "      <td>0</td>\n",
       "      <td>28</td>\n",
       "      <td>78.250542</td>\n",
       "      <td>11.0</td>\n",
       "      <td>2</td>\n",
       "      <td>2.786146</td>\n",
       "      <td>2.831439</td>\n",
       "      <td>0</td>\n",
       "    </tr>\n",
       "    <tr>\n",
       "      <td>3998</td>\n",
       "      <td>0</td>\n",
       "      <td>1</td>\n",
       "      <td>1</td>\n",
       "      <td>1</td>\n",
       "      <td>1</td>\n",
       "      <td>6</td>\n",
       "      <td>0</td>\n",
       "      <td>32</td>\n",
       "      <td>61.912657</td>\n",
       "      <td>5.0</td>\n",
       "      <td>3</td>\n",
       "      <td>1.630108</td>\n",
       "      <td>1.596237</td>\n",
       "      <td>0</td>\n",
       "    </tr>\n",
       "    <tr>\n",
       "      <td>3999</td>\n",
       "      <td>1</td>\n",
       "      <td>0</td>\n",
       "      <td>1</td>\n",
       "      <td>0</td>\n",
       "      <td>0</td>\n",
       "      <td>12</td>\n",
       "      <td>1</td>\n",
       "      <td>30</td>\n",
       "      <td>178.861814</td>\n",
       "      <td>12.0</td>\n",
       "      <td>1</td>\n",
       "      <td>1.101832</td>\n",
       "      <td>1.035270</td>\n",
       "      <td>0</td>\n",
       "    </tr>\n",
       "  </tbody>\n",
       "</table>\n",
       "<p>4000 rows × 14 columns</p>\n",
       "</div>"
      ],
      "text/plain": [
       "      gender  Near_Location  Partner  Promo_friends  Phone  Contract_period  \\\n",
       "0          1              1        1              1      0                6   \n",
       "1          0              1        0              0      1               12   \n",
       "2          0              1        1              0      1                1   \n",
       "3          0              1        1              1      1               12   \n",
       "4          1              1        1              1      1                1   \n",
       "...      ...            ...      ...            ...    ...              ...   \n",
       "3995       1              1        1              0      1               12   \n",
       "3996       0              1        0              0      1                1   \n",
       "3997       1              1        1              1      1               12   \n",
       "3998       0              1        1              1      1                6   \n",
       "3999       1              0        1              0      0               12   \n",
       "\n",
       "      Group_visits  Age  Avg_additional_charges_total  Month_to_end_contract  \\\n",
       "0                1   29                     14.227470                    5.0   \n",
       "1                1   31                    113.202938                   12.0   \n",
       "2                0   28                    129.448479                    1.0   \n",
       "3                1   33                     62.669863                   12.0   \n",
       "4                0   26                    198.362265                    1.0   \n",
       "...            ...  ...                           ...                    ...   \n",
       "3995             0   33                      2.406023                   12.0   \n",
       "3996             1   29                     68.883764                    1.0   \n",
       "3997             0   28                     78.250542                   11.0   \n",
       "3998             0   32                     61.912657                    5.0   \n",
       "3999             1   30                    178.861814                   12.0   \n",
       "\n",
       "      Lifetime  Avg_class_frequency_total  Avg_class_frequency_current_month  \\\n",
       "0            3                   0.020398                           0.000000   \n",
       "1            7                   1.922936                           1.910244   \n",
       "2            2                   1.859098                           1.736502   \n",
       "3            2                   3.205633                           3.357215   \n",
       "4            3                   1.113884                           1.120078   \n",
       "...        ...                        ...                                ...   \n",
       "3995         8                   2.284497                           2.349070   \n",
       "3996         1                   1.277168                           0.292859   \n",
       "3997         2                   2.786146                           2.831439   \n",
       "3998         3                   1.630108                           1.596237   \n",
       "3999         1                   1.101832                           1.035270   \n",
       "\n",
       "      Churn  \n",
       "0         0  \n",
       "1         0  \n",
       "2         0  \n",
       "3         0  \n",
       "4         0  \n",
       "...     ...  \n",
       "3995      0  \n",
       "3996      1  \n",
       "3997      0  \n",
       "3998      0  \n",
       "3999      0  \n",
       "\n",
       "[4000 rows x 14 columns]"
      ]
     },
     "execution_count": 1,
     "metadata": {},
     "output_type": "execute_result"
    }
   ],
   "source": [
    "import pandas as pd\n",
    "import matplotlib.pyplot as plt\n",
    "import seaborn as sns\n",
    "from sklearn.model_selection import train_test_split\n",
    "from sklearn.linear_model import LogisticRegression\n",
    "import warnings\n",
    "warnings.filterwarnings('ignore')\n",
    "from sklearn.ensemble import RandomForestClassifier\n",
    "from sklearn.metrics import accuracy_score, precision_score, recall_score\n",
    "from sklearn.preprocessing import StandardScaler\n",
    "from sklearn.cluster import KMeans\n",
    "from scipy.cluster.hierarchy import dendrogram, linkage\n",
    "\n",
    "gym = pd.read_csv('/datasets/gym_churn.csv')\n",
    "print(gym.shape)\n",
    "gym"
   ]
  },
  {
   "cell_type": "markdown",
   "metadata": {},
   "source": [
    "*Весомый датасет на 4000 наблюдений. 13 признаков и целевая переменная Churn. Переведем имена столбцов в нижний регистр для дальнейшего удобства работы*"
   ]
  },
  {
   "cell_type": "code",
   "execution_count": 2,
   "metadata": {},
   "outputs": [
    {
     "data": {
      "text/html": [
       "<div>\n",
       "<style scoped>\n",
       "    .dataframe tbody tr th:only-of-type {\n",
       "        vertical-align: middle;\n",
       "    }\n",
       "\n",
       "    .dataframe tbody tr th {\n",
       "        vertical-align: top;\n",
       "    }\n",
       "\n",
       "    .dataframe thead th {\n",
       "        text-align: right;\n",
       "    }\n",
       "</style>\n",
       "<table border=\"1\" class=\"dataframe\">\n",
       "  <thead>\n",
       "    <tr style=\"text-align: right;\">\n",
       "      <th></th>\n",
       "      <th>gender</th>\n",
       "      <th>near_location</th>\n",
       "      <th>partner</th>\n",
       "      <th>promo_friends</th>\n",
       "      <th>phone</th>\n",
       "      <th>contract_period</th>\n",
       "      <th>group_visits</th>\n",
       "      <th>age</th>\n",
       "      <th>avg_additional_charges_total</th>\n",
       "      <th>month_to_end_contract</th>\n",
       "      <th>lifetime</th>\n",
       "      <th>avg_class_frequency_total</th>\n",
       "      <th>avg_class_frequency_current_month</th>\n",
       "      <th>churn</th>\n",
       "    </tr>\n",
       "  </thead>\n",
       "  <tbody>\n",
       "    <tr>\n",
       "      <td>0</td>\n",
       "      <td>1</td>\n",
       "      <td>1</td>\n",
       "      <td>1</td>\n",
       "      <td>1</td>\n",
       "      <td>0</td>\n",
       "      <td>6</td>\n",
       "      <td>1</td>\n",
       "      <td>29</td>\n",
       "      <td>14.227470</td>\n",
       "      <td>5.0</td>\n",
       "      <td>3</td>\n",
       "      <td>0.020398</td>\n",
       "      <td>0.000000</td>\n",
       "      <td>0</td>\n",
       "    </tr>\n",
       "    <tr>\n",
       "      <td>1</td>\n",
       "      <td>0</td>\n",
       "      <td>1</td>\n",
       "      <td>0</td>\n",
       "      <td>0</td>\n",
       "      <td>1</td>\n",
       "      <td>12</td>\n",
       "      <td>1</td>\n",
       "      <td>31</td>\n",
       "      <td>113.202938</td>\n",
       "      <td>12.0</td>\n",
       "      <td>7</td>\n",
       "      <td>1.922936</td>\n",
       "      <td>1.910244</td>\n",
       "      <td>0</td>\n",
       "    </tr>\n",
       "    <tr>\n",
       "      <td>2</td>\n",
       "      <td>0</td>\n",
       "      <td>1</td>\n",
       "      <td>1</td>\n",
       "      <td>0</td>\n",
       "      <td>1</td>\n",
       "      <td>1</td>\n",
       "      <td>0</td>\n",
       "      <td>28</td>\n",
       "      <td>129.448479</td>\n",
       "      <td>1.0</td>\n",
       "      <td>2</td>\n",
       "      <td>1.859098</td>\n",
       "      <td>1.736502</td>\n",
       "      <td>0</td>\n",
       "    </tr>\n",
       "    <tr>\n",
       "      <td>3</td>\n",
       "      <td>0</td>\n",
       "      <td>1</td>\n",
       "      <td>1</td>\n",
       "      <td>1</td>\n",
       "      <td>1</td>\n",
       "      <td>12</td>\n",
       "      <td>1</td>\n",
       "      <td>33</td>\n",
       "      <td>62.669863</td>\n",
       "      <td>12.0</td>\n",
       "      <td>2</td>\n",
       "      <td>3.205633</td>\n",
       "      <td>3.357215</td>\n",
       "      <td>0</td>\n",
       "    </tr>\n",
       "    <tr>\n",
       "      <td>4</td>\n",
       "      <td>1</td>\n",
       "      <td>1</td>\n",
       "      <td>1</td>\n",
       "      <td>1</td>\n",
       "      <td>1</td>\n",
       "      <td>1</td>\n",
       "      <td>0</td>\n",
       "      <td>26</td>\n",
       "      <td>198.362265</td>\n",
       "      <td>1.0</td>\n",
       "      <td>3</td>\n",
       "      <td>1.113884</td>\n",
       "      <td>1.120078</td>\n",
       "      <td>0</td>\n",
       "    </tr>\n",
       "    <tr>\n",
       "      <td>...</td>\n",
       "      <td>...</td>\n",
       "      <td>...</td>\n",
       "      <td>...</td>\n",
       "      <td>...</td>\n",
       "      <td>...</td>\n",
       "      <td>...</td>\n",
       "      <td>...</td>\n",
       "      <td>...</td>\n",
       "      <td>...</td>\n",
       "      <td>...</td>\n",
       "      <td>...</td>\n",
       "      <td>...</td>\n",
       "      <td>...</td>\n",
       "      <td>...</td>\n",
       "    </tr>\n",
       "    <tr>\n",
       "      <td>3995</td>\n",
       "      <td>1</td>\n",
       "      <td>1</td>\n",
       "      <td>1</td>\n",
       "      <td>0</td>\n",
       "      <td>1</td>\n",
       "      <td>12</td>\n",
       "      <td>0</td>\n",
       "      <td>33</td>\n",
       "      <td>2.406023</td>\n",
       "      <td>12.0</td>\n",
       "      <td>8</td>\n",
       "      <td>2.284497</td>\n",
       "      <td>2.349070</td>\n",
       "      <td>0</td>\n",
       "    </tr>\n",
       "    <tr>\n",
       "      <td>3996</td>\n",
       "      <td>0</td>\n",
       "      <td>1</td>\n",
       "      <td>0</td>\n",
       "      <td>0</td>\n",
       "      <td>1</td>\n",
       "      <td>1</td>\n",
       "      <td>1</td>\n",
       "      <td>29</td>\n",
       "      <td>68.883764</td>\n",
       "      <td>1.0</td>\n",
       "      <td>1</td>\n",
       "      <td>1.277168</td>\n",
       "      <td>0.292859</td>\n",
       "      <td>1</td>\n",
       "    </tr>\n",
       "    <tr>\n",
       "      <td>3997</td>\n",
       "      <td>1</td>\n",
       "      <td>1</td>\n",
       "      <td>1</td>\n",
       "      <td>1</td>\n",
       "      <td>1</td>\n",
       "      <td>12</td>\n",
       "      <td>0</td>\n",
       "      <td>28</td>\n",
       "      <td>78.250542</td>\n",
       "      <td>11.0</td>\n",
       "      <td>2</td>\n",
       "      <td>2.786146</td>\n",
       "      <td>2.831439</td>\n",
       "      <td>0</td>\n",
       "    </tr>\n",
       "    <tr>\n",
       "      <td>3998</td>\n",
       "      <td>0</td>\n",
       "      <td>1</td>\n",
       "      <td>1</td>\n",
       "      <td>1</td>\n",
       "      <td>1</td>\n",
       "      <td>6</td>\n",
       "      <td>0</td>\n",
       "      <td>32</td>\n",
       "      <td>61.912657</td>\n",
       "      <td>5.0</td>\n",
       "      <td>3</td>\n",
       "      <td>1.630108</td>\n",
       "      <td>1.596237</td>\n",
       "      <td>0</td>\n",
       "    </tr>\n",
       "    <tr>\n",
       "      <td>3999</td>\n",
       "      <td>1</td>\n",
       "      <td>0</td>\n",
       "      <td>1</td>\n",
       "      <td>0</td>\n",
       "      <td>0</td>\n",
       "      <td>12</td>\n",
       "      <td>1</td>\n",
       "      <td>30</td>\n",
       "      <td>178.861814</td>\n",
       "      <td>12.0</td>\n",
       "      <td>1</td>\n",
       "      <td>1.101832</td>\n",
       "      <td>1.035270</td>\n",
       "      <td>0</td>\n",
       "    </tr>\n",
       "  </tbody>\n",
       "</table>\n",
       "<p>4000 rows × 14 columns</p>\n",
       "</div>"
      ],
      "text/plain": [
       "      gender  near_location  partner  promo_friends  phone  contract_period  \\\n",
       "0          1              1        1              1      0                6   \n",
       "1          0              1        0              0      1               12   \n",
       "2          0              1        1              0      1                1   \n",
       "3          0              1        1              1      1               12   \n",
       "4          1              1        1              1      1                1   \n",
       "...      ...            ...      ...            ...    ...              ...   \n",
       "3995       1              1        1              0      1               12   \n",
       "3996       0              1        0              0      1                1   \n",
       "3997       1              1        1              1      1               12   \n",
       "3998       0              1        1              1      1                6   \n",
       "3999       1              0        1              0      0               12   \n",
       "\n",
       "      group_visits  age  avg_additional_charges_total  month_to_end_contract  \\\n",
       "0                1   29                     14.227470                    5.0   \n",
       "1                1   31                    113.202938                   12.0   \n",
       "2                0   28                    129.448479                    1.0   \n",
       "3                1   33                     62.669863                   12.0   \n",
       "4                0   26                    198.362265                    1.0   \n",
       "...            ...  ...                           ...                    ...   \n",
       "3995             0   33                      2.406023                   12.0   \n",
       "3996             1   29                     68.883764                    1.0   \n",
       "3997             0   28                     78.250542                   11.0   \n",
       "3998             0   32                     61.912657                    5.0   \n",
       "3999             1   30                    178.861814                   12.0   \n",
       "\n",
       "      lifetime  avg_class_frequency_total  avg_class_frequency_current_month  \\\n",
       "0            3                   0.020398                           0.000000   \n",
       "1            7                   1.922936                           1.910244   \n",
       "2            2                   1.859098                           1.736502   \n",
       "3            2                   3.205633                           3.357215   \n",
       "4            3                   1.113884                           1.120078   \n",
       "...        ...                        ...                                ...   \n",
       "3995         8                   2.284497                           2.349070   \n",
       "3996         1                   1.277168                           0.292859   \n",
       "3997         2                   2.786146                           2.831439   \n",
       "3998         3                   1.630108                           1.596237   \n",
       "3999         1                   1.101832                           1.035270   \n",
       "\n",
       "      churn  \n",
       "0         0  \n",
       "1         0  \n",
       "2         0  \n",
       "3         0  \n",
       "4         0  \n",
       "...     ...  \n",
       "3995      0  \n",
       "3996      1  \n",
       "3997      0  \n",
       "3998      0  \n",
       "3999      0  \n",
       "\n",
       "[4000 rows x 14 columns]"
      ]
     },
     "execution_count": 2,
     "metadata": {},
     "output_type": "execute_result"
    }
   ],
   "source": [
    "gym.columns = gym.columns.str.lower()\n",
    "gym"
   ]
  },
  {
   "cell_type": "markdown",
   "metadata": {},
   "source": [
    "## Проведение исследовательского анализа данных"
   ]
  },
  {
   "cell_type": "markdown",
   "metadata": {},
   "source": [
    "### Проверить, есть ли отсутствующие признаки, изучить средние значения и стандартные отклонения"
   ]
  },
  {
   "cell_type": "code",
   "execution_count": 3,
   "metadata": {},
   "outputs": [
    {
     "name": "stdout",
     "output_type": "stream",
     "text": [
      "<class 'pandas.core.frame.DataFrame'>\n",
      "RangeIndex: 4000 entries, 0 to 3999\n",
      "Data columns (total 14 columns):\n",
      "gender                               4000 non-null int64\n",
      "near_location                        4000 non-null int64\n",
      "partner                              4000 non-null int64\n",
      "promo_friends                        4000 non-null int64\n",
      "phone                                4000 non-null int64\n",
      "contract_period                      4000 non-null int64\n",
      "group_visits                         4000 non-null int64\n",
      "age                                  4000 non-null int64\n",
      "avg_additional_charges_total         4000 non-null float64\n",
      "month_to_end_contract                4000 non-null float64\n",
      "lifetime                             4000 non-null int64\n",
      "avg_class_frequency_total            4000 non-null float64\n",
      "avg_class_frequency_current_month    4000 non-null float64\n",
      "churn                                4000 non-null int64\n",
      "dtypes: float64(4), int64(10)\n",
      "memory usage: 437.6 KB\n"
     ]
    }
   ],
   "source": [
    "#посмотрим на сводную информацию о наборе данных\n",
    "gym.info()"
   ]
  },
  {
   "cell_type": "code",
   "execution_count": 4,
   "metadata": {},
   "outputs": [
    {
     "data": {
      "text/html": [
       "<div>\n",
       "<style scoped>\n",
       "    .dataframe tbody tr th:only-of-type {\n",
       "        vertical-align: middle;\n",
       "    }\n",
       "\n",
       "    .dataframe tbody tr th {\n",
       "        vertical-align: top;\n",
       "    }\n",
       "\n",
       "    .dataframe thead th {\n",
       "        text-align: right;\n",
       "    }\n",
       "</style>\n",
       "<table border=\"1\" class=\"dataframe\">\n",
       "  <thead>\n",
       "    <tr style=\"text-align: right;\">\n",
       "      <th></th>\n",
       "      <th>gender</th>\n",
       "      <th>near_location</th>\n",
       "      <th>partner</th>\n",
       "      <th>promo_friends</th>\n",
       "      <th>phone</th>\n",
       "      <th>contract_period</th>\n",
       "      <th>group_visits</th>\n",
       "      <th>age</th>\n",
       "      <th>avg_additional_charges_total</th>\n",
       "      <th>month_to_end_contract</th>\n",
       "      <th>lifetime</th>\n",
       "      <th>avg_class_frequency_total</th>\n",
       "      <th>avg_class_frequency_current_month</th>\n",
       "      <th>churn</th>\n",
       "    </tr>\n",
       "  </thead>\n",
       "  <tbody>\n",
       "    <tr>\n",
       "      <td>count</td>\n",
       "      <td>4000.000000</td>\n",
       "      <td>4000.000000</td>\n",
       "      <td>4000.000000</td>\n",
       "      <td>4000.000000</td>\n",
       "      <td>4000.000000</td>\n",
       "      <td>4000.000000</td>\n",
       "      <td>4000.000000</td>\n",
       "      <td>4000.000000</td>\n",
       "      <td>4000.000000</td>\n",
       "      <td>4000.000000</td>\n",
       "      <td>4000.000000</td>\n",
       "      <td>4000.000000</td>\n",
       "      <td>4000.000000</td>\n",
       "      <td>4000.000000</td>\n",
       "    </tr>\n",
       "    <tr>\n",
       "      <td>mean</td>\n",
       "      <td>0.510250</td>\n",
       "      <td>0.845250</td>\n",
       "      <td>0.486750</td>\n",
       "      <td>0.308500</td>\n",
       "      <td>0.903500</td>\n",
       "      <td>4.681250</td>\n",
       "      <td>0.412250</td>\n",
       "      <td>29.184250</td>\n",
       "      <td>146.943728</td>\n",
       "      <td>4.322750</td>\n",
       "      <td>3.724750</td>\n",
       "      <td>1.879020</td>\n",
       "      <td>1.767052</td>\n",
       "      <td>0.265250</td>\n",
       "    </tr>\n",
       "    <tr>\n",
       "      <td>std</td>\n",
       "      <td>0.499957</td>\n",
       "      <td>0.361711</td>\n",
       "      <td>0.499887</td>\n",
       "      <td>0.461932</td>\n",
       "      <td>0.295313</td>\n",
       "      <td>4.549706</td>\n",
       "      <td>0.492301</td>\n",
       "      <td>3.258367</td>\n",
       "      <td>96.355602</td>\n",
       "      <td>4.191297</td>\n",
       "      <td>3.749267</td>\n",
       "      <td>0.972245</td>\n",
       "      <td>1.052906</td>\n",
       "      <td>0.441521</td>\n",
       "    </tr>\n",
       "    <tr>\n",
       "      <td>min</td>\n",
       "      <td>0.000000</td>\n",
       "      <td>0.000000</td>\n",
       "      <td>0.000000</td>\n",
       "      <td>0.000000</td>\n",
       "      <td>0.000000</td>\n",
       "      <td>1.000000</td>\n",
       "      <td>0.000000</td>\n",
       "      <td>18.000000</td>\n",
       "      <td>0.148205</td>\n",
       "      <td>1.000000</td>\n",
       "      <td>0.000000</td>\n",
       "      <td>0.000000</td>\n",
       "      <td>0.000000</td>\n",
       "      <td>0.000000</td>\n",
       "    </tr>\n",
       "    <tr>\n",
       "      <td>25%</td>\n",
       "      <td>0.000000</td>\n",
       "      <td>1.000000</td>\n",
       "      <td>0.000000</td>\n",
       "      <td>0.000000</td>\n",
       "      <td>1.000000</td>\n",
       "      <td>1.000000</td>\n",
       "      <td>0.000000</td>\n",
       "      <td>27.000000</td>\n",
       "      <td>68.868830</td>\n",
       "      <td>1.000000</td>\n",
       "      <td>1.000000</td>\n",
       "      <td>1.180875</td>\n",
       "      <td>0.963003</td>\n",
       "      <td>0.000000</td>\n",
       "    </tr>\n",
       "    <tr>\n",
       "      <td>50%</td>\n",
       "      <td>1.000000</td>\n",
       "      <td>1.000000</td>\n",
       "      <td>0.000000</td>\n",
       "      <td>0.000000</td>\n",
       "      <td>1.000000</td>\n",
       "      <td>1.000000</td>\n",
       "      <td>0.000000</td>\n",
       "      <td>29.000000</td>\n",
       "      <td>136.220159</td>\n",
       "      <td>1.000000</td>\n",
       "      <td>3.000000</td>\n",
       "      <td>1.832768</td>\n",
       "      <td>1.719574</td>\n",
       "      <td>0.000000</td>\n",
       "    </tr>\n",
       "    <tr>\n",
       "      <td>75%</td>\n",
       "      <td>1.000000</td>\n",
       "      <td>1.000000</td>\n",
       "      <td>1.000000</td>\n",
       "      <td>1.000000</td>\n",
       "      <td>1.000000</td>\n",
       "      <td>6.000000</td>\n",
       "      <td>1.000000</td>\n",
       "      <td>31.000000</td>\n",
       "      <td>210.949625</td>\n",
       "      <td>6.000000</td>\n",
       "      <td>5.000000</td>\n",
       "      <td>2.536078</td>\n",
       "      <td>2.510336</td>\n",
       "      <td>1.000000</td>\n",
       "    </tr>\n",
       "    <tr>\n",
       "      <td>max</td>\n",
       "      <td>1.000000</td>\n",
       "      <td>1.000000</td>\n",
       "      <td>1.000000</td>\n",
       "      <td>1.000000</td>\n",
       "      <td>1.000000</td>\n",
       "      <td>12.000000</td>\n",
       "      <td>1.000000</td>\n",
       "      <td>41.000000</td>\n",
       "      <td>552.590740</td>\n",
       "      <td>12.000000</td>\n",
       "      <td>31.000000</td>\n",
       "      <td>6.023668</td>\n",
       "      <td>6.146783</td>\n",
       "      <td>1.000000</td>\n",
       "    </tr>\n",
       "  </tbody>\n",
       "</table>\n",
       "</div>"
      ],
      "text/plain": [
       "            gender  near_location      partner  promo_friends        phone  \\\n",
       "count  4000.000000    4000.000000  4000.000000    4000.000000  4000.000000   \n",
       "mean      0.510250       0.845250     0.486750       0.308500     0.903500   \n",
       "std       0.499957       0.361711     0.499887       0.461932     0.295313   \n",
       "min       0.000000       0.000000     0.000000       0.000000     0.000000   \n",
       "25%       0.000000       1.000000     0.000000       0.000000     1.000000   \n",
       "50%       1.000000       1.000000     0.000000       0.000000     1.000000   \n",
       "75%       1.000000       1.000000     1.000000       1.000000     1.000000   \n",
       "max       1.000000       1.000000     1.000000       1.000000     1.000000   \n",
       "\n",
       "       contract_period  group_visits          age  \\\n",
       "count      4000.000000   4000.000000  4000.000000   \n",
       "mean          4.681250      0.412250    29.184250   \n",
       "std           4.549706      0.492301     3.258367   \n",
       "min           1.000000      0.000000    18.000000   \n",
       "25%           1.000000      0.000000    27.000000   \n",
       "50%           1.000000      0.000000    29.000000   \n",
       "75%           6.000000      1.000000    31.000000   \n",
       "max          12.000000      1.000000    41.000000   \n",
       "\n",
       "       avg_additional_charges_total  month_to_end_contract     lifetime  \\\n",
       "count                   4000.000000            4000.000000  4000.000000   \n",
       "mean                     146.943728               4.322750     3.724750   \n",
       "std                       96.355602               4.191297     3.749267   \n",
       "min                        0.148205               1.000000     0.000000   \n",
       "25%                       68.868830               1.000000     1.000000   \n",
       "50%                      136.220159               1.000000     3.000000   \n",
       "75%                      210.949625               6.000000     5.000000   \n",
       "max                      552.590740              12.000000    31.000000   \n",
       "\n",
       "       avg_class_frequency_total  avg_class_frequency_current_month  \\\n",
       "count                4000.000000                        4000.000000   \n",
       "mean                    1.879020                           1.767052   \n",
       "std                     0.972245                           1.052906   \n",
       "min                     0.000000                           0.000000   \n",
       "25%                     1.180875                           0.963003   \n",
       "50%                     1.832768                           1.719574   \n",
       "75%                     2.536078                           2.510336   \n",
       "max                     6.023668                           6.146783   \n",
       "\n",
       "             churn  \n",
       "count  4000.000000  \n",
       "mean      0.265250  \n",
       "std       0.441521  \n",
       "min       0.000000  \n",
       "25%       0.000000  \n",
       "50%       0.000000  \n",
       "75%       1.000000  \n",
       "max       1.000000  "
      ]
     },
     "execution_count": 4,
     "metadata": {},
     "output_type": "execute_result"
    }
   ],
   "source": [
    "gym.describe()"
   ]
  },
  {
   "cell_type": "code",
   "execution_count": 5,
   "metadata": {},
   "outputs": [
    {
     "data": {
      "text/plain": [
       "0"
      ]
     },
     "execution_count": 5,
     "metadata": {},
     "output_type": "execute_result"
    }
   ],
   "source": [
    "gym.duplicated().sum()"
   ]
  },
  {
   "cell_type": "markdown",
   "metadata": {},
   "source": [
    "*Среднестатистический клиент 29 лет не живет в районе расположения фитнес-центра, редко участвует в партнетрской программе, групповых занятиях и промо \"пригласи друга\". Его абонемент длительностью меньше полгода, но и его он полностью не использует. Посещает центр около двух раз за неделю.*"
   ]
  },
  {
   "cell_type": "markdown",
   "metadata": {},
   "source": [
    "*Нет пропущенных значений, а стандартное отклонение у целевой переменной больше среднего вдвое. Вероятнее всего имеются выбросы, а значение очень вариабельно*"
   ]
  },
  {
   "cell_type": "markdown",
   "metadata": {},
   "source": [
    "### Посмотреть средние значения признаков в двух группах — тех, кто ушел в отток и тех, кто остался"
   ]
  },
  {
   "cell_type": "code",
   "execution_count": 6,
   "metadata": {},
   "outputs": [
    {
     "data": {
      "text/html": [
       "<div>\n",
       "<style scoped>\n",
       "    .dataframe tbody tr th:only-of-type {\n",
       "        vertical-align: middle;\n",
       "    }\n",
       "\n",
       "    .dataframe tbody tr th {\n",
       "        vertical-align: top;\n",
       "    }\n",
       "\n",
       "    .dataframe thead th {\n",
       "        text-align: right;\n",
       "    }\n",
       "</style>\n",
       "<table border=\"1\" class=\"dataframe\">\n",
       "  <thead>\n",
       "    <tr style=\"text-align: right;\">\n",
       "      <th></th>\n",
       "      <th>churn</th>\n",
       "      <th>gender</th>\n",
       "      <th>near_location</th>\n",
       "      <th>partner</th>\n",
       "      <th>promo_friends</th>\n",
       "      <th>phone</th>\n",
       "      <th>contract_period</th>\n",
       "      <th>group_visits</th>\n",
       "      <th>age</th>\n",
       "      <th>avg_additional_charges_total</th>\n",
       "      <th>month_to_end_contract</th>\n",
       "      <th>lifetime</th>\n",
       "      <th>avg_class_frequency_total</th>\n",
       "      <th>avg_class_frequency_current_month</th>\n",
       "    </tr>\n",
       "  </thead>\n",
       "  <tbody>\n",
       "    <tr>\n",
       "      <td>0</td>\n",
       "      <td>0</td>\n",
       "      <td>0.510037</td>\n",
       "      <td>0.873086</td>\n",
       "      <td>0.534195</td>\n",
       "      <td>0.353522</td>\n",
       "      <td>0.903709</td>\n",
       "      <td>5.747193</td>\n",
       "      <td>0.464103</td>\n",
       "      <td>29.976523</td>\n",
       "      <td>158.445715</td>\n",
       "      <td>5.283089</td>\n",
       "      <td>4.711807</td>\n",
       "      <td>2.024876</td>\n",
       "      <td>2.027882</td>\n",
       "    </tr>\n",
       "    <tr>\n",
       "      <td>1</td>\n",
       "      <td>1</td>\n",
       "      <td>0.510839</td>\n",
       "      <td>0.768143</td>\n",
       "      <td>0.355325</td>\n",
       "      <td>0.183789</td>\n",
       "      <td>0.902922</td>\n",
       "      <td>1.728558</td>\n",
       "      <td>0.268615</td>\n",
       "      <td>26.989632</td>\n",
       "      <td>115.082899</td>\n",
       "      <td>1.662582</td>\n",
       "      <td>0.990575</td>\n",
       "      <td>1.474995</td>\n",
       "      <td>1.044546</td>\n",
       "    </tr>\n",
       "  </tbody>\n",
       "</table>\n",
       "</div>"
      ],
      "text/plain": [
       "   churn    gender  near_location   partner  promo_friends     phone  \\\n",
       "0      0  0.510037       0.873086  0.534195       0.353522  0.903709   \n",
       "1      1  0.510839       0.768143  0.355325       0.183789  0.902922   \n",
       "\n",
       "   contract_period  group_visits        age  avg_additional_charges_total  \\\n",
       "0         5.747193      0.464103  29.976523                    158.445715   \n",
       "1         1.728558      0.268615  26.989632                    115.082899   \n",
       "\n",
       "   month_to_end_contract  lifetime  avg_class_frequency_total  \\\n",
       "0               5.283089  4.711807                   2.024876   \n",
       "1               1.662582  0.990575                   1.474995   \n",
       "\n",
       "   avg_class_frequency_current_month  \n",
       "0                           2.027882  \n",
       "1                           1.044546  "
      ]
     },
     "execution_count": 6,
     "metadata": {},
     "output_type": "execute_result"
    }
   ],
   "source": [
    "gym.groupby('churn').mean().reset_index()"
   ]
  },
  {
   "cell_type": "markdown",
   "metadata": {},
   "source": [
    "*Клиенты, ушедшие в отток, имеют меньшее среднее значение по всем признакам. Они меньшше участвовали в промо-акции, абонименты у них также меньшей длительности, да и вообще они менее активны, несмотря на то, что добратся до фитнес центра им быстрее.*"
   ]
  },
  {
   "cell_type": "markdown",
   "metadata": {},
   "source": [
    "### Построить столбчатые гистограммы и распределения признаков для тех, кто ушёл (отток) и тех, кто остался (не попали в отток)"
   ]
  },
  {
   "cell_type": "code",
   "execution_count": 7,
   "metadata": {},
   "outputs": [
    {
     "data": {
      "image/png": "[encoded data removed]",
      "text/plain": [
       "<Figure size 720x288 with 1 Axes>"
      ]
     },
     "metadata": {
      "needs_background": "light"
     },
     "output_type": "display_data"
    },
    {
     "data": {
      "image/png": "[encoded data removed]",
      "text/plain": [
       "<Figure size 720x288 with 1 Axes>"
      ]
     },
     "metadata": {
      "needs_background": "light"
     },
     "output_type": "display_data"
    },
    {
     "data": {
      "image/png": "[encoded data removed]",
      "text/plain": [
       "<Figure size 720x288 with 1 Axes>"
      ]
     },
     "metadata": {
      "needs_background": "light"
     },
     "output_type": "display_data"
    },
    {
     "data": {
      "image/png": "[encoded data removed]",
      "text/plain": [
       "<Figure size 720x288 with 1 Axes>"
      ]
     },
     "metadata": {
      "needs_background": "light"
     },
     "output_type": "display_data"
    },
    {
     "data": {
      "image/png": "[encoded data removed]",
      "text/plain": [
       "<Figure size 720x288 with 1 Axes>"
      ]
     },
     "metadata": {
      "needs_background": "light"
     },
     "output_type": "display_data"
    },
    {
     "data": {
      "image/png": "[encoded data removed]",
      "text/plain": [
       "<Figure size 720x288 with 1 Axes>"
      ]
     },
     "metadata": {
      "needs_background": "light"
     },
     "output_type": "display_data"
    },
    {
     "data": {
      "image/png": "[encoded data removed]",
      "text/plain": [
       "<Figure size 720x288 with 1 Axes>"
      ]
     },
     "metadata": {
      "needs_background": "light"
     },
     "output_type": "display_data"
    },
    {
     "data": {
      "image/png": "[encoded data removed]",
      "text/plain": [
       "<Figure size 720x288 with 1 Axes>"
      ]
     },
     "metadata": {
      "needs_background": "light"
     },
     "output_type": "display_data"
    },
    {
     "data": {
      "image/png": "[encoded data removed]",
      "text/plain": [
       "<Figure size 720x288 with 1 Axes>"
      ]
     },
     "metadata": {
      "needs_background": "light"
     },
     "output_type": "display_data"
    },
    {
     "data": {
      "image/png": "[encoded data removed]",
      "text/plain": [
       "<Figure size 720x288 with 1 Axes>"
      ]
     },
     "metadata": {
      "needs_background": "light"
     },
     "output_type": "display_data"
    },
    {
     "data": {
      "image/png": "[encoded data removed]",
      "text/plain": [
       "<Figure size 720x288 with 1 Axes>"
      ]
     },
     "metadata": {
      "needs_background": "light"
     },
     "output_type": "display_data"
    },
    {
     "data": {
      "image/png": "[encoded data removed]",
      "text/plain": [
       "<Figure size 720x288 with 1 Axes>"
      ]
     },
     "metadata": {
      "needs_background": "light"
     },
     "output_type": "display_data"
    },
    {
     "data": {
      "image/png": "[encoded data removed]",
      "text/plain": [
       "<Figure size 720x288 with 1 Axes>"
      ]
     },
     "metadata": {
      "needs_background": "light"
     },
     "output_type": "display_data"
    }
   ],
   "source": [
    "columns = ['gender', 'near_location','partner', 'promo_friends', 'phone', 'contract_period',\n",
    "           'group_visits', 'age', 'avg_additional_charges_total', 'month_to_end_contract',\n",
    "           'lifetime', 'avg_class_frequency_total', 'avg_class_frequency_current_month']\n",
    "outflow = gym[gym['churn']==1]\n",
    "inflow = gym[gym['churn']==0]\n",
    "for column in columns: \n",
    "    plt.figure(figsize=(10,4)) \n",
    "    plt.title(column)\n",
    "    sns.distplot(outflow[column])\n",
    "    sns.distplot(inflow[column])\n",
    "    plt.legend(['Отток', 'Не отток'])\n",
    "    plt.show()"
   ]
  },
  {
   "cell_type": "markdown",
   "metadata": {},
   "source": [
    "### Построить матрицу корреляций и отобразить её"
   ]
  },
  {
   "cell_type": "code",
   "execution_count": 8,
   "metadata": {
    "scrolled": false
   },
   "outputs": [
    {
     "data": {
      "text/html": [
       "<style  type=\"text/css\" >\n",
       "    #T_7b7e34b0_1dfc_11ec_9f16_02420a39181frow0_col0 {\n",
       "            background-color:  #b40426;\n",
       "            color:  #f1f1f1;\n",
       "        }    #T_7b7e34b0_1dfc_11ec_9f16_02420a39181frow0_col1 {\n",
       "            background-color:  #5f7fe8;\n",
       "            color:  #000000;\n",
       "        }    #T_7b7e34b0_1dfc_11ec_9f16_02420a39181frow0_col2 {\n",
       "            background-color:  #6282ea;\n",
       "            color:  #000000;\n",
       "        }    #T_7b7e34b0_1dfc_11ec_9f16_02420a39181frow0_col3 {\n",
       "            background-color:  #6485ec;\n",
       "            color:  #000000;\n",
       "        }    #T_7b7e34b0_1dfc_11ec_9f16_02420a39181frow0_col4 {\n",
       "            background-color:  #3d50c3;\n",
       "            color:  #f1f1f1;\n",
       "        }    #T_7b7e34b0_1dfc_11ec_9f16_02420a39181frow0_col5 {\n",
       "            background-color:  #97b8ff;\n",
       "            color:  #000000;\n",
       "        }    #T_7b7e34b0_1dfc_11ec_9f16_02420a39181frow0_col6 {\n",
       "            background-color:  #6f92f3;\n",
       "            color:  #000000;\n",
       "        }    #T_7b7e34b0_1dfc_11ec_9f16_02420a39181frow0_col7 {\n",
       "            background-color:  #9ebeff;\n",
       "            color:  #000000;\n",
       "        }    #T_7b7e34b0_1dfc_11ec_9f16_02420a39181frow0_col8 {\n",
       "            background-color:  #6c8ff1;\n",
       "            color:  #000000;\n",
       "        }    #T_7b7e34b0_1dfc_11ec_9f16_02420a39181frow0_col9 {\n",
       "            background-color:  #96b7ff;\n",
       "            color:  #000000;\n",
       "        }    #T_7b7e34b0_1dfc_11ec_9f16_02420a39181frow0_col10 {\n",
       "            background-color:  #a3c2fe;\n",
       "            color:  #000000;\n",
       "        }    #T_7b7e34b0_1dfc_11ec_9f16_02420a39181frow0_col11 {\n",
       "            background-color:  #80a3fa;\n",
       "            color:  #000000;\n",
       "        }    #T_7b7e34b0_1dfc_11ec_9f16_02420a39181frow0_col12 {\n",
       "            background-color:  #9ebeff;\n",
       "            color:  #000000;\n",
       "        }    #T_7b7e34b0_1dfc_11ec_9f16_02420a39181frow0_col13 {\n",
       "            background-color:  #a1c0ff;\n",
       "            color:  #000000;\n",
       "        }    #T_7b7e34b0_1dfc_11ec_9f16_02420a39181frow1_col0 {\n",
       "            background-color:  #3f53c6;\n",
       "            color:  #f1f1f1;\n",
       "        }    #T_7b7e34b0_1dfc_11ec_9f16_02420a39181frow1_col1 {\n",
       "            background-color:  #b40426;\n",
       "            color:  #f1f1f1;\n",
       "        }    #T_7b7e34b0_1dfc_11ec_9f16_02420a39181frow1_col2 {\n",
       "            background-color:  #6384eb;\n",
       "            color:  #000000;\n",
       "        }    #T_7b7e34b0_1dfc_11ec_9f16_02420a39181frow1_col3 {\n",
       "            background-color:  #a6c4fe;\n",
       "            color:  #000000;\n",
       "        }    #T_7b7e34b0_1dfc_11ec_9f16_02420a39181frow1_col4 {\n",
       "            background-color:  #3b4cc0;\n",
       "            color:  #f1f1f1;\n",
       "        }    #T_7b7e34b0_1dfc_11ec_9f16_02420a39181frow1_col5 {\n",
       "            background-color:  #bcd2f7;\n",
       "            color:  #000000;\n",
       "        }    #T_7b7e34b0_1dfc_11ec_9f16_02420a39181frow1_col6 {\n",
       "            background-color:  #97b8ff;\n",
       "            color:  #000000;\n",
       "        }    #T_7b7e34b0_1dfc_11ec_9f16_02420a39181frow1_col7 {\n",
       "            background-color:  #a9c6fd;\n",
       "            color:  #000000;\n",
       "        }    #T_7b7e34b0_1dfc_11ec_9f16_02420a39181frow1_col8 {\n",
       "            background-color:  #7b9ff9;\n",
       "            color:  #000000;\n",
       "        }    #T_7b7e34b0_1dfc_11ec_9f16_02420a39181frow1_col9 {\n",
       "            background-color:  #bad0f8;\n",
       "            color:  #000000;\n",
       "        }    #T_7b7e34b0_1dfc_11ec_9f16_02420a39181frow1_col10 {\n",
       "            background-color:  #b1cbfc;\n",
       "            color:  #000000;\n",
       "        }    #T_7b7e34b0_1dfc_11ec_9f16_02420a39181frow1_col11 {\n",
       "            background-color:  #86a9fc;\n",
       "            color:  #000000;\n",
       "        }    #T_7b7e34b0_1dfc_11ec_9f16_02420a39181frow1_col12 {\n",
       "            background-color:  #abc8fd;\n",
       "            color:  #000000;\n",
       "        }    #T_7b7e34b0_1dfc_11ec_9f16_02420a39181frow1_col13 {\n",
       "            background-color:  #81a4fb;\n",
       "            color:  #000000;\n",
       "        }    #T_7b7e34b0_1dfc_11ec_9f16_02420a39181frow2_col0 {\n",
       "            background-color:  #3b4cc0;\n",
       "            color:  #f1f1f1;\n",
       "        }    #T_7b7e34b0_1dfc_11ec_9f16_02420a39181frow2_col1 {\n",
       "            background-color:  #5b7ae5;\n",
       "            color:  #000000;\n",
       "        }    #T_7b7e34b0_1dfc_11ec_9f16_02420a39181frow2_col2 {\n",
       "            background-color:  #b40426;\n",
       "            color:  #f1f1f1;\n",
       "        }    #T_7b7e34b0_1dfc_11ec_9f16_02420a39181frow2_col3 {\n",
       "            background-color:  #e4d9d2;\n",
       "            color:  #000000;\n",
       "        }    #T_7b7e34b0_1dfc_11ec_9f16_02420a39181frow2_col4 {\n",
       "            background-color:  #4358cb;\n",
       "            color:  #f1f1f1;\n",
       "        }    #T_7b7e34b0_1dfc_11ec_9f16_02420a39181frow2_col5 {\n",
       "            background-color:  #dddcdc;\n",
       "            color:  #000000;\n",
       "        }    #T_7b7e34b0_1dfc_11ec_9f16_02420a39181frow2_col6 {\n",
       "            background-color:  #7093f3;\n",
       "            color:  #000000;\n",
       "        }    #T_7b7e34b0_1dfc_11ec_9f16_02420a39181frow2_col7 {\n",
       "            background-color:  #a6c4fe;\n",
       "            color:  #000000;\n",
       "        }    #T_7b7e34b0_1dfc_11ec_9f16_02420a39181frow2_col8 {\n",
       "            background-color:  #7699f6;\n",
       "            color:  #000000;\n",
       "        }    #T_7b7e34b0_1dfc_11ec_9f16_02420a39181frow2_col9 {\n",
       "            background-color:  #dadce0;\n",
       "            color:  #000000;\n",
       "        }    #T_7b7e34b0_1dfc_11ec_9f16_02420a39181frow2_col10 {\n",
       "            background-color:  #aec9fc;\n",
       "            color:  #000000;\n",
       "        }    #T_7b7e34b0_1dfc_11ec_9f16_02420a39181frow2_col11 {\n",
       "            background-color:  #82a6fb;\n",
       "            color:  #000000;\n",
       "        }    #T_7b7e34b0_1dfc_11ec_9f16_02420a39181frow2_col12 {\n",
       "            background-color:  #a6c4fe;\n",
       "            color:  #000000;\n",
       "        }    #T_7b7e34b0_1dfc_11ec_9f16_02420a39181frow2_col13 {\n",
       "            background-color:  #799cf8;\n",
       "            color:  #000000;\n",
       "        }    #T_7b7e34b0_1dfc_11ec_9f16_02420a39181frow3_col0 {\n",
       "            background-color:  #3c4ec2;\n",
       "            color:  #f1f1f1;\n",
       "        }    #T_7b7e34b0_1dfc_11ec_9f16_02420a39181frow3_col1 {\n",
       "            background-color:  #9ebeff;\n",
       "            color:  #000000;\n",
       "        }    #T_7b7e34b0_1dfc_11ec_9f16_02420a39181frow3_col2 {\n",
       "            background-color:  #e3d9d3;\n",
       "            color:  #000000;\n",
       "        }    #T_7b7e34b0_1dfc_11ec_9f16_02420a39181frow3_col3 {\n",
       "            background-color:  #b40426;\n",
       "            color:  #f1f1f1;\n",
       "        }    #T_7b7e34b0_1dfc_11ec_9f16_02420a39181frow3_col4 {\n",
       "            background-color:  #4055c8;\n",
       "            color:  #f1f1f1;\n",
       "        }    #T_7b7e34b0_1dfc_11ec_9f16_02420a39181frow3_col5 {\n",
       "            background-color:  #d1dae9;\n",
       "            color:  #000000;\n",
       "        }    #T_7b7e34b0_1dfc_11ec_9f16_02420a39181frow3_col6 {\n",
       "            background-color:  #8db0fe;\n",
       "            color:  #000000;\n",
       "        }    #T_7b7e34b0_1dfc_11ec_9f16_02420a39181frow3_col7 {\n",
       "            background-color:  #a6c4fe;\n",
       "            color:  #000000;\n",
       "        }    #T_7b7e34b0_1dfc_11ec_9f16_02420a39181frow3_col8 {\n",
       "            background-color:  #7a9df8;\n",
       "            color:  #000000;\n",
       "        }    #T_7b7e34b0_1dfc_11ec_9f16_02420a39181frow3_col9 {\n",
       "            background-color:  #cfdaea;\n",
       "            color:  #000000;\n",
       "        }    #T_7b7e34b0_1dfc_11ec_9f16_02420a39181frow3_col10 {\n",
       "            background-color:  #b1cbfc;\n",
       "            color:  #000000;\n",
       "        }    #T_7b7e34b0_1dfc_11ec_9f16_02420a39181frow3_col11 {\n",
       "            background-color:  #82a6fb;\n",
       "            color:  #000000;\n",
       "        }    #T_7b7e34b0_1dfc_11ec_9f16_02420a39181frow3_col12 {\n",
       "            background-color:  #a9c6fd;\n",
       "            color:  #000000;\n",
       "        }    #T_7b7e34b0_1dfc_11ec_9f16_02420a39181frow3_col13 {\n",
       "            background-color:  #799cf8;\n",
       "            color:  #000000;\n",
       "        }    #T_7b7e34b0_1dfc_11ec_9f16_02420a39181frow4_col0 {\n",
       "            background-color:  #3b4cc0;\n",
       "            color:  #f1f1f1;\n",
       "        }    #T_7b7e34b0_1dfc_11ec_9f16_02420a39181frow4_col1 {\n",
       "            background-color:  #5977e3;\n",
       "            color:  #000000;\n",
       "        }    #T_7b7e34b0_1dfc_11ec_9f16_02420a39181frow4_col2 {\n",
       "            background-color:  #688aef;\n",
       "            color:  #000000;\n",
       "        }    #T_7b7e34b0_1dfc_11ec_9f16_02420a39181frow4_col3 {\n",
       "            background-color:  #6788ee;\n",
       "            color:  #000000;\n",
       "        }    #T_7b7e34b0_1dfc_11ec_9f16_02420a39181frow4_col4 {\n",
       "            background-color:  #b40426;\n",
       "            color:  #f1f1f1;\n",
       "        }    #T_7b7e34b0_1dfc_11ec_9f16_02420a39181frow4_col5 {\n",
       "            background-color:  #96b7ff;\n",
       "            color:  #000000;\n",
       "        }    #T_7b7e34b0_1dfc_11ec_9f16_02420a39181frow4_col6 {\n",
       "            background-color:  #6687ed;\n",
       "            color:  #000000;\n",
       "        }    #T_7b7e34b0_1dfc_11ec_9f16_02420a39181frow4_col7 {\n",
       "            background-color:  #97b8ff;\n",
       "            color:  #000000;\n",
       "        }    #T_7b7e34b0_1dfc_11ec_9f16_02420a39181frow4_col8 {\n",
       "            background-color:  #7295f4;\n",
       "            color:  #000000;\n",
       "        }    #T_7b7e34b0_1dfc_11ec_9f16_02420a39181frow4_col9 {\n",
       "            background-color:  #93b5fe;\n",
       "            color:  #000000;\n",
       "        }    #T_7b7e34b0_1dfc_11ec_9f16_02420a39181frow4_col10 {\n",
       "            background-color:  #9bbcff;\n",
       "            color:  #000000;\n",
       "        }    #T_7b7e34b0_1dfc_11ec_9f16_02420a39181frow4_col11 {\n",
       "            background-color:  #7da0f9;\n",
       "            color:  #000000;\n",
       "        }    #T_7b7e34b0_1dfc_11ec_9f16_02420a39181frow4_col12 {\n",
       "            background-color:  #9fbfff;\n",
       "            color:  #000000;\n",
       "        }    #T_7b7e34b0_1dfc_11ec_9f16_02420a39181frow4_col13 {\n",
       "            background-color:  #9fbfff;\n",
       "            color:  #000000;\n",
       "        }    #T_7b7e34b0_1dfc_11ec_9f16_02420a39181frow5_col0 {\n",
       "            background-color:  #3d50c3;\n",
       "            color:  #f1f1f1;\n",
       "        }    #T_7b7e34b0_1dfc_11ec_9f16_02420a39181frow5_col1 {\n",
       "            background-color:  #8caffe;\n",
       "            color:  #000000;\n",
       "        }    #T_7b7e34b0_1dfc_11ec_9f16_02420a39181frow5_col2 {\n",
       "            background-color:  #c0d4f5;\n",
       "            color:  #000000;\n",
       "        }    #T_7b7e34b0_1dfc_11ec_9f16_02420a39181frow5_col3 {\n",
       "            background-color:  #afcafc;\n",
       "            color:  #000000;\n",
       "        }    #T_7b7e34b0_1dfc_11ec_9f16_02420a39181frow5_col4 {\n",
       "            background-color:  #3d50c3;\n",
       "            color:  #f1f1f1;\n",
       "        }    #T_7b7e34b0_1dfc_11ec_9f16_02420a39181frow5_col5 {\n",
       "            background-color:  #b40426;\n",
       "            color:  #f1f1f1;\n",
       "        }    #T_7b7e34b0_1dfc_11ec_9f16_02420a39181frow5_col6 {\n",
       "            background-color:  #9dbdff;\n",
       "            color:  #000000;\n",
       "        }    #T_7b7e34b0_1dfc_11ec_9f16_02420a39181frow5_col7 {\n",
       "            background-color:  #bbd1f8;\n",
       "            color:  #000000;\n",
       "        }    #T_7b7e34b0_1dfc_11ec_9f16_02420a39181frow5_col8 {\n",
       "            background-color:  #90b2fe;\n",
       "            color:  #000000;\n",
       "        }    #T_7b7e34b0_1dfc_11ec_9f16_02420a39181frow5_col9 {\n",
       "            background-color:  #ba162b;\n",
       "            color:  #f1f1f1;\n",
       "        }    #T_7b7e34b0_1dfc_11ec_9f16_02420a39181frow5_col10 {\n",
       "            background-color:  #c7d7f0;\n",
       "            color:  #000000;\n",
       "        }    #T_7b7e34b0_1dfc_11ec_9f16_02420a39181frow5_col11 {\n",
       "            background-color:  #96b7ff;\n",
       "            color:  #000000;\n",
       "        }    #T_7b7e34b0_1dfc_11ec_9f16_02420a39181frow5_col12 {\n",
       "            background-color:  #c1d4f4;\n",
       "            color:  #000000;\n",
       "        }    #T_7b7e34b0_1dfc_11ec_9f16_02420a39181frow5_col13 {\n",
       "            background-color:  #445acc;\n",
       "            color:  #f1f1f1;\n",
       "        }    #T_7b7e34b0_1dfc_11ec_9f16_02420a39181frow6_col0 {\n",
       "            background-color:  #4358cb;\n",
       "            color:  #f1f1f1;\n",
       "        }    #T_7b7e34b0_1dfc_11ec_9f16_02420a39181frow6_col1 {\n",
       "            background-color:  #8db0fe;\n",
       "            color:  #000000;\n",
       "        }    #T_7b7e34b0_1dfc_11ec_9f16_02420a39181frow6_col2 {\n",
       "            background-color:  #6b8df0;\n",
       "            color:  #000000;\n",
       "        }    #T_7b7e34b0_1dfc_11ec_9f16_02420a39181frow6_col3 {\n",
       "            background-color:  #8badfd;\n",
       "            color:  #000000;\n",
       "        }    #T_7b7e34b0_1dfc_11ec_9f16_02420a39181frow6_col4 {\n",
       "            background-color:  #3d50c3;\n",
       "            color:  #f1f1f1;\n",
       "        }    #T_7b7e34b0_1dfc_11ec_9f16_02420a39181frow6_col5 {\n",
       "            background-color:  #c1d4f4;\n",
       "            color:  #000000;\n",
       "        }    #T_7b7e34b0_1dfc_11ec_9f16_02420a39181frow6_col6 {\n",
       "            background-color:  #b40426;\n",
       "            color:  #f1f1f1;\n",
       "        }    #T_7b7e34b0_1dfc_11ec_9f16_02420a39181frow6_col7 {\n",
       "            background-color:  #aec9fc;\n",
       "            color:  #000000;\n",
       "        }    #T_7b7e34b0_1dfc_11ec_9f16_02420a39181frow6_col8 {\n",
       "            background-color:  #799cf8;\n",
       "            color:  #000000;\n",
       "        }    #T_7b7e34b0_1dfc_11ec_9f16_02420a39181frow6_col9 {\n",
       "            background-color:  #bfd3f6;\n",
       "            color:  #000000;\n",
       "        }    #T_7b7e34b0_1dfc_11ec_9f16_02420a39181frow6_col10 {\n",
       "            background-color:  #b2ccfb;\n",
       "            color:  #000000;\n",
       "        }    #T_7b7e34b0_1dfc_11ec_9f16_02420a39181frow6_col11 {\n",
       "            background-color:  #8badfd;\n",
       "            color:  #000000;\n",
       "        }    #T_7b7e34b0_1dfc_11ec_9f16_02420a39181frow6_col12 {\n",
       "            background-color:  #aec9fc;\n",
       "            color:  #000000;\n",
       "        }    #T_7b7e34b0_1dfc_11ec_9f16_02420a39181frow6_col13 {\n",
       "            background-color:  #7597f6;\n",
       "            color:  #000000;\n",
       "        }    #T_7b7e34b0_1dfc_11ec_9f16_02420a39181frow7_col0 {\n",
       "            background-color:  #4257c9;\n",
       "            color:  #f1f1f1;\n",
       "        }    #T_7b7e34b0_1dfc_11ec_9f16_02420a39181frow7_col1 {\n",
       "            background-color:  #6f92f3;\n",
       "            color:  #000000;\n",
       "        }    #T_7b7e34b0_1dfc_11ec_9f16_02420a39181frow7_col2 {\n",
       "            background-color:  #7396f5;\n",
       "            color:  #000000;\n",
       "        }    #T_7b7e34b0_1dfc_11ec_9f16_02420a39181frow7_col3 {\n",
       "            background-color:  #7597f6;\n",
       "            color:  #000000;\n",
       "        }    #T_7b7e34b0_1dfc_11ec_9f16_02420a39181frow7_col4 {\n",
       "            background-color:  #3c4ec2;\n",
       "            color:  #f1f1f1;\n",
       "        }    #T_7b7e34b0_1dfc_11ec_9f16_02420a39181frow7_col5 {\n",
       "            background-color:  #bad0f8;\n",
       "            color:  #000000;\n",
       "        }    #T_7b7e34b0_1dfc_11ec_9f16_02420a39181frow7_col6 {\n",
       "            background-color:  #81a4fb;\n",
       "            color:  #000000;\n",
       "        }    #T_7b7e34b0_1dfc_11ec_9f16_02420a39181frow7_col7 {\n",
       "            background-color:  #b40426;\n",
       "            color:  #f1f1f1;\n",
       "        }    #T_7b7e34b0_1dfc_11ec_9f16_02420a39181frow7_col8 {\n",
       "            background-color:  #86a9fc;\n",
       "            color:  #000000;\n",
       "        }    #T_7b7e34b0_1dfc_11ec_9f16_02420a39181frow7_col9 {\n",
       "            background-color:  #b7cff9;\n",
       "            color:  #000000;\n",
       "        }    #T_7b7e34b0_1dfc_11ec_9f16_02420a39181frow7_col10 {\n",
       "            background-color:  #c6d6f1;\n",
       "            color:  #000000;\n",
       "        }    #T_7b7e34b0_1dfc_11ec_9f16_02420a39181frow7_col11 {\n",
       "            background-color:  #9dbdff;\n",
       "            color:  #000000;\n",
       "        }    #T_7b7e34b0_1dfc_11ec_9f16_02420a39181frow7_col12 {\n",
       "            background-color:  #c6d6f1;\n",
       "            color:  #000000;\n",
       "        }    #T_7b7e34b0_1dfc_11ec_9f16_02420a39181frow7_col13 {\n",
       "            background-color:  #4055c8;\n",
       "            color:  #f1f1f1;\n",
       "        }    #T_7b7e34b0_1dfc_11ec_9f16_02420a39181frow8_col0 {\n",
       "            background-color:  #3b4cc0;\n",
       "            color:  #f1f1f1;\n",
       "        }    #T_7b7e34b0_1dfc_11ec_9f16_02420a39181frow8_col1 {\n",
       "            background-color:  #6a8bef;\n",
       "            color:  #000000;\n",
       "        }    #T_7b7e34b0_1dfc_11ec_9f16_02420a39181frow8_col2 {\n",
       "            background-color:  #6b8df0;\n",
       "            color:  #000000;\n",
       "        }    #T_7b7e34b0_1dfc_11ec_9f16_02420a39181frow8_col3 {\n",
       "            background-color:  #7093f3;\n",
       "            color:  #000000;\n",
       "        }    #T_7b7e34b0_1dfc_11ec_9f16_02420a39181frow8_col4 {\n",
       "            background-color:  #4358cb;\n",
       "            color:  #f1f1f1;\n",
       "        }    #T_7b7e34b0_1dfc_11ec_9f16_02420a39181frow8_col5 {\n",
       "            background-color:  #b3cdfb;\n",
       "            color:  #000000;\n",
       "        }    #T_7b7e34b0_1dfc_11ec_9f16_02420a39181frow8_col6 {\n",
       "            background-color:  #7396f5;\n",
       "            color:  #000000;\n",
       "        }    #T_7b7e34b0_1dfc_11ec_9f16_02420a39181frow8_col7 {\n",
       "            background-color:  #aec9fc;\n",
       "            color:  #000000;\n",
       "        }    #T_7b7e34b0_1dfc_11ec_9f16_02420a39181frow8_col8 {\n",
       "            background-color:  #b40426;\n",
       "            color:  #f1f1f1;\n",
       "        }    #T_7b7e34b0_1dfc_11ec_9f16_02420a39181frow8_col9 {\n",
       "            background-color:  #b2ccfb;\n",
       "            color:  #000000;\n",
       "        }    #T_7b7e34b0_1dfc_11ec_9f16_02420a39181frow8_col10 {\n",
       "            background-color:  #b3cdfb;\n",
       "            color:  #000000;\n",
       "        }    #T_7b7e34b0_1dfc_11ec_9f16_02420a39181frow8_col11 {\n",
       "            background-color:  #88abfd;\n",
       "            color:  #000000;\n",
       "        }    #T_7b7e34b0_1dfc_11ec_9f16_02420a39181frow8_col12 {\n",
       "            background-color:  #afcafc;\n",
       "            color:  #000000;\n",
       "        }    #T_7b7e34b0_1dfc_11ec_9f16_02420a39181frow8_col13 {\n",
       "            background-color:  #6f92f3;\n",
       "            color:  #000000;\n",
       "        }    #T_7b7e34b0_1dfc_11ec_9f16_02420a39181frow9_col0 {\n",
       "            background-color:  #3d50c3;\n",
       "            color:  #f1f1f1;\n",
       "        }    #T_7b7e34b0_1dfc_11ec_9f16_02420a39181frow9_col1 {\n",
       "            background-color:  #89acfd;\n",
       "            color:  #000000;\n",
       "        }    #T_7b7e34b0_1dfc_11ec_9f16_02420a39181frow9_col2 {\n",
       "            background-color:  #bed2f6;\n",
       "            color:  #000000;\n",
       "        }    #T_7b7e34b0_1dfc_11ec_9f16_02420a39181frow9_col3 {\n",
       "            background-color:  #aec9fc;\n",
       "            color:  #000000;\n",
       "        }    #T_7b7e34b0_1dfc_11ec_9f16_02420a39181frow9_col4 {\n",
       "            background-color:  #3c4ec2;\n",
       "            color:  #f1f1f1;\n",
       "        }    #T_7b7e34b0_1dfc_11ec_9f16_02420a39181frow9_col5 {\n",
       "            background-color:  #ba162b;\n",
       "            color:  #f1f1f1;\n",
       "        }    #T_7b7e34b0_1dfc_11ec_9f16_02420a39181frow9_col6 {\n",
       "            background-color:  #9abbff;\n",
       "            color:  #000000;\n",
       "        }    #T_7b7e34b0_1dfc_11ec_9f16_02420a39181frow9_col7 {\n",
       "            background-color:  #bbd1f8;\n",
       "            color:  #000000;\n",
       "        }    #T_7b7e34b0_1dfc_11ec_9f16_02420a39181frow9_col8 {\n",
       "            background-color:  #90b2fe;\n",
       "            color:  #000000;\n",
       "        }    #T_7b7e34b0_1dfc_11ec_9f16_02420a39181frow9_col9 {\n",
       "            background-color:  #b40426;\n",
       "            color:  #f1f1f1;\n",
       "        }    #T_7b7e34b0_1dfc_11ec_9f16_02420a39181frow9_col10 {\n",
       "            background-color:  #c5d6f2;\n",
       "            color:  #000000;\n",
       "        }    #T_7b7e34b0_1dfc_11ec_9f16_02420a39181frow9_col11 {\n",
       "            background-color:  #93b5fe;\n",
       "            color:  #000000;\n",
       "        }    #T_7b7e34b0_1dfc_11ec_9f16_02420a39181frow9_col12 {\n",
       "            background-color:  #bfd3f6;\n",
       "            color:  #000000;\n",
       "        }    #T_7b7e34b0_1dfc_11ec_9f16_02420a39181frow9_col13 {\n",
       "            background-color:  #465ecf;\n",
       "            color:  #f1f1f1;\n",
       "        }    #T_7b7e34b0_1dfc_11ec_9f16_02420a39181frow10_col0 {\n",
       "            background-color:  #4257c9;\n",
       "            color:  #f1f1f1;\n",
       "        }    #T_7b7e34b0_1dfc_11ec_9f16_02420a39181frow10_col1 {\n",
       "            background-color:  #7396f5;\n",
       "            color:  #000000;\n",
       "        }    #T_7b7e34b0_1dfc_11ec_9f16_02420a39181frow10_col2 {\n",
       "            background-color:  #779af7;\n",
       "            color:  #000000;\n",
       "        }    #T_7b7e34b0_1dfc_11ec_9f16_02420a39181frow10_col3 {\n",
       "            background-color:  #7b9ff9;\n",
       "            color:  #000000;\n",
       "        }    #T_7b7e34b0_1dfc_11ec_9f16_02420a39181frow10_col4 {\n",
       "            background-color:  #3b4cc0;\n",
       "            color:  #f1f1f1;\n",
       "        }    #T_7b7e34b0_1dfc_11ec_9f16_02420a39181frow10_col5 {\n",
       "            background-color:  #c1d4f4;\n",
       "            color:  #000000;\n",
       "        }    #T_7b7e34b0_1dfc_11ec_9f16_02420a39181frow10_col6 {\n",
       "            background-color:  #80a3fa;\n",
       "            color:  #000000;\n",
       "        }    #T_7b7e34b0_1dfc_11ec_9f16_02420a39181frow10_col7 {\n",
       "            background-color:  #c1d4f4;\n",
       "            color:  #000000;\n",
       "        }    #T_7b7e34b0_1dfc_11ec_9f16_02420a39181frow10_col8 {\n",
       "            background-color:  #86a9fc;\n",
       "            color:  #000000;\n",
       "        }    #T_7b7e34b0_1dfc_11ec_9f16_02420a39181frow10_col9 {\n",
       "            background-color:  #bed2f6;\n",
       "            color:  #000000;\n",
       "        }    #T_7b7e34b0_1dfc_11ec_9f16_02420a39181frow10_col10 {\n",
       "            background-color:  #b40426;\n",
       "            color:  #f1f1f1;\n",
       "        }    #T_7b7e34b0_1dfc_11ec_9f16_02420a39181frow10_col11 {\n",
       "            background-color:  #9bbcff;\n",
       "            color:  #000000;\n",
       "        }    #T_7b7e34b0_1dfc_11ec_9f16_02420a39181frow10_col12 {\n",
       "            background-color:  #c6d6f1;\n",
       "            color:  #000000;\n",
       "        }    #T_7b7e34b0_1dfc_11ec_9f16_02420a39181frow10_col13 {\n",
       "            background-color:  #3b4cc0;\n",
       "            color:  #f1f1f1;\n",
       "        }    #T_7b7e34b0_1dfc_11ec_9f16_02420a39181frow11_col0 {\n",
       "            background-color:  #4257c9;\n",
       "            color:  #f1f1f1;\n",
       "        }    #T_7b7e34b0_1dfc_11ec_9f16_02420a39181frow11_col1 {\n",
       "            background-color:  #6a8bef;\n",
       "            color:  #000000;\n",
       "        }    #T_7b7e34b0_1dfc_11ec_9f16_02420a39181frow11_col2 {\n",
       "            background-color:  #6c8ff1;\n",
       "            color:  #000000;\n",
       "        }    #T_7b7e34b0_1dfc_11ec_9f16_02420a39181frow11_col3 {\n",
       "            background-color:  #6e90f2;\n",
       "            color:  #000000;\n",
       "        }    #T_7b7e34b0_1dfc_11ec_9f16_02420a39181frow11_col4 {\n",
       "            background-color:  #4257c9;\n",
       "            color:  #f1f1f1;\n",
       "        }    #T_7b7e34b0_1dfc_11ec_9f16_02420a39181frow11_col5 {\n",
       "            background-color:  #afcafc;\n",
       "            color:  #000000;\n",
       "        }    #T_7b7e34b0_1dfc_11ec_9f16_02420a39181frow11_col6 {\n",
       "            background-color:  #7a9df8;\n",
       "            color:  #000000;\n",
       "        }    #T_7b7e34b0_1dfc_11ec_9f16_02420a39181frow11_col7 {\n",
       "            background-color:  #b7cff9;\n",
       "            color:  #000000;\n",
       "        }    #T_7b7e34b0_1dfc_11ec_9f16_02420a39181frow11_col8 {\n",
       "            background-color:  #7b9ff9;\n",
       "            color:  #000000;\n",
       "        }    #T_7b7e34b0_1dfc_11ec_9f16_02420a39181frow11_col9 {\n",
       "            background-color:  #abc8fd;\n",
       "            color:  #000000;\n",
       "        }    #T_7b7e34b0_1dfc_11ec_9f16_02420a39181frow11_col10 {\n",
       "            background-color:  #bad0f8;\n",
       "            color:  #000000;\n",
       "        }    #T_7b7e34b0_1dfc_11ec_9f16_02420a39181frow11_col11 {\n",
       "            background-color:  #b40426;\n",
       "            color:  #f1f1f1;\n",
       "        }    #T_7b7e34b0_1dfc_11ec_9f16_02420a39181frow11_col12 {\n",
       "            background-color:  #c0282f;\n",
       "            color:  #f1f1f1;\n",
       "        }    #T_7b7e34b0_1dfc_11ec_9f16_02420a39181frow11_col13 {\n",
       "            background-color:  #6384eb;\n",
       "            color:  #000000;\n",
       "        }    #T_7b7e34b0_1dfc_11ec_9f16_02420a39181frow12_col0 {\n",
       "            background-color:  #3f53c6;\n",
       "            color:  #f1f1f1;\n",
       "        }    #T_7b7e34b0_1dfc_11ec_9f16_02420a39181frow12_col1 {\n",
       "            background-color:  #7093f3;\n",
       "            color:  #000000;\n",
       "        }    #T_7b7e34b0_1dfc_11ec_9f16_02420a39181frow12_col2 {\n",
       "            background-color:  #7295f4;\n",
       "            color:  #000000;\n",
       "        }    #T_7b7e34b0_1dfc_11ec_9f16_02420a39181frow12_col3 {\n",
       "            background-color:  #7699f6;\n",
       "            color:  #000000;\n",
       "        }    #T_7b7e34b0_1dfc_11ec_9f16_02420a39181frow12_col4 {\n",
       "            background-color:  #445acc;\n",
       "            color:  #f1f1f1;\n",
       "        }    #T_7b7e34b0_1dfc_11ec_9f16_02420a39181frow12_col5 {\n",
       "            background-color:  #bfd3f6;\n",
       "            color:  #000000;\n",
       "        }    #T_7b7e34b0_1dfc_11ec_9f16_02420a39181frow12_col6 {\n",
       "            background-color:  #80a3fa;\n",
       "            color:  #000000;\n",
       "        }    #T_7b7e34b0_1dfc_11ec_9f16_02420a39181frow12_col7 {\n",
       "            background-color:  #c6d6f1;\n",
       "            color:  #000000;\n",
       "        }    #T_7b7e34b0_1dfc_11ec_9f16_02420a39181frow12_col8 {\n",
       "            background-color:  #86a9fc;\n",
       "            color:  #000000;\n",
       "        }    #T_7b7e34b0_1dfc_11ec_9f16_02420a39181frow12_col9 {\n",
       "            background-color:  #bbd1f8;\n",
       "            color:  #000000;\n",
       "        }    #T_7b7e34b0_1dfc_11ec_9f16_02420a39181frow12_col10 {\n",
       "            background-color:  #cad8ef;\n",
       "            color:  #000000;\n",
       "        }    #T_7b7e34b0_1dfc_11ec_9f16_02420a39181frow12_col11 {\n",
       "            background-color:  #c12b30;\n",
       "            color:  #f1f1f1;\n",
       "        }    #T_7b7e34b0_1dfc_11ec_9f16_02420a39181frow12_col12 {\n",
       "            background-color:  #b40426;\n",
       "            color:  #f1f1f1;\n",
       "        }    #T_7b7e34b0_1dfc_11ec_9f16_02420a39181frow12_col13 {\n",
       "            background-color:  #3f53c6;\n",
       "            color:  #f1f1f1;\n",
       "        }    #T_7b7e34b0_1dfc_11ec_9f16_02420a39181frow13_col0 {\n",
       "            background-color:  #3d50c3;\n",
       "            color:  #f1f1f1;\n",
       "        }    #T_7b7e34b0_1dfc_11ec_9f16_02420a39181frow13_col1 {\n",
       "            background-color:  #3b4cc0;\n",
       "            color:  #f1f1f1;\n",
       "        }    #T_7b7e34b0_1dfc_11ec_9f16_02420a39181frow13_col2 {\n",
       "            background-color:  #3b4cc0;\n",
       "            color:  #f1f1f1;\n",
       "        }    #T_7b7e34b0_1dfc_11ec_9f16_02420a39181frow13_col3 {\n",
       "            background-color:  #3b4cc0;\n",
       "            color:  #f1f1f1;\n",
       "        }    #T_7b7e34b0_1dfc_11ec_9f16_02420a39181frow13_col4 {\n",
       "            background-color:  #3f53c6;\n",
       "            color:  #f1f1f1;\n",
       "        }    #T_7b7e34b0_1dfc_11ec_9f16_02420a39181frow13_col5 {\n",
       "            background-color:  #3b4cc0;\n",
       "            color:  #f1f1f1;\n",
       "        }    #T_7b7e34b0_1dfc_11ec_9f16_02420a39181frow13_col6 {\n",
       "            background-color:  #3b4cc0;\n",
       "            color:  #f1f1f1;\n",
       "        }    #T_7b7e34b0_1dfc_11ec_9f16_02420a39181frow13_col7 {\n",
       "            background-color:  #3b4cc0;\n",
       "            color:  #f1f1f1;\n",
       "        }    #T_7b7e34b0_1dfc_11ec_9f16_02420a39181frow13_col8 {\n",
       "            background-color:  #3b4cc0;\n",
       "            color:  #f1f1f1;\n",
       "        }    #T_7b7e34b0_1dfc_11ec_9f16_02420a39181frow13_col9 {\n",
       "            background-color:  #3b4cc0;\n",
       "            color:  #f1f1f1;\n",
       "        }    #T_7b7e34b0_1dfc_11ec_9f16_02420a39181frow13_col10 {\n",
       "            background-color:  #3b4cc0;\n",
       "            color:  #f1f1f1;\n",
       "        }    #T_7b7e34b0_1dfc_11ec_9f16_02420a39181frow13_col11 {\n",
       "            background-color:  #3b4cc0;\n",
       "            color:  #f1f1f1;\n",
       "        }    #T_7b7e34b0_1dfc_11ec_9f16_02420a39181frow13_col12 {\n",
       "            background-color:  #3b4cc0;\n",
       "            color:  #f1f1f1;\n",
       "        }    #T_7b7e34b0_1dfc_11ec_9f16_02420a39181frow13_col13 {\n",
       "            background-color:  #b40426;\n",
       "            color:  #f1f1f1;\n",
       "        }</style><table id=\"T_7b7e34b0_1dfc_11ec_9f16_02420a39181f\" ><thead>    <tr>        <th class=\"blank level0\" ></th>        <th class=\"col_heading level0 col0\" >gender</th>        <th class=\"col_heading level0 col1\" >near_location</th>        <th class=\"col_heading level0 col2\" >partner</th>        <th class=\"col_heading level0 col3\" >promo_friends</th>        <th class=\"col_heading level0 col4\" >phone</th>        <th class=\"col_heading level0 col5\" >contract_period</th>        <th class=\"col_heading level0 col6\" >group_visits</th>        <th class=\"col_heading level0 col7\" >age</th>        <th class=\"col_heading level0 col8\" >avg_additional_charges_total</th>        <th class=\"col_heading level0 col9\" >month_to_end_contract</th>        <th class=\"col_heading level0 col10\" >lifetime</th>        <th class=\"col_heading level0 col11\" >avg_class_frequency_total</th>        <th class=\"col_heading level0 col12\" >avg_class_frequency_current_month</th>        <th class=\"col_heading level0 col13\" >churn</th>    </tr></thead><tbody>\n",
       "                <tr>\n",
       "                        <th id=\"T_7b7e34b0_1dfc_11ec_9f16_02420a39181flevel0_row0\" class=\"row_heading level0 row0\" >gender</th>\n",
       "                        <td id=\"T_7b7e34b0_1dfc_11ec_9f16_02420a39181frow0_col0\" class=\"data row0 col0\" >1</td>\n",
       "                        <td id=\"T_7b7e34b0_1dfc_11ec_9f16_02420a39181frow0_col1\" class=\"data row0 col1\" >0.006699</td>\n",
       "                        <td id=\"T_7b7e34b0_1dfc_11ec_9f16_02420a39181frow0_col2\" class=\"data row0 col2\" >-0.01046</td>\n",
       "                        <td id=\"T_7b7e34b0_1dfc_11ec_9f16_02420a39181frow0_col3\" class=\"data row0 col3\" >-0.005033</td>\n",
       "                        <td id=\"T_7b7e34b0_1dfc_11ec_9f16_02420a39181frow0_col4\" class=\"data row0 col4\" >-0.008542</td>\n",
       "                        <td id=\"T_7b7e34b0_1dfc_11ec_9f16_02420a39181frow0_col5\" class=\"data row0 col5\" >0.0005023</td>\n",
       "                        <td id=\"T_7b7e34b0_1dfc_11ec_9f16_02420a39181frow0_col6\" class=\"data row0 col6\" >0.01788</td>\n",
       "                        <td id=\"T_7b7e34b0_1dfc_11ec_9f16_02420a39181frow0_col7\" class=\"data row0 col7\" >0.01381</td>\n",
       "                        <td id=\"T_7b7e34b0_1dfc_11ec_9f16_02420a39181frow0_col8\" class=\"data row0 col8\" >-0.009334</td>\n",
       "                        <td id=\"T_7b7e34b0_1dfc_11ec_9f16_02420a39181frow0_col9\" class=\"data row0 col9\" >-0.001281</td>\n",
       "                        <td id=\"T_7b7e34b0_1dfc_11ec_9f16_02420a39181frow0_col10\" class=\"data row0 col10\" >0.01358</td>\n",
       "                        <td id=\"T_7b7e34b0_1dfc_11ec_9f16_02420a39181frow0_col11\" class=\"data row0 col11\" >0.01462</td>\n",
       "                        <td id=\"T_7b7e34b0_1dfc_11ec_9f16_02420a39181frow0_col12\" class=\"data row0 col12\" >0.009156</td>\n",
       "                        <td id=\"T_7b7e34b0_1dfc_11ec_9f16_02420a39181frow0_col13\" class=\"data row0 col13\" >0.0007077</td>\n",
       "            </tr>\n",
       "            <tr>\n",
       "                        <th id=\"T_7b7e34b0_1dfc_11ec_9f16_02420a39181flevel0_row1\" class=\"row_heading level0 row1\" >near_location</th>\n",
       "                        <td id=\"T_7b7e34b0_1dfc_11ec_9f16_02420a39181frow1_col0\" class=\"data row1 col0\" >0.006699</td>\n",
       "                        <td id=\"T_7b7e34b0_1dfc_11ec_9f16_02420a39181frow1_col1\" class=\"data row1 col1\" >1</td>\n",
       "                        <td id=\"T_7b7e34b0_1dfc_11ec_9f16_02420a39181frow1_col2\" class=\"data row1 col2\" >-0.005119</td>\n",
       "                        <td id=\"T_7b7e34b0_1dfc_11ec_9f16_02420a39181frow1_col3\" class=\"data row1 col3\" >0.211</td>\n",
       "                        <td id=\"T_7b7e34b0_1dfc_11ec_9f16_02420a39181frow1_col4\" class=\"data row1 col4\" >-0.01576</td>\n",
       "                        <td id=\"T_7b7e34b0_1dfc_11ec_9f16_02420a39181frow1_col5\" class=\"data row1 col5\" >0.1502</td>\n",
       "                        <td id=\"T_7b7e34b0_1dfc_11ec_9f16_02420a39181frow1_col6\" class=\"data row1 col6\" >0.1547</td>\n",
       "                        <td id=\"T_7b7e34b0_1dfc_11ec_9f16_02420a39181frow1_col7\" class=\"data row1 col7\" >0.05836</td>\n",
       "                        <td id=\"T_7b7e34b0_1dfc_11ec_9f16_02420a39181frow1_col8\" class=\"data row1 col8\" >0.04076</td>\n",
       "                        <td id=\"T_7b7e34b0_1dfc_11ec_9f16_02420a39181frow1_col9\" class=\"data row1 col9\" >0.144</td>\n",
       "                        <td id=\"T_7b7e34b0_1dfc_11ec_9f16_02420a39181frow1_col10\" class=\"data row1 col10\" >0.07092</td>\n",
       "                        <td id=\"T_7b7e34b0_1dfc_11ec_9f16_02420a39181frow1_col11\" class=\"data row1 col11\" >0.04313</td>\n",
       "                        <td id=\"T_7b7e34b0_1dfc_11ec_9f16_02420a39181frow1_col12\" class=\"data row1 col12\" >0.06266</td>\n",
       "                        <td id=\"T_7b7e34b0_1dfc_11ec_9f16_02420a39181frow1_col13\" class=\"data row1 col13\" >-0.1281</td>\n",
       "            </tr>\n",
       "            <tr>\n",
       "                        <th id=\"T_7b7e34b0_1dfc_11ec_9f16_02420a39181flevel0_row2\" class=\"row_heading level0 row2\" >partner</th>\n",
       "                        <td id=\"T_7b7e34b0_1dfc_11ec_9f16_02420a39181frow2_col0\" class=\"data row2 col0\" >-0.01046</td>\n",
       "                        <td id=\"T_7b7e34b0_1dfc_11ec_9f16_02420a39181frow2_col1\" class=\"data row2 col1\" >-0.005119</td>\n",
       "                        <td id=\"T_7b7e34b0_1dfc_11ec_9f16_02420a39181frow2_col2\" class=\"data row2 col2\" >1</td>\n",
       "                        <td id=\"T_7b7e34b0_1dfc_11ec_9f16_02420a39181frow2_col3\" class=\"data row2 col3\" >0.452</td>\n",
       "                        <td id=\"T_7b7e34b0_1dfc_11ec_9f16_02420a39181frow2_col4\" class=\"data row2 col4\" >0.00997</td>\n",
       "                        <td id=\"T_7b7e34b0_1dfc_11ec_9f16_02420a39181frow2_col5\" class=\"data row2 col5\" >0.3062</td>\n",
       "                        <td id=\"T_7b7e34b0_1dfc_11ec_9f16_02420a39181frow2_col6\" class=\"data row2 col6\" >0.02271</td>\n",
       "                        <td id=\"T_7b7e34b0_1dfc_11ec_9f16_02420a39181frow2_col7\" class=\"data row2 col7\" >0.04748</td>\n",
       "                        <td id=\"T_7b7e34b0_1dfc_11ec_9f16_02420a39181frow2_col8\" class=\"data row2 col8\" >0.02294</td>\n",
       "                        <td id=\"T_7b7e34b0_1dfc_11ec_9f16_02420a39181frow2_col9\" class=\"data row2 col9\" >0.2946</td>\n",
       "                        <td id=\"T_7b7e34b0_1dfc_11ec_9f16_02420a39181frow2_col10\" class=\"data row2 col10\" >0.06123</td>\n",
       "                        <td id=\"T_7b7e34b0_1dfc_11ec_9f16_02420a39181frow2_col11\" class=\"data row2 col11\" >0.02494</td>\n",
       "                        <td id=\"T_7b7e34b0_1dfc_11ec_9f16_02420a39181frow2_col12\" class=\"data row2 col12\" >0.04556</td>\n",
       "                        <td id=\"T_7b7e34b0_1dfc_11ec_9f16_02420a39181frow2_col13\" class=\"data row2 col13\" >-0.158</td>\n",
       "            </tr>\n",
       "            <tr>\n",
       "                        <th id=\"T_7b7e34b0_1dfc_11ec_9f16_02420a39181flevel0_row3\" class=\"row_heading level0 row3\" >promo_friends</th>\n",
       "                        <td id=\"T_7b7e34b0_1dfc_11ec_9f16_02420a39181frow3_col0\" class=\"data row3 col0\" >-0.005033</td>\n",
       "                        <td id=\"T_7b7e34b0_1dfc_11ec_9f16_02420a39181frow3_col1\" class=\"data row3 col1\" >0.211</td>\n",
       "                        <td id=\"T_7b7e34b0_1dfc_11ec_9f16_02420a39181frow3_col2\" class=\"data row3 col2\" >0.452</td>\n",
       "                        <td id=\"T_7b7e34b0_1dfc_11ec_9f16_02420a39181frow3_col3\" class=\"data row3 col3\" >1</td>\n",
       "                        <td id=\"T_7b7e34b0_1dfc_11ec_9f16_02420a39181frow3_col4\" class=\"data row3 col4\" >0.001982</td>\n",
       "                        <td id=\"T_7b7e34b0_1dfc_11ec_9f16_02420a39181frow3_col5\" class=\"data row3 col5\" >0.2446</td>\n",
       "                        <td id=\"T_7b7e34b0_1dfc_11ec_9f16_02420a39181frow3_col6\" class=\"data row3 col6\" >0.1202</td>\n",
       "                        <td id=\"T_7b7e34b0_1dfc_11ec_9f16_02420a39181frow3_col7\" class=\"data row3 col7\" >0.05011</td>\n",
       "                        <td id=\"T_7b7e34b0_1dfc_11ec_9f16_02420a39181frow3_col8\" class=\"data row3 col8\" >0.0369</td>\n",
       "                        <td id=\"T_7b7e34b0_1dfc_11ec_9f16_02420a39181frow3_col9\" class=\"data row3 col9\" >0.2396</td>\n",
       "                        <td id=\"T_7b7e34b0_1dfc_11ec_9f16_02420a39181frow3_col10\" class=\"data row3 col10\" >0.07272</td>\n",
       "                        <td id=\"T_7b7e34b0_1dfc_11ec_9f16_02420a39181frow3_col11\" class=\"data row3 col11\" >0.02806</td>\n",
       "                        <td id=\"T_7b7e34b0_1dfc_11ec_9f16_02420a39181frow3_col12\" class=\"data row3 col12\" >0.05377</td>\n",
       "                        <td id=\"T_7b7e34b0_1dfc_11ec_9f16_02420a39181frow3_col13\" class=\"data row3 col13\" >-0.1622</td>\n",
       "            </tr>\n",
       "            <tr>\n",
       "                        <th id=\"T_7b7e34b0_1dfc_11ec_9f16_02420a39181flevel0_row4\" class=\"row_heading level0 row4\" >phone</th>\n",
       "                        <td id=\"T_7b7e34b0_1dfc_11ec_9f16_02420a39181frow4_col0\" class=\"data row4 col0\" >-0.008542</td>\n",
       "                        <td id=\"T_7b7e34b0_1dfc_11ec_9f16_02420a39181frow4_col1\" class=\"data row4 col1\" >-0.01576</td>\n",
       "                        <td id=\"T_7b7e34b0_1dfc_11ec_9f16_02420a39181frow4_col2\" class=\"data row4 col2\" >0.00997</td>\n",
       "                        <td id=\"T_7b7e34b0_1dfc_11ec_9f16_02420a39181frow4_col3\" class=\"data row4 col3\" >0.001982</td>\n",
       "                        <td id=\"T_7b7e34b0_1dfc_11ec_9f16_02420a39181frow4_col4\" class=\"data row4 col4\" >1</td>\n",
       "                        <td id=\"T_7b7e34b0_1dfc_11ec_9f16_02420a39181frow4_col5\" class=\"data row4 col5\" >-0.006893</td>\n",
       "                        <td id=\"T_7b7e34b0_1dfc_11ec_9f16_02420a39181frow4_col6\" class=\"data row4 col6\" >-0.0101</td>\n",
       "                        <td id=\"T_7b7e34b0_1dfc_11ec_9f16_02420a39181frow4_col7\" class=\"data row4 col7\" >-0.0114</td>\n",
       "                        <td id=\"T_7b7e34b0_1dfc_11ec_9f16_02420a39181frow4_col8\" class=\"data row4 col8\" >0.009279</td>\n",
       "                        <td id=\"T_7b7e34b0_1dfc_11ec_9f16_02420a39181frow4_col9\" class=\"data row4 col9\" >-0.0112</td>\n",
       "                        <td id=\"T_7b7e34b0_1dfc_11ec_9f16_02420a39181frow4_col10\" class=\"data row4 col10\" >-0.0188</td>\n",
       "                        <td id=\"T_7b7e34b0_1dfc_11ec_9f16_02420a39181frow4_col11\" class=\"data row4 col11\" >0.00834</td>\n",
       "                        <td id=\"T_7b7e34b0_1dfc_11ec_9f16_02420a39181frow4_col12\" class=\"data row4 col12\" >0.01337</td>\n",
       "                        <td id=\"T_7b7e34b0_1dfc_11ec_9f16_02420a39181frow4_col13\" class=\"data row4 col13\" >-0.001177</td>\n",
       "            </tr>\n",
       "            <tr>\n",
       "                        <th id=\"T_7b7e34b0_1dfc_11ec_9f16_02420a39181flevel0_row5\" class=\"row_heading level0 row5\" >contract_period</th>\n",
       "                        <td id=\"T_7b7e34b0_1dfc_11ec_9f16_02420a39181frow5_col0\" class=\"data row5 col0\" >0.0005023</td>\n",
       "                        <td id=\"T_7b7e34b0_1dfc_11ec_9f16_02420a39181frow5_col1\" class=\"data row5 col1\" >0.1502</td>\n",
       "                        <td id=\"T_7b7e34b0_1dfc_11ec_9f16_02420a39181frow5_col2\" class=\"data row5 col2\" >0.3062</td>\n",
       "                        <td id=\"T_7b7e34b0_1dfc_11ec_9f16_02420a39181frow5_col3\" class=\"data row5 col3\" >0.2446</td>\n",
       "                        <td id=\"T_7b7e34b0_1dfc_11ec_9f16_02420a39181frow5_col4\" class=\"data row5 col4\" >-0.006893</td>\n",
       "                        <td id=\"T_7b7e34b0_1dfc_11ec_9f16_02420a39181frow5_col5\" class=\"data row5 col5\" >1</td>\n",
       "                        <td id=\"T_7b7e34b0_1dfc_11ec_9f16_02420a39181frow5_col6\" class=\"data row5 col6\" >0.17</td>\n",
       "                        <td id=\"T_7b7e34b0_1dfc_11ec_9f16_02420a39181frow5_col7\" class=\"data row5 col7\" >0.1382</td>\n",
       "                        <td id=\"T_7b7e34b0_1dfc_11ec_9f16_02420a39181frow5_col8\" class=\"data row5 col8\" >0.1114</td>\n",
       "                        <td id=\"T_7b7e34b0_1dfc_11ec_9f16_02420a39181frow5_col9\" class=\"data row5 col9\" >0.9731</td>\n",
       "                        <td id=\"T_7b7e34b0_1dfc_11ec_9f16_02420a39181frow5_col10\" class=\"data row5 col10\" >0.1707</td>\n",
       "                        <td id=\"T_7b7e34b0_1dfc_11ec_9f16_02420a39181frow5_col11\" class=\"data row5 col11\" >0.09621</td>\n",
       "                        <td id=\"T_7b7e34b0_1dfc_11ec_9f16_02420a39181frow5_col12\" class=\"data row5 col12\" >0.1594</td>\n",
       "                        <td id=\"T_7b7e34b0_1dfc_11ec_9f16_02420a39181frow5_col13\" class=\"data row5 col13\" >-0.39</td>\n",
       "            </tr>\n",
       "            <tr>\n",
       "                        <th id=\"T_7b7e34b0_1dfc_11ec_9f16_02420a39181flevel0_row6\" class=\"row_heading level0 row6\" >group_visits</th>\n",
       "                        <td id=\"T_7b7e34b0_1dfc_11ec_9f16_02420a39181frow6_col0\" class=\"data row6 col0\" >0.01788</td>\n",
       "                        <td id=\"T_7b7e34b0_1dfc_11ec_9f16_02420a39181frow6_col1\" class=\"data row6 col1\" >0.1547</td>\n",
       "                        <td id=\"T_7b7e34b0_1dfc_11ec_9f16_02420a39181frow6_col2\" class=\"data row6 col2\" >0.02271</td>\n",
       "                        <td id=\"T_7b7e34b0_1dfc_11ec_9f16_02420a39181frow6_col3\" class=\"data row6 col3\" >0.1202</td>\n",
       "                        <td id=\"T_7b7e34b0_1dfc_11ec_9f16_02420a39181frow6_col4\" class=\"data row6 col4\" >-0.0101</td>\n",
       "                        <td id=\"T_7b7e34b0_1dfc_11ec_9f16_02420a39181frow6_col5\" class=\"data row6 col5\" >0.17</td>\n",
       "                        <td id=\"T_7b7e34b0_1dfc_11ec_9f16_02420a39181frow6_col6\" class=\"data row6 col6\" >1</td>\n",
       "                        <td id=\"T_7b7e34b0_1dfc_11ec_9f16_02420a39181frow6_col7\" class=\"data row6 col7\" >0.08093</td>\n",
       "                        <td id=\"T_7b7e34b0_1dfc_11ec_9f16_02420a39181frow6_col8\" class=\"data row6 col8\" >0.03208</td>\n",
       "                        <td id=\"T_7b7e34b0_1dfc_11ec_9f16_02420a39181frow6_col9\" class=\"data row6 col9\" >0.1637</td>\n",
       "                        <td id=\"T_7b7e34b0_1dfc_11ec_9f16_02420a39181frow6_col10\" class=\"data row6 col10\" >0.07585</td>\n",
       "                        <td id=\"T_7b7e34b0_1dfc_11ec_9f16_02420a39181frow6_col11\" class=\"data row6 col11\" >0.05669</td>\n",
       "                        <td id=\"T_7b7e34b0_1dfc_11ec_9f16_02420a39181frow6_col12\" class=\"data row6 col12\" >0.07592</td>\n",
       "                        <td id=\"T_7b7e34b0_1dfc_11ec_9f16_02420a39181frow6_col13\" class=\"data row6 col13\" >-0.1753</td>\n",
       "            </tr>\n",
       "            <tr>\n",
       "                        <th id=\"T_7b7e34b0_1dfc_11ec_9f16_02420a39181flevel0_row7\" class=\"row_heading level0 row7\" >age</th>\n",
       "                        <td id=\"T_7b7e34b0_1dfc_11ec_9f16_02420a39181frow7_col0\" class=\"data row7 col0\" >0.01381</td>\n",
       "                        <td id=\"T_7b7e34b0_1dfc_11ec_9f16_02420a39181frow7_col1\" class=\"data row7 col1\" >0.05836</td>\n",
       "                        <td id=\"T_7b7e34b0_1dfc_11ec_9f16_02420a39181frow7_col2\" class=\"data row7 col2\" >0.04748</td>\n",
       "                        <td id=\"T_7b7e34b0_1dfc_11ec_9f16_02420a39181frow7_col3\" class=\"data row7 col3\" >0.05011</td>\n",
       "                        <td id=\"T_7b7e34b0_1dfc_11ec_9f16_02420a39181frow7_col4\" class=\"data row7 col4\" >-0.0114</td>\n",
       "                        <td id=\"T_7b7e34b0_1dfc_11ec_9f16_02420a39181frow7_col5\" class=\"data row7 col5\" >0.1382</td>\n",
       "                        <td id=\"T_7b7e34b0_1dfc_11ec_9f16_02420a39181frow7_col6\" class=\"data row7 col6\" >0.08093</td>\n",
       "                        <td id=\"T_7b7e34b0_1dfc_11ec_9f16_02420a39181frow7_col7\" class=\"data row7 col7\" >1</td>\n",
       "                        <td id=\"T_7b7e34b0_1dfc_11ec_9f16_02420a39181frow7_col8\" class=\"data row7 col8\" >0.08024</td>\n",
       "                        <td id=\"T_7b7e34b0_1dfc_11ec_9f16_02420a39181frow7_col9\" class=\"data row7 col9\" >0.1345</td>\n",
       "                        <td id=\"T_7b7e34b0_1dfc_11ec_9f16_02420a39181frow7_col10\" class=\"data row7 col10\" >0.1647</td>\n",
       "                        <td id=\"T_7b7e34b0_1dfc_11ec_9f16_02420a39181frow7_col11\" class=\"data row7 col11\" >0.12</td>\n",
       "                        <td id=\"T_7b7e34b0_1dfc_11ec_9f16_02420a39181frow7_col12\" class=\"data row7 col12\" >0.1831</td>\n",
       "                        <td id=\"T_7b7e34b0_1dfc_11ec_9f16_02420a39181frow7_col13\" class=\"data row7 col13\" >-0.4047</td>\n",
       "            </tr>\n",
       "            <tr>\n",
       "                        <th id=\"T_7b7e34b0_1dfc_11ec_9f16_02420a39181flevel0_row8\" class=\"row_heading level0 row8\" >avg_additional_charges_total</th>\n",
       "                        <td id=\"T_7b7e34b0_1dfc_11ec_9f16_02420a39181frow8_col0\" class=\"data row8 col0\" >-0.009334</td>\n",
       "                        <td id=\"T_7b7e34b0_1dfc_11ec_9f16_02420a39181frow8_col1\" class=\"data row8 col1\" >0.04076</td>\n",
       "                        <td id=\"T_7b7e34b0_1dfc_11ec_9f16_02420a39181frow8_col2\" class=\"data row8 col2\" >0.02294</td>\n",
       "                        <td id=\"T_7b7e34b0_1dfc_11ec_9f16_02420a39181frow8_col3\" class=\"data row8 col3\" >0.0369</td>\n",
       "                        <td id=\"T_7b7e34b0_1dfc_11ec_9f16_02420a39181frow8_col4\" class=\"data row8 col4\" >0.009279</td>\n",
       "                        <td id=\"T_7b7e34b0_1dfc_11ec_9f16_02420a39181frow8_col5\" class=\"data row8 col5\" >0.1114</td>\n",
       "                        <td id=\"T_7b7e34b0_1dfc_11ec_9f16_02420a39181frow8_col6\" class=\"data row8 col6\" >0.03208</td>\n",
       "                        <td id=\"T_7b7e34b0_1dfc_11ec_9f16_02420a39181frow8_col7\" class=\"data row8 col7\" >0.08024</td>\n",
       "                        <td id=\"T_7b7e34b0_1dfc_11ec_9f16_02420a39181frow8_col8\" class=\"data row8 col8\" >1</td>\n",
       "                        <td id=\"T_7b7e34b0_1dfc_11ec_9f16_02420a39181frow8_col9\" class=\"data row8 col9\" >0.114</td>\n",
       "                        <td id=\"T_7b7e34b0_1dfc_11ec_9f16_02420a39181frow8_col10\" class=\"data row8 col10\" >0.07903</td>\n",
       "                        <td id=\"T_7b7e34b0_1dfc_11ec_9f16_02420a39181frow8_col11\" class=\"data row8 col11\" >0.04443</td>\n",
       "                        <td id=\"T_7b7e34b0_1dfc_11ec_9f16_02420a39181frow8_col12\" class=\"data row8 col12\" >0.07957</td>\n",
       "                        <td id=\"T_7b7e34b0_1dfc_11ec_9f16_02420a39181frow8_col13\" class=\"data row8 col13\" >-0.1987</td>\n",
       "            </tr>\n",
       "            <tr>\n",
       "                        <th id=\"T_7b7e34b0_1dfc_11ec_9f16_02420a39181flevel0_row9\" class=\"row_heading level0 row9\" >month_to_end_contract</th>\n",
       "                        <td id=\"T_7b7e34b0_1dfc_11ec_9f16_02420a39181frow9_col0\" class=\"data row9 col0\" >-0.001281</td>\n",
       "                        <td id=\"T_7b7e34b0_1dfc_11ec_9f16_02420a39181frow9_col1\" class=\"data row9 col1\" >0.144</td>\n",
       "                        <td id=\"T_7b7e34b0_1dfc_11ec_9f16_02420a39181frow9_col2\" class=\"data row9 col2\" >0.2946</td>\n",
       "                        <td id=\"T_7b7e34b0_1dfc_11ec_9f16_02420a39181frow9_col3\" class=\"data row9 col3\" >0.2396</td>\n",
       "                        <td id=\"T_7b7e34b0_1dfc_11ec_9f16_02420a39181frow9_col4\" class=\"data row9 col4\" >-0.0112</td>\n",
       "                        <td id=\"T_7b7e34b0_1dfc_11ec_9f16_02420a39181frow9_col5\" class=\"data row9 col5\" >0.9731</td>\n",
       "                        <td id=\"T_7b7e34b0_1dfc_11ec_9f16_02420a39181frow9_col6\" class=\"data row9 col6\" >0.1637</td>\n",
       "                        <td id=\"T_7b7e34b0_1dfc_11ec_9f16_02420a39181frow9_col7\" class=\"data row9 col7\" >0.1345</td>\n",
       "                        <td id=\"T_7b7e34b0_1dfc_11ec_9f16_02420a39181frow9_col8\" class=\"data row9 col8\" >0.114</td>\n",
       "                        <td id=\"T_7b7e34b0_1dfc_11ec_9f16_02420a39181frow9_col9\" class=\"data row9 col9\" >1</td>\n",
       "                        <td id=\"T_7b7e34b0_1dfc_11ec_9f16_02420a39181frow9_col10\" class=\"data row9 col10\" >0.1611</td>\n",
       "                        <td id=\"T_7b7e34b0_1dfc_11ec_9f16_02420a39181frow9_col11\" class=\"data row9 col11\" >0.08539</td>\n",
       "                        <td id=\"T_7b7e34b0_1dfc_11ec_9f16_02420a39181frow9_col12\" class=\"data row9 col12\" >0.1476</td>\n",
       "                        <td id=\"T_7b7e34b0_1dfc_11ec_9f16_02420a39181frow9_col13\" class=\"data row9 col13\" >-0.3814</td>\n",
       "            </tr>\n",
       "            <tr>\n",
       "                        <th id=\"T_7b7e34b0_1dfc_11ec_9f16_02420a39181flevel0_row10\" class=\"row_heading level0 row10\" >lifetime</th>\n",
       "                        <td id=\"T_7b7e34b0_1dfc_11ec_9f16_02420a39181frow10_col0\" class=\"data row10 col0\" >0.01358</td>\n",
       "                        <td id=\"T_7b7e34b0_1dfc_11ec_9f16_02420a39181frow10_col1\" class=\"data row10 col1\" >0.07092</td>\n",
       "                        <td id=\"T_7b7e34b0_1dfc_11ec_9f16_02420a39181frow10_col2\" class=\"data row10 col2\" >0.06123</td>\n",
       "                        <td id=\"T_7b7e34b0_1dfc_11ec_9f16_02420a39181frow10_col3\" class=\"data row10 col3\" >0.07272</td>\n",
       "                        <td id=\"T_7b7e34b0_1dfc_11ec_9f16_02420a39181frow10_col4\" class=\"data row10 col4\" >-0.0188</td>\n",
       "                        <td id=\"T_7b7e34b0_1dfc_11ec_9f16_02420a39181frow10_col5\" class=\"data row10 col5\" >0.1707</td>\n",
       "                        <td id=\"T_7b7e34b0_1dfc_11ec_9f16_02420a39181frow10_col6\" class=\"data row10 col6\" >0.07585</td>\n",
       "                        <td id=\"T_7b7e34b0_1dfc_11ec_9f16_02420a39181frow10_col7\" class=\"data row10 col7\" >0.1647</td>\n",
       "                        <td id=\"T_7b7e34b0_1dfc_11ec_9f16_02420a39181frow10_col8\" class=\"data row10 col8\" >0.07903</td>\n",
       "                        <td id=\"T_7b7e34b0_1dfc_11ec_9f16_02420a39181frow10_col9\" class=\"data row10 col9\" >0.1611</td>\n",
       "                        <td id=\"T_7b7e34b0_1dfc_11ec_9f16_02420a39181frow10_col10\" class=\"data row10 col10\" >1</td>\n",
       "                        <td id=\"T_7b7e34b0_1dfc_11ec_9f16_02420a39181frow10_col11\" class=\"data row10 col11\" >0.1123</td>\n",
       "                        <td id=\"T_7b7e34b0_1dfc_11ec_9f16_02420a39181frow10_col12\" class=\"data row10 col12\" >0.182</td>\n",
       "                        <td id=\"T_7b7e34b0_1dfc_11ec_9f16_02420a39181frow10_col13\" class=\"data row10 col13\" >-0.4382</td>\n",
       "            </tr>\n",
       "            <tr>\n",
       "                        <th id=\"T_7b7e34b0_1dfc_11ec_9f16_02420a39181flevel0_row11\" class=\"row_heading level0 row11\" >avg_class_frequency_total</th>\n",
       "                        <td id=\"T_7b7e34b0_1dfc_11ec_9f16_02420a39181frow11_col0\" class=\"data row11 col0\" >0.01462</td>\n",
       "                        <td id=\"T_7b7e34b0_1dfc_11ec_9f16_02420a39181frow11_col1\" class=\"data row11 col1\" >0.04313</td>\n",
       "                        <td id=\"T_7b7e34b0_1dfc_11ec_9f16_02420a39181frow11_col2\" class=\"data row11 col2\" >0.02494</td>\n",
       "                        <td id=\"T_7b7e34b0_1dfc_11ec_9f16_02420a39181frow11_col3\" class=\"data row11 col3\" >0.02806</td>\n",
       "                        <td id=\"T_7b7e34b0_1dfc_11ec_9f16_02420a39181frow11_col4\" class=\"data row11 col4\" >0.00834</td>\n",
       "                        <td id=\"T_7b7e34b0_1dfc_11ec_9f16_02420a39181frow11_col5\" class=\"data row11 col5\" >0.09621</td>\n",
       "                        <td id=\"T_7b7e34b0_1dfc_11ec_9f16_02420a39181frow11_col6\" class=\"data row11 col6\" >0.05669</td>\n",
       "                        <td id=\"T_7b7e34b0_1dfc_11ec_9f16_02420a39181frow11_col7\" class=\"data row11 col7\" >0.12</td>\n",
       "                        <td id=\"T_7b7e34b0_1dfc_11ec_9f16_02420a39181frow11_col8\" class=\"data row11 col8\" >0.04443</td>\n",
       "                        <td id=\"T_7b7e34b0_1dfc_11ec_9f16_02420a39181frow11_col9\" class=\"data row11 col9\" >0.08539</td>\n",
       "                        <td id=\"T_7b7e34b0_1dfc_11ec_9f16_02420a39181frow11_col10\" class=\"data row11 col10\" >0.1123</td>\n",
       "                        <td id=\"T_7b7e34b0_1dfc_11ec_9f16_02420a39181frow11_col11\" class=\"data row11 col11\" >1</td>\n",
       "                        <td id=\"T_7b7e34b0_1dfc_11ec_9f16_02420a39181frow11_col12\" class=\"data row11 col12\" >0.9527</td>\n",
       "                        <td id=\"T_7b7e34b0_1dfc_11ec_9f16_02420a39181frow11_col13\" class=\"data row11 col13\" >-0.2497</td>\n",
       "            </tr>\n",
       "            <tr>\n",
       "                        <th id=\"T_7b7e34b0_1dfc_11ec_9f16_02420a39181flevel0_row12\" class=\"row_heading level0 row12\" >avg_class_frequency_current_month</th>\n",
       "                        <td id=\"T_7b7e34b0_1dfc_11ec_9f16_02420a39181frow12_col0\" class=\"data row12 col0\" >0.009156</td>\n",
       "                        <td id=\"T_7b7e34b0_1dfc_11ec_9f16_02420a39181frow12_col1\" class=\"data row12 col1\" >0.06266</td>\n",
       "                        <td id=\"T_7b7e34b0_1dfc_11ec_9f16_02420a39181frow12_col2\" class=\"data row12 col2\" >0.04556</td>\n",
       "                        <td id=\"T_7b7e34b0_1dfc_11ec_9f16_02420a39181frow12_col3\" class=\"data row12 col3\" >0.05377</td>\n",
       "                        <td id=\"T_7b7e34b0_1dfc_11ec_9f16_02420a39181frow12_col4\" class=\"data row12 col4\" >0.01337</td>\n",
       "                        <td id=\"T_7b7e34b0_1dfc_11ec_9f16_02420a39181frow12_col5\" class=\"data row12 col5\" >0.1594</td>\n",
       "                        <td id=\"T_7b7e34b0_1dfc_11ec_9f16_02420a39181frow12_col6\" class=\"data row12 col6\" >0.07592</td>\n",
       "                        <td id=\"T_7b7e34b0_1dfc_11ec_9f16_02420a39181frow12_col7\" class=\"data row12 col7\" >0.1831</td>\n",
       "                        <td id=\"T_7b7e34b0_1dfc_11ec_9f16_02420a39181frow12_col8\" class=\"data row12 col8\" >0.07957</td>\n",
       "                        <td id=\"T_7b7e34b0_1dfc_11ec_9f16_02420a39181frow12_col9\" class=\"data row12 col9\" >0.1476</td>\n",
       "                        <td id=\"T_7b7e34b0_1dfc_11ec_9f16_02420a39181frow12_col10\" class=\"data row12 col10\" >0.182</td>\n",
       "                        <td id=\"T_7b7e34b0_1dfc_11ec_9f16_02420a39181frow12_col11\" class=\"data row12 col11\" >0.9527</td>\n",
       "                        <td id=\"T_7b7e34b0_1dfc_11ec_9f16_02420a39181frow12_col12\" class=\"data row12 col12\" >1</td>\n",
       "                        <td id=\"T_7b7e34b0_1dfc_11ec_9f16_02420a39181frow12_col13\" class=\"data row12 col13\" >-0.4123</td>\n",
       "            </tr>\n",
       "            <tr>\n",
       "                        <th id=\"T_7b7e34b0_1dfc_11ec_9f16_02420a39181flevel0_row13\" class=\"row_heading level0 row13\" >churn</th>\n",
       "                        <td id=\"T_7b7e34b0_1dfc_11ec_9f16_02420a39181frow13_col0\" class=\"data row13 col0\" >0.0007077</td>\n",
       "                        <td id=\"T_7b7e34b0_1dfc_11ec_9f16_02420a39181frow13_col1\" class=\"data row13 col1\" >-0.1281</td>\n",
       "                        <td id=\"T_7b7e34b0_1dfc_11ec_9f16_02420a39181frow13_col2\" class=\"data row13 col2\" >-0.158</td>\n",
       "                        <td id=\"T_7b7e34b0_1dfc_11ec_9f16_02420a39181frow13_col3\" class=\"data row13 col3\" >-0.1622</td>\n",
       "                        <td id=\"T_7b7e34b0_1dfc_11ec_9f16_02420a39181frow13_col4\" class=\"data row13 col4\" >-0.001177</td>\n",
       "                        <td id=\"T_7b7e34b0_1dfc_11ec_9f16_02420a39181frow13_col5\" class=\"data row13 col5\" >-0.39</td>\n",
       "                        <td id=\"T_7b7e34b0_1dfc_11ec_9f16_02420a39181frow13_col6\" class=\"data row13 col6\" >-0.1753</td>\n",
       "                        <td id=\"T_7b7e34b0_1dfc_11ec_9f16_02420a39181frow13_col7\" class=\"data row13 col7\" >-0.4047</td>\n",
       "                        <td id=\"T_7b7e34b0_1dfc_11ec_9f16_02420a39181frow13_col8\" class=\"data row13 col8\" >-0.1987</td>\n",
       "                        <td id=\"T_7b7e34b0_1dfc_11ec_9f16_02420a39181frow13_col9\" class=\"data row13 col9\" >-0.3814</td>\n",
       "                        <td id=\"T_7b7e34b0_1dfc_11ec_9f16_02420a39181frow13_col10\" class=\"data row13 col10\" >-0.4382</td>\n",
       "                        <td id=\"T_7b7e34b0_1dfc_11ec_9f16_02420a39181frow13_col11\" class=\"data row13 col11\" >-0.2497</td>\n",
       "                        <td id=\"T_7b7e34b0_1dfc_11ec_9f16_02420a39181frow13_col12\" class=\"data row13 col12\" >-0.4123</td>\n",
       "                        <td id=\"T_7b7e34b0_1dfc_11ec_9f16_02420a39181frow13_col13\" class=\"data row13 col13\" >1</td>\n",
       "            </tr>\n",
       "    </tbody></table>"
      ],
      "text/plain": [
       "<pandas.io.formats.style.Styler at 0x7f376f0c2890>"
      ]
     },
     "execution_count": 8,
     "metadata": {},
     "output_type": "execute_result"
    }
   ],
   "source": [
    "corr = gym.corr()\n",
    "corr.style.background_gradient(cmap='coolwarm').set_precision(4)"
   ]
  },
  {
   "cell_type": "markdown",
   "metadata": {},
   "source": [
    "*С целевой переменной явной корреляции у признаков нет, однако высокий показатель имеется у возраста, времени с момента первого посещения и средней частоты посещений в неделю за предыдущий месяц. Видимо, чем старше клиент и чем чаще он посещает фитнес-центр, тем больше вероятность его ухода. Но сильно коррелируют частота посещения в текущий месяц и частота посещения за весь период, длительность абонемента и количество месяцев до конца абонемента.*"
   ]
  },
  {
   "cell_type": "markdown",
   "metadata": {},
   "source": [
    "*Удалим взаимозависимые признаки*"
   ]
  },
  {
   "cell_type": "code",
   "execution_count": 9,
   "metadata": {},
   "outputs": [],
   "source": [
    "gym.drop('month_to_end_contract', axis = 1, inplace = True) \n",
    "gym.drop('avg_class_frequency_current_month', axis = 1, inplace = True) "
   ]
  },
  {
   "cell_type": "markdown",
   "metadata": {},
   "source": [
    "## Построение модели прогнозирования оттока клиентов"
   ]
  },
  {
   "cell_type": "markdown",
   "metadata": {},
   "source": [
    "### Разбить данные на обучающую и валидационную выборку"
   ]
  },
  {
   "cell_type": "code",
   "execution_count": 10,
   "metadata": {},
   "outputs": [],
   "source": [
    "#разделим наши данные на признаки (матрица X) и целевую переменную (y)\n",
    "X = gym.drop('churn', axis = 1)\n",
    "y = gym['churn']\n",
    "\n",
    "#разделяем модель на обучающую и валидационную выборки\n",
    "X_train, X_test, y_train, y_test = train_test_split(X, y, test_size=0.2, random_state=0)"
   ]
  },
  {
   "cell_type": "markdown",
   "metadata": {},
   "source": [
    "### Обучить модель на train-выборке двумя способами: логистической регрессией, случайным лесом."
   ]
  },
  {
   "cell_type": "code",
   "execution_count": 11,
   "metadata": {},
   "outputs": [],
   "source": [
    "# задаём алгоритм для нашей модели\n",
    "model_Logistic = LogisticRegression(random_state=0)\n",
    "\n",
    "# обучаем модель\n",
    "model_Logistic.fit(X_train, y_train)\n",
    "\n",
    "#сделаем прогноз\n",
    "Logistic_predictions = model_Logistic.predict(X_test)\n",
    "Logistic_probabilities = model_Logistic.predict_proba(X_test)[:, 1]"
   ]
  },
  {
   "cell_type": "code",
   "execution_count": 12,
   "metadata": {},
   "outputs": [],
   "source": [
    "# зададим алгоритм для новой модели на основе алгоритма случайного леса\n",
    "RandomForest_model = RandomForestClassifier(n_estimators = 100, random_state = 0) \n",
    "\n",
    "# обучим модель случайного леса\n",
    "RandomForest_model.fit(X_train, y_train)\n",
    "\n",
    "#сделаем прогноз\n",
    "RandomForest_predictions = RandomForest_model.predict(X_test)\n",
    "RandomForest_probabilities = RandomForest_model.predict_proba(X_test)[:, 1]"
   ]
  },
  {
   "cell_type": "markdown",
   "metadata": {},
   "source": [
    "### Оценить метрики accuracy, precision и recall для обеих моделей на валидационной выборке. Сравнить по ним модели. Какая модель показала себя лучше на основании метрик?"
   ]
  },
  {
   "cell_type": "code",
   "execution_count": 13,
   "metadata": {},
   "outputs": [
    {
     "name": "stdout",
     "output_type": "stream",
     "text": [
      "Accuracy: 0.88\n",
      "Precision: 0.76\n",
      "Recall: 0.77\n"
     ]
    }
   ],
   "source": [
    "print('Accuracy: {:.2f}'.format(accuracy_score(y_test, Logistic_predictions)))\n",
    "print('Precision: {:.2f}'.format(precision_score(y_test, Logistic_predictions)))\n",
    "print('Recall: {:.2f}'.format(recall_score(y_test, Logistic_predictions)))"
   ]
  },
  {
   "cell_type": "code",
   "execution_count": 14,
   "metadata": {},
   "outputs": [
    {
     "name": "stdout",
     "output_type": "stream",
     "text": [
      "Accuracy: 0.89\n",
      "Precision: 0.78\n",
      "Recall: 0.77\n"
     ]
    }
   ],
   "source": [
    "print('Accuracy: {:.2f}'.format(accuracy_score(y_test, RandomForest_predictions)))\n",
    "print('Precision: {:.2f}'.format(precision_score(y_test, RandomForest_predictions)))\n",
    "print('Recall: {:.2f}'.format(recall_score(y_test, RandomForest_predictions)))"
   ]
  },
  {
   "cell_type": "markdown",
   "metadata": {},
   "source": [
    "*Для обучения данной модели алгоритм логистической регрессии показал себя лучше. Это потверждают метрики модели - доля правильных ответов (0.93), точность (0.86) и полнота (0.83). Замечу, что оба алгоритма показали хороший результат*"
   ]
  },
  {
   "cell_type": "markdown",
   "metadata": {},
   "source": [
    "## Кластеризация клиентов"
   ]
  },
  {
   "cell_type": "markdown",
   "metadata": {},
   "source": [
    "### Стандартизировать данные. Построить матрицу расстояний на стандартизованной матрице признаков и нарисуйте дендрограмму.  На основании полученного графика предположить, какое количество кластеров можно выделить."
   ]
  },
  {
   "cell_type": "code",
   "execution_count": 15,
   "metadata": {},
   "outputs": [
    {
     "data": {
      "image/png": "[encoded data removed]",
      "text/plain": [
       "<Figure size 1080x720 with 1 Axes>"
      ]
     },
     "metadata": {
      "needs_background": "light"
     },
     "output_type": "display_data"
    }
   ],
   "source": [
    "# стандартизируем данные\n",
    "sc = StandardScaler()\n",
    "x_sc = sc.fit_transform(gym.drop(columns = ['churn']))\n",
    "\n",
    "# построим матрицу\n",
    "linked = linkage(x_sc, method = 'ward') \n",
    "\n",
    "# рисуем дендограмму\n",
    "plt.figure(figsize=(15, 10))  \n",
    "dendrogram(linked, orientation='top')\n",
    "plt.show()"
   ]
  },
  {
   "cell_type": "markdown",
   "metadata": {},
   "source": [
    "*Предложенное количество кластеров 4, но мне кажется, что их 5. Есть возможность выделить еще один кластер из фиолетового блока*"
   ]
  },
  {
   "cell_type": "markdown",
   "metadata": {},
   "source": [
    "### Обучить модель кластеризации на основании алгоритма K-Means и спрогнозировать кластеры клиентов. Число кластеров принять n=5, чтобы результаты можно было сравнивать с результатами остальных студентов. "
   ]
  },
  {
   "cell_type": "code",
   "execution_count": 16,
   "metadata": {},
   "outputs": [
    {
     "data": {
      "text/html": [
       "<div>\n",
       "<style scoped>\n",
       "    .dataframe tbody tr th:only-of-type {\n",
       "        vertical-align: middle;\n",
       "    }\n",
       "\n",
       "    .dataframe tbody tr th {\n",
       "        vertical-align: top;\n",
       "    }\n",
       "\n",
       "    .dataframe thead th {\n",
       "        text-align: right;\n",
       "    }\n",
       "</style>\n",
       "<table border=\"1\" class=\"dataframe\">\n",
       "  <thead>\n",
       "    <tr style=\"text-align: right;\">\n",
       "      <th></th>\n",
       "      <th>gender</th>\n",
       "      <th>near_location</th>\n",
       "      <th>partner</th>\n",
       "      <th>promo_friends</th>\n",
       "      <th>phone</th>\n",
       "      <th>contract_period</th>\n",
       "      <th>group_visits</th>\n",
       "      <th>age</th>\n",
       "      <th>avg_additional_charges_total</th>\n",
       "      <th>lifetime</th>\n",
       "      <th>avg_class_frequency_total</th>\n",
       "      <th>churn</th>\n",
       "      <th>cluster</th>\n",
       "    </tr>\n",
       "  </thead>\n",
       "  <tbody>\n",
       "    <tr>\n",
       "      <td>0</td>\n",
       "      <td>1</td>\n",
       "      <td>1</td>\n",
       "      <td>1</td>\n",
       "      <td>1</td>\n",
       "      <td>0</td>\n",
       "      <td>6</td>\n",
       "      <td>1</td>\n",
       "      <td>29</td>\n",
       "      <td>14.227470</td>\n",
       "      <td>3</td>\n",
       "      <td>0.020398</td>\n",
       "      <td>0</td>\n",
       "      <td>4</td>\n",
       "    </tr>\n",
       "    <tr>\n",
       "      <td>1</td>\n",
       "      <td>0</td>\n",
       "      <td>1</td>\n",
       "      <td>0</td>\n",
       "      <td>0</td>\n",
       "      <td>1</td>\n",
       "      <td>12</td>\n",
       "      <td>1</td>\n",
       "      <td>31</td>\n",
       "      <td>113.202938</td>\n",
       "      <td>7</td>\n",
       "      <td>1.922936</td>\n",
       "      <td>0</td>\n",
       "      <td>3</td>\n",
       "    </tr>\n",
       "    <tr>\n",
       "      <td>2</td>\n",
       "      <td>0</td>\n",
       "      <td>1</td>\n",
       "      <td>1</td>\n",
       "      <td>0</td>\n",
       "      <td>1</td>\n",
       "      <td>1</td>\n",
       "      <td>0</td>\n",
       "      <td>28</td>\n",
       "      <td>129.448479</td>\n",
       "      <td>2</td>\n",
       "      <td>1.859098</td>\n",
       "      <td>0</td>\n",
       "      <td>2</td>\n",
       "    </tr>\n",
       "    <tr>\n",
       "      <td>3</td>\n",
       "      <td>0</td>\n",
       "      <td>1</td>\n",
       "      <td>1</td>\n",
       "      <td>1</td>\n",
       "      <td>1</td>\n",
       "      <td>12</td>\n",
       "      <td>1</td>\n",
       "      <td>33</td>\n",
       "      <td>62.669863</td>\n",
       "      <td>2</td>\n",
       "      <td>3.205633</td>\n",
       "      <td>0</td>\n",
       "      <td>1</td>\n",
       "    </tr>\n",
       "    <tr>\n",
       "      <td>4</td>\n",
       "      <td>1</td>\n",
       "      <td>1</td>\n",
       "      <td>1</td>\n",
       "      <td>1</td>\n",
       "      <td>1</td>\n",
       "      <td>1</td>\n",
       "      <td>0</td>\n",
       "      <td>26</td>\n",
       "      <td>198.362265</td>\n",
       "      <td>3</td>\n",
       "      <td>1.113884</td>\n",
       "      <td>0</td>\n",
       "      <td>1</td>\n",
       "    </tr>\n",
       "    <tr>\n",
       "      <td>...</td>\n",
       "      <td>...</td>\n",
       "      <td>...</td>\n",
       "      <td>...</td>\n",
       "      <td>...</td>\n",
       "      <td>...</td>\n",
       "      <td>...</td>\n",
       "      <td>...</td>\n",
       "      <td>...</td>\n",
       "      <td>...</td>\n",
       "      <td>...</td>\n",
       "      <td>...</td>\n",
       "      <td>...</td>\n",
       "      <td>...</td>\n",
       "    </tr>\n",
       "    <tr>\n",
       "      <td>3995</td>\n",
       "      <td>1</td>\n",
       "      <td>1</td>\n",
       "      <td>1</td>\n",
       "      <td>0</td>\n",
       "      <td>1</td>\n",
       "      <td>12</td>\n",
       "      <td>0</td>\n",
       "      <td>33</td>\n",
       "      <td>2.406023</td>\n",
       "      <td>8</td>\n",
       "      <td>2.284497</td>\n",
       "      <td>0</td>\n",
       "      <td>1</td>\n",
       "    </tr>\n",
       "    <tr>\n",
       "      <td>3996</td>\n",
       "      <td>0</td>\n",
       "      <td>1</td>\n",
       "      <td>0</td>\n",
       "      <td>0</td>\n",
       "      <td>1</td>\n",
       "      <td>1</td>\n",
       "      <td>1</td>\n",
       "      <td>29</td>\n",
       "      <td>68.883764</td>\n",
       "      <td>1</td>\n",
       "      <td>1.277168</td>\n",
       "      <td>1</td>\n",
       "      <td>3</td>\n",
       "    </tr>\n",
       "    <tr>\n",
       "      <td>3997</td>\n",
       "      <td>1</td>\n",
       "      <td>1</td>\n",
       "      <td>1</td>\n",
       "      <td>1</td>\n",
       "      <td>1</td>\n",
       "      <td>12</td>\n",
       "      <td>0</td>\n",
       "      <td>28</td>\n",
       "      <td>78.250542</td>\n",
       "      <td>2</td>\n",
       "      <td>2.786146</td>\n",
       "      <td>0</td>\n",
       "      <td>1</td>\n",
       "    </tr>\n",
       "    <tr>\n",
       "      <td>3998</td>\n",
       "      <td>0</td>\n",
       "      <td>1</td>\n",
       "      <td>1</td>\n",
       "      <td>1</td>\n",
       "      <td>1</td>\n",
       "      <td>6</td>\n",
       "      <td>0</td>\n",
       "      <td>32</td>\n",
       "      <td>61.912657</td>\n",
       "      <td>3</td>\n",
       "      <td>1.630108</td>\n",
       "      <td>0</td>\n",
       "      <td>1</td>\n",
       "    </tr>\n",
       "    <tr>\n",
       "      <td>3999</td>\n",
       "      <td>1</td>\n",
       "      <td>0</td>\n",
       "      <td>1</td>\n",
       "      <td>0</td>\n",
       "      <td>0</td>\n",
       "      <td>12</td>\n",
       "      <td>1</td>\n",
       "      <td>30</td>\n",
       "      <td>178.861814</td>\n",
       "      <td>1</td>\n",
       "      <td>1.101832</td>\n",
       "      <td>0</td>\n",
       "      <td>4</td>\n",
       "    </tr>\n",
       "  </tbody>\n",
       "</table>\n",
       "<p>4000 rows × 13 columns</p>\n",
       "</div>"
      ],
      "text/plain": [
       "      gender  near_location  partner  promo_friends  phone  contract_period  \\\n",
       "0          1              1        1              1      0                6   \n",
       "1          0              1        0              0      1               12   \n",
       "2          0              1        1              0      1                1   \n",
       "3          0              1        1              1      1               12   \n",
       "4          1              1        1              1      1                1   \n",
       "...      ...            ...      ...            ...    ...              ...   \n",
       "3995       1              1        1              0      1               12   \n",
       "3996       0              1        0              0      1                1   \n",
       "3997       1              1        1              1      1               12   \n",
       "3998       0              1        1              1      1                6   \n",
       "3999       1              0        1              0      0               12   \n",
       "\n",
       "      group_visits  age  avg_additional_charges_total  lifetime  \\\n",
       "0                1   29                     14.227470         3   \n",
       "1                1   31                    113.202938         7   \n",
       "2                0   28                    129.448479         2   \n",
       "3                1   33                     62.669863         2   \n",
       "4                0   26                    198.362265         3   \n",
       "...            ...  ...                           ...       ...   \n",
       "3995             0   33                      2.406023         8   \n",
       "3996             1   29                     68.883764         1   \n",
       "3997             0   28                     78.250542         2   \n",
       "3998             0   32                     61.912657         3   \n",
       "3999             1   30                    178.861814         1   \n",
       "\n",
       "      avg_class_frequency_total  churn  cluster  \n",
       "0                      0.020398      0        4  \n",
       "1                      1.922936      0        3  \n",
       "2                      1.859098      0        2  \n",
       "3                      3.205633      0        1  \n",
       "4                      1.113884      0        1  \n",
       "...                         ...    ...      ...  \n",
       "3995                   2.284497      0        1  \n",
       "3996                   1.277168      1        3  \n",
       "3997                   2.786146      0        1  \n",
       "3998                   1.630108      0        1  \n",
       "3999                   1.101832      0        4  \n",
       "\n",
       "[4000 rows x 13 columns]"
      ]
     },
     "execution_count": 16,
     "metadata": {},
     "output_type": "execute_result"
    }
   ],
   "source": [
    "# задаём модель k_means с числом кластеров 5\n",
    "km = KMeans(n_clusters = 5, random_state=0)\n",
    "\n",
    "# прогнозируем кластеры для наблюдений\n",
    "labels = km.fit_predict(x_sc)\n",
    "\n",
    "# сохраняем метки кластера в поле нашего датасета\n",
    "gym['cluster'] = labels\n",
    "\n",
    "gym"
   ]
  },
  {
   "cell_type": "markdown",
   "metadata": {},
   "source": [
    "### Посмотреть на средние значения признаков для кластеров. Можно ли сразу что-то заметить?"
   ]
  },
  {
   "cell_type": "code",
   "execution_count": 17,
   "metadata": {},
   "outputs": [
    {
     "data": {
      "text/html": [
       "<div>\n",
       "<style scoped>\n",
       "    .dataframe tbody tr th:only-of-type {\n",
       "        vertical-align: middle;\n",
       "    }\n",
       "\n",
       "    .dataframe tbody tr th {\n",
       "        vertical-align: top;\n",
       "    }\n",
       "\n",
       "    .dataframe thead th {\n",
       "        text-align: right;\n",
       "    }\n",
       "</style>\n",
       "<table border=\"1\" class=\"dataframe\">\n",
       "  <thead>\n",
       "    <tr style=\"text-align: right;\">\n",
       "      <th></th>\n",
       "      <th>cluster</th>\n",
       "      <th>gender</th>\n",
       "      <th>near_location</th>\n",
       "      <th>partner</th>\n",
       "      <th>promo_friends</th>\n",
       "      <th>phone</th>\n",
       "      <th>contract_period</th>\n",
       "      <th>group_visits</th>\n",
       "      <th>age</th>\n",
       "      <th>avg_additional_charges_total</th>\n",
       "      <th>lifetime</th>\n",
       "      <th>avg_class_frequency_total</th>\n",
       "      <th>churn</th>\n",
       "    </tr>\n",
       "  </thead>\n",
       "  <tbody>\n",
       "    <tr>\n",
       "      <td>0</td>\n",
       "      <td>0</td>\n",
       "      <td>0.499109</td>\n",
       "      <td>0.000000</td>\n",
       "      <td>0.488414</td>\n",
       "      <td>0.076649</td>\n",
       "      <td>1.0</td>\n",
       "      <td>3.032086</td>\n",
       "      <td>0.235294</td>\n",
       "      <td>28.721925</td>\n",
       "      <td>137.540009</td>\n",
       "      <td>3.060606</td>\n",
       "      <td>1.770413</td>\n",
       "      <td>0.399287</td>\n",
       "    </tr>\n",
       "    <tr>\n",
       "      <td>1</td>\n",
       "      <td>1</td>\n",
       "      <td>0.488571</td>\n",
       "      <td>0.995238</td>\n",
       "      <td>0.955238</td>\n",
       "      <td>0.892381</td>\n",
       "      <td>1.0</td>\n",
       "      <td>7.660952</td>\n",
       "      <td>0.458095</td>\n",
       "      <td>29.543810</td>\n",
       "      <td>155.861428</td>\n",
       "      <td>4.380952</td>\n",
       "      <td>1.978963</td>\n",
       "      <td>0.120952</td>\n",
       "    </tr>\n",
       "    <tr>\n",
       "      <td>2</td>\n",
       "      <td>2</td>\n",
       "      <td>0.505300</td>\n",
       "      <td>1.000000</td>\n",
       "      <td>0.238516</td>\n",
       "      <td>0.059187</td>\n",
       "      <td>1.0</td>\n",
       "      <td>2.819788</td>\n",
       "      <td>0.000000</td>\n",
       "      <td>28.770318</td>\n",
       "      <td>143.383993</td>\n",
       "      <td>3.343640</td>\n",
       "      <td>1.800647</td>\n",
       "      <td>0.381625</td>\n",
       "    </tr>\n",
       "    <tr>\n",
       "      <td>3</td>\n",
       "      <td>3</td>\n",
       "      <td>0.544202</td>\n",
       "      <td>1.000000</td>\n",
       "      <td>0.250287</td>\n",
       "      <td>0.079219</td>\n",
       "      <td>1.0</td>\n",
       "      <td>4.528129</td>\n",
       "      <td>1.000000</td>\n",
       "      <td>29.536165</td>\n",
       "      <td>148.088897</td>\n",
       "      <td>3.761194</td>\n",
       "      <td>1.941342</td>\n",
       "      <td>0.200918</td>\n",
       "    </tr>\n",
       "    <tr>\n",
       "      <td>4</td>\n",
       "      <td>4</td>\n",
       "      <td>0.523316</td>\n",
       "      <td>0.862694</td>\n",
       "      <td>0.471503</td>\n",
       "      <td>0.305699</td>\n",
       "      <td>0.0</td>\n",
       "      <td>4.777202</td>\n",
       "      <td>0.427461</td>\n",
       "      <td>29.297927</td>\n",
       "      <td>144.208179</td>\n",
       "      <td>3.940415</td>\n",
       "      <td>1.854211</td>\n",
       "      <td>0.266839</td>\n",
       "    </tr>\n",
       "  </tbody>\n",
       "</table>\n",
       "</div>"
      ],
      "text/plain": [
       "   cluster    gender  near_location   partner  promo_friends  phone  \\\n",
       "0        0  0.499109       0.000000  0.488414       0.076649    1.0   \n",
       "1        1  0.488571       0.995238  0.955238       0.892381    1.0   \n",
       "2        2  0.505300       1.000000  0.238516       0.059187    1.0   \n",
       "3        3  0.544202       1.000000  0.250287       0.079219    1.0   \n",
       "4        4  0.523316       0.862694  0.471503       0.305699    0.0   \n",
       "\n",
       "   contract_period  group_visits        age  avg_additional_charges_total  \\\n",
       "0         3.032086      0.235294  28.721925                    137.540009   \n",
       "1         7.660952      0.458095  29.543810                    155.861428   \n",
       "2         2.819788      0.000000  28.770318                    143.383993   \n",
       "3         4.528129      1.000000  29.536165                    148.088897   \n",
       "4         4.777202      0.427461  29.297927                    144.208179   \n",
       "\n",
       "   lifetime  avg_class_frequency_total     churn  \n",
       "0  3.060606                   1.770413  0.399287  \n",
       "1  4.380952                   1.978963  0.120952  \n",
       "2  3.343640                   1.800647  0.381625  \n",
       "3  3.761194                   1.941342  0.200918  \n",
       "4  3.940415                   1.854211  0.266839  "
      ]
     },
     "execution_count": 17,
     "metadata": {},
     "output_type": "execute_result"
    }
   ],
   "source": [
    "gym.groupby('cluster').mean().reset_index()"
   ]
  },
  {
   "cell_type": "markdown",
   "metadata": {},
   "source": [
    "*Можно отметить 3й кластер, как самый худший. Тут клиенты живут дальше всех от фитнес-центра, они имеют самый минимальный по длительности абонимент, имеют самую малую активность среди всех, а также почти не пользуются другими услугами центра.*"
   ]
  },
  {
   "cell_type": "markdown",
   "metadata": {},
   "source": [
    "### Построить распределения признаков для кластеров. Можно ли что-то заметить по ним?"
   ]
  },
  {
   "cell_type": "code",
   "execution_count": 18,
   "metadata": {},
   "outputs": [
    {
     "data": {
      "image/png": "[encoded data removed]",
      "text/plain": [
       "<Figure size 1080x1080 with 16 Axes>"
      ]
     },
     "metadata": {
      "needs_background": "light"
     },
     "output_type": "display_data"
    },
    {
     "data": {
      "image/png": "[encoded data removed]",
      "text/plain": [
       "<Figure size 1080x1080 with 16 Axes>"
      ]
     },
     "metadata": {
      "needs_background": "light"
     },
     "output_type": "display_data"
    },
    {
     "data": {
      "image/png": "[encoded data removed]",
      "text/plain": [
       "<Figure size 1080x1080 with 16 Axes>"
      ]
     },
     "metadata": {
      "needs_background": "light"
     },
     "output_type": "display_data"
    },
    {
     "data": {
      "image/png": "[encoded data removed]",
      "text/plain": [
       "<Figure size 1080x1080 with 16 Axes>"
      ]
     },
     "metadata": {
      "needs_background": "light"
     },
     "output_type": "display_data"
    },
    {
     "data": {
      "image/png": "[encoded data removed]",
      "text/plain": [
       "<Figure size 1080x1080 with 16 Axes>"
      ]
     },
     "metadata": {
      "needs_background": "light"
     },
     "output_type": "display_data"
    }
   ],
   "source": [
    "for value in [0, 1, 2, 3, 4]:\n",
    "    gym[gym['cluster']==value].hist(figsize=(15,15))\n",
    "    plt.suptitle('Распределение признаков кластера {}'.format(value), fontsize = 15)\n",
    "    plt.show()"
   ]
  },
  {
   "cell_type": "markdown",
   "metadata": {},
   "source": [
    "*Гистограммы распределения также указывают больший отток в 3м кластере по сравнению с другими кластерами*"
   ]
  },
  {
   "cell_type": "markdown",
   "metadata": {},
   "source": [
    "### Для каждого полученного кластера посчитать долю оттока. Отличаются ли они по доле оттока? Какие кластеры склонны к оттоку, а какие — надёжны?"
   ]
  },
  {
   "cell_type": "code",
   "execution_count": 20,
   "metadata": {},
   "outputs": [
    {
     "data": {
      "text/plain": [
       "cluster\n",
       "0    39.928699\n",
       "1    12.095238\n",
       "2    38.162544\n",
       "3    20.091848\n",
       "4    26.683938\n",
       "Name: churn, dtype: float64"
      ]
     },
     "execution_count": 20,
     "metadata": {},
     "output_type": "execute_result"
    }
   ],
   "source": [
    "gym.query('churn == \"1\"').groupby('cluster')['churn'].count() / gym.groupby('cluster')['churn'].count() * 100"
   ]
  },
  {
   "cell_type": "markdown",
   "metadata": {},
   "source": [
    "*Доля оттока в 3м кластере состовляет 51%. Третий расчет показывающий на него. Самым надежным по доле оттока клиентов является 0й кластер*"
   ]
  },
  {
   "cell_type": "markdown",
   "metadata": {},
   "source": [
    "## Формулировка выводов и базовых рекомендаций по работе с клиентами"
   ]
  },
  {
   "cell_type": "markdown",
   "metadata": {},
   "source": [
    "*Была создана модель с неплохой точностью. Об этом свидетельствуют метрики, доля правильных ответов (0.93), точность (0.86) и полнота (0.83). Есть возможность прогноза оттока по каждому клиенту. Явных зависимостей факта оттока от одного конкретного признака из рассматриваемых не обнаружено. Все клиенты были поделены на 5 кластеров.*\n",
    "\n",
    "*Выводы по проделанной работе:*\n",
    "\n",
    "*Кластер 0 самый удачный*\n",
    "\n",
    "  - самый минимальный отток клиентов - 2.7%\n",
    "\n",
    "  - самый продолжительный абонимент\n",
    " \n",
    "  - большенство сотрудников компаний-партнёров клуба\n",
    "  \n",
    "  - участвуют в промо\n",
    "  \n",
    "  - клиенты очень активно пользуются занятиями центра, а также доп. услугами\n",
    "  \n",
    "*Кластер 3 самый неудачный*\n",
    " \n",
    "  - самый максимальный по оттоку клиентов - 51%\n",
    "  \n",
    "  - клиенты живут дальше всех от фитнес-центра\n",
    "  \n",
    "  - не участвуют в проме и не являются партнерами центра\n",
    "  \n",
    "  - наименьшая средняя частота посещения \n",
    "  \n",
    "  - минимальная длительность абонимента\n",
    "  \n",
    "*Предлагаю делать рекламный акцент на продолжительности абонимента от 6 месяцев. Во всех кластерах данный срок имеет хорошие показатели, несмотря на то, что среднее посещение за неделю сотовляет околу двух раз.*\n",
    "\n",
    "*Очень мало клиентов оставляют контактный телефон. Я не имею информацию о том, как происходит маркетинговое \"общение\" с клиентами. Скорее всего, работа в этом направлении может помочь привлечь новых и оставить старых клиентов, тем более, что в промо и партнерской системе в среднем участвует 28% и 48% клиентов соответственно по сумме всех кластеров. Стоит использовать рассылку для информатирования клиетов об акциях и работе центра*\n",
    "\n",
    "*Еще одна возможность работы с клиентами - несколько путей привлечения: соц. сети, имейл. Возможное использование скидок или других \"плюшек\" за участие в акциях. Приведи друга не показало эффекта*"
   ]
  }
 ],
 "metadata": {
  "ExecuteTimeLog": [
   {
    "duration": 851,
    "start_time": "2021-09-20T22:20:38.469Z"
   },
   {
    "duration": 36,
    "start_time": "2021-09-20T22:22:16.829Z"
   },
   {
    "duration": 49,
    "start_time": "2021-09-20T22:22:48.031Z"
   },
   {
    "duration": 75,
    "start_time": "2021-09-20T22:23:00.246Z"
   },
   {
    "duration": 11,
    "start_time": "2021-09-21T17:09:13.020Z"
   },
   {
    "duration": 75,
    "start_time": "2021-09-21T17:09:58.013Z"
   },
   {
    "duration": 30,
    "start_time": "2021-09-22T11:42:14.426Z"
   },
   {
    "duration": 346,
    "start_time": "2021-09-22T11:42:54.566Z"
   },
   {
    "duration": 23,
    "start_time": "2021-09-22T11:43:10.241Z"
   },
   {
    "duration": 170,
    "start_time": "2021-09-22T12:33:38.956Z"
   },
   {
    "duration": 655,
    "start_time": "2021-09-22T12:35:24.727Z"
   },
   {
    "duration": 366,
    "start_time": "2021-09-22T12:35:41.886Z"
   },
   {
    "duration": 273,
    "start_time": "2021-09-22T12:35:59.591Z"
   },
   {
    "duration": 373,
    "start_time": "2021-09-22T12:36:13.013Z"
   },
   {
    "duration": 290,
    "start_time": "2021-09-22T12:37:46.757Z"
   },
   {
    "duration": 256,
    "start_time": "2021-09-22T12:38:44.368Z"
   },
   {
    "duration": 263,
    "start_time": "2021-09-22T12:38:55.586Z"
   },
   {
    "duration": 243,
    "start_time": "2021-09-22T12:39:02.290Z"
   },
   {
    "duration": 1398,
    "start_time": "2021-09-22T12:43:01.668Z"
   },
   {
    "duration": 1557,
    "start_time": "2021-09-22T12:43:25.909Z"
   },
   {
    "duration": 42,
    "start_time": "2021-09-22T12:43:27.469Z"
   },
   {
    "duration": 48,
    "start_time": "2021-09-22T12:43:27.515Z"
   },
   {
    "duration": 76,
    "start_time": "2021-09-22T12:43:27.566Z"
   },
   {
    "duration": 25,
    "start_time": "2021-09-22T12:43:27.663Z"
   },
   {
    "duration": 5058,
    "start_time": "2021-09-22T12:43:27.691Z"
   },
   {
    "duration": 472,
    "start_time": "2021-09-22T12:43:58.968Z"
   },
   {
    "duration": 708,
    "start_time": "2021-09-22T12:51:58.826Z"
   },
   {
    "duration": 632,
    "start_time": "2021-09-22T12:52:04.580Z"
   },
   {
    "duration": 91,
    "start_time": "2021-09-22T12:52:09.555Z"
   },
   {
    "duration": 91,
    "start_time": "2021-09-22T12:52:19.589Z"
   },
   {
    "duration": 333,
    "start_time": "2021-09-22T12:52:24.669Z"
   },
   {
    "duration": 5453,
    "start_time": "2021-09-22T12:52:44.104Z"
   },
   {
    "duration": 5325,
    "start_time": "2021-09-22T12:53:11.426Z"
   },
   {
    "duration": 5755,
    "start_time": "2021-09-22T12:53:36.639Z"
   },
   {
    "duration": 7130,
    "start_time": "2021-09-22T12:53:52.642Z"
   },
   {
    "duration": 490,
    "start_time": "2021-09-22T12:57:42.935Z"
   },
   {
    "duration": 538,
    "start_time": "2021-09-22T12:58:06.873Z"
   },
   {
    "duration": 550,
    "start_time": "2021-09-22T12:58:46.247Z"
   },
   {
    "duration": 300,
    "start_time": "2021-09-22T12:59:36.286Z"
   },
   {
    "duration": 581,
    "start_time": "2021-09-22T13:03:24.804Z"
   },
   {
    "duration": 258,
    "start_time": "2021-09-22T13:03:42.239Z"
   },
   {
    "duration": 313,
    "start_time": "2021-09-22T13:04:33.904Z"
   },
   {
    "duration": 283,
    "start_time": "2021-09-22T13:06:50.193Z"
   },
   {
    "duration": 431,
    "start_time": "2021-09-22T13:13:45.220Z"
   },
   {
    "duration": 516,
    "start_time": "2021-09-22T13:13:53.759Z"
   },
   {
    "duration": 446,
    "start_time": "2021-09-22T13:14:00.631Z"
   },
   {
    "duration": 4,
    "start_time": "2021-09-22T13:14:08.825Z"
   },
   {
    "duration": 5,
    "start_time": "2021-09-22T13:14:29.093Z"
   },
   {
    "duration": 25,
    "start_time": "2021-09-22T13:16:32.243Z"
   },
   {
    "duration": 537,
    "start_time": "2021-09-22T13:16:45.757Z"
   },
   {
    "duration": 6,
    "start_time": "2021-09-22T13:17:08.081Z"
   },
   {
    "duration": 335,
    "start_time": "2021-09-22T13:18:22.663Z"
   },
   {
    "duration": 21,
    "start_time": "2021-09-22T13:18:33.348Z"
   },
   {
    "duration": 26,
    "start_time": "2021-09-22T13:18:51.088Z"
   },
   {
    "duration": 583,
    "start_time": "2021-09-22T13:19:59.839Z"
   },
   {
    "duration": 589,
    "start_time": "2021-09-22T13:20:09.270Z"
   },
   {
    "duration": 125,
    "start_time": "2021-09-22T13:20:19.075Z"
   },
   {
    "duration": 37,
    "start_time": "2021-09-22T13:20:27.614Z"
   },
   {
    "duration": 1098,
    "start_time": "2021-09-22T13:20:37.690Z"
   },
   {
    "duration": 2984,
    "start_time": "2021-09-22T13:20:54.801Z"
   },
   {
    "duration": 281,
    "start_time": "2021-09-22T13:27:56.592Z"
   },
   {
    "duration": 334,
    "start_time": "2021-09-22T13:28:45.985Z"
   },
   {
    "duration": 89,
    "start_time": "2021-09-22T13:29:05.828Z"
   },
   {
    "duration": 271,
    "start_time": "2021-09-22T13:29:09.155Z"
   },
   {
    "duration": 287,
    "start_time": "2021-09-22T13:29:18.831Z"
   },
   {
    "duration": 335,
    "start_time": "2021-09-22T13:29:29.664Z"
   },
   {
    "duration": 8,
    "start_time": "2021-09-22T13:30:15.455Z"
   },
   {
    "duration": 544,
    "start_time": "2021-09-22T13:30:16.447Z"
   },
   {
    "duration": 5425,
    "start_time": "2021-09-22T13:33:14.459Z"
   },
   {
    "duration": 2079,
    "start_time": "2021-09-22T13:45:18.635Z"
   },
   {
    "duration": 239,
    "start_time": "2021-09-22T13:45:24.857Z"
   },
   {
    "duration": 5761,
    "start_time": "2021-09-22T13:46:32.418Z"
   },
   {
    "duration": 6961,
    "start_time": "2021-09-22T13:46:57.275Z"
   },
   {
    "duration": 7040,
    "start_time": "2021-09-22T13:47:11.822Z"
   },
   {
    "duration": 6386,
    "start_time": "2021-09-22T13:48:21.811Z"
   },
   {
    "duration": 9315,
    "start_time": "2021-09-22T13:48:35.105Z"
   },
   {
    "duration": 10712,
    "start_time": "2021-09-22T13:49:05.630Z"
   },
   {
    "duration": 395,
    "start_time": "2021-09-22T13:52:29.489Z"
   },
   {
    "duration": 7,
    "start_time": "2021-09-22T13:52:43.869Z"
   },
   {
    "duration": 255,
    "start_time": "2021-09-22T13:54:32.945Z"
   },
   {
    "duration": 408,
    "start_time": "2021-09-22T13:54:39.595Z"
   },
   {
    "duration": 281,
    "start_time": "2021-09-22T13:54:43.080Z"
   },
   {
    "duration": 6,
    "start_time": "2021-09-22T13:54:48.092Z"
   },
   {
    "duration": 568,
    "start_time": "2021-09-22T13:55:11.952Z"
   },
   {
    "duration": 315,
    "start_time": "2021-09-22T13:55:30.922Z"
   },
   {
    "duration": 96,
    "start_time": "2021-09-22T13:58:20.757Z"
   },
   {
    "duration": 5343,
    "start_time": "2021-09-22T13:58:26.550Z"
   },
   {
    "duration": 5152,
    "start_time": "2021-09-22T13:59:38.351Z"
   },
   {
    "duration": 5,
    "start_time": "2021-09-22T14:01:49.112Z"
   },
   {
    "duration": 532,
    "start_time": "2021-09-22T14:02:21.842Z"
   },
   {
    "duration": 1706,
    "start_time": "2021-09-22T14:02:29.924Z"
   },
   {
    "duration": 94,
    "start_time": "2021-09-22T14:02:36.709Z"
   },
   {
    "duration": 433,
    "start_time": "2021-09-22T14:02:40.941Z"
   },
   {
    "duration": 517,
    "start_time": "2021-09-22T14:02:48.856Z"
   },
   {
    "duration": 10,
    "start_time": "2021-09-22T14:03:30.642Z"
   },
   {
    "duration": 5417,
    "start_time": "2021-09-22T14:03:31.469Z"
   },
   {
    "duration": 3750,
    "start_time": "2021-09-22T14:03:36.888Z"
   },
   {
    "duration": 10,
    "start_time": "2021-09-22T14:04:48.280Z"
   },
   {
    "duration": 5093,
    "start_time": "2021-09-22T14:04:48.872Z"
   },
   {
    "duration": 4869,
    "start_time": "2021-09-22T14:04:53.968Z"
   },
   {
    "duration": 231,
    "start_time": "2021-09-22T14:37:35.391Z"
   },
   {
    "duration": 186,
    "start_time": "2021-09-22T14:39:13.642Z"
   },
   {
    "duration": 848,
    "start_time": "2021-09-22T14:40:01.531Z"
   },
   {
    "duration": 118,
    "start_time": "2021-09-22T14:42:13.261Z"
   },
   {
    "duration": 363,
    "start_time": "2021-09-22T15:17:57.522Z"
   },
   {
    "duration": 95,
    "start_time": "2021-09-22T15:18:21.675Z"
   },
   {
    "duration": 277,
    "start_time": "2021-09-22T15:18:26.979Z"
   },
   {
    "duration": 29,
    "start_time": "2021-09-22T15:19:10.103Z"
   },
   {
    "duration": 299,
    "start_time": "2021-09-22T15:51:52.030Z"
   },
   {
    "duration": 294,
    "start_time": "2021-09-22T15:53:05.465Z"
   },
   {
    "duration": 27,
    "start_time": "2021-09-22T15:53:20.029Z"
   },
   {
    "duration": 1522,
    "start_time": "2021-09-22T15:54:21.509Z"
   },
   {
    "duration": 29,
    "start_time": "2021-09-22T15:54:23.034Z"
   },
   {
    "duration": 16,
    "start_time": "2021-09-22T15:54:23.066Z"
   },
   {
    "duration": 94,
    "start_time": "2021-09-22T15:54:23.084Z"
   },
   {
    "duration": 25,
    "start_time": "2021-09-22T15:54:23.180Z"
   },
   {
    "duration": 12,
    "start_time": "2021-09-22T15:54:23.207Z"
   },
   {
    "duration": 5009,
    "start_time": "2021-09-22T15:54:23.222Z"
   },
   {
    "duration": 4950,
    "start_time": "2021-09-22T15:54:28.235Z"
   },
   {
    "duration": 821,
    "start_time": "2021-09-22T15:54:33.188Z"
   },
   {
    "duration": 13,
    "start_time": "2021-09-22T15:54:34.012Z"
   },
   {
    "duration": 70,
    "start_time": "2021-09-22T16:04:53.104Z"
   },
   {
    "duration": 211,
    "start_time": "2021-09-22T16:07:16.054Z"
   },
   {
    "duration": 154,
    "start_time": "2021-09-22T16:08:20.809Z"
   },
   {
    "duration": 1765,
    "start_time": "2021-09-22T16:09:39.470Z"
   },
   {
    "duration": 27,
    "start_time": "2021-09-22T16:09:41.238Z"
   },
   {
    "duration": 12,
    "start_time": "2021-09-22T16:09:41.268Z"
   },
   {
    "duration": 94,
    "start_time": "2021-09-22T16:09:41.283Z"
   },
   {
    "duration": 24,
    "start_time": "2021-09-22T16:09:41.379Z"
   },
   {
    "duration": 15,
    "start_time": "2021-09-22T16:09:41.406Z"
   },
   {
    "duration": 4694,
    "start_time": "2021-09-22T16:09:41.424Z"
   },
   {
    "duration": 4885,
    "start_time": "2021-09-22T16:09:46.122Z"
   },
   {
    "duration": 898,
    "start_time": "2021-09-22T16:09:51.010Z"
   },
   {
    "duration": 10,
    "start_time": "2021-09-22T16:09:51.911Z"
   },
   {
    "duration": 87,
    "start_time": "2021-09-22T16:09:51.924Z"
   },
   {
    "duration": 82,
    "start_time": "2021-09-22T16:12:57.279Z"
   },
   {
    "duration": 58,
    "start_time": "2021-09-22T16:13:18.017Z"
   },
   {
    "duration": 57,
    "start_time": "2021-09-22T16:13:24.225Z"
   },
   {
    "duration": 53,
    "start_time": "2021-09-22T16:13:43.084Z"
   },
   {
    "duration": 48,
    "start_time": "2021-09-22T16:14:12.805Z"
   },
   {
    "duration": 53,
    "start_time": "2021-09-22T16:14:49.128Z"
   },
   {
    "duration": 53,
    "start_time": "2021-09-22T16:15:53.784Z"
   },
   {
    "duration": 441,
    "start_time": "2021-09-22T16:18:08.368Z"
   },
   {
    "duration": 465,
    "start_time": "2021-09-22T16:18:21.252Z"
   },
   {
    "duration": 452,
    "start_time": "2021-09-22T16:18:24.610Z"
   },
   {
    "duration": 61,
    "start_time": "2021-09-22T16:23:27.314Z"
   },
   {
    "duration": 514,
    "start_time": "2021-09-22T16:23:28.123Z"
   },
   {
    "duration": 12,
    "start_time": "2021-09-22T16:26:46.138Z"
   },
   {
    "duration": 11,
    "start_time": "2021-09-22T16:26:57.890Z"
   },
   {
    "duration": 800,
    "start_time": "2021-09-22T17:00:17.791Z"
   },
   {
    "duration": 1686,
    "start_time": "2021-09-22T17:00:44.251Z"
   },
   {
    "duration": 26,
    "start_time": "2021-09-22T17:00:45.940Z"
   },
   {
    "duration": 12,
    "start_time": "2021-09-22T17:00:45.969Z"
   },
   {
    "duration": 95,
    "start_time": "2021-09-22T17:00:45.984Z"
   },
   {
    "duration": 25,
    "start_time": "2021-09-22T17:00:46.081Z"
   },
   {
    "duration": 11,
    "start_time": "2021-09-22T17:00:46.109Z"
   },
   {
    "duration": 5022,
    "start_time": "2021-09-22T17:00:46.122Z"
   },
   {
    "duration": 5137,
    "start_time": "2021-09-22T17:00:51.148Z"
   },
   {
    "duration": 709,
    "start_time": "2021-09-22T17:00:56.288Z"
   },
   {
    "duration": 11,
    "start_time": "2021-09-22T17:00:57.000Z"
   },
   {
    "duration": 82,
    "start_time": "2021-09-22T17:00:57.014Z"
   },
   {
    "duration": 647,
    "start_time": "2021-09-22T17:00:57.163Z"
   },
   {
    "duration": 12,
    "start_time": "2021-09-22T17:00:57.812Z"
   },
   {
    "duration": 14,
    "start_time": "2021-09-22T17:00:57.827Z"
   },
   {
    "duration": 35,
    "start_time": "2021-09-22T17:00:57.843Z"
   },
   {
    "duration": 10,
    "start_time": "2021-09-22T17:02:57.319Z"
   },
   {
    "duration": 49,
    "start_time": "2021-09-22T17:04:17.402Z"
   },
   {
    "duration": 397,
    "start_time": "2021-09-22T17:09:49.552Z"
   },
   {
    "duration": 1622,
    "start_time": "2021-09-22T17:10:02.257Z"
   },
   {
    "duration": 31,
    "start_time": "2021-09-22T17:10:03.882Z"
   },
   {
    "duration": 31,
    "start_time": "2021-09-22T17:10:03.917Z"
   },
   {
    "duration": 83,
    "start_time": "2021-09-22T17:10:03.963Z"
   },
   {
    "duration": 32,
    "start_time": "2021-09-22T17:10:04.049Z"
   },
   {
    "duration": 14,
    "start_time": "2021-09-22T17:10:04.084Z"
   },
   {
    "duration": 4766,
    "start_time": "2021-09-22T17:10:04.100Z"
   },
   {
    "duration": 5120,
    "start_time": "2021-09-22T17:10:08.870Z"
   },
   {
    "duration": 698,
    "start_time": "2021-09-22T17:10:13.994Z"
   },
   {
    "duration": 12,
    "start_time": "2021-09-22T17:10:14.695Z"
   },
   {
    "duration": 77,
    "start_time": "2021-09-22T17:10:14.709Z"
   },
   {
    "duration": 689,
    "start_time": "2021-09-22T17:10:14.790Z"
   },
   {
    "duration": 14,
    "start_time": "2021-09-22T17:10:15.481Z"
   },
   {
    "duration": 13,
    "start_time": "2021-09-22T17:10:15.498Z"
   },
   {
    "duration": 140920,
    "start_time": "2021-09-22T17:10:15.514Z"
   },
   {
    "duration": 142383,
    "start_time": "2021-09-22T17:13:38.007Z"
   },
   {
    "duration": 147081,
    "start_time": "2021-09-22T17:22:45.014Z"
   },
   {
    "duration": 1906,
    "start_time": "2021-09-22T21:55:51.285Z"
   },
   {
    "duration": 1882,
    "start_time": "2021-09-22T21:56:08.624Z"
   },
   {
    "duration": 1645,
    "start_time": "2021-09-22T21:56:34.325Z"
   },
   {
    "duration": 27,
    "start_time": "2021-09-22T21:56:35.973Z"
   },
   {
    "duration": 15,
    "start_time": "2021-09-22T21:56:36.003Z"
   },
   {
    "duration": 97,
    "start_time": "2021-09-22T21:56:36.021Z"
   },
   {
    "duration": 24,
    "start_time": "2021-09-22T21:56:36.121Z"
   },
   {
    "duration": 11,
    "start_time": "2021-09-22T21:56:36.163Z"
   },
   {
    "duration": 4702,
    "start_time": "2021-09-22T21:56:36.177Z"
   },
   {
    "duration": 5369,
    "start_time": "2021-09-22T21:56:40.881Z"
   },
   {
    "duration": 695,
    "start_time": "2021-09-22T21:56:46.253Z"
   },
   {
    "duration": 11,
    "start_time": "2021-09-22T21:56:46.963Z"
   },
   {
    "duration": 89,
    "start_time": "2021-09-22T21:56:46.976Z"
   },
   {
    "duration": 698,
    "start_time": "2021-09-22T21:56:47.069Z"
   },
   {
    "duration": 12,
    "start_time": "2021-09-22T21:56:47.769Z"
   },
   {
    "duration": 10,
    "start_time": "2021-09-22T21:56:47.783Z"
   },
   {
    "duration": 140696,
    "start_time": "2021-09-22T21:56:47.795Z"
   },
   {
    "duration": 1794,
    "start_time": "2021-09-22T21:59:08.493Z"
   },
   {
    "duration": 26,
    "start_time": "2021-09-22T22:01:45.451Z"
   },
   {
    "duration": 1782,
    "start_time": "2021-09-22T22:15:48.502Z"
   },
   {
    "duration": 26,
    "start_time": "2021-09-22T22:16:00.373Z"
   },
   {
    "duration": 1620,
    "start_time": "2021-09-22T22:16:18.957Z"
   },
   {
    "duration": 28,
    "start_time": "2021-09-22T22:16:20.580Z"
   },
   {
    "duration": 23,
    "start_time": "2021-09-22T22:16:20.611Z"
   },
   {
    "duration": 86,
    "start_time": "2021-09-22T22:16:20.637Z"
   },
   {
    "duration": 38,
    "start_time": "2021-09-22T22:16:20.726Z"
   },
   {
    "duration": 11,
    "start_time": "2021-09-22T22:16:20.767Z"
   },
   {
    "duration": 4787,
    "start_time": "2021-09-22T22:16:20.780Z"
   },
   {
    "duration": 5142,
    "start_time": "2021-09-22T22:16:25.571Z"
   },
   {
    "duration": 775,
    "start_time": "2021-09-22T22:16:30.716Z"
   },
   {
    "duration": 12,
    "start_time": "2021-09-22T22:16:31.494Z"
   },
   {
    "duration": 78,
    "start_time": "2021-09-22T22:16:31.508Z"
   },
   {
    "duration": 699,
    "start_time": "2021-09-22T22:16:31.588Z"
   },
   {
    "duration": 12,
    "start_time": "2021-09-22T22:16:32.289Z"
   },
   {
    "duration": 13,
    "start_time": "2021-09-22T22:16:32.303Z"
   },
   {
    "duration": 141874,
    "start_time": "2021-09-22T22:16:32.319Z"
   },
   {
    "duration": 1891,
    "start_time": "2021-09-22T22:18:54.196Z"
   },
   {
    "duration": 27,
    "start_time": "2021-09-22T22:18:56.090Z"
   },
   {
    "duration": 75681,
    "start_time": "2021-09-23T12:44:41.266Z"
   },
   {
    "duration": 1360,
    "start_time": "2021-09-23T12:47:33.714Z"
   },
   {
    "duration": 1828,
    "start_time": "2021-09-23T12:47:41.606Z"
   },
   {
    "duration": 279,
    "start_time": "2021-09-23T12:49:29.980Z"
   },
   {
    "duration": 75955,
    "start_time": "2021-09-23T12:51:37.915Z"
   },
   {
    "duration": 1398,
    "start_time": "2021-09-23T12:59:38.843Z"
   },
   {
    "duration": 647,
    "start_time": "2021-09-23T13:00:13.533Z"
   },
   {
    "duration": 560,
    "start_time": "2021-09-23T13:00:33.085Z"
   },
   {
    "duration": 674,
    "start_time": "2021-09-23T13:00:45.040Z"
   },
   {
    "duration": 1263,
    "start_time": "2021-09-23T13:01:47.828Z"
   },
   {
    "duration": 1162,
    "start_time": "2021-09-23T13:02:02.852Z"
   },
   {
    "duration": 1160,
    "start_time": "2021-09-23T13:03:33.064Z"
   },
   {
    "duration": 25513,
    "start_time": "2021-09-23T13:05:00.531Z"
   },
   {
    "duration": 26413,
    "start_time": "2021-09-23T13:08:18.339Z"
   },
   {
    "duration": 25727,
    "start_time": "2021-09-23T13:10:03.308Z"
   },
   {
    "duration": 295,
    "start_time": "2021-09-23T13:11:19.583Z"
   },
   {
    "duration": 25259,
    "start_time": "2021-09-23T13:11:52.039Z"
   },
   {
    "duration": 17,
    "start_time": "2021-09-23T13:36:13.066Z"
   },
   {
    "duration": 9,
    "start_time": "2021-09-23T13:36:32.317Z"
   },
   {
    "duration": 9,
    "start_time": "2021-09-23T13:36:47.815Z"
   },
   {
    "duration": 9,
    "start_time": "2021-09-23T13:37:07.801Z"
   },
   {
    "duration": 425,
    "start_time": "2021-09-23T13:38:07.627Z"
   },
   {
    "duration": 305,
    "start_time": "2021-09-23T13:38:25.686Z"
   },
   {
    "duration": 139,
    "start_time": "2021-09-23T13:44:57.752Z"
   },
   {
    "duration": 37,
    "start_time": "2021-09-23T13:45:09.185Z"
   },
   {
    "duration": 28,
    "start_time": "2021-09-23T13:45:20.857Z"
   },
   {
    "duration": 29,
    "start_time": "2021-09-23T13:46:25.653Z"
   },
   {
    "duration": 13,
    "start_time": "2021-09-23T13:46:55.603Z"
   },
   {
    "duration": 32,
    "start_time": "2021-09-23T13:47:11.790Z"
   },
   {
    "duration": 9,
    "start_time": "2021-09-23T13:48:00.027Z"
   },
   {
    "duration": 590,
    "start_time": "2021-09-23T13:48:30.579Z"
   },
   {
    "duration": 94,
    "start_time": "2021-09-23T13:48:38.108Z"
   },
   {
    "duration": 114,
    "start_time": "2021-09-23T13:48:52.393Z"
   },
   {
    "duration": 75,
    "start_time": "2021-09-23T13:48:58.018Z"
   },
   {
    "duration": 242,
    "start_time": "2021-09-23T13:49:04.410Z"
   },
   {
    "duration": 119,
    "start_time": "2021-09-23T13:50:19.575Z"
   },
   {
    "duration": 9,
    "start_time": "2021-09-23T13:50:39.898Z"
   },
   {
    "duration": 12,
    "start_time": "2021-09-23T13:52:45.405Z"
   },
   {
    "duration": 6,
    "start_time": "2021-09-23T13:53:25.567Z"
   },
   {
    "duration": 8,
    "start_time": "2021-09-23T13:53:29.936Z"
   },
   {
    "duration": 9,
    "start_time": "2021-09-23T13:54:28.617Z"
   },
   {
    "duration": 13,
    "start_time": "2021-09-23T13:55:02.169Z"
   },
   {
    "duration": 336,
    "start_time": "2021-09-23T13:58:59.735Z"
   },
   {
    "duration": 20224,
    "start_time": "2021-09-23T14:08:42.974Z"
   },
   {
    "duration": 253,
    "start_time": "2021-09-23T14:09:40.406Z"
   },
   {
    "duration": 97,
    "start_time": "2021-09-23T14:09:48.199Z"
   },
   {
    "duration": 19552,
    "start_time": "2021-09-23T14:09:53.111Z"
   },
   {
    "duration": 4028,
    "start_time": "2021-09-23T14:20:35.395Z"
   },
   {
    "duration": 7040,
    "start_time": "2021-09-23T15:28:12.664Z"
   },
   {
    "duration": 250,
    "start_time": "2021-09-23T15:29:27.145Z"
   },
   {
    "duration": 258,
    "start_time": "2021-09-23T15:29:41.124Z"
   },
   {
    "duration": 279,
    "start_time": "2021-09-23T15:29:52.830Z"
   },
   {
    "duration": 7,
    "start_time": "2021-09-23T15:29:58.248Z"
   },
   {
    "duration": 5,
    "start_time": "2021-09-23T15:30:10.647Z"
   },
   {
    "duration": 288,
    "start_time": "2021-09-23T15:30:48.294Z"
   },
   {
    "duration": 292,
    "start_time": "2021-09-23T15:31:03.400Z"
   },
   {
    "duration": 103,
    "start_time": "2021-09-23T15:31:30.405Z"
   },
   {
    "duration": 36,
    "start_time": "2021-09-23T15:31:33.565Z"
   },
   {
    "duration": 15,
    "start_time": "2021-09-23T15:32:26.738Z"
   },
   {
    "duration": 14,
    "start_time": "2021-09-23T15:32:41.774Z"
   },
   {
    "duration": 13,
    "start_time": "2021-09-23T15:32:48.425Z"
   },
   {
    "duration": 10,
    "start_time": "2021-09-23T15:33:32.242Z"
   },
   {
    "duration": 11,
    "start_time": "2021-09-23T15:33:51.404Z"
   },
   {
    "duration": 10,
    "start_time": "2021-09-23T15:34:24.786Z"
   },
   {
    "duration": 80,
    "start_time": "2021-09-23T15:34:33.755Z"
   },
   {
    "duration": 12,
    "start_time": "2021-09-23T15:36:23.349Z"
   },
   {
    "duration": 11,
    "start_time": "2021-09-23T15:36:42.001Z"
   },
   {
    "duration": 11,
    "start_time": "2021-09-23T15:36:51.450Z"
   },
   {
    "duration": 12,
    "start_time": "2021-09-23T15:37:30.327Z"
   },
   {
    "duration": 9,
    "start_time": "2021-09-23T15:38:12.072Z"
   },
   {
    "duration": 13,
    "start_time": "2021-09-23T15:38:24.620Z"
   },
   {
    "duration": 32,
    "start_time": "2021-09-23T16:08:58.473Z"
   },
   {
    "duration": 12,
    "start_time": "2021-09-23T16:09:47.079Z"
   },
   {
    "duration": 33,
    "start_time": "2021-09-23T16:10:02.915Z"
   },
   {
    "duration": 13,
    "start_time": "2021-09-23T16:10:08.930Z"
   },
   {
    "duration": 8,
    "start_time": "2021-09-23T16:10:48.014Z"
   },
   {
    "duration": 16,
    "start_time": "2021-09-23T16:11:05.905Z"
   },
   {
    "duration": 16,
    "start_time": "2021-09-23T16:11:17.139Z"
   },
   {
    "duration": 15,
    "start_time": "2021-09-23T16:11:44.553Z"
   },
   {
    "duration": 12,
    "start_time": "2021-09-23T16:12:24.866Z"
   },
   {
    "duration": 13,
    "start_time": "2021-09-23T16:12:32.435Z"
   },
   {
    "duration": 15,
    "start_time": "2021-09-23T16:12:45.861Z"
   },
   {
    "duration": 13,
    "start_time": "2021-09-23T16:12:51.387Z"
   },
   {
    "duration": 10,
    "start_time": "2021-09-23T16:13:20.200Z"
   },
   {
    "duration": 15,
    "start_time": "2021-09-23T16:13:39.447Z"
   },
   {
    "duration": 8216,
    "start_time": "2021-09-23T16:44:14.404Z"
   },
   {
    "duration": 28,
    "start_time": "2021-09-23T16:44:45.615Z"
   },
   {
    "duration": 13,
    "start_time": "2021-09-23T16:44:59.669Z"
   },
   {
    "duration": 6731,
    "start_time": "2021-09-23T16:45:03.979Z"
   },
   {
    "duration": 6,
    "start_time": "2021-09-23T16:45:28.226Z"
   },
   {
    "duration": 8,
    "start_time": "2021-09-23T16:45:46.660Z"
   },
   {
    "duration": 1739,
    "start_time": "2021-09-23T17:04:43.122Z"
   },
   {
    "duration": 26,
    "start_time": "2021-09-23T17:04:44.863Z"
   },
   {
    "duration": 12,
    "start_time": "2021-09-23T17:04:44.892Z"
   },
   {
    "duration": 100,
    "start_time": "2021-09-23T17:04:44.907Z"
   },
   {
    "duration": 25,
    "start_time": "2021-09-23T17:04:45.009Z"
   },
   {
    "duration": 6918,
    "start_time": "2021-09-23T17:04:45.036Z"
   },
   {
    "duration": 731,
    "start_time": "2021-09-23T17:04:51.956Z"
   },
   {
    "duration": 16,
    "start_time": "2021-09-23T17:04:52.693Z"
   },
   {
    "duration": 84,
    "start_time": "2021-09-23T17:04:52.713Z"
   },
   {
    "duration": 669,
    "start_time": "2021-09-23T17:04:52.800Z"
   },
   {
    "duration": 12,
    "start_time": "2021-09-23T17:04:53.471Z"
   },
   {
    "duration": 12,
    "start_time": "2021-09-23T17:04:53.485Z"
   },
   {
    "duration": 145129,
    "start_time": "2021-09-23T17:04:53.500Z"
   },
   {
    "duration": 1545,
    "start_time": "2021-09-23T17:07:18.632Z"
   },
   {
    "duration": 27,
    "start_time": "2021-09-23T17:07:20.179Z"
   },
   {
    "duration": 20328,
    "start_time": "2021-09-23T17:07:20.209Z"
   },
   {
    "duration": 32,
    "start_time": "2021-09-23T17:07:40.539Z"
   },
   {
    "duration": 1161,
    "start_time": "2021-09-24T14:33:48.561Z"
   },
   {
    "duration": 16,
    "start_time": "2021-09-24T14:33:49.724Z"
   },
   {
    "duration": 8,
    "start_time": "2021-09-24T14:33:49.742Z"
   },
   {
    "duration": 40,
    "start_time": "2021-09-24T14:33:49.751Z"
   },
   {
    "duration": 15,
    "start_time": "2021-09-24T14:33:49.793Z"
   },
   {
    "duration": 4348,
    "start_time": "2021-09-24T14:33:49.809Z"
   },
   {
    "duration": 80304,
    "start_time": "2021-09-24T14:33:54.159Z"
   },
   {
    "duration": 9,
    "start_time": "2021-09-24T14:35:14.466Z"
   },
   {
    "duration": 74,
    "start_time": "2021-09-24T14:35:14.477Z"
   },
   {
    "duration": 522,
    "start_time": "2021-09-24T14:35:14.554Z"
   },
   {
    "duration": 8,
    "start_time": "2021-09-24T14:35:15.078Z"
   },
   {
    "duration": 10,
    "start_time": "2021-09-24T14:35:15.087Z"
   },
   {
    "duration": 80571,
    "start_time": "2021-09-24T14:35:15.098Z"
   },
   {
    "duration": 1282,
    "start_time": "2021-09-24T14:36:35.671Z"
   },
   {
    "duration": 16,
    "start_time": "2021-09-24T14:36:36.954Z"
   },
   {
    "duration": 11672,
    "start_time": "2021-09-24T14:36:36.972Z"
   },
   {
    "duration": 14,
    "start_time": "2021-09-24T14:36:48.646Z"
   },
   {
    "duration": 215,
    "start_time": "2021-09-24T23:21:41.567Z"
   },
   {
    "duration": 1173,
    "start_time": "2021-09-24T23:21:49.276Z"
   },
   {
    "duration": 16,
    "start_time": "2021-09-24T23:21:50.451Z"
   },
   {
    "duration": 12,
    "start_time": "2021-09-24T23:21:50.469Z"
   },
   {
    "duration": 49,
    "start_time": "2021-09-24T23:21:50.483Z"
   },
   {
    "duration": 8,
    "start_time": "2021-09-24T23:21:50.533Z"
   },
   {
    "duration": 22,
    "start_time": "2021-09-24T23:21:50.543Z"
   },
   {
    "duration": 4073,
    "start_time": "2021-09-24T23:21:50.566Z"
   },
   {
    "duration": 329,
    "start_time": "2021-09-24T23:21:54.641Z"
   },
   {
    "duration": 8,
    "start_time": "2021-09-24T23:21:54.972Z"
   },
   {
    "duration": 45,
    "start_time": "2021-09-24T23:21:54.982Z"
   },
   {
    "duration": 496,
    "start_time": "2021-09-24T23:21:55.029Z"
   },
   {
    "duration": 9,
    "start_time": "2021-09-24T23:21:55.526Z"
   },
   {
    "duration": 7,
    "start_time": "2021-09-24T23:21:55.536Z"
   },
   {
    "duration": 86489,
    "start_time": "2021-09-24T23:21:55.545Z"
   },
   {
    "duration": 1574,
    "start_time": "2021-09-24T23:23:22.035Z"
   },
   {
    "duration": 17,
    "start_time": "2021-09-24T23:23:23.610Z"
   },
   {
    "duration": 11987,
    "start_time": "2021-09-24T23:23:23.629Z"
   },
   {
    "duration": 12,
    "start_time": "2021-09-24T23:23:35.617Z"
   },
   {
    "duration": 1190,
    "start_time": "2021-09-25T11:42:19.233Z"
   },
   {
    "duration": 16,
    "start_time": "2021-09-25T11:42:20.425Z"
   },
   {
    "duration": 16,
    "start_time": "2021-09-25T11:42:20.443Z"
   },
   {
    "duration": 53,
    "start_time": "2021-09-25T11:42:20.461Z"
   },
   {
    "duration": 7,
    "start_time": "2021-09-25T11:42:20.516Z"
   },
   {
    "duration": 24,
    "start_time": "2021-09-25T11:42:20.524Z"
   },
   {
    "duration": 4527,
    "start_time": "2021-09-25T11:42:20.550Z"
   },
   {
    "duration": 402,
    "start_time": "2021-09-25T11:42:25.079Z"
   },
   {
    "duration": 8,
    "start_time": "2021-09-25T11:42:25.483Z"
   },
   {
    "duration": 107,
    "start_time": "2021-09-25T11:42:25.493Z"
   },
   {
    "duration": 442,
    "start_time": "2021-09-25T11:42:25.603Z"
   },
   {
    "duration": 9,
    "start_time": "2021-09-25T11:42:26.047Z"
   },
   {
    "duration": 8,
    "start_time": "2021-09-25T11:42:26.058Z"
   },
   {
    "duration": 90508,
    "start_time": "2021-09-25T11:42:26.068Z"
   },
   {
    "duration": 1352,
    "start_time": "2021-09-25T11:43:56.577Z"
   },
   {
    "duration": 89,
    "start_time": "2021-09-25T11:43:57.931Z"
   },
   {
    "duration": 12071,
    "start_time": "2021-09-25T11:43:58.022Z"
   },
   {
    "duration": 15,
    "start_time": "2021-09-25T11:44:10.095Z"
   },
   {
    "duration": 6,
    "start_time": "2021-09-25T12:25:59.724Z"
   },
   {
    "duration": 318,
    "start_time": "2021-09-25T12:30:39.077Z"
   },
   {
    "duration": 1215,
    "start_time": "2021-09-25T12:31:12.032Z"
   },
   {
    "duration": 16,
    "start_time": "2021-09-25T12:31:13.249Z"
   },
   {
    "duration": 8,
    "start_time": "2021-09-25T12:31:13.268Z"
   },
   {
    "duration": 68,
    "start_time": "2021-09-25T12:31:13.278Z"
   },
   {
    "duration": 7,
    "start_time": "2021-09-25T12:31:13.347Z"
   },
   {
    "duration": 25,
    "start_time": "2021-09-25T12:31:13.356Z"
   },
   {
    "duration": 4526,
    "start_time": "2021-09-25T12:31:13.382Z"
   },
   {
    "duration": 348,
    "start_time": "2021-09-25T12:31:17.912Z"
   },
   {
    "duration": 9,
    "start_time": "2021-09-25T12:31:18.263Z"
   },
   {
    "duration": 29,
    "start_time": "2021-09-25T12:31:18.273Z"
   },
   {
    "duration": 37,
    "start_time": "2021-09-25T12:31:18.305Z"
   },
   {
    "duration": 359,
    "start_time": "2021-09-25T12:31:18.344Z"
   },
   {
    "duration": 11,
    "start_time": "2021-09-25T12:31:18.706Z"
   },
   {
    "duration": 8,
    "start_time": "2021-09-25T12:31:18.719Z"
   },
   {
    "duration": 92746,
    "start_time": "2021-09-25T12:31:18.729Z"
   },
   {
    "duration": 1434,
    "start_time": "2021-09-25T12:32:51.477Z"
   },
   {
    "duration": 15,
    "start_time": "2021-09-25T12:32:52.913Z"
   },
   {
    "duration": 10505,
    "start_time": "2021-09-25T12:32:52.930Z"
   },
   {
    "duration": 344,
    "start_time": "2021-09-25T12:33:03.437Z"
   },
   {
    "duration": -12728,
    "start_time": "2021-09-25T12:33:16.511Z"
   },
   {
    "duration": -12737,
    "start_time": "2021-09-25T12:33:16.521Z"
   },
   {
    "duration": 12,
    "start_time": "2021-09-25T12:34:51.197Z"
   }
  ],
  "kernelspec": {
   "display_name": "Python 3",
   "language": "python",
   "name": "python3"
  },
  "language_info": {
   "codemirror_mode": {
    "name": "ipython",
    "version": 3
   },
   "file_extension": ".py",
   "mimetype": "text/x-python",
   "name": "python",
   "nbconvert_exporter": "python",
   "pygments_lexer": "ipython3",
   "version": "3.8.8"
  },
  "toc": {
   "base_numbering": 1,
   "nav_menu": {},
   "number_sections": true,
   "sideBar": true,
   "skip_h1_title": true,
   "title_cell": "Table of Contents",
   "title_sidebar": "Contents",
   "toc_cell": false,
   "toc_position": {},
   "toc_section_display": true,
   "toc_window_display": false
  }
 },
 "nbformat": 4,
 "nbformat_minor": 2
}
