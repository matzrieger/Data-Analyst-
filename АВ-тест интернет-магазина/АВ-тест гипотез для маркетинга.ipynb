{
 "cells": [
  {
   "cell_type": "markdown",
   "metadata": {},
   "source": [
    "## Описание проекта\n",
    "\n",
    "### Контекст\n",
    "\n",
    "Вы — аналитик крупного интернет-магазина. Вместе с отделом маркетинга вы подготовили список гипотез для увеличения выручки.\n",
    "Приоритизируйте гипотезы, запустите A/B-тест и проанализируйте результаты."
   ]
  },
  {
   "cell_type": "markdown",
   "metadata": {},
   "source": [
    "*План работы:*\n",
    "\n",
    "1) Приоритизация гипотез\n",
    "\n",
    "2) Анализ A/B-теста\n",
    "\n",
    "3) Выводы по результатам работы"
   ]
  },
  {
   "cell_type": "markdown",
   "metadata": {},
   "source": [
    "## Приоритизация гипотез.\n",
    "В файле /datasets/hypothesis.csv 9 гипотез по увеличению выручки интернет-магазина с указанными параметрами Reach, Impact, Confidence, Effort."
   ]
  },
  {
   "cell_type": "markdown",
   "metadata": {},
   "source": [
    "### Применим фреймворк ICE для приоритизации гипотез. Отсортируем их по убыванию приоритета."
   ]
  },
  {
   "cell_type": "code",
   "execution_count": 1,
   "metadata": {},
   "outputs": [
    {
     "data": {
      "text/html": [
       "<div>\n",
       "<style scoped>\n",
       "    .dataframe tbody tr th:only-of-type {\n",
       "        vertical-align: middle;\n",
       "    }\n",
       "\n",
       "    .dataframe tbody tr th {\n",
       "        vertical-align: top;\n",
       "    }\n",
       "\n",
       "    .dataframe thead th {\n",
       "        text-align: right;\n",
       "    }\n",
       "</style>\n",
       "<table border=\"1\" class=\"dataframe\">\n",
       "  <thead>\n",
       "    <tr style=\"text-align: right;\">\n",
       "      <th></th>\n",
       "      <th>Hypothesis</th>\n",
       "      <th>Reach</th>\n",
       "      <th>Impact</th>\n",
       "      <th>Confidence</th>\n",
       "      <th>Efforts</th>\n",
       "    </tr>\n",
       "  </thead>\n",
       "  <tbody>\n",
       "    <tr>\n",
       "      <td>0</td>\n",
       "      <td>Добавить два новых канала привлечения трафика, что позволит привлекать на 30% больше пользователей</td>\n",
       "      <td>3</td>\n",
       "      <td>10</td>\n",
       "      <td>8</td>\n",
       "      <td>6</td>\n",
       "    </tr>\n",
       "    <tr>\n",
       "      <td>1</td>\n",
       "      <td>Запустить собственную службу доставки, что сократит срок доставки заказов</td>\n",
       "      <td>2</td>\n",
       "      <td>5</td>\n",
       "      <td>4</td>\n",
       "      <td>10</td>\n",
       "    </tr>\n",
       "    <tr>\n",
       "      <td>2</td>\n",
       "      <td>Добавить блоки рекомендаций товаров на сайт интернет магазина, чтобы повысить конверсию и средни...</td>\n",
       "      <td>8</td>\n",
       "      <td>3</td>\n",
       "      <td>7</td>\n",
       "      <td>3</td>\n",
       "    </tr>\n",
       "    <tr>\n",
       "      <td>3</td>\n",
       "      <td>Изменить структура категорий, что увеличит конверсию, т.к. пользователи быстрее найдут нужный товар</td>\n",
       "      <td>8</td>\n",
       "      <td>3</td>\n",
       "      <td>3</td>\n",
       "      <td>8</td>\n",
       "    </tr>\n",
       "    <tr>\n",
       "      <td>4</td>\n",
       "      <td>Изменить цвет фона главной страницы, чтобы увеличить вовлеченность пользователей</td>\n",
       "      <td>3</td>\n",
       "      <td>1</td>\n",
       "      <td>1</td>\n",
       "      <td>1</td>\n",
       "    </tr>\n",
       "    <tr>\n",
       "      <td>5</td>\n",
       "      <td>Добавить страницу отзывов клиентов о магазине, что позволит увеличить количество заказов</td>\n",
       "      <td>3</td>\n",
       "      <td>2</td>\n",
       "      <td>2</td>\n",
       "      <td>3</td>\n",
       "    </tr>\n",
       "    <tr>\n",
       "      <td>6</td>\n",
       "      <td>Показать на главной странице баннеры с актуальными акциями и распродажами, чтобы увеличить конве...</td>\n",
       "      <td>5</td>\n",
       "      <td>3</td>\n",
       "      <td>8</td>\n",
       "      <td>3</td>\n",
       "    </tr>\n",
       "    <tr>\n",
       "      <td>7</td>\n",
       "      <td>Добавить форму подписки на все основные страницы, чтобы собрать базу клиентов для email-рассылок</td>\n",
       "      <td>10</td>\n",
       "      <td>7</td>\n",
       "      <td>8</td>\n",
       "      <td>5</td>\n",
       "    </tr>\n",
       "    <tr>\n",
       "      <td>8</td>\n",
       "      <td>Запустить акцию, дающую скидку на товар в день рождения</td>\n",
       "      <td>1</td>\n",
       "      <td>9</td>\n",
       "      <td>9</td>\n",
       "      <td>5</td>\n",
       "    </tr>\n",
       "  </tbody>\n",
       "</table>\n",
       "</div>"
      ],
      "text/plain": [
       "                                                                                            Hypothesis  \\\n",
       "0   Добавить два новых канала привлечения трафика, что позволит привлекать на 30% больше пользователей   \n",
       "1                            Запустить собственную службу доставки, что сократит срок доставки заказов   \n",
       "2  Добавить блоки рекомендаций товаров на сайт интернет магазина, чтобы повысить конверсию и средни...   \n",
       "3  Изменить структура категорий, что увеличит конверсию, т.к. пользователи быстрее найдут нужный товар   \n",
       "4                     Изменить цвет фона главной страницы, чтобы увеличить вовлеченность пользователей   \n",
       "5             Добавить страницу отзывов клиентов о магазине, что позволит увеличить количество заказов   \n",
       "6  Показать на главной странице баннеры с актуальными акциями и распродажами, чтобы увеличить конве...   \n",
       "7     Добавить форму подписки на все основные страницы, чтобы собрать базу клиентов для email-рассылок   \n",
       "8                                              Запустить акцию, дающую скидку на товар в день рождения   \n",
       "\n",
       "   Reach  Impact  Confidence  Efforts  \n",
       "0      3      10           8        6  \n",
       "1      2       5           4       10  \n",
       "2      8       3           7        3  \n",
       "3      8       3           3        8  \n",
       "4      3       1           1        1  \n",
       "5      3       2           2        3  \n",
       "6      5       3           8        3  \n",
       "7     10       7           8        5  \n",
       "8      1       9           9        5  "
      ]
     },
     "execution_count": 1,
     "metadata": {},
     "output_type": "execute_result"
    }
   ],
   "source": [
    "import pandas as pd\n",
    "import datetime as dt\n",
    "import numpy as np\n",
    "import matplotlib.pyplot as plt\n",
    "import scipy.stats as stats\n",
    "\n",
    "pd.set_option(\"max_colwidth\", 100)\n",
    "hypothesis = pd.read_csv('/datasets/hypothesis.csv')\n",
    "hypothesis"
   ]
  },
  {
   "cell_type": "markdown",
   "metadata": {},
   "source": [
    "*Для расчета фреймворка ICE будем использовать данную формулу его вычисления:*\n",
    "\n",
    "$$ICE=\\frac{𝐼𝑚𝑝𝑎𝑐𝑡∗𝐶𝑜𝑛𝑓𝑖𝑑𝑒𝑛𝑐𝑒}{𝐸𝑓𝑓𝑜𝑟𝑡𝑠}$$"
   ]
  },
  {
   "cell_type": "code",
   "execution_count": 2,
   "metadata": {},
   "outputs": [
    {
     "data": {
      "text/html": [
       "<div>\n",
       "<style scoped>\n",
       "    .dataframe tbody tr th:only-of-type {\n",
       "        vertical-align: middle;\n",
       "    }\n",
       "\n",
       "    .dataframe tbody tr th {\n",
       "        vertical-align: top;\n",
       "    }\n",
       "\n",
       "    .dataframe thead th {\n",
       "        text-align: right;\n",
       "    }\n",
       "</style>\n",
       "<table border=\"1\" class=\"dataframe\">\n",
       "  <thead>\n",
       "    <tr style=\"text-align: right;\">\n",
       "      <th></th>\n",
       "      <th>hypothesis</th>\n",
       "      <th>ICE</th>\n",
       "    </tr>\n",
       "  </thead>\n",
       "  <tbody>\n",
       "    <tr>\n",
       "      <td>8</td>\n",
       "      <td>Запустить акцию, дающую скидку на товар в день рождения</td>\n",
       "      <td>16.200000</td>\n",
       "    </tr>\n",
       "    <tr>\n",
       "      <td>0</td>\n",
       "      <td>Добавить два новых канала привлечения трафика, что позволит привлекать на 30% больше пользователей</td>\n",
       "      <td>13.333333</td>\n",
       "    </tr>\n",
       "    <tr>\n",
       "      <td>7</td>\n",
       "      <td>Добавить форму подписки на все основные страницы, чтобы собрать базу клиентов для email-рассылок</td>\n",
       "      <td>11.200000</td>\n",
       "    </tr>\n",
       "    <tr>\n",
       "      <td>6</td>\n",
       "      <td>Показать на главной странице баннеры с актуальными акциями и распродажами, чтобы увеличить конве...</td>\n",
       "      <td>8.000000</td>\n",
       "    </tr>\n",
       "    <tr>\n",
       "      <td>2</td>\n",
       "      <td>Добавить блоки рекомендаций товаров на сайт интернет магазина, чтобы повысить конверсию и средни...</td>\n",
       "      <td>7.000000</td>\n",
       "    </tr>\n",
       "    <tr>\n",
       "      <td>1</td>\n",
       "      <td>Запустить собственную службу доставки, что сократит срок доставки заказов</td>\n",
       "      <td>2.000000</td>\n",
       "    </tr>\n",
       "    <tr>\n",
       "      <td>5</td>\n",
       "      <td>Добавить страницу отзывов клиентов о магазине, что позволит увеличить количество заказов</td>\n",
       "      <td>1.333333</td>\n",
       "    </tr>\n",
       "    <tr>\n",
       "      <td>3</td>\n",
       "      <td>Изменить структура категорий, что увеличит конверсию, т.к. пользователи быстрее найдут нужный товар</td>\n",
       "      <td>1.125000</td>\n",
       "    </tr>\n",
       "    <tr>\n",
       "      <td>4</td>\n",
       "      <td>Изменить цвет фона главной страницы, чтобы увеличить вовлеченность пользователей</td>\n",
       "      <td>1.000000</td>\n",
       "    </tr>\n",
       "  </tbody>\n",
       "</table>\n",
       "</div>"
      ],
      "text/plain": [
       "                                                                                            hypothesis  \\\n",
       "8                                              Запустить акцию, дающую скидку на товар в день рождения   \n",
       "0   Добавить два новых канала привлечения трафика, что позволит привлекать на 30% больше пользователей   \n",
       "7     Добавить форму подписки на все основные страницы, чтобы собрать базу клиентов для email-рассылок   \n",
       "6  Показать на главной странице баннеры с актуальными акциями и распродажами, чтобы увеличить конве...   \n",
       "2  Добавить блоки рекомендаций товаров на сайт интернет магазина, чтобы повысить конверсию и средни...   \n",
       "1                            Запустить собственную службу доставки, что сократит срок доставки заказов   \n",
       "5             Добавить страницу отзывов клиентов о магазине, что позволит увеличить количество заказов   \n",
       "3  Изменить структура категорий, что увеличит конверсию, т.к. пользователи быстрее найдут нужный товар   \n",
       "4                     Изменить цвет фона главной страницы, чтобы увеличить вовлеченность пользователей   \n",
       "\n",
       "         ICE  \n",
       "8  16.200000  \n",
       "0  13.333333  \n",
       "7  11.200000  \n",
       "6   8.000000  \n",
       "2   7.000000  \n",
       "1   2.000000  \n",
       "5   1.333333  \n",
       "3   1.125000  \n",
       "4   1.000000  "
      ]
     },
     "execution_count": 2,
     "metadata": {},
     "output_type": "execute_result"
    }
   ],
   "source": [
    "#приведем названия столбцов к нижнему регистру\n",
    "hypothesis.columns = hypothesis.columns.str.lower()\n",
    "\n",
    "#применим фреймворк ICE и отсортируем гипотезы по убыванию приоритета.\n",
    "hypothesis['ICE'] = (hypothesis['impact'] * hypothesis['confidence'])/hypothesis['efforts']\n",
    "data = pd.DataFrame()\n",
    "data['hypothesis'] = hypothesis['hypothesis']\n",
    "data['ICE'] = hypothesis['ICE']\n",
    "data = data.sort_values(by='ICE', ascending = False)\n",
    "pd.set_option(\"max_colwidth\", 100)\n",
    "data\n"
   ]
  },
  {
   "cell_type": "markdown",
   "metadata": {},
   "source": [
    "### Применим фреймворк RICE для приоритизации гипотез. Отсортируем их по убыванию приоритета."
   ]
  },
  {
   "cell_type": "markdown",
   "metadata": {},
   "source": [
    "Для расчета фреймворка ICE будем использовать данную формулу его вычисления:\n",
    "\n",
    "$$RICE = \\frac{Rearch * Impact * Confidence}{Efforts}$$\n"
   ]
  },
  {
   "cell_type": "code",
   "execution_count": 3,
   "metadata": {},
   "outputs": [
    {
     "data": {
      "text/html": [
       "<div>\n",
       "<style scoped>\n",
       "    .dataframe tbody tr th:only-of-type {\n",
       "        vertical-align: middle;\n",
       "    }\n",
       "\n",
       "    .dataframe tbody tr th {\n",
       "        vertical-align: top;\n",
       "    }\n",
       "\n",
       "    .dataframe thead th {\n",
       "        text-align: right;\n",
       "    }\n",
       "</style>\n",
       "<table border=\"1\" class=\"dataframe\">\n",
       "  <thead>\n",
       "    <tr style=\"text-align: right;\">\n",
       "      <th></th>\n",
       "      <th>hypothesis</th>\n",
       "      <th>RICE</th>\n",
       "    </tr>\n",
       "  </thead>\n",
       "  <tbody>\n",
       "    <tr>\n",
       "      <td>7</td>\n",
       "      <td>Добавить форму подписки на все основные страницы, чтобы собрать базу клиентов для email-рассылок</td>\n",
       "      <td>112.0</td>\n",
       "    </tr>\n",
       "    <tr>\n",
       "      <td>2</td>\n",
       "      <td>Добавить блоки рекомендаций товаров на сайт интернет магазина, чтобы повысить конверсию и средни...</td>\n",
       "      <td>56.0</td>\n",
       "    </tr>\n",
       "    <tr>\n",
       "      <td>0</td>\n",
       "      <td>Добавить два новых канала привлечения трафика, что позволит привлекать на 30% больше пользователей</td>\n",
       "      <td>40.0</td>\n",
       "    </tr>\n",
       "    <tr>\n",
       "      <td>6</td>\n",
       "      <td>Показать на главной странице баннеры с актуальными акциями и распродажами, чтобы увеличить конве...</td>\n",
       "      <td>40.0</td>\n",
       "    </tr>\n",
       "    <tr>\n",
       "      <td>8</td>\n",
       "      <td>Запустить акцию, дающую скидку на товар в день рождения</td>\n",
       "      <td>16.2</td>\n",
       "    </tr>\n",
       "    <tr>\n",
       "      <td>3</td>\n",
       "      <td>Изменить структура категорий, что увеличит конверсию, т.к. пользователи быстрее найдут нужный товар</td>\n",
       "      <td>9.0</td>\n",
       "    </tr>\n",
       "    <tr>\n",
       "      <td>1</td>\n",
       "      <td>Запустить собственную службу доставки, что сократит срок доставки заказов</td>\n",
       "      <td>4.0</td>\n",
       "    </tr>\n",
       "    <tr>\n",
       "      <td>5</td>\n",
       "      <td>Добавить страницу отзывов клиентов о магазине, что позволит увеличить количество заказов</td>\n",
       "      <td>4.0</td>\n",
       "    </tr>\n",
       "    <tr>\n",
       "      <td>4</td>\n",
       "      <td>Изменить цвет фона главной страницы, чтобы увеличить вовлеченность пользователей</td>\n",
       "      <td>3.0</td>\n",
       "    </tr>\n",
       "  </tbody>\n",
       "</table>\n",
       "</div>"
      ],
      "text/plain": [
       "                                                                                            hypothesis  \\\n",
       "7     Добавить форму подписки на все основные страницы, чтобы собрать базу клиентов для email-рассылок   \n",
       "2  Добавить блоки рекомендаций товаров на сайт интернет магазина, чтобы повысить конверсию и средни...   \n",
       "0   Добавить два новых канала привлечения трафика, что позволит привлекать на 30% больше пользователей   \n",
       "6  Показать на главной странице баннеры с актуальными акциями и распродажами, чтобы увеличить конве...   \n",
       "8                                              Запустить акцию, дающую скидку на товар в день рождения   \n",
       "3  Изменить структура категорий, что увеличит конверсию, т.к. пользователи быстрее найдут нужный товар   \n",
       "1                            Запустить собственную службу доставки, что сократит срок доставки заказов   \n",
       "5             Добавить страницу отзывов клиентов о магазине, что позволит увеличить количество заказов   \n",
       "4                     Изменить цвет фона главной страницы, чтобы увеличить вовлеченность пользователей   \n",
       "\n",
       "    RICE  \n",
       "7  112.0  \n",
       "2   56.0  \n",
       "0   40.0  \n",
       "6   40.0  \n",
       "8   16.2  \n",
       "3    9.0  \n",
       "1    4.0  \n",
       "5    4.0  \n",
       "4    3.0  "
      ]
     },
     "execution_count": 3,
     "metadata": {},
     "output_type": "execute_result"
    }
   ],
   "source": [
    "hypothesis['RICE'] = (hypothesis['reach'] * hypothesis['impact'] * hypothesis['confidence'])/hypothesis['efforts']\n",
    "data = pd.DataFrame()\n",
    "data['hypothesis'] = hypothesis['hypothesis']\n",
    "data['RICE'] = hypothesis['RICE']\n",
    "data = data.sort_values(by='RICE', ascending = False)\n",
    "pd.set_option(\"max_colwidth\", 100)\n",
    "data"
   ]
  },
  {
   "cell_type": "markdown",
   "metadata": {},
   "source": [
    "*Изменилась приоритизация гипотез при применении RICE вместо ICE. Это произошло по причине того, что в RICE добавлен еще один компонент - Confidence, показывающий уверенность в оценке охвата, влияния и трудозатрат. Если мы считаем, что изменение может иметь огромное влияние, но у нас нет данных для доказательства этого, Confidence позволяет проконтролировать этот момент.*\n",
    "\n",
    "*Стоит отметить, что 4я гипотеза не изменила позицию, а первая четверка изменилась, выбиа 8ю гипотизу на пятое место. 7я стала лидировать из-за большего параметра Reach.*"
   ]
  },
  {
   "cell_type": "markdown",
   "metadata": {},
   "source": [
    "## Анализ A/B-теста"
   ]
  },
  {
   "cell_type": "markdown",
   "metadata": {},
   "source": [
    "### Мы провели A/B-тест и получили результаты, которые описаны в файлах /datasets/orders.csv и /datasets/visitors.csv. Теепрь необходимо проанализировать A/B-тест:"
   ]
  },
  {
   "cell_type": "markdown",
   "metadata": {},
   "source": [
    "#### Построить график кумулятивной выручки по группам. Сделать выводы и предположения."
   ]
  },
  {
   "cell_type": "code",
   "execution_count": 4,
   "metadata": {},
   "outputs": [
    {
     "data": {
      "text/html": [
       "<div>\n",
       "<style scoped>\n",
       "    .dataframe tbody tr th:only-of-type {\n",
       "        vertical-align: middle;\n",
       "    }\n",
       "\n",
       "    .dataframe tbody tr th {\n",
       "        vertical-align: top;\n",
       "    }\n",
       "\n",
       "    .dataframe thead th {\n",
       "        text-align: right;\n",
       "    }\n",
       "</style>\n",
       "<table border=\"1\" class=\"dataframe\">\n",
       "  <thead>\n",
       "    <tr style=\"text-align: right;\">\n",
       "      <th></th>\n",
       "      <th>transactionId</th>\n",
       "      <th>visitorId</th>\n",
       "      <th>date</th>\n",
       "      <th>revenue</th>\n",
       "      <th>group</th>\n",
       "    </tr>\n",
       "  </thead>\n",
       "  <tbody>\n",
       "    <tr>\n",
       "      <td>0</td>\n",
       "      <td>3667963787</td>\n",
       "      <td>3312258926</td>\n",
       "      <td>2019-08-15</td>\n",
       "      <td>1650</td>\n",
       "      <td>B</td>\n",
       "    </tr>\n",
       "    <tr>\n",
       "      <td>1</td>\n",
       "      <td>2804400009</td>\n",
       "      <td>3642806036</td>\n",
       "      <td>2019-08-15</td>\n",
       "      <td>730</td>\n",
       "      <td>B</td>\n",
       "    </tr>\n",
       "    <tr>\n",
       "      <td>2</td>\n",
       "      <td>2961555356</td>\n",
       "      <td>4069496402</td>\n",
       "      <td>2019-08-15</td>\n",
       "      <td>400</td>\n",
       "      <td>A</td>\n",
       "    </tr>\n",
       "    <tr>\n",
       "      <td>3</td>\n",
       "      <td>3797467345</td>\n",
       "      <td>1196621759</td>\n",
       "      <td>2019-08-15</td>\n",
       "      <td>9759</td>\n",
       "      <td>B</td>\n",
       "    </tr>\n",
       "    <tr>\n",
       "      <td>4</td>\n",
       "      <td>2282983706</td>\n",
       "      <td>2322279887</td>\n",
       "      <td>2019-08-15</td>\n",
       "      <td>2308</td>\n",
       "      <td>B</td>\n",
       "    </tr>\n",
       "    <tr>\n",
       "      <td>...</td>\n",
       "      <td>...</td>\n",
       "      <td>...</td>\n",
       "      <td>...</td>\n",
       "      <td>...</td>\n",
       "      <td>...</td>\n",
       "    </tr>\n",
       "    <tr>\n",
       "      <td>1192</td>\n",
       "      <td>2662137336</td>\n",
       "      <td>3733762160</td>\n",
       "      <td>2019-08-14</td>\n",
       "      <td>6490</td>\n",
       "      <td>B</td>\n",
       "    </tr>\n",
       "    <tr>\n",
       "      <td>1193</td>\n",
       "      <td>2203539145</td>\n",
       "      <td>370388673</td>\n",
       "      <td>2019-08-14</td>\n",
       "      <td>3190</td>\n",
       "      <td>A</td>\n",
       "    </tr>\n",
       "    <tr>\n",
       "      <td>1194</td>\n",
       "      <td>1807773912</td>\n",
       "      <td>573423106</td>\n",
       "      <td>2019-08-14</td>\n",
       "      <td>10550</td>\n",
       "      <td>A</td>\n",
       "    </tr>\n",
       "    <tr>\n",
       "      <td>1195</td>\n",
       "      <td>1947021204</td>\n",
       "      <td>1614305549</td>\n",
       "      <td>2019-08-14</td>\n",
       "      <td>100</td>\n",
       "      <td>A</td>\n",
       "    </tr>\n",
       "    <tr>\n",
       "      <td>1196</td>\n",
       "      <td>3936777065</td>\n",
       "      <td>2108080724</td>\n",
       "      <td>2019-08-15</td>\n",
       "      <td>202740</td>\n",
       "      <td>B</td>\n",
       "    </tr>\n",
       "  </tbody>\n",
       "</table>\n",
       "<p>1197 rows × 5 columns</p>\n",
       "</div>"
      ],
      "text/plain": [
       "      transactionId   visitorId        date  revenue group\n",
       "0        3667963787  3312258926  2019-08-15     1650     B\n",
       "1        2804400009  3642806036  2019-08-15      730     B\n",
       "2        2961555356  4069496402  2019-08-15      400     A\n",
       "3        3797467345  1196621759  2019-08-15     9759     B\n",
       "4        2282983706  2322279887  2019-08-15     2308     B\n",
       "...             ...         ...         ...      ...   ...\n",
       "1192     2662137336  3733762160  2019-08-14     6490     B\n",
       "1193     2203539145   370388673  2019-08-14     3190     A\n",
       "1194     1807773912   573423106  2019-08-14    10550     A\n",
       "1195     1947021204  1614305549  2019-08-14      100     A\n",
       "1196     3936777065  2108080724  2019-08-15   202740     B\n",
       "\n",
       "[1197 rows x 5 columns]"
      ]
     },
     "execution_count": 4,
     "metadata": {},
     "output_type": "execute_result"
    }
   ],
   "source": [
    "orders = pd.read_csv('/datasets/orders.csv')\n",
    "orders"
   ]
  },
  {
   "cell_type": "code",
   "execution_count": 5,
   "metadata": {},
   "outputs": [
    {
     "name": "stdout",
     "output_type": "stream",
     "text": [
      "<class 'pandas.core.frame.DataFrame'>\n",
      "RangeIndex: 1197 entries, 0 to 1196\n",
      "Data columns (total 5 columns):\n",
      "transactionId    1197 non-null int64\n",
      "visitorId        1197 non-null int64\n",
      "date             1197 non-null object\n",
      "revenue          1197 non-null int64\n",
      "group            1197 non-null object\n",
      "dtypes: int64(3), object(2)\n",
      "memory usage: 46.9+ KB\n"
     ]
    }
   ],
   "source": [
    "#проверим типы данных таблицы, а также пропуски \n",
    "orders.info()"
   ]
  },
  {
   "cell_type": "code",
   "execution_count": 6,
   "metadata": {},
   "outputs": [
    {
     "data": {
      "text/plain": [
       "0"
      ]
     },
     "execution_count": 6,
     "metadata": {},
     "output_type": "execute_result"
    }
   ],
   "source": [
    "#узнаем, есть ли дубликаты\n",
    "orders.duplicated().sum()"
   ]
  },
  {
   "cell_type": "code",
   "execution_count": 7,
   "metadata": {},
   "outputs": [
    {
     "data": {
      "text/plain": [
       "B    640\n",
       "A    557\n",
       "Name: group, dtype: int64"
      ]
     },
     "execution_count": 7,
     "metadata": {},
     "output_type": "execute_result"
    }
   ],
   "source": [
    "#выясним, как распределены группы \n",
    "orders['group'].value_counts()"
   ]
  },
  {
   "cell_type": "code",
   "execution_count": 8,
   "metadata": {},
   "outputs": [
    {
     "data": {
      "text/html": [
       "<div>\n",
       "<style scoped>\n",
       "    .dataframe tbody tr th:only-of-type {\n",
       "        vertical-align: middle;\n",
       "    }\n",
       "\n",
       "    .dataframe tbody tr th {\n",
       "        vertical-align: top;\n",
       "    }\n",
       "\n",
       "    .dataframe thead th {\n",
       "        text-align: right;\n",
       "    }\n",
       "</style>\n",
       "<table border=\"1\" class=\"dataframe\">\n",
       "  <thead>\n",
       "    <tr style=\"text-align: right;\">\n",
       "      <th></th>\n",
       "      <th>date</th>\n",
       "      <th>group</th>\n",
       "      <th>visitors</th>\n",
       "    </tr>\n",
       "  </thead>\n",
       "  <tbody>\n",
       "    <tr>\n",
       "      <td>0</td>\n",
       "      <td>2019-08-01</td>\n",
       "      <td>A</td>\n",
       "      <td>719</td>\n",
       "    </tr>\n",
       "    <tr>\n",
       "      <td>1</td>\n",
       "      <td>2019-08-02</td>\n",
       "      <td>A</td>\n",
       "      <td>619</td>\n",
       "    </tr>\n",
       "    <tr>\n",
       "      <td>2</td>\n",
       "      <td>2019-08-03</td>\n",
       "      <td>A</td>\n",
       "      <td>507</td>\n",
       "    </tr>\n",
       "    <tr>\n",
       "      <td>3</td>\n",
       "      <td>2019-08-04</td>\n",
       "      <td>A</td>\n",
       "      <td>717</td>\n",
       "    </tr>\n",
       "    <tr>\n",
       "      <td>4</td>\n",
       "      <td>2019-08-05</td>\n",
       "      <td>A</td>\n",
       "      <td>756</td>\n",
       "    </tr>\n",
       "    <tr>\n",
       "      <td>...</td>\n",
       "      <td>...</td>\n",
       "      <td>...</td>\n",
       "      <td>...</td>\n",
       "    </tr>\n",
       "    <tr>\n",
       "      <td>57</td>\n",
       "      <td>2019-08-27</td>\n",
       "      <td>B</td>\n",
       "      <td>720</td>\n",
       "    </tr>\n",
       "    <tr>\n",
       "      <td>58</td>\n",
       "      <td>2019-08-28</td>\n",
       "      <td>B</td>\n",
       "      <td>654</td>\n",
       "    </tr>\n",
       "    <tr>\n",
       "      <td>59</td>\n",
       "      <td>2019-08-29</td>\n",
       "      <td>B</td>\n",
       "      <td>531</td>\n",
       "    </tr>\n",
       "    <tr>\n",
       "      <td>60</td>\n",
       "      <td>2019-08-30</td>\n",
       "      <td>B</td>\n",
       "      <td>490</td>\n",
       "    </tr>\n",
       "    <tr>\n",
       "      <td>61</td>\n",
       "      <td>2019-08-31</td>\n",
       "      <td>B</td>\n",
       "      <td>718</td>\n",
       "    </tr>\n",
       "  </tbody>\n",
       "</table>\n",
       "<p>62 rows × 3 columns</p>\n",
       "</div>"
      ],
      "text/plain": [
       "          date group  visitors\n",
       "0   2019-08-01     A       719\n",
       "1   2019-08-02     A       619\n",
       "2   2019-08-03     A       507\n",
       "3   2019-08-04     A       717\n",
       "4   2019-08-05     A       756\n",
       "..         ...   ...       ...\n",
       "57  2019-08-27     B       720\n",
       "58  2019-08-28     B       654\n",
       "59  2019-08-29     B       531\n",
       "60  2019-08-30     B       490\n",
       "61  2019-08-31     B       718\n",
       "\n",
       "[62 rows x 3 columns]"
      ]
     },
     "execution_count": 8,
     "metadata": {},
     "output_type": "execute_result"
    }
   ],
   "source": [
    "visitors = pd.read_csv('/datasets/visitors.csv')\n",
    "visitors"
   ]
  },
  {
   "cell_type": "code",
   "execution_count": 9,
   "metadata": {},
   "outputs": [
    {
     "name": "stdout",
     "output_type": "stream",
     "text": [
      "<class 'pandas.core.frame.DataFrame'>\n",
      "RangeIndex: 62 entries, 0 to 61\n",
      "Data columns (total 3 columns):\n",
      "date        62 non-null object\n",
      "group       62 non-null object\n",
      "visitors    62 non-null int64\n",
      "dtypes: int64(1), object(2)\n",
      "memory usage: 1.6+ KB\n"
     ]
    }
   ],
   "source": [
    "visitors.info()"
   ]
  },
  {
   "cell_type": "code",
   "execution_count": 10,
   "metadata": {},
   "outputs": [
    {
     "data": {
      "text/plain": [
       "0"
      ]
     },
     "execution_count": 10,
     "metadata": {},
     "output_type": "execute_result"
    }
   ],
   "source": [
    "visitors.duplicated().sum()"
   ]
  },
  {
   "cell_type": "code",
   "execution_count": 11,
   "metadata": {},
   "outputs": [
    {
     "data": {
      "text/plain": [
       "B    31\n",
       "A    31\n",
       "Name: group, dtype: int64"
      ]
     },
     "execution_count": 11,
     "metadata": {},
     "output_type": "execute_result"
    }
   ],
   "source": [
    "visitors['group'].value_counts()"
   ]
  },
  {
   "cell_type": "code",
   "execution_count": 12,
   "metadata": {},
   "outputs": [
    {
     "data": {
      "image/png": "[encoded data removed]",
      "text/plain": [
       "<Figure size 1440x720 with 1 Axes>"
      ]
     },
     "metadata": {
      "needs_background": "light"
     },
     "output_type": "display_data"
    }
   ],
   "source": [
    "plt.figure(figsize=(20,10))\n",
    "\n",
    "#создаем массив уникальных пар значений дат и групп теста\n",
    "datesGroups = orders[['date','group']].drop_duplicates()\n",
    "\n",
    "#соберём агрегированные кумулятивные по дням данные о заказах и посетителях\n",
    "ordersAggregated = datesGroups.apply(lambda x: orders[np.logical_and(orders['date'] <= x['date'], orders['group'] == x['group'])\n",
    "].agg(\n",
    "        {\n",
    "            'date': 'max',\n",
    "            'group': 'max',\n",
    "            'transactionId': pd.Series.nunique,\n",
    "            'visitorId': pd.Series.nunique,\n",
    "            'revenue': 'sum',\n",
    "        }\n",
    "    ),\n",
    "    axis=1,\n",
    ").sort_values(by=['date', 'group'])\n",
    "\n",
    "visitorsAggregated = datesGroups.apply(lambda x: visitors[np.logical_and(visitors['date'] <= x['date'], visitors['group'] == x['group'])\n",
    "    ].agg({'date': 'max', 'group': 'max', 'visitors': 'sum'}),\n",
    "    axis=1,\n",
    ").sort_values(by=['date', 'group'])\n",
    "\n",
    "# объединяем кумулятивные данные в одной таблице и присваиваем ее столбцам понятные названия\n",
    "cumulativeData = ordersAggregated.merge(visitorsAggregated, left_on=['date', 'group'], right_on=['date', 'group'])\n",
    "cumulativeData.columns = ['date', 'group', 'orders', 'buyers', 'revenue', 'visitors']\n",
    "\n",
    "# датафрейм с кумулятивным количеством заказов и кумулятивной выручкой по дням в группе А\n",
    "cumulativeRevenueA = cumulativeData[cumulativeData['group']=='A'][['date','revenue', 'orders']]\n",
    "\n",
    "# датафрейм с кумулятивным количеством заказов и кумулятивной выручкой по дням в группе B\n",
    "cumulativeRevenueB = cumulativeData[cumulativeData['group']=='B'][['date','revenue', 'orders']]\n",
    "\n",
    "# Строим график выручки группы А\n",
    "plt.plot(cumulativeRevenueA['date'], cumulativeRevenueA['revenue'], label='A')\n",
    "\n",
    "# Строим график выручки группы B\n",
    "plt.plot(cumulativeRevenueB['date'], cumulativeRevenueB['revenue'], label='B')\n",
    "\n",
    "plt.title('график кумулятивной выручки по группам')\n",
    "plt.xlabel('дата теста')\n",
    "plt.ylabel('выручка')\n",
    "degrees = 70\n",
    "plt.xticks(rotation=degrees)\n",
    "plt.show()\n"
   ]
  },
  {
   "cell_type": "markdown",
   "metadata": {},
   "source": [
    "*После начала теста, группа В вырывается вперед и продолжает лидировать до окончания тестирования. В середине у обоих групп заметны резкие выручки. Это может сигнализировать о выбросах, обусловленных большими чеками и большим числом заказов.*"
   ]
  },
  {
   "cell_type": "markdown",
   "metadata": {},
   "source": [
    "#### Построить график кумулятивного среднего чека по группам. Сделать выводы и предположения."
   ]
  },
  {
   "cell_type": "code",
   "execution_count": 13,
   "metadata": {},
   "outputs": [
    {
     "data": {
      "image/png": "[encoded data removed]",
      "text/plain": [
       "<Figure size 1440x720 with 1 Axes>"
      ]
     },
     "metadata": {
      "needs_background": "light"
     },
     "output_type": "display_data"
    }
   ],
   "source": [
    "plt.figure(figsize=(20,10))\n",
    "\n",
    "#разделим кумулятивную выручку на кумулятивное число заказов\n",
    "plt.plot(cumulativeRevenueA['date'], cumulativeRevenueA['revenue']/cumulativeRevenueA['orders'], label='A')\n",
    "plt.plot(cumulativeRevenueB['date'], cumulativeRevenueB['revenue']/cumulativeRevenueB['orders'], label='B')\n",
    "plt.title('график кумулятивного среднего чека по группам')\n",
    "plt.xlabel('дата теста')\n",
    "plt.ylabel('средний чек')\n",
    "degrees = 70\n",
    "plt.xticks(rotation=degrees)\n",
    "plt.legend();"
   ]
  },
  {
   "cell_type": "markdown",
   "metadata": {},
   "source": [
    "*Колебание кумулятивного среднечго чека сопровождается по всей длине теста. Также виден резкий рост в группе В. Можно предположить, что в это время произошли те самые дорогие покупки или несколько больших чеков. Группа А приходит  в норму по окончанию теста.*"
   ]
  },
  {
   "cell_type": "markdown",
   "metadata": {},
   "source": [
    "#### Построить график относительного изменения кумулятивного среднего чека группы B к группе A. Сделать выводы и предположения."
   ]
  },
  {
   "cell_type": "code",
   "execution_count": 14,
   "metadata": {
    "scrolled": false
   },
   "outputs": [
    {
     "data": {
      "image/png": "[encoded data removed]",
      "text/plain": [
       "<Figure size 1440x720 with 1 Axes>"
      ]
     },
     "metadata": {
      "needs_background": "light"
     },
     "output_type": "display_data"
    }
   ],
   "source": [
    "plt.figure(figsize=(20,10))\n",
    "\n",
    "# собираем данные в одном датафрейме\n",
    "mergedCumulativeRevenue = cumulativeRevenueA.merge(cumulativeRevenueB, left_on='date', right_on='date', how='left', suffixes=['A', 'B'])\n",
    "\n",
    "# cтроим отношение средних чеков\n",
    "plt.plot(mergedCumulativeRevenue['date'], (mergedCumulativeRevenue['revenueB']/mergedCumulativeRevenue['ordersB'])/(mergedCumulativeRevenue['revenueA']/mergedCumulativeRevenue['ordersA'])-1)\n",
    "\n",
    "# добавляем ось X\n",
    "plt.axhline(y=0, color='black', linestyle='--')\n",
    "plt.title('график относительного изменения кумулятивного среднего чека группы B к группе A')\n",
    "plt.xlabel('дата теста')\n",
    "plt.ylabel('средний чек')\n",
    "degrees = 70\n",
    "plt.xticks(rotation=degrees)\n",
    "plt.show();"
   ]
  },
  {
   "cell_type": "markdown",
   "metadata": {},
   "source": [
    "*Колебание относительного изменения кумулятивного среднего чека группы B в большей части теста происходит в положительной зоне. В нескольких точках график различия между сегментами резко меняется, что указывает на выбросы.*"
   ]
  },
  {
   "cell_type": "markdown",
   "metadata": {},
   "source": [
    "#### Построить график кумулятивной конверсии по группам. Сделать выводы и предположения."
   ]
  },
  {
   "cell_type": "code",
   "execution_count": 15,
   "metadata": {},
   "outputs": [
    {
     "data": {
      "image/png": "[encoded data removed]",
      "text/plain": [
       "<Figure size 1440x720 with 1 Axes>"
      ]
     },
     "metadata": {
      "needs_background": "light"
     },
     "output_type": "display_data"
    }
   ],
   "source": [
    "plt.figure(figsize=(20,10))\n",
    "\n",
    "\n",
    "# считаем кумулятивную конверсию\n",
    "cumulativeData['conversion'] = cumulativeData['orders']/cumulativeData['visitors']\n",
    "\n",
    "# отделяем данные по группе A\n",
    "cumulativeDataA = cumulativeData[cumulativeData['group']=='A']\n",
    "\n",
    "# отделяем данные по группе B\n",
    "cumulativeDataB = cumulativeData[cumulativeData['group']=='B']\n",
    "\n",
    "# строим графики\n",
    "plt.plot(cumulativeDataA['date'], cumulativeDataA['conversion'], label='A')\n",
    "plt.plot(cumulativeDataB['date'], cumulativeDataB['conversion'], label='B')\n",
    "\n",
    "# задаем масштаб осей\n",
    "plt.axis([\"2019-08-01\", '2019-08-31', 0, 0.05]) \n",
    "plt.title('график кумулятивной конверсии по группам')\n",
    "plt.xlabel('дата теста')\n",
    "plt.ylabel('конверсия')\n",
    "degrees = 70\n",
    "plt.xticks(rotation=degrees)\n",
    "plt.legend();"
   ]
  },
  {
   "cell_type": "markdown",
   "metadata": {},
   "source": [
    "*Колебание конверсий двух групп от 3% до 4%. Группы колебались в начале теста, но позже значения были выровнены, а конверсия группы В вырвалась вперед и зафиксировалась, фиксирование группы А было установленно в это же время.*"
   ]
  },
  {
   "cell_type": "markdown",
   "metadata": {},
   "source": [
    "#### Построить график относительного изменения кумулятивной конверсии группы B к группе A. Сделать выводы и предположения."
   ]
  },
  {
   "cell_type": "code",
   "execution_count": 16,
   "metadata": {},
   "outputs": [
    {
     "data": {
      "image/png": "[encoded data removed]",
      "text/plain": [
       "<Figure size 1440x720 with 1 Axes>"
      ]
     },
     "metadata": {
      "needs_background": "light"
     },
     "output_type": "display_data"
    }
   ],
   "source": [
    "plt.figure(figsize=(20,10))\n",
    "\n",
    "#объеденим таблицы с данными о кумулятивных данных групп по дате и конверсии\n",
    "mergedCumulativeConversions = cumulativeDataA[['date','conversion']].merge(cumulativeDataB[['date','conversion']], left_on='date', right_on='date', how='left', suffixes=['A', 'B'])\n",
    "\n",
    "plt.plot(mergedCumulativeConversions['date'], mergedCumulativeConversions['conversionB']/mergedCumulativeConversions['conversionA']-1)\n",
    "\n",
    "plt.axhline(y=0, color='black', linestyle='--')\n",
    "plt.axhline(y=0.15, color='grey', linestyle='--')\n",
    "plt.axis([\"2019-08-01\", '2019-08-31', -0.2, 0.3])\n",
    "plt.title('график относительного изменения кумулятивной конверсии группы B к группе A')\n",
    "plt.xlabel('дата теста')\n",
    "plt.ylabel('конверсия')\n",
    "degrees = 70\n",
    "plt.xticks(rotation=degrees)\n",
    "plt.show();"
   ]
  },
  {
   "cell_type": "markdown",
   "metadata": {},
   "source": [
    "*В начале теста группа B значительно проигрывала группе A, затем вырвалась вперёд, удерживая высокую конверсию 10-20%.*"
   ]
  },
  {
   "cell_type": "markdown",
   "metadata": {},
   "source": [
    "#### Построить точечный график количества заказов по пользователям. Сделать выводы и предположения."
   ]
  },
  {
   "cell_type": "code",
   "execution_count": 17,
   "metadata": {},
   "outputs": [
    {
     "data": {
      "image/png": "[encoded data removed]",
      "text/plain": [
       "<Figure size 432x288 with 1 Axes>"
      ]
     },
     "metadata": {
      "needs_background": "light"
     },
     "output_type": "display_data"
    }
   ],
   "source": [
    "ordersByUsers = (\n",
    "    orders.drop(['group', 'revenue', 'date'], axis=1)\n",
    "    .groupby('visitorId', as_index=False)\n",
    "    .agg({'transactionId': pd.Series.nunique})\n",
    ")\n",
    "ordersByUsers.columns = ['userId', 'orders']\n",
    "\n",
    "# серия из чисел от 0 до количества наблюдений в ordersByUsers\n",
    "x_values = pd.Series(range(0, len(ordersByUsers)))\n",
    "plt.scatter(x_values, ordersByUsers['orders'])\n",
    "plt.title('график количества заказов по пользователям')\n",
    "plt.xlabel('колчество пользователей')\n",
    "plt.ylabel('количество заказов')\n",
    "plt.show();"
   ]
  },
  {
   "cell_type": "markdown",
   "metadata": {},
   "source": [
    "*Пользователей,заказавших больше двух раз, очень мало. Они вполне могут быть аномальными.*"
   ]
  },
  {
   "cell_type": "markdown",
   "metadata": {},
   "source": [
    "#### Посчитать 95-й и 99-й перцентили количества заказов на пользователя. Выбрать границу для определения аномальных пользователей"
   ]
  },
  {
   "cell_type": "code",
   "execution_count": 18,
   "metadata": {},
   "outputs": [
    {
     "data": {
      "text/plain": [
       "array([2., 4.])"
      ]
     },
     "execution_count": 18,
     "metadata": {},
     "output_type": "execute_result"
    }
   ],
   "source": [
    "np.percentile(ordersByUsers['orders'], [95, 99])"
   ]
  },
  {
   "cell_type": "markdown",
   "metadata": {},
   "source": [
    "*Перцентили указывают на то, что не более 5% пользователей совершали более двух заказов. Это подтверждает вывод на основе графика выше. 1% пользователей совершали больше четырех заказов. Выберем два заказа на одного пользователя за нижнюю границу числа заказов, и отсеем аномальных пользователей по ней.*"
   ]
  },
  {
   "cell_type": "markdown",
   "metadata": {},
   "source": [
    "#### Построить точечный график стоимостей заказов. Сделать выводы и предположения."
   ]
  },
  {
   "cell_type": "code",
   "execution_count": 19,
   "metadata": {},
   "outputs": [
    {
     "data": {
      "image/png": "[encoded data removed]",
      "text/plain": [
       "<Figure size 432x288 with 1 Axes>"
      ]
     },
     "metadata": {
      "needs_background": "light"
     },
     "output_type": "display_data"
    }
   ],
   "source": [
    "x_values = pd.Series(range(0, len(orders['revenue'])))\n",
    "plt.scatter(x_values, orders['revenue']) \n",
    "plt.title('график стоимостей заказов')\n",
    "plt.xlabel('колчество заказов')\n",
    "plt.ylabel('стоимость заказов')\n",
    "plt.show();"
   ]
  },
  {
   "cell_type": "markdown",
   "metadata": {},
   "source": [
    "*Заказов больше 100000 всего два - это и есть выбросы.*"
   ]
  },
  {
   "cell_type": "markdown",
   "metadata": {},
   "source": [
    "#### Посчитать 95-й и 99-й перцентили стоимости заказов. Выбрать границу для определения аномальных заказов"
   ]
  },
  {
   "cell_type": "code",
   "execution_count": 20,
   "metadata": {},
   "outputs": [
    {
     "data": {
      "text/plain": [
       "array([28000. , 58233.2])"
      ]
     },
     "execution_count": 20,
     "metadata": {},
     "output_type": "execute_result"
    }
   ],
   "source": [
    "np.percentile(orders['revenue'], [95, 99])"
   ]
  },
  {
   "cell_type": "markdown",
   "metadata": {},
   "source": [
    "*Перцентили указывают на то, что не более 5% пользователей чек выше 28000. 1% пользователей совершали покупку больше, чем на 58234. Выберем 28000 за нижнюю границу стоимости заказов, и отсеем аномальных пользователей по ней.*"
   ]
  },
  {
   "cell_type": "markdown",
   "metadata": {},
   "source": [
    "#### Посчитать статистическую значимость различий в конверсии между группами по «сырым» данным. Сделать выводы и предположения."
   ]
  },
  {
   "cell_type": "markdown",
   "metadata": {},
   "source": [
    "Н_0: Конверсия группы А = Конверсии группы В\n",
    "\n",
    "Н_1: Конверсия группы А != Конверсии группы В"
   ]
  },
  {
   "cell_type": "code",
   "execution_count": 21,
   "metadata": {},
   "outputs": [
    {
     "name": "stdout",
     "output_type": "stream",
     "text": [
      "0.00840\n",
      "0.138\n"
     ]
    }
   ],
   "source": [
    "visitorsADaily = visitors[visitors['group'] == 'A'][['date', 'visitors']]\n",
    "visitorsADaily.columns = ['date', 'visitorsPerDateA']\n",
    "\n",
    "visitorsACummulative = visitorsADaily.apply(lambda x: visitorsADaily[visitorsADaily['date'] <= x['date']].agg(\n",
    "        {'date': 'max', 'visitorsPerDateA': 'sum'}),axis=1,)\n",
    "visitorsACummulative.columns = ['date', 'visitorsCummulativeA']\n",
    "\n",
    "visitorsBDaily = visitors[visitors['group'] == 'B'][['date', 'visitors']]\n",
    "visitorsBDaily.columns = ['date', 'visitorsPerDateB']\n",
    "\n",
    "visitorsBCummulative = visitorsBDaily.apply(lambda x: visitorsBDaily[visitorsBDaily['date'] <= x['date']].agg(\n",
    "        {'date': 'max', 'visitorsPerDateB': 'sum'}),axis=1,)\n",
    "visitorsBCummulative.columns = ['date', 'visitorsCummulativeB']\n",
    "\n",
    "ordersADaily = (orders[orders['group'] == 'A'][['date', 'transactionId', 'visitorId', 'revenue']].groupby('date', as_index=False)\n",
    "    .agg({'transactionId': pd.Series.nunique, 'revenue': 'sum'}))\n",
    "ordersADaily.columns = ['date', 'ordersPerDateA', 'revenuePerDateA']\n",
    "\n",
    "ordersACummulative = ordersADaily.apply(lambda x: ordersADaily[ordersADaily['date'] <= x['date']].agg(\n",
    "        {'date': 'max', 'ordersPerDateA': 'sum', 'revenuePerDateA': 'sum'}),axis=1,).sort_values(by=['date'])\n",
    "ordersACummulative.columns = ['date','ordersCummulativeA','revenueCummulativeA',]\n",
    "\n",
    "ordersBDaily = (orders[orders['group'] == 'B'][['date', 'transactionId', 'visitorId', 'revenue']].groupby('date', as_index=False)\n",
    "    .agg({'transactionId': pd.Series.nunique, 'revenue': 'sum'}))\n",
    "ordersBDaily.columns = ['date', 'ordersPerDateB', 'revenuePerDateB']\n",
    "\n",
    "ordersBCummulative = ordersBDaily.apply(lambda x: ordersBDaily[ordersBDaily['date'] <= x['date']].agg(\n",
    "        {'date': 'max', 'ordersPerDateB': 'sum', 'revenuePerDateB': 'sum'} ),axis=1,).sort_values(by=['date'])\n",
    "ordersBCummulative.columns = ['date','ordersCummulativeB','revenueCummulativeB',]\n",
    "\n",
    "data = (\n",
    "    ordersADaily.merge(\n",
    "        ordersBDaily, left_on='date', right_on='date', how='left'\n",
    "    )\n",
    "    .merge(ordersACummulative, left_on='date', right_on='date', how='left')\n",
    "    .merge(ordersBCummulative, left_on='date', right_on='date', how='left')\n",
    "    .merge(visitorsADaily, left_on='date', right_on='date', how='left')\n",
    "    .merge(visitorsBDaily, left_on='date', right_on='date', how='left')\n",
    "    .merge(visitorsACummulative, left_on='date', right_on='date', how='left')\n",
    "    .merge(visitorsBCummulative, left_on='date', right_on='date', how='left')\n",
    ")\n",
    "\n",
    "ordersByUsersA = (\n",
    "    orders[orders['group'] == 'A']\n",
    "    .groupby('visitorId', as_index=False)\n",
    "    .agg({'transactionId': pd.Series.nunique})\n",
    ")\n",
    "ordersByUsersA.columns = ['userId', 'orders']\n",
    "\n",
    "ordersByUsersB = (\n",
    "    orders[orders['group'] == 'B']\n",
    "    .groupby('visitorId', as_index=False)\n",
    "    .agg({'transactionId': pd.Series.nunique})\n",
    ")\n",
    "ordersByUsersB.columns = ['userId', 'orders']\n",
    "\n",
    "sampleA = pd.concat([ordersByUsersA['orders'],pd.Series(0, index=np.arange(data['visitorsPerDateA'].sum() - len(ordersByUsersA['orders'])), name='orders')],axis=0)\n",
    "\n",
    "sampleB = pd.concat([ordersByUsersB['orders'],pd.Series(0, index=np.arange(data['visitorsPerDateB'].sum() - len(ordersByUsersB['orders'])), name='orders')],axis=0)\n",
    "\n",
    "print(\"{0:.5f}\".format(stats.mannwhitneyu(sampleA, sampleB)[1]))\n",
    "\n",
    "print(\"{0:.3f}\".format((data['ordersPerDateB'].sum()/data['visitorsPerDateB'].sum())/(data['ordersPerDateA'].sum()/data['visitorsPerDateA'].sum())-1))"
   ]
  },
  {
   "cell_type": "markdown",
   "metadata": {},
   "source": [
    "*p-value меньше 0.05, поэтому отвергаем нулевую гипотезу. Анализ сообщает, что в конверсии между группами есть статистически значимые различия. Прирост конверсии группы В равен 13.8%*"
   ]
  },
  {
   "cell_type": "markdown",
   "metadata": {},
   "source": [
    "#### Посчитать статистическую значимость различий в среднем чеке заказа между группами по «сырым» данным. Сделать выводы и предположения."
   ]
  },
  {
   "cell_type": "markdown",
   "metadata": {},
   "source": [
    "Н_0: Средний чек группы А = Средний чек группы В\n",
    "\n",
    "Н_1: Средний чек группы А != Средний чек группы В"
   ]
  },
  {
   "cell_type": "code",
   "execution_count": 22,
   "metadata": {},
   "outputs": [
    {
     "name": "stdout",
     "output_type": "stream",
     "text": [
      "0.365\n",
      "0.259\n"
     ]
    }
   ],
   "source": [
    "print('{0:.3f}'.format(stats.mannwhitneyu(orders[orders['group']=='A']['revenue'], orders[orders['group']=='B']['revenue'])[1]))\n",
    "print('{0:.3f}'.format(orders[orders['group']=='B']['revenue'].mean()/orders[orders['group']=='A']['revenue'].mean()-1))"
   ]
  },
  {
   "cell_type": "markdown",
   "metadata": {},
   "source": [
    "*p-value больше 0.05, поэтому отвергнуть нулевую гипотезу мы не можем. Анализ сообщает, что статистически значимых различий между средними чеками групп нет. Относительное различие в среднем чеке 25.9%*"
   ]
  },
  {
   "cell_type": "markdown",
   "metadata": {},
   "source": [
    "#### Посчитать статистическую значимость различий в конверсии между группами по «очищенным» данным. Сделать выводы и предположения."
   ]
  },
  {
   "cell_type": "markdown",
   "metadata": {},
   "source": [
    "Н_0: Конверсия группы А = Конверсии группы В\n",
    "\n",
    "Н_1: Конверсия группы А != Конверсии группы В"
   ]
  },
  {
   "cell_type": "code",
   "execution_count": 23,
   "metadata": {},
   "outputs": [
    {
     "name": "stdout",
     "output_type": "stream",
     "text": [
      "0.00652\n",
      "0.173\n"
     ]
    }
   ],
   "source": [
    "usersWithManyOrders = pd.concat([ordersByUsersA[ordersByUsersA['orders'] > 2]['userId'],ordersByUsersB[ordersByUsersB['orders'] > 2]['userId'],],axis=0,)\n",
    "\n",
    "usersWithExpensiveOrders = orders[orders['revenue'] > 28000]['visitorId']\n",
    "\n",
    "abnormalUsers = (pd.concat([usersWithManyOrders, usersWithExpensiveOrders], axis=0).drop_duplicates().sort_values())\n",
    "\n",
    "sampleAFiltered = pd.concat([ordersByUsersA[np.logical_not(ordersByUsersA['userId'].isin(abnormalUsers))]['orders'],pd.Series(0,index=np.arange(data['visitorsPerDateA'].sum() - len(ordersByUsersA['orders'])),name='orders',),],axis=0,)\n",
    "\n",
    "sampleBFiltered = pd.concat([ordersByUsersB[np.logical_not(ordersByUsersB['userId'].isin(abnormalUsers))]['orders'],pd.Series(0, index=np.arange(data['visitorsPerDateB'].sum() - len(ordersByUsersB['orders'])),name='orders',),],axis=0,) \n",
    "\n",
    "print('{0:.5f}'.format(stats.mannwhitneyu(sampleAFiltered, sampleBFiltered)[1]))\n",
    "print('{0:.3f}'.format(sampleBFiltered.mean()/sampleAFiltered.mean()-1))"
   ]
  },
  {
   "cell_type": "markdown",
   "metadata": {},
   "source": [
    "*Как и с сырыми данными, p-value меньше 0.05, поэтому отвергаем нулевую гипотезу. Анализ сообщает, что в конверсии между группами есть статистически значимые различия. Прирост конверсии группы В равен 17.3%, что на 3.5% больше.*"
   ]
  },
  {
   "cell_type": "markdown",
   "metadata": {},
   "source": [
    "#### Посчитать статистическую значимость различий в среднем чеке заказа между группами по «очищенным» данным. Сделать выводы и предположения."
   ]
  },
  {
   "cell_type": "markdown",
   "metadata": {},
   "source": [
    "Н_0: Средний чек группы А = Средний чек группы В\n",
    "\n",
    "Н_1: Средний чек группы А != Средний чек группы В"
   ]
  },
  {
   "cell_type": "code",
   "execution_count": 24,
   "metadata": {},
   "outputs": [
    {
     "name": "stdout",
     "output_type": "stream",
     "text": [
      "0.369\n",
      "-0.020\n"
     ]
    }
   ],
   "source": [
    "print('{0:.3f}'.format(stats.mannwhitneyu(orders[np.logical_and(orders['group'] == 'A',np.logical_not(orders['visitorId'].isin(abnormalUsers)),)]['revenue'],orders[np.logical_and(orders['group'] == 'B',np.logical_not(orders['visitorId'].isin(abnormalUsers)),)]['revenue'],)[1]))\n",
    "\n",
    "print(\"{0:.3f}\".format(orders[np.logical_and(orders['group'] == 'B',np.logical_not(orders['visitorId'].isin(abnormalUsers)),)]['revenue'].mean()/ orders[np.logical_and(orders['group'] == 'A',np.logical_not(orders['visitorId'].isin(abnormalUsers)),)]['revenue'].mean()- 1)) "
   ]
  },
  {
   "cell_type": "markdown",
   "metadata": {},
   "source": [
    "*p-value увеличился, поэтому отвергнуть нулевую гипотезу мы снова не можем. Анализ сообщает, что статистически значимых различий между средними чеками групп нет. Но также стоит отметить, разница между сегментами сократилась с 25.9% до 2%. Это означает, что аномальные значени и выбросы составляют 24% данных при данном А/В-тесте.*"
   ]
  },
  {
   "cell_type": "markdown",
   "metadata": {},
   "source": [
    "#### Принять решение по результатам теста и объяснить его. Варианты решений: 1. Остановить тест, зафиксировать победу одной из групп. 2. Остановить тест, зафиксировать отсутствие различий между группами. 3. Продолжить тест."
   ]
  },
  {
   "cell_type": "markdown",
   "metadata": {},
   "source": [
    "*Итоги, полученные по результатам анализа, указывают:*\n",
    "\n",
    "*- Есть статистически значимое различие по конверсии между группами как по сырым данным, так и после фильтрации аномалий*\n",
    "\n",
    "*- По сырым и очищенным данным нет статистически значимого различия по среднему чеку между группами.*\n",
    "\n",
    "*- График различия конверсии между группами сообщает, что результаты группы B лучше группы A: выросли, а позже зафиксировались около среднего значения.*\n",
    "\n",
    "*- График различия среднего чека колеблется, благодаря ему удалось найти аномалии. Сделать из этого графика определённые выводы нельзя.*\n",
    "\n",
    "*По моему мнению, принимая во внимание все вышеуказанные данные, остановить тест, зафиксировать победу группе В*"
   ]
  },
  {
   "cell_type": "markdown",
   "metadata": {},
   "source": [
    "## Вывод по результатам работы"
   ]
  },
  {
   "cell_type": "markdown",
   "metadata": {},
   "source": [
    "После изучения кумулятивных данных, по центральной предельной теореме метрика устанавливается около некоторого среднего, что исключает проблему подсматривания. \n",
    "\n",
    "Большая часть аномалий при выявлении среднего чека, я считаю, свидетельствует об неоднородности покупателей в конце летнего сезона. Так как не знаю предмет продажи в анализируемом магазине, то не могу с полной уверенностью сообщить - это связано с количеством чеков или суммой в чеке."
   ]
  }
 ],
 "metadata": {
  "ExecuteTimeLog": [
   {
    "duration": 698,
    "start_time": "2021-07-27T12:04:24.223Z"
   },
   {
    "duration": 23,
    "start_time": "2021-07-27T12:05:57.554Z"
   },
   {
    "duration": 6592,
    "start_time": "2021-07-27T12:06:35.512Z"
   },
   {
    "duration": 6822,
    "start_time": "2021-07-27T12:06:56.728Z"
   },
   {
    "duration": 6951,
    "start_time": "2021-07-27T12:14:12.217Z"
   },
   {
    "duration": 538,
    "start_time": "2021-07-27T12:14:42.583Z"
   },
   {
    "duration": 292,
    "start_time": "2021-07-27T12:15:56.523Z"
   },
   {
    "duration": 259,
    "start_time": "2021-07-27T12:17:38.404Z"
   },
   {
    "duration": 316,
    "start_time": "2021-07-27T12:18:52.739Z"
   },
   {
    "duration": 18,
    "start_time": "2021-07-27T12:18:59.708Z"
   },
   {
    "duration": 17,
    "start_time": "2021-07-27T12:28:43.970Z"
   },
   {
    "duration": 115,
    "start_time": "2021-07-27T12:47:31.680Z"
   },
   {
    "duration": 124,
    "start_time": "2021-07-27T12:47:48.785Z"
   },
   {
    "duration": 45,
    "start_time": "2021-07-27T12:50:48.438Z"
   },
   {
    "duration": 26,
    "start_time": "2021-07-27T12:51:31.093Z"
   },
   {
    "duration": 1281,
    "start_time": "2021-07-27T13:28:51.606Z"
   },
   {
    "duration": 954,
    "start_time": "2021-07-27T13:29:30.970Z"
   },
   {
    "duration": 1540,
    "start_time": "2021-07-27T13:29:38.754Z"
   },
   {
    "duration": 1372,
    "start_time": "2021-07-27T13:31:01.278Z"
   },
   {
    "duration": 735,
    "start_time": "2021-07-27T13:31:26.689Z"
   },
   {
    "duration": 924,
    "start_time": "2021-07-27T13:36:07.764Z"
   },
   {
    "duration": 739,
    "start_time": "2021-07-27T13:39:16.064Z"
   },
   {
    "duration": 149,
    "start_time": "2021-07-27T13:39:36.053Z"
   },
   {
    "duration": 673,
    "start_time": "2021-07-27T13:39:44.209Z"
   },
   {
    "duration": 901,
    "start_time": "2021-07-27T13:39:55.939Z"
   },
   {
    "duration": 906,
    "start_time": "2021-07-27T13:42:31.808Z"
   },
   {
    "duration": 876,
    "start_time": "2021-07-27T13:49:34.237Z"
   },
   {
    "duration": 889,
    "start_time": "2021-07-27T13:49:43.730Z"
   },
   {
    "duration": 898,
    "start_time": "2021-07-27T13:50:28.153Z"
   },
   {
    "duration": 967,
    "start_time": "2021-07-27T13:51:38.122Z"
   },
   {
    "duration": 943,
    "start_time": "2021-07-27T13:52:01.508Z"
   },
   {
    "duration": 927,
    "start_time": "2021-07-27T13:52:54.727Z"
   },
   {
    "duration": 969,
    "start_time": "2021-07-27T13:53:02.713Z"
   },
   {
    "duration": 918,
    "start_time": "2021-07-27T13:54:02.102Z"
   },
   {
    "duration": 948,
    "start_time": "2021-07-27T13:54:11.891Z"
   },
   {
    "duration": 882,
    "start_time": "2021-07-27T13:55:12.730Z"
   },
   {
    "duration": 914,
    "start_time": "2021-07-27T13:55:21.660Z"
   },
   {
    "duration": 1449,
    "start_time": "2021-07-27T13:55:39.751Z"
   },
   {
    "duration": 1286,
    "start_time": "2021-07-27T13:55:57.735Z"
   },
   {
    "duration": 909,
    "start_time": "2021-07-27T13:56:46.308Z"
   },
   {
    "duration": 1264,
    "start_time": "2021-07-27T13:58:15.556Z"
   },
   {
    "duration": 1250,
    "start_time": "2021-07-27T13:59:24.827Z"
   },
   {
    "duration": 1211,
    "start_time": "2021-07-27T13:59:51.131Z"
   },
   {
    "duration": 1015,
    "start_time": "2021-07-27T14:00:25.011Z"
   },
   {
    "duration": 965,
    "start_time": "2021-07-27T14:00:38.766Z"
   },
   {
    "duration": 1557,
    "start_time": "2021-07-27T14:00:46.805Z"
   },
   {
    "duration": 1524,
    "start_time": "2021-07-27T14:00:59.039Z"
   },
   {
    "duration": 1233,
    "start_time": "2021-07-27T14:01:09.773Z"
   },
   {
    "duration": 1115,
    "start_time": "2021-07-27T14:01:17.886Z"
   },
   {
    "duration": 1087,
    "start_time": "2021-07-27T14:01:34.269Z"
   },
   {
    "duration": 1000,
    "start_time": "2021-07-27T14:01:44.485Z"
   },
   {
    "duration": 1297,
    "start_time": "2021-07-27T14:04:17.328Z"
   },
   {
    "duration": 970,
    "start_time": "2021-07-27T14:04:31.914Z"
   },
   {
    "duration": 1247,
    "start_time": "2021-07-27T14:04:54.640Z"
   },
   {
    "duration": 989,
    "start_time": "2021-07-27T14:05:08.156Z"
   },
   {
    "duration": 989,
    "start_time": "2021-07-27T14:05:18.937Z"
   },
   {
    "duration": 985,
    "start_time": "2021-07-27T14:05:30.400Z"
   },
   {
    "duration": 950,
    "start_time": "2021-07-27T14:05:38.277Z"
   },
   {
    "duration": 998,
    "start_time": "2021-07-27T14:05:46.504Z"
   },
   {
    "duration": 936,
    "start_time": "2021-07-27T14:05:55.836Z"
   },
   {
    "duration": 943,
    "start_time": "2021-07-27T14:06:11.422Z"
   },
   {
    "duration": 799,
    "start_time": "2021-07-27T14:06:21.782Z"
   },
   {
    "duration": 18,
    "start_time": "2021-07-27T14:06:22.584Z"
   },
   {
    "duration": 16,
    "start_time": "2021-07-27T14:06:22.605Z"
   },
   {
    "duration": 157,
    "start_time": "2021-07-27T14:06:22.624Z"
   },
   {
    "duration": 25,
    "start_time": "2021-07-27T14:06:22.784Z"
   },
   {
    "duration": 1158,
    "start_time": "2021-07-27T14:06:22.812Z"
   },
   {
    "duration": 434,
    "start_time": "2021-07-27T14:14:19.946Z"
   },
   {
    "duration": 417,
    "start_time": "2021-07-27T14:15:11.832Z"
   },
   {
    "duration": 481,
    "start_time": "2021-07-27T14:15:47.825Z"
   },
   {
    "duration": 949,
    "start_time": "2021-07-27T14:16:17.247Z"
   },
   {
    "duration": 827,
    "start_time": "2021-07-27T14:16:41.423Z"
   },
   {
    "duration": 22,
    "start_time": "2021-07-27T14:16:42.253Z"
   },
   {
    "duration": 24,
    "start_time": "2021-07-27T14:16:42.279Z"
   },
   {
    "duration": 46,
    "start_time": "2021-07-27T14:16:42.306Z"
   },
   {
    "duration": 28,
    "start_time": "2021-07-27T14:16:42.355Z"
   },
   {
    "duration": 1087,
    "start_time": "2021-07-27T14:16:42.386Z"
   },
   {
    "duration": 1143,
    "start_time": "2021-07-27T14:22:38.139Z"
   },
   {
    "duration": 1160,
    "start_time": "2021-07-27T14:23:41.193Z"
   },
   {
    "duration": 856,
    "start_time": "2021-07-27T14:23:51.686Z"
   },
   {
    "duration": 19,
    "start_time": "2021-07-27T14:23:52.544Z"
   },
   {
    "duration": 29,
    "start_time": "2021-07-27T14:23:52.566Z"
   },
   {
    "duration": 48,
    "start_time": "2021-07-27T14:23:52.599Z"
   },
   {
    "duration": 26,
    "start_time": "2021-07-27T14:23:52.650Z"
   },
   {
    "duration": 1147,
    "start_time": "2021-07-27T14:23:52.679Z"
   },
   {
    "duration": 1025,
    "start_time": "2021-07-27T14:24:16.170Z"
   },
   {
    "duration": 1303,
    "start_time": "2021-07-27T14:24:22.052Z"
   },
   {
    "duration": 1126,
    "start_time": "2021-07-27T14:24:29.747Z"
   },
   {
    "duration": 86,
    "start_time": "2021-07-27T14:25:18.866Z"
   },
   {
    "duration": 967,
    "start_time": "2021-07-27T14:25:33.648Z"
   },
   {
    "duration": 21,
    "start_time": "2021-07-27T14:25:34.618Z"
   },
   {
    "duration": 18,
    "start_time": "2021-07-27T14:25:34.642Z"
   },
   {
    "duration": 54,
    "start_time": "2021-07-27T14:25:34.662Z"
   },
   {
    "duration": 23,
    "start_time": "2021-07-27T14:25:34.718Z"
   },
   {
    "duration": 102,
    "start_time": "2021-07-27T14:25:34.744Z"
   },
   {
    "duration": 103,
    "start_time": "2021-07-27T14:26:00.922Z"
   },
   {
    "duration": 976,
    "start_time": "2021-07-27T14:26:22.417Z"
   },
   {
    "duration": 89,
    "start_time": "2021-07-27T14:26:28.462Z"
   },
   {
    "duration": 178,
    "start_time": "2021-07-27T14:27:07.659Z"
   },
   {
    "duration": 163,
    "start_time": "2021-07-27T14:27:13.583Z"
   },
   {
    "duration": 100,
    "start_time": "2021-07-27T14:28:34.855Z"
   },
   {
    "duration": 1261,
    "start_time": "2021-07-27T14:28:47.575Z"
   },
   {
    "duration": 886,
    "start_time": "2021-07-27T14:29:01.466Z"
   },
   {
    "duration": 22,
    "start_time": "2021-07-27T14:29:02.356Z"
   },
   {
    "duration": 28,
    "start_time": "2021-07-27T14:29:02.381Z"
   },
   {
    "duration": 50,
    "start_time": "2021-07-27T14:29:02.412Z"
   },
   {
    "duration": 29,
    "start_time": "2021-07-27T14:29:02.465Z"
   },
   {
    "duration": 1232,
    "start_time": "2021-07-27T14:29:02.497Z"
   },
   {
    "duration": 973,
    "start_time": "2021-07-27T14:29:19.534Z"
   },
   {
    "duration": 1013,
    "start_time": "2021-07-27T14:29:46.854Z"
   },
   {
    "duration": 1212,
    "start_time": "2021-07-27T14:30:06.507Z"
   },
   {
    "duration": 1358,
    "start_time": "2021-07-27T14:30:16.740Z"
   },
   {
    "duration": 1229,
    "start_time": "2021-07-27T14:30:33.834Z"
   },
   {
    "duration": 1379,
    "start_time": "2021-07-27T14:32:59.380Z"
   },
   {
    "duration": 432,
    "start_time": "2021-07-27T14:41:17.644Z"
   },
   {
    "duration": 698,
    "start_time": "2021-07-27T14:42:27.204Z"
   },
   {
    "duration": 498,
    "start_time": "2021-07-27T14:51:08.933Z"
   },
   {
    "duration": 777,
    "start_time": "2021-07-27T14:52:20.900Z"
   },
   {
    "duration": 807,
    "start_time": "2021-07-27T16:04:17.904Z"
   },
   {
    "duration": 554,
    "start_time": "2021-07-27T16:04:47.359Z"
   },
   {
    "duration": 7,
    "start_time": "2021-07-27T16:06:10.671Z"
   },
   {
    "duration": 6,
    "start_time": "2021-07-27T16:06:47.211Z"
   },
   {
    "duration": 6,
    "start_time": "2021-07-27T16:06:47.969Z"
   },
   {
    "duration": 6,
    "start_time": "2021-07-27T16:06:48.661Z"
   },
   {
    "duration": 699,
    "start_time": "2021-07-27T16:08:00.200Z"
   },
   {
    "duration": 909,
    "start_time": "2021-07-27T16:19:56.408Z"
   },
   {
    "duration": 850,
    "start_time": "2021-07-27T16:20:18.673Z"
   },
   {
    "duration": 798,
    "start_time": "2021-07-27T16:20:32.243Z"
   },
   {
    "duration": 738,
    "start_time": "2021-07-27T16:20:42.814Z"
   },
   {
    "duration": 809,
    "start_time": "2021-07-27T16:21:12.047Z"
   },
   {
    "duration": 784,
    "start_time": "2021-07-27T16:22:46.491Z"
   },
   {
    "duration": 17,
    "start_time": "2021-07-27T16:46:07.224Z"
   },
   {
    "duration": 525,
    "start_time": "2021-07-27T16:47:29.165Z"
   },
   {
    "duration": 12,
    "start_time": "2021-07-27T16:48:30.321Z"
   },
   {
    "duration": 12,
    "start_time": "2021-07-27T16:49:09.801Z"
   },
   {
    "duration": 623,
    "start_time": "2021-07-27T16:52:27.406Z"
   },
   {
    "duration": 568,
    "start_time": "2021-07-27T16:53:12.222Z"
   },
   {
    "duration": 543,
    "start_time": "2021-07-27T16:53:25.613Z"
   },
   {
    "duration": 7,
    "start_time": "2021-07-27T16:59:37.892Z"
   },
   {
    "duration": 7,
    "start_time": "2021-07-27T16:59:58.093Z"
   },
   {
    "duration": 6404,
    "start_time": "2021-07-27T17:21:00.540Z"
   },
   {
    "duration": 11,
    "start_time": "2021-07-27T17:21:19.490Z"
   },
   {
    "duration": 247,
    "start_time": "2021-07-27T17:21:48.932Z"
   },
   {
    "duration": 19,
    "start_time": "2021-07-27T17:21:54.920Z"
   },
   {
    "duration": 379,
    "start_time": "2021-07-27T17:22:11.731Z"
   },
   {
    "duration": 494,
    "start_time": "2021-07-27T17:27:13.283Z"
   },
   {
    "duration": 6,
    "start_time": "2021-07-27T17:30:35.998Z"
   },
   {
    "duration": 17,
    "start_time": "2021-07-27T17:39:26.201Z"
   },
   {
    "duration": 12,
    "start_time": "2021-07-27T17:39:33.147Z"
   },
   {
    "duration": 94,
    "start_time": "2021-07-27T17:40:47.614Z"
   },
   {
    "duration": 7342,
    "start_time": "2021-07-27T17:49:54.101Z"
   },
   {
    "duration": 6584,
    "start_time": "2021-07-27T17:51:33.654Z"
   },
   {
    "duration": 999,
    "start_time": "2021-07-27T17:52:43.689Z"
   },
   {
    "duration": 479,
    "start_time": "2021-07-27T17:53:25.635Z"
   },
   {
    "duration": 620,
    "start_time": "2021-07-27T17:53:33.180Z"
   },
   {
    "duration": 14,
    "start_time": "2021-07-27T17:59:20.479Z"
   },
   {
    "duration": 7747,
    "start_time": "2021-07-27T18:09:58.533Z"
   },
   {
    "duration": 7150,
    "start_time": "2021-07-27T18:11:19.348Z"
   },
   {
    "duration": 12,
    "start_time": "2021-07-27T18:12:37.106Z"
   },
   {
    "duration": 25,
    "start_time": "2021-07-27T18:13:18.361Z"
   },
   {
    "duration": 11980,
    "start_time": "2021-07-27T21:42:48.379Z"
   },
   {
    "duration": 20,
    "start_time": "2021-07-27T21:43:35.079Z"
   },
   {
    "duration": 19,
    "start_time": "2021-07-27T21:44:43.092Z"
   },
   {
    "duration": 791,
    "start_time": "2021-07-27T22:06:39.370Z"
   },
   {
    "duration": 1256,
    "start_time": "2021-07-27T22:37:22.184Z"
   },
   {
    "duration": 18,
    "start_time": "2021-07-27T22:37:23.443Z"
   },
   {
    "duration": 24,
    "start_time": "2021-07-27T22:37:23.463Z"
   },
   {
    "duration": 49,
    "start_time": "2021-07-27T22:37:23.489Z"
   },
   {
    "duration": 24,
    "start_time": "2021-07-27T22:37:23.541Z"
   },
   {
    "duration": 1199,
    "start_time": "2021-07-27T22:37:23.568Z"
   },
   {
    "duration": 706,
    "start_time": "2021-07-27T22:37:24.769Z"
   },
   {
    "duration": 777,
    "start_time": "2021-07-27T22:37:25.482Z"
   },
   {
    "duration": 694,
    "start_time": "2021-07-27T22:37:26.262Z"
   },
   {
    "duration": 838,
    "start_time": "2021-07-27T22:37:26.958Z"
   },
   {
    "duration": 561,
    "start_time": "2021-07-27T22:37:27.799Z"
   },
   {
    "duration": 19,
    "start_time": "2021-07-27T22:37:28.363Z"
   },
   {
    "duration": 399,
    "start_time": "2021-07-27T22:37:28.385Z"
   },
   {
    "duration": 6,
    "start_time": "2021-07-27T22:37:28.787Z"
   },
   {
    "duration": 677,
    "start_time": "2021-07-27T22:37:28.795Z"
   },
   {
    "duration": 18,
    "start_time": "2021-07-27T22:37:29.474Z"
   },
   {
    "duration": 29,
    "start_time": "2021-07-27T22:37:29.494Z"
   },
   {
    "duration": 19,
    "start_time": "2021-07-27T22:37:29.526Z"
   },
   {
    "duration": 1086,
    "start_time": "2021-07-28T06:09:44.406Z"
   },
   {
    "duration": 11,
    "start_time": "2021-07-28T06:09:45.494Z"
   },
   {
    "duration": 10,
    "start_time": "2021-07-28T06:09:45.507Z"
   },
   {
    "duration": 44,
    "start_time": "2021-07-28T06:09:45.519Z"
   },
   {
    "duration": 20,
    "start_time": "2021-07-28T06:09:45.565Z"
   },
   {
    "duration": 758,
    "start_time": "2021-07-28T06:09:45.587Z"
   },
   {
    "duration": 512,
    "start_time": "2021-07-28T06:09:46.347Z"
   },
   {
    "duration": 541,
    "start_time": "2021-07-28T06:09:46.861Z"
   },
   {
    "duration": 411,
    "start_time": "2021-07-28T06:09:47.404Z"
   },
   {
    "duration": 596,
    "start_time": "2021-07-28T06:09:47.816Z"
   },
   {
    "duration": 359,
    "start_time": "2021-07-28T06:09:48.414Z"
   },
   {
    "duration": 4,
    "start_time": "2021-07-28T06:09:48.774Z"
   },
   {
    "duration": 275,
    "start_time": "2021-07-28T06:09:48.791Z"
   },
   {
    "duration": 4,
    "start_time": "2021-07-28T06:09:49.067Z"
   },
   {
    "duration": 330,
    "start_time": "2021-07-28T06:09:49.073Z"
   },
   {
    "duration": 8,
    "start_time": "2021-07-28T06:09:49.405Z"
   },
   {
    "duration": 15,
    "start_time": "2021-07-28T06:09:49.414Z"
   },
   {
    "duration": 11,
    "start_time": "2021-07-28T06:09:49.430Z"
   },
   {
    "duration": 449,
    "start_time": "2021-07-28T11:17:31.370Z"
   },
   {
    "duration": 1406,
    "start_time": "2021-07-28T11:17:42.464Z"
   },
   {
    "duration": 14,
    "start_time": "2021-07-28T11:17:43.873Z"
   },
   {
    "duration": 19,
    "start_time": "2021-07-28T11:17:43.890Z"
   },
   {
    "duration": 51,
    "start_time": "2021-07-28T11:17:43.912Z"
   },
   {
    "duration": 28,
    "start_time": "2021-07-28T11:17:43.965Z"
   },
   {
    "duration": 1286,
    "start_time": "2021-07-28T11:17:43.996Z"
   },
   {
    "duration": 748,
    "start_time": "2021-07-28T11:17:45.285Z"
   },
   {
    "duration": 880,
    "start_time": "2021-07-28T11:17:46.037Z"
   },
   {
    "duration": 791,
    "start_time": "2021-07-28T11:17:46.921Z"
   },
   {
    "duration": 826,
    "start_time": "2021-07-28T11:17:47.714Z"
   },
   {
    "duration": 618,
    "start_time": "2021-07-28T11:17:48.542Z"
   },
   {
    "duration": 6,
    "start_time": "2021-07-28T11:17:49.162Z"
   },
   {
    "duration": 414,
    "start_time": "2021-07-28T11:17:49.182Z"
   },
   {
    "duration": 7,
    "start_time": "2021-07-28T11:17:49.599Z"
   },
   {
    "duration": 662,
    "start_time": "2021-07-28T11:17:49.609Z"
   },
   {
    "duration": 19,
    "start_time": "2021-07-28T11:17:50.274Z"
   },
   {
    "duration": 26,
    "start_time": "2021-07-28T11:17:50.296Z"
   },
   {
    "duration": 58,
    "start_time": "2021-07-28T11:17:50.325Z"
   },
   {
    "duration": 18,
    "start_time": "2021-07-28T11:18:09.355Z"
   },
   {
    "duration": 28,
    "start_time": "2021-07-28T11:19:53.745Z"
   },
   {
    "duration": 28,
    "start_time": "2021-07-28T11:20:27.116Z"
   },
   {
    "duration": 26,
    "start_time": "2021-07-28T11:20:33.447Z"
   },
   {
    "duration": 18,
    "start_time": "2021-07-28T11:20:33.587Z"
   },
   {
    "duration": 26,
    "start_time": "2021-07-28T11:20:43.511Z"
   },
   {
    "duration": 28,
    "start_time": "2021-07-28T11:21:29.446Z"
   },
   {
    "duration": 33,
    "start_time": "2021-07-28T11:21:47.672Z"
   },
   {
    "duration": 1545,
    "start_time": "2021-07-28T11:21:58.321Z"
   },
   {
    "duration": 21,
    "start_time": "2021-07-28T11:21:59.869Z"
   },
   {
    "duration": 17,
    "start_time": "2021-07-28T11:21:59.893Z"
   },
   {
    "duration": 52,
    "start_time": "2021-07-28T11:21:59.913Z"
   },
   {
    "duration": 29,
    "start_time": "2021-07-28T11:21:59.967Z"
   },
   {
    "duration": 1420,
    "start_time": "2021-07-28T11:21:59.999Z"
   },
   {
    "duration": 851,
    "start_time": "2021-07-28T11:22:01.421Z"
   },
   {
    "duration": 911,
    "start_time": "2021-07-28T11:22:02.275Z"
   },
   {
    "duration": 751,
    "start_time": "2021-07-28T11:22:03.190Z"
   },
   {
    "duration": 983,
    "start_time": "2021-07-28T11:22:03.944Z"
   },
   {
    "duration": 727,
    "start_time": "2021-07-28T11:22:04.931Z"
   },
   {
    "duration": 7,
    "start_time": "2021-07-28T11:22:05.660Z"
   },
   {
    "duration": 453,
    "start_time": "2021-07-28T11:22:05.682Z"
   },
   {
    "duration": 7,
    "start_time": "2021-07-28T11:22:06.137Z"
   },
   {
    "duration": 674,
    "start_time": "2021-07-28T11:22:06.147Z"
   },
   {
    "duration": 16,
    "start_time": "2021-07-28T11:22:06.823Z"
   },
   {
    "duration": 56,
    "start_time": "2021-07-28T11:22:06.842Z"
   },
   {
    "duration": 25,
    "start_time": "2021-07-28T11:22:06.901Z"
   },
   {
    "duration": 26,
    "start_time": "2021-07-28T11:22:41.672Z"
   },
   {
    "duration": 25,
    "start_time": "2021-07-28T11:22:48.395Z"
   },
   {
    "duration": 18,
    "start_time": "2021-07-28T11:23:19.016Z"
   },
   {
    "duration": 19,
    "start_time": "2021-07-28T11:23:28.970Z"
   },
   {
    "duration": 25,
    "start_time": "2021-07-28T11:23:34.624Z"
   },
   {
    "duration": 26,
    "start_time": "2021-07-28T11:24:31.302Z"
   },
   {
    "duration": 25,
    "start_time": "2021-07-28T11:24:39.424Z"
   },
   {
    "duration": 26,
    "start_time": "2021-07-28T11:24:46.884Z"
   },
   {
    "duration": 26,
    "start_time": "2021-07-28T11:24:56.307Z"
   },
   {
    "duration": 25,
    "start_time": "2021-07-28T11:25:03.248Z"
   },
   {
    "duration": 27,
    "start_time": "2021-07-28T11:25:08.367Z"
   },
   {
    "duration": 29,
    "start_time": "2021-07-28T11:25:24.666Z"
   },
   {
    "duration": 18,
    "start_time": "2021-07-28T11:26:15.305Z"
   },
   {
    "duration": 9,
    "start_time": "2021-07-28T11:40:18.976Z"
   },
   {
    "duration": 8,
    "start_time": "2021-07-28T11:41:29.032Z"
   },
   {
    "duration": 8,
    "start_time": "2021-07-28T11:42:20.434Z"
   },
   {
    "duration": 412,
    "start_time": "2021-07-28T11:42:59.693Z"
   },
   {
    "duration": 299,
    "start_time": "2021-07-28T11:43:07.206Z"
   },
   {
    "duration": 9,
    "start_time": "2021-07-28T11:43:39.815Z"
   },
   {
    "duration": 8,
    "start_time": "2021-07-28T11:45:30.825Z"
   },
   {
    "duration": 6,
    "start_time": "2021-07-28T11:48:41.868Z"
   },
   {
    "duration": 8,
    "start_time": "2021-07-28T11:48:51.292Z"
   },
   {
    "duration": 9,
    "start_time": "2021-07-28T11:50:21.060Z"
   },
   {
    "duration": 9,
    "start_time": "2021-07-28T11:50:37.777Z"
   },
   {
    "duration": 8,
    "start_time": "2021-07-28T11:50:57.142Z"
   },
   {
    "duration": 1312,
    "start_time": "2021-07-28T11:51:09.635Z"
   },
   {
    "duration": 18,
    "start_time": "2021-07-28T11:51:10.950Z"
   },
   {
    "duration": 23,
    "start_time": "2021-07-28T11:51:10.971Z"
   },
   {
    "duration": 48,
    "start_time": "2021-07-28T11:51:10.997Z"
   },
   {
    "duration": 8,
    "start_time": "2021-07-28T11:51:11.047Z"
   },
   {
    "duration": 11,
    "start_time": "2021-07-28T11:51:11.058Z"
   },
   {
    "duration": 11,
    "start_time": "2021-07-28T11:51:11.072Z"
   },
   {
    "duration": 25,
    "start_time": "2021-07-28T11:51:11.087Z"
   },
   {
    "duration": 8,
    "start_time": "2021-07-28T11:51:11.115Z"
   },
   {
    "duration": 8,
    "start_time": "2021-07-28T11:51:11.126Z"
   },
   {
    "duration": 10,
    "start_time": "2021-07-28T11:51:11.137Z"
   },
   {
    "duration": 1260,
    "start_time": "2021-07-28T11:51:11.150Z"
   },
   {
    "duration": 723,
    "start_time": "2021-07-28T11:51:12.413Z"
   },
   {
    "duration": 849,
    "start_time": "2021-07-28T11:51:13.139Z"
   },
   {
    "duration": 694,
    "start_time": "2021-07-28T11:51:13.991Z"
   },
   {
    "duration": 807,
    "start_time": "2021-07-28T11:51:14.688Z"
   },
   {
    "duration": 582,
    "start_time": "2021-07-28T11:51:15.498Z"
   },
   {
    "duration": 6,
    "start_time": "2021-07-28T11:51:16.082Z"
   },
   {
    "duration": 385,
    "start_time": "2021-07-28T11:51:16.090Z"
   },
   {
    "duration": 9,
    "start_time": "2021-07-28T11:51:16.477Z"
   },
   {
    "duration": 612,
    "start_time": "2021-07-28T11:51:16.489Z"
   },
   {
    "duration": 13,
    "start_time": "2021-07-28T11:51:17.104Z"
   },
   {
    "duration": 26,
    "start_time": "2021-07-28T11:51:17.122Z"
   },
   {
    "duration": 47,
    "start_time": "2021-07-28T11:51:17.151Z"
   },
   {
    "duration": 2021,
    "start_time": "2021-07-28T12:04:50.533Z"
   },
   {
    "duration": 1312,
    "start_time": "2021-07-28T12:05:44.975Z"
   },
   {
    "duration": 722,
    "start_time": "2021-07-28T12:06:06.832Z"
   },
   {
    "duration": 820,
    "start_time": "2021-07-28T12:06:17.252Z"
   },
   {
    "duration": 821,
    "start_time": "2021-07-28T12:06:27.048Z"
   },
   {
    "duration": 819,
    "start_time": "2021-07-28T12:06:36.163Z"
   },
   {
    "duration": 1386,
    "start_time": "2021-07-28T12:17:46.862Z"
   },
   {
    "duration": 19,
    "start_time": "2021-07-28T12:17:48.250Z"
   },
   {
    "duration": 23,
    "start_time": "2021-07-28T12:17:48.272Z"
   },
   {
    "duration": 50,
    "start_time": "2021-07-28T12:17:48.298Z"
   },
   {
    "duration": 8,
    "start_time": "2021-07-28T12:17:48.351Z"
   },
   {
    "duration": 8,
    "start_time": "2021-07-28T12:17:48.362Z"
   },
   {
    "duration": 9,
    "start_time": "2021-07-28T12:17:48.382Z"
   },
   {
    "duration": 27,
    "start_time": "2021-07-28T12:17:48.395Z"
   },
   {
    "duration": 9,
    "start_time": "2021-07-28T12:17:48.425Z"
   },
   {
    "duration": 10,
    "start_time": "2021-07-28T12:17:48.436Z"
   },
   {
    "duration": 8,
    "start_time": "2021-07-28T12:17:48.483Z"
   },
   {
    "duration": 1376,
    "start_time": "2021-07-28T12:17:48.494Z"
   },
   {
    "duration": 781,
    "start_time": "2021-07-28T12:17:49.873Z"
   },
   {
    "duration": 1105,
    "start_time": "2021-07-28T12:17:50.657Z"
   },
   {
    "duration": 1021,
    "start_time": "2021-07-28T12:17:51.765Z"
   },
   {
    "duration": 833,
    "start_time": "2021-07-28T12:17:52.789Z"
   },
   {
    "duration": 560,
    "start_time": "2021-07-28T12:17:53.625Z"
   },
   {
    "duration": 8,
    "start_time": "2021-07-28T12:17:54.188Z"
   },
   {
    "duration": 394,
    "start_time": "2021-07-28T12:17:54.198Z"
   },
   {
    "duration": 8,
    "start_time": "2021-07-28T12:17:54.595Z"
   },
   {
    "duration": 632,
    "start_time": "2021-07-28T12:17:54.606Z"
   },
   {
    "duration": 13,
    "start_time": "2021-07-28T12:17:55.241Z"
   },
   {
    "duration": 49,
    "start_time": "2021-07-28T12:17:55.259Z"
   },
   {
    "duration": 21,
    "start_time": "2021-07-28T12:17:55.311Z"
   },
   {
    "duration": 1402,
    "start_time": "2021-07-29T05:25:50.783Z"
   },
   {
    "duration": 25,
    "start_time": "2021-07-29T05:25:52.188Z"
   },
   {
    "duration": 18,
    "start_time": "2021-07-29T05:25:52.216Z"
   },
   {
    "duration": 68,
    "start_time": "2021-07-29T05:25:52.236Z"
   },
   {
    "duration": 10,
    "start_time": "2021-07-29T05:25:52.307Z"
   },
   {
    "duration": 10,
    "start_time": "2021-07-29T05:25:52.319Z"
   },
   {
    "duration": 7,
    "start_time": "2021-07-29T05:25:52.331Z"
   },
   {
    "duration": 59,
    "start_time": "2021-07-29T05:25:52.342Z"
   },
   {
    "duration": 8,
    "start_time": "2021-07-29T05:25:52.404Z"
   },
   {
    "duration": 11,
    "start_time": "2021-07-29T05:25:52.414Z"
   },
   {
    "duration": 8,
    "start_time": "2021-07-29T05:25:52.428Z"
   },
   {
    "duration": 1370,
    "start_time": "2021-07-29T05:25:52.438Z"
   },
   {
    "duration": 794,
    "start_time": "2021-07-29T05:25:53.810Z"
   },
   {
    "duration": 868,
    "start_time": "2021-07-29T05:25:54.606Z"
   },
   {
    "duration": 776,
    "start_time": "2021-07-29T05:25:55.476Z"
   },
   {
    "duration": 886,
    "start_time": "2021-07-29T05:25:56.254Z"
   },
   {
    "duration": 639,
    "start_time": "2021-07-29T05:25:57.143Z"
   },
   {
    "duration": 8,
    "start_time": "2021-07-29T05:25:57.785Z"
   },
   {
    "duration": 420,
    "start_time": "2021-07-29T05:25:57.796Z"
   },
   {
    "duration": 8,
    "start_time": "2021-07-29T05:25:58.220Z"
   },
   {
    "duration": 721,
    "start_time": "2021-07-29T05:25:58.231Z"
   },
   {
    "duration": 13,
    "start_time": "2021-07-29T05:25:58.955Z"
   },
   {
    "duration": 30,
    "start_time": "2021-07-29T05:25:58.988Z"
   },
   {
    "duration": 21,
    "start_time": "2021-07-29T05:25:59.021Z"
   },
   {
    "duration": 10,
    "start_time": "2021-07-29T05:28:58.395Z"
   }
  ],
  "kernelspec": {
   "display_name": "Python 3",
   "language": "python",
   "name": "python3"
  },
  "language_info": {
   "codemirror_mode": {
    "name": "ipython",
    "version": 3
   },
   "file_extension": ".py",
   "mimetype": "text/x-python",
   "name": "python",
   "nbconvert_exporter": "python",
   "pygments_lexer": "ipython3",
   "version": "3.8.8"
  },
  "toc": {
   "base_numbering": 1,
   "nav_menu": {},
   "number_sections": true,
   "sideBar": true,
   "skip_h1_title": true,
   "title_cell": "Table of Contents",
   "title_sidebar": "Contents",
   "toc_cell": false,
   "toc_position": {},
   "toc_section_display": true,
   "toc_window_display": false
  }
 },
 "nbformat": 4,
 "nbformat_minor": 2
}
