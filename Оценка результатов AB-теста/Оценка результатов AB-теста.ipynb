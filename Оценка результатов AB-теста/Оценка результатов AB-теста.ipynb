{
 "cells": [
  {
   "cell_type": "markdown",
   "metadata": {},
   "source": [
    "Задача — провести оценку результатов A/B-теста. В распоряжении есть датасет с действиями пользователей, техническое задание и несколько вспомогательных датасетов.\n",
    "\n",
    "- Оценить корректность проведения теста:\n",
    "    - пересечение тестовой аудитории с конкурирующим тестом,\n",
    "    - совпадение теста и маркетинговых событий, другие проблемы временных границ теста.\n",
    "- Проанализировать результаты теста\n",
    "\n",
    "План работы:\n",
    "\n",
    "- Исследовать данные:\n",
    "\n",
    "- Провести исследовательский анализ данных\n",
    "\n",
    "- Оценить результаты A/B-тестирования\n",
    "\n",
    "- Описать выводы по этапу исследовательского анализа данных и по проведённой оценке результатов A/B-тестирования."
   ]
  },
  {
   "cell_type": "markdown",
   "metadata": {},
   "source": [
    "## Исследовать данные"
   ]
  },
  {
   "cell_type": "markdown",
   "metadata": {},
   "source": [
    "### Требуется ли преобразование типов? Опиcать природу пропущенных значений и дубликатов при их наличии."
   ]
  },
  {
   "cell_type": "code",
   "execution_count": 1,
   "metadata": {},
   "outputs": [],
   "source": [
    "import pandas as pd\n",
    "import matplotlib.pyplot as plt\n",
    "from statsmodels.stats.proportion import proportions_ztest\n",
    "import warnings\n",
    "warnings.simplefilter('ignore')\n",
    "\n",
    "calendar = pd.read_csv('/datasets/ab_project_marketing_events.csv')\n",
    "users = pd.read_csv('/datasets/final_ab_new_users.csv')\n",
    "events = pd.read_csv('/datasets/final_ab_events.csv')\n",
    "participants = pd.read_csv('/datasets/final_ab_participants.csv')\n"
   ]
  },
  {
   "cell_type": "code",
   "execution_count": 2,
   "metadata": {},
   "outputs": [
    {
     "data": {
      "text/html": [
       "<div>\n",
       "<style scoped>\n",
       "    .dataframe tbody tr th:only-of-type {\n",
       "        vertical-align: middle;\n",
       "    }\n",
       "\n",
       "    .dataframe tbody tr th {\n",
       "        vertical-align: top;\n",
       "    }\n",
       "\n",
       "    .dataframe thead th {\n",
       "        text-align: right;\n",
       "    }\n",
       "</style>\n",
       "<table border=\"1\" class=\"dataframe\">\n",
       "  <thead>\n",
       "    <tr style=\"text-align: right;\">\n",
       "      <th></th>\n",
       "      <th>name</th>\n",
       "      <th>regions</th>\n",
       "      <th>start_dt</th>\n",
       "      <th>finish_dt</th>\n",
       "    </tr>\n",
       "  </thead>\n",
       "  <tbody>\n",
       "    <tr>\n",
       "      <td>0</td>\n",
       "      <td>Christmas&amp;New Year Promo</td>\n",
       "      <td>EU, N.America</td>\n",
       "      <td>2020-12-25</td>\n",
       "      <td>2021-01-03</td>\n",
       "    </tr>\n",
       "    <tr>\n",
       "      <td>1</td>\n",
       "      <td>St. Valentine's Day Giveaway</td>\n",
       "      <td>EU, CIS, APAC, N.America</td>\n",
       "      <td>2020-02-14</td>\n",
       "      <td>2020-02-16</td>\n",
       "    </tr>\n",
       "    <tr>\n",
       "      <td>2</td>\n",
       "      <td>St. Patric's Day Promo</td>\n",
       "      <td>EU, N.America</td>\n",
       "      <td>2020-03-17</td>\n",
       "      <td>2020-03-19</td>\n",
       "    </tr>\n",
       "    <tr>\n",
       "      <td>3</td>\n",
       "      <td>Easter Promo</td>\n",
       "      <td>EU, CIS, APAC, N.America</td>\n",
       "      <td>2020-04-12</td>\n",
       "      <td>2020-04-19</td>\n",
       "    </tr>\n",
       "    <tr>\n",
       "      <td>4</td>\n",
       "      <td>4th of July Promo</td>\n",
       "      <td>N.America</td>\n",
       "      <td>2020-07-04</td>\n",
       "      <td>2020-07-11</td>\n",
       "    </tr>\n",
       "    <tr>\n",
       "      <td>5</td>\n",
       "      <td>Black Friday Ads Campaign</td>\n",
       "      <td>EU, CIS, APAC, N.America</td>\n",
       "      <td>2020-11-26</td>\n",
       "      <td>2020-12-01</td>\n",
       "    </tr>\n",
       "    <tr>\n",
       "      <td>6</td>\n",
       "      <td>Chinese New Year Promo</td>\n",
       "      <td>APAC</td>\n",
       "      <td>2020-01-25</td>\n",
       "      <td>2020-02-07</td>\n",
       "    </tr>\n",
       "    <tr>\n",
       "      <td>7</td>\n",
       "      <td>Labor day (May 1st) Ads Campaign</td>\n",
       "      <td>EU, CIS, APAC</td>\n",
       "      <td>2020-05-01</td>\n",
       "      <td>2020-05-03</td>\n",
       "    </tr>\n",
       "    <tr>\n",
       "      <td>8</td>\n",
       "      <td>International Women's Day Promo</td>\n",
       "      <td>EU, CIS, APAC</td>\n",
       "      <td>2020-03-08</td>\n",
       "      <td>2020-03-10</td>\n",
       "    </tr>\n",
       "    <tr>\n",
       "      <td>9</td>\n",
       "      <td>Victory Day CIS (May 9th) Event</td>\n",
       "      <td>CIS</td>\n",
       "      <td>2020-05-09</td>\n",
       "      <td>2020-05-11</td>\n",
       "    </tr>\n",
       "    <tr>\n",
       "      <td>10</td>\n",
       "      <td>CIS New Year Gift Lottery</td>\n",
       "      <td>CIS</td>\n",
       "      <td>2020-12-30</td>\n",
       "      <td>2021-01-07</td>\n",
       "    </tr>\n",
       "    <tr>\n",
       "      <td>11</td>\n",
       "      <td>Dragon Boat Festival Giveaway</td>\n",
       "      <td>APAC</td>\n",
       "      <td>2020-06-25</td>\n",
       "      <td>2020-07-01</td>\n",
       "    </tr>\n",
       "    <tr>\n",
       "      <td>12</td>\n",
       "      <td>Single's Day Gift Promo</td>\n",
       "      <td>APAC</td>\n",
       "      <td>2020-11-11</td>\n",
       "      <td>2020-11-12</td>\n",
       "    </tr>\n",
       "    <tr>\n",
       "      <td>13</td>\n",
       "      <td>Chinese Moon Festival</td>\n",
       "      <td>APAC</td>\n",
       "      <td>2020-10-01</td>\n",
       "      <td>2020-10-07</td>\n",
       "    </tr>\n",
       "  </tbody>\n",
       "</table>\n",
       "</div>"
      ],
      "text/plain": [
       "                                name                   regions    start_dt  \\\n",
       "0           Christmas&New Year Promo             EU, N.America  2020-12-25   \n",
       "1       St. Valentine's Day Giveaway  EU, CIS, APAC, N.America  2020-02-14   \n",
       "2             St. Patric's Day Promo             EU, N.America  2020-03-17   \n",
       "3                       Easter Promo  EU, CIS, APAC, N.America  2020-04-12   \n",
       "4                  4th of July Promo                 N.America  2020-07-04   \n",
       "5          Black Friday Ads Campaign  EU, CIS, APAC, N.America  2020-11-26   \n",
       "6             Chinese New Year Promo                      APAC  2020-01-25   \n",
       "7   Labor day (May 1st) Ads Campaign             EU, CIS, APAC  2020-05-01   \n",
       "8    International Women's Day Promo             EU, CIS, APAC  2020-03-08   \n",
       "9    Victory Day CIS (May 9th) Event                       CIS  2020-05-09   \n",
       "10         CIS New Year Gift Lottery                       CIS  2020-12-30   \n",
       "11     Dragon Boat Festival Giveaway                      APAC  2020-06-25   \n",
       "12           Single's Day Gift Promo                      APAC  2020-11-11   \n",
       "13             Chinese Moon Festival                      APAC  2020-10-01   \n",
       "\n",
       "     finish_dt  \n",
       "0   2021-01-03  \n",
       "1   2020-02-16  \n",
       "2   2020-03-19  \n",
       "3   2020-04-19  \n",
       "4   2020-07-11  \n",
       "5   2020-12-01  \n",
       "6   2020-02-07  \n",
       "7   2020-05-03  \n",
       "8   2020-03-10  \n",
       "9   2020-05-11  \n",
       "10  2021-01-07  \n",
       "11  2020-07-01  \n",
       "12  2020-11-12  \n",
       "13  2020-10-07  "
      ]
     },
     "execution_count": 2,
     "metadata": {},
     "output_type": "execute_result"
    }
   ],
   "source": [
    "calendar"
   ]
  },
  {
   "cell_type": "code",
   "execution_count": 3,
   "metadata": {},
   "outputs": [
    {
     "name": "stdout",
     "output_type": "stream",
     "text": [
      "<class 'pandas.core.frame.DataFrame'>\n",
      "RangeIndex: 14 entries, 0 to 13\n",
      "Data columns (total 4 columns):\n",
      "name         14 non-null object\n",
      "regions      14 non-null object\n",
      "start_dt     14 non-null object\n",
      "finish_dt    14 non-null object\n",
      "dtypes: object(4)\n",
      "memory usage: 576.0+ bytes\n"
     ]
    }
   ],
   "source": [
    "calendar.info()"
   ]
  },
  {
   "cell_type": "code",
   "execution_count": 4,
   "metadata": {},
   "outputs": [
    {
     "data": {
      "text/plain": [
       "0"
      ]
     },
     "execution_count": 4,
     "metadata": {},
     "output_type": "execute_result"
    }
   ],
   "source": [
    "calendar.duplicated().sum()"
   ]
  },
  {
   "cell_type": "code",
   "execution_count": 5,
   "metadata": {},
   "outputs": [
    {
     "data": {
      "text/html": [
       "<div>\n",
       "<style scoped>\n",
       "    .dataframe tbody tr th:only-of-type {\n",
       "        vertical-align: middle;\n",
       "    }\n",
       "\n",
       "    .dataframe tbody tr th {\n",
       "        vertical-align: top;\n",
       "    }\n",
       "\n",
       "    .dataframe thead th {\n",
       "        text-align: right;\n",
       "    }\n",
       "</style>\n",
       "<table border=\"1\" class=\"dataframe\">\n",
       "  <thead>\n",
       "    <tr style=\"text-align: right;\">\n",
       "      <th></th>\n",
       "      <th>user_id</th>\n",
       "      <th>first_date</th>\n",
       "      <th>region</th>\n",
       "      <th>device</th>\n",
       "    </tr>\n",
       "  </thead>\n",
       "  <tbody>\n",
       "    <tr>\n",
       "      <td>0</td>\n",
       "      <td>D72A72121175D8BE</td>\n",
       "      <td>2020-12-07</td>\n",
       "      <td>EU</td>\n",
       "      <td>PC</td>\n",
       "    </tr>\n",
       "    <tr>\n",
       "      <td>1</td>\n",
       "      <td>F1C668619DFE6E65</td>\n",
       "      <td>2020-12-07</td>\n",
       "      <td>N.America</td>\n",
       "      <td>Android</td>\n",
       "    </tr>\n",
       "    <tr>\n",
       "      <td>2</td>\n",
       "      <td>2E1BF1D4C37EA01F</td>\n",
       "      <td>2020-12-07</td>\n",
       "      <td>EU</td>\n",
       "      <td>PC</td>\n",
       "    </tr>\n",
       "    <tr>\n",
       "      <td>3</td>\n",
       "      <td>50734A22C0C63768</td>\n",
       "      <td>2020-12-07</td>\n",
       "      <td>EU</td>\n",
       "      <td>iPhone</td>\n",
       "    </tr>\n",
       "    <tr>\n",
       "      <td>4</td>\n",
       "      <td>E1BDDCE0DAFA2679</td>\n",
       "      <td>2020-12-07</td>\n",
       "      <td>N.America</td>\n",
       "      <td>iPhone</td>\n",
       "    </tr>\n",
       "    <tr>\n",
       "      <td>...</td>\n",
       "      <td>...</td>\n",
       "      <td>...</td>\n",
       "      <td>...</td>\n",
       "      <td>...</td>\n",
       "    </tr>\n",
       "    <tr>\n",
       "      <td>61728</td>\n",
       "      <td>1DB53B933257165D</td>\n",
       "      <td>2020-12-20</td>\n",
       "      <td>EU</td>\n",
       "      <td>Android</td>\n",
       "    </tr>\n",
       "    <tr>\n",
       "      <td>61729</td>\n",
       "      <td>538643EB4527ED03</td>\n",
       "      <td>2020-12-20</td>\n",
       "      <td>EU</td>\n",
       "      <td>Mac</td>\n",
       "    </tr>\n",
       "    <tr>\n",
       "      <td>61730</td>\n",
       "      <td>7ADEE837D5D8CBBD</td>\n",
       "      <td>2020-12-20</td>\n",
       "      <td>EU</td>\n",
       "      <td>PC</td>\n",
       "    </tr>\n",
       "    <tr>\n",
       "      <td>61731</td>\n",
       "      <td>1C7D23927835213F</td>\n",
       "      <td>2020-12-20</td>\n",
       "      <td>EU</td>\n",
       "      <td>iPhone</td>\n",
       "    </tr>\n",
       "    <tr>\n",
       "      <td>61732</td>\n",
       "      <td>8F04273BB2860229</td>\n",
       "      <td>2020-12-20</td>\n",
       "      <td>EU</td>\n",
       "      <td>Android</td>\n",
       "    </tr>\n",
       "  </tbody>\n",
       "</table>\n",
       "<p>61733 rows × 4 columns</p>\n",
       "</div>"
      ],
      "text/plain": [
       "                user_id  first_date     region   device\n",
       "0      D72A72121175D8BE  2020-12-07         EU       PC\n",
       "1      F1C668619DFE6E65  2020-12-07  N.America  Android\n",
       "2      2E1BF1D4C37EA01F  2020-12-07         EU       PC\n",
       "3      50734A22C0C63768  2020-12-07         EU   iPhone\n",
       "4      E1BDDCE0DAFA2679  2020-12-07  N.America   iPhone\n",
       "...                 ...         ...        ...      ...\n",
       "61728  1DB53B933257165D  2020-12-20         EU  Android\n",
       "61729  538643EB4527ED03  2020-12-20         EU      Mac\n",
       "61730  7ADEE837D5D8CBBD  2020-12-20         EU       PC\n",
       "61731  1C7D23927835213F  2020-12-20         EU   iPhone\n",
       "61732  8F04273BB2860229  2020-12-20         EU  Android\n",
       "\n",
       "[61733 rows x 4 columns]"
      ]
     },
     "execution_count": 5,
     "metadata": {},
     "output_type": "execute_result"
    }
   ],
   "source": [
    "users"
   ]
  },
  {
   "cell_type": "code",
   "execution_count": 6,
   "metadata": {},
   "outputs": [
    {
     "name": "stdout",
     "output_type": "stream",
     "text": [
      "<class 'pandas.core.frame.DataFrame'>\n",
      "RangeIndex: 61733 entries, 0 to 61732\n",
      "Data columns (total 4 columns):\n",
      "user_id       61733 non-null object\n",
      "first_date    61733 non-null object\n",
      "region        61733 non-null object\n",
      "device        61733 non-null object\n",
      "dtypes: object(4)\n",
      "memory usage: 1.9+ MB\n"
     ]
    }
   ],
   "source": [
    "users.info()"
   ]
  },
  {
   "cell_type": "code",
   "execution_count": 7,
   "metadata": {},
   "outputs": [
    {
     "data": {
      "text/plain": [
       "0"
      ]
     },
     "execution_count": 7,
     "metadata": {},
     "output_type": "execute_result"
    }
   ],
   "source": [
    "users.duplicated().sum()"
   ]
  },
  {
   "cell_type": "code",
   "execution_count": 8,
   "metadata": {},
   "outputs": [
    {
     "data": {
      "text/html": [
       "<div>\n",
       "<style scoped>\n",
       "    .dataframe tbody tr th:only-of-type {\n",
       "        vertical-align: middle;\n",
       "    }\n",
       "\n",
       "    .dataframe tbody tr th {\n",
       "        vertical-align: top;\n",
       "    }\n",
       "\n",
       "    .dataframe thead th {\n",
       "        text-align: right;\n",
       "    }\n",
       "</style>\n",
       "<table border=\"1\" class=\"dataframe\">\n",
       "  <thead>\n",
       "    <tr style=\"text-align: right;\">\n",
       "      <th></th>\n",
       "      <th>user_id</th>\n",
       "      <th>event_dt</th>\n",
       "      <th>event_name</th>\n",
       "      <th>details</th>\n",
       "    </tr>\n",
       "  </thead>\n",
       "  <tbody>\n",
       "    <tr>\n",
       "      <td>0</td>\n",
       "      <td>E1BDDCE0DAFA2679</td>\n",
       "      <td>2020-12-07 20:22:03</td>\n",
       "      <td>purchase</td>\n",
       "      <td>99.99</td>\n",
       "    </tr>\n",
       "    <tr>\n",
       "      <td>1</td>\n",
       "      <td>7B6452F081F49504</td>\n",
       "      <td>2020-12-07 09:22:53</td>\n",
       "      <td>purchase</td>\n",
       "      <td>9.99</td>\n",
       "    </tr>\n",
       "    <tr>\n",
       "      <td>2</td>\n",
       "      <td>9CD9F34546DF254C</td>\n",
       "      <td>2020-12-07 12:59:29</td>\n",
       "      <td>purchase</td>\n",
       "      <td>4.99</td>\n",
       "    </tr>\n",
       "    <tr>\n",
       "      <td>3</td>\n",
       "      <td>96F27A054B191457</td>\n",
       "      <td>2020-12-07 04:02:40</td>\n",
       "      <td>purchase</td>\n",
       "      <td>4.99</td>\n",
       "    </tr>\n",
       "    <tr>\n",
       "      <td>4</td>\n",
       "      <td>1FD7660FDF94CA1F</td>\n",
       "      <td>2020-12-07 10:15:09</td>\n",
       "      <td>purchase</td>\n",
       "      <td>4.99</td>\n",
       "    </tr>\n",
       "    <tr>\n",
       "      <td>...</td>\n",
       "      <td>...</td>\n",
       "      <td>...</td>\n",
       "      <td>...</td>\n",
       "      <td>...</td>\n",
       "    </tr>\n",
       "    <tr>\n",
       "      <td>440312</td>\n",
       "      <td>245E85F65C358E08</td>\n",
       "      <td>2020-12-30 19:35:55</td>\n",
       "      <td>login</td>\n",
       "      <td>NaN</td>\n",
       "    </tr>\n",
       "    <tr>\n",
       "      <td>440313</td>\n",
       "      <td>9385A108F5A0A7A7</td>\n",
       "      <td>2020-12-30 10:54:15</td>\n",
       "      <td>login</td>\n",
       "      <td>NaN</td>\n",
       "    </tr>\n",
       "    <tr>\n",
       "      <td>440314</td>\n",
       "      <td>DB650B7559AC6EAC</td>\n",
       "      <td>2020-12-30 10:59:09</td>\n",
       "      <td>login</td>\n",
       "      <td>NaN</td>\n",
       "    </tr>\n",
       "    <tr>\n",
       "      <td>440315</td>\n",
       "      <td>F80C9BDDEA02E53C</td>\n",
       "      <td>2020-12-30 09:53:39</td>\n",
       "      <td>login</td>\n",
       "      <td>NaN</td>\n",
       "    </tr>\n",
       "    <tr>\n",
       "      <td>440316</td>\n",
       "      <td>7AEC61159B672CC5</td>\n",
       "      <td>2020-12-30 11:36:13</td>\n",
       "      <td>login</td>\n",
       "      <td>NaN</td>\n",
       "    </tr>\n",
       "  </tbody>\n",
       "</table>\n",
       "<p>440317 rows × 4 columns</p>\n",
       "</div>"
      ],
      "text/plain": [
       "                 user_id             event_dt event_name  details\n",
       "0       E1BDDCE0DAFA2679  2020-12-07 20:22:03   purchase    99.99\n",
       "1       7B6452F081F49504  2020-12-07 09:22:53   purchase     9.99\n",
       "2       9CD9F34546DF254C  2020-12-07 12:59:29   purchase     4.99\n",
       "3       96F27A054B191457  2020-12-07 04:02:40   purchase     4.99\n",
       "4       1FD7660FDF94CA1F  2020-12-07 10:15:09   purchase     4.99\n",
       "...                  ...                  ...        ...      ...\n",
       "440312  245E85F65C358E08  2020-12-30 19:35:55      login      NaN\n",
       "440313  9385A108F5A0A7A7  2020-12-30 10:54:15      login      NaN\n",
       "440314  DB650B7559AC6EAC  2020-12-30 10:59:09      login      NaN\n",
       "440315  F80C9BDDEA02E53C  2020-12-30 09:53:39      login      NaN\n",
       "440316  7AEC61159B672CC5  2020-12-30 11:36:13      login      NaN\n",
       "\n",
       "[440317 rows x 4 columns]"
      ]
     },
     "execution_count": 8,
     "metadata": {},
     "output_type": "execute_result"
    }
   ],
   "source": [
    "events"
   ]
  },
  {
   "cell_type": "code",
   "execution_count": 9,
   "metadata": {},
   "outputs": [
    {
     "name": "stdout",
     "output_type": "stream",
     "text": [
      "<class 'pandas.core.frame.DataFrame'>\n",
      "RangeIndex: 440317 entries, 0 to 440316\n",
      "Data columns (total 4 columns):\n",
      "user_id       440317 non-null object\n",
      "event_dt      440317 non-null object\n",
      "event_name    440317 non-null object\n",
      "details       62740 non-null float64\n",
      "dtypes: float64(1), object(3)\n",
      "memory usage: 13.4+ MB\n"
     ]
    }
   ],
   "source": [
    "events.info()"
   ]
  },
  {
   "cell_type": "markdown",
   "metadata": {},
   "source": [
    "*Пустые значения в столбце details означают, что дополнительной информации о событии нет. Это относится только к авторизации пользователя*"
   ]
  },
  {
   "cell_type": "code",
   "execution_count": 10,
   "metadata": {},
   "outputs": [
    {
     "data": {
      "text/plain": [
       "0"
      ]
     },
     "execution_count": 10,
     "metadata": {},
     "output_type": "execute_result"
    }
   ],
   "source": [
    "events.duplicated().sum()"
   ]
  },
  {
   "cell_type": "code",
   "execution_count": 11,
   "metadata": {},
   "outputs": [
    {
     "data": {
      "text/html": [
       "<div>\n",
       "<style scoped>\n",
       "    .dataframe tbody tr th:only-of-type {\n",
       "        vertical-align: middle;\n",
       "    }\n",
       "\n",
       "    .dataframe tbody tr th {\n",
       "        vertical-align: top;\n",
       "    }\n",
       "\n",
       "    .dataframe thead th {\n",
       "        text-align: right;\n",
       "    }\n",
       "</style>\n",
       "<table border=\"1\" class=\"dataframe\">\n",
       "  <thead>\n",
       "    <tr style=\"text-align: right;\">\n",
       "      <th></th>\n",
       "      <th>user_id</th>\n",
       "      <th>group</th>\n",
       "      <th>ab_test</th>\n",
       "    </tr>\n",
       "  </thead>\n",
       "  <tbody>\n",
       "    <tr>\n",
       "      <td>0</td>\n",
       "      <td>D1ABA3E2887B6A73</td>\n",
       "      <td>A</td>\n",
       "      <td>recommender_system_test</td>\n",
       "    </tr>\n",
       "    <tr>\n",
       "      <td>1</td>\n",
       "      <td>A7A3664BD6242119</td>\n",
       "      <td>A</td>\n",
       "      <td>recommender_system_test</td>\n",
       "    </tr>\n",
       "    <tr>\n",
       "      <td>2</td>\n",
       "      <td>DABC14FDDFADD29E</td>\n",
       "      <td>A</td>\n",
       "      <td>recommender_system_test</td>\n",
       "    </tr>\n",
       "    <tr>\n",
       "      <td>3</td>\n",
       "      <td>04988C5DF189632E</td>\n",
       "      <td>A</td>\n",
       "      <td>recommender_system_test</td>\n",
       "    </tr>\n",
       "    <tr>\n",
       "      <td>4</td>\n",
       "      <td>482F14783456D21B</td>\n",
       "      <td>B</td>\n",
       "      <td>recommender_system_test</td>\n",
       "    </tr>\n",
       "    <tr>\n",
       "      <td>...</td>\n",
       "      <td>...</td>\n",
       "      <td>...</td>\n",
       "      <td>...</td>\n",
       "    </tr>\n",
       "    <tr>\n",
       "      <td>18263</td>\n",
       "      <td>1D302F8688B91781</td>\n",
       "      <td>B</td>\n",
       "      <td>interface_eu_test</td>\n",
       "    </tr>\n",
       "    <tr>\n",
       "      <td>18264</td>\n",
       "      <td>3DE51B726983B657</td>\n",
       "      <td>A</td>\n",
       "      <td>interface_eu_test</td>\n",
       "    </tr>\n",
       "    <tr>\n",
       "      <td>18265</td>\n",
       "      <td>F501F79D332BE86C</td>\n",
       "      <td>A</td>\n",
       "      <td>interface_eu_test</td>\n",
       "    </tr>\n",
       "    <tr>\n",
       "      <td>18266</td>\n",
       "      <td>63FBE257B05F2245</td>\n",
       "      <td>A</td>\n",
       "      <td>interface_eu_test</td>\n",
       "    </tr>\n",
       "    <tr>\n",
       "      <td>18267</td>\n",
       "      <td>79F9ABFB029CF724</td>\n",
       "      <td>B</td>\n",
       "      <td>interface_eu_test</td>\n",
       "    </tr>\n",
       "  </tbody>\n",
       "</table>\n",
       "<p>18268 rows × 3 columns</p>\n",
       "</div>"
      ],
      "text/plain": [
       "                user_id group                  ab_test\n",
       "0      D1ABA3E2887B6A73     A  recommender_system_test\n",
       "1      A7A3664BD6242119     A  recommender_system_test\n",
       "2      DABC14FDDFADD29E     A  recommender_system_test\n",
       "3      04988C5DF189632E     A  recommender_system_test\n",
       "4      482F14783456D21B     B  recommender_system_test\n",
       "...                 ...   ...                      ...\n",
       "18263  1D302F8688B91781     B        interface_eu_test\n",
       "18264  3DE51B726983B657     A        interface_eu_test\n",
       "18265  F501F79D332BE86C     A        interface_eu_test\n",
       "18266  63FBE257B05F2245     A        interface_eu_test\n",
       "18267  79F9ABFB029CF724     B        interface_eu_test\n",
       "\n",
       "[18268 rows x 3 columns]"
      ]
     },
     "execution_count": 11,
     "metadata": {},
     "output_type": "execute_result"
    }
   ],
   "source": [
    "participants"
   ]
  },
  {
   "cell_type": "code",
   "execution_count": 12,
   "metadata": {},
   "outputs": [
    {
     "name": "stdout",
     "output_type": "stream",
     "text": [
      "<class 'pandas.core.frame.DataFrame'>\n",
      "RangeIndex: 18268 entries, 0 to 18267\n",
      "Data columns (total 3 columns):\n",
      "user_id    18268 non-null object\n",
      "group      18268 non-null object\n",
      "ab_test    18268 non-null object\n",
      "dtypes: object(3)\n",
      "memory usage: 428.3+ KB\n"
     ]
    }
   ],
   "source": [
    "participants.info()"
   ]
  },
  {
   "cell_type": "code",
   "execution_count": 13,
   "metadata": {},
   "outputs": [
    {
     "data": {
      "text/plain": [
       "0"
      ]
     },
     "execution_count": 13,
     "metadata": {},
     "output_type": "execute_result"
    }
   ],
   "source": [
    "participants.duplicated().sum()"
   ]
  },
  {
   "cell_type": "markdown",
   "metadata": {},
   "source": [
    "## Провести исследовательский анализ данных"
   ]
  },
  {
   "cell_type": "markdown",
   "metadata": {},
   "source": [
    "### Посмотрим, совпадает ли время теста с маркетинговыми или другими активностями"
   ]
  },
  {
   "cell_type": "code",
   "execution_count": 14,
   "metadata": {},
   "outputs": [
    {
     "data": {
      "text/html": [
       "<div>\n",
       "<style scoped>\n",
       "    .dataframe tbody tr th:only-of-type {\n",
       "        vertical-align: middle;\n",
       "    }\n",
       "\n",
       "    .dataframe tbody tr th {\n",
       "        vertical-align: top;\n",
       "    }\n",
       "\n",
       "    .dataframe thead th {\n",
       "        text-align: right;\n",
       "    }\n",
       "</style>\n",
       "<table border=\"1\" class=\"dataframe\">\n",
       "  <thead>\n",
       "    <tr style=\"text-align: right;\">\n",
       "      <th></th>\n",
       "      <th>name</th>\n",
       "      <th>regions</th>\n",
       "      <th>start_dt</th>\n",
       "      <th>finish_dt</th>\n",
       "    </tr>\n",
       "  </thead>\n",
       "  <tbody>\n",
       "    <tr>\n",
       "      <td>0</td>\n",
       "      <td>Christmas&amp;New Year Promo</td>\n",
       "      <td>EU, N.America</td>\n",
       "      <td>2020-12-25</td>\n",
       "      <td>2021-01-03</td>\n",
       "    </tr>\n",
       "  </tbody>\n",
       "</table>\n",
       "</div>"
      ],
      "text/plain": [
       "                       name        regions    start_dt   finish_dt\n",
       "0  Christmas&New Year Promo  EU, N.America  2020-12-25  2021-01-03"
      ]
     },
     "execution_count": 14,
     "metadata": {},
     "output_type": "execute_result"
    }
   ],
   "source": [
    "calendar.query('finish_dt <= \"2021-01-04\" & start_dt >= \"2020-12-07\"')"
   ]
  },
  {
   "cell_type": "markdown",
   "metadata": {},
   "source": [
    "*Совпадение с одним событием в котором участвуют пользователи европейского региона, для которых проходит тестирование*"
   ]
  },
  {
   "cell_type": "markdown",
   "metadata": {},
   "source": [
    "### Удостовериться, что нет пересечений с конкурирующим тестом"
   ]
  },
  {
   "cell_type": "code",
   "execution_count": 15,
   "metadata": {},
   "outputs": [
    {
     "data": {
      "text/html": [
       "<div>\n",
       "<style scoped>\n",
       "    .dataframe tbody tr th:only-of-type {\n",
       "        vertical-align: middle;\n",
       "    }\n",
       "\n",
       "    .dataframe tbody tr th {\n",
       "        vertical-align: top;\n",
       "    }\n",
       "\n",
       "    .dataframe thead th {\n",
       "        text-align: right;\n",
       "    }\n",
       "</style>\n",
       "<table border=\"1\" class=\"dataframe\">\n",
       "  <thead>\n",
       "    <tr style=\"text-align: right;\">\n",
       "      <th></th>\n",
       "      <th>user_id</th>\n",
       "      <th>ab_test</th>\n",
       "    </tr>\n",
       "  </thead>\n",
       "  <tbody>\n",
       "    <tr>\n",
       "      <td>0</td>\n",
       "      <td>0002CE61FF2C4011</td>\n",
       "      <td>1</td>\n",
       "    </tr>\n",
       "    <tr>\n",
       "      <td>1</td>\n",
       "      <td>000ABE35EE11412F</td>\n",
       "      <td>1</td>\n",
       "    </tr>\n",
       "    <tr>\n",
       "      <td>2</td>\n",
       "      <td>001064FEAAB631A1</td>\n",
       "      <td>2</td>\n",
       "    </tr>\n",
       "    <tr>\n",
       "      <td>3</td>\n",
       "      <td>0010A1C096941592</td>\n",
       "      <td>1</td>\n",
       "    </tr>\n",
       "    <tr>\n",
       "      <td>4</td>\n",
       "      <td>001C05E87D336C59</td>\n",
       "      <td>1</td>\n",
       "    </tr>\n",
       "    <tr>\n",
       "      <td>...</td>\n",
       "      <td>...</td>\n",
       "      <td>...</td>\n",
       "    </tr>\n",
       "    <tr>\n",
       "      <td>16661</td>\n",
       "      <td>FFE858A7845F005E</td>\n",
       "      <td>1</td>\n",
       "    </tr>\n",
       "    <tr>\n",
       "      <td>16662</td>\n",
       "      <td>FFED90241D04503F</td>\n",
       "      <td>2</td>\n",
       "    </tr>\n",
       "    <tr>\n",
       "      <td>16663</td>\n",
       "      <td>FFEFC0E55C1CCD4F</td>\n",
       "      <td>1</td>\n",
       "    </tr>\n",
       "    <tr>\n",
       "      <td>16664</td>\n",
       "      <td>FFF28D02B1EACBE1</td>\n",
       "      <td>2</td>\n",
       "    </tr>\n",
       "    <tr>\n",
       "      <td>16665</td>\n",
       "      <td>FFF58BC33966EB51</td>\n",
       "      <td>1</td>\n",
       "    </tr>\n",
       "  </tbody>\n",
       "</table>\n",
       "<p>16666 rows × 2 columns</p>\n",
       "</div>"
      ],
      "text/plain": [
       "                user_id  ab_test\n",
       "0      0002CE61FF2C4011        1\n",
       "1      000ABE35EE11412F        1\n",
       "2      001064FEAAB631A1        2\n",
       "3      0010A1C096941592        1\n",
       "4      001C05E87D336C59        1\n",
       "...                 ...      ...\n",
       "16661  FFE858A7845F005E        1\n",
       "16662  FFED90241D04503F        2\n",
       "16663  FFEFC0E55C1CCD4F        1\n",
       "16664  FFF28D02B1EACBE1        2\n",
       "16665  FFF58BC33966EB51        1\n",
       "\n",
       "[16666 rows x 2 columns]"
      ]
     },
     "execution_count": 15,
     "metadata": {},
     "output_type": "execute_result"
    }
   ],
   "source": [
    "chek_test = participants.pivot_table(index='user_id', values='ab_test',aggfunc='count').reset_index()\n",
    "chek_test"
   ]
  },
  {
   "cell_type": "code",
   "execution_count": 16,
   "metadata": {},
   "outputs": [
    {
     "data": {
      "text/plain": [
       "1    15064\n",
       "2     1602\n",
       "Name: ab_test, dtype: int64"
      ]
     },
     "execution_count": 16,
     "metadata": {},
     "output_type": "execute_result"
    }
   ],
   "source": [
    "chek_test['ab_test'].value_counts()"
   ]
  },
  {
   "cell_type": "markdown",
   "metadata": {},
   "source": [
    "*1602 человека участвуют в двух тестах оновременно.*"
   ]
  },
  {
   "cell_type": "code",
   "execution_count": 17,
   "metadata": {},
   "outputs": [
    {
     "data": {
      "text/html": [
       "<div>\n",
       "<style scoped>\n",
       "    .dataframe tbody tr th:only-of-type {\n",
       "        vertical-align: middle;\n",
       "    }\n",
       "\n",
       "    .dataframe tbody tr th {\n",
       "        vertical-align: top;\n",
       "    }\n",
       "\n",
       "    .dataframe thead th {\n",
       "        text-align: right;\n",
       "    }\n",
       "</style>\n",
       "<table border=\"1\" class=\"dataframe\">\n",
       "  <thead>\n",
       "    <tr style=\"text-align: right;\">\n",
       "      <th></th>\n",
       "      <th>user_id</th>\n",
       "      <th>ab_test_x</th>\n",
       "      <th>group</th>\n",
       "      <th>ab_test_y</th>\n",
       "    </tr>\n",
       "  </thead>\n",
       "  <tbody>\n",
       "    <tr>\n",
       "      <td>0</td>\n",
       "      <td>0002CE61FF2C4011</td>\n",
       "      <td>1</td>\n",
       "      <td>A</td>\n",
       "      <td>interface_eu_test</td>\n",
       "    </tr>\n",
       "    <tr>\n",
       "      <td>1</td>\n",
       "      <td>000ABE35EE11412F</td>\n",
       "      <td>1</td>\n",
       "      <td>A</td>\n",
       "      <td>recommender_system_test</td>\n",
       "    </tr>\n",
       "    <tr>\n",
       "      <td>2</td>\n",
       "      <td>001064FEAAB631A1</td>\n",
       "      <td>2</td>\n",
       "      <td>B</td>\n",
       "      <td>recommender_system_test</td>\n",
       "    </tr>\n",
       "    <tr>\n",
       "      <td>3</td>\n",
       "      <td>001064FEAAB631A1</td>\n",
       "      <td>2</td>\n",
       "      <td>B</td>\n",
       "      <td>interface_eu_test</td>\n",
       "    </tr>\n",
       "    <tr>\n",
       "      <td>4</td>\n",
       "      <td>0010A1C096941592</td>\n",
       "      <td>1</td>\n",
       "      <td>A</td>\n",
       "      <td>recommender_system_test</td>\n",
       "    </tr>\n",
       "    <tr>\n",
       "      <td>...</td>\n",
       "      <td>...</td>\n",
       "      <td>...</td>\n",
       "      <td>...</td>\n",
       "      <td>...</td>\n",
       "    </tr>\n",
       "    <tr>\n",
       "      <td>18263</td>\n",
       "      <td>FFED90241D04503F</td>\n",
       "      <td>2</td>\n",
       "      <td>B</td>\n",
       "      <td>interface_eu_test</td>\n",
       "    </tr>\n",
       "    <tr>\n",
       "      <td>18264</td>\n",
       "      <td>FFEFC0E55C1CCD4F</td>\n",
       "      <td>1</td>\n",
       "      <td>B</td>\n",
       "      <td>interface_eu_test</td>\n",
       "    </tr>\n",
       "    <tr>\n",
       "      <td>18265</td>\n",
       "      <td>FFF28D02B1EACBE1</td>\n",
       "      <td>2</td>\n",
       "      <td>B</td>\n",
       "      <td>recommender_system_test</td>\n",
       "    </tr>\n",
       "    <tr>\n",
       "      <td>18266</td>\n",
       "      <td>FFF28D02B1EACBE1</td>\n",
       "      <td>2</td>\n",
       "      <td>A</td>\n",
       "      <td>interface_eu_test</td>\n",
       "    </tr>\n",
       "    <tr>\n",
       "      <td>18267</td>\n",
       "      <td>FFF58BC33966EB51</td>\n",
       "      <td>1</td>\n",
       "      <td>B</td>\n",
       "      <td>interface_eu_test</td>\n",
       "    </tr>\n",
       "  </tbody>\n",
       "</table>\n",
       "<p>18268 rows × 4 columns</p>\n",
       "</div>"
      ],
      "text/plain": [
       "                user_id  ab_test_x group                ab_test_y\n",
       "0      0002CE61FF2C4011          1     A        interface_eu_test\n",
       "1      000ABE35EE11412F          1     A  recommender_system_test\n",
       "2      001064FEAAB631A1          2     B  recommender_system_test\n",
       "3      001064FEAAB631A1          2     B        interface_eu_test\n",
       "4      0010A1C096941592          1     A  recommender_system_test\n",
       "...                 ...        ...   ...                      ...\n",
       "18263  FFED90241D04503F          2     B        interface_eu_test\n",
       "18264  FFEFC0E55C1CCD4F          1     B        interface_eu_test\n",
       "18265  FFF28D02B1EACBE1          2     B  recommender_system_test\n",
       "18266  FFF28D02B1EACBE1          2     A        interface_eu_test\n",
       "18267  FFF58BC33966EB51          1     B        interface_eu_test\n",
       "\n",
       "[18268 rows x 4 columns]"
      ]
     },
     "execution_count": 17,
     "metadata": {},
     "output_type": "execute_result"
    }
   ],
   "source": [
    "pyu = chek_test.merge(participants,left_on='user_id',right_on='user_id')\n",
    "pyu"
   ]
  },
  {
   "cell_type": "code",
   "execution_count": 18,
   "metadata": {},
   "outputs": [
    {
     "data": {
      "text/html": [
       "<div>\n",
       "<style scoped>\n",
       "    .dataframe tbody tr th:only-of-type {\n",
       "        vertical-align: middle;\n",
       "    }\n",
       "\n",
       "    .dataframe tbody tr th {\n",
       "        vertical-align: top;\n",
       "    }\n",
       "\n",
       "    .dataframe thead th {\n",
       "        text-align: right;\n",
       "    }\n",
       "</style>\n",
       "<table border=\"1\" class=\"dataframe\">\n",
       "  <thead>\n",
       "    <tr style=\"text-align: right;\">\n",
       "      <th></th>\n",
       "      <th>user_id</th>\n",
       "      <th>ab_test_x</th>\n",
       "      <th>group</th>\n",
       "      <th>ab_test_y</th>\n",
       "      <th>test_count</th>\n",
       "    </tr>\n",
       "  </thead>\n",
       "  <tbody>\n",
       "    <tr>\n",
       "      <td>0</td>\n",
       "      <td>0002CE61FF2C4011</td>\n",
       "      <td>1</td>\n",
       "      <td>A</td>\n",
       "      <td>interface_eu_test</td>\n",
       "      <td>one</td>\n",
       "    </tr>\n",
       "    <tr>\n",
       "      <td>1</td>\n",
       "      <td>000ABE35EE11412F</td>\n",
       "      <td>1</td>\n",
       "      <td>A</td>\n",
       "      <td>recommender_system_test</td>\n",
       "      <td>one</td>\n",
       "    </tr>\n",
       "    <tr>\n",
       "      <td>2</td>\n",
       "      <td>001064FEAAB631A1</td>\n",
       "      <td>2</td>\n",
       "      <td>B</td>\n",
       "      <td>recommender_system_test</td>\n",
       "      <td>two</td>\n",
       "    </tr>\n",
       "    <tr>\n",
       "      <td>3</td>\n",
       "      <td>001064FEAAB631A1</td>\n",
       "      <td>2</td>\n",
       "      <td>B</td>\n",
       "      <td>interface_eu_test</td>\n",
       "      <td>two</td>\n",
       "    </tr>\n",
       "    <tr>\n",
       "      <td>4</td>\n",
       "      <td>0010A1C096941592</td>\n",
       "      <td>1</td>\n",
       "      <td>A</td>\n",
       "      <td>recommender_system_test</td>\n",
       "      <td>one</td>\n",
       "    </tr>\n",
       "    <tr>\n",
       "      <td>...</td>\n",
       "      <td>...</td>\n",
       "      <td>...</td>\n",
       "      <td>...</td>\n",
       "      <td>...</td>\n",
       "      <td>...</td>\n",
       "    </tr>\n",
       "    <tr>\n",
       "      <td>18263</td>\n",
       "      <td>FFED90241D04503F</td>\n",
       "      <td>2</td>\n",
       "      <td>B</td>\n",
       "      <td>interface_eu_test</td>\n",
       "      <td>two</td>\n",
       "    </tr>\n",
       "    <tr>\n",
       "      <td>18264</td>\n",
       "      <td>FFEFC0E55C1CCD4F</td>\n",
       "      <td>1</td>\n",
       "      <td>B</td>\n",
       "      <td>interface_eu_test</td>\n",
       "      <td>one</td>\n",
       "    </tr>\n",
       "    <tr>\n",
       "      <td>18265</td>\n",
       "      <td>FFF28D02B1EACBE1</td>\n",
       "      <td>2</td>\n",
       "      <td>B</td>\n",
       "      <td>recommender_system_test</td>\n",
       "      <td>two</td>\n",
       "    </tr>\n",
       "    <tr>\n",
       "      <td>18266</td>\n",
       "      <td>FFF28D02B1EACBE1</td>\n",
       "      <td>2</td>\n",
       "      <td>A</td>\n",
       "      <td>interface_eu_test</td>\n",
       "      <td>two</td>\n",
       "    </tr>\n",
       "    <tr>\n",
       "      <td>18267</td>\n",
       "      <td>FFF58BC33966EB51</td>\n",
       "      <td>1</td>\n",
       "      <td>B</td>\n",
       "      <td>interface_eu_test</td>\n",
       "      <td>one</td>\n",
       "    </tr>\n",
       "  </tbody>\n",
       "</table>\n",
       "<p>18268 rows × 5 columns</p>\n",
       "</div>"
      ],
      "text/plain": [
       "                user_id  ab_test_x group                ab_test_y test_count\n",
       "0      0002CE61FF2C4011          1     A        interface_eu_test        one\n",
       "1      000ABE35EE11412F          1     A  recommender_system_test        one\n",
       "2      001064FEAAB631A1          2     B  recommender_system_test        two\n",
       "3      001064FEAAB631A1          2     B        interface_eu_test        two\n",
       "4      0010A1C096941592          1     A  recommender_system_test        one\n",
       "...                 ...        ...   ...                      ...        ...\n",
       "18263  FFED90241D04503F          2     B        interface_eu_test        two\n",
       "18264  FFEFC0E55C1CCD4F          1     B        interface_eu_test        one\n",
       "18265  FFF28D02B1EACBE1          2     B  recommender_system_test        two\n",
       "18266  FFF28D02B1EACBE1          2     A        interface_eu_test        two\n",
       "18267  FFF58BC33966EB51          1     B        interface_eu_test        one\n",
       "\n",
       "[18268 rows x 5 columns]"
      ]
     },
     "execution_count": 18,
     "metadata": {},
     "output_type": "execute_result"
    }
   ],
   "source": [
    "def test_count(row):\n",
    "    ab_test_x = row['ab_test_x']\n",
    "    if ab_test_x ==1:\n",
    "        return 'one'\n",
    "    if ab_test_x ==2:\n",
    "        return 'two'\n",
    "    return 'three'\n",
    "pyu['test_count'] = pyu.apply(test_count,axis=1)\n",
    "pyu"
   ]
  },
  {
   "cell_type": "code",
   "execution_count": 19,
   "metadata": {},
   "outputs": [
    {
     "data": {
      "text/html": [
       "<div>\n",
       "<style scoped>\n",
       "    .dataframe tbody tr th:only-of-type {\n",
       "        vertical-align: middle;\n",
       "    }\n",
       "\n",
       "    .dataframe tbody tr th {\n",
       "        vertical-align: top;\n",
       "    }\n",
       "\n",
       "    .dataframe thead th {\n",
       "        text-align: right;\n",
       "    }\n",
       "</style>\n",
       "<table border=\"1\" class=\"dataframe\">\n",
       "  <thead>\n",
       "    <tr style=\"text-align: right;\">\n",
       "      <th></th>\n",
       "      <th>user_id</th>\n",
       "      <th>ab_test_x</th>\n",
       "      <th>group</th>\n",
       "      <th>ab_test_y</th>\n",
       "      <th>test_count</th>\n",
       "    </tr>\n",
       "  </thead>\n",
       "  <tbody>\n",
       "    <tr>\n",
       "      <td>1</td>\n",
       "      <td>000ABE35EE11412F</td>\n",
       "      <td>1</td>\n",
       "      <td>A</td>\n",
       "      <td>recommender_system_test</td>\n",
       "      <td>one</td>\n",
       "    </tr>\n",
       "    <tr>\n",
       "      <td>2</td>\n",
       "      <td>001064FEAAB631A1</td>\n",
       "      <td>2</td>\n",
       "      <td>B</td>\n",
       "      <td>recommender_system_test</td>\n",
       "      <td>two</td>\n",
       "    </tr>\n",
       "    <tr>\n",
       "      <td>4</td>\n",
       "      <td>0010A1C096941592</td>\n",
       "      <td>1</td>\n",
       "      <td>A</td>\n",
       "      <td>recommender_system_test</td>\n",
       "      <td>one</td>\n",
       "    </tr>\n",
       "    <tr>\n",
       "      <td>5</td>\n",
       "      <td>001C05E87D336C59</td>\n",
       "      <td>1</td>\n",
       "      <td>A</td>\n",
       "      <td>recommender_system_test</td>\n",
       "      <td>one</td>\n",
       "    </tr>\n",
       "    <tr>\n",
       "      <td>11</td>\n",
       "      <td>00341D8401F0F665</td>\n",
       "      <td>2</td>\n",
       "      <td>A</td>\n",
       "      <td>recommender_system_test</td>\n",
       "      <td>two</td>\n",
       "    </tr>\n",
       "    <tr>\n",
       "      <td>...</td>\n",
       "      <td>...</td>\n",
       "      <td>...</td>\n",
       "      <td>...</td>\n",
       "      <td>...</td>\n",
       "      <td>...</td>\n",
       "    </tr>\n",
       "    <tr>\n",
       "      <td>18249</td>\n",
       "      <td>FFC2C5F898D1245B</td>\n",
       "      <td>1</td>\n",
       "      <td>B</td>\n",
       "      <td>recommender_system_test</td>\n",
       "      <td>one</td>\n",
       "    </tr>\n",
       "    <tr>\n",
       "      <td>18251</td>\n",
       "      <td>FFC53FD45DDA5EE8</td>\n",
       "      <td>2</td>\n",
       "      <td>B</td>\n",
       "      <td>recommender_system_test</td>\n",
       "      <td>two</td>\n",
       "    </tr>\n",
       "    <tr>\n",
       "      <td>18261</td>\n",
       "      <td>FFE858A7845F005E</td>\n",
       "      <td>1</td>\n",
       "      <td>A</td>\n",
       "      <td>recommender_system_test</td>\n",
       "      <td>one</td>\n",
       "    </tr>\n",
       "    <tr>\n",
       "      <td>18262</td>\n",
       "      <td>FFED90241D04503F</td>\n",
       "      <td>2</td>\n",
       "      <td>B</td>\n",
       "      <td>recommender_system_test</td>\n",
       "      <td>two</td>\n",
       "    </tr>\n",
       "    <tr>\n",
       "      <td>18265</td>\n",
       "      <td>FFF28D02B1EACBE1</td>\n",
       "      <td>2</td>\n",
       "      <td>B</td>\n",
       "      <td>recommender_system_test</td>\n",
       "      <td>two</td>\n",
       "    </tr>\n",
       "  </tbody>\n",
       "</table>\n",
       "<p>6701 rows × 5 columns</p>\n",
       "</div>"
      ],
      "text/plain": [
       "                user_id  ab_test_x group                ab_test_y test_count\n",
       "1      000ABE35EE11412F          1     A  recommender_system_test        one\n",
       "2      001064FEAAB631A1          2     B  recommender_system_test        two\n",
       "4      0010A1C096941592          1     A  recommender_system_test        one\n",
       "5      001C05E87D336C59          1     A  recommender_system_test        one\n",
       "11     00341D8401F0F665          2     A  recommender_system_test        two\n",
       "...                 ...        ...   ...                      ...        ...\n",
       "18249  FFC2C5F898D1245B          1     B  recommender_system_test        one\n",
       "18251  FFC53FD45DDA5EE8          2     B  recommender_system_test        two\n",
       "18261  FFE858A7845F005E          1     A  recommender_system_test        one\n",
       "18262  FFED90241D04503F          2     B  recommender_system_test        two\n",
       "18265  FFF28D02B1EACBE1          2     B  recommender_system_test        two\n",
       "\n",
       "[6701 rows x 5 columns]"
      ]
     },
     "execution_count": 19,
     "metadata": {},
     "output_type": "execute_result"
    }
   ],
   "source": [
    "xlm = pyu.query('ab_test_y == \"recommender_system_test\"')\n",
    "xlm"
   ]
  },
  {
   "cell_type": "code",
   "execution_count": 20,
   "metadata": {},
   "outputs": [
    {
     "data": {
      "text/html": [
       "<div>\n",
       "<style scoped>\n",
       "    .dataframe tbody tr th:only-of-type {\n",
       "        vertical-align: middle;\n",
       "    }\n",
       "\n",
       "    .dataframe tbody tr th {\n",
       "        vertical-align: top;\n",
       "    }\n",
       "\n",
       "    .dataframe thead th {\n",
       "        text-align: right;\n",
       "    }\n",
       "</style>\n",
       "<table border=\"1\" class=\"dataframe\">\n",
       "  <thead>\n",
       "    <tr style=\"text-align: right;\">\n",
       "      <th></th>\n",
       "      <th>group</th>\n",
       "      <th>test_count</th>\n",
       "      <th>ab_test_y</th>\n",
       "      <th>user_id</th>\n",
       "    </tr>\n",
       "  </thead>\n",
       "  <tbody>\n",
       "    <tr>\n",
       "      <td>0</td>\n",
       "      <td>A</td>\n",
       "      <td>one</td>\n",
       "      <td>recommender_system_test</td>\n",
       "      <td>2903</td>\n",
       "    </tr>\n",
       "    <tr>\n",
       "      <td>1</td>\n",
       "      <td>A</td>\n",
       "      <td>two</td>\n",
       "      <td>recommender_system_test</td>\n",
       "      <td>921</td>\n",
       "    </tr>\n",
       "    <tr>\n",
       "      <td>2</td>\n",
       "      <td>B</td>\n",
       "      <td>one</td>\n",
       "      <td>recommender_system_test</td>\n",
       "      <td>2196</td>\n",
       "    </tr>\n",
       "    <tr>\n",
       "      <td>3</td>\n",
       "      <td>B</td>\n",
       "      <td>two</td>\n",
       "      <td>recommender_system_test</td>\n",
       "      <td>681</td>\n",
       "    </tr>\n",
       "  </tbody>\n",
       "</table>\n",
       "</div>"
      ],
      "text/plain": [
       "  group test_count                ab_test_y  user_id\n",
       "0     A        one  recommender_system_test     2903\n",
       "1     A        two  recommender_system_test      921\n",
       "2     B        one  recommender_system_test     2196\n",
       "3     B        two  recommender_system_test      681"
      ]
     },
     "execution_count": 20,
     "metadata": {},
     "output_type": "execute_result"
    }
   ],
   "source": [
    "xlm.pivot_table(index=['group','test_count','ab_test_y'], values='user_id',aggfunc='count').reset_index()"
   ]
  },
  {
   "cell_type": "markdown",
   "metadata": {},
   "source": [
    "*В группе А просматриваемого теста 921 человек задействован в конкурирующем тесте, в группе В 681 человек. Удалить мы их не можем, так как выборка и так небольшая. Это безусловно будет отрицательно влиять на результат теста, так как проведение двух тестов сразу приведет к ошибке расчета конверсии, увеличение p-value и процента отдать победу не той группе.*"
   ]
  },
  {
   "cell_type": "markdown",
   "metadata": {},
   "source": [
    "### Как пользователи распределены в выборках\n"
   ]
  },
  {
   "cell_type": "code",
   "execution_count": 21,
   "metadata": {},
   "outputs": [
    {
     "data": {
      "text/html": [
       "<div>\n",
       "<style scoped>\n",
       "    .dataframe tbody tr th:only-of-type {\n",
       "        vertical-align: middle;\n",
       "    }\n",
       "\n",
       "    .dataframe tbody tr th {\n",
       "        vertical-align: top;\n",
       "    }\n",
       "\n",
       "    .dataframe thead th {\n",
       "        text-align: right;\n",
       "    }\n",
       "</style>\n",
       "<table border=\"1\" class=\"dataframe\">\n",
       "  <thead>\n",
       "    <tr style=\"text-align: right;\">\n",
       "      <th></th>\n",
       "      <th>user_id</th>\n",
       "      <th>group</th>\n",
       "      <th>ab_test</th>\n",
       "    </tr>\n",
       "  </thead>\n",
       "  <tbody>\n",
       "    <tr>\n",
       "      <td>0</td>\n",
       "      <td>D1ABA3E2887B6A73</td>\n",
       "      <td>A</td>\n",
       "      <td>recommender_system_test</td>\n",
       "    </tr>\n",
       "    <tr>\n",
       "      <td>1</td>\n",
       "      <td>A7A3664BD6242119</td>\n",
       "      <td>A</td>\n",
       "      <td>recommender_system_test</td>\n",
       "    </tr>\n",
       "    <tr>\n",
       "      <td>2</td>\n",
       "      <td>DABC14FDDFADD29E</td>\n",
       "      <td>A</td>\n",
       "      <td>recommender_system_test</td>\n",
       "    </tr>\n",
       "    <tr>\n",
       "      <td>3</td>\n",
       "      <td>04988C5DF189632E</td>\n",
       "      <td>A</td>\n",
       "      <td>recommender_system_test</td>\n",
       "    </tr>\n",
       "    <tr>\n",
       "      <td>4</td>\n",
       "      <td>482F14783456D21B</td>\n",
       "      <td>B</td>\n",
       "      <td>recommender_system_test</td>\n",
       "    </tr>\n",
       "    <tr>\n",
       "      <td>...</td>\n",
       "      <td>...</td>\n",
       "      <td>...</td>\n",
       "      <td>...</td>\n",
       "    </tr>\n",
       "    <tr>\n",
       "      <td>6696</td>\n",
       "      <td>053FB26D6D49EDDC</td>\n",
       "      <td>A</td>\n",
       "      <td>recommender_system_test</td>\n",
       "    </tr>\n",
       "    <tr>\n",
       "      <td>6697</td>\n",
       "      <td>9D263B8EF15CF188</td>\n",
       "      <td>B</td>\n",
       "      <td>recommender_system_test</td>\n",
       "    </tr>\n",
       "    <tr>\n",
       "      <td>6698</td>\n",
       "      <td>F2FBBA33F37DEC46</td>\n",
       "      <td>A</td>\n",
       "      <td>recommender_system_test</td>\n",
       "    </tr>\n",
       "    <tr>\n",
       "      <td>6699</td>\n",
       "      <td>29C92313A98B1176</td>\n",
       "      <td>B</td>\n",
       "      <td>recommender_system_test</td>\n",
       "    </tr>\n",
       "    <tr>\n",
       "      <td>6700</td>\n",
       "      <td>6715343AFBA285AE</td>\n",
       "      <td>B</td>\n",
       "      <td>recommender_system_test</td>\n",
       "    </tr>\n",
       "  </tbody>\n",
       "</table>\n",
       "<p>6701 rows × 3 columns</p>\n",
       "</div>"
      ],
      "text/plain": [
       "               user_id group                  ab_test\n",
       "0     D1ABA3E2887B6A73     A  recommender_system_test\n",
       "1     A7A3664BD6242119     A  recommender_system_test\n",
       "2     DABC14FDDFADD29E     A  recommender_system_test\n",
       "3     04988C5DF189632E     A  recommender_system_test\n",
       "4     482F14783456D21B     B  recommender_system_test\n",
       "...                ...   ...                      ...\n",
       "6696  053FB26D6D49EDDC     A  recommender_system_test\n",
       "6697  9D263B8EF15CF188     B  recommender_system_test\n",
       "6698  F2FBBA33F37DEC46     A  recommender_system_test\n",
       "6699  29C92313A98B1176     B  recommender_system_test\n",
       "6700  6715343AFBA285AE     B  recommender_system_test\n",
       "\n",
       "[6701 rows x 3 columns]"
      ]
     },
     "execution_count": 21,
     "metadata": {},
     "output_type": "execute_result"
    }
   ],
   "source": [
    "# выведем пользователей необходимого теста\n",
    "rec_sys_test = participants.query('ab_test == \"recommender_system_test\"')\n",
    "rec_sys_test"
   ]
  },
  {
   "cell_type": "code",
   "execution_count": 22,
   "metadata": {},
   "outputs": [
    {
     "data": {
      "text/html": [
       "<div>\n",
       "<style scoped>\n",
       "    .dataframe tbody tr th:only-of-type {\n",
       "        vertical-align: middle;\n",
       "    }\n",
       "\n",
       "    .dataframe tbody tr th {\n",
       "        vertical-align: top;\n",
       "    }\n",
       "\n",
       "    .dataframe thead th {\n",
       "        text-align: right;\n",
       "    }\n",
       "</style>\n",
       "<table border=\"1\" class=\"dataframe\">\n",
       "  <thead>\n",
       "    <tr style=\"text-align: right;\">\n",
       "      <th></th>\n",
       "      <th>group</th>\n",
       "      <th>user_id</th>\n",
       "    </tr>\n",
       "  </thead>\n",
       "  <tbody>\n",
       "    <tr>\n",
       "      <td>0</td>\n",
       "      <td>A</td>\n",
       "      <td>3824</td>\n",
       "    </tr>\n",
       "    <tr>\n",
       "      <td>1</td>\n",
       "      <td>B</td>\n",
       "      <td>2877</td>\n",
       "    </tr>\n",
       "  </tbody>\n",
       "</table>\n",
       "</div>"
      ],
      "text/plain": [
       "  group  user_id\n",
       "0     A     3824\n",
       "1     B     2877"
      ]
     },
     "execution_count": 22,
     "metadata": {},
     "output_type": "execute_result"
    }
   ],
   "source": [
    "rec_sys_test.groupby('group').agg({'user_id': 'nunique'}).sort_values(by='user_id', ascending=False).reset_index()"
   ]
  },
  {
   "cell_type": "markdown",
   "metadata": {},
   "source": [
    "*Смещение в сторону выборки А, она состовляет 57% от общего числа пользователей. Выборка не совсем равна. Делаю вывод, что при проведении теста были пожертвованы некоторые показатели*"
   ]
  },
  {
   "cell_type": "markdown",
   "metadata": {},
   "source": [
    "### Узнать, встречаются ли в выборках одни и те же пользователи"
   ]
  },
  {
   "cell_type": "code",
   "execution_count": 23,
   "metadata": {},
   "outputs": [
    {
     "data": {
      "text/html": [
       "<div>\n",
       "<style scoped>\n",
       "    .dataframe tbody tr th:only-of-type {\n",
       "        vertical-align: middle;\n",
       "    }\n",
       "\n",
       "    .dataframe tbody tr th {\n",
       "        vertical-align: top;\n",
       "    }\n",
       "\n",
       "    .dataframe thead th {\n",
       "        text-align: right;\n",
       "    }\n",
       "</style>\n",
       "<table border=\"1\" class=\"dataframe\">\n",
       "  <thead>\n",
       "    <tr style=\"text-align: right;\">\n",
       "      <th></th>\n",
       "      <th>user_id</th>\n",
       "      <th>ab_test</th>\n",
       "    </tr>\n",
       "  </thead>\n",
       "  <tbody>\n",
       "    <tr>\n",
       "      <td>0</td>\n",
       "      <td>000ABE35EE11412F</td>\n",
       "      <td>1</td>\n",
       "    </tr>\n",
       "    <tr>\n",
       "      <td>1</td>\n",
       "      <td>001064FEAAB631A1</td>\n",
       "      <td>1</td>\n",
       "    </tr>\n",
       "    <tr>\n",
       "      <td>2</td>\n",
       "      <td>0010A1C096941592</td>\n",
       "      <td>1</td>\n",
       "    </tr>\n",
       "    <tr>\n",
       "      <td>3</td>\n",
       "      <td>001C05E87D336C59</td>\n",
       "      <td>1</td>\n",
       "    </tr>\n",
       "    <tr>\n",
       "      <td>4</td>\n",
       "      <td>00341D8401F0F665</td>\n",
       "      <td>1</td>\n",
       "    </tr>\n",
       "    <tr>\n",
       "      <td>...</td>\n",
       "      <td>...</td>\n",
       "      <td>...</td>\n",
       "    </tr>\n",
       "    <tr>\n",
       "      <td>6696</td>\n",
       "      <td>FFC2C5F898D1245B</td>\n",
       "      <td>1</td>\n",
       "    </tr>\n",
       "    <tr>\n",
       "      <td>6697</td>\n",
       "      <td>FFC53FD45DDA5EE8</td>\n",
       "      <td>1</td>\n",
       "    </tr>\n",
       "    <tr>\n",
       "      <td>6698</td>\n",
       "      <td>FFE858A7845F005E</td>\n",
       "      <td>1</td>\n",
       "    </tr>\n",
       "    <tr>\n",
       "      <td>6699</td>\n",
       "      <td>FFED90241D04503F</td>\n",
       "      <td>1</td>\n",
       "    </tr>\n",
       "    <tr>\n",
       "      <td>6700</td>\n",
       "      <td>FFF28D02B1EACBE1</td>\n",
       "      <td>1</td>\n",
       "    </tr>\n",
       "  </tbody>\n",
       "</table>\n",
       "<p>6701 rows × 2 columns</p>\n",
       "</div>"
      ],
      "text/plain": [
       "               user_id  ab_test\n",
       "0     000ABE35EE11412F        1\n",
       "1     001064FEAAB631A1        1\n",
       "2     0010A1C096941592        1\n",
       "3     001C05E87D336C59        1\n",
       "4     00341D8401F0F665        1\n",
       "...                ...      ...\n",
       "6696  FFC2C5F898D1245B        1\n",
       "6697  FFC53FD45DDA5EE8        1\n",
       "6698  FFE858A7845F005E        1\n",
       "6699  FFED90241D04503F        1\n",
       "6700  FFF28D02B1EACBE1        1\n",
       "\n",
       "[6701 rows x 2 columns]"
      ]
     },
     "execution_count": 23,
     "metadata": {},
     "output_type": "execute_result"
    }
   ],
   "source": [
    "# проверим в скольких группах есть пользователи. 1 - одна группа, 2 - две группы\n",
    "chek_group = rec_sys_test.pivot_table(index='user_id', values='ab_test',aggfunc='count').reset_index()\n",
    "chek_group"
   ]
  },
  {
   "cell_type": "code",
   "execution_count": 24,
   "metadata": {},
   "outputs": [
    {
     "data": {
      "text/plain": [
       "1    6701\n",
       "Name: ab_test, dtype: int64"
      ]
     },
     "execution_count": 24,
     "metadata": {},
     "output_type": "execute_result"
    }
   ],
   "source": [
    "# посмотрим количество человек в каждой группе\n",
    "chek_group['ab_test'].value_counts()"
   ]
  },
  {
   "cell_type": "markdown",
   "metadata": {},
   "source": [
    "*Все пользователи в разных выборках, несмотря на то, что есть пользователи в двух разных тестах*"
   ]
  },
  {
   "cell_type": "markdown",
   "metadata": {},
   "source": [
    "### Узнать как число событий распределено по дням"
   ]
  },
  {
   "cell_type": "code",
   "execution_count": 25,
   "metadata": {},
   "outputs": [
    {
     "data": {
      "text/html": [
       "<div>\n",
       "<style scoped>\n",
       "    .dataframe tbody tr th:only-of-type {\n",
       "        vertical-align: middle;\n",
       "    }\n",
       "\n",
       "    .dataframe tbody tr th {\n",
       "        vertical-align: top;\n",
       "    }\n",
       "\n",
       "    .dataframe thead th {\n",
       "        text-align: right;\n",
       "    }\n",
       "</style>\n",
       "<table border=\"1\" class=\"dataframe\">\n",
       "  <thead>\n",
       "    <tr style=\"text-align: right;\">\n",
       "      <th></th>\n",
       "      <th>user_id</th>\n",
       "      <th>event_dt</th>\n",
       "      <th>event_name</th>\n",
       "      <th>details</th>\n",
       "      <th>day</th>\n",
       "    </tr>\n",
       "  </thead>\n",
       "  <tbody>\n",
       "    <tr>\n",
       "      <td>0</td>\n",
       "      <td>E1BDDCE0DAFA2679</td>\n",
       "      <td>2020-12-07 20:22:03</td>\n",
       "      <td>purchase</td>\n",
       "      <td>99.99</td>\n",
       "      <td>7</td>\n",
       "    </tr>\n",
       "    <tr>\n",
       "      <td>1</td>\n",
       "      <td>7B6452F081F49504</td>\n",
       "      <td>2020-12-07 09:22:53</td>\n",
       "      <td>purchase</td>\n",
       "      <td>9.99</td>\n",
       "      <td>7</td>\n",
       "    </tr>\n",
       "    <tr>\n",
       "      <td>2</td>\n",
       "      <td>9CD9F34546DF254C</td>\n",
       "      <td>2020-12-07 12:59:29</td>\n",
       "      <td>purchase</td>\n",
       "      <td>4.99</td>\n",
       "      <td>7</td>\n",
       "    </tr>\n",
       "    <tr>\n",
       "      <td>3</td>\n",
       "      <td>96F27A054B191457</td>\n",
       "      <td>2020-12-07 04:02:40</td>\n",
       "      <td>purchase</td>\n",
       "      <td>4.99</td>\n",
       "      <td>7</td>\n",
       "    </tr>\n",
       "    <tr>\n",
       "      <td>4</td>\n",
       "      <td>1FD7660FDF94CA1F</td>\n",
       "      <td>2020-12-07 10:15:09</td>\n",
       "      <td>purchase</td>\n",
       "      <td>4.99</td>\n",
       "      <td>7</td>\n",
       "    </tr>\n",
       "    <tr>\n",
       "      <td>...</td>\n",
       "      <td>...</td>\n",
       "      <td>...</td>\n",
       "      <td>...</td>\n",
       "      <td>...</td>\n",
       "      <td>...</td>\n",
       "    </tr>\n",
       "    <tr>\n",
       "      <td>440312</td>\n",
       "      <td>245E85F65C358E08</td>\n",
       "      <td>2020-12-30 19:35:55</td>\n",
       "      <td>login</td>\n",
       "      <td>NaN</td>\n",
       "      <td>30</td>\n",
       "    </tr>\n",
       "    <tr>\n",
       "      <td>440313</td>\n",
       "      <td>9385A108F5A0A7A7</td>\n",
       "      <td>2020-12-30 10:54:15</td>\n",
       "      <td>login</td>\n",
       "      <td>NaN</td>\n",
       "      <td>30</td>\n",
       "    </tr>\n",
       "    <tr>\n",
       "      <td>440314</td>\n",
       "      <td>DB650B7559AC6EAC</td>\n",
       "      <td>2020-12-30 10:59:09</td>\n",
       "      <td>login</td>\n",
       "      <td>NaN</td>\n",
       "      <td>30</td>\n",
       "    </tr>\n",
       "    <tr>\n",
       "      <td>440315</td>\n",
       "      <td>F80C9BDDEA02E53C</td>\n",
       "      <td>2020-12-30 09:53:39</td>\n",
       "      <td>login</td>\n",
       "      <td>NaN</td>\n",
       "      <td>30</td>\n",
       "    </tr>\n",
       "    <tr>\n",
       "      <td>440316</td>\n",
       "      <td>7AEC61159B672CC5</td>\n",
       "      <td>2020-12-30 11:36:13</td>\n",
       "      <td>login</td>\n",
       "      <td>NaN</td>\n",
       "      <td>30</td>\n",
       "    </tr>\n",
       "  </tbody>\n",
       "</table>\n",
       "<p>440317 rows × 5 columns</p>\n",
       "</div>"
      ],
      "text/plain": [
       "                 user_id            event_dt event_name  details  day\n",
       "0       E1BDDCE0DAFA2679 2020-12-07 20:22:03   purchase    99.99    7\n",
       "1       7B6452F081F49504 2020-12-07 09:22:53   purchase     9.99    7\n",
       "2       9CD9F34546DF254C 2020-12-07 12:59:29   purchase     4.99    7\n",
       "3       96F27A054B191457 2020-12-07 04:02:40   purchase     4.99    7\n",
       "4       1FD7660FDF94CA1F 2020-12-07 10:15:09   purchase     4.99    7\n",
       "...                  ...                 ...        ...      ...  ...\n",
       "440312  245E85F65C358E08 2020-12-30 19:35:55      login      NaN   30\n",
       "440313  9385A108F5A0A7A7 2020-12-30 10:54:15      login      NaN   30\n",
       "440314  DB650B7559AC6EAC 2020-12-30 10:59:09      login      NaN   30\n",
       "440315  F80C9BDDEA02E53C 2020-12-30 09:53:39      login      NaN   30\n",
       "440316  7AEC61159B672CC5 2020-12-30 11:36:13      login      NaN   30\n",
       "\n",
       "[440317 rows x 5 columns]"
      ]
     },
     "execution_count": 25,
     "metadata": {},
     "output_type": "execute_result"
    }
   ],
   "source": [
    "events['event_dt'] = pd.to_datetime(events['event_dt'])\n",
    "events['day'] = events['event_dt'].dt.day\n",
    "events"
   ]
  },
  {
   "cell_type": "code",
   "execution_count": 26,
   "metadata": {},
   "outputs": [
    {
     "data": {
      "image/png": "[encoded data removed]",
      "text/plain": [
       "<Figure size 432x288 with 1 Axes>"
      ]
     },
     "metadata": {
      "needs_background": "light"
     },
     "output_type": "display_data"
    }
   ],
   "source": [
    "events.groupby('day')['event_name'].count().reset_index().sort_values(by='day')\n",
    "events.groupby('day')['event_name'].count().plot()\n",
    "plt.xlabel('Количество дней')\n",
    "plt.ylabel('Количество событий')\n",
    "plt.title('График распределения количества дней к количеству событий')\n",
    "plt.grid(True)\n",
    "plt.show()\n"
   ]
  },
  {
   "cell_type": "markdown",
   "metadata": {},
   "source": [
    "*Планомерно увеличивается количество событий до пика - 21 декабря, после чего, по мере приближения нового года, количество событий(заходов в магазин) падают. Предпраздничные дни дают о себе знать.*"
   ]
  },
  {
   "cell_type": "markdown",
   "metadata": {},
   "source": [
    "###  Количество событий на пользователя одинаково распределены в выборках?"
   ]
  },
  {
   "cell_type": "code",
   "execution_count": 27,
   "metadata": {},
   "outputs": [
    {
     "data": {
      "text/html": [
       "<div>\n",
       "<style scoped>\n",
       "    .dataframe tbody tr th:only-of-type {\n",
       "        vertical-align: middle;\n",
       "    }\n",
       "\n",
       "    .dataframe tbody tr th {\n",
       "        vertical-align: top;\n",
       "    }\n",
       "\n",
       "    .dataframe thead th {\n",
       "        text-align: right;\n",
       "    }\n",
       "</style>\n",
       "<table border=\"1\" class=\"dataframe\">\n",
       "  <thead>\n",
       "    <tr style=\"text-align: right;\">\n",
       "      <th></th>\n",
       "      <th>user_id</th>\n",
       "      <th>group</th>\n",
       "      <th>ab_test</th>\n",
       "      <th>event_dt</th>\n",
       "      <th>event_name</th>\n",
       "      <th>details</th>\n",
       "      <th>day</th>\n",
       "    </tr>\n",
       "  </thead>\n",
       "  <tbody>\n",
       "    <tr>\n",
       "      <td>0</td>\n",
       "      <td>D1ABA3E2887B6A73</td>\n",
       "      <td>A</td>\n",
       "      <td>recommender_system_test</td>\n",
       "      <td>2020-12-07 14:43:27</td>\n",
       "      <td>purchase</td>\n",
       "      <td>99.99</td>\n",
       "      <td>7</td>\n",
       "    </tr>\n",
       "    <tr>\n",
       "      <td>1</td>\n",
       "      <td>D1ABA3E2887B6A73</td>\n",
       "      <td>A</td>\n",
       "      <td>recommender_system_test</td>\n",
       "      <td>2020-12-25 00:04:56</td>\n",
       "      <td>purchase</td>\n",
       "      <td>4.99</td>\n",
       "      <td>25</td>\n",
       "    </tr>\n",
       "    <tr>\n",
       "      <td>2</td>\n",
       "      <td>D1ABA3E2887B6A73</td>\n",
       "      <td>A</td>\n",
       "      <td>recommender_system_test</td>\n",
       "      <td>2020-12-07 14:43:29</td>\n",
       "      <td>product_cart</td>\n",
       "      <td>NaN</td>\n",
       "      <td>7</td>\n",
       "    </tr>\n",
       "    <tr>\n",
       "      <td>3</td>\n",
       "      <td>D1ABA3E2887B6A73</td>\n",
       "      <td>A</td>\n",
       "      <td>recommender_system_test</td>\n",
       "      <td>2020-12-25 00:04:57</td>\n",
       "      <td>product_cart</td>\n",
       "      <td>NaN</td>\n",
       "      <td>25</td>\n",
       "    </tr>\n",
       "    <tr>\n",
       "      <td>4</td>\n",
       "      <td>D1ABA3E2887B6A73</td>\n",
       "      <td>A</td>\n",
       "      <td>recommender_system_test</td>\n",
       "      <td>2020-12-07 14:43:27</td>\n",
       "      <td>product_page</td>\n",
       "      <td>NaN</td>\n",
       "      <td>7</td>\n",
       "    </tr>\n",
       "    <tr>\n",
       "      <td>...</td>\n",
       "      <td>...</td>\n",
       "      <td>...</td>\n",
       "      <td>...</td>\n",
       "      <td>...</td>\n",
       "      <td>...</td>\n",
       "      <td>...</td>\n",
       "      <td>...</td>\n",
       "    </tr>\n",
       "    <tr>\n",
       "      <td>24693</td>\n",
       "      <td>6715343AFBA285AE</td>\n",
       "      <td>B</td>\n",
       "      <td>recommender_system_test</td>\n",
       "      <td>2020-12-07 10:12:15</td>\n",
       "      <td>login</td>\n",
       "      <td>NaN</td>\n",
       "      <td>7</td>\n",
       "    </tr>\n",
       "    <tr>\n",
       "      <td>24694</td>\n",
       "      <td>6715343AFBA285AE</td>\n",
       "      <td>B</td>\n",
       "      <td>recommender_system_test</td>\n",
       "      <td>2020-12-08 22:51:16</td>\n",
       "      <td>login</td>\n",
       "      <td>NaN</td>\n",
       "      <td>8</td>\n",
       "    </tr>\n",
       "    <tr>\n",
       "      <td>24695</td>\n",
       "      <td>6715343AFBA285AE</td>\n",
       "      <td>B</td>\n",
       "      <td>recommender_system_test</td>\n",
       "      <td>2020-12-09 02:28:03</td>\n",
       "      <td>login</td>\n",
       "      <td>NaN</td>\n",
       "      <td>9</td>\n",
       "    </tr>\n",
       "    <tr>\n",
       "      <td>24696</td>\n",
       "      <td>6715343AFBA285AE</td>\n",
       "      <td>B</td>\n",
       "      <td>recommender_system_test</td>\n",
       "      <td>2020-12-10 22:55:14</td>\n",
       "      <td>login</td>\n",
       "      <td>NaN</td>\n",
       "      <td>10</td>\n",
       "    </tr>\n",
       "    <tr>\n",
       "      <td>24697</td>\n",
       "      <td>6715343AFBA285AE</td>\n",
       "      <td>B</td>\n",
       "      <td>recommender_system_test</td>\n",
       "      <td>2020-12-14 12:40:41</td>\n",
       "      <td>login</td>\n",
       "      <td>NaN</td>\n",
       "      <td>14</td>\n",
       "    </tr>\n",
       "  </tbody>\n",
       "</table>\n",
       "<p>24698 rows × 7 columns</p>\n",
       "</div>"
      ],
      "text/plain": [
       "                user_id group                  ab_test            event_dt  \\\n",
       "0      D1ABA3E2887B6A73     A  recommender_system_test 2020-12-07 14:43:27   \n",
       "1      D1ABA3E2887B6A73     A  recommender_system_test 2020-12-25 00:04:56   \n",
       "2      D1ABA3E2887B6A73     A  recommender_system_test 2020-12-07 14:43:29   \n",
       "3      D1ABA3E2887B6A73     A  recommender_system_test 2020-12-25 00:04:57   \n",
       "4      D1ABA3E2887B6A73     A  recommender_system_test 2020-12-07 14:43:27   \n",
       "...                 ...   ...                      ...                 ...   \n",
       "24693  6715343AFBA285AE     B  recommender_system_test 2020-12-07 10:12:15   \n",
       "24694  6715343AFBA285AE     B  recommender_system_test 2020-12-08 22:51:16   \n",
       "24695  6715343AFBA285AE     B  recommender_system_test 2020-12-09 02:28:03   \n",
       "24696  6715343AFBA285AE     B  recommender_system_test 2020-12-10 22:55:14   \n",
       "24697  6715343AFBA285AE     B  recommender_system_test 2020-12-14 12:40:41   \n",
       "\n",
       "         event_name  details  day  \n",
       "0          purchase    99.99    7  \n",
       "1          purchase     4.99   25  \n",
       "2      product_cart      NaN    7  \n",
       "3      product_cart      NaN   25  \n",
       "4      product_page      NaN    7  \n",
       "...             ...      ...  ...  \n",
       "24693         login      NaN    7  \n",
       "24694         login      NaN    8  \n",
       "24695         login      NaN    9  \n",
       "24696         login      NaN   10  \n",
       "24697         login      NaN   14  \n",
       "\n",
       "[24698 rows x 7 columns]"
      ]
     },
     "execution_count": 27,
     "metadata": {},
     "output_type": "execute_result"
    }
   ],
   "source": [
    "test_events = rec_sys_test.merge(events,left_on='user_id',right_on='user_id')\n",
    "test_events"
   ]
  },
  {
   "cell_type": "code",
   "execution_count": 28,
   "metadata": {},
   "outputs": [
    {
     "data": {
      "text/plain": [
       "0"
      ]
     },
     "execution_count": 28,
     "metadata": {},
     "output_type": "execute_result"
    }
   ],
   "source": [
    "test_events.duplicated().sum()"
   ]
  },
  {
   "cell_type": "code",
   "execution_count": 29,
   "metadata": {},
   "outputs": [
    {
     "data": {
      "image/png": "[encoded data removed]",
      "text/plain": [
       "<Figure size 432x288 with 1 Axes>"
      ]
     },
     "metadata": {
      "needs_background": "light"
     },
     "output_type": "display_data"
    }
   ],
   "source": [
    "fig, ax = plt.subplots()\n",
    "test_events.query('group==\"A\"').groupby('user_id')['event_name'].count().hist()\n",
    "plt.xlabel('Количество событий')\n",
    "plt.ylabel('Количество пользователей')\n",
    "plt.title('Распределение количества событий к пользователям группы А')\n",
    "plt.show()"
   ]
  },
  {
   "cell_type": "code",
   "execution_count": 30,
   "metadata": {},
   "outputs": [
    {
     "data": {
      "image/png": "[encoded data removed]",
      "text/plain": [
       "<Figure size 432x288 with 1 Axes>"
      ]
     },
     "metadata": {
      "needs_background": "light"
     },
     "output_type": "display_data"
    }
   ],
   "source": [
    "fig, ax = plt.subplots()\n",
    "test_events.query('group==\"B\"').groupby('user_id')['event_name'].count().hist()\n",
    "plt.xlabel('Количество событий')\n",
    "plt.ylabel('Количество пользователей')\n",
    "plt.title('Распределение количества событий к пользователям группы B')\n",
    "plt.show()"
   ]
  },
  {
   "cell_type": "markdown",
   "metadata": {},
   "source": [
    "*В группе А количество событий на пользователя гораздо больше, что также внесет отрицательно действие на решение теста и расчет конверсии*"
   ]
  },
  {
   "cell_type": "markdown",
   "metadata": {},
   "source": [
    "### Узнать как меняется конверсия в воронке на разных этапах"
   ]
  },
  {
   "cell_type": "code",
   "execution_count": 31,
   "metadata": {},
   "outputs": [
    {
     "data": {
      "text/html": [
       "<div>\n",
       "<style scoped>\n",
       "    .dataframe tbody tr th:only-of-type {\n",
       "        vertical-align: middle;\n",
       "    }\n",
       "\n",
       "    .dataframe tbody tr th {\n",
       "        vertical-align: top;\n",
       "    }\n",
       "\n",
       "    .dataframe thead th {\n",
       "        text-align: right;\n",
       "    }\n",
       "</style>\n",
       "<table border=\"1\" class=\"dataframe\">\n",
       "  <thead>\n",
       "    <tr style=\"text-align: right;\">\n",
       "      <th></th>\n",
       "      <th>user_id</th>\n",
       "      <th>first_date</th>\n",
       "      <th>region</th>\n",
       "      <th>device</th>\n",
       "    </tr>\n",
       "  </thead>\n",
       "  <tbody>\n",
       "    <tr>\n",
       "      <td>0</td>\n",
       "      <td>D72A72121175D8BE</td>\n",
       "      <td>2020-12-07</td>\n",
       "      <td>EU</td>\n",
       "      <td>PC</td>\n",
       "    </tr>\n",
       "    <tr>\n",
       "      <td>2</td>\n",
       "      <td>2E1BF1D4C37EA01F</td>\n",
       "      <td>2020-12-07</td>\n",
       "      <td>EU</td>\n",
       "      <td>PC</td>\n",
       "    </tr>\n",
       "    <tr>\n",
       "      <td>3</td>\n",
       "      <td>50734A22C0C63768</td>\n",
       "      <td>2020-12-07</td>\n",
       "      <td>EU</td>\n",
       "      <td>iPhone</td>\n",
       "    </tr>\n",
       "    <tr>\n",
       "      <td>7</td>\n",
       "      <td>8942E64218C9A1ED</td>\n",
       "      <td>2020-12-07</td>\n",
       "      <td>EU</td>\n",
       "      <td>PC</td>\n",
       "    </tr>\n",
       "    <tr>\n",
       "      <td>9</td>\n",
       "      <td>FFCEA1179C253104</td>\n",
       "      <td>2020-12-07</td>\n",
       "      <td>EU</td>\n",
       "      <td>Android</td>\n",
       "    </tr>\n",
       "    <tr>\n",
       "      <td>...</td>\n",
       "      <td>...</td>\n",
       "      <td>...</td>\n",
       "      <td>...</td>\n",
       "      <td>...</td>\n",
       "    </tr>\n",
       "    <tr>\n",
       "      <td>61728</td>\n",
       "      <td>1DB53B933257165D</td>\n",
       "      <td>2020-12-20</td>\n",
       "      <td>EU</td>\n",
       "      <td>Android</td>\n",
       "    </tr>\n",
       "    <tr>\n",
       "      <td>61729</td>\n",
       "      <td>538643EB4527ED03</td>\n",
       "      <td>2020-12-20</td>\n",
       "      <td>EU</td>\n",
       "      <td>Mac</td>\n",
       "    </tr>\n",
       "    <tr>\n",
       "      <td>61730</td>\n",
       "      <td>7ADEE837D5D8CBBD</td>\n",
       "      <td>2020-12-20</td>\n",
       "      <td>EU</td>\n",
       "      <td>PC</td>\n",
       "    </tr>\n",
       "    <tr>\n",
       "      <td>61731</td>\n",
       "      <td>1C7D23927835213F</td>\n",
       "      <td>2020-12-20</td>\n",
       "      <td>EU</td>\n",
       "      <td>iPhone</td>\n",
       "    </tr>\n",
       "    <tr>\n",
       "      <td>61732</td>\n",
       "      <td>8F04273BB2860229</td>\n",
       "      <td>2020-12-20</td>\n",
       "      <td>EU</td>\n",
       "      <td>Android</td>\n",
       "    </tr>\n",
       "  </tbody>\n",
       "</table>\n",
       "<p>42340 rows × 4 columns</p>\n",
       "</div>"
      ],
      "text/plain": [
       "                user_id  first_date region   device\n",
       "0      D72A72121175D8BE  2020-12-07     EU       PC\n",
       "2      2E1BF1D4C37EA01F  2020-12-07     EU       PC\n",
       "3      50734A22C0C63768  2020-12-07     EU   iPhone\n",
       "7      8942E64218C9A1ED  2020-12-07     EU       PC\n",
       "9      FFCEA1179C253104  2020-12-07     EU  Android\n",
       "...                 ...         ...    ...      ...\n",
       "61728  1DB53B933257165D  2020-12-20     EU  Android\n",
       "61729  538643EB4527ED03  2020-12-20     EU      Mac\n",
       "61730  7ADEE837D5D8CBBD  2020-12-20     EU       PC\n",
       "61731  1C7D23927835213F  2020-12-20     EU   iPhone\n",
       "61732  8F04273BB2860229  2020-12-20     EU  Android\n",
       "\n",
       "[42340 rows x 4 columns]"
      ]
     },
     "execution_count": 31,
     "metadata": {},
     "output_type": "execute_result"
    }
   ],
   "source": [
    "# отфильтруем пользователей с европейским регионом и до даты остановки набора новых пользователей\n",
    "users_sort = users.query('region == \"EU\" & first_date <=\"2020-12-21\"')\n",
    "users_sort"
   ]
  },
  {
   "cell_type": "code",
   "execution_count": 32,
   "metadata": {},
   "outputs": [
    {
     "data": {
      "text/html": [
       "<div>\n",
       "<style scoped>\n",
       "    .dataframe tbody tr th:only-of-type {\n",
       "        vertical-align: middle;\n",
       "    }\n",
       "\n",
       "    .dataframe tbody tr th {\n",
       "        vertical-align: top;\n",
       "    }\n",
       "\n",
       "    .dataframe thead th {\n",
       "        text-align: right;\n",
       "    }\n",
       "</style>\n",
       "<table border=\"1\" class=\"dataframe\">\n",
       "  <thead>\n",
       "    <tr style=\"text-align: right;\">\n",
       "      <th></th>\n",
       "      <th>user_id</th>\n",
       "      <th>event_dt</th>\n",
       "      <th>event_name</th>\n",
       "      <th>details</th>\n",
       "      <th>day</th>\n",
       "      <th>first_date</th>\n",
       "      <th>region</th>\n",
       "      <th>device</th>\n",
       "      <th>event_date</th>\n",
       "      <th>cnt_days</th>\n",
       "    </tr>\n",
       "  </thead>\n",
       "  <tbody>\n",
       "    <tr>\n",
       "      <td>0</td>\n",
       "      <td>7B6452F081F49504</td>\n",
       "      <td>2020-12-07 09:22:53</td>\n",
       "      <td>purchase</td>\n",
       "      <td>9.99</td>\n",
       "      <td>7</td>\n",
       "      <td>2020-12-07</td>\n",
       "      <td>EU</td>\n",
       "      <td>iPhone</td>\n",
       "      <td>2020-12-07</td>\n",
       "      <td>0 days</td>\n",
       "    </tr>\n",
       "    <tr>\n",
       "      <td>1</td>\n",
       "      <td>7B6452F081F49504</td>\n",
       "      <td>2020-12-09 01:50:37</td>\n",
       "      <td>purchase</td>\n",
       "      <td>4.99</td>\n",
       "      <td>9</td>\n",
       "      <td>2020-12-07</td>\n",
       "      <td>EU</td>\n",
       "      <td>iPhone</td>\n",
       "      <td>2020-12-09</td>\n",
       "      <td>2 days</td>\n",
       "    </tr>\n",
       "    <tr>\n",
       "      <td>2</td>\n",
       "      <td>7B6452F081F49504</td>\n",
       "      <td>2020-12-21 08:04:05</td>\n",
       "      <td>purchase</td>\n",
       "      <td>4.99</td>\n",
       "      <td>21</td>\n",
       "      <td>2020-12-07</td>\n",
       "      <td>EU</td>\n",
       "      <td>iPhone</td>\n",
       "      <td>2020-12-21</td>\n",
       "      <td>14 days</td>\n",
       "    </tr>\n",
       "    <tr>\n",
       "      <td>4</td>\n",
       "      <td>7B6452F081F49504</td>\n",
       "      <td>2020-12-07 09:22:55</td>\n",
       "      <td>product_page</td>\n",
       "      <td>NaN</td>\n",
       "      <td>7</td>\n",
       "      <td>2020-12-07</td>\n",
       "      <td>EU</td>\n",
       "      <td>iPhone</td>\n",
       "      <td>2020-12-07</td>\n",
       "      <td>0 days</td>\n",
       "    </tr>\n",
       "    <tr>\n",
       "      <td>5</td>\n",
       "      <td>7B6452F081F49504</td>\n",
       "      <td>2020-12-09 01:50:38</td>\n",
       "      <td>product_page</td>\n",
       "      <td>NaN</td>\n",
       "      <td>9</td>\n",
       "      <td>2020-12-07</td>\n",
       "      <td>EU</td>\n",
       "      <td>iPhone</td>\n",
       "      <td>2020-12-09</td>\n",
       "      <td>2 days</td>\n",
       "    </tr>\n",
       "    <tr>\n",
       "      <td>...</td>\n",
       "      <td>...</td>\n",
       "      <td>...</td>\n",
       "      <td>...</td>\n",
       "      <td>...</td>\n",
       "      <td>...</td>\n",
       "      <td>...</td>\n",
       "      <td>...</td>\n",
       "      <td>...</td>\n",
       "      <td>...</td>\n",
       "      <td>...</td>\n",
       "    </tr>\n",
       "    <tr>\n",
       "      <td>302646</td>\n",
       "      <td>FE2F3BFF12E5AB13</td>\n",
       "      <td>2020-12-21 09:42:43</td>\n",
       "      <td>login</td>\n",
       "      <td>NaN</td>\n",
       "      <td>21</td>\n",
       "      <td>2020-12-21</td>\n",
       "      <td>EU</td>\n",
       "      <td>Mac</td>\n",
       "      <td>2020-12-21</td>\n",
       "      <td>0 days</td>\n",
       "    </tr>\n",
       "    <tr>\n",
       "      <td>302647</td>\n",
       "      <td>FE2F3BFF12E5AB13</td>\n",
       "      <td>2020-12-23 10:19:10</td>\n",
       "      <td>login</td>\n",
       "      <td>NaN</td>\n",
       "      <td>23</td>\n",
       "      <td>2020-12-21</td>\n",
       "      <td>EU</td>\n",
       "      <td>Mac</td>\n",
       "      <td>2020-12-23</td>\n",
       "      <td>2 days</td>\n",
       "    </tr>\n",
       "    <tr>\n",
       "      <td>302648</td>\n",
       "      <td>FE2F3BFF12E5AB13</td>\n",
       "      <td>2020-12-24 09:28:54</td>\n",
       "      <td>login</td>\n",
       "      <td>NaN</td>\n",
       "      <td>24</td>\n",
       "      <td>2020-12-21</td>\n",
       "      <td>EU</td>\n",
       "      <td>Mac</td>\n",
       "      <td>2020-12-24</td>\n",
       "      <td>3 days</td>\n",
       "    </tr>\n",
       "    <tr>\n",
       "      <td>302649</td>\n",
       "      <td>7836B9BF6BC33911</td>\n",
       "      <td>2020-12-21 19:49:46</td>\n",
       "      <td>login</td>\n",
       "      <td>NaN</td>\n",
       "      <td>21</td>\n",
       "      <td>2020-12-21</td>\n",
       "      <td>EU</td>\n",
       "      <td>Android</td>\n",
       "      <td>2020-12-21</td>\n",
       "      <td>0 days</td>\n",
       "    </tr>\n",
       "    <tr>\n",
       "      <td>302650</td>\n",
       "      <td>7836B9BF6BC33911</td>\n",
       "      <td>2020-12-24 06:56:08</td>\n",
       "      <td>login</td>\n",
       "      <td>NaN</td>\n",
       "      <td>24</td>\n",
       "      <td>2020-12-21</td>\n",
       "      <td>EU</td>\n",
       "      <td>Android</td>\n",
       "      <td>2020-12-24</td>\n",
       "      <td>3 days</td>\n",
       "    </tr>\n",
       "  </tbody>\n",
       "</table>\n",
       "<p>291160 rows × 10 columns</p>\n",
       "</div>"
      ],
      "text/plain": [
       "                 user_id            event_dt    event_name  details  day  \\\n",
       "0       7B6452F081F49504 2020-12-07 09:22:53      purchase     9.99    7   \n",
       "1       7B6452F081F49504 2020-12-09 01:50:37      purchase     4.99    9   \n",
       "2       7B6452F081F49504 2020-12-21 08:04:05      purchase     4.99   21   \n",
       "4       7B6452F081F49504 2020-12-07 09:22:55  product_page      NaN    7   \n",
       "5       7B6452F081F49504 2020-12-09 01:50:38  product_page      NaN    9   \n",
       "...                  ...                 ...           ...      ...  ...   \n",
       "302646  FE2F3BFF12E5AB13 2020-12-21 09:42:43         login      NaN   21   \n",
       "302647  FE2F3BFF12E5AB13 2020-12-23 10:19:10         login      NaN   23   \n",
       "302648  FE2F3BFF12E5AB13 2020-12-24 09:28:54         login      NaN   24   \n",
       "302649  7836B9BF6BC33911 2020-12-21 19:49:46         login      NaN   21   \n",
       "302650  7836B9BF6BC33911 2020-12-24 06:56:08         login      NaN   24   \n",
       "\n",
       "       first_date region   device event_date cnt_days  \n",
       "0      2020-12-07     EU   iPhone 2020-12-07   0 days  \n",
       "1      2020-12-07     EU   iPhone 2020-12-09   2 days  \n",
       "2      2020-12-07     EU   iPhone 2020-12-21  14 days  \n",
       "4      2020-12-07     EU   iPhone 2020-12-07   0 days  \n",
       "5      2020-12-07     EU   iPhone 2020-12-09   2 days  \n",
       "...           ...    ...      ...        ...      ...  \n",
       "302646 2020-12-21     EU      Mac 2020-12-21   0 days  \n",
       "302647 2020-12-21     EU      Mac 2020-12-23   2 days  \n",
       "302648 2020-12-21     EU      Mac 2020-12-24   3 days  \n",
       "302649 2020-12-21     EU  Android 2020-12-21   0 days  \n",
       "302650 2020-12-21     EU  Android 2020-12-24   3 days  \n",
       "\n",
       "[291160 rows x 10 columns]"
      ]
     },
     "execution_count": 32,
     "metadata": {},
     "output_type": "execute_result"
    }
   ],
   "source": [
    "# oтфильтруем события, которые превышают двух недельный срок с момента регистрации пользователей\n",
    "event_user = events.merge(users_sort, left_on='user_id', right_on='user_id')\n",
    "event_user['event_date'] = event_user['event_dt'].dt.date\n",
    "event_user['event_date'] = pd.to_datetime(event_user['event_date'])\n",
    "event_user['first_date'] = pd.to_datetime(event_user['first_date'])\n",
    "event_user['cnt_days'] = event_user['event_date'] - event_user['first_date']\n",
    "event_user = event_user.query('cnt_days <=\"14 days\"')\n",
    "event_user"
   ]
  },
  {
   "cell_type": "code",
   "execution_count": 33,
   "metadata": {},
   "outputs": [
    {
     "data": {
      "text/html": [
       "<div>\n",
       "<style scoped>\n",
       "    .dataframe tbody tr th:only-of-type {\n",
       "        vertical-align: middle;\n",
       "    }\n",
       "\n",
       "    .dataframe tbody tr th {\n",
       "        vertical-align: top;\n",
       "    }\n",
       "\n",
       "    .dataframe thead th {\n",
       "        text-align: right;\n",
       "    }\n",
       "</style>\n",
       "<table border=\"1\" class=\"dataframe\">\n",
       "  <thead>\n",
       "    <tr style=\"text-align: right;\">\n",
       "      <th></th>\n",
       "      <th>user_id</th>\n",
       "      <th>group</th>\n",
       "      <th>ab_test</th>\n",
       "      <th>event_dt</th>\n",
       "      <th>event_name</th>\n",
       "      <th>details</th>\n",
       "      <th>day</th>\n",
       "      <th>first_date</th>\n",
       "      <th>region</th>\n",
       "      <th>device</th>\n",
       "      <th>event_date</th>\n",
       "      <th>cnt_days</th>\n",
       "    </tr>\n",
       "  </thead>\n",
       "  <tbody>\n",
       "    <tr>\n",
       "      <td>0</td>\n",
       "      <td>D1ABA3E2887B6A73</td>\n",
       "      <td>A</td>\n",
       "      <td>recommender_system_test</td>\n",
       "      <td>2020-12-07 14:43:27</td>\n",
       "      <td>purchase</td>\n",
       "      <td>99.99</td>\n",
       "      <td>7</td>\n",
       "      <td>2020-12-07</td>\n",
       "      <td>EU</td>\n",
       "      <td>PC</td>\n",
       "      <td>2020-12-07</td>\n",
       "      <td>0 days</td>\n",
       "    </tr>\n",
       "    <tr>\n",
       "      <td>1</td>\n",
       "      <td>D1ABA3E2887B6A73</td>\n",
       "      <td>A</td>\n",
       "      <td>recommender_system_test</td>\n",
       "      <td>2020-12-07 14:43:29</td>\n",
       "      <td>product_cart</td>\n",
       "      <td>NaN</td>\n",
       "      <td>7</td>\n",
       "      <td>2020-12-07</td>\n",
       "      <td>EU</td>\n",
       "      <td>PC</td>\n",
       "      <td>2020-12-07</td>\n",
       "      <td>0 days</td>\n",
       "    </tr>\n",
       "    <tr>\n",
       "      <td>2</td>\n",
       "      <td>D1ABA3E2887B6A73</td>\n",
       "      <td>A</td>\n",
       "      <td>recommender_system_test</td>\n",
       "      <td>2020-12-07 14:43:27</td>\n",
       "      <td>product_page</td>\n",
       "      <td>NaN</td>\n",
       "      <td>7</td>\n",
       "      <td>2020-12-07</td>\n",
       "      <td>EU</td>\n",
       "      <td>PC</td>\n",
       "      <td>2020-12-07</td>\n",
       "      <td>0 days</td>\n",
       "    </tr>\n",
       "    <tr>\n",
       "      <td>3</td>\n",
       "      <td>D1ABA3E2887B6A73</td>\n",
       "      <td>A</td>\n",
       "      <td>recommender_system_test</td>\n",
       "      <td>2020-12-07 14:43:27</td>\n",
       "      <td>login</td>\n",
       "      <td>NaN</td>\n",
       "      <td>7</td>\n",
       "      <td>2020-12-07</td>\n",
       "      <td>EU</td>\n",
       "      <td>PC</td>\n",
       "      <td>2020-12-07</td>\n",
       "      <td>0 days</td>\n",
       "    </tr>\n",
       "    <tr>\n",
       "      <td>4</td>\n",
       "      <td>A7A3664BD6242119</td>\n",
       "      <td>A</td>\n",
       "      <td>recommender_system_test</td>\n",
       "      <td>2020-12-20 15:46:06</td>\n",
       "      <td>product_page</td>\n",
       "      <td>NaN</td>\n",
       "      <td>20</td>\n",
       "      <td>2020-12-20</td>\n",
       "      <td>EU</td>\n",
       "      <td>iPhone</td>\n",
       "      <td>2020-12-20</td>\n",
       "      <td>0 days</td>\n",
       "    </tr>\n",
       "    <tr>\n",
       "      <td>...</td>\n",
       "      <td>...</td>\n",
       "      <td>...</td>\n",
       "      <td>...</td>\n",
       "      <td>...</td>\n",
       "      <td>...</td>\n",
       "      <td>...</td>\n",
       "      <td>...</td>\n",
       "      <td>...</td>\n",
       "      <td>...</td>\n",
       "      <td>...</td>\n",
       "      <td>...</td>\n",
       "      <td>...</td>\n",
       "    </tr>\n",
       "    <tr>\n",
       "      <td>22823</td>\n",
       "      <td>80712ED4EA1B52A5</td>\n",
       "      <td>A</td>\n",
       "      <td>recommender_system_test</td>\n",
       "      <td>2020-12-15 20:10:06</td>\n",
       "      <td>product_page</td>\n",
       "      <td>NaN</td>\n",
       "      <td>15</td>\n",
       "      <td>2020-12-14</td>\n",
       "      <td>EU</td>\n",
       "      <td>Android</td>\n",
       "      <td>2020-12-15</td>\n",
       "      <td>1 days</td>\n",
       "    </tr>\n",
       "    <tr>\n",
       "      <td>22824</td>\n",
       "      <td>80712ED4EA1B52A5</td>\n",
       "      <td>A</td>\n",
       "      <td>recommender_system_test</td>\n",
       "      <td>2020-12-20 20:01:34</td>\n",
       "      <td>product_page</td>\n",
       "      <td>NaN</td>\n",
       "      <td>20</td>\n",
       "      <td>2020-12-14</td>\n",
       "      <td>EU</td>\n",
       "      <td>Android</td>\n",
       "      <td>2020-12-20</td>\n",
       "      <td>6 days</td>\n",
       "    </tr>\n",
       "    <tr>\n",
       "      <td>22825</td>\n",
       "      <td>80712ED4EA1B52A5</td>\n",
       "      <td>A</td>\n",
       "      <td>recommender_system_test</td>\n",
       "      <td>2020-12-14 05:48:50</td>\n",
       "      <td>login</td>\n",
       "      <td>NaN</td>\n",
       "      <td>14</td>\n",
       "      <td>2020-12-14</td>\n",
       "      <td>EU</td>\n",
       "      <td>Android</td>\n",
       "      <td>2020-12-14</td>\n",
       "      <td>0 days</td>\n",
       "    </tr>\n",
       "    <tr>\n",
       "      <td>22826</td>\n",
       "      <td>80712ED4EA1B52A5</td>\n",
       "      <td>A</td>\n",
       "      <td>recommender_system_test</td>\n",
       "      <td>2020-12-15 20:10:03</td>\n",
       "      <td>login</td>\n",
       "      <td>NaN</td>\n",
       "      <td>15</td>\n",
       "      <td>2020-12-14</td>\n",
       "      <td>EU</td>\n",
       "      <td>Android</td>\n",
       "      <td>2020-12-15</td>\n",
       "      <td>1 days</td>\n",
       "    </tr>\n",
       "    <tr>\n",
       "      <td>22827</td>\n",
       "      <td>80712ED4EA1B52A5</td>\n",
       "      <td>A</td>\n",
       "      <td>recommender_system_test</td>\n",
       "      <td>2020-12-20 20:01:32</td>\n",
       "      <td>login</td>\n",
       "      <td>NaN</td>\n",
       "      <td>20</td>\n",
       "      <td>2020-12-14</td>\n",
       "      <td>EU</td>\n",
       "      <td>Android</td>\n",
       "      <td>2020-12-20</td>\n",
       "      <td>6 days</td>\n",
       "    </tr>\n",
       "  </tbody>\n",
       "</table>\n",
       "<p>22828 rows × 12 columns</p>\n",
       "</div>"
      ],
      "text/plain": [
       "                user_id group                  ab_test            event_dt  \\\n",
       "0      D1ABA3E2887B6A73     A  recommender_system_test 2020-12-07 14:43:27   \n",
       "1      D1ABA3E2887B6A73     A  recommender_system_test 2020-12-07 14:43:29   \n",
       "2      D1ABA3E2887B6A73     A  recommender_system_test 2020-12-07 14:43:27   \n",
       "3      D1ABA3E2887B6A73     A  recommender_system_test 2020-12-07 14:43:27   \n",
       "4      A7A3664BD6242119     A  recommender_system_test 2020-12-20 15:46:06   \n",
       "...                 ...   ...                      ...                 ...   \n",
       "22823  80712ED4EA1B52A5     A  recommender_system_test 2020-12-15 20:10:06   \n",
       "22824  80712ED4EA1B52A5     A  recommender_system_test 2020-12-20 20:01:34   \n",
       "22825  80712ED4EA1B52A5     A  recommender_system_test 2020-12-14 05:48:50   \n",
       "22826  80712ED4EA1B52A5     A  recommender_system_test 2020-12-15 20:10:03   \n",
       "22827  80712ED4EA1B52A5     A  recommender_system_test 2020-12-20 20:01:32   \n",
       "\n",
       "         event_name  details  day first_date region   device event_date  \\\n",
       "0          purchase    99.99    7 2020-12-07     EU       PC 2020-12-07   \n",
       "1      product_cart      NaN    7 2020-12-07     EU       PC 2020-12-07   \n",
       "2      product_page      NaN    7 2020-12-07     EU       PC 2020-12-07   \n",
       "3             login      NaN    7 2020-12-07     EU       PC 2020-12-07   \n",
       "4      product_page      NaN   20 2020-12-20     EU   iPhone 2020-12-20   \n",
       "...             ...      ...  ...        ...    ...      ...        ...   \n",
       "22823  product_page      NaN   15 2020-12-14     EU  Android 2020-12-15   \n",
       "22824  product_page      NaN   20 2020-12-14     EU  Android 2020-12-20   \n",
       "22825         login      NaN   14 2020-12-14     EU  Android 2020-12-14   \n",
       "22826         login      NaN   15 2020-12-14     EU  Android 2020-12-15   \n",
       "22827         login      NaN   20 2020-12-14     EU  Android 2020-12-20   \n",
       "\n",
       "      cnt_days  \n",
       "0       0 days  \n",
       "1       0 days  \n",
       "2       0 days  \n",
       "3       0 days  \n",
       "4       0 days  \n",
       "...        ...  \n",
       "22823   1 days  \n",
       "22824   6 days  \n",
       "22825   0 days  \n",
       "22826   1 days  \n",
       "22827   6 days  \n",
       "\n",
       "[22828 rows x 12 columns]"
      ]
     },
     "execution_count": 33,
     "metadata": {},
     "output_type": "execute_result"
    }
   ],
   "source": [
    "# создадим датафрейм с покупателями \n",
    "data = rec_sys_test.merge(event_user, left_on='user_id', right_on='user_id')\n",
    "data"
   ]
  },
  {
   "cell_type": "code",
   "execution_count": 35,
   "metadata": {},
   "outputs": [
    {
     "data": {
      "text/html": [
       "<div>\n",
       "<style scoped>\n",
       "    .dataframe tbody tr th:only-of-type {\n",
       "        vertical-align: middle;\n",
       "    }\n",
       "\n",
       "    .dataframe tbody tr th {\n",
       "        vertical-align: top;\n",
       "    }\n",
       "\n",
       "    .dataframe thead th {\n",
       "        text-align: right;\n",
       "    }\n",
       "</style>\n",
       "<table border=\"1\" class=\"dataframe\">\n",
       "  <thead>\n",
       "    <tr style=\"text-align: right;\">\n",
       "      <th></th>\n",
       "      <th>user_id</th>\n",
       "    </tr>\n",
       "    <tr>\n",
       "      <th>event_name</th>\n",
       "      <th></th>\n",
       "    </tr>\n",
       "  </thead>\n",
       "  <tbody>\n",
       "    <tr>\n",
       "      <td>login</td>\n",
       "      <td>3480</td>\n",
       "    </tr>\n",
       "    <tr>\n",
       "      <td>product_page</td>\n",
       "      <td>2178</td>\n",
       "    </tr>\n",
       "    <tr>\n",
       "      <td>purchase</td>\n",
       "      <td>1082</td>\n",
       "    </tr>\n",
       "    <tr>\n",
       "      <td>product_cart</td>\n",
       "      <td>1026</td>\n",
       "    </tr>\n",
       "  </tbody>\n",
       "</table>\n",
       "</div>"
      ],
      "text/plain": [
       "              user_id\n",
       "event_name           \n",
       "login            3480\n",
       "product_page     2178\n",
       "purchase         1082\n",
       "product_cart     1026"
      ]
     },
     "execution_count": 35,
     "metadata": {},
     "output_type": "execute_result"
    }
   ],
   "source": [
    "# создадим сводную таблицу и найдем конверсию\n",
    "funnel = data.groupby('event_name').agg({'user_id': 'nunique'}).sort_values(by='user_id', ascending=False)\n",
    "funnel"
   ]
  },
  {
   "cell_type": "code",
   "execution_count": 36,
   "metadata": {},
   "outputs": [
    {
     "data": {
      "image/png": "[encoded data removed]",
      "text/plain": [
       "<Figure size 864x432 with 1 Axes>"
      ]
     },
     "metadata": {
      "needs_background": "light"
     },
     "output_type": "display_data"
    }
   ],
   "source": [
    "import seaborn as sns\n",
    "\n",
    "proportion = data.groupby('event_name')['user_id'].nunique().reset_index().sort_values(by = 'user_id', ascending=False)\n",
    "plot_order = data.sort_values(by='event_name', ascending=False).user_id.values\n",
    "plt.figure(figsize=(12, 6))\n",
    "g = sns.barplot(x='event_name', y='user_id', data=proportion);\n",
    "g.set(xlabel=\"виды событий\", ylabel=\"уникальное количество пользователей\");\n",
    "title = ('график событий в приложении к уникальному кол-ву пользователей')\n",
    "g.set(title=title);\n",
    "plt.xticks(rotation=45);"
   ]
  },
  {
   "cell_type": "markdown",
   "metadata": {},
   "source": [
    "*По итогу воронки:*\n",
    "\n",
    "*3480 залогинилось*\n",
    "\n",
    "*2178 просмотрели карточки товаров*\n",
    "\n",
    "*1082 купили*\n",
    "\n",
    "*1026 перешли в корзину*\n",
    "\n",
    "*56 человек совершили покупку не переходя в корзину, скоее всего это один товар*"
   ]
  },
  {
   "cell_type": "markdown",
   "metadata": {},
   "source": [
    "*Резкий отпад пользователей происходит в моменте добавления товаров корзину. Только 6%, изучив карточки с товарами, добавляют их в корзину, а из них только один процент этот товар покупает. Необходимо узнать в чем причина, возможно, дело не в продукте, а в интерфейсе или каких-то других технических составляющих*"
   ]
  },
  {
   "cell_type": "markdown",
   "metadata": {},
   "source": [
    "### Какие особенности данных нужно учесть, прежде чем приступать к A/B-тестированию?"
   ]
  },
  {
   "cell_type": "markdown",
   "metadata": {},
   "source": [
    "*Во-первых, как долго проходит тест. В наше случае это месяц. Минусом являеться выбор даты, так как окончание теста попадает на предпраздничные дни и конверсия падает.*\n",
    "\n",
    "*Во-вторы, характерна ли для него проблема подглядывания, когда в начале теста поступление новых данных значительно искажает общий результат.*\n",
    "\n",
    "*В третьих, равномерное распределение пользователей в группах. В нашем случае, контрольная превышает на 7%*"
   ]
  },
  {
   "cell_type": "markdown",
   "metadata": {},
   "source": [
    "## Оценить результаты A/B-тестирования"
   ]
  },
  {
   "cell_type": "markdown",
   "metadata": {},
   "source": [
    "### Проверить статистическую разницу долей z-критерием"
   ]
  },
  {
   "cell_type": "markdown",
   "metadata": {},
   "source": [
    "*Посчитаем какое количество пользователей в каждой группе совершили то или иное событие*"
   ]
  },
  {
   "cell_type": "code",
   "execution_count": 37,
   "metadata": {},
   "outputs": [
    {
     "data": {
      "text/html": [
       "<div>\n",
       "<style scoped>\n",
       "    .dataframe tbody tr th:only-of-type {\n",
       "        vertical-align: middle;\n",
       "    }\n",
       "\n",
       "    .dataframe tbody tr th {\n",
       "        vertical-align: top;\n",
       "    }\n",
       "\n",
       "    .dataframe thead th {\n",
       "        text-align: right;\n",
       "    }\n",
       "</style>\n",
       "<table border=\"1\" class=\"dataframe\">\n",
       "  <thead>\n",
       "    <tr style=\"text-align: right;\">\n",
       "      <th></th>\n",
       "      <th>event_name</th>\n",
       "      <th>user_id</th>\n",
       "    </tr>\n",
       "  </thead>\n",
       "  <tbody>\n",
       "    <tr>\n",
       "      <td>0</td>\n",
       "      <td>login</td>\n",
       "      <td>2604</td>\n",
       "    </tr>\n",
       "    <tr>\n",
       "      <td>1</td>\n",
       "      <td>product_cart</td>\n",
       "      <td>782</td>\n",
       "    </tr>\n",
       "    <tr>\n",
       "      <td>2</td>\n",
       "      <td>product_page</td>\n",
       "      <td>1685</td>\n",
       "    </tr>\n",
       "    <tr>\n",
       "      <td>3</td>\n",
       "      <td>purchase</td>\n",
       "      <td>833</td>\n",
       "    </tr>\n",
       "  </tbody>\n",
       "</table>\n",
       "</div>"
      ],
      "text/plain": [
       "     event_name  user_id\n",
       "0         login     2604\n",
       "1  product_cart      782\n",
       "2  product_page     1685\n",
       "3      purchase      833"
      ]
     },
     "execution_count": 37,
     "metadata": {},
     "output_type": "execute_result"
    }
   ],
   "source": [
    "A_group = data.query('group == \"A\"').groupby('event_name').agg({'user_id': 'nunique'}).reset_index()\n",
    "A_group"
   ]
  },
  {
   "cell_type": "code",
   "execution_count": 38,
   "metadata": {},
   "outputs": [
    {
     "data": {
      "text/html": [
       "<div>\n",
       "<style scoped>\n",
       "    .dataframe tbody tr th:only-of-type {\n",
       "        vertical-align: middle;\n",
       "    }\n",
       "\n",
       "    .dataframe tbody tr th {\n",
       "        vertical-align: top;\n",
       "    }\n",
       "\n",
       "    .dataframe thead th {\n",
       "        text-align: right;\n",
       "    }\n",
       "</style>\n",
       "<table border=\"1\" class=\"dataframe\">\n",
       "  <thead>\n",
       "    <tr style=\"text-align: right;\">\n",
       "      <th></th>\n",
       "      <th>event_name</th>\n",
       "      <th>user_id</th>\n",
       "    </tr>\n",
       "  </thead>\n",
       "  <tbody>\n",
       "    <tr>\n",
       "      <td>0</td>\n",
       "      <td>login</td>\n",
       "      <td>876</td>\n",
       "    </tr>\n",
       "    <tr>\n",
       "      <td>1</td>\n",
       "      <td>product_cart</td>\n",
       "      <td>244</td>\n",
       "    </tr>\n",
       "    <tr>\n",
       "      <td>2</td>\n",
       "      <td>product_page</td>\n",
       "      <td>493</td>\n",
       "    </tr>\n",
       "    <tr>\n",
       "      <td>3</td>\n",
       "      <td>purchase</td>\n",
       "      <td>249</td>\n",
       "    </tr>\n",
       "  </tbody>\n",
       "</table>\n",
       "</div>"
      ],
      "text/plain": [
       "     event_name  user_id\n",
       "0         login      876\n",
       "1  product_cart      244\n",
       "2  product_page      493\n",
       "3      purchase      249"
      ]
     },
     "execution_count": 38,
     "metadata": {},
     "output_type": "execute_result"
    }
   ],
   "source": [
    "B_group = data.query('group == \"B\"').groupby('event_name').agg({'user_id': 'nunique'}).reset_index()\n",
    "B_group"
   ]
  },
  {
   "cell_type": "code",
   "execution_count": 39,
   "metadata": {},
   "outputs": [],
   "source": [
    "A_group = A_group.set_index('event_name')\n",
    "B_group = B_group.set_index('event_name')"
   ]
  },
  {
   "cell_type": "markdown",
   "metadata": {},
   "source": [
    "Н_0: Доля группы A = Доля группы B\n",
    "\n",
    "Н_1: Доля группы A != Доля группы B"
   ]
  },
  {
   "cell_type": "code",
   "execution_count": 40,
   "metadata": {},
   "outputs": [
    {
     "name": "stdout",
     "output_type": "stream",
     "text": [
      "login\n",
      "0.08481837035887359\n",
      "Не получилось отвергнуть нулевую гипотезу\n",
      "product_cart\n",
      "0.21469192029582396\n",
      "Не получилось отвергнуть нулевую гипотезу\n",
      "product_page\n",
      "6.94273935952599e-06\n",
      "Отвергаем нулевую гипотезу\n",
      "purchase\n",
      "0.04652482738393029\n",
      "Отвергаем нулевую гипотезу\n"
     ]
    }
   ],
   "source": [
    "for event_name in A_group.index.to_list():\n",
    "    print(event_name)\n",
    "    count = (A_group.loc[event_name, 'user_id'], B_group.loc[event_name, 'user_id'])\n",
    "    nobs = (data.query('group == \"A\"')['user_id'].nunique(), data.query('group == \"B\"')['user_id'].nunique())\n",
    "    stat, pval = proportions_ztest(count, nobs)\n",
    "    print(float(pval))\n",
    "    if pval < 0.05:\n",
    "        print(\"Отвергаем нулевую гипотезу\")\n",
    "    else:\n",
    "        print(\"Не получилось отвергнуть нулевую гипотезу\")"
   ]
  },
  {
   "cell_type": "markdown",
   "metadata": {},
   "source": [
    "### Что можно сказать про результаты A/В-тестирования?"
   ]
  },
  {
   "cell_type": "markdown",
   "metadata": {},
   "source": [
    "*По итогу z-теста, доли имеют статистическую разницу в каждом событии, а это значит, что мы не можем быть уверены в точности проведенного тестирования. Также пользователи распределились между группами неравномерно. Во время проведения теста данные могли быть искажены конкурирующим тестом или маркетинговой активностью в канун рождества.*"
   ]
  },
  {
   "cell_type": "markdown",
   "metadata": {},
   "source": [
    "## Описать выводы по этапу исследовательского анализа данных и по проведённой оценке результатов A/B-тестирования"
   ]
  },
  {
   "cell_type": "markdown",
   "metadata": {},
   "source": [
    "*Есть небольшое различие в выборке пользователей для теста, но это не существенно. Количество событий в группе А распределенно больше, чем в группе В. Не были захвачены в разные группы теста одни и те же пользователи, но в разные тесты были отобраны 1602 человек(в группе А просматриваемого теста 921 человек задействован в конкурирующем тесте, в группе В 681 человек), также тест проводился в одно и то же время с маркетинговым событием в предпраздничные дни.*"
   ]
  }
 ],
 "metadata": {
  "ExecuteTimeLog": [
   {
    "duration": 3174,
    "start_time": "2021-10-21T14:52:07.415Z"
   },
   {
    "duration": -82,
    "start_time": "2021-10-21T14:52:10.677Z"
   },
   {
    "duration": -84,
    "start_time": "2021-10-21T14:52:10.680Z"
   },
   {
    "duration": -87,
    "start_time": "2021-10-21T14:52:10.684Z"
   },
   {
    "duration": -90,
    "start_time": "2021-10-21T14:52:10.689Z"
   },
   {
    "duration": -91,
    "start_time": "2021-10-21T14:52:10.691Z"
   },
   {
    "duration": -94,
    "start_time": "2021-10-21T14:52:10.695Z"
   },
   {
    "duration": -95,
    "start_time": "2021-10-21T14:52:10.697Z"
   },
   {
    "duration": -96,
    "start_time": "2021-10-21T14:52:10.700Z"
   },
   {
    "duration": -97,
    "start_time": "2021-10-21T14:52:10.702Z"
   },
   {
    "duration": -97,
    "start_time": "2021-10-21T14:52:10.704Z"
   },
   {
    "duration": -97,
    "start_time": "2021-10-21T14:52:10.705Z"
   },
   {
    "duration": -97,
    "start_time": "2021-10-21T14:52:10.707Z"
   },
   {
    "duration": -98,
    "start_time": "2021-10-21T14:52:10.709Z"
   },
   {
    "duration": -98,
    "start_time": "2021-10-21T14:52:10.710Z"
   },
   {
    "duration": -98,
    "start_time": "2021-10-21T14:52:10.712Z"
   },
   {
    "duration": -99,
    "start_time": "2021-10-21T14:52:10.714Z"
   },
   {
    "duration": -98,
    "start_time": "2021-10-21T14:52:10.715Z"
   },
   {
    "duration": -98,
    "start_time": "2021-10-21T14:52:10.716Z"
   },
   {
    "duration": -99,
    "start_time": "2021-10-21T14:52:10.718Z"
   },
   {
    "duration": -100,
    "start_time": "2021-10-21T14:52:10.720Z"
   },
   {
    "duration": -100,
    "start_time": "2021-10-21T14:52:10.722Z"
   },
   {
    "duration": -101,
    "start_time": "2021-10-21T14:52:10.724Z"
   },
   {
    "duration": -100,
    "start_time": "2021-10-21T14:52:10.725Z"
   },
   {
    "duration": -96,
    "start_time": "2021-10-21T14:52:10.727Z"
   },
   {
    "duration": 751,
    "start_time": "2021-10-21T15:08:52.813Z"
   },
   {
    "duration": 772,
    "start_time": "2021-10-21T15:09:26.366Z"
   },
   {
    "duration": 18,
    "start_time": "2021-10-21T15:09:28.152Z"
   },
   {
    "duration": 8,
    "start_time": "2021-10-21T15:09:28.310Z"
   },
   {
    "duration": 8,
    "start_time": "2021-10-21T15:09:28.431Z"
   },
   {
    "duration": 15,
    "start_time": "2021-10-21T15:09:28.567Z"
   },
   {
    "duration": 18,
    "start_time": "2021-10-21T15:09:28.679Z"
   },
   {
    "duration": 45,
    "start_time": "2021-10-21T15:09:28.805Z"
   },
   {
    "duration": 16,
    "start_time": "2021-10-21T15:09:28.903Z"
   },
   {
    "duration": 68,
    "start_time": "2021-10-21T15:09:29.038Z"
   },
   {
    "duration": 302,
    "start_time": "2021-10-21T15:09:29.310Z"
   },
   {
    "duration": 21,
    "start_time": "2021-10-21T15:09:29.615Z"
   },
   {
    "duration": 742,
    "start_time": "2021-10-21T15:09:29.816Z"
   },
   {
    "duration": -118,
    "start_time": "2021-10-21T15:09:30.679Z"
   },
   {
    "duration": -118,
    "start_time": "2021-10-21T15:09:30.681Z"
   },
   {
    "duration": -118,
    "start_time": "2021-10-21T15:09:30.683Z"
   },
   {
    "duration": 281,
    "start_time": "2021-10-21T15:09:30.738Z"
   },
   {
    "duration": 56,
    "start_time": "2021-10-21T15:09:31.177Z"
   },
   {
    "duration": 8,
    "start_time": "2021-10-21T15:09:31.307Z"
   },
   {
    "duration": 18,
    "start_time": "2021-10-21T15:09:31.707Z"
   },
   {
    "duration": 19,
    "start_time": "2021-10-21T15:09:31.862Z"
   },
   {
    "duration": 31,
    "start_time": "2021-10-21T15:09:32.268Z"
   },
   {
    "duration": 8,
    "start_time": "2021-10-21T15:09:32.425Z"
   },
   {
    "duration": 207,
    "start_time": "2021-10-21T15:09:32.843Z"
   },
   {
    "duration": 42,
    "start_time": "2021-10-21T15:09:33.053Z"
   },
   {
    "duration": 389,
    "start_time": "2021-10-21T15:09:33.113Z"
   },
   {
    "duration": 1628,
    "start_time": "2021-10-21T15:38:49.998Z"
   },
   {
    "duration": 12,
    "start_time": "2021-10-21T15:39:37.294Z"
   },
   {
    "duration": 339,
    "start_time": "2021-10-21T15:39:39.796Z"
   },
   {
    "duration": 14,
    "start_time": "2021-10-21T15:39:46.336Z"
   },
   {
    "duration": 1683,
    "start_time": "2021-10-21T15:40:25.741Z"
   },
   {
    "duration": 19,
    "start_time": "2021-10-21T15:40:27.426Z"
   },
   {
    "duration": 16,
    "start_time": "2021-10-21T15:40:27.449Z"
   },
   {
    "duration": 9,
    "start_time": "2021-10-21T15:40:27.469Z"
   },
   {
    "duration": 23,
    "start_time": "2021-10-21T15:40:27.481Z"
   },
   {
    "duration": 32,
    "start_time": "2021-10-21T15:40:27.507Z"
   },
   {
    "duration": 57,
    "start_time": "2021-10-21T15:40:27.559Z"
   },
   {
    "duration": 16,
    "start_time": "2021-10-21T15:40:27.620Z"
   },
   {
    "duration": 87,
    "start_time": "2021-10-21T15:40:27.639Z"
   },
   {
    "duration": 340,
    "start_time": "2021-10-21T15:40:27.728Z"
   },
   {
    "duration": 13,
    "start_time": "2021-10-21T15:40:28.070Z"
   },
   {
    "duration": 21,
    "start_time": "2021-10-21T15:40:28.086Z"
   },
   {
    "duration": 27,
    "start_time": "2021-10-21T15:40:28.109Z"
   },
   {
    "duration": 1036,
    "start_time": "2021-10-21T15:40:28.139Z"
   },
   {
    "duration": -8642,
    "start_time": "2021-10-21T15:40:37.820Z"
   },
   {
    "duration": -8655,
    "start_time": "2021-10-21T15:40:37.835Z"
   },
   {
    "duration": -8669,
    "start_time": "2021-10-21T15:40:37.851Z"
   },
   {
    "duration": -8678,
    "start_time": "2021-10-21T15:40:37.861Z"
   },
   {
    "duration": -8688,
    "start_time": "2021-10-21T15:40:37.872Z"
   },
   {
    "duration": -8695,
    "start_time": "2021-10-21T15:40:37.881Z"
   },
   {
    "duration": -8811,
    "start_time": "2021-10-21T15:40:37.999Z"
   },
   {
    "duration": -8825,
    "start_time": "2021-10-21T15:40:38.014Z"
   },
   {
    "duration": -8835,
    "start_time": "2021-10-21T15:40:38.026Z"
   },
   {
    "duration": -8844,
    "start_time": "2021-10-21T15:40:38.036Z"
   },
   {
    "duration": -8852,
    "start_time": "2021-10-21T15:40:38.045Z"
   },
   {
    "duration": -8858,
    "start_time": "2021-10-21T15:40:38.053Z"
   },
   {
    "duration": -8866,
    "start_time": "2021-10-21T15:40:38.062Z"
   },
   {
    "duration": 836,
    "start_time": "2021-10-21T15:41:50.917Z"
   },
   {
    "duration": 947,
    "start_time": "2021-10-21T15:41:59.311Z"
   },
   {
    "duration": 894,
    "start_time": "2021-10-21T15:42:01.955Z"
   },
   {
    "duration": 1038,
    "start_time": "2021-10-21T16:40:38.371Z"
   },
   {
    "duration": 927,
    "start_time": "2021-10-21T21:11:05.085Z"
   },
   {
    "duration": 78,
    "start_time": "2021-10-21T21:11:30.680Z"
   },
   {
    "duration": 368,
    "start_time": "2021-10-21T21:11:47.174Z"
   },
   {
    "duration": 913,
    "start_time": "2021-10-21T21:12:35.250Z"
   },
   {
    "duration": 591,
    "start_time": "2021-10-21T21:14:01.322Z"
   },
   {
    "duration": 380,
    "start_time": "2021-10-21T21:15:06.539Z"
   },
   {
    "duration": 512,
    "start_time": "2021-10-21T21:15:38.671Z"
   },
   {
    "duration": 827,
    "start_time": "2021-10-21T21:15:40.359Z"
   },
   {
    "duration": 745,
    "start_time": "2021-10-21T21:16:09.988Z"
   },
   {
    "duration": 162,
    "start_time": "2021-10-21T21:16:45.398Z"
   },
   {
    "duration": 259,
    "start_time": "2021-10-21T21:17:05.275Z"
   },
   {
    "duration": 783,
    "start_time": "2021-10-21T21:17:06.487Z"
   },
   {
    "duration": 850,
    "start_time": "2021-10-21T21:17:12.178Z"
   },
   {
    "duration": 712,
    "start_time": "2021-10-21T21:17:43.795Z"
   },
   {
    "duration": 1140,
    "start_time": "2021-10-21T21:18:00.492Z"
   },
   {
    "duration": 896,
    "start_time": "2021-10-21T21:18:24.326Z"
   },
   {
    "duration": 1881,
    "start_time": "2021-10-21T21:19:00.877Z"
   },
   {
    "duration": 2478,
    "start_time": "2021-10-21T21:19:23.716Z"
   },
   {
    "duration": 290,
    "start_time": "2021-10-21T21:19:33.593Z"
   },
   {
    "duration": 1659,
    "start_time": "2021-10-21T21:19:53.240Z"
   },
   {
    "duration": 16,
    "start_time": "2021-10-21T21:19:54.902Z"
   },
   {
    "duration": 13,
    "start_time": "2021-10-21T21:19:54.922Z"
   },
   {
    "duration": 22,
    "start_time": "2021-10-21T21:19:54.937Z"
   },
   {
    "duration": 14,
    "start_time": "2021-10-21T21:19:54.961Z"
   },
   {
    "duration": 30,
    "start_time": "2021-10-21T21:19:54.978Z"
   },
   {
    "duration": 84,
    "start_time": "2021-10-21T21:19:55.011Z"
   },
   {
    "duration": 16,
    "start_time": "2021-10-21T21:19:55.101Z"
   },
   {
    "duration": 98,
    "start_time": "2021-10-21T21:19:55.121Z"
   },
   {
    "duration": 471,
    "start_time": "2021-10-21T21:19:55.222Z"
   },
   {
    "duration": 14,
    "start_time": "2021-10-21T21:19:55.696Z"
   },
   {
    "duration": 12,
    "start_time": "2021-10-21T21:19:55.712Z"
   },
   {
    "duration": 41,
    "start_time": "2021-10-21T21:19:55.727Z"
   },
   {
    "duration": 960,
    "start_time": "2021-10-21T21:19:55.770Z"
   },
   {
    "duration": -9040,
    "start_time": "2021-10-21T21:20:05.773Z"
   },
   {
    "duration": -9048,
    "start_time": "2021-10-21T21:20:05.783Z"
   },
   {
    "duration": -9055,
    "start_time": "2021-10-21T21:20:05.791Z"
   },
   {
    "duration": -9062,
    "start_time": "2021-10-21T21:20:05.800Z"
   },
   {
    "duration": -9069,
    "start_time": "2021-10-21T21:20:05.808Z"
   },
   {
    "duration": -9075,
    "start_time": "2021-10-21T21:20:05.816Z"
   },
   {
    "duration": -9082,
    "start_time": "2021-10-21T21:20:05.824Z"
   },
   {
    "duration": -9089,
    "start_time": "2021-10-21T21:20:05.832Z"
   },
   {
    "duration": -9095,
    "start_time": "2021-10-21T21:20:05.840Z"
   },
   {
    "duration": -9102,
    "start_time": "2021-10-21T21:20:05.848Z"
   },
   {
    "duration": -9107,
    "start_time": "2021-10-21T21:20:05.855Z"
   },
   {
    "duration": -9127,
    "start_time": "2021-10-21T21:20:05.876Z"
   },
   {
    "duration": -9170,
    "start_time": "2021-10-21T21:20:05.920Z"
   },
   {
    "duration": 867,
    "start_time": "2021-10-21T21:20:31.256Z"
   },
   {
    "duration": 423,
    "start_time": "2021-10-22T13:02:03.230Z"
   },
   {
    "duration": 1862,
    "start_time": "2021-10-22T13:02:59.656Z"
   },
   {
    "duration": 18,
    "start_time": "2021-10-22T13:03:01.521Z"
   },
   {
    "duration": 17,
    "start_time": "2021-10-22T13:03:01.542Z"
   },
   {
    "duration": 21,
    "start_time": "2021-10-22T13:03:01.562Z"
   },
   {
    "duration": 39,
    "start_time": "2021-10-22T13:03:01.586Z"
   },
   {
    "duration": 28,
    "start_time": "2021-10-22T13:03:01.628Z"
   },
   {
    "duration": 70,
    "start_time": "2021-10-22T13:03:01.659Z"
   },
   {
    "duration": 16,
    "start_time": "2021-10-22T13:03:01.733Z"
   },
   {
    "duration": 77,
    "start_time": "2021-10-22T13:03:01.752Z"
   },
   {
    "duration": 387,
    "start_time": "2021-10-22T13:03:01.832Z"
   },
   {
    "duration": 14,
    "start_time": "2021-10-22T13:03:02.221Z"
   },
   {
    "duration": 41,
    "start_time": "2021-10-22T13:03:02.237Z"
   },
   {
    "duration": 46,
    "start_time": "2021-10-22T13:03:02.280Z"
   },
   {
    "duration": 572,
    "start_time": "2021-10-22T13:03:02.328Z"
   },
   {
    "duration": -9241,
    "start_time": "2021-10-22T13:03:12.144Z"
   },
   {
    "duration": -9254,
    "start_time": "2021-10-22T13:03:12.158Z"
   },
   {
    "duration": -9268,
    "start_time": "2021-10-22T13:03:12.174Z"
   },
   {
    "duration": -9277,
    "start_time": "2021-10-22T13:03:12.184Z"
   },
   {
    "duration": -9288,
    "start_time": "2021-10-22T13:03:12.196Z"
   },
   {
    "duration": -9303,
    "start_time": "2021-10-22T13:03:12.212Z"
   },
   {
    "duration": -9312,
    "start_time": "2021-10-22T13:03:12.223Z"
   },
   {
    "duration": -9350,
    "start_time": "2021-10-22T13:03:12.262Z"
   },
   {
    "duration": -9365,
    "start_time": "2021-10-22T13:03:12.278Z"
   },
   {
    "duration": -9375,
    "start_time": "2021-10-22T13:03:12.289Z"
   },
   {
    "duration": -9384,
    "start_time": "2021-10-22T13:03:12.299Z"
   },
   {
    "duration": -9396,
    "start_time": "2021-10-22T13:03:12.312Z"
   },
   {
    "duration": -9405,
    "start_time": "2021-10-22T13:03:12.323Z"
   },
   {
    "duration": -9413,
    "start_time": "2021-10-22T13:03:12.332Z"
   },
   {
    "duration": 16,
    "start_time": "2021-10-22T13:03:56.912Z"
   },
   {
    "duration": 430,
    "start_time": "2021-10-22T13:04:14.017Z"
   },
   {
    "duration": 15,
    "start_time": "2021-10-22T13:05:33.752Z"
   },
   {
    "duration": 718,
    "start_time": "2021-10-22T13:06:07.387Z"
   },
   {
    "duration": 14,
    "start_time": "2021-10-22T13:06:28.216Z"
   },
   {
    "duration": 14,
    "start_time": "2021-10-22T13:07:24.153Z"
   },
   {
    "duration": 43,
    "start_time": "2021-10-22T13:09:22.464Z"
   },
   {
    "duration": 14,
    "start_time": "2021-10-22T13:09:35.780Z"
   },
   {
    "duration": 44,
    "start_time": "2021-10-22T13:09:56.960Z"
   },
   {
    "duration": 8,
    "start_time": "2021-10-22T13:10:09.062Z"
   },
   {
    "duration": 18,
    "start_time": "2021-10-22T13:13:20.799Z"
   },
   {
    "duration": 22,
    "start_time": "2021-10-22T13:13:43.766Z"
   },
   {
    "duration": 35,
    "start_time": "2021-10-22T13:15:27.480Z"
   },
   {
    "duration": 8,
    "start_time": "2021-10-22T13:15:39.423Z"
   },
   {
    "duration": 196,
    "start_time": "2021-10-22T13:31:37.936Z"
   },
   {
    "duration": 361,
    "start_time": "2021-10-22T13:32:00.151Z"
   },
   {
    "duration": 398,
    "start_time": "2021-10-22T14:49:44.061Z"
   },
   {
    "duration": 46,
    "start_time": "2021-10-22T14:49:48.352Z"
   },
   {
    "duration": 49,
    "start_time": "2021-10-22T14:50:54.754Z"
   },
   {
    "duration": 410,
    "start_time": "2021-10-22T14:51:21.070Z"
   },
   {
    "duration": 481,
    "start_time": "2021-10-22T14:51:27.821Z"
   },
   {
    "duration": 307,
    "start_time": "2021-10-22T14:51:35.541Z"
   },
   {
    "duration": 179,
    "start_time": "2021-10-22T14:51:45.816Z"
   },
   {
    "duration": 451,
    "start_time": "2021-10-22T14:51:57.269Z"
   },
   {
    "duration": 32,
    "start_time": "2021-10-22T14:52:13.073Z"
   },
   {
    "duration": 22,
    "start_time": "2021-10-22T14:53:40.704Z"
   },
   {
    "duration": 43,
    "start_time": "2021-10-22T14:53:56.241Z"
   },
   {
    "duration": 41,
    "start_time": "2021-10-22T14:54:19.350Z"
   },
   {
    "duration": 21,
    "start_time": "2021-10-22T14:54:25.824Z"
   },
   {
    "duration": 21,
    "start_time": "2021-10-22T14:55:03.869Z"
   },
   {
    "duration": 40,
    "start_time": "2021-10-22T14:55:15.395Z"
   },
   {
    "duration": 348,
    "start_time": "2021-10-22T15:55:33.301Z"
   },
   {
    "duration": 189,
    "start_time": "2021-10-22T15:55:39.657Z"
   },
   {
    "duration": 307,
    "start_time": "2021-10-22T15:57:18.297Z"
   },
   {
    "duration": 14,
    "start_time": "2021-10-22T15:59:40.090Z"
   },
   {
    "duration": 15,
    "start_time": "2021-10-22T15:59:43.552Z"
   },
   {
    "duration": 20,
    "start_time": "2021-10-22T15:59:47.073Z"
   },
   {
    "duration": 23,
    "start_time": "2021-10-22T16:00:50.611Z"
   },
   {
    "duration": 134,
    "start_time": "2021-10-22T16:01:47.611Z"
   },
   {
    "duration": 115,
    "start_time": "2021-10-22T16:02:16.085Z"
   },
   {
    "duration": 133,
    "start_time": "2021-10-22T16:02:23.525Z"
   },
   {
    "duration": 241,
    "start_time": "2021-10-22T16:07:31.091Z"
   },
   {
    "duration": 202,
    "start_time": "2021-10-22T16:08:07.464Z"
   },
   {
    "duration": 36,
    "start_time": "2021-10-22T16:10:21.974Z"
   },
   {
    "duration": 44,
    "start_time": "2021-10-22T16:20:35.991Z"
   },
   {
    "duration": 13,
    "start_time": "2021-10-22T16:22:32.885Z"
   },
   {
    "duration": 39,
    "start_time": "2021-10-22T16:22:38.101Z"
   },
   {
    "duration": 123,
    "start_time": "2021-10-22T16:23:32.129Z"
   },
   {
    "duration": 147,
    "start_time": "2021-10-22T16:23:38.493Z"
   },
   {
    "duration": 20,
    "start_time": "2021-10-22T16:24:09.813Z"
   },
   {
    "duration": 36,
    "start_time": "2021-10-22T16:25:19.683Z"
   },
   {
    "duration": 108,
    "start_time": "2021-10-22T16:25:36.684Z"
   },
   {
    "duration": 41,
    "start_time": "2021-10-22T16:25:41.306Z"
   },
   {
    "duration": 41,
    "start_time": "2021-10-22T16:25:55.184Z"
   },
   {
    "duration": 157,
    "start_time": "2021-10-22T16:26:37.602Z"
   },
   {
    "duration": 45,
    "start_time": "2021-10-22T16:26:40.748Z"
   },
   {
    "duration": 40,
    "start_time": "2021-10-22T16:38:25.557Z"
   },
   {
    "duration": 36,
    "start_time": "2021-10-22T16:38:45.882Z"
   },
   {
    "duration": 259,
    "start_time": "2021-10-22T16:39:10.034Z"
   },
   {
    "duration": 42,
    "start_time": "2021-10-22T16:39:13.591Z"
   },
   {
    "duration": 109,
    "start_time": "2021-10-22T16:39:55.444Z"
   },
   {
    "duration": 42,
    "start_time": "2021-10-22T16:40:12.255Z"
   },
   {
    "duration": 1253,
    "start_time": "2021-10-22T16:53:04.264Z"
   },
   {
    "duration": 26,
    "start_time": "2021-10-22T16:53:43.526Z"
   },
   {
    "duration": 7625,
    "start_time": "2021-10-22T17:00:56.835Z"
   },
   {
    "duration": 428,
    "start_time": "2021-10-22T17:02:18.098Z"
   },
   {
    "duration": 59,
    "start_time": "2021-10-22T17:24:29.830Z"
   },
   {
    "duration": 66,
    "start_time": "2021-10-22T17:25:31.623Z"
   },
   {
    "duration": 180,
    "start_time": "2021-10-22T17:25:44.236Z"
   },
   {
    "duration": 10052,
    "start_time": "2021-10-22T17:45:45.134Z"
   },
   {
    "duration": 29,
    "start_time": "2021-10-22T17:46:06.935Z"
   },
   {
    "duration": 22,
    "start_time": "2021-10-22T17:46:22.113Z"
   },
   {
    "duration": 6,
    "start_time": "2021-10-22T17:50:35.447Z"
   },
   {
    "duration": 58,
    "start_time": "2021-10-22T17:51:36.784Z"
   },
   {
    "duration": 55,
    "start_time": "2021-10-22T17:59:59.376Z"
   },
   {
    "duration": 2369,
    "start_time": "2021-10-22T22:38:50.543Z"
   },
   {
    "duration": 19,
    "start_time": "2021-10-22T22:38:52.914Z"
   },
   {
    "duration": 9,
    "start_time": "2021-10-22T22:38:52.936Z"
   },
   {
    "duration": 8,
    "start_time": "2021-10-22T22:38:52.957Z"
   },
   {
    "duration": 17,
    "start_time": "2021-10-22T22:38:52.967Z"
   },
   {
    "duration": 20,
    "start_time": "2021-10-22T22:38:52.987Z"
   },
   {
    "duration": 82,
    "start_time": "2021-10-22T22:38:53.009Z"
   },
   {
    "duration": 18,
    "start_time": "2021-10-22T22:38:53.094Z"
   },
   {
    "duration": 93,
    "start_time": "2021-10-22T22:38:53.115Z"
   },
   {
    "duration": 368,
    "start_time": "2021-10-22T22:38:53.210Z"
   },
   {
    "duration": 14,
    "start_time": "2021-10-22T22:38:53.580Z"
   },
   {
    "duration": 14,
    "start_time": "2021-10-22T22:38:53.596Z"
   },
   {
    "duration": 24,
    "start_time": "2021-10-22T22:38:53.612Z"
   },
   {
    "duration": 21,
    "start_time": "2021-10-22T22:38:53.659Z"
   },
   {
    "duration": 45,
    "start_time": "2021-10-22T22:38:53.683Z"
   },
   {
    "duration": 29,
    "start_time": "2021-10-22T22:38:53.730Z"
   },
   {
    "duration": 18,
    "start_time": "2021-10-22T22:38:53.761Z"
   },
   {
    "duration": 22,
    "start_time": "2021-10-22T22:38:53.783Z"
   },
   {
    "duration": 73,
    "start_time": "2021-10-22T22:38:53.808Z"
   },
   {
    "duration": 7,
    "start_time": "2021-10-22T22:38:53.884Z"
   },
   {
    "duration": 246,
    "start_time": "2021-10-22T22:38:53.893Z"
   },
   {
    "duration": 357,
    "start_time": "2021-10-22T22:38:54.141Z"
   },
   {
    "duration": 57,
    "start_time": "2021-10-22T22:38:54.503Z"
   },
   {
    "duration": 25,
    "start_time": "2021-10-22T22:38:54.563Z"
   },
   {
    "duration": 193,
    "start_time": "2021-10-22T22:38:54.591Z"
   },
   {
    "duration": 44,
    "start_time": "2021-10-22T22:38:54.786Z"
   },
   {
    "duration": 47,
    "start_time": "2021-10-22T22:38:54.833Z"
   },
   {
    "duration": 21,
    "start_time": "2021-10-22T22:38:54.883Z"
   },
   {
    "duration": 5,
    "start_time": "2021-10-22T22:38:54.906Z"
   },
   {
    "duration": 559,
    "start_time": "2021-10-22T22:38:54.913Z"
   },
   {
    "duration": 52,
    "start_time": "2021-10-22T22:39:12.320Z"
   },
   {
    "duration": 1694,
    "start_time": "2021-10-23T19:21:15.983Z"
   },
   {
    "duration": 13,
    "start_time": "2021-10-23T19:21:17.679Z"
   },
   {
    "duration": 16,
    "start_time": "2021-10-23T19:21:17.694Z"
   },
   {
    "duration": 9,
    "start_time": "2021-10-23T19:21:17.712Z"
   },
   {
    "duration": 14,
    "start_time": "2021-10-23T19:21:17.723Z"
   },
   {
    "duration": 27,
    "start_time": "2021-10-23T19:21:17.739Z"
   },
   {
    "duration": 32,
    "start_time": "2021-10-23T19:21:17.768Z"
   },
   {
    "duration": 11,
    "start_time": "2021-10-23T19:21:17.802Z"
   },
   {
    "duration": 74,
    "start_time": "2021-10-23T19:21:17.815Z"
   },
   {
    "duration": 304,
    "start_time": "2021-10-23T19:21:17.892Z"
   },
   {
    "duration": 9,
    "start_time": "2021-10-23T19:21:18.198Z"
   },
   {
    "duration": 16,
    "start_time": "2021-10-23T19:21:18.209Z"
   },
   {
    "duration": 17,
    "start_time": "2021-10-23T19:21:18.227Z"
   },
   {
    "duration": 18,
    "start_time": "2021-10-23T19:21:18.245Z"
   },
   {
    "duration": 32,
    "start_time": "2021-10-23T19:21:18.265Z"
   },
   {
    "duration": 5,
    "start_time": "2021-10-23T19:21:18.298Z"
   },
   {
    "duration": 23,
    "start_time": "2021-10-23T19:21:18.305Z"
   },
   {
    "duration": 12,
    "start_time": "2021-10-23T19:21:18.330Z"
   },
   {
    "duration": 40,
    "start_time": "2021-10-23T19:21:18.344Z"
   },
   {
    "duration": 5,
    "start_time": "2021-10-23T19:21:18.385Z"
   },
   {
    "duration": 175,
    "start_time": "2021-10-23T19:21:18.392Z"
   },
   {
    "duration": 219,
    "start_time": "2021-10-23T19:21:18.568Z"
   },
   {
    "duration": 33,
    "start_time": "2021-10-23T19:21:18.789Z"
   },
   {
    "duration": 13,
    "start_time": "2021-10-23T19:21:18.824Z"
   },
   {
    "duration": 147,
    "start_time": "2021-10-23T19:21:18.839Z"
   },
   {
    "duration": 37,
    "start_time": "2021-10-23T19:21:18.988Z"
   },
   {
    "duration": 18,
    "start_time": "2021-10-23T19:21:19.028Z"
   },
   {
    "duration": 12,
    "start_time": "2021-10-23T19:21:19.064Z"
   },
   {
    "duration": 4,
    "start_time": "2021-10-23T19:21:19.078Z"
   },
   {
    "duration": 42,
    "start_time": "2021-10-23T19:21:19.083Z"
   },
   {
    "duration": 10,
    "start_time": "2021-10-23T19:21:32.656Z"
   },
   {
    "duration": 9,
    "start_time": "2021-10-23T19:21:39.713Z"
   },
   {
    "duration": 9,
    "start_time": "2021-10-23T19:23:39.229Z"
   },
   {
    "duration": 328,
    "start_time": "2021-10-24T20:11:25.062Z"
   },
   {
    "duration": 2133,
    "start_time": "2021-10-24T20:11:33.664Z"
   },
   {
    "duration": 17,
    "start_time": "2021-10-24T20:11:35.800Z"
   },
   {
    "duration": 14,
    "start_time": "2021-10-24T20:11:35.822Z"
   },
   {
    "duration": 10,
    "start_time": "2021-10-24T20:11:35.839Z"
   },
   {
    "duration": 19,
    "start_time": "2021-10-24T20:11:35.851Z"
   },
   {
    "duration": 55,
    "start_time": "2021-10-24T20:11:35.872Z"
   },
   {
    "duration": 45,
    "start_time": "2021-10-24T20:11:35.929Z"
   },
   {
    "duration": 43,
    "start_time": "2021-10-24T20:11:35.979Z"
   },
   {
    "duration": 72,
    "start_time": "2021-10-24T20:11:36.026Z"
   },
   {
    "duration": 351,
    "start_time": "2021-10-24T20:11:36.101Z"
   },
   {
    "duration": 13,
    "start_time": "2021-10-24T20:11:36.454Z"
   },
   {
    "duration": 13,
    "start_time": "2021-10-24T20:11:36.469Z"
   },
   {
    "duration": 44,
    "start_time": "2021-10-24T20:11:36.484Z"
   },
   {
    "duration": 21,
    "start_time": "2021-10-24T20:11:36.530Z"
   },
   {
    "duration": 45,
    "start_time": "2021-10-24T20:11:36.554Z"
   },
   {
    "duration": 27,
    "start_time": "2021-10-24T20:11:36.602Z"
   },
   {
    "duration": 15,
    "start_time": "2021-10-24T20:11:36.632Z"
   },
   {
    "duration": 20,
    "start_time": "2021-10-24T20:11:36.650Z"
   },
   {
    "duration": 65,
    "start_time": "2021-10-24T20:11:36.673Z"
   },
   {
    "duration": 32,
    "start_time": "2021-10-24T20:11:36.741Z"
   },
   {
    "duration": 7,
    "start_time": "2021-10-24T20:11:36.775Z"
   },
   {
    "duration": 254,
    "start_time": "2021-10-24T20:11:36.784Z"
   },
   {
    "duration": 355,
    "start_time": "2021-10-24T20:11:37.042Z"
   },
   {
    "duration": 58,
    "start_time": "2021-10-24T20:11:37.400Z"
   },
   {
    "duration": 24,
    "start_time": "2021-10-24T20:11:37.460Z"
   },
   {
    "duration": 195,
    "start_time": "2021-10-24T20:11:37.487Z"
   },
   {
    "duration": 60,
    "start_time": "2021-10-24T20:11:37.685Z"
   },
   {
    "duration": 29,
    "start_time": "2021-10-24T20:11:37.747Z"
   },
   {
    "duration": 52,
    "start_time": "2021-10-24T20:11:37.779Z"
   },
   {
    "duration": 7,
    "start_time": "2021-10-24T20:11:37.834Z"
   },
   {
    "duration": 78,
    "start_time": "2021-10-24T20:11:37.844Z"
   },
   {
    "duration": 12,
    "start_time": "2021-10-24T20:11:37.925Z"
   },
   {
    "duration": 394,
    "start_time": "2021-10-24T22:01:11.070Z"
   },
   {
    "duration": 300,
    "start_time": "2021-10-24T22:01:24.539Z"
   },
   {
    "duration": 323,
    "start_time": "2021-10-24T22:02:16.329Z"
   },
   {
    "duration": 278,
    "start_time": "2021-10-24T22:03:31.894Z"
   },
   {
    "duration": 37,
    "start_time": "2021-10-24T22:03:58.598Z"
   },
   {
    "duration": 22238,
    "start_time": "2021-10-24T22:04:21.279Z"
   },
   {
    "duration": 324,
    "start_time": "2021-10-24T22:04:50.662Z"
   },
   {
    "duration": 36,
    "start_time": "2021-10-24T22:09:28.621Z"
   },
   {
    "duration": 7034,
    "start_time": "2021-10-24T22:09:52.090Z"
   },
   {
    "duration": 324,
    "start_time": "2021-10-24T22:10:05.430Z"
   },
   {
    "duration": 24,
    "start_time": "2021-10-24T22:10:30.787Z"
   },
   {
    "duration": 36,
    "start_time": "2021-10-24T22:10:38.438Z"
   },
   {
    "duration": 15,
    "start_time": "2021-10-24T22:10:42.600Z"
   },
   {
    "duration": 15,
    "start_time": "2021-10-24T22:11:10.422Z"
   },
   {
    "duration": 2146,
    "start_time": "2021-10-24T22:11:43.922Z"
   },
   {
    "duration": 18,
    "start_time": "2021-10-24T22:11:46.071Z"
   },
   {
    "duration": 13,
    "start_time": "2021-10-24T22:11:46.092Z"
   },
   {
    "duration": 17,
    "start_time": "2021-10-24T22:11:46.109Z"
   },
   {
    "duration": 15,
    "start_time": "2021-10-24T22:11:46.129Z"
   },
   {
    "duration": 27,
    "start_time": "2021-10-24T22:11:46.146Z"
   },
   {
    "duration": 76,
    "start_time": "2021-10-24T22:11:46.176Z"
   },
   {
    "duration": 16,
    "start_time": "2021-10-24T22:11:46.256Z"
   },
   {
    "duration": 94,
    "start_time": "2021-10-24T22:11:46.275Z"
   },
   {
    "duration": 373,
    "start_time": "2021-10-24T22:11:46.371Z"
   },
   {
    "duration": 14,
    "start_time": "2021-10-24T22:11:46.747Z"
   },
   {
    "duration": 22,
    "start_time": "2021-10-24T22:11:46.763Z"
   },
   {
    "duration": 36,
    "start_time": "2021-10-24T22:11:46.788Z"
   },
   {
    "duration": 21,
    "start_time": "2021-10-24T22:11:46.827Z"
   },
   {
    "duration": 49,
    "start_time": "2021-10-24T22:11:46.850Z"
   },
   {
    "duration": 10,
    "start_time": "2021-10-24T22:11:46.922Z"
   },
   {
    "duration": 61,
    "start_time": "2021-10-24T22:11:46.934Z"
   },
   {
    "duration": 337,
    "start_time": "2021-10-24T22:11:46.997Z"
   },
   {
    "duration": 432,
    "start_time": "2021-10-24T22:11:47.336Z"
   },
   {
    "duration": -12465,
    "start_time": "2021-10-24T22:12:00.236Z"
   },
   {
    "duration": -12480,
    "start_time": "2021-10-24T22:12:00.253Z"
   },
   {
    "duration": -12494,
    "start_time": "2021-10-24T22:12:00.268Z"
   },
   {
    "duration": -12517,
    "start_time": "2021-10-24T22:12:00.292Z"
   },
   {
    "duration": -12562,
    "start_time": "2021-10-24T22:12:00.339Z"
   },
   {
    "duration": -12579,
    "start_time": "2021-10-24T22:12:00.357Z"
   },
   {
    "duration": -12597,
    "start_time": "2021-10-24T22:12:00.376Z"
   },
   {
    "duration": -12612,
    "start_time": "2021-10-24T22:12:00.393Z"
   },
   {
    "duration": -12629,
    "start_time": "2021-10-24T22:12:00.411Z"
   },
   {
    "duration": -12643,
    "start_time": "2021-10-24T22:12:00.426Z"
   },
   {
    "duration": -12669,
    "start_time": "2021-10-24T22:12:00.453Z"
   },
   {
    "duration": -12676,
    "start_time": "2021-10-24T22:12:00.462Z"
   },
   {
    "duration": -12685,
    "start_time": "2021-10-24T22:12:00.472Z"
   },
   {
    "duration": -12692,
    "start_time": "2021-10-24T22:12:00.481Z"
   },
   {
    "duration": -12701,
    "start_time": "2021-10-24T22:12:00.491Z"
   },
   {
    "duration": 16,
    "start_time": "2021-10-24T22:12:08.830Z"
   },
   {
    "duration": 14,
    "start_time": "2021-10-24T22:18:34.920Z"
   },
   {
    "duration": 10,
    "start_time": "2021-10-24T22:20:12.487Z"
   },
   {
    "duration": 22,
    "start_time": "2021-10-24T22:20:12.499Z"
   },
   {
    "duration": 19,
    "start_time": "2021-10-24T22:20:12.524Z"
   },
   {
    "duration": 50,
    "start_time": "2021-10-24T22:20:12.545Z"
   },
   {
    "duration": 7,
    "start_time": "2021-10-24T22:20:12.597Z"
   },
   {
    "duration": 240,
    "start_time": "2021-10-24T22:20:12.623Z"
   },
   {
    "duration": 361,
    "start_time": "2021-10-24T22:20:12.867Z"
   },
   {
    "duration": 44,
    "start_time": "2021-10-24T22:20:13.230Z"
   },
   {
    "duration": 46,
    "start_time": "2021-10-24T22:20:13.276Z"
   },
   {
    "duration": 184,
    "start_time": "2021-10-24T22:20:13.324Z"
   },
   {
    "duration": 55,
    "start_time": "2021-10-24T22:20:13.511Z"
   },
   {
    "duration": 25,
    "start_time": "2021-10-24T22:20:13.570Z"
   },
   {
    "duration": 42,
    "start_time": "2021-10-24T22:20:13.598Z"
   },
   {
    "duration": 6,
    "start_time": "2021-10-24T22:20:13.642Z"
   },
   {
    "duration": 79,
    "start_time": "2021-10-24T22:20:13.650Z"
   },
   {
    "duration": 9,
    "start_time": "2021-10-24T22:20:13.732Z"
   },
   {
    "duration": 32,
    "start_time": "2021-10-24T22:21:28.800Z"
   },
   {
    "duration": 309,
    "start_time": "2021-10-24T22:23:23.301Z"
   },
   {
    "duration": 8,
    "start_time": "2021-10-24T22:23:35.597Z"
   },
   {
    "duration": 15,
    "start_time": "2021-10-24T22:23:46.096Z"
   },
   {
    "duration": 8,
    "start_time": "2021-10-24T22:24:12.187Z"
   },
   {
    "duration": 264,
    "start_time": "2021-10-24T22:25:29.206Z"
   },
   {
    "duration": 280,
    "start_time": "2021-10-24T22:25:56.764Z"
   },
   {
    "duration": 368,
    "start_time": "2021-10-24T22:26:08.358Z"
   },
   {
    "duration": 278,
    "start_time": "2021-10-24T22:26:55.765Z"
   },
   {
    "duration": 17,
    "start_time": "2021-10-24T22:27:25.946Z"
   },
   {
    "duration": 8,
    "start_time": "2021-10-24T22:30:12.896Z"
   },
   {
    "duration": 7,
    "start_time": "2021-10-24T22:30:16.974Z"
   },
   {
    "duration": 21,
    "start_time": "2021-10-24T22:31:15.509Z"
   },
   {
    "duration": 136,
    "start_time": "2021-10-24T22:31:27.324Z"
   },
   {
    "duration": 23,
    "start_time": "2021-10-24T22:31:30.685Z"
   },
   {
    "duration": 2131,
    "start_time": "2021-10-24T22:31:50.137Z"
   },
   {
    "duration": 18,
    "start_time": "2021-10-24T22:31:52.271Z"
   },
   {
    "duration": 13,
    "start_time": "2021-10-24T22:31:52.292Z"
   },
   {
    "duration": 15,
    "start_time": "2021-10-24T22:31:52.308Z"
   },
   {
    "duration": 16,
    "start_time": "2021-10-24T22:31:52.326Z"
   },
   {
    "duration": 21,
    "start_time": "2021-10-24T22:31:52.345Z"
   },
   {
    "duration": 72,
    "start_time": "2021-10-24T22:31:52.369Z"
   },
   {
    "duration": 16,
    "start_time": "2021-10-24T22:31:52.445Z"
   },
   {
    "duration": 93,
    "start_time": "2021-10-24T22:31:52.464Z"
   },
   {
    "duration": 400,
    "start_time": "2021-10-24T22:31:52.560Z"
   },
   {
    "duration": 14,
    "start_time": "2021-10-24T22:31:52.962Z"
   },
   {
    "duration": 13,
    "start_time": "2021-10-24T22:31:52.978Z"
   },
   {
    "duration": 39,
    "start_time": "2021-10-24T22:31:52.993Z"
   },
   {
    "duration": 19,
    "start_time": "2021-10-24T22:31:53.035Z"
   },
   {
    "duration": 69,
    "start_time": "2021-10-24T22:31:53.057Z"
   },
   {
    "duration": 9,
    "start_time": "2021-10-24T22:31:53.128Z"
   },
   {
    "duration": 376,
    "start_time": "2021-10-24T22:31:53.139Z"
   },
   {
    "duration": -12626,
    "start_time": "2021-10-24T22:32:06.143Z"
   },
   {
    "duration": -12635,
    "start_time": "2021-10-24T22:32:06.153Z"
   },
   {
    "duration": -12643,
    "start_time": "2021-10-24T22:32:06.163Z"
   },
   {
    "duration": 20,
    "start_time": "2021-10-24T22:33:18.009Z"
   },
   {
    "duration": 321,
    "start_time": "2021-10-24T22:33:20.341Z"
   },
   {
    "duration": 12,
    "start_time": "2021-10-24T22:33:23.837Z"
   },
   {
    "duration": 9,
    "start_time": "2021-10-24T22:33:24.854Z"
   },
   {
    "duration": 26,
    "start_time": "2021-10-24T22:33:25.907Z"
   },
   {
    "duration": 50,
    "start_time": "2021-10-24T22:35:04.320Z"
   },
   {
    "duration": 26,
    "start_time": "2021-10-24T22:35:24.117Z"
   },
   {
    "duration": 44,
    "start_time": "2021-10-24T22:37:48.700Z"
   },
   {
    "duration": 21,
    "start_time": "2021-10-24T22:37:58.337Z"
   },
   {
    "duration": 281,
    "start_time": "2021-10-24T23:14:58.807Z"
   },
   {
    "duration": 811,
    "start_time": "2021-10-24T23:15:10.615Z"
   },
   {
    "duration": 12,
    "start_time": "2021-10-24T23:15:11.428Z"
   },
   {
    "duration": 15,
    "start_time": "2021-10-24T23:15:11.443Z"
   },
   {
    "duration": 19,
    "start_time": "2021-10-24T23:15:11.460Z"
   },
   {
    "duration": 31,
    "start_time": "2021-10-24T23:15:11.481Z"
   },
   {
    "duration": 19,
    "start_time": "2021-10-24T23:15:11.522Z"
   },
   {
    "duration": 45,
    "start_time": "2021-10-24T23:15:11.544Z"
   },
   {
    "duration": 16,
    "start_time": "2021-10-24T23:15:11.621Z"
   },
   {
    "duration": 92,
    "start_time": "2021-10-24T23:15:11.640Z"
   },
   {
    "duration": 353,
    "start_time": "2021-10-24T23:15:11.735Z"
   },
   {
    "duration": 13,
    "start_time": "2021-10-24T23:15:12.091Z"
   },
   {
    "duration": 11,
    "start_time": "2021-10-24T23:15:12.122Z"
   },
   {
    "duration": 25,
    "start_time": "2021-10-24T23:15:12.135Z"
   },
   {
    "duration": 18,
    "start_time": "2021-10-24T23:15:12.163Z"
   },
   {
    "duration": 282,
    "start_time": "2021-10-24T23:15:12.184Z"
   },
   {
    "duration": -12779,
    "start_time": "2021-10-24T23:15:25.247Z"
   },
   {
    "duration": -12816,
    "start_time": "2021-10-24T23:15:25.286Z"
   },
   {
    "duration": -12829,
    "start_time": "2021-10-24T23:15:25.301Z"
   },
   {
    "duration": -12837,
    "start_time": "2021-10-24T23:15:25.310Z"
   },
   {
    "duration": -12844,
    "start_time": "2021-10-24T23:15:25.319Z"
   },
   {
    "duration": -12852,
    "start_time": "2021-10-24T23:15:25.328Z"
   },
   {
    "duration": -12858,
    "start_time": "2021-10-24T23:15:25.337Z"
   },
   {
    "duration": -12865,
    "start_time": "2021-10-24T23:15:25.345Z"
   },
   {
    "duration": -12871,
    "start_time": "2021-10-24T23:15:25.354Z"
   },
   {
    "duration": -12878,
    "start_time": "2021-10-24T23:15:25.362Z"
   },
   {
    "duration": -12886,
    "start_time": "2021-10-24T23:15:25.372Z"
   },
   {
    "duration": -12892,
    "start_time": "2021-10-24T23:15:25.380Z"
   },
   {
    "duration": 267,
    "start_time": "2021-10-24T23:15:16.370Z"
   },
   {
    "duration": 45,
    "start_time": "2021-10-24T23:15:52.525Z"
   },
   {
    "duration": 8,
    "start_time": "2021-10-24T23:15:53.828Z"
   },
   {
    "duration": 33,
    "start_time": "2021-10-24T23:15:56.114Z"
   },
   {
    "duration": 320,
    "start_time": "2021-10-24T23:15:56.745Z"
   },
   {
    "duration": 24,
    "start_time": "2021-10-24T23:15:57.286Z"
   },
   {
    "duration": 27,
    "start_time": "2021-10-24T23:15:57.976Z"
   },
   {
    "duration": 19,
    "start_time": "2021-10-24T23:16:00.634Z"
   },
   {
    "duration": 30,
    "start_time": "2021-10-24T23:16:01.439Z"
   },
   {
    "duration": 33,
    "start_time": "2021-10-24T23:16:04.305Z"
   },
   {
    "duration": 8,
    "start_time": "2021-10-24T23:16:05.262Z"
   },
   {
    "duration": 205,
    "start_time": "2021-10-24T23:16:26.494Z"
   },
   {
    "duration": 339,
    "start_time": "2021-10-24T23:16:27.268Z"
   },
   {
    "duration": 199,
    "start_time": "2021-10-24T23:16:30.132Z"
   },
   {
    "duration": 39,
    "start_time": "2021-10-24T23:19:02.168Z"
   },
   {
    "duration": 316,
    "start_time": "2021-10-24T23:19:19.870Z"
   },
   {
    "duration": 39,
    "start_time": "2021-10-24T23:19:30.337Z"
   },
   {
    "duration": 303,
    "start_time": "2021-10-24T23:21:05.271Z"
   },
   {
    "duration": 20,
    "start_time": "2021-10-24T23:21:12.785Z"
   },
   {
    "duration": 284,
    "start_time": "2021-10-24T23:21:21.038Z"
   },
   {
    "duration": 297,
    "start_time": "2021-10-24T23:21:27.797Z"
   },
   {
    "duration": 434,
    "start_time": "2021-10-24T23:21:41.767Z"
   },
   {
    "duration": 27,
    "start_time": "2021-10-24T23:22:08.101Z"
   },
   {
    "duration": 22,
    "start_time": "2021-10-24T23:22:22.483Z"
   },
   {
    "duration": 271,
    "start_time": "2021-10-24T23:22:57.187Z"
   },
   {
    "duration": 26,
    "start_time": "2021-10-24T23:23:05.841Z"
   },
   {
    "duration": 423,
    "start_time": "2021-10-24T23:23:15.023Z"
   },
   {
    "duration": 321,
    "start_time": "2021-10-24T23:24:47.147Z"
   },
   {
    "duration": 322,
    "start_time": "2021-10-24T23:24:59.976Z"
   },
   {
    "duration": 321,
    "start_time": "2021-10-24T23:27:27.283Z"
   },
   {
    "duration": 377,
    "start_time": "2021-10-24T23:27:43.727Z"
   },
   {
    "duration": 17,
    "start_time": "2021-10-24T23:27:50.686Z"
   },
   {
    "duration": 309,
    "start_time": "2021-10-24T23:28:10.313Z"
   },
   {
    "duration": 14,
    "start_time": "2021-10-24T23:28:53.311Z"
   },
   {
    "duration": 241,
    "start_time": "2021-10-24T23:29:30.419Z"
   },
   {
    "duration": 173,
    "start_time": "2021-10-24T23:29:41.529Z"
   },
   {
    "duration": 17,
    "start_time": "2021-10-24T23:29:47.604Z"
   },
   {
    "duration": 2120,
    "start_time": "2021-10-24T23:35:14.740Z"
   },
   {
    "duration": 17,
    "start_time": "2021-10-24T23:35:16.862Z"
   },
   {
    "duration": 9,
    "start_time": "2021-10-24T23:35:16.882Z"
   },
   {
    "duration": 10,
    "start_time": "2021-10-24T23:35:16.893Z"
   },
   {
    "duration": 30,
    "start_time": "2021-10-24T23:35:16.906Z"
   },
   {
    "duration": 26,
    "start_time": "2021-10-24T23:35:16.939Z"
   },
   {
    "duration": 59,
    "start_time": "2021-10-24T23:35:16.968Z"
   },
   {
    "duration": 17,
    "start_time": "2021-10-24T23:35:17.030Z"
   },
   {
    "duration": 96,
    "start_time": "2021-10-24T23:35:17.050Z"
   },
   {
    "duration": 377,
    "start_time": "2021-10-24T23:35:17.148Z"
   },
   {
    "duration": 13,
    "start_time": "2021-10-24T23:35:17.527Z"
   },
   {
    "duration": 12,
    "start_time": "2021-10-24T23:35:17.542Z"
   },
   {
    "duration": 14,
    "start_time": "2021-10-24T23:35:17.556Z"
   },
   {
    "duration": 52,
    "start_time": "2021-10-24T23:35:17.572Z"
   },
   {
    "duration": 47,
    "start_time": "2021-10-24T23:35:17.627Z"
   },
   {
    "duration": 8,
    "start_time": "2021-10-24T23:35:17.676Z"
   },
   {
    "duration": 58,
    "start_time": "2021-10-24T23:35:17.686Z"
   },
   {
    "duration": 338,
    "start_time": "2021-10-24T23:35:17.746Z"
   },
   {
    "duration": 38,
    "start_time": "2021-10-24T23:35:18.086Z"
   },
   {
    "duration": 28,
    "start_time": "2021-10-24T23:35:18.126Z"
   },
   {
    "duration": 16,
    "start_time": "2021-10-24T23:35:18.156Z"
   },
   {
    "duration": 49,
    "start_time": "2021-10-24T23:35:18.175Z"
   },
   {
    "duration": 31,
    "start_time": "2021-10-24T23:35:18.228Z"
   },
   {
    "duration": 8,
    "start_time": "2021-10-24T23:35:18.262Z"
   },
   {
    "duration": 264,
    "start_time": "2021-10-24T23:35:18.272Z"
   },
   {
    "duration": 343,
    "start_time": "2021-10-24T23:35:18.539Z"
   },
   {
    "duration": 208,
    "start_time": "2021-10-24T23:35:18.884Z"
   },
   {
    "duration": 30,
    "start_time": "2021-10-24T23:35:19.095Z"
   },
   {
    "duration": 331,
    "start_time": "2021-10-24T23:35:19.127Z"
   },
   {
    "duration": 337,
    "start_time": "2021-10-24T23:35:19.460Z"
   },
   {
    "duration": 59,
    "start_time": "2021-10-24T23:35:19.799Z"
   },
   {
    "duration": 24,
    "start_time": "2021-10-24T23:35:19.861Z"
   },
   {
    "duration": 184,
    "start_time": "2021-10-24T23:35:19.888Z"
   },
   {
    "duration": 55,
    "start_time": "2021-10-24T23:35:20.075Z"
   },
   {
    "duration": 26,
    "start_time": "2021-10-24T23:35:20.132Z"
   },
   {
    "duration": 20,
    "start_time": "2021-10-24T23:35:20.160Z"
   },
   {
    "duration": 5,
    "start_time": "2021-10-24T23:35:20.183Z"
   },
   {
    "duration": 51,
    "start_time": "2021-10-24T23:35:20.222Z"
   },
   {
    "duration": 10,
    "start_time": "2021-10-24T23:35:20.276Z"
   },
   {
    "duration": 2228,
    "start_time": "2021-10-24T23:36:22.726Z"
   },
   {
    "duration": 18,
    "start_time": "2021-10-24T23:36:24.957Z"
   },
   {
    "duration": 11,
    "start_time": "2021-10-24T23:36:24.978Z"
   },
   {
    "duration": 8,
    "start_time": "2021-10-24T23:36:24.992Z"
   },
   {
    "duration": 33,
    "start_time": "2021-10-24T23:36:25.002Z"
   },
   {
    "duration": 22,
    "start_time": "2021-10-24T23:36:25.038Z"
   },
   {
    "duration": 72,
    "start_time": "2021-10-24T23:36:25.063Z"
   },
   {
    "duration": 16,
    "start_time": "2021-10-24T23:36:25.139Z"
   },
   {
    "duration": 91,
    "start_time": "2021-10-24T23:36:25.159Z"
   },
   {
    "duration": 363,
    "start_time": "2021-10-24T23:36:25.252Z"
   },
   {
    "duration": 14,
    "start_time": "2021-10-24T23:36:25.622Z"
   },
   {
    "duration": 14,
    "start_time": "2021-10-24T23:36:25.639Z"
   },
   {
    "duration": 15,
    "start_time": "2021-10-24T23:36:25.656Z"
   },
   {
    "duration": 53,
    "start_time": "2021-10-24T23:36:25.674Z"
   },
   {
    "duration": 55,
    "start_time": "2021-10-24T23:36:25.729Z"
   },
   {
    "duration": 8,
    "start_time": "2021-10-24T23:36:25.786Z"
   },
   {
    "duration": 37,
    "start_time": "2021-10-24T23:36:25.822Z"
   },
   {
    "duration": 405,
    "start_time": "2021-10-24T23:36:25.862Z"
   },
   {
    "duration": 22,
    "start_time": "2021-10-24T23:36:26.270Z"
   },
   {
    "duration": 48,
    "start_time": "2021-10-24T23:36:26.295Z"
   },
   {
    "duration": 17,
    "start_time": "2021-10-24T23:36:26.345Z"
   },
   {
    "duration": 22,
    "start_time": "2021-10-24T23:36:26.364Z"
   },
   {
    "duration": 61,
    "start_time": "2021-10-24T23:36:26.392Z"
   },
   {
    "duration": 9,
    "start_time": "2021-10-24T23:36:26.456Z"
   },
   {
    "duration": 263,
    "start_time": "2021-10-24T23:36:26.467Z"
   },
   {
    "duration": 354,
    "start_time": "2021-10-24T23:36:26.732Z"
   },
   {
    "duration": 202,
    "start_time": "2021-10-24T23:36:27.089Z"
   },
   {
    "duration": 36,
    "start_time": "2021-10-24T23:36:27.294Z"
   },
   {
    "duration": 337,
    "start_time": "2021-10-24T23:36:27.333Z"
   },
   {
    "duration": 452,
    "start_time": "2021-10-24T23:36:27.673Z"
   },
   {
    "duration": 51,
    "start_time": "2021-10-24T23:36:28.128Z"
   },
   {
    "duration": 47,
    "start_time": "2021-10-24T23:36:28.182Z"
   },
   {
    "duration": 184,
    "start_time": "2021-10-24T23:36:28.232Z"
   },
   {
    "duration": 46,
    "start_time": "2021-10-24T23:36:28.423Z"
   },
   {
    "duration": 27,
    "start_time": "2021-10-24T23:36:28.471Z"
   },
   {
    "duration": 21,
    "start_time": "2021-10-24T23:36:28.523Z"
   },
   {
    "duration": 3,
    "start_time": "2021-10-24T23:36:28.546Z"
   },
   {
    "duration": 84,
    "start_time": "2021-10-24T23:36:28.551Z"
   },
   {
    "duration": 10,
    "start_time": "2021-10-24T23:36:28.637Z"
   },
   {
    "duration": 6,
    "start_time": "2021-10-24T23:38:04.123Z"
   },
   {
    "duration": 51,
    "start_time": "2021-10-24T23:38:05.880Z"
   },
   {
    "duration": 151,
    "start_time": "2021-10-24T23:38:35.044Z"
   },
   {
    "duration": 143,
    "start_time": "2021-10-24T23:38:53.099Z"
   },
   {
    "duration": 521,
    "start_time": "2021-10-24T23:39:24.570Z"
   },
   {
    "duration": 145,
    "start_time": "2021-10-24T23:39:31.608Z"
   },
   {
    "duration": 307,
    "start_time": "2021-10-24T23:39:35.442Z"
   },
   {
    "duration": 175,
    "start_time": "2021-10-24T23:39:47.166Z"
   },
   {
    "duration": 43,
    "start_time": "2021-10-24T23:39:58.326Z"
   },
   {
    "duration": 365,
    "start_time": "2021-10-24T23:40:20.761Z"
   },
   {
    "duration": 303,
    "start_time": "2021-10-24T23:40:54.474Z"
   },
   {
    "duration": 292,
    "start_time": "2021-10-24T23:41:05.455Z"
   },
   {
    "duration": 332,
    "start_time": "2021-10-24T23:41:17.452Z"
   },
   {
    "duration": 41,
    "start_time": "2021-10-24T23:41:29.551Z"
   },
   {
    "duration": 160,
    "start_time": "2021-10-24T23:42:11.941Z"
   },
   {
    "duration": 166,
    "start_time": "2021-10-24T23:42:17.573Z"
   },
   {
    "duration": 2132,
    "start_time": "2021-10-24T23:48:14.133Z"
   },
   {
    "duration": 20,
    "start_time": "2021-10-24T23:48:16.268Z"
   },
   {
    "duration": 10,
    "start_time": "2021-10-24T23:48:16.292Z"
   },
   {
    "duration": 8,
    "start_time": "2021-10-24T23:48:16.323Z"
   },
   {
    "duration": 17,
    "start_time": "2021-10-24T23:48:16.334Z"
   },
   {
    "duration": 22,
    "start_time": "2021-10-24T23:48:16.354Z"
   },
   {
    "duration": 80,
    "start_time": "2021-10-24T23:48:16.379Z"
   },
   {
    "duration": 16,
    "start_time": "2021-10-24T23:48:16.463Z"
   },
   {
    "duration": 100,
    "start_time": "2021-10-24T23:48:16.481Z"
   },
   {
    "duration": 353,
    "start_time": "2021-10-24T23:48:16.584Z"
   },
   {
    "duration": 14,
    "start_time": "2021-10-24T23:48:16.940Z"
   },
   {
    "duration": 13,
    "start_time": "2021-10-24T23:48:16.957Z"
   },
   {
    "duration": 16,
    "start_time": "2021-10-24T23:48:16.973Z"
   },
   {
    "duration": 20,
    "start_time": "2021-10-24T23:48:17.024Z"
   },
   {
    "duration": 46,
    "start_time": "2021-10-24T23:48:17.047Z"
   },
   {
    "duration": 31,
    "start_time": "2021-10-24T23:48:17.095Z"
   },
   {
    "duration": 42,
    "start_time": "2021-10-24T23:48:17.129Z"
   },
   {
    "duration": 339,
    "start_time": "2021-10-24T23:48:17.173Z"
   },
   {
    "duration": 29,
    "start_time": "2021-10-24T23:48:17.514Z"
   },
   {
    "duration": 28,
    "start_time": "2021-10-24T23:48:17.545Z"
   },
   {
    "duration": 49,
    "start_time": "2021-10-24T23:48:17.575Z"
   },
   {
    "duration": 22,
    "start_time": "2021-10-24T23:48:17.626Z"
   },
   {
    "duration": 31,
    "start_time": "2021-10-24T23:48:17.652Z"
   },
   {
    "duration": 39,
    "start_time": "2021-10-24T23:48:17.686Z"
   },
   {
    "duration": 243,
    "start_time": "2021-10-24T23:48:17.728Z"
   },
   {
    "duration": 351,
    "start_time": "2021-10-24T23:48:17.975Z"
   },
   {
    "duration": 210,
    "start_time": "2021-10-24T23:48:18.329Z"
   },
   {
    "duration": 20,
    "start_time": "2021-10-24T23:48:18.542Z"
   },
   {
    "duration": 343,
    "start_time": "2021-10-24T23:48:18.565Z"
   },
   {
    "duration": 331,
    "start_time": "2021-10-24T23:48:18.911Z"
   },
   {
    "duration": 39,
    "start_time": "2021-10-24T23:48:19.245Z"
   },
   {
    "duration": 47,
    "start_time": "2021-10-24T23:48:19.286Z"
   },
   {
    "duration": 133,
    "start_time": "2021-10-24T23:48:19.335Z"
   },
   {
    "duration": 52,
    "start_time": "2021-10-24T23:48:19.470Z"
   },
   {
    "duration": 22,
    "start_time": "2021-10-24T23:48:19.524Z"
   },
   {
    "duration": 17,
    "start_time": "2021-10-24T23:48:19.549Z"
   },
   {
    "duration": 13,
    "start_time": "2021-10-24T23:48:19.568Z"
   },
   {
    "duration": 79,
    "start_time": "2021-10-24T23:48:19.583Z"
   },
   {
    "duration": 10,
    "start_time": "2021-10-24T23:48:19.664Z"
   },
   {
    "duration": 122,
    "start_time": "2021-10-24T23:52:05.345Z"
   },
   {
    "duration": 246,
    "start_time": "2021-10-24T23:52:22.316Z"
   },
   {
    "duration": 184,
    "start_time": "2021-10-24T23:53:25.483Z"
   },
   {
    "duration": 38,
    "start_time": "2021-10-24T23:53:29.888Z"
   },
   {
    "duration": 197,
    "start_time": "2021-10-24T23:53:36.455Z"
   },
   {
    "duration": 41,
    "start_time": "2021-10-24T23:53:42.280Z"
   },
   {
    "duration": 110,
    "start_time": "2021-10-24T23:54:00.115Z"
   },
   {
    "duration": 43,
    "start_time": "2021-10-24T23:54:03.784Z"
   },
   {
    "duration": 2393,
    "start_time": "2021-10-25T09:17:55.625Z"
   },
   {
    "duration": 17,
    "start_time": "2021-10-25T09:17:58.021Z"
   },
   {
    "duration": 18,
    "start_time": "2021-10-25T09:17:58.041Z"
   },
   {
    "duration": 15,
    "start_time": "2021-10-25T09:17:58.062Z"
   },
   {
    "duration": 22,
    "start_time": "2021-10-25T09:17:58.079Z"
   },
   {
    "duration": 27,
    "start_time": "2021-10-25T09:17:58.104Z"
   },
   {
    "duration": 65,
    "start_time": "2021-10-25T09:17:58.134Z"
   },
   {
    "duration": 16,
    "start_time": "2021-10-25T09:17:58.202Z"
   },
   {
    "duration": 108,
    "start_time": "2021-10-25T09:17:58.221Z"
   },
   {
    "duration": 359,
    "start_time": "2021-10-25T09:17:58.331Z"
   },
   {
    "duration": 14,
    "start_time": "2021-10-25T09:17:58.692Z"
   },
   {
    "duration": 12,
    "start_time": "2021-10-25T09:17:58.709Z"
   },
   {
    "duration": 45,
    "start_time": "2021-10-25T09:17:58.724Z"
   },
   {
    "duration": 21,
    "start_time": "2021-10-25T09:17:58.772Z"
   },
   {
    "duration": 73,
    "start_time": "2021-10-25T09:17:58.795Z"
   },
   {
    "duration": 8,
    "start_time": "2021-10-25T09:17:58.871Z"
   },
   {
    "duration": 36,
    "start_time": "2021-10-25T09:17:58.882Z"
   },
   {
    "duration": 369,
    "start_time": "2021-10-25T09:17:58.921Z"
   },
   {
    "duration": 24,
    "start_time": "2021-10-25T09:17:59.292Z"
   },
   {
    "duration": 50,
    "start_time": "2021-10-25T09:17:59.319Z"
   },
   {
    "duration": 18,
    "start_time": "2021-10-25T09:17:59.372Z"
   },
   {
    "duration": 20,
    "start_time": "2021-10-25T09:17:59.392Z"
   },
   {
    "duration": 59,
    "start_time": "2021-10-25T09:17:59.417Z"
   },
   {
    "duration": 7,
    "start_time": "2021-10-25T09:17:59.479Z"
   },
   {
    "duration": 241,
    "start_time": "2021-10-25T09:17:59.489Z"
   },
   {
    "duration": 455,
    "start_time": "2021-10-25T09:17:59.733Z"
   },
   {
    "duration": 238,
    "start_time": "2021-10-25T09:18:00.191Z"
   },
   {
    "duration": 32,
    "start_time": "2021-10-25T09:18:00.432Z"
   },
   {
    "duration": 356,
    "start_time": "2021-10-25T09:18:00.466Z"
   },
   {
    "duration": 345,
    "start_time": "2021-10-25T09:18:00.824Z"
   },
   {
    "duration": 41,
    "start_time": "2021-10-25T09:18:01.173Z"
   },
   {
    "duration": 49,
    "start_time": "2021-10-25T09:18:01.216Z"
   },
   {
    "duration": 141,
    "start_time": "2021-10-25T09:18:01.268Z"
   },
   {
    "duration": 63,
    "start_time": "2021-10-25T09:18:01.412Z"
   },
   {
    "duration": 23,
    "start_time": "2021-10-25T09:18:01.478Z"
   },
   {
    "duration": 18,
    "start_time": "2021-10-25T09:18:01.504Z"
   },
   {
    "duration": 36,
    "start_time": "2021-10-25T09:18:01.525Z"
   },
   {
    "duration": 86,
    "start_time": "2021-10-25T09:18:01.563Z"
   },
   {
    "duration": 13,
    "start_time": "2021-10-25T09:18:01.653Z"
   },
   {
    "duration": 103,
    "start_time": "2021-10-25T09:24:52.883Z"
   },
   {
    "duration": 1126,
    "start_time": "2021-10-25T09:26:15.120Z"
   },
   {
    "duration": 20,
    "start_time": "2021-10-25T09:26:36.755Z"
   },
   {
    "duration": 42,
    "start_time": "2021-10-25T09:30:36.907Z"
   },
   {
    "duration": 329,
    "start_time": "2021-10-25T09:34:28.315Z"
   },
   {
    "duration": 164901,
    "start_time": "2021-10-25T09:38:23.544Z"
   },
   {
    "duration": 12617,
    "start_time": "2021-10-25T09:41:16.315Z"
   },
   {
    "duration": 18,
    "start_time": "2021-10-25T09:41:28.934Z"
   },
   {
    "duration": 10,
    "start_time": "2021-10-25T09:41:28.955Z"
   },
   {
    "duration": 12,
    "start_time": "2021-10-25T09:41:28.968Z"
   },
   {
    "duration": 23,
    "start_time": "2021-10-25T09:41:28.983Z"
   },
   {
    "duration": 54,
    "start_time": "2021-10-25T09:41:29.008Z"
   },
   {
    "duration": 44,
    "start_time": "2021-10-25T09:41:29.064Z"
   },
   {
    "duration": 46,
    "start_time": "2021-10-25T09:41:29.111Z"
   },
   {
    "duration": 76,
    "start_time": "2021-10-25T09:41:29.161Z"
   },
   {
    "duration": 399,
    "start_time": "2021-10-25T09:41:29.239Z"
   },
   {
    "duration": 23,
    "start_time": "2021-10-25T09:41:29.640Z"
   },
   {
    "duration": 14,
    "start_time": "2021-10-25T09:41:29.665Z"
   },
   {
    "duration": 15,
    "start_time": "2021-10-25T09:41:29.682Z"
   },
   {
    "duration": 60,
    "start_time": "2021-10-25T09:41:29.700Z"
   },
   {
    "duration": 47,
    "start_time": "2021-10-25T09:41:29.764Z"
   },
   {
    "duration": 7,
    "start_time": "2021-10-25T09:41:29.814Z"
   },
   {
    "duration": 69,
    "start_time": "2021-10-25T09:41:29.823Z"
   },
   {
    "duration": 356,
    "start_time": "2021-10-25T09:41:29.894Z"
   },
   {
    "duration": 24,
    "start_time": "2021-10-25T09:41:30.257Z"
   },
   {
    "duration": 28,
    "start_time": "2021-10-25T09:41:30.284Z"
   },
   {
    "duration": 56,
    "start_time": "2021-10-25T09:41:30.314Z"
   },
   {
    "duration": 22,
    "start_time": "2021-10-25T09:41:30.372Z"
   },
   {
    "duration": 60,
    "start_time": "2021-10-25T09:41:30.399Z"
   },
   {
    "duration": 9,
    "start_time": "2021-10-25T09:41:30.462Z"
   },
   {
    "duration": 242,
    "start_time": "2021-10-25T09:41:30.474Z"
   },
   {
    "duration": 377,
    "start_time": "2021-10-25T09:41:30.719Z"
   },
   {
    "duration": 206,
    "start_time": "2021-10-25T09:41:31.098Z"
   },
   {
    "duration": 18,
    "start_time": "2021-10-25T09:41:31.307Z"
   },
   {
    "duration": 326,
    "start_time": "2021-10-25T09:41:31.327Z"
   },
   {
    "duration": 328,
    "start_time": "2021-10-25T09:41:31.657Z"
   },
   {
    "duration": 50,
    "start_time": "2021-10-25T09:41:31.987Z"
   },
   {
    "duration": 34,
    "start_time": "2021-10-25T09:41:32.039Z"
   },
   {
    "duration": 353,
    "start_time": "2021-10-25T09:41:32.075Z"
   },
   {
    "duration": 174,
    "start_time": "2021-10-25T09:41:32.431Z"
   },
   {
    "duration": 26,
    "start_time": "2021-10-25T09:41:32.608Z"
   },
   {
    "duration": 31,
    "start_time": "2021-10-25T09:41:32.637Z"
   },
   {
    "duration": 21,
    "start_time": "2021-10-25T09:41:32.670Z"
   },
   {
    "duration": 6,
    "start_time": "2021-10-25T09:41:32.694Z"
   },
   {
    "duration": 71,
    "start_time": "2021-10-25T09:41:32.702Z"
   },
   {
    "duration": 10,
    "start_time": "2021-10-25T09:41:32.775Z"
   },
   {
    "duration": 29979,
    "start_time": "2021-10-25T09:42:55.119Z"
   },
   {
    "duration": 1661,
    "start_time": "2021-10-25T09:44:04.123Z"
   },
   {
    "duration": 66892,
    "start_time": "2021-10-25T09:44:18.731Z"
   },
   {
    "duration": 48899,
    "start_time": "2021-10-25T09:45:54.634Z"
   },
   {
    "duration": 29,
    "start_time": "2021-10-25T09:49:33.240Z"
   },
   {
    "duration": 24,
    "start_time": "2021-10-25T09:49:44.862Z"
   },
   {
    "duration": 29,
    "start_time": "2021-10-25T09:49:49.171Z"
   },
   {
    "duration": 44159,
    "start_time": "2021-10-25T09:49:55.989Z"
   },
   {
    "duration": 271,
    "start_time": "2021-10-25T09:51:57.658Z"
   },
   {
    "duration": 319,
    "start_time": "2021-10-25T09:58:13.434Z"
   },
   {
    "duration": 798,
    "start_time": "2021-10-25T09:59:27.145Z"
   },
   {
    "duration": 458,
    "start_time": "2021-10-25T09:59:46.425Z"
   },
   {
    "duration": 457,
    "start_time": "2021-10-25T09:59:58.176Z"
   },
   {
    "duration": 356,
    "start_time": "2021-10-25T10:00:09.735Z"
   },
   {
    "duration": 341,
    "start_time": "2021-10-25T10:01:24.475Z"
   },
   {
    "duration": 721,
    "start_time": "2021-10-25T10:01:53.351Z"
   },
   {
    "duration": 893,
    "start_time": "2021-10-25T10:02:26.734Z"
   },
   {
    "duration": 355,
    "start_time": "2021-10-25T10:02:54.370Z"
   },
   {
    "duration": 355,
    "start_time": "2021-10-25T10:03:42.073Z"
   },
   {
    "duration": 546,
    "start_time": "2021-10-25T10:04:37.862Z"
   },
   {
    "duration": 424,
    "start_time": "2021-10-25T10:05:39.346Z"
   },
   {
    "duration": 356,
    "start_time": "2021-10-25T10:05:52.299Z"
   },
   {
    "duration": 883,
    "start_time": "2021-10-25T10:10:52.294Z"
   },
   {
    "duration": 958,
    "start_time": "2021-10-25T10:12:55.695Z"
   },
   {
    "duration": 151,
    "start_time": "2021-10-25T10:14:08.217Z"
   },
   {
    "duration": 35,
    "start_time": "2021-10-25T10:15:05.569Z"
   },
   {
    "duration": 9862,
    "start_time": "2021-10-25T10:15:28.715Z"
   },
   {
    "duration": 18,
    "start_time": "2021-10-25T10:15:38.580Z"
   },
   {
    "duration": 20,
    "start_time": "2021-10-25T10:15:38.602Z"
   },
   {
    "duration": 32,
    "start_time": "2021-10-25T10:15:38.625Z"
   },
   {
    "duration": 16,
    "start_time": "2021-10-25T10:15:38.660Z"
   },
   {
    "duration": 23,
    "start_time": "2021-10-25T10:15:38.679Z"
   },
   {
    "duration": 87,
    "start_time": "2021-10-25T10:15:38.705Z"
   },
   {
    "duration": 15,
    "start_time": "2021-10-25T10:15:38.798Z"
   },
   {
    "duration": 102,
    "start_time": "2021-10-25T10:15:38.816Z"
   },
   {
    "duration": 396,
    "start_time": "2021-10-25T10:15:38.920Z"
   },
   {
    "duration": 15,
    "start_time": "2021-10-25T10:15:39.318Z"
   },
   {
    "duration": 26,
    "start_time": "2021-10-25T10:15:39.336Z"
   },
   {
    "duration": 22,
    "start_time": "2021-10-25T10:15:39.365Z"
   },
   {
    "duration": 28,
    "start_time": "2021-10-25T10:15:39.391Z"
   },
   {
    "duration": 103,
    "start_time": "2021-10-25T10:15:39.422Z"
   },
   {
    "duration": 11,
    "start_time": "2021-10-25T10:15:39.528Z"
   },
   {
    "duration": 54,
    "start_time": "2021-10-25T10:15:39.559Z"
   },
   {
    "duration": 675,
    "start_time": "2021-10-25T10:15:39.616Z"
   },
   {
    "duration": 39,
    "start_time": "2021-10-25T10:15:40.294Z"
   },
   {
    "duration": 60,
    "start_time": "2021-10-25T10:15:40.336Z"
   },
   {
    "duration": 28,
    "start_time": "2021-10-25T10:15:40.399Z"
   },
   {
    "duration": 59,
    "start_time": "2021-10-25T10:15:40.430Z"
   },
   {
    "duration": 79,
    "start_time": "2021-10-25T10:15:40.497Z"
   },
   {
    "duration": 12,
    "start_time": "2021-10-25T10:15:40.580Z"
   },
   {
    "duration": 252,
    "start_time": "2021-10-25T10:15:40.594Z"
   },
   {
    "duration": 356,
    "start_time": "2021-10-25T10:15:40.848Z"
   },
   {
    "duration": 218,
    "start_time": "2021-10-25T10:15:41.206Z"
   },
   {
    "duration": 17,
    "start_time": "2021-10-25T10:15:41.427Z"
   },
   {
    "duration": 332,
    "start_time": "2021-10-25T10:15:41.459Z"
   },
   {
    "duration": 329,
    "start_time": "2021-10-25T10:15:41.793Z"
   },
   {
    "duration": 36,
    "start_time": "2021-10-25T10:15:42.125Z"
   },
   {
    "duration": 678,
    "start_time": "2021-10-25T10:15:42.163Z"
   },
   {
    "duration": 154,
    "start_time": "2021-10-25T10:15:42.843Z"
   },
   {
    "duration": 33,
    "start_time": "2021-10-25T10:15:43.001Z"
   },
   {
    "duration": 50,
    "start_time": "2021-10-25T10:15:43.036Z"
   },
   {
    "duration": 20,
    "start_time": "2021-10-25T10:15:43.089Z"
   },
   {
    "duration": 10,
    "start_time": "2021-10-25T10:15:43.111Z"
   },
   {
    "duration": 93,
    "start_time": "2021-10-25T10:15:43.123Z"
   },
   {
    "duration": 11,
    "start_time": "2021-10-25T10:15:43.218Z"
   },
   {
    "duration": 31,
    "start_time": "2021-10-25T10:23:15.855Z"
   },
   {
    "duration": 2194,
    "start_time": "2021-10-25T10:34:08.885Z"
   },
   {
    "duration": 18,
    "start_time": "2021-10-25T10:34:11.081Z"
   },
   {
    "duration": 8,
    "start_time": "2021-10-25T10:34:11.102Z"
   },
   {
    "duration": 9,
    "start_time": "2021-10-25T10:34:11.113Z"
   },
   {
    "duration": 42,
    "start_time": "2021-10-25T10:34:11.125Z"
   },
   {
    "duration": 23,
    "start_time": "2021-10-25T10:34:11.169Z"
   },
   {
    "duration": 72,
    "start_time": "2021-10-25T10:34:11.195Z"
   },
   {
    "duration": 16,
    "start_time": "2021-10-25T10:34:11.271Z"
   },
   {
    "duration": 96,
    "start_time": "2021-10-25T10:34:11.290Z"
   },
   {
    "duration": 369,
    "start_time": "2021-10-25T10:34:11.389Z"
   },
   {
    "duration": 14,
    "start_time": "2021-10-25T10:34:11.761Z"
   },
   {
    "duration": 14,
    "start_time": "2021-10-25T10:34:11.777Z"
   },
   {
    "duration": 16,
    "start_time": "2021-10-25T10:34:11.793Z"
   },
   {
    "duration": 54,
    "start_time": "2021-10-25T10:34:11.811Z"
   },
   {
    "duration": 46,
    "start_time": "2021-10-25T10:34:11.868Z"
   },
   {
    "duration": 8,
    "start_time": "2021-10-25T10:34:11.916Z"
   },
   {
    "duration": 64,
    "start_time": "2021-10-25T10:34:11.927Z"
   },
   {
    "duration": 365,
    "start_time": "2021-10-25T10:34:11.994Z"
   },
   {
    "duration": 25,
    "start_time": "2021-10-25T10:34:12.361Z"
   },
   {
    "duration": 28,
    "start_time": "2021-10-25T10:34:12.389Z"
   },
   {
    "duration": 51,
    "start_time": "2021-10-25T10:34:12.420Z"
   },
   {
    "duration": 23,
    "start_time": "2021-10-25T10:34:12.473Z"
   },
   {
    "duration": 67,
    "start_time": "2021-10-25T10:34:12.503Z"
   },
   {
    "duration": 10,
    "start_time": "2021-10-25T10:34:12.573Z"
   },
   {
    "duration": 301,
    "start_time": "2021-10-25T10:34:12.586Z"
   },
   {
    "duration": 359,
    "start_time": "2021-10-25T10:34:12.890Z"
   },
   {
    "duration": 231,
    "start_time": "2021-10-25T10:34:13.252Z"
   },
   {
    "duration": 17,
    "start_time": "2021-10-25T10:34:13.485Z"
   },
   {
    "duration": 376,
    "start_time": "2021-10-25T10:34:13.504Z"
   },
   {
    "duration": 542,
    "start_time": "2021-10-25T10:34:13.883Z"
   },
   {
    "duration": 56,
    "start_time": "2021-10-25T10:34:14.429Z"
   },
   {
    "duration": 1024,
    "start_time": "2021-10-25T10:34:14.489Z"
   },
   {
    "duration": 222,
    "start_time": "2021-10-25T10:34:15.516Z"
   },
   {
    "duration": 61,
    "start_time": "2021-10-25T10:34:15.741Z"
   },
   {
    "duration": 67,
    "start_time": "2021-10-25T10:34:15.805Z"
   },
   {
    "duration": 21,
    "start_time": "2021-10-25T10:34:15.875Z"
   },
   {
    "duration": 6,
    "start_time": "2021-10-25T10:34:15.898Z"
   },
   {
    "duration": 88,
    "start_time": "2021-10-25T10:34:15.906Z"
   },
   {
    "duration": 11,
    "start_time": "2021-10-25T10:34:15.997Z"
   },
   {
    "duration": 638,
    "start_time": "2021-10-25T10:39:45.786Z"
   },
   {
    "duration": 1426,
    "start_time": "2021-10-25T10:40:13.539Z"
   },
   {
    "duration": 518,
    "start_time": "2021-10-25T10:40:39.342Z"
   },
   {
    "duration": 405,
    "start_time": "2021-10-25T10:41:59.958Z"
   },
   {
    "duration": 2271,
    "start_time": "2021-10-25T10:51:27.806Z"
   },
   {
    "duration": 22,
    "start_time": "2021-10-25T10:51:30.079Z"
   },
   {
    "duration": 17,
    "start_time": "2021-10-25T10:51:30.105Z"
   },
   {
    "duration": 15,
    "start_time": "2021-10-25T10:51:30.124Z"
   },
   {
    "duration": 18,
    "start_time": "2021-10-25T10:51:30.142Z"
   },
   {
    "duration": 38,
    "start_time": "2021-10-25T10:51:30.163Z"
   },
   {
    "duration": 57,
    "start_time": "2021-10-25T10:51:30.203Z"
   },
   {
    "duration": 17,
    "start_time": "2021-10-25T10:51:30.264Z"
   },
   {
    "duration": 86,
    "start_time": "2021-10-25T10:51:30.285Z"
   },
   {
    "duration": 408,
    "start_time": "2021-10-25T10:51:30.374Z"
   },
   {
    "duration": 14,
    "start_time": "2021-10-25T10:51:30.784Z"
   },
   {
    "duration": 33,
    "start_time": "2021-10-25T10:51:30.801Z"
   },
   {
    "duration": 23,
    "start_time": "2021-10-25T10:51:30.836Z"
   },
   {
    "duration": 21,
    "start_time": "2021-10-25T10:51:30.861Z"
   },
   {
    "duration": 50,
    "start_time": "2021-10-25T10:51:30.884Z"
   },
   {
    "duration": 8,
    "start_time": "2021-10-25T10:51:30.937Z"
   },
   {
    "duration": 49,
    "start_time": "2021-10-25T10:51:30.948Z"
   },
   {
    "duration": 449,
    "start_time": "2021-10-25T10:51:31.000Z"
   },
   {
    "duration": 27,
    "start_time": "2021-10-25T10:51:31.452Z"
   },
   {
    "duration": 26,
    "start_time": "2021-10-25T10:51:31.481Z"
   },
   {
    "duration": 18,
    "start_time": "2021-10-25T10:51:31.509Z"
   },
   {
    "duration": 45,
    "start_time": "2021-10-25T10:51:31.529Z"
   },
   {
    "duration": 32,
    "start_time": "2021-10-25T10:51:31.580Z"
   },
   {
    "duration": 48,
    "start_time": "2021-10-25T10:51:31.615Z"
   },
   {
    "duration": 386,
    "start_time": "2021-10-25T10:51:31.665Z"
   },
   {
    "duration": 358,
    "start_time": "2021-10-25T10:51:32.057Z"
   },
   {
    "duration": 222,
    "start_time": "2021-10-25T10:51:32.417Z"
   },
   {
    "duration": 28,
    "start_time": "2021-10-25T10:51:32.641Z"
   },
   {
    "duration": 339,
    "start_time": "2021-10-25T10:51:32.671Z"
   },
   {
    "duration": 338,
    "start_time": "2021-10-25T10:51:33.013Z"
   },
   {
    "duration": 29,
    "start_time": "2021-10-25T10:51:33.358Z"
   },
   {
    "duration": 681,
    "start_time": "2021-10-25T10:51:33.389Z"
   },
   {
    "duration": 158,
    "start_time": "2021-10-25T10:51:34.072Z"
   },
   {
    "duration": 45,
    "start_time": "2021-10-25T10:51:34.232Z"
   },
   {
    "duration": 517,
    "start_time": "2021-10-25T10:51:34.280Z"
   },
   {
    "duration": 33,
    "start_time": "2021-10-25T10:51:34.801Z"
   },
   {
    "duration": 41,
    "start_time": "2021-10-25T10:51:34.837Z"
   },
   {
    "duration": 6,
    "start_time": "2021-10-25T10:51:34.880Z"
   },
   {
    "duration": 120,
    "start_time": "2021-10-25T10:51:34.889Z"
   },
   {
    "duration": 14,
    "start_time": "2021-10-25T10:51:35.012Z"
   },
   {
    "duration": 15,
    "start_time": "2021-10-25T11:20:21.560Z"
   },
   {
    "duration": 16,
    "start_time": "2021-10-25T11:37:08.196Z"
   },
   {
    "duration": 118,
    "start_time": "2021-10-25T11:39:15.014Z"
   },
   {
    "duration": 28,
    "start_time": "2021-10-25T11:39:20.912Z"
   },
   {
    "duration": 21,
    "start_time": "2021-10-25T11:39:21.879Z"
   },
   {
    "duration": 6,
    "start_time": "2021-10-25T11:39:22.836Z"
   },
   {
    "duration": 61,
    "start_time": "2021-10-25T11:39:24.376Z"
   },
   {
    "duration": 12,
    "start_time": "2021-10-25T11:39:29.229Z"
   },
   {
    "duration": 248,
    "start_time": "2021-10-25T11:39:57.142Z"
   },
   {
    "duration": 262,
    "start_time": "2021-10-25T11:40:18.026Z"
   },
   {
    "duration": 53,
    "start_time": "2021-10-25T11:40:23.641Z"
   },
   {
    "duration": 33,
    "start_time": "2021-10-25T11:40:24.793Z"
   },
   {
    "duration": 6,
    "start_time": "2021-10-25T11:40:30.131Z"
   },
   {
    "duration": 62,
    "start_time": "2021-10-25T11:40:31.151Z"
   },
   {
    "duration": 13,
    "start_time": "2021-10-25T11:40:35.313Z"
   },
   {
    "duration": 2963,
    "start_time": "2021-10-25T11:41:38.618Z"
   },
   {
    "duration": 22,
    "start_time": "2021-10-25T11:41:56.943Z"
   },
   {
    "duration": 11495,
    "start_time": "2021-10-25T11:42:25.476Z"
   },
   {
    "duration": 18,
    "start_time": "2021-10-25T11:42:36.974Z"
   },
   {
    "duration": 43,
    "start_time": "2021-10-25T11:42:36.994Z"
   },
   {
    "duration": 36,
    "start_time": "2021-10-25T11:42:37.039Z"
   },
   {
    "duration": 35,
    "start_time": "2021-10-25T11:42:37.077Z"
   },
   {
    "duration": 58,
    "start_time": "2021-10-25T11:42:37.114Z"
   },
   {
    "duration": 70,
    "start_time": "2021-10-25T11:42:37.174Z"
   },
   {
    "duration": 17,
    "start_time": "2021-10-25T11:42:37.248Z"
   },
   {
    "duration": 97,
    "start_time": "2021-10-25T11:42:37.269Z"
   },
   {
    "duration": 383,
    "start_time": "2021-10-25T11:42:37.369Z"
   },
   {
    "duration": 15,
    "start_time": "2021-10-25T11:42:37.754Z"
   },
   {
    "duration": 55,
    "start_time": "2021-10-25T11:42:37.772Z"
   },
   {
    "duration": 39,
    "start_time": "2021-10-25T11:42:37.831Z"
   },
   {
    "duration": 47,
    "start_time": "2021-10-25T11:42:37.873Z"
   },
   {
    "duration": 70,
    "start_time": "2021-10-25T11:42:37.923Z"
   },
   {
    "duration": 11,
    "start_time": "2021-10-25T11:42:37.997Z"
   },
   {
    "duration": 75,
    "start_time": "2021-10-25T11:42:38.011Z"
   },
   {
    "duration": 632,
    "start_time": "2021-10-25T11:42:38.090Z"
   },
   {
    "duration": 42,
    "start_time": "2021-10-25T11:42:38.725Z"
   },
   {
    "duration": 36,
    "start_time": "2021-10-25T11:42:38.769Z"
   },
   {
    "duration": 18,
    "start_time": "2021-10-25T11:42:38.809Z"
   },
   {
    "duration": 21,
    "start_time": "2021-10-25T11:42:38.857Z"
   },
   {
    "duration": 31,
    "start_time": "2021-10-25T11:42:38.883Z"
   },
   {
    "duration": 14,
    "start_time": "2021-10-25T11:42:38.916Z"
   },
   {
    "duration": 229,
    "start_time": "2021-10-25T11:42:38.957Z"
   },
   {
    "duration": 360,
    "start_time": "2021-10-25T11:42:39.188Z"
   },
   {
    "duration": 209,
    "start_time": "2021-10-25T11:42:39.557Z"
   },
   {
    "duration": 18,
    "start_time": "2021-10-25T11:42:39.768Z"
   },
   {
    "duration": 357,
    "start_time": "2021-10-25T11:42:39.789Z"
   },
   {
    "duration": 551,
    "start_time": "2021-10-25T11:42:40.157Z"
   },
   {
    "duration": 57,
    "start_time": "2021-10-25T11:42:40.712Z"
   },
   {
    "duration": 720,
    "start_time": "2021-10-25T11:42:40.773Z"
   },
   {
    "duration": 156,
    "start_time": "2021-10-25T11:42:41.496Z"
   },
   {
    "duration": 26,
    "start_time": "2021-10-25T11:42:41.654Z"
   },
   {
    "duration": 31,
    "start_time": "2021-10-25T11:42:41.683Z"
   },
   {
    "duration": 534,
    "start_time": "2021-10-25T11:42:41.717Z"
   },
   {
    "duration": 38,
    "start_time": "2021-10-25T11:42:42.258Z"
   },
   {
    "duration": 27,
    "start_time": "2021-10-25T11:42:42.299Z"
   },
   {
    "duration": 32,
    "start_time": "2021-10-25T11:42:42.329Z"
   },
   {
    "duration": 75,
    "start_time": "2021-10-25T11:42:42.364Z"
   },
   {
    "duration": 24,
    "start_time": "2021-10-25T11:42:42.442Z"
   }
  ],
  "kernelspec": {
   "display_name": "Python 3",
   "language": "python",
   "name": "python3"
  },
  "language_info": {
   "codemirror_mode": {
    "name": "ipython",
    "version": 3
   },
   "file_extension": ".py",
   "mimetype": "text/x-python",
   "name": "python",
   "nbconvert_exporter": "python",
   "pygments_lexer": "ipython3",
   "version": "3.7.8"
  },
  "toc": {
   "base_numbering": 1,
   "nav_menu": {},
   "number_sections": true,
   "sideBar": true,
   "skip_h1_title": true,
   "title_cell": "Table of Contents",
   "title_sidebar": "Contents",
   "toc_cell": false,
   "toc_position": {},
   "toc_section_display": true,
   "toc_window_display": false
  }
 },
 "nbformat": 4,
 "nbformat_minor": 5
}
