{
 "cells": [
  {
   "cell_type": "markdown",
   "metadata": {},
   "source": [
    "*Вы решили открыть небольшое кафе в Москве. Оно оригинальное — гостей должны обслуживать роботы. Проект многообещающий, но дорогой. Вместе с партнёрами вы решились обратиться к инвесторам. Их интересует текущее положение дел на рынке — сможете ли вы снискать популярность на долгое время, когда все зеваки насмотрятся на роботов-официантов?*\n",
    "\n",
    "*Партнёры просят вас подготовить исследование рынка. У вас есть открытые данные о заведениях общественного питания в Москве.*"
   ]
  },
  {
   "cell_type": "markdown",
   "metadata": {},
   "source": [
    "План работы:\n",
    "\n",
    "1)Загрузить данные и подготовить их к анализу\n",
    "\n",
    "2)Анализ данных\n",
    "\n",
    "3)Общий вывод\n",
    "\n",
    "4)Подготовка презентации"
   ]
  },
  {
   "cell_type": "markdown",
   "metadata": {},
   "source": [
    "## Загрузить данные и подготовить их к анализу"
   ]
  },
  {
   "cell_type": "markdown",
   "metadata": {},
   "source": [
    "### Загрузить данные о заведениях общественного питания Москвы. Убедиться, что тип данных в каждой колонке — правильный, а также отсутствуют пропущенные значения и дубликаты. При необходимости обработать их"
   ]
  },
  {
   "cell_type": "code",
   "execution_count": 1,
   "metadata": {},
   "outputs": [
    {
     "data": {
      "text/html": [
       "<div>\n",
       "<style scoped>\n",
       "    .dataframe tbody tr th:only-of-type {\n",
       "        vertical-align: middle;\n",
       "    }\n",
       "\n",
       "    .dataframe tbody tr th {\n",
       "        vertical-align: top;\n",
       "    }\n",
       "\n",
       "    .dataframe thead th {\n",
       "        text-align: right;\n",
       "    }\n",
       "</style>\n",
       "<table border=\"1\" class=\"dataframe\">\n",
       "  <thead>\n",
       "    <tr style=\"text-align: right;\">\n",
       "      <th></th>\n",
       "      <th>id</th>\n",
       "      <th>object_name</th>\n",
       "      <th>chain</th>\n",
       "      <th>object_type</th>\n",
       "      <th>address</th>\n",
       "      <th>number</th>\n",
       "    </tr>\n",
       "  </thead>\n",
       "  <tbody>\n",
       "    <tr>\n",
       "      <td>0</td>\n",
       "      <td>151635</td>\n",
       "      <td>СМЕТАНА</td>\n",
       "      <td>нет</td>\n",
       "      <td>кафе</td>\n",
       "      <td>город Москва, улица Егора Абакумова, дом 9</td>\n",
       "      <td>48</td>\n",
       "    </tr>\n",
       "    <tr>\n",
       "      <td>1</td>\n",
       "      <td>77874</td>\n",
       "      <td>Родник</td>\n",
       "      <td>нет</td>\n",
       "      <td>кафе</td>\n",
       "      <td>город Москва, улица Талалихина, дом 2/1, корпус 1</td>\n",
       "      <td>35</td>\n",
       "    </tr>\n",
       "    <tr>\n",
       "      <td>2</td>\n",
       "      <td>24309</td>\n",
       "      <td>Кафе «Академия»</td>\n",
       "      <td>нет</td>\n",
       "      <td>кафе</td>\n",
       "      <td>город Москва, Абельмановская улица, дом 6</td>\n",
       "      <td>95</td>\n",
       "    </tr>\n",
       "    <tr>\n",
       "      <td>3</td>\n",
       "      <td>21894</td>\n",
       "      <td>ПИЦЦЕТОРИЯ</td>\n",
       "      <td>да</td>\n",
       "      <td>кафе</td>\n",
       "      <td>город Москва, Абрамцевская улица, дом 1</td>\n",
       "      <td>40</td>\n",
       "    </tr>\n",
       "    <tr>\n",
       "      <td>4</td>\n",
       "      <td>119365</td>\n",
       "      <td>Кафе «Вишневая метель»</td>\n",
       "      <td>нет</td>\n",
       "      <td>кафе</td>\n",
       "      <td>город Москва, Абрамцевская улица, дом 9, корпус 1</td>\n",
       "      <td>50</td>\n",
       "    </tr>\n",
       "    <tr>\n",
       "      <td>...</td>\n",
       "      <td>...</td>\n",
       "      <td>...</td>\n",
       "      <td>...</td>\n",
       "      <td>...</td>\n",
       "      <td>...</td>\n",
       "      <td>...</td>\n",
       "    </tr>\n",
       "    <tr>\n",
       "      <td>15361</td>\n",
       "      <td>208537</td>\n",
       "      <td>Шоколадница</td>\n",
       "      <td>да</td>\n",
       "      <td>кафе</td>\n",
       "      <td>город Москва, 3-й Крутицкий переулок, дом 18</td>\n",
       "      <td>50</td>\n",
       "    </tr>\n",
       "    <tr>\n",
       "      <td>15362</td>\n",
       "      <td>209264</td>\n",
       "      <td>Шоколадница</td>\n",
       "      <td>да</td>\n",
       "      <td>кафе</td>\n",
       "      <td>город Москва, улица Земляной Вал, дом 33</td>\n",
       "      <td>10</td>\n",
       "    </tr>\n",
       "    <tr>\n",
       "      <td>15363</td>\n",
       "      <td>209186</td>\n",
       "      <td>Шоколадница</td>\n",
       "      <td>да</td>\n",
       "      <td>кафе</td>\n",
       "      <td>город Москва, улица Земляной Вал, дом 33</td>\n",
       "      <td>20</td>\n",
       "    </tr>\n",
       "    <tr>\n",
       "      <td>15364</td>\n",
       "      <td>221900</td>\n",
       "      <td>Шоколадница</td>\n",
       "      <td>да</td>\n",
       "      <td>кафе</td>\n",
       "      <td>город Москва, поселение Московский, Киевское шоссе, 22-й километр, домовладение 4, строение 1</td>\n",
       "      <td>36</td>\n",
       "    </tr>\n",
       "    <tr>\n",
       "      <td>15365</td>\n",
       "      <td>222535</td>\n",
       "      <td>Шоколадница</td>\n",
       "      <td>да</td>\n",
       "      <td>кафе</td>\n",
       "      <td>город Москва, Ходынский бульвар, дом 4</td>\n",
       "      <td>10</td>\n",
       "    </tr>\n",
       "  </tbody>\n",
       "</table>\n",
       "<p>15366 rows × 6 columns</p>\n",
       "</div>"
      ],
      "text/plain": [
       "           id             object_name chain object_type  \\\n",
       "0      151635                 СМЕТАНА   нет        кафе   \n",
       "1       77874                  Родник   нет        кафе   \n",
       "2       24309         Кафе «Академия»   нет        кафе   \n",
       "3       21894              ПИЦЦЕТОРИЯ    да        кафе   \n",
       "4      119365  Кафе «Вишневая метель»   нет        кафе   \n",
       "...       ...                     ...   ...         ...   \n",
       "15361  208537             Шоколадница    да        кафе   \n",
       "15362  209264             Шоколадница    да        кафе   \n",
       "15363  209186             Шоколадница    да        кафе   \n",
       "15364  221900             Шоколадница    да        кафе   \n",
       "15365  222535             Шоколадница    да        кафе   \n",
       "\n",
       "                                                                                             address  \\\n",
       "0                                                         город Москва, улица Егора Абакумова, дом 9   \n",
       "1                                                  город Москва, улица Талалихина, дом 2/1, корпус 1   \n",
       "2                                                          город Москва, Абельмановская улица, дом 6   \n",
       "3                                                            город Москва, Абрамцевская улица, дом 1   \n",
       "4                                                  город Москва, Абрамцевская улица, дом 9, корпус 1   \n",
       "...                                                                                              ...   \n",
       "15361                                                   город Москва, 3-й Крутицкий переулок, дом 18   \n",
       "15362                                                       город Москва, улица Земляной Вал, дом 33   \n",
       "15363                                                       город Москва, улица Земляной Вал, дом 33   \n",
       "15364  город Москва, поселение Московский, Киевское шоссе, 22-й километр, домовладение 4, строение 1   \n",
       "15365                                                         город Москва, Ходынский бульвар, дом 4   \n",
       "\n",
       "       number  \n",
       "0          48  \n",
       "1          35  \n",
       "2          95  \n",
       "3          40  \n",
       "4          50  \n",
       "...       ...  \n",
       "15361      50  \n",
       "15362      10  \n",
       "15363      20  \n",
       "15364      36  \n",
       "15365      10  \n",
       "\n",
       "[15366 rows x 6 columns]"
      ]
     },
     "execution_count": 1,
     "metadata": {},
     "output_type": "execute_result"
    }
   ],
   "source": [
    "import pandas as pd\n",
    "import matplotlib.pyplot as plt\n",
    "import seaborn as sns\n",
    "import requests\n",
    "import re\n",
    "\n",
    "data = pd.read_csv('/datasets/rest_data.csv')\n",
    "pd.set_option(\"max_colwidth\", 95)\n",
    "data"
   ]
  },
  {
   "cell_type": "code",
   "execution_count": 2,
   "metadata": {},
   "outputs": [
    {
     "data": {
      "text/html": [
       "<div>\n",
       "<style scoped>\n",
       "    .dataframe tbody tr th:only-of-type {\n",
       "        vertical-align: middle;\n",
       "    }\n",
       "\n",
       "    .dataframe tbody tr th {\n",
       "        vertical-align: top;\n",
       "    }\n",
       "\n",
       "    .dataframe thead th {\n",
       "        text-align: right;\n",
       "    }\n",
       "</style>\n",
       "<table border=\"1\" class=\"dataframe\">\n",
       "  <thead>\n",
       "    <tr style=\"text-align: right;\">\n",
       "      <th></th>\n",
       "      <th>id</th>\n",
       "      <th>object_name</th>\n",
       "      <th>chain</th>\n",
       "      <th>object_type</th>\n",
       "      <th>address</th>\n",
       "      <th>number</th>\n",
       "    </tr>\n",
       "  </thead>\n",
       "  <tbody>\n",
       "    <tr>\n",
       "      <td>0</td>\n",
       "      <td>151635</td>\n",
       "      <td>сметана</td>\n",
       "      <td>нет</td>\n",
       "      <td>кафе</td>\n",
       "      <td>город Москва, улица Егора Абакумова, дом 9</td>\n",
       "      <td>48</td>\n",
       "    </tr>\n",
       "    <tr>\n",
       "      <td>1</td>\n",
       "      <td>77874</td>\n",
       "      <td>родник</td>\n",
       "      <td>нет</td>\n",
       "      <td>кафе</td>\n",
       "      <td>город Москва, улица Талалихина, дом 2/1, корпус 1</td>\n",
       "      <td>35</td>\n",
       "    </tr>\n",
       "    <tr>\n",
       "      <td>2</td>\n",
       "      <td>24309</td>\n",
       "      <td>кафе «академия»</td>\n",
       "      <td>нет</td>\n",
       "      <td>кафе</td>\n",
       "      <td>город Москва, Абельмановская улица, дом 6</td>\n",
       "      <td>95</td>\n",
       "    </tr>\n",
       "    <tr>\n",
       "      <td>3</td>\n",
       "      <td>21894</td>\n",
       "      <td>пиццетория</td>\n",
       "      <td>да</td>\n",
       "      <td>кафе</td>\n",
       "      <td>город Москва, Абрамцевская улица, дом 1</td>\n",
       "      <td>40</td>\n",
       "    </tr>\n",
       "    <tr>\n",
       "      <td>4</td>\n",
       "      <td>119365</td>\n",
       "      <td>кафе «вишневая метель»</td>\n",
       "      <td>нет</td>\n",
       "      <td>кафе</td>\n",
       "      <td>город Москва, Абрамцевская улица, дом 9, корпус 1</td>\n",
       "      <td>50</td>\n",
       "    </tr>\n",
       "    <tr>\n",
       "      <td>...</td>\n",
       "      <td>...</td>\n",
       "      <td>...</td>\n",
       "      <td>...</td>\n",
       "      <td>...</td>\n",
       "      <td>...</td>\n",
       "      <td>...</td>\n",
       "    </tr>\n",
       "    <tr>\n",
       "      <td>15361</td>\n",
       "      <td>208537</td>\n",
       "      <td>шоколадница</td>\n",
       "      <td>да</td>\n",
       "      <td>кафе</td>\n",
       "      <td>город Москва, 3-й Крутицкий переулок, дом 18</td>\n",
       "      <td>50</td>\n",
       "    </tr>\n",
       "    <tr>\n",
       "      <td>15362</td>\n",
       "      <td>209264</td>\n",
       "      <td>шоколадница</td>\n",
       "      <td>да</td>\n",
       "      <td>кафе</td>\n",
       "      <td>город Москва, улица Земляной Вал, дом 33</td>\n",
       "      <td>10</td>\n",
       "    </tr>\n",
       "    <tr>\n",
       "      <td>15363</td>\n",
       "      <td>209186</td>\n",
       "      <td>шоколадница</td>\n",
       "      <td>да</td>\n",
       "      <td>кафе</td>\n",
       "      <td>город Москва, улица Земляной Вал, дом 33</td>\n",
       "      <td>20</td>\n",
       "    </tr>\n",
       "    <tr>\n",
       "      <td>15364</td>\n",
       "      <td>221900</td>\n",
       "      <td>шоколадница</td>\n",
       "      <td>да</td>\n",
       "      <td>кафе</td>\n",
       "      <td>город Москва, поселение Московский, Киевское шоссе, 22-й километр, домовладение 4, строение 1</td>\n",
       "      <td>36</td>\n",
       "    </tr>\n",
       "    <tr>\n",
       "      <td>15365</td>\n",
       "      <td>222535</td>\n",
       "      <td>шоколадница</td>\n",
       "      <td>да</td>\n",
       "      <td>кафе</td>\n",
       "      <td>город Москва, Ходынский бульвар, дом 4</td>\n",
       "      <td>10</td>\n",
       "    </tr>\n",
       "  </tbody>\n",
       "</table>\n",
       "<p>15366 rows × 6 columns</p>\n",
       "</div>"
      ],
      "text/plain": [
       "           id             object_name chain object_type  \\\n",
       "0      151635                 сметана   нет        кафе   \n",
       "1       77874                  родник   нет        кафе   \n",
       "2       24309         кафе «академия»   нет        кафе   \n",
       "3       21894              пиццетория    да        кафе   \n",
       "4      119365  кафе «вишневая метель»   нет        кафе   \n",
       "...       ...                     ...   ...         ...   \n",
       "15361  208537             шоколадница    да        кафе   \n",
       "15362  209264             шоколадница    да        кафе   \n",
       "15363  209186             шоколадница    да        кафе   \n",
       "15364  221900             шоколадница    да        кафе   \n",
       "15365  222535             шоколадница    да        кафе   \n",
       "\n",
       "                                                                                             address  \\\n",
       "0                                                         город Москва, улица Егора Абакумова, дом 9   \n",
       "1                                                  город Москва, улица Талалихина, дом 2/1, корпус 1   \n",
       "2                                                          город Москва, Абельмановская улица, дом 6   \n",
       "3                                                            город Москва, Абрамцевская улица, дом 1   \n",
       "4                                                  город Москва, Абрамцевская улица, дом 9, корпус 1   \n",
       "...                                                                                              ...   \n",
       "15361                                                   город Москва, 3-й Крутицкий переулок, дом 18   \n",
       "15362                                                       город Москва, улица Земляной Вал, дом 33   \n",
       "15363                                                       город Москва, улица Земляной Вал, дом 33   \n",
       "15364  город Москва, поселение Московский, Киевское шоссе, 22-й километр, домовладение 4, строение 1   \n",
       "15365                                                         город Москва, Ходынский бульвар, дом 4   \n",
       "\n",
       "       number  \n",
       "0          48  \n",
       "1          35  \n",
       "2          95  \n",
       "3          40  \n",
       "4          50  \n",
       "...       ...  \n",
       "15361      50  \n",
       "15362      10  \n",
       "15363      20  \n",
       "15364      36  \n",
       "15365      10  \n",
       "\n",
       "[15366 rows x 6 columns]"
      ]
     },
     "execution_count": 2,
     "metadata": {},
     "output_type": "execute_result"
    }
   ],
   "source": [
    "#переведем значения столбца object_name в нижний регистр, поскольку многие сетевые заведения могут иметь разное по написанию названия\n",
    "data['object_name'] = data['object_name'].str.lower()\n",
    "pd.set_option(\"max_colwidth\", 95)\n",
    "data"
   ]
  },
  {
   "cell_type": "code",
   "execution_count": 3,
   "metadata": {},
   "outputs": [
    {
     "data": {
      "text/html": [
       "<div>\n",
       "<style scoped>\n",
       "    .dataframe tbody tr th:only-of-type {\n",
       "        vertical-align: middle;\n",
       "    }\n",
       "\n",
       "    .dataframe tbody tr th {\n",
       "        vertical-align: top;\n",
       "    }\n",
       "\n",
       "    .dataframe thead th {\n",
       "        text-align: right;\n",
       "    }\n",
       "</style>\n",
       "<table border=\"1\" class=\"dataframe\">\n",
       "  <thead>\n",
       "    <tr style=\"text-align: right;\">\n",
       "      <th></th>\n",
       "      <th>id</th>\n",
       "      <th>number</th>\n",
       "    </tr>\n",
       "  </thead>\n",
       "  <tbody>\n",
       "    <tr>\n",
       "      <td>count</td>\n",
       "      <td>15366.000000</td>\n",
       "      <td>15366.000000</td>\n",
       "    </tr>\n",
       "    <tr>\n",
       "      <td>mean</td>\n",
       "      <td>119720.066901</td>\n",
       "      <td>59.547182</td>\n",
       "    </tr>\n",
       "    <tr>\n",
       "      <td>std</td>\n",
       "      <td>73036.130732</td>\n",
       "      <td>74.736833</td>\n",
       "    </tr>\n",
       "    <tr>\n",
       "      <td>min</td>\n",
       "      <td>838.000000</td>\n",
       "      <td>0.000000</td>\n",
       "    </tr>\n",
       "    <tr>\n",
       "      <td>25%</td>\n",
       "      <td>28524.000000</td>\n",
       "      <td>12.000000</td>\n",
       "    </tr>\n",
       "    <tr>\n",
       "      <td>50%</td>\n",
       "      <td>144974.500000</td>\n",
       "      <td>40.000000</td>\n",
       "    </tr>\n",
       "    <tr>\n",
       "      <td>75%</td>\n",
       "      <td>184262.250000</td>\n",
       "      <td>80.000000</td>\n",
       "    </tr>\n",
       "    <tr>\n",
       "      <td>max</td>\n",
       "      <td>223439.000000</td>\n",
       "      <td>1700.000000</td>\n",
       "    </tr>\n",
       "  </tbody>\n",
       "</table>\n",
       "</div>"
      ],
      "text/plain": [
       "                  id        number\n",
       "count   15366.000000  15366.000000\n",
       "mean   119720.066901     59.547182\n",
       "std     73036.130732     74.736833\n",
       "min       838.000000      0.000000\n",
       "25%     28524.000000     12.000000\n",
       "50%    144974.500000     40.000000\n",
       "75%    184262.250000     80.000000\n",
       "max    223439.000000   1700.000000"
      ]
     },
     "execution_count": 3,
     "metadata": {},
     "output_type": "execute_result"
    }
   ],
   "source": [
    "#выведем описательную статистику данных\n",
    "data.describe()"
   ]
  },
  {
   "cell_type": "code",
   "execution_count": 4,
   "metadata": {},
   "outputs": [
    {
     "name": "stdout",
     "output_type": "stream",
     "text": [
      "<class 'pandas.core.frame.DataFrame'>\n",
      "RangeIndex: 15366 entries, 0 to 15365\n",
      "Data columns (total 6 columns):\n",
      "id             15366 non-null int64\n",
      "object_name    15366 non-null object\n",
      "chain          15366 non-null object\n",
      "object_type    15366 non-null object\n",
      "address        15366 non-null object\n",
      "number         15366 non-null int64\n",
      "dtypes: int64(2), object(4)\n",
      "memory usage: 720.4+ KB\n"
     ]
    }
   ],
   "source": [
    "#узнаем типы данных каждого столбца и есть ли пропущенные значения\n",
    "data.info()"
   ]
  },
  {
   "cell_type": "code",
   "execution_count": 5,
   "metadata": {},
   "outputs": [
    {
     "data": {
      "text/plain": [
       "0"
      ]
     },
     "execution_count": 5,
     "metadata": {},
     "output_type": "execute_result"
    }
   ],
   "source": [
    "#проверим таблицу на дубликаты\n",
    "data.duplicated().sum()"
   ]
  },
  {
   "cell_type": "markdown",
   "metadata": {},
   "source": [
    "## Анализ данных"
   ]
  },
  {
   "cell_type": "markdown",
   "metadata": {},
   "source": [
    "### Исследовать соотношение видов объектов общественного питания по количеству. Построить график."
   ]
  },
  {
   "cell_type": "code",
   "execution_count": 6,
   "metadata": {},
   "outputs": [
    {
     "data": {
      "image/png": "[encoded data removed]",
      "text/plain": [
       "<Figure size 432x288 with 1 Axes>"
      ]
     },
     "metadata": {
      "needs_background": "light"
     },
     "output_type": "display_data"
    }
   ],
   "source": [
    "lp = data.groupby('object_type')['object_name'].count().sort_values(ascending=False).reset_index()\n",
    "ax = sns.barplot(x=\"object_type\", y=\"object_name\", data=lp)\n",
    "plt.title('график соотношения видов объектов общественного питания по количеству')\n",
    "plt.xlabel('вид общественного питания')\n",
    "plt.ylabel('количество мест')\n",
    "degrees = 90\n",
    "plt.xticks(rotation=degrees)\n",
    "plt.show()"
   ]
  },
  {
   "cell_type": "markdown",
   "metadata": {},
   "source": [
    "*Первую тройку по вместимости занимают кафе, столовые и рестораны. Формат данных заведений предрасполагает большое количество посадочных мест, тем самым окупает затраты. Меньше всего мест в магазинах и закусочных. В таких типах общепита мало мест для приема пищи, да и формат этому не соответствует*"
   ]
  },
  {
   "cell_type": "markdown",
   "metadata": {},
   "source": [
    "### Исследовать соотношение сетевых и несетевых заведений по количеству. Построить график."
   ]
  },
  {
   "cell_type": "code",
   "execution_count": 7,
   "metadata": {},
   "outputs": [
    {
     "data": {
      "image/png": "[encoded data removed]",
      "text/plain": [
       "<Figure size 432x288 with 1 Axes>"
      ]
     },
     "metadata": {
      "needs_background": "light"
     },
     "output_type": "display_data"
    }
   ],
   "source": [
    "plt.bar(data['chain'],data['number'])\n",
    "plt.title('график соотношения сетевых и несетевых заведений по количеству')\n",
    "plt.xlabel('сеть')\n",
    "plt.ylabel('количество мест')\n",
    "plt.show()"
   ]
  },
  {
   "cell_type": "markdown",
   "metadata": {},
   "source": [
    "*Сетевые заведения в 2,5 раза проигрывают. Скорее всего, сетевые предприятия имеют формат кафе, закусочных или кафетериев.*"
   ]
  },
  {
   "cell_type": "markdown",
   "metadata": {},
   "source": [
    "### Для какого вида объекта общественного питания характерно сетевое распространение?"
   ]
  },
  {
   "cell_type": "code",
   "execution_count": 8,
   "metadata": {},
   "outputs": [
    {
     "data": {
      "image/png": "[encoded data removed]",
      "text/plain": [
       "<Figure size 432x288 with 1 Axes>"
      ]
     },
     "metadata": {
      "needs_background": "light"
     },
     "output_type": "display_data"
    }
   ],
   "source": [
    "data.groupby('chain')['object_type'].value_counts().plot()\n",
    "plt.title('отношение сетевых и несетевых заведений по виду объекта общественного питания')\n",
    "plt.xlabel('сетевые/не сетевые заведения')\n",
    "plt.ylabel('количество')\n",
    "degrees = 90\n",
    "plt.xticks(rotation=degrees)\n",
    "plt.show()"
   ]
  },
  {
   "cell_type": "markdown",
   "metadata": {},
   "source": [
    "### Что характерно для сетевых заведений: много заведений с небольшим числом посадочных мест в каждом или мало заведений с большим количеством посадочных мест?"
   ]
  },
  {
   "cell_type": "code",
   "execution_count": 9,
   "metadata": {},
   "outputs": [
    {
     "data": {
      "text/html": [
       "<div>\n",
       "<style scoped>\n",
       "    .dataframe tbody tr th:only-of-type {\n",
       "        vertical-align: middle;\n",
       "    }\n",
       "\n",
       "    .dataframe tbody tr th {\n",
       "        vertical-align: top;\n",
       "    }\n",
       "\n",
       "    .dataframe thead th {\n",
       "        text-align: right;\n",
       "    }\n",
       "</style>\n",
       "<table border=\"1\" class=\"dataframe\">\n",
       "  <thead>\n",
       "    <tr style=\"text-align: right;\">\n",
       "      <th></th>\n",
       "      <th>id</th>\n",
       "      <th>object_name</th>\n",
       "      <th>chain</th>\n",
       "      <th>object_type</th>\n",
       "      <th>address</th>\n",
       "      <th>number</th>\n",
       "    </tr>\n",
       "  </thead>\n",
       "  <tbody>\n",
       "    <tr>\n",
       "      <td>3</td>\n",
       "      <td>21894</td>\n",
       "      <td>пиццетория</td>\n",
       "      <td>да</td>\n",
       "      <td>кафе</td>\n",
       "      <td>город Москва, Абрамцевская улица, дом 1</td>\n",
       "      <td>40</td>\n",
       "    </tr>\n",
       "    <tr>\n",
       "      <td>6</td>\n",
       "      <td>148815</td>\n",
       "      <td>брусника</td>\n",
       "      <td>да</td>\n",
       "      <td>кафе</td>\n",
       "      <td>город Москва, переулок Сивцев Вражек, дом 6/2</td>\n",
       "      <td>10</td>\n",
       "    </tr>\n",
       "    <tr>\n",
       "      <td>13</td>\n",
       "      <td>22579</td>\n",
       "      <td>алло пицца</td>\n",
       "      <td>да</td>\n",
       "      <td>кафе</td>\n",
       "      <td>город Москва, улица Авиаторов, дом 14</td>\n",
       "      <td>32</td>\n",
       "    </tr>\n",
       "    <tr>\n",
       "      <td>16</td>\n",
       "      <td>144107</td>\n",
       "      <td>суши wok</td>\n",
       "      <td>да</td>\n",
       "      <td>предприятие быстрого обслуживания</td>\n",
       "      <td>город Москва, Азовская улица, дом 3</td>\n",
       "      <td>7</td>\n",
       "    </tr>\n",
       "    <tr>\n",
       "      <td>18</td>\n",
       "      <td>58565</td>\n",
       "      <td>тануки</td>\n",
       "      <td>да</td>\n",
       "      <td>ресторан</td>\n",
       "      <td>город Москва, Большая Академическая улица, дом 65</td>\n",
       "      <td>160</td>\n",
       "    </tr>\n",
       "    <tr>\n",
       "      <td>...</td>\n",
       "      <td>...</td>\n",
       "      <td>...</td>\n",
       "      <td>...</td>\n",
       "      <td>...</td>\n",
       "      <td>...</td>\n",
       "      <td>...</td>\n",
       "    </tr>\n",
       "    <tr>\n",
       "      <td>15361</td>\n",
       "      <td>208537</td>\n",
       "      <td>шоколадница</td>\n",
       "      <td>да</td>\n",
       "      <td>кафе</td>\n",
       "      <td>город Москва, 3-й Крутицкий переулок, дом 18</td>\n",
       "      <td>50</td>\n",
       "    </tr>\n",
       "    <tr>\n",
       "      <td>15362</td>\n",
       "      <td>209264</td>\n",
       "      <td>шоколадница</td>\n",
       "      <td>да</td>\n",
       "      <td>кафе</td>\n",
       "      <td>город Москва, улица Земляной Вал, дом 33</td>\n",
       "      <td>10</td>\n",
       "    </tr>\n",
       "    <tr>\n",
       "      <td>15363</td>\n",
       "      <td>209186</td>\n",
       "      <td>шоколадница</td>\n",
       "      <td>да</td>\n",
       "      <td>кафе</td>\n",
       "      <td>город Москва, улица Земляной Вал, дом 33</td>\n",
       "      <td>20</td>\n",
       "    </tr>\n",
       "    <tr>\n",
       "      <td>15364</td>\n",
       "      <td>221900</td>\n",
       "      <td>шоколадница</td>\n",
       "      <td>да</td>\n",
       "      <td>кафе</td>\n",
       "      <td>город Москва, поселение Московский, Киевское шоссе, 22-й километр, домовладение 4, строение 1</td>\n",
       "      <td>36</td>\n",
       "    </tr>\n",
       "    <tr>\n",
       "      <td>15365</td>\n",
       "      <td>222535</td>\n",
       "      <td>шоколадница</td>\n",
       "      <td>да</td>\n",
       "      <td>кафе</td>\n",
       "      <td>город Москва, Ходынский бульвар, дом 4</td>\n",
       "      <td>10</td>\n",
       "    </tr>\n",
       "  </tbody>\n",
       "</table>\n",
       "<p>2968 rows × 6 columns</p>\n",
       "</div>"
      ],
      "text/plain": [
       "           id  object_name chain                        object_type  \\\n",
       "3       21894   пиццетория    да                               кафе   \n",
       "6      148815     брусника    да                               кафе   \n",
       "13      22579   алло пицца    да                               кафе   \n",
       "16     144107     суши wok    да  предприятие быстрого обслуживания   \n",
       "18      58565       тануки    да                           ресторан   \n",
       "...       ...          ...   ...                                ...   \n",
       "15361  208537  шоколадница    да                               кафе   \n",
       "15362  209264  шоколадница    да                               кафе   \n",
       "15363  209186  шоколадница    да                               кафе   \n",
       "15364  221900  шоколадница    да                               кафе   \n",
       "15365  222535  шоколадница    да                               кафе   \n",
       "\n",
       "                                                                                             address  \\\n",
       "3                                                            город Москва, Абрамцевская улица, дом 1   \n",
       "6                                                      город Москва, переулок Сивцев Вражек, дом 6/2   \n",
       "13                                                             город Москва, улица Авиаторов, дом 14   \n",
       "16                                                               город Москва, Азовская улица, дом 3   \n",
       "18                                                 город Москва, Большая Академическая улица, дом 65   \n",
       "...                                                                                              ...   \n",
       "15361                                                   город Москва, 3-й Крутицкий переулок, дом 18   \n",
       "15362                                                       город Москва, улица Земляной Вал, дом 33   \n",
       "15363                                                       город Москва, улица Земляной Вал, дом 33   \n",
       "15364  город Москва, поселение Московский, Киевское шоссе, 22-й километр, домовладение 4, строение 1   \n",
       "15365                                                         город Москва, Ходынский бульвар, дом 4   \n",
       "\n",
       "       number  \n",
       "3          40  \n",
       "6          10  \n",
       "13         32  \n",
       "16          7  \n",
       "18        160  \n",
       "...       ...  \n",
       "15361      50  \n",
       "15362      10  \n",
       "15363      20  \n",
       "15364      36  \n",
       "15365      10  \n",
       "\n",
       "[2968 rows x 6 columns]"
      ]
     },
     "execution_count": 9,
     "metadata": {},
     "output_type": "execute_result"
    }
   ],
   "source": [
    "chain = data.query('chain == \"да\"')\n",
    "chain"
   ]
  },
  {
   "cell_type": "code",
   "execution_count": 10,
   "metadata": {},
   "outputs": [
    {
     "data": {
      "text/html": [
       "<div>\n",
       "<style scoped>\n",
       "    .dataframe tbody tr th:only-of-type {\n",
       "        vertical-align: middle;\n",
       "    }\n",
       "\n",
       "    .dataframe tbody tr th {\n",
       "        vertical-align: top;\n",
       "    }\n",
       "\n",
       "    .dataframe thead th {\n",
       "        text-align: right;\n",
       "    }\n",
       "</style>\n",
       "<table border=\"1\" class=\"dataframe\">\n",
       "  <thead>\n",
       "    <tr style=\"text-align: right;\">\n",
       "      <th></th>\n",
       "      <th>object_name</th>\n",
       "      <th>object_count</th>\n",
       "      <th>number_median</th>\n",
       "    </tr>\n",
       "  </thead>\n",
       "  <tbody>\n",
       "    <tr>\n",
       "      <td>0</td>\n",
       "      <td>beverly hills diner</td>\n",
       "      <td>1</td>\n",
       "      <td>88.0</td>\n",
       "    </tr>\n",
       "    <tr>\n",
       "      <td>1</td>\n",
       "      <td>bierloga</td>\n",
       "      <td>1</td>\n",
       "      <td>75.0</td>\n",
       "    </tr>\n",
       "    <tr>\n",
       "      <td>2</td>\n",
       "      <td>black &amp; white</td>\n",
       "      <td>1</td>\n",
       "      <td>40.0</td>\n",
       "    </tr>\n",
       "    <tr>\n",
       "      <td>3</td>\n",
       "      <td>bocconcino</td>\n",
       "      <td>3</td>\n",
       "      <td>68.0</td>\n",
       "    </tr>\n",
       "    <tr>\n",
       "      <td>4</td>\n",
       "      <td>boobo</td>\n",
       "      <td>1</td>\n",
       "      <td>46.0</td>\n",
       "    </tr>\n",
       "    <tr>\n",
       "      <td>...</td>\n",
       "      <td>...</td>\n",
       "      <td>...</td>\n",
       "      <td>...</td>\n",
       "    </tr>\n",
       "    <tr>\n",
       "      <td>572</td>\n",
       "      <td>ямми микс</td>\n",
       "      <td>1</td>\n",
       "      <td>2.0</td>\n",
       "    </tr>\n",
       "    <tr>\n",
       "      <td>573</td>\n",
       "      <td>ян примус</td>\n",
       "      <td>1</td>\n",
       "      <td>300.0</td>\n",
       "    </tr>\n",
       "    <tr>\n",
       "      <td>574</td>\n",
       "      <td>японский ресторан «ваби-саби»</td>\n",
       "      <td>1</td>\n",
       "      <td>155.0</td>\n",
       "    </tr>\n",
       "    <tr>\n",
       "      <td>575</td>\n",
       "      <td>япоша</td>\n",
       "      <td>2</td>\n",
       "      <td>105.0</td>\n",
       "    </tr>\n",
       "    <tr>\n",
       "      <td>576</td>\n",
       "      <td>ёрш</td>\n",
       "      <td>4</td>\n",
       "      <td>104.0</td>\n",
       "    </tr>\n",
       "  </tbody>\n",
       "</table>\n",
       "<p>577 rows × 3 columns</p>\n",
       "</div>"
      ],
      "text/plain": [
       "                       object_name  object_count  number_median\n",
       "0              beverly hills diner             1           88.0\n",
       "1                         bierloga             1           75.0\n",
       "2                    black & white             1           40.0\n",
       "3                       bocconcino             3           68.0\n",
       "4                            boobo             1           46.0\n",
       "..                             ...           ...            ...\n",
       "572                      ямми микс             1            2.0\n",
       "573                      ян примус             1          300.0\n",
       "574  японский ресторан «ваби-саби»             1          155.0\n",
       "575                          япоша             2          105.0\n",
       "576                            ёрш             4          104.0\n",
       "\n",
       "[577 rows x 3 columns]"
      ]
     },
     "execution_count": 10,
     "metadata": {},
     "output_type": "execute_result"
    }
   ],
   "source": [
    "chain_grouped = (chain.groupby(['object_name']).agg({'number': ['count', 'median']}).reset_index())\n",
    "chain_grouped.columns = ['object_name', 'object_count', 'number_median']\n",
    "chain_grouped"
   ]
  },
  {
   "cell_type": "code",
   "execution_count": 11,
   "metadata": {},
   "outputs": [
    {
     "data": {
      "image/png": "[encoded data removed]",
      "text/plain": [
       "<Figure size 432x432 with 3 Axes>"
      ]
     },
     "metadata": {
      "needs_background": "light"
     },
     "output_type": "display_data"
    }
   ],
   "source": [
    "sns.jointplot(data=chain_grouped, x=\"number_median\", y=\"object_count\", kind=\"reg\");\n",
    "plt.xlabel('медианное количество мест')\n",
    "plt.ylabel('количество объектов в каждой сети')\n",
    "plt.show()"
   ]
  },
  {
   "cell_type": "markdown",
   "metadata": {},
   "source": [
    "*Чем больше количество посадочных мест, тем меньше объектов в сети. Это хорошо отражает диаграмма.*"
   ]
  },
  {
   "cell_type": "markdown",
   "metadata": {},
   "source": [
    "### Для каждого вида объекта общественного питания описать среднее количество посадочных мест. Какой вид предоставляет в среднем самое большое количество посадочных мест? Построить графики."
   ]
  },
  {
   "cell_type": "code",
   "execution_count": 12,
   "metadata": {},
   "outputs": [
    {
     "data": {
      "text/html": [
       "<div>\n",
       "<style scoped>\n",
       "    .dataframe tbody tr th:only-of-type {\n",
       "        vertical-align: middle;\n",
       "    }\n",
       "\n",
       "    .dataframe tbody tr th {\n",
       "        vertical-align: top;\n",
       "    }\n",
       "\n",
       "    .dataframe thead th {\n",
       "        text-align: right;\n",
       "    }\n",
       "</style>\n",
       "<table border=\"1\" class=\"dataframe\">\n",
       "  <thead>\n",
       "    <tr style=\"text-align: right;\">\n",
       "      <th></th>\n",
       "      <th>object_type</th>\n",
       "      <th>number</th>\n",
       "    </tr>\n",
       "  </thead>\n",
       "  <tbody>\n",
       "    <tr>\n",
       "      <td>8</td>\n",
       "      <td>столовая</td>\n",
       "      <td>130.246618</td>\n",
       "    </tr>\n",
       "    <tr>\n",
       "      <td>7</td>\n",
       "      <td>ресторан</td>\n",
       "      <td>96.834136</td>\n",
       "    </tr>\n",
       "    <tr>\n",
       "      <td>1</td>\n",
       "      <td>буфет</td>\n",
       "      <td>51.129915</td>\n",
       "    </tr>\n",
       "    <tr>\n",
       "      <td>0</td>\n",
       "      <td>бар</td>\n",
       "      <td>43.494159</td>\n",
       "    </tr>\n",
       "    <tr>\n",
       "      <td>3</td>\n",
       "      <td>кафе</td>\n",
       "      <td>39.716019</td>\n",
       "    </tr>\n",
       "    <tr>\n",
       "      <td>6</td>\n",
       "      <td>предприятие быстрого обслуживания</td>\n",
       "      <td>20.552262</td>\n",
       "    </tr>\n",
       "    <tr>\n",
       "      <td>4</td>\n",
       "      <td>кафетерий</td>\n",
       "      <td>9.123116</td>\n",
       "    </tr>\n",
       "    <tr>\n",
       "      <td>2</td>\n",
       "      <td>закусочная</td>\n",
       "      <td>7.608333</td>\n",
       "    </tr>\n",
       "    <tr>\n",
       "      <td>5</td>\n",
       "      <td>магазин (отдел кулинарии)</td>\n",
       "      <td>5.589744</td>\n",
       "    </tr>\n",
       "  </tbody>\n",
       "</table>\n",
       "</div>"
      ],
      "text/plain": [
       "                         object_type      number\n",
       "8                           столовая  130.246618\n",
       "7                           ресторан   96.834136\n",
       "1                              буфет   51.129915\n",
       "0                                бар   43.494159\n",
       "3                               кафе   39.716019\n",
       "6  предприятие быстрого обслуживания   20.552262\n",
       "4                          кафетерий    9.123116\n",
       "2                         закусочная    7.608333\n",
       "5          магазин (отдел кулинарии)    5.589744"
      ]
     },
     "execution_count": 12,
     "metadata": {},
     "output_type": "execute_result"
    }
   ],
   "source": [
    "df_mean = data.groupby('object_type')['number'].mean().reset_index().sort_values(by = 'number', ascending=False)\n",
    "df_mean"
   ]
  },
  {
   "cell_type": "code",
   "execution_count": 13,
   "metadata": {},
   "outputs": [
    {
     "data": {
      "image/png": "[encoded data removed]",
      "text/plain": [
       "<Figure size 864x432 with 1 Axes>"
      ]
     },
     "metadata": {
      "needs_background": "light"
     },
     "output_type": "display_data"
    }
   ],
   "source": [
    "plot_order = data.sort_values(by='object_type', ascending=False).number.values\n",
    "plt.figure(figsize=(12, 6))\n",
    "g = sns.barplot(x='object_type', y='number', data=df_mean);\n",
    "g.set(xlabel=\"виды объекта общественного питания\", ylabel=\"среднее количество посадочных мест\");\n",
    "title = ('график объектов общественного питания к среднему количеству посадочных мест')\n",
    "g.set(title=title);\n",
    "plt.xticks(rotation=45);"
   ]
  },
  {
   "cell_type": "markdown",
   "metadata": {},
   "source": [
    "*В среднем самое большое количество посадочных мест предостовляют столовые (130) обгоняя рестораны (96). Характерно, что они занимают 3е место по количеству мест в целом. Столовые общирны, а цены ниже ресторанных, поэтому большую часть помещения заставляют посадочными местами*"
   ]
  },
  {
   "cell_type": "markdown",
   "metadata": {},
   "source": [
    "### Выделить в отдельный столбец информацию об улице из столбца address "
   ]
  },
  {
   "cell_type": "code",
   "execution_count": 14,
   "metadata": {},
   "outputs": [
    {
     "data": {
      "text/html": [
       "<div>\n",
       "<style scoped>\n",
       "    .dataframe tbody tr th:only-of-type {\n",
       "        vertical-align: middle;\n",
       "    }\n",
       "\n",
       "    .dataframe tbody tr th {\n",
       "        vertical-align: top;\n",
       "    }\n",
       "\n",
       "    .dataframe thead th {\n",
       "        text-align: right;\n",
       "    }\n",
       "</style>\n",
       "<table border=\"1\" class=\"dataframe\">\n",
       "  <thead>\n",
       "    <tr style=\"text-align: right;\">\n",
       "      <th></th>\n",
       "      <th>id</th>\n",
       "      <th>object_name</th>\n",
       "      <th>chain</th>\n",
       "      <th>object_type</th>\n",
       "      <th>address</th>\n",
       "      <th>number</th>\n",
       "      <th>street</th>\n",
       "    </tr>\n",
       "  </thead>\n",
       "  <tbody>\n",
       "    <tr>\n",
       "      <td>0</td>\n",
       "      <td>151635</td>\n",
       "      <td>сметана</td>\n",
       "      <td>нет</td>\n",
       "      <td>кафе</td>\n",
       "      <td>город Москва, улица Егора Абакумова, дом 9</td>\n",
       "      <td>48</td>\n",
       "      <td>улица Егора Абакумова</td>\n",
       "    </tr>\n",
       "    <tr>\n",
       "      <td>1</td>\n",
       "      <td>77874</td>\n",
       "      <td>родник</td>\n",
       "      <td>нет</td>\n",
       "      <td>кафе</td>\n",
       "      <td>город Москва, улица Талалихина, дом 2/1, корпус 1</td>\n",
       "      <td>35</td>\n",
       "      <td>улица Талалихина</td>\n",
       "    </tr>\n",
       "    <tr>\n",
       "      <td>2</td>\n",
       "      <td>24309</td>\n",
       "      <td>кафе «академия»</td>\n",
       "      <td>нет</td>\n",
       "      <td>кафе</td>\n",
       "      <td>город Москва, Абельмановская улица, дом 6</td>\n",
       "      <td>95</td>\n",
       "      <td>Абельмановская улица</td>\n",
       "    </tr>\n",
       "    <tr>\n",
       "      <td>3</td>\n",
       "      <td>21894</td>\n",
       "      <td>пиццетория</td>\n",
       "      <td>да</td>\n",
       "      <td>кафе</td>\n",
       "      <td>город Москва, Абрамцевская улица, дом 1</td>\n",
       "      <td>40</td>\n",
       "      <td>Абрамцевская улица</td>\n",
       "    </tr>\n",
       "    <tr>\n",
       "      <td>4</td>\n",
       "      <td>119365</td>\n",
       "      <td>кафе «вишневая метель»</td>\n",
       "      <td>нет</td>\n",
       "      <td>кафе</td>\n",
       "      <td>город Москва, Абрамцевская улица, дом 9, корпус 1</td>\n",
       "      <td>50</td>\n",
       "      <td>Абрамцевская улица</td>\n",
       "    </tr>\n",
       "    <tr>\n",
       "      <td>...</td>\n",
       "      <td>...</td>\n",
       "      <td>...</td>\n",
       "      <td>...</td>\n",
       "      <td>...</td>\n",
       "      <td>...</td>\n",
       "      <td>...</td>\n",
       "      <td>...</td>\n",
       "    </tr>\n",
       "    <tr>\n",
       "      <td>15361</td>\n",
       "      <td>208537</td>\n",
       "      <td>шоколадница</td>\n",
       "      <td>да</td>\n",
       "      <td>кафе</td>\n",
       "      <td>город Москва, 3-й Крутицкий переулок, дом 18</td>\n",
       "      <td>50</td>\n",
       "      <td>3-й Крутицкий переулок</td>\n",
       "    </tr>\n",
       "    <tr>\n",
       "      <td>15362</td>\n",
       "      <td>209264</td>\n",
       "      <td>шоколадница</td>\n",
       "      <td>да</td>\n",
       "      <td>кафе</td>\n",
       "      <td>город Москва, улица Земляной Вал, дом 33</td>\n",
       "      <td>10</td>\n",
       "      <td>улица Земляной Вал</td>\n",
       "    </tr>\n",
       "    <tr>\n",
       "      <td>15363</td>\n",
       "      <td>209186</td>\n",
       "      <td>шоколадница</td>\n",
       "      <td>да</td>\n",
       "      <td>кафе</td>\n",
       "      <td>город Москва, улица Земляной Вал, дом 33</td>\n",
       "      <td>20</td>\n",
       "      <td>улица Земляной Вал</td>\n",
       "    </tr>\n",
       "    <tr>\n",
       "      <td>15364</td>\n",
       "      <td>221900</td>\n",
       "      <td>шоколадница</td>\n",
       "      <td>да</td>\n",
       "      <td>кафе</td>\n",
       "      <td>город Москва, поселение Московский, Киевское шоссе, 22-й километр, домовладение 4, строение 1</td>\n",
       "      <td>36</td>\n",
       "      <td>поселение Московский</td>\n",
       "    </tr>\n",
       "    <tr>\n",
       "      <td>15365</td>\n",
       "      <td>222535</td>\n",
       "      <td>шоколадница</td>\n",
       "      <td>да</td>\n",
       "      <td>кафе</td>\n",
       "      <td>город Москва, Ходынский бульвар, дом 4</td>\n",
       "      <td>10</td>\n",
       "      <td>Ходынский бульвар</td>\n",
       "    </tr>\n",
       "  </tbody>\n",
       "</table>\n",
       "<p>15366 rows × 7 columns</p>\n",
       "</div>"
      ],
      "text/plain": [
       "           id             object_name chain object_type  \\\n",
       "0      151635                 сметана   нет        кафе   \n",
       "1       77874                  родник   нет        кафе   \n",
       "2       24309         кафе «академия»   нет        кафе   \n",
       "3       21894              пиццетория    да        кафе   \n",
       "4      119365  кафе «вишневая метель»   нет        кафе   \n",
       "...       ...                     ...   ...         ...   \n",
       "15361  208537             шоколадница    да        кафе   \n",
       "15362  209264             шоколадница    да        кафе   \n",
       "15363  209186             шоколадница    да        кафе   \n",
       "15364  221900             шоколадница    да        кафе   \n",
       "15365  222535             шоколадница    да        кафе   \n",
       "\n",
       "                                                                                             address  \\\n",
       "0                                                         город Москва, улица Егора Абакумова, дом 9   \n",
       "1                                                  город Москва, улица Талалихина, дом 2/1, корпус 1   \n",
       "2                                                          город Москва, Абельмановская улица, дом 6   \n",
       "3                                                            город Москва, Абрамцевская улица, дом 1   \n",
       "4                                                  город Москва, Абрамцевская улица, дом 9, корпус 1   \n",
       "...                                                                                              ...   \n",
       "15361                                                   город Москва, 3-й Крутицкий переулок, дом 18   \n",
       "15362                                                       город Москва, улица Земляной Вал, дом 33   \n",
       "15363                                                       город Москва, улица Земляной Вал, дом 33   \n",
       "15364  город Москва, поселение Московский, Киевское шоссе, 22-й километр, домовладение 4, строение 1   \n",
       "15365                                                         город Москва, Ходынский бульвар, дом 4   \n",
       "\n",
       "       number                   street  \n",
       "0          48    улица Егора Абакумова  \n",
       "1          35         улица Талалихина  \n",
       "2          95     Абельмановская улица  \n",
       "3          40       Абрамцевская улица  \n",
       "4          50       Абрамцевская улица  \n",
       "...       ...                      ...  \n",
       "15361      50   3-й Крутицкий переулок  \n",
       "15362      10       улица Земляной Вал  \n",
       "15363      20       улица Земляной Вал  \n",
       "15364      36     поселение Московский  \n",
       "15365      10        Ходынский бульвар  \n",
       "\n",
       "[15366 rows x 7 columns]"
      ]
     },
     "execution_count": 14,
     "metadata": {},
     "output_type": "execute_result"
    }
   ],
   "source": [
    "def get_street(address):\n",
    "    result = re.search(',(.+?),', address)\n",
    "    if result:\n",
    "        found=result.group(1)\n",
    "        return found\n",
    "    return 'error'\n",
    "data['street'] = data['address'].apply(get_street) \n",
    "data"
   ]
  },
  {
   "cell_type": "markdown",
   "metadata": {},
   "source": [
    "### Построить график топ-10 улиц по количеству объектов общественного питания. Воспользоваться внешней информацией и ответьте на вопрос — в каких районах Москвы находятся эти улицы?"
   ]
  },
  {
   "cell_type": "code",
   "execution_count": 15,
   "metadata": {},
   "outputs": [
    {
     "data": {
      "text/html": [
       "<div>\n",
       "<style scoped>\n",
       "    .dataframe tbody tr th:only-of-type {\n",
       "        vertical-align: middle;\n",
       "    }\n",
       "\n",
       "    .dataframe tbody tr th {\n",
       "        vertical-align: top;\n",
       "    }\n",
       "\n",
       "    .dataframe thead th {\n",
       "        text-align: right;\n",
       "    }\n",
       "</style>\n",
       "<table border=\"1\" class=\"dataframe\">\n",
       "  <thead>\n",
       "    <tr style=\"text-align: right;\">\n",
       "      <th></th>\n",
       "      <th>street</th>\n",
       "      <th>object_name</th>\n",
       "    </tr>\n",
       "  </thead>\n",
       "  <tbody>\n",
       "    <tr>\n",
       "      <td>1331</td>\n",
       "      <td>город Зеленоград</td>\n",
       "      <td>232</td>\n",
       "    </tr>\n",
       "    <tr>\n",
       "      <td>1440</td>\n",
       "      <td>проспект Мира</td>\n",
       "      <td>204</td>\n",
       "    </tr>\n",
       "    <tr>\n",
       "      <td>993</td>\n",
       "      <td>Профсоюзная улица</td>\n",
       "      <td>182</td>\n",
       "    </tr>\n",
       "    <tr>\n",
       "      <td>683</td>\n",
       "      <td>Ленинградский проспект</td>\n",
       "      <td>171</td>\n",
       "    </tr>\n",
       "    <tr>\n",
       "      <td>979</td>\n",
       "      <td>Пресненская набережная</td>\n",
       "      <td>167</td>\n",
       "    </tr>\n",
       "    <tr>\n",
       "      <td>...</td>\n",
       "      <td>...</td>\n",
       "      <td>...</td>\n",
       "    </tr>\n",
       "    <tr>\n",
       "      <td>1340</td>\n",
       "      <td>дом 1</td>\n",
       "      <td>1</td>\n",
       "    </tr>\n",
       "    <tr>\n",
       "      <td>1342</td>\n",
       "      <td>дом 118Б</td>\n",
       "      <td>1</td>\n",
       "    </tr>\n",
       "    <tr>\n",
       "      <td>1343</td>\n",
       "      <td>дом 11А</td>\n",
       "      <td>1</td>\n",
       "    </tr>\n",
       "    <tr>\n",
       "      <td>1344</td>\n",
       "      <td>дом 16</td>\n",
       "      <td>1</td>\n",
       "    </tr>\n",
       "    <tr>\n",
       "      <td>944</td>\n",
       "      <td>Петровско-Разумовская аллея</td>\n",
       "      <td>1</td>\n",
       "    </tr>\n",
       "  </tbody>\n",
       "</table>\n",
       "<p>1889 rows × 2 columns</p>\n",
       "</div>"
      ],
      "text/plain": [
       "                            street  object_name\n",
       "1331              город Зеленоград          232\n",
       "1440                 проспект Мира          204\n",
       "993              Профсоюзная улица          182\n",
       "683         Ленинградский проспект          171\n",
       "979         Пресненская набережная          167\n",
       "...                            ...          ...\n",
       "1340                         дом 1            1\n",
       "1342                      дом 118Б            1\n",
       "1343                       дом 11А            1\n",
       "1344                        дом 16            1\n",
       "944    Петровско-Разумовская аллея            1\n",
       "\n",
       "[1889 rows x 2 columns]"
      ]
     },
     "execution_count": 15,
     "metadata": {},
     "output_type": "execute_result"
    }
   ],
   "source": [
    "topname = data.groupby('street').agg({'object_name':'count'}).reset_index().sort_values(by='object_name', ascending=False)\n",
    "topname"
   ]
  },
  {
   "cell_type": "code",
   "execution_count": 16,
   "metadata": {},
   "outputs": [
    {
     "data": {
      "text/html": [
       "<div>\n",
       "<style scoped>\n",
       "    .dataframe tbody tr th:only-of-type {\n",
       "        vertical-align: middle;\n",
       "    }\n",
       "\n",
       "    .dataframe tbody tr th {\n",
       "        vertical-align: top;\n",
       "    }\n",
       "\n",
       "    .dataframe thead th {\n",
       "        text-align: right;\n",
       "    }\n",
       "</style>\n",
       "<table border=\"1\" class=\"dataframe\">\n",
       "  <thead>\n",
       "    <tr style=\"text-align: right;\">\n",
       "      <th></th>\n",
       "      <th>street</th>\n",
       "      <th>object_name</th>\n",
       "    </tr>\n",
       "  </thead>\n",
       "  <tbody>\n",
       "    <tr>\n",
       "      <td>1440</td>\n",
       "      <td>проспект Мира</td>\n",
       "      <td>204</td>\n",
       "    </tr>\n",
       "    <tr>\n",
       "      <td>993</td>\n",
       "      <td>Профсоюзная улица</td>\n",
       "      <td>182</td>\n",
       "    </tr>\n",
       "    <tr>\n",
       "      <td>683</td>\n",
       "      <td>Ленинградский проспект</td>\n",
       "      <td>171</td>\n",
       "    </tr>\n",
       "    <tr>\n",
       "      <td>979</td>\n",
       "      <td>Пресненская набережная</td>\n",
       "      <td>167</td>\n",
       "    </tr>\n",
       "    <tr>\n",
       "      <td>407</td>\n",
       "      <td>Варшавское шоссе</td>\n",
       "      <td>161</td>\n",
       "    </tr>\n",
       "    <tr>\n",
       "      <td>686</td>\n",
       "      <td>Ленинский проспект</td>\n",
       "      <td>147</td>\n",
       "    </tr>\n",
       "    <tr>\n",
       "      <td>1407</td>\n",
       "      <td>поселение Сосенское</td>\n",
       "      <td>138</td>\n",
       "    </tr>\n",
       "    <tr>\n",
       "      <td>1437</td>\n",
       "      <td>проспект Вернадского</td>\n",
       "      <td>132</td>\n",
       "    </tr>\n",
       "    <tr>\n",
       "      <td>674</td>\n",
       "      <td>Кутузовский проспект</td>\n",
       "      <td>114</td>\n",
       "    </tr>\n",
       "    <tr>\n",
       "      <td>600</td>\n",
       "      <td>Каширское шоссе</td>\n",
       "      <td>112</td>\n",
       "    </tr>\n",
       "  </tbody>\n",
       "</table>\n",
       "</div>"
      ],
      "text/plain": [
       "                       street  object_name\n",
       "1440            проспект Мира          204\n",
       "993         Профсоюзная улица          182\n",
       "683    Ленинградский проспект          171\n",
       "979    Пресненская набережная          167\n",
       "407          Варшавское шоссе          161\n",
       "686        Ленинский проспект          147\n",
       "1407      поселение Сосенское          138\n",
       "1437     проспект Вернадского          132\n",
       "674      Кутузовский проспект          114\n",
       "600           Каширское шоссе          112"
      ]
     },
     "execution_count": 16,
     "metadata": {},
     "output_type": "execute_result"
    }
   ],
   "source": [
    "topname = topname[1:11]\n",
    "topname"
   ]
  },
  {
   "cell_type": "code",
   "execution_count": 17,
   "metadata": {},
   "outputs": [
    {
     "data": {
      "image/png": "[encoded data removed]",
      "text/plain": [
       "<Figure size 864x432 with 1 Axes>"
      ]
     },
     "metadata": {
      "needs_background": "light"
     },
     "output_type": "display_data"
    }
   ],
   "source": [
    "plt.figure(figsize=(12, 6))\n",
    "g = sns.barplot(x='street', y='object_name', data=topname);\n",
    "g.set(xlabel=\"улицы\", ylabel=\" количество объектов общественного питания\");\n",
    "title = ('график количества объектов общественного питания к улицам')\n",
    "g.set(title=title);\n",
    "plt.xticks(rotation=45);"
   ]
  },
  {
   "cell_type": "markdown",
   "metadata": {},
   "source": [
    "*По полученным данным большего всего объектов общественного питания на проспекте Мира, как в этом топе, так и в городе в целом.*"
   ]
  },
  {
   "cell_type": "code",
   "execution_count": 18,
   "metadata": {},
   "outputs": [],
   "source": [
    "#далее необходимо узнать районы города в которых находяться улицы из нашего топа. Для этого обратимся к API Яндекс.Карты\n",
    "API_URL = 'https://geocode-maps.yandex.ru/1.x'\n",
    "\n",
    "\n",
    "token = '7ea0a4d5-e5be-4c85-b41a-bb2a10211f1b'"
   ]
  },
  {
   "cell_type": "code",
   "execution_count": 19,
   "metadata": {},
   "outputs": [
    {
     "data": {
      "text/plain": [
       "{'precision': 'other',\n",
       " 'text': 'Россия, Москва, Северо-Восточный административный округ, Алексеевский район',\n",
       " 'kind': 'district',\n",
       " 'Address': {'country_code': 'RU',\n",
       "  'formatted': 'Россия, Москва, Северо-Восточный административный округ, Алексеевский район',\n",
       "  'Components': [{'kind': 'country', 'name': 'Россия'},\n",
       "   {'kind': 'province', 'name': 'Центральный федеральный округ'},\n",
       "   {'kind': 'province', 'name': 'Москва'},\n",
       "   {'kind': 'locality', 'name': 'Москва'},\n",
       "   {'kind': 'district', 'name': 'Северо-Восточный административный округ'},\n",
       "   {'kind': 'district', 'name': 'Алексеевский район'}]},\n",
       " 'AddressDetails': {'Country': {'AddressLine': 'Россия, Москва, Северо-Восточный административный округ, Алексеевский район',\n",
       "   'CountryNameCode': 'RU',\n",
       "   'CountryName': 'Россия',\n",
       "   'AdministrativeArea': {'AdministrativeAreaName': 'Москва',\n",
       "    'Locality': {'LocalityName': 'Москва',\n",
       "     'DependentLocality': {'DependentLocalityName': 'Северо-Восточный административный округ',\n",
       "      'DependentLocality': {'DependentLocalityName': 'Алексеевский район'}}}}}}}"
      ]
     },
     "execution_count": 19,
     "metadata": {},
     "output_type": "execute_result"
    }
   ],
   "source": [
    "#получим координаты района и сверим с Яндекс.Карты\n",
    "params = {\n",
    "    'geocode': 'город Москва, проспект Мира',\n",
    "    'format': 'json',\n",
    "    'apikey': token\n",
    "    }\n",
    "r = requests.get(API_URL, params=params)\n",
    "#получаем координаты по улице\n",
    "coordinates = r.json()['response']['GeoObjectCollection']['featureMember'][0]['GeoObject']['Point']['pos']\n",
    "\n",
    "params = {\n",
    "    'geocode': ','.join(coordinates.split(' ')),\n",
    "    'format': 'json',\n",
    "    'apikey': token\n",
    "    }\n",
    "\n",
    "r = requests.get(API_URL, params=params)\n",
    "#получаем район по координатам\n",
    "district = r.json()['response']['GeoObjectCollection']['featureMember'][1]['GeoObject']['metaDataProperty']['GeocoderMetaData']\n",
    "district"
   ]
  },
  {
   "cell_type": "markdown",
   "metadata": {},
   "source": [
    "*Проспект Мира, согласно Яндекс.Картам, находиться в Алексеевском районе*"
   ]
  },
  {
   "cell_type": "code",
   "execution_count": 20,
   "metadata": {},
   "outputs": [
    {
     "data": {
      "text/plain": [
       "{'precision': 'other',\n",
       " 'text': 'Россия, Москва, Юго-Западный административный округ, район Коньково, 1-й микрорайон',\n",
       " 'kind': 'district',\n",
       " 'Address': {'country_code': 'RU',\n",
       "  'formatted': 'Россия, Москва, Юго-Западный административный округ, район Коньково, 1-й микрорайон',\n",
       "  'Components': [{'kind': 'country', 'name': 'Россия'},\n",
       "   {'kind': 'province', 'name': 'Центральный федеральный округ'},\n",
       "   {'kind': 'province', 'name': 'Москва'},\n",
       "   {'kind': 'locality', 'name': 'Москва'},\n",
       "   {'kind': 'district', 'name': 'Юго-Западный административный округ'},\n",
       "   {'kind': 'district', 'name': 'район Коньково'},\n",
       "   {'kind': 'district', 'name': '1-й микрорайон'}]},\n",
       " 'AddressDetails': {'Country': {'AddressLine': 'Россия, Москва, Юго-Западный административный округ, район Коньково, 1-й микрорайон',\n",
       "   'CountryNameCode': 'RU',\n",
       "   'CountryName': 'Россия',\n",
       "   'AdministrativeArea': {'AdministrativeAreaName': 'Москва',\n",
       "    'Locality': {'LocalityName': 'Москва',\n",
       "     'DependentLocality': {'DependentLocalityName': 'Юго-Западный административный округ',\n",
       "      'DependentLocality': {'DependentLocalityName': 'район Коньково',\n",
       "       'DependentLocality': {'DependentLocalityName': '1-й микрорайон'}}}}}}}}"
      ]
     },
     "execution_count": 20,
     "metadata": {},
     "output_type": "execute_result"
    }
   ],
   "source": [
    "params = {\n",
    "    'geocode': 'город Москва, Профсоюзная улица',\n",
    "    'format': 'json',\n",
    "    'apikey': token\n",
    "    }\n",
    "r = requests.get(API_URL, params=params)\n",
    "coordinates = r.json()['response']['GeoObjectCollection']['featureMember'][0]['GeoObject']['Point']['pos']\n",
    "\n",
    "params = {\n",
    "    'geocode': ','.join(coordinates.split(' ')),\n",
    "    'format': 'json',\n",
    "    'apikey': token\n",
    "    }\n",
    "\n",
    "r = requests.get(API_URL, params=params)\n",
    "district = r.json()['response']['GeoObjectCollection']['featureMember'][1]['GeoObject']['metaDataProperty']['GeocoderMetaData']\n",
    "district"
   ]
  },
  {
   "cell_type": "markdown",
   "metadata": {},
   "source": [
    "*Профсоюзная улица, согласно Яндекс.Картам, находиться в районе Коньково*"
   ]
  },
  {
   "cell_type": "code",
   "execution_count": 21,
   "metadata": {},
   "outputs": [
    {
     "data": {
      "text/plain": [
       "{'precision': 'other',\n",
       " 'text': 'Россия, Москва, Северный административный округ, Хорошёвский район',\n",
       " 'kind': 'district',\n",
       " 'Address': {'country_code': 'RU',\n",
       "  'formatted': 'Россия, Москва, Северный административный округ, Хорошёвский район',\n",
       "  'Components': [{'kind': 'country', 'name': 'Россия'},\n",
       "   {'kind': 'province', 'name': 'Центральный федеральный округ'},\n",
       "   {'kind': 'province', 'name': 'Москва'},\n",
       "   {'kind': 'locality', 'name': 'Москва'},\n",
       "   {'kind': 'district', 'name': 'Северный административный округ'},\n",
       "   {'kind': 'district', 'name': 'Хорошёвский район'}]},\n",
       " 'AddressDetails': {'Country': {'AddressLine': 'Россия, Москва, Северный административный округ, Хорошёвский район',\n",
       "   'CountryNameCode': 'RU',\n",
       "   'CountryName': 'Россия',\n",
       "   'AdministrativeArea': {'AdministrativeAreaName': 'Москва',\n",
       "    'Locality': {'LocalityName': 'Москва',\n",
       "     'DependentLocality': {'DependentLocalityName': 'Северный административный округ',\n",
       "      'DependentLocality': {'DependentLocalityName': 'Хорошёвский район'}}}}}}}"
      ]
     },
     "execution_count": 21,
     "metadata": {},
     "output_type": "execute_result"
    }
   ],
   "source": [
    "params = {\n",
    "    'geocode': 'город Москва, Ленинградский проспект',\n",
    "    'format': 'json',\n",
    "    'apikey': token\n",
    "    }\n",
    "r = requests.get(API_URL, params=params)\n",
    "coordinates = r.json()['response']['GeoObjectCollection']['featureMember'][0]['GeoObject']['Point']['pos']\n",
    "\n",
    "params = {\n",
    "    'geocode': ','.join(coordinates.split(' ')),\n",
    "    'format': 'json',\n",
    "    'apikey': token\n",
    "    }\n",
    "\n",
    "r = requests.get(API_URL, params=params)\n",
    "district = r.json()['response']['GeoObjectCollection']['featureMember'][1]['GeoObject']['metaDataProperty']['GeocoderMetaData']\n",
    "district"
   ]
  },
  {
   "cell_type": "markdown",
   "metadata": {},
   "source": [
    "*Ленинградский проспект, согласно Яндекс.Картам, находиться в Хорошёвском районе*"
   ]
  },
  {
   "cell_type": "code",
   "execution_count": 22,
   "metadata": {},
   "outputs": [
    {
     "data": {
      "text/plain": [
       "{'precision': 'other',\n",
       " 'text': 'Россия, Москва, Центральный административный округ, Пресненский район, Московский международный деловой центр Москва-Сити',\n",
       " 'kind': 'district',\n",
       " 'Address': {'country_code': 'RU',\n",
       "  'formatted': 'Россия, Москва, Центральный административный округ, Пресненский район, Московский международный деловой центр Москва-Сити',\n",
       "  'Components': [{'kind': 'country', 'name': 'Россия'},\n",
       "   {'kind': 'province', 'name': 'Центральный федеральный округ'},\n",
       "   {'kind': 'province', 'name': 'Москва'},\n",
       "   {'kind': 'locality', 'name': 'Москва'},\n",
       "   {'kind': 'district', 'name': 'Центральный административный округ'},\n",
       "   {'kind': 'district', 'name': 'Пресненский район'},\n",
       "   {'kind': 'district',\n",
       "    'name': 'Московский международный деловой центр Москва-Сити'}]},\n",
       " 'AddressDetails': {'Country': {'AddressLine': 'Россия, Москва, Центральный административный округ, Пресненский район, Московский международный деловой центр Москва-Сити',\n",
       "   'CountryNameCode': 'RU',\n",
       "   'CountryName': 'Россия',\n",
       "   'AdministrativeArea': {'AdministrativeAreaName': 'Москва',\n",
       "    'Locality': {'LocalityName': 'Москва',\n",
       "     'DependentLocality': {'DependentLocalityName': 'Центральный административный округ',\n",
       "      'DependentLocality': {'DependentLocalityName': 'Пресненский район',\n",
       "       'DependentLocality': {'DependentLocalityName': 'Московский международный деловой центр Москва-Сити'}}}}}}}}"
      ]
     },
     "execution_count": 22,
     "metadata": {},
     "output_type": "execute_result"
    }
   ],
   "source": [
    "params = {\n",
    "    'geocode': 'город Москва, Пресненская набережная',\n",
    "    'format': 'json',\n",
    "    'apikey': token\n",
    "    }\n",
    "r = requests.get(API_URL, params=params)\n",
    "coordinates = r.json()['response']['GeoObjectCollection']['featureMember'][0]['GeoObject']['Point']['pos']\n",
    "\n",
    "params = {\n",
    "    'geocode': ','.join(coordinates.split(' ')),\n",
    "    'format': 'json',\n",
    "    'apikey': token\n",
    "    }\n",
    "\n",
    "r = requests.get(API_URL, params=params)\n",
    "district = r.json()['response']['GeoObjectCollection']['featureMember'][1]['GeoObject']['metaDataProperty']['GeocoderMetaData']\n",
    "district"
   ]
  },
  {
   "cell_type": "markdown",
   "metadata": {},
   "source": [
    "*Пресненская набережная, согласно Яндекс.Картам, находиться в Пресненском районе*"
   ]
  },
  {
   "cell_type": "code",
   "execution_count": 23,
   "metadata": {},
   "outputs": [
    {
     "data": {
      "text/plain": [
       "{'precision': 'other',\n",
       " 'text': 'Россия, Москва, Южный административный округ, район Чертаново Южное',\n",
       " 'kind': 'district',\n",
       " 'Address': {'country_code': 'RU',\n",
       "  'formatted': 'Россия, Москва, Южный административный округ, район Чертаново Южное',\n",
       "  'Components': [{'kind': 'country', 'name': 'Россия'},\n",
       "   {'kind': 'province', 'name': 'Центральный федеральный округ'},\n",
       "   {'kind': 'province', 'name': 'Москва'},\n",
       "   {'kind': 'locality', 'name': 'Москва'},\n",
       "   {'kind': 'district', 'name': 'Южный административный округ'},\n",
       "   {'kind': 'district', 'name': 'район Чертаново Южное'}]},\n",
       " 'AddressDetails': {'Country': {'AddressLine': 'Россия, Москва, Южный административный округ, район Чертаново Южное',\n",
       "   'CountryNameCode': 'RU',\n",
       "   'CountryName': 'Россия',\n",
       "   'AdministrativeArea': {'AdministrativeAreaName': 'Москва',\n",
       "    'Locality': {'LocalityName': 'Москва',\n",
       "     'DependentLocality': {'DependentLocalityName': 'Южный административный округ',\n",
       "      'DependentLocality': {'DependentLocalityName': 'район Чертаново Южное'}}}}}}}"
      ]
     },
     "execution_count": 23,
     "metadata": {},
     "output_type": "execute_result"
    }
   ],
   "source": [
    "params = {\n",
    "    'geocode': 'город Москва, Варшавское шоссе',\n",
    "    'format': 'json',\n",
    "    'apikey': token\n",
    "    }\n",
    "r = requests.get(API_URL, params=params)\n",
    "coordinates = r.json()['response']['GeoObjectCollection']['featureMember'][0]['GeoObject']['Point']['pos']\n",
    "\n",
    "params = {\n",
    "    'geocode': ','.join(coordinates.split(' ')),\n",
    "    'format': 'json',\n",
    "    'apikey': token\n",
    "    }\n",
    "\n",
    "r = requests.get(API_URL, params=params)\n",
    "district = r.json()['response']['GeoObjectCollection']['featureMember'][1]['GeoObject']['metaDataProperty']['GeocoderMetaData']\n",
    "district"
   ]
  },
  {
   "cell_type": "markdown",
   "metadata": {},
   "source": [
    "*Варшавское шоссе, согласно Яндекс.Картам, находиться в районе Чертаново Южное*"
   ]
  },
  {
   "cell_type": "code",
   "execution_count": 24,
   "metadata": {},
   "outputs": [
    {
     "data": {
      "text/plain": [
       "{'precision': 'other',\n",
       " 'text': 'Россия, Москва, Юго-Западный административный округ, Ломоносовский район',\n",
       " 'kind': 'district',\n",
       " 'Address': {'country_code': 'RU',\n",
       "  'formatted': 'Россия, Москва, Юго-Западный административный округ, Ломоносовский район',\n",
       "  'Components': [{'kind': 'country', 'name': 'Россия'},\n",
       "   {'kind': 'province', 'name': 'Центральный федеральный округ'},\n",
       "   {'kind': 'province', 'name': 'Москва'},\n",
       "   {'kind': 'locality', 'name': 'Москва'},\n",
       "   {'kind': 'district', 'name': 'Юго-Западный административный округ'},\n",
       "   {'kind': 'district', 'name': 'Ломоносовский район'}]},\n",
       " 'AddressDetails': {'Country': {'AddressLine': 'Россия, Москва, Юго-Западный административный округ, Ломоносовский район',\n",
       "   'CountryNameCode': 'RU',\n",
       "   'CountryName': 'Россия',\n",
       "   'AdministrativeArea': {'AdministrativeAreaName': 'Москва',\n",
       "    'Locality': {'LocalityName': 'Москва',\n",
       "     'DependentLocality': {'DependentLocalityName': 'Юго-Западный административный округ',\n",
       "      'DependentLocality': {'DependentLocalityName': 'Ломоносовский район'}}}}}}}"
      ]
     },
     "execution_count": 24,
     "metadata": {},
     "output_type": "execute_result"
    }
   ],
   "source": [
    "params = {\n",
    "    'geocode': 'город Москва, Ленинский проспект',\n",
    "    'format': 'json',\n",
    "    'apikey': token\n",
    "    }\n",
    "r = requests.get(API_URL, params=params)\n",
    "coordinates = r.json()['response']['GeoObjectCollection']['featureMember'][0]['GeoObject']['Point']['pos']\n",
    "\n",
    "params = {\n",
    "    'geocode': ','.join(coordinates.split(' ')),\n",
    "    'format': 'json',\n",
    "    'apikey': token\n",
    "    }\n",
    "\n",
    "r = requests.get(API_URL, params=params)\n",
    "district = r.json()['response']['GeoObjectCollection']['featureMember'][1]['GeoObject']['metaDataProperty']['GeocoderMetaData']\n",
    "district"
   ]
  },
  {
   "cell_type": "markdown",
   "metadata": {},
   "source": [
    "*Варшавское шоссе, согласно Яндекс.Картам, находиться в Ломоносовском районе*"
   ]
  },
  {
   "cell_type": "code",
   "execution_count": 25,
   "metadata": {},
   "outputs": [
    {
     "data": {
      "text/plain": [
       "{'precision': 'other',\n",
       " 'text': 'Россия, Москва, поселение Сосенское, административно-деловой центр Коммунарка',\n",
       " 'kind': 'district',\n",
       " 'Address': {'country_code': 'RU',\n",
       "  'formatted': 'Россия, Москва, поселение Сосенское, административно-деловой центр Коммунарка',\n",
       "  'Components': [{'kind': 'country', 'name': 'Россия'},\n",
       "   {'kind': 'province', 'name': 'Центральный федеральный округ'},\n",
       "   {'kind': 'province', 'name': 'Москва'},\n",
       "   {'kind': 'area', 'name': 'Новомосковский административный округ'},\n",
       "   {'kind': 'area', 'name': 'поселение Сосенское'},\n",
       "   {'kind': 'district', 'name': 'административно-деловой центр Коммунарка'}]},\n",
       " 'AddressDetails': {'Country': {'AddressLine': 'Россия, Москва, поселение Сосенское, административно-деловой центр Коммунарка',\n",
       "   'CountryNameCode': 'RU',\n",
       "   'CountryName': 'Россия',\n",
       "   'AdministrativeArea': {'AdministrativeAreaName': 'Москва',\n",
       "    'SubAdministrativeArea': {'SubAdministrativeAreaName': 'Новомосковский административный округ',\n",
       "     'Locality': {'DependentLocality': {'DependentLocalityName': 'административно-деловой центр Коммунарка'}}}}}}}"
      ]
     },
     "execution_count": 25,
     "metadata": {},
     "output_type": "execute_result"
    }
   ],
   "source": [
    "params = {\n",
    "    'geocode': 'город Москва, поселение Сосенское',\n",
    "    'format': 'json',\n",
    "    'apikey': token\n",
    "    }\n",
    "r = requests.get(API_URL, params=params)\n",
    "coordinates = r.json()['response']['GeoObjectCollection']['featureMember'][0]['GeoObject']['Point']['pos']\n",
    "\n",
    "params = {\n",
    "    'geocode': ','.join(coordinates.split(' ')),\n",
    "    'format': 'json',\n",
    "    'apikey': token\n",
    "    }\n",
    "\n",
    "r = requests.get(API_URL, params=params)\n",
    "district = r.json()['response']['GeoObjectCollection']['featureMember'][1]['GeoObject']['metaDataProperty']['GeocoderMetaData']\n",
    "district"
   ]
  },
  {
   "cell_type": "markdown",
   "metadata": {},
   "source": [
    "*поселение Сосенское, согласно Яндекс.Картам, находиться в административно-деловом центре Коммунарка*"
   ]
  },
  {
   "cell_type": "code",
   "execution_count": 26,
   "metadata": {},
   "outputs": [
    {
     "data": {
      "text/plain": [
       "{'precision': 'other',\n",
       " 'text': 'Россия, Москва, Юго-Западный административный округ, Ломоносовский район',\n",
       " 'kind': 'district',\n",
       " 'Address': {'country_code': 'RU',\n",
       "  'formatted': 'Россия, Москва, Юго-Западный административный округ, Ломоносовский район',\n",
       "  'Components': [{'kind': 'country', 'name': 'Россия'},\n",
       "   {'kind': 'province', 'name': 'Центральный федеральный округ'},\n",
       "   {'kind': 'province', 'name': 'Москва'},\n",
       "   {'kind': 'locality', 'name': 'Москва'},\n",
       "   {'kind': 'district', 'name': 'Юго-Западный административный округ'},\n",
       "   {'kind': 'district', 'name': 'Ломоносовский район'}]},\n",
       " 'AddressDetails': {'Country': {'AddressLine': 'Россия, Москва, Юго-Западный административный округ, Ломоносовский район',\n",
       "   'CountryNameCode': 'RU',\n",
       "   'CountryName': 'Россия',\n",
       "   'AdministrativeArea': {'AdministrativeAreaName': 'Москва',\n",
       "    'Locality': {'LocalityName': 'Москва',\n",
       "     'DependentLocality': {'DependentLocalityName': 'Юго-Западный административный округ',\n",
       "      'DependentLocality': {'DependentLocalityName': 'Ломоносовский район'}}}}}}}"
      ]
     },
     "execution_count": 26,
     "metadata": {},
     "output_type": "execute_result"
    }
   ],
   "source": [
    "params = {\n",
    "    'geocode': 'город Москва, проспект Вернадского',\n",
    "    'format': 'json',\n",
    "    'apikey': token\n",
    "    }\n",
    "r = requests.get(API_URL, params=params)\n",
    "coordinates = r.json()['response']['GeoObjectCollection']['featureMember'][0]['GeoObject']['Point']['pos']\n",
    "\n",
    "params = {\n",
    "    'geocode': ','.join(coordinates.split(' ')),\n",
    "    'format': 'json',\n",
    "    'apikey': token\n",
    "    }\n",
    "\n",
    "r = requests.get(API_URL, params=params)\n",
    "district = r.json()['response']['GeoObjectCollection']['featureMember'][1]['GeoObject']['metaDataProperty']['GeocoderMetaData']\n",
    "district"
   ]
  },
  {
   "cell_type": "markdown",
   "metadata": {},
   "source": [
    "*проспект Вернадского, согласно Яндекс.Картам, находиться в Ломоносовском районе*"
   ]
  },
  {
   "cell_type": "code",
   "execution_count": 27,
   "metadata": {},
   "outputs": [
    {
     "data": {
      "text/plain": [
       "{'precision': 'other',\n",
       " 'text': 'Россия, Москва, Западный административный округ, район Дорогомилово',\n",
       " 'kind': 'district',\n",
       " 'Address': {'country_code': 'RU',\n",
       "  'formatted': 'Россия, Москва, Западный административный округ, район Дорогомилово',\n",
       "  'Components': [{'kind': 'country', 'name': 'Россия'},\n",
       "   {'kind': 'province', 'name': 'Центральный федеральный округ'},\n",
       "   {'kind': 'province', 'name': 'Москва'},\n",
       "   {'kind': 'locality', 'name': 'Москва'},\n",
       "   {'kind': 'district', 'name': 'Западный административный округ'},\n",
       "   {'kind': 'district', 'name': 'район Дорогомилово'}]},\n",
       " 'AddressDetails': {'Country': {'AddressLine': 'Россия, Москва, Западный административный округ, район Дорогомилово',\n",
       "   'CountryNameCode': 'RU',\n",
       "   'CountryName': 'Россия',\n",
       "   'AdministrativeArea': {'AdministrativeAreaName': 'Москва',\n",
       "    'Locality': {'LocalityName': 'Москва',\n",
       "     'DependentLocality': {'DependentLocalityName': 'Западный административный округ',\n",
       "      'DependentLocality': {'DependentLocalityName': 'район Дорогомилово'}}}}}}}"
      ]
     },
     "execution_count": 27,
     "metadata": {},
     "output_type": "execute_result"
    }
   ],
   "source": [
    "params = {\n",
    "    'geocode': 'город Москва, Кутузовский проспект',\n",
    "    'format': 'json',\n",
    "    'apikey': token\n",
    "    }\n",
    "r = requests.get(API_URL, params=params)\n",
    "coordinates = r.json()['response']['GeoObjectCollection']['featureMember'][0]['GeoObject']['Point']['pos']\n",
    "\n",
    "params = {\n",
    "    'geocode': ','.join(coordinates.split(' ')),\n",
    "    'format': 'json',\n",
    "    'apikey': token\n",
    "    }\n",
    "\n",
    "r = requests.get(API_URL, params=params)\n",
    "district = r.json()['response']['GeoObjectCollection']['featureMember'][1]['GeoObject']['metaDataProperty']['GeocoderMetaData']\n",
    "district"
   ]
  },
  {
   "cell_type": "markdown",
   "metadata": {},
   "source": [
    "*Кутузовский проспект, согласно Яндекс.Картам, находиться в районе Дорогомилово*"
   ]
  },
  {
   "cell_type": "code",
   "execution_count": 28,
   "metadata": {},
   "outputs": [
    {
     "data": {
      "text/plain": [
       "{'precision': 'other',\n",
       " 'text': 'Россия, Москва, Южный административный округ, район Москворечье-Сабурово, кварталы 1А и 1Б Москворечья',\n",
       " 'kind': 'district',\n",
       " 'Address': {'country_code': 'RU',\n",
       "  'formatted': 'Россия, Москва, Южный административный округ, район Москворечье-Сабурово, кварталы 1А и 1Б Москворечья',\n",
       "  'Components': [{'kind': 'country', 'name': 'Россия'},\n",
       "   {'kind': 'province', 'name': 'Центральный федеральный округ'},\n",
       "   {'kind': 'province', 'name': 'Москва'},\n",
       "   {'kind': 'locality', 'name': 'Москва'},\n",
       "   {'kind': 'district', 'name': 'Южный административный округ'},\n",
       "   {'kind': 'district', 'name': 'район Москворечье-Сабурово'},\n",
       "   {'kind': 'district', 'name': 'кварталы 1А и 1Б Москворечья'}]},\n",
       " 'AddressDetails': {'Country': {'AddressLine': 'Россия, Москва, Южный административный округ, район Москворечье-Сабурово, кварталы 1А и 1Б Москворечья',\n",
       "   'CountryNameCode': 'RU',\n",
       "   'CountryName': 'Россия',\n",
       "   'AdministrativeArea': {'AdministrativeAreaName': 'Москва',\n",
       "    'Locality': {'LocalityName': 'Москва',\n",
       "     'DependentLocality': {'DependentLocalityName': 'Южный административный округ',\n",
       "      'DependentLocality': {'DependentLocalityName': 'район Москворечье-Сабурово',\n",
       "       'DependentLocality': {'DependentLocalityName': 'кварталы 1А и 1Б Москворечья'}}}}}}}}"
      ]
     },
     "execution_count": 28,
     "metadata": {},
     "output_type": "execute_result"
    }
   ],
   "source": [
    "params = {\n",
    "    'geocode': 'город Москва, Каширское шоссе',\n",
    "    'format': 'json',\n",
    "    'apikey': token\n",
    "    }\n",
    "r = requests.get(API_URL, params=params)\n",
    "coordinates = r.json()['response']['GeoObjectCollection']['featureMember'][0]['GeoObject']['Point']['pos']\n",
    "\n",
    "params = {\n",
    "    'geocode': ','.join(coordinates.split(' ')),\n",
    "    'format': 'json',\n",
    "    'apikey': token\n",
    "    }\n",
    "\n",
    "r = requests.get(API_URL, params=params)\n",
    "district = r.json()['response']['GeoObjectCollection']['featureMember'][1]['GeoObject']['metaDataProperty']['GeocoderMetaData']\n",
    "district"
   ]
  },
  {
   "cell_type": "markdown",
   "metadata": {},
   "source": [
    "*Каширское шоссе, согласно Яндекс.Картам, находиться в районе кварталы 1А и 1Б Москворечья*"
   ]
  },
  {
   "cell_type": "markdown",
   "metadata": {},
   "source": [
    "### Найти число улиц с одним объектом общественного питания. Воспользоваться внешней информацией и ответить на вопрос — в каких районах Москвы находятся эти улицы?"
   ]
  },
  {
   "cell_type": "code",
   "execution_count": 30,
   "metadata": {},
   "outputs": [
    {
     "data": {
      "text/plain": [
       "{'precision': 'other',\n",
       " 'text': 'Россия, Москва, Восточный административный округ, район Богородское',\n",
       " 'kind': 'district',\n",
       " 'Address': {'country_code': 'RU',\n",
       "  'formatted': 'Россия, Москва, Восточный административный округ, район Богородское',\n",
       "  'Components': [{'kind': 'country', 'name': 'Россия'},\n",
       "   {'kind': 'province', 'name': 'Центральный федеральный округ'},\n",
       "   {'kind': 'province', 'name': 'Москва'},\n",
       "   {'kind': 'locality', 'name': 'Москва'},\n",
       "   {'kind': 'district', 'name': 'Восточный административный округ'},\n",
       "   {'kind': 'district', 'name': 'район Богородское'}]},\n",
       " 'AddressDetails': {'Country': {'AddressLine': 'Россия, Москва, Восточный административный округ, район Богородское',\n",
       "   'CountryNameCode': 'RU',\n",
       "   'CountryName': 'Россия',\n",
       "   'AdministrativeArea': {'AdministrativeAreaName': 'Москва',\n",
       "    'Locality': {'LocalityName': 'Москва',\n",
       "     'DependentLocality': {'DependentLocalityName': 'Восточный административный округ',\n",
       "      'DependentLocality': {'DependentLocalityName': 'район Богородское'}}}}}}}"
      ]
     },
     "execution_count": 30,
     "metadata": {},
     "output_type": "execute_result"
    }
   ],
   "source": [
    "params = {\n",
    "    'geocode': 'город Москва, Алымов переулок',\n",
    "    'format': 'json',\n",
    "    'apikey': token\n",
    "    }\n",
    "r = requests.get(API_URL, params=params)\n",
    "coordinates = r.json()['response']['GeoObjectCollection']['featureMember'][0]['GeoObject']['Point']['pos']\n",
    "\n",
    "params = {\n",
    "    'geocode': ','.join(coordinates.split(' ')),\n",
    "    'format': 'json',\n",
    "    'apikey': token\n",
    "    }\n",
    "\n",
    "r = requests.get(API_URL, params=params)\n",
    "district = r.json()['response']['GeoObjectCollection']['featureMember'][1]['GeoObject']['metaDataProperty']['GeocoderMetaData']\n",
    "district"
   ]
  },
  {
   "cell_type": "markdown",
   "metadata": {},
   "source": [
    "*Алымов переулок, согласно Яндекс.Картам, находиться в районе Богородское*"
   ]
  },
  {
   "cell_type": "code",
   "execution_count": 31,
   "metadata": {},
   "outputs": [
    {
     "data": {
      "text/plain": [
       "{'precision': 'other',\n",
       " 'text': 'Россия, Москва, Восточный административный округ, район Косино-Ухтомский, микрорайон Кожухово, 6-й, 7-й, 8-й кварталы',\n",
       " 'kind': 'district',\n",
       " 'Address': {'country_code': 'RU',\n",
       "  'formatted': 'Россия, Москва, Восточный административный округ, район Косино-Ухтомский, микрорайон Кожухово, 6-й, 7-й, 8-й кварталы',\n",
       "  'Components': [{'kind': 'country', 'name': 'Россия'},\n",
       "   {'kind': 'province', 'name': 'Центральный федеральный округ'},\n",
       "   {'kind': 'province', 'name': 'Москва'},\n",
       "   {'kind': 'locality', 'name': 'Москва'},\n",
       "   {'kind': 'district', 'name': 'Восточный административный округ'},\n",
       "   {'kind': 'district', 'name': 'район Косино-Ухтомский'},\n",
       "   {'kind': 'district', 'name': 'микрорайон Кожухово'},\n",
       "   {'kind': 'district', 'name': '6-й, 7-й, 8-й кварталы'}]},\n",
       " 'AddressDetails': {'Country': {'AddressLine': 'Россия, Москва, Восточный административный округ, район Косино-Ухтомский, микрорайон Кожухово, 6-й, 7-й, 8-й кварталы',\n",
       "   'CountryNameCode': 'RU',\n",
       "   'CountryName': 'Россия',\n",
       "   'AdministrativeArea': {'AdministrativeAreaName': 'Москва',\n",
       "    'Locality': {'LocalityName': 'Москва',\n",
       "     'DependentLocality': {'DependentLocalityName': 'Восточный административный округ',\n",
       "      'DependentLocality': {'DependentLocalityName': 'район Косино-Ухтомский',\n",
       "       'DependentLocality': {'DependentLocalityName': 'микрорайон Кожухово',\n",
       "        'DependentLocality': {'DependentLocalityName': '6-й, 7-й, 8-й кварталы'}}}}}}}}}"
      ]
     },
     "execution_count": 31,
     "metadata": {},
     "output_type": "execute_result"
    }
   ],
   "source": [
    "params = {\n",
    "    'geocode': 'город Москва, улица Медведева',\n",
    "    'format': 'json',\n",
    "    'apikey': token\n",
    "    }\n",
    "r = requests.get(API_URL, params=params)\n",
    "coordinates = r.json()['response']['GeoObjectCollection']['featureMember'][0]['GeoObject']['Point']['pos']\n",
    "\n",
    "params = {\n",
    "    'geocode': ','.join(coordinates.split(' ')),\n",
    "    'format': 'json',\n",
    "    'apikey': token\n",
    "    }\n",
    "\n",
    "r = requests.get(API_URL, params=params)\n",
    "district = r.json()['response']['GeoObjectCollection']['featureMember'][1]['GeoObject']['metaDataProperty']['GeocoderMetaData']\n",
    "district"
   ]
  },
  {
   "cell_type": "markdown",
   "metadata": {},
   "source": [
    "*улица Медведева, согласно Яндекс.Картам, находиться в районе Косино-Ухтомский*"
   ]
  },
  {
   "cell_type": "code",
   "execution_count": 32,
   "metadata": {},
   "outputs": [
    {
     "data": {
      "text/plain": [
       "{'precision': 'other',\n",
       " 'text': 'Россия, Москва, Восточный административный округ, район Перово',\n",
       " 'kind': 'district',\n",
       " 'Address': {'country_code': 'RU',\n",
       "  'formatted': 'Россия, Москва, Восточный административный округ, район Перово',\n",
       "  'Components': [{'kind': 'country', 'name': 'Россия'},\n",
       "   {'kind': 'province', 'name': 'Центральный федеральный округ'},\n",
       "   {'kind': 'province', 'name': 'Москва'},\n",
       "   {'kind': 'locality', 'name': 'Москва'},\n",
       "   {'kind': 'district', 'name': 'Восточный административный округ'},\n",
       "   {'kind': 'district', 'name': 'район Перово'}]},\n",
       " 'AddressDetails': {'Country': {'AddressLine': 'Россия, Москва, Восточный административный округ, район Перово',\n",
       "   'CountryNameCode': 'RU',\n",
       "   'CountryName': 'Россия',\n",
       "   'AdministrativeArea': {'AdministrativeAreaName': 'Москва',\n",
       "    'Locality': {'LocalityName': 'Москва',\n",
       "     'DependentLocality': {'DependentLocalityName': 'Восточный административный округ',\n",
       "      'DependentLocality': {'DependentLocalityName': 'район Перово'}}}}}}}"
      ]
     },
     "execution_count": 32,
     "metadata": {},
     "output_type": "execute_result"
    }
   ],
   "source": [
    "params = {\n",
    "    'geocode': 'город Москва, 2-я улица Энтузиастов',\n",
    "    'format': 'json',\n",
    "    'apikey': token\n",
    "    }\n",
    "r = requests.get(API_URL, params=params)\n",
    "coordinates = r.json()['response']['GeoObjectCollection']['featureMember'][0]['GeoObject']['Point']['pos']\n",
    "\n",
    "params = {\n",
    "    'geocode': ','.join(coordinates.split(' ')),\n",
    "    'format': 'json',\n",
    "    'apikey': token\n",
    "    }\n",
    "\n",
    "r = requests.get(API_URL, params=params)\n",
    "district = r.json()['response']['GeoObjectCollection']['featureMember'][1]['GeoObject']['metaDataProperty']['GeocoderMetaData']\n",
    "district"
   ]
  },
  {
   "cell_type": "markdown",
   "metadata": {},
   "source": [
    "*2-я улица Энтузиастов, согласно Яндекс.Картам, находиться в районе Перово*"
   ]
  },
  {
   "cell_type": "code",
   "execution_count": 33,
   "metadata": {},
   "outputs": [
    {
     "data": {
      "text/plain": [
       "{'precision': 'other',\n",
       " 'text': 'Россия, Москва, Юго-Западный административный округ, район Южное Бутово',\n",
       " 'kind': 'district',\n",
       " 'Address': {'country_code': 'RU',\n",
       "  'formatted': 'Россия, Москва, Юго-Западный административный округ, район Южное Бутово',\n",
       "  'Components': [{'kind': 'country', 'name': 'Россия'},\n",
       "   {'kind': 'province', 'name': 'Центральный федеральный округ'},\n",
       "   {'kind': 'province', 'name': 'Москва'},\n",
       "   {'kind': 'locality', 'name': 'Москва'},\n",
       "   {'kind': 'district', 'name': 'Юго-Западный административный округ'},\n",
       "   {'kind': 'district', 'name': 'район Южное Бутово'}]},\n",
       " 'AddressDetails': {'Country': {'AddressLine': 'Россия, Москва, Юго-Западный административный округ, район Южное Бутово',\n",
       "   'CountryNameCode': 'RU',\n",
       "   'CountryName': 'Россия',\n",
       "   'AdministrativeArea': {'AdministrativeAreaName': 'Москва',\n",
       "    'Locality': {'LocalityName': 'Москва',\n",
       "     'DependentLocality': {'DependentLocalityName': 'Юго-Западный административный округ',\n",
       "      'DependentLocality': {'DependentLocalityName': 'район Южное Бутово'}}}}}}}"
      ]
     },
     "execution_count": 33,
     "metadata": {},
     "output_type": "execute_result"
    }
   ],
   "source": [
    "params = {\n",
    "    'geocode': 'город Москва, улица Захарьинские Дворики',\n",
    "    'format': 'json',\n",
    "    'apikey': token\n",
    "    }\n",
    "r = requests.get(API_URL, params=params)\n",
    "coordinates = r.json()['response']['GeoObjectCollection']['featureMember'][0]['GeoObject']['Point']['pos']\n",
    "\n",
    "params = {\n",
    "    'geocode': ','.join(coordinates.split(' ')),\n",
    "    'format': 'json',\n",
    "    'apikey': token\n",
    "    }\n",
    "\n",
    "r = requests.get(API_URL, params=params)\n",
    "district = r.json()['response']['GeoObjectCollection']['featureMember'][1]['GeoObject']['metaDataProperty']['GeocoderMetaData']\n",
    "district"
   ]
  },
  {
   "cell_type": "markdown",
   "metadata": {},
   "source": [
    "*улица Захарьинские Дворики, согласно Яндекс.Картам, находиться в районе Южное Бутово*"
   ]
  },
  {
   "cell_type": "code",
   "execution_count": 34,
   "metadata": {},
   "outputs": [
    {
     "data": {
      "text/plain": [
       "{'precision': 'other',\n",
       " 'text': 'Россия, Москва, Восточный административный округ, район Богородское',\n",
       " 'kind': 'district',\n",
       " 'Address': {'country_code': 'RU',\n",
       "  'formatted': 'Россия, Москва, Восточный административный округ, район Богородское',\n",
       "  'Components': [{'kind': 'country', 'name': 'Россия'},\n",
       "   {'kind': 'province', 'name': 'Центральный федеральный округ'},\n",
       "   {'kind': 'province', 'name': 'Москва'},\n",
       "   {'kind': 'locality', 'name': 'Москва'},\n",
       "   {'kind': 'district', 'name': 'Восточный административный округ'},\n",
       "   {'kind': 'district', 'name': 'район Богородское'}]},\n",
       " 'AddressDetails': {'Country': {'AddressLine': 'Россия, Москва, Восточный административный округ, район Богородское',\n",
       "   'CountryNameCode': 'RU',\n",
       "   'CountryName': 'Россия',\n",
       "   'AdministrativeArea': {'AdministrativeAreaName': 'Москва',\n",
       "    'Locality': {'LocalityName': 'Москва',\n",
       "     'DependentLocality': {'DependentLocalityName': 'Восточный административный округ',\n",
       "      'DependentLocality': {'DependentLocalityName': 'район Богородское'}}}}}}}"
      ]
     },
     "execution_count": 34,
     "metadata": {},
     "output_type": "execute_result"
    }
   ],
   "source": [
    "params = {\n",
    "    'geocode': 'город Москва, Андреево-Забелинская улица',\n",
    "    'format': 'json',\n",
    "    'apikey': token\n",
    "    }\n",
    "r = requests.get(API_URL, params=params)\n",
    "coordinates = r.json()['response']['GeoObjectCollection']['featureMember'][0]['GeoObject']['Point']['pos']\n",
    "\n",
    "params = {\n",
    "    'geocode': ','.join(coordinates.split(' ')),\n",
    "    'format': 'json',\n",
    "    'apikey': token\n",
    "    }\n",
    "\n",
    "r = requests.get(API_URL, params=params)\n",
    "district = r.json()['response']['GeoObjectCollection']['featureMember'][1]['GeoObject']['metaDataProperty']['GeocoderMetaData']\n",
    "district"
   ]
  },
  {
   "cell_type": "markdown",
   "metadata": {},
   "source": [
    "*Андреево-Забелинская улица, согласно Яндекс.Картам, находиться в районе Богородское*"
   ]
  },
  {
   "cell_type": "code",
   "execution_count": 35,
   "metadata": {},
   "outputs": [
    {
     "data": {
      "text/plain": [
       "{'precision': 'other',\n",
       " 'text': 'Россия, Москва, парк Сокольники',\n",
       " 'kind': 'vegetation',\n",
       " 'Address': {'country_code': 'RU',\n",
       "  'formatted': 'Россия, Москва, парк Сокольники',\n",
       "  'Components': [{'kind': 'country', 'name': 'Россия'},\n",
       "   {'kind': 'province', 'name': 'Центральный федеральный округ'},\n",
       "   {'kind': 'province', 'name': 'Москва'},\n",
       "   {'kind': 'locality', 'name': 'Москва'},\n",
       "   {'kind': 'vegetation', 'name': 'парк Сокольники'}]},\n",
       " 'AddressDetails': {'Country': {'AddressLine': 'Россия, Москва, парк Сокольники',\n",
       "   'CountryNameCode': 'RU',\n",
       "   'CountryName': 'Россия',\n",
       "   'AdministrativeArea': {'AdministrativeAreaName': 'Москва',\n",
       "    'Locality': {'LocalityName': 'Москва',\n",
       "     'Premise': {'PremiseName': 'парк Сокольники'}}}}}}"
      ]
     },
     "execution_count": 35,
     "metadata": {},
     "output_type": "execute_result"
    }
   ],
   "source": [
    "params = {\n",
    "    'geocode': 'город Москва, 3-й Лучевой просек',\n",
    "    'format': 'json',\n",
    "    'apikey': token\n",
    "    }\n",
    "r = requests.get(API_URL, params=params)\n",
    "coordinates = r.json()['response']['GeoObjectCollection']['featureMember'][0]['GeoObject']['Point']['pos']\n",
    "\n",
    "params = {\n",
    "    'geocode': ','.join(coordinates.split(' ')),\n",
    "    'format': 'json',\n",
    "    'apikey': token\n",
    "    }\n",
    "\n",
    "r = requests.get(API_URL, params=params)\n",
    "district = r.json()['response']['GeoObjectCollection']['featureMember'][1]['GeoObject']['metaDataProperty']['GeocoderMetaData']\n",
    "district"
   ]
  },
  {
   "cell_type": "markdown",
   "metadata": {},
   "source": [
    "*3-й Лучевой просек, согласно Яндекс.Картам, находиться в районе парка Сокольники*"
   ]
  },
  {
   "cell_type": "code",
   "execution_count": 36,
   "metadata": {},
   "outputs": [
    {
     "data": {
      "text/plain": [
       "{'precision': 'other',\n",
       " 'text': 'Россия, Москва, Западный административный округ, район Кунцево',\n",
       " 'kind': 'district',\n",
       " 'Address': {'country_code': 'RU',\n",
       "  'formatted': 'Россия, Москва, Западный административный округ, район Кунцево',\n",
       "  'Components': [{'kind': 'country', 'name': 'Россия'},\n",
       "   {'kind': 'province', 'name': 'Центральный федеральный округ'},\n",
       "   {'kind': 'province', 'name': 'Москва'},\n",
       "   {'kind': 'locality', 'name': 'Москва'},\n",
       "   {'kind': 'district', 'name': 'Западный административный округ'},\n",
       "   {'kind': 'district', 'name': 'район Кунцево'}]},\n",
       " 'AddressDetails': {'Country': {'AddressLine': 'Россия, Москва, Западный административный округ, район Кунцево',\n",
       "   'CountryNameCode': 'RU',\n",
       "   'CountryName': 'Россия',\n",
       "   'AdministrativeArea': {'AdministrativeAreaName': 'Москва',\n",
       "    'Locality': {'LocalityName': 'Москва',\n",
       "     'DependentLocality': {'DependentLocalityName': 'Западный административный округ',\n",
       "      'DependentLocality': {'DependentLocalityName': 'район Кунцево'}}}}}}}"
      ]
     },
     "execution_count": 36,
     "metadata": {},
     "output_type": "execute_result"
    }
   ],
   "source": [
    "params = {\n",
    "    'geocode': 'город Москва, улица Екатерины Будановой',\n",
    "    'format': 'json',\n",
    "    'apikey': token\n",
    "    }\n",
    "r = requests.get(API_URL, params=params)\n",
    "coordinates = r.json()['response']['GeoObjectCollection']['featureMember'][0]['GeoObject']['Point']['pos']\n",
    "\n",
    "params = {\n",
    "    'geocode': ','.join(coordinates.split(' ')),\n",
    "    'format': 'json',\n",
    "    'apikey': token\n",
    "    }\n",
    "\n",
    "r = requests.get(API_URL, params=params)\n",
    "district = r.json()['response']['GeoObjectCollection']['featureMember'][1]['GeoObject']['metaDataProperty']['GeocoderMetaData']\n",
    "district"
   ]
  },
  {
   "cell_type": "markdown",
   "metadata": {},
   "source": [
    "*улица Екатерины Будановой, согласно Яндекс.Картам, находиться в районе Кунцево*"
   ]
  },
  {
   "cell_type": "code",
   "execution_count": 37,
   "metadata": {},
   "outputs": [
    {
     "data": {
      "text/plain": [
       "{'precision': 'other',\n",
       " 'text': 'Россия, Москва, Западный административный округ, район Дорогомилово',\n",
       " 'kind': 'district',\n",
       " 'Address': {'country_code': 'RU',\n",
       "  'formatted': 'Россия, Москва, Западный административный округ, район Дорогомилово',\n",
       "  'Components': [{'kind': 'country', 'name': 'Россия'},\n",
       "   {'kind': 'province', 'name': 'Центральный федеральный округ'},\n",
       "   {'kind': 'province', 'name': 'Москва'},\n",
       "   {'kind': 'locality', 'name': 'Москва'},\n",
       "   {'kind': 'district', 'name': 'Западный административный округ'},\n",
       "   {'kind': 'district', 'name': 'район Дорогомилово'}]},\n",
       " 'AddressDetails': {'Country': {'AddressLine': 'Россия, Москва, Западный административный округ, район Дорогомилово',\n",
       "   'CountryNameCode': 'RU',\n",
       "   'CountryName': 'Россия',\n",
       "   'AdministrativeArea': {'AdministrativeAreaName': 'Москва',\n",
       "    'Locality': {'LocalityName': 'Москва',\n",
       "     'DependentLocality': {'DependentLocalityName': 'Западный административный округ',\n",
       "      'DependentLocality': {'DependentLocalityName': 'район Дорогомилово'}}}}}}}"
      ]
     },
     "execution_count": 37,
     "metadata": {},
     "output_type": "execute_result"
    }
   ],
   "source": [
    "params = {\n",
    "    'geocode': 'город Москва, улица Можайский Вал',\n",
    "    'format': 'json',\n",
    "    'apikey': token\n",
    "    }\n",
    "r = requests.get(API_URL, params=params)\n",
    "coordinates = r.json()['response']['GeoObjectCollection']['featureMember'][0]['GeoObject']['Point']['pos']\n",
    "\n",
    "params = {\n",
    "    'geocode': ','.join(coordinates.split(' ')),\n",
    "    'format': 'json',\n",
    "    'apikey': token\n",
    "    }\n",
    "\n",
    "r = requests.get(API_URL, params=params)\n",
    "district = r.json()['response']['GeoObjectCollection']['featureMember'][1]['GeoObject']['metaDataProperty']['GeocoderMetaData']\n",
    "district"
   ]
  },
  {
   "cell_type": "markdown",
   "metadata": {},
   "source": [
    "*улица Можайский Вал, согласно Яндекс.Картам, находиться в районе Дорогомилово*"
   ]
  },
  {
   "cell_type": "code",
   "execution_count": 38,
   "metadata": {},
   "outputs": [
    {
     "data": {
      "text/plain": [
       "{'precision': 'other',\n",
       " 'text': 'Россия, Москва, Центральный административный округ, район Арбат, 570-й квартал',\n",
       " 'kind': 'district',\n",
       " 'Address': {'country_code': 'RU',\n",
       "  'formatted': 'Россия, Москва, Центральный административный округ, район Арбат, 570-й квартал',\n",
       "  'Components': [{'kind': 'country', 'name': 'Россия'},\n",
       "   {'kind': 'province', 'name': 'Центральный федеральный округ'},\n",
       "   {'kind': 'province', 'name': 'Москва'},\n",
       "   {'kind': 'locality', 'name': 'Москва'},\n",
       "   {'kind': 'district', 'name': 'Центральный административный округ'},\n",
       "   {'kind': 'district', 'name': 'район Арбат'},\n",
       "   {'kind': 'district', 'name': '570-й квартал'}]},\n",
       " 'AddressDetails': {'Country': {'AddressLine': 'Россия, Москва, Центральный административный округ, район Арбат, 570-й квартал',\n",
       "   'CountryNameCode': 'RU',\n",
       "   'CountryName': 'Россия',\n",
       "   'AdministrativeArea': {'AdministrativeAreaName': 'Москва',\n",
       "    'Locality': {'LocalityName': 'Москва',\n",
       "     'DependentLocality': {'DependentLocalityName': 'Центральный административный округ',\n",
       "      'DependentLocality': {'DependentLocalityName': 'район Арбат',\n",
       "       'DependentLocality': {'DependentLocalityName': '570-й квартал'}}}}}}}}"
      ]
     },
     "execution_count": 38,
     "metadata": {},
     "output_type": "execute_result"
    }
   ],
   "source": [
    "params = {\n",
    "    'geocode': 'город Москва, 1-й Николощеповский переулок',\n",
    "    'format': 'json',\n",
    "    'apikey': token\n",
    "    }\n",
    "r = requests.get(API_URL, params=params)\n",
    "coordinates = r.json()['response']['GeoObjectCollection']['featureMember'][0]['GeoObject']['Point']['pos']\n",
    "\n",
    "params = {\n",
    "    'geocode': ','.join(coordinates.split(' ')),\n",
    "    'format': 'json',\n",
    "    'apikey': token\n",
    "    }\n",
    "\n",
    "r = requests.get(API_URL, params=params)\n",
    "district = r.json()['response']['GeoObjectCollection']['featureMember'][1]['GeoObject']['metaDataProperty']['GeocoderMetaData']\n",
    "district"
   ]
  },
  {
   "cell_type": "markdown",
   "metadata": {},
   "source": [
    "*1-й Николощеповский переулок, согласно Яндекс.Картам, находиться в районе Арбат, 570-й квартал*"
   ]
  },
  {
   "cell_type": "code",
   "execution_count": 39,
   "metadata": {},
   "outputs": [
    {
     "data": {
      "text/plain": [
       "{'precision': 'street',\n",
       " 'text': 'Россия, Москва, Андроньевская площадь',\n",
       " 'kind': 'street',\n",
       " 'Address': {'country_code': 'RU',\n",
       "  'formatted': 'Россия, Москва, Андроньевская площадь',\n",
       "  'Components': [{'kind': 'country', 'name': 'Россия'},\n",
       "   {'kind': 'province', 'name': 'Центральный федеральный округ'},\n",
       "   {'kind': 'province', 'name': 'Москва'},\n",
       "   {'kind': 'locality', 'name': 'Москва'},\n",
       "   {'kind': 'street', 'name': 'Андроньевская площадь'}]},\n",
       " 'AddressDetails': {'Country': {'AddressLine': 'Россия, Москва, Андроньевская площадь',\n",
       "   'CountryNameCode': 'RU',\n",
       "   'CountryName': 'Россия',\n",
       "   'AdministrativeArea': {'AdministrativeAreaName': 'Москва',\n",
       "    'Locality': {'LocalityName': 'Москва',\n",
       "     'Thoroughfare': {'ThoroughfareName': 'Андроньевская площадь'}}}}}}"
      ]
     },
     "execution_count": 39,
     "metadata": {},
     "output_type": "execute_result"
    }
   ],
   "source": [
    "params = {\n",
    "    'geocode': 'город Москва, Андроньевская площадь',\n",
    "    'format': 'json',\n",
    "    'apikey': token\n",
    "    }\n",
    "r = requests.get(API_URL, params=params)\n",
    "coordinates = r.json()['response']['GeoObjectCollection']['featureMember'][0]['GeoObject']['Point']['pos']\n",
    "\n",
    "params = {\n",
    "    'geocode': ','.join(coordinates.split(' ')),\n",
    "    'format': 'json',\n",
    "    'apikey': token\n",
    "    }\n",
    "\n",
    "r = requests.get(API_URL, params=params)\n",
    "district = r.json()['response']['GeoObjectCollection']['featureMember'][1]['GeoObject']['metaDataProperty']['GeocoderMetaData']\n",
    "district"
   ]
  },
  {
   "cell_type": "markdown",
   "metadata": {},
   "source": [
    "*Андроньевская площадь\t, согласно Яндекс.Картам, находиться в Таганском районе*"
   ]
  },
  {
   "cell_type": "markdown",
   "metadata": {},
   "source": [
    "### Посмотеть на распределение количества посадочных мест для улиц с большим количеством объектов общественного питания. Какие закономерности можно выявить?"
   ]
  },
  {
   "cell_type": "code",
   "execution_count": 40,
   "metadata": {},
   "outputs": [
    {
     "data": {
      "text/html": [
       "<div>\n",
       "<style scoped>\n",
       "    .dataframe tbody tr th:only-of-type {\n",
       "        vertical-align: middle;\n",
       "    }\n",
       "\n",
       "    .dataframe tbody tr th {\n",
       "        vertical-align: top;\n",
       "    }\n",
       "\n",
       "    .dataframe thead th {\n",
       "        text-align: right;\n",
       "    }\n",
       "</style>\n",
       "<table border=\"1\" class=\"dataframe\">\n",
       "  <thead>\n",
       "    <tr style=\"text-align: right;\">\n",
       "      <th></th>\n",
       "      <th>street</th>\n",
       "      <th>object_name_x</th>\n",
       "      <th>id</th>\n",
       "      <th>object_name_y</th>\n",
       "      <th>chain</th>\n",
       "      <th>object_type</th>\n",
       "      <th>address</th>\n",
       "      <th>number</th>\n",
       "    </tr>\n",
       "  </thead>\n",
       "  <tbody>\n",
       "    <tr>\n",
       "      <td>0</td>\n",
       "      <td>проспект Мира</td>\n",
       "      <td>204</td>\n",
       "      <td>149899</td>\n",
       "      <td>сухарева башня</td>\n",
       "      <td>нет</td>\n",
       "      <td>кафе</td>\n",
       "      <td>город Москва, проспект Мира, дом 5, корпус 1</td>\n",
       "      <td>10</td>\n",
       "    </tr>\n",
       "    <tr>\n",
       "      <td>1</td>\n",
       "      <td>проспект Мира</td>\n",
       "      <td>204</td>\n",
       "      <td>69300</td>\n",
       "      <td>ваби-саби</td>\n",
       "      <td>да</td>\n",
       "      <td>кафе</td>\n",
       "      <td>город Москва, проспект Мира, дом 29</td>\n",
       "      <td>64</td>\n",
       "    </tr>\n",
       "    <tr>\n",
       "      <td>2</td>\n",
       "      <td>проспект Мира</td>\n",
       "      <td>204</td>\n",
       "      <td>71378</td>\n",
       "      <td>шоколадница</td>\n",
       "      <td>да</td>\n",
       "      <td>кафе</td>\n",
       "      <td>город Москва, проспект Мира, дом 29</td>\n",
       "      <td>40</td>\n",
       "    </tr>\n",
       "    <tr>\n",
       "      <td>3</td>\n",
       "      <td>проспект Мира</td>\n",
       "      <td>204</td>\n",
       "      <td>146123</td>\n",
       "      <td>джаганнат</td>\n",
       "      <td>да</td>\n",
       "      <td>кафе</td>\n",
       "      <td>город Москва, проспект Мира, дом 31</td>\n",
       "      <td>25</td>\n",
       "    </tr>\n",
       "    <tr>\n",
       "      <td>4</td>\n",
       "      <td>проспект Мира</td>\n",
       "      <td>204</td>\n",
       "      <td>137644</td>\n",
       "      <td>krispy creme</td>\n",
       "      <td>да</td>\n",
       "      <td>кафе</td>\n",
       "      <td>город Москва, проспект Мира, дом 40</td>\n",
       "      <td>36</td>\n",
       "    </tr>\n",
       "    <tr>\n",
       "      <td>...</td>\n",
       "      <td>...</td>\n",
       "      <td>...</td>\n",
       "      <td>...</td>\n",
       "      <td>...</td>\n",
       "      <td>...</td>\n",
       "      <td>...</td>\n",
       "      <td>...</td>\n",
       "      <td>...</td>\n",
       "    </tr>\n",
       "    <tr>\n",
       "      <td>1523</td>\n",
       "      <td>Каширское шоссе</td>\n",
       "      <td>112</td>\n",
       "      <td>217812</td>\n",
       "      <td>интурист коломенское</td>\n",
       "      <td>нет</td>\n",
       "      <td>ресторан</td>\n",
       "      <td>город Москва, Каширское шоссе, дом 39Б</td>\n",
       "      <td>160</td>\n",
       "    </tr>\n",
       "    <tr>\n",
       "      <td>1524</td>\n",
       "      <td>Каширское шоссе</td>\n",
       "      <td>112</td>\n",
       "      <td>220301</td>\n",
       "      <td>грячие закуски,напитки, поп корн, мороженое,сладости</td>\n",
       "      <td>нет</td>\n",
       "      <td>кафетерий</td>\n",
       "      <td>город Москва, Каширское шоссе, дом 14</td>\n",
       "      <td>0</td>\n",
       "    </tr>\n",
       "    <tr>\n",
       "      <td>1525</td>\n",
       "      <td>Каширское шоссе</td>\n",
       "      <td>112</td>\n",
       "      <td>220765</td>\n",
       "      <td>газпромнефтьцентр</td>\n",
       "      <td>да</td>\n",
       "      <td>кафетерий</td>\n",
       "      <td>город Москва, Каширское шоссе, владение 57А</td>\n",
       "      <td>17</td>\n",
       "    </tr>\n",
       "    <tr>\n",
       "      <td>1526</td>\n",
       "      <td>Каширское шоссе</td>\n",
       "      <td>112</td>\n",
       "      <td>220092</td>\n",
       "      <td>starbucks coffee</td>\n",
       "      <td>да</td>\n",
       "      <td>кафе</td>\n",
       "      <td>город Москва, Каширское шоссе, дом 14</td>\n",
       "      <td>33</td>\n",
       "    </tr>\n",
       "    <tr>\n",
       "      <td>1527</td>\n",
       "      <td>Каширское шоссе</td>\n",
       "      <td>112</td>\n",
       "      <td>213061</td>\n",
       "      <td>мята</td>\n",
       "      <td>да</td>\n",
       "      <td>кафетерий</td>\n",
       "      <td>город Москва, Каширское шоссе, дом 96, корпус 1</td>\n",
       "      <td>35</td>\n",
       "    </tr>\n",
       "  </tbody>\n",
       "</table>\n",
       "<p>1528 rows × 8 columns</p>\n",
       "</div>"
      ],
      "text/plain": [
       "                street  object_name_x      id  \\\n",
       "0        проспект Мира            204  149899   \n",
       "1        проспект Мира            204   69300   \n",
       "2        проспект Мира            204   71378   \n",
       "3        проспект Мира            204  146123   \n",
       "4        проспект Мира            204  137644   \n",
       "...                ...            ...     ...   \n",
       "1523   Каширское шоссе            112  217812   \n",
       "1524   Каширское шоссе            112  220301   \n",
       "1525   Каширское шоссе            112  220765   \n",
       "1526   Каширское шоссе            112  220092   \n",
       "1527   Каширское шоссе            112  213061   \n",
       "\n",
       "                                             object_name_y chain object_type  \\\n",
       "0                                           сухарева башня   нет        кафе   \n",
       "1                                                ваби-саби    да        кафе   \n",
       "2                                              шоколадница    да        кафе   \n",
       "3                                                джаганнат    да        кафе   \n",
       "4                                             krispy creme    да        кафе   \n",
       "...                                                    ...   ...         ...   \n",
       "1523                                  интурист коломенское   нет    ресторан   \n",
       "1524  грячие закуски,напитки, поп корн, мороженое,сладости   нет   кафетерий   \n",
       "1525                                     газпромнефтьцентр    да   кафетерий   \n",
       "1526                                      starbucks coffee    да        кафе   \n",
       "1527                                                  мята    да   кафетерий   \n",
       "\n",
       "                                              address  number  \n",
       "0        город Москва, проспект Мира, дом 5, корпус 1      10  \n",
       "1                 город Москва, проспект Мира, дом 29      64  \n",
       "2                 город Москва, проспект Мира, дом 29      40  \n",
       "3                 город Москва, проспект Мира, дом 31      25  \n",
       "4                 город Москва, проспект Мира, дом 40      36  \n",
       "...                                               ...     ...  \n",
       "1523           город Москва, Каширское шоссе, дом 39Б     160  \n",
       "1524            город Москва, Каширское шоссе, дом 14       0  \n",
       "1525      город Москва, Каширское шоссе, владение 57А      17  \n",
       "1526            город Москва, Каширское шоссе, дом 14      33  \n",
       "1527  город Москва, Каширское шоссе, дом 96, корпус 1      35  \n",
       "\n",
       "[1528 rows x 8 columns]"
      ]
     },
     "execution_count": 40,
     "metadata": {},
     "output_type": "execute_result"
    }
   ],
   "source": [
    "data2 = topname.merge(data, on = 'street')\n",
    "data2"
   ]
  },
  {
   "cell_type": "code",
   "execution_count": 41,
   "metadata": {},
   "outputs": [
    {
     "data": {
      "image/png": "[encoded data removed]",
      "text/plain": [
       "<Figure size 864x432 with 1 Axes>"
      ]
     },
     "metadata": {
      "needs_background": "light"
     },
     "output_type": "display_data"
    }
   ],
   "source": [
    "plt.figure(figsize=(12, 6))\n",
    "sns_plot = sns.distplot(data2['number'])\n",
    "fig = sns_plot.get_figure()"
   ]
  },
  {
   "cell_type": "code",
   "execution_count": 42,
   "metadata": {},
   "outputs": [
    {
     "data": {
      "image/png": "[encoded data removed]",
      "text/plain": [
       "<Figure size 864x432 with 1 Axes>"
      ]
     },
     "metadata": {
      "needs_background": "light"
     },
     "output_type": "display_data"
    }
   ],
   "source": [
    "plt.figure(figsize=(12, 6))\n",
    "g = sns.barplot(x='street', y='number', data=data2);\n",
    "g.set(xlabel=\"улицы\", ylabel=\" количество посадочных мест\");\n",
    "title = ('график количества посадочных мест для улиц с большим количеством объектов общественного питания')\n",
    "g.set(title=title);\n",
    "plt.xticks(rotation=45);"
   ]
  },
  {
   "cell_type": "code",
   "execution_count": 43,
   "metadata": {},
   "outputs": [
    {
     "data": {
      "text/plain": [
       "array(['ресторан', 'бар', 'кафе', 'буфет', 'столовая',\n",
       "       'магазин (отдел кулинарии)', 'предприятие быстрого обслуживания',\n",
       "       'закусочная'], dtype=object)"
      ]
     },
     "execution_count": 43,
     "metadata": {},
     "output_type": "execute_result"
    }
   ],
   "source": [
    "data2.query('street == \" Кутузовский проспект\"')['object_type'].unique()"
   ]
  },
  {
   "cell_type": "markdown",
   "metadata": {},
   "source": [
    "*В общепите на Кутузовском проспекте самое большое количество посадочных мест, но в пункте 2.7 эта улица занимает предпоследнее место. Лидирство связано с тем, что на этой улице много такого тпа общепита, как ресторан, столовая, буфет, бар, имеющих большое количество посадочных мест. Это подтверждает график в пункте 2.5. Также стоит отметить, что это одна из главных центральных улиц города. Из этого можно сделать вывод, что на других улицах другие типы общественного питания распределены более равномерно. Что же до графика распределения посадочных мест, то он указывает на ненормальное распределение, пик данных приблизительно равен 50, также большое количество выбросов после 200.*"
   ]
  },
  {
   "cell_type": "markdown",
   "metadata": {},
   "source": [
    "## Общий вывод"
   ]
  },
  {
   "cell_type": "markdown",
   "metadata": {},
   "source": [
    "*Приходя к итогу проделанной работы, можно выделить несколько вариантов бизнеса.*\n",
    "\n",
    "*Бар,ресторан или столовая имеют большое количество посадочных мест, и в будущем может приносить пропорциональное количество чеков. Таковых заведений много, а значит они зарабатывают, к тому же конкуренция всегда помогает совершенствовать продукт.*\n",
    "\n",
    "*Второй вариант - это буфет, кафе или предприятие быстрого обслуживания. Их в городе мало,а значит привлечение в данном сегменте будет дешевым,, тем более с роботами, а также разительно ниже конкуренция, чем в первом пункте.*\n",
    "\n",
    "*Покдлючение к франшизной сети считаю излишним, поскольку их доля невелика. Для развития самостоятельной сети необходимо отладить производство и продукт. Местоположение предлагаю проспект Мира - это одна из центральных улиц с большим количеством заведений, а значит поток клиентов там значительный, только необходимо увеличить посадочных мест больше 60 и делать на это упор в маркетинге.*"
   ]
  }
 ],
 "metadata": {
  "ExecuteTimeLog": [
   {
    "duration": 901,
    "start_time": "2021-08-04T10:36:04.821Z"
   },
   {
    "duration": 12,
    "start_time": "2021-08-04T10:45:42.655Z"
   },
   {
    "duration": 73,
    "start_time": "2021-08-04T10:48:43.953Z"
   },
   {
    "duration": 347,
    "start_time": "2021-08-04T10:48:49.486Z"
   },
   {
    "duration": 28,
    "start_time": "2021-08-04T10:48:56.694Z"
   },
   {
    "duration": 21,
    "start_time": "2021-08-04T10:52:29.423Z"
   },
   {
    "duration": 20,
    "start_time": "2021-08-04T10:54:22.781Z"
   },
   {
    "duration": 21,
    "start_time": "2021-08-04T10:55:06.099Z"
   },
   {
    "duration": 82,
    "start_time": "2021-08-04T10:58:41.020Z"
   },
   {
    "duration": 101,
    "start_time": "2021-08-04T10:58:56.661Z"
   },
   {
    "duration": 31,
    "start_time": "2021-08-04T11:01:59.841Z"
   },
   {
    "duration": 30,
    "start_time": "2021-08-04T11:02:02.990Z"
   },
   {
    "duration": 907,
    "start_time": "2021-08-04T11:02:27.348Z"
   },
   {
    "duration": 32,
    "start_time": "2021-08-04T11:02:28.258Z"
   },
   {
    "duration": 25,
    "start_time": "2021-08-04T11:02:28.293Z"
   },
   {
    "duration": 11,
    "start_time": "2021-08-04T11:02:28.320Z"
   },
   {
    "duration": 50,
    "start_time": "2021-08-04T11:02:28.334Z"
   },
   {
    "duration": 228,
    "start_time": "2021-08-04T11:53:43.692Z"
   },
   {
    "duration": 45569,
    "start_time": "2021-08-04T11:54:40.073Z"
   },
   {
    "duration": 49615,
    "start_time": "2021-08-04T11:58:01.911Z"
   },
   {
    "duration": 47979,
    "start_time": "2021-08-04T12:28:09.917Z"
   },
   {
    "duration": 47427,
    "start_time": "2021-08-04T12:39:36.543Z"
   },
   {
    "duration": 47987,
    "start_time": "2021-08-04T12:50:20.449Z"
   },
   {
    "duration": 767,
    "start_time": "2021-08-04T12:53:31.128Z"
   },
   {
    "duration": 46897,
    "start_time": "2021-08-04T12:53:50.283Z"
   },
   {
    "duration": 375,
    "start_time": "2021-08-04T12:55:24.704Z"
   },
   {
    "duration": 36,
    "start_time": "2021-08-04T12:55:34.394Z"
   },
   {
    "duration": 267,
    "start_time": "2021-08-04T12:56:05.863Z"
   },
   {
    "duration": 13,
    "start_time": "2021-08-04T12:56:20.130Z"
   },
   {
    "duration": 24,
    "start_time": "2021-08-04T13:43:04.843Z"
   },
   {
    "duration": 13,
    "start_time": "2021-08-04T13:43:16.358Z"
   },
   {
    "duration": 291,
    "start_time": "2021-08-04T13:57:55.800Z"
   },
   {
    "duration": 10,
    "start_time": "2021-08-04T13:58:02.950Z"
   },
   {
    "duration": 264,
    "start_time": "2021-08-04T13:58:49.559Z"
   },
   {
    "duration": 10,
    "start_time": "2021-08-04T13:58:56.602Z"
   },
   {
    "duration": 2173,
    "start_time": "2021-08-04T14:00:54.030Z"
   },
   {
    "duration": 1091,
    "start_time": "2021-08-04T14:01:58.812Z"
   },
   {
    "duration": 1055,
    "start_time": "2021-08-04T14:02:55.769Z"
   },
   {
    "duration": 1250,
    "start_time": "2021-08-04T14:05:09.611Z"
   },
   {
    "duration": 1143,
    "start_time": "2021-08-04T14:05:25.163Z"
   },
   {
    "duration": 1233,
    "start_time": "2021-08-04T14:05:37.455Z"
   },
   {
    "duration": 1428,
    "start_time": "2021-08-04T14:07:51.157Z"
   },
   {
    "duration": 1500,
    "start_time": "2021-08-04T14:08:08.600Z"
   },
   {
    "duration": 1424,
    "start_time": "2021-08-04T14:11:43.484Z"
   },
   {
    "duration": 1363,
    "start_time": "2021-08-04T14:15:57.711Z"
   },
   {
    "duration": 1461,
    "start_time": "2021-08-04T14:16:55.428Z"
   },
   {
    "duration": 1163,
    "start_time": "2021-08-04T14:17:54.565Z"
   },
   {
    "duration": 1156,
    "start_time": "2021-08-04T14:18:05.815Z"
   },
   {
    "duration": 1422,
    "start_time": "2021-08-04T14:18:23.665Z"
   },
   {
    "duration": 1359,
    "start_time": "2021-08-04T14:18:59.353Z"
   },
   {
    "duration": 1173,
    "start_time": "2021-08-04T14:19:47.360Z"
   },
   {
    "duration": 1178,
    "start_time": "2021-08-04T14:20:03.292Z"
   },
   {
    "duration": 1146,
    "start_time": "2021-08-04T14:20:10.125Z"
   },
   {
    "duration": 1266,
    "start_time": "2021-08-04T14:20:15.182Z"
   },
   {
    "duration": 1298,
    "start_time": "2021-08-04T14:23:03.197Z"
   },
   {
    "duration": 1196,
    "start_time": "2021-08-04T14:23:23.150Z"
   },
   {
    "duration": 20,
    "start_time": "2021-08-04T14:32:53.436Z"
   },
   {
    "duration": 1493,
    "start_time": "2021-08-04T14:33:08.624Z"
   },
   {
    "duration": 31,
    "start_time": "2021-08-04T14:33:10.119Z"
   },
   {
    "duration": 25,
    "start_time": "2021-08-04T14:33:10.169Z"
   },
   {
    "duration": 14,
    "start_time": "2021-08-04T14:33:10.197Z"
   },
   {
    "duration": 62,
    "start_time": "2021-08-04T14:33:10.214Z"
   },
   {
    "duration": 46571,
    "start_time": "2021-08-04T14:33:10.279Z"
   },
   {
    "duration": 47986,
    "start_time": "2021-08-04T14:33:56.853Z"
   },
   {
    "duration": 30,
    "start_time": "2021-08-04T14:34:44.842Z"
   },
   {
    "duration": 9,
    "start_time": "2021-08-04T14:34:44.874Z"
   },
   {
    "duration": 1187,
    "start_time": "2021-08-04T14:34:44.885Z"
   },
   {
    "duration": 18,
    "start_time": "2021-08-04T14:34:46.075Z"
   },
   {
    "duration": 6809,
    "start_time": "2021-08-04T15:17:50.623Z"
   },
   {
    "duration": 5762,
    "start_time": "2021-08-04T15:18:10.469Z"
   },
   {
    "duration": 7557,
    "start_time": "2021-08-04T15:20:59.041Z"
   },
   {
    "duration": 1545,
    "start_time": "2021-08-04T15:21:42.655Z"
   },
   {
    "duration": 30,
    "start_time": "2021-08-04T15:21:44.203Z"
   },
   {
    "duration": 39,
    "start_time": "2021-08-04T15:21:44.236Z"
   },
   {
    "duration": 12,
    "start_time": "2021-08-04T15:21:44.278Z"
   },
   {
    "duration": 26,
    "start_time": "2021-08-04T15:21:44.292Z"
   },
   {
    "duration": 49677,
    "start_time": "2021-08-04T15:21:44.320Z"
   },
   {
    "duration": 53449,
    "start_time": "2021-08-04T15:22:34.000Z"
   },
   {
    "duration": 39,
    "start_time": "2021-08-04T15:23:27.454Z"
   },
   {
    "duration": 13,
    "start_time": "2021-08-04T15:23:27.496Z"
   },
   {
    "duration": 1317,
    "start_time": "2021-08-04T15:23:27.511Z"
   },
   {
    "duration": 47,
    "start_time": "2021-08-04T15:23:28.831Z"
   },
   {
    "duration": 70,
    "start_time": "2021-08-04T15:35:29.292Z"
   },
   {
    "duration": 65,
    "start_time": "2021-08-04T15:36:30.150Z"
   },
   {
    "duration": 1579,
    "start_time": "2021-08-04T15:36:49.250Z"
   },
   {
    "duration": 72,
    "start_time": "2021-08-04T15:37:09.301Z"
   },
   {
    "duration": 68,
    "start_time": "2021-08-04T15:37:39.455Z"
   },
   {
    "duration": 4562,
    "start_time": "2021-08-04T15:38:44.547Z"
   },
   {
    "duration": 51,
    "start_time": "2021-08-04T15:42:07.660Z"
   },
   {
    "duration": 35,
    "start_time": "2021-08-04T15:42:19.313Z"
   },
   {
    "duration": 429,
    "start_time": "2021-08-04T15:45:41.532Z"
   },
   {
    "duration": 268,
    "start_time": "2021-08-04T15:45:57.342Z"
   },
   {
    "duration": 273,
    "start_time": "2021-08-04T15:57:16.523Z"
   },
   {
    "duration": 498,
    "start_time": "2021-08-04T15:57:39.722Z"
   },
   {
    "duration": 243,
    "start_time": "2021-08-04T15:58:55.972Z"
   },
   {
    "duration": 255,
    "start_time": "2021-08-04T15:59:03.898Z"
   },
   {
    "duration": 42,
    "start_time": "2021-08-04T21:21:31.163Z"
   },
   {
    "duration": 28,
    "start_time": "2021-08-04T21:22:07.419Z"
   },
   {
    "duration": 53,
    "start_time": "2021-08-04T21:23:29.995Z"
   },
   {
    "duration": 98,
    "start_time": "2021-08-04T21:23:38.023Z"
   },
   {
    "duration": 73,
    "start_time": "2021-08-04T21:26:14.207Z"
   },
   {
    "duration": 300,
    "start_time": "2021-08-04T21:26:19.601Z"
   },
   {
    "duration": 190,
    "start_time": "2021-08-04T21:26:28.599Z"
   },
   {
    "duration": 45,
    "start_time": "2021-08-04T21:27:54.842Z"
   },
   {
    "duration": 56,
    "start_time": "2021-08-04T21:28:02.138Z"
   },
   {
    "duration": 303,
    "start_time": "2021-08-04T21:49:49.367Z"
   },
   {
    "duration": 33,
    "start_time": "2021-08-04T21:51:11.327Z"
   },
   {
    "duration": 239,
    "start_time": "2021-08-04T21:54:41.185Z"
   },
   {
    "duration": 1525,
    "start_time": "2021-08-04T21:54:58.690Z"
   },
   {
    "duration": 57,
    "start_time": "2021-08-04T21:55:00.219Z"
   },
   {
    "duration": 40,
    "start_time": "2021-08-04T21:55:00.280Z"
   },
   {
    "duration": 18,
    "start_time": "2021-08-04T21:55:00.324Z"
   },
   {
    "duration": 39,
    "start_time": "2021-08-04T21:55:00.368Z"
   },
   {
    "duration": 60389,
    "start_time": "2021-08-04T21:55:00.409Z"
   },
   {
    "duration": 49066,
    "start_time": "2021-08-04T21:56:00.800Z"
   },
   {
    "duration": 18,
    "start_time": "2021-08-04T21:56:49.869Z"
   },
   {
    "duration": 10,
    "start_time": "2021-08-04T21:56:49.890Z"
   },
   {
    "duration": 1172,
    "start_time": "2021-08-04T21:56:49.902Z"
   },
   {
    "duration": 357,
    "start_time": "2021-08-04T21:56:51.077Z"
   },
   {
    "duration": -12886,
    "start_time": "2021-08-04T21:57:04.322Z"
   },
   {
    "duration": 358,
    "start_time": "2021-08-04T21:58:25.702Z"
   },
   {
    "duration": 278,
    "start_time": "2021-08-04T21:59:36.753Z"
   },
   {
    "duration": 34,
    "start_time": "2021-08-04T22:00:35.122Z"
   },
   {
    "duration": 113,
    "start_time": "2021-08-04T22:00:53.156Z"
   },
   {
    "duration": 321,
    "start_time": "2021-08-04T22:01:47.916Z"
   },
   {
    "duration": 1717,
    "start_time": "2021-08-04T22:02:00.320Z"
   },
   {
    "duration": 75,
    "start_time": "2021-08-04T22:02:12.479Z"
   },
   {
    "duration": 40,
    "start_time": "2021-08-04T22:07:01.503Z"
   },
   {
    "duration": 273,
    "start_time": "2021-08-04T22:07:49.772Z"
   },
   {
    "duration": 249,
    "start_time": "2021-08-04T22:10:09.491Z"
   },
   {
    "duration": 243,
    "start_time": "2021-08-04T22:11:32.395Z"
   },
   {
    "duration": 285,
    "start_time": "2021-08-04T22:11:44.476Z"
   },
   {
    "duration": 92,
    "start_time": "2021-08-04T22:14:37.617Z"
   },
   {
    "duration": 81,
    "start_time": "2021-08-04T22:14:44.428Z"
   },
   {
    "duration": 240,
    "start_time": "2021-08-04T22:14:50.603Z"
   },
   {
    "duration": 251,
    "start_time": "2021-08-04T22:14:58.392Z"
   },
   {
    "duration": 218,
    "start_time": "2021-08-04T22:15:14.679Z"
   },
   {
    "duration": 4,
    "start_time": "2021-08-04T22:15:23.505Z"
   },
   {
    "duration": 20,
    "start_time": "2021-08-04T22:15:30.034Z"
   },
   {
    "duration": 6,
    "start_time": "2021-08-04T22:17:15.624Z"
   },
   {
    "duration": 260,
    "start_time": "2021-08-04T22:21:59.244Z"
   },
   {
    "duration": 6,
    "start_time": "2021-08-04T22:22:14.274Z"
   },
   {
    "duration": 6,
    "start_time": "2021-08-04T22:22:21.150Z"
   },
   {
    "duration": 6,
    "start_time": "2021-08-04T22:22:38.051Z"
   },
   {
    "duration": 109,
    "start_time": "2021-08-04T22:22:45.743Z"
   },
   {
    "duration": 86,
    "start_time": "2021-08-04T22:23:03.879Z"
   },
   {
    "duration": 6,
    "start_time": "2021-08-04T22:23:18.532Z"
   },
   {
    "duration": 6,
    "start_time": "2021-08-04T22:23:44.589Z"
   },
   {
    "duration": 6,
    "start_time": "2021-08-04T22:23:51.420Z"
   },
   {
    "duration": 6,
    "start_time": "2021-08-04T22:23:56.007Z"
   },
   {
    "duration": 6,
    "start_time": "2021-08-04T22:24:55.137Z"
   },
   {
    "duration": 891,
    "start_time": "2021-08-04T22:25:10.437Z"
   },
   {
    "duration": 249,
    "start_time": "2021-08-04T22:28:28.487Z"
   },
   {
    "duration": 289,
    "start_time": "2021-08-04T22:28:49.560Z"
   },
   {
    "duration": 264,
    "start_time": "2021-08-04T22:29:04.603Z"
   },
   {
    "duration": 254,
    "start_time": "2021-08-04T22:29:50.478Z"
   },
   {
    "duration": 252,
    "start_time": "2021-08-04T22:30:01.296Z"
   },
   {
    "duration": 278,
    "start_time": "2021-08-04T22:30:27.011Z"
   },
   {
    "duration": 5,
    "start_time": "2021-08-04T22:31:41.667Z"
   },
   {
    "duration": 5,
    "start_time": "2021-08-04T22:31:52.483Z"
   },
   {
    "duration": 7,
    "start_time": "2021-08-04T22:31:58.535Z"
   },
   {
    "duration": 7,
    "start_time": "2021-08-04T22:32:11.764Z"
   },
   {
    "duration": 6,
    "start_time": "2021-08-04T22:33:14.263Z"
   },
   {
    "duration": 6,
    "start_time": "2021-08-04T22:34:29.529Z"
   },
   {
    "duration": 1561,
    "start_time": "2021-08-04T22:34:39.648Z"
   },
   {
    "duration": 30,
    "start_time": "2021-08-04T22:34:41.212Z"
   },
   {
    "duration": 40,
    "start_time": "2021-08-04T22:34:41.245Z"
   },
   {
    "duration": 12,
    "start_time": "2021-08-04T22:34:41.288Z"
   },
   {
    "duration": 37,
    "start_time": "2021-08-04T22:34:41.302Z"
   },
   {
    "duration": 49227,
    "start_time": "2021-08-04T22:34:41.341Z"
   },
   {
    "duration": 50637,
    "start_time": "2021-08-04T22:35:30.571Z"
   },
   {
    "duration": 16,
    "start_time": "2021-08-04T22:36:21.212Z"
   },
   {
    "duration": 10,
    "start_time": "2021-08-04T22:36:21.231Z"
   },
   {
    "duration": 1586,
    "start_time": "2021-08-04T22:36:21.268Z"
   },
   {
    "duration": 17,
    "start_time": "2021-08-04T22:36:22.856Z"
   },
   {
    "duration": 30,
    "start_time": "2021-08-04T22:36:22.875Z"
   },
   {
    "duration": 4,
    "start_time": "2021-08-09T22:33:31.304Z"
   },
   {
    "duration": 22,
    "start_time": "2021-08-09T22:33:40.664Z"
   },
   {
    "duration": 1535,
    "start_time": "2021-08-09T22:34:03.782Z"
   },
   {
    "duration": 34,
    "start_time": "2021-08-09T22:34:05.321Z"
   },
   {
    "duration": 23,
    "start_time": "2021-08-09T22:34:05.368Z"
   },
   {
    "duration": 12,
    "start_time": "2021-08-09T22:34:05.393Z"
   },
   {
    "duration": 31,
    "start_time": "2021-08-09T22:34:05.407Z"
   },
   {
    "duration": 47299,
    "start_time": "2021-08-09T22:34:05.468Z"
   },
   {
    "duration": 49046,
    "start_time": "2021-08-09T22:34:52.769Z"
   },
   {
    "duration": 16,
    "start_time": "2021-08-09T22:35:41.818Z"
   },
   {
    "duration": 34,
    "start_time": "2021-08-09T22:35:41.836Z"
   },
   {
    "duration": 1229,
    "start_time": "2021-08-09T22:35:41.872Z"
   },
   {
    "duration": 21,
    "start_time": "2021-08-09T22:36:12.768Z"
   },
   {
    "duration": 1164,
    "start_time": "2021-08-09T22:36:58.265Z"
   },
   {
    "duration": 72,
    "start_time": "2021-08-09T22:37:14.097Z"
   },
   {
    "duration": 68,
    "start_time": "2021-08-09T22:37:25.801Z"
   },
   {
    "duration": 25,
    "start_time": "2021-08-09T22:37:52.702Z"
   },
   {
    "duration": 276,
    "start_time": "2021-08-09T22:40:15.846Z"
   },
   {
    "duration": 6,
    "start_time": "2021-08-09T22:40:24.187Z"
   },
   {
    "duration": 281,
    "start_time": "2021-08-09T22:44:16.080Z"
   },
   {
    "duration": 275,
    "start_time": "2021-08-09T22:44:43.094Z"
   },
   {
    "duration": 25,
    "start_time": "2021-08-09T22:44:49.260Z"
   },
   {
    "duration": 20,
    "start_time": "2021-08-09T22:46:33.245Z"
   },
   {
    "duration": 270,
    "start_time": "2021-08-09T22:47:05.656Z"
   },
   {
    "duration": 11,
    "start_time": "2021-08-09T22:48:08.454Z"
   },
   {
    "duration": 15,
    "start_time": "2021-08-09T22:48:17.284Z"
   },
   {
    "duration": 21,
    "start_time": "2021-08-09T22:48:32.660Z"
   },
   {
    "duration": 16,
    "start_time": "2021-08-09T22:51:16.031Z"
   },
   {
    "duration": 286,
    "start_time": "2021-08-09T22:51:40.906Z"
   },
   {
    "duration": 231,
    "start_time": "2021-08-09T22:51:58.982Z"
   },
   {
    "duration": 450,
    "start_time": "2021-08-09T22:52:15.239Z"
   },
   {
    "duration": 419,
    "start_time": "2021-08-09T23:00:41.192Z"
   },
   {
    "duration": 21,
    "start_time": "2021-08-09T23:00:57.598Z"
   },
   {
    "duration": 104,
    "start_time": "2021-08-09T23:02:18.768Z"
   },
   {
    "duration": 22,
    "start_time": "2021-08-09T23:02:45.434Z"
   },
   {
    "duration": 97,
    "start_time": "2021-08-09T23:03:43.011Z"
   },
   {
    "duration": 24,
    "start_time": "2021-08-09T23:03:47.893Z"
   },
   {
    "duration": 97,
    "start_time": "2021-08-09T23:04:43.236Z"
   },
   {
    "duration": 98,
    "start_time": "2021-08-09T23:04:55.574Z"
   },
   {
    "duration": 106,
    "start_time": "2021-08-09T23:05:14.782Z"
   },
   {
    "duration": 95,
    "start_time": "2021-08-09T23:05:55.321Z"
   },
   {
    "duration": 104,
    "start_time": "2021-08-09T23:06:07.179Z"
   },
   {
    "duration": 97,
    "start_time": "2021-08-09T23:07:52.376Z"
   },
   {
    "duration": 22,
    "start_time": "2021-08-09T23:07:53.766Z"
   },
   {
    "duration": 99,
    "start_time": "2021-08-09T23:08:33.136Z"
   },
   {
    "duration": 23,
    "start_time": "2021-08-09T23:08:35.648Z"
   },
   {
    "duration": 104,
    "start_time": "2021-08-09T23:10:03.388Z"
   },
   {
    "duration": 22,
    "start_time": "2021-08-09T23:10:04.679Z"
   },
   {
    "duration": 109,
    "start_time": "2021-08-09T23:13:35.239Z"
   },
   {
    "duration": 23,
    "start_time": "2021-08-09T23:13:37.542Z"
   },
   {
    "duration": 105,
    "start_time": "2021-08-09T23:14:08.591Z"
   },
   {
    "duration": 23,
    "start_time": "2021-08-09T23:14:10.962Z"
   },
   {
    "duration": 114,
    "start_time": "2021-08-09T23:14:45.757Z"
   },
   {
    "duration": 23,
    "start_time": "2021-08-09T23:14:47.576Z"
   },
   {
    "duration": 115,
    "start_time": "2021-08-09T23:14:55.352Z"
   },
   {
    "duration": 23,
    "start_time": "2021-08-09T23:14:57.872Z"
   },
   {
    "duration": 107,
    "start_time": "2021-08-09T23:15:06.543Z"
   },
   {
    "duration": 24,
    "start_time": "2021-08-09T23:15:08.327Z"
   },
   {
    "duration": 66,
    "start_time": "2021-08-09T23:15:46.517Z"
   },
   {
    "duration": 23,
    "start_time": "2021-08-09T23:15:47.964Z"
   },
   {
    "duration": 447,
    "start_time": "2021-08-09T23:15:48.705Z"
   },
   {
    "duration": 20,
    "start_time": "2021-08-09T23:18:18.908Z"
   },
   {
    "duration": 317,
    "start_time": "2021-08-09T23:18:27.050Z"
   },
   {
    "duration": 24,
    "start_time": "2021-08-09T23:18:33.976Z"
   },
   {
    "duration": 2097,
    "start_time": "2021-08-09T23:18:34.925Z"
   },
   {
    "duration": 110,
    "start_time": "2021-08-10T09:13:02.590Z"
   },
   {
    "duration": 138,
    "start_time": "2021-08-10T09:13:14.524Z"
   },
   {
    "duration": 164,
    "start_time": "2021-08-10T09:21:54.865Z"
   },
   {
    "duration": 105,
    "start_time": "2021-08-10T09:22:26.062Z"
   },
   {
    "duration": 3,
    "start_time": "2021-08-10T09:23:55.843Z"
   },
   {
    "duration": 365,
    "start_time": "2021-08-10T09:50:03.979Z"
   },
   {
    "duration": 225,
    "start_time": "2021-08-10T09:50:18.595Z"
   },
   {
    "duration": 273,
    "start_time": "2021-08-10T09:51:08.448Z"
   },
   {
    "duration": 1524,
    "start_time": "2021-08-10T09:51:35.018Z"
   },
   {
    "duration": 51,
    "start_time": "2021-08-10T09:51:36.545Z"
   },
   {
    "duration": 26,
    "start_time": "2021-08-10T09:51:36.599Z"
   },
   {
    "duration": 11,
    "start_time": "2021-08-10T09:51:36.628Z"
   },
   {
    "duration": 56,
    "start_time": "2021-08-10T09:51:36.642Z"
   },
   {
    "duration": 46247,
    "start_time": "2021-08-10T09:51:36.701Z"
   },
   {
    "duration": 48586,
    "start_time": "2021-08-10T09:52:22.950Z"
   },
   {
    "duration": 19,
    "start_time": "2021-08-10T09:53:11.539Z"
   },
   {
    "duration": 9,
    "start_time": "2021-08-10T09:53:11.560Z"
   },
   {
    "duration": 1333,
    "start_time": "2021-08-10T09:53:11.587Z"
   },
   {
    "duration": 79,
    "start_time": "2021-08-10T09:53:12.923Z"
   },
   {
    "duration": 29,
    "start_time": "2021-08-10T09:53:13.004Z"
   },
   {
    "duration": 11,
    "start_time": "2021-08-10T09:53:13.036Z"
   },
   {
    "duration": 429,
    "start_time": "2021-08-10T09:53:13.050Z"
   },
   {
    "duration": -4594,
    "start_time": "2021-08-10T09:53:18.080Z"
   },
   {
    "duration": -4603,
    "start_time": "2021-08-10T09:53:18.092Z"
   },
   {
    "duration": 460,
    "start_time": "2021-08-10T09:53:36.706Z"
   },
   {
    "duration": 4,
    "start_time": "2021-08-10T09:54:10.324Z"
   },
   {
    "duration": 6,
    "start_time": "2021-08-10T09:59:24.164Z"
   },
   {
    "duration": 9,
    "start_time": "2021-08-10T10:29:10.761Z"
   },
   {
    "duration": 287,
    "start_time": "2021-08-10T10:29:50.074Z"
   },
   {
    "duration": 4,
    "start_time": "2021-08-10T10:30:20.887Z"
   },
   {
    "duration": 307,
    "start_time": "2021-08-10T10:30:45.933Z"
   },
   {
    "duration": 295,
    "start_time": "2021-08-10T10:31:12.591Z"
   },
   {
    "duration": 190,
    "start_time": "2021-08-10T10:31:39.562Z"
   },
   {
    "duration": 87,
    "start_time": "2021-08-10T10:31:46.442Z"
   },
   {
    "duration": 102,
    "start_time": "2021-08-10T10:31:50.491Z"
   },
   {
    "duration": 454,
    "start_time": "2021-08-10T10:32:32.544Z"
   },
   {
    "duration": 424,
    "start_time": "2021-08-10T10:32:49.529Z"
   },
   {
    "duration": 1492,
    "start_time": "2021-08-10T10:33:47.815Z"
   },
   {
    "duration": 30,
    "start_time": "2021-08-10T10:33:49.309Z"
   },
   {
    "duration": 25,
    "start_time": "2021-08-10T10:33:49.342Z"
   },
   {
    "duration": 11,
    "start_time": "2021-08-10T10:33:49.383Z"
   },
   {
    "duration": 22,
    "start_time": "2021-08-10T10:33:49.396Z"
   },
   {
    "duration": 44601,
    "start_time": "2021-08-10T10:33:49.420Z"
   },
   {
    "duration": 45754,
    "start_time": "2021-08-10T10:34:34.024Z"
   },
   {
    "duration": 17,
    "start_time": "2021-08-10T10:35:19.784Z"
   },
   {
    "duration": 9,
    "start_time": "2021-08-10T10:35:19.804Z"
   },
   {
    "duration": 1153,
    "start_time": "2021-08-10T10:35:19.815Z"
   },
   {
    "duration": 66,
    "start_time": "2021-08-10T10:35:20.970Z"
   },
   {
    "duration": 50,
    "start_time": "2021-08-10T10:35:21.038Z"
   },
   {
    "duration": 9,
    "start_time": "2021-08-10T10:35:21.091Z"
   },
   {
    "duration": 445,
    "start_time": "2021-08-10T10:35:21.103Z"
   },
   {
    "duration": 4,
    "start_time": "2021-08-10T10:35:21.551Z"
   },
   {
    "duration": 425,
    "start_time": "2021-08-10T10:36:09.015Z"
   },
   {
    "duration": 110,
    "start_time": "2021-08-10T10:36:25.375Z"
   },
   {
    "duration": 361,
    "start_time": "2021-08-10T10:36:58.452Z"
   },
   {
    "duration": 71,
    "start_time": "2021-08-10T10:37:16.918Z"
   },
   {
    "duration": 4,
    "start_time": "2021-08-10T10:43:11.220Z"
   },
   {
    "duration": 169,
    "start_time": "2021-08-10T10:43:13.220Z"
   },
   {
    "duration": 102,
    "start_time": "2021-08-10T10:43:20.254Z"
   },
   {
    "duration": 86,
    "start_time": "2021-08-10T10:43:48.910Z"
   },
   {
    "duration": 145,
    "start_time": "2021-08-10T10:44:43.728Z"
   },
   {
    "duration": 616,
    "start_time": "2021-08-10T10:45:01.748Z"
   },
   {
    "duration": 191,
    "start_time": "2021-08-10T10:45:10.687Z"
   },
   {
    "duration": 622,
    "start_time": "2021-08-10T10:47:35.046Z"
   },
   {
    "duration": 536,
    "start_time": "2021-08-10T10:47:58.785Z"
   },
   {
    "duration": 297,
    "start_time": "2021-08-10T10:48:04.486Z"
   },
   {
    "duration": 246,
    "start_time": "2021-08-10T10:48:34.422Z"
   },
   {
    "duration": 176,
    "start_time": "2021-08-10T10:49:11.830Z"
   },
   {
    "duration": 155,
    "start_time": "2021-08-10T10:49:38.513Z"
   },
   {
    "duration": 219,
    "start_time": "2021-08-10T10:50:10.454Z"
   },
   {
    "duration": 157,
    "start_time": "2021-08-10T10:50:51.455Z"
   },
   {
    "duration": 168,
    "start_time": "2021-08-10T10:50:57.392Z"
   },
   {
    "duration": 138,
    "start_time": "2021-08-10T10:51:20.853Z"
   },
   {
    "duration": 243,
    "start_time": "2021-08-10T10:51:35.272Z"
   },
   {
    "duration": 266,
    "start_time": "2021-08-10T10:56:28.206Z"
   },
   {
    "duration": 182,
    "start_time": "2021-08-10T10:57:42.321Z"
   },
   {
    "duration": 145,
    "start_time": "2021-08-10T10:59:03.130Z"
   },
   {
    "duration": 8,
    "start_time": "2021-08-10T10:59:11.231Z"
   },
   {
    "duration": 8,
    "start_time": "2021-08-10T11:01:47.408Z"
   },
   {
    "duration": 8,
    "start_time": "2021-08-10T11:02:11.950Z"
   },
   {
    "duration": 7,
    "start_time": "2021-08-10T11:02:34.463Z"
   },
   {
    "duration": 13,
    "start_time": "2021-08-10T11:02:45.962Z"
   },
   {
    "duration": 13,
    "start_time": "2021-08-10T11:03:00.321Z"
   },
   {
    "duration": 1582,
    "start_time": "2021-08-10T11:03:22.441Z"
   },
   {
    "duration": 29,
    "start_time": "2021-08-10T11:03:24.026Z"
   },
   {
    "duration": 40,
    "start_time": "2021-08-10T11:03:24.059Z"
   },
   {
    "duration": 12,
    "start_time": "2021-08-10T11:03:24.101Z"
   },
   {
    "duration": 26,
    "start_time": "2021-08-10T11:03:24.115Z"
   },
   {
    "duration": 43915,
    "start_time": "2021-08-10T11:03:24.143Z"
   },
   {
    "duration": 45633,
    "start_time": "2021-08-10T11:04:08.061Z"
   },
   {
    "duration": 30,
    "start_time": "2021-08-10T11:04:53.699Z"
   },
   {
    "duration": 11,
    "start_time": "2021-08-10T11:04:53.732Z"
   },
   {
    "duration": 1276,
    "start_time": "2021-08-10T11:04:53.745Z"
   },
   {
    "duration": 132,
    "start_time": "2021-08-10T11:04:55.024Z"
   },
   {
    "duration": 45,
    "start_time": "2021-08-10T11:04:55.159Z"
   },
   {
    "duration": 9,
    "start_time": "2021-08-10T11:04:55.206Z"
   },
   {
    "duration": 441,
    "start_time": "2021-08-10T11:04:55.218Z"
   },
   {
    "duration": 4,
    "start_time": "2021-08-10T11:04:55.661Z"
   },
   {
    "duration": 698,
    "start_time": "2021-08-10T11:04:55.667Z"
   },
   {
    "duration": -4527,
    "start_time": "2021-08-10T11:05:00.894Z"
   },
   {
    "duration": 83,
    "start_time": "2021-08-10T11:05:48.292Z"
   },
   {
    "duration": 270,
    "start_time": "2021-08-10T11:06:02.847Z"
   },
   {
    "duration": 74,
    "start_time": "2021-08-10T11:06:17.563Z"
   },
   {
    "duration": 320,
    "start_time": "2021-08-10T11:06:25.444Z"
   },
   {
    "duration": 538,
    "start_time": "2021-08-10T11:06:38.443Z"
   },
   {
    "duration": 569,
    "start_time": "2021-08-10T11:07:22.304Z"
   },
   {
    "duration": 515,
    "start_time": "2021-08-10T11:07:32.914Z"
   },
   {
    "duration": 478,
    "start_time": "2021-08-10T11:07:39.724Z"
   },
   {
    "duration": 282,
    "start_time": "2021-08-10T11:07:43.000Z"
   },
   {
    "duration": 651,
    "start_time": "2021-08-10T11:08:00.408Z"
   },
   {
    "duration": 371,
    "start_time": "2021-08-10T11:08:07.990Z"
   },
   {
    "duration": 281,
    "start_time": "2021-08-10T11:08:17.811Z"
   },
   {
    "duration": 619,
    "start_time": "2021-08-10T11:08:41.132Z"
   },
   {
    "duration": 288,
    "start_time": "2021-08-10T11:08:47.820Z"
   },
   {
    "duration": 432,
    "start_time": "2021-08-10T11:09:10.591Z"
   },
   {
    "duration": 626,
    "start_time": "2021-08-10T11:09:30.975Z"
   },
   {
    "duration": 673,
    "start_time": "2021-08-10T11:09:36.903Z"
   },
   {
    "duration": 378,
    "start_time": "2021-08-10T11:09:49.200Z"
   },
   {
    "duration": 342,
    "start_time": "2021-08-10T11:09:59.281Z"
   },
   {
    "duration": 259,
    "start_time": "2021-08-10T11:10:32.359Z"
   },
   {
    "duration": 574,
    "start_time": "2021-08-10T11:10:37.707Z"
   },
   {
    "duration": 306,
    "start_time": "2021-08-10T11:10:42.159Z"
   },
   {
    "duration": 390,
    "start_time": "2021-08-10T11:10:46.859Z"
   },
   {
    "duration": 627,
    "start_time": "2021-08-10T11:10:56.219Z"
   },
   {
    "duration": 772,
    "start_time": "2021-08-10T11:11:01.919Z"
   },
   {
    "duration": 375,
    "start_time": "2021-08-10T11:11:07.848Z"
   },
   {
    "duration": 313,
    "start_time": "2021-08-10T11:11:50.488Z"
   },
   {
    "duration": 350,
    "start_time": "2021-08-10T11:11:58.449Z"
   },
   {
    "duration": 563,
    "start_time": "2021-08-10T11:12:34.320Z"
   },
   {
    "duration": 433,
    "start_time": "2021-08-10T11:12:41.029Z"
   },
   {
    "duration": 558,
    "start_time": "2021-08-10T11:13:30.408Z"
   },
   {
    "duration": 349,
    "start_time": "2021-08-10T11:13:41.985Z"
   },
   {
    "duration": 625,
    "start_time": "2021-08-10T11:14:07.876Z"
   },
   {
    "duration": 525,
    "start_time": "2021-08-10T11:14:18.046Z"
   },
   {
    "duration": 500,
    "start_time": "2021-08-10T11:14:22.828Z"
   },
   {
    "duration": 673,
    "start_time": "2021-08-10T11:14:27.361Z"
   },
   {
    "duration": 689,
    "start_time": "2021-08-10T11:14:33.670Z"
   },
   {
    "duration": 381,
    "start_time": "2021-08-10T11:14:42.604Z"
   },
   {
    "duration": 335,
    "start_time": "2021-08-10T11:15:06.696Z"
   },
   {
    "duration": 363,
    "start_time": "2021-08-10T11:15:14.349Z"
   },
   {
    "duration": 271,
    "start_time": "2021-08-10T11:15:19.904Z"
   },
   {
    "duration": 361,
    "start_time": "2021-08-10T11:15:28.039Z"
   },
   {
    "duration": 687,
    "start_time": "2021-08-10T11:16:27.909Z"
   },
   {
    "duration": 586,
    "start_time": "2021-08-10T11:16:32.390Z"
   },
   {
    "duration": 337,
    "start_time": "2021-08-10T11:16:37.433Z"
   },
   {
    "duration": 312,
    "start_time": "2021-08-10T11:16:47.479Z"
   },
   {
    "duration": 298,
    "start_time": "2021-08-10T11:17:10.713Z"
   },
   {
    "duration": 280,
    "start_time": "2021-08-10T11:17:26.745Z"
   },
   {
    "duration": 386,
    "start_time": "2021-08-10T11:18:01.180Z"
   },
   {
    "duration": 772,
    "start_time": "2021-08-10T11:18:16.178Z"
   },
   {
    "duration": 613,
    "start_time": "2021-08-10T11:18:20.127Z"
   },
   {
    "duration": 243,
    "start_time": "2021-08-10T11:18:25.380Z"
   },
   {
    "duration": 661,
    "start_time": "2021-08-10T11:18:54.760Z"
   },
   {
    "duration": 340,
    "start_time": "2021-08-10T11:19:01.459Z"
   },
   {
    "duration": 630,
    "start_time": "2021-08-10T11:19:24.539Z"
   },
   {
    "duration": 312,
    "start_time": "2021-08-10T11:19:29.672Z"
   },
   {
    "duration": 242,
    "start_time": "2021-08-10T11:20:01.471Z"
   },
   {
    "duration": 556,
    "start_time": "2021-08-10T11:20:23.280Z"
   },
   {
    "duration": 419,
    "start_time": "2021-08-10T11:20:27.486Z"
   },
   {
    "duration": 667,
    "start_time": "2021-08-10T11:25:10.975Z"
   },
   {
    "duration": 351,
    "start_time": "2021-08-10T11:25:17.173Z"
   },
   {
    "duration": 300,
    "start_time": "2021-08-10T11:25:46.996Z"
   },
   {
    "duration": 782,
    "start_time": "2021-08-10T11:26:16.905Z"
   },
   {
    "duration": 288,
    "start_time": "2021-08-10T11:26:21.248Z"
   },
   {
    "duration": 309,
    "start_time": "2021-08-10T11:26:45.937Z"
   },
   {
    "duration": 665,
    "start_time": "2021-08-10T11:27:08.921Z"
   },
   {
    "duration": 658,
    "start_time": "2021-08-10T11:27:13.067Z"
   },
   {
    "duration": 677,
    "start_time": "2021-08-10T11:27:16.628Z"
   },
   {
    "duration": 300,
    "start_time": "2021-08-10T11:27:20.362Z"
   },
   {
    "duration": 281,
    "start_time": "2021-08-10T11:27:31.067Z"
   },
   {
    "duration": 363,
    "start_time": "2021-08-10T11:27:48.666Z"
   },
   {
    "duration": 729,
    "start_time": "2021-08-10T11:28:36.420Z"
   },
   {
    "duration": 719,
    "start_time": "2021-08-10T11:28:40.761Z"
   },
   {
    "duration": 579,
    "start_time": "2021-08-10T11:28:44.070Z"
   },
   {
    "duration": 367,
    "start_time": "2021-08-10T11:28:49.987Z"
   },
   {
    "duration": 636,
    "start_time": "2021-08-10T11:30:38.715Z"
   },
   {
    "duration": 623,
    "start_time": "2021-08-10T11:31:55.528Z"
   },
   {
    "duration": 378,
    "start_time": "2021-08-10T11:32:01.572Z"
   },
   {
    "duration": 575,
    "start_time": "2021-08-10T11:32:11.874Z"
   },
   {
    "duration": 345,
    "start_time": "2021-08-10T11:32:17.659Z"
   },
   {
    "duration": 304,
    "start_time": "2021-08-10T11:34:01.654Z"
   },
   {
    "duration": 374,
    "start_time": "2021-08-10T11:36:10.673Z"
   },
   {
    "duration": 309,
    "start_time": "2021-08-10T11:38:21.361Z"
   },
   {
    "duration": 335,
    "start_time": "2021-08-10T11:39:55.846Z"
   },
   {
    "duration": 317,
    "start_time": "2021-08-10T11:42:20.037Z"
   },
   {
    "duration": 216,
    "start_time": "2021-08-10T11:44:22.228Z"
   },
   {
    "duration": 407,
    "start_time": "2021-08-10T11:45:36.450Z"
   },
   {
    "duration": 11,
    "start_time": "2021-08-10T11:47:25.344Z"
   },
   {
    "duration": 10,
    "start_time": "2021-08-10T11:47:39.649Z"
   },
   {
    "duration": 10,
    "start_time": "2021-08-10T11:47:54.544Z"
   },
   {
    "duration": 10,
    "start_time": "2021-08-10T11:48:02.046Z"
   },
   {
    "duration": 9,
    "start_time": "2021-08-10T11:48:10.950Z"
   },
   {
    "duration": 1538,
    "start_time": "2021-08-10T11:48:21.167Z"
   },
   {
    "duration": 29,
    "start_time": "2021-08-10T11:48:22.709Z"
   },
   {
    "duration": 47,
    "start_time": "2021-08-10T11:48:22.742Z"
   },
   {
    "duration": 13,
    "start_time": "2021-08-10T11:48:22.793Z"
   },
   {
    "duration": 30,
    "start_time": "2021-08-10T11:48:22.809Z"
   },
   {
    "duration": 46384,
    "start_time": "2021-08-10T11:48:22.841Z"
   },
   {
    "duration": 48570,
    "start_time": "2021-08-10T11:49:09.228Z"
   },
   {
    "duration": 18,
    "start_time": "2021-08-10T11:49:57.803Z"
   },
   {
    "duration": 9,
    "start_time": "2021-08-10T11:49:57.824Z"
   },
   {
    "duration": 1159,
    "start_time": "2021-08-10T11:49:57.835Z"
   },
   {
    "duration": 61,
    "start_time": "2021-08-10T11:49:58.996Z"
   },
   {
    "duration": 43,
    "start_time": "2021-08-10T11:49:59.060Z"
   },
   {
    "duration": 8,
    "start_time": "2021-08-10T11:49:59.105Z"
   },
   {
    "duration": 409,
    "start_time": "2021-08-10T11:49:59.115Z"
   },
   {
    "duration": 3,
    "start_time": "2021-08-10T11:49:59.527Z"
   },
   {
    "duration": 288,
    "start_time": "2021-08-10T11:49:59.532Z"
   },
   {
    "duration": 367,
    "start_time": "2021-08-10T11:49:59.823Z"
   },
   {
    "duration": 309,
    "start_time": "2021-08-10T11:50:00.193Z"
   },
   {
    "duration": 330,
    "start_time": "2021-08-10T11:50:00.505Z"
   },
   {
    "duration": 372,
    "start_time": "2021-08-10T11:50:00.837Z"
   },
   {
    "duration": 322,
    "start_time": "2021-08-10T11:50:01.212Z"
   },
   {
    "duration": 240,
    "start_time": "2021-08-10T11:50:01.537Z"
   },
   {
    "duration": 292,
    "start_time": "2021-08-10T11:50:01.781Z"
   },
   {
    "duration": 171,
    "start_time": "2021-08-10T11:50:02.076Z"
   },
   {
    "duration": 10,
    "start_time": "2021-08-10T11:50:14.550Z"
   },
   {
    "duration": 1652,
    "start_time": "2021-08-10T11:50:23.677Z"
   },
   {
    "duration": 29,
    "start_time": "2021-08-10T11:50:25.331Z"
   },
   {
    "duration": 34,
    "start_time": "2021-08-10T11:50:25.363Z"
   },
   {
    "duration": 11,
    "start_time": "2021-08-10T11:50:25.400Z"
   },
   {
    "duration": 27,
    "start_time": "2021-08-10T11:50:25.414Z"
   },
   {
    "duration": 46095,
    "start_time": "2021-08-10T11:50:25.443Z"
   },
   {
    "duration": 47005,
    "start_time": "2021-08-10T11:51:11.540Z"
   },
   {
    "duration": 17,
    "start_time": "2021-08-10T11:51:58.549Z"
   },
   {
    "duration": 11,
    "start_time": "2021-08-10T11:51:58.584Z"
   },
   {
    "duration": 1116,
    "start_time": "2021-08-10T11:51:58.598Z"
   },
   {
    "duration": 76,
    "start_time": "2021-08-10T11:51:59.717Z"
   },
   {
    "duration": 28,
    "start_time": "2021-08-10T11:51:59.796Z"
   },
   {
    "duration": 10,
    "start_time": "2021-08-10T11:51:59.826Z"
   },
   {
    "duration": 494,
    "start_time": "2021-08-10T11:51:59.839Z"
   },
   {
    "duration": 4,
    "start_time": "2021-08-10T11:52:00.336Z"
   },
   {
    "duration": 321,
    "start_time": "2021-08-10T11:52:00.343Z"
   },
   {
    "duration": 239,
    "start_time": "2021-08-10T11:52:00.667Z"
   },
   {
    "duration": 320,
    "start_time": "2021-08-10T11:52:00.909Z"
   },
   {
    "duration": 291,
    "start_time": "2021-08-10T11:52:01.231Z"
   },
   {
    "duration": 258,
    "start_time": "2021-08-10T11:52:01.524Z"
   },
   {
    "duration": 229,
    "start_time": "2021-08-10T11:52:01.784Z"
   },
   {
    "duration": 313,
    "start_time": "2021-08-10T11:52:02.015Z"
   },
   {
    "duration": 390,
    "start_time": "2021-08-10T11:52:02.332Z"
   },
   {
    "duration": 368,
    "start_time": "2021-08-10T11:52:02.725Z"
   },
   {
    "duration": 309,
    "start_time": "2021-08-10T11:56:58.238Z"
   },
   {
    "duration": 327,
    "start_time": "2021-08-10T11:59:20.014Z"
   },
   {
    "duration": 232,
    "start_time": "2021-08-10T11:59:57.077Z"
   },
   {
    "duration": 31,
    "start_time": "2021-08-10T12:45:22.758Z"
   },
   {
    "duration": 9,
    "start_time": "2021-08-10T12:46:41.397Z"
   },
   {
    "duration": 410,
    "start_time": "2021-08-10T12:48:15.482Z"
   },
   {
    "duration": 287,
    "start_time": "2021-08-10T12:48:26.939Z"
   },
   {
    "duration": 20,
    "start_time": "2021-08-10T12:48:43.757Z"
   },
   {
    "duration": 23,
    "start_time": "2021-08-10T12:49:39.002Z"
   },
   {
    "duration": 305,
    "start_time": "2021-08-10T12:49:58.979Z"
   },
   {
    "duration": 11,
    "start_time": "2021-08-10T12:50:12.580Z"
   },
   {
    "duration": 19,
    "start_time": "2021-08-10T12:50:20.721Z"
   },
   {
    "duration": 323,
    "start_time": "2021-08-10T12:51:40.167Z"
   },
   {
    "duration": 23,
    "start_time": "2021-08-10T12:52:01.666Z"
   },
   {
    "duration": 21,
    "start_time": "2021-08-10T12:53:06.208Z"
   },
   {
    "duration": 21,
    "start_time": "2021-08-10T12:54:09.569Z"
   },
   {
    "duration": 23,
    "start_time": "2021-08-10T12:54:21.673Z"
   },
   {
    "duration": 3420,
    "start_time": "2021-08-10T12:54:43.349Z"
   },
   {
    "duration": 24,
    "start_time": "2021-08-10T12:55:01.650Z"
   },
   {
    "duration": 18,
    "start_time": "2021-08-10T12:55:42.831Z"
   },
   {
    "duration": 18,
    "start_time": "2021-08-10T12:56:10.101Z"
   },
   {
    "duration": 21,
    "start_time": "2021-08-10T12:56:21.295Z"
   },
   {
    "duration": 112,
    "start_time": "2021-08-10T13:01:58.641Z"
   },
   {
    "duration": 21,
    "start_time": "2021-08-10T13:02:14.691Z"
   },
   {
    "duration": 22,
    "start_time": "2021-08-10T13:02:45.085Z"
   },
   {
    "duration": 13,
    "start_time": "2021-08-10T13:03:18.234Z"
   },
   {
    "duration": 17,
    "start_time": "2021-08-10T13:03:57.812Z"
   },
   {
    "duration": 12,
    "start_time": "2021-08-10T13:04:21.087Z"
   },
   {
    "duration": 98,
    "start_time": "2021-08-10T13:04:30.393Z"
   },
   {
    "duration": 12,
    "start_time": "2021-08-10T13:04:36.693Z"
   },
   {
    "duration": 11,
    "start_time": "2021-08-10T13:04:43.254Z"
   },
   {
    "duration": 16,
    "start_time": "2021-08-10T13:05:15.835Z"
   },
   {
    "duration": 28,
    "start_time": "2021-08-10T13:06:20.751Z"
   },
   {
    "duration": 14,
    "start_time": "2021-08-10T13:07:10.056Z"
   },
   {
    "duration": 13,
    "start_time": "2021-08-10T13:07:21.412Z"
   },
   {
    "duration": 265,
    "start_time": "2021-08-10T13:41:23.471Z"
   },
   {
    "duration": 331,
    "start_time": "2021-08-10T13:42:26.969Z"
   },
   {
    "duration": 246,
    "start_time": "2021-08-10T13:44:20.898Z"
   },
   {
    "duration": 324,
    "start_time": "2021-08-10T13:45:23.465Z"
   },
   {
    "duration": 346,
    "start_time": "2021-08-10T13:46:23.331Z"
   },
   {
    "duration": 459,
    "start_time": "2021-08-10T13:47:25.486Z"
   },
   {
    "duration": 320,
    "start_time": "2021-08-10T13:48:43.241Z"
   },
   {
    "duration": 296,
    "start_time": "2021-08-10T13:49:55.235Z"
   },
   {
    "duration": 346,
    "start_time": "2021-08-10T13:52:30.907Z"
   },
   {
    "duration": 280,
    "start_time": "2021-08-10T13:53:44.116Z"
   },
   {
    "duration": 12,
    "start_time": "2021-08-10T14:33:26.903Z"
   },
   {
    "duration": 21,
    "start_time": "2021-08-10T14:33:30.601Z"
   },
   {
    "duration": 256,
    "start_time": "2021-08-10T14:33:51.981Z"
   },
   {
    "duration": 297,
    "start_time": "2021-08-10T14:34:46.894Z"
   },
   {
    "duration": 1011,
    "start_time": "2021-08-10T14:35:15.865Z"
   },
   {
    "duration": 260,
    "start_time": "2021-08-10T14:36:49.628Z"
   },
   {
    "duration": 39,
    "start_time": "2021-08-10T14:37:06.452Z"
   },
   {
    "duration": 11,
    "start_time": "2021-08-10T14:39:41.956Z"
   },
   {
    "duration": 10,
    "start_time": "2021-08-10T14:39:59.573Z"
   },
   {
    "duration": 34,
    "start_time": "2021-08-10T14:40:10.017Z"
   },
   {
    "duration": 462,
    "start_time": "2021-08-10T14:48:06.855Z"
   },
   {
    "duration": 899,
    "start_time": "2021-08-10T14:48:11.739Z"
   },
   {
    "duration": 397,
    "start_time": "2021-08-10T14:50:00.013Z"
   },
   {
    "duration": 290,
    "start_time": "2021-08-10T14:50:24.183Z"
   },
   {
    "duration": 738,
    "start_time": "2021-08-10T14:51:04.103Z"
   },
   {
    "duration": 458,
    "start_time": "2021-08-10T14:54:09.981Z"
   },
   {
    "duration": 750,
    "start_time": "2021-08-10T14:54:46.696Z"
   },
   {
    "duration": 494,
    "start_time": "2021-08-10T14:55:00.016Z"
   },
   {
    "duration": 14,
    "start_time": "2021-08-10T15:00:20.930Z"
   },
   {
    "duration": 12,
    "start_time": "2021-08-10T15:01:06.959Z"
   },
   {
    "duration": 9,
    "start_time": "2021-08-10T15:02:17.552Z"
   },
   {
    "duration": 23,
    "start_time": "2021-08-10T15:02:27.401Z"
   },
   {
    "duration": 6,
    "start_time": "2021-08-10T15:02:45.779Z"
   },
   {
    "duration": 26,
    "start_time": "2021-08-10T15:03:37.683Z"
   },
   {
    "duration": 10,
    "start_time": "2021-08-10T15:04:00.829Z"
   },
   {
    "duration": 9,
    "start_time": "2021-08-10T15:04:26.753Z"
   },
   {
    "duration": 9,
    "start_time": "2021-08-10T15:04:52.220Z"
   },
   {
    "duration": 400,
    "start_time": "2021-08-11T22:10:10.861Z"
   },
   {
    "duration": 1799,
    "start_time": "2021-08-11T22:12:59.379Z"
   },
   {
    "duration": 36,
    "start_time": "2021-08-11T22:13:01.181Z"
   },
   {
    "duration": 27,
    "start_time": "2021-08-11T22:13:01.221Z"
   },
   {
    "duration": 19,
    "start_time": "2021-08-11T22:13:01.253Z"
   },
   {
    "duration": 43,
    "start_time": "2021-08-11T22:13:01.302Z"
   },
   {
    "duration": 46778,
    "start_time": "2021-08-11T22:13:01.349Z"
   },
   {
    "duration": -6029,
    "start_time": "2021-08-11T22:13:54.160Z"
   },
   {
    "duration": -6048,
    "start_time": "2021-08-11T22:13:54.181Z"
   },
   {
    "duration": -6062,
    "start_time": "2021-08-11T22:13:54.197Z"
   },
   {
    "duration": -6075,
    "start_time": "2021-08-11T22:13:54.211Z"
   },
   {
    "duration": -6089,
    "start_time": "2021-08-11T22:13:54.226Z"
   },
   {
    "duration": -6102,
    "start_time": "2021-08-11T22:13:54.241Z"
   },
   {
    "duration": -6114,
    "start_time": "2021-08-11T22:13:54.254Z"
   },
   {
    "duration": -6132,
    "start_time": "2021-08-11T22:13:54.273Z"
   },
   {
    "duration": -6146,
    "start_time": "2021-08-11T22:13:54.288Z"
   },
   {
    "duration": -6166,
    "start_time": "2021-08-11T22:13:54.310Z"
   },
   {
    "duration": -6177,
    "start_time": "2021-08-11T22:13:54.322Z"
   },
   {
    "duration": -6189,
    "start_time": "2021-08-11T22:13:54.335Z"
   },
   {
    "duration": -6198,
    "start_time": "2021-08-11T22:13:54.346Z"
   },
   {
    "duration": -6211,
    "start_time": "2021-08-11T22:13:54.360Z"
   },
   {
    "duration": -6238,
    "start_time": "2021-08-11T22:13:54.388Z"
   },
   {
    "duration": -6249,
    "start_time": "2021-08-11T22:13:54.400Z"
   },
   {
    "duration": -6259,
    "start_time": "2021-08-11T22:13:54.411Z"
   },
   {
    "duration": -6269,
    "start_time": "2021-08-11T22:13:54.423Z"
   },
   {
    "duration": -6296,
    "start_time": "2021-08-11T22:13:54.451Z"
   },
   {
    "duration": -6274,
    "start_time": "2021-08-11T22:13:54.473Z"
   },
   {
    "duration": -6284,
    "start_time": "2021-08-11T22:13:54.485Z"
   },
   {
    "duration": -6301,
    "start_time": "2021-08-11T22:13:54.503Z"
   },
   {
    "duration": -6315,
    "start_time": "2021-08-11T22:13:54.519Z"
   },
   {
    "duration": -6330,
    "start_time": "2021-08-11T22:13:54.535Z"
   },
   {
    "duration": -6346,
    "start_time": "2021-08-11T22:13:54.552Z"
   },
   {
    "duration": -6358,
    "start_time": "2021-08-11T22:13:54.566Z"
   },
   {
    "duration": -6413,
    "start_time": "2021-08-11T22:13:54.622Z"
   },
   {
    "duration": -6427,
    "start_time": "2021-08-11T22:13:54.637Z"
   },
   {
    "duration": -6440,
    "start_time": "2021-08-11T22:13:54.652Z"
   },
   {
    "duration": -6458,
    "start_time": "2021-08-11T22:13:54.671Z"
   },
   {
    "duration": -6473,
    "start_time": "2021-08-11T22:13:54.687Z"
   },
   {
    "duration": -6486,
    "start_time": "2021-08-11T22:13:54.702Z"
   },
   {
    "duration": -6501,
    "start_time": "2021-08-11T22:13:54.718Z"
   },
   {
    "duration": -6516,
    "start_time": "2021-08-11T22:13:54.734Z"
   },
   {
    "duration": 51106,
    "start_time": "2021-08-11T22:15:02.902Z"
   },
   {
    "duration": 48294,
    "start_time": "2021-08-11T22:16:01.421Z"
   },
   {
    "duration": 71,
    "start_time": "2021-08-11T22:17:00.024Z"
   },
   {
    "duration": 71,
    "start_time": "2021-08-11T22:17:12.579Z"
   },
   {
    "duration": 69,
    "start_time": "2021-08-11T22:19:00.890Z"
   },
   {
    "duration": 32,
    "start_time": "2021-08-11T22:19:13.962Z"
   },
   {
    "duration": 32,
    "start_time": "2021-08-11T22:19:21.326Z"
   },
   {
    "duration": 30,
    "start_time": "2021-08-11T22:19:29.482Z"
   },
   {
    "duration": 30,
    "start_time": "2021-08-11T22:19:36.505Z"
   },
   {
    "duration": 30,
    "start_time": "2021-08-11T22:19:41.100Z"
   },
   {
    "duration": 69,
    "start_time": "2021-08-11T22:19:48.727Z"
   },
   {
    "duration": 46933,
    "start_time": "2021-08-11T22:21:51.432Z"
   },
   {
    "duration": 387,
    "start_time": "2021-08-11T22:23:01.525Z"
   },
   {
    "duration": 341,
    "start_time": "2021-08-11T22:23:36.061Z"
   },
   {
    "duration": 1021,
    "start_time": "2021-08-11T22:37:27.712Z"
   },
   {
    "duration": 3438,
    "start_time": "2021-08-11T22:37:57.943Z"
   },
   {
    "duration": 2092,
    "start_time": "2021-08-11T22:38:08.283Z"
   },
   {
    "duration": 20,
    "start_time": "2021-08-11T22:41:31.407Z"
   },
   {
    "duration": 365,
    "start_time": "2021-08-11T22:44:07.112Z"
   },
   {
    "duration": 518,
    "start_time": "2021-08-11T22:44:28.366Z"
   },
   {
    "duration": 517,
    "start_time": "2021-08-11T22:45:20.748Z"
   },
   {
    "duration": 173,
    "start_time": "2021-08-11T22:45:32.109Z"
   },
   {
    "duration": 7,
    "start_time": "2021-08-11T22:45:56.468Z"
   },
   {
    "duration": 9,
    "start_time": "2021-08-11T22:46:12.085Z"
   },
   {
    "duration": 374,
    "start_time": "2021-08-11T22:46:22.954Z"
   },
   {
    "duration": 272,
    "start_time": "2021-08-11T22:46:36.268Z"
   },
   {
    "duration": 309,
    "start_time": "2021-08-11T22:46:53.625Z"
   },
   {
    "duration": 384,
    "start_time": "2021-08-11T22:47:25.037Z"
   },
   {
    "duration": 355,
    "start_time": "2021-08-11T22:48:08.017Z"
   },
   {
    "duration": 356,
    "start_time": "2021-08-11T22:48:29.316Z"
   },
   {
    "duration": 310,
    "start_time": "2021-08-11T22:50:37.493Z"
   },
   {
    "duration": 347,
    "start_time": "2021-08-11T22:50:57.170Z"
   },
   {
    "duration": 46917,
    "start_time": "2021-08-11T22:51:26.302Z"
   },
   {
    "duration": 7,
    "start_time": "2021-08-11T22:54:07.127Z"
   },
   {
    "duration": 919,
    "start_time": "2021-08-11T22:54:34.033Z"
   },
   {
    "duration": 383,
    "start_time": "2021-08-11T22:56:44.111Z"
   },
   {
    "duration": 46880,
    "start_time": "2021-08-11T22:56:53.763Z"
   },
   {
    "duration": 357,
    "start_time": "2021-08-11T23:00:27.837Z"
   },
   {
    "duration": 391,
    "start_time": "2021-08-11T23:00:42.205Z"
   },
   {
    "duration": 393,
    "start_time": "2021-08-11T23:01:02.969Z"
   },
   {
    "duration": 352,
    "start_time": "2021-08-11T23:02:23.061Z"
   },
   {
    "duration": 351,
    "start_time": "2021-08-11T23:02:30.005Z"
   },
   {
    "duration": 1614,
    "start_time": "2021-08-11T23:08:30.045Z"
   },
   {
    "duration": 46,
    "start_time": "2021-08-11T23:08:31.663Z"
   },
   {
    "duration": 27,
    "start_time": "2021-08-11T23:08:31.713Z"
   },
   {
    "duration": 13,
    "start_time": "2021-08-11T23:08:31.744Z"
   },
   {
    "duration": 59,
    "start_time": "2021-08-11T23:08:31.760Z"
   },
   {
    "duration": 1695,
    "start_time": "2021-08-11T23:13:30.079Z"
   },
   {
    "duration": 30,
    "start_time": "2021-08-11T23:13:31.777Z"
   },
   {
    "duration": 25,
    "start_time": "2021-08-11T23:13:31.810Z"
   },
   {
    "duration": 11,
    "start_time": "2021-08-11T23:13:31.838Z"
   },
   {
    "duration": 53,
    "start_time": "2021-08-11T23:13:31.851Z"
   },
   {
    "duration": 317,
    "start_time": "2021-08-11T23:13:31.907Z"
   },
   {
    "duration": 45896,
    "start_time": "2021-08-11T23:13:32.226Z"
   },
   {
    "duration": 17,
    "start_time": "2021-08-11T23:14:18.126Z"
   },
   {
    "duration": 10,
    "start_time": "2021-08-11T23:14:18.146Z"
   },
   {
    "duration": 1173,
    "start_time": "2021-08-11T23:14:18.159Z"
   },
   {
    "duration": 77,
    "start_time": "2021-08-11T23:14:19.334Z"
   },
   {
    "duration": 28,
    "start_time": "2021-08-11T23:14:19.414Z"
   },
   {
    "duration": 13,
    "start_time": "2021-08-11T23:14:19.445Z"
   },
   {
    "duration": 472,
    "start_time": "2021-08-11T23:14:19.461Z"
   },
   {
    "duration": 4,
    "start_time": "2021-08-11T23:14:19.935Z"
   },
   {
    "duration": 270,
    "start_time": "2021-08-11T23:14:19.943Z"
   },
   {
    "duration": 391,
    "start_time": "2021-08-11T23:14:20.216Z"
   },
   {
    "duration": 354,
    "start_time": "2021-08-11T23:14:20.610Z"
   },
   {
    "duration": 353,
    "start_time": "2021-08-11T23:14:20.967Z"
   },
   {
    "duration": 329,
    "start_time": "2021-08-11T23:14:21.323Z"
   },
   {
    "duration": 330,
    "start_time": "2021-08-11T23:14:21.654Z"
   },
   {
    "duration": 283,
    "start_time": "2021-08-11T23:14:21.987Z"
   },
   {
    "duration": 371,
    "start_time": "2021-08-11T23:14:22.275Z"
   },
   {
    "duration": 425,
    "start_time": "2021-08-11T23:14:22.649Z"
   },
   {
    "duration": 301,
    "start_time": "2021-08-11T23:14:23.077Z"
   },
   {
    "duration": 13,
    "start_time": "2021-08-11T23:14:23.381Z"
   },
   {
    "duration": 276,
    "start_time": "2021-08-11T23:14:23.396Z"
   },
   {
    "duration": 260,
    "start_time": "2021-08-11T23:14:23.675Z"
   },
   {
    "duration": 322,
    "start_time": "2021-08-11T23:14:23.937Z"
   },
   {
    "duration": 214,
    "start_time": "2021-08-11T23:14:24.262Z"
   },
   {
    "duration": 259,
    "start_time": "2021-08-11T23:14:24.478Z"
   },
   {
    "duration": 302,
    "start_time": "2021-08-11T23:14:24.740Z"
   },
   {
    "duration": 384,
    "start_time": "2021-08-11T23:14:25.044Z"
   },
   {
    "duration": 334,
    "start_time": "2021-08-11T23:14:25.430Z"
   },
   {
    "duration": 330,
    "start_time": "2021-08-11T23:14:25.766Z"
   },
   {
    "duration": 417,
    "start_time": "2021-08-11T23:14:26.099Z"
   },
   {
    "duration": 35,
    "start_time": "2021-08-11T23:14:26.519Z"
   },
   {
    "duration": 490,
    "start_time": "2021-08-11T23:14:26.556Z"
   },
   {
    "duration": 906,
    "start_time": "2021-08-11T23:14:27.049Z"
   },
   {
    "duration": 11,
    "start_time": "2021-08-11T23:14:27.958Z"
   },
   {
    "duration": 1730,
    "start_time": "2021-08-11T23:15:41.524Z"
   },
   {
    "duration": 30,
    "start_time": "2021-08-11T23:15:43.258Z"
   },
   {
    "duration": 23,
    "start_time": "2021-08-11T23:15:43.302Z"
   },
   {
    "duration": 12,
    "start_time": "2021-08-11T23:15:43.327Z"
   },
   {
    "duration": 59,
    "start_time": "2021-08-11T23:15:43.341Z"
   },
   {
    "duration": 1656,
    "start_time": "2021-08-11T23:16:43.594Z"
   },
   {
    "duration": 31,
    "start_time": "2021-08-11T23:16:45.253Z"
   },
   {
    "duration": 28,
    "start_time": "2021-08-11T23:16:45.287Z"
   },
   {
    "duration": 12,
    "start_time": "2021-08-11T23:16:45.318Z"
   },
   {
    "duration": 28,
    "start_time": "2021-08-11T23:16:45.332Z"
   },
   {
    "duration": 1634,
    "start_time": "2021-08-11T23:19:02.904Z"
   },
   {
    "duration": 30,
    "start_time": "2021-08-11T23:19:04.541Z"
   },
   {
    "duration": 42,
    "start_time": "2021-08-11T23:19:04.575Z"
   },
   {
    "duration": 11,
    "start_time": "2021-08-11T23:19:04.620Z"
   },
   {
    "duration": 30,
    "start_time": "2021-08-11T23:19:04.633Z"
   },
   {
    "duration": 1643,
    "start_time": "2021-08-11T23:24:52.121Z"
   },
   {
    "duration": 35,
    "start_time": "2021-08-11T23:24:53.767Z"
   },
   {
    "duration": 24,
    "start_time": "2021-08-11T23:24:53.805Z"
   },
   {
    "duration": 11,
    "start_time": "2021-08-11T23:24:53.832Z"
   },
   {
    "duration": 64,
    "start_time": "2021-08-11T23:24:53.846Z"
   },
   {
    "duration": 1646,
    "start_time": "2021-08-11T23:25:58.185Z"
   },
   {
    "duration": 28,
    "start_time": "2021-08-11T23:25:59.834Z"
   },
   {
    "duration": 50,
    "start_time": "2021-08-11T23:25:59.866Z"
   },
   {
    "duration": 12,
    "start_time": "2021-08-11T23:25:59.918Z"
   },
   {
    "duration": 24,
    "start_time": "2021-08-11T23:25:59.932Z"
   },
   {
    "duration": 1037,
    "start_time": "2021-08-11T23:26:20.093Z"
   },
   {
    "duration": 1663,
    "start_time": "2021-08-11T23:32:55.737Z"
   },
   {
    "duration": 29,
    "start_time": "2021-08-11T23:32:57.403Z"
   },
   {
    "duration": 24,
    "start_time": "2021-08-11T23:32:57.435Z"
   },
   {
    "duration": 40,
    "start_time": "2021-08-11T23:32:57.462Z"
   },
   {
    "duration": 24,
    "start_time": "2021-08-11T23:32:57.505Z"
   },
   {
    "duration": 1621,
    "start_time": "2021-08-12T00:01:21.735Z"
   },
   {
    "duration": 41,
    "start_time": "2021-08-12T00:01:23.359Z"
   },
   {
    "duration": 22,
    "start_time": "2021-08-12T00:01:23.403Z"
   },
   {
    "duration": 11,
    "start_time": "2021-08-12T00:01:23.427Z"
   },
   {
    "duration": 23,
    "start_time": "2021-08-12T00:01:23.441Z"
   },
   {
    "duration": 1752,
    "start_time": "2021-08-12T00:34:41.580Z"
   },
   {
    "duration": 30,
    "start_time": "2021-08-12T00:34:43.334Z"
   },
   {
    "duration": 49,
    "start_time": "2021-08-12T00:34:43.368Z"
   },
   {
    "duration": 13,
    "start_time": "2021-08-12T00:34:43.421Z"
   },
   {
    "duration": 26,
    "start_time": "2021-08-12T00:34:43.437Z"
   },
   {
    "duration": 2783186,
    "start_time": "2021-08-12T00:34:43.466Z"
   },
   {
    "duration": 51840,
    "start_time": "2021-08-12T01:21:06.654Z"
   },
   {
    "duration": 18,
    "start_time": "2021-08-12T01:21:58.502Z"
   },
   {
    "duration": 14,
    "start_time": "2021-08-12T01:21:58.523Z"
   },
   {
    "duration": 1124,
    "start_time": "2021-08-12T01:21:58.539Z"
   },
   {
    "duration": 73,
    "start_time": "2021-08-12T01:21:59.665Z"
   },
   {
    "duration": 29,
    "start_time": "2021-08-12T01:21:59.740Z"
   },
   {
    "duration": 31,
    "start_time": "2021-08-12T01:21:59.771Z"
   },
   {
    "duration": 454,
    "start_time": "2021-08-12T01:21:59.805Z"
   },
   {
    "duration": 3,
    "start_time": "2021-08-12T01:22:00.262Z"
   },
   {
    "duration": 459,
    "start_time": "2021-08-12T01:22:00.268Z"
   },
   {
    "duration": 326,
    "start_time": "2021-08-12T01:22:00.730Z"
   },
   {
    "duration": 298,
    "start_time": "2021-08-12T01:22:01.059Z"
   },
   {
    "duration": 294,
    "start_time": "2021-08-12T01:22:01.360Z"
   },
   {
    "duration": 318,
    "start_time": "2021-08-12T01:22:01.657Z"
   },
   {
    "duration": 382,
    "start_time": "2021-08-12T01:22:01.977Z"
   },
   {
    "duration": 449,
    "start_time": "2021-08-12T01:22:02.362Z"
   },
   {
    "duration": 318,
    "start_time": "2021-08-12T01:22:02.816Z"
   },
   {
    "duration": 316,
    "start_time": "2021-08-12T01:22:03.137Z"
   },
   {
    "duration": 345,
    "start_time": "2021-08-12T01:22:03.455Z"
   },
   {
    "duration": 11,
    "start_time": "2021-08-12T01:22:03.802Z"
   },
   {
    "duration": 280,
    "start_time": "2021-08-12T01:22:03.816Z"
   },
   {
    "duration": 272,
    "start_time": "2021-08-12T01:22:04.099Z"
   },
   {
    "duration": 280,
    "start_time": "2021-08-12T01:22:04.373Z"
   },
   {
    "duration": 321,
    "start_time": "2021-08-12T01:22:04.655Z"
   },
   {
    "duration": 374,
    "start_time": "2021-08-12T01:22:04.978Z"
   },
   {
    "duration": 345,
    "start_time": "2021-08-12T01:22:05.354Z"
   },
   {
    "duration": 335,
    "start_time": "2021-08-12T01:22:05.702Z"
   },
   {
    "duration": 310,
    "start_time": "2021-08-12T01:22:06.039Z"
   },
   {
    "duration": 327,
    "start_time": "2021-08-12T01:22:06.352Z"
   },
   {
    "duration": 324,
    "start_time": "2021-08-12T01:22:06.682Z"
   },
   {
    "duration": 35,
    "start_time": "2021-08-12T01:22:07.008Z"
   },
   {
    "duration": 486,
    "start_time": "2021-08-12T01:22:07.046Z"
   },
   {
    "duration": 815,
    "start_time": "2021-08-12T01:22:07.534Z"
   },
   {
    "duration": 10,
    "start_time": "2021-08-12T01:22:08.352Z"
   },
   {
    "duration": 659,
    "start_time": "2021-08-12T08:39:13.581Z"
   },
   {
    "duration": 1767,
    "start_time": "2021-08-12T08:46:41.174Z"
   },
   {
    "duration": 30,
    "start_time": "2021-08-12T08:46:42.945Z"
   },
   {
    "duration": 41,
    "start_time": "2021-08-12T08:46:42.978Z"
   },
   {
    "duration": 12,
    "start_time": "2021-08-12T08:46:43.022Z"
   },
   {
    "duration": 27,
    "start_time": "2021-08-12T08:46:43.037Z"
   },
   {
    "duration": 511,
    "start_time": "2021-08-12T08:46:43.067Z"
   },
   {
    "duration": -6553,
    "start_time": "2021-08-12T08:46:50.135Z"
   },
   {
    "duration": -6562,
    "start_time": "2021-08-12T08:46:50.146Z"
   },
   {
    "duration": -6576,
    "start_time": "2021-08-12T08:46:50.161Z"
   },
   {
    "duration": -6584,
    "start_time": "2021-08-12T08:46:50.171Z"
   },
   {
    "duration": -6595,
    "start_time": "2021-08-12T08:46:50.183Z"
   },
   {
    "duration": -6605,
    "start_time": "2021-08-12T08:46:50.195Z"
   },
   {
    "duration": -6616,
    "start_time": "2021-08-12T08:46:50.207Z"
   },
   {
    "duration": -6638,
    "start_time": "2021-08-12T08:46:50.231Z"
   },
   {
    "duration": -6649,
    "start_time": "2021-08-12T08:46:50.243Z"
   },
   {
    "duration": -6659,
    "start_time": "2021-08-12T08:46:50.255Z"
   },
   {
    "duration": -6675,
    "start_time": "2021-08-12T08:46:50.272Z"
   },
   {
    "duration": -6689,
    "start_time": "2021-08-12T08:46:50.288Z"
   },
   {
    "duration": -6705,
    "start_time": "2021-08-12T08:46:50.305Z"
   },
   {
    "duration": -6719,
    "start_time": "2021-08-12T08:46:50.321Z"
   },
   {
    "duration": -6760,
    "start_time": "2021-08-12T08:46:50.363Z"
   },
   {
    "duration": -6781,
    "start_time": "2021-08-12T08:46:50.385Z"
   },
   {
    "duration": -6797,
    "start_time": "2021-08-12T08:46:50.403Z"
   },
   {
    "duration": -6809,
    "start_time": "2021-08-12T08:46:50.416Z"
   },
   {
    "duration": -6823,
    "start_time": "2021-08-12T08:46:50.432Z"
   },
   {
    "duration": -6833,
    "start_time": "2021-08-12T08:46:50.443Z"
   },
   {
    "duration": -6856,
    "start_time": "2021-08-12T08:46:50.468Z"
   },
   {
    "duration": -6872,
    "start_time": "2021-08-12T08:46:50.485Z"
   },
   {
    "duration": -6889,
    "start_time": "2021-08-12T08:46:50.504Z"
   },
   {
    "duration": -6905,
    "start_time": "2021-08-12T08:46:50.521Z"
   },
   {
    "duration": -6916,
    "start_time": "2021-08-12T08:46:50.533Z"
   },
   {
    "duration": -6925,
    "start_time": "2021-08-12T08:46:50.544Z"
   },
   {
    "duration": -6935,
    "start_time": "2021-08-12T08:46:50.555Z"
   },
   {
    "duration": -6958,
    "start_time": "2021-08-12T08:46:50.580Z"
   },
   {
    "duration": -6968,
    "start_time": "2021-08-12T08:46:50.591Z"
   },
   {
    "duration": -6977,
    "start_time": "2021-08-12T08:46:50.602Z"
   },
   {
    "duration": -6987,
    "start_time": "2021-08-12T08:46:50.613Z"
   },
   {
    "duration": -6995,
    "start_time": "2021-08-12T08:46:50.623Z"
   },
   {
    "duration": -7005,
    "start_time": "2021-08-12T08:46:50.634Z"
   },
   {
    "duration": -7015,
    "start_time": "2021-08-12T08:46:50.645Z"
   },
   {
    "duration": 1697,
    "start_time": "2021-08-12T08:47:44.409Z"
   },
   {
    "duration": 33,
    "start_time": "2021-08-12T08:47:46.109Z"
   },
   {
    "duration": 26,
    "start_time": "2021-08-12T08:47:46.145Z"
   },
   {
    "duration": 32,
    "start_time": "2021-08-12T08:47:46.174Z"
   },
   {
    "duration": 26,
    "start_time": "2021-08-12T08:47:46.209Z"
   },
   {
    "duration": 522,
    "start_time": "2021-08-12T08:47:46.238Z"
   },
   {
    "duration": -6704,
    "start_time": "2021-08-12T08:47:53.469Z"
   },
   {
    "duration": -6716,
    "start_time": "2021-08-12T08:47:53.483Z"
   },
   {
    "duration": -6725,
    "start_time": "2021-08-12T08:47:53.494Z"
   },
   {
    "duration": -6732,
    "start_time": "2021-08-12T08:47:53.504Z"
   },
   {
    "duration": -6742,
    "start_time": "2021-08-12T08:47:53.516Z"
   },
   {
    "duration": -6750,
    "start_time": "2021-08-12T08:47:53.526Z"
   },
   {
    "duration": -6760,
    "start_time": "2021-08-12T08:47:53.538Z"
   },
   {
    "duration": -6767,
    "start_time": "2021-08-12T08:47:53.548Z"
   },
   {
    "duration": -6792,
    "start_time": "2021-08-12T08:47:53.575Z"
   },
   {
    "duration": -6799,
    "start_time": "2021-08-12T08:47:53.585Z"
   },
   {
    "duration": -6811,
    "start_time": "2021-08-12T08:47:53.599Z"
   },
   {
    "duration": -6820,
    "start_time": "2021-08-12T08:47:53.610Z"
   },
   {
    "duration": -6830,
    "start_time": "2021-08-12T08:47:53.622Z"
   },
   {
    "duration": -6838,
    "start_time": "2021-08-12T08:47:53.632Z"
   },
   {
    "duration": -6847,
    "start_time": "2021-08-12T08:47:53.644Z"
   },
   {
    "duration": -6857,
    "start_time": "2021-08-12T08:47:53.655Z"
   },
   {
    "duration": -6865,
    "start_time": "2021-08-12T08:47:53.666Z"
   },
   {
    "duration": -6888,
    "start_time": "2021-08-12T08:47:53.691Z"
   },
   {
    "duration": -6897,
    "start_time": "2021-08-12T08:47:53.702Z"
   },
   {
    "duration": -6912,
    "start_time": "2021-08-12T08:47:53.719Z"
   },
   {
    "duration": -6928,
    "start_time": "2021-08-12T08:47:53.737Z"
   },
   {
    "duration": -6942,
    "start_time": "2021-08-12T08:47:53.753Z"
   },
   {
    "duration": -6955,
    "start_time": "2021-08-12T08:47:53.769Z"
   },
   {
    "duration": -6966,
    "start_time": "2021-08-12T08:47:53.782Z"
   },
   {
    "duration": -6995,
    "start_time": "2021-08-12T08:47:53.813Z"
   },
   {
    "duration": -7006,
    "start_time": "2021-08-12T08:47:53.826Z"
   },
   {
    "duration": -7021,
    "start_time": "2021-08-12T08:47:53.843Z"
   },
   {
    "duration": -7037,
    "start_time": "2021-08-12T08:47:53.861Z"
   },
   {
    "duration": -7059,
    "start_time": "2021-08-12T08:47:53.885Z"
   },
   {
    "duration": -7082,
    "start_time": "2021-08-12T08:47:53.910Z"
   },
   {
    "duration": -7121,
    "start_time": "2021-08-12T08:47:53.951Z"
   },
   {
    "duration": -7131,
    "start_time": "2021-08-12T08:47:53.964Z"
   },
   {
    "duration": -7144,
    "start_time": "2021-08-12T08:47:53.978Z"
   },
   {
    "duration": -7154,
    "start_time": "2021-08-12T08:47:53.991Z"
   },
   {
    "duration": 30,
    "start_time": "2021-08-12T08:48:54.905Z"
   },
   {
    "duration": 342,
    "start_time": "2021-08-12T08:51:55.543Z"
   },
   {
    "duration": 374,
    "start_time": "2021-08-12T08:52:19.372Z"
   },
   {
    "duration": 8,
    "start_time": "2021-08-12T08:52:58.911Z"
   },
   {
    "duration": 18,
    "start_time": "2021-08-12T08:53:19.383Z"
   },
   {
    "duration": 9,
    "start_time": "2021-08-12T08:53:37.778Z"
   },
   {
    "duration": 7,
    "start_time": "2021-08-12T08:53:59.204Z"
   },
   {
    "duration": 371,
    "start_time": "2021-08-12T08:56:20.700Z"
   },
   {
    "duration": 299,
    "start_time": "2021-08-12T08:56:29.121Z"
   },
   {
    "duration": 285,
    "start_time": "2021-08-12T08:57:00.869Z"
   },
   {
    "duration": 88638,
    "start_time": "2021-08-12T08:57:47.616Z"
   },
   {
    "duration": 1816,
    "start_time": "2021-08-12T09:01:35.597Z"
   },
   {
    "duration": 29,
    "start_time": "2021-08-12T09:01:37.416Z"
   },
   {
    "duration": 24,
    "start_time": "2021-08-12T09:01:37.448Z"
   },
   {
    "duration": 32,
    "start_time": "2021-08-12T09:01:37.476Z"
   },
   {
    "duration": 24,
    "start_time": "2021-08-12T09:01:37.511Z"
   },
   {
    "duration": 314216,
    "start_time": "2021-08-12T09:01:37.537Z"
   },
   {
    "duration": 48735,
    "start_time": "2021-08-12T09:06:51.756Z"
   },
   {
    "duration": 21,
    "start_time": "2021-08-12T09:07:40.494Z"
   },
   {
    "duration": 18,
    "start_time": "2021-08-12T09:07:40.518Z"
   },
   {
    "duration": 1266,
    "start_time": "2021-08-12T09:07:40.538Z"
   },
   {
    "duration": 67,
    "start_time": "2021-08-12T09:07:41.806Z"
   },
   {
    "duration": 56,
    "start_time": "2021-08-12T09:07:41.875Z"
   },
   {
    "duration": 10,
    "start_time": "2021-08-12T09:07:41.934Z"
   },
   {
    "duration": 534,
    "start_time": "2021-08-12T09:07:41.947Z"
   },
   {
    "duration": 16,
    "start_time": "2021-08-12T09:07:42.484Z"
   },
   {
    "duration": 2417,
    "start_time": "2021-08-12T09:07:42.503Z"
   },
   {
    "duration": 324,
    "start_time": "2021-08-12T09:07:44.922Z"
   },
   {
    "duration": 357,
    "start_time": "2021-08-12T09:07:45.248Z"
   },
   {
    "duration": 289,
    "start_time": "2021-08-12T09:07:45.608Z"
   },
   {
    "duration": 383,
    "start_time": "2021-08-12T09:07:45.900Z"
   },
   {
    "duration": 323,
    "start_time": "2021-08-12T09:07:46.285Z"
   },
   {
    "duration": 277,
    "start_time": "2021-08-12T09:07:46.610Z"
   },
   {
    "duration": 245,
    "start_time": "2021-08-12T09:07:46.894Z"
   },
   {
    "duration": 446,
    "start_time": "2021-08-12T09:07:47.143Z"
   },
   {
    "duration": 381,
    "start_time": "2021-08-12T09:07:47.592Z"
   },
   {
    "duration": 12,
    "start_time": "2021-08-12T09:07:47.975Z"
   },
   {
    "duration": 265,
    "start_time": "2021-08-12T09:07:47.990Z"
   },
   {
    "duration": 399,
    "start_time": "2021-08-12T09:07:48.257Z"
   },
   {
    "duration": 340,
    "start_time": "2021-08-12T09:07:48.659Z"
   },
   {
    "duration": 321,
    "start_time": "2021-08-12T09:07:49.002Z"
   },
   {
    "duration": 317,
    "start_time": "2021-08-12T09:07:49.325Z"
   },
   {
    "duration": 339,
    "start_time": "2021-08-12T09:07:49.644Z"
   },
   {
    "duration": 340,
    "start_time": "2021-08-12T09:07:49.985Z"
   },
   {
    "duration": 398,
    "start_time": "2021-08-12T09:07:50.327Z"
   },
   {
    "duration": 375,
    "start_time": "2021-08-12T09:07:50.727Z"
   },
   {
    "duration": 363,
    "start_time": "2021-08-12T09:07:51.104Z"
   },
   {
    "duration": 39,
    "start_time": "2021-08-12T09:07:51.470Z"
   },
   {
    "duration": 497,
    "start_time": "2021-08-12T09:07:51.512Z"
   },
   {
    "duration": 838,
    "start_time": "2021-08-12T09:07:52.012Z"
   },
   {
    "duration": 11,
    "start_time": "2021-08-12T09:07:52.853Z"
   },
   {
    "duration": 503,
    "start_time": "2021-08-12T09:08:44.069Z"
   },
   {
    "duration": 356,
    "start_time": "2021-08-12T09:08:51.416Z"
   },
   {
    "duration": 312698,
    "start_time": "2021-08-12T09:09:13.707Z"
   },
   {
    "duration": 402,
    "start_time": "2021-08-12T09:48:50.168Z"
   },
   {
    "duration": 360,
    "start_time": "2021-08-12T09:49:02.778Z"
   },
   {
    "duration": 18,
    "start_time": "2021-08-12T09:50:01.292Z"
   },
   {
    "duration": 21,
    "start_time": "2021-08-12T09:51:51.369Z"
   },
   {
    "duration": 23,
    "start_time": "2021-08-12T09:52:07.075Z"
   },
   {
    "duration": 14,
    "start_time": "2021-08-12T09:52:49.236Z"
   },
   {
    "duration": 16,
    "start_time": "2021-08-12T09:52:58.259Z"
   },
   {
    "duration": 8,
    "start_time": "2021-08-12T09:53:20.580Z"
   },
   {
    "duration": 10,
    "start_time": "2021-08-12T09:57:10.943Z"
   },
   {
    "duration": 12,
    "start_time": "2021-08-12T09:57:38.142Z"
   },
   {
    "duration": 646,
    "start_time": "2021-08-12T10:01:42.233Z"
   },
   {
    "duration": 672,
    "start_time": "2021-08-12T10:03:11.924Z"
   },
   {
    "duration": 618,
    "start_time": "2021-08-12T10:03:35.275Z"
   },
   {
    "duration": 584,
    "start_time": "2021-08-12T10:03:45.355Z"
   },
   {
    "duration": 773,
    "start_time": "2021-08-12T10:04:22.860Z"
   },
   {
    "duration": 353,
    "start_time": "2021-08-12T10:11:32.927Z"
   },
   {
    "duration": 824,
    "start_time": "2021-08-12T10:11:55.505Z"
   },
   {
    "duration": 668,
    "start_time": "2021-08-12T10:12:37.355Z"
   },
   {
    "duration": 433,
    "start_time": "2021-08-12T10:13:02.424Z"
   },
   {
    "duration": 786,
    "start_time": "2021-08-12T10:18:30.300Z"
   },
   {
    "duration": 274,
    "start_time": "2021-08-12T10:20:03.419Z"
   },
   {
    "duration": 949,
    "start_time": "2021-08-12T10:20:13.680Z"
   },
   {
    "duration": 255,
    "start_time": "2021-08-12T10:20:50.715Z"
   },
   {
    "duration": 273,
    "start_time": "2021-08-12T10:21:11.956Z"
   },
   {
    "duration": 252,
    "start_time": "2021-08-12T10:21:19.758Z"
   },
   {
    "duration": 19,
    "start_time": "2021-08-12T10:24:11.352Z"
   },
   {
    "duration": 273,
    "start_time": "2021-08-12T10:24:21.545Z"
   },
   {
    "duration": 308,
    "start_time": "2021-08-12T10:24:50.422Z"
   },
   {
    "duration": 310,
    "start_time": "2021-08-12T10:27:40.467Z"
   },
   {
    "duration": 12,
    "start_time": "2021-08-12T10:33:27.675Z"
   },
   {
    "duration": 28,
    "start_time": "2021-08-12T10:33:37.233Z"
   },
   {
    "duration": 379,
    "start_time": "2021-08-12T11:23:53.242Z"
   },
   {
    "duration": 14,
    "start_time": "2021-08-12T11:24:05.710Z"
   },
   {
    "duration": 275,
    "start_time": "2021-08-12T11:24:25.943Z"
   },
   {
    "duration": 330,
    "start_time": "2021-08-12T11:24:42.039Z"
   },
   {
    "duration": 13,
    "start_time": "2021-08-12T11:25:10.875Z"
   },
   {
    "duration": 352,
    "start_time": "2021-08-12T11:26:25.448Z"
   },
   {
    "duration": 393,
    "start_time": "2021-08-12T11:26:50.799Z"
   },
   {
    "duration": 312,
    "start_time": "2021-08-12T11:27:01.983Z"
   },
   {
    "duration": 285,
    "start_time": "2021-08-12T11:27:10.974Z"
   },
   {
    "duration": 305,
    "start_time": "2021-08-12T11:27:18.377Z"
   },
   {
    "duration": 299,
    "start_time": "2021-08-12T11:27:26.483Z"
   },
   {
    "duration": 310,
    "start_time": "2021-08-12T11:27:32.501Z"
   },
   {
    "duration": 263,
    "start_time": "2021-08-12T11:28:03.684Z"
   },
   {
    "duration": 289,
    "start_time": "2021-08-12T11:28:25.700Z"
   },
   {
    "duration": 284,
    "start_time": "2021-08-12T11:29:43.727Z"
   },
   {
    "duration": 322,
    "start_time": "2021-08-12T11:30:26.971Z"
   },
   {
    "duration": 323,
    "start_time": "2021-08-12T11:40:40.152Z"
   },
   {
    "duration": 27081,
    "start_time": "2021-08-12T11:42:33.720Z"
   },
   {
    "duration": 19392,
    "start_time": "2021-08-12T11:43:24.199Z"
   },
   {
    "duration": 1860,
    "start_time": "2021-08-12T11:45:07.833Z"
   },
   {
    "duration": 429,
    "start_time": "2021-08-12T11:50:38.218Z"
   },
   {
    "duration": 11,
    "start_time": "2021-08-12T11:50:48.507Z"
   },
   {
    "duration": 12,
    "start_time": "2021-08-12T11:51:09.438Z"
   },
   {
    "duration": 3862,
    "start_time": "2021-08-12T11:53:06.198Z"
   },
   {
    "duration": 8,
    "start_time": "2021-08-12T11:53:32.825Z"
   },
   {
    "duration": 7,
    "start_time": "2021-08-12T11:53:43.688Z"
   },
   {
    "duration": 1431,
    "start_time": "2021-08-12T11:54:06.101Z"
   },
   {
    "duration": 1085,
    "start_time": "2021-08-12T11:54:13.811Z"
   },
   {
    "duration": 1129,
    "start_time": "2021-08-12T11:54:33.086Z"
   },
   {
    "duration": 8,
    "start_time": "2021-08-12T11:54:39.800Z"
   },
   {
    "duration": 1175,
    "start_time": "2021-08-12T11:55:01.243Z"
   },
   {
    "duration": 16,
    "start_time": "2021-08-12T11:55:06.860Z"
   },
   {
    "duration": 120,
    "start_time": "2021-08-12T11:55:29.999Z"
   },
   {
    "duration": 4,
    "start_time": "2021-08-12T11:56:04.806Z"
   },
   {
    "duration": 1188,
    "start_time": "2021-08-12T11:56:11.307Z"
   },
   {
    "duration": 1044,
    "start_time": "2021-08-12T11:56:27.517Z"
   },
   {
    "duration": 368,
    "start_time": "2021-08-12T12:00:14.053Z"
   },
   {
    "duration": 409,
    "start_time": "2021-08-12T12:01:50.641Z"
   },
   {
    "duration": 370,
    "start_time": "2021-08-12T12:03:50.299Z"
   },
   {
    "duration": 1160,
    "start_time": "2021-08-12T12:04:06.360Z"
   },
   {
    "duration": 398,
    "start_time": "2021-08-12T12:05:42.921Z"
   },
   {
    "duration": 18,
    "start_time": "2021-08-12T12:05:55.736Z"
   },
   {
    "duration": 1269,
    "start_time": "2021-08-12T12:06:17.057Z"
   },
   {
    "duration": 377,
    "start_time": "2021-08-12T12:06:59.317Z"
   },
   {
    "duration": 350,
    "start_time": "2021-08-12T12:07:26.578Z"
   },
   {
    "duration": 8,
    "start_time": "2021-08-12T12:07:51.669Z"
   },
   {
    "duration": 1141,
    "start_time": "2021-08-12T12:07:55.554Z"
   },
   {
    "duration": 370,
    "start_time": "2021-08-12T12:08:11.447Z"
   },
   {
    "duration": 8,
    "start_time": "2021-08-12T12:08:26.517Z"
   },
   {
    "duration": 369,
    "start_time": "2021-08-12T12:08:28.177Z"
   },
   {
    "duration": 9,
    "start_time": "2021-08-12T12:08:42.455Z"
   },
   {
    "duration": 11,
    "start_time": "2021-08-12T12:08:55.106Z"
   },
   {
    "duration": 343,
    "start_time": "2021-08-12T12:09:09.730Z"
   },
   {
    "duration": 359,
    "start_time": "2021-08-12T12:09:59.106Z"
   },
   {
    "duration": 467,
    "start_time": "2021-08-12T12:10:05.664Z"
   },
   {
    "duration": 347,
    "start_time": "2021-08-12T12:12:14.552Z"
   },
   {
    "duration": 357,
    "start_time": "2021-08-12T12:12:39.388Z"
   },
   {
    "duration": 7,
    "start_time": "2021-08-12T12:15:09.777Z"
   },
   {
    "duration": 10,
    "start_time": "2021-08-12T12:15:14.746Z"
   },
   {
    "duration": 15,
    "start_time": "2021-08-12T12:15:43.847Z"
   },
   {
    "duration": 9,
    "start_time": "2021-08-12T12:16:40.738Z"
   },
   {
    "duration": 991266,
    "start_time": "2021-08-12T12:16:59.301Z"
   },
   {
    "duration": 15,
    "start_time": "2021-08-12T12:34:10.340Z"
   },
   {
    "duration": 437,
    "start_time": "2021-08-12T12:34:34.445Z"
   },
   {
    "duration": 447,
    "start_time": "2021-08-12T12:34:52.965Z"
   },
   {
    "duration": 879088,
    "start_time": "2021-08-12T12:35:24.056Z"
   },
   {
    "duration": 471,
    "start_time": "2021-08-12T12:51:59.657Z"
   },
   {
    "duration": 446,
    "start_time": "2021-08-12T12:56:53.404Z"
   },
   {
    "duration": 436,
    "start_time": "2021-08-12T12:57:08.210Z"
   },
   {
    "duration": 441,
    "start_time": "2021-08-12T12:57:23.214Z"
   },
   {
    "duration": 360,
    "start_time": "2021-08-12T12:57:53.976Z"
   },
   {
    "duration": 17,
    "start_time": "2021-08-12T12:58:15.744Z"
   },
   {
    "duration": 441,
    "start_time": "2021-08-12T12:58:24.909Z"
   },
   {
    "duration": 15,
    "start_time": "2021-08-12T12:59:38.422Z"
   },
   {
    "duration": 376,
    "start_time": "2021-08-12T13:00:16.437Z"
   },
   {
    "duration": 365,
    "start_time": "2021-08-12T13:01:05.071Z"
   },
   {
    "duration": 384,
    "start_time": "2021-08-12T13:01:40.201Z"
   },
   {
    "duration": 319304,
    "start_time": "2021-08-12T13:01:47.215Z"
   },
   {
    "duration": 584,
    "start_time": "2021-08-12T13:07:06.522Z"
   },
   {
    "duration": 618,
    "start_time": "2021-08-12T13:08:34.973Z"
   },
   {
    "duration": 713,
    "start_time": "2021-08-12T13:09:02.848Z"
   },
   {
    "duration": 464,
    "start_time": "2021-08-12T13:09:18.472Z"
   },
   {
    "duration": 5,
    "start_time": "2021-08-12T13:20:06.521Z"
   },
   {
    "duration": 6,
    "start_time": "2021-08-12T13:20:44.572Z"
   },
   {
    "duration": 6,
    "start_time": "2021-08-12T13:22:00.251Z"
   },
   {
    "duration": 6,
    "start_time": "2021-08-12T13:22:41.793Z"
   },
   {
    "duration": 6,
    "start_time": "2021-08-12T13:24:05.779Z"
   },
   {
    "duration": 1997,
    "start_time": "2021-08-12T15:38:56.740Z"
   },
   {
    "duration": 31,
    "start_time": "2021-08-12T15:38:58.739Z"
   },
   {
    "duration": 23,
    "start_time": "2021-08-12T15:38:59.200Z"
   },
   {
    "duration": 19,
    "start_time": "2021-08-12T15:38:59.279Z"
   },
   {
    "duration": 26,
    "start_time": "2021-08-12T15:39:00.319Z"
   },
   {
    "duration": 187033,
    "start_time": "2021-08-12T15:39:16.407Z"
   },
   {
    "duration": 28690,
    "start_time": "2021-08-12T15:41:54.753Z"
   },
   {
    "duration": 28687,
    "start_time": "2021-08-12T15:41:54.757Z"
   },
   {
    "duration": 1623,
    "start_time": "2021-08-12T15:42:53.791Z"
   },
   {
    "duration": 45,
    "start_time": "2021-08-12T15:42:55.417Z"
   },
   {
    "duration": 23,
    "start_time": "2021-08-12T15:42:55.468Z"
   },
   {
    "duration": 12,
    "start_time": "2021-08-12T15:42:55.493Z"
   },
   {
    "duration": 74,
    "start_time": "2021-08-12T15:42:55.507Z"
   },
   {
    "duration": 321623,
    "start_time": "2021-08-12T15:42:55.586Z"
   },
   {
    "duration": 376851,
    "start_time": "2021-08-12T15:48:17.213Z"
   },
   {
    "duration": 48933,
    "start_time": "2021-08-12T16:00:37.387Z"
   },
   {
    "duration": 2400,
    "start_time": "2021-08-12T16:01:26.323Z"
   },
   {
    "duration": 38,
    "start_time": "2021-08-12T16:01:28.726Z"
   },
   {
    "duration": 1245,
    "start_time": "2021-08-12T16:01:28.766Z"
   },
   {
    "duration": 330,
    "start_time": "2021-08-13T08:23:26.749Z"
   },
   {
    "duration": 1314,
    "start_time": "2021-08-13T08:23:35.554Z"
   },
   {
    "duration": 33,
    "start_time": "2021-08-13T08:23:36.871Z"
   },
   {
    "duration": 15,
    "start_time": "2021-08-13T08:23:36.906Z"
   },
   {
    "duration": 21,
    "start_time": "2021-08-13T08:23:36.923Z"
   },
   {
    "duration": 17,
    "start_time": "2021-08-13T08:23:36.946Z"
   },
   {
    "duration": 202133,
    "start_time": "2021-08-13T08:23:36.964Z"
   },
   {
    "duration": 31685,
    "start_time": "2021-08-13T08:26:59.098Z"
   },
   {
    "duration": 207,
    "start_time": "2021-08-13T08:27:30.786Z"
   },
   {
    "duration": 19,
    "start_time": "2021-08-13T08:27:30.995Z"
   },
   {
    "duration": 2764,
    "start_time": "2021-08-13T08:27:31.015Z"
   },
   {
    "duration": -7004,
    "start_time": "2021-08-13T08:27:40.786Z"
   },
   {
    "duration": -7016,
    "start_time": "2021-08-13T08:27:40.799Z"
   },
   {
    "duration": -7031,
    "start_time": "2021-08-13T08:27:40.815Z"
   },
   {
    "duration": -7050,
    "start_time": "2021-08-13T08:27:40.835Z"
   },
   {
    "duration": -7062,
    "start_time": "2021-08-13T08:27:40.848Z"
   },
   {
    "duration": -7090,
    "start_time": "2021-08-13T08:27:40.876Z"
   },
   {
    "duration": -7101,
    "start_time": "2021-08-13T08:27:40.888Z"
   },
   {
    "duration": -7111,
    "start_time": "2021-08-13T08:27:40.899Z"
   },
   {
    "duration": -7123,
    "start_time": "2021-08-13T08:27:40.912Z"
   },
   {
    "duration": -7133,
    "start_time": "2021-08-13T08:27:40.923Z"
   },
   {
    "duration": -7144,
    "start_time": "2021-08-13T08:27:40.935Z"
   },
   {
    "duration": -7154,
    "start_time": "2021-08-13T08:27:40.946Z"
   },
   {
    "duration": -7165,
    "start_time": "2021-08-13T08:27:40.958Z"
   },
   {
    "duration": -7175,
    "start_time": "2021-08-13T08:27:40.969Z"
   },
   {
    "duration": -7208,
    "start_time": "2021-08-13T08:27:41.003Z"
   },
   {
    "duration": -7227,
    "start_time": "2021-08-13T08:27:41.023Z"
   },
   {
    "duration": -7249,
    "start_time": "2021-08-13T08:27:41.046Z"
   },
   {
    "duration": -7266,
    "start_time": "2021-08-13T08:27:41.063Z"
   },
   {
    "duration": -7280,
    "start_time": "2021-08-13T08:27:41.080Z"
   },
   {
    "duration": -7290,
    "start_time": "2021-08-13T08:27:41.091Z"
   },
   {
    "duration": -7314,
    "start_time": "2021-08-13T08:27:41.117Z"
   },
   {
    "duration": -7286,
    "start_time": "2021-08-13T08:27:41.128Z"
   },
   {
    "duration": -7297,
    "start_time": "2021-08-13T08:27:41.140Z"
   },
   {
    "duration": -7307,
    "start_time": "2021-08-13T08:27:41.151Z"
   },
   {
    "duration": -7317,
    "start_time": "2021-08-13T08:27:41.163Z"
   },
   {
    "duration": -7327,
    "start_time": "2021-08-13T08:27:41.174Z"
   },
   {
    "duration": -7337,
    "start_time": "2021-08-13T08:27:41.186Z"
   },
   {
    "duration": -7347,
    "start_time": "2021-08-13T08:27:41.197Z"
   },
   {
    "duration": -7358,
    "start_time": "2021-08-13T08:27:41.209Z"
   },
   {
    "duration": -7391,
    "start_time": "2021-08-13T08:27:41.244Z"
   },
   {
    "duration": -7411,
    "start_time": "2021-08-13T08:27:41.265Z"
   },
   {
    "duration": -7428,
    "start_time": "2021-08-13T08:27:41.284Z"
   },
   {
    "duration": -7453,
    "start_time": "2021-08-13T08:27:41.310Z"
   },
   {
    "duration": 192842,
    "start_time": "2021-08-13T08:31:04.769Z"
   },
   {
    "duration": 28343,
    "start_time": "2021-08-13T11:05:59.311Z"
   },
   {
    "duration": 26245,
    "start_time": "2021-08-13T11:07:06.534Z"
   },
   {
    "duration": 27096,
    "start_time": "2021-08-13T11:07:59.229Z"
   },
   {
    "duration": 12,
    "start_time": "2021-08-13T11:08:42.187Z"
   },
   {
    "duration": 567967,
    "start_time": "2021-08-13T11:09:31.969Z"
   },
   {
    "duration": 10,
    "start_time": "2021-08-13T11:20:41.946Z"
   },
   {
    "duration": 27301,
    "start_time": "2021-08-13T11:21:08.582Z"
   },
   {
    "duration": 360,
    "start_time": "2021-08-13T11:22:05.307Z"
   },
   {
    "duration": 273,
    "start_time": "2021-08-13T11:22:16.968Z"
   },
   {
    "duration": 277,
    "start_time": "2021-08-13T11:23:24.164Z"
   },
   {
    "duration": 637,
    "start_time": "2021-08-13T11:23:37.873Z"
   },
   {
    "duration": 377,
    "start_time": "2021-08-13T11:23:46.371Z"
   },
   {
    "duration": 201,
    "start_time": "2021-08-13T11:24:06.407Z"
   },
   {
    "duration": 4,
    "start_time": "2021-08-13T11:24:34.337Z"
   },
   {
    "duration": 163,
    "start_time": "2021-08-13T11:24:40.415Z"
   },
   {
    "duration": 7,
    "start_time": "2021-08-13T11:24:47.682Z"
   },
   {
    "duration": 106,
    "start_time": "2021-08-13T11:26:07.390Z"
   },
   {
    "duration": 259,
    "start_time": "2021-08-13T11:26:13.587Z"
   },
   {
    "duration": 255,
    "start_time": "2021-08-13T11:26:25.472Z"
   },
   {
    "duration": 268,
    "start_time": "2021-08-13T11:26:50.883Z"
   },
   {
    "duration": 245,
    "start_time": "2021-08-13T11:33:38.594Z"
   },
   {
    "duration": 664,
    "start_time": "2021-08-13T11:33:46.590Z"
   },
   {
    "duration": 309,
    "start_time": "2021-08-13T11:35:12.080Z"
   },
   {
    "duration": 51,
    "start_time": "2021-08-13T11:35:52.528Z"
   },
   {
    "duration": 23,
    "start_time": "2021-08-13T11:35:53.699Z"
   },
   {
    "duration": 14,
    "start_time": "2021-08-13T11:35:56.431Z"
   },
   {
    "duration": 10,
    "start_time": "2021-08-13T11:35:58.049Z"
   },
   {
    "duration": 19,
    "start_time": "2021-08-13T11:35:58.934Z"
   },
   {
    "duration": 26872,
    "start_time": "2021-08-13T11:36:06.251Z"
   },
   {
    "duration": 190,
    "start_time": "2021-08-13T11:36:33.125Z"
   },
   {
    "duration": 24,
    "start_time": "2021-08-13T11:36:33.318Z"
   },
   {
    "duration": 864,
    "start_time": "2021-08-13T11:36:33.344Z"
   },
   {
    "duration": 14,
    "start_time": "2021-08-13T11:38:58.715Z"
   },
   {
    "duration": 1174,
    "start_time": "2021-08-13T11:39:18.049Z"
   },
   {
    "duration": 17,
    "start_time": "2021-08-13T11:41:46.882Z"
   },
   {
    "duration": 315,
    "start_time": "2021-08-13T11:41:55.612Z"
   },
   {
    "duration": 16,
    "start_time": "2021-08-13T11:42:02.882Z"
   },
   {
    "duration": 10,
    "start_time": "2021-08-13T11:42:55.798Z"
   },
   {
    "duration": 1127,
    "start_time": "2021-08-13T11:43:24.881Z"
   },
   {
    "duration": 247,
    "start_time": "2021-08-13T11:43:57.990Z"
   },
   {
    "duration": 4,
    "start_time": "2021-08-13T11:44:12.576Z"
   },
   {
    "duration": 1993,
    "start_time": "2021-08-13T11:44:33.180Z"
   },
   {
    "duration": 2,
    "start_time": "2021-08-13T11:44:44.617Z"
   },
   {
    "duration": 670,
    "start_time": "2021-08-13T11:44:50.855Z"
   },
   {
    "duration": 251,
    "start_time": "2021-08-13T11:45:36.938Z"
   },
   {
    "duration": 904,
    "start_time": "2021-08-13T11:45:55.417Z"
   },
   {
    "duration": 14839,
    "start_time": "2021-08-13T11:46:01.952Z"
   },
   {
    "duration": 985,
    "start_time": "2021-08-13T11:48:02.449Z"
   },
   {
    "duration": 251,
    "start_time": "2021-08-13T11:53:15.345Z"
   },
   {
    "duration": 246,
    "start_time": "2021-08-13T11:53:42.452Z"
   },
   {
    "duration": 290,
    "start_time": "2021-08-13T11:54:06.621Z"
   },
   {
    "duration": 671,
    "start_time": "2021-08-13T11:55:05.919Z"
   },
   {
    "duration": 393,
    "start_time": "2021-08-13T11:55:27.569Z"
   },
   {
    "duration": 707,
    "start_time": "2021-08-13T11:55:51.436Z"
   },
   {
    "duration": 10,
    "start_time": "2021-08-13T11:56:17.381Z"
   },
   {
    "duration": 6,
    "start_time": "2021-08-13T11:56:34.062Z"
   },
   {
    "duration": 779,
    "start_time": "2021-08-13T11:56:59.721Z"
   },
   {
    "duration": 831,
    "start_time": "2021-08-13T11:57:14.473Z"
   },
   {
    "duration": 817,
    "start_time": "2021-08-13T11:57:34.036Z"
   },
   {
    "duration": 251,
    "start_time": "2021-08-13T12:00:44.470Z"
   },
   {
    "duration": 123,
    "start_time": "2021-08-13T12:00:52.877Z"
   },
   {
    "duration": 672,
    "start_time": "2021-08-13T12:01:04.405Z"
   },
   {
    "duration": 194,
    "start_time": "2021-08-13T12:01:26.803Z"
   },
   {
    "duration": 212,
    "start_time": "2021-08-13T12:01:38.807Z"
   },
   {
    "duration": 244,
    "start_time": "2021-08-13T12:02:16.479Z"
   },
   {
    "duration": 197,
    "start_time": "2021-08-13T12:02:27.593Z"
   },
   {
    "duration": 555,
    "start_time": "2021-08-13T12:03:23.766Z"
   },
   {
    "duration": 181,
    "start_time": "2021-08-13T12:04:13.854Z"
   },
   {
    "duration": 431,
    "start_time": "2021-08-13T12:07:30.686Z"
   },
   {
    "duration": 4,
    "start_time": "2021-08-13T12:07:40.557Z"
   },
   {
    "duration": 275,
    "start_time": "2021-08-13T12:07:48.763Z"
   },
   {
    "duration": 5,
    "start_time": "2021-08-13T12:07:54.196Z"
   },
   {
    "duration": 259,
    "start_time": "2021-08-13T12:08:39.537Z"
   },
   {
    "duration": 276,
    "start_time": "2021-08-13T12:08:48.056Z"
   },
   {
    "duration": 259,
    "start_time": "2021-08-13T12:09:43.078Z"
   },
   {
    "duration": 5,
    "start_time": "2021-08-13T12:09:53.767Z"
   },
   {
    "duration": 111,
    "start_time": "2021-08-13T12:11:42.805Z"
   },
   {
    "duration": 240,
    "start_time": "2021-08-13T12:11:48.600Z"
   },
   {
    "duration": 84,
    "start_time": "2021-08-13T12:12:13.152Z"
   },
   {
    "duration": 1163,
    "start_time": "2021-08-13T12:12:40.896Z"
   },
   {
    "duration": 21,
    "start_time": "2021-08-13T12:12:42.061Z"
   },
   {
    "duration": 22,
    "start_time": "2021-08-13T12:12:42.085Z"
   },
   {
    "duration": 9,
    "start_time": "2021-08-13T12:12:42.110Z"
   },
   {
    "duration": 19,
    "start_time": "2021-08-13T12:12:42.140Z"
   },
   {
    "duration": 230,
    "start_time": "2021-08-13T12:12:42.161Z"
   },
   {
    "duration": 26124,
    "start_time": "2021-08-13T12:12:42.393Z"
   },
   {
    "duration": 194,
    "start_time": "2021-08-13T12:13:08.520Z"
   },
   {
    "duration": 25,
    "start_time": "2021-08-13T12:13:08.717Z"
   },
   {
    "duration": 991,
    "start_time": "2021-08-13T12:13:08.744Z"
   },
   {
    "duration": -6985,
    "start_time": "2021-08-13T12:13:16.726Z"
   },
   {
    "duration": -7002,
    "start_time": "2021-08-13T12:13:16.744Z"
   },
   {
    "duration": -7016,
    "start_time": "2021-08-13T12:13:16.759Z"
   },
   {
    "duration": -7030,
    "start_time": "2021-08-13T12:13:16.774Z"
   },
   {
    "duration": -7044,
    "start_time": "2021-08-13T12:13:16.789Z"
   },
   {
    "duration": -7056,
    "start_time": "2021-08-13T12:13:16.802Z"
   },
   {
    "duration": -7076,
    "start_time": "2021-08-13T12:13:16.823Z"
   },
   {
    "duration": -7098,
    "start_time": "2021-08-13T12:13:16.846Z"
   },
   {
    "duration": -7117,
    "start_time": "2021-08-13T12:13:16.866Z"
   },
   {
    "duration": -7132,
    "start_time": "2021-08-13T12:13:16.882Z"
   },
   {
    "duration": -7147,
    "start_time": "2021-08-13T12:13:16.898Z"
   },
   {
    "duration": -7160,
    "start_time": "2021-08-13T12:13:16.912Z"
   },
   {
    "duration": -7173,
    "start_time": "2021-08-13T12:13:16.926Z"
   },
   {
    "duration": -7183,
    "start_time": "2021-08-13T12:13:16.937Z"
   },
   {
    "duration": -7194,
    "start_time": "2021-08-13T12:13:16.949Z"
   },
   {
    "duration": -7204,
    "start_time": "2021-08-13T12:13:16.960Z"
   },
   {
    "duration": -7215,
    "start_time": "2021-08-13T12:13:16.972Z"
   },
   {
    "duration": -7226,
    "start_time": "2021-08-13T12:13:16.984Z"
   },
   {
    "duration": -7237,
    "start_time": "2021-08-13T12:13:16.996Z"
   },
   {
    "duration": -7247,
    "start_time": "2021-08-13T12:13:17.007Z"
   },
   {
    "duration": -7260,
    "start_time": "2021-08-13T12:13:17.021Z"
   },
   {
    "duration": -7271,
    "start_time": "2021-08-13T12:13:17.033Z"
   },
   {
    "duration": -7282,
    "start_time": "2021-08-13T12:13:17.045Z"
   },
   {
    "duration": -7292,
    "start_time": "2021-08-13T12:13:17.056Z"
   },
   {
    "duration": -7304,
    "start_time": "2021-08-13T12:13:17.069Z"
   },
   {
    "duration": -7317,
    "start_time": "2021-08-13T12:13:17.083Z"
   },
   {
    "duration": -7331,
    "start_time": "2021-08-13T12:13:17.099Z"
   },
   {
    "duration": -7344,
    "start_time": "2021-08-13T12:13:17.113Z"
   },
   {
    "duration": -7358,
    "start_time": "2021-08-13T12:13:17.128Z"
   },
   {
    "duration": -7370,
    "start_time": "2021-08-13T12:13:17.141Z"
   },
   {
    "duration": -7381,
    "start_time": "2021-08-13T12:13:17.153Z"
   },
   {
    "duration": -7392,
    "start_time": "2021-08-13T12:13:17.165Z"
   },
   {
    "duration": -7405,
    "start_time": "2021-08-13T12:13:17.179Z"
   },
   {
    "duration": 280,
    "start_time": "2021-08-13T12:29:27.650Z"
   },
   {
    "duration": 1069,
    "start_time": "2021-08-13T12:29:33.085Z"
   },
   {
    "duration": 13,
    "start_time": "2021-08-13T14:55:11.707Z"
   },
   {
    "duration": 288,
    "start_time": "2021-08-13T14:55:26.064Z"
   },
   {
    "duration": 243,
    "start_time": "2021-08-13T14:55:32.193Z"
   },
   {
    "duration": 258,
    "start_time": "2021-08-13T14:55:44.595Z"
   },
   {
    "duration": 12,
    "start_time": "2021-08-13T14:55:51.619Z"
   },
   {
    "duration": 1474,
    "start_time": "2021-08-13T14:56:00.814Z"
   },
   {
    "duration": 264,
    "start_time": "2021-08-13T14:57:08.657Z"
   },
   {
    "duration": 7,
    "start_time": "2021-08-13T14:57:59.053Z"
   },
   {
    "duration": 269,
    "start_time": "2021-08-13T14:58:24.793Z"
   },
   {
    "duration": 261,
    "start_time": "2021-08-13T14:58:29.619Z"
   },
   {
    "duration": 267,
    "start_time": "2021-08-13T15:14:55.201Z"
   },
   {
    "duration": 13,
    "start_time": "2021-08-13T15:16:22.944Z"
   },
   {
    "duration": 12,
    "start_time": "2021-08-13T15:16:38.581Z"
   },
   {
    "duration": 16,
    "start_time": "2021-08-13T15:17:51.251Z"
   },
   {
    "duration": 17,
    "start_time": "2021-08-13T15:18:19.165Z"
   },
   {
    "duration": 4,
    "start_time": "2021-08-13T15:19:46.608Z"
   },
   {
    "duration": 16,
    "start_time": "2021-08-13T15:29:04.572Z"
   },
   {
    "duration": 668,
    "start_time": "2021-08-13T15:29:34.570Z"
   },
   {
    "duration": 972,
    "start_time": "2021-08-13T15:29:50.741Z"
   },
   {
    "duration": 16,
    "start_time": "2021-08-13T15:30:08.428Z"
   },
   {
    "duration": 1008,
    "start_time": "2021-08-13T15:30:26.257Z"
   },
   {
    "duration": 1221,
    "start_time": "2021-08-13T15:35:36.749Z"
   },
   {
    "duration": 18,
    "start_time": "2021-08-13T15:35:37.971Z"
   },
   {
    "duration": 16,
    "start_time": "2021-08-13T15:35:37.991Z"
   },
   {
    "duration": 8,
    "start_time": "2021-08-13T15:35:38.008Z"
   },
   {
    "duration": 37,
    "start_time": "2021-08-13T15:35:38.017Z"
   },
   {
    "duration": 207,
    "start_time": "2021-08-13T15:35:38.056Z"
   },
   {
    "duration": 25686,
    "start_time": "2021-08-13T15:35:38.265Z"
   },
   {
    "duration": 196,
    "start_time": "2021-08-13T15:36:03.954Z"
   },
   {
    "duration": 17,
    "start_time": "2021-08-13T15:36:04.152Z"
   },
   {
    "duration": 13,
    "start_time": "2021-08-13T15:36:04.171Z"
   },
   {
    "duration": 1006,
    "start_time": "2021-08-13T15:36:04.186Z"
   },
   {
    "duration": 10,
    "start_time": "2021-08-13T15:36:05.193Z"
   },
   {
    "duration": 262,
    "start_time": "2021-08-13T15:36:05.204Z"
   },
   {
    "duration": 38,
    "start_time": "2021-08-13T15:36:05.467Z"
   },
   {
    "duration": 23,
    "start_time": "2021-08-13T15:36:05.506Z"
   },
   {
    "duration": 14,
    "start_time": "2021-08-13T15:36:05.530Z"
   },
   {
    "duration": 265,
    "start_time": "2021-08-13T15:36:05.546Z"
   },
   {
    "duration": 2,
    "start_time": "2021-08-13T15:36:05.813Z"
   },
   {
    "duration": 29,
    "start_time": "2021-08-13T15:36:05.817Z"
   },
   {
    "duration": 258,
    "start_time": "2021-08-13T15:36:05.847Z"
   },
   {
    "duration": 349,
    "start_time": "2021-08-13T15:36:06.106Z"
   },
   {
    "duration": 558,
    "start_time": "2021-08-13T15:36:06.456Z"
   },
   {
    "duration": -8114,
    "start_time": "2021-08-13T15:36:15.131Z"
   },
   {
    "duration": -8156,
    "start_time": "2021-08-13T15:36:15.174Z"
   },
   {
    "duration": -8180,
    "start_time": "2021-08-13T15:36:15.199Z"
   },
   {
    "duration": -8206,
    "start_time": "2021-08-13T15:36:15.226Z"
   },
   {
    "duration": -8237,
    "start_time": "2021-08-13T15:36:15.258Z"
   },
   {
    "duration": -8259,
    "start_time": "2021-08-13T15:36:15.281Z"
   },
   {
    "duration": -8382,
    "start_time": "2021-08-13T15:36:15.406Z"
   },
   {
    "duration": -8414,
    "start_time": "2021-08-13T15:36:15.439Z"
   },
   {
    "duration": -8436,
    "start_time": "2021-08-13T15:36:15.461Z"
   },
   {
    "duration": -8467,
    "start_time": "2021-08-13T15:36:15.493Z"
   },
   {
    "duration": -8499,
    "start_time": "2021-08-13T15:36:15.526Z"
   },
   {
    "duration": -8550,
    "start_time": "2021-08-13T15:36:15.578Z"
   },
   {
    "duration": -8577,
    "start_time": "2021-08-13T15:36:15.606Z"
   },
   {
    "duration": -8596,
    "start_time": "2021-08-13T15:36:15.626Z"
   },
   {
    "duration": -8625,
    "start_time": "2021-08-13T15:36:15.656Z"
   },
   {
    "duration": -8645,
    "start_time": "2021-08-13T15:36:15.677Z"
   },
   {
    "duration": -8674,
    "start_time": "2021-08-13T15:36:15.707Z"
   },
   {
    "duration": -8706,
    "start_time": "2021-08-13T15:36:15.740Z"
   },
   {
    "duration": -8724,
    "start_time": "2021-08-13T15:36:15.759Z"
   },
   {
    "duration": -8756,
    "start_time": "2021-08-13T15:36:15.792Z"
   },
   {
    "duration": -8785,
    "start_time": "2021-08-13T15:36:15.823Z"
   },
   {
    "duration": -8807,
    "start_time": "2021-08-13T15:36:15.845Z"
   },
   {
    "duration": 10,
    "start_time": "2021-08-13T16:01:59.258Z"
   },
   {
    "duration": 85,
    "start_time": "2021-08-13T16:04:41.164Z"
   },
   {
    "duration": 85,
    "start_time": "2021-08-13T16:05:56.250Z"
   },
   {
    "duration": 102,
    "start_time": "2021-08-13T16:06:39.289Z"
   },
   {
    "duration": 256,
    "start_time": "2021-08-13T16:06:48.457Z"
   },
   {
    "duration": 355,
    "start_time": "2021-08-13T16:07:09.575Z"
   },
   {
    "duration": 250,
    "start_time": "2021-08-13T16:08:04.063Z"
   },
   {
    "duration": 302,
    "start_time": "2021-08-13T16:08:46.193Z"
   },
   {
    "duration": 93,
    "start_time": "2021-08-13T16:10:35.883Z"
   },
   {
    "duration": 83,
    "start_time": "2021-08-13T16:11:18.623Z"
   },
   {
    "duration": 2353,
    "start_time": "2021-08-13T16:12:21.412Z"
   },
   {
    "duration": 1028,
    "start_time": "2021-08-13T16:16:31.707Z"
   },
   {
    "duration": 155,
    "start_time": "2021-08-14T04:00:36.812Z"
   },
   {
    "duration": 9,
    "start_time": "2021-08-14T04:01:10.672Z"
   },
   {
    "duration": 120,
    "start_time": "2021-08-14T09:05:19.908Z"
   },
   {
    "duration": 82,
    "start_time": "2021-08-14T09:06:13.757Z"
   },
   {
    "duration": 4,
    "start_time": "2021-08-14T09:06:59.026Z"
   },
   {
    "duration": 96,
    "start_time": "2021-08-14T09:07:15.098Z"
   },
   {
    "duration": 4,
    "start_time": "2021-08-14T09:07:49.736Z"
   },
   {
    "duration": 82,
    "start_time": "2021-08-14T09:07:59.808Z"
   },
   {
    "duration": 266,
    "start_time": "2021-08-14T09:08:28.456Z"
   },
   {
    "duration": 1618,
    "start_time": "2021-08-14T09:08:46.174Z"
   },
   {
    "duration": 18,
    "start_time": "2021-08-14T09:08:47.794Z"
   },
   {
    "duration": 16,
    "start_time": "2021-08-14T09:08:47.813Z"
   },
   {
    "duration": 7,
    "start_time": "2021-08-14T09:08:47.831Z"
   },
   {
    "duration": 18,
    "start_time": "2021-08-14T09:08:47.840Z"
   },
   {
    "duration": 214,
    "start_time": "2021-08-14T09:08:47.859Z"
   },
   {
    "duration": 25639,
    "start_time": "2021-08-14T09:08:48.075Z"
   },
   {
    "duration": 182,
    "start_time": "2021-08-14T09:09:13.716Z"
   },
   {
    "duration": 17,
    "start_time": "2021-08-14T09:09:13.900Z"
   },
   {
    "duration": 14,
    "start_time": "2021-08-14T09:09:13.919Z"
   },
   {
    "duration": 1044,
    "start_time": "2021-08-14T09:09:13.935Z"
   },
   {
    "duration": 15,
    "start_time": "2021-08-14T09:09:14.981Z"
   },
   {
    "duration": 254,
    "start_time": "2021-08-14T09:09:14.998Z"
   },
   {
    "duration": 50,
    "start_time": "2021-08-14T09:09:15.254Z"
   },
   {
    "duration": 18,
    "start_time": "2021-08-14T09:09:15.306Z"
   },
   {
    "duration": 7,
    "start_time": "2021-08-14T09:09:15.325Z"
   },
   {
    "duration": 368,
    "start_time": "2021-08-14T09:09:15.334Z"
   },
   {
    "duration": 3,
    "start_time": "2021-08-14T09:09:15.704Z"
   },
   {
    "duration": 329,
    "start_time": "2021-08-14T09:09:15.709Z"
   },
   {
    "duration": -8795,
    "start_time": "2021-08-14T09:09:24.836Z"
   },
   {
    "duration": -8808,
    "start_time": "2021-08-14T09:09:24.850Z"
   },
   {
    "duration": -8817,
    "start_time": "2021-08-14T09:09:24.861Z"
   },
   {
    "duration": -8869,
    "start_time": "2021-08-14T09:09:24.914Z"
   },
   {
    "duration": -8880,
    "start_time": "2021-08-14T09:09:24.926Z"
   },
   {
    "duration": -8891,
    "start_time": "2021-08-14T09:09:24.939Z"
   },
   {
    "duration": -8903,
    "start_time": "2021-08-14T09:09:24.952Z"
   },
   {
    "duration": -8918,
    "start_time": "2021-08-14T09:09:24.968Z"
   },
   {
    "duration": -8934,
    "start_time": "2021-08-14T09:09:24.985Z"
   },
   {
    "duration": -8952,
    "start_time": "2021-08-14T09:09:25.005Z"
   },
   {
    "duration": -9013,
    "start_time": "2021-08-14T09:09:25.067Z"
   },
   {
    "duration": -9048,
    "start_time": "2021-08-14T09:09:25.103Z"
   },
   {
    "duration": -9072,
    "start_time": "2021-08-14T09:09:25.128Z"
   },
   {
    "duration": -9109,
    "start_time": "2021-08-14T09:09:25.167Z"
   },
   {
    "duration": -9172,
    "start_time": "2021-08-14T09:09:25.231Z"
   },
   {
    "duration": -9196,
    "start_time": "2021-08-14T09:09:25.256Z"
   },
   {
    "duration": -9214,
    "start_time": "2021-08-14T09:09:25.275Z"
   },
   {
    "duration": -9228,
    "start_time": "2021-08-14T09:09:25.291Z"
   },
   {
    "duration": -9238,
    "start_time": "2021-08-14T09:09:25.302Z"
   },
   {
    "duration": -9264,
    "start_time": "2021-08-14T09:09:25.329Z"
   },
   {
    "duration": -9274,
    "start_time": "2021-08-14T09:09:25.340Z"
   },
   {
    "duration": -9284,
    "start_time": "2021-08-14T09:09:25.352Z"
   },
   {
    "duration": -9295,
    "start_time": "2021-08-14T09:09:25.364Z"
   },
   {
    "duration": -9314,
    "start_time": "2021-08-14T09:09:25.384Z"
   },
   {
    "duration": -9330,
    "start_time": "2021-08-14T09:09:25.401Z"
   },
   {
    "duration": -9344,
    "start_time": "2021-08-14T09:09:25.417Z"
   },
   {
    "duration": 94,
    "start_time": "2021-08-14T09:10:22.160Z"
   },
   {
    "duration": 77,
    "start_time": "2021-08-14T09:11:08.200Z"
   },
   {
    "duration": 7,
    "start_time": "2021-08-14T09:11:20.519Z"
   },
   {
    "duration": 17,
    "start_time": "2021-08-14T16:50:17.949Z"
   },
   {
    "duration": 103,
    "start_time": "2021-08-14T16:52:25.932Z"
   },
   {
    "duration": 108,
    "start_time": "2021-08-14T16:52:55.707Z"
   },
   {
    "duration": 9,
    "start_time": "2021-08-14T16:53:03.721Z"
   },
   {
    "duration": 91,
    "start_time": "2021-08-14T16:53:45.288Z"
   },
   {
    "duration": 75,
    "start_time": "2021-08-14T16:53:59.123Z"
   },
   {
    "duration": 76,
    "start_time": "2021-08-14T16:54:05.267Z"
   },
   {
    "duration": 13,
    "start_time": "2021-08-14T16:54:43.110Z"
   },
   {
    "duration": 110,
    "start_time": "2021-08-14T16:54:49.217Z"
   },
   {
    "duration": 427,
    "start_time": "2021-08-15T22:02:45.900Z"
   },
   {
    "duration": 1638,
    "start_time": "2021-08-15T22:07:54.213Z"
   },
   {
    "duration": 29,
    "start_time": "2021-08-15T22:07:55.854Z"
   },
   {
    "duration": 35,
    "start_time": "2021-08-15T22:07:55.886Z"
   },
   {
    "duration": 11,
    "start_time": "2021-08-15T22:07:55.924Z"
   },
   {
    "duration": 24,
    "start_time": "2021-08-15T22:07:55.937Z"
   },
   {
    "duration": 401,
    "start_time": "2021-08-15T22:07:55.963Z"
   },
   {
    "duration": 44821,
    "start_time": "2021-08-15T22:07:56.367Z"
   },
   {
    "duration": 326,
    "start_time": "2021-08-15T22:08:41.192Z"
   },
   {
    "duration": 28,
    "start_time": "2021-08-15T22:08:41.521Z"
   },
   {
    "duration": 23,
    "start_time": "2021-08-15T22:08:41.552Z"
   },
   {
    "duration": 1604,
    "start_time": "2021-08-15T22:08:41.601Z"
   },
   {
    "duration": 16,
    "start_time": "2021-08-15T22:08:43.208Z"
   },
   {
    "duration": 474,
    "start_time": "2021-08-15T22:08:43.226Z"
   },
   {
    "duration": 64,
    "start_time": "2021-08-15T22:08:43.703Z"
   },
   {
    "duration": 48,
    "start_time": "2021-08-15T22:08:43.769Z"
   },
   {
    "duration": 10,
    "start_time": "2021-08-15T22:08:43.819Z"
   },
   {
    "duration": 469,
    "start_time": "2021-08-15T22:08:43.831Z"
   },
   {
    "duration": 3,
    "start_time": "2021-08-15T22:08:44.303Z"
   },
   {
    "duration": 269,
    "start_time": "2021-08-15T22:08:44.308Z"
   },
   {
    "duration": 276,
    "start_time": "2021-08-15T22:08:44.579Z"
   },
   {
    "duration": 450,
    "start_time": "2021-08-15T22:08:44.858Z"
   },
   {
    "duration": 281,
    "start_time": "2021-08-15T22:08:45.310Z"
   },
   {
    "duration": 347,
    "start_time": "2021-08-15T22:08:45.596Z"
   },
   {
    "duration": 258,
    "start_time": "2021-08-15T22:08:45.945Z"
   },
   {
    "duration": 392,
    "start_time": "2021-08-15T22:08:46.205Z"
   },
   {
    "duration": 228,
    "start_time": "2021-08-15T22:08:46.599Z"
   },
   {
    "duration": 311,
    "start_time": "2021-08-15T22:08:46.830Z"
   },
   {
    "duration": 301,
    "start_time": "2021-08-15T22:08:47.143Z"
   },
   {
    "duration": 11,
    "start_time": "2021-08-15T22:08:47.446Z"
   },
   {
    "duration": 376,
    "start_time": "2021-08-15T22:08:47.460Z"
   },
   {
    "duration": 369,
    "start_time": "2021-08-15T22:08:47.838Z"
   },
   {
    "duration": 368,
    "start_time": "2021-08-15T22:08:48.210Z"
   },
   {
    "duration": 296,
    "start_time": "2021-08-15T22:08:48.580Z"
   },
   {
    "duration": 301,
    "start_time": "2021-08-15T22:08:48.878Z"
   },
   {
    "duration": 397,
    "start_time": "2021-08-15T22:08:49.182Z"
   },
   {
    "duration": 297,
    "start_time": "2021-08-15T22:08:49.581Z"
   },
   {
    "duration": 345,
    "start_time": "2021-08-15T22:08:49.881Z"
   },
   {
    "duration": 232,
    "start_time": "2021-08-15T22:08:50.228Z"
   },
   {
    "duration": 338,
    "start_time": "2021-08-15T22:08:50.462Z"
   },
   {
    "duration": 37,
    "start_time": "2021-08-15T22:08:50.803Z"
   },
   {
    "duration": 2040,
    "start_time": "2021-08-15T22:08:50.843Z"
   },
   {
    "duration": 822,
    "start_time": "2021-08-15T22:08:52.886Z"
   },
   {
    "duration": 11,
    "start_time": "2021-08-15T22:08:53.710Z"
   }
  ],
  "kernelspec": {
   "display_name": "Python 3",
   "language": "python",
   "name": "python3"
  },
  "language_info": {
   "codemirror_mode": {
    "name": "ipython",
    "version": 3
   },
   "file_extension": ".py",
   "mimetype": "text/x-python",
   "name": "python",
   "nbconvert_exporter": "python",
   "pygments_lexer": "ipython3",
   "version": "3.8.8"
  },
  "toc": {
   "base_numbering": 1,
   "nav_menu": {},
   "number_sections": true,
   "sideBar": true,
   "skip_h1_title": true,
   "title_cell": "Table of Contents",
   "title_sidebar": "Contents",
   "toc_cell": false,
   "toc_position": {},
   "toc_section_display": true,
   "toc_window_display": false
  }
 },
 "nbformat": 4,
 "nbformat_minor": 2
}
