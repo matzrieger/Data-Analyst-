{
 "cells": [
  {
   "cell_type": "markdown",
   "metadata": {},
   "source": [
    "Предстоит сделать предварительный анализ тарифов на небольшой выборке клиентов. В распоряжении данные 500 пользователей «Мегалайна»: кто они, откуда, каким тарифом пользуются, сколько звонков и сообщений каждый отправил за 2018 год. Нужно проанализировать поведение клиентов и сделать вывод — какой тариф лучше "
   ]
  },
  {
   "cell_type": "markdown",
   "metadata": {},
   "source": [
    "    \n",
    "*План работы:*\n",
    "\n",
    "1) Изучение общей информации\n",
    "\n",
    "2) Подготовка пользовательских данных\n",
    "\n",
    "3) Анализ и описание данных\n",
    "\n",
    "4) Проверка гипотез и пояснения\n",
    "\n",
    "5) Общий вывод"
   ]
  },
  {
   "cell_type": "markdown",
   "metadata": {},
   "source": [
    "## Изучение общей информации"
   ]
  },
  {
   "cell_type": "markdown",
   "metadata": {},
   "source": [
    "*Импортируем pandas и прочем датасеты*"
   ]
  },
  {
   "cell_type": "code",
   "execution_count": 1,
   "metadata": {},
   "outputs": [
    {
     "data": {
      "text/html": [
       "<div>\n",
       "<style scoped>\n",
       "    .dataframe tbody tr th:only-of-type {\n",
       "        vertical-align: middle;\n",
       "    }\n",
       "\n",
       "    .dataframe tbody tr th {\n",
       "        vertical-align: top;\n",
       "    }\n",
       "\n",
       "    .dataframe thead th {\n",
       "        text-align: right;\n",
       "    }\n",
       "</style>\n",
       "<table border=\"1\" class=\"dataframe\">\n",
       "  <thead>\n",
       "    <tr style=\"text-align: right;\">\n",
       "      <th></th>\n",
       "      <th>id</th>\n",
       "      <th>call_date</th>\n",
       "      <th>duration</th>\n",
       "      <th>user_id</th>\n",
       "    </tr>\n",
       "  </thead>\n",
       "  <tbody>\n",
       "    <tr>\n",
       "      <td>0</td>\n",
       "      <td>1000_0</td>\n",
       "      <td>2018-07-25</td>\n",
       "      <td>0.00</td>\n",
       "      <td>1000</td>\n",
       "    </tr>\n",
       "    <tr>\n",
       "      <td>1</td>\n",
       "      <td>1000_1</td>\n",
       "      <td>2018-08-17</td>\n",
       "      <td>0.00</td>\n",
       "      <td>1000</td>\n",
       "    </tr>\n",
       "    <tr>\n",
       "      <td>2</td>\n",
       "      <td>1000_2</td>\n",
       "      <td>2018-06-11</td>\n",
       "      <td>2.85</td>\n",
       "      <td>1000</td>\n",
       "    </tr>\n",
       "    <tr>\n",
       "      <td>3</td>\n",
       "      <td>1000_3</td>\n",
       "      <td>2018-09-21</td>\n",
       "      <td>13.80</td>\n",
       "      <td>1000</td>\n",
       "    </tr>\n",
       "    <tr>\n",
       "      <td>4</td>\n",
       "      <td>1000_4</td>\n",
       "      <td>2018-12-15</td>\n",
       "      <td>5.18</td>\n",
       "      <td>1000</td>\n",
       "    </tr>\n",
       "    <tr>\n",
       "      <td>...</td>\n",
       "      <td>...</td>\n",
       "      <td>...</td>\n",
       "      <td>...</td>\n",
       "      <td>...</td>\n",
       "    </tr>\n",
       "    <tr>\n",
       "      <td>202602</td>\n",
       "      <td>1499_215</td>\n",
       "      <td>2018-12-26</td>\n",
       "      <td>0.76</td>\n",
       "      <td>1499</td>\n",
       "    </tr>\n",
       "    <tr>\n",
       "      <td>202603</td>\n",
       "      <td>1499_216</td>\n",
       "      <td>2018-10-18</td>\n",
       "      <td>18.83</td>\n",
       "      <td>1499</td>\n",
       "    </tr>\n",
       "    <tr>\n",
       "      <td>202604</td>\n",
       "      <td>1499_217</td>\n",
       "      <td>2018-11-10</td>\n",
       "      <td>10.81</td>\n",
       "      <td>1499</td>\n",
       "    </tr>\n",
       "    <tr>\n",
       "      <td>202605</td>\n",
       "      <td>1499_218</td>\n",
       "      <td>2018-10-06</td>\n",
       "      <td>4.27</td>\n",
       "      <td>1499</td>\n",
       "    </tr>\n",
       "    <tr>\n",
       "      <td>202606</td>\n",
       "      <td>1499_219</td>\n",
       "      <td>2018-12-14</td>\n",
       "      <td>19.62</td>\n",
       "      <td>1499</td>\n",
       "    </tr>\n",
       "  </tbody>\n",
       "</table>\n",
       "<p>202607 rows × 4 columns</p>\n",
       "</div>"
      ],
      "text/plain": [
       "              id   call_date  duration  user_id\n",
       "0         1000_0  2018-07-25      0.00     1000\n",
       "1         1000_1  2018-08-17      0.00     1000\n",
       "2         1000_2  2018-06-11      2.85     1000\n",
       "3         1000_3  2018-09-21     13.80     1000\n",
       "4         1000_4  2018-12-15      5.18     1000\n",
       "...          ...         ...       ...      ...\n",
       "202602  1499_215  2018-12-26      0.76     1499\n",
       "202603  1499_216  2018-10-18     18.83     1499\n",
       "202604  1499_217  2018-11-10     10.81     1499\n",
       "202605  1499_218  2018-10-06      4.27     1499\n",
       "202606  1499_219  2018-12-14     19.62     1499\n",
       "\n",
       "[202607 rows x 4 columns]"
      ]
     },
     "execution_count": 1,
     "metadata": {},
     "output_type": "execute_result"
    }
   ],
   "source": [
    "import pandas as pd\n",
    "calls = pd.read_csv('/datasets/calls.csv')\n",
    "calls"
   ]
  },
  {
   "cell_type": "code",
   "execution_count": 2,
   "metadata": {},
   "outputs": [
    {
     "data": {
      "text/html": [
       "<div>\n",
       "<style scoped>\n",
       "    .dataframe tbody tr th:only-of-type {\n",
       "        vertical-align: middle;\n",
       "    }\n",
       "\n",
       "    .dataframe tbody tr th {\n",
       "        vertical-align: top;\n",
       "    }\n",
       "\n",
       "    .dataframe thead th {\n",
       "        text-align: right;\n",
       "    }\n",
       "</style>\n",
       "<table border=\"1\" class=\"dataframe\">\n",
       "  <thead>\n",
       "    <tr style=\"text-align: right;\">\n",
       "      <th></th>\n",
       "      <th>Unnamed: 0</th>\n",
       "      <th>id</th>\n",
       "      <th>mb_used</th>\n",
       "      <th>session_date</th>\n",
       "      <th>user_id</th>\n",
       "    </tr>\n",
       "  </thead>\n",
       "  <tbody>\n",
       "    <tr>\n",
       "      <td>0</td>\n",
       "      <td>0</td>\n",
       "      <td>1000_0</td>\n",
       "      <td>112.95</td>\n",
       "      <td>2018-11-25</td>\n",
       "      <td>1000</td>\n",
       "    </tr>\n",
       "    <tr>\n",
       "      <td>1</td>\n",
       "      <td>1</td>\n",
       "      <td>1000_1</td>\n",
       "      <td>1052.81</td>\n",
       "      <td>2018-09-07</td>\n",
       "      <td>1000</td>\n",
       "    </tr>\n",
       "    <tr>\n",
       "      <td>2</td>\n",
       "      <td>2</td>\n",
       "      <td>1000_2</td>\n",
       "      <td>1197.26</td>\n",
       "      <td>2018-06-25</td>\n",
       "      <td>1000</td>\n",
       "    </tr>\n",
       "    <tr>\n",
       "      <td>3</td>\n",
       "      <td>3</td>\n",
       "      <td>1000_3</td>\n",
       "      <td>550.27</td>\n",
       "      <td>2018-08-22</td>\n",
       "      <td>1000</td>\n",
       "    </tr>\n",
       "    <tr>\n",
       "      <td>4</td>\n",
       "      <td>4</td>\n",
       "      <td>1000_4</td>\n",
       "      <td>302.56</td>\n",
       "      <td>2018-09-24</td>\n",
       "      <td>1000</td>\n",
       "    </tr>\n",
       "    <tr>\n",
       "      <td>...</td>\n",
       "      <td>...</td>\n",
       "      <td>...</td>\n",
       "      <td>...</td>\n",
       "      <td>...</td>\n",
       "      <td>...</td>\n",
       "    </tr>\n",
       "    <tr>\n",
       "      <td>149391</td>\n",
       "      <td>149391</td>\n",
       "      <td>1499_152</td>\n",
       "      <td>318.90</td>\n",
       "      <td>2018-10-03</td>\n",
       "      <td>1499</td>\n",
       "    </tr>\n",
       "    <tr>\n",
       "      <td>149392</td>\n",
       "      <td>149392</td>\n",
       "      <td>1499_153</td>\n",
       "      <td>490.13</td>\n",
       "      <td>2018-12-14</td>\n",
       "      <td>1499</td>\n",
       "    </tr>\n",
       "    <tr>\n",
       "      <td>149393</td>\n",
       "      <td>149393</td>\n",
       "      <td>1499_154</td>\n",
       "      <td>0.00</td>\n",
       "      <td>2018-10-27</td>\n",
       "      <td>1499</td>\n",
       "    </tr>\n",
       "    <tr>\n",
       "      <td>149394</td>\n",
       "      <td>149394</td>\n",
       "      <td>1499_155</td>\n",
       "      <td>1246.32</td>\n",
       "      <td>2018-11-26</td>\n",
       "      <td>1499</td>\n",
       "    </tr>\n",
       "    <tr>\n",
       "      <td>149395</td>\n",
       "      <td>149395</td>\n",
       "      <td>1499_156</td>\n",
       "      <td>544.37</td>\n",
       "      <td>2018-10-26</td>\n",
       "      <td>1499</td>\n",
       "    </tr>\n",
       "  </tbody>\n",
       "</table>\n",
       "<p>149396 rows × 5 columns</p>\n",
       "</div>"
      ],
      "text/plain": [
       "        Unnamed: 0        id  mb_used session_date  user_id\n",
       "0                0    1000_0   112.95   2018-11-25     1000\n",
       "1                1    1000_1  1052.81   2018-09-07     1000\n",
       "2                2    1000_2  1197.26   2018-06-25     1000\n",
       "3                3    1000_3   550.27   2018-08-22     1000\n",
       "4                4    1000_4   302.56   2018-09-24     1000\n",
       "...            ...       ...      ...          ...      ...\n",
       "149391      149391  1499_152   318.90   2018-10-03     1499\n",
       "149392      149392  1499_153   490.13   2018-12-14     1499\n",
       "149393      149393  1499_154     0.00   2018-10-27     1499\n",
       "149394      149394  1499_155  1246.32   2018-11-26     1499\n",
       "149395      149395  1499_156   544.37   2018-10-26     1499\n",
       "\n",
       "[149396 rows x 5 columns]"
      ]
     },
     "execution_count": 2,
     "metadata": {},
     "output_type": "execute_result"
    }
   ],
   "source": [
    "internet = pd.read_csv('/datasets/internet.csv')\n",
    "internet"
   ]
  },
  {
   "cell_type": "markdown",
   "metadata": {},
   "source": [
    "*Удалим столбец Unnamed: 0, так как он дублирует индексы*"
   ]
  },
  {
   "cell_type": "code",
   "execution_count": 3,
   "metadata": {},
   "outputs": [
    {
     "data": {
      "text/html": [
       "<div>\n",
       "<style scoped>\n",
       "    .dataframe tbody tr th:only-of-type {\n",
       "        vertical-align: middle;\n",
       "    }\n",
       "\n",
       "    .dataframe tbody tr th {\n",
       "        vertical-align: top;\n",
       "    }\n",
       "\n",
       "    .dataframe thead th {\n",
       "        text-align: right;\n",
       "    }\n",
       "</style>\n",
       "<table border=\"1\" class=\"dataframe\">\n",
       "  <thead>\n",
       "    <tr style=\"text-align: right;\">\n",
       "      <th></th>\n",
       "      <th>id</th>\n",
       "      <th>mb_used</th>\n",
       "      <th>session_date</th>\n",
       "      <th>user_id</th>\n",
       "    </tr>\n",
       "  </thead>\n",
       "  <tbody>\n",
       "    <tr>\n",
       "      <td>0</td>\n",
       "      <td>1000_0</td>\n",
       "      <td>112.95</td>\n",
       "      <td>2018-11-25</td>\n",
       "      <td>1000</td>\n",
       "    </tr>\n",
       "    <tr>\n",
       "      <td>1</td>\n",
       "      <td>1000_1</td>\n",
       "      <td>1052.81</td>\n",
       "      <td>2018-09-07</td>\n",
       "      <td>1000</td>\n",
       "    </tr>\n",
       "    <tr>\n",
       "      <td>2</td>\n",
       "      <td>1000_2</td>\n",
       "      <td>1197.26</td>\n",
       "      <td>2018-06-25</td>\n",
       "      <td>1000</td>\n",
       "    </tr>\n",
       "    <tr>\n",
       "      <td>3</td>\n",
       "      <td>1000_3</td>\n",
       "      <td>550.27</td>\n",
       "      <td>2018-08-22</td>\n",
       "      <td>1000</td>\n",
       "    </tr>\n",
       "    <tr>\n",
       "      <td>4</td>\n",
       "      <td>1000_4</td>\n",
       "      <td>302.56</td>\n",
       "      <td>2018-09-24</td>\n",
       "      <td>1000</td>\n",
       "    </tr>\n",
       "    <tr>\n",
       "      <td>...</td>\n",
       "      <td>...</td>\n",
       "      <td>...</td>\n",
       "      <td>...</td>\n",
       "      <td>...</td>\n",
       "    </tr>\n",
       "    <tr>\n",
       "      <td>149391</td>\n",
       "      <td>1499_152</td>\n",
       "      <td>318.90</td>\n",
       "      <td>2018-10-03</td>\n",
       "      <td>1499</td>\n",
       "    </tr>\n",
       "    <tr>\n",
       "      <td>149392</td>\n",
       "      <td>1499_153</td>\n",
       "      <td>490.13</td>\n",
       "      <td>2018-12-14</td>\n",
       "      <td>1499</td>\n",
       "    </tr>\n",
       "    <tr>\n",
       "      <td>149393</td>\n",
       "      <td>1499_154</td>\n",
       "      <td>0.00</td>\n",
       "      <td>2018-10-27</td>\n",
       "      <td>1499</td>\n",
       "    </tr>\n",
       "    <tr>\n",
       "      <td>149394</td>\n",
       "      <td>1499_155</td>\n",
       "      <td>1246.32</td>\n",
       "      <td>2018-11-26</td>\n",
       "      <td>1499</td>\n",
       "    </tr>\n",
       "    <tr>\n",
       "      <td>149395</td>\n",
       "      <td>1499_156</td>\n",
       "      <td>544.37</td>\n",
       "      <td>2018-10-26</td>\n",
       "      <td>1499</td>\n",
       "    </tr>\n",
       "  </tbody>\n",
       "</table>\n",
       "<p>149396 rows × 4 columns</p>\n",
       "</div>"
      ],
      "text/plain": [
       "              id  mb_used session_date  user_id\n",
       "0         1000_0   112.95   2018-11-25     1000\n",
       "1         1000_1  1052.81   2018-09-07     1000\n",
       "2         1000_2  1197.26   2018-06-25     1000\n",
       "3         1000_3   550.27   2018-08-22     1000\n",
       "4         1000_4   302.56   2018-09-24     1000\n",
       "...          ...      ...          ...      ...\n",
       "149391  1499_152   318.90   2018-10-03     1499\n",
       "149392  1499_153   490.13   2018-12-14     1499\n",
       "149393  1499_154     0.00   2018-10-27     1499\n",
       "149394  1499_155  1246.32   2018-11-26     1499\n",
       "149395  1499_156   544.37   2018-10-26     1499\n",
       "\n",
       "[149396 rows x 4 columns]"
      ]
     },
     "execution_count": 3,
     "metadata": {},
     "output_type": "execute_result"
    }
   ],
   "source": [
    "internet.drop(internet.columns[0], axis=1, inplace=True)\n",
    "internet"
   ]
  },
  {
   "cell_type": "code",
   "execution_count": 4,
   "metadata": {},
   "outputs": [
    {
     "data": {
      "text/html": [
       "<div>\n",
       "<style scoped>\n",
       "    .dataframe tbody tr th:only-of-type {\n",
       "        vertical-align: middle;\n",
       "    }\n",
       "\n",
       "    .dataframe tbody tr th {\n",
       "        vertical-align: top;\n",
       "    }\n",
       "\n",
       "    .dataframe thead th {\n",
       "        text-align: right;\n",
       "    }\n",
       "</style>\n",
       "<table border=\"1\" class=\"dataframe\">\n",
       "  <thead>\n",
       "    <tr style=\"text-align: right;\">\n",
       "      <th></th>\n",
       "      <th>id</th>\n",
       "      <th>message_date</th>\n",
       "      <th>user_id</th>\n",
       "    </tr>\n",
       "  </thead>\n",
       "  <tbody>\n",
       "    <tr>\n",
       "      <td>0</td>\n",
       "      <td>1000_0</td>\n",
       "      <td>2018-06-27</td>\n",
       "      <td>1000</td>\n",
       "    </tr>\n",
       "    <tr>\n",
       "      <td>1</td>\n",
       "      <td>1000_1</td>\n",
       "      <td>2018-10-08</td>\n",
       "      <td>1000</td>\n",
       "    </tr>\n",
       "    <tr>\n",
       "      <td>2</td>\n",
       "      <td>1000_2</td>\n",
       "      <td>2018-08-04</td>\n",
       "      <td>1000</td>\n",
       "    </tr>\n",
       "    <tr>\n",
       "      <td>3</td>\n",
       "      <td>1000_3</td>\n",
       "      <td>2018-06-16</td>\n",
       "      <td>1000</td>\n",
       "    </tr>\n",
       "    <tr>\n",
       "      <td>4</td>\n",
       "      <td>1000_4</td>\n",
       "      <td>2018-12-05</td>\n",
       "      <td>1000</td>\n",
       "    </tr>\n",
       "    <tr>\n",
       "      <td>...</td>\n",
       "      <td>...</td>\n",
       "      <td>...</td>\n",
       "      <td>...</td>\n",
       "    </tr>\n",
       "    <tr>\n",
       "      <td>123031</td>\n",
       "      <td>1499_179</td>\n",
       "      <td>2018-12-12</td>\n",
       "      <td>1499</td>\n",
       "    </tr>\n",
       "    <tr>\n",
       "      <td>123032</td>\n",
       "      <td>1499_180</td>\n",
       "      <td>2018-09-28</td>\n",
       "      <td>1499</td>\n",
       "    </tr>\n",
       "    <tr>\n",
       "      <td>123033</td>\n",
       "      <td>1499_181</td>\n",
       "      <td>2018-09-27</td>\n",
       "      <td>1499</td>\n",
       "    </tr>\n",
       "    <tr>\n",
       "      <td>123034</td>\n",
       "      <td>1499_182</td>\n",
       "      <td>2018-11-15</td>\n",
       "      <td>1499</td>\n",
       "    </tr>\n",
       "    <tr>\n",
       "      <td>123035</td>\n",
       "      <td>1499_183</td>\n",
       "      <td>2018-11-16</td>\n",
       "      <td>1499</td>\n",
       "    </tr>\n",
       "  </tbody>\n",
       "</table>\n",
       "<p>123036 rows × 3 columns</p>\n",
       "</div>"
      ],
      "text/plain": [
       "              id message_date  user_id\n",
       "0         1000_0   2018-06-27     1000\n",
       "1         1000_1   2018-10-08     1000\n",
       "2         1000_2   2018-08-04     1000\n",
       "3         1000_3   2018-06-16     1000\n",
       "4         1000_4   2018-12-05     1000\n",
       "...          ...          ...      ...\n",
       "123031  1499_179   2018-12-12     1499\n",
       "123032  1499_180   2018-09-28     1499\n",
       "123033  1499_181   2018-09-27     1499\n",
       "123034  1499_182   2018-11-15     1499\n",
       "123035  1499_183   2018-11-16     1499\n",
       "\n",
       "[123036 rows x 3 columns]"
      ]
     },
     "execution_count": 4,
     "metadata": {},
     "output_type": "execute_result"
    }
   ],
   "source": [
    "messages = pd.read_csv('/datasets/messages.csv')\n",
    "messages"
   ]
  },
  {
   "cell_type": "code",
   "execution_count": 5,
   "metadata": {},
   "outputs": [
    {
     "data": {
      "text/html": [
       "<div>\n",
       "<style scoped>\n",
       "    .dataframe tbody tr th:only-of-type {\n",
       "        vertical-align: middle;\n",
       "    }\n",
       "\n",
       "    .dataframe tbody tr th {\n",
       "        vertical-align: top;\n",
       "    }\n",
       "\n",
       "    .dataframe thead th {\n",
       "        text-align: right;\n",
       "    }\n",
       "</style>\n",
       "<table border=\"1\" class=\"dataframe\">\n",
       "  <thead>\n",
       "    <tr style=\"text-align: right;\">\n",
       "      <th></th>\n",
       "      <th>messages_included</th>\n",
       "      <th>mb_per_month_included</th>\n",
       "      <th>minutes_included</th>\n",
       "      <th>rub_monthly_fee</th>\n",
       "      <th>rub_per_gb</th>\n",
       "      <th>rub_per_message</th>\n",
       "      <th>rub_per_minute</th>\n",
       "      <th>tariff_name</th>\n",
       "    </tr>\n",
       "  </thead>\n",
       "  <tbody>\n",
       "    <tr>\n",
       "      <td>0</td>\n",
       "      <td>50</td>\n",
       "      <td>15360</td>\n",
       "      <td>500</td>\n",
       "      <td>550</td>\n",
       "      <td>200</td>\n",
       "      <td>3</td>\n",
       "      <td>3</td>\n",
       "      <td>smart</td>\n",
       "    </tr>\n",
       "    <tr>\n",
       "      <td>1</td>\n",
       "      <td>1000</td>\n",
       "      <td>30720</td>\n",
       "      <td>3000</td>\n",
       "      <td>1950</td>\n",
       "      <td>150</td>\n",
       "      <td>1</td>\n",
       "      <td>1</td>\n",
       "      <td>ultra</td>\n",
       "    </tr>\n",
       "  </tbody>\n",
       "</table>\n",
       "</div>"
      ],
      "text/plain": [
       "   messages_included  mb_per_month_included  minutes_included  \\\n",
       "0                 50                  15360               500   \n",
       "1               1000                  30720              3000   \n",
       "\n",
       "   rub_monthly_fee  rub_per_gb  rub_per_message  rub_per_minute tariff_name  \n",
       "0              550         200                3               3       smart  \n",
       "1             1950         150                1               1       ultra  "
      ]
     },
     "execution_count": 5,
     "metadata": {},
     "output_type": "execute_result"
    }
   ],
   "source": [
    "tariffs = pd.read_csv('/datasets/tariffs.csv')\n",
    "tariffs"
   ]
  },
  {
   "cell_type": "code",
   "execution_count": 6,
   "metadata": {},
   "outputs": [
    {
     "data": {
      "text/html": [
       "<div>\n",
       "<style scoped>\n",
       "    .dataframe tbody tr th:only-of-type {\n",
       "        vertical-align: middle;\n",
       "    }\n",
       "\n",
       "    .dataframe tbody tr th {\n",
       "        vertical-align: top;\n",
       "    }\n",
       "\n",
       "    .dataframe thead th {\n",
       "        text-align: right;\n",
       "    }\n",
       "</style>\n",
       "<table border=\"1\" class=\"dataframe\">\n",
       "  <thead>\n",
       "    <tr style=\"text-align: right;\">\n",
       "      <th></th>\n",
       "      <th>user_id</th>\n",
       "      <th>age</th>\n",
       "      <th>churn_date</th>\n",
       "      <th>city</th>\n",
       "      <th>first_name</th>\n",
       "      <th>last_name</th>\n",
       "      <th>reg_date</th>\n",
       "      <th>tariff</th>\n",
       "    </tr>\n",
       "  </thead>\n",
       "  <tbody>\n",
       "    <tr>\n",
       "      <td>0</td>\n",
       "      <td>1000</td>\n",
       "      <td>52</td>\n",
       "      <td>NaN</td>\n",
       "      <td>Краснодар</td>\n",
       "      <td>Рафаил</td>\n",
       "      <td>Верещагин</td>\n",
       "      <td>2018-05-25</td>\n",
       "      <td>ultra</td>\n",
       "    </tr>\n",
       "    <tr>\n",
       "      <td>1</td>\n",
       "      <td>1001</td>\n",
       "      <td>41</td>\n",
       "      <td>NaN</td>\n",
       "      <td>Москва</td>\n",
       "      <td>Иван</td>\n",
       "      <td>Ежов</td>\n",
       "      <td>2018-11-01</td>\n",
       "      <td>smart</td>\n",
       "    </tr>\n",
       "    <tr>\n",
       "      <td>2</td>\n",
       "      <td>1002</td>\n",
       "      <td>59</td>\n",
       "      <td>NaN</td>\n",
       "      <td>Стерлитамак</td>\n",
       "      <td>Евгений</td>\n",
       "      <td>Абрамович</td>\n",
       "      <td>2018-06-17</td>\n",
       "      <td>smart</td>\n",
       "    </tr>\n",
       "    <tr>\n",
       "      <td>3</td>\n",
       "      <td>1003</td>\n",
       "      <td>23</td>\n",
       "      <td>NaN</td>\n",
       "      <td>Москва</td>\n",
       "      <td>Белла</td>\n",
       "      <td>Белякова</td>\n",
       "      <td>2018-08-17</td>\n",
       "      <td>ultra</td>\n",
       "    </tr>\n",
       "    <tr>\n",
       "      <td>4</td>\n",
       "      <td>1004</td>\n",
       "      <td>68</td>\n",
       "      <td>NaN</td>\n",
       "      <td>Новокузнецк</td>\n",
       "      <td>Татьяна</td>\n",
       "      <td>Авдеенко</td>\n",
       "      <td>2018-05-14</td>\n",
       "      <td>ultra</td>\n",
       "    </tr>\n",
       "    <tr>\n",
       "      <td>...</td>\n",
       "      <td>...</td>\n",
       "      <td>...</td>\n",
       "      <td>...</td>\n",
       "      <td>...</td>\n",
       "      <td>...</td>\n",
       "      <td>...</td>\n",
       "      <td>...</td>\n",
       "      <td>...</td>\n",
       "    </tr>\n",
       "    <tr>\n",
       "      <td>495</td>\n",
       "      <td>1495</td>\n",
       "      <td>65</td>\n",
       "      <td>NaN</td>\n",
       "      <td>Иркутск</td>\n",
       "      <td>Авксентий</td>\n",
       "      <td>Фокин</td>\n",
       "      <td>2018-08-28</td>\n",
       "      <td>ultra</td>\n",
       "    </tr>\n",
       "    <tr>\n",
       "      <td>496</td>\n",
       "      <td>1496</td>\n",
       "      <td>36</td>\n",
       "      <td>NaN</td>\n",
       "      <td>Вологда</td>\n",
       "      <td>Трифон</td>\n",
       "      <td>Блохин</td>\n",
       "      <td>2018-01-27</td>\n",
       "      <td>smart</td>\n",
       "    </tr>\n",
       "    <tr>\n",
       "      <td>497</td>\n",
       "      <td>1497</td>\n",
       "      <td>32</td>\n",
       "      <td>NaN</td>\n",
       "      <td>Челябинск</td>\n",
       "      <td>Каролина</td>\n",
       "      <td>Агеева</td>\n",
       "      <td>2018-10-09</td>\n",
       "      <td>smart</td>\n",
       "    </tr>\n",
       "    <tr>\n",
       "      <td>498</td>\n",
       "      <td>1498</td>\n",
       "      <td>68</td>\n",
       "      <td>2018-10-25</td>\n",
       "      <td>Владикавказ</td>\n",
       "      <td>Всеволод</td>\n",
       "      <td>Акимчин</td>\n",
       "      <td>2018-07-19</td>\n",
       "      <td>smart</td>\n",
       "    </tr>\n",
       "    <tr>\n",
       "      <td>499</td>\n",
       "      <td>1499</td>\n",
       "      <td>35</td>\n",
       "      <td>NaN</td>\n",
       "      <td>Пермь</td>\n",
       "      <td>Гектор</td>\n",
       "      <td>Корнилов</td>\n",
       "      <td>2018-09-27</td>\n",
       "      <td>smart</td>\n",
       "    </tr>\n",
       "  </tbody>\n",
       "</table>\n",
       "<p>500 rows × 8 columns</p>\n",
       "</div>"
      ],
      "text/plain": [
       "     user_id  age  churn_date         city first_name  last_name    reg_date  \\\n",
       "0       1000   52         NaN    Краснодар     Рафаил  Верещагин  2018-05-25   \n",
       "1       1001   41         NaN       Москва       Иван       Ежов  2018-11-01   \n",
       "2       1002   59         NaN  Стерлитамак    Евгений  Абрамович  2018-06-17   \n",
       "3       1003   23         NaN       Москва      Белла   Белякова  2018-08-17   \n",
       "4       1004   68         NaN  Новокузнецк    Татьяна   Авдеенко  2018-05-14   \n",
       "..       ...  ...         ...          ...        ...        ...         ...   \n",
       "495     1495   65         NaN      Иркутск  Авксентий      Фокин  2018-08-28   \n",
       "496     1496   36         NaN      Вологда     Трифон     Блохин  2018-01-27   \n",
       "497     1497   32         NaN    Челябинск   Каролина     Агеева  2018-10-09   \n",
       "498     1498   68  2018-10-25  Владикавказ   Всеволод    Акимчин  2018-07-19   \n",
       "499     1499   35         NaN        Пермь     Гектор   Корнилов  2018-09-27   \n",
       "\n",
       "    tariff  \n",
       "0    ultra  \n",
       "1    smart  \n",
       "2    smart  \n",
       "3    ultra  \n",
       "4    ultra  \n",
       "..     ...  \n",
       "495  ultra  \n",
       "496  smart  \n",
       "497  smart  \n",
       "498  smart  \n",
       "499  smart  \n",
       "\n",
       "[500 rows x 8 columns]"
      ]
     },
     "execution_count": 6,
     "metadata": {},
     "output_type": "execute_result"
    }
   ],
   "source": [
    "users = pd.read_csv('/datasets/users.csv')\n",
    "users"
   ]
  },
  {
   "cell_type": "markdown",
   "metadata": {},
   "source": [
    "*Найдем нулевые значения и неверный тип данных*"
   ]
  },
  {
   "cell_type": "code",
   "execution_count": 7,
   "metadata": {},
   "outputs": [
    {
     "name": "stdout",
     "output_type": "stream",
     "text": [
      "<class 'pandas.core.frame.DataFrame'>\n",
      "RangeIndex: 202607 entries, 0 to 202606\n",
      "Data columns (total 4 columns):\n",
      "id           202607 non-null object\n",
      "call_date    202607 non-null object\n",
      "duration     202607 non-null float64\n",
      "user_id      202607 non-null int64\n",
      "dtypes: float64(1), int64(1), object(2)\n",
      "memory usage: 6.2+ MB\n"
     ]
    }
   ],
   "source": [
    "calls.info() "
   ]
  },
  {
   "cell_type": "code",
   "execution_count": 8,
   "metadata": {},
   "outputs": [
    {
     "name": "stdout",
     "output_type": "stream",
     "text": [
      "<class 'pandas.core.frame.DataFrame'>\n",
      "RangeIndex: 149396 entries, 0 to 149395\n",
      "Data columns (total 4 columns):\n",
      "id              149396 non-null object\n",
      "mb_used         149396 non-null float64\n",
      "session_date    149396 non-null object\n",
      "user_id         149396 non-null int64\n",
      "dtypes: float64(1), int64(1), object(2)\n",
      "memory usage: 4.6+ MB\n"
     ]
    }
   ],
   "source": [
    "internet.info()"
   ]
  },
  {
   "cell_type": "code",
   "execution_count": 9,
   "metadata": {},
   "outputs": [
    {
     "name": "stdout",
     "output_type": "stream",
     "text": [
      "<class 'pandas.core.frame.DataFrame'>\n",
      "RangeIndex: 123036 entries, 0 to 123035\n",
      "Data columns (total 3 columns):\n",
      "id              123036 non-null object\n",
      "message_date    123036 non-null object\n",
      "user_id         123036 non-null int64\n",
      "dtypes: int64(1), object(2)\n",
      "memory usage: 2.8+ MB\n"
     ]
    }
   ],
   "source": [
    "messages.info()"
   ]
  },
  {
   "cell_type": "code",
   "execution_count": 10,
   "metadata": {},
   "outputs": [
    {
     "name": "stdout",
     "output_type": "stream",
     "text": [
      "<class 'pandas.core.frame.DataFrame'>\n",
      "RangeIndex: 2 entries, 0 to 1\n",
      "Data columns (total 8 columns):\n",
      "messages_included        2 non-null int64\n",
      "mb_per_month_included    2 non-null int64\n",
      "minutes_included         2 non-null int64\n",
      "rub_monthly_fee          2 non-null int64\n",
      "rub_per_gb               2 non-null int64\n",
      "rub_per_message          2 non-null int64\n",
      "rub_per_minute           2 non-null int64\n",
      "tariff_name              2 non-null object\n",
      "dtypes: int64(7), object(1)\n",
      "memory usage: 256.0+ bytes\n"
     ]
    }
   ],
   "source": [
    "tariffs.info()"
   ]
  },
  {
   "cell_type": "code",
   "execution_count": 11,
   "metadata": {},
   "outputs": [
    {
     "name": "stdout",
     "output_type": "stream",
     "text": [
      "<class 'pandas.core.frame.DataFrame'>\n",
      "RangeIndex: 500 entries, 0 to 499\n",
      "Data columns (total 8 columns):\n",
      "user_id       500 non-null int64\n",
      "age           500 non-null int64\n",
      "churn_date    38 non-null object\n",
      "city          500 non-null object\n",
      "first_name    500 non-null object\n",
      "last_name     500 non-null object\n",
      "reg_date      500 non-null object\n",
      "tariff        500 non-null object\n",
      "dtypes: int64(2), object(6)\n",
      "memory usage: 31.4+ KB\n"
     ]
    }
   ],
   "source": [
    "users.info()"
   ]
  },
  {
   "cell_type": "markdown",
   "metadata": {},
   "source": [
    "*Нулевые значения только в столбце с датой прекращения пользования тарифом. Известно, если значение пропущено, то тариф ещё действовал на момент выгрузки данных. Мы точно не узнаем дату и месяц  использования, но мы знаем год, поэтому заменим все пропущенные значения на 2018*"
   ]
  },
  {
   "cell_type": "code",
   "execution_count": 12,
   "metadata": {
    "scrolled": true
   },
   "outputs": [
    {
     "data": {
      "text/plain": [
       "user_id       0\n",
       "age           0\n",
       "churn_date    0\n",
       "city          0\n",
       "first_name    0\n",
       "last_name     0\n",
       "reg_date      0\n",
       "tariff        0\n",
       "dtype: int64"
      ]
     },
     "execution_count": 12,
     "metadata": {},
     "output_type": "execute_result"
    }
   ],
   "source": [
    "users['churn_date'] =  users['churn_date'].fillna('2018')\n",
    "users.isnull().sum()"
   ]
  },
  {
   "cell_type": "markdown",
   "metadata": {},
   "source": [
    "## Подготовка пользовательских данных"
   ]
  },
  {
   "cell_type": "markdown",
   "metadata": {},
   "source": [
    "   \n",
    "*Переведем мг в гб.Округлим минуты и гигабайты*"
   ]
  },
  {
   "cell_type": "code",
   "execution_count": 13,
   "metadata": {},
   "outputs": [
    {
     "data": {
      "text/plain": [
       "0          0.00\n",
       "1          0.00\n",
       "2          2.85\n",
       "3         13.80\n",
       "4          5.18\n",
       "          ...  \n",
       "202602     0.76\n",
       "202603    18.83\n",
       "202604    10.81\n",
       "202605     4.27\n",
       "202606    19.62\n",
       "Name: duration, Length: 202607, dtype: float64"
      ]
     },
     "execution_count": 13,
     "metadata": {},
     "output_type": "execute_result"
    }
   ],
   "source": [
    "calls['duration']"
   ]
  },
  {
   "cell_type": "code",
   "execution_count": 14,
   "metadata": {},
   "outputs": [],
   "source": [
    "import numpy as np\n",
    "calls['duration'] = np.ceil(calls['duration'])"
   ]
  },
  {
   "cell_type": "code",
   "execution_count": 15,
   "metadata": {},
   "outputs": [
    {
     "data": {
      "text/plain": [
       "0          0.0\n",
       "1          0.0\n",
       "2          3.0\n",
       "3         14.0\n",
       "4          6.0\n",
       "          ... \n",
       "202602     1.0\n",
       "202603    19.0\n",
       "202604    11.0\n",
       "202605     5.0\n",
       "202606    20.0\n",
       "Name: duration, Length: 202607, dtype: float64"
      ]
     },
     "execution_count": 15,
     "metadata": {},
     "output_type": "execute_result"
    }
   ],
   "source": [
    "calls['duration']"
   ]
  },
  {
   "cell_type": "code",
   "execution_count": 16,
   "metadata": {},
   "outputs": [
    {
     "data": {
      "text/plain": [
       "0          112.95\n",
       "1         1052.81\n",
       "2         1197.26\n",
       "3          550.27\n",
       "4          302.56\n",
       "           ...   \n",
       "149391     318.90\n",
       "149392     490.13\n",
       "149393       0.00\n",
       "149394    1246.32\n",
       "149395     544.37\n",
       "Name: mb_used, Length: 149396, dtype: float64"
      ]
     },
     "execution_count": 16,
     "metadata": {},
     "output_type": "execute_result"
    }
   ],
   "source": [
    "internet['mb_used'] "
   ]
  },
  {
   "cell_type": "code",
   "execution_count": 17,
   "metadata": {},
   "outputs": [],
   "source": [
    "internet['mb_used'] = np.ceil(internet['mb_used'])"
   ]
  },
  {
   "cell_type": "code",
   "execution_count": 18,
   "metadata": {},
   "outputs": [
    {
     "data": {
      "text/plain": [
       "0          113.0\n",
       "1         1053.0\n",
       "2         1198.0\n",
       "3          551.0\n",
       "4          303.0\n",
       "           ...  \n",
       "149391     319.0\n",
       "149392     491.0\n",
       "149393       0.0\n",
       "149394    1247.0\n",
       "149395     545.0\n",
       "Name: mb_used, Length: 149396, dtype: float64"
      ]
     },
     "execution_count": 18,
     "metadata": {},
     "output_type": "execute_result"
    }
   ],
   "source": [
    "internet['mb_used']"
   ]
  },
  {
   "cell_type": "markdown",
   "metadata": {},
   "source": [
    "*Посчитаем для каждого пользователя количество сделанных звонков и израсходованных минут разговора по месяцам*"
   ]
  },
  {
   "cell_type": "code",
   "execution_count": 19,
   "metadata": {},
   "outputs": [
    {
     "data": {
      "text/html": [
       "<div>\n",
       "<style scoped>\n",
       "    .dataframe tbody tr th:only-of-type {\n",
       "        vertical-align: middle;\n",
       "    }\n",
       "\n",
       "    .dataframe tbody tr th {\n",
       "        vertical-align: top;\n",
       "    }\n",
       "\n",
       "    .dataframe thead th {\n",
       "        text-align: right;\n",
       "    }\n",
       "</style>\n",
       "<table border=\"1\" class=\"dataframe\">\n",
       "  <thead>\n",
       "    <tr style=\"text-align: right;\">\n",
       "      <th></th>\n",
       "      <th>user_id</th>\n",
       "      <th>months</th>\n",
       "      <th>calls_count</th>\n",
       "      <th>minut_sum</th>\n",
       "    </tr>\n",
       "  </thead>\n",
       "  <tbody>\n",
       "    <tr>\n",
       "      <td>0</td>\n",
       "      <td>1000</td>\n",
       "      <td>5</td>\n",
       "      <td>22</td>\n",
       "      <td>159.0</td>\n",
       "    </tr>\n",
       "    <tr>\n",
       "      <td>1</td>\n",
       "      <td>1000</td>\n",
       "      <td>6</td>\n",
       "      <td>43</td>\n",
       "      <td>172.0</td>\n",
       "    </tr>\n",
       "    <tr>\n",
       "      <td>2</td>\n",
       "      <td>1000</td>\n",
       "      <td>7</td>\n",
       "      <td>47</td>\n",
       "      <td>340.0</td>\n",
       "    </tr>\n",
       "    <tr>\n",
       "      <td>3</td>\n",
       "      <td>1000</td>\n",
       "      <td>8</td>\n",
       "      <td>52</td>\n",
       "      <td>408.0</td>\n",
       "    </tr>\n",
       "    <tr>\n",
       "      <td>4</td>\n",
       "      <td>1000</td>\n",
       "      <td>9</td>\n",
       "      <td>58</td>\n",
       "      <td>466.0</td>\n",
       "    </tr>\n",
       "    <tr>\n",
       "      <td>...</td>\n",
       "      <td>...</td>\n",
       "      <td>...</td>\n",
       "      <td>...</td>\n",
       "      <td>...</td>\n",
       "    </tr>\n",
       "    <tr>\n",
       "      <td>3169</td>\n",
       "      <td>1498</td>\n",
       "      <td>10</td>\n",
       "      <td>41</td>\n",
       "      <td>247.0</td>\n",
       "    </tr>\n",
       "    <tr>\n",
       "      <td>3170</td>\n",
       "      <td>1499</td>\n",
       "      <td>9</td>\n",
       "      <td>9</td>\n",
       "      <td>70.0</td>\n",
       "    </tr>\n",
       "    <tr>\n",
       "      <td>3171</td>\n",
       "      <td>1499</td>\n",
       "      <td>10</td>\n",
       "      <td>68</td>\n",
       "      <td>449.0</td>\n",
       "    </tr>\n",
       "    <tr>\n",
       "      <td>3172</td>\n",
       "      <td>1499</td>\n",
       "      <td>11</td>\n",
       "      <td>74</td>\n",
       "      <td>612.0</td>\n",
       "    </tr>\n",
       "    <tr>\n",
       "      <td>3173</td>\n",
       "      <td>1499</td>\n",
       "      <td>12</td>\n",
       "      <td>69</td>\n",
       "      <td>492.0</td>\n",
       "    </tr>\n",
       "  </tbody>\n",
       "</table>\n",
       "<p>3174 rows × 4 columns</p>\n",
       "</div>"
      ],
      "text/plain": [
       "      user_id  months  calls_count  minut_sum\n",
       "0        1000       5           22      159.0\n",
       "1        1000       6           43      172.0\n",
       "2        1000       7           47      340.0\n",
       "3        1000       8           52      408.0\n",
       "4        1000       9           58      466.0\n",
       "...       ...     ...          ...        ...\n",
       "3169     1498      10           41      247.0\n",
       "3170     1499       9            9       70.0\n",
       "3171     1499      10           68      449.0\n",
       "3172     1499      11           74      612.0\n",
       "3173     1499      12           69      492.0\n",
       "\n",
       "[3174 rows x 4 columns]"
      ]
     },
     "execution_count": 19,
     "metadata": {},
     "output_type": "execute_result"
    }
   ],
   "source": [
    "calls['months'] = pd.DatetimeIndex(calls['call_date']).month\n",
    "calls_per_month = calls.pivot_table(index=['user_id', 'months'], values='duration', aggfunc=['count', 'sum']).reset_index()\n",
    "calls_per_month.set_axis(['user_id','months','calls_count', 'minut_sum'],axis = 'columns',inplace = True)\n",
    "calls_per_month"
   ]
  },
  {
   "cell_type": "markdown",
   "metadata": {},
   "source": [
    "*Посчитаем для каждого пользователя количество отправленных сообщений по месяцам*"
   ]
  },
  {
   "cell_type": "code",
   "execution_count": 20,
   "metadata": {},
   "outputs": [
    {
     "data": {
      "text/html": [
       "<div>\n",
       "<style scoped>\n",
       "    .dataframe tbody tr th:only-of-type {\n",
       "        vertical-align: middle;\n",
       "    }\n",
       "\n",
       "    .dataframe tbody tr th {\n",
       "        vertical-align: top;\n",
       "    }\n",
       "\n",
       "    .dataframe thead th {\n",
       "        text-align: right;\n",
       "    }\n",
       "</style>\n",
       "<table border=\"1\" class=\"dataframe\">\n",
       "  <thead>\n",
       "    <tr style=\"text-align: right;\">\n",
       "      <th></th>\n",
       "      <th>user_id</th>\n",
       "      <th>months</th>\n",
       "      <th>messages_count</th>\n",
       "    </tr>\n",
       "  </thead>\n",
       "  <tbody>\n",
       "    <tr>\n",
       "      <td>0</td>\n",
       "      <td>1000</td>\n",
       "      <td>5</td>\n",
       "      <td>22</td>\n",
       "    </tr>\n",
       "    <tr>\n",
       "      <td>1</td>\n",
       "      <td>1000</td>\n",
       "      <td>6</td>\n",
       "      <td>60</td>\n",
       "    </tr>\n",
       "    <tr>\n",
       "      <td>2</td>\n",
       "      <td>1000</td>\n",
       "      <td>7</td>\n",
       "      <td>75</td>\n",
       "    </tr>\n",
       "    <tr>\n",
       "      <td>3</td>\n",
       "      <td>1000</td>\n",
       "      <td>8</td>\n",
       "      <td>81</td>\n",
       "    </tr>\n",
       "    <tr>\n",
       "      <td>4</td>\n",
       "      <td>1000</td>\n",
       "      <td>9</td>\n",
       "      <td>57</td>\n",
       "    </tr>\n",
       "    <tr>\n",
       "      <td>...</td>\n",
       "      <td>...</td>\n",
       "      <td>...</td>\n",
       "      <td>...</td>\n",
       "    </tr>\n",
       "    <tr>\n",
       "      <td>2712</td>\n",
       "      <td>1498</td>\n",
       "      <td>10</td>\n",
       "      <td>42</td>\n",
       "    </tr>\n",
       "    <tr>\n",
       "      <td>2713</td>\n",
       "      <td>1499</td>\n",
       "      <td>9</td>\n",
       "      <td>11</td>\n",
       "    </tr>\n",
       "    <tr>\n",
       "      <td>2714</td>\n",
       "      <td>1499</td>\n",
       "      <td>10</td>\n",
       "      <td>48</td>\n",
       "    </tr>\n",
       "    <tr>\n",
       "      <td>2715</td>\n",
       "      <td>1499</td>\n",
       "      <td>11</td>\n",
       "      <td>59</td>\n",
       "    </tr>\n",
       "    <tr>\n",
       "      <td>2716</td>\n",
       "      <td>1499</td>\n",
       "      <td>12</td>\n",
       "      <td>66</td>\n",
       "    </tr>\n",
       "  </tbody>\n",
       "</table>\n",
       "<p>2717 rows × 3 columns</p>\n",
       "</div>"
      ],
      "text/plain": [
       "      user_id  months  messages_count\n",
       "0        1000       5              22\n",
       "1        1000       6              60\n",
       "2        1000       7              75\n",
       "3        1000       8              81\n",
       "4        1000       9              57\n",
       "...       ...     ...             ...\n",
       "2712     1498      10              42\n",
       "2713     1499       9              11\n",
       "2714     1499      10              48\n",
       "2715     1499      11              59\n",
       "2716     1499      12              66\n",
       "\n",
       "[2717 rows x 3 columns]"
      ]
     },
     "execution_count": 20,
     "metadata": {},
     "output_type": "execute_result"
    }
   ],
   "source": [
    "messages['months'] = pd.DatetimeIndex(messages['message_date']).month\n",
    "messages_per_month = messages.pivot_table(index=['user_id', 'months'], values='id', aggfunc=['count']).reset_index()\n",
    "messages_per_month.set_axis(['user_id','months','messages_count'],axis = 'columns',inplace = True)\n",
    "messages_per_month"
   ]
  },
  {
   "cell_type": "code",
   "execution_count": 21,
   "metadata": {},
   "outputs": [
    {
     "data": {
      "text/html": [
       "<div>\n",
       "<style scoped>\n",
       "    .dataframe tbody tr th:only-of-type {\n",
       "        vertical-align: middle;\n",
       "    }\n",
       "\n",
       "    .dataframe tbody tr th {\n",
       "        vertical-align: top;\n",
       "    }\n",
       "\n",
       "    .dataframe thead th {\n",
       "        text-align: right;\n",
       "    }\n",
       "</style>\n",
       "<table border=\"1\" class=\"dataframe\">\n",
       "  <thead>\n",
       "    <tr style=\"text-align: right;\">\n",
       "      <th></th>\n",
       "      <th>user_id</th>\n",
       "      <th>months</th>\n",
       "      <th>internet_sum</th>\n",
       "    </tr>\n",
       "  </thead>\n",
       "  <tbody>\n",
       "    <tr>\n",
       "      <td>0</td>\n",
       "      <td>1000</td>\n",
       "      <td>5</td>\n",
       "      <td>2256.0</td>\n",
       "    </tr>\n",
       "    <tr>\n",
       "      <td>1</td>\n",
       "      <td>1000</td>\n",
       "      <td>6</td>\n",
       "      <td>23257.0</td>\n",
       "    </tr>\n",
       "    <tr>\n",
       "      <td>2</td>\n",
       "      <td>1000</td>\n",
       "      <td>7</td>\n",
       "      <td>14016.0</td>\n",
       "    </tr>\n",
       "    <tr>\n",
       "      <td>3</td>\n",
       "      <td>1000</td>\n",
       "      <td>8</td>\n",
       "      <td>14070.0</td>\n",
       "    </tr>\n",
       "    <tr>\n",
       "      <td>4</td>\n",
       "      <td>1000</td>\n",
       "      <td>9</td>\n",
       "      <td>14581.0</td>\n",
       "    </tr>\n",
       "    <tr>\n",
       "      <td>...</td>\n",
       "      <td>...</td>\n",
       "      <td>...</td>\n",
       "      <td>...</td>\n",
       "    </tr>\n",
       "    <tr>\n",
       "      <td>3198</td>\n",
       "      <td>1498</td>\n",
       "      <td>10</td>\n",
       "      <td>20604.0</td>\n",
       "    </tr>\n",
       "    <tr>\n",
       "      <td>3199</td>\n",
       "      <td>1499</td>\n",
       "      <td>9</td>\n",
       "      <td>1848.0</td>\n",
       "    </tr>\n",
       "    <tr>\n",
       "      <td>3200</td>\n",
       "      <td>1499</td>\n",
       "      <td>10</td>\n",
       "      <td>17809.0</td>\n",
       "    </tr>\n",
       "    <tr>\n",
       "      <td>3201</td>\n",
       "      <td>1499</td>\n",
       "      <td>11</td>\n",
       "      <td>17984.0</td>\n",
       "    </tr>\n",
       "    <tr>\n",
       "      <td>3202</td>\n",
       "      <td>1499</td>\n",
       "      <td>12</td>\n",
       "      <td>13077.0</td>\n",
       "    </tr>\n",
       "  </tbody>\n",
       "</table>\n",
       "<p>3203 rows × 3 columns</p>\n",
       "</div>"
      ],
      "text/plain": [
       "      user_id  months  internet_sum\n",
       "0        1000       5        2256.0\n",
       "1        1000       6       23257.0\n",
       "2        1000       7       14016.0\n",
       "3        1000       8       14070.0\n",
       "4        1000       9       14581.0\n",
       "...       ...     ...           ...\n",
       "3198     1498      10       20604.0\n",
       "3199     1499       9        1848.0\n",
       "3200     1499      10       17809.0\n",
       "3201     1499      11       17984.0\n",
       "3202     1499      12       13077.0\n",
       "\n",
       "[3203 rows x 3 columns]"
      ]
     },
     "execution_count": 21,
     "metadata": {},
     "output_type": "execute_result"
    }
   ],
   "source": [
    "internet['months'] = pd.DatetimeIndex(internet['session_date']).month\n",
    "internet_per_month = internet.pivot_table(index=['user_id', 'months'], values='mb_used', aggfunc=['sum']).reset_index()\n",
    "internet_per_month.set_axis(['user_id','months','internet_sum'],axis = 'columns',inplace = True)\n",
    "internet_per_month"
   ]
  },
  {
   "cell_type": "markdown",
   "metadata": {},
   "source": [
    "*Совместим все датасеты в один*"
   ]
  },
  {
   "cell_type": "code",
   "execution_count": 22,
   "metadata": {},
   "outputs": [
    {
     "data": {
      "text/html": [
       "<div>\n",
       "<style scoped>\n",
       "    .dataframe tbody tr th:only-of-type {\n",
       "        vertical-align: middle;\n",
       "    }\n",
       "\n",
       "    .dataframe tbody tr th {\n",
       "        vertical-align: top;\n",
       "    }\n",
       "\n",
       "    .dataframe thead th {\n",
       "        text-align: right;\n",
       "    }\n",
       "</style>\n",
       "<table border=\"1\" class=\"dataframe\">\n",
       "  <thead>\n",
       "    <tr style=\"text-align: right;\">\n",
       "      <th></th>\n",
       "      <th>user_id</th>\n",
       "      <th>months</th>\n",
       "      <th>calls_count</th>\n",
       "      <th>minut_sum</th>\n",
       "      <th>messages_count</th>\n",
       "      <th>internet_sum</th>\n",
       "      <th>age</th>\n",
       "      <th>churn_date</th>\n",
       "      <th>city</th>\n",
       "      <th>first_name</th>\n",
       "      <th>last_name</th>\n",
       "      <th>reg_date</th>\n",
       "      <th>tariff</th>\n",
       "    </tr>\n",
       "  </thead>\n",
       "  <tbody>\n",
       "    <tr>\n",
       "      <td>0</td>\n",
       "      <td>1000</td>\n",
       "      <td>5.0</td>\n",
       "      <td>22.0</td>\n",
       "      <td>159.0</td>\n",
       "      <td>22.0</td>\n",
       "      <td>2256.0</td>\n",
       "      <td>52</td>\n",
       "      <td>2018</td>\n",
       "      <td>Краснодар</td>\n",
       "      <td>Рафаил</td>\n",
       "      <td>Верещагин</td>\n",
       "      <td>2018-05-25</td>\n",
       "      <td>ultra</td>\n",
       "    </tr>\n",
       "    <tr>\n",
       "      <td>1</td>\n",
       "      <td>1000</td>\n",
       "      <td>6.0</td>\n",
       "      <td>43.0</td>\n",
       "      <td>172.0</td>\n",
       "      <td>60.0</td>\n",
       "      <td>23257.0</td>\n",
       "      <td>52</td>\n",
       "      <td>2018</td>\n",
       "      <td>Краснодар</td>\n",
       "      <td>Рафаил</td>\n",
       "      <td>Верещагин</td>\n",
       "      <td>2018-05-25</td>\n",
       "      <td>ultra</td>\n",
       "    </tr>\n",
       "    <tr>\n",
       "      <td>2</td>\n",
       "      <td>1000</td>\n",
       "      <td>7.0</td>\n",
       "      <td>47.0</td>\n",
       "      <td>340.0</td>\n",
       "      <td>75.0</td>\n",
       "      <td>14016.0</td>\n",
       "      <td>52</td>\n",
       "      <td>2018</td>\n",
       "      <td>Краснодар</td>\n",
       "      <td>Рафаил</td>\n",
       "      <td>Верещагин</td>\n",
       "      <td>2018-05-25</td>\n",
       "      <td>ultra</td>\n",
       "    </tr>\n",
       "    <tr>\n",
       "      <td>3</td>\n",
       "      <td>1000</td>\n",
       "      <td>8.0</td>\n",
       "      <td>52.0</td>\n",
       "      <td>408.0</td>\n",
       "      <td>81.0</td>\n",
       "      <td>14070.0</td>\n",
       "      <td>52</td>\n",
       "      <td>2018</td>\n",
       "      <td>Краснодар</td>\n",
       "      <td>Рафаил</td>\n",
       "      <td>Верещагин</td>\n",
       "      <td>2018-05-25</td>\n",
       "      <td>ultra</td>\n",
       "    </tr>\n",
       "    <tr>\n",
       "      <td>4</td>\n",
       "      <td>1000</td>\n",
       "      <td>9.0</td>\n",
       "      <td>58.0</td>\n",
       "      <td>466.0</td>\n",
       "      <td>57.0</td>\n",
       "      <td>14581.0</td>\n",
       "      <td>52</td>\n",
       "      <td>2018</td>\n",
       "      <td>Краснодар</td>\n",
       "      <td>Рафаил</td>\n",
       "      <td>Верещагин</td>\n",
       "      <td>2018-05-25</td>\n",
       "      <td>ultra</td>\n",
       "    </tr>\n",
       "    <tr>\n",
       "      <td>...</td>\n",
       "      <td>...</td>\n",
       "      <td>...</td>\n",
       "      <td>...</td>\n",
       "      <td>...</td>\n",
       "      <td>...</td>\n",
       "      <td>...</td>\n",
       "      <td>...</td>\n",
       "      <td>...</td>\n",
       "      <td>...</td>\n",
       "      <td>...</td>\n",
       "      <td>...</td>\n",
       "      <td>...</td>\n",
       "      <td>...</td>\n",
       "    </tr>\n",
       "    <tr>\n",
       "      <td>3211</td>\n",
       "      <td>1489</td>\n",
       "      <td>10.0</td>\n",
       "      <td>NaN</td>\n",
       "      <td>NaN</td>\n",
       "      <td>21.0</td>\n",
       "      <td>19588.0</td>\n",
       "      <td>35</td>\n",
       "      <td>2018</td>\n",
       "      <td>Санкт-Петербург</td>\n",
       "      <td>Павел</td>\n",
       "      <td>Гончаров</td>\n",
       "      <td>2018-08-15</td>\n",
       "      <td>smart</td>\n",
       "    </tr>\n",
       "    <tr>\n",
       "      <td>3212</td>\n",
       "      <td>1489</td>\n",
       "      <td>11.0</td>\n",
       "      <td>NaN</td>\n",
       "      <td>NaN</td>\n",
       "      <td>20.0</td>\n",
       "      <td>17516.0</td>\n",
       "      <td>35</td>\n",
       "      <td>2018</td>\n",
       "      <td>Санкт-Петербург</td>\n",
       "      <td>Павел</td>\n",
       "      <td>Гончаров</td>\n",
       "      <td>2018-08-15</td>\n",
       "      <td>smart</td>\n",
       "    </tr>\n",
       "    <tr>\n",
       "      <td>3213</td>\n",
       "      <td>1489</td>\n",
       "      <td>12.0</td>\n",
       "      <td>NaN</td>\n",
       "      <td>NaN</td>\n",
       "      <td>35.0</td>\n",
       "      <td>17341.0</td>\n",
       "      <td>35</td>\n",
       "      <td>2018</td>\n",
       "      <td>Санкт-Петербург</td>\n",
       "      <td>Павел</td>\n",
       "      <td>Гончаров</td>\n",
       "      <td>2018-08-15</td>\n",
       "      <td>smart</td>\n",
       "    </tr>\n",
       "    <tr>\n",
       "      <td>3214</td>\n",
       "      <td>1128</td>\n",
       "      <td>NaN</td>\n",
       "      <td>NaN</td>\n",
       "      <td>NaN</td>\n",
       "      <td>NaN</td>\n",
       "      <td>NaN</td>\n",
       "      <td>51</td>\n",
       "      <td>2018-12-23</td>\n",
       "      <td>Волжский</td>\n",
       "      <td>Ксения</td>\n",
       "      <td>Агаева</td>\n",
       "      <td>2018-12-15</td>\n",
       "      <td>ultra</td>\n",
       "    </tr>\n",
       "    <tr>\n",
       "      <td>3215</td>\n",
       "      <td>1371</td>\n",
       "      <td>NaN</td>\n",
       "      <td>NaN</td>\n",
       "      <td>NaN</td>\n",
       "      <td>NaN</td>\n",
       "      <td>NaN</td>\n",
       "      <td>50</td>\n",
       "      <td>2018-12-30</td>\n",
       "      <td>Омск</td>\n",
       "      <td>Ириней</td>\n",
       "      <td>Трофимов</td>\n",
       "      <td>2018-12-25</td>\n",
       "      <td>smart</td>\n",
       "    </tr>\n",
       "  </tbody>\n",
       "</table>\n",
       "<p>3216 rows × 13 columns</p>\n",
       "</div>"
      ],
      "text/plain": [
       "      user_id  months  calls_count  minut_sum  messages_count  internet_sum  \\\n",
       "0        1000     5.0         22.0      159.0            22.0        2256.0   \n",
       "1        1000     6.0         43.0      172.0            60.0       23257.0   \n",
       "2        1000     7.0         47.0      340.0            75.0       14016.0   \n",
       "3        1000     8.0         52.0      408.0            81.0       14070.0   \n",
       "4        1000     9.0         58.0      466.0            57.0       14581.0   \n",
       "...       ...     ...          ...        ...             ...           ...   \n",
       "3211     1489    10.0          NaN        NaN            21.0       19588.0   \n",
       "3212     1489    11.0          NaN        NaN            20.0       17516.0   \n",
       "3213     1489    12.0          NaN        NaN            35.0       17341.0   \n",
       "3214     1128     NaN          NaN        NaN             NaN           NaN   \n",
       "3215     1371     NaN          NaN        NaN             NaN           NaN   \n",
       "\n",
       "      age  churn_date             city first_name  last_name    reg_date  \\\n",
       "0      52        2018        Краснодар     Рафаил  Верещагин  2018-05-25   \n",
       "1      52        2018        Краснодар     Рафаил  Верещагин  2018-05-25   \n",
       "2      52        2018        Краснодар     Рафаил  Верещагин  2018-05-25   \n",
       "3      52        2018        Краснодар     Рафаил  Верещагин  2018-05-25   \n",
       "4      52        2018        Краснодар     Рафаил  Верещагин  2018-05-25   \n",
       "...   ...         ...              ...        ...        ...         ...   \n",
       "3211   35        2018  Санкт-Петербург      Павел   Гончаров  2018-08-15   \n",
       "3212   35        2018  Санкт-Петербург      Павел   Гончаров  2018-08-15   \n",
       "3213   35        2018  Санкт-Петербург      Павел   Гончаров  2018-08-15   \n",
       "3214   51  2018-12-23         Волжский     Ксения     Агаева  2018-12-15   \n",
       "3215   50  2018-12-30             Омск     Ириней   Трофимов  2018-12-25   \n",
       "\n",
       "     tariff  \n",
       "0     ultra  \n",
       "1     ultra  \n",
       "2     ultra  \n",
       "3     ultra  \n",
       "4     ultra  \n",
       "...     ...  \n",
       "3211  smart  \n",
       "3212  smart  \n",
       "3213  smart  \n",
       "3214  ultra  \n",
       "3215  smart  \n",
       "\n",
       "[3216 rows x 13 columns]"
      ]
     },
     "execution_count": 22,
     "metadata": {},
     "output_type": "execute_result"
    }
   ],
   "source": [
    "df = calls_per_month.merge(messages_per_month, how='outer')\n",
    "df2 = df.merge(internet_per_month, how='outer')\n",
    "data = df2.merge(users, how='outer')\n",
    "data"
   ]
  },
  {
   "cell_type": "markdown",
   "metadata": {},
   "source": [
    "*Заполним все значения на нулевые*"
   ]
  },
  {
   "cell_type": "code",
   "execution_count": 23,
   "metadata": {},
   "outputs": [
    {
     "data": {
      "text/html": [
       "<div>\n",
       "<style scoped>\n",
       "    .dataframe tbody tr th:only-of-type {\n",
       "        vertical-align: middle;\n",
       "    }\n",
       "\n",
       "    .dataframe tbody tr th {\n",
       "        vertical-align: top;\n",
       "    }\n",
       "\n",
       "    .dataframe thead th {\n",
       "        text-align: right;\n",
       "    }\n",
       "</style>\n",
       "<table border=\"1\" class=\"dataframe\">\n",
       "  <thead>\n",
       "    <tr style=\"text-align: right;\">\n",
       "      <th></th>\n",
       "      <th>user_id</th>\n",
       "      <th>months</th>\n",
       "      <th>calls_count</th>\n",
       "      <th>minut_sum</th>\n",
       "      <th>messages_count</th>\n",
       "      <th>internet_sum</th>\n",
       "      <th>age</th>\n",
       "      <th>churn_date</th>\n",
       "      <th>city</th>\n",
       "      <th>first_name</th>\n",
       "      <th>last_name</th>\n",
       "      <th>reg_date</th>\n",
       "      <th>tariff</th>\n",
       "    </tr>\n",
       "  </thead>\n",
       "  <tbody>\n",
       "    <tr>\n",
       "      <td>0</td>\n",
       "      <td>1000</td>\n",
       "      <td>5.0</td>\n",
       "      <td>22.0</td>\n",
       "      <td>159.0</td>\n",
       "      <td>22.0</td>\n",
       "      <td>2256.0</td>\n",
       "      <td>52</td>\n",
       "      <td>2018</td>\n",
       "      <td>Краснодар</td>\n",
       "      <td>Рафаил</td>\n",
       "      <td>Верещагин</td>\n",
       "      <td>2018-05-25</td>\n",
       "      <td>ultra</td>\n",
       "    </tr>\n",
       "    <tr>\n",
       "      <td>1</td>\n",
       "      <td>1000</td>\n",
       "      <td>6.0</td>\n",
       "      <td>43.0</td>\n",
       "      <td>172.0</td>\n",
       "      <td>60.0</td>\n",
       "      <td>23257.0</td>\n",
       "      <td>52</td>\n",
       "      <td>2018</td>\n",
       "      <td>Краснодар</td>\n",
       "      <td>Рафаил</td>\n",
       "      <td>Верещагин</td>\n",
       "      <td>2018-05-25</td>\n",
       "      <td>ultra</td>\n",
       "    </tr>\n",
       "    <tr>\n",
       "      <td>2</td>\n",
       "      <td>1000</td>\n",
       "      <td>7.0</td>\n",
       "      <td>47.0</td>\n",
       "      <td>340.0</td>\n",
       "      <td>75.0</td>\n",
       "      <td>14016.0</td>\n",
       "      <td>52</td>\n",
       "      <td>2018</td>\n",
       "      <td>Краснодар</td>\n",
       "      <td>Рафаил</td>\n",
       "      <td>Верещагин</td>\n",
       "      <td>2018-05-25</td>\n",
       "      <td>ultra</td>\n",
       "    </tr>\n",
       "    <tr>\n",
       "      <td>3</td>\n",
       "      <td>1000</td>\n",
       "      <td>8.0</td>\n",
       "      <td>52.0</td>\n",
       "      <td>408.0</td>\n",
       "      <td>81.0</td>\n",
       "      <td>14070.0</td>\n",
       "      <td>52</td>\n",
       "      <td>2018</td>\n",
       "      <td>Краснодар</td>\n",
       "      <td>Рафаил</td>\n",
       "      <td>Верещагин</td>\n",
       "      <td>2018-05-25</td>\n",
       "      <td>ultra</td>\n",
       "    </tr>\n",
       "    <tr>\n",
       "      <td>4</td>\n",
       "      <td>1000</td>\n",
       "      <td>9.0</td>\n",
       "      <td>58.0</td>\n",
       "      <td>466.0</td>\n",
       "      <td>57.0</td>\n",
       "      <td>14581.0</td>\n",
       "      <td>52</td>\n",
       "      <td>2018</td>\n",
       "      <td>Краснодар</td>\n",
       "      <td>Рафаил</td>\n",
       "      <td>Верещагин</td>\n",
       "      <td>2018-05-25</td>\n",
       "      <td>ultra</td>\n",
       "    </tr>\n",
       "    <tr>\n",
       "      <td>...</td>\n",
       "      <td>...</td>\n",
       "      <td>...</td>\n",
       "      <td>...</td>\n",
       "      <td>...</td>\n",
       "      <td>...</td>\n",
       "      <td>...</td>\n",
       "      <td>...</td>\n",
       "      <td>...</td>\n",
       "      <td>...</td>\n",
       "      <td>...</td>\n",
       "      <td>...</td>\n",
       "      <td>...</td>\n",
       "      <td>...</td>\n",
       "    </tr>\n",
       "    <tr>\n",
       "      <td>3211</td>\n",
       "      <td>1489</td>\n",
       "      <td>10.0</td>\n",
       "      <td>0.0</td>\n",
       "      <td>0.0</td>\n",
       "      <td>21.0</td>\n",
       "      <td>19588.0</td>\n",
       "      <td>35</td>\n",
       "      <td>2018</td>\n",
       "      <td>Санкт-Петербург</td>\n",
       "      <td>Павел</td>\n",
       "      <td>Гончаров</td>\n",
       "      <td>2018-08-15</td>\n",
       "      <td>smart</td>\n",
       "    </tr>\n",
       "    <tr>\n",
       "      <td>3212</td>\n",
       "      <td>1489</td>\n",
       "      <td>11.0</td>\n",
       "      <td>0.0</td>\n",
       "      <td>0.0</td>\n",
       "      <td>20.0</td>\n",
       "      <td>17516.0</td>\n",
       "      <td>35</td>\n",
       "      <td>2018</td>\n",
       "      <td>Санкт-Петербург</td>\n",
       "      <td>Павел</td>\n",
       "      <td>Гончаров</td>\n",
       "      <td>2018-08-15</td>\n",
       "      <td>smart</td>\n",
       "    </tr>\n",
       "    <tr>\n",
       "      <td>3213</td>\n",
       "      <td>1489</td>\n",
       "      <td>12.0</td>\n",
       "      <td>0.0</td>\n",
       "      <td>0.0</td>\n",
       "      <td>35.0</td>\n",
       "      <td>17341.0</td>\n",
       "      <td>35</td>\n",
       "      <td>2018</td>\n",
       "      <td>Санкт-Петербург</td>\n",
       "      <td>Павел</td>\n",
       "      <td>Гончаров</td>\n",
       "      <td>2018-08-15</td>\n",
       "      <td>smart</td>\n",
       "    </tr>\n",
       "    <tr>\n",
       "      <td>3214</td>\n",
       "      <td>1128</td>\n",
       "      <td>0.0</td>\n",
       "      <td>0.0</td>\n",
       "      <td>0.0</td>\n",
       "      <td>0.0</td>\n",
       "      <td>0.0</td>\n",
       "      <td>51</td>\n",
       "      <td>2018-12-23</td>\n",
       "      <td>Волжский</td>\n",
       "      <td>Ксения</td>\n",
       "      <td>Агаева</td>\n",
       "      <td>2018-12-15</td>\n",
       "      <td>ultra</td>\n",
       "    </tr>\n",
       "    <tr>\n",
       "      <td>3215</td>\n",
       "      <td>1371</td>\n",
       "      <td>0.0</td>\n",
       "      <td>0.0</td>\n",
       "      <td>0.0</td>\n",
       "      <td>0.0</td>\n",
       "      <td>0.0</td>\n",
       "      <td>50</td>\n",
       "      <td>2018-12-30</td>\n",
       "      <td>Омск</td>\n",
       "      <td>Ириней</td>\n",
       "      <td>Трофимов</td>\n",
       "      <td>2018-12-25</td>\n",
       "      <td>smart</td>\n",
       "    </tr>\n",
       "  </tbody>\n",
       "</table>\n",
       "<p>3216 rows × 13 columns</p>\n",
       "</div>"
      ],
      "text/plain": [
       "      user_id  months  calls_count  minut_sum  messages_count  internet_sum  \\\n",
       "0        1000     5.0         22.0      159.0            22.0        2256.0   \n",
       "1        1000     6.0         43.0      172.0            60.0       23257.0   \n",
       "2        1000     7.0         47.0      340.0            75.0       14016.0   \n",
       "3        1000     8.0         52.0      408.0            81.0       14070.0   \n",
       "4        1000     9.0         58.0      466.0            57.0       14581.0   \n",
       "...       ...     ...          ...        ...             ...           ...   \n",
       "3211     1489    10.0          0.0        0.0            21.0       19588.0   \n",
       "3212     1489    11.0          0.0        0.0            20.0       17516.0   \n",
       "3213     1489    12.0          0.0        0.0            35.0       17341.0   \n",
       "3214     1128     0.0          0.0        0.0             0.0           0.0   \n",
       "3215     1371     0.0          0.0        0.0             0.0           0.0   \n",
       "\n",
       "      age  churn_date             city first_name  last_name    reg_date  \\\n",
       "0      52        2018        Краснодар     Рафаил  Верещагин  2018-05-25   \n",
       "1      52        2018        Краснодар     Рафаил  Верещагин  2018-05-25   \n",
       "2      52        2018        Краснодар     Рафаил  Верещагин  2018-05-25   \n",
       "3      52        2018        Краснодар     Рафаил  Верещагин  2018-05-25   \n",
       "4      52        2018        Краснодар     Рафаил  Верещагин  2018-05-25   \n",
       "...   ...         ...              ...        ...        ...         ...   \n",
       "3211   35        2018  Санкт-Петербург      Павел   Гончаров  2018-08-15   \n",
       "3212   35        2018  Санкт-Петербург      Павел   Гончаров  2018-08-15   \n",
       "3213   35        2018  Санкт-Петербург      Павел   Гончаров  2018-08-15   \n",
       "3214   51  2018-12-23         Волжский     Ксения     Агаева  2018-12-15   \n",
       "3215   50  2018-12-30             Омск     Ириней   Трофимов  2018-12-25   \n",
       "\n",
       "     tariff  \n",
       "0     ultra  \n",
       "1     ultra  \n",
       "2     ultra  \n",
       "3     ultra  \n",
       "4     ultra  \n",
       "...     ...  \n",
       "3211  smart  \n",
       "3212  smart  \n",
       "3213  smart  \n",
       "3214  ultra  \n",
       "3215  smart  \n",
       "\n",
       "[3216 rows x 13 columns]"
      ]
     },
     "execution_count": 23,
     "metadata": {},
     "output_type": "execute_result"
    }
   ],
   "source": [
    "data = data.fillna(0) \n",
    "data"
   ]
  },
  {
   "cell_type": "code",
   "execution_count": 24,
   "metadata": {
    "scrolled": true
   },
   "outputs": [
    {
     "data": {
      "text/html": [
       "<div>\n",
       "<style scoped>\n",
       "    .dataframe tbody tr th:only-of-type {\n",
       "        vertical-align: middle;\n",
       "    }\n",
       "\n",
       "    .dataframe tbody tr th {\n",
       "        vertical-align: top;\n",
       "    }\n",
       "\n",
       "    .dataframe thead th {\n",
       "        text-align: right;\n",
       "    }\n",
       "</style>\n",
       "<table border=\"1\" class=\"dataframe\">\n",
       "  <thead>\n",
       "    <tr style=\"text-align: right;\">\n",
       "      <th></th>\n",
       "      <th>user_id</th>\n",
       "      <th>months</th>\n",
       "      <th>calls_count</th>\n",
       "      <th>minut_sum</th>\n",
       "      <th>messages_count</th>\n",
       "      <th>internet_sum</th>\n",
       "      <th>age</th>\n",
       "      <th>churn_date</th>\n",
       "      <th>city</th>\n",
       "      <th>first_name</th>\n",
       "      <th>...</th>\n",
       "      <th>reg_date</th>\n",
       "      <th>tariff</th>\n",
       "      <th>messages_included</th>\n",
       "      <th>mb_per_month_included</th>\n",
       "      <th>minutes_included</th>\n",
       "      <th>rub_monthly_fee</th>\n",
       "      <th>rub_per_gb</th>\n",
       "      <th>rub_per_message</th>\n",
       "      <th>rub_per_minute</th>\n",
       "      <th>tariff_name</th>\n",
       "    </tr>\n",
       "  </thead>\n",
       "  <tbody>\n",
       "    <tr>\n",
       "      <td>0</td>\n",
       "      <td>1000</td>\n",
       "      <td>5.0</td>\n",
       "      <td>22.0</td>\n",
       "      <td>159.0</td>\n",
       "      <td>22.0</td>\n",
       "      <td>2256.0</td>\n",
       "      <td>52</td>\n",
       "      <td>2018</td>\n",
       "      <td>Краснодар</td>\n",
       "      <td>Рафаил</td>\n",
       "      <td>...</td>\n",
       "      <td>2018-05-25</td>\n",
       "      <td>ultra</td>\n",
       "      <td>1000</td>\n",
       "      <td>30720</td>\n",
       "      <td>3000</td>\n",
       "      <td>1950</td>\n",
       "      <td>150</td>\n",
       "      <td>1</td>\n",
       "      <td>1</td>\n",
       "      <td>ultra</td>\n",
       "    </tr>\n",
       "    <tr>\n",
       "      <td>1</td>\n",
       "      <td>1000</td>\n",
       "      <td>6.0</td>\n",
       "      <td>43.0</td>\n",
       "      <td>172.0</td>\n",
       "      <td>60.0</td>\n",
       "      <td>23257.0</td>\n",
       "      <td>52</td>\n",
       "      <td>2018</td>\n",
       "      <td>Краснодар</td>\n",
       "      <td>Рафаил</td>\n",
       "      <td>...</td>\n",
       "      <td>2018-05-25</td>\n",
       "      <td>ultra</td>\n",
       "      <td>1000</td>\n",
       "      <td>30720</td>\n",
       "      <td>3000</td>\n",
       "      <td>1950</td>\n",
       "      <td>150</td>\n",
       "      <td>1</td>\n",
       "      <td>1</td>\n",
       "      <td>ultra</td>\n",
       "    </tr>\n",
       "    <tr>\n",
       "      <td>2</td>\n",
       "      <td>1000</td>\n",
       "      <td>7.0</td>\n",
       "      <td>47.0</td>\n",
       "      <td>340.0</td>\n",
       "      <td>75.0</td>\n",
       "      <td>14016.0</td>\n",
       "      <td>52</td>\n",
       "      <td>2018</td>\n",
       "      <td>Краснодар</td>\n",
       "      <td>Рафаил</td>\n",
       "      <td>...</td>\n",
       "      <td>2018-05-25</td>\n",
       "      <td>ultra</td>\n",
       "      <td>1000</td>\n",
       "      <td>30720</td>\n",
       "      <td>3000</td>\n",
       "      <td>1950</td>\n",
       "      <td>150</td>\n",
       "      <td>1</td>\n",
       "      <td>1</td>\n",
       "      <td>ultra</td>\n",
       "    </tr>\n",
       "    <tr>\n",
       "      <td>3</td>\n",
       "      <td>1000</td>\n",
       "      <td>8.0</td>\n",
       "      <td>52.0</td>\n",
       "      <td>408.0</td>\n",
       "      <td>81.0</td>\n",
       "      <td>14070.0</td>\n",
       "      <td>52</td>\n",
       "      <td>2018</td>\n",
       "      <td>Краснодар</td>\n",
       "      <td>Рафаил</td>\n",
       "      <td>...</td>\n",
       "      <td>2018-05-25</td>\n",
       "      <td>ultra</td>\n",
       "      <td>1000</td>\n",
       "      <td>30720</td>\n",
       "      <td>3000</td>\n",
       "      <td>1950</td>\n",
       "      <td>150</td>\n",
       "      <td>1</td>\n",
       "      <td>1</td>\n",
       "      <td>ultra</td>\n",
       "    </tr>\n",
       "    <tr>\n",
       "      <td>4</td>\n",
       "      <td>1000</td>\n",
       "      <td>9.0</td>\n",
       "      <td>58.0</td>\n",
       "      <td>466.0</td>\n",
       "      <td>57.0</td>\n",
       "      <td>14581.0</td>\n",
       "      <td>52</td>\n",
       "      <td>2018</td>\n",
       "      <td>Краснодар</td>\n",
       "      <td>Рафаил</td>\n",
       "      <td>...</td>\n",
       "      <td>2018-05-25</td>\n",
       "      <td>ultra</td>\n",
       "      <td>1000</td>\n",
       "      <td>30720</td>\n",
       "      <td>3000</td>\n",
       "      <td>1950</td>\n",
       "      <td>150</td>\n",
       "      <td>1</td>\n",
       "      <td>1</td>\n",
       "      <td>ultra</td>\n",
       "    </tr>\n",
       "    <tr>\n",
       "      <td>...</td>\n",
       "      <td>...</td>\n",
       "      <td>...</td>\n",
       "      <td>...</td>\n",
       "      <td>...</td>\n",
       "      <td>...</td>\n",
       "      <td>...</td>\n",
       "      <td>...</td>\n",
       "      <td>...</td>\n",
       "      <td>...</td>\n",
       "      <td>...</td>\n",
       "      <td>...</td>\n",
       "      <td>...</td>\n",
       "      <td>...</td>\n",
       "      <td>...</td>\n",
       "      <td>...</td>\n",
       "      <td>...</td>\n",
       "      <td>...</td>\n",
       "      <td>...</td>\n",
       "      <td>...</td>\n",
       "      <td>...</td>\n",
       "      <td>...</td>\n",
       "    </tr>\n",
       "    <tr>\n",
       "      <td>3211</td>\n",
       "      <td>1489</td>\n",
       "      <td>9.0</td>\n",
       "      <td>0.0</td>\n",
       "      <td>0.0</td>\n",
       "      <td>32.0</td>\n",
       "      <td>17232.0</td>\n",
       "      <td>35</td>\n",
       "      <td>2018</td>\n",
       "      <td>Санкт-Петербург</td>\n",
       "      <td>Павел</td>\n",
       "      <td>...</td>\n",
       "      <td>2018-08-15</td>\n",
       "      <td>smart</td>\n",
       "      <td>50</td>\n",
       "      <td>15360</td>\n",
       "      <td>500</td>\n",
       "      <td>550</td>\n",
       "      <td>200</td>\n",
       "      <td>3</td>\n",
       "      <td>3</td>\n",
       "      <td>smart</td>\n",
       "    </tr>\n",
       "    <tr>\n",
       "      <td>3212</td>\n",
       "      <td>1489</td>\n",
       "      <td>10.0</td>\n",
       "      <td>0.0</td>\n",
       "      <td>0.0</td>\n",
       "      <td>21.0</td>\n",
       "      <td>19588.0</td>\n",
       "      <td>35</td>\n",
       "      <td>2018</td>\n",
       "      <td>Санкт-Петербург</td>\n",
       "      <td>Павел</td>\n",
       "      <td>...</td>\n",
       "      <td>2018-08-15</td>\n",
       "      <td>smart</td>\n",
       "      <td>50</td>\n",
       "      <td>15360</td>\n",
       "      <td>500</td>\n",
       "      <td>550</td>\n",
       "      <td>200</td>\n",
       "      <td>3</td>\n",
       "      <td>3</td>\n",
       "      <td>smart</td>\n",
       "    </tr>\n",
       "    <tr>\n",
       "      <td>3213</td>\n",
       "      <td>1489</td>\n",
       "      <td>11.0</td>\n",
       "      <td>0.0</td>\n",
       "      <td>0.0</td>\n",
       "      <td>20.0</td>\n",
       "      <td>17516.0</td>\n",
       "      <td>35</td>\n",
       "      <td>2018</td>\n",
       "      <td>Санкт-Петербург</td>\n",
       "      <td>Павел</td>\n",
       "      <td>...</td>\n",
       "      <td>2018-08-15</td>\n",
       "      <td>smart</td>\n",
       "      <td>50</td>\n",
       "      <td>15360</td>\n",
       "      <td>500</td>\n",
       "      <td>550</td>\n",
       "      <td>200</td>\n",
       "      <td>3</td>\n",
       "      <td>3</td>\n",
       "      <td>smart</td>\n",
       "    </tr>\n",
       "    <tr>\n",
       "      <td>3214</td>\n",
       "      <td>1489</td>\n",
       "      <td>12.0</td>\n",
       "      <td>0.0</td>\n",
       "      <td>0.0</td>\n",
       "      <td>35.0</td>\n",
       "      <td>17341.0</td>\n",
       "      <td>35</td>\n",
       "      <td>2018</td>\n",
       "      <td>Санкт-Петербург</td>\n",
       "      <td>Павел</td>\n",
       "      <td>...</td>\n",
       "      <td>2018-08-15</td>\n",
       "      <td>smart</td>\n",
       "      <td>50</td>\n",
       "      <td>15360</td>\n",
       "      <td>500</td>\n",
       "      <td>550</td>\n",
       "      <td>200</td>\n",
       "      <td>3</td>\n",
       "      <td>3</td>\n",
       "      <td>smart</td>\n",
       "    </tr>\n",
       "    <tr>\n",
       "      <td>3215</td>\n",
       "      <td>1371</td>\n",
       "      <td>0.0</td>\n",
       "      <td>0.0</td>\n",
       "      <td>0.0</td>\n",
       "      <td>0.0</td>\n",
       "      <td>0.0</td>\n",
       "      <td>50</td>\n",
       "      <td>2018-12-30</td>\n",
       "      <td>Омск</td>\n",
       "      <td>Ириней</td>\n",
       "      <td>...</td>\n",
       "      <td>2018-12-25</td>\n",
       "      <td>smart</td>\n",
       "      <td>50</td>\n",
       "      <td>15360</td>\n",
       "      <td>500</td>\n",
       "      <td>550</td>\n",
       "      <td>200</td>\n",
       "      <td>3</td>\n",
       "      <td>3</td>\n",
       "      <td>smart</td>\n",
       "    </tr>\n",
       "  </tbody>\n",
       "</table>\n",
       "<p>3216 rows × 21 columns</p>\n",
       "</div>"
      ],
      "text/plain": [
       "      user_id  months  calls_count  minut_sum  messages_count  internet_sum  \\\n",
       "0        1000     5.0         22.0      159.0            22.0        2256.0   \n",
       "1        1000     6.0         43.0      172.0            60.0       23257.0   \n",
       "2        1000     7.0         47.0      340.0            75.0       14016.0   \n",
       "3        1000     8.0         52.0      408.0            81.0       14070.0   \n",
       "4        1000     9.0         58.0      466.0            57.0       14581.0   \n",
       "...       ...     ...          ...        ...             ...           ...   \n",
       "3211     1489     9.0          0.0        0.0            32.0       17232.0   \n",
       "3212     1489    10.0          0.0        0.0            21.0       19588.0   \n",
       "3213     1489    11.0          0.0        0.0            20.0       17516.0   \n",
       "3214     1489    12.0          0.0        0.0            35.0       17341.0   \n",
       "3215     1371     0.0          0.0        0.0             0.0           0.0   \n",
       "\n",
       "      age  churn_date             city first_name  ...    reg_date tariff  \\\n",
       "0      52        2018        Краснодар     Рафаил  ...  2018-05-25  ultra   \n",
       "1      52        2018        Краснодар     Рафаил  ...  2018-05-25  ultra   \n",
       "2      52        2018        Краснодар     Рафаил  ...  2018-05-25  ultra   \n",
       "3      52        2018        Краснодар     Рафаил  ...  2018-05-25  ultra   \n",
       "4      52        2018        Краснодар     Рафаил  ...  2018-05-25  ultra   \n",
       "...   ...         ...              ...        ...  ...         ...    ...   \n",
       "3211   35        2018  Санкт-Петербург      Павел  ...  2018-08-15  smart   \n",
       "3212   35        2018  Санкт-Петербург      Павел  ...  2018-08-15  smart   \n",
       "3213   35        2018  Санкт-Петербург      Павел  ...  2018-08-15  smart   \n",
       "3214   35        2018  Санкт-Петербург      Павел  ...  2018-08-15  smart   \n",
       "3215   50  2018-12-30             Омск     Ириней  ...  2018-12-25  smart   \n",
       "\n",
       "     messages_included  mb_per_month_included  minutes_included  \\\n",
       "0                 1000                  30720              3000   \n",
       "1                 1000                  30720              3000   \n",
       "2                 1000                  30720              3000   \n",
       "3                 1000                  30720              3000   \n",
       "4                 1000                  30720              3000   \n",
       "...                ...                    ...               ...   \n",
       "3211                50                  15360               500   \n",
       "3212                50                  15360               500   \n",
       "3213                50                  15360               500   \n",
       "3214                50                  15360               500   \n",
       "3215                50                  15360               500   \n",
       "\n",
       "      rub_monthly_fee  rub_per_gb  rub_per_message  rub_per_minute  \\\n",
       "0                1950         150                1               1   \n",
       "1                1950         150                1               1   \n",
       "2                1950         150                1               1   \n",
       "3                1950         150                1               1   \n",
       "4                1950         150                1               1   \n",
       "...               ...         ...              ...             ...   \n",
       "3211              550         200                3               3   \n",
       "3212              550         200                3               3   \n",
       "3213              550         200                3               3   \n",
       "3214              550         200                3               3   \n",
       "3215              550         200                3               3   \n",
       "\n",
       "      tariff_name  \n",
       "0           ultra  \n",
       "1           ultra  \n",
       "2           ultra  \n",
       "3           ultra  \n",
       "4           ultra  \n",
       "...           ...  \n",
       "3211        smart  \n",
       "3212        smart  \n",
       "3213        smart  \n",
       "3214        smart  \n",
       "3215        smart  \n",
       "\n",
       "[3216 rows x 21 columns]"
      ]
     },
     "execution_count": 24,
     "metadata": {},
     "output_type": "execute_result"
    }
   ],
   "source": [
    "data2 = data.merge(tariffs, left_on='tariff', right_on='tariff_name')\n",
    "data2"
   ]
  },
  {
   "cell_type": "markdown",
   "metadata": {},
   "source": [
    "  \n",
    "*Расчитаем помесячную выручку с каждого пользователя*"
   ]
  },
  {
   "cell_type": "code",
   "execution_count": 25,
   "metadata": {
    "scrolled": true
   },
   "outputs": [
    {
     "data": {
      "text/html": [
       "<div>\n",
       "<style scoped>\n",
       "    .dataframe tbody tr th:only-of-type {\n",
       "        vertical-align: middle;\n",
       "    }\n",
       "\n",
       "    .dataframe tbody tr th {\n",
       "        vertical-align: top;\n",
       "    }\n",
       "\n",
       "    .dataframe thead th {\n",
       "        text-align: right;\n",
       "    }\n",
       "</style>\n",
       "<table border=\"1\" class=\"dataframe\">\n",
       "  <thead>\n",
       "    <tr style=\"text-align: right;\">\n",
       "      <th></th>\n",
       "      <th>user_id</th>\n",
       "      <th>months</th>\n",
       "      <th>calls_count</th>\n",
       "      <th>minut_sum</th>\n",
       "      <th>messages_count</th>\n",
       "      <th>internet_sum</th>\n",
       "      <th>age</th>\n",
       "      <th>churn_date</th>\n",
       "      <th>city</th>\n",
       "      <th>first_name</th>\n",
       "      <th>...</th>\n",
       "      <th>tariff</th>\n",
       "      <th>messages_included</th>\n",
       "      <th>mb_per_month_included</th>\n",
       "      <th>minutes_included</th>\n",
       "      <th>rub_monthly_fee</th>\n",
       "      <th>rub_per_gb</th>\n",
       "      <th>rub_per_message</th>\n",
       "      <th>rub_per_minute</th>\n",
       "      <th>tariff_name</th>\n",
       "      <th>tariff_revenue</th>\n",
       "    </tr>\n",
       "  </thead>\n",
       "  <tbody>\n",
       "    <tr>\n",
       "      <td>0</td>\n",
       "      <td>1000</td>\n",
       "      <td>5.0</td>\n",
       "      <td>22.0</td>\n",
       "      <td>159.0</td>\n",
       "      <td>22.0</td>\n",
       "      <td>2256.0</td>\n",
       "      <td>52</td>\n",
       "      <td>2018</td>\n",
       "      <td>Краснодар</td>\n",
       "      <td>Рафаил</td>\n",
       "      <td>...</td>\n",
       "      <td>ultra</td>\n",
       "      <td>1000</td>\n",
       "      <td>30720</td>\n",
       "      <td>3000</td>\n",
       "      <td>1950</td>\n",
       "      <td>150</td>\n",
       "      <td>1</td>\n",
       "      <td>1</td>\n",
       "      <td>ultra</td>\n",
       "      <td>1950.0</td>\n",
       "    </tr>\n",
       "    <tr>\n",
       "      <td>1</td>\n",
       "      <td>1000</td>\n",
       "      <td>6.0</td>\n",
       "      <td>43.0</td>\n",
       "      <td>172.0</td>\n",
       "      <td>60.0</td>\n",
       "      <td>23257.0</td>\n",
       "      <td>52</td>\n",
       "      <td>2018</td>\n",
       "      <td>Краснодар</td>\n",
       "      <td>Рафаил</td>\n",
       "      <td>...</td>\n",
       "      <td>ultra</td>\n",
       "      <td>1000</td>\n",
       "      <td>30720</td>\n",
       "      <td>3000</td>\n",
       "      <td>1950</td>\n",
       "      <td>150</td>\n",
       "      <td>1</td>\n",
       "      <td>1</td>\n",
       "      <td>ultra</td>\n",
       "      <td>1950.0</td>\n",
       "    </tr>\n",
       "    <tr>\n",
       "      <td>2</td>\n",
       "      <td>1000</td>\n",
       "      <td>7.0</td>\n",
       "      <td>47.0</td>\n",
       "      <td>340.0</td>\n",
       "      <td>75.0</td>\n",
       "      <td>14016.0</td>\n",
       "      <td>52</td>\n",
       "      <td>2018</td>\n",
       "      <td>Краснодар</td>\n",
       "      <td>Рафаил</td>\n",
       "      <td>...</td>\n",
       "      <td>ultra</td>\n",
       "      <td>1000</td>\n",
       "      <td>30720</td>\n",
       "      <td>3000</td>\n",
       "      <td>1950</td>\n",
       "      <td>150</td>\n",
       "      <td>1</td>\n",
       "      <td>1</td>\n",
       "      <td>ultra</td>\n",
       "      <td>1950.0</td>\n",
       "    </tr>\n",
       "    <tr>\n",
       "      <td>3</td>\n",
       "      <td>1000</td>\n",
       "      <td>8.0</td>\n",
       "      <td>52.0</td>\n",
       "      <td>408.0</td>\n",
       "      <td>81.0</td>\n",
       "      <td>14070.0</td>\n",
       "      <td>52</td>\n",
       "      <td>2018</td>\n",
       "      <td>Краснодар</td>\n",
       "      <td>Рафаил</td>\n",
       "      <td>...</td>\n",
       "      <td>ultra</td>\n",
       "      <td>1000</td>\n",
       "      <td>30720</td>\n",
       "      <td>3000</td>\n",
       "      <td>1950</td>\n",
       "      <td>150</td>\n",
       "      <td>1</td>\n",
       "      <td>1</td>\n",
       "      <td>ultra</td>\n",
       "      <td>1950.0</td>\n",
       "    </tr>\n",
       "    <tr>\n",
       "      <td>4</td>\n",
       "      <td>1000</td>\n",
       "      <td>9.0</td>\n",
       "      <td>58.0</td>\n",
       "      <td>466.0</td>\n",
       "      <td>57.0</td>\n",
       "      <td>14581.0</td>\n",
       "      <td>52</td>\n",
       "      <td>2018</td>\n",
       "      <td>Краснодар</td>\n",
       "      <td>Рафаил</td>\n",
       "      <td>...</td>\n",
       "      <td>ultra</td>\n",
       "      <td>1000</td>\n",
       "      <td>30720</td>\n",
       "      <td>3000</td>\n",
       "      <td>1950</td>\n",
       "      <td>150</td>\n",
       "      <td>1</td>\n",
       "      <td>1</td>\n",
       "      <td>ultra</td>\n",
       "      <td>1950.0</td>\n",
       "    </tr>\n",
       "    <tr>\n",
       "      <td>...</td>\n",
       "      <td>...</td>\n",
       "      <td>...</td>\n",
       "      <td>...</td>\n",
       "      <td>...</td>\n",
       "      <td>...</td>\n",
       "      <td>...</td>\n",
       "      <td>...</td>\n",
       "      <td>...</td>\n",
       "      <td>...</td>\n",
       "      <td>...</td>\n",
       "      <td>...</td>\n",
       "      <td>...</td>\n",
       "      <td>...</td>\n",
       "      <td>...</td>\n",
       "      <td>...</td>\n",
       "      <td>...</td>\n",
       "      <td>...</td>\n",
       "      <td>...</td>\n",
       "      <td>...</td>\n",
       "      <td>...</td>\n",
       "      <td>...</td>\n",
       "    </tr>\n",
       "    <tr>\n",
       "      <td>3211</td>\n",
       "      <td>1489</td>\n",
       "      <td>9.0</td>\n",
       "      <td>0.0</td>\n",
       "      <td>0.0</td>\n",
       "      <td>32.0</td>\n",
       "      <td>17232.0</td>\n",
       "      <td>35</td>\n",
       "      <td>2018</td>\n",
       "      <td>Санкт-Петербург</td>\n",
       "      <td>Павел</td>\n",
       "      <td>...</td>\n",
       "      <td>smart</td>\n",
       "      <td>50</td>\n",
       "      <td>15360</td>\n",
       "      <td>500</td>\n",
       "      <td>550</td>\n",
       "      <td>200</td>\n",
       "      <td>3</td>\n",
       "      <td>3</td>\n",
       "      <td>smart</td>\n",
       "      <td>950.0</td>\n",
       "    </tr>\n",
       "    <tr>\n",
       "      <td>3212</td>\n",
       "      <td>1489</td>\n",
       "      <td>10.0</td>\n",
       "      <td>0.0</td>\n",
       "      <td>0.0</td>\n",
       "      <td>21.0</td>\n",
       "      <td>19588.0</td>\n",
       "      <td>35</td>\n",
       "      <td>2018</td>\n",
       "      <td>Санкт-Петербург</td>\n",
       "      <td>Павел</td>\n",
       "      <td>...</td>\n",
       "      <td>smart</td>\n",
       "      <td>50</td>\n",
       "      <td>15360</td>\n",
       "      <td>500</td>\n",
       "      <td>550</td>\n",
       "      <td>200</td>\n",
       "      <td>3</td>\n",
       "      <td>3</td>\n",
       "      <td>smart</td>\n",
       "      <td>1550.0</td>\n",
       "    </tr>\n",
       "    <tr>\n",
       "      <td>3213</td>\n",
       "      <td>1489</td>\n",
       "      <td>11.0</td>\n",
       "      <td>0.0</td>\n",
       "      <td>0.0</td>\n",
       "      <td>20.0</td>\n",
       "      <td>17516.0</td>\n",
       "      <td>35</td>\n",
       "      <td>2018</td>\n",
       "      <td>Санкт-Петербург</td>\n",
       "      <td>Павел</td>\n",
       "      <td>...</td>\n",
       "      <td>smart</td>\n",
       "      <td>50</td>\n",
       "      <td>15360</td>\n",
       "      <td>500</td>\n",
       "      <td>550</td>\n",
       "      <td>200</td>\n",
       "      <td>3</td>\n",
       "      <td>3</td>\n",
       "      <td>smart</td>\n",
       "      <td>1150.0</td>\n",
       "    </tr>\n",
       "    <tr>\n",
       "      <td>3214</td>\n",
       "      <td>1489</td>\n",
       "      <td>12.0</td>\n",
       "      <td>0.0</td>\n",
       "      <td>0.0</td>\n",
       "      <td>35.0</td>\n",
       "      <td>17341.0</td>\n",
       "      <td>35</td>\n",
       "      <td>2018</td>\n",
       "      <td>Санкт-Петербург</td>\n",
       "      <td>Павел</td>\n",
       "      <td>...</td>\n",
       "      <td>smart</td>\n",
       "      <td>50</td>\n",
       "      <td>15360</td>\n",
       "      <td>500</td>\n",
       "      <td>550</td>\n",
       "      <td>200</td>\n",
       "      <td>3</td>\n",
       "      <td>3</td>\n",
       "      <td>smart</td>\n",
       "      <td>950.0</td>\n",
       "    </tr>\n",
       "    <tr>\n",
       "      <td>3215</td>\n",
       "      <td>1371</td>\n",
       "      <td>0.0</td>\n",
       "      <td>0.0</td>\n",
       "      <td>0.0</td>\n",
       "      <td>0.0</td>\n",
       "      <td>0.0</td>\n",
       "      <td>50</td>\n",
       "      <td>2018-12-30</td>\n",
       "      <td>Омск</td>\n",
       "      <td>Ириней</td>\n",
       "      <td>...</td>\n",
       "      <td>smart</td>\n",
       "      <td>50</td>\n",
       "      <td>15360</td>\n",
       "      <td>500</td>\n",
       "      <td>550</td>\n",
       "      <td>200</td>\n",
       "      <td>3</td>\n",
       "      <td>3</td>\n",
       "      <td>smart</td>\n",
       "      <td>550.0</td>\n",
       "    </tr>\n",
       "  </tbody>\n",
       "</table>\n",
       "<p>3216 rows × 22 columns</p>\n",
       "</div>"
      ],
      "text/plain": [
       "      user_id  months  calls_count  minut_sum  messages_count  internet_sum  \\\n",
       "0        1000     5.0         22.0      159.0            22.0        2256.0   \n",
       "1        1000     6.0         43.0      172.0            60.0       23257.0   \n",
       "2        1000     7.0         47.0      340.0            75.0       14016.0   \n",
       "3        1000     8.0         52.0      408.0            81.0       14070.0   \n",
       "4        1000     9.0         58.0      466.0            57.0       14581.0   \n",
       "...       ...     ...          ...        ...             ...           ...   \n",
       "3211     1489     9.0          0.0        0.0            32.0       17232.0   \n",
       "3212     1489    10.0          0.0        0.0            21.0       19588.0   \n",
       "3213     1489    11.0          0.0        0.0            20.0       17516.0   \n",
       "3214     1489    12.0          0.0        0.0            35.0       17341.0   \n",
       "3215     1371     0.0          0.0        0.0             0.0           0.0   \n",
       "\n",
       "      age  churn_date             city first_name  ... tariff  \\\n",
       "0      52        2018        Краснодар     Рафаил  ...  ultra   \n",
       "1      52        2018        Краснодар     Рафаил  ...  ultra   \n",
       "2      52        2018        Краснодар     Рафаил  ...  ultra   \n",
       "3      52        2018        Краснодар     Рафаил  ...  ultra   \n",
       "4      52        2018        Краснодар     Рафаил  ...  ultra   \n",
       "...   ...         ...              ...        ...  ...    ...   \n",
       "3211   35        2018  Санкт-Петербург      Павел  ...  smart   \n",
       "3212   35        2018  Санкт-Петербург      Павел  ...  smart   \n",
       "3213   35        2018  Санкт-Петербург      Павел  ...  smart   \n",
       "3214   35        2018  Санкт-Петербург      Павел  ...  smart   \n",
       "3215   50  2018-12-30             Омск     Ириней  ...  smart   \n",
       "\n",
       "     messages_included mb_per_month_included  minutes_included  \\\n",
       "0                 1000                 30720              3000   \n",
       "1                 1000                 30720              3000   \n",
       "2                 1000                 30720              3000   \n",
       "3                 1000                 30720              3000   \n",
       "4                 1000                 30720              3000   \n",
       "...                ...                   ...               ...   \n",
       "3211                50                 15360               500   \n",
       "3212                50                 15360               500   \n",
       "3213                50                 15360               500   \n",
       "3214                50                 15360               500   \n",
       "3215                50                 15360               500   \n",
       "\n",
       "      rub_monthly_fee  rub_per_gb  rub_per_message  rub_per_minute  \\\n",
       "0                1950         150                1               1   \n",
       "1                1950         150                1               1   \n",
       "2                1950         150                1               1   \n",
       "3                1950         150                1               1   \n",
       "4                1950         150                1               1   \n",
       "...               ...         ...              ...             ...   \n",
       "3211              550         200                3               3   \n",
       "3212              550         200                3               3   \n",
       "3213              550         200                3               3   \n",
       "3214              550         200                3               3   \n",
       "3215              550         200                3               3   \n",
       "\n",
       "      tariff_name  tariff_revenue  \n",
       "0           ultra          1950.0  \n",
       "1           ultra          1950.0  \n",
       "2           ultra          1950.0  \n",
       "3           ultra          1950.0  \n",
       "4           ultra          1950.0  \n",
       "...           ...             ...  \n",
       "3211        smart           950.0  \n",
       "3212        smart          1550.0  \n",
       "3213        smart          1150.0  \n",
       "3214        smart           950.0  \n",
       "3215        smart           550.0  \n",
       "\n",
       "[3216 rows x 22 columns]"
      ]
     },
     "execution_count": 25,
     "metadata": {},
     "output_type": "execute_result"
    }
   ],
   "source": [
    "def tariff_revenue(row):\n",
    "    minut = row['minut_sum']\n",
    "    message = row['messages_count']\n",
    "    mb = row['internet_sum']\n",
    "    min_limit = row['minutes_included']\n",
    "    message_limit = row['messages_included']\n",
    "    mb_limit = row['mb_per_month_included']\n",
    "    rub_per_gb = row['rub_per_gb']\n",
    "    rub_per_message = row['rub_per_message']\n",
    "    rub_per_minute = row['rub_per_minute']  \n",
    "    rub_monthly_fee = row['rub_monthly_fee']\n",
    "    call_balance = minut - min_limit\n",
    "    messages_balance = message - message_limit\n",
    "    internet_balance = np.ceil((mb - mb_limit)/ 1024)\n",
    "    \n",
    "    if call_balance>0: \n",
    "        extra_call_balance = (minut - min_limit) * rub_per_minute \n",
    "    else: \n",
    "        extra_call_balance = 0\n",
    "    \n",
    "    if messages_balance>0: \n",
    "        extra_messages_balance = (message - message_limit) * rub_per_message \n",
    "    else: \n",
    "        extra_messages_balance = 0\n",
    "    \n",
    "    if internet_balance > 0: \n",
    "        extra_internet_balance = internet_balance * rub_per_gb \n",
    "    else: \n",
    "        extra_internet_balance = 0\n",
    "        \n",
    "    total_revenue = extra_call_balance + extra_messages_balance + extra_internet_balance + rub_monthly_fee\n",
    "    \n",
    "    return total_revenue\n",
    "data2['tariff_revenue'] = data2.apply(tariff_revenue, axis = 1)\n",
    "data2 "
   ]
  },
  {
   "cell_type": "markdown",
   "metadata": {},
   "source": [
    "## Анализ и описание данных"
   ]
  },
  {
   "cell_type": "markdown",
   "metadata": {},
   "source": [
    "  \n",
    "*Узнаем сколько минут разговора, сколько сообщений и какой объём интернет-трафика требуется пользователям каждого тарифа в месяц*"
   ]
  },
  {
   "cell_type": "code",
   "execution_count": 26,
   "metadata": {},
   "outputs": [
    {
     "data": {
      "text/html": [
       "<div>\n",
       "<style scoped>\n",
       "    .dataframe tbody tr th:only-of-type {\n",
       "        vertical-align: middle;\n",
       "    }\n",
       "\n",
       "    .dataframe tbody tr th {\n",
       "        vertical-align: top;\n",
       "    }\n",
       "\n",
       "    .dataframe thead th {\n",
       "        text-align: right;\n",
       "    }\n",
       "</style>\n",
       "<table border=\"1\" class=\"dataframe\">\n",
       "  <thead>\n",
       "    <tr style=\"text-align: right;\">\n",
       "      <th></th>\n",
       "      <th>months</th>\n",
       "      <th>internet_sum</th>\n",
       "      <th>messages_count</th>\n",
       "      <th>minut_sum</th>\n",
       "    </tr>\n",
       "  </thead>\n",
       "  <tbody>\n",
       "    <tr>\n",
       "      <td>0</td>\n",
       "      <td>0.0</td>\n",
       "      <td>0.0</td>\n",
       "      <td>0.0</td>\n",
       "      <td>0.0</td>\n",
       "    </tr>\n",
       "    <tr>\n",
       "      <td>1</td>\n",
       "      <td>1.0</td>\n",
       "      <td>289831.0</td>\n",
       "      <td>620.0</td>\n",
       "      <td>6931.0</td>\n",
       "    </tr>\n",
       "    <tr>\n",
       "      <td>2</td>\n",
       "      <td>2.0</td>\n",
       "      <td>673461.0</td>\n",
       "      <td>1397.0</td>\n",
       "      <td>17324.0</td>\n",
       "    </tr>\n",
       "    <tr>\n",
       "      <td>3</td>\n",
       "      <td>3.0</td>\n",
       "      <td>1164537.0</td>\n",
       "      <td>2453.0</td>\n",
       "      <td>30034.0</td>\n",
       "    </tr>\n",
       "    <tr>\n",
       "      <td>4</td>\n",
       "      <td>4.0</td>\n",
       "      <td>1509702.0</td>\n",
       "      <td>3443.0</td>\n",
       "      <td>41119.0</td>\n",
       "    </tr>\n",
       "    <tr>\n",
       "      <td>5</td>\n",
       "      <td>5.0</td>\n",
       "      <td>2231353.0</td>\n",
       "      <td>4762.0</td>\n",
       "      <td>54618.0</td>\n",
       "    </tr>\n",
       "    <tr>\n",
       "      <td>6</td>\n",
       "      <td>6.0</td>\n",
       "      <td>2593622.0</td>\n",
       "      <td>5478.0</td>\n",
       "      <td>64885.0</td>\n",
       "    </tr>\n",
       "    <tr>\n",
       "      <td>7</td>\n",
       "      <td>7.0</td>\n",
       "      <td>3168466.0</td>\n",
       "      <td>6784.0</td>\n",
       "      <td>82079.0</td>\n",
       "    </tr>\n",
       "    <tr>\n",
       "      <td>8</td>\n",
       "      <td>8.0</td>\n",
       "      <td>3908561.0</td>\n",
       "      <td>7905.0</td>\n",
       "      <td>99045.0</td>\n",
       "    </tr>\n",
       "    <tr>\n",
       "      <td>9</td>\n",
       "      <td>9.0</td>\n",
       "      <td>4244377.0</td>\n",
       "      <td>8746.0</td>\n",
       "      <td>111439.0</td>\n",
       "    </tr>\n",
       "    <tr>\n",
       "      <td>10</td>\n",
       "      <td>10.0</td>\n",
       "      <td>4932898.0</td>\n",
       "      <td>9927.0</td>\n",
       "      <td>125284.0</td>\n",
       "    </tr>\n",
       "    <tr>\n",
       "      <td>11</td>\n",
       "      <td>11.0</td>\n",
       "      <td>5345940.0</td>\n",
       "      <td>10768.0</td>\n",
       "      <td>137544.0</td>\n",
       "    </tr>\n",
       "    <tr>\n",
       "      <td>12</td>\n",
       "      <td>12.0</td>\n",
       "      <td>6112113.0</td>\n",
       "      <td>12130.0</td>\n",
       "      <td>161275.0</td>\n",
       "    </tr>\n",
       "  </tbody>\n",
       "</table>\n",
       "</div>"
      ],
      "text/plain": [
       "    months  internet_sum  messages_count  minut_sum\n",
       "0      0.0           0.0             0.0        0.0\n",
       "1      1.0      289831.0           620.0     6931.0\n",
       "2      2.0      673461.0          1397.0    17324.0\n",
       "3      3.0     1164537.0          2453.0    30034.0\n",
       "4      4.0     1509702.0          3443.0    41119.0\n",
       "5      5.0     2231353.0          4762.0    54618.0\n",
       "6      6.0     2593622.0          5478.0    64885.0\n",
       "7      7.0     3168466.0          6784.0    82079.0\n",
       "8      8.0     3908561.0          7905.0    99045.0\n",
       "9      9.0     4244377.0          8746.0   111439.0\n",
       "10    10.0     4932898.0          9927.0   125284.0\n",
       "11    11.0     5345940.0         10768.0   137544.0\n",
       "12    12.0     6112113.0         12130.0   161275.0"
      ]
     },
     "execution_count": 26,
     "metadata": {},
     "output_type": "execute_result"
    }
   ],
   "source": [
    "data2_smart = data2.query('tariff == \"smart\"')\n",
    "datasum_smart = data2_smart.pivot_table(index = 'months', values = ['minut_sum', 'messages_count', 'internet_sum'], aggfunc = 'sum').reset_index()\n",
    "datasum_smart"
   ]
  },
  {
   "cell_type": "code",
   "execution_count": 27,
   "metadata": {},
   "outputs": [
    {
     "data": {
      "text/html": [
       "<div>\n",
       "<style scoped>\n",
       "    .dataframe tbody tr th:only-of-type {\n",
       "        vertical-align: middle;\n",
       "    }\n",
       "\n",
       "    .dataframe tbody tr th {\n",
       "        vertical-align: top;\n",
       "    }\n",
       "\n",
       "    .dataframe thead th {\n",
       "        text-align: right;\n",
       "    }\n",
       "</style>\n",
       "<table border=\"1\" class=\"dataframe\">\n",
       "  <thead>\n",
       "    <tr style=\"text-align: right;\">\n",
       "      <th></th>\n",
       "      <th>months</th>\n",
       "      <th>internet_sum</th>\n",
       "      <th>messages_count</th>\n",
       "      <th>minut_sum</th>\n",
       "    </tr>\n",
       "  </thead>\n",
       "  <tbody>\n",
       "    <tr>\n",
       "      <td>0</td>\n",
       "      <td>0.0</td>\n",
       "      <td>0.0</td>\n",
       "      <td>0.0</td>\n",
       "      <td>0.0</td>\n",
       "    </tr>\n",
       "    <tr>\n",
       "      <td>1</td>\n",
       "      <td>1.0</td>\n",
       "      <td>118382.0</td>\n",
       "      <td>304.0</td>\n",
       "      <td>3853.0</td>\n",
       "    </tr>\n",
       "    <tr>\n",
       "      <td>2</td>\n",
       "      <td>2.0</td>\n",
       "      <td>282887.0</td>\n",
       "      <td>527.0</td>\n",
       "      <td>7131.0</td>\n",
       "    </tr>\n",
       "    <tr>\n",
       "      <td>3</td>\n",
       "      <td>3.0</td>\n",
       "      <td>649423.0</td>\n",
       "      <td>1195.0</td>\n",
       "      <td>18117.0</td>\n",
       "    </tr>\n",
       "    <tr>\n",
       "      <td>4</td>\n",
       "      <td>4.0</td>\n",
       "      <td>926409.0</td>\n",
       "      <td>1736.0</td>\n",
       "      <td>25191.0</td>\n",
       "    </tr>\n",
       "    <tr>\n",
       "      <td>5</td>\n",
       "      <td>5.0</td>\n",
       "      <td>1298540.0</td>\n",
       "      <td>2536.0</td>\n",
       "      <td>34192.0</td>\n",
       "    </tr>\n",
       "    <tr>\n",
       "      <td>6</td>\n",
       "      <td>6.0</td>\n",
       "      <td>1591148.0</td>\n",
       "      <td>3505.0</td>\n",
       "      <td>40295.0</td>\n",
       "    </tr>\n",
       "    <tr>\n",
       "      <td>7</td>\n",
       "      <td>7.0</td>\n",
       "      <td>1866833.0</td>\n",
       "      <td>4536.0</td>\n",
       "      <td>49667.0</td>\n",
       "    </tr>\n",
       "    <tr>\n",
       "      <td>8</td>\n",
       "      <td>8.0</td>\n",
       "      <td>2096565.0</td>\n",
       "      <td>5183.0</td>\n",
       "      <td>54653.0</td>\n",
       "    </tr>\n",
       "    <tr>\n",
       "      <td>9</td>\n",
       "      <td>9.0</td>\n",
       "      <td>2210554.0</td>\n",
       "      <td>6013.0</td>\n",
       "      <td>62036.0</td>\n",
       "    </tr>\n",
       "    <tr>\n",
       "      <td>10</td>\n",
       "      <td>10.0</td>\n",
       "      <td>2467856.0</td>\n",
       "      <td>7187.0</td>\n",
       "      <td>68644.0</td>\n",
       "    </tr>\n",
       "    <tr>\n",
       "      <td>11</td>\n",
       "      <td>11.0</td>\n",
       "      <td>2653912.0</td>\n",
       "      <td>7476.0</td>\n",
       "      <td>72545.0</td>\n",
       "    </tr>\n",
       "    <tr>\n",
       "      <td>12</td>\n",
       "      <td>12.0</td>\n",
       "      <td>3032089.0</td>\n",
       "      <td>8425.0</td>\n",
       "      <td>82400.0</td>\n",
       "    </tr>\n",
       "  </tbody>\n",
       "</table>\n",
       "</div>"
      ],
      "text/plain": [
       "    months  internet_sum  messages_count  minut_sum\n",
       "0      0.0           0.0             0.0        0.0\n",
       "1      1.0      118382.0           304.0     3853.0\n",
       "2      2.0      282887.0           527.0     7131.0\n",
       "3      3.0      649423.0          1195.0    18117.0\n",
       "4      4.0      926409.0          1736.0    25191.0\n",
       "5      5.0     1298540.0          2536.0    34192.0\n",
       "6      6.0     1591148.0          3505.0    40295.0\n",
       "7      7.0     1866833.0          4536.0    49667.0\n",
       "8      8.0     2096565.0          5183.0    54653.0\n",
       "9      9.0     2210554.0          6013.0    62036.0\n",
       "10    10.0     2467856.0          7187.0    68644.0\n",
       "11    11.0     2653912.0          7476.0    72545.0\n",
       "12    12.0     3032089.0          8425.0    82400.0"
      ]
     },
     "execution_count": 27,
     "metadata": {},
     "output_type": "execute_result"
    }
   ],
   "source": [
    "data2_ultra = data2.query('tariff == \"ultra\"')\n",
    "datasum_ultra = data2_ultra.pivot_table(index = 'months', values = ['minut_sum', 'messages_count', 'internet_sum'], aggfunc = 'sum').reset_index()\n",
    "datasum_ultra"
   ]
  },
  {
   "cell_type": "markdown",
   "metadata": {},
   "source": [
    "\n",
    "*Высчитаем среднее, дисперсию и стандартное отклонение*"
   ]
  },
  {
   "cell_type": "code",
   "execution_count": 28,
   "metadata": {},
   "outputs": [
    {
     "data": {
      "text/html": [
       "<div>\n",
       "<style scoped>\n",
       "    .dataframe tbody tr th:only-of-type {\n",
       "        vertical-align: middle;\n",
       "    }\n",
       "\n",
       "    .dataframe tbody tr th {\n",
       "        vertical-align: top;\n",
       "    }\n",
       "\n",
       "    .dataframe thead th {\n",
       "        text-align: right;\n",
       "    }\n",
       "</style>\n",
       "<table border=\"1\" class=\"dataframe\">\n",
       "  <thead>\n",
       "    <tr style=\"text-align: right;\">\n",
       "      <th></th>\n",
       "      <th>months</th>\n",
       "      <th>internet_sum</th>\n",
       "      <th>messages_count</th>\n",
       "      <th>minut_sum</th>\n",
       "    </tr>\n",
       "  </thead>\n",
       "  <tbody>\n",
       "    <tr>\n",
       "      <td>0</td>\n",
       "      <td>0.0</td>\n",
       "      <td>0.0</td>\n",
       "      <td>0.0</td>\n",
       "      <td>0.0</td>\n",
       "    </tr>\n",
       "    <tr>\n",
       "      <td>1</td>\n",
       "      <td>1.0</td>\n",
       "      <td>289831.0</td>\n",
       "      <td>620.0</td>\n",
       "      <td>6931.0</td>\n",
       "    </tr>\n",
       "    <tr>\n",
       "      <td>2</td>\n",
       "      <td>2.0</td>\n",
       "      <td>673461.0</td>\n",
       "      <td>1397.0</td>\n",
       "      <td>17324.0</td>\n",
       "    </tr>\n",
       "    <tr>\n",
       "      <td>3</td>\n",
       "      <td>3.0</td>\n",
       "      <td>1164537.0</td>\n",
       "      <td>2453.0</td>\n",
       "      <td>30034.0</td>\n",
       "    </tr>\n",
       "    <tr>\n",
       "      <td>4</td>\n",
       "      <td>4.0</td>\n",
       "      <td>1509702.0</td>\n",
       "      <td>3443.0</td>\n",
       "      <td>41119.0</td>\n",
       "    </tr>\n",
       "    <tr>\n",
       "      <td>5</td>\n",
       "      <td>5.0</td>\n",
       "      <td>2231353.0</td>\n",
       "      <td>4762.0</td>\n",
       "      <td>54618.0</td>\n",
       "    </tr>\n",
       "    <tr>\n",
       "      <td>6</td>\n",
       "      <td>6.0</td>\n",
       "      <td>2593622.0</td>\n",
       "      <td>5478.0</td>\n",
       "      <td>64885.0</td>\n",
       "    </tr>\n",
       "    <tr>\n",
       "      <td>7</td>\n",
       "      <td>7.0</td>\n",
       "      <td>3168466.0</td>\n",
       "      <td>6784.0</td>\n",
       "      <td>82079.0</td>\n",
       "    </tr>\n",
       "    <tr>\n",
       "      <td>8</td>\n",
       "      <td>8.0</td>\n",
       "      <td>3908561.0</td>\n",
       "      <td>7905.0</td>\n",
       "      <td>99045.0</td>\n",
       "    </tr>\n",
       "    <tr>\n",
       "      <td>9</td>\n",
       "      <td>9.0</td>\n",
       "      <td>4244377.0</td>\n",
       "      <td>8746.0</td>\n",
       "      <td>111439.0</td>\n",
       "    </tr>\n",
       "    <tr>\n",
       "      <td>10</td>\n",
       "      <td>10.0</td>\n",
       "      <td>4932898.0</td>\n",
       "      <td>9927.0</td>\n",
       "      <td>125284.0</td>\n",
       "    </tr>\n",
       "    <tr>\n",
       "      <td>11</td>\n",
       "      <td>11.0</td>\n",
       "      <td>5345940.0</td>\n",
       "      <td>10768.0</td>\n",
       "      <td>137544.0</td>\n",
       "    </tr>\n",
       "    <tr>\n",
       "      <td>12</td>\n",
       "      <td>12.0</td>\n",
       "      <td>6112113.0</td>\n",
       "      <td>12130.0</td>\n",
       "      <td>161275.0</td>\n",
       "    </tr>\n",
       "  </tbody>\n",
       "</table>\n",
       "</div>"
      ],
      "text/plain": [
       "    months  internet_sum  messages_count  minut_sum\n",
       "0      0.0           0.0             0.0        0.0\n",
       "1      1.0      289831.0           620.0     6931.0\n",
       "2      2.0      673461.0          1397.0    17324.0\n",
       "3      3.0     1164537.0          2453.0    30034.0\n",
       "4      4.0     1509702.0          3443.0    41119.0\n",
       "5      5.0     2231353.0          4762.0    54618.0\n",
       "6      6.0     2593622.0          5478.0    64885.0\n",
       "7      7.0     3168466.0          6784.0    82079.0\n",
       "8      8.0     3908561.0          7905.0    99045.0\n",
       "9      9.0     4244377.0          8746.0   111439.0\n",
       "10    10.0     4932898.0          9927.0   125284.0\n",
       "11    11.0     5345940.0         10768.0   137544.0\n",
       "12    12.0     6112113.0         12130.0   161275.0"
      ]
     },
     "execution_count": 28,
     "metadata": {},
     "output_type": "execute_result"
    }
   ],
   "source": [
    "datasum_smart_mean = datasum_smart.pivot_table(index = 'months', values = ['minut_sum', 'messages_count', 'internet_sum'], aggfunc = 'mean').reset_index()\n",
    "datasum_smart_mean"
   ]
  },
  {
   "cell_type": "code",
   "execution_count": 29,
   "metadata": {},
   "outputs": [
    {
     "data": {
      "text/html": [
       "<div>\n",
       "<style scoped>\n",
       "    .dataframe tbody tr th:only-of-type {\n",
       "        vertical-align: middle;\n",
       "    }\n",
       "\n",
       "    .dataframe tbody tr th {\n",
       "        vertical-align: top;\n",
       "    }\n",
       "\n",
       "    .dataframe thead th {\n",
       "        text-align: right;\n",
       "    }\n",
       "</style>\n",
       "<table border=\"1\" class=\"dataframe\">\n",
       "  <thead>\n",
       "    <tr style=\"text-align: right;\">\n",
       "      <th></th>\n",
       "      <th>months</th>\n",
       "      <th>internet_sum</th>\n",
       "      <th>messages_count</th>\n",
       "      <th>minut_sum</th>\n",
       "    </tr>\n",
       "  </thead>\n",
       "  <tbody>\n",
       "    <tr>\n",
       "      <td>0</td>\n",
       "      <td>0.0</td>\n",
       "      <td>0.0</td>\n",
       "      <td>0.0</td>\n",
       "      <td>0.0</td>\n",
       "    </tr>\n",
       "    <tr>\n",
       "      <td>1</td>\n",
       "      <td>1.0</td>\n",
       "      <td>118382.0</td>\n",
       "      <td>304.0</td>\n",
       "      <td>3853.0</td>\n",
       "    </tr>\n",
       "    <tr>\n",
       "      <td>2</td>\n",
       "      <td>2.0</td>\n",
       "      <td>282887.0</td>\n",
       "      <td>527.0</td>\n",
       "      <td>7131.0</td>\n",
       "    </tr>\n",
       "    <tr>\n",
       "      <td>3</td>\n",
       "      <td>3.0</td>\n",
       "      <td>649423.0</td>\n",
       "      <td>1195.0</td>\n",
       "      <td>18117.0</td>\n",
       "    </tr>\n",
       "    <tr>\n",
       "      <td>4</td>\n",
       "      <td>4.0</td>\n",
       "      <td>926409.0</td>\n",
       "      <td>1736.0</td>\n",
       "      <td>25191.0</td>\n",
       "    </tr>\n",
       "    <tr>\n",
       "      <td>5</td>\n",
       "      <td>5.0</td>\n",
       "      <td>1298540.0</td>\n",
       "      <td>2536.0</td>\n",
       "      <td>34192.0</td>\n",
       "    </tr>\n",
       "    <tr>\n",
       "      <td>6</td>\n",
       "      <td>6.0</td>\n",
       "      <td>1591148.0</td>\n",
       "      <td>3505.0</td>\n",
       "      <td>40295.0</td>\n",
       "    </tr>\n",
       "    <tr>\n",
       "      <td>7</td>\n",
       "      <td>7.0</td>\n",
       "      <td>1866833.0</td>\n",
       "      <td>4536.0</td>\n",
       "      <td>49667.0</td>\n",
       "    </tr>\n",
       "    <tr>\n",
       "      <td>8</td>\n",
       "      <td>8.0</td>\n",
       "      <td>2096565.0</td>\n",
       "      <td>5183.0</td>\n",
       "      <td>54653.0</td>\n",
       "    </tr>\n",
       "    <tr>\n",
       "      <td>9</td>\n",
       "      <td>9.0</td>\n",
       "      <td>2210554.0</td>\n",
       "      <td>6013.0</td>\n",
       "      <td>62036.0</td>\n",
       "    </tr>\n",
       "    <tr>\n",
       "      <td>10</td>\n",
       "      <td>10.0</td>\n",
       "      <td>2467856.0</td>\n",
       "      <td>7187.0</td>\n",
       "      <td>68644.0</td>\n",
       "    </tr>\n",
       "    <tr>\n",
       "      <td>11</td>\n",
       "      <td>11.0</td>\n",
       "      <td>2653912.0</td>\n",
       "      <td>7476.0</td>\n",
       "      <td>72545.0</td>\n",
       "    </tr>\n",
       "    <tr>\n",
       "      <td>12</td>\n",
       "      <td>12.0</td>\n",
       "      <td>3032089.0</td>\n",
       "      <td>8425.0</td>\n",
       "      <td>82400.0</td>\n",
       "    </tr>\n",
       "  </tbody>\n",
       "</table>\n",
       "</div>"
      ],
      "text/plain": [
       "    months  internet_sum  messages_count  minut_sum\n",
       "0      0.0           0.0             0.0        0.0\n",
       "1      1.0      118382.0           304.0     3853.0\n",
       "2      2.0      282887.0           527.0     7131.0\n",
       "3      3.0      649423.0          1195.0    18117.0\n",
       "4      4.0      926409.0          1736.0    25191.0\n",
       "5      5.0     1298540.0          2536.0    34192.0\n",
       "6      6.0     1591148.0          3505.0    40295.0\n",
       "7      7.0     1866833.0          4536.0    49667.0\n",
       "8      8.0     2096565.0          5183.0    54653.0\n",
       "9      9.0     2210554.0          6013.0    62036.0\n",
       "10    10.0     2467856.0          7187.0    68644.0\n",
       "11    11.0     2653912.0          7476.0    72545.0\n",
       "12    12.0     3032089.0          8425.0    82400.0"
      ]
     },
     "execution_count": 29,
     "metadata": {},
     "output_type": "execute_result"
    }
   ],
   "source": [
    "datasum_ultra_mean = datasum_ultra.pivot_table(index = 'months', values = ['minut_sum', 'messages_count', 'internet_sum'], aggfunc = 'mean').reset_index()\n",
    "datasum_ultra_mean"
   ]
  },
  {
   "cell_type": "code",
   "execution_count": 30,
   "metadata": {},
   "outputs": [
    {
     "data": {
      "text/plain": [
       "months            1.516667e+01\n",
       "internet_sum      4.068069e+12\n",
       "messages_count    1.613193e+07\n",
       "minut_sum         2.747263e+09\n",
       "dtype: float64"
      ]
     },
     "execution_count": 30,
     "metadata": {},
     "output_type": "execute_result"
    }
   ],
   "source": [
    "import numpy as np\n",
    "np.var(datasum_smart, ddof=1)"
   ]
  },
  {
   "cell_type": "code",
   "execution_count": 31,
   "metadata": {},
   "outputs": [
    {
     "data": {
      "text/plain": [
       "months            1.516667e+01\n",
       "internet_sum      1.028778e+12\n",
       "messages_count    8.648839e+06\n",
       "minut_sum         7.658338e+08\n",
       "dtype: float64"
      ]
     },
     "execution_count": 31,
     "metadata": {},
     "output_type": "execute_result"
    }
   ],
   "source": [
    "np.var(datasum_ultra, ddof=1)"
   ]
  },
  {
   "cell_type": "code",
   "execution_count": 32,
   "metadata": {},
   "outputs": [
    {
     "data": {
      "text/plain": [
       "months            3.894440e+00\n",
       "internet_sum      2.016946e+06\n",
       "messages_count    4.016457e+03\n",
       "minut_sum         5.241434e+04\n",
       "dtype: float64"
      ]
     },
     "execution_count": 32,
     "metadata": {},
     "output_type": "execute_result"
    }
   ],
   "source": [
    "np.std(datasum_smart, ddof=1)"
   ]
  },
  {
   "cell_type": "code",
   "execution_count": 33,
   "metadata": {},
   "outputs": [
    {
     "data": {
      "text/plain": [
       "months            3.894440e+00\n",
       "internet_sum      1.014287e+06\n",
       "messages_count    2.940891e+03\n",
       "minut_sum         2.767370e+04\n",
       "dtype: float64"
      ]
     },
     "execution_count": 33,
     "metadata": {},
     "output_type": "execute_result"
    }
   ],
   "source": [
    "np.std(datasum_ultra, ddof=1)"
   ]
  },
  {
   "cell_type": "code",
   "execution_count": 34,
   "metadata": {},
   "outputs": [
    {
     "data": {
      "image/png": "[encoded data removed]",
      "text/plain": [
       "<Figure size 432x288 with 1 Axes>"
      ]
     },
     "metadata": {
      "needs_background": "light"
     },
     "output_type": "display_data"
    }
   ],
   "source": [
    "import matplotlib.pyplot as plt\n",
    "np.var(datasum_smart, ddof=1).hist();\n",
    "plt.ylabel('Частота появления')\n",
    "plt.title('Гистограмма дисперсии суммы минут разговора, сообщений и интернет-трафика')\n",
    "plt.grid(True)\n",
    "plt.show()"
   ]
  },
  {
   "cell_type": "code",
   "execution_count": 35,
   "metadata": {},
   "outputs": [
    {
     "data": {
      "image/png": "[encoded data removed]",
      "text/plain": [
       "<Figure size 432x288 with 1 Axes>"
      ]
     },
     "metadata": {
      "needs_background": "light"
     },
     "output_type": "display_data"
    }
   ],
   "source": [
    "np.var(datasum_ultra, ddof=1).hist();\n",
    "plt.ylabel('Частота появления')\n",
    "plt.title('Гистограмма дисперсии суммы минут разговора, сообщений и интернет-трафика')\n",
    "plt.grid(True)\n",
    "plt.show()"
   ]
  },
  {
   "cell_type": "code",
   "execution_count": 36,
   "metadata": {},
   "outputs": [
    {
     "data": {
      "image/png": "[encoded data removed]",
      "text/plain": [
       "<Figure size 432x288 with 1 Axes>"
      ]
     },
     "metadata": {
      "needs_background": "light"
     },
     "output_type": "display_data"
    }
   ],
   "source": [
    "np.std(datasum_smart, ddof=1).hist();\n",
    "plt.ylabel('Частота появления')\n",
    "plt.title('Гистограмма стандартного отклонения суммы минут разговора, сообщений и интернет-трафика')\n",
    "plt.grid(True)\n",
    "plt.show()"
   ]
  },
  {
   "cell_type": "code",
   "execution_count": 37,
   "metadata": {},
   "outputs": [
    {
     "data": {
      "image/png": "[encoded data removed]",
      "text/plain": [
       "<Figure size 432x288 with 1 Axes>"
      ]
     },
     "metadata": {
      "needs_background": "light"
     },
     "output_type": "display_data"
    }
   ],
   "source": [
    "np.std(datasum_ultra, ddof=1).hist();\n",
    "plt.ylabel('Частота появления')\n",
    "plt.title('Гистограмма стандартного отклонения суммы минут разговора, сообщений и интернет-трафика')\n",
    "plt.grid(True)\n",
    "plt.show()"
   ]
  },
  {
   "cell_type": "markdown",
   "metadata": {},
   "source": [
    "## Проверка гипотез и пояснения"
   ]
  },
  {
   "cell_type": "markdown",
   "metadata": {},
   "source": [
    " \n",
    "*Различается ли средняя выручка пользователей тарифов «Ультра» и «Смарт»*"
   ]
  },
  {
   "cell_type": "markdown",
   "metadata": {},
   "source": [
    "*Н_0: Выручка пользователей тарифов «Ультра» = Выручке пользователей тарифов «Смарт»*\n",
    "\n",
    "*Н_1: Выручка пользователей тарифов «Ультра» != Выручке пользователей тарифов «Смарт»*"
   ]
  },
  {
   "cell_type": "code",
   "execution_count": 38,
   "metadata": {},
   "outputs": [
    {
     "name": "stdout",
     "output_type": "stream",
     "text": [
      "p-значение:  1.2414049931248708e-246\n",
      "Отвергаем нулевую гипотезу\n"
     ]
    }
   ],
   "source": [
    "from scipy import stats as st\n",
    "\n",
    "alpha = 0.05 \n",
    "\n",
    "results = st.ttest_ind(data2.query('tariff == \"smart\"')['tariff_revenue'], data2.query('tariff == \"ultra\"')['tariff_revenue'],equal_var=False)\n",
    "\n",
    "print('p-значение: ', results.pvalue)\n",
    "\n",
    "if results.pvalue < alpha:\n",
    "    print(\"Отвергаем нулевую гипотезу\")\n",
    "else:\n",
    "    print(\"Не получилось отвергнуть нулевую гипотезу\") "
   ]
  },
  {
   "cell_type": "code",
   "execution_count": 39,
   "metadata": {},
   "outputs": [
    {
     "data": {
      "text/plain": [
       "(1294.3053811659192, 2070.943204868154)"
      ]
     },
     "execution_count": 39,
     "metadata": {},
     "output_type": "execute_result"
    }
   ],
   "source": [
    "data2.query('tariff == \"smart\"')['tariff_revenue'].mean(),  data2.query('tariff == \"ultra\"')['tariff_revenue'].mean()"
   ]
  },
  {
   "cell_type": "code",
   "execution_count": 40,
   "metadata": {},
   "outputs": [
    {
     "data": {
      "text/plain": [
       "0      1950.0\n",
       "1      1950.0\n",
       "2      1950.0\n",
       "3      1950.0\n",
       "4      1950.0\n",
       "        ...  \n",
       "981    1950.0\n",
       "982    1950.0\n",
       "983    1950.0\n",
       "984    1950.0\n",
       "985    1950.0\n",
       "Name: tariff_revenue, Length: 986, dtype: float64"
      ]
     },
     "execution_count": 40,
     "metadata": {},
     "output_type": "execute_result"
    }
   ],
   "source": [
    "data2.query('tariff == \"ultra\"')['tariff_revenue']"
   ]
  },
  {
   "cell_type": "markdown",
   "metadata": {},
   "source": [
    "\n",
    "*Проверим гипотезу: средняя выручка пользователей из Москвы отличается от выручки пользователей из других регионов*"
   ]
  },
  {
   "cell_type": "markdown",
   "metadata": {},
   "source": [
    "Н_0: Выручка пользователей из Москвы = Выручке пользователей в регионах\n",
    "\n",
    "Н_1: Выручка пользователей из Москвы != Выручке пользователей в регионах"
   ]
  },
  {
   "cell_type": "code",
   "execution_count": 41,
   "metadata": {},
   "outputs": [
    {
     "name": "stdout",
     "output_type": "stream",
     "text": [
      "p-значение:  0.5277299573181309\n",
      "Не получилось отвергнуть нулевую гипотезу\n"
     ]
    }
   ],
   "source": [
    "alpha = 0.05 \n",
    "\n",
    "results = st.ttest_ind(data2.query('city == \"Москва\"')['tariff_revenue'], data2.query('city != \"Москва\"')['tariff_revenue'])\n",
    "\n",
    "print('p-значение: ', results.pvalue)\n",
    "\n",
    "if results.pvalue < alpha:\n",
    "    print(\"Отвергаем нулевую гипотезу\")\n",
    "else:\n",
    "    print(\"Не получилось отвергнуть нулевую гипотезу\")"
   ]
  },
  {
   "cell_type": "markdown",
   "metadata": {},
   "source": [
    "## Общий вывод"
   ]
  },
  {
   "cell_type": "markdown",
   "metadata": {},
   "source": [
    "### Проведя анализ, выяснили, что на тарифе Смарт пользователи чаще превышают лимиты, и средний ежемесячный платеж на этом тарифе более чем в 2 раза первосходит абонентскую плату. Мы отвергаем гипотезу, что выручка пользователей тарифов «Ультра» равна выручке пользователей тарифов «Смарт», а также, что выручка пользователей из Москвы равна выручке пользователей в регионах"
   ]
  }
 ],
 "metadata": {
  "ExecuteTimeLog": [
   {
    "duration": 1009,
    "start_time": "2021-06-08T18:22:53.956Z"
   },
   {
    "duration": 189,
    "start_time": "2021-06-08T18:22:54.967Z"
   },
   {
    "duration": 23,
    "start_time": "2021-06-08T18:22:55.159Z"
   },
   {
    "duration": 126,
    "start_time": "2021-06-08T18:22:55.185Z"
   },
   {
    "duration": 24,
    "start_time": "2021-06-08T18:22:55.313Z"
   },
   {
    "duration": 41,
    "start_time": "2021-06-08T18:22:55.339Z"
   },
   {
    "duration": 27,
    "start_time": "2021-06-08T18:22:55.382Z"
   },
   {
    "duration": 34,
    "start_time": "2021-06-08T18:22:55.411Z"
   },
   {
    "duration": 25,
    "start_time": "2021-06-08T18:22:55.449Z"
   },
   {
    "duration": 11,
    "start_time": "2021-06-08T18:22:55.478Z"
   },
   {
    "duration": 39,
    "start_time": "2021-06-08T18:22:55.491Z"
   },
   {
    "duration": 11,
    "start_time": "2021-06-08T18:22:55.533Z"
   },
   {
    "duration": 8,
    "start_time": "2021-06-08T18:22:55.547Z"
   },
   {
    "duration": 7,
    "start_time": "2021-06-08T18:22:55.558Z"
   },
   {
    "duration": 10,
    "start_time": "2021-06-08T18:22:55.567Z"
   },
   {
    "duration": 51,
    "start_time": "2021-06-08T18:22:55.580Z"
   },
   {
    "duration": 11,
    "start_time": "2021-06-08T18:22:55.634Z"
   },
   {
    "duration": 7,
    "start_time": "2021-06-08T18:22:55.648Z"
   },
   {
    "duration": 180,
    "start_time": "2021-06-08T18:22:55.657Z"
   },
   {
    "duration": 98,
    "start_time": "2021-06-08T18:22:55.839Z"
   },
   {
    "duration": 105,
    "start_time": "2021-06-08T18:22:55.939Z"
   },
   {
    "duration": 52,
    "start_time": "2021-06-08T18:22:56.046Z"
   },
   {
    "duration": 62,
    "start_time": "2021-06-08T18:22:56.101Z"
   },
   {
    "duration": 5,
    "start_time": "2021-06-08T18:22:56.166Z"
   },
   {
    "duration": 229,
    "start_time": "2021-06-08T18:22:56.174Z"
   },
   {
    "duration": 6,
    "start_time": "2021-06-08T18:22:56.406Z"
   },
   {
    "duration": 220,
    "start_time": "2021-06-08T18:22:56.431Z"
   },
   {
    "duration": 5,
    "start_time": "2021-06-08T18:22:56.655Z"
   },
   {
    "duration": 225,
    "start_time": "2021-06-08T18:22:56.663Z"
   },
   {
    "duration": 60,
    "start_time": "2021-06-08T18:22:56.891Z"
   },
   {
    "duration": 42,
    "start_time": "2021-06-08T18:22:56.953Z"
   },
   {
    "duration": 53,
    "start_time": "2021-06-08T18:22:56.998Z"
   },
   {
    "duration": 25,
    "start_time": "2021-06-08T18:22:57.054Z"
   },
   {
    "duration": 7,
    "start_time": "2021-06-08T18:22:57.081Z"
   },
   {
    "duration": 7,
    "start_time": "2021-06-08T18:22:57.125Z"
   },
   {
    "duration": 11,
    "start_time": "2021-06-08T18:22:57.134Z"
   },
   {
    "duration": 10,
    "start_time": "2021-06-08T18:22:57.147Z"
   },
   {
    "duration": 474,
    "start_time": "2021-06-08T18:22:57.159Z"
   },
   {
    "duration": 346,
    "start_time": "2021-06-08T18:22:57.635Z"
   },
   {
    "duration": 346,
    "start_time": "2021-06-08T18:22:57.984Z"
   },
   {
    "duration": 389,
    "start_time": "2021-06-08T18:22:58.332Z"
   },
   {
    "duration": 465,
    "start_time": "2021-06-08T18:22:58.725Z"
   },
   {
    "duration": 8,
    "start_time": "2021-06-08T18:22:59.193Z"
   },
   {
    "duration": 24,
    "start_time": "2021-06-08T18:22:59.204Z"
   },
   {
    "duration": 19,
    "start_time": "2021-06-08T18:22:59.231Z"
   },
   {
    "duration": 17,
    "start_time": "2021-06-08T18:22:59.253Z"
   },
   {
    "duration": 13,
    "start_time": "2021-06-08T18:22:59.273Z"
   },
   {
    "duration": 8,
    "start_time": "2021-06-08T18:26:23.127Z"
   },
   {
    "duration": 33,
    "start_time": "2021-06-08T18:32:53.248Z"
   },
   {
    "duration": 10,
    "start_time": "2021-06-08T18:34:34.841Z"
   },
   {
    "duration": 6,
    "start_time": "2021-06-08T18:34:46.172Z"
   },
   {
    "duration": 1076,
    "start_time": "2021-06-08T22:25:02.179Z"
   },
   {
    "duration": 201,
    "start_time": "2021-06-08T22:25:03.257Z"
   },
   {
    "duration": 24,
    "start_time": "2021-06-08T22:25:03.460Z"
   },
   {
    "duration": 136,
    "start_time": "2021-06-08T22:25:03.486Z"
   },
   {
    "duration": 23,
    "start_time": "2021-06-08T22:25:03.625Z"
   },
   {
    "duration": 42,
    "start_time": "2021-06-08T22:25:03.650Z"
   },
   {
    "duration": 28,
    "start_time": "2021-06-08T22:25:03.694Z"
   },
   {
    "duration": 23,
    "start_time": "2021-06-08T22:25:03.726Z"
   },
   {
    "duration": 19,
    "start_time": "2021-06-08T22:25:03.752Z"
   },
   {
    "duration": 38,
    "start_time": "2021-06-08T22:25:03.773Z"
   },
   {
    "duration": 16,
    "start_time": "2021-06-08T22:25:03.813Z"
   },
   {
    "duration": 13,
    "start_time": "2021-06-08T22:25:03.831Z"
   },
   {
    "duration": 9,
    "start_time": "2021-06-08T22:25:03.847Z"
   },
   {
    "duration": 11,
    "start_time": "2021-06-08T22:25:03.859Z"
   },
   {
    "duration": 10,
    "start_time": "2021-06-08T22:25:03.873Z"
   },
   {
    "duration": 31,
    "start_time": "2021-06-08T22:25:03.885Z"
   },
   {
    "duration": 23,
    "start_time": "2021-06-08T22:25:03.918Z"
   },
   {
    "duration": 14,
    "start_time": "2021-06-08T22:25:03.944Z"
   },
   {
    "duration": 170,
    "start_time": "2021-06-08T22:25:03.961Z"
   },
   {
    "duration": 101,
    "start_time": "2021-06-08T22:25:04.134Z"
   },
   {
    "duration": 113,
    "start_time": "2021-06-08T22:25:04.238Z"
   },
   {
    "duration": 69,
    "start_time": "2021-06-08T22:25:04.354Z"
   },
   {
    "duration": 30,
    "start_time": "2021-06-08T22:25:04.429Z"
   },
   {
    "duration": 4,
    "start_time": "2021-06-08T22:25:04.462Z"
   },
   {
    "duration": 151,
    "start_time": "2021-06-08T22:25:04.469Z"
   },
   {
    "duration": 4,
    "start_time": "2021-06-08T22:25:04.623Z"
   },
   {
    "duration": 143,
    "start_time": "2021-06-08T22:25:04.629Z"
   },
   {
    "duration": 4,
    "start_time": "2021-06-08T22:25:04.775Z"
   },
   {
    "duration": 142,
    "start_time": "2021-06-08T22:25:04.782Z"
   },
   {
    "duration": 32,
    "start_time": "2021-06-08T22:25:04.926Z"
   },
   {
    "duration": 56,
    "start_time": "2021-06-08T22:25:04.960Z"
   },
   {
    "duration": 24,
    "start_time": "2021-06-08T22:25:05.018Z"
   },
   {
    "duration": 24,
    "start_time": "2021-06-08T22:25:05.044Z"
   },
   {
    "duration": 43,
    "start_time": "2021-06-08T22:25:05.070Z"
   },
   {
    "duration": 11,
    "start_time": "2021-06-08T22:25:05.115Z"
   },
   {
    "duration": 9,
    "start_time": "2021-06-08T22:25:05.129Z"
   },
   {
    "duration": 12,
    "start_time": "2021-06-08T22:25:05.141Z"
   },
   {
    "duration": 456,
    "start_time": "2021-06-08T22:25:05.156Z"
   },
   {
    "duration": 362,
    "start_time": "2021-06-08T22:25:05.614Z"
   },
   {
    "duration": 349,
    "start_time": "2021-06-08T22:25:05.979Z"
   },
   {
    "duration": 402,
    "start_time": "2021-06-08T22:25:06.331Z"
   },
   {
    "duration": 495,
    "start_time": "2021-06-08T22:25:06.737Z"
   },
   {
    "duration": 9,
    "start_time": "2021-06-08T22:25:07.236Z"
   },
   {
    "duration": 15,
    "start_time": "2021-06-08T22:25:07.247Z"
   },
   {
    "duration": 22,
    "start_time": "2021-06-08T22:25:07.265Z"
   },
   {
    "duration": 41,
    "start_time": "2021-06-08T22:25:07.289Z"
   },
   {
    "duration": 19,
    "start_time": "2021-06-08T22:25:07.332Z"
   },
   {
    "duration": 604,
    "start_time": "2021-06-08T22:28:45.561Z"
   },
   {
    "duration": 19,
    "start_time": "2021-06-08T22:28:49.833Z"
   },
   {
    "duration": 6,
    "start_time": "2021-06-08T22:35:49.732Z"
   },
   {
    "duration": 49,
    "start_time": "2021-06-08T22:36:12.209Z"
   },
   {
    "duration": 367,
    "start_time": "2021-06-08T22:36:56.417Z"
   },
   {
    "duration": 11586,
    "start_time": "2021-06-08T22:37:14.821Z"
   },
   {
    "duration": 10194,
    "start_time": "2021-06-08T22:38:05.262Z"
   },
   {
    "duration": 11,
    "start_time": "2021-06-08T22:54:47.551Z"
   },
   {
    "duration": 7,
    "start_time": "2021-06-08T23:25:47.397Z"
   },
   {
    "duration": 10417,
    "start_time": "2021-06-08T23:27:29.273Z"
   },
   {
    "duration": 5543,
    "start_time": "2021-06-08T23:32:36.202Z"
   },
   {
    "duration": 10680,
    "start_time": "2021-06-08T23:32:55.602Z"
   },
   {
    "duration": 8,
    "start_time": "2021-06-08T23:35:45.516Z"
   },
   {
    "duration": 11018,
    "start_time": "2021-06-08T23:35:49.948Z"
   },
   {
    "duration": 10,
    "start_time": "2021-06-08T23:37:22.726Z"
   },
   {
    "duration": 698,
    "start_time": "2021-06-08T23:37:27.798Z"
   },
   {
    "duration": 378,
    "start_time": "2021-06-08T23:38:37.791Z"
   },
   {
    "duration": 386,
    "start_time": "2021-06-08T23:39:34.673Z"
   },
   {
    "duration": 7,
    "start_time": "2021-06-08T23:52:48.798Z"
   },
   {
    "duration": 730,
    "start_time": "2021-06-08T23:52:51.157Z"
   },
   {
    "duration": 7,
    "start_time": "2021-06-08T23:54:06.228Z"
   },
   {
    "duration": 725,
    "start_time": "2021-06-08T23:54:09.792Z"
   },
   {
    "duration": 5,
    "start_time": "2021-06-08T23:57:44.220Z"
   },
   {
    "duration": 123,
    "start_time": "2021-06-08T23:57:45.443Z"
   },
   {
    "duration": 146,
    "start_time": "2021-06-09T00:01:34.400Z"
   },
   {
    "duration": 134,
    "start_time": "2021-06-09T00:01:36.460Z"
   },
   {
    "duration": 1057,
    "start_time": "2021-06-09T00:02:46.102Z"
   },
   {
    "duration": 210,
    "start_time": "2021-06-09T00:02:47.162Z"
   },
   {
    "duration": 35,
    "start_time": "2021-06-09T00:02:47.375Z"
   },
   {
    "duration": 124,
    "start_time": "2021-06-09T00:02:47.413Z"
   },
   {
    "duration": 24,
    "start_time": "2021-06-09T00:02:47.540Z"
   },
   {
    "duration": 51,
    "start_time": "2021-06-09T00:02:47.567Z"
   },
   {
    "duration": 28,
    "start_time": "2021-06-09T00:02:47.620Z"
   },
   {
    "duration": 22,
    "start_time": "2021-06-09T00:02:47.653Z"
   },
   {
    "duration": 49,
    "start_time": "2021-06-09T00:02:47.677Z"
   },
   {
    "duration": 9,
    "start_time": "2021-06-09T00:02:47.729Z"
   },
   {
    "duration": 18,
    "start_time": "2021-06-09T00:02:47.740Z"
   },
   {
    "duration": 16,
    "start_time": "2021-06-09T00:02:47.760Z"
   },
   {
    "duration": 31,
    "start_time": "2021-06-09T00:02:47.779Z"
   },
   {
    "duration": 17,
    "start_time": "2021-06-09T00:02:47.813Z"
   },
   {
    "duration": 11,
    "start_time": "2021-06-09T00:02:47.832Z"
   },
   {
    "duration": 9,
    "start_time": "2021-06-09T00:02:47.847Z"
   },
   {
    "duration": 13,
    "start_time": "2021-06-09T00:02:47.858Z"
   },
   {
    "duration": 12,
    "start_time": "2021-06-09T00:02:47.874Z"
   },
   {
    "duration": 170,
    "start_time": "2021-06-09T00:02:47.908Z"
   },
   {
    "duration": 103,
    "start_time": "2021-06-09T00:02:48.080Z"
   },
   {
    "duration": 110,
    "start_time": "2021-06-09T00:02:48.186Z"
   },
   {
    "duration": 67,
    "start_time": "2021-06-09T00:02:48.299Z"
   },
   {
    "duration": 58,
    "start_time": "2021-06-09T00:02:48.372Z"
   },
   {
    "duration": 13,
    "start_time": "2021-06-09T00:02:48.434Z"
   },
   {
    "duration": 5,
    "start_time": "2021-06-09T00:02:54.169Z"
   },
   {
    "duration": 120,
    "start_time": "2021-06-09T00:02:56.150Z"
   },
   {
    "duration": 5,
    "start_time": "2021-06-09T00:07:08.956Z"
   },
   {
    "duration": 123,
    "start_time": "2021-06-09T00:07:10.923Z"
   },
   {
    "duration": 5,
    "start_time": "2021-06-09T00:08:24.606Z"
   },
   {
    "duration": 4,
    "start_time": "2021-06-09T00:08:26.024Z"
   },
   {
    "duration": 177,
    "start_time": "2021-06-09T00:08:27.219Z"
   },
   {
    "duration": 178,
    "start_time": "2021-06-09T00:11:19.037Z"
   },
   {
    "duration": 118,
    "start_time": "2021-06-09T00:11:29.128Z"
   },
   {
    "duration": 139,
    "start_time": "2021-06-09T00:11:38.304Z"
   },
   {
    "duration": 104,
    "start_time": "2021-06-09T00:12:03.162Z"
   },
   {
    "duration": 108,
    "start_time": "2021-06-09T00:12:16.266Z"
   },
   {
    "duration": 5,
    "start_time": "2021-06-09T00:13:21.334Z"
   },
   {
    "duration": 4,
    "start_time": "2021-06-09T00:13:27.645Z"
   },
   {
    "duration": 124,
    "start_time": "2021-06-09T00:13:29.059Z"
   },
   {
    "duration": 4,
    "start_time": "2021-06-09T00:14:18.942Z"
   },
   {
    "duration": 5,
    "start_time": "2021-06-09T00:14:20.066Z"
   },
   {
    "duration": 231,
    "start_time": "2021-06-09T00:14:21.605Z"
   },
   {
    "duration": 7,
    "start_time": "2021-06-09T00:15:52.924Z"
   },
   {
    "duration": 844,
    "start_time": "2021-06-09T00:15:55.779Z"
   },
   {
    "duration": 638,
    "start_time": "2021-06-09T00:17:14.029Z"
   },
   {
    "duration": 390,
    "start_time": "2021-06-09T09:20:26.935Z"
   },
   {
    "duration": 364,
    "start_time": "2021-06-09T09:20:42.887Z"
   },
   {
    "duration": 39,
    "start_time": "2021-06-09T09:24:26.175Z"
   },
   {
    "duration": 53,
    "start_time": "2021-06-09T09:24:54.492Z"
   },
   {
    "duration": 680,
    "start_time": "2021-06-09T09:25:05.873Z"
   },
   {
    "duration": 11084,
    "start_time": "2021-06-09T09:26:09.125Z"
   },
   {
    "duration": 10317,
    "start_time": "2021-06-09T09:28:41.066Z"
   },
   {
    "duration": 10153,
    "start_time": "2021-06-09T09:31:58.697Z"
   },
   {
    "duration": 11212,
    "start_time": "2021-06-09T09:32:59.242Z"
   },
   {
    "duration": 4709,
    "start_time": "2021-06-09T09:38:38.230Z"
   },
   {
    "duration": 10301,
    "start_time": "2021-06-09T09:39:07.732Z"
   },
   {
    "duration": 52,
    "start_time": "2021-06-09T09:40:48.254Z"
   },
   {
    "duration": 10092,
    "start_time": "2021-06-09T09:41:04.609Z"
   },
   {
    "duration": 50,
    "start_time": "2021-06-09T09:41:26.940Z"
   },
   {
    "duration": 10258,
    "start_time": "2021-06-09T09:41:31.992Z"
   },
   {
    "duration": 1045,
    "start_time": "2021-06-09T09:43:04.679Z"
   },
   {
    "duration": 207,
    "start_time": "2021-06-09T09:43:05.726Z"
   },
   {
    "duration": 26,
    "start_time": "2021-06-09T09:43:05.936Z"
   },
   {
    "duration": 138,
    "start_time": "2021-06-09T09:43:05.965Z"
   },
   {
    "duration": 24,
    "start_time": "2021-06-09T09:43:06.105Z"
   },
   {
    "duration": 50,
    "start_time": "2021-06-09T09:43:06.132Z"
   },
   {
    "duration": 32,
    "start_time": "2021-06-09T09:43:06.185Z"
   },
   {
    "duration": 23,
    "start_time": "2021-06-09T09:43:06.223Z"
   },
   {
    "duration": 23,
    "start_time": "2021-06-09T09:43:06.250Z"
   },
   {
    "duration": 11,
    "start_time": "2021-06-09T09:43:06.308Z"
   },
   {
    "duration": 18,
    "start_time": "2021-06-09T09:43:06.321Z"
   },
   {
    "duration": 12,
    "start_time": "2021-06-09T09:43:06.342Z"
   },
   {
    "duration": 9,
    "start_time": "2021-06-09T09:43:06.357Z"
   },
   {
    "duration": 44,
    "start_time": "2021-06-09T09:43:06.369Z"
   },
   {
    "duration": 11,
    "start_time": "2021-06-09T09:43:06.415Z"
   },
   {
    "duration": 11,
    "start_time": "2021-06-09T09:43:06.429Z"
   },
   {
    "duration": 17,
    "start_time": "2021-06-09T09:43:06.443Z"
   },
   {
    "duration": 10,
    "start_time": "2021-06-09T09:43:06.463Z"
   },
   {
    "duration": 207,
    "start_time": "2021-06-09T09:43:06.476Z"
   },
   {
    "duration": 100,
    "start_time": "2021-06-09T09:43:06.685Z"
   },
   {
    "duration": 105,
    "start_time": "2021-06-09T09:43:06.788Z"
   },
   {
    "duration": 65,
    "start_time": "2021-06-09T09:43:06.895Z"
   },
   {
    "duration": 51,
    "start_time": "2021-06-09T09:43:06.964Z"
   },
   {
    "duration": 49,
    "start_time": "2021-06-09T09:43:07.018Z"
   },
   {
    "duration": 10048,
    "start_time": "2021-06-09T09:44:45.512Z"
   },
   {
    "duration": 20,
    "start_time": "2021-06-09T09:57:55.526Z"
   },
   {
    "duration": 980,
    "start_time": "2021-06-09T09:58:28.600Z"
   },
   {
    "duration": 995,
    "start_time": "2021-06-09T09:58:38.854Z"
   },
   {
    "duration": 30,
    "start_time": "2021-06-09T09:59:12.799Z"
   },
   {
    "duration": 1100,
    "start_time": "2021-06-09T10:00:18.595Z"
   },
   {
    "duration": 206,
    "start_time": "2021-06-09T10:00:19.698Z"
   },
   {
    "duration": 25,
    "start_time": "2021-06-09T10:00:19.909Z"
   },
   {
    "duration": 140,
    "start_time": "2021-06-09T10:00:19.937Z"
   },
   {
    "duration": 24,
    "start_time": "2021-06-09T10:00:20.080Z"
   },
   {
    "duration": 50,
    "start_time": "2021-06-09T10:00:20.109Z"
   },
   {
    "duration": 30,
    "start_time": "2021-06-09T10:00:20.161Z"
   },
   {
    "duration": 22,
    "start_time": "2021-06-09T10:00:20.195Z"
   },
   {
    "duration": 19,
    "start_time": "2021-06-09T10:00:20.221Z"
   },
   {
    "duration": 10,
    "start_time": "2021-06-09T10:00:20.243Z"
   },
   {
    "duration": 18,
    "start_time": "2021-06-09T10:00:20.255Z"
   },
   {
    "duration": 36,
    "start_time": "2021-06-09T10:00:20.275Z"
   },
   {
    "duration": 9,
    "start_time": "2021-06-09T10:00:20.314Z"
   },
   {
    "duration": 11,
    "start_time": "2021-06-09T10:00:20.326Z"
   },
   {
    "duration": 15,
    "start_time": "2021-06-09T10:00:20.339Z"
   },
   {
    "duration": 11,
    "start_time": "2021-06-09T10:00:20.357Z"
   },
   {
    "duration": 50,
    "start_time": "2021-06-09T10:00:20.371Z"
   },
   {
    "duration": 10,
    "start_time": "2021-06-09T10:00:20.423Z"
   },
   {
    "duration": 173,
    "start_time": "2021-06-09T10:00:20.435Z"
   },
   {
    "duration": 105,
    "start_time": "2021-06-09T10:00:20.610Z"
   },
   {
    "duration": 103,
    "start_time": "2021-06-09T10:00:20.718Z"
   },
   {
    "duration": 55,
    "start_time": "2021-06-09T10:00:20.823Z"
   },
   {
    "duration": 51,
    "start_time": "2021-06-09T10:00:20.883Z"
   },
   {
    "duration": 49,
    "start_time": "2021-06-09T10:00:20.936Z"
   },
   {
    "duration": 51,
    "start_time": "2021-06-09T10:00:29.658Z"
   },
   {
    "duration": 1129,
    "start_time": "2021-06-09T10:00:36.088Z"
   },
   {
    "duration": 406,
    "start_time": "2021-06-09T10:01:19.626Z"
   },
   {
    "duration": 32,
    "start_time": "2021-06-09T10:03:28.075Z"
   },
   {
    "duration": 40,
    "start_time": "2021-06-09T10:03:29.810Z"
   },
   {
    "duration": 33,
    "start_time": "2021-06-09T10:03:32.212Z"
   },
   {
    "duration": 45,
    "start_time": "2021-06-09T10:04:43.504Z"
   },
   {
    "duration": 1097,
    "start_time": "2021-06-09T10:06:39.829Z"
   },
   {
    "duration": 359,
    "start_time": "2021-06-09T10:06:40.929Z"
   },
   {
    "duration": 40,
    "start_time": "2021-06-09T10:06:41.306Z"
   },
   {
    "duration": 122,
    "start_time": "2021-06-09T10:06:41.350Z"
   },
   {
    "duration": 25,
    "start_time": "2021-06-09T10:06:41.475Z"
   },
   {
    "duration": 41,
    "start_time": "2021-06-09T10:06:41.509Z"
   },
   {
    "duration": 29,
    "start_time": "2021-06-09T10:06:41.553Z"
   },
   {
    "duration": 39,
    "start_time": "2021-06-09T10:06:41.588Z"
   },
   {
    "duration": 21,
    "start_time": "2021-06-09T10:06:41.631Z"
   },
   {
    "duration": 10,
    "start_time": "2021-06-09T10:06:41.655Z"
   },
   {
    "duration": 9,
    "start_time": "2021-06-09T10:06:41.708Z"
   },
   {
    "duration": 14,
    "start_time": "2021-06-09T10:06:41.720Z"
   },
   {
    "duration": 9,
    "start_time": "2021-06-09T10:06:41.737Z"
   },
   {
    "duration": 10,
    "start_time": "2021-06-09T10:06:41.748Z"
   },
   {
    "duration": 12,
    "start_time": "2021-06-09T10:06:41.760Z"
   },
   {
    "duration": 7,
    "start_time": "2021-06-09T10:06:41.810Z"
   },
   {
    "duration": 13,
    "start_time": "2021-06-09T10:06:41.819Z"
   },
   {
    "duration": 7,
    "start_time": "2021-06-09T10:06:41.834Z"
   },
   {
    "duration": 192,
    "start_time": "2021-06-09T10:06:41.844Z"
   },
   {
    "duration": 104,
    "start_time": "2021-06-09T10:06:42.039Z"
   },
   {
    "duration": 112,
    "start_time": "2021-06-09T10:06:42.146Z"
   },
   {
    "duration": 72,
    "start_time": "2021-06-09T10:06:42.260Z"
   },
   {
    "duration": 31,
    "start_time": "2021-06-09T10:06:42.337Z"
   },
   {
    "duration": 68,
    "start_time": "2021-06-09T10:06:42.371Z"
   },
   {
    "duration": 402,
    "start_time": "2021-06-09T10:06:42.441Z"
   },
   {
    "duration": 30,
    "start_time": "2021-06-09T10:06:42.845Z"
   },
   {
    "duration": 56,
    "start_time": "2021-06-09T10:06:42.877Z"
   },
   {
    "duration": 25,
    "start_time": "2021-06-09T10:06:42.936Z"
   },
   {
    "duration": 52,
    "start_time": "2021-06-09T10:06:42.964Z"
   },
   {
    "duration": 6,
    "start_time": "2021-06-09T10:06:43.018Z"
   },
   {
    "duration": 9,
    "start_time": "2021-06-09T10:06:43.026Z"
   },
   {
    "duration": 9,
    "start_time": "2021-06-09T10:06:43.038Z"
   },
   {
    "duration": 9,
    "start_time": "2021-06-09T10:06:43.050Z"
   },
   {
    "duration": 476,
    "start_time": "2021-06-09T10:06:43.062Z"
   },
   {
    "duration": 357,
    "start_time": "2021-06-09T10:06:43.540Z"
   },
   {
    "duration": 348,
    "start_time": "2021-06-09T10:06:43.900Z"
   },
   {
    "duration": 399,
    "start_time": "2021-06-09T10:06:44.251Z"
   },
   {
    "duration": 67,
    "start_time": "2021-06-09T10:06:44.652Z"
   },
   {
    "duration": 9016,
    "start_time": "2021-06-09T10:06:44.722Z"
   },
   {
    "duration": -8646,
    "start_time": "2021-06-09T10:07:02.386Z"
   },
   {
    "duration": -8732,
    "start_time": "2021-06-09T10:07:02.473Z"
   },
   {
    "duration": -8778,
    "start_time": "2021-06-09T10:07:02.520Z"
   },
   {
    "duration": -8816,
    "start_time": "2021-06-09T10:07:02.560Z"
   },
   {
    "duration": -8847,
    "start_time": "2021-06-09T10:07:02.592Z"
   },
   {
    "duration": 29,
    "start_time": "2021-06-09T10:07:48.858Z"
   },
   {
    "duration": 41,
    "start_time": "2021-06-09T10:08:07.264Z"
   },
   {
    "duration": 46,
    "start_time": "2021-06-09T10:08:13.176Z"
   },
   {
    "duration": 46,
    "start_time": "2021-06-09T10:08:50.484Z"
   },
   {
    "duration": 8,
    "start_time": "2021-06-09T10:09:16.086Z"
   },
   {
    "duration": 9,
    "start_time": "2021-06-09T10:09:35.163Z"
   },
   {
    "duration": 7,
    "start_time": "2021-06-09T10:09:52.276Z"
   },
   {
    "duration": 15,
    "start_time": "2021-06-09T10:10:59.874Z"
   },
   {
    "duration": 14,
    "start_time": "2021-06-09T10:12:24.905Z"
   },
   {
    "duration": 1036,
    "start_time": "2021-06-09T18:46:25.611Z"
   },
   {
    "duration": 203,
    "start_time": "2021-06-09T18:46:26.649Z"
   },
   {
    "duration": 35,
    "start_time": "2021-06-09T18:46:26.855Z"
   },
   {
    "duration": 129,
    "start_time": "2021-06-09T18:46:26.893Z"
   },
   {
    "duration": 25,
    "start_time": "2021-06-09T18:46:27.025Z"
   },
   {
    "duration": 53,
    "start_time": "2021-06-09T18:46:27.053Z"
   },
   {
    "duration": 28,
    "start_time": "2021-06-09T18:46:27.109Z"
   },
   {
    "duration": 52,
    "start_time": "2021-06-09T18:46:27.143Z"
   },
   {
    "duration": 20,
    "start_time": "2021-06-09T18:46:27.200Z"
   },
   {
    "duration": 10,
    "start_time": "2021-06-09T18:46:27.223Z"
   },
   {
    "duration": 12,
    "start_time": "2021-06-09T18:46:27.236Z"
   },
   {
    "duration": 50,
    "start_time": "2021-06-09T18:46:27.251Z"
   },
   {
    "duration": 9,
    "start_time": "2021-06-09T18:46:27.305Z"
   },
   {
    "duration": 12,
    "start_time": "2021-06-09T18:46:27.317Z"
   },
   {
    "duration": 7,
    "start_time": "2021-06-09T18:46:27.331Z"
   },
   {
    "duration": 49,
    "start_time": "2021-06-09T18:46:27.341Z"
   },
   {
    "duration": 20,
    "start_time": "2021-06-09T18:46:27.394Z"
   },
   {
    "duration": 7,
    "start_time": "2021-06-09T18:46:27.416Z"
   },
   {
    "duration": 253,
    "start_time": "2021-06-09T18:46:27.426Z"
   },
   {
    "duration": 120,
    "start_time": "2021-06-09T18:46:27.682Z"
   },
   {
    "duration": 156,
    "start_time": "2021-06-09T18:46:27.805Z"
   },
   {
    "duration": 88,
    "start_time": "2021-06-09T18:46:27.964Z"
   },
   {
    "duration": 52,
    "start_time": "2021-06-09T18:46:28.057Z"
   },
   {
    "duration": 48,
    "start_time": "2021-06-09T18:46:28.112Z"
   },
   {
    "duration": 446,
    "start_time": "2021-06-09T18:46:28.162Z"
   },
   {
    "duration": 30,
    "start_time": "2021-06-09T18:46:28.611Z"
   },
   {
    "duration": 66,
    "start_time": "2021-06-09T18:46:28.644Z"
   },
   {
    "duration": 23,
    "start_time": "2021-06-09T18:46:28.714Z"
   },
   {
    "duration": 54,
    "start_time": "2021-06-09T18:46:28.740Z"
   },
   {
    "duration": 15,
    "start_time": "2021-06-09T18:46:28.797Z"
   },
   {
    "duration": 7,
    "start_time": "2021-06-09T18:46:28.815Z"
   },
   {
    "duration": 18,
    "start_time": "2021-06-09T18:46:28.824Z"
   },
   {
    "duration": 10,
    "start_time": "2021-06-09T18:46:28.844Z"
   },
   {
    "duration": 538,
    "start_time": "2021-06-09T18:46:28.856Z"
   },
   {
    "duration": 371,
    "start_time": "2021-06-09T18:46:29.397Z"
   },
   {
    "duration": 369,
    "start_time": "2021-06-09T18:46:29.770Z"
   },
   {
    "duration": 427,
    "start_time": "2021-06-09T18:46:30.142Z"
   },
   {
    "duration": 449,
    "start_time": "2021-06-09T18:46:30.572Z"
   },
   {
    "duration": 15,
    "start_time": "2021-06-09T18:46:31.024Z"
   },
   {
    "duration": 15,
    "start_time": "2021-06-09T18:47:36.239Z"
   },
   {
    "duration": 10,
    "start_time": "2021-06-09T18:47:52.757Z"
   },
   {
    "duration": 7,
    "start_time": "2021-06-09T18:57:53.437Z"
   },
   {
    "duration": 6,
    "start_time": "2021-06-09T18:58:00.052Z"
   },
   {
    "duration": 11,
    "start_time": "2021-06-09T18:58:03.466Z"
   },
   {
    "duration": 84,
    "start_time": "2021-06-09T21:19:48.343Z"
   },
   {
    "duration": 103,
    "start_time": "2021-06-09T21:20:51.490Z"
   },
   {
    "duration": 751,
    "start_time": "2021-06-09T21:20:58.391Z"
   },
   {
    "duration": 944,
    "start_time": "2021-06-09T21:21:19.938Z"
   },
   {
    "duration": 172,
    "start_time": "2021-06-09T21:21:20.885Z"
   },
   {
    "duration": 30,
    "start_time": "2021-06-09T21:21:21.060Z"
   },
   {
    "duration": 118,
    "start_time": "2021-06-09T21:21:21.093Z"
   },
   {
    "duration": 25,
    "start_time": "2021-06-09T21:21:21.213Z"
   },
   {
    "duration": 44,
    "start_time": "2021-06-09T21:21:21.241Z"
   },
   {
    "duration": 26,
    "start_time": "2021-06-09T21:21:21.288Z"
   },
   {
    "duration": 21,
    "start_time": "2021-06-09T21:21:21.318Z"
   },
   {
    "duration": 44,
    "start_time": "2021-06-09T21:21:21.342Z"
   },
   {
    "duration": 11,
    "start_time": "2021-06-09T21:21:21.388Z"
   },
   {
    "duration": 40,
    "start_time": "2021-06-09T21:21:21.402Z"
   },
   {
    "duration": 39,
    "start_time": "2021-06-09T21:21:21.444Z"
   },
   {
    "duration": 26,
    "start_time": "2021-06-09T21:21:21.486Z"
   },
   {
    "duration": 20,
    "start_time": "2021-06-09T21:21:21.515Z"
   },
   {
    "duration": 16,
    "start_time": "2021-06-09T21:21:21.538Z"
   },
   {
    "duration": 15,
    "start_time": "2021-06-09T21:21:21.557Z"
   },
   {
    "duration": 26,
    "start_time": "2021-06-09T21:21:21.574Z"
   },
   {
    "duration": 7,
    "start_time": "2021-06-09T21:21:21.602Z"
   },
   {
    "duration": 173,
    "start_time": "2021-06-09T21:21:21.612Z"
   },
   {
    "duration": 114,
    "start_time": "2021-06-09T21:21:21.787Z"
   },
   {
    "duration": 116,
    "start_time": "2021-06-09T21:21:21.903Z"
   },
   {
    "duration": 70,
    "start_time": "2021-06-09T21:21:22.021Z"
   },
   {
    "duration": 33,
    "start_time": "2021-06-09T21:21:22.095Z"
   },
   {
    "duration": 73,
    "start_time": "2021-06-09T21:21:22.130Z"
   },
   {
    "duration": 376,
    "start_time": "2021-06-09T21:21:28.893Z"
   },
   {
    "duration": 87,
    "start_time": "2021-06-09T21:21:50.063Z"
   },
   {
    "duration": 599,
    "start_time": "2021-06-09T21:21:55.975Z"
   },
   {
    "duration": 402,
    "start_time": "2021-06-09T21:22:14.263Z"
   },
   {
    "duration": 396,
    "start_time": "2021-06-09T21:22:32.919Z"
   },
   {
    "duration": 387,
    "start_time": "2021-06-09T21:22:40.981Z"
   },
   {
    "duration": 94,
    "start_time": "2021-06-09T21:22:55.800Z"
   },
   {
    "duration": 87,
    "start_time": "2021-06-09T21:23:01.979Z"
   },
   {
    "duration": 419,
    "start_time": "2021-06-09T21:23:30.655Z"
   },
   {
    "duration": 430,
    "start_time": "2021-06-09T21:23:47.611Z"
   },
   {
    "duration": 84,
    "start_time": "2021-06-09T21:24:02.386Z"
   },
   {
    "duration": 459,
    "start_time": "2021-06-09T21:24:09.150Z"
   },
   {
    "duration": 474,
    "start_time": "2021-06-09T21:25:06.932Z"
   },
   {
    "duration": 496,
    "start_time": "2021-06-09T21:26:02.916Z"
   },
   {
    "duration": 503,
    "start_time": "2021-06-09T21:27:14.752Z"
   },
   {
    "duration": 94,
    "start_time": "2021-06-09T21:50:34.233Z"
   },
   {
    "duration": 600,
    "start_time": "2021-06-09T21:50:40.750Z"
   },
   {
    "duration": 497,
    "start_time": "2021-06-09T21:50:58.147Z"
   },
   {
    "duration": 421,
    "start_time": "2021-06-09T21:51:09.165Z"
   },
   {
    "duration": 361,
    "start_time": "2021-06-09T21:51:15.549Z"
   },
   {
    "duration": 921,
    "start_time": "2021-06-09T21:51:46.973Z"
   },
   {
    "duration": 184,
    "start_time": "2021-06-09T21:51:47.897Z"
   },
   {
    "duration": 23,
    "start_time": "2021-06-09T21:51:48.084Z"
   },
   {
    "duration": 124,
    "start_time": "2021-06-09T21:51:48.110Z"
   },
   {
    "duration": 25,
    "start_time": "2021-06-09T21:51:48.236Z"
   },
   {
    "duration": 45,
    "start_time": "2021-06-09T21:51:48.263Z"
   },
   {
    "duration": 29,
    "start_time": "2021-06-09T21:51:48.311Z"
   },
   {
    "duration": 43,
    "start_time": "2021-06-09T21:51:48.345Z"
   },
   {
    "duration": 20,
    "start_time": "2021-06-09T21:51:48.392Z"
   },
   {
    "duration": 10,
    "start_time": "2021-06-09T21:51:48.415Z"
   },
   {
    "duration": 10,
    "start_time": "2021-06-09T21:51:48.428Z"
   },
   {
    "duration": 44,
    "start_time": "2021-06-09T21:51:48.441Z"
   },
   {
    "duration": 8,
    "start_time": "2021-06-09T21:51:48.487Z"
   },
   {
    "duration": 8,
    "start_time": "2021-06-09T21:51:48.497Z"
   },
   {
    "duration": 8,
    "start_time": "2021-06-09T21:51:48.508Z"
   },
   {
    "duration": 10,
    "start_time": "2021-06-09T21:51:48.518Z"
   },
   {
    "duration": 56,
    "start_time": "2021-06-09T21:51:48.530Z"
   },
   {
    "duration": 7,
    "start_time": "2021-06-09T21:51:48.588Z"
   },
   {
    "duration": 167,
    "start_time": "2021-06-09T21:51:48.598Z"
   },
   {
    "duration": 87,
    "start_time": "2021-06-09T21:51:48.767Z"
   },
   {
    "duration": 104,
    "start_time": "2021-06-09T21:51:48.856Z"
   },
   {
    "duration": 66,
    "start_time": "2021-06-09T21:51:48.962Z"
   },
   {
    "duration": 31,
    "start_time": "2021-06-09T21:51:49.032Z"
   },
   {
    "duration": 49,
    "start_time": "2021-06-09T21:51:49.084Z"
   },
   {
    "duration": 367,
    "start_time": "2021-06-09T21:51:54.786Z"
   },
   {
    "duration": 363,
    "start_time": "2021-06-09T21:54:04.089Z"
   },
   {
    "duration": 100,
    "start_time": "2021-06-09T21:56:24.317Z"
   },
   {
    "duration": 303,
    "start_time": "2021-06-09T21:56:38.086Z"
   },
   {
    "duration": 89,
    "start_time": "2021-06-09T21:56:45.131Z"
   },
   {
    "duration": 85,
    "start_time": "2021-06-09T21:56:51.007Z"
   },
   {
    "duration": 371,
    "start_time": "2021-06-09T21:56:57.811Z"
   },
   {
    "duration": 360,
    "start_time": "2021-06-09T21:57:08.014Z"
   },
   {
    "duration": 87,
    "start_time": "2021-06-09T21:57:16.363Z"
   },
   {
    "duration": 361,
    "start_time": "2021-06-09T21:57:21.262Z"
   },
   {
    "duration": 496,
    "start_time": "2021-06-09T21:57:48.454Z"
   },
   {
    "duration": 497,
    "start_time": "2021-06-09T22:03:36.938Z"
   },
   {
    "duration": 369,
    "start_time": "2021-06-09T22:03:48.004Z"
   },
   {
    "duration": 34,
    "start_time": "2021-06-09T22:04:58.967Z"
   },
   {
    "duration": 23,
    "start_time": "2021-06-09T22:05:36.492Z"
   },
   {
    "duration": 46,
    "start_time": "2021-06-09T22:05:54.923Z"
   },
   {
    "duration": 920,
    "start_time": "2021-06-09T22:06:20.601Z"
   },
   {
    "duration": 174,
    "start_time": "2021-06-09T22:06:21.524Z"
   },
   {
    "duration": 24,
    "start_time": "2021-06-09T22:06:21.701Z"
   },
   {
    "duration": 136,
    "start_time": "2021-06-09T22:06:21.728Z"
   },
   {
    "duration": 26,
    "start_time": "2021-06-09T22:06:21.866Z"
   },
   {
    "duration": 45,
    "start_time": "2021-06-09T22:06:21.895Z"
   },
   {
    "duration": 29,
    "start_time": "2021-06-09T22:06:21.944Z"
   },
   {
    "duration": 26,
    "start_time": "2021-06-09T22:06:21.976Z"
   },
   {
    "duration": 28,
    "start_time": "2021-06-09T22:06:22.005Z"
   },
   {
    "duration": 11,
    "start_time": "2021-06-09T22:06:22.036Z"
   },
   {
    "duration": 40,
    "start_time": "2021-06-09T22:06:22.049Z"
   },
   {
    "duration": 15,
    "start_time": "2021-06-09T22:06:22.092Z"
   },
   {
    "duration": 10,
    "start_time": "2021-06-09T22:06:22.110Z"
   },
   {
    "duration": 14,
    "start_time": "2021-06-09T22:06:22.124Z"
   },
   {
    "duration": 43,
    "start_time": "2021-06-09T22:06:22.140Z"
   },
   {
    "duration": 9,
    "start_time": "2021-06-09T22:06:22.185Z"
   },
   {
    "duration": 12,
    "start_time": "2021-06-09T22:06:22.197Z"
   },
   {
    "duration": 7,
    "start_time": "2021-06-09T22:06:22.212Z"
   },
   {
    "duration": 187,
    "start_time": "2021-06-09T22:06:22.221Z"
   },
   {
    "duration": 96,
    "start_time": "2021-06-09T22:06:22.411Z"
   },
   {
    "duration": 97,
    "start_time": "2021-06-09T22:06:22.510Z"
   },
   {
    "duration": 51,
    "start_time": "2021-06-09T22:06:22.609Z"
   },
   {
    "duration": 46,
    "start_time": "2021-06-09T22:06:22.665Z"
   },
   {
    "duration": 45,
    "start_time": "2021-06-09T22:06:22.714Z"
   },
   {
    "duration": 405,
    "start_time": "2021-06-09T22:06:22.761Z"
   },
   {
    "duration": 35,
    "start_time": "2021-06-09T22:06:23.169Z"
   },
   {
    "duration": 29,
    "start_time": "2021-06-09T22:06:23.207Z"
   },
   {
    "duration": 51,
    "start_time": "2021-06-09T22:06:23.238Z"
   },
   {
    "duration": 22,
    "start_time": "2021-06-09T22:06:23.292Z"
   },
   {
    "duration": 13,
    "start_time": "2021-06-09T22:06:23.316Z"
   },
   {
    "duration": 9,
    "start_time": "2021-06-09T22:06:23.331Z"
   },
   {
    "duration": 41,
    "start_time": "2021-06-09T22:06:23.342Z"
   },
   {
    "duration": 7,
    "start_time": "2021-06-09T22:06:23.386Z"
   },
   {
    "duration": 410,
    "start_time": "2021-06-09T22:06:23.395Z"
   },
   {
    "duration": 328,
    "start_time": "2021-06-09T22:06:23.808Z"
   },
   {
    "duration": 329,
    "start_time": "2021-06-09T22:06:24.139Z"
   },
   {
    "duration": 477,
    "start_time": "2021-06-09T22:06:24.471Z"
   },
   {
    "duration": 442,
    "start_time": "2021-06-09T22:06:24.950Z"
   },
   {
    "duration": 10,
    "start_time": "2021-06-09T22:06:25.394Z"
   },
   {
    "duration": 18,
    "start_time": "2021-06-09T22:06:25.406Z"
   },
   {
    "duration": 14,
    "start_time": "2021-06-09T22:06:36.185Z"
   },
   {
    "duration": 11,
    "start_time": "2021-06-09T22:06:39.687Z"
   },
   {
    "duration": 14,
    "start_time": "2021-06-09T22:06:47.152Z"
   },
   {
    "duration": 1072,
    "start_time": "2021-06-10T19:32:39.175Z"
   },
   {
    "duration": 182,
    "start_time": "2021-06-10T19:32:40.250Z"
   },
   {
    "duration": 26,
    "start_time": "2021-06-10T19:32:40.436Z"
   },
   {
    "duration": 136,
    "start_time": "2021-06-10T19:32:40.465Z"
   },
   {
    "duration": 26,
    "start_time": "2021-06-10T19:32:40.604Z"
   },
   {
    "duration": 48,
    "start_time": "2021-06-10T19:32:40.632Z"
   },
   {
    "duration": 28,
    "start_time": "2021-06-10T19:32:40.683Z"
   },
   {
    "duration": 22,
    "start_time": "2021-06-10T19:32:40.714Z"
   },
   {
    "duration": 18,
    "start_time": "2021-06-10T19:32:40.740Z"
   },
   {
    "duration": 41,
    "start_time": "2021-06-10T19:32:40.762Z"
   },
   {
    "duration": 10,
    "start_time": "2021-06-10T19:32:40.806Z"
   },
   {
    "duration": 11,
    "start_time": "2021-06-10T19:32:40.819Z"
   },
   {
    "duration": 9,
    "start_time": "2021-06-10T19:32:40.833Z"
   },
   {
    "duration": 55,
    "start_time": "2021-06-10T19:32:40.845Z"
   },
   {
    "duration": 8,
    "start_time": "2021-06-10T19:32:40.903Z"
   },
   {
    "duration": 8,
    "start_time": "2021-06-10T19:32:40.914Z"
   },
   {
    "duration": 15,
    "start_time": "2021-06-10T19:32:40.924Z"
   },
   {
    "duration": 8,
    "start_time": "2021-06-10T19:32:40.941Z"
   },
   {
    "duration": 192,
    "start_time": "2021-06-10T19:32:40.952Z"
   },
   {
    "duration": 109,
    "start_time": "2021-06-10T19:32:41.147Z"
   },
   {
    "duration": 128,
    "start_time": "2021-06-10T19:32:41.260Z"
   },
   {
    "duration": 62,
    "start_time": "2021-06-10T19:32:41.391Z"
   },
   {
    "duration": 55,
    "start_time": "2021-06-10T19:32:41.456Z"
   },
   {
    "duration": 52,
    "start_time": "2021-06-10T19:32:41.513Z"
   },
   {
    "duration": 608,
    "start_time": "2021-06-10T19:32:41.568Z"
   },
   {
    "duration": 48,
    "start_time": "2021-06-10T19:32:42.178Z"
   },
   {
    "duration": 37,
    "start_time": "2021-06-10T19:32:42.233Z"
   },
   {
    "duration": 56,
    "start_time": "2021-06-10T19:32:42.273Z"
   },
   {
    "duration": 33,
    "start_time": "2021-06-10T19:32:42.332Z"
   },
   {
    "duration": 34,
    "start_time": "2021-06-10T19:32:42.368Z"
   },
   {
    "duration": 9,
    "start_time": "2021-06-10T19:32:42.405Z"
   },
   {
    "duration": 9,
    "start_time": "2021-06-10T19:32:42.416Z"
   },
   {
    "duration": 11,
    "start_time": "2021-06-10T19:32:42.427Z"
   },
   {
    "duration": 465,
    "start_time": "2021-06-10T19:32:42.441Z"
   },
   {
    "duration": 335,
    "start_time": "2021-06-10T19:32:42.909Z"
   },
   {
    "duration": 336,
    "start_time": "2021-06-10T19:32:43.246Z"
   },
   {
    "duration": 380,
    "start_time": "2021-06-10T19:32:43.584Z"
   },
   {
    "duration": 490,
    "start_time": "2021-06-10T19:32:43.966Z"
   },
   {
    "duration": 11,
    "start_time": "2021-06-10T19:32:44.459Z"
   },
   {
    "duration": 33,
    "start_time": "2021-06-10T19:32:44.472Z"
   },
   {
    "duration": 251,
    "start_time": "2021-06-10T19:57:54.781Z"
   },
   {
    "duration": 187,
    "start_time": "2021-06-10T19:57:55.036Z"
   },
   {
    "duration": 25,
    "start_time": "2021-06-10T19:57:55.226Z"
   },
   {
    "duration": 136,
    "start_time": "2021-06-10T19:57:55.254Z"
   },
   {
    "duration": 27,
    "start_time": "2021-06-10T19:57:55.392Z"
   },
   {
    "duration": 49,
    "start_time": "2021-06-10T19:57:55.422Z"
   },
   {
    "duration": 27,
    "start_time": "2021-06-10T19:57:55.474Z"
   },
   {
    "duration": 24,
    "start_time": "2021-06-10T19:57:55.505Z"
   },
   {
    "duration": 20,
    "start_time": "2021-06-10T19:57:55.533Z"
   },
   {
    "duration": 10,
    "start_time": "2021-06-10T19:57:55.556Z"
   },
   {
    "duration": 41,
    "start_time": "2021-06-10T19:57:55.569Z"
   },
   {
    "duration": 11,
    "start_time": "2021-06-10T19:57:55.613Z"
   },
   {
    "duration": 8,
    "start_time": "2021-06-10T19:57:55.626Z"
   },
   {
    "duration": 7,
    "start_time": "2021-06-10T19:57:55.636Z"
   },
   {
    "duration": 7,
    "start_time": "2021-06-10T19:57:55.645Z"
   },
   {
    "duration": 8,
    "start_time": "2021-06-10T19:57:55.700Z"
   },
   {
    "duration": 7,
    "start_time": "2021-06-10T19:57:55.710Z"
   },
   {
    "duration": 11,
    "start_time": "2021-06-10T19:57:55.719Z"
   },
   {
    "duration": 172,
    "start_time": "2021-06-10T19:57:55.733Z"
   },
   {
    "duration": 152,
    "start_time": "2021-06-10T19:57:55.908Z"
   },
   {
    "duration": 150,
    "start_time": "2021-06-10T19:57:56.063Z"
   },
   {
    "duration": 57,
    "start_time": "2021-06-10T19:57:56.216Z"
   },
   {
    "duration": 33,
    "start_time": "2021-06-10T19:57:56.300Z"
   },
   {
    "duration": 76,
    "start_time": "2021-06-10T19:57:56.336Z"
   },
   {
    "duration": 411,
    "start_time": "2021-06-10T19:57:56.414Z"
   },
   {
    "duration": 30,
    "start_time": "2021-06-10T19:57:56.828Z"
   },
   {
    "duration": 50,
    "start_time": "2021-06-10T19:57:56.861Z"
   },
   {
    "duration": 23,
    "start_time": "2021-06-10T19:57:56.914Z"
   },
   {
    "duration": 23,
    "start_time": "2021-06-10T19:57:56.940Z"
   },
   {
    "duration": 36,
    "start_time": "2021-06-10T19:57:56.966Z"
   },
   {
    "duration": 10,
    "start_time": "2021-06-10T19:57:57.005Z"
   },
   {
    "duration": 8,
    "start_time": "2021-06-10T19:57:57.017Z"
   },
   {
    "duration": 9,
    "start_time": "2021-06-10T19:57:57.027Z"
   },
   {
    "duration": 450,
    "start_time": "2021-06-10T19:57:57.038Z"
   },
   {
    "duration": 380,
    "start_time": "2021-06-10T19:57:57.491Z"
   },
   {
    "duration": 480,
    "start_time": "2021-06-10T19:57:57.874Z"
   },
   {
    "duration": 461,
    "start_time": "2021-06-10T19:57:58.357Z"
   },
   {
    "duration": 19,
    "start_time": "2021-06-10T19:57:58.821Z"
   },
   {
    "duration": 17,
    "start_time": "2021-06-10T19:58:24.350Z"
   },
   {
    "duration": 375,
    "start_time": "2021-06-10T19:59:52.759Z"
   },
   {
    "duration": 8,
    "start_time": "2021-06-10T20:00:01.104Z"
   },
   {
    "duration": 16,
    "start_time": "2021-06-10T20:01:02.558Z"
   },
   {
    "duration": 9,
    "start_time": "2021-06-10T20:04:40.413Z"
   },
   {
    "duration": 9,
    "start_time": "2021-06-10T20:06:57.556Z"
   },
   {
    "duration": 8,
    "start_time": "2021-06-10T20:07:43.724Z"
   },
   {
    "duration": 301,
    "start_time": "2021-06-10T20:09:58.336Z"
   },
   {
    "duration": 203,
    "start_time": "2021-06-10T20:09:58.640Z"
   },
   {
    "duration": 26,
    "start_time": "2021-06-10T20:09:58.846Z"
   },
   {
    "duration": 146,
    "start_time": "2021-06-10T20:09:58.875Z"
   },
   {
    "duration": 32,
    "start_time": "2021-06-10T20:09:59.024Z"
   },
   {
    "duration": 60,
    "start_time": "2021-06-10T20:09:59.059Z"
   },
   {
    "duration": 29,
    "start_time": "2021-06-10T20:09:59.122Z"
   },
   {
    "duration": 52,
    "start_time": "2021-06-10T20:09:59.157Z"
   },
   {
    "duration": 29,
    "start_time": "2021-06-10T20:09:59.214Z"
   },
   {
    "duration": 11,
    "start_time": "2021-06-10T20:09:59.246Z"
   },
   {
    "duration": 47,
    "start_time": "2021-06-10T20:09:59.260Z"
   },
   {
    "duration": 14,
    "start_time": "2021-06-10T20:09:59.310Z"
   },
   {
    "duration": 10,
    "start_time": "2021-06-10T20:09:59.329Z"
   },
   {
    "duration": 10,
    "start_time": "2021-06-10T20:09:59.342Z"
   },
   {
    "duration": 11,
    "start_time": "2021-06-10T20:09:59.399Z"
   },
   {
    "duration": 10,
    "start_time": "2021-06-10T20:09:59.413Z"
   },
   {
    "duration": 8,
    "start_time": "2021-06-10T20:09:59.427Z"
   },
   {
    "duration": 10,
    "start_time": "2021-06-10T20:09:59.438Z"
   },
   {
    "duration": 229,
    "start_time": "2021-06-10T20:09:59.452Z"
   },
   {
    "duration": 102,
    "start_time": "2021-06-10T20:09:59.684Z"
   },
   {
    "duration": 115,
    "start_time": "2021-06-10T20:09:59.789Z"
   },
   {
    "duration": 55,
    "start_time": "2021-06-10T20:09:59.907Z"
   },
   {
    "duration": 58,
    "start_time": "2021-06-10T20:09:59.968Z"
   },
   {
    "duration": 72,
    "start_time": "2021-06-10T20:10:00.030Z"
   },
   {
    "duration": 434,
    "start_time": "2021-06-10T20:10:00.105Z"
   },
   {
    "duration": 16,
    "start_time": "2021-06-10T20:10:00.543Z"
   },
   {
    "duration": 68,
    "start_time": "2021-06-10T20:10:00.562Z"
   },
   {
    "duration": 39,
    "start_time": "2021-06-10T20:10:00.633Z"
   },
   {
    "duration": 28,
    "start_time": "2021-06-10T20:10:00.699Z"
   },
   {
    "duration": 26,
    "start_time": "2021-06-10T20:10:00.729Z"
   },
   {
    "duration": 47,
    "start_time": "2021-06-10T20:10:00.759Z"
   },
   {
    "duration": 16,
    "start_time": "2021-06-10T20:10:00.811Z"
   },
   {
    "duration": 15,
    "start_time": "2021-06-10T20:10:00.830Z"
   },
   {
    "duration": 17,
    "start_time": "2021-06-10T20:10:00.847Z"
   },
   {
    "duration": 439,
    "start_time": "2021-06-10T20:10:00.867Z"
   },
   {
    "duration": 483,
    "start_time": "2021-06-10T20:10:01.309Z"
   },
   {
    "duration": 366,
    "start_time": "2021-06-10T20:10:01.794Z"
   },
   {
    "duration": 357,
    "start_time": "2021-06-10T20:10:02.162Z"
   },
   {
    "duration": 15,
    "start_time": "2021-06-10T20:10:02.521Z"
   },
   {
    "duration": 25,
    "start_time": "2021-06-10T20:10:02.538Z"
   },
   {
    "duration": 40,
    "start_time": "2021-06-10T20:10:02.565Z"
   },
   {
    "duration": 13,
    "start_time": "2021-06-10T20:10:27.817Z"
   },
   {
    "duration": 17,
    "start_time": "2021-06-10T20:10:59.046Z"
   },
   {
    "duration": 252,
    "start_time": "2021-06-10T20:11:32.683Z"
   },
   {
    "duration": 190,
    "start_time": "2021-06-10T20:11:32.938Z"
   },
   {
    "duration": 148,
    "start_time": "2021-06-10T20:11:33.131Z"
   },
   {
    "duration": 129,
    "start_time": "2021-06-10T20:11:33.282Z"
   },
   {
    "duration": 28,
    "start_time": "2021-06-10T20:11:33.414Z"
   },
   {
    "duration": 57,
    "start_time": "2021-06-10T20:11:33.445Z"
   },
   {
    "duration": 29,
    "start_time": "2021-06-10T20:11:33.506Z"
   },
   {
    "duration": 23,
    "start_time": "2021-06-10T20:11:33.540Z"
   },
   {
    "duration": 49,
    "start_time": "2021-06-10T20:11:33.567Z"
   },
   {
    "duration": 10,
    "start_time": "2021-06-10T20:11:33.618Z"
   },
   {
    "duration": 13,
    "start_time": "2021-06-10T20:11:33.631Z"
   },
   {
    "duration": 54,
    "start_time": "2021-06-10T20:11:33.647Z"
   },
   {
    "duration": 7,
    "start_time": "2021-06-10T20:11:33.703Z"
   },
   {
    "duration": 10,
    "start_time": "2021-06-10T20:11:33.712Z"
   },
   {
    "duration": 9,
    "start_time": "2021-06-10T20:11:33.724Z"
   },
   {
    "duration": 7,
    "start_time": "2021-06-10T20:11:33.735Z"
   },
   {
    "duration": 6,
    "start_time": "2021-06-10T20:11:33.744Z"
   },
   {
    "duration": 50,
    "start_time": "2021-06-10T20:11:33.752Z"
   },
   {
    "duration": 148,
    "start_time": "2021-06-10T20:11:33.805Z"
   },
   {
    "duration": 106,
    "start_time": "2021-06-10T20:11:33.956Z"
   },
   {
    "duration": 98,
    "start_time": "2021-06-10T20:11:34.065Z"
   },
   {
    "duration": 76,
    "start_time": "2021-06-10T20:11:34.166Z"
   },
   {
    "duration": 34,
    "start_time": "2021-06-10T20:11:34.247Z"
   },
   {
    "duration": 51,
    "start_time": "2021-06-10T20:11:34.301Z"
   },
   {
    "duration": 603,
    "start_time": "2021-06-10T20:11:34.355Z"
   },
   {
    "duration": 10,
    "start_time": "2021-06-10T20:11:34.961Z"
   },
   {
    "duration": 60,
    "start_time": "2021-06-10T20:11:34.973Z"
   },
   {
    "duration": 38,
    "start_time": "2021-06-10T20:11:35.036Z"
   },
   {
    "duration": 52,
    "start_time": "2021-06-10T20:11:35.077Z"
   },
   {
    "duration": 25,
    "start_time": "2021-06-10T20:11:35.132Z"
   },
   {
    "duration": 8,
    "start_time": "2021-06-10T20:11:35.160Z"
   },
   {
    "duration": 8,
    "start_time": "2021-06-10T20:11:35.201Z"
   },
   {
    "duration": 11,
    "start_time": "2021-06-10T20:11:35.211Z"
   },
   {
    "duration": 11,
    "start_time": "2021-06-10T20:11:35.225Z"
   },
   {
    "duration": 344,
    "start_time": "2021-06-10T20:11:35.238Z"
   },
   {
    "duration": 341,
    "start_time": "2021-06-10T20:11:35.585Z"
   },
   {
    "duration": 439,
    "start_time": "2021-06-10T20:11:35.929Z"
   },
   {
    "duration": 345,
    "start_time": "2021-06-10T20:11:36.370Z"
   },
   {
    "duration": 16,
    "start_time": "2021-06-10T20:11:36.717Z"
   },
   {
    "duration": 14,
    "start_time": "2021-06-10T20:11:36.735Z"
   },
   {
    "duration": 11,
    "start_time": "2021-06-10T20:11:36.752Z"
   },
   {
    "duration": 14,
    "start_time": "2021-06-10T20:11:36.801Z"
   },
   {
    "duration": 210,
    "start_time": "2021-06-10T20:15:12.210Z"
   },
   {
    "duration": 188,
    "start_time": "2021-06-10T20:15:12.424Z"
   },
   {
    "duration": 24,
    "start_time": "2021-06-10T20:15:12.615Z"
   },
   {
    "duration": 132,
    "start_time": "2021-06-10T20:15:12.642Z"
   },
   {
    "duration": 35,
    "start_time": "2021-06-10T20:15:12.777Z"
   },
   {
    "duration": 63,
    "start_time": "2021-06-10T20:15:12.815Z"
   },
   {
    "duration": 28,
    "start_time": "2021-06-10T20:15:12.880Z"
   },
   {
    "duration": 23,
    "start_time": "2021-06-10T20:15:12.910Z"
   },
   {
    "duration": 19,
    "start_time": "2021-06-10T20:15:12.938Z"
   },
   {
    "duration": 41,
    "start_time": "2021-06-10T20:15:12.961Z"
   },
   {
    "duration": 10,
    "start_time": "2021-06-10T20:15:13.005Z"
   },
   {
    "duration": 11,
    "start_time": "2021-06-10T20:15:13.017Z"
   },
   {
    "duration": 9,
    "start_time": "2021-06-10T20:15:13.031Z"
   },
   {
    "duration": 6,
    "start_time": "2021-06-10T20:15:13.043Z"
   },
   {
    "duration": 11,
    "start_time": "2021-06-10T20:15:13.099Z"
   },
   {
    "duration": 9,
    "start_time": "2021-06-10T20:15:13.113Z"
   },
   {
    "duration": 9,
    "start_time": "2021-06-10T20:15:13.125Z"
   },
   {
    "duration": 9,
    "start_time": "2021-06-10T20:15:13.137Z"
   },
   {
    "duration": 193,
    "start_time": "2021-06-10T20:15:13.149Z"
   },
   {
    "duration": 98,
    "start_time": "2021-06-10T20:15:13.345Z"
   },
   {
    "duration": 156,
    "start_time": "2021-06-10T20:15:13.446Z"
   },
   {
    "duration": 70,
    "start_time": "2021-06-10T20:15:13.605Z"
   },
   {
    "duration": 60,
    "start_time": "2021-06-10T20:15:13.678Z"
   },
   {
    "duration": 86,
    "start_time": "2021-06-10T20:15:13.741Z"
   },
   {
    "duration": 609,
    "start_time": "2021-06-10T20:15:13.829Z"
   },
   {
    "duration": 10,
    "start_time": "2021-06-10T20:15:14.441Z"
   },
   {
    "duration": 63,
    "start_time": "2021-06-10T20:15:14.458Z"
   },
   {
    "duration": 38,
    "start_time": "2021-06-10T20:15:14.524Z"
   },
   {
    "duration": 56,
    "start_time": "2021-06-10T20:15:14.565Z"
   },
   {
    "duration": 25,
    "start_time": "2021-06-10T20:15:14.623Z"
   },
   {
    "duration": 9,
    "start_time": "2021-06-10T20:15:14.650Z"
   },
   {
    "duration": 44,
    "start_time": "2021-06-10T20:15:14.662Z"
   },
   {
    "duration": 11,
    "start_time": "2021-06-10T20:15:14.709Z"
   },
   {
    "duration": 10,
    "start_time": "2021-06-10T20:15:14.722Z"
   },
   {
    "duration": 356,
    "start_time": "2021-06-10T20:15:14.735Z"
   },
   {
    "duration": 317,
    "start_time": "2021-06-10T20:15:15.100Z"
   },
   {
    "duration": 348,
    "start_time": "2021-06-10T20:15:15.420Z"
   },
   {
    "duration": 329,
    "start_time": "2021-06-10T20:15:15.771Z"
   },
   {
    "duration": 14,
    "start_time": "2021-06-10T20:15:16.103Z"
   },
   {
    "duration": 13,
    "start_time": "2021-06-10T20:15:16.119Z"
   },
   {
    "duration": 10,
    "start_time": "2021-06-10T20:15:16.134Z"
   },
   {
    "duration": 56,
    "start_time": "2021-06-10T20:15:16.147Z"
   },
   {
    "duration": 224,
    "start_time": "2021-06-10T20:17:28.540Z"
   },
   {
    "duration": 195,
    "start_time": "2021-06-10T20:17:28.768Z"
   },
   {
    "duration": 41,
    "start_time": "2021-06-10T20:17:28.967Z"
   },
   {
    "duration": 119,
    "start_time": "2021-06-10T20:17:29.012Z"
   },
   {
    "duration": 27,
    "start_time": "2021-06-10T20:17:29.134Z"
   },
   {
    "duration": 56,
    "start_time": "2021-06-10T20:17:29.164Z"
   },
   {
    "duration": 28,
    "start_time": "2021-06-10T20:17:29.222Z"
   },
   {
    "duration": 21,
    "start_time": "2021-06-10T20:17:29.252Z"
   },
   {
    "duration": 39,
    "start_time": "2021-06-10T20:17:29.277Z"
   },
   {
    "duration": 8,
    "start_time": "2021-06-10T20:17:29.320Z"
   },
   {
    "duration": 11,
    "start_time": "2021-06-10T20:17:29.330Z"
   },
   {
    "duration": 10,
    "start_time": "2021-06-10T20:17:29.343Z"
   },
   {
    "duration": 50,
    "start_time": "2021-06-10T20:17:29.355Z"
   },
   {
    "duration": 6,
    "start_time": "2021-06-10T20:17:29.407Z"
   },
   {
    "duration": 8,
    "start_time": "2021-06-10T20:17:29.416Z"
   },
   {
    "duration": 10,
    "start_time": "2021-06-10T20:17:29.426Z"
   },
   {
    "duration": 6,
    "start_time": "2021-06-10T20:17:29.438Z"
   },
   {
    "duration": 56,
    "start_time": "2021-06-10T20:17:29.446Z"
   },
   {
    "duration": 150,
    "start_time": "2021-06-10T20:17:29.504Z"
   },
   {
    "duration": 96,
    "start_time": "2021-06-10T20:17:29.657Z"
   },
   {
    "duration": 105,
    "start_time": "2021-06-10T20:17:29.755Z"
   },
   {
    "duration": 66,
    "start_time": "2021-06-10T20:17:29.863Z"
   },
   {
    "duration": 32,
    "start_time": "2021-06-10T20:17:29.931Z"
   },
   {
    "duration": 77,
    "start_time": "2021-06-10T20:17:29.965Z"
   },
   {
    "duration": 399,
    "start_time": "2021-06-10T20:17:30.045Z"
   },
   {
    "duration": 9,
    "start_time": "2021-06-10T20:17:30.446Z"
   },
   {
    "duration": 50,
    "start_time": "2021-06-10T20:17:30.460Z"
   },
   {
    "duration": 30,
    "start_time": "2021-06-10T20:17:30.513Z"
   },
   {
    "duration": 24,
    "start_time": "2021-06-10T20:17:30.546Z"
   },
   {
    "duration": 49,
    "start_time": "2021-06-10T20:17:30.573Z"
   },
   {
    "duration": 9,
    "start_time": "2021-06-10T20:17:30.625Z"
   },
   {
    "duration": 19,
    "start_time": "2021-06-10T20:17:30.636Z"
   },
   {
    "duration": 13,
    "start_time": "2021-06-10T20:17:30.658Z"
   },
   {
    "duration": 10,
    "start_time": "2021-06-10T20:17:30.700Z"
   },
   {
    "duration": 477,
    "start_time": "2021-06-10T20:17:30.713Z"
   },
   {
    "duration": 445,
    "start_time": "2021-06-10T20:17:31.201Z"
   },
   {
    "duration": 472,
    "start_time": "2021-06-10T20:17:31.649Z"
   },
   {
    "duration": 455,
    "start_time": "2021-06-10T20:17:32.124Z"
   },
   {
    "duration": 27,
    "start_time": "2021-06-10T20:17:32.582Z"
   },
   {
    "duration": 15,
    "start_time": "2021-06-10T20:17:32.612Z"
   },
   {
    "duration": 12,
    "start_time": "2021-06-10T20:17:32.630Z"
   },
   {
    "duration": 56,
    "start_time": "2021-06-10T20:17:32.645Z"
   },
   {
    "duration": 1036,
    "start_time": "2021-06-10T21:47:44.947Z"
   },
   {
    "duration": 203,
    "start_time": "2021-06-10T21:47:45.986Z"
   },
   {
    "duration": 23,
    "start_time": "2021-06-10T21:47:46.192Z"
   },
   {
    "duration": 146,
    "start_time": "2021-06-10T21:47:46.217Z"
   },
   {
    "duration": 29,
    "start_time": "2021-06-10T21:47:46.367Z"
   },
   {
    "duration": 49,
    "start_time": "2021-06-10T21:47:46.399Z"
   },
   {
    "duration": 38,
    "start_time": "2021-06-10T21:47:46.454Z"
   },
   {
    "duration": 22,
    "start_time": "2021-06-10T21:47:46.496Z"
   },
   {
    "duration": 51,
    "start_time": "2021-06-10T21:47:46.521Z"
   },
   {
    "duration": 8,
    "start_time": "2021-06-10T21:47:46.575Z"
   },
   {
    "duration": 17,
    "start_time": "2021-06-10T21:47:46.586Z"
   },
   {
    "duration": 21,
    "start_time": "2021-06-10T21:47:46.605Z"
   },
   {
    "duration": 28,
    "start_time": "2021-06-10T21:47:46.628Z"
   },
   {
    "duration": 16,
    "start_time": "2021-06-10T21:47:46.658Z"
   },
   {
    "duration": 14,
    "start_time": "2021-06-10T21:47:46.676Z"
   },
   {
    "duration": 15,
    "start_time": "2021-06-10T21:47:46.693Z"
   },
   {
    "duration": 10,
    "start_time": "2021-06-10T21:47:46.710Z"
   },
   {
    "duration": 13,
    "start_time": "2021-06-10T21:47:46.722Z"
   },
   {
    "duration": 186,
    "start_time": "2021-06-10T21:47:46.755Z"
   },
   {
    "duration": 111,
    "start_time": "2021-06-10T21:47:46.943Z"
   },
   {
    "duration": 107,
    "start_time": "2021-06-10T21:47:47.056Z"
   },
   {
    "duration": 56,
    "start_time": "2021-06-10T21:47:47.166Z"
   },
   {
    "duration": 51,
    "start_time": "2021-06-10T21:47:47.226Z"
   },
   {
    "duration": 52,
    "start_time": "2021-06-10T21:47:47.280Z"
   },
   {
    "duration": 407,
    "start_time": "2021-06-10T21:54:35.989Z"
   },
   {
    "duration": 417,
    "start_time": "2021-06-10T21:57:18.656Z"
   },
   {
    "duration": 397,
    "start_time": "2021-06-10T21:58:01.006Z"
   },
   {
    "duration": 49,
    "start_time": "2021-06-10T21:58:48.797Z"
   },
   {
    "duration": 402,
    "start_time": "2021-06-10T21:59:05.917Z"
   },
   {
    "duration": 47,
    "start_time": "2021-06-10T21:59:12.669Z"
   },
   {
    "duration": 20,
    "start_time": "2021-06-10T22:00:08.977Z"
   },
   {
    "duration": 22,
    "start_time": "2021-06-10T22:00:32.341Z"
   },
   {
    "duration": 48,
    "start_time": "2021-06-10T22:00:47.753Z"
   },
   {
    "duration": 403,
    "start_time": "2021-06-10T22:01:16.746Z"
   },
   {
    "duration": 51,
    "start_time": "2021-06-10T22:01:21.487Z"
   },
   {
    "duration": 987,
    "start_time": "2021-06-10T22:02:17.190Z"
   },
   {
    "duration": 186,
    "start_time": "2021-06-10T22:02:18.180Z"
   },
   {
    "duration": 26,
    "start_time": "2021-06-10T22:02:18.369Z"
   },
   {
    "duration": 158,
    "start_time": "2021-06-10T22:02:18.398Z"
   },
   {
    "duration": 29,
    "start_time": "2021-06-10T22:02:18.559Z"
   },
   {
    "duration": 57,
    "start_time": "2021-06-10T22:02:18.591Z"
   },
   {
    "duration": 29,
    "start_time": "2021-06-10T22:02:18.650Z"
   },
   {
    "duration": 22,
    "start_time": "2021-06-10T22:02:18.683Z"
   },
   {
    "duration": 21,
    "start_time": "2021-06-10T22:02:18.713Z"
   },
   {
    "duration": 8,
    "start_time": "2021-06-10T22:02:18.755Z"
   },
   {
    "duration": 11,
    "start_time": "2021-06-10T22:02:18.765Z"
   },
   {
    "duration": 8,
    "start_time": "2021-06-10T22:02:18.779Z"
   },
   {
    "duration": 7,
    "start_time": "2021-06-10T22:02:18.789Z"
   },
   {
    "duration": 9,
    "start_time": "2021-06-10T22:02:18.798Z"
   },
   {
    "duration": 9,
    "start_time": "2021-06-10T22:02:18.854Z"
   },
   {
    "duration": 10,
    "start_time": "2021-06-10T22:02:18.866Z"
   },
   {
    "duration": 6,
    "start_time": "2021-06-10T22:02:18.879Z"
   },
   {
    "duration": 9,
    "start_time": "2021-06-10T22:02:18.887Z"
   },
   {
    "duration": 203,
    "start_time": "2021-06-10T22:02:18.898Z"
   },
   {
    "duration": 99,
    "start_time": "2021-06-10T22:02:19.104Z"
   },
   {
    "duration": 105,
    "start_time": "2021-06-10T22:02:19.206Z"
   },
   {
    "duration": 70,
    "start_time": "2021-06-10T22:02:19.314Z"
   },
   {
    "duration": 44,
    "start_time": "2021-06-10T22:02:19.388Z"
   },
   {
    "duration": 84,
    "start_time": "2021-06-10T22:02:19.435Z"
   },
   {
    "duration": 436,
    "start_time": "2021-06-10T22:02:19.521Z"
   },
   {
    "duration": 34,
    "start_time": "2021-06-10T22:02:19.959Z"
   },
   {
    "duration": 31,
    "start_time": "2021-06-10T22:02:19.995Z"
   },
   {
    "duration": 26,
    "start_time": "2021-06-10T22:02:20.055Z"
   },
   {
    "duration": 32,
    "start_time": "2021-06-10T22:02:20.084Z"
   },
   {
    "duration": 39,
    "start_time": "2021-06-10T22:02:20.119Z"
   },
   {
    "duration": 19,
    "start_time": "2021-06-10T22:02:20.160Z"
   },
   {
    "duration": 12,
    "start_time": "2021-06-10T22:02:20.181Z"
   },
   {
    "duration": 24,
    "start_time": "2021-06-10T22:02:20.195Z"
   },
   {
    "duration": 459,
    "start_time": "2021-06-10T22:02:20.221Z"
   },
   {
    "duration": 332,
    "start_time": "2021-06-10T22:02:20.682Z"
   },
   {
    "duration": 362,
    "start_time": "2021-06-10T22:02:21.017Z"
   },
   {
    "duration": 394,
    "start_time": "2021-06-10T22:02:21.382Z"
   },
   {
    "duration": 565,
    "start_time": "2021-06-10T22:02:21.779Z"
   },
   {
    "duration": 20,
    "start_time": "2021-06-10T22:02:22.347Z"
   },
   {
    "duration": 12,
    "start_time": "2021-06-10T22:02:22.370Z"
   },
   {
    "duration": 17,
    "start_time": "2021-06-10T22:02:22.385Z"
   },
   {
    "duration": 475,
    "start_time": "2021-06-10T22:04:07.249Z"
   },
   {
    "duration": 388,
    "start_time": "2021-06-10T22:05:07.156Z"
   },
   {
    "duration": 85,
    "start_time": "2021-06-10T22:05:54.865Z"
   },
   {
    "duration": 392,
    "start_time": "2021-06-10T22:06:31.390Z"
   },
   {
    "duration": 533,
    "start_time": "2021-06-10T22:07:24.661Z"
   },
   {
    "duration": 393,
    "start_time": "2021-06-10T22:07:37.919Z"
   },
   {
    "duration": 49,
    "start_time": "2021-06-10T22:09:51.169Z"
   },
   {
    "duration": 394,
    "start_time": "2021-06-10T22:10:46.286Z"
   },
   {
    "duration": 51,
    "start_time": "2021-06-10T22:10:51.939Z"
   },
   {
    "duration": 965,
    "start_time": "2021-06-10T22:12:02.438Z"
   },
   {
    "duration": 182,
    "start_time": "2021-06-10T22:12:03.405Z"
   },
   {
    "duration": 24,
    "start_time": "2021-06-10T22:12:03.590Z"
   },
   {
    "duration": 138,
    "start_time": "2021-06-10T22:12:03.617Z"
   },
   {
    "duration": 25,
    "start_time": "2021-06-10T22:12:03.758Z"
   },
   {
    "duration": 55,
    "start_time": "2021-06-10T22:12:03.786Z"
   },
   {
    "duration": 29,
    "start_time": "2021-06-10T22:12:03.843Z"
   },
   {
    "duration": 27,
    "start_time": "2021-06-10T22:12:03.876Z"
   },
   {
    "duration": 23,
    "start_time": "2021-06-10T22:12:03.906Z"
   },
   {
    "duration": 23,
    "start_time": "2021-06-10T22:12:03.931Z"
   },
   {
    "duration": 13,
    "start_time": "2021-06-10T22:12:03.957Z"
   },
   {
    "duration": 11,
    "start_time": "2021-06-10T22:12:03.972Z"
   },
   {
    "duration": 8,
    "start_time": "2021-06-10T22:12:03.985Z"
   },
   {
    "duration": 6,
    "start_time": "2021-06-10T22:12:03.996Z"
   },
   {
    "duration": 7,
    "start_time": "2021-06-10T22:12:04.005Z"
   },
   {
    "duration": 46,
    "start_time": "2021-06-10T22:12:04.014Z"
   },
   {
    "duration": 5,
    "start_time": "2021-06-10T22:12:04.063Z"
   },
   {
    "duration": 9,
    "start_time": "2021-06-10T22:12:04.070Z"
   },
   {
    "duration": 190,
    "start_time": "2021-06-10T22:12:04.081Z"
   },
   {
    "duration": 101,
    "start_time": "2021-06-10T22:12:04.273Z"
   },
   {
    "duration": 103,
    "start_time": "2021-06-10T22:12:04.376Z"
   },
   {
    "duration": 54,
    "start_time": "2021-06-10T22:12:04.481Z"
   },
   {
    "duration": 31,
    "start_time": "2021-06-10T22:12:04.556Z"
   },
   {
    "duration": 74,
    "start_time": "2021-06-10T22:12:04.590Z"
   },
   {
    "duration": 398,
    "start_time": "2021-06-10T22:12:09.636Z"
   },
   {
    "duration": 50,
    "start_time": "2021-06-10T22:12:18.243Z"
   },
   {
    "duration": 8,
    "start_time": "2021-06-10T22:13:38.847Z"
   },
   {
    "duration": 6,
    "start_time": "2021-06-10T22:14:16.600Z"
   },
   {
    "duration": 9,
    "start_time": "2021-06-10T22:14:23.510Z"
   },
   {
    "duration": 9,
    "start_time": "2021-06-10T22:15:06.911Z"
   },
   {
    "duration": 9,
    "start_time": "2021-06-10T22:16:09.120Z"
   },
   {
    "duration": 1012,
    "start_time": "2021-06-10T22:16:41.632Z"
   },
   {
    "duration": 186,
    "start_time": "2021-06-10T22:16:42.647Z"
   },
   {
    "duration": 36,
    "start_time": "2021-06-10T22:16:42.836Z"
   },
   {
    "duration": 175,
    "start_time": "2021-06-10T22:16:42.875Z"
   },
   {
    "duration": 30,
    "start_time": "2021-06-10T22:16:43.055Z"
   },
   {
    "duration": 45,
    "start_time": "2021-06-10T22:16:43.089Z"
   },
   {
    "duration": 29,
    "start_time": "2021-06-10T22:16:43.136Z"
   },
   {
    "duration": 23,
    "start_time": "2021-06-10T22:16:43.169Z"
   },
   {
    "duration": 21,
    "start_time": "2021-06-10T22:16:43.197Z"
   },
   {
    "duration": 9,
    "start_time": "2021-06-10T22:16:43.253Z"
   },
   {
    "duration": 11,
    "start_time": "2021-06-10T22:16:43.266Z"
   },
   {
    "duration": 9,
    "start_time": "2021-06-10T22:16:43.279Z"
   },
   {
    "duration": 8,
    "start_time": "2021-06-10T22:16:43.291Z"
   },
   {
    "duration": 10,
    "start_time": "2021-06-10T22:16:43.302Z"
   },
   {
    "duration": 9,
    "start_time": "2021-06-10T22:16:43.355Z"
   },
   {
    "duration": 11,
    "start_time": "2021-06-10T22:16:43.367Z"
   },
   {
    "duration": 8,
    "start_time": "2021-06-10T22:16:43.381Z"
   },
   {
    "duration": 8,
    "start_time": "2021-06-10T22:16:43.393Z"
   },
   {
    "duration": 235,
    "start_time": "2021-06-10T22:16:43.404Z"
   },
   {
    "duration": 124,
    "start_time": "2021-06-10T22:16:43.642Z"
   },
   {
    "duration": 166,
    "start_time": "2021-06-10T22:16:43.770Z"
   },
   {
    "duration": 95,
    "start_time": "2021-06-10T22:16:43.939Z"
   },
   {
    "duration": 57,
    "start_time": "2021-06-10T22:16:44.039Z"
   },
   {
    "duration": 89,
    "start_time": "2021-06-10T22:16:44.099Z"
   },
   {
    "duration": 14,
    "start_time": "2021-06-10T22:16:50.292Z"
   },
   {
    "duration": 422,
    "start_time": "2021-06-10T22:17:45.585Z"
   },
   {
    "duration": 950,
    "start_time": "2021-06-10T22:18:02.791Z"
   },
   {
    "duration": 190,
    "start_time": "2021-06-10T22:18:03.755Z"
   },
   {
    "duration": 23,
    "start_time": "2021-06-10T22:18:03.954Z"
   },
   {
    "duration": 129,
    "start_time": "2021-06-10T22:18:03.980Z"
   },
   {
    "duration": 25,
    "start_time": "2021-06-10T22:18:04.112Z"
   },
   {
    "duration": 47,
    "start_time": "2021-06-10T22:18:04.139Z"
   },
   {
    "duration": 31,
    "start_time": "2021-06-10T22:18:04.189Z"
   },
   {
    "duration": 34,
    "start_time": "2021-06-10T22:18:04.225Z"
   },
   {
    "duration": 20,
    "start_time": "2021-06-10T22:18:04.262Z"
   },
   {
    "duration": 9,
    "start_time": "2021-06-10T22:18:04.285Z"
   },
   {
    "duration": 16,
    "start_time": "2021-06-10T22:18:04.297Z"
   },
   {
    "duration": 45,
    "start_time": "2021-06-10T22:18:04.316Z"
   },
   {
    "duration": 10,
    "start_time": "2021-06-10T22:18:04.364Z"
   },
   {
    "duration": 10,
    "start_time": "2021-06-10T22:18:04.376Z"
   },
   {
    "duration": 8,
    "start_time": "2021-06-10T22:18:04.388Z"
   },
   {
    "duration": 9,
    "start_time": "2021-06-10T22:18:04.398Z"
   },
   {
    "duration": 45,
    "start_time": "2021-06-10T22:18:04.409Z"
   },
   {
    "duration": 17,
    "start_time": "2021-06-10T22:18:04.457Z"
   },
   {
    "duration": 177,
    "start_time": "2021-06-10T22:18:04.477Z"
   },
   {
    "duration": 100,
    "start_time": "2021-06-10T22:18:04.656Z"
   },
   {
    "duration": 103,
    "start_time": "2021-06-10T22:18:04.758Z"
   },
   {
    "duration": 53,
    "start_time": "2021-06-10T22:18:04.864Z"
   },
   {
    "duration": 51,
    "start_time": "2021-06-10T22:18:04.922Z"
   },
   {
    "duration": 50,
    "start_time": "2021-06-10T22:18:04.976Z"
   },
   {
    "duration": 436,
    "start_time": "2021-06-10T22:18:05.028Z"
   },
   {
    "duration": 32,
    "start_time": "2021-06-10T22:18:05.466Z"
   },
   {
    "duration": 29,
    "start_time": "2021-06-10T22:18:05.500Z"
   },
   {
    "duration": 23,
    "start_time": "2021-06-10T22:18:05.555Z"
   },
   {
    "duration": 32,
    "start_time": "2021-06-10T22:18:05.581Z"
   },
   {
    "duration": 8,
    "start_time": "2021-06-10T22:18:05.616Z"
   },
   {
    "duration": 30,
    "start_time": "2021-06-10T22:18:05.627Z"
   },
   {
    "duration": 15,
    "start_time": "2021-06-10T22:18:05.660Z"
   },
   {
    "duration": 15,
    "start_time": "2021-06-10T22:18:05.677Z"
   },
   {
    "duration": 448,
    "start_time": "2021-06-10T22:18:05.694Z"
   },
   {
    "duration": 354,
    "start_time": "2021-06-10T22:18:06.144Z"
   },
   {
    "duration": 368,
    "start_time": "2021-06-10T22:18:06.501Z"
   },
   {
    "duration": 374,
    "start_time": "2021-06-10T22:18:06.872Z"
   },
   {
    "duration": 421,
    "start_time": "2021-06-10T22:18:07.248Z"
   },
   {
    "duration": 15,
    "start_time": "2021-06-10T22:18:07.671Z"
   },
   {
    "duration": 12,
    "start_time": "2021-06-10T22:18:07.688Z"
   },
   {
    "duration": 15,
    "start_time": "2021-06-10T22:18:07.703Z"
   },
   {
    "duration": 403,
    "start_time": "2021-06-10T22:18:58.718Z"
   },
   {
    "duration": 944,
    "start_time": "2021-06-10T22:23:21.100Z"
   },
   {
    "duration": 189,
    "start_time": "2021-06-10T22:23:22.054Z"
   },
   {
    "duration": 30,
    "start_time": "2021-06-10T22:23:22.247Z"
   },
   {
    "duration": 139,
    "start_time": "2021-06-10T22:23:22.280Z"
   },
   {
    "duration": 26,
    "start_time": "2021-06-10T22:23:22.422Z"
   },
   {
    "duration": 49,
    "start_time": "2021-06-10T22:23:22.455Z"
   },
   {
    "duration": 27,
    "start_time": "2021-06-10T22:23:22.507Z"
   },
   {
    "duration": 34,
    "start_time": "2021-06-10T22:23:22.538Z"
   },
   {
    "duration": 20,
    "start_time": "2021-06-10T22:23:22.575Z"
   },
   {
    "duration": 10,
    "start_time": "2021-06-10T22:23:22.597Z"
   },
   {
    "duration": 45,
    "start_time": "2021-06-10T22:23:22.610Z"
   },
   {
    "duration": 11,
    "start_time": "2021-06-10T22:23:22.658Z"
   },
   {
    "duration": 8,
    "start_time": "2021-06-10T22:23:22.671Z"
   },
   {
    "duration": 9,
    "start_time": "2021-06-10T22:23:22.681Z"
   },
   {
    "duration": 8,
    "start_time": "2021-06-10T22:23:22.692Z"
   },
   {
    "duration": 8,
    "start_time": "2021-06-10T22:23:22.702Z"
   },
   {
    "duration": 5,
    "start_time": "2021-06-10T22:23:22.754Z"
   },
   {
    "duration": 17,
    "start_time": "2021-06-10T22:23:22.761Z"
   },
   {
    "duration": 182,
    "start_time": "2021-06-10T22:23:22.780Z"
   },
   {
    "duration": 102,
    "start_time": "2021-06-10T22:23:22.965Z"
   },
   {
    "duration": 107,
    "start_time": "2021-06-10T22:23:23.069Z"
   },
   {
    "duration": 54,
    "start_time": "2021-06-10T22:23:23.178Z"
   },
   {
    "duration": 48,
    "start_time": "2021-06-10T22:23:23.236Z"
   },
   {
    "duration": 79,
    "start_time": "2021-06-10T22:23:23.287Z"
   },
   {
    "duration": 84,
    "start_time": "2021-06-10T22:23:23.369Z"
   },
   {
    "duration": -10545,
    "start_time": "2021-06-10T22:23:34.000Z"
   },
   {
    "duration": -10699,
    "start_time": "2021-06-10T22:23:34.156Z"
   },
   {
    "duration": -10709,
    "start_time": "2021-06-10T22:23:34.168Z"
   },
   {
    "duration": -10720,
    "start_time": "2021-06-10T22:23:34.180Z"
   },
   {
    "duration": -10729,
    "start_time": "2021-06-10T22:23:34.190Z"
   },
   {
    "duration": -10739,
    "start_time": "2021-06-10T22:23:34.202Z"
   },
   {
    "duration": -10749,
    "start_time": "2021-06-10T22:23:34.213Z"
   },
   {
    "duration": -10777,
    "start_time": "2021-06-10T22:23:34.242Z"
   },
   {
    "duration": -10788,
    "start_time": "2021-06-10T22:23:34.255Z"
   },
   {
    "duration": -10801,
    "start_time": "2021-06-10T22:23:34.269Z"
   },
   {
    "duration": -10811,
    "start_time": "2021-06-10T22:23:34.280Z"
   },
   {
    "duration": -10825,
    "start_time": "2021-06-10T22:23:34.295Z"
   },
   {
    "duration": -10834,
    "start_time": "2021-06-10T22:23:34.306Z"
   },
   {
    "duration": -10844,
    "start_time": "2021-06-10T22:23:34.317Z"
   },
   {
    "duration": -10854,
    "start_time": "2021-06-10T22:23:34.328Z"
   },
   {
    "duration": -10884,
    "start_time": "2021-06-10T22:23:34.359Z"
   },
   {
    "duration": 986,
    "start_time": "2021-06-10T22:24:30.830Z"
   },
   {
    "duration": 188,
    "start_time": "2021-06-10T22:24:31.818Z"
   },
   {
    "duration": 24,
    "start_time": "2021-06-10T22:24:32.009Z"
   },
   {
    "duration": 128,
    "start_time": "2021-06-10T22:24:32.056Z"
   },
   {
    "duration": 27,
    "start_time": "2021-06-10T22:24:32.186Z"
   },
   {
    "duration": 46,
    "start_time": "2021-06-10T22:24:32.215Z"
   },
   {
    "duration": 27,
    "start_time": "2021-06-10T22:24:32.263Z"
   },
   {
    "duration": 23,
    "start_time": "2021-06-10T22:24:32.294Z"
   },
   {
    "duration": 47,
    "start_time": "2021-06-10T22:24:32.320Z"
   },
   {
    "duration": 8,
    "start_time": "2021-06-10T22:24:32.370Z"
   },
   {
    "duration": 13,
    "start_time": "2021-06-10T22:24:32.381Z"
   },
   {
    "duration": 13,
    "start_time": "2021-06-10T22:24:32.397Z"
   },
   {
    "duration": 50,
    "start_time": "2021-06-10T22:24:32.414Z"
   },
   {
    "duration": 9,
    "start_time": "2021-06-10T22:24:32.467Z"
   },
   {
    "duration": 11,
    "start_time": "2021-06-10T22:24:32.480Z"
   },
   {
    "duration": 17,
    "start_time": "2021-06-10T22:24:32.494Z"
   },
   {
    "duration": 41,
    "start_time": "2021-06-10T22:24:32.515Z"
   },
   {
    "duration": 14,
    "start_time": "2021-06-10T22:24:32.560Z"
   },
   {
    "duration": 278,
    "start_time": "2021-06-10T22:24:32.577Z"
   },
   {
    "duration": 158,
    "start_time": "2021-06-10T22:24:32.859Z"
   },
   {
    "duration": 170,
    "start_time": "2021-06-10T22:24:33.020Z"
   },
   {
    "duration": 105,
    "start_time": "2021-06-10T22:24:33.194Z"
   },
   {
    "duration": 67,
    "start_time": "2021-06-10T22:24:33.309Z"
   },
   {
    "duration": 101,
    "start_time": "2021-06-10T22:24:33.381Z"
   },
   {
    "duration": 629,
    "start_time": "2021-06-10T22:24:33.485Z"
   },
   {
    "duration": 46,
    "start_time": "2021-06-10T22:24:34.117Z"
   },
   {
    "duration": 30,
    "start_time": "2021-06-10T22:24:34.166Z"
   },
   {
    "duration": 24,
    "start_time": "2021-06-10T22:24:34.199Z"
   },
   {
    "duration": 24,
    "start_time": "2021-06-10T22:24:34.254Z"
   },
   {
    "duration": 8,
    "start_time": "2021-06-10T22:24:34.280Z"
   },
   {
    "duration": 16,
    "start_time": "2021-06-10T22:24:34.291Z"
   },
   {
    "duration": 10,
    "start_time": "2021-06-10T22:24:34.310Z"
   },
   {
    "duration": 35,
    "start_time": "2021-06-10T22:24:34.323Z"
   },
   {
    "duration": 447,
    "start_time": "2021-06-10T22:24:34.361Z"
   },
   {
    "duration": 330,
    "start_time": "2021-06-10T22:24:34.811Z"
   },
   {
    "duration": 357,
    "start_time": "2021-06-10T22:24:35.144Z"
   },
   {
    "duration": 383,
    "start_time": "2021-06-10T22:24:35.505Z"
   },
   {
    "duration": 480,
    "start_time": "2021-06-10T22:24:35.890Z"
   },
   {
    "duration": 12,
    "start_time": "2021-06-10T22:24:36.373Z"
   },
   {
    "duration": 18,
    "start_time": "2021-06-10T22:24:36.387Z"
   },
   {
    "duration": 14,
    "start_time": "2021-06-10T22:24:36.408Z"
   },
   {
    "duration": 398,
    "start_time": "2021-06-10T22:27:35.713Z"
   },
   {
    "duration": 402,
    "start_time": "2021-06-10T22:28:18.314Z"
   },
   {
    "duration": 6,
    "start_time": "2021-06-10T22:29:24.978Z"
   },
   {
    "duration": 377,
    "start_time": "2021-06-10T22:29:35.506Z"
   },
   {
    "duration": 1031,
    "start_time": "2021-06-10T22:30:25.911Z"
   },
   {
    "duration": 192,
    "start_time": "2021-06-10T22:30:26.945Z"
   },
   {
    "duration": 28,
    "start_time": "2021-06-10T22:30:27.140Z"
   },
   {
    "duration": 130,
    "start_time": "2021-06-10T22:30:27.170Z"
   },
   {
    "duration": 25,
    "start_time": "2021-06-10T22:30:27.303Z"
   },
   {
    "duration": 60,
    "start_time": "2021-06-10T22:30:27.330Z"
   },
   {
    "duration": 29,
    "start_time": "2021-06-10T22:30:27.392Z"
   },
   {
    "duration": 31,
    "start_time": "2021-06-10T22:30:27.425Z"
   },
   {
    "duration": 19,
    "start_time": "2021-06-10T22:30:27.459Z"
   },
   {
    "duration": 8,
    "start_time": "2021-06-10T22:30:27.481Z"
   },
   {
    "duration": 19,
    "start_time": "2021-06-10T22:30:27.492Z"
   },
   {
    "duration": 11,
    "start_time": "2021-06-10T22:30:27.513Z"
   },
   {
    "duration": 7,
    "start_time": "2021-06-10T22:30:27.555Z"
   },
   {
    "duration": 11,
    "start_time": "2021-06-10T22:30:27.564Z"
   },
   {
    "duration": 7,
    "start_time": "2021-06-10T22:30:27.577Z"
   },
   {
    "duration": 11,
    "start_time": "2021-06-10T22:30:27.586Z"
   },
   {
    "duration": 8,
    "start_time": "2021-06-10T22:30:27.599Z"
   },
   {
    "duration": 47,
    "start_time": "2021-06-10T22:30:27.609Z"
   },
   {
    "duration": 173,
    "start_time": "2021-06-10T22:30:27.659Z"
   },
   {
    "duration": 92,
    "start_time": "2021-06-10T22:30:27.834Z"
   },
   {
    "duration": 114,
    "start_time": "2021-06-10T22:30:27.929Z"
   },
   {
    "duration": 55,
    "start_time": "2021-06-10T22:30:28.054Z"
   },
   {
    "duration": 48,
    "start_time": "2021-06-10T22:30:28.114Z"
   },
   {
    "duration": 48,
    "start_time": "2021-06-10T22:30:28.165Z"
   },
   {
    "duration": 420,
    "start_time": "2021-06-10T22:30:28.216Z"
   },
   {
    "duration": 36,
    "start_time": "2021-06-10T22:30:28.639Z"
   },
   {
    "duration": 28,
    "start_time": "2021-06-10T22:30:28.677Z"
   },
   {
    "duration": 53,
    "start_time": "2021-06-10T22:30:28.708Z"
   },
   {
    "duration": 25,
    "start_time": "2021-06-10T22:30:28.764Z"
   },
   {
    "duration": 11,
    "start_time": "2021-06-10T22:30:28.792Z"
   },
   {
    "duration": 19,
    "start_time": "2021-06-10T22:30:28.805Z"
   },
   {
    "duration": 30,
    "start_time": "2021-06-10T22:30:28.826Z"
   },
   {
    "duration": 11,
    "start_time": "2021-06-10T22:30:28.859Z"
   },
   {
    "duration": 458,
    "start_time": "2021-06-10T22:30:28.872Z"
   },
   {
    "duration": 340,
    "start_time": "2021-06-10T22:30:29.333Z"
   },
   {
    "duration": 354,
    "start_time": "2021-06-10T22:30:29.675Z"
   },
   {
    "duration": 394,
    "start_time": "2021-06-10T22:30:30.031Z"
   },
   {
    "duration": 441,
    "start_time": "2021-06-10T22:30:30.428Z"
   },
   {
    "duration": 15,
    "start_time": "2021-06-10T22:30:30.872Z"
   },
   {
    "duration": 34,
    "start_time": "2021-06-10T22:30:30.889Z"
   },
   {
    "duration": 29,
    "start_time": "2021-06-10T22:30:30.925Z"
   },
   {
    "duration": 1019,
    "start_time": "2021-06-11T06:28:07.594Z"
   },
   {
    "duration": 203,
    "start_time": "2021-06-11T06:28:08.616Z"
   },
   {
    "duration": 37,
    "start_time": "2021-06-11T06:28:08.822Z"
   },
   {
    "duration": 133,
    "start_time": "2021-06-11T06:28:08.861Z"
   },
   {
    "duration": 31,
    "start_time": "2021-06-11T06:28:08.997Z"
   },
   {
    "duration": 52,
    "start_time": "2021-06-11T06:28:09.031Z"
   },
   {
    "duration": 26,
    "start_time": "2021-06-11T06:28:09.086Z"
   },
   {
    "duration": 39,
    "start_time": "2021-06-11T06:28:09.115Z"
   },
   {
    "duration": 22,
    "start_time": "2021-06-11T06:28:09.159Z"
   },
   {
    "duration": 9,
    "start_time": "2021-06-11T06:28:09.183Z"
   },
   {
    "duration": 26,
    "start_time": "2021-06-11T06:28:09.195Z"
   },
   {
    "duration": 36,
    "start_time": "2021-06-11T06:28:09.224Z"
   },
   {
    "duration": 16,
    "start_time": "2021-06-11T06:28:09.263Z"
   },
   {
    "duration": 15,
    "start_time": "2021-06-11T06:28:09.281Z"
   },
   {
    "duration": 26,
    "start_time": "2021-06-11T06:28:09.299Z"
   },
   {
    "duration": 24,
    "start_time": "2021-06-11T06:28:09.328Z"
   },
   {
    "duration": 6,
    "start_time": "2021-06-11T06:28:09.354Z"
   },
   {
    "duration": 11,
    "start_time": "2021-06-11T06:28:09.362Z"
   },
   {
    "duration": 242,
    "start_time": "2021-06-11T06:28:09.376Z"
   },
   {
    "duration": 102,
    "start_time": "2021-06-11T06:28:09.621Z"
   },
   {
    "duration": 154,
    "start_time": "2021-06-11T06:28:09.726Z"
   },
   {
    "duration": 88,
    "start_time": "2021-06-11T06:28:09.883Z"
   },
   {
    "duration": 32,
    "start_time": "2021-06-11T06:28:09.974Z"
   },
   {
    "duration": 69,
    "start_time": "2021-06-11T06:28:10.008Z"
   },
   {
    "duration": 413,
    "start_time": "2021-06-11T06:28:10.080Z"
   },
   {
    "duration": 42,
    "start_time": "2021-06-11T06:28:10.495Z"
   },
   {
    "duration": 35,
    "start_time": "2021-06-11T06:28:10.542Z"
   },
   {
    "duration": 24,
    "start_time": "2021-06-11T06:28:10.580Z"
   },
   {
    "duration": 57,
    "start_time": "2021-06-11T06:28:10.607Z"
   },
   {
    "duration": 21,
    "start_time": "2021-06-11T06:28:10.666Z"
   },
   {
    "duration": 22,
    "start_time": "2021-06-11T06:28:10.690Z"
   },
   {
    "duration": 25,
    "start_time": "2021-06-11T06:28:10.715Z"
   },
   {
    "duration": 15,
    "start_time": "2021-06-11T06:28:10.742Z"
   },
   {
    "duration": 481,
    "start_time": "2021-06-11T06:28:10.760Z"
   },
   {
    "duration": 338,
    "start_time": "2021-06-11T06:28:11.244Z"
   },
   {
    "duration": 336,
    "start_time": "2021-06-11T06:28:11.585Z"
   },
   {
    "duration": 435,
    "start_time": "2021-06-11T06:28:11.923Z"
   },
   {
    "duration": 487,
    "start_time": "2021-06-11T06:28:12.361Z"
   },
   {
    "duration": 13,
    "start_time": "2021-06-11T06:28:12.854Z"
   },
   {
    "duration": 14,
    "start_time": "2021-06-11T06:28:12.870Z"
   },
   {
    "duration": 22,
    "start_time": "2021-06-11T06:28:12.887Z"
   },
   {
    "duration": 262,
    "start_time": "2021-06-11T06:33:30.379Z"
   },
   {
    "duration": 198,
    "start_time": "2021-06-11T06:33:30.644Z"
   },
   {
    "duration": 29,
    "start_time": "2021-06-11T06:33:30.846Z"
   },
   {
    "duration": 137,
    "start_time": "2021-06-11T06:33:30.878Z"
   },
   {
    "duration": 27,
    "start_time": "2021-06-11T06:33:31.017Z"
   },
   {
    "duration": 62,
    "start_time": "2021-06-11T06:33:31.046Z"
   },
   {
    "duration": 26,
    "start_time": "2021-06-11T06:33:31.110Z"
   },
   {
    "duration": 27,
    "start_time": "2021-06-11T06:33:31.139Z"
   },
   {
    "duration": 19,
    "start_time": "2021-06-11T06:33:31.171Z"
   },
   {
    "duration": 9,
    "start_time": "2021-06-11T06:33:31.193Z"
   },
   {
    "duration": 17,
    "start_time": "2021-06-11T06:33:31.204Z"
   },
   {
    "duration": 34,
    "start_time": "2021-06-11T06:33:31.223Z"
   },
   {
    "duration": 12,
    "start_time": "2021-06-11T06:33:31.259Z"
   },
   {
    "duration": 8,
    "start_time": "2021-06-11T06:33:31.273Z"
   },
   {
    "duration": 21,
    "start_time": "2021-06-11T06:33:31.284Z"
   },
   {
    "duration": 21,
    "start_time": "2021-06-11T06:33:31.307Z"
   },
   {
    "duration": 24,
    "start_time": "2021-06-11T06:33:31.330Z"
   },
   {
    "duration": 8,
    "start_time": "2021-06-11T06:33:31.357Z"
   },
   {
    "duration": 164,
    "start_time": "2021-06-11T06:33:31.367Z"
   },
   {
    "duration": 94,
    "start_time": "2021-06-11T06:33:31.533Z"
   },
   {
    "duration": 100,
    "start_time": "2021-06-11T06:33:31.629Z"
   },
   {
    "duration": 67,
    "start_time": "2021-06-11T06:33:31.731Z"
   },
   {
    "duration": 53,
    "start_time": "2021-06-11T06:33:31.801Z"
   },
   {
    "duration": 53,
    "start_time": "2021-06-11T06:33:31.856Z"
   },
   {
    "duration": 428,
    "start_time": "2021-06-11T06:33:31.912Z"
   },
   {
    "duration": 34,
    "start_time": "2021-06-11T06:33:32.343Z"
   },
   {
    "duration": 29,
    "start_time": "2021-06-11T06:33:32.382Z"
   },
   {
    "duration": 49,
    "start_time": "2021-06-11T06:33:32.413Z"
   },
   {
    "duration": 23,
    "start_time": "2021-06-11T06:33:32.464Z"
   },
   {
    "duration": 11,
    "start_time": "2021-06-11T06:33:32.489Z"
   },
   {
    "duration": 9,
    "start_time": "2021-06-11T06:33:32.503Z"
   },
   {
    "duration": 49,
    "start_time": "2021-06-11T06:33:32.514Z"
   },
   {
    "duration": 11,
    "start_time": "2021-06-11T06:33:32.566Z"
   },
   {
    "duration": 337,
    "start_time": "2021-06-11T06:33:32.579Z"
   },
   {
    "duration": 325,
    "start_time": "2021-06-11T06:33:32.919Z"
   },
   {
    "duration": 333,
    "start_time": "2021-06-11T06:33:33.247Z"
   },
   {
    "duration": 329,
    "start_time": "2021-06-11T06:33:33.583Z"
   },
   {
    "duration": 14,
    "start_time": "2021-06-11T06:33:33.915Z"
   },
   {
    "duration": 27,
    "start_time": "2021-06-11T06:33:33.932Z"
   },
   {
    "duration": 14,
    "start_time": "2021-06-11T06:33:33.961Z"
   },
   {
    "duration": 24,
    "start_time": "2021-06-11T06:33:33.977Z"
   },
   {
    "duration": 1016,
    "start_time": "2021-06-11T07:53:54.827Z"
   },
   {
    "duration": 196,
    "start_time": "2021-06-11T07:53:55.846Z"
   },
   {
    "duration": 43,
    "start_time": "2021-06-11T07:53:56.045Z"
   },
   {
    "duration": 230,
    "start_time": "2021-06-11T07:53:56.091Z"
   },
   {
    "duration": 27,
    "start_time": "2021-06-11T07:53:56.323Z"
   },
   {
    "duration": 47,
    "start_time": "2021-06-11T07:53:56.353Z"
   },
   {
    "duration": 29,
    "start_time": "2021-06-11T07:53:56.402Z"
   },
   {
    "duration": 30,
    "start_time": "2021-06-11T07:53:56.435Z"
   },
   {
    "duration": 20,
    "start_time": "2021-06-11T07:53:56.485Z"
   },
   {
    "duration": 14,
    "start_time": "2021-06-11T07:53:56.508Z"
   },
   {
    "duration": 12,
    "start_time": "2021-06-11T07:53:56.525Z"
   },
   {
    "duration": 46,
    "start_time": "2021-06-11T07:53:56.540Z"
   },
   {
    "duration": 9,
    "start_time": "2021-06-11T07:53:56.589Z"
   },
   {
    "duration": 12,
    "start_time": "2021-06-11T07:53:56.601Z"
   },
   {
    "duration": 7,
    "start_time": "2021-06-11T07:53:56.616Z"
   },
   {
    "duration": 9,
    "start_time": "2021-06-11T07:53:56.626Z"
   },
   {
    "duration": 48,
    "start_time": "2021-06-11T07:53:56.637Z"
   },
   {
    "duration": 12,
    "start_time": "2021-06-11T07:53:56.688Z"
   },
   {
    "duration": 183,
    "start_time": "2021-06-11T07:53:56.703Z"
   },
   {
    "duration": 102,
    "start_time": "2021-06-11T07:53:56.888Z"
   },
   {
    "duration": 107,
    "start_time": "2021-06-11T07:53:56.992Z"
   },
   {
    "duration": 55,
    "start_time": "2021-06-11T07:53:57.102Z"
   },
   {
    "duration": 48,
    "start_time": "2021-06-11T07:53:57.161Z"
   },
   {
    "duration": 48,
    "start_time": "2021-06-11T07:53:57.212Z"
   },
   {
    "duration": 417,
    "start_time": "2021-06-11T07:53:57.285Z"
   },
   {
    "duration": 34,
    "start_time": "2021-06-11T07:53:57.705Z"
   },
   {
    "duration": 48,
    "start_time": "2021-06-11T07:53:57.741Z"
   },
   {
    "duration": 22,
    "start_time": "2021-06-11T07:53:57.792Z"
   },
   {
    "duration": 22,
    "start_time": "2021-06-11T07:53:57.816Z"
   },
   {
    "duration": 46,
    "start_time": "2021-06-11T07:53:57.840Z"
   },
   {
    "duration": 6,
    "start_time": "2021-06-11T07:53:57.889Z"
   },
   {
    "duration": 14,
    "start_time": "2021-06-11T07:53:57.898Z"
   },
   {
    "duration": 12,
    "start_time": "2021-06-11T07:53:57.915Z"
   },
   {
    "duration": 577,
    "start_time": "2021-06-11T07:53:57.930Z"
   },
   {
    "duration": 345,
    "start_time": "2021-06-11T07:53:58.510Z"
   },
   {
    "duration": 404,
    "start_time": "2021-06-11T07:53:58.858Z"
   },
   {
    "duration": 384,
    "start_time": "2021-06-11T07:53:59.265Z"
   },
   {
    "duration": 453,
    "start_time": "2021-06-11T07:53:59.652Z"
   },
   {
    "duration": 18,
    "start_time": "2021-06-11T07:54:00.108Z"
   },
   {
    "duration": 14,
    "start_time": "2021-06-11T07:54:00.129Z"
   },
   {
    "duration": 49,
    "start_time": "2021-06-11T07:54:00.146Z"
   }
  ],
  "kernelspec": {
   "display_name": "Python 3",
   "language": "python",
   "name": "python3"
  },
  "language_info": {
   "codemirror_mode": {
    "name": "ipython",
    "version": 3
   },
   "file_extension": ".py",
   "mimetype": "text/x-python",
   "name": "python",
   "nbconvert_exporter": "python",
   "pygments_lexer": "ipython3",
   "version": "3.8.8"
  },
  "toc": {
   "base_numbering": 1,
   "nav_menu": {},
   "number_sections": true,
   "sideBar": true,
   "skip_h1_title": true,
   "title_cell": "Table of Contents",
   "title_sidebar": "Contents",
   "toc_cell": false,
   "toc_position": {},
   "toc_section_display": true,
   "toc_window_display": false
  }
 },
 "nbformat": 4,
 "nbformat_minor": 2
}
