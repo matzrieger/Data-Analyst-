{
 "cells": [
  {
   "cell_type": "markdown",
   "metadata": {},
   "source": [
    "*Нужно разобраться, как ведут себя пользователи вашего мобильного приложения.*\n",
    "\n",
    "*Изучите воронку продаж. Узнайте, как пользователи доходят до покупки. Сколько пользователей доходит до покупки, а сколько — «застревает» на предыдущих шагах? На каких именно?*\n",
    "\n",
    "*После этого исследуйте результаты A/A/B-эксперимента. Дизайнеры захотели поменять шрифты во всём приложении, а менеджеры испугались, что пользователям будет непривычно. Договорились принять решение по результатам A/A/B-теста. Пользователей разбили на 3 группы: 2 контрольные со старыми шрифтами и одну экспериментальную — с новыми. Выясните, какой шрифт лучше.*"
   ]
  },
  {
   "cell_type": "markdown",
   "metadata": {},
   "source": [
    "План проекта:\n",
    "\n",
    "1)[Подготовка данных](#Подготовка-данных)\n",
    "\n",
    "2)[Изучить и проверить данные](#Изучить-и-проверить-данные)\n",
    "\n",
    "3)[Изучить воронку событий](#Изучить-воронку-событий)\n",
    "\n",
    "4)[Изучить результаты эксперимента](#Изучить-результаты-эксперимента)\n",
    "\n",
    "5)[Общий вывод](#Общий-вывод)"
   ]
  },
  {
   "cell_type": "markdown",
   "metadata": {},
   "source": [
    "## Подготовка данных"
   ]
  },
  {
   "cell_type": "code",
   "execution_count": 1,
   "metadata": {},
   "outputs": [
    {
     "data": {
      "text/html": [
       "<div>\n",
       "<style scoped>\n",
       "    .dataframe tbody tr th:only-of-type {\n",
       "        vertical-align: middle;\n",
       "    }\n",
       "\n",
       "    .dataframe tbody tr th {\n",
       "        vertical-align: top;\n",
       "    }\n",
       "\n",
       "    .dataframe thead th {\n",
       "        text-align: right;\n",
       "    }\n",
       "</style>\n",
       "<table border=\"1\" class=\"dataframe\">\n",
       "  <thead>\n",
       "    <tr style=\"text-align: right;\">\n",
       "      <th></th>\n",
       "      <th>EventName</th>\n",
       "      <th>DeviceIDHash</th>\n",
       "      <th>EventTimestamp</th>\n",
       "      <th>ExpId</th>\n",
       "    </tr>\n",
       "  </thead>\n",
       "  <tbody>\n",
       "    <tr>\n",
       "      <td>0</td>\n",
       "      <td>MainScreenAppear</td>\n",
       "      <td>4575588528974610257</td>\n",
       "      <td>1564029816</td>\n",
       "      <td>246</td>\n",
       "    </tr>\n",
       "    <tr>\n",
       "      <td>1</td>\n",
       "      <td>MainScreenAppear</td>\n",
       "      <td>7416695313311560658</td>\n",
       "      <td>1564053102</td>\n",
       "      <td>246</td>\n",
       "    </tr>\n",
       "    <tr>\n",
       "      <td>2</td>\n",
       "      <td>PaymentScreenSuccessful</td>\n",
       "      <td>3518123091307005509</td>\n",
       "      <td>1564054127</td>\n",
       "      <td>248</td>\n",
       "    </tr>\n",
       "    <tr>\n",
       "      <td>3</td>\n",
       "      <td>CartScreenAppear</td>\n",
       "      <td>3518123091307005509</td>\n",
       "      <td>1564054127</td>\n",
       "      <td>248</td>\n",
       "    </tr>\n",
       "    <tr>\n",
       "      <td>4</td>\n",
       "      <td>PaymentScreenSuccessful</td>\n",
       "      <td>6217807653094995999</td>\n",
       "      <td>1564055322</td>\n",
       "      <td>248</td>\n",
       "    </tr>\n",
       "    <tr>\n",
       "      <td>...</td>\n",
       "      <td>...</td>\n",
       "      <td>...</td>\n",
       "      <td>...</td>\n",
       "      <td>...</td>\n",
       "    </tr>\n",
       "    <tr>\n",
       "      <td>244121</td>\n",
       "      <td>MainScreenAppear</td>\n",
       "      <td>4599628364049201812</td>\n",
       "      <td>1565212345</td>\n",
       "      <td>247</td>\n",
       "    </tr>\n",
       "    <tr>\n",
       "      <td>244122</td>\n",
       "      <td>MainScreenAppear</td>\n",
       "      <td>5849806612437486590</td>\n",
       "      <td>1565212439</td>\n",
       "      <td>246</td>\n",
       "    </tr>\n",
       "    <tr>\n",
       "      <td>244123</td>\n",
       "      <td>MainScreenAppear</td>\n",
       "      <td>5746969938801999050</td>\n",
       "      <td>1565212483</td>\n",
       "      <td>246</td>\n",
       "    </tr>\n",
       "    <tr>\n",
       "      <td>244124</td>\n",
       "      <td>MainScreenAppear</td>\n",
       "      <td>5746969938801999050</td>\n",
       "      <td>1565212498</td>\n",
       "      <td>246</td>\n",
       "    </tr>\n",
       "    <tr>\n",
       "      <td>244125</td>\n",
       "      <td>OffersScreenAppear</td>\n",
       "      <td>5746969938801999050</td>\n",
       "      <td>1565212517</td>\n",
       "      <td>246</td>\n",
       "    </tr>\n",
       "  </tbody>\n",
       "</table>\n",
       "<p>244126 rows × 4 columns</p>\n",
       "</div>"
      ],
      "text/plain": [
       "                      EventName         DeviceIDHash  EventTimestamp  ExpId\n",
       "0              MainScreenAppear  4575588528974610257      1564029816    246\n",
       "1              MainScreenAppear  7416695313311560658      1564053102    246\n",
       "2       PaymentScreenSuccessful  3518123091307005509      1564054127    248\n",
       "3              CartScreenAppear  3518123091307005509      1564054127    248\n",
       "4       PaymentScreenSuccessful  6217807653094995999      1564055322    248\n",
       "...                         ...                  ...             ...    ...\n",
       "244121         MainScreenAppear  4599628364049201812      1565212345    247\n",
       "244122         MainScreenAppear  5849806612437486590      1565212439    246\n",
       "244123         MainScreenAppear  5746969938801999050      1565212483    246\n",
       "244124         MainScreenAppear  5746969938801999050      1565212498    246\n",
       "244125       OffersScreenAppear  5746969938801999050      1565212517    246\n",
       "\n",
       "[244126 rows x 4 columns]"
      ]
     },
     "execution_count": 1,
     "metadata": {},
     "output_type": "execute_result"
    }
   ],
   "source": [
    "import pandas as pd\n",
    "import seaborn as sns\n",
    "import matplotlib \n",
    "import matplotlib.pyplot as plt\n",
    "import seaborn as sns\n",
    "from datetime import datetime\n",
    "from scipy import stats as st\n",
    "from statsmodels.stats import weightstats as stests\n",
    "import numpy as np\n",
    "import warnings\n",
    "warnings.filterwarnings('ignore')\n",
    "from statsmodels.stats.proportion import proportions_ztest\n",
    "\n",
    "data = pd.read_csv('/datasets/logs_exp.csv', sep='\\t')\n",
    "data"
   ]
  },
  {
   "cell_type": "markdown",
   "metadata": {},
   "source": [
    "### Заменить названия столбцов на удобные "
   ]
  },
  {
   "cell_type": "code",
   "execution_count": 2,
   "metadata": {},
   "outputs": [
    {
     "data": {
      "text/html": [
       "<div>\n",
       "<style scoped>\n",
       "    .dataframe tbody tr th:only-of-type {\n",
       "        vertical-align: middle;\n",
       "    }\n",
       "\n",
       "    .dataframe tbody tr th {\n",
       "        vertical-align: top;\n",
       "    }\n",
       "\n",
       "    .dataframe thead th {\n",
       "        text-align: right;\n",
       "    }\n",
       "</style>\n",
       "<table border=\"1\" class=\"dataframe\">\n",
       "  <thead>\n",
       "    <tr style=\"text-align: right;\">\n",
       "      <th></th>\n",
       "      <th>event_name</th>\n",
       "      <th>id</th>\n",
       "      <th>event_time</th>\n",
       "      <th>expid</th>\n",
       "    </tr>\n",
       "  </thead>\n",
       "  <tbody>\n",
       "    <tr>\n",
       "      <td>0</td>\n",
       "      <td>MainScreenAppear</td>\n",
       "      <td>4575588528974610257</td>\n",
       "      <td>1564029816</td>\n",
       "      <td>246</td>\n",
       "    </tr>\n",
       "    <tr>\n",
       "      <td>1</td>\n",
       "      <td>MainScreenAppear</td>\n",
       "      <td>7416695313311560658</td>\n",
       "      <td>1564053102</td>\n",
       "      <td>246</td>\n",
       "    </tr>\n",
       "    <tr>\n",
       "      <td>2</td>\n",
       "      <td>PaymentScreenSuccessful</td>\n",
       "      <td>3518123091307005509</td>\n",
       "      <td>1564054127</td>\n",
       "      <td>248</td>\n",
       "    </tr>\n",
       "    <tr>\n",
       "      <td>3</td>\n",
       "      <td>CartScreenAppear</td>\n",
       "      <td>3518123091307005509</td>\n",
       "      <td>1564054127</td>\n",
       "      <td>248</td>\n",
       "    </tr>\n",
       "    <tr>\n",
       "      <td>4</td>\n",
       "      <td>PaymentScreenSuccessful</td>\n",
       "      <td>6217807653094995999</td>\n",
       "      <td>1564055322</td>\n",
       "      <td>248</td>\n",
       "    </tr>\n",
       "    <tr>\n",
       "      <td>...</td>\n",
       "      <td>...</td>\n",
       "      <td>...</td>\n",
       "      <td>...</td>\n",
       "      <td>...</td>\n",
       "    </tr>\n",
       "    <tr>\n",
       "      <td>244121</td>\n",
       "      <td>MainScreenAppear</td>\n",
       "      <td>4599628364049201812</td>\n",
       "      <td>1565212345</td>\n",
       "      <td>247</td>\n",
       "    </tr>\n",
       "    <tr>\n",
       "      <td>244122</td>\n",
       "      <td>MainScreenAppear</td>\n",
       "      <td>5849806612437486590</td>\n",
       "      <td>1565212439</td>\n",
       "      <td>246</td>\n",
       "    </tr>\n",
       "    <tr>\n",
       "      <td>244123</td>\n",
       "      <td>MainScreenAppear</td>\n",
       "      <td>5746969938801999050</td>\n",
       "      <td>1565212483</td>\n",
       "      <td>246</td>\n",
       "    </tr>\n",
       "    <tr>\n",
       "      <td>244124</td>\n",
       "      <td>MainScreenAppear</td>\n",
       "      <td>5746969938801999050</td>\n",
       "      <td>1565212498</td>\n",
       "      <td>246</td>\n",
       "    </tr>\n",
       "    <tr>\n",
       "      <td>244125</td>\n",
       "      <td>OffersScreenAppear</td>\n",
       "      <td>5746969938801999050</td>\n",
       "      <td>1565212517</td>\n",
       "      <td>246</td>\n",
       "    </tr>\n",
       "  </tbody>\n",
       "</table>\n",
       "<p>244126 rows × 4 columns</p>\n",
       "</div>"
      ],
      "text/plain": [
       "                     event_name                   id  event_time  expid\n",
       "0              MainScreenAppear  4575588528974610257  1564029816    246\n",
       "1              MainScreenAppear  7416695313311560658  1564053102    246\n",
       "2       PaymentScreenSuccessful  3518123091307005509  1564054127    248\n",
       "3              CartScreenAppear  3518123091307005509  1564054127    248\n",
       "4       PaymentScreenSuccessful  6217807653094995999  1564055322    248\n",
       "...                         ...                  ...         ...    ...\n",
       "244121         MainScreenAppear  4599628364049201812  1565212345    247\n",
       "244122         MainScreenAppear  5849806612437486590  1565212439    246\n",
       "244123         MainScreenAppear  5746969938801999050  1565212483    246\n",
       "244124         MainScreenAppear  5746969938801999050  1565212498    246\n",
       "244125       OffersScreenAppear  5746969938801999050  1565212517    246\n",
       "\n",
       "[244126 rows x 4 columns]"
      ]
     },
     "execution_count": 2,
     "metadata": {},
     "output_type": "execute_result"
    }
   ],
   "source": [
    "data = data.rename(columns={\"EventName\": \"event_name\", \"DeviceIDHash\": \"id\", \"EventTimestamp\": \"event_time\", \"ExpId\": \"expid\"})\n",
    "data"
   ]
  },
  {
   "cell_type": "markdown",
   "metadata": {},
   "source": [
    "### Проверить пропуски и типы данных. Откорректировать, если нужно"
   ]
  },
  {
   "cell_type": "code",
   "execution_count": 3,
   "metadata": {},
   "outputs": [
    {
     "name": "stdout",
     "output_type": "stream",
     "text": [
      "<class 'pandas.core.frame.DataFrame'>\n",
      "RangeIndex: 244126 entries, 0 to 244125\n",
      "Data columns (total 4 columns):\n",
      "event_name    244126 non-null object\n",
      "id            244126 non-null int64\n",
      "event_time    244126 non-null int64\n",
      "expid         244126 non-null int64\n",
      "dtypes: int64(3), object(1)\n",
      "memory usage: 7.5+ MB\n"
     ]
    }
   ],
   "source": [
    "data.info()"
   ]
  },
  {
   "cell_type": "code",
   "execution_count": 4,
   "metadata": {},
   "outputs": [],
   "source": [
    "#формат столбца eventtime необходимо поменять \n",
    "data['event_time'] = pd.to_datetime(data['event_time'], unit='s')"
   ]
  },
  {
   "cell_type": "code",
   "execution_count": 5,
   "metadata": {},
   "outputs": [
    {
     "data": {
      "text/html": [
       "<div>\n",
       "<style scoped>\n",
       "    .dataframe tbody tr th:only-of-type {\n",
       "        vertical-align: middle;\n",
       "    }\n",
       "\n",
       "    .dataframe tbody tr th {\n",
       "        vertical-align: top;\n",
       "    }\n",
       "\n",
       "    .dataframe thead th {\n",
       "        text-align: right;\n",
       "    }\n",
       "</style>\n",
       "<table border=\"1\" class=\"dataframe\">\n",
       "  <thead>\n",
       "    <tr style=\"text-align: right;\">\n",
       "      <th></th>\n",
       "      <th>id</th>\n",
       "      <th>expid</th>\n",
       "    </tr>\n",
       "  </thead>\n",
       "  <tbody>\n",
       "    <tr>\n",
       "      <td>count</td>\n",
       "      <td>2.441260e+05</td>\n",
       "      <td>244126.000000</td>\n",
       "    </tr>\n",
       "    <tr>\n",
       "      <td>mean</td>\n",
       "      <td>4.627568e+18</td>\n",
       "      <td>247.022296</td>\n",
       "    </tr>\n",
       "    <tr>\n",
       "      <td>std</td>\n",
       "      <td>2.642425e+18</td>\n",
       "      <td>0.824434</td>\n",
       "    </tr>\n",
       "    <tr>\n",
       "      <td>min</td>\n",
       "      <td>6.888747e+15</td>\n",
       "      <td>246.000000</td>\n",
       "    </tr>\n",
       "    <tr>\n",
       "      <td>25%</td>\n",
       "      <td>2.372212e+18</td>\n",
       "      <td>246.000000</td>\n",
       "    </tr>\n",
       "    <tr>\n",
       "      <td>50%</td>\n",
       "      <td>4.623192e+18</td>\n",
       "      <td>247.000000</td>\n",
       "    </tr>\n",
       "    <tr>\n",
       "      <td>75%</td>\n",
       "      <td>6.932517e+18</td>\n",
       "      <td>248.000000</td>\n",
       "    </tr>\n",
       "    <tr>\n",
       "      <td>max</td>\n",
       "      <td>9.222603e+18</td>\n",
       "      <td>248.000000</td>\n",
       "    </tr>\n",
       "  </tbody>\n",
       "</table>\n",
       "</div>"
      ],
      "text/plain": [
       "                 id          expid\n",
       "count  2.441260e+05  244126.000000\n",
       "mean   4.627568e+18     247.022296\n",
       "std    2.642425e+18       0.824434\n",
       "min    6.888747e+15     246.000000\n",
       "25%    2.372212e+18     246.000000\n",
       "50%    4.623192e+18     247.000000\n",
       "75%    6.932517e+18     248.000000\n",
       "max    9.222603e+18     248.000000"
      ]
     },
     "execution_count": 5,
     "metadata": {},
     "output_type": "execute_result"
    }
   ],
   "source": [
    "data.describe()"
   ]
  },
  {
   "cell_type": "code",
   "execution_count": 6,
   "metadata": {},
   "outputs": [
    {
     "data": {
      "text/plain": [
       "413"
      ]
     },
     "execution_count": 6,
     "metadata": {},
     "output_type": "execute_result"
    }
   ],
   "source": [
    "# проверим данные на дубликаты\n",
    "data.duplicated().sum()"
   ]
  },
  {
   "cell_type": "code",
   "execution_count": 7,
   "metadata": {},
   "outputs": [],
   "source": [
    "data = data.drop_duplicates()"
   ]
  },
  {
   "cell_type": "markdown",
   "metadata": {},
   "source": [
    "### Добавить столбец даты и времени, а также отдельный столбец дат"
   ]
  },
  {
   "cell_type": "code",
   "execution_count": 8,
   "metadata": {},
   "outputs": [
    {
     "data": {
      "text/html": [
       "<div>\n",
       "<style scoped>\n",
       "    .dataframe tbody tr th:only-of-type {\n",
       "        vertical-align: middle;\n",
       "    }\n",
       "\n",
       "    .dataframe tbody tr th {\n",
       "        vertical-align: top;\n",
       "    }\n",
       "\n",
       "    .dataframe thead th {\n",
       "        text-align: right;\n",
       "    }\n",
       "</style>\n",
       "<table border=\"1\" class=\"dataframe\">\n",
       "  <thead>\n",
       "    <tr style=\"text-align: right;\">\n",
       "      <th></th>\n",
       "      <th>event_name</th>\n",
       "      <th>id</th>\n",
       "      <th>event_time</th>\n",
       "      <th>expid</th>\n",
       "      <th>event_date</th>\n",
       "    </tr>\n",
       "  </thead>\n",
       "  <tbody>\n",
       "    <tr>\n",
       "      <td>0</td>\n",
       "      <td>MainScreenAppear</td>\n",
       "      <td>4575588528974610257</td>\n",
       "      <td>2019-07-25 04:43:36</td>\n",
       "      <td>246</td>\n",
       "      <td>2019-07-25</td>\n",
       "    </tr>\n",
       "    <tr>\n",
       "      <td>1</td>\n",
       "      <td>MainScreenAppear</td>\n",
       "      <td>7416695313311560658</td>\n",
       "      <td>2019-07-25 11:11:42</td>\n",
       "      <td>246</td>\n",
       "      <td>2019-07-25</td>\n",
       "    </tr>\n",
       "    <tr>\n",
       "      <td>2</td>\n",
       "      <td>PaymentScreenSuccessful</td>\n",
       "      <td>3518123091307005509</td>\n",
       "      <td>2019-07-25 11:28:47</td>\n",
       "      <td>248</td>\n",
       "      <td>2019-07-25</td>\n",
       "    </tr>\n",
       "    <tr>\n",
       "      <td>3</td>\n",
       "      <td>CartScreenAppear</td>\n",
       "      <td>3518123091307005509</td>\n",
       "      <td>2019-07-25 11:28:47</td>\n",
       "      <td>248</td>\n",
       "      <td>2019-07-25</td>\n",
       "    </tr>\n",
       "    <tr>\n",
       "      <td>4</td>\n",
       "      <td>PaymentScreenSuccessful</td>\n",
       "      <td>6217807653094995999</td>\n",
       "      <td>2019-07-25 11:48:42</td>\n",
       "      <td>248</td>\n",
       "      <td>2019-07-25</td>\n",
       "    </tr>\n",
       "    <tr>\n",
       "      <td>...</td>\n",
       "      <td>...</td>\n",
       "      <td>...</td>\n",
       "      <td>...</td>\n",
       "      <td>...</td>\n",
       "      <td>...</td>\n",
       "    </tr>\n",
       "    <tr>\n",
       "      <td>244121</td>\n",
       "      <td>MainScreenAppear</td>\n",
       "      <td>4599628364049201812</td>\n",
       "      <td>2019-08-07 21:12:25</td>\n",
       "      <td>247</td>\n",
       "      <td>2019-08-07</td>\n",
       "    </tr>\n",
       "    <tr>\n",
       "      <td>244122</td>\n",
       "      <td>MainScreenAppear</td>\n",
       "      <td>5849806612437486590</td>\n",
       "      <td>2019-08-07 21:13:59</td>\n",
       "      <td>246</td>\n",
       "      <td>2019-08-07</td>\n",
       "    </tr>\n",
       "    <tr>\n",
       "      <td>244123</td>\n",
       "      <td>MainScreenAppear</td>\n",
       "      <td>5746969938801999050</td>\n",
       "      <td>2019-08-07 21:14:43</td>\n",
       "      <td>246</td>\n",
       "      <td>2019-08-07</td>\n",
       "    </tr>\n",
       "    <tr>\n",
       "      <td>244124</td>\n",
       "      <td>MainScreenAppear</td>\n",
       "      <td>5746969938801999050</td>\n",
       "      <td>2019-08-07 21:14:58</td>\n",
       "      <td>246</td>\n",
       "      <td>2019-08-07</td>\n",
       "    </tr>\n",
       "    <tr>\n",
       "      <td>244125</td>\n",
       "      <td>OffersScreenAppear</td>\n",
       "      <td>5746969938801999050</td>\n",
       "      <td>2019-08-07 21:15:17</td>\n",
       "      <td>246</td>\n",
       "      <td>2019-08-07</td>\n",
       "    </tr>\n",
       "  </tbody>\n",
       "</table>\n",
       "<p>243713 rows × 5 columns</p>\n",
       "</div>"
      ],
      "text/plain": [
       "                     event_name                   id          event_time  \\\n",
       "0              MainScreenAppear  4575588528974610257 2019-07-25 04:43:36   \n",
       "1              MainScreenAppear  7416695313311560658 2019-07-25 11:11:42   \n",
       "2       PaymentScreenSuccessful  3518123091307005509 2019-07-25 11:28:47   \n",
       "3              CartScreenAppear  3518123091307005509 2019-07-25 11:28:47   \n",
       "4       PaymentScreenSuccessful  6217807653094995999 2019-07-25 11:48:42   \n",
       "...                         ...                  ...                 ...   \n",
       "244121         MainScreenAppear  4599628364049201812 2019-08-07 21:12:25   \n",
       "244122         MainScreenAppear  5849806612437486590 2019-08-07 21:13:59   \n",
       "244123         MainScreenAppear  5746969938801999050 2019-08-07 21:14:43   \n",
       "244124         MainScreenAppear  5746969938801999050 2019-08-07 21:14:58   \n",
       "244125       OffersScreenAppear  5746969938801999050 2019-08-07 21:15:17   \n",
       "\n",
       "        expid  event_date  \n",
       "0         246  2019-07-25  \n",
       "1         246  2019-07-25  \n",
       "2         248  2019-07-25  \n",
       "3         248  2019-07-25  \n",
       "4         248  2019-07-25  \n",
       "...       ...         ...  \n",
       "244121    247  2019-08-07  \n",
       "244122    246  2019-08-07  \n",
       "244123    246  2019-08-07  \n",
       "244124    246  2019-08-07  \n",
       "244125    246  2019-08-07  \n",
       "\n",
       "[243713 rows x 5 columns]"
      ]
     },
     "execution_count": 8,
     "metadata": {},
     "output_type": "execute_result"
    }
   ],
   "source": [
    "data['event_date'] = data['event_time'].dt.date\n",
    "data"
   ]
  },
  {
   "cell_type": "markdown",
   "metadata": {},
   "source": [
    "*В датасете есть небольшая доля дубликатов. Думаю, что это пользователи, попавшие сразу в несколько групп или совершившие несколько одинаковых действий. Дата и время хранятся в базе данных в виде Timestamp - помогает для сокращения памяти и места но не для анализа.*"
   ]
  },
  {
   "cell_type": "markdown",
   "metadata": {},
   "source": [
    "## Изучить и проверить данные"
   ]
  },
  {
   "cell_type": "markdown",
   "metadata": {},
   "source": [
    "### Сколько всего событий в логе? Сколько всего пользователей в логе? Сколько в среднем событий приходится на пользователя?"
   ]
  },
  {
   "cell_type": "code",
   "execution_count": 9,
   "metadata": {},
   "outputs": [
    {
     "data": {
      "text/plain": [
       "5"
      ]
     },
     "execution_count": 9,
     "metadata": {},
     "output_type": "execute_result"
    }
   ],
   "source": [
    "data['event_name'].nunique()"
   ]
  },
  {
   "cell_type": "code",
   "execution_count": 10,
   "metadata": {},
   "outputs": [
    {
     "data": {
      "text/plain": [
       "7551"
      ]
     },
     "execution_count": 10,
     "metadata": {},
     "output_type": "execute_result"
    }
   ],
   "source": [
    "data['id'].nunique()"
   ]
  },
  {
   "cell_type": "code",
   "execution_count": 11,
   "metadata": {},
   "outputs": [
    {
     "data": {
      "text/plain": [
       "32.27559263673685"
      ]
     },
     "execution_count": 11,
     "metadata": {},
     "output_type": "execute_result"
    }
   ],
   "source": [
    "data.groupby('id')['event_name'].count().mean()"
   ]
  },
  {
   "cell_type": "markdown",
   "metadata": {},
   "source": [
    "###  Найти максимальную и минимальную дату. Построить гистограмму по дате и времени. Можно ли быть уверенным, что у вас одинаково полные данные за весь период? Определить, с какого момента данные полные и отбросить более старые."
   ]
  },
  {
   "cell_type": "code",
   "execution_count": 12,
   "metadata": {},
   "outputs": [
    {
     "name": "stdout",
     "output_type": "stream",
     "text": [
      "2019-08-07 2019-07-25\n"
     ]
    }
   ],
   "source": [
    "print(data['event_date'].max(), data['event_date'].min())"
   ]
  },
  {
   "cell_type": "code",
   "execution_count": 13,
   "metadata": {},
   "outputs": [
    {
     "data": {
      "image/png": "[encoded data removed]",
      "text/plain": [
       "<Figure size 432x288 with 1 Axes>"
      ]
     },
     "metadata": {
      "needs_background": "light"
     },
     "output_type": "display_data"
    }
   ],
   "source": [
    "data['event_time'].hist()\n",
    "plt.title('гистограмму по дате и времени')\n",
    "plt.xlabel('дата')\n",
    "plt.ylabel('значение')\n",
    "degrees = 90\n",
    "plt.xticks(rotation=degrees)\n",
    "plt.show()"
   ]
  },
  {
   "cell_type": "markdown",
   "metadata": {},
   "source": [
    "*C 2019-08-01 данные более полные, все что раньше принято отбросить.*"
   ]
  },
  {
   "cell_type": "code",
   "execution_count": 14,
   "metadata": {},
   "outputs": [
    {
     "data": {
      "text/html": [
       "<div>\n",
       "<style scoped>\n",
       "    .dataframe tbody tr th:only-of-type {\n",
       "        vertical-align: middle;\n",
       "    }\n",
       "\n",
       "    .dataframe tbody tr th {\n",
       "        vertical-align: top;\n",
       "    }\n",
       "\n",
       "    .dataframe thead th {\n",
       "        text-align: right;\n",
       "    }\n",
       "</style>\n",
       "<table border=\"1\" class=\"dataframe\">\n",
       "  <thead>\n",
       "    <tr style=\"text-align: right;\">\n",
       "      <th></th>\n",
       "      <th>event_name</th>\n",
       "      <th>id</th>\n",
       "      <th>event_time</th>\n",
       "      <th>expid</th>\n",
       "      <th>event_date</th>\n",
       "    </tr>\n",
       "  </thead>\n",
       "  <tbody>\n",
       "    <tr>\n",
       "      <td>2828</td>\n",
       "      <td>Tutorial</td>\n",
       "      <td>3737462046622621720</td>\n",
       "      <td>2019-08-01 00:07:28</td>\n",
       "      <td>246</td>\n",
       "      <td>2019-08-01</td>\n",
       "    </tr>\n",
       "    <tr>\n",
       "      <td>2829</td>\n",
       "      <td>MainScreenAppear</td>\n",
       "      <td>3737462046622621720</td>\n",
       "      <td>2019-08-01 00:08:00</td>\n",
       "      <td>246</td>\n",
       "      <td>2019-08-01</td>\n",
       "    </tr>\n",
       "    <tr>\n",
       "      <td>2830</td>\n",
       "      <td>MainScreenAppear</td>\n",
       "      <td>3737462046622621720</td>\n",
       "      <td>2019-08-01 00:08:55</td>\n",
       "      <td>246</td>\n",
       "      <td>2019-08-01</td>\n",
       "    </tr>\n",
       "    <tr>\n",
       "      <td>2831</td>\n",
       "      <td>OffersScreenAppear</td>\n",
       "      <td>3737462046622621720</td>\n",
       "      <td>2019-08-01 00:08:58</td>\n",
       "      <td>246</td>\n",
       "      <td>2019-08-01</td>\n",
       "    </tr>\n",
       "    <tr>\n",
       "      <td>2832</td>\n",
       "      <td>MainScreenAppear</td>\n",
       "      <td>1433840883824088890</td>\n",
       "      <td>2019-08-01 00:08:59</td>\n",
       "      <td>247</td>\n",
       "      <td>2019-08-01</td>\n",
       "    </tr>\n",
       "    <tr>\n",
       "      <td>...</td>\n",
       "      <td>...</td>\n",
       "      <td>...</td>\n",
       "      <td>...</td>\n",
       "      <td>...</td>\n",
       "      <td>...</td>\n",
       "    </tr>\n",
       "    <tr>\n",
       "      <td>244121</td>\n",
       "      <td>MainScreenAppear</td>\n",
       "      <td>4599628364049201812</td>\n",
       "      <td>2019-08-07 21:12:25</td>\n",
       "      <td>247</td>\n",
       "      <td>2019-08-07</td>\n",
       "    </tr>\n",
       "    <tr>\n",
       "      <td>244122</td>\n",
       "      <td>MainScreenAppear</td>\n",
       "      <td>5849806612437486590</td>\n",
       "      <td>2019-08-07 21:13:59</td>\n",
       "      <td>246</td>\n",
       "      <td>2019-08-07</td>\n",
       "    </tr>\n",
       "    <tr>\n",
       "      <td>244123</td>\n",
       "      <td>MainScreenAppear</td>\n",
       "      <td>5746969938801999050</td>\n",
       "      <td>2019-08-07 21:14:43</td>\n",
       "      <td>246</td>\n",
       "      <td>2019-08-07</td>\n",
       "    </tr>\n",
       "    <tr>\n",
       "      <td>244124</td>\n",
       "      <td>MainScreenAppear</td>\n",
       "      <td>5746969938801999050</td>\n",
       "      <td>2019-08-07 21:14:58</td>\n",
       "      <td>246</td>\n",
       "      <td>2019-08-07</td>\n",
       "    </tr>\n",
       "    <tr>\n",
       "      <td>244125</td>\n",
       "      <td>OffersScreenAppear</td>\n",
       "      <td>5746969938801999050</td>\n",
       "      <td>2019-08-07 21:15:17</td>\n",
       "      <td>246</td>\n",
       "      <td>2019-08-07</td>\n",
       "    </tr>\n",
       "  </tbody>\n",
       "</table>\n",
       "<p>240887 rows × 5 columns</p>\n",
       "</div>"
      ],
      "text/plain": [
       "                event_name                   id          event_time  expid  \\\n",
       "2828              Tutorial  3737462046622621720 2019-08-01 00:07:28    246   \n",
       "2829      MainScreenAppear  3737462046622621720 2019-08-01 00:08:00    246   \n",
       "2830      MainScreenAppear  3737462046622621720 2019-08-01 00:08:55    246   \n",
       "2831    OffersScreenAppear  3737462046622621720 2019-08-01 00:08:58    246   \n",
       "2832      MainScreenAppear  1433840883824088890 2019-08-01 00:08:59    247   \n",
       "...                    ...                  ...                 ...    ...   \n",
       "244121    MainScreenAppear  4599628364049201812 2019-08-07 21:12:25    247   \n",
       "244122    MainScreenAppear  5849806612437486590 2019-08-07 21:13:59    246   \n",
       "244123    MainScreenAppear  5746969938801999050 2019-08-07 21:14:43    246   \n",
       "244124    MainScreenAppear  5746969938801999050 2019-08-07 21:14:58    246   \n",
       "244125  OffersScreenAppear  5746969938801999050 2019-08-07 21:15:17    246   \n",
       "\n",
       "        event_date  \n",
       "2828    2019-08-01  \n",
       "2829    2019-08-01  \n",
       "2830    2019-08-01  \n",
       "2831    2019-08-01  \n",
       "2832    2019-08-01  \n",
       "...            ...  \n",
       "244121  2019-08-07  \n",
       "244122  2019-08-07  \n",
       "244123  2019-08-07  \n",
       "244124  2019-08-07  \n",
       "244125  2019-08-07  \n",
       "\n",
       "[240887 rows x 5 columns]"
      ]
     },
     "execution_count": 14,
     "metadata": {},
     "output_type": "execute_result"
    }
   ],
   "source": [
    "df = data.query('event_time >= \"2019-08-01\"')\n",
    "df"
   ]
  },
  {
   "cell_type": "code",
   "execution_count": 15,
   "metadata": {},
   "outputs": [
    {
     "data": {
      "text/plain": [
       "array([246, 247, 248])"
      ]
     },
     "execution_count": 15,
     "metadata": {},
     "output_type": "execute_result"
    }
   ],
   "source": [
    "#проверим, что у нас есть пользователи из всех трёх экспериментальных групп.\n",
    "df['expid'].unique()"
   ]
  },
  {
   "cell_type": "code",
   "execution_count": 16,
   "metadata": {},
   "outputs": [
    {
     "name": "stdout",
     "output_type": "stream",
     "text": [
      "0.22513574361011024\n",
      "1.1595606307418933\n"
     ]
    }
   ],
   "source": [
    "# вычислим, какой процент уникальных пользователей и какой процент событий мы исключили из рассмотрения\n",
    "print(100 - (df['id'].nunique()/data['id'].nunique() * 100))\n",
    "print(100 - (df['event_name'].count()/data['event_name'].count() * 100))\n"
   ]
  },
  {
   "cell_type": "markdown",
   "metadata": {},
   "source": [
    "*Было исключено 022% уникальных пользователей и 1.15% событий*"
   ]
  },
  {
   "cell_type": "markdown",
   "metadata": {},
   "source": [
    "## Изучить воронку событий"
   ]
  },
  {
   "cell_type": "markdown",
   "metadata": {},
   "source": [
    "### Посмотреть, какие события есть в логах, как часто они встречаются. Отсортировать события по частоте"
   ]
  },
  {
   "cell_type": "code",
   "execution_count": 17,
   "metadata": {},
   "outputs": [
    {
     "data": {
      "text/html": [
       "<div>\n",
       "<style scoped>\n",
       "    .dataframe tbody tr th:only-of-type {\n",
       "        vertical-align: middle;\n",
       "    }\n",
       "\n",
       "    .dataframe tbody tr th {\n",
       "        vertical-align: top;\n",
       "    }\n",
       "\n",
       "    .dataframe thead th {\n",
       "        text-align: right;\n",
       "    }\n",
       "</style>\n",
       "<table border=\"1\" class=\"dataframe\">\n",
       "  <thead>\n",
       "    <tr style=\"text-align: right;\">\n",
       "      <th></th>\n",
       "      <th>id</th>\n",
       "    </tr>\n",
       "    <tr>\n",
       "      <th>event_name</th>\n",
       "      <th></th>\n",
       "    </tr>\n",
       "  </thead>\n",
       "  <tbody>\n",
       "    <tr>\n",
       "      <td>MainScreenAppear</td>\n",
       "      <td>117328</td>\n",
       "    </tr>\n",
       "    <tr>\n",
       "      <td>OffersScreenAppear</td>\n",
       "      <td>46333</td>\n",
       "    </tr>\n",
       "    <tr>\n",
       "      <td>CartScreenAppear</td>\n",
       "      <td>42303</td>\n",
       "    </tr>\n",
       "    <tr>\n",
       "      <td>PaymentScreenSuccessful</td>\n",
       "      <td>33918</td>\n",
       "    </tr>\n",
       "    <tr>\n",
       "      <td>Tutorial</td>\n",
       "      <td>1005</td>\n",
       "    </tr>\n",
       "  </tbody>\n",
       "</table>\n",
       "</div>"
      ],
      "text/plain": [
       "                             id\n",
       "event_name                     \n",
       "MainScreenAppear         117328\n",
       "OffersScreenAppear        46333\n",
       "CartScreenAppear          42303\n",
       "PaymentScreenSuccessful   33918\n",
       "Tutorial                   1005"
      ]
     },
     "execution_count": 17,
     "metadata": {},
     "output_type": "execute_result"
    }
   ],
   "source": [
    "df.groupby('event_name').agg({'id': 'count'}).sort_values(by='id', ascending=False)"
   ]
  },
  {
   "cell_type": "markdown",
   "metadata": {},
   "source": [
    "*Больше половины пользователей уходят из приложения с главной страницы, не говоря уже о прохождения руководства по пользованию*"
   ]
  },
  {
   "cell_type": "markdown",
   "metadata": {},
   "source": [
    "### Посчитать, сколько пользователей совершали каждое из этих событий. Отсортировать события по числу пользователей. Посчитать долю пользователей, которые хоть раз совершали событие."
   ]
  },
  {
   "cell_type": "code",
   "execution_count": 18,
   "metadata": {},
   "outputs": [
    {
     "data": {
      "text/html": [
       "<div>\n",
       "<style scoped>\n",
       "    .dataframe tbody tr th:only-of-type {\n",
       "        vertical-align: middle;\n",
       "    }\n",
       "\n",
       "    .dataframe tbody tr th {\n",
       "        vertical-align: top;\n",
       "    }\n",
       "\n",
       "    .dataframe thead th {\n",
       "        text-align: right;\n",
       "    }\n",
       "</style>\n",
       "<table border=\"1\" class=\"dataframe\">\n",
       "  <thead>\n",
       "    <tr style=\"text-align: right;\">\n",
       "      <th></th>\n",
       "      <th>id</th>\n",
       "    </tr>\n",
       "    <tr>\n",
       "      <th>event_name</th>\n",
       "      <th></th>\n",
       "    </tr>\n",
       "  </thead>\n",
       "  <tbody>\n",
       "    <tr>\n",
       "      <td>MainScreenAppear</td>\n",
       "      <td>7419</td>\n",
       "    </tr>\n",
       "    <tr>\n",
       "      <td>OffersScreenAppear</td>\n",
       "      <td>4593</td>\n",
       "    </tr>\n",
       "    <tr>\n",
       "      <td>CartScreenAppear</td>\n",
       "      <td>3734</td>\n",
       "    </tr>\n",
       "    <tr>\n",
       "      <td>PaymentScreenSuccessful</td>\n",
       "      <td>3539</td>\n",
       "    </tr>\n",
       "    <tr>\n",
       "      <td>Tutorial</td>\n",
       "      <td>840</td>\n",
       "    </tr>\n",
       "  </tbody>\n",
       "</table>\n",
       "</div>"
      ],
      "text/plain": [
       "                           id\n",
       "event_name                   \n",
       "MainScreenAppear         7419\n",
       "OffersScreenAppear       4593\n",
       "CartScreenAppear         3734\n",
       "PaymentScreenSuccessful  3539\n",
       "Tutorial                  840"
      ]
     },
     "execution_count": 18,
     "metadata": {},
     "output_type": "execute_result"
    }
   ],
   "source": [
    "df.groupby('event_name').agg({'id': 'nunique'}).sort_values(by='id', ascending=False)"
   ]
  },
  {
   "cell_type": "code",
   "execution_count": 19,
   "metadata": {},
   "outputs": [
    {
     "data": {
      "text/html": [
       "<div>\n",
       "<style scoped>\n",
       "    .dataframe tbody tr th:only-of-type {\n",
       "        vertical-align: middle;\n",
       "    }\n",
       "\n",
       "    .dataframe tbody tr th {\n",
       "        vertical-align: top;\n",
       "    }\n",
       "\n",
       "    .dataframe thead th {\n",
       "        text-align: right;\n",
       "    }\n",
       "</style>\n",
       "<table border=\"1\" class=\"dataframe\">\n",
       "  <thead>\n",
       "    <tr style=\"text-align: right;\">\n",
       "      <th></th>\n",
       "      <th>id</th>\n",
       "    </tr>\n",
       "    <tr>\n",
       "      <th>event_name</th>\n",
       "      <th></th>\n",
       "    </tr>\n",
       "  </thead>\n",
       "  <tbody>\n",
       "    <tr>\n",
       "      <td>MainScreenAppear</td>\n",
       "      <td>0.984736</td>\n",
       "    </tr>\n",
       "    <tr>\n",
       "      <td>OffersScreenAppear</td>\n",
       "      <td>0.609636</td>\n",
       "    </tr>\n",
       "    <tr>\n",
       "      <td>CartScreenAppear</td>\n",
       "      <td>0.495620</td>\n",
       "    </tr>\n",
       "    <tr>\n",
       "      <td>PaymentScreenSuccessful</td>\n",
       "      <td>0.469737</td>\n",
       "    </tr>\n",
       "    <tr>\n",
       "      <td>Tutorial</td>\n",
       "      <td>0.111495</td>\n",
       "    </tr>\n",
       "  </tbody>\n",
       "</table>\n",
       "</div>"
      ],
      "text/plain": [
       "                               id\n",
       "event_name                       \n",
       "MainScreenAppear         0.984736\n",
       "OffersScreenAppear       0.609636\n",
       "CartScreenAppear         0.495620\n",
       "PaymentScreenSuccessful  0.469737\n",
       "Tutorial                 0.111495"
      ]
     },
     "execution_count": 19,
     "metadata": {},
     "output_type": "execute_result"
    }
   ],
   "source": [
    "(df.groupby('event_name').agg({'id': 'nunique'})/df['id'].nunique()).sort_values(by='id', ascending=False)"
   ]
  },
  {
   "cell_type": "markdown",
   "metadata": {},
   "source": [
    "### Предположить, в каком порядке происходят события. Все ли они выстраиваются в последовательную цепочку?"
   ]
  },
  {
   "cell_type": "markdown",
   "metadata": {},
   "source": [
    "*Порядок сохраняеться событий сохраняется в правильной последовательности, кроме Tutorial. При общем количестве пользователей 7419 человека, только 840 перешли от обучения к главной странице приложения*"
   ]
  },
  {
   "cell_type": "markdown",
   "metadata": {},
   "source": [
    "### По воронке событий посчитать, какая доля пользователей проходит на следующий шаг воронки (от числа пользователей на предыдущем)"
   ]
  },
  {
   "cell_type": "code",
   "execution_count": 20,
   "metadata": {},
   "outputs": [
    {
     "data": {
      "text/html": [
       "<div>\n",
       "<style scoped>\n",
       "    .dataframe tbody tr th:only-of-type {\n",
       "        vertical-align: middle;\n",
       "    }\n",
       "\n",
       "    .dataframe tbody tr th {\n",
       "        vertical-align: top;\n",
       "    }\n",
       "\n",
       "    .dataframe thead th {\n",
       "        text-align: right;\n",
       "    }\n",
       "</style>\n",
       "<table border=\"1\" class=\"dataframe\">\n",
       "  <thead>\n",
       "    <tr style=\"text-align: right;\">\n",
       "      <th>event_name</th>\n",
       "      <th>CartScreenAppear</th>\n",
       "      <th>MainScreenAppear</th>\n",
       "      <th>OffersScreenAppear</th>\n",
       "      <th>PaymentScreenSuccessful</th>\n",
       "      <th>Tutorial</th>\n",
       "    </tr>\n",
       "    <tr>\n",
       "      <th>id</th>\n",
       "      <th></th>\n",
       "      <th></th>\n",
       "      <th></th>\n",
       "      <th></th>\n",
       "      <th></th>\n",
       "    </tr>\n",
       "  </thead>\n",
       "  <tbody>\n",
       "    <tr>\n",
       "      <td>6888746892508752</td>\n",
       "      <td>NaT</td>\n",
       "      <td>2019-08-06 14:06:34</td>\n",
       "      <td>NaT</td>\n",
       "      <td>NaT</td>\n",
       "      <td>NaT</td>\n",
       "    </tr>\n",
       "    <tr>\n",
       "      <td>6909561520679493</td>\n",
       "      <td>2019-08-06 18:52:58</td>\n",
       "      <td>2019-08-06 18:52:54</td>\n",
       "      <td>2019-08-06 18:53:04</td>\n",
       "      <td>2019-08-06 18:52:58</td>\n",
       "      <td>NaT</td>\n",
       "    </tr>\n",
       "    <tr>\n",
       "      <td>6922444491712477</td>\n",
       "      <td>2019-08-04 14:19:40</td>\n",
       "      <td>2019-08-04 14:19:33</td>\n",
       "      <td>2019-08-04 14:19:46</td>\n",
       "      <td>2019-08-04 14:19:40</td>\n",
       "      <td>NaT</td>\n",
       "    </tr>\n",
       "    <tr>\n",
       "      <td>7435777799948366</td>\n",
       "      <td>NaT</td>\n",
       "      <td>2019-08-05 08:06:34</td>\n",
       "      <td>NaT</td>\n",
       "      <td>NaT</td>\n",
       "      <td>NaT</td>\n",
       "    </tr>\n",
       "    <tr>\n",
       "      <td>7702139951469979</td>\n",
       "      <td>2019-08-02 14:28:45</td>\n",
       "      <td>2019-08-01 04:29:54</td>\n",
       "      <td>2019-08-01 04:29:56</td>\n",
       "      <td>2019-08-02 14:28:45</td>\n",
       "      <td>NaT</td>\n",
       "    </tr>\n",
       "    <tr>\n",
       "      <td>...</td>\n",
       "      <td>...</td>\n",
       "      <td>...</td>\n",
       "      <td>...</td>\n",
       "      <td>...</td>\n",
       "      <td>...</td>\n",
       "    </tr>\n",
       "    <tr>\n",
       "      <td>9217594193087726423</td>\n",
       "      <td>2019-08-02 09:00:58</td>\n",
       "      <td>NaT</td>\n",
       "      <td>2019-08-02 09:01:08</td>\n",
       "      <td>2019-08-02 09:00:57</td>\n",
       "      <td>NaT</td>\n",
       "    </tr>\n",
       "    <tr>\n",
       "      <td>9219463515465815368</td>\n",
       "      <td>2019-08-06 16:49:40</td>\n",
       "      <td>2019-08-05 05:26:26</td>\n",
       "      <td>2019-08-06 16:48:57</td>\n",
       "      <td>2019-08-06 16:52:16</td>\n",
       "      <td>NaT</td>\n",
       "    </tr>\n",
       "    <tr>\n",
       "      <td>9220879493065341500</td>\n",
       "      <td>2019-08-02 17:59:16</td>\n",
       "      <td>2019-08-02 17:58:48</td>\n",
       "      <td>2019-08-02 17:59:00</td>\n",
       "      <td>NaT</td>\n",
       "      <td>NaT</td>\n",
       "    </tr>\n",
       "    <tr>\n",
       "      <td>9221926045299980007</td>\n",
       "      <td>NaT</td>\n",
       "      <td>2019-08-01 17:30:27</td>\n",
       "      <td>NaT</td>\n",
       "      <td>NaT</td>\n",
       "      <td>NaT</td>\n",
       "    </tr>\n",
       "    <tr>\n",
       "      <td>9222603179720523844</td>\n",
       "      <td>NaT</td>\n",
       "      <td>2019-08-01 06:52:13</td>\n",
       "      <td>NaT</td>\n",
       "      <td>NaT</td>\n",
       "      <td>NaT</td>\n",
       "    </tr>\n",
       "  </tbody>\n",
       "</table>\n",
       "<p>7534 rows × 5 columns</p>\n",
       "</div>"
      ],
      "text/plain": [
       "event_name             CartScreenAppear    MainScreenAppear  \\\n",
       "id                                                            \n",
       "6888746892508752                    NaT 2019-08-06 14:06:34   \n",
       "6909561520679493    2019-08-06 18:52:58 2019-08-06 18:52:54   \n",
       "6922444491712477    2019-08-04 14:19:40 2019-08-04 14:19:33   \n",
       "7435777799948366                    NaT 2019-08-05 08:06:34   \n",
       "7702139951469979    2019-08-02 14:28:45 2019-08-01 04:29:54   \n",
       "...                                 ...                 ...   \n",
       "9217594193087726423 2019-08-02 09:00:58                 NaT   \n",
       "9219463515465815368 2019-08-06 16:49:40 2019-08-05 05:26:26   \n",
       "9220879493065341500 2019-08-02 17:59:16 2019-08-02 17:58:48   \n",
       "9221926045299980007                 NaT 2019-08-01 17:30:27   \n",
       "9222603179720523844                 NaT 2019-08-01 06:52:13   \n",
       "\n",
       "event_name           OffersScreenAppear PaymentScreenSuccessful Tutorial  \n",
       "id                                                                        \n",
       "6888746892508752                    NaT                     NaT      NaT  \n",
       "6909561520679493    2019-08-06 18:53:04     2019-08-06 18:52:58      NaT  \n",
       "6922444491712477    2019-08-04 14:19:46     2019-08-04 14:19:40      NaT  \n",
       "7435777799948366                    NaT                     NaT      NaT  \n",
       "7702139951469979    2019-08-01 04:29:56     2019-08-02 14:28:45      NaT  \n",
       "...                                 ...                     ...      ...  \n",
       "9217594193087726423 2019-08-02 09:01:08     2019-08-02 09:00:57      NaT  \n",
       "9219463515465815368 2019-08-06 16:48:57     2019-08-06 16:52:16      NaT  \n",
       "9220879493065341500 2019-08-02 17:59:00                     NaT      NaT  \n",
       "9221926045299980007                 NaT                     NaT      NaT  \n",
       "9222603179720523844                 NaT                     NaT      NaT  \n",
       "\n",
       "[7534 rows x 5 columns]"
      ]
     },
     "execution_count": 20,
     "metadata": {},
     "output_type": "execute_result"
    }
   ],
   "source": [
    "proportion = pd.pivot_table(df, index='id', columns='event_name', values='event_time', aggfunc='min')\n",
    "proportion"
   ]
  },
  {
   "cell_type": "code",
   "execution_count": 21,
   "metadata": {},
   "outputs": [
    {
     "data": {
      "image/png": "[encoded data removed]",
      "text/plain": [
       "<Figure size 864x432 with 1 Axes>"
      ]
     },
     "metadata": {
      "needs_background": "light"
     },
     "output_type": "display_data"
    }
   ],
   "source": [
    "df_mean = df.groupby('event_name')['id'].nunique().reset_index().sort_values(by = 'id', ascending=False)\n",
    "plot_order = data.sort_values(by='event_name', ascending=False).id.values\n",
    "plt.figure(figsize=(12, 6))\n",
    "g = sns.barplot(x='event_name', y='id', data=df_mean);\n",
    "g.set(xlabel=\"виды событий\", ylabel=\"уникальное количество пользователей\");\n",
    "title = ('график событий в приложении к уникальному кол-ву пользователей')\n",
    "g.set(title=title);\n",
    "plt.xticks(rotation=45);"
   ]
  },
  {
   "cell_type": "markdown",
   "metadata": {},
   "source": [
    "*Стоит отметить сбой при сборе данных. Пользователи платят раньше, чем оформляют товары, не указывается время прихода пользователя в приложение, хотя оформляют и покупают продукцию*"
   ]
  },
  {
   "cell_type": "code",
   "execution_count": 22,
   "metadata": {},
   "outputs": [
    {
     "name": "stdout",
     "output_type": "stream",
     "text": [
      "Прошли обучение: 840\n",
      "Посетителей: 787 Доля перешедших пользователей: 93.69047619047619\n",
      "Добавили товара в корзину: 535 Доля перешедших пользователей: 67.97966963151208\n",
      "Начали оформлять заказ: 161 Доля перешедших пользователей: 30.093457943925234\n",
      "Оплатили: 410 Доля перешедших пользователей: 254.6583850931677\n"
     ]
    }
   ],
   "source": [
    "step_1 = ~proportion['Tutorial'].isna()\n",
    "step_2 = step_1 & (proportion['MainScreenAppear'] > proportion['Tutorial'])\n",
    "step_3 = step_1 & (proportion['CartScreenAppear'] > proportion['MainScreenAppear'])\n",
    "step_4 = step_2 & (proportion['OffersScreenAppear'] > proportion['CartScreenAppear'])\n",
    "step_5 = step_3 & (proportion['PaymentScreenSuccessful'] > proportion['OffersScreenAppear'])\n",
    "\n",
    "n_Tutorial = proportion[step_1].shape[0]\n",
    "n_MainScreenAppear = proportion[step_2].shape[0]\n",
    "n_CartScreenAppear = proportion[step_3].shape[0]\n",
    "n_OffersScreenAppear = proportion[step_4].shape[0]\n",
    "n_PaymentScreenSuccessful = proportion[step_5].shape[0]\n",
    "\n",
    "print('Прошли обучение:', n_Tutorial)\n",
    "print('Посетителей:', n_MainScreenAppear,\n",
    "      'Доля перешедших пользователей:', n_MainScreenAppear/n_Tutorial * 100)\n",
    "print('Добавили товара в корзину:', n_CartScreenAppear, \n",
    "      'Доля перешедших пользователей:', n_CartScreenAppear/n_MainScreenAppear * 100)\n",
    "print('Начали оформлять заказ:', n_OffersScreenAppear, \n",
    "      'Доля перешедших пользователей:', n_OffersScreenAppear/n_CartScreenAppear * 100)\n",
    "print('Оплатили:', n_PaymentScreenSuccessful, \n",
    "      'Доля перешедших пользователей:', n_PaymentScreenSuccessful/n_OffersScreenAppear * 100)"
   ]
  },
  {
   "cell_type": "markdown",
   "metadata": {},
   "source": [
    "### На каком шаге теряется больше всего пользователей?Какая доля пользователей доходит от первого события до оплаты?"
   ]
  },
  {
   "cell_type": "code",
   "execution_count": 23,
   "metadata": {},
   "outputs": [
    {
     "data": {
      "text/plain": [
       "48.80952380952381"
      ]
     },
     "execution_count": 23,
     "metadata": {},
     "output_type": "execute_result"
    }
   ],
   "source": [
    "#Больше всего теряется пользователей на оформлении заказа - только 30% оформляют заказ после его добавления в корзину\n",
    "#Долю пользователей, доходящих от первого события до оплаты найдем по формуле  n_Tutorial/n_PaymentScreenSuccessful * 100\n",
    "n_PaymentScreenSuccessful/n_Tutorial * 100"
   ]
  },
  {
   "cell_type": "markdown",
   "metadata": {},
   "source": [
    "*48% пользователей доходит от первого события до оплаты*"
   ]
  },
  {
   "cell_type": "markdown",
   "metadata": {},
   "source": [
    "## Изучить результаты эксперимента"
   ]
  },
  {
   "cell_type": "markdown",
   "metadata": {},
   "source": [
    "### Сколько пользователей в каждой экспериментальной группе?"
   ]
  },
  {
   "cell_type": "code",
   "execution_count": 24,
   "metadata": {},
   "outputs": [
    {
     "data": {
      "text/html": [
       "<div>\n",
       "<style scoped>\n",
       "    .dataframe tbody tr th:only-of-type {\n",
       "        vertical-align: middle;\n",
       "    }\n",
       "\n",
       "    .dataframe tbody tr th {\n",
       "        vertical-align: top;\n",
       "    }\n",
       "\n",
       "    .dataframe thead th {\n",
       "        text-align: right;\n",
       "    }\n",
       "</style>\n",
       "<table border=\"1\" class=\"dataframe\">\n",
       "  <thead>\n",
       "    <tr style=\"text-align: right;\">\n",
       "      <th></th>\n",
       "      <th>expid</th>\n",
       "      <th>id</th>\n",
       "    </tr>\n",
       "  </thead>\n",
       "  <tbody>\n",
       "    <tr>\n",
       "      <td>0</td>\n",
       "      <td>248</td>\n",
       "      <td>2537</td>\n",
       "    </tr>\n",
       "    <tr>\n",
       "      <td>1</td>\n",
       "      <td>247</td>\n",
       "      <td>2513</td>\n",
       "    </tr>\n",
       "    <tr>\n",
       "      <td>2</td>\n",
       "      <td>246</td>\n",
       "      <td>2484</td>\n",
       "    </tr>\n",
       "  </tbody>\n",
       "</table>\n",
       "</div>"
      ],
      "text/plain": [
       "   expid    id\n",
       "0    248  2537\n",
       "1    247  2513\n",
       "2    246  2484"
      ]
     },
     "execution_count": 24,
     "metadata": {},
     "output_type": "execute_result"
    }
   ],
   "source": [
    "df.groupby('expid').agg({'id': 'nunique'}).sort_values(by='id', ascending=False).reset_index()"
   ]
  },
  {
   "cell_type": "markdown",
   "metadata": {},
   "source": [
    "### Проверить, находят ли статистические критерии разницу между выборками 246 и 247"
   ]
  },
  {
   "cell_type": "markdown",
   "metadata": {},
   "source": [
    "Н_0: Доля группы 246 = Доля группы 247\n",
    "\n",
    "Н_1: Доля группы 246 != Доля группы 247"
   ]
  },
  {
   "cell_type": "code",
   "execution_count": 25,
   "metadata": {},
   "outputs": [
    {
     "data": {
      "text/html": [
       "<div>\n",
       "<style scoped>\n",
       "    .dataframe tbody tr th:only-of-type {\n",
       "        vertical-align: middle;\n",
       "    }\n",
       "\n",
       "    .dataframe tbody tr th {\n",
       "        vertical-align: top;\n",
       "    }\n",
       "\n",
       "    .dataframe thead th {\n",
       "        text-align: right;\n",
       "    }\n",
       "</style>\n",
       "<table border=\"1\" class=\"dataframe\">\n",
       "  <thead>\n",
       "    <tr style=\"text-align: right;\">\n",
       "      <th></th>\n",
       "      <th>event_name</th>\n",
       "      <th>id</th>\n",
       "    </tr>\n",
       "  </thead>\n",
       "  <tbody>\n",
       "    <tr>\n",
       "      <td>0</td>\n",
       "      <td>CartScreenAppear</td>\n",
       "      <td>1266</td>\n",
       "    </tr>\n",
       "    <tr>\n",
       "      <td>1</td>\n",
       "      <td>MainScreenAppear</td>\n",
       "      <td>2450</td>\n",
       "    </tr>\n",
       "    <tr>\n",
       "      <td>2</td>\n",
       "      <td>OffersScreenAppear</td>\n",
       "      <td>1542</td>\n",
       "    </tr>\n",
       "    <tr>\n",
       "      <td>3</td>\n",
       "      <td>PaymentScreenSuccessful</td>\n",
       "      <td>1200</td>\n",
       "    </tr>\n",
       "    <tr>\n",
       "      <td>4</td>\n",
       "      <td>Tutorial</td>\n",
       "      <td>278</td>\n",
       "    </tr>\n",
       "  </tbody>\n",
       "</table>\n",
       "</div>"
      ],
      "text/plain": [
       "                event_name    id\n",
       "0         CartScreenAppear  1266\n",
       "1         MainScreenAppear  2450\n",
       "2       OffersScreenAppear  1542\n",
       "3  PaymentScreenSuccessful  1200\n",
       "4                 Tutorial   278"
      ]
     },
     "execution_count": 25,
     "metadata": {},
     "output_type": "execute_result"
    }
   ],
   "source": [
    "df_246 = df.query('expid == \"246\"').groupby('event_name').agg({'id': 'nunique'}).reset_index()\n",
    "df_246"
   ]
  },
  {
   "cell_type": "code",
   "execution_count": 26,
   "metadata": {},
   "outputs": [
    {
     "data": {
      "text/html": [
       "<div>\n",
       "<style scoped>\n",
       "    .dataframe tbody tr th:only-of-type {\n",
       "        vertical-align: middle;\n",
       "    }\n",
       "\n",
       "    .dataframe tbody tr th {\n",
       "        vertical-align: top;\n",
       "    }\n",
       "\n",
       "    .dataframe thead th {\n",
       "        text-align: right;\n",
       "    }\n",
       "</style>\n",
       "<table border=\"1\" class=\"dataframe\">\n",
       "  <thead>\n",
       "    <tr style=\"text-align: right;\">\n",
       "      <th></th>\n",
       "      <th>event_name</th>\n",
       "      <th>id</th>\n",
       "    </tr>\n",
       "  </thead>\n",
       "  <tbody>\n",
       "    <tr>\n",
       "      <td>0</td>\n",
       "      <td>CartScreenAppear</td>\n",
       "      <td>1238</td>\n",
       "    </tr>\n",
       "    <tr>\n",
       "      <td>1</td>\n",
       "      <td>MainScreenAppear</td>\n",
       "      <td>2476</td>\n",
       "    </tr>\n",
       "    <tr>\n",
       "      <td>2</td>\n",
       "      <td>OffersScreenAppear</td>\n",
       "      <td>1520</td>\n",
       "    </tr>\n",
       "    <tr>\n",
       "      <td>3</td>\n",
       "      <td>PaymentScreenSuccessful</td>\n",
       "      <td>1158</td>\n",
       "    </tr>\n",
       "    <tr>\n",
       "      <td>4</td>\n",
       "      <td>Tutorial</td>\n",
       "      <td>283</td>\n",
       "    </tr>\n",
       "  </tbody>\n",
       "</table>\n",
       "</div>"
      ],
      "text/plain": [
       "                event_name    id\n",
       "0         CartScreenAppear  1238\n",
       "1         MainScreenAppear  2476\n",
       "2       OffersScreenAppear  1520\n",
       "3  PaymentScreenSuccessful  1158\n",
       "4                 Tutorial   283"
      ]
     },
     "execution_count": 26,
     "metadata": {},
     "output_type": "execute_result"
    }
   ],
   "source": [
    "df_247 = df.query('expid == \"247\"').groupby('event_name').agg({'id': 'nunique'}).reset_index()\n",
    "df_247"
   ]
  },
  {
   "cell_type": "code",
   "execution_count": 27,
   "metadata": {},
   "outputs": [
    {
     "data": {
      "text/plain": [
       "2484"
      ]
     },
     "execution_count": 27,
     "metadata": {},
     "output_type": "execute_result"
    }
   ],
   "source": [
    "df.query('expid == \"246\"')['id'].nunique()"
   ]
  },
  {
   "cell_type": "code",
   "execution_count": 28,
   "metadata": {},
   "outputs": [
    {
     "data": {
      "text/plain": [
       "2513"
      ]
     },
     "execution_count": 28,
     "metadata": {},
     "output_type": "execute_result"
    }
   ],
   "source": [
    "df.query('expid == \"247\"')['id'].nunique()"
   ]
  },
  {
   "cell_type": "code",
   "execution_count": 29,
   "metadata": {},
   "outputs": [],
   "source": [
    "df_246 = df_246.set_index('event_name')\n",
    "df_247 = df_247.set_index('event_name')"
   ]
  },
  {
   "cell_type": "code",
   "execution_count": 30,
   "metadata": {},
   "outputs": [
    {
     "name": "stdout",
     "output_type": "stream",
     "text": [
      "0.7570597232046099\n",
      "Не получилось отвергнуть нулевую гипотезу\n"
     ]
    }
   ],
   "source": [
    "count = (df_246.loc['MainScreenAppear', 'id'], df_247.loc['MainScreenAppear', 'id'])\n",
    "nobs = (df.query('expid == \"246\"')['id'].nunique(), df.query('expid == \"247\"')['id'].nunique())\n",
    "stat, pval = proportions_ztest(count, nobs)\n",
    "print(float(pval))\n",
    "if pval < 0.05:\n",
    "    print(\"Отвергаем нулевую гипотезу\")\n",
    "else:\n",
    "    print(\"Не получилось отвергнуть нулевую гипотезу\")"
   ]
  },
  {
   "cell_type": "markdown",
   "metadata": {},
   "source": [
    "*По итогу z-теста, доли не имеют статистическую разницу, а это значит, что мы можем быть уверены в точности проведенного тестирования*"
   ]
  },
  {
   "cell_type": "markdown",
   "metadata": {},
   "source": [
    "### Выберать самое популярное событие. Посчитать число пользователей, совершивших это событие в каждой из контрольных групп. Посчитать долю пользователей, совершивших это событие. Проверить, будет ли отличие между группами статистически достоверным. Проделать то же самое для всех других событий (удобно обернуть проверку в отдельную функцию). Можно ли сказать, что разбиение на группы работает корректно?"
   ]
  },
  {
   "cell_type": "code",
   "execution_count": 31,
   "metadata": {},
   "outputs": [
    {
     "data": {
      "text/html": [
       "<div>\n",
       "<style scoped>\n",
       "    .dataframe tbody tr th:only-of-type {\n",
       "        vertical-align: middle;\n",
       "    }\n",
       "\n",
       "    .dataframe tbody tr th {\n",
       "        vertical-align: top;\n",
       "    }\n",
       "\n",
       "    .dataframe thead th {\n",
       "        text-align: right;\n",
       "    }\n",
       "</style>\n",
       "<table border=\"1\" class=\"dataframe\">\n",
       "  <thead>\n",
       "    <tr style=\"text-align: right;\">\n",
       "      <th></th>\n",
       "      <th>id</th>\n",
       "    </tr>\n",
       "    <tr>\n",
       "      <th>event_name</th>\n",
       "      <th></th>\n",
       "    </tr>\n",
       "  </thead>\n",
       "  <tbody>\n",
       "    <tr>\n",
       "      <td>CartScreenAppear</td>\n",
       "      <td>2504</td>\n",
       "    </tr>\n",
       "    <tr>\n",
       "      <td>MainScreenAppear</td>\n",
       "      <td>4926</td>\n",
       "    </tr>\n",
       "    <tr>\n",
       "      <td>OffersScreenAppear</td>\n",
       "      <td>3062</td>\n",
       "    </tr>\n",
       "    <tr>\n",
       "      <td>PaymentScreenSuccessful</td>\n",
       "      <td>2358</td>\n",
       "    </tr>\n",
       "    <tr>\n",
       "      <td>Tutorial</td>\n",
       "      <td>561</td>\n",
       "    </tr>\n",
       "  </tbody>\n",
       "</table>\n",
       "</div>"
      ],
      "text/plain": [
       "                           id\n",
       "event_name                   \n",
       "CartScreenAppear         2504\n",
       "MainScreenAppear         4926\n",
       "OffersScreenAppear       3062\n",
       "PaymentScreenSuccessful  2358\n",
       "Tutorial                  561"
      ]
     },
     "execution_count": 31,
     "metadata": {},
     "output_type": "execute_result"
    }
   ],
   "source": [
    "df_246_and_247 = df_246 + df_247\n",
    "df.query('expid == \"246\" | expid == \"247\"').groupby('event_name').agg({'id': 'nunique'}).reset_index()\n",
    "df_246_and_247"
   ]
  },
  {
   "cell_type": "code",
   "execution_count": 32,
   "metadata": {},
   "outputs": [
    {
     "data": {
      "text/plain": [
       "2537"
      ]
     },
     "execution_count": 32,
     "metadata": {},
     "output_type": "execute_result"
    }
   ],
   "source": [
    "# Самым популярным событием является MainScreenAppear\n",
    "df_248 = df.query('expid == \"248\"').groupby('event_name').agg({'id': 'nunique'}).reset_index()\n",
    "df_248 = df_248.set_index('event_name')\n",
    "df.query('expid == \"248\"')['id'].nunique()"
   ]
  },
  {
   "cell_type": "code",
   "execution_count": 33,
   "metadata": {},
   "outputs": [
    {
     "name": "stdout",
     "output_type": "stream",
     "text": [
      "                           id\n",
      "event_name                   \n",
      "CartScreenAppear         1230\n",
      "MainScreenAppear         2493\n",
      "OffersScreenAppear       1531\n",
      "PaymentScreenSuccessful  1181\n",
      "Tutorial                  279\n"
     ]
    }
   ],
   "source": [
    "print(df_248)"
   ]
  },
  {
   "cell_type": "code",
   "execution_count": 34,
   "metadata": {},
   "outputs": [
    {
     "name": "stdout",
     "output_type": "stream",
     "text": [
      "                           id\n",
      "event_name                   \n",
      "CartScreenAppear         1238\n",
      "MainScreenAppear         2476\n",
      "OffersScreenAppear       1520\n",
      "PaymentScreenSuccessful  1158\n",
      "Tutorial                  283\n"
     ]
    }
   ],
   "source": [
    "print(df_247)"
   ]
  },
  {
   "cell_type": "code",
   "execution_count": 35,
   "metadata": {},
   "outputs": [
    {
     "name": "stdout",
     "output_type": "stream",
     "text": [
      "                           id\n",
      "event_name                   \n",
      "CartScreenAppear         1266\n",
      "MainScreenAppear         2450\n",
      "OffersScreenAppear       1542\n",
      "PaymentScreenSuccessful  1200\n",
      "Tutorial                  278\n"
     ]
    }
   ],
   "source": [
    "print(df_246)"
   ]
  },
  {
   "cell_type": "code",
   "execution_count": 36,
   "metadata": {},
   "outputs": [
    {
     "name": "stdout",
     "output_type": "stream",
     "text": [
      "0.9826566811194324\n",
      "0.9852765618782332\n",
      "0.9863123993558777\n"
     ]
    }
   ],
   "source": [
    "# Посчитаем долю пользователей, совершивших это событие\n",
    "print(df_248.iloc[1]['id']/df.query('expid == \"248\"')['id'].nunique())\n",
    "print(df_247.iloc[1]['id']/df.query('expid == \"247\"')['id'].nunique())\n",
    "print(df_246.iloc[1]['id']/df.query('expid == \"246\"')['id'].nunique())"
   ]
  },
  {
   "cell_type": "markdown",
   "metadata": {},
   "source": [
    "*Проверим, будет ли отличие между группами статистически достоверным*\n",
    "\n",
    "Н_0: Доля группы 246 = Доля группы 247\n",
    "\n",
    "Н_1: Доля группы 246 != Доля группы 247\n",
    "\n",
    "Н_0: Доля группы 246 = Доля группы 248\n",
    "\n",
    "Н_1: Доля группы 246 != Доля группы 248\n",
    "\n",
    "Н_0: Доля группы 247 = Доля группы 248\n",
    "\n",
    "Н_1: Доля группы 247 != Доля группы 248\n",
    "\n",
    "Н_0: Доля группы 246 + 247 = Доля группы 248\n",
    "\n",
    "Н_1: Доля группы 246 + 247 != Доля группы 248"
   ]
  },
  {
   "cell_type": "code",
   "execution_count": 37,
   "metadata": {},
   "outputs": [
    {
     "name": "stdout",
     "output_type": "stream",
     "text": [
      "CartScreenAppear\n",
      "0.22883372237997213\n",
      "Не получилось отвергнуть нулевую гипотезу: в конверсии двух групп нет статистически значимых различий\n",
      "MainScreenAppear\n",
      "0.7570597232046099\n",
      "Не получилось отвергнуть нулевую гипотезу: в конверсии двух групп нет статистически значимых различий\n",
      "OffersScreenAppear\n",
      "0.2480954578522181\n",
      "Не получилось отвергнуть нулевую гипотезу: в конверсии двух групп нет статистически значимых различий\n",
      "PaymentScreenSuccessful\n",
      "0.11456679313141847\n",
      "Не получилось отвергнуть нулевую гипотезу: в конверсии двух групп нет статистически значимых различий\n",
      "Tutorial\n",
      "0.9376996189257114\n",
      "Не получилось отвергнуть нулевую гипотезу: в конверсии двух групп нет статистически значимых различий\n"
     ]
    }
   ],
   "source": [
    "for event_name in df_246.index.to_list():\n",
    "    print(event_name)\n",
    "    count = (df_246.loc[event_name, 'id'], df_247.loc[event_name, 'id'])\n",
    "    nobs = (df.query('expid == \"246\"')['id'].nunique(), df.query('expid == \"247\"')['id'].nunique())\n",
    "    stat, pval = proportions_ztest(count, nobs)\n",
    "    print(float(pval))\n",
    "    if pval < 0.05:\n",
    "        print(\"Отвергаем нулевую гипотезу: в конверсии двух групп есть статистически значимые различия\")\n",
    "    else:\n",
    "        print(\"Не получилось отвергнуть нулевую гипотезу: в конверсии двух групп нет статистически значимых различий\")"
   ]
  },
  {
   "cell_type": "code",
   "execution_count": 38,
   "metadata": {},
   "outputs": [
    {
     "name": "stdout",
     "output_type": "stream",
     "text": [
      "CartScreenAppear\n",
      "0.07842923237520125\n",
      "Не получилось отвергнуть нулевую гипотезу: в конверсии двух групп нет статистически значимых различий\n",
      "MainScreenAppear\n",
      "0.2949721933554553\n",
      "Не получилось отвергнуть нулевую гипотезу: в конверсии двух групп нет статистически значимых различий\n",
      "OffersScreenAppear\n",
      "0.20836205402738917\n",
      "Не получилось отвергнуть нулевую гипотезу: в конверсии двух групп нет статистически значимых различий\n",
      "PaymentScreenSuccessful\n",
      "0.21225532756977972\n",
      "Не получилось отвергнуть нулевую гипотезу: в конверсии двух групп нет статистически значимых различий\n",
      "Tutorial\n",
      "0.8264294010087645\n",
      "Не получилось отвергнуть нулевую гипотезу: в конверсии двух групп нет статистически значимых различий\n"
     ]
    }
   ],
   "source": [
    "for event_name in df_246.index.to_list():\n",
    "    print(event_name)\n",
    "    count = (df_246.loc[event_name, 'id'], df_248.loc[event_name, 'id'])\n",
    "    nobs = (df.query('expid == \"246\"')['id'].nunique(), df.query('expid == \"248\"')['id'].nunique())\n",
    "    stat, pval = proportions_ztest(count, nobs)\n",
    "    print(float(pval))\n",
    "    if pval < 0.05:\n",
    "        print(\"Отвергаем нулевую гипотезу: в конверсии двух групп есть статистически значимые различия\")\n",
    "    else:\n",
    "        print(\"Не получилось отвергнуть нулевую гипотезу: в конверсии двух групп нет статистически значимых различий\")"
   ]
  },
  {
   "cell_type": "code",
   "execution_count": 39,
   "metadata": {},
   "outputs": [
    {
     "name": "stdout",
     "output_type": "stream",
     "text": [
      "CartScreenAppear\n",
      "0.5786197879539782\n",
      "Не получилось отвергнуть нулевую гипотезу: в конверсии двух групп нет статистически значимых различий\n",
      "MainScreenAppear\n",
      "0.45870536166215137\n",
      "Не получилось отвергнуть нулевую гипотезу: в конверсии двух групп нет статистически значимых различий\n",
      "OffersScreenAppear\n",
      "0.919781783059226\n",
      "Не получилось отвергнуть нулевую гипотезу: в конверсии двух групп нет статистически значимых различий\n",
      "PaymentScreenSuccessful\n",
      "0.7373415053803964\n",
      "Не получилось отвергнуть нулевую гипотезу: в конверсии двух групп нет статистически значимых различий\n",
      "Tutorial\n",
      "0.7653239224745011\n",
      "Не получилось отвергнуть нулевую гипотезу: в конверсии двух групп нет статистически значимых различий\n"
     ]
    }
   ],
   "source": [
    "for event_name in df_247.index.to_list():\n",
    "    print(event_name)\n",
    "    count = (df_247.loc[event_name, 'id'], df_248.loc[event_name, 'id'])\n",
    "    nobs = (df.query('expid == \"247\"')['id'].nunique(), df.query('expid == \"248\"')['id'].nunique())\n",
    "    stat, pval = proportions_ztest(count, nobs)\n",
    "    print(float(pval))\n",
    "    if pval < 0.05:\n",
    "        print(\"Отвергаем нулевую гипотезу: в конверсии двух групп есть статистически значимые различия\")\n",
    "    else:\n",
    "        print(\"Не получилось отвергнуть нулевую гипотезу: в конверсии двух групп нет статистически значимых различий\")"
   ]
  },
  {
   "cell_type": "code",
   "execution_count": 40,
   "metadata": {},
   "outputs": [
    {
     "name": "stdout",
     "output_type": "stream",
     "text": [
      "CartScreenAppear\n",
      "0.18175875284404386\n",
      "Не получилось отвергнуть нулевую гипотезу: в конверсии двух групп нет статистически значимых различий\n",
      "MainScreenAppear\n",
      "0.29424526837179577\n",
      "Не получилось отвергнуть нулевую гипотезу: в конверсии двух групп нет статистически значимых различий\n",
      "OffersScreenAppear\n",
      "0.43425549655188245\n",
      "Не получилось отвергнуть нулевую гипотезу: в конверсии двух групп нет статистически значимых различий\n",
      "PaymentScreenSuccessful\n",
      "0.6004294282308703\n",
      "Не получилось отвергнуть нулевую гипотезу: в конверсии двух групп нет статистически значимых различий\n",
      "Tutorial\n",
      "0.764862472531507\n",
      "Не получилось отвергнуть нулевую гипотезу: в конверсии двух групп нет статистически значимых различий\n"
     ]
    }
   ],
   "source": [
    "for event_name in df_246_and_247.index.to_list():\n",
    "    print(event_name)\n",
    "    count = (df_246_and_247.loc[event_name, 'id'], df_248.loc[event_name, 'id'])\n",
    "    nobs = (df.query('expid == \"246\" | expid == \"247\"')['id'].nunique(), df.query('expid == \"248\"')['id'].nunique())\n",
    "    stat, pval = proportions_ztest(count, nobs)\n",
    "    print(float(pval))\n",
    "    if pval < 0.05:\n",
    "        print(\"Отвергаем нулевую гипотезу: в конверсии двух групп есть статистически значимые различия\")\n",
    "    else:\n",
    "        print(\"Не получилось отвергнуть нулевую гипотезу: в конверсии двух групп нет статистически значимых различий\")"
   ]
  },
  {
   "cell_type": "markdown",
   "metadata": {},
   "source": [
    "*В каждом тесте при каждом событии не доказано статистически достоверное различие между долями групп*"
   ]
  },
  {
   "cell_type": "markdown",
   "metadata": {},
   "source": [
    "### Аналогично поступить с группой с изменённым шрифтом. Сравнить результаты с каждой из контрольных групп в отдельности по каждому событию. Сравнить результаты с объединённой контрольной группой. Какие выводы из эксперимента можно сделать?"
   ]
  },
  {
   "cell_type": "markdown",
   "metadata": {},
   "source": [
    "*Первая часть задания была проделана в предыдущем пункте*\n",
    "\n",
    "*По сравнительному тесту доли контрольных группы и экспериментальной не имеют статистически достоверных различий. А значит группы распределены корректно*"
   ]
  },
  {
   "cell_type": "markdown",
   "metadata": {},
   "source": [
    "### Какой уровень значимости вы выбрали при проверке статистических гипотез выше? Посчитайте, сколько проверок статистических гипотез вы сделали. При уровне значимости 0.1 каждый десятый раз можно получать ложный результат. Какой уровень значимости стоит применить? Если вы хотите изменить его, проделайте предыдущие пункты и проверьте свои выводы."
   ]
  },
  {
   "cell_type": "code",
   "execution_count": 41,
   "metadata": {},
   "outputs": [
    {
     "name": "stdout",
     "output_type": "stream",
     "text": [
      "CartScreenAppear\n",
      "0.22883372237997213\n",
      "Не получилось отвергнуть нулевую гипотезу: в конверсии двух групп нет статистически значимых различий\n",
      "MainScreenAppear\n",
      "0.7570597232046099\n",
      "Не получилось отвергнуть нулевую гипотезу: в конверсии двух групп нет статистически значимых различий\n",
      "OffersScreenAppear\n",
      "0.2480954578522181\n",
      "Не получилось отвергнуть нулевую гипотезу: в конверсии двух групп нет статистически значимых различий\n",
      "PaymentScreenSuccessful\n",
      "0.11456679313141847\n",
      "Не получилось отвергнуть нулевую гипотезу: в конверсии двух групп нет статистически значимых различий\n",
      "Tutorial\n",
      "0.9376996189257114\n",
      "Не получилось отвергнуть нулевую гипотезу: в конверсии двух групп нет статистически значимых различий\n"
     ]
    }
   ],
   "source": [
    "for event_name in df_246.index.to_list():\n",
    "    print(event_name)\n",
    "    count = (df_246.loc[event_name, 'id'], df_247.loc[event_name, 'id'])\n",
    "    nobs = (df.query('expid == \"246\"')['id'].nunique(), df.query('expid == \"247\"')['id'].nunique())\n",
    "    stat, pval = proportions_ztest(count, nobs)\n",
    "    print(float(pval))\n",
    "    if pval < 0.1:\n",
    "        print(\"Отвергаем нулевую гипотезу: в конверсии двух групп есть статистически значимые различия\")\n",
    "    else:\n",
    "        print(\"Не получилось отвергнуть нулевую гипотезу: в конверсии двух групп нет статистически значимых различий\")"
   ]
  },
  {
   "cell_type": "code",
   "execution_count": 42,
   "metadata": {},
   "outputs": [
    {
     "name": "stdout",
     "output_type": "stream",
     "text": [
      "CartScreenAppear\n",
      "0.07842923237520125\n",
      "Отвергаем нулевую гипотезу: в конверсии двух групп есть статистически значимые различия\n",
      "MainScreenAppear\n",
      "0.2949721933554553\n",
      "Не получилось отвергнуть нулевую гипотезу: в конверсии двух групп нет статистически значимых различий\n",
      "OffersScreenAppear\n",
      "0.20836205402738917\n",
      "Не получилось отвергнуть нулевую гипотезу: в конверсии двух групп нет статистически значимых различий\n",
      "PaymentScreenSuccessful\n",
      "0.21225532756977972\n",
      "Не получилось отвергнуть нулевую гипотезу: в конверсии двух групп нет статистически значимых различий\n",
      "Tutorial\n",
      "0.8264294010087645\n",
      "Не получилось отвергнуть нулевую гипотезу: в конверсии двух групп нет статистически значимых различий\n"
     ]
    }
   ],
   "source": [
    "for event_name in df_246.index.to_list():\n",
    "    print(event_name)\n",
    "    count = (df_246.loc[event_name, 'id'], df_248.loc[event_name, 'id'])\n",
    "    nobs = (df.query('expid == \"246\"')['id'].nunique(), df.query('expid == \"248\"')['id'].nunique())\n",
    "    stat, pval = proportions_ztest(count, nobs)\n",
    "    print(float(pval))\n",
    "    if pval < 0.1:\n",
    "        print(\"Отвергаем нулевую гипотезу: в конверсии двух групп есть статистически значимые различия\")\n",
    "    else:\n",
    "        print(\"Не получилось отвергнуть нулевую гипотезу: в конверсии двух групп нет статистически значимых различий\")"
   ]
  },
  {
   "cell_type": "code",
   "execution_count": 43,
   "metadata": {},
   "outputs": [
    {
     "name": "stdout",
     "output_type": "stream",
     "text": [
      "CartScreenAppear\n",
      "0.5786197879539782\n",
      "Не получилось отвергнуть нулевую гипотезу: в конверсии двух групп нет статистически значимых различий\n",
      "MainScreenAppear\n",
      "0.45870536166215137\n",
      "Не получилось отвергнуть нулевую гипотезу: в конверсии двух групп нет статистически значимых различий\n",
      "OffersScreenAppear\n",
      "0.919781783059226\n",
      "Не получилось отвергнуть нулевую гипотезу: в конверсии двух групп нет статистически значимых различий\n",
      "PaymentScreenSuccessful\n",
      "0.7373415053803964\n",
      "Не получилось отвергнуть нулевую гипотезу: в конверсии двух групп нет статистически значимых различий\n",
      "Tutorial\n",
      "0.7653239224745011\n",
      "Не получилось отвергнуть нулевую гипотезу: в конверсии двух групп нет статистически значимых различий\n"
     ]
    }
   ],
   "source": [
    "for event_name in df_247.index.to_list():\n",
    "    print(event_name)\n",
    "    count = (df_247.loc[event_name, 'id'], df_248.loc[event_name, 'id'])\n",
    "    nobs = (df.query('expid == \"247\"')['id'].nunique(), df.query('expid == \"248\"')['id'].nunique())\n",
    "    stat, pval = proportions_ztest(count, nobs)\n",
    "    print(float(pval))\n",
    "    if pval < 0.1:\n",
    "        print(\"Отвергаем нулевую гипотезу: в конверсии двух групп есть статистически значимые различия\")\n",
    "    else:\n",
    "        print(\"Не получилось отвергнуть нулевую гипотезу: в конверсии двух групп нет статистически значимых различий\")"
   ]
  },
  {
   "cell_type": "code",
   "execution_count": 44,
   "metadata": {},
   "outputs": [
    {
     "name": "stdout",
     "output_type": "stream",
     "text": [
      "CartScreenAppear\n",
      "0.18175875284404386\n",
      "Не получилось отвергнуть нулевую гипотезу: в конверсии двух групп нет статистически значимых различий\n",
      "MainScreenAppear\n",
      "0.29424526837179577\n",
      "Не получилось отвергнуть нулевую гипотезу: в конверсии двух групп нет статистически значимых различий\n",
      "OffersScreenAppear\n",
      "0.43425549655188245\n",
      "Не получилось отвергнуть нулевую гипотезу: в конверсии двух групп нет статистически значимых различий\n",
      "PaymentScreenSuccessful\n",
      "0.6004294282308703\n",
      "Не получилось отвергнуть нулевую гипотезу: в конверсии двух групп нет статистически значимых различий\n",
      "Tutorial\n",
      "0.764862472531507\n",
      "Не получилось отвергнуть нулевую гипотезу: в конверсии двух групп нет статистически значимых различий\n"
     ]
    }
   ],
   "source": [
    "for event_name in df_246_and_247.index.to_list():\n",
    "    print(event_name)\n",
    "    count = (df_246_and_247.loc[event_name, 'id'], df_248.loc[event_name, 'id'])\n",
    "    nobs = (df.query('expid == \"246\" | expid == \"247\"')['id'].nunique(), df.query('expid == \"248\"')['id'].nunique())\n",
    "    stat, pval = proportions_ztest(count, nobs)\n",
    "    print(float(pval))\n",
    "    if pval < 0.1:\n",
    "        print(\"Отвергаем нулевую гипотезу: в конверсии двух групп есть статистически значимые различия\")\n",
    "    else:\n",
    "        print(\"Не получилось отвергнуть нулевую гипотезу: в конверсии двух групп нет статистически значимых различий\")"
   ]
  },
  {
   "cell_type": "markdown",
   "metadata": {},
   "source": [
    "*Мной был выбран уровень значимости 0,05. После проведения тестов с уровнем 0.1 я считаю подтвердилась гипотеза о том, что каждый десятый раз можно получать ложный результат. Из всех выводов только один отличается. Да, в основном, вывода будут идентичны, но при значении 0,05 есть только 5% совершить ошибку первого рода и отклонить нулевую гипотезу, когда она верна, тогда как при 0,1 - это 10%, а ошибатся не хочется.*"
   ]
  },
  {
   "cell_type": "markdown",
   "metadata": {},
   "source": [
    "## Общий вывод"
   ]
  },
  {
   "cell_type": "markdown",
   "metadata": {},
   "source": [
    "*Передо мной стояло несколько целей:*\n",
    "\n",
    "*— разобраться, как ведут себя пользователи нашего мобильного приложения*\n",
    "\n",
    "*— узнать, как пользователи доходят до покупки*\n",
    "\n",
    "*— сколько пользователей доходит до покупки, а сколько — «застревает» на предыдущих шагах? На каких именно?*\n",
    "\n",
    "*— исследовать результаты A/A/B-эксперимента и выяснить какой шрифт лучше*\n",
    "\n",
    "*Я работал с датасетом, имеющий информацию о событиях в приложении(EventName), когда они были сделаны(EventTimestamp), каким пользователем(DeviceIDHash), находящимся в определенной группе (ExpId) - контрольной 246 и 247 или экспериментальной 248*\n",
    "\n",
    "*Перед анализом проведена работа с данными, а именно: подсчет количества событий(5 шт) и пользователей в логе(7551 чел), отсечены старые и непольные данные, что могли повлиять на исход работы. Дальнейший анализ был произведен с 2019-08-01*\n",
    "\n",
    "*Анализ воронки событий показал:*\n",
    "\n",
    "*1)События по популярности*\n",
    "\n",
    "*- MainScreenAppear с 7419  пользователями , что составляет 98% от всех пользователей*\n",
    "\n",
    "*- OffersScreenAppear с 4593 пользователями , что составляет 60% от всех пользователей*\n",
    "\n",
    "*- CartScreenAppear с 3734 пользователями , что составляет 49% от всех пользователей*\n",
    "\n",
    "*- PaymentScreenSuccessful с 3539 пользователями , что составляет 46% от всех пользователей*\n",
    "\n",
    "*- Tutorial с 840пользователями , что составляет 11% от всех пользователей*\n",
    "\n",
    "*2) доля пользователей проходит на следующий шаг воронки (от числа пользователей на предыдущем)*\n",
    "\n",
    "*Прошли обучение: 840*\n",
    "\n",
    "*Посетителей: 787 Доля перешедших пользователей: 93.69047619047619*\n",
    "\n",
    "*Добавили товара в корзину: 535 Доля перешедших пользователей: 67.97966963151208*\n",
    "\n",
    "*Начали оформлять заказ: 161 Доля перешедших пользователей: 30.093457943925234*\n",
    "\n",
    "*Оплатили: 410 Доля перешедших пользователей: 254.6583850931677*\n",
    "\n",
    "*3) Больше всего теряется пользователей на оформлении заказа - только 30% оформляют заказ после его добавления в корзину*\n",
    "*Долю пользователей, доходящих от первого события до оплаты,  составляет 48% пользователей*\n",
    "\n",
    "*4)В каждой группе практически равное количество пользователей, что положительно повлияло на результаты А\\В теста. В группе 246 – 2484 чел, 247 – 2513 чел, 248 – 2537 чел*\n",
    "\n",
    "*5) По результатам теста , по каждой группе пользователей и каждому событию в приложении, равенство долей было статистически достоверным, что не дает право отдать победу одной из групп*\n",
    "\n",
    "\n",
    "*По итогу всего перечисленного стоит отметить, что пользователи практически не проходят обучение по пользованию приложения, либо ссылаются к нему во время определенных проблем. Большие потери пользователей происходит на этапе оформления заказа - необходимо узнать, что именно им может мешать произвести после этого оплату. Только половина пользователей доходит от входа в приложение до оплаты товара. В среднем 63% пользователей на каждом этапе. Не удалось выяснить какой шрифт лучше, поскольку количество пользователей в каждом событии было одинаковым, в не зависимости от группы. Предлагаю продлить тест на минимально возможный срок для выявления более точных результатов тестов, дабы не потратить на это излишних денег и времени*"
   ]
  }
 ],
 "metadata": {
  "ExecuteTimeLog": [
   {
    "duration": 1007,
    "start_time": "2021-08-16T09:48:11.796Z"
   },
   {
    "duration": 332,
    "start_time": "2021-08-16T09:48:17.101Z"
   },
   {
    "duration": 96,
    "start_time": "2021-08-16T09:59:05.837Z"
   },
   {
    "duration": 251,
    "start_time": "2021-08-16T09:59:13.650Z"
   },
   {
    "duration": 170,
    "start_time": "2021-08-16T10:05:31.221Z"
   },
   {
    "duration": 25,
    "start_time": "2021-08-16T10:10:24.636Z"
   },
   {
    "duration": 27,
    "start_time": "2021-08-16T10:10:38.865Z"
   },
   {
    "duration": 22,
    "start_time": "2021-08-16T10:12:00.593Z"
   },
   {
    "duration": 26,
    "start_time": "2021-08-16T10:14:34.058Z"
   },
   {
    "duration": 161,
    "start_time": "2021-08-16T10:21:22.871Z"
   },
   {
    "duration": 163,
    "start_time": "2021-08-16T10:21:29.700Z"
   },
   {
    "duration": 163,
    "start_time": "2021-08-16T10:21:34.496Z"
   },
   {
    "duration": 164,
    "start_time": "2021-08-16T10:21:39.299Z"
   },
   {
    "duration": 160,
    "start_time": "2021-08-16T10:21:44.530Z"
   },
   {
    "duration": 6442,
    "start_time": "2021-08-16T10:25:17.856Z"
   },
   {
    "duration": 25,
    "start_time": "2021-08-16T10:26:03.971Z"
   },
   {
    "duration": 46,
    "start_time": "2021-08-16T10:26:14.778Z"
   },
   {
    "duration": 30,
    "start_time": "2021-08-16T10:26:17.923Z"
   },
   {
    "duration": 48,
    "start_time": "2021-08-16T10:26:29.690Z"
   },
   {
    "duration": 286,
    "start_time": "2021-08-16T10:26:58.334Z"
   },
   {
    "duration": 100,
    "start_time": "2021-08-16T10:27:04.933Z"
   },
   {
    "duration": 99,
    "start_time": "2021-08-16T10:27:52.154Z"
   },
   {
    "duration": 16,
    "start_time": "2021-08-16T10:28:18.822Z"
   },
   {
    "duration": 166,
    "start_time": "2021-08-16T10:32:18.836Z"
   },
   {
    "duration": 7683,
    "start_time": "2021-08-16T10:33:17.729Z"
   },
   {
    "duration": 7384,
    "start_time": "2021-08-16T10:33:47.472Z"
   },
   {
    "duration": 159,
    "start_time": "2021-08-16T10:34:03.479Z"
   },
   {
    "duration": 26,
    "start_time": "2021-08-16T10:34:05.331Z"
   },
   {
    "duration": 20,
    "start_time": "2021-08-16T10:34:07.330Z"
   },
   {
    "duration": 301,
    "start_time": "2021-08-16T10:34:08.532Z"
   },
   {
    "duration": 356,
    "start_time": "2021-08-16T10:35:53.495Z"
   },
   {
    "duration": 915,
    "start_time": "2021-08-16T10:36:08.141Z"
   },
   {
    "duration": 28,
    "start_time": "2021-08-16T10:36:09.062Z"
   },
   {
    "duration": 21,
    "start_time": "2021-08-16T10:36:09.093Z"
   },
   {
    "duration": 367,
    "start_time": "2021-08-16T10:36:09.117Z"
   },
   {
    "duration": -10671,
    "start_time": "2021-08-16T10:36:20.158Z"
   },
   {
    "duration": -10679,
    "start_time": "2021-08-16T10:36:20.167Z"
   },
   {
    "duration": -10687,
    "start_time": "2021-08-16T10:36:20.176Z"
   },
   {
    "duration": 1258,
    "start_time": "2021-08-16T10:38:04.083Z"
   },
   {
    "duration": 51,
    "start_time": "2021-08-16T10:39:30.605Z"
   },
   {
    "duration": 40,
    "start_time": "2021-08-16T10:39:32.481Z"
   },
   {
    "duration": 15,
    "start_time": "2021-08-16T10:39:34.990Z"
   },
   {
    "duration": 246,
    "start_time": "2021-08-16T10:43:13.870Z"
   },
   {
    "duration": 315,
    "start_time": "2021-08-16T10:43:25.016Z"
   },
   {
    "duration": 969,
    "start_time": "2021-08-16T10:44:18.338Z"
   },
   {
    "duration": 1712,
    "start_time": "2021-08-16T10:44:33.460Z"
   },
   {
    "duration": 1175,
    "start_time": "2021-08-16T10:44:46.899Z"
   },
   {
    "duration": 33,
    "start_time": "2021-08-16T10:44:48.077Z"
   },
   {
    "duration": 48,
    "start_time": "2021-08-16T10:44:48.114Z"
   },
   {
    "duration": 1917,
    "start_time": "2021-08-16T10:44:48.165Z"
   },
   {
    "duration": -10504,
    "start_time": "2021-08-16T10:45:00.590Z"
   },
   {
    "duration": -10512,
    "start_time": "2021-08-16T10:45:00.600Z"
   },
   {
    "duration": 282,
    "start_time": "2021-08-16T10:47:07.723Z"
   },
   {
    "duration": 948,
    "start_time": "2021-08-16T10:47:28.444Z"
   },
   {
    "duration": 258,
    "start_time": "2021-08-16T10:47:53.750Z"
   },
   {
    "duration": 307,
    "start_time": "2021-08-16T10:48:01.468Z"
   },
   {
    "duration": 15,
    "start_time": "2021-08-16T10:49:32.677Z"
   },
   {
    "duration": 16,
    "start_time": "2021-08-16T10:49:36.841Z"
   },
   {
    "duration": 40,
    "start_time": "2021-08-16T10:49:58.621Z"
   },
   {
    "duration": 2680,
    "start_time": "2021-08-16T10:50:06.227Z"
   },
   {
    "duration": 24,
    "start_time": "2021-08-16T10:50:08.909Z"
   },
   {
    "duration": 43,
    "start_time": "2021-08-16T10:50:08.937Z"
   },
   {
    "duration": 13,
    "start_time": "2021-08-16T10:50:08.982Z"
   },
   {
    "duration": 74,
    "start_time": "2021-08-16T10:50:08.998Z"
   },
   {
    "duration": 14,
    "start_time": "2021-08-16T10:50:09.074Z"
   },
   {
    "duration": 78,
    "start_time": "2021-08-16T10:50:48.423Z"
   },
   {
    "duration": 21,
    "start_time": "2021-08-16T10:53:10.108Z"
   },
   {
    "duration": 106,
    "start_time": "2021-08-16T10:55:45.450Z"
   },
   {
    "duration": 127,
    "start_time": "2021-08-16T10:55:49.144Z"
   },
   {
    "duration": 57,
    "start_time": "2021-08-16T11:16:55.234Z"
   },
   {
    "duration": 363,
    "start_time": "2021-08-16T11:17:12.444Z"
   },
   {
    "duration": 87,
    "start_time": "2021-08-16T11:17:37.217Z"
   },
   {
    "duration": 264,
    "start_time": "2021-08-16T11:17:41.081Z"
   },
   {
    "duration": 16,
    "start_time": "2021-08-16T11:17:45.738Z"
   },
   {
    "duration": 55241,
    "start_time": "2021-08-16T11:17:57.136Z"
   },
   {
    "duration": 269,
    "start_time": "2021-08-16T11:20:15.809Z"
   },
   {
    "duration": 92,
    "start_time": "2021-08-16T11:20:30.784Z"
   },
   {
    "duration": 58,
    "start_time": "2021-08-16T11:20:43.054Z"
   },
   {
    "duration": 21,
    "start_time": "2021-08-16T11:21:19.750Z"
   },
   {
    "duration": 271,
    "start_time": "2021-08-16T11:44:46.982Z"
   },
   {
    "duration": 81,
    "start_time": "2021-08-16T11:44:56.153Z"
   },
   {
    "duration": 107,
    "start_time": "2021-08-16T11:45:17.343Z"
   },
   {
    "duration": 26,
    "start_time": "2021-08-16T11:45:39.460Z"
   },
   {
    "duration": 313,
    "start_time": "2021-08-16T11:45:55.897Z"
   },
   {
    "duration": 29,
    "start_time": "2021-08-16T11:46:03.819Z"
   },
   {
    "duration": 21,
    "start_time": "2021-08-16T11:46:23.053Z"
   },
   {
    "duration": 8,
    "start_time": "2021-08-16T11:46:52.373Z"
   },
   {
    "duration": 47,
    "start_time": "2021-08-16T11:48:47.004Z"
   },
   {
    "duration": 277,
    "start_time": "2021-08-16T11:49:09.060Z"
   },
   {
    "duration": 267,
    "start_time": "2021-08-16T11:51:00.341Z"
   },
   {
    "duration": 30,
    "start_time": "2021-08-16T11:51:10.662Z"
   },
   {
    "duration": 275,
    "start_time": "2021-08-16T11:52:13.698Z"
   },
   {
    "duration": 258,
    "start_time": "2021-08-16T11:52:23.875Z"
   },
   {
    "duration": 21,
    "start_time": "2021-08-16T11:52:33.556Z"
   },
   {
    "duration": 6,
    "start_time": "2021-08-16T11:52:48.291Z"
   },
   {
    "duration": 35,
    "start_time": "2021-08-16T11:53:00.938Z"
   },
   {
    "duration": 29,
    "start_time": "2021-08-16T11:53:29.698Z"
   },
   {
    "duration": 8,
    "start_time": "2021-08-16T11:53:47.207Z"
   },
   {
    "duration": 267,
    "start_time": "2021-08-16T11:54:15.816Z"
   },
   {
    "duration": 101,
    "start_time": "2021-08-16T11:56:04.772Z"
   },
   {
    "duration": 21,
    "start_time": "2021-08-16T11:56:09.336Z"
   },
   {
    "duration": 8,
    "start_time": "2021-08-16T11:56:18.372Z"
   },
   {
    "duration": 22,
    "start_time": "2021-08-16T11:56:55.139Z"
   },
   {
    "duration": 7,
    "start_time": "2021-08-16T11:57:06.437Z"
   },
   {
    "duration": 42,
    "start_time": "2021-08-16T11:58:39.112Z"
   },
   {
    "duration": 70,
    "start_time": "2021-08-16T12:00:58.948Z"
   },
   {
    "duration": 68,
    "start_time": "2021-08-16T12:01:24.811Z"
   },
   {
    "duration": 69,
    "start_time": "2021-08-16T12:01:40.380Z"
   },
   {
    "duration": 39,
    "start_time": "2021-08-16T12:01:59.553Z"
   },
   {
    "duration": 75,
    "start_time": "2021-08-16T12:03:33.399Z"
   },
   {
    "duration": 72,
    "start_time": "2021-08-16T12:03:44.109Z"
   },
   {
    "duration": 71,
    "start_time": "2021-08-16T12:03:49.525Z"
   },
   {
    "duration": 73,
    "start_time": "2021-08-16T12:04:05.763Z"
   },
   {
    "duration": 6817,
    "start_time": "2021-08-16T12:04:34.317Z"
   },
   {
    "duration": 1053,
    "start_time": "2021-08-16T12:05:25.571Z"
   },
   {
    "duration": 6983,
    "start_time": "2021-08-16T12:05:39.767Z"
   },
   {
    "duration": 883,
    "start_time": "2021-08-16T12:06:17.088Z"
   },
   {
    "duration": 29,
    "start_time": "2021-08-16T12:06:17.975Z"
   },
   {
    "duration": 60,
    "start_time": "2021-08-16T12:06:18.008Z"
   },
   {
    "duration": 16,
    "start_time": "2021-08-16T12:06:18.071Z"
   },
   {
    "duration": 41,
    "start_time": "2021-08-16T12:06:18.090Z"
   },
   {
    "duration": 136,
    "start_time": "2021-08-16T12:06:18.163Z"
   },
   {
    "duration": 22,
    "start_time": "2021-08-16T12:06:18.302Z"
   },
   {
    "duration": 36,
    "start_time": "2021-08-16T12:06:18.327Z"
   },
   {
    "duration": 26,
    "start_time": "2021-08-16T12:08:32.203Z"
   },
   {
    "duration": 24,
    "start_time": "2021-08-16T12:08:41.718Z"
   },
   {
    "duration": 427,
    "start_time": "2021-08-16T12:09:17.945Z"
   },
   {
    "duration": 10,
    "start_time": "2021-08-16T12:12:26.980Z"
   },
   {
    "duration": 8,
    "start_time": "2021-08-16T12:12:48.330Z"
   },
   {
    "duration": 490,
    "start_time": "2021-08-16T13:05:57.796Z"
   },
   {
    "duration": 269,
    "start_time": "2021-08-16T13:06:09.158Z"
   },
   {
    "duration": 931,
    "start_time": "2021-08-16T13:06:27.474Z"
   },
   {
    "duration": 25,
    "start_time": "2021-08-16T13:06:28.408Z"
   },
   {
    "duration": 38,
    "start_time": "2021-08-16T13:06:28.436Z"
   },
   {
    "duration": 24,
    "start_time": "2021-08-16T13:06:28.476Z"
   },
   {
    "duration": 39,
    "start_time": "2021-08-16T13:06:28.503Z"
   },
   {
    "duration": 145,
    "start_time": "2021-08-16T13:06:28.544Z"
   },
   {
    "duration": 21,
    "start_time": "2021-08-16T13:06:28.691Z"
   },
   {
    "duration": 14,
    "start_time": "2021-08-16T13:06:28.715Z"
   },
   {
    "duration": 398,
    "start_time": "2021-08-16T13:06:28.731Z"
   },
   {
    "duration": 298,
    "start_time": "2021-08-16T15:16:19.342Z"
   },
   {
    "duration": 39,
    "start_time": "2021-08-16T15:16:35.571Z"
   },
   {
    "duration": 25,
    "start_time": "2021-08-16T15:16:50.013Z"
   },
   {
    "duration": 75,
    "start_time": "2021-08-16T15:21:22.764Z"
   },
   {
    "duration": 295,
    "start_time": "2021-08-16T15:44:12.936Z"
   },
   {
    "duration": 867,
    "start_time": "2021-08-16T15:44:43.437Z"
   },
   {
    "duration": 307,
    "start_time": "2021-08-16T15:44:49.593Z"
   },
   {
    "duration": 227,
    "start_time": "2021-08-16T15:45:24.879Z"
   },
   {
    "duration": 274,
    "start_time": "2021-08-16T15:46:32.094Z"
   },
   {
    "duration": 296,
    "start_time": "2021-08-16T15:47:24.067Z"
   },
   {
    "duration": 1664,
    "start_time": "2021-08-16T15:48:07.312Z"
   },
   {
    "duration": 29,
    "start_time": "2021-08-16T15:48:08.979Z"
   },
   {
    "duration": 22,
    "start_time": "2021-08-16T15:48:09.011Z"
   },
   {
    "duration": 45,
    "start_time": "2021-08-16T15:48:09.036Z"
   },
   {
    "duration": 52,
    "start_time": "2021-08-16T15:48:09.085Z"
   },
   {
    "duration": 139,
    "start_time": "2021-08-16T15:48:09.140Z"
   },
   {
    "duration": 22,
    "start_time": "2021-08-16T15:48:09.282Z"
   },
   {
    "duration": 8,
    "start_time": "2021-08-16T15:48:09.308Z"
   },
   {
    "duration": 72,
    "start_time": "2021-08-16T15:48:09.319Z"
   },
   {
    "duration": 47,
    "start_time": "2021-08-16T15:48:09.393Z"
   },
   {
    "duration": 540,
    "start_time": "2021-08-16T15:48:09.442Z"
   },
   {
    "duration": 96,
    "start_time": "2021-08-16T15:48:26.541Z"
   },
   {
    "duration": 170,
    "start_time": "2021-08-16T15:49:40.529Z"
   },
   {
    "duration": 248,
    "start_time": "2021-08-16T15:49:46.973Z"
   },
   {
    "duration": 2047,
    "start_time": "2021-08-16T15:50:22.487Z"
   },
   {
    "duration": 40,
    "start_time": "2021-08-16T15:50:24.537Z"
   },
   {
    "duration": 22,
    "start_time": "2021-08-16T15:50:24.580Z"
   },
   {
    "duration": 15,
    "start_time": "2021-08-16T15:50:24.605Z"
   },
   {
    "duration": 69,
    "start_time": "2021-08-16T15:50:24.623Z"
   },
   {
    "duration": 137,
    "start_time": "2021-08-16T15:50:24.695Z"
   },
   {
    "duration": 39,
    "start_time": "2021-08-16T15:50:24.835Z"
   },
   {
    "duration": 8,
    "start_time": "2021-08-16T15:50:24.877Z"
   },
   {
    "duration": 50,
    "start_time": "2021-08-16T15:50:24.887Z"
   },
   {
    "duration": 80,
    "start_time": "2021-08-16T15:50:24.940Z"
   },
   {
    "duration": 409,
    "start_time": "2021-08-16T15:50:25.023Z"
   },
   {
    "duration": 107,
    "start_time": "2021-08-16T15:52:01.850Z"
   },
   {
    "duration": 272,
    "start_time": "2021-08-16T15:52:09.655Z"
   },
   {
    "duration": 1647,
    "start_time": "2021-08-16T15:52:18.616Z"
   },
   {
    "duration": 28,
    "start_time": "2021-08-16T15:52:20.266Z"
   },
   {
    "duration": 23,
    "start_time": "2021-08-16T15:52:20.297Z"
   },
   {
    "duration": 51,
    "start_time": "2021-08-16T15:52:20.323Z"
   },
   {
    "duration": 42,
    "start_time": "2021-08-16T15:52:20.377Z"
   },
   {
    "duration": 157,
    "start_time": "2021-08-16T15:52:20.422Z"
   },
   {
    "duration": 23,
    "start_time": "2021-08-16T15:52:20.582Z"
   },
   {
    "duration": 8,
    "start_time": "2021-08-16T15:52:20.608Z"
   },
   {
    "duration": 71,
    "start_time": "2021-08-16T15:52:20.619Z"
   },
   {
    "duration": 46,
    "start_time": "2021-08-16T15:52:20.692Z"
   },
   {
    "duration": 423,
    "start_time": "2021-08-16T15:52:20.740Z"
   },
   {
    "duration": 384,
    "start_time": "2021-08-16T15:54:00.774Z"
   },
   {
    "duration": 341,
    "start_time": "2021-08-16T15:54:20.638Z"
   },
   {
    "duration": 564,
    "start_time": "2021-08-16T15:55:37.344Z"
   },
   {
    "duration": 264,
    "start_time": "2021-08-16T15:56:14.626Z"
   },
   {
    "duration": 379,
    "start_time": "2021-08-16T15:56:36.277Z"
   },
   {
    "duration": 1643,
    "start_time": "2021-08-16T15:56:54.364Z"
   },
   {
    "duration": 28,
    "start_time": "2021-08-16T15:56:56.010Z"
   },
   {
    "duration": 40,
    "start_time": "2021-08-16T15:56:56.041Z"
   },
   {
    "duration": 14,
    "start_time": "2021-08-16T15:56:56.084Z"
   },
   {
    "duration": 65,
    "start_time": "2021-08-16T15:56:56.101Z"
   },
   {
    "duration": 142,
    "start_time": "2021-08-16T15:56:56.169Z"
   },
   {
    "duration": 48,
    "start_time": "2021-08-16T15:56:56.314Z"
   },
   {
    "duration": 9,
    "start_time": "2021-08-16T15:56:56.365Z"
   },
   {
    "duration": 35,
    "start_time": "2021-08-16T15:56:56.377Z"
   },
   {
    "duration": 72,
    "start_time": "2021-08-16T15:56:56.415Z"
   },
   {
    "duration": 398,
    "start_time": "2021-08-16T15:56:56.490Z"
   },
   {
    "duration": 455,
    "start_time": "2021-08-16T15:57:30.309Z"
   },
   {
    "duration": 388,
    "start_time": "2021-08-16T15:59:04.709Z"
   },
   {
    "duration": 263,
    "start_time": "2021-08-16T16:00:08.363Z"
   },
   {
    "duration": 2591,
    "start_time": "2021-08-16T16:00:14.427Z"
   },
   {
    "duration": 716,
    "start_time": "2021-08-16T16:04:37.489Z"
   },
   {
    "duration": 784,
    "start_time": "2021-08-16T16:04:45.961Z"
   },
   {
    "duration": 411,
    "start_time": "2021-08-16T16:04:52.130Z"
   },
   {
    "duration": 377,
    "start_time": "2021-08-16T16:04:57.195Z"
   },
   {
    "duration": 384,
    "start_time": "2021-08-16T16:05:08.457Z"
   },
   {
    "duration": 412,
    "start_time": "2021-08-16T16:05:20.696Z"
   },
   {
    "duration": 398,
    "start_time": "2021-08-16T16:05:32.311Z"
   },
   {
    "duration": 410,
    "start_time": "2021-08-16T16:06:51.816Z"
   },
   {
    "duration": 413,
    "start_time": "2021-08-16T16:06:56.452Z"
   },
   {
    "duration": 414,
    "start_time": "2021-08-16T16:07:08.859Z"
   },
   {
    "duration": 415,
    "start_time": "2021-08-16T16:07:17.090Z"
   },
   {
    "duration": 509,
    "start_time": "2021-08-16T16:07:45.093Z"
   },
   {
    "duration": 427,
    "start_time": "2021-08-16T16:07:52.910Z"
   },
   {
    "duration": 557,
    "start_time": "2021-08-16T16:07:59.277Z"
   },
   {
    "duration": 264,
    "start_time": "2021-08-16T16:08:26.490Z"
   },
   {
    "duration": 96,
    "start_time": "2021-08-16T16:53:32.850Z"
   },
   {
    "duration": 397,
    "start_time": "2021-08-16T16:53:36.417Z"
   },
   {
    "duration": 339,
    "start_time": "2021-08-16T16:57:12.275Z"
   },
   {
    "duration": 62,
    "start_time": "2021-08-16T16:57:47.784Z"
   },
   {
    "duration": 8,
    "start_time": "2021-08-16T16:58:24.542Z"
   },
   {
    "duration": 378,
    "start_time": "2021-08-18T10:55:04.546Z"
   },
   {
    "duration": 1652,
    "start_time": "2021-08-18T10:55:12.065Z"
   },
   {
    "duration": 37,
    "start_time": "2021-08-18T10:55:13.719Z"
   },
   {
    "duration": 21,
    "start_time": "2021-08-18T10:55:13.759Z"
   },
   {
    "duration": 15,
    "start_time": "2021-08-18T10:55:13.783Z"
   },
   {
    "duration": 72,
    "start_time": "2021-08-18T10:55:13.801Z"
   },
   {
    "duration": 132,
    "start_time": "2021-08-18T10:55:13.875Z"
   },
   {
    "duration": 45,
    "start_time": "2021-08-18T10:55:14.009Z"
   },
   {
    "duration": 8,
    "start_time": "2021-08-18T10:55:14.057Z"
   },
   {
    "duration": 36,
    "start_time": "2021-08-18T10:55:14.068Z"
   },
   {
    "duration": 80,
    "start_time": "2021-08-18T10:55:14.107Z"
   },
   {
    "duration": 423,
    "start_time": "2021-08-18T10:55:14.190Z"
   },
   {
    "duration": 51,
    "start_time": "2021-08-18T10:55:14.616Z"
   },
   {
    "duration": 6,
    "start_time": "2021-08-18T10:55:14.669Z"
   },
   {
    "duration": 33,
    "start_time": "2021-08-18T10:55:14.678Z"
   },
   {
    "duration": 395,
    "start_time": "2021-08-18T11:03:36.547Z"
   },
   {
    "duration": 272,
    "start_time": "2021-08-18T11:03:58.826Z"
   },
   {
    "duration": 37,
    "start_time": "2021-08-18T11:04:20.160Z"
   },
   {
    "duration": 327,
    "start_time": "2021-08-18T11:06:40.790Z"
   },
   {
    "duration": 68,
    "start_time": "2021-08-18T11:06:48.415Z"
   },
   {
    "duration": 65,
    "start_time": "2021-08-18T11:11:27.764Z"
   },
   {
    "duration": 31,
    "start_time": "2021-08-18T11:11:55.814Z"
   },
   {
    "duration": 27,
    "start_time": "2021-08-18T11:12:59.206Z"
   },
   {
    "duration": 30,
    "start_time": "2021-08-18T11:13:49.332Z"
   },
   {
    "duration": 29,
    "start_time": "2021-08-18T11:13:57.107Z"
   },
   {
    "duration": 30,
    "start_time": "2021-08-18T11:16:50.085Z"
   },
   {
    "duration": 21,
    "start_time": "2021-08-18T11:17:24.956Z"
   },
   {
    "duration": 278,
    "start_time": "2021-08-18T11:17:46.200Z"
   },
   {
    "duration": 21,
    "start_time": "2021-08-18T11:17:52.847Z"
   },
   {
    "duration": 6,
    "start_time": "2021-08-18T11:18:08.695Z"
   },
   {
    "duration": 291,
    "start_time": "2021-08-18T11:18:23.299Z"
   },
   {
    "duration": 30,
    "start_time": "2021-08-18T11:18:42.424Z"
   },
   {
    "duration": 49,
    "start_time": "2021-08-18T11:22:18.027Z"
   },
   {
    "duration": 61,
    "start_time": "2021-08-18T11:22:52.415Z"
   },
   {
    "duration": 65,
    "start_time": "2021-08-18T11:23:08.302Z"
   },
   {
    "duration": 45,
    "start_time": "2021-08-18T11:23:21.670Z"
   },
   {
    "duration": 50,
    "start_time": "2021-08-18T11:23:41.236Z"
   },
   {
    "duration": 52,
    "start_time": "2021-08-18T11:24:05.512Z"
   },
   {
    "duration": 52,
    "start_time": "2021-08-18T11:24:12.349Z"
   },
   {
    "duration": 48,
    "start_time": "2021-08-18T11:24:20.019Z"
   },
   {
    "duration": 31,
    "start_time": "2021-08-18T11:26:39.032Z"
   },
   {
    "duration": 31,
    "start_time": "2021-08-18T11:26:57.154Z"
   },
   {
    "duration": 44,
    "start_time": "2021-08-18T12:18:04.634Z"
   },
   {
    "duration": 44,
    "start_time": "2021-08-18T12:18:23.816Z"
   },
   {
    "duration": 50,
    "start_time": "2021-08-18T12:18:35.704Z"
   },
   {
    "duration": 44,
    "start_time": "2021-08-18T12:19:01.049Z"
   },
   {
    "duration": 43,
    "start_time": "2021-08-18T12:19:46.857Z"
   },
   {
    "duration": 45,
    "start_time": "2021-08-18T12:21:13.096Z"
   },
   {
    "duration": 47,
    "start_time": "2021-08-18T12:21:20.220Z"
   },
   {
    "duration": 48,
    "start_time": "2021-08-18T12:21:30.764Z"
   },
   {
    "duration": 5,
    "start_time": "2021-08-18T12:21:33.065Z"
   },
   {
    "duration": 46,
    "start_time": "2021-08-18T12:21:46.183Z"
   },
   {
    "duration": 5,
    "start_time": "2021-08-18T12:28:30.275Z"
   },
   {
    "duration": 7,
    "start_time": "2021-08-18T12:39:07.408Z"
   },
   {
    "duration": 102,
    "start_time": "2021-08-18T12:44:43.852Z"
   },
   {
    "duration": 7,
    "start_time": "2021-08-18T13:01:36.041Z"
   },
   {
    "duration": 8,
    "start_time": "2021-08-18T13:21:53.580Z"
   },
   {
    "duration": 323,
    "start_time": "2021-08-18T13:23:15.947Z"
   },
   {
    "duration": 9,
    "start_time": "2021-08-18T13:23:24.428Z"
   },
   {
    "duration": 18,
    "start_time": "2021-08-18T13:24:55.914Z"
   },
   {
    "duration": 286,
    "start_time": "2021-08-18T13:26:59.229Z"
   },
   {
    "duration": 15,
    "start_time": "2021-08-18T13:28:07.801Z"
   },
   {
    "duration": 98,
    "start_time": "2021-08-18T13:36:19.254Z"
   },
   {
    "duration": 104,
    "start_time": "2021-08-18T13:36:32.827Z"
   },
   {
    "duration": 20,
    "start_time": "2021-08-18T13:36:53.384Z"
   },
   {
    "duration": 5,
    "start_time": "2021-08-18T13:41:32.133Z"
   },
   {
    "duration": 66,
    "start_time": "2021-08-18T14:14:17.027Z"
   },
   {
    "duration": 9,
    "start_time": "2021-08-18T14:21:11.598Z"
   },
   {
    "duration": 30,
    "start_time": "2021-08-18T14:21:29.731Z"
   },
   {
    "duration": 17,
    "start_time": "2021-08-18T14:24:29.506Z"
   },
   {
    "duration": 15,
    "start_time": "2021-08-18T14:24:35.402Z"
   },
   {
    "duration": 21,
    "start_time": "2021-08-18T14:24:55.908Z"
   },
   {
    "duration": 22,
    "start_time": "2021-08-18T14:25:09.364Z"
   },
   {
    "duration": 15,
    "start_time": "2021-08-18T14:25:14.390Z"
   },
   {
    "duration": 30,
    "start_time": "2021-08-18T14:25:22.408Z"
   },
   {
    "duration": 12,
    "start_time": "2021-08-18T14:25:32.178Z"
   },
   {
    "duration": 40,
    "start_time": "2021-08-18T14:25:35.932Z"
   },
   {
    "duration": 269,
    "start_time": "2021-08-18T14:26:58.938Z"
   },
   {
    "duration": 30,
    "start_time": "2021-08-18T14:27:08.000Z"
   },
   {
    "duration": 38,
    "start_time": "2021-08-18T14:27:37.826Z"
   },
   {
    "duration": 37,
    "start_time": "2021-08-18T14:27:54.263Z"
   },
   {
    "duration": 30,
    "start_time": "2021-08-18T14:28:14.313Z"
   },
   {
    "duration": 2083,
    "start_time": "2021-08-18T14:28:34.676Z"
   },
   {
    "duration": 93,
    "start_time": "2021-08-18T14:28:53.546Z"
   },
   {
    "duration": 182,
    "start_time": "2021-08-18T14:31:51.044Z"
   },
   {
    "duration": 323,
    "start_time": "2021-08-18T14:36:00.645Z"
   },
   {
    "duration": 32,
    "start_time": "2021-08-18T14:36:15.813Z"
   },
   {
    "duration": 16530,
    "start_time": "2021-08-18T14:36:46.729Z"
   },
   {
    "duration": 10952,
    "start_time": "2021-08-18T14:40:14.240Z"
   },
   {
    "duration": 16947,
    "start_time": "2021-08-18T14:41:02.633Z"
   },
   {
    "duration": 33,
    "start_time": "2021-08-18T14:43:41.350Z"
   },
   {
    "duration": 35,
    "start_time": "2021-08-18T14:44:10.584Z"
   },
   {
    "duration": 36,
    "start_time": "2021-08-18T14:44:18.754Z"
   },
   {
    "duration": 20,
    "start_time": "2021-08-18T14:48:33.529Z"
   },
   {
    "duration": 34,
    "start_time": "2021-08-18T14:48:51.101Z"
   },
   {
    "duration": 15695,
    "start_time": "2021-08-18T14:49:13.211Z"
   },
   {
    "duration": 34,
    "start_time": "2021-08-18T14:49:42.210Z"
   },
   {
    "duration": 67,
    "start_time": "2021-08-18T14:51:25.191Z"
   },
   {
    "duration": 13,
    "start_time": "2021-08-18T14:52:10.121Z"
   },
   {
    "duration": 61,
    "start_time": "2021-08-18T14:52:25.776Z"
   },
   {
    "duration": 20,
    "start_time": "2021-08-18T15:47:31.112Z"
   },
   {
    "duration": 40,
    "start_time": "2021-08-18T15:48:28.322Z"
   },
   {
    "duration": 146,
    "start_time": "2021-08-18T15:50:25.195Z"
   },
   {
    "duration": 32,
    "start_time": "2021-08-18T15:50:33.271Z"
   },
   {
    "duration": 40,
    "start_time": "2021-08-18T15:51:35.275Z"
   },
   {
    "duration": 28,
    "start_time": "2021-08-18T15:51:49.637Z"
   },
   {
    "duration": 28,
    "start_time": "2021-08-18T22:24:59.174Z"
   },
   {
    "duration": 28,
    "start_time": "2021-08-18T22:25:10.898Z"
   },
   {
    "duration": 29,
    "start_time": "2021-08-18T22:26:46.885Z"
   },
   {
    "duration": 29,
    "start_time": "2021-08-18T22:27:03.118Z"
   },
   {
    "duration": 27,
    "start_time": "2021-08-18T22:27:06.299Z"
   },
   {
    "duration": 22,
    "start_time": "2021-08-18T22:28:26.067Z"
   },
   {
    "duration": 53,
    "start_time": "2021-08-18T22:55:15.340Z"
   },
   {
    "duration": 47,
    "start_time": "2021-08-18T22:55:22.176Z"
   },
   {
    "duration": 11,
    "start_time": "2021-08-18T22:56:47.413Z"
   },
   {
    "duration": 46,
    "start_time": "2021-08-18T22:57:06.982Z"
   },
   {
    "duration": 41,
    "start_time": "2021-08-18T23:11:30.527Z"
   },
   {
    "duration": 44,
    "start_time": "2021-08-18T23:19:37.344Z"
   },
   {
    "duration": 41,
    "start_time": "2021-08-18T23:19:56.896Z"
   },
   {
    "duration": 281,
    "start_time": "2021-08-18T23:21:38.639Z"
   },
   {
    "duration": 42,
    "start_time": "2021-08-18T23:21:45.068Z"
   },
   {
    "duration": 41,
    "start_time": "2021-08-18T23:21:45.770Z"
   },
   {
    "duration": 43,
    "start_time": "2021-08-18T23:21:46.371Z"
   },
   {
    "duration": 7,
    "start_time": "2021-08-18T23:21:46.923Z"
   },
   {
    "duration": 50,
    "start_time": "2021-08-18T23:23:10.164Z"
   },
   {
    "duration": 21,
    "start_time": "2021-08-18T23:27:18.387Z"
   },
   {
    "duration": 99,
    "start_time": "2021-08-18T23:30:15.176Z"
   },
   {
    "duration": 96,
    "start_time": "2021-08-18T23:31:02.179Z"
   },
   {
    "duration": 85,
    "start_time": "2021-08-18T23:31:28.717Z"
   },
   {
    "duration": 109,
    "start_time": "2021-08-18T23:31:36.132Z"
   },
   {
    "duration": 6,
    "start_time": "2021-08-18T23:31:51.228Z"
   },
   {
    "duration": 91,
    "start_time": "2021-08-18T23:32:24.586Z"
   },
   {
    "duration": 6,
    "start_time": "2021-08-18T23:32:34.356Z"
   },
   {
    "duration": 87,
    "start_time": "2021-08-18T23:32:52.398Z"
   },
   {
    "duration": 110,
    "start_time": "2021-08-18T23:33:30.389Z"
   },
   {
    "duration": 98,
    "start_time": "2021-08-18T23:34:42.375Z"
   },
   {
    "duration": 94,
    "start_time": "2021-08-18T23:35:03.663Z"
   },
   {
    "duration": 103,
    "start_time": "2021-08-18T23:35:15.905Z"
   },
   {
    "duration": 87,
    "start_time": "2021-08-18T23:35:27.175Z"
   },
   {
    "duration": 98,
    "start_time": "2021-08-18T23:36:43.890Z"
   },
   {
    "duration": 437,
    "start_time": "2021-08-18T23:36:50.807Z"
   },
   {
    "duration": 96,
    "start_time": "2021-08-18T23:37:35.102Z"
   },
   {
    "duration": 468,
    "start_time": "2021-08-18T23:37:45.275Z"
   },
   {
    "duration": 93,
    "start_time": "2021-08-18T23:38:46.405Z"
   },
   {
    "duration": 105,
    "start_time": "2021-08-18T23:39:02.933Z"
   },
   {
    "duration": 122,
    "start_time": "2021-08-18T23:39:11.239Z"
   },
   {
    "duration": 100,
    "start_time": "2021-08-18T23:39:17.409Z"
   },
   {
    "duration": 94,
    "start_time": "2021-08-18T23:42:24.207Z"
   },
   {
    "duration": 6,
    "start_time": "2021-08-18T23:42:46.211Z"
   },
   {
    "duration": 6,
    "start_time": "2021-08-18T23:44:09.602Z"
   },
   {
    "duration": 6,
    "start_time": "2021-08-18T23:44:24.833Z"
   },
   {
    "duration": 430,
    "start_time": "2021-08-18T23:46:46.210Z"
   },
   {
    "duration": 421,
    "start_time": "2021-08-18T23:46:53.109Z"
   },
   {
    "duration": 449,
    "start_time": "2021-08-18T23:46:59.029Z"
   },
   {
    "duration": 105,
    "start_time": "2021-08-18T23:47:06.142Z"
   },
   {
    "duration": 432,
    "start_time": "2021-08-18T23:47:22.077Z"
   },
   {
    "duration": 434,
    "start_time": "2021-08-18T23:47:27.025Z"
   },
   {
    "duration": 436,
    "start_time": "2021-08-18T23:47:30.381Z"
   },
   {
    "duration": 84,
    "start_time": "2021-08-18T23:47:33.501Z"
   },
   {
    "duration": 88,
    "start_time": "2021-08-18T23:47:36.752Z"
   },
   {
    "duration": 9,
    "start_time": "2021-08-18T23:47:41.235Z"
   },
   {
    "duration": 13,
    "start_time": "2021-08-18T23:47:51.498Z"
   },
   {
    "duration": 26,
    "start_time": "2021-08-18T23:47:52.315Z"
   },
   {
    "duration": 6,
    "start_time": "2021-08-18T23:48:21.969Z"
   },
   {
    "duration": 263,
    "start_time": "2021-08-18T23:51:46.942Z"
   },
   {
    "duration": 6,
    "start_time": "2021-08-18T23:52:05.384Z"
   },
   {
    "duration": 6,
    "start_time": "2021-08-18T23:52:19.954Z"
   },
   {
    "duration": 8,
    "start_time": "2021-08-18T23:52:38.806Z"
   },
   {
    "duration": 8,
    "start_time": "2021-08-18T23:53:55.456Z"
   },
   {
    "duration": 7,
    "start_time": "2021-08-18T23:54:28.859Z"
   },
   {
    "duration": 7,
    "start_time": "2021-08-18T23:54:48.011Z"
   },
   {
    "duration": 1670,
    "start_time": "2021-08-19T22:55:58.857Z"
   },
   {
    "duration": 40,
    "start_time": "2021-08-19T22:56:00.530Z"
   },
   {
    "duration": 21,
    "start_time": "2021-08-19T22:56:00.573Z"
   },
   {
    "duration": 18,
    "start_time": "2021-08-19T22:56:00.597Z"
   },
   {
    "duration": 63,
    "start_time": "2021-08-19T22:56:00.618Z"
   },
   {
    "duration": 140,
    "start_time": "2021-08-19T22:56:00.683Z"
   },
   {
    "duration": 35,
    "start_time": "2021-08-19T22:56:00.827Z"
   },
   {
    "duration": 8,
    "start_time": "2021-08-19T22:56:00.865Z"
   },
   {
    "duration": 51,
    "start_time": "2021-08-19T22:56:00.876Z"
   },
   {
    "duration": 60,
    "start_time": "2021-08-19T22:56:00.930Z"
   },
   {
    "duration": 371,
    "start_time": "2021-08-19T22:56:00.993Z"
   },
   {
    "duration": 46,
    "start_time": "2021-08-19T22:56:01.367Z"
   },
   {
    "duration": 6,
    "start_time": "2021-08-19T22:56:01.416Z"
   },
   {
    "duration": 68,
    "start_time": "2021-08-19T22:56:01.424Z"
   },
   {
    "duration": 74,
    "start_time": "2021-08-19T22:56:01.494Z"
   },
   {
    "duration": 47,
    "start_time": "2021-08-19T22:56:01.570Z"
   },
   {
    "duration": 106,
    "start_time": "2021-08-19T22:56:01.619Z"
   },
   {
    "duration": 33,
    "start_time": "2021-08-19T22:56:01.727Z"
   },
   {
    "duration": 8,
    "start_time": "2021-08-19T22:56:01.762Z"
   },
   {
    "duration": 57,
    "start_time": "2021-08-19T22:56:01.772Z"
   },
   {
    "duration": 45,
    "start_time": "2021-08-19T22:56:01.831Z"
   },
   {
    "duration": 28,
    "start_time": "2021-08-19T22:56:01.879Z"
   },
   {
    "duration": 48,
    "start_time": "2021-08-19T22:56:01.911Z"
   },
   {
    "duration": 28,
    "start_time": "2021-08-19T22:56:01.961Z"
   },
   {
    "duration": 66,
    "start_time": "2021-08-19T22:56:01.991Z"
   },
   {
    "duration": 56,
    "start_time": "2021-08-19T22:56:02.059Z"
   },
   {
    "duration": 83,
    "start_time": "2021-08-19T22:56:02.118Z"
   },
   {
    "duration": 88,
    "start_time": "2021-08-19T22:56:02.204Z"
   },
   {
    "duration": 23,
    "start_time": "2021-08-19T22:56:02.295Z"
   },
   {
    "duration": 7,
    "start_time": "2021-08-19T22:56:02.321Z"
   },
   {
    "duration": 6,
    "start_time": "2021-08-19T22:58:05.620Z"
   },
   {
    "duration": 6,
    "start_time": "2021-08-19T22:58:20.605Z"
   },
   {
    "duration": 5,
    "start_time": "2021-08-19T22:58:39.991Z"
   },
   {
    "duration": 5,
    "start_time": "2021-08-19T22:58:56.735Z"
   },
   {
    "duration": 5,
    "start_time": "2021-08-19T22:59:30.616Z"
   },
   {
    "duration": 5,
    "start_time": "2021-08-19T22:59:45.361Z"
   },
   {
    "duration": 114,
    "start_time": "2021-08-19T23:03:36.481Z"
   },
   {
    "duration": 5,
    "start_time": "2021-08-19T23:03:41.518Z"
   },
   {
    "duration": 4,
    "start_time": "2021-08-19T23:03:48.780Z"
   },
   {
    "duration": 502,
    "start_time": "2021-08-19T23:04:20.074Z"
   },
   {
    "duration": 138,
    "start_time": "2021-08-19T23:04:30.305Z"
   },
   {
    "duration": 36,
    "start_time": "2021-08-19T23:04:38.055Z"
   },
   {
    "duration": 426,
    "start_time": "2021-08-19T23:05:06.728Z"
   },
   {
    "duration": 426,
    "start_time": "2021-08-19T23:05:20.818Z"
   },
   {
    "duration": 388,
    "start_time": "2021-08-19T23:05:49.362Z"
   },
   {
    "duration": 362,
    "start_time": "2021-08-19T23:11:29.514Z"
   },
   {
    "duration": 8946,
    "start_time": "2021-08-19T23:11:52.741Z"
   },
   {
    "duration": 8843,
    "start_time": "2021-08-19T23:12:19.817Z"
   },
   {
    "duration": 362,
    "start_time": "2021-08-19T23:12:45.462Z"
   },
   {
    "duration": 8888,
    "start_time": "2021-08-19T23:13:05.591Z"
   },
   {
    "duration": 8861,
    "start_time": "2021-08-19T23:13:28.531Z"
   },
   {
    "duration": 384,
    "start_time": "2021-08-19T23:14:01.706Z"
   },
   {
    "duration": 135,
    "start_time": "2021-08-19T23:17:59.573Z"
   },
   {
    "duration": 122,
    "start_time": "2021-08-19T23:18:38.199Z"
   },
   {
    "duration": 930,
    "start_time": "2021-08-19T23:19:05.838Z"
   },
   {
    "duration": 5,
    "start_time": "2021-08-19T23:19:28.428Z"
   },
   {
    "duration": 5,
    "start_time": "2021-08-19T23:20:06.906Z"
   },
   {
    "duration": 5,
    "start_time": "2021-08-19T23:20:33.052Z"
   },
   {
    "duration": 54,
    "start_time": "2021-08-19T23:24:57.784Z"
   },
   {
    "duration": 53,
    "start_time": "2021-08-19T23:25:13.152Z"
   },
   {
    "duration": 1281,
    "start_time": "2021-08-20T08:33:54.561Z"
   },
   {
    "duration": 20,
    "start_time": "2021-08-20T08:33:55.844Z"
   },
   {
    "duration": 17,
    "start_time": "2021-08-20T08:33:55.867Z"
   },
   {
    "duration": 11,
    "start_time": "2021-08-20T08:33:55.886Z"
   },
   {
    "duration": 59,
    "start_time": "2021-08-20T08:33:55.899Z"
   },
   {
    "duration": 87,
    "start_time": "2021-08-20T08:33:55.960Z"
   },
   {
    "duration": 15,
    "start_time": "2021-08-20T08:33:56.049Z"
   },
   {
    "duration": 6,
    "start_time": "2021-08-20T08:33:56.067Z"
   },
   {
    "duration": 26,
    "start_time": "2021-08-20T08:33:56.075Z"
   },
   {
    "duration": 63,
    "start_time": "2021-08-20T08:33:56.103Z"
   },
   {
    "duration": 220,
    "start_time": "2021-08-20T08:33:56.168Z"
   },
   {
    "duration": 25,
    "start_time": "2021-08-20T08:33:56.390Z"
   },
   {
    "duration": 5,
    "start_time": "2021-08-20T08:33:56.416Z"
   },
   {
    "duration": 37,
    "start_time": "2021-08-20T08:33:56.422Z"
   },
   {
    "duration": 48,
    "start_time": "2021-08-20T08:33:56.460Z"
   },
   {
    "duration": 56,
    "start_time": "2021-08-20T08:33:56.510Z"
   },
   {
    "duration": 74,
    "start_time": "2021-08-20T08:33:56.568Z"
   },
   {
    "duration": 11,
    "start_time": "2021-08-20T08:33:56.643Z"
   },
   {
    "duration": 20,
    "start_time": "2021-08-20T08:33:56.656Z"
   },
   {
    "duration": 34,
    "start_time": "2021-08-20T08:33:56.677Z"
   },
   {
    "duration": 42,
    "start_time": "2021-08-20T08:33:56.712Z"
   },
   {
    "duration": 19,
    "start_time": "2021-08-20T08:33:56.756Z"
   },
   {
    "duration": 19,
    "start_time": "2021-08-20T08:33:56.778Z"
   },
   {
    "duration": 54,
    "start_time": "2021-08-20T08:33:56.799Z"
   },
   {
    "duration": 30,
    "start_time": "2021-08-20T08:33:56.854Z"
   },
   {
    "duration": 33,
    "start_time": "2021-08-20T08:33:56.886Z"
   },
   {
    "duration": 15,
    "start_time": "2021-08-20T08:38:25.706Z"
   },
   {
    "duration": 53,
    "start_time": "2021-08-20T09:06:04.210Z"
   },
   {
    "duration": 394,
    "start_time": "2021-08-20T09:07:30.758Z"
   },
   {
    "duration": 46,
    "start_time": "2021-08-20T09:07:39.599Z"
   },
   {
    "duration": 50,
    "start_time": "2021-08-20T09:08:00.470Z"
   },
   {
    "duration": 50,
    "start_time": "2021-08-20T09:09:11.013Z"
   },
   {
    "duration": 20,
    "start_time": "2021-08-20T09:10:21.392Z"
   },
   {
    "duration": 31,
    "start_time": "2021-08-20T09:10:45.512Z"
   },
   {
    "duration": 35,
    "start_time": "2021-08-20T09:12:51.199Z"
   },
   {
    "duration": 35,
    "start_time": "2021-08-20T09:13:20.314Z"
   },
   {
    "duration": 35,
    "start_time": "2021-08-20T09:13:31.812Z"
   },
   {
    "duration": 35,
    "start_time": "2021-08-20T09:13:36.373Z"
   },
   {
    "duration": 17,
    "start_time": "2021-08-20T10:01:11.899Z"
   },
   {
    "duration": 17,
    "start_time": "2021-08-20T10:01:28.078Z"
   },
   {
    "duration": 17,
    "start_time": "2021-08-20T10:01:38.094Z"
   },
   {
    "duration": 33,
    "start_time": "2021-08-20T10:01:58.391Z"
   },
   {
    "duration": 32,
    "start_time": "2021-08-20T10:02:05.612Z"
   },
   {
    "duration": 34,
    "start_time": "2021-08-20T10:02:10.981Z"
   },
   {
    "duration": 29,
    "start_time": "2021-08-20T10:02:40.238Z"
   },
   {
    "duration": 28,
    "start_time": "2021-08-20T10:03:07.058Z"
   },
   {
    "duration": 30,
    "start_time": "2021-08-20T10:03:22.784Z"
   },
   {
    "duration": 30,
    "start_time": "2021-08-20T10:05:52.202Z"
   },
   {
    "duration": 32,
    "start_time": "2021-08-20T10:06:09.740Z"
   },
   {
    "duration": 30,
    "start_time": "2021-08-20T10:06:18.719Z"
   },
   {
    "duration": 17,
    "start_time": "2021-08-20T10:20:05.920Z"
   },
   {
    "duration": 16,
    "start_time": "2021-08-20T10:20:20.106Z"
   },
   {
    "duration": 17,
    "start_time": "2021-08-20T10:20:31.363Z"
   },
   {
    "duration": 27,
    "start_time": "2021-08-20T10:21:00.730Z"
   },
   {
    "duration": 24,
    "start_time": "2021-08-20T10:21:22.601Z"
   },
   {
    "duration": 26,
    "start_time": "2021-08-20T10:21:39.878Z"
   },
   {
    "duration": 30,
    "start_time": "2021-08-20T12:52:51.455Z"
   },
   {
    "duration": 35,
    "start_time": "2021-08-20T12:53:05.523Z"
   },
   {
    "duration": 29,
    "start_time": "2021-08-20T12:53:15.240Z"
   },
   {
    "duration": 15,
    "start_time": "2021-08-20T12:57:06.632Z"
   },
   {
    "duration": 15,
    "start_time": "2021-08-20T12:57:42.277Z"
   },
   {
    "duration": 16,
    "start_time": "2021-08-20T12:58:29.843Z"
   },
   {
    "duration": 16,
    "start_time": "2021-08-20T12:58:42.621Z"
   },
   {
    "duration": 17,
    "start_time": "2021-08-20T12:58:56.569Z"
   },
   {
    "duration": 28,
    "start_time": "2021-08-20T12:59:25.853Z"
   },
   {
    "duration": 26,
    "start_time": "2021-08-20T12:59:43.330Z"
   },
   {
    "duration": 27,
    "start_time": "2021-08-20T13:00:04.548Z"
   },
   {
    "duration": 27,
    "start_time": "2021-08-20T13:12:20.121Z"
   },
   {
    "duration": 29,
    "start_time": "2021-08-20T13:12:21.029Z"
   },
   {
    "duration": 28,
    "start_time": "2021-08-20T13:12:21.806Z"
   },
   {
    "duration": 30,
    "start_time": "2021-08-20T13:15:10.842Z"
   },
   {
    "duration": 27,
    "start_time": "2021-08-20T13:15:31.824Z"
   },
   {
    "duration": 30,
    "start_time": "2021-08-20T13:15:44.188Z"
   },
   {
    "duration": 16,
    "start_time": "2021-08-20T13:21:15.057Z"
   },
   {
    "duration": 15,
    "start_time": "2021-08-20T13:21:25.772Z"
   },
   {
    "duration": 16,
    "start_time": "2021-08-20T13:21:36.720Z"
   },
   {
    "duration": 27,
    "start_time": "2021-08-20T13:21:55.846Z"
   },
   {
    "duration": 26,
    "start_time": "2021-08-20T13:22:13.766Z"
   },
   {
    "duration": 31,
    "start_time": "2021-08-20T13:22:28.968Z"
   },
   {
    "duration": 30,
    "start_time": "2021-08-20T13:24:07.218Z"
   },
   {
    "duration": 27,
    "start_time": "2021-08-20T13:24:34.388Z"
   },
   {
    "duration": 26,
    "start_time": "2021-08-20T13:24:48.210Z"
   },
   {
    "duration": 5,
    "start_time": "2021-08-20T23:30:36.672Z"
   },
   {
    "duration": 16,
    "start_time": "2021-08-20T23:30:48.659Z"
   },
   {
    "duration": 262,
    "start_time": "2021-08-20T23:31:32.830Z"
   },
   {
    "duration": 18,
    "start_time": "2021-08-20T23:32:38.090Z"
   },
   {
    "duration": 20,
    "start_time": "2021-08-20T23:33:02.123Z"
   },
   {
    "duration": 14,
    "start_time": "2021-08-20T23:33:21.225Z"
   },
   {
    "duration": 18,
    "start_time": "2021-08-20T23:33:52.543Z"
   },
   {
    "duration": 18,
    "start_time": "2021-08-20T23:34:05.632Z"
   },
   {
    "duration": 18,
    "start_time": "2021-08-20T23:34:14.538Z"
   },
   {
    "duration": 18,
    "start_time": "2021-08-20T23:34:19.642Z"
   },
   {
    "duration": 15,
    "start_time": "2021-08-20T23:34:43.759Z"
   },
   {
    "duration": 18,
    "start_time": "2021-08-20T23:34:56.629Z"
   },
   {
    "duration": 17,
    "start_time": "2021-08-20T23:35:02.872Z"
   },
   {
    "duration": 19,
    "start_time": "2021-08-20T23:35:14.408Z"
   },
   {
    "duration": 14,
    "start_time": "2021-08-20T23:35:34.729Z"
   },
   {
    "duration": 14,
    "start_time": "2021-08-20T23:37:36.024Z"
   },
   {
    "duration": 21,
    "start_time": "2021-08-20T23:37:54.503Z"
   },
   {
    "duration": 18,
    "start_time": "2021-08-20T23:38:24.642Z"
   },
   {
    "duration": 17,
    "start_time": "2021-08-20T23:38:25.068Z"
   },
   {
    "duration": 19,
    "start_time": "2021-08-20T23:38:25.475Z"
   },
   {
    "duration": 27,
    "start_time": "2021-08-20T23:41:41.724Z"
   },
   {
    "duration": 33,
    "start_time": "2021-08-20T23:41:42.214Z"
   },
   {
    "duration": 31,
    "start_time": "2021-08-20T23:41:42.813Z"
   },
   {
    "duration": 32,
    "start_time": "2021-08-20T23:41:43.260Z"
   },
   {
    "duration": 30,
    "start_time": "2021-08-20T23:41:43.647Z"
   },
   {
    "duration": 15,
    "start_time": "2021-08-20T23:42:40.343Z"
   },
   {
    "duration": 25,
    "start_time": "2021-08-20T23:44:38.280Z"
   },
   {
    "duration": 38,
    "start_time": "2021-08-20T23:44:40.149Z"
   },
   {
    "duration": 29,
    "start_time": "2021-08-20T23:44:41.109Z"
   },
   {
    "duration": 29,
    "start_time": "2021-08-20T23:44:42.054Z"
   },
   {
    "duration": 29,
    "start_time": "2021-08-20T23:44:42.947Z"
   },
   {
    "duration": 1255,
    "start_time": "2021-08-21T02:34:57.944Z"
   },
   {
    "duration": 19,
    "start_time": "2021-08-21T02:34:59.201Z"
   },
   {
    "duration": 23,
    "start_time": "2021-08-21T02:34:59.222Z"
   },
   {
    "duration": 11,
    "start_time": "2021-08-21T02:34:59.247Z"
   },
   {
    "duration": 31,
    "start_time": "2021-08-21T02:34:59.260Z"
   },
   {
    "duration": 108,
    "start_time": "2021-08-21T02:34:59.293Z"
   },
   {
    "duration": 17,
    "start_time": "2021-08-21T02:34:59.403Z"
   },
   {
    "duration": 20,
    "start_time": "2021-08-21T02:34:59.422Z"
   },
   {
    "duration": 27,
    "start_time": "2021-08-21T02:34:59.444Z"
   },
   {
    "duration": 33,
    "start_time": "2021-08-21T02:34:59.473Z"
   },
   {
    "duration": 226,
    "start_time": "2021-08-21T02:34:59.508Z"
   },
   {
    "duration": 32,
    "start_time": "2021-08-21T02:34:59.735Z"
   },
   {
    "duration": 5,
    "start_time": "2021-08-21T02:34:59.769Z"
   },
   {
    "duration": 28,
    "start_time": "2021-08-21T02:34:59.775Z"
   },
   {
    "duration": 69,
    "start_time": "2021-08-21T02:34:59.805Z"
   },
   {
    "duration": 49,
    "start_time": "2021-08-21T02:34:59.876Z"
   },
   {
    "duration": 70,
    "start_time": "2021-08-21T02:34:59.926Z"
   },
   {
    "duration": 15,
    "start_time": "2021-08-21T02:34:59.997Z"
   },
   {
    "duration": 7,
    "start_time": "2021-08-21T02:35:00.014Z"
   },
   {
    "duration": 52,
    "start_time": "2021-08-21T02:35:00.022Z"
   },
   {
    "duration": 27,
    "start_time": "2021-08-21T02:35:00.076Z"
   },
   {
    "duration": 42,
    "start_time": "2021-08-21T02:35:00.105Z"
   },
   {
    "duration": 21,
    "start_time": "2021-08-21T02:35:00.151Z"
   },
   {
    "duration": 22,
    "start_time": "2021-08-21T02:35:00.175Z"
   },
   {
    "duration": 58,
    "start_time": "2021-08-21T02:35:00.198Z"
   },
   {
    "duration": 32,
    "start_time": "2021-08-21T02:35:00.258Z"
   },
   {
    "duration": 51,
    "start_time": "2021-08-21T02:35:00.292Z"
   },
   {
    "duration": 50,
    "start_time": "2021-08-21T02:35:00.345Z"
   },
   {
    "duration": 58,
    "start_time": "2021-08-21T02:35:00.398Z"
   },
   {
    "duration": 40,
    "start_time": "2021-08-21T02:35:00.458Z"
   },
   {
    "duration": 20,
    "start_time": "2021-08-21T02:35:00.500Z"
   },
   {
    "duration": 21,
    "start_time": "2021-08-21T02:35:00.540Z"
   },
   {
    "duration": 20,
    "start_time": "2021-08-21T02:35:00.563Z"
   },
   {
    "duration": 30,
    "start_time": "2021-08-21T02:35:00.584Z"
   },
   {
    "duration": 50,
    "start_time": "2021-08-21T02:35:00.616Z"
   },
   {
    "duration": 30,
    "start_time": "2021-08-21T02:35:00.668Z"
   },
   {
    "duration": 55,
    "start_time": "2021-08-21T02:35:00.700Z"
   },
   {
    "duration": 36,
    "start_time": "2021-08-21T02:35:00.756Z"
   },
   {
    "duration": 51,
    "start_time": "2021-08-21T02:35:00.794Z"
   },
   {
    "duration": 21,
    "start_time": "2021-08-21T02:35:00.847Z"
   },
   {
    "duration": 20,
    "start_time": "2021-08-21T02:35:00.869Z"
   },
   {
    "duration": 20,
    "start_time": "2021-08-21T02:35:00.891Z"
   },
   {
    "duration": 55,
    "start_time": "2021-08-21T02:35:00.912Z"
   },
   {
    "duration": 30,
    "start_time": "2021-08-21T02:35:00.969Z"
   },
   {
    "duration": 47,
    "start_time": "2021-08-21T02:35:01.001Z"
   },
   {
    "duration": 45,
    "start_time": "2021-08-21T02:35:01.049Z"
   },
   {
    "duration": 46,
    "start_time": "2021-08-21T02:35:01.096Z"
   },
   {
    "duration": 37,
    "start_time": "2021-08-21T02:35:01.145Z"
   },
   {
    "duration": 17,
    "start_time": "2021-08-21T02:35:01.183Z"
   },
   {
    "duration": 40,
    "start_time": "2021-08-21T02:35:01.202Z"
   },
   {
    "duration": 18,
    "start_time": "2021-08-21T02:35:01.244Z"
   },
   {
    "duration": 28,
    "start_time": "2021-08-21T02:35:01.264Z"
   },
   {
    "duration": 48,
    "start_time": "2021-08-21T02:35:01.293Z"
   },
   {
    "duration": 28,
    "start_time": "2021-08-21T02:35:01.343Z"
   },
   {
    "duration": 29,
    "start_time": "2021-08-21T02:35:01.372Z"
   },
   {
    "duration": 50,
    "start_time": "2021-08-21T02:35:01.403Z"
   },
   {
    "duration": 30,
    "start_time": "2021-08-21T02:35:01.454Z"
   },
   {
    "duration": 16,
    "start_time": "2021-08-21T02:35:01.486Z"
   },
   {
    "duration": 38,
    "start_time": "2021-08-21T02:35:01.504Z"
   },
   {
    "duration": 16,
    "start_time": "2021-08-21T02:35:01.544Z"
   },
   {
    "duration": 27,
    "start_time": "2021-08-21T02:35:01.562Z"
   },
   {
    "duration": 27,
    "start_time": "2021-08-21T02:35:01.590Z"
   },
   {
    "duration": 28,
    "start_time": "2021-08-21T02:35:01.641Z"
   },
   {
    "duration": 30,
    "start_time": "2021-08-21T02:35:01.670Z"
   },
   {
    "duration": 54,
    "start_time": "2021-08-21T02:35:01.702Z"
   },
   {
    "duration": 28,
    "start_time": "2021-08-21T02:35:01.758Z"
   },
   {
    "duration": 17,
    "start_time": "2021-08-21T02:35:01.788Z"
   },
   {
    "duration": 43,
    "start_time": "2021-08-21T02:35:01.810Z"
   },
   {
    "duration": 22,
    "start_time": "2021-08-21T02:35:01.855Z"
   },
   {
    "duration": 22,
    "start_time": "2021-08-21T02:35:01.879Z"
   },
   {
    "duration": 42,
    "start_time": "2021-08-21T02:35:01.903Z"
   },
   {
    "duration": 30,
    "start_time": "2021-08-21T02:35:01.947Z"
   },
   {
    "duration": 37,
    "start_time": "2021-08-21T02:35:01.979Z"
   },
   {
    "duration": 51,
    "start_time": "2021-08-21T02:35:02.017Z"
   },
   {
    "duration": 34,
    "start_time": "2021-08-21T02:35:02.070Z"
   },
   {
    "duration": 52,
    "start_time": "2021-08-21T02:35:02.105Z"
   },
   {
    "duration": 28,
    "start_time": "2021-08-21T02:35:02.159Z"
   },
   {
    "duration": 57,
    "start_time": "2021-08-21T02:35:02.188Z"
   },
   {
    "duration": 35,
    "start_time": "2021-08-21T02:35:02.247Z"
   },
   {
    "duration": 36,
    "start_time": "2021-08-21T02:35:02.284Z"
   },
   {
    "duration": 46,
    "start_time": "2021-08-21T02:35:02.322Z"
   },
   {
    "duration": 1227,
    "start_time": "2021-08-22T23:01:04.157Z"
   },
   {
    "duration": 17,
    "start_time": "2021-08-22T23:01:05.386Z"
   },
   {
    "duration": 15,
    "start_time": "2021-08-22T23:01:05.404Z"
   },
   {
    "duration": 13,
    "start_time": "2021-08-22T23:01:05.421Z"
   },
   {
    "duration": 29,
    "start_time": "2021-08-22T23:01:05.435Z"
   },
   {
    "duration": 95,
    "start_time": "2021-08-22T23:01:05.465Z"
   },
   {
    "duration": 13,
    "start_time": "2021-08-22T23:01:05.562Z"
   },
   {
    "duration": 5,
    "start_time": "2021-08-22T23:01:05.591Z"
   },
   {
    "duration": 26,
    "start_time": "2021-08-22T23:01:05.598Z"
   },
   {
    "duration": 27,
    "start_time": "2021-08-22T23:01:05.625Z"
   },
   {
    "duration": 206,
    "start_time": "2021-08-22T23:01:05.654Z"
   },
   {
    "duration": 41,
    "start_time": "2021-08-22T23:01:05.861Z"
   },
   {
    "duration": 4,
    "start_time": "2021-08-22T23:01:05.903Z"
   },
   {
    "duration": 35,
    "start_time": "2021-08-22T23:01:05.909Z"
   },
   {
    "duration": 55,
    "start_time": "2021-08-22T23:01:05.945Z"
   },
   {
    "duration": 45,
    "start_time": "2021-08-22T23:01:06.002Z"
   },
   {
    "duration": 66,
    "start_time": "2021-08-22T23:01:06.048Z"
   },
   {
    "duration": 13,
    "start_time": "2021-08-22T23:01:06.116Z"
   },
   {
    "duration": 12,
    "start_time": "2021-08-22T23:01:06.130Z"
   },
   {
    "duration": 40,
    "start_time": "2021-08-22T23:01:06.144Z"
   },
   {
    "duration": 24,
    "start_time": "2021-08-22T23:01:06.186Z"
   },
   {
    "duration": 17,
    "start_time": "2021-08-22T23:01:06.211Z"
   },
   {
    "duration": 16,
    "start_time": "2021-08-22T23:01:06.229Z"
   },
   {
    "duration": 16,
    "start_time": "2021-08-22T23:01:06.247Z"
   },
   {
    "duration": 50,
    "start_time": "2021-08-22T23:01:06.265Z"
   },
   {
    "duration": 28,
    "start_time": "2021-08-22T23:01:06.317Z"
   },
   {
    "duration": 46,
    "start_time": "2021-08-22T23:01:06.346Z"
   },
   {
    "duration": 32,
    "start_time": "2021-08-22T23:01:06.394Z"
   },
   {
    "duration": 31,
    "start_time": "2021-08-22T23:01:06.428Z"
   },
   {
    "duration": 57,
    "start_time": "2021-08-22T23:01:06.461Z"
   },
   {
    "duration": 15,
    "start_time": "2021-08-22T23:01:06.519Z"
   },
   {
    "duration": 15,
    "start_time": "2021-08-22T23:01:06.535Z"
   },
   {
    "duration": 15,
    "start_time": "2021-08-22T23:01:06.551Z"
   },
   {
    "duration": 48,
    "start_time": "2021-08-22T23:01:06.567Z"
   },
   {
    "duration": 27,
    "start_time": "2021-08-22T23:01:06.617Z"
   },
   {
    "duration": 47,
    "start_time": "2021-08-22T23:01:06.646Z"
   },
   {
    "duration": 30,
    "start_time": "2021-08-22T23:01:06.695Z"
   },
   {
    "duration": 28,
    "start_time": "2021-08-22T23:01:06.726Z"
   },
   {
    "duration": 54,
    "start_time": "2021-08-22T23:01:06.756Z"
   },
   {
    "duration": 17,
    "start_time": "2021-08-22T23:01:06.812Z"
   },
   {
    "duration": 16,
    "start_time": "2021-08-22T23:01:06.831Z"
   },
   {
    "duration": 17,
    "start_time": "2021-08-22T23:01:06.849Z"
   },
   {
    "duration": 29,
    "start_time": "2021-08-22T23:01:06.891Z"
   },
   {
    "duration": 29,
    "start_time": "2021-08-22T23:01:06.921Z"
   },
   {
    "duration": 50,
    "start_time": "2021-08-22T23:01:06.951Z"
   },
   {
    "duration": 30,
    "start_time": "2021-08-22T23:01:07.003Z"
   },
   {
    "duration": 30,
    "start_time": "2021-08-22T23:01:07.035Z"
   },
   {
    "duration": 49,
    "start_time": "2021-08-22T23:01:07.066Z"
   },
   {
    "duration": 15,
    "start_time": "2021-08-22T23:01:07.117Z"
   },
   {
    "duration": 15,
    "start_time": "2021-08-22T23:01:07.133Z"
   },
   {
    "duration": 15,
    "start_time": "2021-08-22T23:01:07.165Z"
   },
   {
    "duration": 24,
    "start_time": "2021-08-22T23:01:07.198Z"
   },
   {
    "duration": 27,
    "start_time": "2021-08-22T23:01:07.261Z"
   },
   {
    "duration": 29,
    "start_time": "2021-08-22T23:01:07.295Z"
   },
   {
    "duration": 28,
    "start_time": "2021-08-22T23:01:07.343Z"
   },
   {
    "duration": 28,
    "start_time": "2021-08-22T23:01:07.402Z"
   },
   {
    "duration": 27,
    "start_time": "2021-08-22T23:01:07.455Z"
   },
   {
    "duration": 12,
    "start_time": "2021-08-22T23:01:07.527Z"
   },
   {
    "duration": 11,
    "start_time": "2021-08-22T23:01:07.540Z"
   },
   {
    "duration": 10,
    "start_time": "2021-08-22T23:01:07.555Z"
   },
   {
    "duration": 21,
    "start_time": "2021-08-22T23:01:07.590Z"
   },
   {
    "duration": 20,
    "start_time": "2021-08-22T23:01:07.612Z"
   },
   {
    "duration": 21,
    "start_time": "2021-08-22T23:01:07.637Z"
   },
   {
    "duration": 19,
    "start_time": "2021-08-22T23:01:07.692Z"
   },
   {
    "duration": 19,
    "start_time": "2021-08-22T23:01:07.732Z"
   },
   {
    "duration": 17,
    "start_time": "2021-08-22T23:01:07.758Z"
   },
   {
    "duration": 10,
    "start_time": "2021-08-22T23:01:07.794Z"
   },
   {
    "duration": 19,
    "start_time": "2021-08-22T23:01:07.805Z"
   },
   {
    "duration": 17,
    "start_time": "2021-08-22T23:01:07.826Z"
   },
   {
    "duration": 16,
    "start_time": "2021-08-22T23:01:07.845Z"
   },
   {
    "duration": 41,
    "start_time": "2021-08-22T23:01:07.862Z"
   },
   {
    "duration": 23,
    "start_time": "2021-08-22T23:01:07.905Z"
   },
   {
    "duration": 30,
    "start_time": "2021-08-22T23:01:07.930Z"
   },
   {
    "duration": 48,
    "start_time": "2021-08-22T23:01:07.962Z"
   },
   {
    "duration": 28,
    "start_time": "2021-08-22T23:01:08.012Z"
   },
   {
    "duration": 27,
    "start_time": "2021-08-22T23:01:08.042Z"
   },
   {
    "duration": 36,
    "start_time": "2021-08-22T23:01:08.071Z"
   },
   {
    "duration": 33,
    "start_time": "2021-08-22T23:01:08.109Z"
   },
   {
    "duration": 26,
    "start_time": "2021-08-22T23:01:08.144Z"
   },
   {
    "duration": 28,
    "start_time": "2021-08-22T23:01:08.190Z"
   },
   {
    "duration": 27,
    "start_time": "2021-08-22T23:01:08.219Z"
   },
   {
    "duration": 66,
    "start_time": "2021-08-22T23:15:26.223Z"
   },
   {
    "duration": 60,
    "start_time": "2021-08-22T23:15:34.267Z"
   },
   {
    "duration": 74,
    "start_time": "2021-08-22T23:15:58.812Z"
   },
   {
    "duration": 1208,
    "start_time": "2021-08-22T23:16:16.413Z"
   },
   {
    "duration": 17,
    "start_time": "2021-08-22T23:16:17.623Z"
   },
   {
    "duration": 14,
    "start_time": "2021-08-22T23:16:17.642Z"
   },
   {
    "duration": 32,
    "start_time": "2021-08-22T23:16:17.659Z"
   },
   {
    "duration": 28,
    "start_time": "2021-08-22T23:16:17.693Z"
   },
   {
    "duration": 69,
    "start_time": "2021-08-22T23:16:17.723Z"
   },
   {
    "duration": 60,
    "start_time": "2021-08-22T23:16:17.794Z"
   },
   {
    "duration": 96,
    "start_time": "2021-08-22T23:16:17.857Z"
   },
   {
    "duration": 15,
    "start_time": "2021-08-22T23:16:17.955Z"
   },
   {
    "duration": 23,
    "start_time": "2021-08-22T23:16:17.971Z"
   },
   {
    "duration": 25,
    "start_time": "2021-08-22T23:16:17.996Z"
   },
   {
    "duration": 27,
    "start_time": "2021-08-22T23:16:18.023Z"
   },
   {
    "duration": 204,
    "start_time": "2021-08-22T23:16:18.052Z"
   },
   {
    "duration": 38,
    "start_time": "2021-08-22T23:16:18.258Z"
   },
   {
    "duration": 5,
    "start_time": "2021-08-22T23:16:18.298Z"
   },
   {
    "duration": 21,
    "start_time": "2021-08-22T23:16:18.305Z"
   },
   {
    "duration": 69,
    "start_time": "2021-08-22T23:16:18.328Z"
   },
   {
    "duration": 45,
    "start_time": "2021-08-22T23:16:18.399Z"
   },
   {
    "duration": 66,
    "start_time": "2021-08-22T23:16:18.445Z"
   },
   {
    "duration": 12,
    "start_time": "2021-08-22T23:16:18.513Z"
   },
   {
    "duration": 3,
    "start_time": "2021-08-22T23:16:18.526Z"
   },
   {
    "duration": 30,
    "start_time": "2021-08-22T23:16:18.531Z"
   },
   {
    "duration": 44,
    "start_time": "2021-08-22T23:16:18.565Z"
   },
   {
    "duration": 17,
    "start_time": "2021-08-22T23:16:18.611Z"
   },
   {
    "duration": 16,
    "start_time": "2021-08-22T23:16:18.629Z"
   },
   {
    "duration": 16,
    "start_time": "2021-08-22T23:16:18.647Z"
   },
   {
    "duration": 51,
    "start_time": "2021-08-22T23:16:18.665Z"
   },
   {
    "duration": 26,
    "start_time": "2021-08-22T23:16:18.717Z"
   },
   {
    "duration": 26,
    "start_time": "2021-08-22T23:16:18.745Z"
   },
   {
    "duration": 48,
    "start_time": "2021-08-22T23:16:18.772Z"
   },
   {
    "duration": 31,
    "start_time": "2021-08-22T23:16:18.821Z"
   },
   {
    "duration": 47,
    "start_time": "2021-08-22T23:16:18.853Z"
   },
   {
    "duration": 15,
    "start_time": "2021-08-22T23:16:18.902Z"
   },
   {
    "duration": 15,
    "start_time": "2021-08-22T23:16:18.919Z"
   },
   {
    "duration": 18,
    "start_time": "2021-08-22T23:16:18.935Z"
   },
   {
    "duration": 52,
    "start_time": "2021-08-22T23:16:18.954Z"
   },
   {
    "duration": 25,
    "start_time": "2021-08-22T23:16:19.007Z"
   },
   {
    "duration": 25,
    "start_time": "2021-08-22T23:16:19.033Z"
   },
   {
    "duration": 44,
    "start_time": "2021-08-22T23:16:19.059Z"
   },
   {
    "duration": 28,
    "start_time": "2021-08-22T23:16:19.104Z"
   },
   {
    "duration": 27,
    "start_time": "2021-08-22T23:16:19.133Z"
   },
   {
    "duration": 36,
    "start_time": "2021-08-22T23:16:19.161Z"
   },
   {
    "duration": 16,
    "start_time": "2021-08-22T23:16:19.198Z"
   },
   {
    "duration": 16,
    "start_time": "2021-08-22T23:16:19.215Z"
   },
   {
    "duration": 25,
    "start_time": "2021-08-22T23:16:19.232Z"
   },
   {
    "duration": 47,
    "start_time": "2021-08-22T23:16:19.258Z"
   },
   {
    "duration": 26,
    "start_time": "2021-08-22T23:16:19.306Z"
   },
   {
    "duration": 27,
    "start_time": "2021-08-22T23:16:19.334Z"
   },
   {
    "duration": 53,
    "start_time": "2021-08-22T23:16:19.363Z"
   },
   {
    "duration": 28,
    "start_time": "2021-08-22T23:16:19.418Z"
   },
   {
    "duration": 14,
    "start_time": "2021-08-22T23:16:19.448Z"
   },
   {
    "duration": 32,
    "start_time": "2021-08-22T23:16:19.463Z"
   },
   {
    "duration": 13,
    "start_time": "2021-08-22T23:16:19.496Z"
   },
   {
    "duration": 24,
    "start_time": "2021-08-22T23:16:19.511Z"
   },
   {
    "duration": 24,
    "start_time": "2021-08-22T23:16:19.536Z"
   },
   {
    "duration": 49,
    "start_time": "2021-08-22T23:16:19.561Z"
   },
   {
    "duration": 24,
    "start_time": "2021-08-22T23:16:19.611Z"
   },
   {
    "duration": 23,
    "start_time": "2021-08-22T23:16:19.636Z"
   },
   {
    "duration": 43,
    "start_time": "2021-08-22T23:16:19.661Z"
   },
   {
    "duration": 13,
    "start_time": "2021-08-22T23:16:19.706Z"
   },
   {
    "duration": 13,
    "start_time": "2021-08-22T23:16:19.720Z"
   },
   {
    "duration": 13,
    "start_time": "2021-08-22T23:16:19.735Z"
   },
   {
    "duration": 43,
    "start_time": "2021-08-22T23:16:19.749Z"
   },
   {
    "duration": 22,
    "start_time": "2021-08-22T23:16:19.794Z"
   },
   {
    "duration": 22,
    "start_time": "2021-08-22T23:16:19.818Z"
   },
   {
    "duration": 22,
    "start_time": "2021-08-22T23:16:19.842Z"
   },
   {
    "duration": 48,
    "start_time": "2021-08-22T23:16:19.866Z"
   },
   {
    "duration": 24,
    "start_time": "2021-08-22T23:16:19.919Z"
   },
   {
    "duration": 15,
    "start_time": "2021-08-22T23:16:19.945Z"
   },
   {
    "duration": 47,
    "start_time": "2021-08-22T23:16:19.961Z"
   },
   {
    "duration": 19,
    "start_time": "2021-08-22T23:16:20.010Z"
   },
   {
    "duration": 18,
    "start_time": "2021-08-22T23:16:20.030Z"
   },
   {
    "duration": 17,
    "start_time": "2021-08-22T23:16:20.050Z"
   },
   {
    "duration": 29,
    "start_time": "2021-08-22T23:16:20.092Z"
   },
   {
    "duration": 34,
    "start_time": "2021-08-22T23:16:20.122Z"
   },
   {
    "duration": 52,
    "start_time": "2021-08-22T23:16:20.158Z"
   },
   {
    "duration": 30,
    "start_time": "2021-08-22T23:16:20.211Z"
   },
   {
    "duration": 49,
    "start_time": "2021-08-22T23:16:20.243Z"
   },
   {
    "duration": 26,
    "start_time": "2021-08-22T23:16:20.294Z"
   },
   {
    "duration": 35,
    "start_time": "2021-08-22T23:16:20.321Z"
   },
   {
    "duration": 51,
    "start_time": "2021-08-22T23:16:20.358Z"
   },
   {
    "duration": 28,
    "start_time": "2021-08-22T23:16:20.410Z"
   },
   {
    "duration": 24,
    "start_time": "2021-08-22T23:16:20.440Z"
   },
   {
    "duration": 70,
    "start_time": "2021-08-22T23:18:02.178Z"
   },
   {
    "duration": 1188,
    "start_time": "2021-08-22T23:18:14.840Z"
   },
   {
    "duration": 17,
    "start_time": "2021-08-22T23:18:16.030Z"
   },
   {
    "duration": 14,
    "start_time": "2021-08-22T23:18:16.049Z"
   },
   {
    "duration": 35,
    "start_time": "2021-08-22T23:18:16.065Z"
   },
   {
    "duration": 26,
    "start_time": "2021-08-22T23:18:16.101Z"
   },
   {
    "duration": 45,
    "start_time": "2021-08-22T23:18:16.129Z"
   },
   {
    "duration": 62,
    "start_time": "2021-08-22T23:18:16.176Z"
   },
   {
    "duration": 83,
    "start_time": "2021-08-22T23:18:16.240Z"
   },
   {
    "duration": 14,
    "start_time": "2021-08-22T23:18:16.325Z"
   },
   {
    "duration": 5,
    "start_time": "2021-08-22T23:18:16.341Z"
   },
   {
    "duration": 45,
    "start_time": "2021-08-22T23:18:16.348Z"
   },
   {
    "duration": 27,
    "start_time": "2021-08-22T23:18:16.394Z"
   },
   {
    "duration": 196,
    "start_time": "2021-08-22T23:18:16.423Z"
   },
   {
    "duration": 29,
    "start_time": "2021-08-22T23:18:16.620Z"
   },
   {
    "duration": 4,
    "start_time": "2021-08-22T23:18:16.651Z"
   },
   {
    "duration": 38,
    "start_time": "2021-08-22T23:18:16.656Z"
   },
   {
    "duration": 43,
    "start_time": "2021-08-22T23:18:16.695Z"
   },
   {
    "duration": 58,
    "start_time": "2021-08-22T23:18:16.740Z"
   },
   {
    "duration": 54,
    "start_time": "2021-08-22T23:18:16.800Z"
   },
   {
    "duration": 12,
    "start_time": "2021-08-22T23:18:16.855Z"
   },
   {
    "duration": 3,
    "start_time": "2021-08-22T23:18:16.869Z"
   },
   {
    "duration": 47,
    "start_time": "2021-08-22T23:18:16.873Z"
   },
   {
    "duration": 26,
    "start_time": "2021-08-22T23:18:16.924Z"
   },
   {
    "duration": 43,
    "start_time": "2021-08-22T23:18:16.953Z"
   },
   {
    "duration": 19,
    "start_time": "2021-08-22T23:18:16.998Z"
   },
   {
    "duration": 18,
    "start_time": "2021-08-22T23:18:17.019Z"
   },
   {
    "duration": 29,
    "start_time": "2021-08-22T23:18:17.038Z"
   },
   {
    "duration": 50,
    "start_time": "2021-08-22T23:18:17.069Z"
   },
   {
    "duration": 29,
    "start_time": "2021-08-22T23:18:17.121Z"
   },
   {
    "duration": 51,
    "start_time": "2021-08-22T23:18:17.151Z"
   },
   {
    "duration": 35,
    "start_time": "2021-08-22T23:18:17.203Z"
   },
   {
    "duration": 34,
    "start_time": "2021-08-22T23:18:17.239Z"
   },
   {
    "duration": 18,
    "start_time": "2021-08-22T23:18:17.292Z"
   },
   {
    "duration": 19,
    "start_time": "2021-08-22T23:18:17.311Z"
   },
   {
    "duration": 18,
    "start_time": "2021-08-22T23:18:17.331Z"
   },
   {
    "duration": 52,
    "start_time": "2021-08-22T23:18:17.350Z"
   },
   {
    "duration": 30,
    "start_time": "2021-08-22T23:18:17.403Z"
   },
   {
    "duration": 30,
    "start_time": "2021-08-22T23:18:17.435Z"
   },
   {
    "duration": 47,
    "start_time": "2021-08-22T23:18:17.466Z"
   },
   {
    "duration": 31,
    "start_time": "2021-08-22T23:18:17.514Z"
   },
   {
    "duration": 47,
    "start_time": "2021-08-22T23:18:17.547Z"
   },
   {
    "duration": 15,
    "start_time": "2021-08-22T23:18:17.595Z"
   },
   {
    "duration": 15,
    "start_time": "2021-08-22T23:18:17.611Z"
   },
   {
    "duration": 15,
    "start_time": "2021-08-22T23:18:17.627Z"
   },
   {
    "duration": 49,
    "start_time": "2021-08-22T23:18:17.643Z"
   },
   {
    "duration": 26,
    "start_time": "2021-08-22T23:18:17.694Z"
   },
   {
    "duration": 25,
    "start_time": "2021-08-22T23:18:17.721Z"
   },
   {
    "duration": 47,
    "start_time": "2021-08-22T23:18:17.748Z"
   },
   {
    "duration": 28,
    "start_time": "2021-08-22T23:18:17.797Z"
   },
   {
    "duration": 27,
    "start_time": "2021-08-22T23:18:17.827Z"
   },
   {
    "duration": 16,
    "start_time": "2021-08-22T23:18:17.856Z"
   },
   {
    "duration": 16,
    "start_time": "2021-08-22T23:18:17.892Z"
   },
   {
    "duration": 16,
    "start_time": "2021-08-22T23:18:17.910Z"
   },
   {
    "duration": 26,
    "start_time": "2021-08-22T23:18:17.927Z"
   },
   {
    "duration": 50,
    "start_time": "2021-08-22T23:18:17.955Z"
   },
   {
    "duration": 26,
    "start_time": "2021-08-22T23:18:18.007Z"
   },
   {
    "duration": 28,
    "start_time": "2021-08-22T23:18:18.034Z"
   },
   {
    "duration": 48,
    "start_time": "2021-08-22T23:18:18.064Z"
   },
   {
    "duration": 27,
    "start_time": "2021-08-22T23:18:18.114Z"
   },
   {
    "duration": 11,
    "start_time": "2021-08-22T23:18:18.142Z"
   },
   {
    "duration": 10,
    "start_time": "2021-08-22T23:18:18.155Z"
   },
   {
    "duration": 31,
    "start_time": "2021-08-22T23:18:18.166Z"
   },
   {
    "duration": 20,
    "start_time": "2021-08-22T23:18:18.199Z"
   },
   {
    "duration": 19,
    "start_time": "2021-08-22T23:18:18.221Z"
   },
   {
    "duration": 19,
    "start_time": "2021-08-22T23:18:18.242Z"
   },
   {
    "duration": 42,
    "start_time": "2021-08-22T23:18:18.263Z"
   },
   {
    "duration": 18,
    "start_time": "2021-08-22T23:18:18.307Z"
   },
   {
    "duration": 18,
    "start_time": "2021-08-22T23:18:18.329Z"
   },
   {
    "duration": 11,
    "start_time": "2021-08-22T23:18:18.348Z"
   },
   {
    "duration": 45,
    "start_time": "2021-08-22T23:18:18.360Z"
   },
   {
    "duration": 19,
    "start_time": "2021-08-22T23:18:18.406Z"
   },
   {
    "duration": 15,
    "start_time": "2021-08-22T23:18:18.427Z"
   },
   {
    "duration": 17,
    "start_time": "2021-08-22T23:18:18.444Z"
   },
   {
    "duration": 45,
    "start_time": "2021-08-22T23:18:18.462Z"
   },
   {
    "duration": 33,
    "start_time": "2021-08-22T23:18:18.508Z"
   },
   {
    "duration": 51,
    "start_time": "2021-08-22T23:18:18.542Z"
   },
   {
    "duration": 29,
    "start_time": "2021-08-22T23:18:18.594Z"
   },
   {
    "duration": 29,
    "start_time": "2021-08-22T23:18:18.625Z"
   },
   {
    "duration": 40,
    "start_time": "2021-08-22T23:18:18.656Z"
   },
   {
    "duration": 36,
    "start_time": "2021-08-22T23:18:18.698Z"
   },
   {
    "duration": 31,
    "start_time": "2021-08-22T23:18:18.736Z"
   },
   {
    "duration": 43,
    "start_time": "2021-08-22T23:18:18.769Z"
   },
   {
    "duration": 29,
    "start_time": "2021-08-22T23:18:18.813Z"
   },
   {
    "duration": 65,
    "start_time": "2021-08-22T23:21:52.514Z"
   },
   {
    "duration": 61,
    "start_time": "2021-08-22T23:22:20.856Z"
   },
   {
    "duration": 58,
    "start_time": "2021-08-22T23:23:35.129Z"
   },
   {
    "duration": 126,
    "start_time": "2021-08-22T23:30:07.143Z"
   },
   {
    "duration": 7221,
    "start_time": "2021-08-22T23:30:23.651Z"
   },
   {
    "duration": 1192,
    "start_time": "2021-08-22T23:30:46.830Z"
   },
   {
    "duration": 19,
    "start_time": "2021-08-22T23:30:48.024Z"
   },
   {
    "duration": 14,
    "start_time": "2021-08-22T23:30:48.045Z"
   },
   {
    "duration": 33,
    "start_time": "2021-08-22T23:30:48.061Z"
   },
   {
    "duration": 28,
    "start_time": "2021-08-22T23:30:48.096Z"
   },
   {
    "duration": 66,
    "start_time": "2021-08-22T23:30:48.125Z"
   },
   {
    "duration": 50,
    "start_time": "2021-08-22T23:30:48.193Z"
   },
   {
    "duration": 82,
    "start_time": "2021-08-22T23:30:48.245Z"
   },
   {
    "duration": 16,
    "start_time": "2021-08-22T23:30:48.329Z"
   },
   {
    "duration": 12,
    "start_time": "2021-08-22T23:30:48.346Z"
   },
   {
    "duration": 38,
    "start_time": "2021-08-22T23:30:48.359Z"
   },
   {
    "duration": 27,
    "start_time": "2021-08-22T23:30:48.399Z"
   },
   {
    "duration": 188,
    "start_time": "2021-08-22T23:30:48.427Z"
   },
   {
    "duration": 26,
    "start_time": "2021-08-22T23:30:48.616Z"
   },
   {
    "duration": 4,
    "start_time": "2021-08-22T23:30:48.643Z"
   },
   {
    "duration": 42,
    "start_time": "2021-08-22T23:30:48.649Z"
   },
   {
    "duration": 43,
    "start_time": "2021-08-22T23:30:48.693Z"
   },
   {
    "duration": 57,
    "start_time": "2021-08-22T23:30:48.737Z"
   },
   {
    "duration": 53,
    "start_time": "2021-08-22T23:30:48.795Z"
   },
   {
    "duration": 12,
    "start_time": "2021-08-22T23:30:48.850Z"
   },
   {
    "duration": 4,
    "start_time": "2021-08-22T23:30:48.863Z"
   },
   {
    "duration": 29,
    "start_time": "2021-08-22T23:30:48.891Z"
   },
   {
    "duration": 24,
    "start_time": "2021-08-22T23:30:48.923Z"
   },
   {
    "duration": 18,
    "start_time": "2021-08-22T23:30:48.950Z"
   },
   {
    "duration": 38,
    "start_time": "2021-08-22T23:30:48.969Z"
   },
   {
    "duration": 17,
    "start_time": "2021-08-22T23:30:49.009Z"
   },
   {
    "duration": 27,
    "start_time": "2021-08-22T23:30:49.028Z"
   },
   {
    "duration": 49,
    "start_time": "2021-08-22T23:30:49.057Z"
   },
   {
    "duration": 28,
    "start_time": "2021-08-22T23:30:49.108Z"
   },
   {
    "duration": 31,
    "start_time": "2021-08-22T23:30:49.138Z"
   },
   {
    "duration": 48,
    "start_time": "2021-08-22T23:30:49.171Z"
   },
   {
    "duration": 31,
    "start_time": "2021-08-22T23:30:49.221Z"
   },
   {
    "duration": 15,
    "start_time": "2021-08-22T23:30:49.254Z"
   },
   {
    "duration": 34,
    "start_time": "2021-08-22T23:30:49.270Z"
   },
   {
    "duration": 16,
    "start_time": "2021-08-22T23:30:49.306Z"
   },
   {
    "duration": 25,
    "start_time": "2021-08-22T23:30:49.324Z"
   },
   {
    "duration": 49,
    "start_time": "2021-08-22T23:30:49.350Z"
   },
   {
    "duration": 26,
    "start_time": "2021-08-22T23:30:49.400Z"
   },
   {
    "duration": 28,
    "start_time": "2021-08-22T23:30:49.427Z"
   },
   {
    "duration": 44,
    "start_time": "2021-08-22T23:30:49.456Z"
   },
   {
    "duration": 29,
    "start_time": "2021-08-22T23:30:49.501Z"
   },
   {
    "duration": 16,
    "start_time": "2021-08-22T23:30:49.532Z"
   },
   {
    "duration": 15,
    "start_time": "2021-08-22T23:30:49.549Z"
   },
   {
    "duration": 40,
    "start_time": "2021-08-22T23:30:49.566Z"
   },
   {
    "duration": 25,
    "start_time": "2021-08-22T23:30:49.607Z"
   },
   {
    "duration": 25,
    "start_time": "2021-08-22T23:30:49.633Z"
   },
   {
    "duration": 47,
    "start_time": "2021-08-22T23:30:49.659Z"
   },
   {
    "duration": 28,
    "start_time": "2021-08-22T23:30:49.707Z"
   },
   {
    "duration": 27,
    "start_time": "2021-08-22T23:30:49.737Z"
   },
   {
    "duration": 48,
    "start_time": "2021-08-22T23:30:49.765Z"
   },
   {
    "duration": 15,
    "start_time": "2021-08-22T23:30:49.815Z"
   },
   {
    "duration": 16,
    "start_time": "2021-08-22T23:30:49.831Z"
   },
   {
    "duration": 16,
    "start_time": "2021-08-22T23:30:49.848Z"
   },
   {
    "duration": 48,
    "start_time": "2021-08-22T23:30:49.865Z"
   },
   {
    "duration": 25,
    "start_time": "2021-08-22T23:30:49.914Z"
   },
   {
    "duration": 26,
    "start_time": "2021-08-22T23:30:49.940Z"
   },
   {
    "duration": 51,
    "start_time": "2021-08-22T23:30:49.967Z"
   },
   {
    "duration": 29,
    "start_time": "2021-08-22T23:30:50.020Z"
   },
   {
    "duration": 41,
    "start_time": "2021-08-22T23:30:50.050Z"
   },
   {
    "duration": 12,
    "start_time": "2021-08-22T23:30:50.093Z"
   },
   {
    "duration": 12,
    "start_time": "2021-08-22T23:30:50.107Z"
   },
   {
    "duration": 13,
    "start_time": "2021-08-22T23:30:50.120Z"
   },
   {
    "duration": 22,
    "start_time": "2021-08-22T23:30:50.134Z"
   },
   {
    "duration": 54,
    "start_time": "2021-08-22T23:30:50.157Z"
   },
   {
    "duration": 25,
    "start_time": "2021-08-22T23:30:50.212Z"
   },
   {
    "duration": 23,
    "start_time": "2021-08-22T23:30:50.239Z"
   },
   {
    "duration": 44,
    "start_time": "2021-08-22T23:30:50.263Z"
   },
   {
    "duration": 23,
    "start_time": "2021-08-22T23:30:50.312Z"
   },
   {
    "duration": 13,
    "start_time": "2021-08-22T23:30:50.337Z"
   },
   {
    "duration": 40,
    "start_time": "2021-08-22T23:30:50.352Z"
   },
   {
    "duration": 19,
    "start_time": "2021-08-22T23:30:50.393Z"
   },
   {
    "duration": 17,
    "start_time": "2021-08-22T23:30:50.414Z"
   },
   {
    "duration": 18,
    "start_time": "2021-08-22T23:30:50.433Z"
   },
   {
    "duration": 52,
    "start_time": "2021-08-22T23:30:50.452Z"
   },
   {
    "duration": 35,
    "start_time": "2021-08-22T23:30:50.505Z"
   },
   {
    "duration": 32,
    "start_time": "2021-08-22T23:30:50.542Z"
   },
   {
    "duration": 32,
    "start_time": "2021-08-22T23:30:50.591Z"
   },
   {
    "duration": 31,
    "start_time": "2021-08-22T23:30:50.625Z"
   },
   {
    "duration": 45,
    "start_time": "2021-08-22T23:30:50.658Z"
   },
   {
    "duration": 36,
    "start_time": "2021-08-22T23:30:50.704Z"
   },
   {
    "duration": 31,
    "start_time": "2021-08-22T23:30:50.742Z"
   },
   {
    "duration": 44,
    "start_time": "2021-08-22T23:30:50.775Z"
   },
   {
    "duration": 31,
    "start_time": "2021-08-22T23:30:50.820Z"
   },
   {
    "duration": 8,
    "start_time": "2021-08-22T23:33:56.086Z"
   },
   {
    "duration": 7,
    "start_time": "2021-08-22T23:34:05.181Z"
   },
   {
    "duration": 8,
    "start_time": "2021-08-22T23:34:17.840Z"
   },
   {
    "duration": 7,
    "start_time": "2021-08-22T23:34:26.600Z"
   },
   {
    "duration": 7,
    "start_time": "2021-08-22T23:35:23.175Z"
   },
   {
    "duration": 7,
    "start_time": "2021-08-22T23:35:38.518Z"
   },
   {
    "duration": 1666,
    "start_time": "2021-08-23T09:19:26.016Z"
   },
   {
    "duration": 28,
    "start_time": "2021-08-23T09:19:27.685Z"
   },
   {
    "duration": 46,
    "start_time": "2021-08-23T09:19:27.716Z"
   },
   {
    "duration": 14,
    "start_time": "2021-08-23T09:19:27.765Z"
   },
   {
    "duration": 41,
    "start_time": "2021-08-23T09:19:27.781Z"
   },
   {
    "duration": 102,
    "start_time": "2021-08-23T09:19:27.825Z"
   },
   {
    "duration": 96,
    "start_time": "2021-08-23T09:19:27.929Z"
   },
   {
    "duration": 133,
    "start_time": "2021-08-23T09:19:28.029Z"
   },
   {
    "duration": 26,
    "start_time": "2021-08-23T09:19:28.165Z"
   },
   {
    "duration": 9,
    "start_time": "2021-08-23T09:19:28.194Z"
   },
   {
    "duration": 63,
    "start_time": "2021-08-23T09:19:28.205Z"
   },
   {
    "duration": 44,
    "start_time": "2021-08-23T09:19:28.270Z"
   },
   {
    "duration": 337,
    "start_time": "2021-08-23T09:19:28.316Z"
   },
   {
    "duration": 43,
    "start_time": "2021-08-23T09:19:28.661Z"
   },
   {
    "duration": 6,
    "start_time": "2021-08-23T09:19:28.707Z"
   },
   {
    "duration": 12,
    "start_time": "2021-08-23T09:19:28.716Z"
   },
   {
    "duration": 56,
    "start_time": "2021-08-23T09:19:28.730Z"
   },
   {
    "duration": 90,
    "start_time": "2021-08-23T09:19:28.788Z"
   },
   {
    "duration": 65,
    "start_time": "2021-08-23T09:19:28.880Z"
   },
   {
    "duration": 96,
    "start_time": "2021-08-23T09:19:28.948Z"
   },
   {
    "duration": 29,
    "start_time": "2021-08-23T09:19:29.047Z"
   },
   {
    "duration": 7,
    "start_time": "2021-08-23T09:19:29.079Z"
   },
   {
    "duration": 73,
    "start_time": "2021-08-23T09:19:29.092Z"
   },
   {
    "duration": 35,
    "start_time": "2021-08-23T09:19:29.169Z"
   },
   {
    "duration": 26,
    "start_time": "2021-08-23T09:19:29.206Z"
   },
   {
    "duration": 50,
    "start_time": "2021-08-23T09:19:29.234Z"
   },
   {
    "duration": 27,
    "start_time": "2021-08-23T09:19:29.287Z"
   },
   {
    "duration": 73,
    "start_time": "2021-08-23T09:19:29.316Z"
   },
   {
    "duration": 39,
    "start_time": "2021-08-23T09:19:29.391Z"
   },
   {
    "duration": 59,
    "start_time": "2021-08-23T09:19:29.433Z"
   },
   {
    "duration": 47,
    "start_time": "2021-08-23T09:19:29.494Z"
   },
   {
    "duration": 64,
    "start_time": "2021-08-23T09:19:29.543Z"
   },
   {
    "duration": 64,
    "start_time": "2021-08-23T09:19:29.610Z"
   },
   {
    "duration": 21,
    "start_time": "2021-08-23T09:19:29.676Z"
   },
   {
    "duration": 21,
    "start_time": "2021-08-23T09:19:29.700Z"
   },
   {
    "duration": 54,
    "start_time": "2021-08-23T09:19:29.724Z"
   },
   {
    "duration": 36,
    "start_time": "2021-08-23T09:19:29.780Z"
   },
   {
    "duration": 62,
    "start_time": "2021-08-23T09:19:29.819Z"
   },
   {
    "duration": 37,
    "start_time": "2021-08-23T09:19:29.884Z"
   },
   {
    "duration": 62,
    "start_time": "2021-08-23T09:19:29.924Z"
   },
   {
    "duration": 40,
    "start_time": "2021-08-23T09:19:29.989Z"
   },
   {
    "duration": 68,
    "start_time": "2021-08-23T09:19:30.031Z"
   },
   {
    "duration": 24,
    "start_time": "2021-08-23T09:19:30.101Z"
   },
   {
    "duration": 52,
    "start_time": "2021-08-23T09:19:30.128Z"
   },
   {
    "duration": 24,
    "start_time": "2021-08-23T09:19:30.182Z"
   },
   {
    "duration": 60,
    "start_time": "2021-08-23T09:19:30.209Z"
   },
   {
    "duration": 35,
    "start_time": "2021-08-23T09:19:30.271Z"
   },
   {
    "duration": 56,
    "start_time": "2021-08-23T09:19:30.308Z"
   },
   {
    "duration": 41,
    "start_time": "2021-08-23T09:19:30.366Z"
   },
   {
    "duration": 66,
    "start_time": "2021-08-23T09:19:30.410Z"
   },
   {
    "duration": 43,
    "start_time": "2021-08-23T09:19:30.478Z"
   },
   {
    "duration": 47,
    "start_time": "2021-08-23T09:19:30.524Z"
   },
   {
    "duration": 23,
    "start_time": "2021-08-23T09:19:30.574Z"
   },
   {
    "duration": 23,
    "start_time": "2021-08-23T09:19:30.599Z"
   },
   {
    "duration": 71,
    "start_time": "2021-08-23T09:19:30.624Z"
   },
   {
    "duration": 38,
    "start_time": "2021-08-23T09:19:30.697Z"
   },
   {
    "duration": 62,
    "start_time": "2021-08-23T09:19:30.737Z"
   },
   {
    "duration": 66,
    "start_time": "2021-08-23T09:19:30.801Z"
   },
   {
    "duration": 42,
    "start_time": "2021-08-23T09:19:30.869Z"
   },
   {
    "duration": 64,
    "start_time": "2021-08-23T09:19:30.914Z"
   },
   {
    "duration": 19,
    "start_time": "2021-08-23T09:19:30.981Z"
   },
   {
    "duration": 19,
    "start_time": "2021-08-23T09:19:31.002Z"
   },
   {
    "duration": 52,
    "start_time": "2021-08-23T09:19:31.024Z"
   },
   {
    "duration": 32,
    "start_time": "2021-08-23T09:19:31.079Z"
   },
   {
    "duration": 53,
    "start_time": "2021-08-23T09:19:31.114Z"
   },
   {
    "duration": 34,
    "start_time": "2021-08-23T09:19:31.169Z"
   },
   {
    "duration": 58,
    "start_time": "2021-08-23T09:19:31.206Z"
   },
   {
    "duration": 35,
    "start_time": "2021-08-23T09:19:31.271Z"
   },
   {
    "duration": 58,
    "start_time": "2021-08-23T09:19:31.308Z"
   },
   {
    "duration": 19,
    "start_time": "2021-08-23T09:19:31.368Z"
   },
   {
    "duration": 29,
    "start_time": "2021-08-23T09:19:31.390Z"
   },
   {
    "duration": 60,
    "start_time": "2021-08-23T09:19:31.421Z"
   },
   {
    "duration": 24,
    "start_time": "2021-08-23T09:19:31.483Z"
   },
   {
    "duration": 23,
    "start_time": "2021-08-23T09:19:31.510Z"
   },
   {
    "duration": 63,
    "start_time": "2021-08-23T09:19:31.536Z"
   },
   {
    "duration": 62,
    "start_time": "2021-08-23T09:19:31.601Z"
   },
   {
    "duration": 43,
    "start_time": "2021-08-23T09:19:31.666Z"
   },
   {
    "duration": 64,
    "start_time": "2021-08-23T09:19:31.711Z"
   },
   {
    "duration": 43,
    "start_time": "2021-08-23T09:19:31.777Z"
   },
   {
    "duration": 53,
    "start_time": "2021-08-23T09:19:31.822Z"
   },
   {
    "duration": 50,
    "start_time": "2021-08-23T09:19:31.877Z"
   },
   {
    "duration": 57,
    "start_time": "2021-08-23T09:19:31.930Z"
   },
   {
    "duration": 43,
    "start_time": "2021-08-23T09:19:31.989Z"
   },
   {
    "duration": 65,
    "start_time": "2021-08-23T09:19:32.034Z"
   },
   {
    "duration": 12,
    "start_time": "2021-08-23T09:21:52.261Z"
   },
   {
    "duration": 13,
    "start_time": "2021-08-23T09:22:11.445Z"
   },
   {
    "duration": 40,
    "start_time": "2021-08-23T09:23:00.633Z"
   },
   {
    "duration": 41,
    "start_time": "2021-08-23T09:24:53.166Z"
   },
   {
    "duration": 43,
    "start_time": "2021-08-23T09:26:11.195Z"
   },
   {
    "duration": 12,
    "start_time": "2021-08-23T09:28:54.533Z"
   },
   {
    "duration": 11,
    "start_time": "2021-08-23T09:29:09.511Z"
   },
   {
    "duration": 12,
    "start_time": "2021-08-23T09:30:28.655Z"
   },
   {
    "duration": 12,
    "start_time": "2021-08-23T09:31:15.059Z"
   },
   {
    "duration": 12,
    "start_time": "2021-08-23T09:31:26.117Z"
   },
   {
    "duration": 11,
    "start_time": "2021-08-23T09:31:37.801Z"
   },
   {
    "duration": 12,
    "start_time": "2021-08-23T09:32:13.961Z"
   },
   {
    "duration": 8,
    "start_time": "2021-08-23T09:33:35.558Z"
   },
   {
    "duration": 9,
    "start_time": "2021-08-23T09:35:05.704Z"
   },
   {
    "duration": 42,
    "start_time": "2021-08-23T09:36:32.170Z"
   },
   {
    "duration": 39,
    "start_time": "2021-08-23T09:36:46.130Z"
   },
   {
    "duration": 20,
    "start_time": "2021-08-23T09:36:59.445Z"
   },
   {
    "duration": 20,
    "start_time": "2021-08-23T09:37:14.124Z"
   },
   {
    "duration": 31,
    "start_time": "2021-08-23T09:37:52.483Z"
   },
   {
    "duration": 22,
    "start_time": "2021-08-23T09:39:51.244Z"
   },
   {
    "duration": 5,
    "start_time": "2021-08-23T09:43:24.765Z"
   },
   {
    "duration": 7,
    "start_time": "2021-08-23T09:43:42.260Z"
   },
   {
    "duration": 5,
    "start_time": "2021-08-23T09:44:03.074Z"
   },
   {
    "duration": 7,
    "start_time": "2021-08-23T09:44:21.512Z"
   },
   {
    "duration": 7863,
    "start_time": "2021-08-23T09:45:13.873Z"
   },
   {
    "duration": 87,
    "start_time": "2021-08-23T09:45:41.668Z"
   },
   {
    "duration": 8012,
    "start_time": "2021-08-23T09:45:53.966Z"
   },
   {
    "duration": 21,
    "start_time": "2021-08-23T09:46:28.668Z"
   },
   {
    "duration": 23,
    "start_time": "2021-08-23T09:46:42.805Z"
   },
   {
    "duration": 311,
    "start_time": "2021-08-23T09:47:01.366Z"
   },
   {
    "duration": 285,
    "start_time": "2021-08-23T09:47:07.687Z"
   },
   {
    "duration": 6,
    "start_time": "2021-08-23T09:47:13.406Z"
   },
   {
    "duration": 22,
    "start_time": "2021-08-23T09:47:26.090Z"
   },
   {
    "duration": 93,
    "start_time": "2021-08-23T09:48:22.523Z"
   },
   {
    "duration": 328,
    "start_time": "2021-08-23T09:48:44.057Z"
   },
   {
    "duration": 428,
    "start_time": "2021-08-23T09:48:49.652Z"
   },
   {
    "duration": 277,
    "start_time": "2021-08-23T09:48:56.726Z"
   },
   {
    "duration": 301,
    "start_time": "2021-08-23T09:49:00.563Z"
   },
   {
    "duration": 29,
    "start_time": "2021-08-23T09:49:04.213Z"
   },
   {
    "duration": 31,
    "start_time": "2021-08-23T09:49:08.626Z"
   },
   {
    "duration": 121,
    "start_time": "2021-08-23T09:51:25.028Z"
   },
   {
    "duration": 9,
    "start_time": "2021-08-23T10:01:22.120Z"
   },
   {
    "duration": 10,
    "start_time": "2021-08-23T10:01:34.740Z"
   },
   {
    "duration": 12,
    "start_time": "2021-08-23T10:01:55.811Z"
   },
   {
    "duration": 8,
    "start_time": "2021-08-23T10:02:38.449Z"
   },
   {
    "duration": 6,
    "start_time": "2021-08-23T10:02:52.605Z"
   },
   {
    "duration": 22,
    "start_time": "2021-08-23T11:12:03.587Z"
   },
   {
    "duration": 21,
    "start_time": "2021-08-23T11:14:34.511Z"
   },
   {
    "duration": 6,
    "start_time": "2021-08-23T11:21:24.669Z"
   },
   {
    "duration": 7,
    "start_time": "2021-08-23T11:22:06.206Z"
   },
   {
    "duration": 95,
    "start_time": "2021-08-23T11:26:29.127Z"
   },
   {
    "duration": 286,
    "start_time": "2021-08-23T11:26:35.263Z"
   },
   {
    "duration": 88,
    "start_time": "2021-08-23T11:27:07.496Z"
   },
   {
    "duration": 299,
    "start_time": "2021-08-23T11:27:19.519Z"
   },
   {
    "duration": 365,
    "start_time": "2021-08-23T11:27:59.927Z"
   },
   {
    "duration": 596,
    "start_time": "2021-08-23T11:28:15.226Z"
   },
   {
    "duration": 90,
    "start_time": "2021-08-23T11:28:26.225Z"
   },
   {
    "duration": 294,
    "start_time": "2021-08-23T11:28:32.950Z"
   },
   {
    "duration": 372,
    "start_time": "2021-08-23T11:28:53.279Z"
   },
   {
    "duration": 302,
    "start_time": "2021-08-23T11:30:46.250Z"
   },
   {
    "duration": 251,
    "start_time": "2021-08-23T11:30:56.786Z"
   },
   {
    "duration": 781,
    "start_time": "2021-08-23T11:32:02.826Z"
   },
   {
    "duration": 95,
    "start_time": "2021-08-23T11:32:35.456Z"
   },
   {
    "duration": 112,
    "start_time": "2021-08-23T11:32:43.722Z"
   },
   {
    "duration": 99,
    "start_time": "2021-08-23T11:32:51.837Z"
   },
   {
    "duration": 319,
    "start_time": "2021-08-23T11:33:01.926Z"
   },
   {
    "duration": 496,
    "start_time": "2021-08-23T11:33:14.577Z"
   },
   {
    "duration": 3794,
    "start_time": "2021-08-23T11:35:04.555Z"
   },
   {
    "duration": 97,
    "start_time": "2021-08-23T11:35:51.451Z"
   },
   {
    "duration": 326,
    "start_time": "2021-08-23T11:36:38.719Z"
   },
   {
    "duration": 234,
    "start_time": "2021-08-23T11:36:49.401Z"
   },
   {
    "duration": 4142,
    "start_time": "2021-08-23T11:42:46.452Z"
   },
   {
    "duration": 80,
    "start_time": "2021-08-23T11:44:09.563Z"
   },
   {
    "duration": 2670,
    "start_time": "2021-08-23T11:44:19.823Z"
   },
   {
    "duration": 473,
    "start_time": "2021-08-23T11:49:35.364Z"
   },
   {
    "duration": 318,
    "start_time": "2021-08-23T12:55:22.032Z"
   },
   {
    "duration": 3018,
    "start_time": "2021-08-23T12:55:27.968Z"
   },
   {
    "duration": 7204,
    "start_time": "2021-08-23T12:57:39.151Z"
   },
   {
    "duration": 7054,
    "start_time": "2021-08-23T12:58:09.641Z"
   },
   {
    "duration": 9619,
    "start_time": "2021-08-23T12:58:47.836Z"
   },
   {
    "duration": 360,
    "start_time": "2021-08-23T12:59:10.769Z"
   },
   {
    "duration": 90,
    "start_time": "2021-08-23T12:59:23.055Z"
   },
   {
    "duration": 198,
    "start_time": "2021-08-23T13:07:27.653Z"
   },
   {
    "duration": 192,
    "start_time": "2021-08-23T13:07:37.223Z"
   },
   {
    "duration": 198,
    "start_time": "2021-08-23T13:07:53.535Z"
   },
   {
    "duration": 459,
    "start_time": "2021-08-23T13:09:29.462Z"
   },
   {
    "duration": 1789,
    "start_time": "2021-08-23T13:09:48.671Z"
   },
   {
    "duration": 621,
    "start_time": "2021-08-23T13:09:59.585Z"
   },
   {
    "duration": 425,
    "start_time": "2021-08-23T13:10:07.371Z"
   },
   {
    "duration": 294,
    "start_time": "2021-08-23T13:12:14.666Z"
   },
   {
    "duration": 563,
    "start_time": "2021-08-23T13:12:43.013Z"
   },
   {
    "duration": 5,
    "start_time": "2021-08-23T13:13:00.027Z"
   },
   {
    "duration": 311,
    "start_time": "2021-08-23T13:13:19.552Z"
   },
   {
    "duration": 248,
    "start_time": "2021-08-23T13:13:29.183Z"
   },
   {
    "duration": 6,
    "start_time": "2021-08-23T13:13:37.589Z"
   },
   {
    "duration": 286,
    "start_time": "2021-08-23T13:14:16.589Z"
   },
   {
    "duration": 281,
    "start_time": "2021-08-23T13:14:38.514Z"
   },
   {
    "duration": 6,
    "start_time": "2021-08-23T13:14:44.010Z"
   },
   {
    "duration": 3020,
    "start_time": "2021-08-23T13:17:33.680Z"
   },
   {
    "duration": 403,
    "start_time": "2021-08-23T13:19:12.409Z"
   },
   {
    "duration": 599,
    "start_time": "2021-08-23T13:20:05.732Z"
   },
   {
    "duration": 588,
    "start_time": "2021-08-23T13:20:37.449Z"
   },
   {
    "duration": 557,
    "start_time": "2021-08-23T13:20:54.316Z"
   },
   {
    "duration": 649,
    "start_time": "2021-08-23T13:21:09.534Z"
   },
   {
    "duration": 4110,
    "start_time": "2021-08-23T13:21:28.643Z"
   },
   {
    "duration": 8634,
    "start_time": "2021-08-23T13:22:34.819Z"
   },
   {
    "duration": 89,
    "start_time": "2021-08-23T13:22:59.242Z"
   },
   {
    "duration": 7945,
    "start_time": "2021-08-23T13:23:13.689Z"
   },
   {
    "duration": 447,
    "start_time": "2021-08-23T13:23:36.673Z"
   },
   {
    "duration": 103,
    "start_time": "2021-08-23T13:23:42.430Z"
   },
   {
    "duration": 330,
    "start_time": "2021-08-23T13:23:59.619Z"
   },
   {
    "duration": 90,
    "start_time": "2021-08-23T13:24:06.305Z"
   },
   {
    "duration": 404,
    "start_time": "2021-08-23T13:26:20.358Z"
   },
   {
    "duration": 3169,
    "start_time": "2021-08-23T13:26:28.739Z"
   },
   {
    "duration": 25,
    "start_time": "2021-08-23T13:26:31.911Z"
   },
   {
    "duration": 41,
    "start_time": "2021-08-23T13:26:31.940Z"
   },
   {
    "duration": 14,
    "start_time": "2021-08-23T13:26:31.984Z"
   },
   {
    "duration": 67,
    "start_time": "2021-08-23T13:26:32.001Z"
   },
   {
    "duration": 78,
    "start_time": "2021-08-23T13:26:32.070Z"
   },
   {
    "duration": 87,
    "start_time": "2021-08-23T13:26:32.162Z"
   },
   {
    "duration": 126,
    "start_time": "2021-08-23T13:26:32.263Z"
   },
   {
    "duration": 20,
    "start_time": "2021-08-23T13:26:32.392Z"
   },
   {
    "duration": 9,
    "start_time": "2021-08-23T13:26:32.415Z"
   },
   {
    "duration": 67,
    "start_time": "2021-08-23T13:26:32.426Z"
   },
   {
    "duration": 41,
    "start_time": "2021-08-23T13:26:32.495Z"
   },
   {
    "duration": 352,
    "start_time": "2021-08-23T13:26:32.539Z"
   },
   {
    "duration": 46,
    "start_time": "2021-08-23T13:26:32.894Z"
   },
   {
    "duration": 23,
    "start_time": "2021-08-23T13:26:32.943Z"
   },
   {
    "duration": 49,
    "start_time": "2021-08-23T13:26:32.968Z"
   },
   {
    "duration": 43,
    "start_time": "2021-08-23T13:26:33.020Z"
   },
   {
    "duration": 62,
    "start_time": "2021-08-23T13:26:33.066Z"
   },
   {
    "duration": 84,
    "start_time": "2021-08-23T13:26:33.131Z"
   },
   {
    "duration": 122,
    "start_time": "2021-08-23T13:26:33.217Z"
   },
   {
    "duration": 35,
    "start_time": "2021-08-23T13:26:33.342Z"
   },
   {
    "duration": 6,
    "start_time": "2021-08-23T13:26:33.379Z"
   },
   {
    "duration": 46,
    "start_time": "2021-08-23T13:26:33.390Z"
   },
   {
    "duration": 54,
    "start_time": "2021-08-23T13:26:33.439Z"
   },
   {
    "duration": 27,
    "start_time": "2021-08-23T13:26:33.495Z"
   },
   {
    "duration": 51,
    "start_time": "2021-08-23T13:26:33.525Z"
   },
   {
    "duration": 29,
    "start_time": "2021-08-23T13:26:33.578Z"
   },
   {
    "duration": 62,
    "start_time": "2021-08-23T13:26:33.609Z"
   },
   {
    "duration": 40,
    "start_time": "2021-08-23T13:26:33.674Z"
   },
   {
    "duration": 72,
    "start_time": "2021-08-23T13:26:33.716Z"
   },
   {
    "duration": 53,
    "start_time": "2021-08-23T13:26:33.791Z"
   },
   {
    "duration": 67,
    "start_time": "2021-08-23T13:26:33.862Z"
   },
   {
    "duration": 97,
    "start_time": "2021-08-23T13:26:33.932Z"
   },
   {
    "duration": 40,
    "start_time": "2021-08-23T13:26:34.031Z"
   },
   {
    "duration": 26,
    "start_time": "2021-08-23T13:26:34.073Z"
   },
   {
    "duration": 26,
    "start_time": "2021-08-23T13:26:34.101Z"
   },
   {
    "duration": 67,
    "start_time": "2021-08-23T13:26:34.130Z"
   },
   {
    "duration": 38,
    "start_time": "2021-08-23T13:26:34.199Z"
   },
   {
    "duration": 59,
    "start_time": "2021-08-23T13:26:34.239Z"
   },
   {
    "duration": 62,
    "start_time": "2021-08-23T13:26:34.301Z"
   },
   {
    "duration": 45,
    "start_time": "2021-08-23T13:26:34.365Z"
   },
   {
    "duration": 67,
    "start_time": "2021-08-23T13:26:34.412Z"
   },
   {
    "duration": 27,
    "start_time": "2021-08-23T13:26:34.482Z"
   },
   {
    "duration": 49,
    "start_time": "2021-08-23T13:26:34.512Z"
   },
   {
    "duration": 30,
    "start_time": "2021-08-23T13:26:34.564Z"
   },
   {
    "duration": 67,
    "start_time": "2021-08-23T13:26:34.597Z"
   },
   {
    "duration": 42,
    "start_time": "2021-08-23T13:26:34.666Z"
   },
   {
    "duration": 67,
    "start_time": "2021-08-23T13:26:34.710Z"
   },
   {
    "duration": 49,
    "start_time": "2021-08-23T13:26:34.780Z"
   },
   {
    "duration": 68,
    "start_time": "2021-08-23T13:26:34.831Z"
   },
   {
    "duration": 62,
    "start_time": "2021-08-23T13:26:34.902Z"
   },
   {
    "duration": 24,
    "start_time": "2021-08-23T13:26:34.967Z"
   },
   {
    "duration": 21,
    "start_time": "2021-08-23T13:26:34.993Z"
   },
   {
    "duration": 55,
    "start_time": "2021-08-23T13:26:35.016Z"
   },
   {
    "duration": 35,
    "start_time": "2021-08-23T13:26:35.073Z"
   },
   {
    "duration": 63,
    "start_time": "2021-08-23T13:26:35.110Z"
   },
   {
    "duration": 37,
    "start_time": "2021-08-23T13:26:35.176Z"
   },
   {
    "duration": 62,
    "start_time": "2021-08-23T13:26:35.215Z"
   },
   {
    "duration": 38,
    "start_time": "2021-08-23T13:26:35.279Z"
   },
   {
    "duration": 56,
    "start_time": "2021-08-23T13:26:35.320Z"
   },
   {
    "duration": 19,
    "start_time": "2021-08-23T13:26:35.378Z"
   },
   {
    "duration": 21,
    "start_time": "2021-08-23T13:26:35.400Z"
   },
   {
    "duration": 53,
    "start_time": "2021-08-23T13:26:35.424Z"
   },
   {
    "duration": 35,
    "start_time": "2021-08-23T13:26:35.480Z"
   },
   {
    "duration": 68,
    "start_time": "2021-08-23T13:26:35.518Z"
   },
   {
    "duration": 34,
    "start_time": "2021-08-23T13:26:35.589Z"
   },
   {
    "duration": 57,
    "start_time": "2021-08-23T13:26:35.626Z"
   },
   {
    "duration": 33,
    "start_time": "2021-08-23T13:26:35.691Z"
   },
   {
    "duration": 58,
    "start_time": "2021-08-23T13:26:35.727Z"
   },
   {
    "duration": 26,
    "start_time": "2021-08-23T13:26:35.788Z"
   },
   {
    "duration": 58,
    "start_time": "2021-08-23T13:26:35.817Z"
   },
   {
    "duration": 29,
    "start_time": "2021-08-23T13:26:35.878Z"
   },
   {
    "duration": 64,
    "start_time": "2021-08-23T13:26:35.910Z"
   },
   {
    "duration": 30,
    "start_time": "2021-08-23T13:26:35.977Z"
   },
   {
    "duration": 61,
    "start_time": "2021-08-23T13:26:36.009Z"
   },
   {
    "duration": 47,
    "start_time": "2021-08-23T13:26:36.073Z"
   },
   {
    "duration": 71,
    "start_time": "2021-08-23T13:26:36.123Z"
   },
   {
    "duration": 46,
    "start_time": "2021-08-23T13:26:36.196Z"
   },
   {
    "duration": 54,
    "start_time": "2021-08-23T13:26:36.244Z"
   },
   {
    "duration": 62,
    "start_time": "2021-08-23T13:26:36.301Z"
   },
   {
    "duration": 54,
    "start_time": "2021-08-23T13:26:36.365Z"
   },
   {
    "duration": 66,
    "start_time": "2021-08-23T13:26:36.422Z"
   },
   {
    "duration": 48,
    "start_time": "2021-08-23T13:26:36.490Z"
   },
   {
    "duration": 52,
    "start_time": "2021-08-23T13:26:36.540Z"
   },
   {
    "duration": 100,
    "start_time": "2021-08-23T13:31:40.400Z"
   },
   {
    "duration": 1345,
    "start_time": "2021-08-23T13:33:00.157Z"
   },
   {
    "duration": 257,
    "start_time": "2021-08-23T13:33:26.880Z"
   },
   {
    "duration": 271,
    "start_time": "2021-08-23T13:33:43.874Z"
   },
   {
    "duration": 226,
    "start_time": "2021-08-23T13:33:48.127Z"
   },
   {
    "duration": 81,
    "start_time": "2021-08-23T13:34:18.626Z"
   },
   {
    "duration": 35,
    "start_time": "2021-08-23T14:39:38.468Z"
   },
   {
    "duration": 31,
    "start_time": "2021-08-23T14:39:49.259Z"
   },
   {
    "duration": 65,
    "start_time": "2021-08-23T14:40:01.817Z"
   },
   {
    "duration": 582,
    "start_time": "2021-08-23T14:41:27.978Z"
   },
   {
    "duration": 631,
    "start_time": "2021-08-23T14:41:47.160Z"
   },
   {
    "duration": 101,
    "start_time": "2021-08-23T14:45:53.390Z"
   },
   {
    "duration": 247,
    "start_time": "2021-08-23T14:45:57.862Z"
   },
   {
    "duration": 263,
    "start_time": "2021-08-23T14:46:15.579Z"
   },
   {
    "duration": 166,
    "start_time": "2021-08-23T14:48:43.185Z"
   },
   {
    "duration": 290,
    "start_time": "2021-08-23T14:49:27.088Z"
   },
   {
    "duration": 31,
    "start_time": "2021-08-23T14:51:51.558Z"
   },
   {
    "duration": 102,
    "start_time": "2021-08-23T14:56:11.961Z"
   },
   {
    "duration": 6,
    "start_time": "2021-08-23T14:56:17.550Z"
   },
   {
    "duration": 1230,
    "start_time": "2021-08-23T15:08:46.555Z"
   },
   {
    "duration": 18,
    "start_time": "2021-08-23T15:08:47.787Z"
   },
   {
    "duration": 15,
    "start_time": "2021-08-23T15:08:47.806Z"
   },
   {
    "duration": 32,
    "start_time": "2021-08-23T15:08:47.823Z"
   },
   {
    "duration": 39,
    "start_time": "2021-08-23T15:08:47.856Z"
   },
   {
    "duration": 48,
    "start_time": "2021-08-23T15:08:47.896Z"
   },
   {
    "duration": 51,
    "start_time": "2021-08-23T15:08:47.945Z"
   },
   {
    "duration": 86,
    "start_time": "2021-08-23T15:08:47.999Z"
   },
   {
    "duration": 23,
    "start_time": "2021-08-23T15:08:48.087Z"
   },
   {
    "duration": 12,
    "start_time": "2021-08-23T15:08:48.111Z"
   },
   {
    "duration": 36,
    "start_time": "2021-08-23T15:08:48.124Z"
   },
   {
    "duration": 29,
    "start_time": "2021-08-23T15:08:48.162Z"
   },
   {
    "duration": 215,
    "start_time": "2021-08-23T15:08:48.193Z"
   },
   {
    "duration": 33,
    "start_time": "2021-08-23T15:08:48.409Z"
   },
   {
    "duration": 4,
    "start_time": "2021-08-23T15:08:48.444Z"
   },
   {
    "duration": 45,
    "start_time": "2021-08-23T15:08:48.449Z"
   },
   {
    "duration": 29,
    "start_time": "2021-08-23T15:08:48.496Z"
   },
   {
    "duration": 59,
    "start_time": "2021-08-23T15:08:48.527Z"
   },
   {
    "duration": 47,
    "start_time": "2021-08-23T15:08:48.587Z"
   },
   {
    "duration": 57,
    "start_time": "2021-08-23T15:08:48.641Z"
   },
   {
    "duration": 425,
    "start_time": "2021-08-23T15:08:48.699Z"
   },
   {
    "duration": 20,
    "start_time": "2021-08-23T15:08:49.126Z"
   },
   {
    "duration": 21,
    "start_time": "2021-08-23T15:08:49.150Z"
   },
   {
    "duration": 43,
    "start_time": "2021-08-23T15:08:49.174Z"
   },
   {
    "duration": 23,
    "start_time": "2021-08-23T15:08:49.219Z"
   },
   {
    "duration": 27,
    "start_time": "2021-08-23T15:08:49.244Z"
   },
   {
    "duration": 26,
    "start_time": "2021-08-23T15:08:49.272Z"
   },
   {
    "duration": 19,
    "start_time": "2021-08-23T15:08:49.299Z"
   },
   {
    "duration": 41,
    "start_time": "2021-08-23T15:08:49.319Z"
   },
   {
    "duration": 29,
    "start_time": "2021-08-23T15:08:49.361Z"
   },
   {
    "duration": 33,
    "start_time": "2021-08-23T15:08:49.391Z"
   },
   {
    "duration": 16,
    "start_time": "2021-08-23T15:08:49.425Z"
   },
   {
    "duration": 65,
    "start_time": "2021-08-23T15:08:49.443Z"
   },
   {
    "duration": 34,
    "start_time": "2021-08-23T15:08:49.509Z"
   },
   {
    "duration": 16,
    "start_time": "2021-08-23T15:08:49.544Z"
   },
   {
    "duration": 18,
    "start_time": "2021-08-23T15:08:49.561Z"
   },
   {
    "duration": 17,
    "start_time": "2021-08-23T15:08:49.580Z"
   },
   {
    "duration": 25,
    "start_time": "2021-08-23T15:08:49.599Z"
   },
   {
    "duration": 25,
    "start_time": "2021-08-23T15:08:49.641Z"
   },
   {
    "duration": 29,
    "start_time": "2021-08-23T15:08:49.668Z"
   },
   {
    "duration": 43,
    "start_time": "2021-08-23T15:08:49.698Z"
   },
   {
    "duration": 27,
    "start_time": "2021-08-23T15:08:49.743Z"
   },
   {
    "duration": 26,
    "start_time": "2021-08-23T15:08:49.772Z"
   },
   {
    "duration": 14,
    "start_time": "2021-08-23T15:08:49.800Z"
   },
   {
    "duration": 36,
    "start_time": "2021-08-23T15:08:49.816Z"
   },
   {
    "duration": 16,
    "start_time": "2021-08-23T15:08:49.853Z"
   },
   {
    "duration": 26,
    "start_time": "2021-08-23T15:08:49.870Z"
   },
   {
    "duration": 44,
    "start_time": "2021-08-23T15:08:49.897Z"
   },
   {
    "duration": 27,
    "start_time": "2021-08-23T15:08:49.943Z"
   },
   {
    "duration": 29,
    "start_time": "2021-08-23T15:08:49.972Z"
   },
   {
    "duration": 61,
    "start_time": "2021-08-23T15:08:50.003Z"
   },
   {
    "duration": 29,
    "start_time": "2021-08-23T15:08:50.066Z"
   },
   {
    "duration": 17,
    "start_time": "2021-08-23T15:08:50.097Z"
   },
   {
    "duration": 38,
    "start_time": "2021-08-23T15:08:50.115Z"
   },
   {
    "duration": 17,
    "start_time": "2021-08-23T15:08:50.155Z"
   },
   {
    "duration": 36,
    "start_time": "2021-08-23T15:08:50.174Z"
   },
   {
    "duration": 44,
    "start_time": "2021-08-23T15:08:50.211Z"
   },
   {
    "duration": 27,
    "start_time": "2021-08-23T15:08:50.257Z"
   },
   {
    "duration": 31,
    "start_time": "2021-08-23T15:08:50.285Z"
   },
   {
    "duration": 48,
    "start_time": "2021-08-23T15:08:50.318Z"
   },
   {
    "duration": 32,
    "start_time": "2021-08-23T15:08:50.368Z"
   },
   {
    "duration": 14,
    "start_time": "2021-08-23T15:08:50.401Z"
   },
   {
    "duration": 36,
    "start_time": "2021-08-23T15:08:50.416Z"
   },
   {
    "duration": 29,
    "start_time": "2021-08-23T15:08:50.453Z"
   },
   {
    "duration": 33,
    "start_time": "2021-08-23T15:08:50.484Z"
   },
   {
    "duration": 23,
    "start_time": "2021-08-23T15:08:50.518Z"
   },
   {
    "duration": 23,
    "start_time": "2021-08-23T15:08:50.543Z"
   },
   {
    "duration": 23,
    "start_time": "2021-08-23T15:08:50.571Z"
   },
   {
    "duration": 23,
    "start_time": "2021-08-23T15:08:50.596Z"
   },
   {
    "duration": 23,
    "start_time": "2021-08-23T15:08:50.641Z"
   },
   {
    "duration": 13,
    "start_time": "2021-08-23T15:08:50.666Z"
   },
   {
    "duration": 37,
    "start_time": "2021-08-23T15:08:50.681Z"
   },
   {
    "duration": 32,
    "start_time": "2021-08-23T15:08:50.720Z"
   },
   {
    "duration": 16,
    "start_time": "2021-08-23T15:08:50.754Z"
   },
   {
    "duration": 29,
    "start_time": "2021-08-23T15:08:50.772Z"
   },
   {
    "duration": 28,
    "start_time": "2021-08-23T15:08:50.802Z"
   },
   {
    "duration": 33,
    "start_time": "2021-08-23T15:08:50.841Z"
   },
   {
    "duration": 28,
    "start_time": "2021-08-23T15:08:50.876Z"
   },
   {
    "duration": 50,
    "start_time": "2021-08-23T15:08:50.906Z"
   },
   {
    "duration": 31,
    "start_time": "2021-08-23T15:08:50.958Z"
   },
   {
    "duration": 23,
    "start_time": "2021-08-23T15:08:50.990Z"
   },
   {
    "duration": 59,
    "start_time": "2021-08-23T15:08:51.015Z"
   },
   {
    "duration": 28,
    "start_time": "2021-08-23T15:08:51.076Z"
   },
   {
    "duration": 45,
    "start_time": "2021-08-23T15:08:51.106Z"
   },
   {
    "duration": 31,
    "start_time": "2021-08-23T15:08:51.153Z"
   },
   {
    "duration": 474,
    "start_time": "2021-08-23T18:30:55.600Z"
   },
   {
    "duration": 1675,
    "start_time": "2021-08-23T18:31:32.946Z"
   },
   {
    "duration": 1772,
    "start_time": "2021-08-23T18:31:44.624Z"
   },
   {
    "duration": 28,
    "start_time": "2021-08-23T18:31:46.399Z"
   },
   {
    "duration": 44,
    "start_time": "2021-08-23T18:31:46.430Z"
   },
   {
    "duration": 15,
    "start_time": "2021-08-23T18:31:46.477Z"
   },
   {
    "duration": 74,
    "start_time": "2021-08-23T18:31:46.495Z"
   },
   {
    "duration": 97,
    "start_time": "2021-08-23T18:31:46.572Z"
   },
   {
    "duration": 95,
    "start_time": "2021-08-23T18:31:46.672Z"
   },
   {
    "duration": 138,
    "start_time": "2021-08-23T18:31:46.771Z"
   },
   {
    "duration": 21,
    "start_time": "2021-08-23T18:31:46.911Z"
   },
   {
    "duration": 32,
    "start_time": "2021-08-23T18:31:46.935Z"
   },
   {
    "duration": 37,
    "start_time": "2021-08-23T18:31:46.970Z"
   },
   {
    "duration": 72,
    "start_time": "2021-08-23T18:31:47.009Z"
   },
   {
    "duration": 356,
    "start_time": "2021-08-23T18:31:47.084Z"
   },
   {
    "duration": 49,
    "start_time": "2021-08-23T18:31:47.442Z"
   },
   {
    "duration": 6,
    "start_time": "2021-08-23T18:31:47.494Z"
   },
   {
    "duration": 59,
    "start_time": "2021-08-23T18:31:47.502Z"
   },
   {
    "duration": 33,
    "start_time": "2021-08-23T18:31:47.564Z"
   },
   {
    "duration": 84,
    "start_time": "2021-08-23T18:31:47.599Z"
   },
   {
    "duration": 82,
    "start_time": "2021-08-23T18:31:47.685Z"
   },
   {
    "duration": 103,
    "start_time": "2021-08-23T18:31:47.770Z"
   },
   {
    "duration": 689,
    "start_time": "2021-08-23T18:31:47.876Z"
   },
   {
    "duration": 22,
    "start_time": "2021-08-23T18:31:48.568Z"
   },
   {
    "duration": 5,
    "start_time": "2021-08-23T18:31:48.598Z"
   },
   {
    "duration": 84,
    "start_time": "2021-08-23T18:31:48.609Z"
   },
   {
    "duration": 594,
    "start_time": "2021-08-23T18:31:48.696Z"
   },
   {
    "duration": -6964,
    "start_time": "2021-08-23T18:31:56.258Z"
   },
   {
    "duration": -7050,
    "start_time": "2021-08-23T18:31:56.345Z"
   },
   {
    "duration": -7158,
    "start_time": "2021-08-23T18:31:56.454Z"
   },
   {
    "duration": -7244,
    "start_time": "2021-08-23T18:31:56.546Z"
   },
   {
    "duration": -7261,
    "start_time": "2021-08-23T18:31:56.564Z"
   },
   {
    "duration": -7277,
    "start_time": "2021-08-23T18:31:56.581Z"
   },
   {
    "duration": -7292,
    "start_time": "2021-08-23T18:31:56.598Z"
   },
   {
    "duration": -7310,
    "start_time": "2021-08-23T18:31:56.617Z"
   },
   {
    "duration": -7330,
    "start_time": "2021-08-23T18:31:56.639Z"
   },
   {
    "duration": -7402,
    "start_time": "2021-08-23T18:31:56.712Z"
   },
   {
    "duration": -7435,
    "start_time": "2021-08-23T18:31:56.746Z"
   },
   {
    "duration": -7466,
    "start_time": "2021-08-23T18:31:56.778Z"
   },
   {
    "duration": -7537,
    "start_time": "2021-08-23T18:31:56.851Z"
   },
   {
    "duration": -7600,
    "start_time": "2021-08-23T18:31:56.915Z"
   },
   {
    "duration": -7673,
    "start_time": "2021-08-23T18:31:56.990Z"
   },
   {
    "duration": -7736,
    "start_time": "2021-08-23T18:31:57.054Z"
   },
   {
    "duration": -8185,
    "start_time": "2021-08-23T18:31:57.505Z"
   },
   {
    "duration": -8239,
    "start_time": "2021-08-23T18:31:57.560Z"
   },
   {
    "duration": -8278,
    "start_time": "2021-08-23T18:31:57.601Z"
   },
   {
    "duration": -8322,
    "start_time": "2021-08-23T18:31:57.646Z"
   },
   {
    "duration": -8377,
    "start_time": "2021-08-23T18:31:57.703Z"
   },
   {
    "duration": -8509,
    "start_time": "2021-08-23T18:31:57.836Z"
   },
   {
    "duration": -8603,
    "start_time": "2021-08-23T18:31:57.932Z"
   },
   {
    "duration": -8673,
    "start_time": "2021-08-23T18:31:58.003Z"
   },
   {
    "duration": -8738,
    "start_time": "2021-08-23T18:31:58.070Z"
   },
   {
    "duration": -8753,
    "start_time": "2021-08-23T18:31:58.086Z"
   },
   {
    "duration": -8749,
    "start_time": "2021-08-23T18:31:58.104Z"
   },
   {
    "duration": -8764,
    "start_time": "2021-08-23T18:31:58.121Z"
   },
   {
    "duration": -8780,
    "start_time": "2021-08-23T18:31:58.138Z"
   },
   {
    "duration": -8795,
    "start_time": "2021-08-23T18:31:58.155Z"
   },
   {
    "duration": -8830,
    "start_time": "2021-08-23T18:31:58.192Z"
   },
   {
    "duration": -8850,
    "start_time": "2021-08-23T18:31:58.213Z"
   },
   {
    "duration": -8874,
    "start_time": "2021-08-23T18:31:58.239Z"
   },
   {
    "duration": -8900,
    "start_time": "2021-08-23T18:31:58.267Z"
   },
   {
    "duration": -8935,
    "start_time": "2021-08-23T18:31:58.303Z"
   },
   {
    "duration": -9005,
    "start_time": "2021-08-23T18:31:58.374Z"
   },
   {
    "duration": -9097,
    "start_time": "2021-08-23T18:31:58.467Z"
   },
   {
    "duration": -9187,
    "start_time": "2021-08-23T18:31:58.559Z"
   },
   {
    "duration": -9260,
    "start_time": "2021-08-23T18:31:58.634Z"
   },
   {
    "duration": -9282,
    "start_time": "2021-08-23T18:31:58.657Z"
   },
   {
    "duration": -9298,
    "start_time": "2021-08-23T18:31:58.675Z"
   },
   {
    "duration": -9312,
    "start_time": "2021-08-23T18:31:58.691Z"
   },
   {
    "duration": -9328,
    "start_time": "2021-08-23T18:31:58.708Z"
   },
   {
    "duration": -9344,
    "start_time": "2021-08-23T18:31:58.726Z"
   },
   {
    "duration": -9384,
    "start_time": "2021-08-23T18:31:58.770Z"
   },
   {
    "duration": -9399,
    "start_time": "2021-08-23T18:31:58.786Z"
   },
   {
    "duration": -9416,
    "start_time": "2021-08-23T18:31:58.805Z"
   },
   {
    "duration": -9614,
    "start_time": "2021-08-23T18:31:59.004Z"
   },
   {
    "duration": -9665,
    "start_time": "2021-08-23T18:31:59.056Z"
   },
   {
    "duration": -9681,
    "start_time": "2021-08-23T18:31:59.073Z"
   },
   {
    "duration": -9727,
    "start_time": "2021-08-23T18:31:59.120Z"
   },
   {
    "duration": -9751,
    "start_time": "2021-08-23T18:31:59.145Z"
   },
   {
    "duration": -9779,
    "start_time": "2021-08-23T18:31:59.174Z"
   },
   {
    "duration": -9800,
    "start_time": "2021-08-23T18:31:59.196Z"
   },
   {
    "duration": -9785,
    "start_time": "2021-08-23T18:31:59.242Z"
   },
   {
    "duration": -9811,
    "start_time": "2021-08-23T18:31:59.270Z"
   },
   {
    "duration": -9844,
    "start_time": "2021-08-23T18:31:59.307Z"
   },
   {
    "duration": -9961,
    "start_time": "2021-08-23T18:31:59.425Z"
   },
   {
    "duration": -10063,
    "start_time": "2021-08-23T18:31:59.529Z"
   },
   {
    "duration": -10136,
    "start_time": "2021-08-23T18:31:59.603Z"
   },
   {
    "duration": 1870,
    "start_time": "2021-08-23T18:32:54.340Z"
   },
   {
    "duration": 45,
    "start_time": "2021-08-23T18:32:56.212Z"
   },
   {
    "duration": 23,
    "start_time": "2021-08-23T18:32:56.260Z"
   },
   {
    "duration": 15,
    "start_time": "2021-08-23T18:32:56.286Z"
   },
   {
    "duration": 73,
    "start_time": "2021-08-23T18:32:56.303Z"
   },
   {
    "duration": 95,
    "start_time": "2021-08-23T18:32:56.378Z"
   },
   {
    "duration": 96,
    "start_time": "2021-08-23T18:32:56.475Z"
   },
   {
    "duration": 142,
    "start_time": "2021-08-23T18:32:56.575Z"
   },
   {
    "duration": 38,
    "start_time": "2021-08-23T18:32:56.720Z"
   },
   {
    "duration": 9,
    "start_time": "2021-08-23T18:32:56.760Z"
   },
   {
    "duration": 44,
    "start_time": "2021-08-23T18:32:56.772Z"
   },
   {
    "duration": 62,
    "start_time": "2021-08-23T18:32:56.819Z"
   },
   {
    "duration": 334,
    "start_time": "2021-08-23T18:32:56.884Z"
   },
   {
    "duration": 52,
    "start_time": "2021-08-23T18:32:57.220Z"
   },
   {
    "duration": 6,
    "start_time": "2021-08-23T18:32:57.274Z"
   },
   {
    "duration": 49,
    "start_time": "2021-08-23T18:32:57.282Z"
   },
   {
    "duration": 45,
    "start_time": "2021-08-23T18:32:57.334Z"
   },
   {
    "duration": 84,
    "start_time": "2021-08-23T18:32:57.382Z"
   },
   {
    "duration": 68,
    "start_time": "2021-08-23T18:32:57.468Z"
   },
   {
    "duration": 97,
    "start_time": "2021-08-23T18:32:57.538Z"
   },
   {
    "duration": 770,
    "start_time": "2021-08-23T18:32:57.638Z"
   },
   {
    "duration": 21,
    "start_time": "2021-08-23T18:32:58.411Z"
   },
   {
    "duration": 5,
    "start_time": "2021-08-23T18:32:58.456Z"
   },
   {
    "duration": 60,
    "start_time": "2021-08-23T18:32:58.465Z"
   },
   {
    "duration": 710,
    "start_time": "2021-08-23T18:32:58.527Z"
   },
   {
    "duration": -7269,
    "start_time": "2021-08-23T18:33:06.511Z"
   },
   {
    "duration": -7369,
    "start_time": "2021-08-23T18:33:06.613Z"
   },
   {
    "duration": -7438,
    "start_time": "2021-08-23T18:33:06.684Z"
   },
   {
    "duration": -7509,
    "start_time": "2021-08-23T18:33:06.757Z"
   },
   {
    "duration": -7578,
    "start_time": "2021-08-23T18:33:06.828Z"
   },
   {
    "duration": -7659,
    "start_time": "2021-08-23T18:33:06.911Z"
   },
   {
    "duration": -7731,
    "start_time": "2021-08-23T18:33:06.985Z"
   },
   {
    "duration": -7800,
    "start_time": "2021-08-23T18:33:07.057Z"
   },
   {
    "duration": -7864,
    "start_time": "2021-08-23T18:33:07.123Z"
   },
   {
    "duration": -7903,
    "start_time": "2021-08-23T18:33:07.164Z"
   },
   {
    "duration": -7919,
    "start_time": "2021-08-23T18:33:07.183Z"
   },
   {
    "duration": -8011,
    "start_time": "2021-08-23T18:33:07.278Z"
   },
   {
    "duration": -8086,
    "start_time": "2021-08-23T18:33:07.355Z"
   },
   {
    "duration": -8157,
    "start_time": "2021-08-23T18:33:07.428Z"
   },
   {
    "duration": -8225,
    "start_time": "2021-08-23T18:33:07.499Z"
   },
   {
    "duration": -8292,
    "start_time": "2021-08-23T18:33:07.568Z"
   },
   {
    "duration": -8418,
    "start_time": "2021-08-23T18:33:07.696Z"
   },
   {
    "duration": -8480,
    "start_time": "2021-08-23T18:33:07.760Z"
   },
   {
    "duration": -8497,
    "start_time": "2021-08-23T18:33:07.780Z"
   },
   {
    "duration": -9362,
    "start_time": "2021-08-23T18:33:08.647Z"
   },
   {
    "duration": -9438,
    "start_time": "2021-08-23T18:33:08.725Z"
   },
   {
    "duration": -9532,
    "start_time": "2021-08-23T18:33:08.821Z"
   },
   {
    "duration": -9604,
    "start_time": "2021-08-23T18:33:08.895Z"
   },
   {
    "duration": -9612,
    "start_time": "2021-08-23T18:33:08.965Z"
   },
   {
    "duration": -9682,
    "start_time": "2021-08-23T18:33:09.038Z"
   },
   {
    "duration": -9747,
    "start_time": "2021-08-23T18:33:09.106Z"
   },
   {
    "duration": -9763,
    "start_time": "2021-08-23T18:33:09.124Z"
   },
   {
    "duration": -9776,
    "start_time": "2021-08-23T18:33:09.140Z"
   },
   {
    "duration": -9792,
    "start_time": "2021-08-23T18:33:09.158Z"
   },
   {
    "duration": -9806,
    "start_time": "2021-08-23T18:33:09.174Z"
   },
   {
    "duration": -9821,
    "start_time": "2021-08-23T18:33:09.192Z"
   },
   {
    "duration": -9855,
    "start_time": "2021-08-23T18:33:09.228Z"
   },
   {
    "duration": -9876,
    "start_time": "2021-08-23T18:33:09.251Z"
   },
   {
    "duration": -9898,
    "start_time": "2021-08-23T18:33:09.275Z"
   },
   {
    "duration": -9920,
    "start_time": "2021-08-23T18:33:09.300Z"
   },
   {
    "duration": -10006,
    "start_time": "2021-08-23T18:33:09.388Z"
   },
   {
    "duration": -10089,
    "start_time": "2021-08-23T18:33:09.473Z"
   },
   {
    "duration": -10160,
    "start_time": "2021-08-23T18:33:09.547Z"
   },
   {
    "duration": -10247,
    "start_time": "2021-08-23T18:33:09.636Z"
   },
   {
    "duration": -10318,
    "start_time": "2021-08-23T18:33:09.710Z"
   },
   {
    "duration": -10390,
    "start_time": "2021-08-23T18:33:09.784Z"
   },
   {
    "duration": -10463,
    "start_time": "2021-08-23T18:33:09.859Z"
   },
   {
    "duration": -10473,
    "start_time": "2021-08-23T18:33:09.927Z"
   },
   {
    "duration": -10511,
    "start_time": "2021-08-23T18:33:09.968Z"
   },
   {
    "duration": -10527,
    "start_time": "2021-08-23T18:33:09.986Z"
   },
   {
    "duration": -10598,
    "start_time": "2021-08-23T18:33:10.059Z"
   },
   {
    "duration": -10667,
    "start_time": "2021-08-23T18:33:10.130Z"
   },
   {
    "duration": -10740,
    "start_time": "2021-08-23T18:33:10.205Z"
   },
   {
    "duration": -10808,
    "start_time": "2021-08-23T18:33:10.275Z"
   },
   {
    "duration": -10873,
    "start_time": "2021-08-23T18:33:10.342Z"
   },
   {
    "duration": -10979,
    "start_time": "2021-08-23T18:33:10.450Z"
   },
   {
    "duration": -11052,
    "start_time": "2021-08-23T18:33:10.526Z"
   },
   {
    "duration": -11124,
    "start_time": "2021-08-23T18:33:10.600Z"
   },
   {
    "duration": -11175,
    "start_time": "2021-08-23T18:33:10.653Z"
   },
   {
    "duration": -11198,
    "start_time": "2021-08-23T18:33:10.678Z"
   },
   {
    "duration": -11221,
    "start_time": "2021-08-23T18:33:10.703Z"
   },
   {
    "duration": -11244,
    "start_time": "2021-08-23T18:33:10.728Z"
   },
   {
    "duration": -11293,
    "start_time": "2021-08-23T18:33:10.779Z"
   },
   {
    "duration": -11313,
    "start_time": "2021-08-23T18:33:10.801Z"
   },
   {
    "duration": -11331,
    "start_time": "2021-08-23T18:33:10.821Z"
   },
   {
    "duration": 555,
    "start_time": "2021-08-23T19:31:11.124Z"
   },
   {
    "duration": 128,
    "start_time": "2021-08-23T19:37:08.057Z"
   },
   {
    "duration": 850,
    "start_time": "2021-08-23T19:37:13.923Z"
   },
   {
    "duration": 434,
    "start_time": "2021-08-23T19:38:03.992Z"
   },
   {
    "duration": 24,
    "start_time": "2021-08-23T19:38:50.072Z"
   },
   {
    "duration": 22,
    "start_time": "2021-08-23T19:39:02.215Z"
   },
   {
    "duration": 22,
    "start_time": "2021-08-23T19:39:20.575Z"
   },
   {
    "duration": 22,
    "start_time": "2021-08-23T19:39:28.402Z"
   },
   {
    "duration": 66,
    "start_time": "2021-08-23T20:38:21.677Z"
   },
   {
    "duration": 68,
    "start_time": "2021-08-23T20:39:23.117Z"
   },
   {
    "duration": 67,
    "start_time": "2021-08-24T10:22:14.608Z"
   },
   {
    "duration": 40,
    "start_time": "2021-08-24T10:22:58.796Z"
   },
   {
    "duration": 50,
    "start_time": "2021-08-24T10:24:31.299Z"
   },
   {
    "duration": 42,
    "start_time": "2021-08-24T10:24:39.694Z"
   },
   {
    "duration": 1933,
    "start_time": "2021-08-24T10:31:02.094Z"
   },
   {
    "duration": 40,
    "start_time": "2021-08-24T10:31:16.020Z"
   },
   {
    "duration": 40,
    "start_time": "2021-08-24T10:33:12.108Z"
   },
   {
    "duration": 41,
    "start_time": "2021-08-24T10:33:17.385Z"
   },
   {
    "duration": 721,
    "start_time": "2021-08-24T10:38:08.393Z"
   },
   {
    "duration": 458,
    "start_time": "2021-08-24T10:38:24.629Z"
   },
   {
    "duration": 450,
    "start_time": "2021-08-24T10:38:33.077Z"
   },
   {
    "duration": 43,
    "start_time": "2021-08-24T10:40:59.367Z"
   },
   {
    "duration": 39,
    "start_time": "2021-08-24T10:41:38.918Z"
   },
   {
    "duration": 48,
    "start_time": "2021-08-24T10:42:21.039Z"
   },
   {
    "duration": 43,
    "start_time": "2021-08-24T10:43:00.267Z"
   },
   {
    "duration": 64,
    "start_time": "2021-08-24T10:48:24.192Z"
   },
   {
    "duration": 2180,
    "start_time": "2021-08-24T10:48:49.781Z"
   },
   {
    "duration": 47,
    "start_time": "2021-08-24T10:49:02.808Z"
   },
   {
    "duration": 52,
    "start_time": "2021-08-24T10:49:39.103Z"
   },
   {
    "duration": 48,
    "start_time": "2021-08-24T10:50:00.086Z"
   },
   {
    "duration": 52,
    "start_time": "2021-08-24T10:50:04.221Z"
   },
   {
    "duration": 40,
    "start_time": "2021-08-24T10:50:17.526Z"
   },
   {
    "duration": 1289,
    "start_time": "2021-08-24T14:30:15.285Z"
   },
   {
    "duration": 18,
    "start_time": "2021-08-24T14:30:16.576Z"
   },
   {
    "duration": 16,
    "start_time": "2021-08-24T14:30:16.596Z"
   },
   {
    "duration": 27,
    "start_time": "2021-08-24T14:30:16.615Z"
   },
   {
    "duration": 29,
    "start_time": "2021-08-24T14:30:16.644Z"
   },
   {
    "duration": 47,
    "start_time": "2021-08-24T14:30:16.674Z"
   },
   {
    "duration": 52,
    "start_time": "2021-08-24T14:30:16.740Z"
   },
   {
    "duration": 87,
    "start_time": "2021-08-24T14:30:16.795Z"
   },
   {
    "duration": 15,
    "start_time": "2021-08-24T14:30:16.883Z"
   },
   {
    "duration": 6,
    "start_time": "2021-08-24T14:30:16.900Z"
   },
   {
    "duration": 51,
    "start_time": "2021-08-24T14:30:16.907Z"
   },
   {
    "duration": 29,
    "start_time": "2021-08-24T14:30:16.959Z"
   },
   {
    "duration": 203,
    "start_time": "2021-08-24T14:30:16.990Z"
   },
   {
    "duration": 28,
    "start_time": "2021-08-24T14:30:17.195Z"
   },
   {
    "duration": 16,
    "start_time": "2021-08-24T14:30:17.225Z"
   },
   {
    "duration": 24,
    "start_time": "2021-08-24T14:30:17.242Z"
   },
   {
    "duration": 21,
    "start_time": "2021-08-24T14:30:17.267Z"
   },
   {
    "duration": 66,
    "start_time": "2021-08-24T14:30:17.289Z"
   },
   {
    "duration": 47,
    "start_time": "2021-08-24T14:30:17.357Z"
   },
   {
    "duration": 74,
    "start_time": "2021-08-24T14:30:17.406Z"
   },
   {
    "duration": 404,
    "start_time": "2021-08-24T14:30:17.481Z"
   },
   {
    "duration": 14,
    "start_time": "2021-08-24T14:30:17.886Z"
   },
   {
    "duration": 3,
    "start_time": "2021-08-24T14:30:17.904Z"
   },
   {
    "duration": 51,
    "start_time": "2021-08-24T14:30:17.909Z"
   },
   {
    "duration": 533,
    "start_time": "2021-08-24T14:30:17.961Z"
   },
   {
    "duration": -101,
    "start_time": "2021-08-24T14:30:18.597Z"
   },
   {
    "duration": -107,
    "start_time": "2021-08-24T14:30:18.604Z"
   },
   {
    "duration": -113,
    "start_time": "2021-08-24T14:30:18.611Z"
   },
   {
    "duration": -118,
    "start_time": "2021-08-24T14:30:18.617Z"
   },
   {
    "duration": -123,
    "start_time": "2021-08-24T14:30:18.623Z"
   },
   {
    "duration": -128,
    "start_time": "2021-08-24T14:30:18.629Z"
   },
   {
    "duration": -133,
    "start_time": "2021-08-24T14:30:18.635Z"
   },
   {
    "duration": -139,
    "start_time": "2021-08-24T14:30:18.641Z"
   },
   {
    "duration": -144,
    "start_time": "2021-08-24T14:30:18.647Z"
   },
   {
    "duration": -148,
    "start_time": "2021-08-24T14:30:18.653Z"
   },
   {
    "duration": -153,
    "start_time": "2021-08-24T14:30:18.659Z"
   },
   {
    "duration": -158,
    "start_time": "2021-08-24T14:30:18.665Z"
   },
   {
    "duration": -164,
    "start_time": "2021-08-24T14:30:18.672Z"
   },
   {
    "duration": -169,
    "start_time": "2021-08-24T14:30:18.678Z"
   },
   {
    "duration": -237,
    "start_time": "2021-08-24T14:30:18.747Z"
   },
   {
    "duration": -243,
    "start_time": "2021-08-24T14:30:18.753Z"
   },
   {
    "duration": -249,
    "start_time": "2021-08-24T14:30:18.760Z"
   },
   {
    "duration": -254,
    "start_time": "2021-08-24T14:30:18.766Z"
   },
   {
    "duration": -260,
    "start_time": "2021-08-24T14:30:18.773Z"
   },
   {
    "duration": -268,
    "start_time": "2021-08-24T14:30:18.782Z"
   },
   {
    "duration": -274,
    "start_time": "2021-08-24T14:30:18.789Z"
   },
   {
    "duration": -278,
    "start_time": "2021-08-24T14:30:18.794Z"
   },
   {
    "duration": -283,
    "start_time": "2021-08-24T14:30:18.800Z"
   },
   {
    "duration": -288,
    "start_time": "2021-08-24T14:30:18.806Z"
   },
   {
    "duration": -293,
    "start_time": "2021-08-24T14:30:18.812Z"
   },
   {
    "duration": -298,
    "start_time": "2021-08-24T14:30:18.818Z"
   },
   {
    "duration": -303,
    "start_time": "2021-08-24T14:30:18.824Z"
   },
   {
    "duration": -308,
    "start_time": "2021-08-24T14:30:18.830Z"
   },
   {
    "duration": -312,
    "start_time": "2021-08-24T14:30:18.835Z"
   },
   {
    "duration": -317,
    "start_time": "2021-08-24T14:30:18.841Z"
   },
   {
    "duration": -333,
    "start_time": "2021-08-24T14:30:18.858Z"
   },
   {
    "duration": -338,
    "start_time": "2021-08-24T14:30:18.864Z"
   },
   {
    "duration": -345,
    "start_time": "2021-08-24T14:30:18.872Z"
   },
   {
    "duration": -350,
    "start_time": "2021-08-24T14:30:18.878Z"
   },
   {
    "duration": -355,
    "start_time": "2021-08-24T14:30:18.884Z"
   },
   {
    "duration": -359,
    "start_time": "2021-08-24T14:30:18.889Z"
   },
   {
    "duration": -364,
    "start_time": "2021-08-24T14:30:18.895Z"
   },
   {
    "duration": -369,
    "start_time": "2021-08-24T14:30:18.901Z"
   },
   {
    "duration": -370,
    "start_time": "2021-08-24T14:30:18.910Z"
   },
   {
    "duration": -375,
    "start_time": "2021-08-24T14:30:18.916Z"
   },
   {
    "duration": -379,
    "start_time": "2021-08-24T14:30:18.921Z"
   },
   {
    "duration": -386,
    "start_time": "2021-08-24T14:30:18.928Z"
   },
   {
    "duration": -391,
    "start_time": "2021-08-24T14:30:18.934Z"
   },
   {
    "duration": -395,
    "start_time": "2021-08-24T14:30:18.939Z"
   },
   {
    "duration": -400,
    "start_time": "2021-08-24T14:30:18.945Z"
   },
   {
    "duration": -405,
    "start_time": "2021-08-24T14:30:18.951Z"
   },
   {
    "duration": -419,
    "start_time": "2021-08-24T14:30:18.966Z"
   },
   {
    "duration": -424,
    "start_time": "2021-08-24T14:30:18.972Z"
   },
   {
    "duration": -429,
    "start_time": "2021-08-24T14:30:18.978Z"
   },
   {
    "duration": -435,
    "start_time": "2021-08-24T14:30:18.984Z"
   },
   {
    "duration": -439,
    "start_time": "2021-08-24T14:30:18.990Z"
   },
   {
    "duration": -444,
    "start_time": "2021-08-24T14:30:18.995Z"
   },
   {
    "duration": -450,
    "start_time": "2021-08-24T14:30:19.002Z"
   },
   {
    "duration": -454,
    "start_time": "2021-08-24T14:30:19.007Z"
   },
   {
    "duration": -460,
    "start_time": "2021-08-24T14:30:19.014Z"
   },
   {
    "duration": -476,
    "start_time": "2021-08-24T14:30:19.031Z"
   },
   {
    "duration": -482,
    "start_time": "2021-08-24T14:30:19.038Z"
   },
   {
    "duration": -486,
    "start_time": "2021-08-24T14:30:19.043Z"
   },
   {
    "duration": -493,
    "start_time": "2021-08-24T14:30:19.050Z"
   },
   {
    "duration": -521,
    "start_time": "2021-08-24T14:30:19.079Z"
   },
   {
    "duration": -526,
    "start_time": "2021-08-24T14:30:19.085Z"
   },
   {
    "duration": -532,
    "start_time": "2021-08-24T14:30:19.092Z"
   },
   {
    "duration": 14,
    "start_time": "2021-08-24T14:32:24.918Z"
   },
   {
    "duration": 21,
    "start_time": "2021-08-24T14:32:33.630Z"
   },
   {
    "duration": 27,
    "start_time": "2021-08-24T14:33:26.345Z"
   },
   {
    "duration": 15,
    "start_time": "2021-08-24T14:33:48.737Z"
   },
   {
    "duration": 38,
    "start_time": "2021-08-24T14:35:22.538Z"
   },
   {
    "duration": 38,
    "start_time": "2021-08-24T14:35:44.728Z"
   },
   {
    "duration": 432,
    "start_time": "2021-08-24T14:36:35.211Z"
   },
   {
    "duration": 4,
    "start_time": "2021-08-24T14:36:48.393Z"
   },
   {
    "duration": 25,
    "start_time": "2021-08-24T14:38:50.742Z"
   },
   {
    "duration": 24,
    "start_time": "2021-08-24T14:39:08.246Z"
   },
   {
    "duration": 24,
    "start_time": "2021-08-24T14:39:35.554Z"
   },
   {
    "duration": 4,
    "start_time": "2021-08-24T14:39:51.796Z"
   },
   {
    "duration": 24,
    "start_time": "2021-08-24T14:40:01.417Z"
   },
   {
    "duration": 30,
    "start_time": "2021-08-24T14:41:12.495Z"
   },
   {
    "duration": 14,
    "start_time": "2021-08-24T14:41:20.691Z"
   },
   {
    "duration": 706,
    "start_time": "2021-08-24T16:24:31.038Z"
   },
   {
    "duration": 1783,
    "start_time": "2021-08-24T16:24:46.119Z"
   },
   {
    "duration": 27,
    "start_time": "2021-08-24T16:24:47.905Z"
   },
   {
    "duration": 37,
    "start_time": "2021-08-24T16:24:47.936Z"
   },
   {
    "duration": 13,
    "start_time": "2021-08-24T16:24:47.976Z"
   },
   {
    "duration": 75,
    "start_time": "2021-08-24T16:24:47.991Z"
   },
   {
    "duration": 101,
    "start_time": "2021-08-24T16:24:48.068Z"
   },
   {
    "duration": 93,
    "start_time": "2021-08-24T16:24:48.172Z"
   },
   {
    "duration": 142,
    "start_time": "2021-08-24T16:24:48.269Z"
   },
   {
    "duration": 43,
    "start_time": "2021-08-24T16:24:48.415Z"
   },
   {
    "duration": 16,
    "start_time": "2021-08-24T16:24:48.461Z"
   },
   {
    "duration": 54,
    "start_time": "2021-08-24T16:24:48.481Z"
   },
   {
    "duration": 52,
    "start_time": "2021-08-24T16:24:48.538Z"
   },
   {
    "duration": 324,
    "start_time": "2021-08-24T16:24:48.593Z"
   },
   {
    "duration": 45,
    "start_time": "2021-08-24T16:24:48.919Z"
   },
   {
    "duration": 7,
    "start_time": "2021-08-24T16:24:48.966Z"
   },
   {
    "duration": 45,
    "start_time": "2021-08-24T16:24:48.975Z"
   },
   {
    "duration": 31,
    "start_time": "2021-08-24T16:24:49.022Z"
   },
   {
    "duration": 67,
    "start_time": "2021-08-24T16:24:49.056Z"
   },
   {
    "duration": 76,
    "start_time": "2021-08-24T16:24:49.125Z"
   },
   {
    "duration": 94,
    "start_time": "2021-08-24T16:24:49.203Z"
   },
   {
    "duration": 672,
    "start_time": "2021-08-24T16:24:49.299Z"
   },
   {
    "duration": 23,
    "start_time": "2021-08-24T16:24:49.973Z"
   },
   {
    "duration": 6,
    "start_time": "2021-08-24T16:24:50.058Z"
   },
   {
    "duration": 96,
    "start_time": "2021-08-24T16:24:50.068Z"
   },
   {
    "duration": 40,
    "start_time": "2021-08-24T16:24:50.167Z"
   },
   {
    "duration": 19,
    "start_time": "2021-08-24T16:24:50.209Z"
   },
   {
    "duration": 609,
    "start_time": "2021-08-24T16:24:50.231Z"
   },
   {
    "duration": -8315,
    "start_time": "2021-08-24T16:24:59.158Z"
   },
   {
    "duration": -8423,
    "start_time": "2021-08-24T16:24:59.268Z"
   },
   {
    "duration": -8495,
    "start_time": "2021-08-24T16:24:59.341Z"
   },
   {
    "duration": -8561,
    "start_time": "2021-08-24T16:24:59.409Z"
   },
   {
    "duration": -8629,
    "start_time": "2021-08-24T16:24:59.479Z"
   },
   {
    "duration": -8696,
    "start_time": "2021-08-24T16:24:59.547Z"
   },
   {
    "duration": -8768,
    "start_time": "2021-08-24T16:24:59.621Z"
   },
   {
    "duration": -8784,
    "start_time": "2021-08-24T16:24:59.638Z"
   },
   {
    "duration": -8802,
    "start_time": "2021-08-24T16:24:59.658Z"
   },
   {
    "duration": -8818,
    "start_time": "2021-08-24T16:24:59.675Z"
   },
   {
    "duration": -8834,
    "start_time": "2021-08-24T16:24:59.693Z"
   },
   {
    "duration": -8850,
    "start_time": "2021-08-24T16:24:59.710Z"
   },
   {
    "duration": -8925,
    "start_time": "2021-08-24T16:24:59.786Z"
   },
   {
    "duration": -8998,
    "start_time": "2021-08-24T16:24:59.861Z"
   },
   {
    "duration": -9069,
    "start_time": "2021-08-24T16:24:59.933Z"
   },
   {
    "duration": -9137,
    "start_time": "2021-08-24T16:25:00.002Z"
   },
   {
    "duration": -12722,
    "start_time": "2021-08-24T16:25:03.588Z"
   },
   {
    "duration": -12786,
    "start_time": "2021-08-24T16:25:03.653Z"
   },
   {
    "duration": -12802,
    "start_time": "2021-08-24T16:25:03.671Z"
   },
   {
    "duration": -12818,
    "start_time": "2021-08-24T16:25:03.688Z"
   },
   {
    "duration": -12839,
    "start_time": "2021-08-24T16:25:03.710Z"
   },
   {
    "duration": -12857,
    "start_time": "2021-08-24T16:25:03.730Z"
   },
   {
    "duration": -12876,
    "start_time": "2021-08-24T16:25:03.750Z"
   },
   {
    "duration": -12918,
    "start_time": "2021-08-24T16:25:03.793Z"
   },
   {
    "duration": -12936,
    "start_time": "2021-08-24T16:25:03.813Z"
   },
   {
    "duration": -12951,
    "start_time": "2021-08-24T16:25:03.830Z"
   },
   {
    "duration": -12968,
    "start_time": "2021-08-24T16:25:03.848Z"
   },
   {
    "duration": -12983,
    "start_time": "2021-08-24T16:25:03.865Z"
   },
   {
    "duration": -12999,
    "start_time": "2021-08-24T16:25:03.882Z"
   },
   {
    "duration": -13060,
    "start_time": "2021-08-24T16:25:03.945Z"
   },
   {
    "duration": -13113,
    "start_time": "2021-08-24T16:25:03.999Z"
   },
   {
    "duration": -13145,
    "start_time": "2021-08-24T16:25:04.033Z"
   },
   {
    "duration": -13162,
    "start_time": "2021-08-24T16:25:04.051Z"
   },
   {
    "duration": -13178,
    "start_time": "2021-08-24T16:25:04.068Z"
   },
   {
    "duration": -13195,
    "start_time": "2021-08-24T16:25:04.087Z"
   },
   {
    "duration": -13212,
    "start_time": "2021-08-24T16:25:04.105Z"
   },
   {
    "duration": -13229,
    "start_time": "2021-08-24T16:25:04.123Z"
   },
   {
    "duration": -13264,
    "start_time": "2021-08-24T16:25:04.160Z"
   },
   {
    "duration": -13275,
    "start_time": "2021-08-24T16:25:04.232Z"
   },
   {
    "duration": -13345,
    "start_time": "2021-08-24T16:25:04.304Z"
   },
   {
    "duration": -13426,
    "start_time": "2021-08-24T16:25:04.388Z"
   },
   {
    "duration": -13494,
    "start_time": "2021-08-24T16:25:04.457Z"
   },
   {
    "duration": -13566,
    "start_time": "2021-08-24T16:25:04.531Z"
   },
   {
    "duration": -13679,
    "start_time": "2021-08-24T16:25:04.646Z"
   },
   {
    "duration": -13752,
    "start_time": "2021-08-24T16:25:04.720Z"
   },
   {
    "duration": -13824,
    "start_time": "2021-08-24T16:25:04.794Z"
   },
   {
    "duration": -13900,
    "start_time": "2021-08-24T16:25:04.871Z"
   },
   {
    "duration": -13981,
    "start_time": "2021-08-24T16:25:04.954Z"
   },
   {
    "duration": -14030,
    "start_time": "2021-08-24T16:25:05.004Z"
   },
   {
    "duration": -14051,
    "start_time": "2021-08-24T16:25:05.026Z"
   },
   {
    "duration": -14072,
    "start_time": "2021-08-24T16:25:05.049Z"
   },
   {
    "duration": -14167,
    "start_time": "2021-08-24T16:25:05.145Z"
   },
   {
    "duration": -14276,
    "start_time": "2021-08-24T16:25:05.255Z"
   },
   {
    "duration": -14352,
    "start_time": "2021-08-24T16:25:05.332Z"
   },
   {
    "duration": -14428,
    "start_time": "2021-08-24T16:25:05.410Z"
   },
   {
    "duration": -14518,
    "start_time": "2021-08-24T16:25:05.501Z"
   },
   {
    "duration": -14588,
    "start_time": "2021-08-24T16:25:05.573Z"
   },
   {
    "duration": -14658,
    "start_time": "2021-08-24T16:25:05.644Z"
   },
   {
    "duration": -14735,
    "start_time": "2021-08-24T16:25:05.722Z"
   },
   {
    "duration": -14802,
    "start_time": "2021-08-24T16:25:05.791Z"
   },
   {
    "duration": 229,
    "start_time": "2021-08-24T16:25:17.653Z"
   },
   {
    "duration": 443,
    "start_time": "2021-08-24T16:25:24.124Z"
   },
   {
    "duration": 143,
    "start_time": "2021-08-24T16:25:36.478Z"
   },
   {
    "duration": 786,
    "start_time": "2021-08-24T16:25:44.941Z"
   },
   {
    "duration": 39,
    "start_time": "2021-08-24T16:25:55.931Z"
   },
   {
    "duration": 36,
    "start_time": "2021-08-24T16:26:11.507Z"
   },
   {
    "duration": 133,
    "start_time": "2021-08-24T16:26:20.191Z"
   },
   {
    "duration": 40,
    "start_time": "2021-08-24T16:26:25.082Z"
   },
   {
    "duration": 40,
    "start_time": "2021-08-24T16:26:36.710Z"
   },
   {
    "duration": 39,
    "start_time": "2021-08-24T16:27:07.970Z"
   },
   {
    "duration": 38,
    "start_time": "2021-08-24T16:27:15.769Z"
   },
   {
    "duration": 41,
    "start_time": "2021-08-24T16:27:20.600Z"
   },
   {
    "duration": 39,
    "start_time": "2021-08-24T16:27:25.452Z"
   },
   {
    "duration": 42,
    "start_time": "2021-08-24T16:27:29.246Z"
   },
   {
    "duration": 57,
    "start_time": "2021-08-24T16:27:47.302Z"
   },
   {
    "duration": 39,
    "start_time": "2021-08-24T16:33:36.971Z"
   },
   {
    "duration": 21,
    "start_time": "2021-08-24T16:33:48.170Z"
   },
   {
    "duration": 126,
    "start_time": "2021-08-24T16:37:26.630Z"
   },
   {
    "duration": 7,
    "start_time": "2021-08-24T16:38:44.725Z"
   },
   {
    "duration": 6,
    "start_time": "2021-08-24T16:38:56.001Z"
   },
   {
    "duration": 7,
    "start_time": "2021-08-24T16:39:01.772Z"
   },
   {
    "duration": 42,
    "start_time": "2021-08-24T16:40:29.892Z"
   },
   {
    "duration": 43,
    "start_time": "2021-08-24T16:42:35.756Z"
   },
   {
    "duration": 42,
    "start_time": "2021-08-24T16:43:12.403Z"
   },
   {
    "duration": 44,
    "start_time": "2021-08-24T16:43:21.092Z"
   },
   {
    "duration": 45,
    "start_time": "2021-08-24T16:43:30.556Z"
   },
   {
    "duration": 39,
    "start_time": "2021-08-24T16:44:35.497Z"
   },
   {
    "duration": 6,
    "start_time": "2021-08-24T16:44:36.227Z"
   },
   {
    "duration": 7,
    "start_time": "2021-08-24T16:44:36.796Z"
   },
   {
    "duration": 9,
    "start_time": "2021-08-24T16:47:16.706Z"
   },
   {
    "duration": 492,
    "start_time": "2021-08-24T16:47:44.582Z"
   },
   {
    "duration": 464,
    "start_time": "2021-08-24T16:50:45.560Z"
   },
   {
    "duration": 124,
    "start_time": "2021-08-24T16:51:04.274Z"
   },
   {
    "duration": 372,
    "start_time": "2021-08-24T16:51:08.495Z"
   },
   {
    "duration": 8,
    "start_time": "2021-08-24T16:51:20.170Z"
   },
   {
    "duration": 373,
    "start_time": "2021-08-24T16:52:23.772Z"
   },
   {
    "duration": 361,
    "start_time": "2021-08-24T16:53:47.700Z"
   },
   {
    "duration": 420,
    "start_time": "2021-08-24T16:54:20.884Z"
   },
   {
    "duration": 479,
    "start_time": "2021-08-24T16:54:30.143Z"
   },
   {
    "duration": 6,
    "start_time": "2021-08-24T16:57:17.706Z"
   },
   {
    "duration": 20,
    "start_time": "2021-08-24T16:57:31.967Z"
   },
   {
    "duration": 48,
    "start_time": "2021-08-24T16:57:55.329Z"
   },
   {
    "duration": 72,
    "start_time": "2021-08-24T17:07:28.947Z"
   },
   {
    "duration": 34,
    "start_time": "2021-08-24T17:23:22.799Z"
   },
   {
    "duration": 406,
    "start_time": "2021-08-24T17:25:51.728Z"
   },
   {
    "duration": 462,
    "start_time": "2021-08-24T17:26:19.205Z"
   },
   {
    "duration": 488,
    "start_time": "2021-08-24T17:26:53.315Z"
   },
   {
    "duration": 706,
    "start_time": "2021-08-24T17:27:47.132Z"
   },
   {
    "duration": 1798,
    "start_time": "2021-08-24T17:28:10.843Z"
   },
   {
    "duration": 37,
    "start_time": "2021-08-24T17:28:12.644Z"
   },
   {
    "duration": 22,
    "start_time": "2021-08-24T17:28:12.685Z"
   },
   {
    "duration": 22,
    "start_time": "2021-08-24T17:28:12.710Z"
   },
   {
    "duration": 55,
    "start_time": "2021-08-24T17:28:12.734Z"
   },
   {
    "duration": 97,
    "start_time": "2021-08-24T17:28:12.791Z"
   },
   {
    "duration": 97,
    "start_time": "2021-08-24T17:28:12.890Z"
   },
   {
    "duration": 131,
    "start_time": "2021-08-24T17:28:12.992Z"
   },
   {
    "duration": 39,
    "start_time": "2021-08-24T17:28:13.127Z"
   },
   {
    "duration": 11,
    "start_time": "2021-08-24T17:28:13.169Z"
   },
   {
    "duration": 72,
    "start_time": "2021-08-24T17:28:13.183Z"
   },
   {
    "duration": 47,
    "start_time": "2021-08-24T17:28:13.258Z"
   },
   {
    "duration": 356,
    "start_time": "2021-08-24T17:28:13.307Z"
   },
   {
    "duration": 59,
    "start_time": "2021-08-24T17:28:13.665Z"
   },
   {
    "duration": 8,
    "start_time": "2021-08-24T17:28:13.727Z"
   },
   {
    "duration": 63,
    "start_time": "2021-08-24T17:28:13.737Z"
   },
   {
    "duration": 59,
    "start_time": "2021-08-24T17:28:13.803Z"
   },
   {
    "duration": 68,
    "start_time": "2021-08-24T17:28:13.865Z"
   },
   {
    "duration": 83,
    "start_time": "2021-08-24T17:28:13.935Z"
   },
   {
    "duration": 105,
    "start_time": "2021-08-24T17:28:14.020Z"
   },
   {
    "duration": 709,
    "start_time": "2021-08-24T17:28:14.128Z"
   },
   {
    "duration": 34,
    "start_time": "2021-08-24T17:28:14.840Z"
   },
   {
    "duration": 5,
    "start_time": "2021-08-24T17:28:14.879Z"
   },
   {
    "duration": 46,
    "start_time": "2021-08-24T17:28:14.887Z"
   },
   {
    "duration": 43,
    "start_time": "2021-08-24T17:28:14.956Z"
   },
   {
    "duration": 61,
    "start_time": "2021-08-24T17:28:15.001Z"
   },
   {
    "duration": 21,
    "start_time": "2021-08-24T17:28:15.064Z"
   },
   {
    "duration": 20,
    "start_time": "2021-08-24T17:28:15.087Z"
   },
   {
    "duration": 7,
    "start_time": "2021-08-24T17:28:15.109Z"
   },
   {
    "duration": 41,
    "start_time": "2021-08-24T17:28:15.157Z"
   },
   {
    "duration": 5,
    "start_time": "2021-08-24T17:28:15.201Z"
   },
   {
    "duration": 15,
    "start_time": "2021-08-24T17:28:15.209Z"
   },
   {
    "duration": 76,
    "start_time": "2021-08-24T17:28:15.226Z"
   },
   {
    "duration": 53,
    "start_time": "2021-08-24T17:28:15.304Z"
   },
   {
    "duration": 696,
    "start_time": "2021-08-24T17:28:15.360Z"
   },
   {
    "duration": -7622,
    "start_time": "2021-08-24T17:28:23.681Z"
   },
   {
    "duration": -7640,
    "start_time": "2021-08-24T17:28:23.700Z"
   },
   {
    "duration": -7656,
    "start_time": "2021-08-24T17:28:23.718Z"
   },
   {
    "duration": -7672,
    "start_time": "2021-08-24T17:28:23.735Z"
   },
   {
    "duration": -7692,
    "start_time": "2021-08-24T17:28:23.757Z"
   },
   {
    "duration": -7712,
    "start_time": "2021-08-24T17:28:23.778Z"
   },
   {
    "duration": -7761,
    "start_time": "2021-08-24T17:28:23.829Z"
   },
   {
    "duration": -7838,
    "start_time": "2021-08-24T17:28:23.907Z"
   },
   {
    "duration": -7891,
    "start_time": "2021-08-24T17:28:23.961Z"
   },
   {
    "duration": -7939,
    "start_time": "2021-08-24T17:28:24.011Z"
   },
   {
    "duration": -7994,
    "start_time": "2021-08-24T17:28:24.067Z"
   },
   {
    "duration": -8046,
    "start_time": "2021-08-24T17:28:24.120Z"
   },
   {
    "duration": -8113,
    "start_time": "2021-08-24T17:28:24.189Z"
   },
   {
    "duration": -8176,
    "start_time": "2021-08-24T17:28:24.254Z"
   },
   {
    "duration": -8228,
    "start_time": "2021-08-24T17:28:24.307Z"
   },
   {
    "duration": 7,
    "start_time": "2021-08-24T17:32:53.051Z"
   },
   {
    "duration": 6,
    "start_time": "2021-08-24T17:33:31.527Z"
   },
   {
    "duration": 6,
    "start_time": "2021-08-24T17:33:41.448Z"
   },
   {
    "duration": 53,
    "start_time": "2021-08-24T17:33:52.279Z"
   },
   {
    "duration": 7,
    "start_time": "2021-08-24T17:34:04.967Z"
   },
   {
    "duration": 6,
    "start_time": "2021-08-24T17:35:47.828Z"
   },
   {
    "duration": 7,
    "start_time": "2021-08-24T17:36:56.145Z"
   },
   {
    "duration": 37,
    "start_time": "2021-08-24T17:40:16.792Z"
   },
   {
    "duration": 6,
    "start_time": "2021-08-24T17:40:55.297Z"
   },
   {
    "duration": 7,
    "start_time": "2021-08-24T17:44:41.786Z"
   },
   {
    "duration": 6,
    "start_time": "2021-08-24T17:45:04.167Z"
   },
   {
    "duration": 550,
    "start_time": "2021-08-24T17:56:55.597Z"
   },
   {
    "duration": 394,
    "start_time": "2021-08-24T17:57:37.662Z"
   },
   {
    "duration": 359,
    "start_time": "2021-08-24T17:57:43.316Z"
   },
   {
    "duration": 610,
    "start_time": "2021-08-24T17:58:11.609Z"
   },
   {
    "duration": 374,
    "start_time": "2021-08-24T17:58:43.868Z"
   },
   {
    "duration": 418,
    "start_time": "2021-08-24T17:59:15.241Z"
   },
   {
    "duration": 455,
    "start_time": "2021-08-24T18:01:32.389Z"
   },
   {
    "duration": 4,
    "start_time": "2021-08-24T18:02:00.088Z"
   },
   {
    "duration": 541,
    "start_time": "2021-08-24T20:22:32.945Z"
   },
   {
    "duration": 382,
    "start_time": "2021-08-24T20:23:13.590Z"
   },
   {
    "duration": 377,
    "start_time": "2021-08-24T20:23:56.626Z"
   },
   {
    "duration": 380,
    "start_time": "2021-08-24T20:24:21.407Z"
   },
   {
    "duration": 395,
    "start_time": "2021-08-24T20:25:54.148Z"
   },
   {
    "duration": 390,
    "start_time": "2021-08-24T20:26:00.711Z"
   },
   {
    "duration": 4,
    "start_time": "2021-08-24T20:26:13.516Z"
   },
   {
    "duration": 380,
    "start_time": "2021-08-24T20:26:16.600Z"
   },
   {
    "duration": 421,
    "start_time": "2021-08-24T20:27:15.154Z"
   },
   {
    "duration": 417,
    "start_time": "2021-08-24T20:27:26.818Z"
   },
   {
    "duration": 7,
    "start_time": "2021-08-24T21:46:29.439Z"
   },
   {
    "duration": 355,
    "start_time": "2021-08-24T21:47:35.864Z"
   },
   {
    "duration": 358,
    "start_time": "2021-08-24T21:48:05.389Z"
   },
   {
    "duration": 589,
    "start_time": "2021-08-24T21:48:20.651Z"
   },
   {
    "duration": 21,
    "start_time": "2021-08-24T21:48:25.984Z"
   },
   {
    "duration": 63,
    "start_time": "2021-08-24T21:48:58.930Z"
   },
   {
    "duration": 4,
    "start_time": "2021-08-24T21:51:20.538Z"
   },
   {
    "duration": 1222,
    "start_time": "2021-08-24T21:55:59.917Z"
   },
   {
    "duration": 4,
    "start_time": "2021-08-24T21:56:13.069Z"
   },
   {
    "duration": 412,
    "start_time": "2021-08-25T00:04:17.186Z"
   },
   {
    "duration": 1632,
    "start_time": "2021-08-25T16:19:08.195Z"
   },
   {
    "duration": 26,
    "start_time": "2021-08-25T16:19:09.829Z"
   },
   {
    "duration": 42,
    "start_time": "2021-08-25T16:19:09.858Z"
   },
   {
    "duration": 14,
    "start_time": "2021-08-25T16:19:09.903Z"
   },
   {
    "duration": 36,
    "start_time": "2021-08-25T16:19:09.919Z"
   },
   {
    "duration": 100,
    "start_time": "2021-08-25T16:19:09.958Z"
   },
   {
    "duration": 99,
    "start_time": "2021-08-25T16:19:10.060Z"
   },
   {
    "duration": 143,
    "start_time": "2021-08-25T16:19:10.162Z"
   },
   {
    "duration": 20,
    "start_time": "2021-08-25T16:19:10.308Z"
   },
   {
    "duration": 9,
    "start_time": "2021-08-25T16:19:10.330Z"
   },
   {
    "duration": 63,
    "start_time": "2021-08-25T16:19:10.341Z"
   },
   {
    "duration": 40,
    "start_time": "2021-08-25T16:19:10.406Z"
   },
   {
    "duration": 352,
    "start_time": "2021-08-25T16:19:10.448Z"
   },
   {
    "duration": 46,
    "start_time": "2021-08-25T16:19:10.803Z"
   },
   {
    "duration": 7,
    "start_time": "2021-08-25T16:19:10.851Z"
   },
   {
    "duration": 59,
    "start_time": "2021-08-25T16:19:10.860Z"
   },
   {
    "duration": 30,
    "start_time": "2021-08-25T16:19:10.921Z"
   },
   {
    "duration": 84,
    "start_time": "2021-08-25T16:19:10.954Z"
   },
   {
    "duration": 79,
    "start_time": "2021-08-25T16:19:11.041Z"
   },
   {
    "duration": 93,
    "start_time": "2021-08-25T16:19:11.122Z"
   },
   {
    "duration": 675,
    "start_time": "2021-08-25T16:19:11.217Z"
   },
   {
    "duration": 25,
    "start_time": "2021-08-25T16:19:11.895Z"
   },
   {
    "duration": 8,
    "start_time": "2021-08-25T16:19:11.925Z"
   },
   {
    "duration": 66,
    "start_time": "2021-08-25T16:19:11.936Z"
   },
   {
    "duration": 41,
    "start_time": "2021-08-25T16:19:12.004Z"
   },
   {
    "duration": 66,
    "start_time": "2021-08-25T16:19:12.047Z"
   },
   {
    "duration": 20,
    "start_time": "2021-08-25T16:19:12.115Z"
   },
   {
    "duration": 23,
    "start_time": "2021-08-25T16:19:12.138Z"
   },
   {
    "duration": 47,
    "start_time": "2021-08-25T16:19:12.164Z"
   },
   {
    "duration": 48,
    "start_time": "2021-08-25T16:19:12.213Z"
   },
   {
    "duration": 7,
    "start_time": "2021-08-25T16:19:12.263Z"
   },
   {
    "duration": 35,
    "start_time": "2021-08-25T16:19:12.272Z"
   },
   {
    "duration": 54,
    "start_time": "2021-08-25T16:19:12.309Z"
   },
   {
    "duration": 7,
    "start_time": "2021-08-25T16:19:12.366Z"
   },
   {
    "duration": 28,
    "start_time": "2021-08-25T16:19:12.376Z"
   },
   {
    "duration": 7,
    "start_time": "2021-08-25T16:19:12.407Z"
   },
   {
    "duration": 7,
    "start_time": "2021-08-25T16:19:12.417Z"
   },
   {
    "duration": 430,
    "start_time": "2021-08-25T16:19:12.427Z"
   },
   {
    "duration": -761,
    "start_time": "2021-08-25T16:19:13.621Z"
   },
   {
    "duration": -762,
    "start_time": "2021-08-25T16:19:13.624Z"
   },
   {
    "duration": -765,
    "start_time": "2021-08-25T16:19:13.628Z"
   },
   {
    "duration": -768,
    "start_time": "2021-08-25T16:19:13.632Z"
   },
   {
    "duration": -770,
    "start_time": "2021-08-25T16:19:13.636Z"
   },
   {
    "duration": -775,
    "start_time": "2021-08-25T16:19:13.642Z"
   },
   {
    "duration": -778,
    "start_time": "2021-08-25T16:19:13.646Z"
   },
   {
    "duration": -785,
    "start_time": "2021-08-25T16:19:13.655Z"
   },
   {
    "duration": -788,
    "start_time": "2021-08-25T16:19:13.659Z"
   },
   {
    "duration": -791,
    "start_time": "2021-08-25T16:19:13.663Z"
   },
   {
    "duration": -795,
    "start_time": "2021-08-25T16:19:13.668Z"
   },
   {
    "duration": -797,
    "start_time": "2021-08-25T16:19:13.672Z"
   },
   {
    "duration": -801,
    "start_time": "2021-08-25T16:19:13.677Z"
   },
   {
    "duration": -803,
    "start_time": "2021-08-25T16:19:13.681Z"
   },
   {
    "duration": -809,
    "start_time": "2021-08-25T16:19:13.688Z"
   },
   {
    "duration": 5,
    "start_time": "2021-08-25T16:23:47.506Z"
   },
   {
    "duration": 9,
    "start_time": "2021-08-25T16:23:56.617Z"
   },
   {
    "duration": 41,
    "start_time": "2021-08-25T16:24:35.077Z"
   },
   {
    "duration": 38,
    "start_time": "2021-08-25T16:24:35.954Z"
   },
   {
    "duration": 19,
    "start_time": "2021-08-25T16:24:37.834Z"
   },
   {
    "duration": 20,
    "start_time": "2021-08-25T16:24:38.274Z"
   },
   {
    "duration": 7,
    "start_time": "2021-08-25T16:24:40.713Z"
   },
   {
    "duration": 6,
    "start_time": "2021-08-25T16:24:42.705Z"
   },
   {
    "duration": 46,
    "start_time": "2021-08-25T16:25:10.682Z"
   },
   {
    "duration": 141,
    "start_time": "2021-08-25T16:27:02.970Z"
   },
   {
    "duration": 5,
    "start_time": "2021-08-25T16:30:07.365Z"
   },
   {
    "duration": 8,
    "start_time": "2021-08-25T16:30:11.074Z"
   },
   {
    "duration": 28,
    "start_time": "2021-08-25T16:30:38.333Z"
   },
   {
    "duration": 1285,
    "start_time": "2021-08-25T16:54:38.992Z"
   },
   {
    "duration": 25,
    "start_time": "2021-08-25T16:54:40.279Z"
   },
   {
    "duration": 18,
    "start_time": "2021-08-25T16:54:40.306Z"
   },
   {
    "duration": 13,
    "start_time": "2021-08-25T16:54:40.326Z"
   },
   {
    "duration": 64,
    "start_time": "2021-08-25T16:54:40.341Z"
   },
   {
    "duration": 52,
    "start_time": "2021-08-25T16:54:40.407Z"
   },
   {
    "duration": 72,
    "start_time": "2021-08-25T16:54:40.461Z"
   },
   {
    "duration": 96,
    "start_time": "2021-08-25T16:54:40.536Z"
   },
   {
    "duration": 17,
    "start_time": "2021-08-25T16:54:40.635Z"
   },
   {
    "duration": 8,
    "start_time": "2021-08-25T16:54:40.654Z"
   },
   {
    "duration": 30,
    "start_time": "2021-08-25T16:54:40.685Z"
   },
   {
    "duration": 33,
    "start_time": "2021-08-25T16:54:40.717Z"
   },
   {
    "duration": 241,
    "start_time": "2021-08-25T16:54:40.752Z"
   },
   {
    "duration": 28,
    "start_time": "2021-08-25T16:54:40.996Z"
   },
   {
    "duration": 6,
    "start_time": "2021-08-25T16:54:41.026Z"
   },
   {
    "duration": 51,
    "start_time": "2021-08-25T16:54:41.034Z"
   },
   {
    "duration": 23,
    "start_time": "2021-08-25T16:54:41.087Z"
   },
   {
    "duration": 51,
    "start_time": "2021-08-25T16:54:41.112Z"
   },
   {
    "duration": 50,
    "start_time": "2021-08-25T16:54:41.185Z"
   },
   {
    "duration": 80,
    "start_time": "2021-08-25T16:54:41.237Z"
   },
   {
    "duration": 435,
    "start_time": "2021-08-25T16:54:41.319Z"
   },
   {
    "duration": 28,
    "start_time": "2021-08-25T16:54:41.756Z"
   },
   {
    "duration": 4,
    "start_time": "2021-08-25T16:54:41.789Z"
   },
   {
    "duration": 34,
    "start_time": "2021-08-25T16:54:41.796Z"
   },
   {
    "duration": 56,
    "start_time": "2021-08-25T16:54:41.832Z"
   },
   {
    "duration": 31,
    "start_time": "2021-08-25T16:54:41.890Z"
   },
   {
    "duration": 17,
    "start_time": "2021-08-25T16:54:41.923Z"
   },
   {
    "duration": 44,
    "start_time": "2021-08-25T16:54:41.942Z"
   },
   {
    "duration": 5,
    "start_time": "2021-08-25T16:54:41.987Z"
   },
   {
    "duration": 6,
    "start_time": "2021-08-25T16:54:41.994Z"
   },
   {
    "duration": 27,
    "start_time": "2021-08-25T16:54:42.002Z"
   },
   {
    "duration": 130,
    "start_time": "2021-08-25T16:54:42.031Z"
   },
   {
    "duration": 3,
    "start_time": "2021-08-25T16:54:42.163Z"
   },
   {
    "duration": 21,
    "start_time": "2021-08-25T16:54:42.168Z"
   },
   {
    "duration": 28,
    "start_time": "2021-08-25T16:54:42.190Z"
   },
   {
    "duration": 29,
    "start_time": "2021-08-25T16:54:42.220Z"
   },
   {
    "duration": 4,
    "start_time": "2021-08-25T16:54:42.250Z"
   },
   {
    "duration": 10,
    "start_time": "2021-08-25T16:54:42.256Z"
   },
   {
    "duration": 49,
    "start_time": "2021-08-25T16:54:42.267Z"
   },
   {
    "duration": 5,
    "start_time": "2021-08-25T16:54:42.317Z"
   },
   {
    "duration": 6,
    "start_time": "2021-08-25T16:54:42.324Z"
   },
   {
    "duration": 8,
    "start_time": "2021-08-25T16:54:42.332Z"
   },
   {
    "duration": 5,
    "start_time": "2021-08-25T16:54:42.342Z"
   },
   {
    "duration": 311,
    "start_time": "2021-08-25T16:54:42.348Z"
   },
   {
    "duration": -7956,
    "start_time": "2021-08-25T16:54:50.617Z"
   },
   {
    "duration": -7972,
    "start_time": "2021-08-25T16:54:50.634Z"
   },
   {
    "duration": -7989,
    "start_time": "2021-08-25T16:54:50.652Z"
   },
   {
    "duration": -8006,
    "start_time": "2021-08-25T16:54:50.670Z"
   },
   {
    "duration": -8020,
    "start_time": "2021-08-25T16:54:50.685Z"
   },
   {
    "duration": -8035,
    "start_time": "2021-08-25T16:54:50.701Z"
   },
   {
    "duration": -8066,
    "start_time": "2021-08-25T16:54:50.733Z"
   },
   {
    "duration": -8100,
    "start_time": "2021-08-25T16:54:50.768Z"
   },
   {
    "duration": -8182,
    "start_time": "2021-08-25T16:54:50.851Z"
   },
   {
    "duration": -8247,
    "start_time": "2021-08-25T16:54:50.917Z"
   },
   {
    "duration": -8310,
    "start_time": "2021-08-25T16:54:50.981Z"
   },
   {
    "duration": -8387,
    "start_time": "2021-08-25T16:54:51.059Z"
   },
   {
    "duration": -8443,
    "start_time": "2021-08-25T16:54:51.116Z"
   },
   {
    "duration": -8501,
    "start_time": "2021-08-25T16:54:51.175Z"
   },
   {
    "duration": -8557,
    "start_time": "2021-08-25T16:54:51.232Z"
   },
   {
    "duration": 192,
    "start_time": "2021-08-25T17:50:35.416Z"
   },
   {
    "duration": 26,
    "start_time": "2021-08-25T17:50:53.282Z"
   },
   {
    "duration": 1245,
    "start_time": "2021-08-25T17:51:07.608Z"
   },
   {
    "duration": 30,
    "start_time": "2021-08-25T17:51:08.856Z"
   },
   {
    "duration": 18,
    "start_time": "2021-08-25T17:51:08.889Z"
   },
   {
    "duration": 13,
    "start_time": "2021-08-25T17:51:08.909Z"
   },
   {
    "duration": 32,
    "start_time": "2021-08-25T17:51:08.923Z"
   },
   {
    "duration": 80,
    "start_time": "2021-08-25T17:51:08.957Z"
   },
   {
    "duration": 69,
    "start_time": "2021-08-25T17:51:09.039Z"
   },
   {
    "duration": 94,
    "start_time": "2021-08-25T17:51:09.112Z"
   },
   {
    "duration": 17,
    "start_time": "2021-08-25T17:51:09.209Z"
   },
   {
    "duration": 19,
    "start_time": "2021-08-25T17:51:09.228Z"
   },
   {
    "duration": 44,
    "start_time": "2021-08-25T17:51:09.249Z"
   },
   {
    "duration": 33,
    "start_time": "2021-08-25T17:51:09.295Z"
   },
   {
    "duration": 237,
    "start_time": "2021-08-25T17:51:09.330Z"
   },
   {
    "duration": 41,
    "start_time": "2021-08-25T17:51:09.569Z"
   },
   {
    "duration": 7,
    "start_time": "2021-08-25T17:51:09.612Z"
   },
   {
    "duration": 30,
    "start_time": "2021-08-25T17:51:09.621Z"
   },
   {
    "duration": 44,
    "start_time": "2021-08-25T17:51:09.653Z"
   },
   {
    "duration": 51,
    "start_time": "2021-08-25T17:51:09.699Z"
   },
   {
    "duration": 79,
    "start_time": "2021-08-25T17:51:09.752Z"
   },
   {
    "duration": 79,
    "start_time": "2021-08-25T17:51:09.833Z"
   },
   {
    "duration": 454,
    "start_time": "2021-08-25T17:51:09.914Z"
   },
   {
    "duration": 28,
    "start_time": "2021-08-25T17:51:10.370Z"
   },
   {
    "duration": 10,
    "start_time": "2021-08-25T17:51:10.402Z"
   },
   {
    "duration": 56,
    "start_time": "2021-08-25T17:51:10.415Z"
   },
   {
    "duration": 32,
    "start_time": "2021-08-25T17:51:10.473Z"
   },
   {
    "duration": 32,
    "start_time": "2021-08-25T17:51:10.508Z"
   },
   {
    "duration": 15,
    "start_time": "2021-08-25T17:51:10.542Z"
   },
   {
    "duration": 39,
    "start_time": "2021-08-25T17:51:10.559Z"
   },
   {
    "duration": 14,
    "start_time": "2021-08-25T17:51:10.600Z"
   },
   {
    "duration": 36,
    "start_time": "2021-08-25T17:51:10.616Z"
   },
   {
    "duration": 268,
    "start_time": "2021-08-25T17:51:10.653Z"
   },
   {
    "duration": -6682,
    "start_time": "2021-08-25T17:51:17.605Z"
   },
   {
    "duration": -6695,
    "start_time": "2021-08-25T17:51:17.619Z"
   },
   {
    "duration": -6707,
    "start_time": "2021-08-25T17:51:17.632Z"
   },
   {
    "duration": -6762,
    "start_time": "2021-08-25T17:51:17.688Z"
   },
   {
    "duration": -6774,
    "start_time": "2021-08-25T17:51:17.701Z"
   },
   {
    "duration": -6787,
    "start_time": "2021-08-25T17:51:17.716Z"
   },
   {
    "duration": -6799,
    "start_time": "2021-08-25T17:51:17.729Z"
   },
   {
    "duration": -6813,
    "start_time": "2021-08-25T17:51:17.744Z"
   },
   {
    "duration": -6825,
    "start_time": "2021-08-25T17:51:17.757Z"
   },
   {
    "duration": -6838,
    "start_time": "2021-08-25T17:51:17.771Z"
   },
   {
    "duration": -6849,
    "start_time": "2021-08-25T17:51:17.783Z"
   },
   {
    "duration": -6877,
    "start_time": "2021-08-25T17:51:17.812Z"
   },
   {
    "duration": -6888,
    "start_time": "2021-08-25T17:51:17.824Z"
   },
   {
    "duration": -6903,
    "start_time": "2021-08-25T17:51:17.840Z"
   },
   {
    "duration": -6914,
    "start_time": "2021-08-25T17:51:17.852Z"
   },
   {
    "duration": -6927,
    "start_time": "2021-08-25T17:51:17.866Z"
   },
   {
    "duration": -6938,
    "start_time": "2021-08-25T17:51:17.878Z"
   },
   {
    "duration": -6952,
    "start_time": "2021-08-25T17:51:17.892Z"
   },
   {
    "duration": -6963,
    "start_time": "2021-08-25T17:51:17.905Z"
   },
   {
    "duration": -6991,
    "start_time": "2021-08-25T17:51:17.934Z"
   },
   {
    "duration": -7003,
    "start_time": "2021-08-25T17:51:17.947Z"
   },
   {
    "duration": -7017,
    "start_time": "2021-08-25T17:51:17.962Z"
   },
   {
    "duration": -7029,
    "start_time": "2021-08-25T17:51:17.974Z"
   },
   {
    "duration": -7042,
    "start_time": "2021-08-25T17:51:17.988Z"
   },
   {
    "duration": -7054,
    "start_time": "2021-08-25T17:51:18.001Z"
   },
   {
    "duration": -7069,
    "start_time": "2021-08-25T17:51:18.017Z"
   },
   {
    "duration": -7081,
    "start_time": "2021-08-25T17:51:18.030Z"
   },
   {
    "duration": -7110,
    "start_time": "2021-08-25T17:51:18.060Z"
   },
   {
    "duration": -7122,
    "start_time": "2021-08-25T17:51:18.073Z"
   },
   {
    "duration": 108,
    "start_time": "2021-08-25T18:02:42.370Z"
   },
   {
    "duration": 6,
    "start_time": "2021-08-25T18:07:32.731Z"
   },
   {
    "duration": 5,
    "start_time": "2021-08-25T18:11:41.547Z"
   },
   {
    "duration": 8,
    "start_time": "2021-08-25T18:11:42.416Z"
   },
   {
    "duration": 20,
    "start_time": "2021-08-25T18:11:44.059Z"
   },
   {
    "duration": 117,
    "start_time": "2021-08-25T18:12:12.376Z"
   },
   {
    "duration": 23,
    "start_time": "2021-08-25T18:14:06.520Z"
   },
   {
    "duration": 183,
    "start_time": "2021-08-25T18:14:44.225Z"
   },
   {
    "duration": 191,
    "start_time": "2021-08-25T18:17:14.337Z"
   },
   {
    "duration": 42,
    "start_time": "2021-08-25T18:18:36.904Z"
   },
   {
    "duration": 5,
    "start_time": "2021-08-25T18:18:37.921Z"
   },
   {
    "duration": 4,
    "start_time": "2021-08-25T18:18:38.612Z"
   },
   {
    "duration": 4,
    "start_time": "2021-08-25T18:18:39.027Z"
   },
   {
    "duration": 42,
    "start_time": "2021-08-25T18:18:41.862Z"
   },
   {
    "duration": 111,
    "start_time": "2021-08-25T18:19:39.438Z"
   },
   {
    "duration": 3372,
    "start_time": "2021-08-25T18:19:51.851Z"
   },
   {
    "duration": 1310,
    "start_time": "2021-08-25T18:20:09.772Z"
   },
   {
    "duration": 23,
    "start_time": "2021-08-25T18:20:11.084Z"
   },
   {
    "duration": 18,
    "start_time": "2021-08-25T18:20:11.110Z"
   },
   {
    "duration": 14,
    "start_time": "2021-08-25T18:20:11.131Z"
   },
   {
    "duration": 62,
    "start_time": "2021-08-25T18:20:11.147Z"
   },
   {
    "duration": 54,
    "start_time": "2021-08-25T18:20:11.212Z"
   },
   {
    "duration": 63,
    "start_time": "2021-08-25T18:20:11.284Z"
   },
   {
    "duration": 100,
    "start_time": "2021-08-25T18:20:11.350Z"
   },
   {
    "duration": 16,
    "start_time": "2021-08-25T18:20:11.452Z"
   },
   {
    "duration": 7,
    "start_time": "2021-08-25T18:20:11.485Z"
   },
   {
    "duration": 33,
    "start_time": "2021-08-25T18:20:11.494Z"
   },
   {
    "duration": 32,
    "start_time": "2021-08-25T18:20:11.528Z"
   },
   {
    "duration": 257,
    "start_time": "2021-08-25T18:20:11.562Z"
   },
   {
    "duration": 29,
    "start_time": "2021-08-25T18:20:11.821Z"
   },
   {
    "duration": 5,
    "start_time": "2021-08-25T18:20:11.851Z"
   },
   {
    "duration": 47,
    "start_time": "2021-08-25T18:20:11.858Z"
   },
   {
    "duration": 23,
    "start_time": "2021-08-25T18:20:11.907Z"
   },
   {
    "duration": 79,
    "start_time": "2021-08-25T18:20:11.933Z"
   },
   {
    "duration": 52,
    "start_time": "2021-08-25T18:20:12.014Z"
   },
   {
    "duration": 74,
    "start_time": "2021-08-25T18:20:12.068Z"
   },
   {
    "duration": 471,
    "start_time": "2021-08-25T18:20:12.144Z"
   },
   {
    "duration": 16,
    "start_time": "2021-08-25T18:20:12.617Z"
   },
   {
    "duration": 4,
    "start_time": "2021-08-25T18:20:12.637Z"
   },
   {
    "duration": 58,
    "start_time": "2021-08-25T18:20:12.643Z"
   },
   {
    "duration": 31,
    "start_time": "2021-08-25T18:20:12.704Z"
   },
   {
    "duration": 51,
    "start_time": "2021-08-25T18:20:12.737Z"
   },
   {
    "duration": 24,
    "start_time": "2021-08-25T18:20:12.790Z"
   },
   {
    "duration": 18,
    "start_time": "2021-08-25T18:20:12.816Z"
   },
   {
    "duration": 16,
    "start_time": "2021-08-25T18:20:12.836Z"
   },
   {
    "duration": 6,
    "start_time": "2021-08-25T18:20:12.885Z"
   },
   {
    "duration": 31,
    "start_time": "2021-08-25T18:20:12.892Z"
   },
   {
    "duration": 40,
    "start_time": "2021-08-25T18:20:12.925Z"
   },
   {
    "duration": 5,
    "start_time": "2021-08-25T18:20:12.984Z"
   },
   {
    "duration": 10,
    "start_time": "2021-08-25T18:20:12.991Z"
   },
   {
    "duration": 11,
    "start_time": "2021-08-25T18:20:13.003Z"
   },
   {
    "duration": 44,
    "start_time": "2021-08-25T18:20:13.015Z"
   },
   {
    "duration": 132,
    "start_time": "2021-08-25T18:20:13.061Z"
   },
   {
    "duration": 3637,
    "start_time": "2021-08-25T18:20:13.195Z"
   },
   {
    "duration": -5570,
    "start_time": "2021-08-25T18:20:22.404Z"
   },
   {
    "duration": -5591,
    "start_time": "2021-08-25T18:20:22.426Z"
   },
   {
    "duration": -5621,
    "start_time": "2021-08-25T18:20:22.457Z"
   },
   {
    "duration": -5689,
    "start_time": "2021-08-25T18:20:22.526Z"
   },
   {
    "duration": -5710,
    "start_time": "2021-08-25T18:20:22.548Z"
   },
   {
    "duration": -5727,
    "start_time": "2021-08-25T18:20:22.567Z"
   },
   {
    "duration": -5749,
    "start_time": "2021-08-25T18:20:22.590Z"
   },
   {
    "duration": -5777,
    "start_time": "2021-08-25T18:20:22.619Z"
   },
   {
    "duration": -5856,
    "start_time": "2021-08-25T18:20:22.699Z"
   },
   {
    "duration": -5900,
    "start_time": "2021-08-25T18:20:22.744Z"
   },
   {
    "duration": -5996,
    "start_time": "2021-08-25T18:20:22.841Z"
   },
   {
    "duration": -6041,
    "start_time": "2021-08-25T18:20:22.887Z"
   },
   {
    "duration": -6078,
    "start_time": "2021-08-25T18:20:22.925Z"
   },
   {
    "duration": -6137,
    "start_time": "2021-08-25T18:20:22.986Z"
   },
   {
    "duration": -6161,
    "start_time": "2021-08-25T18:20:23.011Z"
   },
   {
    "duration": 40,
    "start_time": "2021-08-25T18:21:32.714Z"
   },
   {
    "duration": 109,
    "start_time": "2021-08-25T18:21:38.955Z"
   },
   {
    "duration": 110,
    "start_time": "2021-08-25T18:22:29.391Z"
   },
   {
    "duration": 4428,
    "start_time": "2021-08-25T18:24:07.315Z"
   },
   {
    "duration": 6,
    "start_time": "2021-08-25T18:25:04.250Z"
   },
   {
    "duration": 6,
    "start_time": "2021-08-25T18:26:58.368Z"
   },
   {
    "duration": 4353,
    "start_time": "2021-08-25T18:27:19.088Z"
   },
   {
    "duration": 4441,
    "start_time": "2021-08-25T18:41:43.381Z"
   },
   {
    "duration": 1234,
    "start_time": "2021-08-25T18:44:58.619Z"
   },
   {
    "duration": 30,
    "start_time": "2021-08-25T18:44:59.855Z"
   },
   {
    "duration": 15,
    "start_time": "2021-08-25T18:44:59.887Z"
   },
   {
    "duration": 12,
    "start_time": "2021-08-25T18:44:59.904Z"
   },
   {
    "duration": 32,
    "start_time": "2021-08-25T18:44:59.918Z"
   },
   {
    "duration": 80,
    "start_time": "2021-08-25T18:44:59.951Z"
   },
   {
    "duration": 71,
    "start_time": "2021-08-25T18:45:00.033Z"
   },
   {
    "duration": 101,
    "start_time": "2021-08-25T18:45:00.107Z"
   },
   {
    "duration": 16,
    "start_time": "2021-08-25T18:45:00.210Z"
   },
   {
    "duration": 7,
    "start_time": "2021-08-25T18:45:00.228Z"
   },
   {
    "duration": 57,
    "start_time": "2021-08-25T18:45:00.237Z"
   },
   {
    "duration": 32,
    "start_time": "2021-08-25T18:45:00.295Z"
   },
   {
    "duration": 224,
    "start_time": "2021-08-25T18:45:00.328Z"
   },
   {
    "duration": 37,
    "start_time": "2021-08-25T18:45:00.554Z"
   },
   {
    "duration": 5,
    "start_time": "2021-08-25T18:45:00.593Z"
   },
   {
    "duration": 34,
    "start_time": "2021-08-25T18:45:00.600Z"
   },
   {
    "duration": 24,
    "start_time": "2021-08-25T18:45:00.635Z"
   },
   {
    "duration": 73,
    "start_time": "2021-08-25T18:45:00.660Z"
   },
   {
    "duration": 69,
    "start_time": "2021-08-25T18:45:00.735Z"
   },
   {
    "duration": 62,
    "start_time": "2021-08-25T18:45:00.806Z"
   },
   {
    "duration": 464,
    "start_time": "2021-08-25T18:45:00.870Z"
   },
   {
    "duration": 16,
    "start_time": "2021-08-25T18:45:01.337Z"
   },
   {
    "duration": 3,
    "start_time": "2021-08-25T18:45:01.357Z"
   },
   {
    "duration": 34,
    "start_time": "2021-08-25T18:45:01.385Z"
   },
   {
    "duration": 32,
    "start_time": "2021-08-25T18:45:01.421Z"
   },
   {
    "duration": 56,
    "start_time": "2021-08-25T18:45:01.455Z"
   },
   {
    "duration": 333,
    "start_time": "2021-08-25T18:45:01.513Z"
   },
   {
    "duration": -6797,
    "start_time": "2021-08-25T18:45:08.645Z"
   },
   {
    "duration": -6840,
    "start_time": "2021-08-25T18:45:08.690Z"
   },
   {
    "duration": -6885,
    "start_time": "2021-08-25T18:45:08.736Z"
   },
   {
    "duration": -6950,
    "start_time": "2021-08-25T18:45:08.803Z"
   },
   {
    "duration": -6995,
    "start_time": "2021-08-25T18:45:08.849Z"
   },
   {
    "duration": -7045,
    "start_time": "2021-08-25T18:45:08.901Z"
   },
   {
    "duration": -7093,
    "start_time": "2021-08-25T18:45:08.950Z"
   },
   {
    "duration": -7146,
    "start_time": "2021-08-25T18:45:09.005Z"
   },
   {
    "duration": -7190,
    "start_time": "2021-08-25T18:45:09.050Z"
   },
   {
    "duration": -7237,
    "start_time": "2021-08-25T18:45:09.099Z"
   },
   {
    "duration": -7284,
    "start_time": "2021-08-25T18:45:09.147Z"
   },
   {
    "duration": -7328,
    "start_time": "2021-08-25T18:45:09.193Z"
   },
   {
    "duration": -7373,
    "start_time": "2021-08-25T18:45:09.239Z"
   },
   {
    "duration": 26,
    "start_time": "2021-08-25T18:45:16.290Z"
   },
   {
    "duration": 1237,
    "start_time": "2021-08-25T18:47:02.817Z"
   },
   {
    "duration": 22,
    "start_time": "2021-08-25T18:51:06.766Z"
   },
   {
    "duration": 15,
    "start_time": "2021-08-25T18:51:09.207Z"
   },
   {
    "duration": 15,
    "start_time": "2021-08-25T18:51:09.927Z"
   },
   {
    "duration": 5,
    "start_time": "2021-08-25T18:51:10.370Z"
   },
   {
    "duration": 29,
    "start_time": "2021-08-25T18:51:10.738Z"
   },
   {
    "duration": 40,
    "start_time": "2021-08-25T18:51:14.140Z"
   },
   {
    "duration": 4,
    "start_time": "2021-08-25T18:51:14.948Z"
   },
   {
    "duration": 5,
    "start_time": "2021-08-25T18:51:15.273Z"
   },
   {
    "duration": 5,
    "start_time": "2021-08-25T18:51:15.708Z"
   },
   {
    "duration": 41,
    "start_time": "2021-08-25T18:51:16.100Z"
   },
   {
    "duration": 112,
    "start_time": "2021-08-25T18:51:16.974Z"
   },
   {
    "duration": 107,
    "start_time": "2021-08-25T18:51:17.441Z"
   },
   {
    "duration": 112,
    "start_time": "2021-08-25T18:51:17.925Z"
   },
   {
    "duration": 4411,
    "start_time": "2021-08-25T18:51:18.461Z"
   },
   {
    "duration": 1216,
    "start_time": "2021-08-25T18:55:31.447Z"
   },
   {
    "duration": 24,
    "start_time": "2021-08-25T18:55:32.665Z"
   },
   {
    "duration": 16,
    "start_time": "2021-08-25T18:55:32.691Z"
   },
   {
    "duration": 12,
    "start_time": "2021-08-25T18:55:32.708Z"
   },
   {
    "duration": 31,
    "start_time": "2021-08-25T18:55:32.722Z"
   },
   {
    "duration": 78,
    "start_time": "2021-08-25T18:55:32.755Z"
   },
   {
    "duration": 68,
    "start_time": "2021-08-25T18:55:32.835Z"
   },
   {
    "duration": 87,
    "start_time": "2021-08-25T18:55:32.905Z"
   },
   {
    "duration": 15,
    "start_time": "2021-08-25T18:55:32.994Z"
   },
   {
    "duration": 11,
    "start_time": "2021-08-25T18:55:33.011Z"
   },
   {
    "duration": 35,
    "start_time": "2021-08-25T18:55:33.023Z"
   },
   {
    "duration": 45,
    "start_time": "2021-08-25T18:55:33.060Z"
   },
   {
    "duration": 237,
    "start_time": "2021-08-25T18:55:33.107Z"
   },
   {
    "duration": 39,
    "start_time": "2021-08-25T18:55:33.346Z"
   },
   {
    "duration": 5,
    "start_time": "2021-08-25T18:55:33.387Z"
   },
   {
    "duration": 26,
    "start_time": "2021-08-25T18:55:33.393Z"
   },
   {
    "duration": 22,
    "start_time": "2021-08-25T18:55:33.421Z"
   },
   {
    "duration": 72,
    "start_time": "2021-08-25T18:55:33.445Z"
   },
   {
    "duration": 49,
    "start_time": "2021-08-25T18:55:33.518Z"
   },
   {
    "duration": 71,
    "start_time": "2021-08-25T18:55:33.569Z"
   },
   {
    "duration": 446,
    "start_time": "2021-08-25T18:55:33.642Z"
   },
   {
    "duration": 14,
    "start_time": "2021-08-25T18:55:34.090Z"
   },
   {
    "duration": 22,
    "start_time": "2021-08-25T18:55:34.107Z"
   },
   {
    "duration": 42,
    "start_time": "2021-08-25T18:55:34.131Z"
   },
   {
    "duration": 30,
    "start_time": "2021-08-25T18:55:34.175Z"
   },
   {
    "duration": 29,
    "start_time": "2021-08-25T18:55:34.207Z"
   },
   {
    "duration": 26,
    "start_time": "2021-08-25T18:55:34.237Z"
   },
   {
    "duration": 32,
    "start_time": "2021-08-25T18:55:34.265Z"
   },
   {
    "duration": 16,
    "start_time": "2021-08-25T18:55:34.299Z"
   },
   {
    "duration": 13,
    "start_time": "2021-08-25T18:55:34.317Z"
   },
   {
    "duration": 55,
    "start_time": "2021-08-25T18:55:34.331Z"
   },
   {
    "duration": 43,
    "start_time": "2021-08-25T18:55:34.388Z"
   },
   {
    "duration": 5,
    "start_time": "2021-08-25T18:55:34.433Z"
   },
   {
    "duration": 26,
    "start_time": "2021-08-25T18:55:34.440Z"
   },
   {
    "duration": 19,
    "start_time": "2021-08-25T18:55:34.468Z"
   },
   {
    "duration": 60,
    "start_time": "2021-08-25T18:55:34.489Z"
   },
   {
    "duration": 106,
    "start_time": "2021-08-25T18:55:34.551Z"
   },
   {
    "duration": 138,
    "start_time": "2021-08-25T18:55:34.658Z"
   },
   {
    "duration": 128,
    "start_time": "2021-08-25T18:55:34.798Z"
   },
   {
    "duration": 282,
    "start_time": "2021-08-25T18:55:34.928Z"
   },
   {
    "duration": 4474,
    "start_time": "2021-08-25T18:56:01.618Z"
   },
   {
    "duration": 1287,
    "start_time": "2021-08-25T18:56:15.069Z"
   },
   {
    "duration": 20,
    "start_time": "2021-08-25T18:56:16.358Z"
   },
   {
    "duration": 23,
    "start_time": "2021-08-25T18:56:16.380Z"
   },
   {
    "duration": 23,
    "start_time": "2021-08-25T18:56:16.405Z"
   },
   {
    "duration": 38,
    "start_time": "2021-08-25T18:56:16.429Z"
   },
   {
    "duration": 55,
    "start_time": "2021-08-25T18:56:16.469Z"
   },
   {
    "duration": 64,
    "start_time": "2021-08-25T18:56:16.525Z"
   },
   {
    "duration": 94,
    "start_time": "2021-08-25T18:56:16.591Z"
   },
   {
    "duration": 24,
    "start_time": "2021-08-25T18:56:16.687Z"
   },
   {
    "duration": 20,
    "start_time": "2021-08-25T18:56:16.713Z"
   },
   {
    "duration": 45,
    "start_time": "2021-08-25T18:56:16.735Z"
   },
   {
    "duration": 32,
    "start_time": "2021-08-25T18:56:16.782Z"
   },
   {
    "duration": 221,
    "start_time": "2021-08-25T18:56:16.816Z"
   },
   {
    "duration": 29,
    "start_time": "2021-08-25T18:56:17.038Z"
   },
   {
    "duration": 5,
    "start_time": "2021-08-25T18:56:17.084Z"
   },
   {
    "duration": 32,
    "start_time": "2021-08-25T18:56:17.091Z"
   },
   {
    "duration": 22,
    "start_time": "2021-08-25T18:56:17.125Z"
   },
   {
    "duration": 65,
    "start_time": "2021-08-25T18:56:17.148Z"
   },
   {
    "duration": 50,
    "start_time": "2021-08-25T18:56:17.215Z"
   },
   {
    "duration": 74,
    "start_time": "2021-08-25T18:56:17.267Z"
   },
   {
    "duration": 445,
    "start_time": "2021-08-25T18:56:17.342Z"
   },
   {
    "duration": 14,
    "start_time": "2021-08-25T18:56:17.788Z"
   },
   {
    "duration": 16,
    "start_time": "2021-08-25T18:56:17.805Z"
   },
   {
    "duration": 50,
    "start_time": "2021-08-25T18:56:17.823Z"
   },
   {
    "duration": 30,
    "start_time": "2021-08-25T18:56:17.874Z"
   },
   {
    "duration": 28,
    "start_time": "2021-08-25T18:56:17.906Z"
   },
   {
    "duration": 25,
    "start_time": "2021-08-25T18:56:17.936Z"
   },
   {
    "duration": 36,
    "start_time": "2021-08-25T18:56:17.962Z"
   },
   {
    "duration": 24,
    "start_time": "2021-08-25T18:56:17.999Z"
   },
   {
    "duration": 15,
    "start_time": "2021-08-25T18:56:18.025Z"
   },
   {
    "duration": 47,
    "start_time": "2021-08-25T18:56:18.042Z"
   },
   {
    "duration": 39,
    "start_time": "2021-08-25T18:56:18.091Z"
   },
   {
    "duration": 4,
    "start_time": "2021-08-25T18:56:18.132Z"
   },
   {
    "duration": 18,
    "start_time": "2021-08-25T18:56:18.137Z"
   },
   {
    "duration": 17,
    "start_time": "2021-08-25T18:56:18.157Z"
   },
   {
    "duration": 62,
    "start_time": "2021-08-25T18:56:18.176Z"
   },
   {
    "duration": 149,
    "start_time": "2021-08-25T18:56:18.240Z"
   },
   {
    "duration": 131,
    "start_time": "2021-08-25T18:56:18.391Z"
   },
   {
    "duration": 124,
    "start_time": "2021-08-25T18:56:18.523Z"
   },
   {
    "duration": 263,
    "start_time": "2021-08-25T18:56:18.649Z"
   },
   {
    "duration": 4606,
    "start_time": "2021-08-25T18:56:50.442Z"
   },
   {
    "duration": 2183,
    "start_time": "2021-08-25T18:57:01.958Z"
   },
   {
    "duration": 22,
    "start_time": "2021-08-25T18:57:04.142Z"
   },
   {
    "duration": 21,
    "start_time": "2021-08-25T18:57:04.166Z"
   },
   {
    "duration": 13,
    "start_time": "2021-08-25T18:57:04.188Z"
   },
   {
    "duration": 32,
    "start_time": "2021-08-25T18:57:04.203Z"
   },
   {
    "duration": 82,
    "start_time": "2021-08-25T18:57:04.237Z"
   },
   {
    "duration": 66,
    "start_time": "2021-08-25T18:57:04.321Z"
   },
   {
    "duration": 97,
    "start_time": "2021-08-25T18:57:04.390Z"
   },
   {
    "duration": 18,
    "start_time": "2021-08-25T18:57:04.490Z"
   },
   {
    "duration": 13,
    "start_time": "2021-08-25T18:57:04.510Z"
   },
   {
    "duration": 33,
    "start_time": "2021-08-25T18:57:04.525Z"
   },
   {
    "duration": 34,
    "start_time": "2021-08-25T18:57:04.584Z"
   },
   {
    "duration": 234,
    "start_time": "2021-08-25T18:57:04.620Z"
   },
   {
    "duration": 40,
    "start_time": "2021-08-25T18:57:04.856Z"
   },
   {
    "duration": 5,
    "start_time": "2021-08-25T18:57:04.898Z"
   },
   {
    "duration": 37,
    "start_time": "2021-08-25T18:57:04.904Z"
   },
   {
    "duration": 24,
    "start_time": "2021-08-25T18:57:04.943Z"
   },
   {
    "duration": 61,
    "start_time": "2021-08-25T18:57:04.969Z"
   },
   {
    "duration": 64,
    "start_time": "2021-08-25T18:57:05.032Z"
   },
   {
    "duration": 58,
    "start_time": "2021-08-25T18:57:05.098Z"
   },
   {
    "duration": 452,
    "start_time": "2021-08-25T18:57:05.158Z"
   },
   {
    "duration": 14,
    "start_time": "2021-08-25T18:57:05.611Z"
   },
   {
    "duration": 3,
    "start_time": "2021-08-25T18:57:05.629Z"
   },
   {
    "duration": 55,
    "start_time": "2021-08-25T18:57:05.634Z"
   },
   {
    "duration": 28,
    "start_time": "2021-08-25T18:57:05.691Z"
   },
   {
    "duration": 30,
    "start_time": "2021-08-25T18:57:05.721Z"
   },
   {
    "duration": 312,
    "start_time": "2021-08-25T18:57:05.753Z"
   },
   {
    "duration": -6471,
    "start_time": "2021-08-25T18:57:12.538Z"
   },
   {
    "duration": -6483,
    "start_time": "2021-08-25T18:57:12.551Z"
   },
   {
    "duration": -6493,
    "start_time": "2021-08-25T18:57:12.562Z"
   },
   {
    "duration": -6506,
    "start_time": "2021-08-25T18:57:12.576Z"
   },
   {
    "duration": -6567,
    "start_time": "2021-08-25T18:57:12.638Z"
   },
   {
    "duration": -6614,
    "start_time": "2021-08-25T18:57:12.686Z"
   },
   {
    "duration": -6659,
    "start_time": "2021-08-25T18:57:12.732Z"
   },
   {
    "duration": -6723,
    "start_time": "2021-08-25T18:57:12.796Z"
   },
   {
    "duration": -6775,
    "start_time": "2021-08-25T18:57:12.849Z"
   },
   {
    "duration": -6826,
    "start_time": "2021-08-25T18:57:12.901Z"
   },
   {
    "duration": -6870,
    "start_time": "2021-08-25T18:57:12.946Z"
   },
   {
    "duration": -6915,
    "start_time": "2021-08-25T18:57:12.992Z"
   },
   {
    "duration": -6956,
    "start_time": "2021-08-25T18:57:13.034Z"
   },
   {
    "duration": 1224,
    "start_time": "2021-08-25T18:58:18.050Z"
   },
   {
    "duration": 22,
    "start_time": "2021-08-25T18:58:19.276Z"
   },
   {
    "duration": 16,
    "start_time": "2021-08-25T18:58:19.300Z"
   },
   {
    "duration": 13,
    "start_time": "2021-08-25T18:58:19.318Z"
   },
   {
    "duration": 57,
    "start_time": "2021-08-25T18:58:19.333Z"
   },
   {
    "duration": 55,
    "start_time": "2021-08-25T18:58:19.392Z"
   },
   {
    "duration": 78,
    "start_time": "2021-08-25T18:58:19.449Z"
   },
   {
    "duration": 86,
    "start_time": "2021-08-25T18:58:19.530Z"
   },
   {
    "duration": 16,
    "start_time": "2021-08-25T18:58:19.618Z"
   },
   {
    "duration": 6,
    "start_time": "2021-08-25T18:58:19.636Z"
   },
   {
    "duration": 51,
    "start_time": "2021-08-25T18:58:19.644Z"
   },
   {
    "duration": 31,
    "start_time": "2021-08-25T18:58:19.697Z"
   },
   {
    "duration": 234,
    "start_time": "2021-08-25T18:58:19.729Z"
   },
   {
    "duration": 39,
    "start_time": "2021-08-25T18:58:19.965Z"
   },
   {
    "duration": 5,
    "start_time": "2021-08-25T18:58:20.005Z"
   },
   {
    "duration": 28,
    "start_time": "2021-08-25T18:58:20.012Z"
   },
   {
    "duration": 44,
    "start_time": "2021-08-25T18:58:20.042Z"
   },
   {
    "duration": 49,
    "start_time": "2021-08-25T18:58:20.087Z"
   },
   {
    "duration": 66,
    "start_time": "2021-08-25T18:58:20.138Z"
   },
   {
    "duration": 60,
    "start_time": "2021-08-25T18:58:20.205Z"
   },
   {
    "duration": 457,
    "start_time": "2021-08-25T18:58:20.267Z"
   },
   {
    "duration": 13,
    "start_time": "2021-08-25T18:58:20.726Z"
   },
   {
    "duration": 6,
    "start_time": "2021-08-25T18:58:20.743Z"
   },
   {
    "duration": 53,
    "start_time": "2021-08-25T18:58:20.751Z"
   },
   {
    "duration": 32,
    "start_time": "2021-08-25T18:58:20.805Z"
   },
   {
    "duration": 48,
    "start_time": "2021-08-25T18:58:20.838Z"
   },
   {
    "duration": 304,
    "start_time": "2021-08-25T18:58:20.887Z"
   },
   {
    "duration": -6563,
    "start_time": "2021-08-25T18:58:27.756Z"
   },
   {
    "duration": -6614,
    "start_time": "2021-08-25T18:58:27.808Z"
   },
   {
    "duration": -6661,
    "start_time": "2021-08-25T18:58:27.856Z"
   },
   {
    "duration": -6709,
    "start_time": "2021-08-25T18:58:27.905Z"
   },
   {
    "duration": -6720,
    "start_time": "2021-08-25T18:58:27.917Z"
   },
   {
    "duration": -6732,
    "start_time": "2021-08-25T18:58:27.930Z"
   },
   {
    "duration": -6774,
    "start_time": "2021-08-25T18:58:27.973Z"
   },
   {
    "duration": -6841,
    "start_time": "2021-08-25T18:58:28.041Z"
   },
   {
    "duration": -6886,
    "start_time": "2021-08-25T18:58:28.087Z"
   },
   {
    "duration": -6927,
    "start_time": "2021-08-25T18:58:28.129Z"
   },
   {
    "duration": -6971,
    "start_time": "2021-08-25T18:58:28.173Z"
   },
   {
    "duration": -7019,
    "start_time": "2021-08-25T18:58:28.223Z"
   },
   {
    "duration": -7066,
    "start_time": "2021-08-25T18:58:28.270Z"
   },
   {
    "duration": 25,
    "start_time": "2021-08-25T18:58:40.104Z"
   },
   {
    "duration": 26,
    "start_time": "2021-08-25T18:58:47.962Z"
   },
   {
    "duration": 25,
    "start_time": "2021-08-25T18:59:03.093Z"
   },
   {
    "duration": 25,
    "start_time": "2021-08-25T18:59:15.556Z"
   },
   {
    "duration": 26,
    "start_time": "2021-08-25T18:59:22.594Z"
   },
   {
    "duration": 25,
    "start_time": "2021-08-25T18:59:32.983Z"
   },
   {
    "duration": 22,
    "start_time": "2021-08-25T18:59:40.555Z"
   },
   {
    "duration": 1276,
    "start_time": "2021-08-25T19:02:04.386Z"
   },
   {
    "duration": 23,
    "start_time": "2021-08-25T19:02:05.664Z"
   },
   {
    "duration": 16,
    "start_time": "2021-08-25T19:02:05.689Z"
   },
   {
    "duration": 12,
    "start_time": "2021-08-25T19:02:05.707Z"
   },
   {
    "duration": 32,
    "start_time": "2021-08-25T19:02:05.721Z"
   },
   {
    "duration": 78,
    "start_time": "2021-08-25T19:02:05.754Z"
   },
   {
    "duration": 71,
    "start_time": "2021-08-25T19:02:05.834Z"
   },
   {
    "duration": 91,
    "start_time": "2021-08-25T19:02:05.908Z"
   },
   {
    "duration": 16,
    "start_time": "2021-08-25T19:02:06.001Z"
   },
   {
    "duration": 7,
    "start_time": "2021-08-25T19:02:06.019Z"
   },
   {
    "duration": 57,
    "start_time": "2021-08-25T19:02:06.028Z"
   },
   {
    "duration": 33,
    "start_time": "2021-08-25T19:02:06.087Z"
   },
   {
    "duration": 239,
    "start_time": "2021-08-25T19:02:06.122Z"
   },
   {
    "duration": 40,
    "start_time": "2021-08-25T19:02:06.363Z"
   },
   {
    "duration": 5,
    "start_time": "2021-08-25T19:02:06.405Z"
   },
   {
    "duration": 30,
    "start_time": "2021-08-25T19:02:06.412Z"
   },
   {
    "duration": 40,
    "start_time": "2021-08-25T19:02:06.444Z"
   },
   {
    "duration": 49,
    "start_time": "2021-08-25T19:02:06.486Z"
   },
   {
    "duration": 71,
    "start_time": "2021-08-25T19:02:06.537Z"
   },
   {
    "duration": 61,
    "start_time": "2021-08-25T19:02:06.609Z"
   },
   {
    "duration": 451,
    "start_time": "2021-08-25T19:02:06.672Z"
   },
   {
    "duration": 15,
    "start_time": "2021-08-25T19:02:07.124Z"
   },
   {
    "duration": 4,
    "start_time": "2021-08-25T19:02:07.142Z"
   },
   {
    "duration": 52,
    "start_time": "2021-08-25T19:02:07.147Z"
   },
   {
    "duration": 30,
    "start_time": "2021-08-25T19:02:07.200Z"
   },
   {
    "duration": 30,
    "start_time": "2021-08-25T19:02:07.232Z"
   },
   {
    "duration": 43,
    "start_time": "2021-08-25T19:02:07.263Z"
   },
   {
    "duration": 14,
    "start_time": "2021-08-25T19:02:07.308Z"
   },
   {
    "duration": 14,
    "start_time": "2021-08-25T19:02:07.324Z"
   },
   {
    "duration": 4,
    "start_time": "2021-08-25T19:02:07.340Z"
   },
   {
    "duration": 56,
    "start_time": "2021-08-25T19:02:07.346Z"
   },
   {
    "duration": 40,
    "start_time": "2021-08-25T19:02:07.404Z"
   },
   {
    "duration": 4,
    "start_time": "2021-08-25T19:02:07.445Z"
   },
   {
    "duration": 7,
    "start_time": "2021-08-25T19:02:07.451Z"
   },
   {
    "duration": 26,
    "start_time": "2021-08-25T19:02:07.460Z"
   },
   {
    "duration": 38,
    "start_time": "2021-08-25T19:02:07.487Z"
   },
   {
    "duration": 130,
    "start_time": "2021-08-25T19:02:07.526Z"
   },
   {
    "duration": 140,
    "start_time": "2021-08-25T19:02:07.658Z"
   },
   {
    "duration": 120,
    "start_time": "2021-08-25T19:02:07.799Z"
   },
   {
    "duration": 5272,
    "start_time": "2021-08-25T19:02:07.921Z"
   },
   {
    "duration": 102,
    "start_time": "2021-08-25T19:34:09.044Z"
   },
   {
    "duration": 112,
    "start_time": "2021-08-25T19:34:24.934Z"
   },
   {
    "duration": 112,
    "start_time": "2021-08-25T19:34:33.330Z"
   },
   {
    "duration": 179,
    "start_time": "2021-08-25T19:35:26.513Z"
   },
   {
    "duration": 110,
    "start_time": "2021-08-25T19:35:36.051Z"
   },
   {
    "duration": 107,
    "start_time": "2021-08-25T19:36:08.455Z"
   },
   {
    "duration": 450,
    "start_time": "2021-08-25T21:03:09.377Z"
   },
   {
    "duration": 1203,
    "start_time": "2021-08-26T02:11:50.571Z"
   },
   {
    "duration": 18,
    "start_time": "2021-08-26T02:11:51.776Z"
   },
   {
    "duration": 14,
    "start_time": "2021-08-26T02:11:51.796Z"
   },
   {
    "duration": 29,
    "start_time": "2021-08-26T02:11:51.812Z"
   },
   {
    "duration": 29,
    "start_time": "2021-08-26T02:11:51.842Z"
   },
   {
    "duration": 49,
    "start_time": "2021-08-26T02:11:51.873Z"
   },
   {
    "duration": 65,
    "start_time": "2021-08-26T02:11:51.924Z"
   },
   {
    "duration": 91,
    "start_time": "2021-08-26T02:11:51.993Z"
   },
   {
    "duration": 14,
    "start_time": "2021-08-26T02:11:52.086Z"
   },
   {
    "duration": 6,
    "start_time": "2021-08-26T02:11:52.102Z"
   },
   {
    "duration": 47,
    "start_time": "2021-08-26T02:11:52.109Z"
   },
   {
    "duration": 30,
    "start_time": "2021-08-26T02:11:52.157Z"
   },
   {
    "duration": 203,
    "start_time": "2021-08-26T02:11:52.188Z"
   },
   {
    "duration": 29,
    "start_time": "2021-08-26T02:11:52.393Z"
   },
   {
    "duration": 17,
    "start_time": "2021-08-26T02:11:52.424Z"
   },
   {
    "duration": 23,
    "start_time": "2021-08-26T02:11:52.443Z"
   },
   {
    "duration": 22,
    "start_time": "2021-08-26T02:11:52.468Z"
   },
   {
    "duration": 71,
    "start_time": "2021-08-26T02:11:52.492Z"
   },
   {
    "duration": 48,
    "start_time": "2021-08-26T02:11:52.565Z"
   },
   {
    "duration": 78,
    "start_time": "2021-08-26T02:11:52.615Z"
   },
   {
    "duration": 405,
    "start_time": "2021-08-26T02:11:52.696Z"
   },
   {
    "duration": 15,
    "start_time": "2021-08-26T02:11:53.103Z"
   },
   {
    "duration": 20,
    "start_time": "2021-08-26T02:11:53.122Z"
   },
   {
    "duration": 31,
    "start_time": "2021-08-26T02:11:53.144Z"
   },
   {
    "duration": 30,
    "start_time": "2021-08-26T02:11:53.177Z"
   },
   {
    "duration": 54,
    "start_time": "2021-08-26T02:11:53.209Z"
   },
   {
    "duration": 22,
    "start_time": "2021-08-26T02:11:53.265Z"
   },
   {
    "duration": 16,
    "start_time": "2021-08-26T02:11:53.288Z"
   },
   {
    "duration": 43,
    "start_time": "2021-08-26T02:11:53.306Z"
   },
   {
    "duration": 4,
    "start_time": "2021-08-26T02:11:53.350Z"
   },
   {
    "duration": 27,
    "start_time": "2021-08-26T02:11:53.355Z"
   },
   {
    "duration": 36,
    "start_time": "2021-08-26T02:11:53.384Z"
   },
   {
    "duration": 22,
    "start_time": "2021-08-26T02:11:53.421Z"
   },
   {
    "duration": 6,
    "start_time": "2021-08-26T02:11:53.445Z"
   },
   {
    "duration": 6,
    "start_time": "2021-08-26T02:11:53.452Z"
   },
   {
    "duration": 36,
    "start_time": "2021-08-26T02:11:53.459Z"
   },
   {
    "duration": 125,
    "start_time": "2021-08-26T02:11:53.497Z"
   },
   {
    "duration": 117,
    "start_time": "2021-08-26T02:11:53.624Z"
   },
   {
    "duration": 118,
    "start_time": "2021-08-26T02:11:53.743Z"
   },
   {
    "duration": 6506,
    "start_time": "2021-08-26T02:11:53.863Z"
   },
   {
    "duration": -718,
    "start_time": "2021-08-26T02:12:01.089Z"
   },
   {
    "duration": -738,
    "start_time": "2021-08-26T02:12:01.110Z"
   },
   {
    "duration": -743,
    "start_time": "2021-08-26T02:12:01.116Z"
   },
   {
    "duration": 6,
    "start_time": "2021-08-26T02:13:14.607Z"
   },
   {
    "duration": 45,
    "start_time": "2021-08-26T02:15:43.293Z"
   },
   {
    "duration": 1452,
    "start_time": "2021-08-26T07:05:42.555Z"
   },
   {
    "duration": 36,
    "start_time": "2021-08-26T07:05:44.010Z"
   },
   {
    "duration": 27,
    "start_time": "2021-08-26T07:05:44.049Z"
   },
   {
    "duration": 13,
    "start_time": "2021-08-26T07:05:44.079Z"
   },
   {
    "duration": 33,
    "start_time": "2021-08-26T07:05:44.093Z"
   },
   {
    "duration": 60,
    "start_time": "2021-08-26T07:05:44.140Z"
   },
   {
    "duration": 74,
    "start_time": "2021-08-26T07:05:44.202Z"
   },
   {
    "duration": 103,
    "start_time": "2021-08-26T07:05:44.278Z"
   },
   {
    "duration": 15,
    "start_time": "2021-08-26T07:05:44.383Z"
   },
   {
    "duration": 7,
    "start_time": "2021-08-26T07:05:44.399Z"
   },
   {
    "duration": 54,
    "start_time": "2021-08-26T07:05:44.407Z"
   },
   {
    "duration": 32,
    "start_time": "2021-08-26T07:05:44.463Z"
   },
   {
    "duration": 238,
    "start_time": "2021-08-26T07:05:44.497Z"
   },
   {
    "duration": 41,
    "start_time": "2021-08-26T07:05:44.740Z"
   },
   {
    "duration": 4,
    "start_time": "2021-08-26T07:05:44.783Z"
   },
   {
    "duration": 38,
    "start_time": "2021-08-26T07:05:44.789Z"
   },
   {
    "duration": 37,
    "start_time": "2021-08-26T07:05:44.829Z"
   },
   {
    "duration": 45,
    "start_time": "2021-08-26T07:05:44.868Z"
   },
   {
    "duration": 75,
    "start_time": "2021-08-26T07:05:44.915Z"
   },
   {
    "duration": 76,
    "start_time": "2021-08-26T07:05:44.992Z"
   },
   {
    "duration": 484,
    "start_time": "2021-08-26T07:05:45.071Z"
   },
   {
    "duration": 17,
    "start_time": "2021-08-26T07:05:45.559Z"
   },
   {
    "duration": 4,
    "start_time": "2021-08-26T07:05:45.579Z"
   },
   {
    "duration": 33,
    "start_time": "2021-08-26T07:05:45.585Z"
   },
   {
    "duration": 61,
    "start_time": "2021-08-26T07:05:45.619Z"
   },
   {
    "duration": 29,
    "start_time": "2021-08-26T07:05:45.682Z"
   },
   {
    "duration": 48,
    "start_time": "2021-08-26T07:05:45.712Z"
   },
   {
    "duration": 15,
    "start_time": "2021-08-26T07:05:45.771Z"
   },
   {
    "duration": 13,
    "start_time": "2021-08-26T07:05:45.788Z"
   },
   {
    "duration": 4,
    "start_time": "2021-08-26T07:05:45.803Z"
   },
   {
    "duration": 40,
    "start_time": "2021-08-26T07:05:45.809Z"
   },
   {
    "duration": 46,
    "start_time": "2021-08-26T07:05:45.851Z"
   },
   {
    "duration": 4,
    "start_time": "2021-08-26T07:05:45.899Z"
   },
   {
    "duration": 10,
    "start_time": "2021-08-26T07:05:45.905Z"
   },
   {
    "duration": 36,
    "start_time": "2021-08-26T07:05:45.917Z"
   },
   {
    "duration": 51,
    "start_time": "2021-08-26T07:05:45.955Z"
   },
   {
    "duration": 118,
    "start_time": "2021-08-26T07:05:46.007Z"
   },
   {
    "duration": 150,
    "start_time": "2021-08-26T07:05:46.127Z"
   },
   {
    "duration": 138,
    "start_time": "2021-08-26T07:05:46.279Z"
   },
   {
    "duration": 69,
    "start_time": "2021-08-26T07:05:46.419Z"
   },
   {
    "duration": 479,
    "start_time": "2021-08-26T07:05:46.490Z"
   },
   {
    "duration": -7258,
    "start_time": "2021-08-26T07:05:54.229Z"
   },
   {
    "duration": -7269,
    "start_time": "2021-08-26T07:05:54.241Z"
   },
   {
    "duration": -7280,
    "start_time": "2021-08-26T07:05:54.253Z"
   },
   {
    "duration": 317,
    "start_time": "2021-08-26T07:08:40.671Z"
   },
   {
    "duration": 1367,
    "start_time": "2021-08-26T07:08:48.967Z"
   },
   {
    "duration": 27,
    "start_time": "2021-08-26T07:08:50.336Z"
   },
   {
    "duration": 23,
    "start_time": "2021-08-26T07:08:50.366Z"
   },
   {
    "duration": 12,
    "start_time": "2021-08-26T07:08:50.391Z"
   },
   {
    "duration": 73,
    "start_time": "2021-08-26T07:08:50.405Z"
   },
   {
    "duration": 62,
    "start_time": "2021-08-26T07:08:50.480Z"
   },
   {
    "duration": 63,
    "start_time": "2021-08-26T07:08:50.544Z"
   },
   {
    "duration": 103,
    "start_time": "2021-08-26T07:08:50.609Z"
   },
   {
    "duration": 31,
    "start_time": "2021-08-26T07:08:50.714Z"
   },
   {
    "duration": 19,
    "start_time": "2021-08-26T07:08:50.748Z"
   },
   {
    "duration": 33,
    "start_time": "2021-08-26T07:08:50.770Z"
   },
   {
    "duration": 63,
    "start_time": "2021-08-26T07:08:50.805Z"
   },
   {
    "duration": 219,
    "start_time": "2021-08-26T07:08:50.871Z"
   },
   {
    "duration": 30,
    "start_time": "2021-08-26T07:08:51.092Z"
   },
   {
    "duration": 5,
    "start_time": "2021-08-26T07:08:51.124Z"
   },
   {
    "duration": 34,
    "start_time": "2021-08-26T07:08:51.151Z"
   },
   {
    "duration": 22,
    "start_time": "2021-08-26T07:08:51.186Z"
   },
   {
    "duration": 73,
    "start_time": "2021-08-26T07:08:51.209Z"
   },
   {
    "duration": 48,
    "start_time": "2021-08-26T07:08:51.284Z"
   },
   {
    "duration": 64,
    "start_time": "2021-08-26T07:08:51.346Z"
   },
   {
    "duration": 482,
    "start_time": "2021-08-26T07:08:51.412Z"
   },
   {
    "duration": 13,
    "start_time": "2021-08-26T07:08:51.895Z"
   },
   {
    "duration": 7,
    "start_time": "2021-08-26T07:08:51.911Z"
   },
   {
    "duration": 66,
    "start_time": "2021-08-26T07:08:51.920Z"
   },
   {
    "duration": 28,
    "start_time": "2021-08-26T07:08:51.988Z"
   },
   {
    "duration": 49,
    "start_time": "2021-08-26T07:08:52.018Z"
   },
   {
    "duration": 42,
    "start_time": "2021-08-26T07:08:52.070Z"
   },
   {
    "duration": 14,
    "start_time": "2021-08-26T07:08:52.114Z"
   },
   {
    "duration": 38,
    "start_time": "2021-08-26T07:08:52.129Z"
   },
   {
    "duration": 6,
    "start_time": "2021-08-26T07:08:52.169Z"
   },
   {
    "duration": 28,
    "start_time": "2021-08-26T07:08:52.176Z"
   },
   {
    "duration": 66,
    "start_time": "2021-08-26T07:08:52.205Z"
   },
   {
    "duration": 5,
    "start_time": "2021-08-26T07:08:52.272Z"
   },
   {
    "duration": 11,
    "start_time": "2021-08-26T07:08:52.278Z"
   },
   {
    "duration": 9,
    "start_time": "2021-08-26T07:08:52.290Z"
   },
   {
    "duration": 41,
    "start_time": "2021-08-26T07:08:52.300Z"
   },
   {
    "duration": 140,
    "start_time": "2021-08-26T07:08:52.346Z"
   },
   {
    "duration": 124,
    "start_time": "2021-08-26T07:08:52.488Z"
   },
   {
    "duration": 138,
    "start_time": "2021-08-26T07:08:52.614Z"
   },
   {
    "duration": 50,
    "start_time": "2021-08-26T07:08:52.754Z"
   },
   {
    "duration": 7245,
    "start_time": "2021-08-26T07:08:52.806Z"
   },
   {
    "duration": -6334,
    "start_time": "2021-08-26T07:09:06.388Z"
   },
   {
    "duration": -6348,
    "start_time": "2021-08-26T07:09:06.404Z"
   },
   {
    "duration": -6374,
    "start_time": "2021-08-26T07:09:06.431Z"
   },
   {
    "duration": 53,
    "start_time": "2021-08-26T07:10:01.249Z"
   },
   {
    "duration": 384,
    "start_time": "2021-08-26T07:10:21.037Z"
   },
   {
    "duration": 1330,
    "start_time": "2021-08-26T07:10:41.535Z"
   },
   {
    "duration": 17,
    "start_time": "2021-08-26T07:10:42.866Z"
   },
   {
    "duration": 35,
    "start_time": "2021-08-26T07:10:42.885Z"
   },
   {
    "duration": 14,
    "start_time": "2021-08-26T07:10:42.922Z"
   },
   {
    "duration": 48,
    "start_time": "2021-08-26T07:10:42.937Z"
   },
   {
    "duration": 65,
    "start_time": "2021-08-26T07:10:42.986Z"
   },
   {
    "duration": 98,
    "start_time": "2021-08-26T07:10:43.054Z"
   },
   {
    "duration": 98,
    "start_time": "2021-08-26T07:10:43.158Z"
   },
   {
    "duration": 16,
    "start_time": "2021-08-26T07:10:43.258Z"
   },
   {
    "duration": 29,
    "start_time": "2021-08-26T07:10:43.275Z"
   },
   {
    "duration": 43,
    "start_time": "2021-08-26T07:10:43.306Z"
   },
   {
    "duration": 33,
    "start_time": "2021-08-26T07:10:43.352Z"
   },
   {
    "duration": 212,
    "start_time": "2021-08-26T07:10:43.387Z"
   },
   {
    "duration": 26,
    "start_time": "2021-08-26T07:10:43.600Z"
   },
   {
    "duration": 14,
    "start_time": "2021-08-26T07:10:43.628Z"
   },
   {
    "duration": 36,
    "start_time": "2021-08-26T07:10:43.644Z"
   },
   {
    "duration": 21,
    "start_time": "2021-08-26T07:10:43.682Z"
   },
   {
    "duration": 72,
    "start_time": "2021-08-26T07:10:43.705Z"
   },
   {
    "duration": 47,
    "start_time": "2021-08-26T07:10:43.779Z"
   },
   {
    "duration": 73,
    "start_time": "2021-08-26T07:10:43.828Z"
   },
   {
    "duration": 485,
    "start_time": "2021-08-26T07:10:43.903Z"
   },
   {
    "duration": 15,
    "start_time": "2021-08-26T07:10:44.390Z"
   },
   {
    "duration": 4,
    "start_time": "2021-08-26T07:10:44.408Z"
   },
   {
    "duration": 60,
    "start_time": "2021-08-26T07:10:44.414Z"
   },
   {
    "duration": 30,
    "start_time": "2021-08-26T07:10:44.476Z"
   },
   {
    "duration": 51,
    "start_time": "2021-08-26T07:10:44.508Z"
   },
   {
    "duration": 50,
    "start_time": "2021-08-26T07:10:49.193Z"
   },
   {
    "duration": 1298,
    "start_time": "2021-08-26T07:11:46.566Z"
   },
   {
    "duration": 20,
    "start_time": "2021-08-26T07:11:47.866Z"
   },
   {
    "duration": 17,
    "start_time": "2021-08-26T07:11:47.888Z"
   },
   {
    "duration": 11,
    "start_time": "2021-08-26T07:11:47.908Z"
   },
   {
    "duration": 60,
    "start_time": "2021-08-26T07:11:47.921Z"
   },
   {
    "duration": 65,
    "start_time": "2021-08-26T07:11:47.983Z"
   },
   {
    "duration": 54,
    "start_time": "2021-08-26T07:11:48.051Z"
   },
   {
    "duration": 96,
    "start_time": "2021-08-26T07:11:48.108Z"
   },
   {
    "duration": 22,
    "start_time": "2021-08-26T07:11:48.206Z"
   },
   {
    "duration": 18,
    "start_time": "2021-08-26T07:11:48.229Z"
   },
   {
    "duration": 29,
    "start_time": "2021-08-26T07:11:48.249Z"
   },
   {
    "duration": 30,
    "start_time": "2021-08-26T07:11:48.279Z"
   },
   {
    "duration": 244,
    "start_time": "2021-08-26T07:11:48.311Z"
   },
   {
    "duration": 28,
    "start_time": "2021-08-26T07:11:48.557Z"
   },
   {
    "duration": 6,
    "start_time": "2021-08-26T07:11:48.587Z"
   },
   {
    "duration": 63,
    "start_time": "2021-08-26T07:11:48.595Z"
   },
   {
    "duration": 24,
    "start_time": "2021-08-26T07:11:48.661Z"
   },
   {
    "duration": 65,
    "start_time": "2021-08-26T07:11:48.687Z"
   },
   {
    "duration": 49,
    "start_time": "2021-08-26T07:11:48.755Z"
   },
   {
    "duration": 77,
    "start_time": "2021-08-26T07:11:48.806Z"
   },
   {
    "duration": 467,
    "start_time": "2021-08-26T07:11:48.885Z"
   },
   {
    "duration": 16,
    "start_time": "2021-08-26T07:11:49.355Z"
   },
   {
    "duration": 4,
    "start_time": "2021-08-26T07:11:49.374Z"
   },
   {
    "duration": 37,
    "start_time": "2021-08-26T07:11:49.379Z"
   },
   {
    "duration": 59,
    "start_time": "2021-08-26T07:11:49.417Z"
   },
   {
    "duration": 30,
    "start_time": "2021-08-26T07:11:49.478Z"
   },
   {
    "duration": 55,
    "start_time": "2021-08-26T07:11:58.486Z"
   },
   {
    "duration": 1322,
    "start_time": "2021-08-26T07:12:24.113Z"
   },
   {
    "duration": 23,
    "start_time": "2021-08-26T07:12:25.437Z"
   },
   {
    "duration": 18,
    "start_time": "2021-08-26T07:12:25.462Z"
   },
   {
    "duration": 33,
    "start_time": "2021-08-26T07:12:25.482Z"
   },
   {
    "duration": 46,
    "start_time": "2021-08-26T07:12:25.517Z"
   },
   {
    "duration": 52,
    "start_time": "2021-08-26T07:12:25.565Z"
   },
   {
    "duration": 78,
    "start_time": "2021-08-26T07:12:25.619Z"
   },
   {
    "duration": 101,
    "start_time": "2021-08-26T07:12:25.701Z"
   },
   {
    "duration": 16,
    "start_time": "2021-08-26T07:12:25.804Z"
   },
   {
    "duration": 21,
    "start_time": "2021-08-26T07:12:25.822Z"
   },
   {
    "duration": 32,
    "start_time": "2021-08-26T07:12:25.846Z"
   },
   {
    "duration": 33,
    "start_time": "2021-08-26T07:12:25.880Z"
   },
   {
    "duration": 334,
    "start_time": "2021-08-26T07:12:25.942Z"
   },
   {
    "duration": 32,
    "start_time": "2021-08-26T07:12:26.278Z"
   },
   {
    "duration": 5,
    "start_time": "2021-08-26T07:12:26.311Z"
   },
   {
    "duration": 49,
    "start_time": "2021-08-26T07:12:26.318Z"
   },
   {
    "duration": 23,
    "start_time": "2021-08-26T07:12:26.369Z"
   },
   {
    "duration": 70,
    "start_time": "2021-08-26T07:12:26.393Z"
   },
   {
    "duration": 58,
    "start_time": "2021-08-26T07:12:26.465Z"
   },
   {
    "duration": 74,
    "start_time": "2021-08-26T07:12:26.525Z"
   },
   {
    "duration": 463,
    "start_time": "2021-08-26T07:12:26.601Z"
   },
   {
    "duration": 15,
    "start_time": "2021-08-26T07:12:27.066Z"
   },
   {
    "duration": 9,
    "start_time": "2021-08-26T07:12:27.084Z"
   },
   {
    "duration": 47,
    "start_time": "2021-08-26T07:12:27.095Z"
   },
   {
    "duration": 35,
    "start_time": "2021-08-26T07:12:27.145Z"
   },
   {
    "duration": 32,
    "start_time": "2021-08-26T07:12:27.182Z"
   },
   {
    "duration": 50,
    "start_time": "2021-08-26T07:12:32.366Z"
   },
   {
    "duration": 1379,
    "start_time": "2021-08-26T07:12:50.784Z"
   },
   {
    "duration": 20,
    "start_time": "2021-08-26T07:12:52.164Z"
   },
   {
    "duration": 16,
    "start_time": "2021-08-26T07:12:52.186Z"
   },
   {
    "duration": 37,
    "start_time": "2021-08-26T07:12:52.204Z"
   },
   {
    "duration": 36,
    "start_time": "2021-08-26T07:12:52.244Z"
   },
   {
    "duration": 71,
    "start_time": "2021-08-26T07:12:52.283Z"
   },
   {
    "duration": 60,
    "start_time": "2021-08-26T07:12:52.358Z"
   },
   {
    "duration": 111,
    "start_time": "2021-08-26T07:12:52.421Z"
   },
   {
    "duration": 27,
    "start_time": "2021-08-26T07:12:52.534Z"
   },
   {
    "duration": 6,
    "start_time": "2021-08-26T07:12:52.563Z"
   },
   {
    "duration": 36,
    "start_time": "2021-08-26T07:12:52.571Z"
   },
   {
    "duration": 62,
    "start_time": "2021-08-26T07:12:52.609Z"
   },
   {
    "duration": 236,
    "start_time": "2021-08-26T07:12:52.673Z"
   },
   {
    "duration": 36,
    "start_time": "2021-08-26T07:12:52.911Z"
   },
   {
    "duration": 6,
    "start_time": "2021-08-26T07:12:52.950Z"
   },
   {
    "duration": 36,
    "start_time": "2021-08-26T07:12:52.958Z"
   },
   {
    "duration": 22,
    "start_time": "2021-08-26T07:12:52.996Z"
   },
   {
    "duration": 73,
    "start_time": "2021-08-26T07:12:53.020Z"
   },
   {
    "duration": 81,
    "start_time": "2021-08-26T07:12:53.095Z"
   },
   {
    "duration": 75,
    "start_time": "2021-08-26T07:12:53.178Z"
   },
   {
    "duration": 485,
    "start_time": "2021-08-26T07:12:53.255Z"
   },
   {
    "duration": 18,
    "start_time": "2021-08-26T07:12:53.742Z"
   },
   {
    "duration": 17,
    "start_time": "2021-08-26T07:12:53.765Z"
   },
   {
    "duration": 49,
    "start_time": "2021-08-26T07:12:53.784Z"
   },
   {
    "duration": 42,
    "start_time": "2021-08-26T07:12:53.835Z"
   },
   {
    "duration": 31,
    "start_time": "2021-08-26T07:12:53.879Z"
   },
   {
    "duration": 84,
    "start_time": "2021-08-26T07:12:53.911Z"
   },
   {
    "duration": 15,
    "start_time": "2021-08-26T07:12:53.997Z"
   },
   {
    "duration": 36,
    "start_time": "2021-08-26T07:12:54.013Z"
   },
   {
    "duration": 7,
    "start_time": "2021-08-26T07:12:54.052Z"
   },
   {
    "duration": 46,
    "start_time": "2021-08-26T07:12:54.062Z"
   },
   {
    "duration": 59,
    "start_time": "2021-08-26T07:12:54.110Z"
   },
   {
    "duration": 5,
    "start_time": "2021-08-26T07:12:54.171Z"
   },
   {
    "duration": 17,
    "start_time": "2021-08-26T07:12:54.178Z"
   },
   {
    "duration": 11,
    "start_time": "2021-08-26T07:12:54.197Z"
   },
   {
    "duration": 62,
    "start_time": "2021-08-26T07:12:54.210Z"
   },
   {
    "duration": 124,
    "start_time": "2021-08-26T07:12:54.274Z"
   },
   {
    "duration": 148,
    "start_time": "2021-08-26T07:12:54.400Z"
   },
   {
    "duration": 142,
    "start_time": "2021-08-26T07:12:54.550Z"
   },
   {
    "duration": 71,
    "start_time": "2021-08-26T07:12:54.694Z"
   },
   {
    "duration": 406,
    "start_time": "2021-08-26T07:12:54.767Z"
   },
   {
    "duration": -6854,
    "start_time": "2021-08-26T07:13:02.029Z"
   },
   {
    "duration": -6865,
    "start_time": "2021-08-26T07:13:02.041Z"
   },
   {
    "duration": -6875,
    "start_time": "2021-08-26T07:13:02.052Z"
   },
   {
    "duration": 334,
    "start_time": "2021-08-26T07:14:26.854Z"
   },
   {
    "duration": 48,
    "start_time": "2021-08-26T07:14:36.786Z"
   },
   {
    "duration": 53,
    "start_time": "2021-08-26T07:14:43.252Z"
   },
   {
    "duration": 111,
    "start_time": "2021-08-26T07:14:59.594Z"
   },
   {
    "duration": 153,
    "start_time": "2021-08-26T07:15:10.998Z"
   },
   {
    "duration": 1344,
    "start_time": "2021-08-26T07:16:21.376Z"
   },
   {
    "duration": 29,
    "start_time": "2021-08-26T07:16:22.723Z"
   },
   {
    "duration": 20,
    "start_time": "2021-08-26T07:16:22.755Z"
   },
   {
    "duration": 11,
    "start_time": "2021-08-26T07:16:22.777Z"
   },
   {
    "duration": 29,
    "start_time": "2021-08-26T07:16:22.790Z"
   },
   {
    "duration": 56,
    "start_time": "2021-08-26T07:16:22.847Z"
   },
   {
    "duration": 82,
    "start_time": "2021-08-26T07:16:22.905Z"
   },
   {
    "duration": 90,
    "start_time": "2021-08-26T07:16:22.990Z"
   },
   {
    "duration": 15,
    "start_time": "2021-08-26T07:16:23.082Z"
   },
   {
    "duration": 6,
    "start_time": "2021-08-26T07:16:23.099Z"
   },
   {
    "duration": 56,
    "start_time": "2021-08-26T07:16:23.107Z"
   },
   {
    "duration": 34,
    "start_time": "2021-08-26T07:16:23.165Z"
   },
   {
    "duration": 254,
    "start_time": "2021-08-26T07:16:23.201Z"
   },
   {
    "duration": 32,
    "start_time": "2021-08-26T07:16:23.457Z"
   },
   {
    "duration": 5,
    "start_time": "2021-08-26T07:16:23.491Z"
   },
   {
    "duration": 46,
    "start_time": "2021-08-26T07:16:23.498Z"
   },
   {
    "duration": 27,
    "start_time": "2021-08-26T07:16:23.547Z"
   },
   {
    "duration": 77,
    "start_time": "2021-08-26T07:16:23.575Z"
   },
   {
    "duration": 51,
    "start_time": "2021-08-26T07:16:23.654Z"
   },
   {
    "duration": 74,
    "start_time": "2021-08-26T07:16:23.707Z"
   },
   {
    "duration": 529,
    "start_time": "2021-08-26T07:16:23.783Z"
   },
   {
    "duration": 15,
    "start_time": "2021-08-26T07:16:24.314Z"
   },
   {
    "duration": 5,
    "start_time": "2021-08-26T07:16:24.348Z"
   },
   {
    "duration": 48,
    "start_time": "2021-08-26T07:16:24.356Z"
   },
   {
    "duration": 47,
    "start_time": "2021-08-26T07:16:24.405Z"
   },
   {
    "duration": 31,
    "start_time": "2021-08-26T07:16:24.456Z"
   },
   {
    "duration": 65,
    "start_time": "2021-08-26T07:16:24.489Z"
   },
   {
    "duration": 15,
    "start_time": "2021-08-26T07:16:24.556Z"
   },
   {
    "duration": 15,
    "start_time": "2021-08-26T07:16:24.573Z"
   },
   {
    "duration": 5,
    "start_time": "2021-08-26T07:16:24.590Z"
   },
   {
    "duration": 68,
    "start_time": "2021-08-26T07:16:24.597Z"
   },
   {
    "duration": 41,
    "start_time": "2021-08-26T07:16:24.667Z"
   },
   {
    "duration": 4,
    "start_time": "2021-08-26T07:16:24.710Z"
   },
   {
    "duration": 37,
    "start_time": "2021-08-26T07:16:24.716Z"
   },
   {
    "duration": 25,
    "start_time": "2021-08-26T07:16:24.755Z"
   },
   {
    "duration": 44,
    "start_time": "2021-08-26T07:16:24.782Z"
   },
   {
    "duration": 126,
    "start_time": "2021-08-26T07:16:24.828Z"
   },
   {
    "duration": 140,
    "start_time": "2021-08-26T07:16:24.956Z"
   },
   {
    "duration": 133,
    "start_time": "2021-08-26T07:16:25.097Z"
   },
   {
    "duration": 722,
    "start_time": "2021-08-26T07:16:25.232Z"
   },
   {
    "duration": -6370,
    "start_time": "2021-08-26T07:16:32.325Z"
   },
   {
    "duration": -6382,
    "start_time": "2021-08-26T07:16:32.339Z"
   },
   {
    "duration": -6392,
    "start_time": "2021-08-26T07:16:32.350Z"
   },
   {
    "duration": 442,
    "start_time": "2021-08-26T07:16:42.634Z"
   },
   {
    "duration": 47,
    "start_time": "2021-08-26T07:17:08.488Z"
   },
   {
    "duration": 1404,
    "start_time": "2021-08-26T07:18:41.798Z"
   },
   {
    "duration": 19,
    "start_time": "2021-08-26T07:18:43.204Z"
   },
   {
    "duration": 31,
    "start_time": "2021-08-26T07:18:43.226Z"
   },
   {
    "duration": 14,
    "start_time": "2021-08-26T07:18:43.259Z"
   },
   {
    "duration": 37,
    "start_time": "2021-08-26T07:18:43.275Z"
   },
   {
    "duration": 82,
    "start_time": "2021-08-26T07:18:43.314Z"
   },
   {
    "duration": 75,
    "start_time": "2021-08-26T07:18:43.398Z"
   },
   {
    "duration": 92,
    "start_time": "2021-08-26T07:18:43.476Z"
   },
   {
    "duration": 19,
    "start_time": "2021-08-26T07:18:43.571Z"
   },
   {
    "duration": 14,
    "start_time": "2021-08-26T07:18:43.592Z"
   },
   {
    "duration": 54,
    "start_time": "2021-08-26T07:18:43.608Z"
   },
   {
    "duration": 35,
    "start_time": "2021-08-26T07:18:43.664Z"
   },
   {
    "duration": 272,
    "start_time": "2021-08-26T07:18:43.701Z"
   },
   {
    "duration": 44,
    "start_time": "2021-08-26T07:18:43.975Z"
   },
   {
    "duration": 7,
    "start_time": "2021-08-26T07:18:44.021Z"
   },
   {
    "duration": 34,
    "start_time": "2021-08-26T07:18:44.046Z"
   },
   {
    "duration": 24,
    "start_time": "2021-08-26T07:18:44.082Z"
   },
   {
    "duration": 83,
    "start_time": "2021-08-26T07:18:44.108Z"
   },
   {
    "duration": 69,
    "start_time": "2021-08-26T07:18:44.193Z"
   },
   {
    "duration": 62,
    "start_time": "2021-08-26T07:18:44.263Z"
   },
   {
    "duration": 522,
    "start_time": "2021-08-26T07:18:44.327Z"
   },
   {
    "duration": 18,
    "start_time": "2021-08-26T07:18:44.852Z"
   },
   {
    "duration": 6,
    "start_time": "2021-08-26T07:18:44.874Z"
   },
   {
    "duration": 37,
    "start_time": "2021-08-26T07:18:44.882Z"
   },
   {
    "duration": 57,
    "start_time": "2021-08-26T07:18:44.921Z"
   },
   {
    "duration": 31,
    "start_time": "2021-08-26T07:18:44.980Z"
   },
   {
    "duration": 45,
    "start_time": "2021-08-26T07:18:45.012Z"
   },
   {
    "duration": 15,
    "start_time": "2021-08-26T07:18:45.058Z"
   },
   {
    "duration": 4,
    "start_time": "2021-08-26T07:18:45.075Z"
   },
   {
    "duration": 33,
    "start_time": "2021-08-26T07:18:45.081Z"
   },
   {
    "duration": 70,
    "start_time": "2021-08-26T07:18:45.116Z"
   },
   {
    "duration": 38,
    "start_time": "2021-08-26T07:18:45.188Z"
   },
   {
    "duration": 12,
    "start_time": "2021-08-26T07:18:45.241Z"
   },
   {
    "duration": 14,
    "start_time": "2021-08-26T07:18:45.256Z"
   },
   {
    "duration": 14,
    "start_time": "2021-08-26T07:18:45.272Z"
   },
   {
    "duration": 62,
    "start_time": "2021-08-26T07:18:45.288Z"
   },
   {
    "duration": 123,
    "start_time": "2021-08-26T07:18:45.355Z"
   },
   {
    "duration": 131,
    "start_time": "2021-08-26T07:18:45.480Z"
   },
   {
    "duration": 139,
    "start_time": "2021-08-26T07:18:45.613Z"
   },
   {
    "duration": 188,
    "start_time": "2021-08-26T07:18:45.754Z"
   },
   {
    "duration": 144,
    "start_time": "2021-08-26T07:18:45.945Z"
   },
   {
    "duration": 159,
    "start_time": "2021-08-26T07:18:46.091Z"
   },
   {
    "duration": 137,
    "start_time": "2021-08-26T07:18:46.252Z"
   },
   {
    "duration": 160,
    "start_time": "2021-08-26T07:19:51.933Z"
   },
   {
    "duration": 139,
    "start_time": "2021-08-26T07:20:02.512Z"
   },
   {
    "duration": 1655,
    "start_time": "2021-08-26T16:53:55.531Z"
   },
   {
    "duration": 25,
    "start_time": "2021-08-26T16:53:57.189Z"
   },
   {
    "duration": 45,
    "start_time": "2021-08-26T16:53:57.217Z"
   },
   {
    "duration": 14,
    "start_time": "2021-08-26T16:53:57.265Z"
   },
   {
    "duration": 38,
    "start_time": "2021-08-26T16:53:57.281Z"
   },
   {
    "duration": 105,
    "start_time": "2021-08-26T16:53:57.322Z"
   },
   {
    "duration": 107,
    "start_time": "2021-08-26T16:53:57.429Z"
   },
   {
    "duration": 132,
    "start_time": "2021-08-26T16:53:57.540Z"
   },
   {
    "duration": 23,
    "start_time": "2021-08-26T16:53:57.675Z"
   },
   {
    "duration": 10,
    "start_time": "2021-08-26T16:53:57.701Z"
   },
   {
    "duration": 76,
    "start_time": "2021-08-26T16:53:57.714Z"
   },
   {
    "duration": 40,
    "start_time": "2021-08-26T16:53:57.792Z"
   },
   {
    "duration": 361,
    "start_time": "2021-08-26T16:53:57.834Z"
   },
   {
    "duration": 44,
    "start_time": "2021-08-26T16:53:58.197Z"
   },
   {
    "duration": 23,
    "start_time": "2021-08-26T16:53:58.243Z"
   },
   {
    "duration": 32,
    "start_time": "2021-08-26T16:53:58.268Z"
   },
   {
    "duration": 31,
    "start_time": "2021-08-26T16:53:58.303Z"
   },
   {
    "duration": 90,
    "start_time": "2021-08-26T16:53:58.336Z"
   },
   {
    "duration": 85,
    "start_time": "2021-08-26T16:53:58.428Z"
   },
   {
    "duration": 95,
    "start_time": "2021-08-26T16:53:58.516Z"
   },
   {
    "duration": 626,
    "start_time": "2021-08-26T16:53:58.614Z"
   },
   {
    "duration": 31,
    "start_time": "2021-08-26T16:53:59.243Z"
   },
   {
    "duration": 5,
    "start_time": "2021-08-26T16:53:59.279Z"
   },
   {
    "duration": 76,
    "start_time": "2021-08-26T16:53:59.287Z"
   },
   {
    "duration": 39,
    "start_time": "2021-08-26T16:53:59.366Z"
   },
   {
    "duration": 61,
    "start_time": "2021-08-26T16:53:59.408Z"
   },
   {
    "duration": 19,
    "start_time": "2021-08-26T16:53:59.471Z"
   },
   {
    "duration": 19,
    "start_time": "2021-08-26T16:53:59.492Z"
   },
   {
    "duration": 6,
    "start_time": "2021-08-26T16:53:59.513Z"
   },
   {
    "duration": 74,
    "start_time": "2021-08-26T16:53:59.521Z"
   },
   {
    "duration": 91,
    "start_time": "2021-08-26T16:53:59.598Z"
   },
   {
    "duration": 71,
    "start_time": "2021-08-26T16:53:59.692Z"
   },
   {
    "duration": 7,
    "start_time": "2021-08-26T16:53:59.766Z"
   },
   {
    "duration": 9,
    "start_time": "2021-08-26T16:53:59.776Z"
   },
   {
    "duration": 8,
    "start_time": "2021-08-26T16:53:59.787Z"
   },
   {
    "duration": 84,
    "start_time": "2021-08-26T16:53:59.797Z"
   },
   {
    "duration": 164,
    "start_time": "2021-08-26T16:53:59.884Z"
   },
   {
    "duration": 173,
    "start_time": "2021-08-26T16:54:00.050Z"
   },
   {
    "duration": 165,
    "start_time": "2021-08-26T16:54:00.226Z"
   },
   {
    "duration": 207,
    "start_time": "2021-08-26T16:54:00.394Z"
   },
   {
    "duration": 211,
    "start_time": "2021-08-26T16:54:00.604Z"
   },
   {
    "duration": 219,
    "start_time": "2021-08-26T16:54:00.818Z"
   },
   {
    "duration": 223,
    "start_time": "2021-08-26T16:54:01.040Z"
   },
   {
    "duration": 220,
    "start_time": "2021-08-26T16:54:01.266Z"
   }
  ],
  "kernelspec": {
   "display_name": "Python 3",
   "language": "python",
   "name": "python3"
  },
  "language_info": {
   "codemirror_mode": {
    "name": "ipython",
    "version": 3
   },
   "file_extension": ".py",
   "mimetype": "text/x-python",
   "name": "python",
   "nbconvert_exporter": "python",
   "pygments_lexer": "ipython3",
   "version": "3.8.8"
  },
  "toc": {
   "base_numbering": 1,
   "nav_menu": {},
   "number_sections": true,
   "sideBar": true,
   "skip_h1_title": true,
   "title_cell": "Table of Contents",
   "title_sidebar": "Contents",
   "toc_cell": false,
   "toc_position": {},
   "toc_section_display": true,
   "toc_window_display": false
  }
 },
 "nbformat": 4,
 "nbformat_minor": 2
}
