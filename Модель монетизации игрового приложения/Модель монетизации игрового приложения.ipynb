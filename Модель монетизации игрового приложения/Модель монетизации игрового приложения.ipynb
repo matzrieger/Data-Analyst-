{
 "cells": [
  {
   "cell_type": "markdown",
   "metadata": {},
   "source": [
    "Необходимо сформировать модель монетизации игрового приложения. Основная монетизация игры — только планируется. Но предполагается, что в приложении будет происходить показ рекламы на экране с выбором типа объекта для постройки.\n",
    "\n",
    "В датасете представлены данные по игре пользователей на первом уровне. Завершение первого уровня требует от игрока выполнения одного из двух условий:\n",
    "\n",
    "- Победа над первым врагом\n",
    "- Реализация проекта - разработка орбитальной сборки спутников"
   ]
  },
  {
   "cell_type": "markdown",
   "metadata": {},
   "source": [
    "План проекта:\n",
    "\n",
    "1) Предобработка данных\n",
    "\n",
    "2) Исследовательский анализ данных\n",
    "\n",
    "3) Создание модели монетизации\n",
    "\n",
    "4) Выдвижение и проверка гипотез"
   ]
  },
  {
   "cell_type": "markdown",
   "metadata": {},
   "source": [
    "## Предобработка данных"
   ]
  },
  {
   "cell_type": "code",
   "execution_count": 1,
   "metadata": {},
   "outputs": [],
   "source": [
    "import pandas as pd\n",
    "from datetime import time\n",
    "import matplotlib.pyplot as plt\n",
    "import numpy as np\n",
    "from scipy import stats as st\n",
    "import warnings\n",
    "warnings.simplefilter('ignore')\n",
    "\n",
    "game_actions = pd.read_csv('/datasets/game_actions.csv')\n",
    "ad_costs = pd.read_csv('/datasets/ad_costs.csv')\n",
    "user_source = pd.read_csv('/datasets/user_source.csv')\n"
   ]
  },
  {
   "cell_type": "code",
   "execution_count": 2,
   "metadata": {},
   "outputs": [
    {
     "data": {
      "text/html": [
       "<div>\n",
       "<style scoped>\n",
       "    .dataframe tbody tr th:only-of-type {\n",
       "        vertical-align: middle;\n",
       "    }\n",
       "\n",
       "    .dataframe tbody tr th {\n",
       "        vertical-align: top;\n",
       "    }\n",
       "\n",
       "    .dataframe thead th {\n",
       "        text-align: right;\n",
       "    }\n",
       "</style>\n",
       "<table border=\"1\" class=\"dataframe\">\n",
       "  <thead>\n",
       "    <tr style=\"text-align: right;\">\n",
       "      <th></th>\n",
       "      <th>event_datetime</th>\n",
       "      <th>event</th>\n",
       "      <th>building_type</th>\n",
       "      <th>user_id</th>\n",
       "      <th>project_type</th>\n",
       "    </tr>\n",
       "  </thead>\n",
       "  <tbody>\n",
       "    <tr>\n",
       "      <td>0</td>\n",
       "      <td>2020-05-04 00:00:01</td>\n",
       "      <td>building</td>\n",
       "      <td>assembly_shop</td>\n",
       "      <td>55e92310-cb8e-4754-b622-597e124b03de</td>\n",
       "      <td>NaN</td>\n",
       "    </tr>\n",
       "    <tr>\n",
       "      <td>1</td>\n",
       "      <td>2020-05-04 00:00:03</td>\n",
       "      <td>building</td>\n",
       "      <td>assembly_shop</td>\n",
       "      <td>c07b1c10-f477-44dc-81dc-ec82254b1347</td>\n",
       "      <td>NaN</td>\n",
       "    </tr>\n",
       "    <tr>\n",
       "      <td>2</td>\n",
       "      <td>2020-05-04 00:00:16</td>\n",
       "      <td>building</td>\n",
       "      <td>assembly_shop</td>\n",
       "      <td>6edd42cc-e753-4ff6-a947-2107cd560710</td>\n",
       "      <td>NaN</td>\n",
       "    </tr>\n",
       "    <tr>\n",
       "      <td>3</td>\n",
       "      <td>2020-05-04 00:00:16</td>\n",
       "      <td>building</td>\n",
       "      <td>assembly_shop</td>\n",
       "      <td>92c69003-d60a-444a-827f-8cc51bf6bf4c</td>\n",
       "      <td>NaN</td>\n",
       "    </tr>\n",
       "    <tr>\n",
       "      <td>4</td>\n",
       "      <td>2020-05-04 00:00:35</td>\n",
       "      <td>building</td>\n",
       "      <td>assembly_shop</td>\n",
       "      <td>cdc6bb92-0ccb-4490-9866-ef142f09139d</td>\n",
       "      <td>NaN</td>\n",
       "    </tr>\n",
       "    <tr>\n",
       "      <td>...</td>\n",
       "      <td>...</td>\n",
       "      <td>...</td>\n",
       "      <td>...</td>\n",
       "      <td>...</td>\n",
       "      <td>...</td>\n",
       "    </tr>\n",
       "    <tr>\n",
       "      <td>135635</td>\n",
       "      <td>2020-06-05 00:08:06</td>\n",
       "      <td>building</td>\n",
       "      <td>research_center</td>\n",
       "      <td>f21d179f-1c4b-437e-b9c6-ab1976907195</td>\n",
       "      <td>NaN</td>\n",
       "    </tr>\n",
       "    <tr>\n",
       "      <td>135636</td>\n",
       "      <td>2020-06-05 02:25:12</td>\n",
       "      <td>finished_stage_1</td>\n",
       "      <td>NaN</td>\n",
       "      <td>515c1952-99aa-4bca-a7ea-d0449eb5385a</td>\n",
       "      <td>NaN</td>\n",
       "    </tr>\n",
       "    <tr>\n",
       "      <td>135637</td>\n",
       "      <td>2020-06-05 08:57:52</td>\n",
       "      <td>building</td>\n",
       "      <td>research_center</td>\n",
       "      <td>ed3e7d02-8a96-4be7-9998-e9813ff9c316</td>\n",
       "      <td>NaN</td>\n",
       "    </tr>\n",
       "    <tr>\n",
       "      <td>135638</td>\n",
       "      <td>2020-06-05 12:12:27</td>\n",
       "      <td>finished_stage_1</td>\n",
       "      <td>NaN</td>\n",
       "      <td>32572adb-900f-4b5d-a453-1eb1e6d88d8b</td>\n",
       "      <td>NaN</td>\n",
       "    </tr>\n",
       "    <tr>\n",
       "      <td>135639</td>\n",
       "      <td>2020-06-05 12:32:49</td>\n",
       "      <td>finished_stage_1</td>\n",
       "      <td>NaN</td>\n",
       "      <td>f21d179f-1c4b-437e-b9c6-ab1976907195</td>\n",
       "      <td>NaN</td>\n",
       "    </tr>\n",
       "  </tbody>\n",
       "</table>\n",
       "<p>135640 rows × 5 columns</p>\n",
       "</div>"
      ],
      "text/plain": [
       "             event_datetime             event    building_type  \\\n",
       "0       2020-05-04 00:00:01          building    assembly_shop   \n",
       "1       2020-05-04 00:00:03          building    assembly_shop   \n",
       "2       2020-05-04 00:00:16          building    assembly_shop   \n",
       "3       2020-05-04 00:00:16          building    assembly_shop   \n",
       "4       2020-05-04 00:00:35          building    assembly_shop   \n",
       "...                     ...               ...              ...   \n",
       "135635  2020-06-05 00:08:06          building  research_center   \n",
       "135636  2020-06-05 02:25:12  finished_stage_1              NaN   \n",
       "135637  2020-06-05 08:57:52          building  research_center   \n",
       "135638  2020-06-05 12:12:27  finished_stage_1              NaN   \n",
       "135639  2020-06-05 12:32:49  finished_stage_1              NaN   \n",
       "\n",
       "                                     user_id project_type  \n",
       "0       55e92310-cb8e-4754-b622-597e124b03de          NaN  \n",
       "1       c07b1c10-f477-44dc-81dc-ec82254b1347          NaN  \n",
       "2       6edd42cc-e753-4ff6-a947-2107cd560710          NaN  \n",
       "3       92c69003-d60a-444a-827f-8cc51bf6bf4c          NaN  \n",
       "4       cdc6bb92-0ccb-4490-9866-ef142f09139d          NaN  \n",
       "...                                      ...          ...  \n",
       "135635  f21d179f-1c4b-437e-b9c6-ab1976907195          NaN  \n",
       "135636  515c1952-99aa-4bca-a7ea-d0449eb5385a          NaN  \n",
       "135637  ed3e7d02-8a96-4be7-9998-e9813ff9c316          NaN  \n",
       "135638  32572adb-900f-4b5d-a453-1eb1e6d88d8b          NaN  \n",
       "135639  f21d179f-1c4b-437e-b9c6-ab1976907195          NaN  \n",
       "\n",
       "[135640 rows x 5 columns]"
      ]
     },
     "execution_count": 2,
     "metadata": {},
     "output_type": "execute_result"
    }
   ],
   "source": [
    "game_actions"
   ]
  },
  {
   "cell_type": "code",
   "execution_count": 3,
   "metadata": {},
   "outputs": [
    {
     "name": "stdout",
     "output_type": "stream",
     "text": [
      "<class 'pandas.core.frame.DataFrame'>\n",
      "RangeIndex: 135640 entries, 0 to 135639\n",
      "Data columns (total 5 columns):\n",
      "event_datetime    135640 non-null object\n",
      "event             135640 non-null object\n",
      "building_type     127957 non-null object\n",
      "user_id           135640 non-null object\n",
      "project_type      1866 non-null object\n",
      "dtypes: object(5)\n",
      "memory usage: 5.2+ MB\n"
     ]
    }
   ],
   "source": [
    "#проверим типы данных и количество пропущенных значений\n",
    "game_actions.info()"
   ]
  },
  {
   "cell_type": "markdown",
   "metadata": {},
   "source": [
    "*Пропущенные значения в столбце building_type оставим как есть, поскольку это означает, что игрок еще не начинал стройку какого-либо здания. Пустые значения в project_type означают, что игроки прошли уровень способом уничтожения противника. Пустые значения в столбце project_type будут заменены позже при распределении пользователей на группы*"
   ]
  },
  {
   "cell_type": "code",
   "execution_count": 4,
   "metadata": {},
   "outputs": [
    {
     "data": {
      "text/html": [
       "<div>\n",
       "<style scoped>\n",
       "    .dataframe tbody tr th:only-of-type {\n",
       "        vertical-align: middle;\n",
       "    }\n",
       "\n",
       "    .dataframe tbody tr th {\n",
       "        vertical-align: top;\n",
       "    }\n",
       "\n",
       "    .dataframe thead th {\n",
       "        text-align: right;\n",
       "    }\n",
       "</style>\n",
       "<table border=\"1\" class=\"dataframe\">\n",
       "  <thead>\n",
       "    <tr style=\"text-align: right;\">\n",
       "      <th></th>\n",
       "      <th>event_datetime</th>\n",
       "      <th>event</th>\n",
       "      <th>building_type</th>\n",
       "      <th>user_id</th>\n",
       "      <th>project_type</th>\n",
       "      <th>time</th>\n",
       "      <th>month</th>\n",
       "      <th>day</th>\n",
       "      <th>hour</th>\n",
       "      <th>minute</th>\n",
       "      <th>second</th>\n",
       "    </tr>\n",
       "  </thead>\n",
       "  <tbody>\n",
       "    <tr>\n",
       "      <td>0</td>\n",
       "      <td>2020-05-04 00:00:01</td>\n",
       "      <td>building</td>\n",
       "      <td>assembly_shop</td>\n",
       "      <td>55e92310-cb8e-4754-b622-597e124b03de</td>\n",
       "      <td>NaN</td>\n",
       "      <td>00:00:01</td>\n",
       "      <td>5</td>\n",
       "      <td>4</td>\n",
       "      <td>0</td>\n",
       "      <td>0</td>\n",
       "      <td>1</td>\n",
       "    </tr>\n",
       "    <tr>\n",
       "      <td>1</td>\n",
       "      <td>2020-05-04 00:00:03</td>\n",
       "      <td>building</td>\n",
       "      <td>assembly_shop</td>\n",
       "      <td>c07b1c10-f477-44dc-81dc-ec82254b1347</td>\n",
       "      <td>NaN</td>\n",
       "      <td>00:00:03</td>\n",
       "      <td>5</td>\n",
       "      <td>4</td>\n",
       "      <td>0</td>\n",
       "      <td>0</td>\n",
       "      <td>3</td>\n",
       "    </tr>\n",
       "    <tr>\n",
       "      <td>2</td>\n",
       "      <td>2020-05-04 00:00:16</td>\n",
       "      <td>building</td>\n",
       "      <td>assembly_shop</td>\n",
       "      <td>6edd42cc-e753-4ff6-a947-2107cd560710</td>\n",
       "      <td>NaN</td>\n",
       "      <td>00:00:16</td>\n",
       "      <td>5</td>\n",
       "      <td>4</td>\n",
       "      <td>0</td>\n",
       "      <td>0</td>\n",
       "      <td>16</td>\n",
       "    </tr>\n",
       "    <tr>\n",
       "      <td>3</td>\n",
       "      <td>2020-05-04 00:00:16</td>\n",
       "      <td>building</td>\n",
       "      <td>assembly_shop</td>\n",
       "      <td>92c69003-d60a-444a-827f-8cc51bf6bf4c</td>\n",
       "      <td>NaN</td>\n",
       "      <td>00:00:16</td>\n",
       "      <td>5</td>\n",
       "      <td>4</td>\n",
       "      <td>0</td>\n",
       "      <td>0</td>\n",
       "      <td>16</td>\n",
       "    </tr>\n",
       "    <tr>\n",
       "      <td>4</td>\n",
       "      <td>2020-05-04 00:00:35</td>\n",
       "      <td>building</td>\n",
       "      <td>assembly_shop</td>\n",
       "      <td>cdc6bb92-0ccb-4490-9866-ef142f09139d</td>\n",
       "      <td>NaN</td>\n",
       "      <td>00:00:35</td>\n",
       "      <td>5</td>\n",
       "      <td>4</td>\n",
       "      <td>0</td>\n",
       "      <td>0</td>\n",
       "      <td>35</td>\n",
       "    </tr>\n",
       "    <tr>\n",
       "      <td>...</td>\n",
       "      <td>...</td>\n",
       "      <td>...</td>\n",
       "      <td>...</td>\n",
       "      <td>...</td>\n",
       "      <td>...</td>\n",
       "      <td>...</td>\n",
       "      <td>...</td>\n",
       "      <td>...</td>\n",
       "      <td>...</td>\n",
       "      <td>...</td>\n",
       "      <td>...</td>\n",
       "    </tr>\n",
       "    <tr>\n",
       "      <td>135635</td>\n",
       "      <td>2020-06-05 00:08:06</td>\n",
       "      <td>building</td>\n",
       "      <td>research_center</td>\n",
       "      <td>f21d179f-1c4b-437e-b9c6-ab1976907195</td>\n",
       "      <td>NaN</td>\n",
       "      <td>00:08:06</td>\n",
       "      <td>6</td>\n",
       "      <td>5</td>\n",
       "      <td>0</td>\n",
       "      <td>8</td>\n",
       "      <td>6</td>\n",
       "    </tr>\n",
       "    <tr>\n",
       "      <td>135636</td>\n",
       "      <td>2020-06-05 02:25:12</td>\n",
       "      <td>finished_stage_1</td>\n",
       "      <td>NaN</td>\n",
       "      <td>515c1952-99aa-4bca-a7ea-d0449eb5385a</td>\n",
       "      <td>NaN</td>\n",
       "      <td>02:25:12</td>\n",
       "      <td>6</td>\n",
       "      <td>5</td>\n",
       "      <td>2</td>\n",
       "      <td>25</td>\n",
       "      <td>12</td>\n",
       "    </tr>\n",
       "    <tr>\n",
       "      <td>135637</td>\n",
       "      <td>2020-06-05 08:57:52</td>\n",
       "      <td>building</td>\n",
       "      <td>research_center</td>\n",
       "      <td>ed3e7d02-8a96-4be7-9998-e9813ff9c316</td>\n",
       "      <td>NaN</td>\n",
       "      <td>08:57:52</td>\n",
       "      <td>6</td>\n",
       "      <td>5</td>\n",
       "      <td>8</td>\n",
       "      <td>57</td>\n",
       "      <td>52</td>\n",
       "    </tr>\n",
       "    <tr>\n",
       "      <td>135638</td>\n",
       "      <td>2020-06-05 12:12:27</td>\n",
       "      <td>finished_stage_1</td>\n",
       "      <td>NaN</td>\n",
       "      <td>32572adb-900f-4b5d-a453-1eb1e6d88d8b</td>\n",
       "      <td>NaN</td>\n",
       "      <td>12:12:27</td>\n",
       "      <td>6</td>\n",
       "      <td>5</td>\n",
       "      <td>12</td>\n",
       "      <td>12</td>\n",
       "      <td>27</td>\n",
       "    </tr>\n",
       "    <tr>\n",
       "      <td>135639</td>\n",
       "      <td>2020-06-05 12:32:49</td>\n",
       "      <td>finished_stage_1</td>\n",
       "      <td>NaN</td>\n",
       "      <td>f21d179f-1c4b-437e-b9c6-ab1976907195</td>\n",
       "      <td>NaN</td>\n",
       "      <td>12:32:49</td>\n",
       "      <td>6</td>\n",
       "      <td>5</td>\n",
       "      <td>12</td>\n",
       "      <td>32</td>\n",
       "      <td>49</td>\n",
       "    </tr>\n",
       "  </tbody>\n",
       "</table>\n",
       "<p>135640 rows × 11 columns</p>\n",
       "</div>"
      ],
      "text/plain": [
       "            event_datetime             event    building_type  \\\n",
       "0      2020-05-04 00:00:01          building    assembly_shop   \n",
       "1      2020-05-04 00:00:03          building    assembly_shop   \n",
       "2      2020-05-04 00:00:16          building    assembly_shop   \n",
       "3      2020-05-04 00:00:16          building    assembly_shop   \n",
       "4      2020-05-04 00:00:35          building    assembly_shop   \n",
       "...                    ...               ...              ...   \n",
       "135635 2020-06-05 00:08:06          building  research_center   \n",
       "135636 2020-06-05 02:25:12  finished_stage_1              NaN   \n",
       "135637 2020-06-05 08:57:52          building  research_center   \n",
       "135638 2020-06-05 12:12:27  finished_stage_1              NaN   \n",
       "135639 2020-06-05 12:32:49  finished_stage_1              NaN   \n",
       "\n",
       "                                     user_id project_type      time  month  \\\n",
       "0       55e92310-cb8e-4754-b622-597e124b03de          NaN  00:00:01      5   \n",
       "1       c07b1c10-f477-44dc-81dc-ec82254b1347          NaN  00:00:03      5   \n",
       "2       6edd42cc-e753-4ff6-a947-2107cd560710          NaN  00:00:16      5   \n",
       "3       92c69003-d60a-444a-827f-8cc51bf6bf4c          NaN  00:00:16      5   \n",
       "4       cdc6bb92-0ccb-4490-9866-ef142f09139d          NaN  00:00:35      5   \n",
       "...                                      ...          ...       ...    ...   \n",
       "135635  f21d179f-1c4b-437e-b9c6-ab1976907195          NaN  00:08:06      6   \n",
       "135636  515c1952-99aa-4bca-a7ea-d0449eb5385a          NaN  02:25:12      6   \n",
       "135637  ed3e7d02-8a96-4be7-9998-e9813ff9c316          NaN  08:57:52      6   \n",
       "135638  32572adb-900f-4b5d-a453-1eb1e6d88d8b          NaN  12:12:27      6   \n",
       "135639  f21d179f-1c4b-437e-b9c6-ab1976907195          NaN  12:32:49      6   \n",
       "\n",
       "        day  hour  minute  second  \n",
       "0         4     0       0       1  \n",
       "1         4     0       0       3  \n",
       "2         4     0       0      16  \n",
       "3         4     0       0      16  \n",
       "4         4     0       0      35  \n",
       "...     ...   ...     ...     ...  \n",
       "135635    5     0       8       6  \n",
       "135636    5     2      25      12  \n",
       "135637    5     8      57      52  \n",
       "135638    5    12      12      27  \n",
       "135639    5    12      32      49  \n",
       "\n",
       "[135640 rows x 11 columns]"
      ]
     },
     "execution_count": 4,
     "metadata": {},
     "output_type": "execute_result"
    }
   ],
   "source": [
    "#изменим тип в столбце event_datetime и выведем составные части даты и времени\n",
    "game_actions['event_datetime'] = pd.to_datetime(game_actions['event_datetime'])\n",
    "game_actions['time'] = game_actions['event_datetime'].dt.time\n",
    "game_actions['month'] = game_actions['event_datetime'].dt.month\n",
    "game_actions['day'] = game_actions['event_datetime'].dt.day\n",
    "game_actions['hour'] = game_actions['event_datetime'].dt.hour\n",
    "game_actions['minute'] = game_actions['event_datetime'].dt.minute\n",
    "game_actions['second'] = game_actions['event_datetime'].dt.second\n",
    "game_actions"
   ]
  },
  {
   "cell_type": "code",
   "execution_count": 5,
   "metadata": {},
   "outputs": [
    {
     "data": {
      "text/plain": [
       "1"
      ]
     },
     "execution_count": 5,
     "metadata": {},
     "output_type": "execute_result"
    }
   ],
   "source": [
    "#найдем дубликаты\n",
    "game_actions.duplicated().sum()"
   ]
  },
  {
   "cell_type": "code",
   "execution_count": 6,
   "metadata": {},
   "outputs": [
    {
     "data": {
      "text/html": [
       "<div>\n",
       "<style scoped>\n",
       "    .dataframe tbody tr th:only-of-type {\n",
       "        vertical-align: middle;\n",
       "    }\n",
       "\n",
       "    .dataframe tbody tr th {\n",
       "        vertical-align: top;\n",
       "    }\n",
       "\n",
       "    .dataframe thead th {\n",
       "        text-align: right;\n",
       "    }\n",
       "</style>\n",
       "<table border=\"1\" class=\"dataframe\">\n",
       "  <thead>\n",
       "    <tr style=\"text-align: right;\">\n",
       "      <th></th>\n",
       "      <th>event_datetime</th>\n",
       "      <th>event</th>\n",
       "      <th>building_type</th>\n",
       "      <th>user_id</th>\n",
       "      <th>project_type</th>\n",
       "      <th>time</th>\n",
       "      <th>month</th>\n",
       "      <th>day</th>\n",
       "      <th>hour</th>\n",
       "      <th>minute</th>\n",
       "      <th>second</th>\n",
       "    </tr>\n",
       "  </thead>\n",
       "  <tbody>\n",
       "    <tr>\n",
       "      <td>0</td>\n",
       "      <td>2020-05-04 00:00:01</td>\n",
       "      <td>building</td>\n",
       "      <td>assembly_shop</td>\n",
       "      <td>55e92310-cb8e-4754-b622-597e124b03de</td>\n",
       "      <td>NaN</td>\n",
       "      <td>00:00:01</td>\n",
       "      <td>5</td>\n",
       "      <td>4</td>\n",
       "      <td>0</td>\n",
       "      <td>0</td>\n",
       "      <td>1</td>\n",
       "    </tr>\n",
       "    <tr>\n",
       "      <td>1</td>\n",
       "      <td>2020-05-04 00:00:03</td>\n",
       "      <td>building</td>\n",
       "      <td>assembly_shop</td>\n",
       "      <td>c07b1c10-f477-44dc-81dc-ec82254b1347</td>\n",
       "      <td>NaN</td>\n",
       "      <td>00:00:03</td>\n",
       "      <td>5</td>\n",
       "      <td>4</td>\n",
       "      <td>0</td>\n",
       "      <td>0</td>\n",
       "      <td>3</td>\n",
       "    </tr>\n",
       "    <tr>\n",
       "      <td>2</td>\n",
       "      <td>2020-05-04 00:00:16</td>\n",
       "      <td>building</td>\n",
       "      <td>assembly_shop</td>\n",
       "      <td>6edd42cc-e753-4ff6-a947-2107cd560710</td>\n",
       "      <td>NaN</td>\n",
       "      <td>00:00:16</td>\n",
       "      <td>5</td>\n",
       "      <td>4</td>\n",
       "      <td>0</td>\n",
       "      <td>0</td>\n",
       "      <td>16</td>\n",
       "    </tr>\n",
       "    <tr>\n",
       "      <td>3</td>\n",
       "      <td>2020-05-04 00:00:16</td>\n",
       "      <td>building</td>\n",
       "      <td>assembly_shop</td>\n",
       "      <td>92c69003-d60a-444a-827f-8cc51bf6bf4c</td>\n",
       "      <td>NaN</td>\n",
       "      <td>00:00:16</td>\n",
       "      <td>5</td>\n",
       "      <td>4</td>\n",
       "      <td>0</td>\n",
       "      <td>0</td>\n",
       "      <td>16</td>\n",
       "    </tr>\n",
       "    <tr>\n",
       "      <td>4</td>\n",
       "      <td>2020-05-04 00:00:35</td>\n",
       "      <td>building</td>\n",
       "      <td>assembly_shop</td>\n",
       "      <td>cdc6bb92-0ccb-4490-9866-ef142f09139d</td>\n",
       "      <td>NaN</td>\n",
       "      <td>00:00:35</td>\n",
       "      <td>5</td>\n",
       "      <td>4</td>\n",
       "      <td>0</td>\n",
       "      <td>0</td>\n",
       "      <td>35</td>\n",
       "    </tr>\n",
       "    <tr>\n",
       "      <td>...</td>\n",
       "      <td>...</td>\n",
       "      <td>...</td>\n",
       "      <td>...</td>\n",
       "      <td>...</td>\n",
       "      <td>...</td>\n",
       "      <td>...</td>\n",
       "      <td>...</td>\n",
       "      <td>...</td>\n",
       "      <td>...</td>\n",
       "      <td>...</td>\n",
       "      <td>...</td>\n",
       "    </tr>\n",
       "    <tr>\n",
       "      <td>135635</td>\n",
       "      <td>2020-06-05 00:08:06</td>\n",
       "      <td>building</td>\n",
       "      <td>research_center</td>\n",
       "      <td>f21d179f-1c4b-437e-b9c6-ab1976907195</td>\n",
       "      <td>NaN</td>\n",
       "      <td>00:08:06</td>\n",
       "      <td>6</td>\n",
       "      <td>5</td>\n",
       "      <td>0</td>\n",
       "      <td>8</td>\n",
       "      <td>6</td>\n",
       "    </tr>\n",
       "    <tr>\n",
       "      <td>135636</td>\n",
       "      <td>2020-06-05 02:25:12</td>\n",
       "      <td>finished_stage_1</td>\n",
       "      <td>NaN</td>\n",
       "      <td>515c1952-99aa-4bca-a7ea-d0449eb5385a</td>\n",
       "      <td>NaN</td>\n",
       "      <td>02:25:12</td>\n",
       "      <td>6</td>\n",
       "      <td>5</td>\n",
       "      <td>2</td>\n",
       "      <td>25</td>\n",
       "      <td>12</td>\n",
       "    </tr>\n",
       "    <tr>\n",
       "      <td>135637</td>\n",
       "      <td>2020-06-05 08:57:52</td>\n",
       "      <td>building</td>\n",
       "      <td>research_center</td>\n",
       "      <td>ed3e7d02-8a96-4be7-9998-e9813ff9c316</td>\n",
       "      <td>NaN</td>\n",
       "      <td>08:57:52</td>\n",
       "      <td>6</td>\n",
       "      <td>5</td>\n",
       "      <td>8</td>\n",
       "      <td>57</td>\n",
       "      <td>52</td>\n",
       "    </tr>\n",
       "    <tr>\n",
       "      <td>135638</td>\n",
       "      <td>2020-06-05 12:12:27</td>\n",
       "      <td>finished_stage_1</td>\n",
       "      <td>NaN</td>\n",
       "      <td>32572adb-900f-4b5d-a453-1eb1e6d88d8b</td>\n",
       "      <td>NaN</td>\n",
       "      <td>12:12:27</td>\n",
       "      <td>6</td>\n",
       "      <td>5</td>\n",
       "      <td>12</td>\n",
       "      <td>12</td>\n",
       "      <td>27</td>\n",
       "    </tr>\n",
       "    <tr>\n",
       "      <td>135639</td>\n",
       "      <td>2020-06-05 12:32:49</td>\n",
       "      <td>finished_stage_1</td>\n",
       "      <td>NaN</td>\n",
       "      <td>f21d179f-1c4b-437e-b9c6-ab1976907195</td>\n",
       "      <td>NaN</td>\n",
       "      <td>12:32:49</td>\n",
       "      <td>6</td>\n",
       "      <td>5</td>\n",
       "      <td>12</td>\n",
       "      <td>32</td>\n",
       "      <td>49</td>\n",
       "    </tr>\n",
       "  </tbody>\n",
       "</table>\n",
       "<p>135639 rows × 11 columns</p>\n",
       "</div>"
      ],
      "text/plain": [
       "            event_datetime             event    building_type  \\\n",
       "0      2020-05-04 00:00:01          building    assembly_shop   \n",
       "1      2020-05-04 00:00:03          building    assembly_shop   \n",
       "2      2020-05-04 00:00:16          building    assembly_shop   \n",
       "3      2020-05-04 00:00:16          building    assembly_shop   \n",
       "4      2020-05-04 00:00:35          building    assembly_shop   \n",
       "...                    ...               ...              ...   \n",
       "135635 2020-06-05 00:08:06          building  research_center   \n",
       "135636 2020-06-05 02:25:12  finished_stage_1              NaN   \n",
       "135637 2020-06-05 08:57:52          building  research_center   \n",
       "135638 2020-06-05 12:12:27  finished_stage_1              NaN   \n",
       "135639 2020-06-05 12:32:49  finished_stage_1              NaN   \n",
       "\n",
       "                                     user_id project_type      time  month  \\\n",
       "0       55e92310-cb8e-4754-b622-597e124b03de          NaN  00:00:01      5   \n",
       "1       c07b1c10-f477-44dc-81dc-ec82254b1347          NaN  00:00:03      5   \n",
       "2       6edd42cc-e753-4ff6-a947-2107cd560710          NaN  00:00:16      5   \n",
       "3       92c69003-d60a-444a-827f-8cc51bf6bf4c          NaN  00:00:16      5   \n",
       "4       cdc6bb92-0ccb-4490-9866-ef142f09139d          NaN  00:00:35      5   \n",
       "...                                      ...          ...       ...    ...   \n",
       "135635  f21d179f-1c4b-437e-b9c6-ab1976907195          NaN  00:08:06      6   \n",
       "135636  515c1952-99aa-4bca-a7ea-d0449eb5385a          NaN  02:25:12      6   \n",
       "135637  ed3e7d02-8a96-4be7-9998-e9813ff9c316          NaN  08:57:52      6   \n",
       "135638  32572adb-900f-4b5d-a453-1eb1e6d88d8b          NaN  12:12:27      6   \n",
       "135639  f21d179f-1c4b-437e-b9c6-ab1976907195          NaN  12:32:49      6   \n",
       "\n",
       "        day  hour  minute  second  \n",
       "0         4     0       0       1  \n",
       "1         4     0       0       3  \n",
       "2         4     0       0      16  \n",
       "3         4     0       0      16  \n",
       "4         4     0       0      35  \n",
       "...     ...   ...     ...     ...  \n",
       "135635    5     0       8       6  \n",
       "135636    5     2      25      12  \n",
       "135637    5     8      57      52  \n",
       "135638    5    12      12      27  \n",
       "135639    5    12      32      49  \n",
       "\n",
       "[135639 rows x 11 columns]"
      ]
     },
     "execution_count": 6,
     "metadata": {},
     "output_type": "execute_result"
    }
   ],
   "source": [
    "#удалим дубликат\n",
    "game_actions = game_actions.drop_duplicates()\n",
    "game_actions"
   ]
  },
  {
   "cell_type": "markdown",
   "metadata": {},
   "source": [
    "*Сделаем тоже самое и для остальных датасетов*"
   ]
  },
  {
   "cell_type": "code",
   "execution_count": 7,
   "metadata": {},
   "outputs": [
    {
     "data": {
      "text/html": [
       "<div>\n",
       "<style scoped>\n",
       "    .dataframe tbody tr th:only-of-type {\n",
       "        vertical-align: middle;\n",
       "    }\n",
       "\n",
       "    .dataframe tbody tr th {\n",
       "        vertical-align: top;\n",
       "    }\n",
       "\n",
       "    .dataframe thead th {\n",
       "        text-align: right;\n",
       "    }\n",
       "</style>\n",
       "<table border=\"1\" class=\"dataframe\">\n",
       "  <thead>\n",
       "    <tr style=\"text-align: right;\">\n",
       "      <th></th>\n",
       "      <th>source</th>\n",
       "      <th>day</th>\n",
       "      <th>cost</th>\n",
       "    </tr>\n",
       "  </thead>\n",
       "  <tbody>\n",
       "    <tr>\n",
       "      <td>0</td>\n",
       "      <td>facebook_ads</td>\n",
       "      <td>2020-05-03</td>\n",
       "      <td>935.882786</td>\n",
       "    </tr>\n",
       "    <tr>\n",
       "      <td>1</td>\n",
       "      <td>facebook_ads</td>\n",
       "      <td>2020-05-04</td>\n",
       "      <td>548.354480</td>\n",
       "    </tr>\n",
       "    <tr>\n",
       "      <td>2</td>\n",
       "      <td>facebook_ads</td>\n",
       "      <td>2020-05-05</td>\n",
       "      <td>260.185754</td>\n",
       "    </tr>\n",
       "    <tr>\n",
       "      <td>3</td>\n",
       "      <td>facebook_ads</td>\n",
       "      <td>2020-05-06</td>\n",
       "      <td>177.982200</td>\n",
       "    </tr>\n",
       "    <tr>\n",
       "      <td>4</td>\n",
       "      <td>facebook_ads</td>\n",
       "      <td>2020-05-07</td>\n",
       "      <td>111.766796</td>\n",
       "    </tr>\n",
       "    <tr>\n",
       "      <td>5</td>\n",
       "      <td>facebook_ads</td>\n",
       "      <td>2020-05-08</td>\n",
       "      <td>68.009276</td>\n",
       "    </tr>\n",
       "    <tr>\n",
       "      <td>6</td>\n",
       "      <td>facebook_ads</td>\n",
       "      <td>2020-05-09</td>\n",
       "      <td>38.723350</td>\n",
       "    </tr>\n",
       "    <tr>\n",
       "      <td>7</td>\n",
       "      <td>instagram_new_adverts</td>\n",
       "      <td>2020-05-03</td>\n",
       "      <td>943.204717</td>\n",
       "    </tr>\n",
       "    <tr>\n",
       "      <td>8</td>\n",
       "      <td>instagram_new_adverts</td>\n",
       "      <td>2020-05-04</td>\n",
       "      <td>502.925451</td>\n",
       "    </tr>\n",
       "    <tr>\n",
       "      <td>9</td>\n",
       "      <td>instagram_new_adverts</td>\n",
       "      <td>2020-05-05</td>\n",
       "      <td>313.970984</td>\n",
       "    </tr>\n",
       "    <tr>\n",
       "      <td>10</td>\n",
       "      <td>instagram_new_adverts</td>\n",
       "      <td>2020-05-06</td>\n",
       "      <td>173.071145</td>\n",
       "    </tr>\n",
       "    <tr>\n",
       "      <td>11</td>\n",
       "      <td>instagram_new_adverts</td>\n",
       "      <td>2020-05-07</td>\n",
       "      <td>109.915254</td>\n",
       "    </tr>\n",
       "    <tr>\n",
       "      <td>12</td>\n",
       "      <td>instagram_new_adverts</td>\n",
       "      <td>2020-05-08</td>\n",
       "      <td>71.578739</td>\n",
       "    </tr>\n",
       "    <tr>\n",
       "      <td>13</td>\n",
       "      <td>instagram_new_adverts</td>\n",
       "      <td>2020-05-09</td>\n",
       "      <td>46.775400</td>\n",
       "    </tr>\n",
       "    <tr>\n",
       "      <td>14</td>\n",
       "      <td>yandex_direct</td>\n",
       "      <td>2020-05-03</td>\n",
       "      <td>969.139394</td>\n",
       "    </tr>\n",
       "    <tr>\n",
       "      <td>15</td>\n",
       "      <td>yandex_direct</td>\n",
       "      <td>2020-05-04</td>\n",
       "      <td>554.651494</td>\n",
       "    </tr>\n",
       "    <tr>\n",
       "      <td>16</td>\n",
       "      <td>yandex_direct</td>\n",
       "      <td>2020-05-05</td>\n",
       "      <td>308.232990</td>\n",
       "    </tr>\n",
       "    <tr>\n",
       "      <td>17</td>\n",
       "      <td>yandex_direct</td>\n",
       "      <td>2020-05-06</td>\n",
       "      <td>180.917099</td>\n",
       "    </tr>\n",
       "    <tr>\n",
       "      <td>18</td>\n",
       "      <td>yandex_direct</td>\n",
       "      <td>2020-05-07</td>\n",
       "      <td>114.429338</td>\n",
       "    </tr>\n",
       "    <tr>\n",
       "      <td>19</td>\n",
       "      <td>yandex_direct</td>\n",
       "      <td>2020-05-08</td>\n",
       "      <td>62.961630</td>\n",
       "    </tr>\n",
       "    <tr>\n",
       "      <td>20</td>\n",
       "      <td>yandex_direct</td>\n",
       "      <td>2020-05-09</td>\n",
       "      <td>42.779505</td>\n",
       "    </tr>\n",
       "    <tr>\n",
       "      <td>21</td>\n",
       "      <td>youtube_channel_reklama</td>\n",
       "      <td>2020-05-03</td>\n",
       "      <td>454.224943</td>\n",
       "    </tr>\n",
       "    <tr>\n",
       "      <td>22</td>\n",
       "      <td>youtube_channel_reklama</td>\n",
       "      <td>2020-05-04</td>\n",
       "      <td>259.073224</td>\n",
       "    </tr>\n",
       "    <tr>\n",
       "      <td>23</td>\n",
       "      <td>youtube_channel_reklama</td>\n",
       "      <td>2020-05-05</td>\n",
       "      <td>147.041741</td>\n",
       "    </tr>\n",
       "    <tr>\n",
       "      <td>24</td>\n",
       "      <td>youtube_channel_reklama</td>\n",
       "      <td>2020-05-06</td>\n",
       "      <td>88.506074</td>\n",
       "    </tr>\n",
       "    <tr>\n",
       "      <td>25</td>\n",
       "      <td>youtube_channel_reklama</td>\n",
       "      <td>2020-05-07</td>\n",
       "      <td>55.740645</td>\n",
       "    </tr>\n",
       "    <tr>\n",
       "      <td>26</td>\n",
       "      <td>youtube_channel_reklama</td>\n",
       "      <td>2020-05-08</td>\n",
       "      <td>40.217907</td>\n",
       "    </tr>\n",
       "    <tr>\n",
       "      <td>27</td>\n",
       "      <td>youtube_channel_reklama</td>\n",
       "      <td>2020-05-09</td>\n",
       "      <td>23.314669</td>\n",
       "    </tr>\n",
       "  </tbody>\n",
       "</table>\n",
       "</div>"
      ],
      "text/plain": [
       "                     source         day        cost\n",
       "0              facebook_ads  2020-05-03  935.882786\n",
       "1              facebook_ads  2020-05-04  548.354480\n",
       "2              facebook_ads  2020-05-05  260.185754\n",
       "3              facebook_ads  2020-05-06  177.982200\n",
       "4              facebook_ads  2020-05-07  111.766796\n",
       "5              facebook_ads  2020-05-08   68.009276\n",
       "6              facebook_ads  2020-05-09   38.723350\n",
       "7     instagram_new_adverts  2020-05-03  943.204717\n",
       "8     instagram_new_adverts  2020-05-04  502.925451\n",
       "9     instagram_new_adverts  2020-05-05  313.970984\n",
       "10    instagram_new_adverts  2020-05-06  173.071145\n",
       "11    instagram_new_adverts  2020-05-07  109.915254\n",
       "12    instagram_new_adverts  2020-05-08   71.578739\n",
       "13    instagram_new_adverts  2020-05-09   46.775400\n",
       "14            yandex_direct  2020-05-03  969.139394\n",
       "15            yandex_direct  2020-05-04  554.651494\n",
       "16            yandex_direct  2020-05-05  308.232990\n",
       "17            yandex_direct  2020-05-06  180.917099\n",
       "18            yandex_direct  2020-05-07  114.429338\n",
       "19            yandex_direct  2020-05-08   62.961630\n",
       "20            yandex_direct  2020-05-09   42.779505\n",
       "21  youtube_channel_reklama  2020-05-03  454.224943\n",
       "22  youtube_channel_reklama  2020-05-04  259.073224\n",
       "23  youtube_channel_reklama  2020-05-05  147.041741\n",
       "24  youtube_channel_reklama  2020-05-06   88.506074\n",
       "25  youtube_channel_reklama  2020-05-07   55.740645\n",
       "26  youtube_channel_reklama  2020-05-08   40.217907\n",
       "27  youtube_channel_reklama  2020-05-09   23.314669"
      ]
     },
     "execution_count": 7,
     "metadata": {},
     "output_type": "execute_result"
    }
   ],
   "source": [
    "ad_costs"
   ]
  },
  {
   "cell_type": "code",
   "execution_count": 8,
   "metadata": {},
   "outputs": [
    {
     "name": "stdout",
     "output_type": "stream",
     "text": [
      "<class 'pandas.core.frame.DataFrame'>\n",
      "RangeIndex: 28 entries, 0 to 27\n",
      "Data columns (total 3 columns):\n",
      "source    28 non-null object\n",
      "day       28 non-null object\n",
      "cost      28 non-null float64\n",
      "dtypes: float64(1), object(2)\n",
      "memory usage: 800.0+ bytes\n"
     ]
    }
   ],
   "source": [
    "ad_costs.info()"
   ]
  },
  {
   "cell_type": "code",
   "execution_count": 9,
   "metadata": {},
   "outputs": [
    {
     "data": {
      "text/html": [
       "<div>\n",
       "<style scoped>\n",
       "    .dataframe tbody tr th:only-of-type {\n",
       "        vertical-align: middle;\n",
       "    }\n",
       "\n",
       "    .dataframe tbody tr th {\n",
       "        vertical-align: top;\n",
       "    }\n",
       "\n",
       "    .dataframe thead th {\n",
       "        text-align: right;\n",
       "    }\n",
       "</style>\n",
       "<table border=\"1\" class=\"dataframe\">\n",
       "  <thead>\n",
       "    <tr style=\"text-align: right;\">\n",
       "      <th></th>\n",
       "      <th>cost</th>\n",
       "    </tr>\n",
       "  </thead>\n",
       "  <tbody>\n",
       "    <tr>\n",
       "      <td>count</td>\n",
       "      <td>28.000000</td>\n",
       "    </tr>\n",
       "    <tr>\n",
       "      <td>mean</td>\n",
       "      <td>271.556321</td>\n",
       "    </tr>\n",
       "    <tr>\n",
       "      <td>std</td>\n",
       "      <td>286.867650</td>\n",
       "    </tr>\n",
       "    <tr>\n",
       "      <td>min</td>\n",
       "      <td>23.314669</td>\n",
       "    </tr>\n",
       "    <tr>\n",
       "      <td>25%</td>\n",
       "      <td>66.747365</td>\n",
       "    </tr>\n",
       "    <tr>\n",
       "      <td>50%</td>\n",
       "      <td>160.056443</td>\n",
       "    </tr>\n",
       "    <tr>\n",
       "      <td>75%</td>\n",
       "      <td>349.034473</td>\n",
       "    </tr>\n",
       "    <tr>\n",
       "      <td>max</td>\n",
       "      <td>969.139394</td>\n",
       "    </tr>\n",
       "  </tbody>\n",
       "</table>\n",
       "</div>"
      ],
      "text/plain": [
       "             cost\n",
       "count   28.000000\n",
       "mean   271.556321\n",
       "std    286.867650\n",
       "min     23.314669\n",
       "25%     66.747365\n",
       "50%    160.056443\n",
       "75%    349.034473\n",
       "max    969.139394"
      ]
     },
     "execution_count": 9,
     "metadata": {},
     "output_type": "execute_result"
    }
   ],
   "source": [
    "ad_costs.describe()"
   ]
  },
  {
   "cell_type": "code",
   "execution_count": 10,
   "metadata": {},
   "outputs": [],
   "source": [
    "ad_costs['day'] = pd.to_datetime(ad_costs['day'])"
   ]
  },
  {
   "cell_type": "code",
   "execution_count": 11,
   "metadata": {},
   "outputs": [
    {
     "data": {
      "text/plain": [
       "0"
      ]
     },
     "execution_count": 11,
     "metadata": {},
     "output_type": "execute_result"
    }
   ],
   "source": [
    "ad_costs.duplicated().sum()"
   ]
  },
  {
   "cell_type": "code",
   "execution_count": 12,
   "metadata": {},
   "outputs": [
    {
     "data": {
      "text/html": [
       "<div>\n",
       "<style scoped>\n",
       "    .dataframe tbody tr th:only-of-type {\n",
       "        vertical-align: middle;\n",
       "    }\n",
       "\n",
       "    .dataframe tbody tr th {\n",
       "        vertical-align: top;\n",
       "    }\n",
       "\n",
       "    .dataframe thead th {\n",
       "        text-align: right;\n",
       "    }\n",
       "</style>\n",
       "<table border=\"1\" class=\"dataframe\">\n",
       "  <thead>\n",
       "    <tr style=\"text-align: right;\">\n",
       "      <th></th>\n",
       "      <th>user_id</th>\n",
       "      <th>source</th>\n",
       "    </tr>\n",
       "  </thead>\n",
       "  <tbody>\n",
       "    <tr>\n",
       "      <td>0</td>\n",
       "      <td>0001f83c-c6ac-4621-b7f0-8a28b283ac30</td>\n",
       "      <td>facebook_ads</td>\n",
       "    </tr>\n",
       "    <tr>\n",
       "      <td>1</td>\n",
       "      <td>00151b4f-ba38-44a8-a650-d7cf130a0105</td>\n",
       "      <td>yandex_direct</td>\n",
       "    </tr>\n",
       "    <tr>\n",
       "      <td>2</td>\n",
       "      <td>001aaea6-3d14-43f1-8ca8-7f48820f17aa</td>\n",
       "      <td>youtube_channel_reklama</td>\n",
       "    </tr>\n",
       "    <tr>\n",
       "      <td>3</td>\n",
       "      <td>001d39dc-366c-4021-9604-6a3b9ff01e25</td>\n",
       "      <td>instagram_new_adverts</td>\n",
       "    </tr>\n",
       "    <tr>\n",
       "      <td>4</td>\n",
       "      <td>002f508f-67b6-479f-814b-b05f00d4e995</td>\n",
       "      <td>facebook_ads</td>\n",
       "    </tr>\n",
       "    <tr>\n",
       "      <td>...</td>\n",
       "      <td>...</td>\n",
       "      <td>...</td>\n",
       "    </tr>\n",
       "    <tr>\n",
       "      <td>13571</td>\n",
       "      <td>ffef4fed-164c-40e1-bde1-3980f76d0fb5</td>\n",
       "      <td>instagram_new_adverts</td>\n",
       "    </tr>\n",
       "    <tr>\n",
       "      <td>13572</td>\n",
       "      <td>fffab3da-da0e-4e30-ae62-10d0a2e24a4e</td>\n",
       "      <td>facebook_ads</td>\n",
       "    </tr>\n",
       "    <tr>\n",
       "      <td>13573</td>\n",
       "      <td>fffb626c-5ab6-47c9-8113-2062a2f18494</td>\n",
       "      <td>yandex_direct</td>\n",
       "    </tr>\n",
       "    <tr>\n",
       "      <td>13574</td>\n",
       "      <td>ffff194a-56b7-4c12-860d-3485242ae7f5</td>\n",
       "      <td>instagram_new_adverts</td>\n",
       "    </tr>\n",
       "    <tr>\n",
       "      <td>13575</td>\n",
       "      <td>ffff69cc-fec1-4fd3-9f98-93be1112a6b8</td>\n",
       "      <td>facebook_ads</td>\n",
       "    </tr>\n",
       "  </tbody>\n",
       "</table>\n",
       "<p>13576 rows × 2 columns</p>\n",
       "</div>"
      ],
      "text/plain": [
       "                                    user_id                   source\n",
       "0      0001f83c-c6ac-4621-b7f0-8a28b283ac30             facebook_ads\n",
       "1      00151b4f-ba38-44a8-a650-d7cf130a0105            yandex_direct\n",
       "2      001aaea6-3d14-43f1-8ca8-7f48820f17aa  youtube_channel_reklama\n",
       "3      001d39dc-366c-4021-9604-6a3b9ff01e25    instagram_new_adverts\n",
       "4      002f508f-67b6-479f-814b-b05f00d4e995             facebook_ads\n",
       "...                                     ...                      ...\n",
       "13571  ffef4fed-164c-40e1-bde1-3980f76d0fb5    instagram_new_adverts\n",
       "13572  fffab3da-da0e-4e30-ae62-10d0a2e24a4e             facebook_ads\n",
       "13573  fffb626c-5ab6-47c9-8113-2062a2f18494            yandex_direct\n",
       "13574  ffff194a-56b7-4c12-860d-3485242ae7f5    instagram_new_adverts\n",
       "13575  ffff69cc-fec1-4fd3-9f98-93be1112a6b8             facebook_ads\n",
       "\n",
       "[13576 rows x 2 columns]"
      ]
     },
     "execution_count": 12,
     "metadata": {},
     "output_type": "execute_result"
    }
   ],
   "source": [
    "user_source"
   ]
  },
  {
   "cell_type": "code",
   "execution_count": 13,
   "metadata": {},
   "outputs": [
    {
     "name": "stdout",
     "output_type": "stream",
     "text": [
      "<class 'pandas.core.frame.DataFrame'>\n",
      "RangeIndex: 13576 entries, 0 to 13575\n",
      "Data columns (total 2 columns):\n",
      "user_id    13576 non-null object\n",
      "source     13576 non-null object\n",
      "dtypes: object(2)\n",
      "memory usage: 212.2+ KB\n"
     ]
    }
   ],
   "source": [
    "user_source.info()"
   ]
  },
  {
   "cell_type": "code",
   "execution_count": 14,
   "metadata": {},
   "outputs": [
    {
     "data": {
      "text/plain": [
       "0"
      ]
     },
     "execution_count": 14,
     "metadata": {},
     "output_type": "execute_result"
    }
   ],
   "source": [
    "user_source.duplicated().sum()"
   ]
  },
  {
   "cell_type": "markdown",
   "metadata": {},
   "source": [
    "## Исследовательский анализ данных"
   ]
  },
  {
   "cell_type": "markdown",
   "metadata": {},
   "source": [
    "### Необходимо узнать время, которое тратиться пользователем для прохождения уровня"
   ]
  },
  {
   "cell_type": "code",
   "execution_count": 15,
   "metadata": {},
   "outputs": [
    {
     "data": {
      "image/png": "[encoded data removed]",
      "text/plain": [
       "<Figure size 432x288 with 1 Axes>"
      ]
     },
     "metadata": {
      "needs_background": "light"
     },
     "output_type": "display_data"
    }
   ],
   "source": [
    "fig, ax = plt.subplots()\n",
    "game_actions['event_datetime'].hist()\n",
    "labels = ax.get_xticks().tolist()\n",
    "labels = pd.to_datetime(game_actions['event_datetime'])\n",
    "ax.set_xticklabels(labels, rotation=90)\n",
    "plt.xlabel('Время и дата')\n",
    "plt.ylabel('Количество событий')\n",
    "plt.title('Распределение событий по времени')\n",
    "plt.show()"
   ]
  },
  {
   "cell_type": "code",
   "execution_count": 16,
   "metadata": {},
   "outputs": [
    {
     "data": {
      "image/png": "[encoded data removed]",
      "text/plain": [
       "<Figure size 432x288 with 1 Axes>"
      ]
     },
     "metadata": {
      "needs_background": "light"
     },
     "output_type": "display_data"
    }
   ],
   "source": [
    "fig, ax = plt.subplots()\n",
    "game_actions['event_datetime'].plot();\n",
    "plt.xlabel('Количество событий')\n",
    "plt.ylabel('Дата и время')\n",
    "plt.title('Распределение событий по времени')\n",
    "plt.show()"
   ]
  },
  {
   "cell_type": "code",
   "execution_count": 17,
   "metadata": {},
   "outputs": [
    {
     "data": {
      "text/plain": [
       "Timedelta('10 days 16:13:07.579183')"
      ]
     },
     "execution_count": 17,
     "metadata": {},
     "output_type": "execute_result"
    }
   ],
   "source": [
    "passed_level = game_actions.groupby('user_id')['event_datetime'].max() - game_actions.groupby('user_id')['event_datetime'].min()\n",
    "passed_level.mean()"
   ]
  },
  {
   "cell_type": "markdown",
   "metadata": {},
   "source": [
    "*Среднее время на прохождение уровня, неважно каким способом, занимает 10 дней*"
   ]
  },
  {
   "cell_type": "markdown",
   "metadata": {},
   "source": [
    "### Найти среднее количество построек и время между ними для каждого пользователя"
   ]
  },
  {
   "cell_type": "code",
   "execution_count": 18,
   "metadata": {},
   "outputs": [
    {
     "data": {
      "image/png": "[encoded data removed]",
      "text/plain": [
       "<Figure size 432x288 with 1 Axes>"
      ]
     },
     "metadata": {
      "needs_background": "light"
     },
     "output_type": "display_data"
    }
   ],
   "source": [
    "fig, ax = plt.subplots()\n",
    "game_actions.groupby('user_id')['building_type'].count().hist()\n",
    "plt.xlabel('Количество зданий')\n",
    "plt.ylabel('Количество игроков')\n",
    "plt.title('График отнешения построек к игрокам')\n",
    "plt.show()"
   ]
  },
  {
   "cell_type": "code",
   "execution_count": 19,
   "metadata": {},
   "outputs": [
    {
     "data": {
      "text/plain": [
       "9.425162050677667"
      ]
     },
     "execution_count": 19,
     "metadata": {},
     "output_type": "execute_result"
    }
   ],
   "source": [
    "game_actions.groupby('user_id')['building_type'].count().mean()"
   ]
  },
  {
   "cell_type": "code",
   "execution_count": 20,
   "metadata": {},
   "outputs": [
    {
     "data": {
      "text/plain": [
       "Timedelta('4 days 04:10:24.427577')"
      ]
     },
     "execution_count": 20,
     "metadata": {},
     "output_type": "execute_result"
    }
   ],
   "source": [
    "cnt_buildings = game_actions.groupby(['user_id','building_type'])['event_datetime'].max() - game_actions.groupby(['user_id','building_type'])['event_datetime'].min()\n",
    "cnt_buildings.mean()"
   ]
  },
  {
   "cell_type": "markdown",
   "metadata": {},
   "source": [
    "*В среднем игроки делают 9 построек для прохождения уровня, затрачивая на это около 4 дней и 4 часов*"
   ]
  },
  {
   "cell_type": "markdown",
   "metadata": {},
   "source": [
    "###  Разделить пользователей на основании выполненного условия игры (\"строители\", \"победители\", \"остальные\")\n"
   ]
  },
  {
   "cell_type": "code",
   "execution_count": 21,
   "metadata": {},
   "outputs": [
    {
     "data": {
      "text/html": [
       "<div>\n",
       "<style scoped>\n",
       "    .dataframe tbody tr th:only-of-type {\n",
       "        vertical-align: middle;\n",
       "    }\n",
       "\n",
       "    .dataframe tbody tr th {\n",
       "        vertical-align: top;\n",
       "    }\n",
       "\n",
       "    .dataframe thead th {\n",
       "        text-align: right;\n",
       "    }\n",
       "</style>\n",
       "<table border=\"1\" class=\"dataframe\">\n",
       "  <thead>\n",
       "    <tr style=\"text-align: right;\">\n",
       "      <th></th>\n",
       "      <th>user_id</th>\n",
       "      <th>event</th>\n",
       "      <th>gamer_type</th>\n",
       "    </tr>\n",
       "  </thead>\n",
       "  <tbody>\n",
       "    <tr>\n",
       "      <td>0</td>\n",
       "      <td>001d39dc-366c-4021-9604-6a3b9ff01e25</td>\n",
       "      <td>1</td>\n",
       "      <td>win</td>\n",
       "    </tr>\n",
       "    <tr>\n",
       "      <td>1</td>\n",
       "      <td>003ee7e8-6356-4286-a715-62f22a18d2a1</td>\n",
       "      <td>1</td>\n",
       "      <td>win</td>\n",
       "    </tr>\n",
       "    <tr>\n",
       "      <td>2</td>\n",
       "      <td>004074f8-251a-4776-922c-8348dca1a2f6</td>\n",
       "      <td>1</td>\n",
       "      <td>win</td>\n",
       "    </tr>\n",
       "    <tr>\n",
       "      <td>3</td>\n",
       "      <td>00464e5e-28ed-4be6-bf44-517ef7b3937b</td>\n",
       "      <td>1</td>\n",
       "      <td>win</td>\n",
       "    </tr>\n",
       "    <tr>\n",
       "      <td>4</td>\n",
       "      <td>0056c007-c082-43cc-bdef-afc49bca4cb9</td>\n",
       "      <td>1</td>\n",
       "      <td>win</td>\n",
       "    </tr>\n",
       "    <tr>\n",
       "      <td>...</td>\n",
       "      <td>...</td>\n",
       "      <td>...</td>\n",
       "      <td>...</td>\n",
       "    </tr>\n",
       "    <tr>\n",
       "      <td>5812</td>\n",
       "      <td>ffd002f3-3545-423e-8dba-0c6a2d48a3aa</td>\n",
       "      <td>1</td>\n",
       "      <td>win</td>\n",
       "    </tr>\n",
       "    <tr>\n",
       "      <td>5813</td>\n",
       "      <td>ffe810f4-1a1f-464b-924d-6f120b0cb8df</td>\n",
       "      <td>1</td>\n",
       "      <td>win</td>\n",
       "    </tr>\n",
       "    <tr>\n",
       "      <td>5814</td>\n",
       "      <td>ffef4fed-164c-40e1-bde1-3980f76d0fb5</td>\n",
       "      <td>1</td>\n",
       "      <td>win</td>\n",
       "    </tr>\n",
       "    <tr>\n",
       "      <td>5815</td>\n",
       "      <td>fffb626c-5ab6-47c9-8113-2062a2f18494</td>\n",
       "      <td>1</td>\n",
       "      <td>win</td>\n",
       "    </tr>\n",
       "    <tr>\n",
       "      <td>5816</td>\n",
       "      <td>ffff69cc-fec1-4fd3-9f98-93be1112a6b8</td>\n",
       "      <td>2</td>\n",
       "      <td>build</td>\n",
       "    </tr>\n",
       "  </tbody>\n",
       "</table>\n",
       "<p>5817 rows × 3 columns</p>\n",
       "</div>"
      ],
      "text/plain": [
       "                                   user_id  event gamer_type\n",
       "0     001d39dc-366c-4021-9604-6a3b9ff01e25      1        win\n",
       "1     003ee7e8-6356-4286-a715-62f22a18d2a1      1        win\n",
       "2     004074f8-251a-4776-922c-8348dca1a2f6      1        win\n",
       "3     00464e5e-28ed-4be6-bf44-517ef7b3937b      1        win\n",
       "4     0056c007-c082-43cc-bdef-afc49bca4cb9      1        win\n",
       "...                                    ...    ...        ...\n",
       "5812  ffd002f3-3545-423e-8dba-0c6a2d48a3aa      1        win\n",
       "5813  ffe810f4-1a1f-464b-924d-6f120b0cb8df      1        win\n",
       "5814  ffef4fed-164c-40e1-bde1-3980f76d0fb5      1        win\n",
       "5815  fffb626c-5ab6-47c9-8113-2062a2f18494      1        win\n",
       "5816  ffff69cc-fec1-4fd3-9f98-93be1112a6b8      2      build\n",
       "\n",
       "[5817 rows x 3 columns]"
      ]
     },
     "execution_count": 21,
     "metadata": {},
     "output_type": "execute_result"
    }
   ],
   "source": [
    "# выделим игроков, прошедших уровень\n",
    "notbuilding = game_actions.query('event != \"building\"')\n",
    "notbuilding_events = notbuilding.pivot_table(index='user_id', values='event',aggfunc='count').reset_index()\n",
    "def game_type(row):\n",
    "    event = row['event']\n",
    "    if event ==1:\n",
    "        return 'win'\n",
    "    if event ==2:\n",
    "        return 'build'\n",
    "    return 'other'\n",
    "notbuilding_events['gamer_type'] = notbuilding_events.apply(game_type,axis=1)\n",
    "notbuilding_events"
   ]
  },
  {
   "cell_type": "code",
   "execution_count": 22,
   "metadata": {},
   "outputs": [
    {
     "data": {
      "text/html": [
       "<div>\n",
       "<style scoped>\n",
       "    .dataframe tbody tr th:only-of-type {\n",
       "        vertical-align: middle;\n",
       "    }\n",
       "\n",
       "    .dataframe tbody tr th {\n",
       "        vertical-align: top;\n",
       "    }\n",
       "\n",
       "    .dataframe thead th {\n",
       "        text-align: right;\n",
       "    }\n",
       "</style>\n",
       "<table border=\"1\" class=\"dataframe\">\n",
       "  <thead>\n",
       "    <tr style=\"text-align: right;\">\n",
       "      <th></th>\n",
       "      <th>event_datetime</th>\n",
       "      <th>event_x</th>\n",
       "      <th>building_type</th>\n",
       "      <th>user_id</th>\n",
       "      <th>project_type</th>\n",
       "      <th>time</th>\n",
       "      <th>month</th>\n",
       "      <th>day</th>\n",
       "      <th>hour</th>\n",
       "      <th>minute</th>\n",
       "      <th>second</th>\n",
       "      <th>event_y</th>\n",
       "      <th>gamer_type</th>\n",
       "    </tr>\n",
       "  </thead>\n",
       "  <tbody>\n",
       "    <tr>\n",
       "      <td>0</td>\n",
       "      <td>2020-05-04 00:00:01</td>\n",
       "      <td>building</td>\n",
       "      <td>assembly_shop</td>\n",
       "      <td>55e92310-cb8e-4754-b622-597e124b03de</td>\n",
       "      <td>NaN</td>\n",
       "      <td>00:00:01</td>\n",
       "      <td>5</td>\n",
       "      <td>4</td>\n",
       "      <td>0</td>\n",
       "      <td>0</td>\n",
       "      <td>1</td>\n",
       "      <td>NaN</td>\n",
       "      <td>NaN</td>\n",
       "    </tr>\n",
       "    <tr>\n",
       "      <td>1</td>\n",
       "      <td>2020-05-05 05:20:15</td>\n",
       "      <td>building</td>\n",
       "      <td>assembly_shop</td>\n",
       "      <td>55e92310-cb8e-4754-b622-597e124b03de</td>\n",
       "      <td>NaN</td>\n",
       "      <td>05:20:15</td>\n",
       "      <td>5</td>\n",
       "      <td>5</td>\n",
       "      <td>5</td>\n",
       "      <td>20</td>\n",
       "      <td>15</td>\n",
       "      <td>NaN</td>\n",
       "      <td>NaN</td>\n",
       "    </tr>\n",
       "    <tr>\n",
       "      <td>2</td>\n",
       "      <td>2020-05-05 19:24:02</td>\n",
       "      <td>building</td>\n",
       "      <td>assembly_shop</td>\n",
       "      <td>55e92310-cb8e-4754-b622-597e124b03de</td>\n",
       "      <td>NaN</td>\n",
       "      <td>19:24:02</td>\n",
       "      <td>5</td>\n",
       "      <td>5</td>\n",
       "      <td>19</td>\n",
       "      <td>24</td>\n",
       "      <td>2</td>\n",
       "      <td>NaN</td>\n",
       "      <td>NaN</td>\n",
       "    </tr>\n",
       "    <tr>\n",
       "      <td>3</td>\n",
       "      <td>2020-05-05 20:59:19</td>\n",
       "      <td>building</td>\n",
       "      <td>assembly_shop</td>\n",
       "      <td>55e92310-cb8e-4754-b622-597e124b03de</td>\n",
       "      <td>NaN</td>\n",
       "      <td>20:59:19</td>\n",
       "      <td>5</td>\n",
       "      <td>5</td>\n",
       "      <td>20</td>\n",
       "      <td>59</td>\n",
       "      <td>19</td>\n",
       "      <td>NaN</td>\n",
       "      <td>NaN</td>\n",
       "    </tr>\n",
       "    <tr>\n",
       "      <td>4</td>\n",
       "      <td>2020-05-06 00:52:56</td>\n",
       "      <td>building</td>\n",
       "      <td>assembly_shop</td>\n",
       "      <td>55e92310-cb8e-4754-b622-597e124b03de</td>\n",
       "      <td>NaN</td>\n",
       "      <td>00:52:56</td>\n",
       "      <td>5</td>\n",
       "      <td>6</td>\n",
       "      <td>0</td>\n",
       "      <td>52</td>\n",
       "      <td>56</td>\n",
       "      <td>NaN</td>\n",
       "      <td>NaN</td>\n",
       "    </tr>\n",
       "    <tr>\n",
       "      <td>...</td>\n",
       "      <td>...</td>\n",
       "      <td>...</td>\n",
       "      <td>...</td>\n",
       "      <td>...</td>\n",
       "      <td>...</td>\n",
       "      <td>...</td>\n",
       "      <td>...</td>\n",
       "      <td>...</td>\n",
       "      <td>...</td>\n",
       "      <td>...</td>\n",
       "      <td>...</td>\n",
       "      <td>...</td>\n",
       "      <td>...</td>\n",
       "    </tr>\n",
       "    <tr>\n",
       "      <td>135634</td>\n",
       "      <td>2020-05-13 23:56:39</td>\n",
       "      <td>building</td>\n",
       "      <td>spaceport</td>\n",
       "      <td>cafd1b8b-507b-49ae-abf0-89fe863a8b03</td>\n",
       "      <td>NaN</td>\n",
       "      <td>23:56:39</td>\n",
       "      <td>5</td>\n",
       "      <td>13</td>\n",
       "      <td>23</td>\n",
       "      <td>56</td>\n",
       "      <td>39</td>\n",
       "      <td>NaN</td>\n",
       "      <td>NaN</td>\n",
       "    </tr>\n",
       "    <tr>\n",
       "      <td>135635</td>\n",
       "      <td>2020-05-18 00:23:28</td>\n",
       "      <td>building</td>\n",
       "      <td>spaceport</td>\n",
       "      <td>cafd1b8b-507b-49ae-abf0-89fe863a8b03</td>\n",
       "      <td>NaN</td>\n",
       "      <td>00:23:28</td>\n",
       "      <td>5</td>\n",
       "      <td>18</td>\n",
       "      <td>0</td>\n",
       "      <td>23</td>\n",
       "      <td>28</td>\n",
       "      <td>NaN</td>\n",
       "      <td>NaN</td>\n",
       "    </tr>\n",
       "    <tr>\n",
       "      <td>135636</td>\n",
       "      <td>2020-05-10 23:59:52</td>\n",
       "      <td>building</td>\n",
       "      <td>assembly_shop</td>\n",
       "      <td>bdc53e19-462a-4dc3-8b55-b4a34278af6a</td>\n",
       "      <td>NaN</td>\n",
       "      <td>23:59:52</td>\n",
       "      <td>5</td>\n",
       "      <td>10</td>\n",
       "      <td>23</td>\n",
       "      <td>59</td>\n",
       "      <td>52</td>\n",
       "      <td>NaN</td>\n",
       "      <td>NaN</td>\n",
       "    </tr>\n",
       "    <tr>\n",
       "      <td>135637</td>\n",
       "      <td>2020-05-13 08:11:19</td>\n",
       "      <td>building</td>\n",
       "      <td>spaceport</td>\n",
       "      <td>bdc53e19-462a-4dc3-8b55-b4a34278af6a</td>\n",
       "      <td>NaN</td>\n",
       "      <td>08:11:19</td>\n",
       "      <td>5</td>\n",
       "      <td>13</td>\n",
       "      <td>8</td>\n",
       "      <td>11</td>\n",
       "      <td>19</td>\n",
       "      <td>NaN</td>\n",
       "      <td>NaN</td>\n",
       "    </tr>\n",
       "    <tr>\n",
       "      <td>135638</td>\n",
       "      <td>2020-05-18 11:11:11</td>\n",
       "      <td>building</td>\n",
       "      <td>spaceport</td>\n",
       "      <td>bdc53e19-462a-4dc3-8b55-b4a34278af6a</td>\n",
       "      <td>NaN</td>\n",
       "      <td>11:11:11</td>\n",
       "      <td>5</td>\n",
       "      <td>18</td>\n",
       "      <td>11</td>\n",
       "      <td>11</td>\n",
       "      <td>11</td>\n",
       "      <td>NaN</td>\n",
       "      <td>NaN</td>\n",
       "    </tr>\n",
       "  </tbody>\n",
       "</table>\n",
       "<p>135639 rows × 13 columns</p>\n",
       "</div>"
      ],
      "text/plain": [
       "            event_datetime   event_x  building_type  \\\n",
       "0      2020-05-04 00:00:01  building  assembly_shop   \n",
       "1      2020-05-05 05:20:15  building  assembly_shop   \n",
       "2      2020-05-05 19:24:02  building  assembly_shop   \n",
       "3      2020-05-05 20:59:19  building  assembly_shop   \n",
       "4      2020-05-06 00:52:56  building  assembly_shop   \n",
       "...                    ...       ...            ...   \n",
       "135634 2020-05-13 23:56:39  building      spaceport   \n",
       "135635 2020-05-18 00:23:28  building      spaceport   \n",
       "135636 2020-05-10 23:59:52  building  assembly_shop   \n",
       "135637 2020-05-13 08:11:19  building      spaceport   \n",
       "135638 2020-05-18 11:11:11  building      spaceport   \n",
       "\n",
       "                                     user_id project_type      time  month  \\\n",
       "0       55e92310-cb8e-4754-b622-597e124b03de          NaN  00:00:01      5   \n",
       "1       55e92310-cb8e-4754-b622-597e124b03de          NaN  05:20:15      5   \n",
       "2       55e92310-cb8e-4754-b622-597e124b03de          NaN  19:24:02      5   \n",
       "3       55e92310-cb8e-4754-b622-597e124b03de          NaN  20:59:19      5   \n",
       "4       55e92310-cb8e-4754-b622-597e124b03de          NaN  00:52:56      5   \n",
       "...                                      ...          ...       ...    ...   \n",
       "135634  cafd1b8b-507b-49ae-abf0-89fe863a8b03          NaN  23:56:39      5   \n",
       "135635  cafd1b8b-507b-49ae-abf0-89fe863a8b03          NaN  00:23:28      5   \n",
       "135636  bdc53e19-462a-4dc3-8b55-b4a34278af6a          NaN  23:59:52      5   \n",
       "135637  bdc53e19-462a-4dc3-8b55-b4a34278af6a          NaN  08:11:19      5   \n",
       "135638  bdc53e19-462a-4dc3-8b55-b4a34278af6a          NaN  11:11:11      5   \n",
       "\n",
       "        day  hour  minute  second  event_y gamer_type  \n",
       "0         4     0       0       1      NaN        NaN  \n",
       "1         5     5      20      15      NaN        NaN  \n",
       "2         5    19      24       2      NaN        NaN  \n",
       "3         5    20      59      19      NaN        NaN  \n",
       "4         6     0      52      56      NaN        NaN  \n",
       "...     ...   ...     ...     ...      ...        ...  \n",
       "135634   13    23      56      39      NaN        NaN  \n",
       "135635   18     0      23      28      NaN        NaN  \n",
       "135636   10    23      59      52      NaN        NaN  \n",
       "135637   13     8      11      19      NaN        NaN  \n",
       "135638   18    11      11      11      NaN        NaN  \n",
       "\n",
       "[135639 rows x 13 columns]"
      ]
     },
     "execution_count": 22,
     "metadata": {},
     "output_type": "execute_result"
    }
   ],
   "source": [
    "# объеденим датасеты и разделим пользователей на группы\n",
    "data = game_actions.merge(notbuilding_events, how='outer', left_on='user_id', right_on='user_id')\n",
    "data"
   ]
  },
  {
   "cell_type": "code",
   "execution_count": 23,
   "metadata": {},
   "outputs": [
    {
     "data": {
      "text/html": [
       "<div>\n",
       "<style scoped>\n",
       "    .dataframe tbody tr th:only-of-type {\n",
       "        vertical-align: middle;\n",
       "    }\n",
       "\n",
       "    .dataframe tbody tr th {\n",
       "        vertical-align: top;\n",
       "    }\n",
       "\n",
       "    .dataframe thead th {\n",
       "        text-align: right;\n",
       "    }\n",
       "</style>\n",
       "<table border=\"1\" class=\"dataframe\">\n",
       "  <thead>\n",
       "    <tr style=\"text-align: right;\">\n",
       "      <th></th>\n",
       "      <th>event_datetime</th>\n",
       "      <th>event_x</th>\n",
       "      <th>building_type</th>\n",
       "      <th>user_id</th>\n",
       "      <th>project_type</th>\n",
       "      <th>time</th>\n",
       "      <th>month</th>\n",
       "      <th>day</th>\n",
       "      <th>hour</th>\n",
       "      <th>minute</th>\n",
       "      <th>second</th>\n",
       "      <th>event_y</th>\n",
       "      <th>gamer_type</th>\n",
       "    </tr>\n",
       "  </thead>\n",
       "  <tbody>\n",
       "    <tr>\n",
       "      <td>0</td>\n",
       "      <td>2020-05-04 00:00:01</td>\n",
       "      <td>building</td>\n",
       "      <td>assembly_shop</td>\n",
       "      <td>55e92310-cb8e-4754-b622-597e124b03de</td>\n",
       "      <td>NaN</td>\n",
       "      <td>00:00:01</td>\n",
       "      <td>5</td>\n",
       "      <td>4</td>\n",
       "      <td>0</td>\n",
       "      <td>0</td>\n",
       "      <td>1</td>\n",
       "      <td>NaN</td>\n",
       "      <td>NaN</td>\n",
       "    </tr>\n",
       "    <tr>\n",
       "      <td>1</td>\n",
       "      <td>2020-05-05 05:20:15</td>\n",
       "      <td>building</td>\n",
       "      <td>assembly_shop</td>\n",
       "      <td>55e92310-cb8e-4754-b622-597e124b03de</td>\n",
       "      <td>NaN</td>\n",
       "      <td>05:20:15</td>\n",
       "      <td>5</td>\n",
       "      <td>5</td>\n",
       "      <td>5</td>\n",
       "      <td>20</td>\n",
       "      <td>15</td>\n",
       "      <td>NaN</td>\n",
       "      <td>NaN</td>\n",
       "    </tr>\n",
       "    <tr>\n",
       "      <td>2</td>\n",
       "      <td>2020-05-05 19:24:02</td>\n",
       "      <td>building</td>\n",
       "      <td>assembly_shop</td>\n",
       "      <td>55e92310-cb8e-4754-b622-597e124b03de</td>\n",
       "      <td>NaN</td>\n",
       "      <td>19:24:02</td>\n",
       "      <td>5</td>\n",
       "      <td>5</td>\n",
       "      <td>19</td>\n",
       "      <td>24</td>\n",
       "      <td>2</td>\n",
       "      <td>NaN</td>\n",
       "      <td>NaN</td>\n",
       "    </tr>\n",
       "    <tr>\n",
       "      <td>3</td>\n",
       "      <td>2020-05-05 20:59:19</td>\n",
       "      <td>building</td>\n",
       "      <td>assembly_shop</td>\n",
       "      <td>55e92310-cb8e-4754-b622-597e124b03de</td>\n",
       "      <td>NaN</td>\n",
       "      <td>20:59:19</td>\n",
       "      <td>5</td>\n",
       "      <td>5</td>\n",
       "      <td>20</td>\n",
       "      <td>59</td>\n",
       "      <td>19</td>\n",
       "      <td>NaN</td>\n",
       "      <td>NaN</td>\n",
       "    </tr>\n",
       "    <tr>\n",
       "      <td>4</td>\n",
       "      <td>2020-05-06 00:52:56</td>\n",
       "      <td>building</td>\n",
       "      <td>assembly_shop</td>\n",
       "      <td>55e92310-cb8e-4754-b622-597e124b03de</td>\n",
       "      <td>NaN</td>\n",
       "      <td>00:52:56</td>\n",
       "      <td>5</td>\n",
       "      <td>6</td>\n",
       "      <td>0</td>\n",
       "      <td>52</td>\n",
       "      <td>56</td>\n",
       "      <td>NaN</td>\n",
       "      <td>NaN</td>\n",
       "    </tr>\n",
       "    <tr>\n",
       "      <td>...</td>\n",
       "      <td>...</td>\n",
       "      <td>...</td>\n",
       "      <td>...</td>\n",
       "      <td>...</td>\n",
       "      <td>...</td>\n",
       "      <td>...</td>\n",
       "      <td>...</td>\n",
       "      <td>...</td>\n",
       "      <td>...</td>\n",
       "      <td>...</td>\n",
       "      <td>...</td>\n",
       "      <td>...</td>\n",
       "      <td>...</td>\n",
       "    </tr>\n",
       "    <tr>\n",
       "      <td>135634</td>\n",
       "      <td>2020-05-13 23:56:39</td>\n",
       "      <td>building</td>\n",
       "      <td>spaceport</td>\n",
       "      <td>cafd1b8b-507b-49ae-abf0-89fe863a8b03</td>\n",
       "      <td>NaN</td>\n",
       "      <td>23:56:39</td>\n",
       "      <td>5</td>\n",
       "      <td>13</td>\n",
       "      <td>23</td>\n",
       "      <td>56</td>\n",
       "      <td>39</td>\n",
       "      <td>NaN</td>\n",
       "      <td>NaN</td>\n",
       "    </tr>\n",
       "    <tr>\n",
       "      <td>135635</td>\n",
       "      <td>2020-05-18 00:23:28</td>\n",
       "      <td>building</td>\n",
       "      <td>spaceport</td>\n",
       "      <td>cafd1b8b-507b-49ae-abf0-89fe863a8b03</td>\n",
       "      <td>NaN</td>\n",
       "      <td>00:23:28</td>\n",
       "      <td>5</td>\n",
       "      <td>18</td>\n",
       "      <td>0</td>\n",
       "      <td>23</td>\n",
       "      <td>28</td>\n",
       "      <td>NaN</td>\n",
       "      <td>NaN</td>\n",
       "    </tr>\n",
       "    <tr>\n",
       "      <td>135636</td>\n",
       "      <td>2020-05-10 23:59:52</td>\n",
       "      <td>building</td>\n",
       "      <td>assembly_shop</td>\n",
       "      <td>bdc53e19-462a-4dc3-8b55-b4a34278af6a</td>\n",
       "      <td>NaN</td>\n",
       "      <td>23:59:52</td>\n",
       "      <td>5</td>\n",
       "      <td>10</td>\n",
       "      <td>23</td>\n",
       "      <td>59</td>\n",
       "      <td>52</td>\n",
       "      <td>NaN</td>\n",
       "      <td>NaN</td>\n",
       "    </tr>\n",
       "    <tr>\n",
       "      <td>135637</td>\n",
       "      <td>2020-05-13 08:11:19</td>\n",
       "      <td>building</td>\n",
       "      <td>spaceport</td>\n",
       "      <td>bdc53e19-462a-4dc3-8b55-b4a34278af6a</td>\n",
       "      <td>NaN</td>\n",
       "      <td>08:11:19</td>\n",
       "      <td>5</td>\n",
       "      <td>13</td>\n",
       "      <td>8</td>\n",
       "      <td>11</td>\n",
       "      <td>19</td>\n",
       "      <td>NaN</td>\n",
       "      <td>NaN</td>\n",
       "    </tr>\n",
       "    <tr>\n",
       "      <td>135638</td>\n",
       "      <td>2020-05-18 11:11:11</td>\n",
       "      <td>building</td>\n",
       "      <td>spaceport</td>\n",
       "      <td>bdc53e19-462a-4dc3-8b55-b4a34278af6a</td>\n",
       "      <td>NaN</td>\n",
       "      <td>11:11:11</td>\n",
       "      <td>5</td>\n",
       "      <td>18</td>\n",
       "      <td>11</td>\n",
       "      <td>11</td>\n",
       "      <td>11</td>\n",
       "      <td>NaN</td>\n",
       "      <td>NaN</td>\n",
       "    </tr>\n",
       "  </tbody>\n",
       "</table>\n",
       "<p>67170 rows × 13 columns</p>\n",
       "</div>"
      ],
      "text/plain": [
       "            event_datetime   event_x  building_type  \\\n",
       "0      2020-05-04 00:00:01  building  assembly_shop   \n",
       "1      2020-05-05 05:20:15  building  assembly_shop   \n",
       "2      2020-05-05 19:24:02  building  assembly_shop   \n",
       "3      2020-05-05 20:59:19  building  assembly_shop   \n",
       "4      2020-05-06 00:52:56  building  assembly_shop   \n",
       "...                    ...       ...            ...   \n",
       "135634 2020-05-13 23:56:39  building      spaceport   \n",
       "135635 2020-05-18 00:23:28  building      spaceport   \n",
       "135636 2020-05-10 23:59:52  building  assembly_shop   \n",
       "135637 2020-05-13 08:11:19  building      spaceport   \n",
       "135638 2020-05-18 11:11:11  building      spaceport   \n",
       "\n",
       "                                     user_id project_type      time  month  \\\n",
       "0       55e92310-cb8e-4754-b622-597e124b03de          NaN  00:00:01      5   \n",
       "1       55e92310-cb8e-4754-b622-597e124b03de          NaN  05:20:15      5   \n",
       "2       55e92310-cb8e-4754-b622-597e124b03de          NaN  19:24:02      5   \n",
       "3       55e92310-cb8e-4754-b622-597e124b03de          NaN  20:59:19      5   \n",
       "4       55e92310-cb8e-4754-b622-597e124b03de          NaN  00:52:56      5   \n",
       "...                                      ...          ...       ...    ...   \n",
       "135634  cafd1b8b-507b-49ae-abf0-89fe863a8b03          NaN  23:56:39      5   \n",
       "135635  cafd1b8b-507b-49ae-abf0-89fe863a8b03          NaN  00:23:28      5   \n",
       "135636  bdc53e19-462a-4dc3-8b55-b4a34278af6a          NaN  23:59:52      5   \n",
       "135637  bdc53e19-462a-4dc3-8b55-b4a34278af6a          NaN  08:11:19      5   \n",
       "135638  bdc53e19-462a-4dc3-8b55-b4a34278af6a          NaN  11:11:11      5   \n",
       "\n",
       "        day  hour  minute  second  event_y gamer_type  \n",
       "0         4     0       0       1      NaN        NaN  \n",
       "1         5     5      20      15      NaN        NaN  \n",
       "2         5    19      24       2      NaN        NaN  \n",
       "3         5    20      59      19      NaN        NaN  \n",
       "4         6     0      52      56      NaN        NaN  \n",
       "...     ...   ...     ...     ...      ...        ...  \n",
       "135634   13    23      56      39      NaN        NaN  \n",
       "135635   18     0      23      28      NaN        NaN  \n",
       "135636   10    23      59      52      NaN        NaN  \n",
       "135637   13     8      11      19      NaN        NaN  \n",
       "135638   18    11      11      11      NaN        NaN  \n",
       "\n",
       "[67170 rows x 13 columns]"
      ]
     },
     "execution_count": 23,
     "metadata": {},
     "output_type": "execute_result"
    }
   ],
   "source": [
    "others = data.query('gamer_type != \"win\" & gamer_type != \"build\"')\n",
    "others"
   ]
  },
  {
   "cell_type": "code",
   "execution_count": 24,
   "metadata": {},
   "outputs": [
    {
     "data": {
      "text/html": [
       "<div>\n",
       "<style scoped>\n",
       "    .dataframe tbody tr th:only-of-type {\n",
       "        vertical-align: middle;\n",
       "    }\n",
       "\n",
       "    .dataframe tbody tr th {\n",
       "        vertical-align: top;\n",
       "    }\n",
       "\n",
       "    .dataframe thead th {\n",
       "        text-align: right;\n",
       "    }\n",
       "</style>\n",
       "<table border=\"1\" class=\"dataframe\">\n",
       "  <thead>\n",
       "    <tr style=\"text-align: right;\">\n",
       "      <th></th>\n",
       "      <th>event_datetime</th>\n",
       "      <th>event_x</th>\n",
       "      <th>building_type</th>\n",
       "      <th>user_id</th>\n",
       "      <th>project_type</th>\n",
       "      <th>time</th>\n",
       "      <th>month</th>\n",
       "      <th>day</th>\n",
       "      <th>hour</th>\n",
       "      <th>minute</th>\n",
       "      <th>second</th>\n",
       "      <th>event_y</th>\n",
       "      <th>gamer_type</th>\n",
       "    </tr>\n",
       "  </thead>\n",
       "  <tbody>\n",
       "    <tr>\n",
       "      <td>20</td>\n",
       "      <td>2020-05-04 00:00:16</td>\n",
       "      <td>building</td>\n",
       "      <td>assembly_shop</td>\n",
       "      <td>6edd42cc-e753-4ff6-a947-2107cd560710</td>\n",
       "      <td>NaN</td>\n",
       "      <td>00:00:16</td>\n",
       "      <td>5</td>\n",
       "      <td>4</td>\n",
       "      <td>0</td>\n",
       "      <td>0</td>\n",
       "      <td>16</td>\n",
       "      <td>1.0</td>\n",
       "      <td>win</td>\n",
       "    </tr>\n",
       "    <tr>\n",
       "      <td>21</td>\n",
       "      <td>2020-05-07 02:05:04</td>\n",
       "      <td>building</td>\n",
       "      <td>assembly_shop</td>\n",
       "      <td>6edd42cc-e753-4ff6-a947-2107cd560710</td>\n",
       "      <td>NaN</td>\n",
       "      <td>02:05:04</td>\n",
       "      <td>5</td>\n",
       "      <td>7</td>\n",
       "      <td>2</td>\n",
       "      <td>5</td>\n",
       "      <td>4</td>\n",
       "      <td>1.0</td>\n",
       "      <td>win</td>\n",
       "    </tr>\n",
       "    <tr>\n",
       "      <td>22</td>\n",
       "      <td>2020-05-07 04:19:08</td>\n",
       "      <td>building</td>\n",
       "      <td>assembly_shop</td>\n",
       "      <td>6edd42cc-e753-4ff6-a947-2107cd560710</td>\n",
       "      <td>NaN</td>\n",
       "      <td>04:19:08</td>\n",
       "      <td>5</td>\n",
       "      <td>7</td>\n",
       "      <td>4</td>\n",
       "      <td>19</td>\n",
       "      <td>8</td>\n",
       "      <td>1.0</td>\n",
       "      <td>win</td>\n",
       "    </tr>\n",
       "    <tr>\n",
       "      <td>23</td>\n",
       "      <td>2020-05-07 06:38:53</td>\n",
       "      <td>building</td>\n",
       "      <td>assembly_shop</td>\n",
       "      <td>6edd42cc-e753-4ff6-a947-2107cd560710</td>\n",
       "      <td>NaN</td>\n",
       "      <td>06:38:53</td>\n",
       "      <td>5</td>\n",
       "      <td>7</td>\n",
       "      <td>6</td>\n",
       "      <td>38</td>\n",
       "      <td>53</td>\n",
       "      <td>1.0</td>\n",
       "      <td>win</td>\n",
       "    </tr>\n",
       "    <tr>\n",
       "      <td>24</td>\n",
       "      <td>2020-05-08 07:14:40</td>\n",
       "      <td>building</td>\n",
       "      <td>assembly_shop</td>\n",
       "      <td>6edd42cc-e753-4ff6-a947-2107cd560710</td>\n",
       "      <td>NaN</td>\n",
       "      <td>07:14:40</td>\n",
       "      <td>5</td>\n",
       "      <td>8</td>\n",
       "      <td>7</td>\n",
       "      <td>14</td>\n",
       "      <td>40</td>\n",
       "      <td>1.0</td>\n",
       "      <td>win</td>\n",
       "    </tr>\n",
       "    <tr>\n",
       "      <td>...</td>\n",
       "      <td>...</td>\n",
       "      <td>...</td>\n",
       "      <td>...</td>\n",
       "      <td>...</td>\n",
       "      <td>...</td>\n",
       "      <td>...</td>\n",
       "      <td>...</td>\n",
       "      <td>...</td>\n",
       "      <td>...</td>\n",
       "      <td>...</td>\n",
       "      <td>...</td>\n",
       "      <td>...</td>\n",
       "      <td>...</td>\n",
       "    </tr>\n",
       "    <tr>\n",
       "      <td>135616</td>\n",
       "      <td>2020-05-17 04:55:13</td>\n",
       "      <td>building</td>\n",
       "      <td>spaceport</td>\n",
       "      <td>20bc9d79-10c4-4f2d-862e-4a6dece3b4ec</td>\n",
       "      <td>NaN</td>\n",
       "      <td>04:55:13</td>\n",
       "      <td>5</td>\n",
       "      <td>17</td>\n",
       "      <td>4</td>\n",
       "      <td>55</td>\n",
       "      <td>13</td>\n",
       "      <td>1.0</td>\n",
       "      <td>win</td>\n",
       "    </tr>\n",
       "    <tr>\n",
       "      <td>135617</td>\n",
       "      <td>2020-05-23 00:23:04</td>\n",
       "      <td>building</td>\n",
       "      <td>spaceport</td>\n",
       "      <td>20bc9d79-10c4-4f2d-862e-4a6dece3b4ec</td>\n",
       "      <td>NaN</td>\n",
       "      <td>00:23:04</td>\n",
       "      <td>5</td>\n",
       "      <td>23</td>\n",
       "      <td>0</td>\n",
       "      <td>23</td>\n",
       "      <td>4</td>\n",
       "      <td>1.0</td>\n",
       "      <td>win</td>\n",
       "    </tr>\n",
       "    <tr>\n",
       "      <td>135618</td>\n",
       "      <td>2020-05-26 14:36:17</td>\n",
       "      <td>building</td>\n",
       "      <td>spaceport</td>\n",
       "      <td>20bc9d79-10c4-4f2d-862e-4a6dece3b4ec</td>\n",
       "      <td>NaN</td>\n",
       "      <td>14:36:17</td>\n",
       "      <td>5</td>\n",
       "      <td>26</td>\n",
       "      <td>14</td>\n",
       "      <td>36</td>\n",
       "      <td>17</td>\n",
       "      <td>1.0</td>\n",
       "      <td>win</td>\n",
       "    </tr>\n",
       "    <tr>\n",
       "      <td>135619</td>\n",
       "      <td>2020-05-30 16:04:33</td>\n",
       "      <td>building</td>\n",
       "      <td>spaceport</td>\n",
       "      <td>20bc9d79-10c4-4f2d-862e-4a6dece3b4ec</td>\n",
       "      <td>NaN</td>\n",
       "      <td>16:04:33</td>\n",
       "      <td>5</td>\n",
       "      <td>30</td>\n",
       "      <td>16</td>\n",
       "      <td>4</td>\n",
       "      <td>33</td>\n",
       "      <td>1.0</td>\n",
       "      <td>win</td>\n",
       "    </tr>\n",
       "    <tr>\n",
       "      <td>135620</td>\n",
       "      <td>2020-05-31 10:28:30</td>\n",
       "      <td>finished_stage_1</td>\n",
       "      <td>NaN</td>\n",
       "      <td>20bc9d79-10c4-4f2d-862e-4a6dece3b4ec</td>\n",
       "      <td>NaN</td>\n",
       "      <td>10:28:30</td>\n",
       "      <td>5</td>\n",
       "      <td>31</td>\n",
       "      <td>10</td>\n",
       "      <td>28</td>\n",
       "      <td>30</td>\n",
       "      <td>1.0</td>\n",
       "      <td>win</td>\n",
       "    </tr>\n",
       "  </tbody>\n",
       "</table>\n",
       "<p>41136 rows × 13 columns</p>\n",
       "</div>"
      ],
      "text/plain": [
       "            event_datetime           event_x  building_type  \\\n",
       "20     2020-05-04 00:00:16          building  assembly_shop   \n",
       "21     2020-05-07 02:05:04          building  assembly_shop   \n",
       "22     2020-05-07 04:19:08          building  assembly_shop   \n",
       "23     2020-05-07 06:38:53          building  assembly_shop   \n",
       "24     2020-05-08 07:14:40          building  assembly_shop   \n",
       "...                    ...               ...            ...   \n",
       "135616 2020-05-17 04:55:13          building      spaceport   \n",
       "135617 2020-05-23 00:23:04          building      spaceport   \n",
       "135618 2020-05-26 14:36:17          building      spaceport   \n",
       "135619 2020-05-30 16:04:33          building      spaceport   \n",
       "135620 2020-05-31 10:28:30  finished_stage_1            NaN   \n",
       "\n",
       "                                     user_id project_type      time  month  \\\n",
       "20      6edd42cc-e753-4ff6-a947-2107cd560710          NaN  00:00:16      5   \n",
       "21      6edd42cc-e753-4ff6-a947-2107cd560710          NaN  02:05:04      5   \n",
       "22      6edd42cc-e753-4ff6-a947-2107cd560710          NaN  04:19:08      5   \n",
       "23      6edd42cc-e753-4ff6-a947-2107cd560710          NaN  06:38:53      5   \n",
       "24      6edd42cc-e753-4ff6-a947-2107cd560710          NaN  07:14:40      5   \n",
       "...                                      ...          ...       ...    ...   \n",
       "135616  20bc9d79-10c4-4f2d-862e-4a6dece3b4ec          NaN  04:55:13      5   \n",
       "135617  20bc9d79-10c4-4f2d-862e-4a6dece3b4ec          NaN  00:23:04      5   \n",
       "135618  20bc9d79-10c4-4f2d-862e-4a6dece3b4ec          NaN  14:36:17      5   \n",
       "135619  20bc9d79-10c4-4f2d-862e-4a6dece3b4ec          NaN  16:04:33      5   \n",
       "135620  20bc9d79-10c4-4f2d-862e-4a6dece3b4ec          NaN  10:28:30      5   \n",
       "\n",
       "        day  hour  minute  second  event_y gamer_type  \n",
       "20        4     0       0      16      1.0        win  \n",
       "21        7     2       5       4      1.0        win  \n",
       "22        7     4      19       8      1.0        win  \n",
       "23        7     6      38      53      1.0        win  \n",
       "24        8     7      14      40      1.0        win  \n",
       "...     ...   ...     ...     ...      ...        ...  \n",
       "135616   17     4      55      13      1.0        win  \n",
       "135617   23     0      23       4      1.0        win  \n",
       "135618   26    14      36      17      1.0        win  \n",
       "135619   30    16       4      33      1.0        win  \n",
       "135620   31    10      28      30      1.0        win  \n",
       "\n",
       "[41136 rows x 13 columns]"
      ]
     },
     "execution_count": 24,
     "metadata": {},
     "output_type": "execute_result"
    }
   ],
   "source": [
    "winners = data.query('gamer_type == \"win\"')\n",
    "winners"
   ]
  },
  {
   "cell_type": "code",
   "execution_count": 25,
   "metadata": {},
   "outputs": [
    {
     "data": {
      "text/html": [
       "<div>\n",
       "<style scoped>\n",
       "    .dataframe tbody tr th:only-of-type {\n",
       "        vertical-align: middle;\n",
       "    }\n",
       "\n",
       "    .dataframe tbody tr th {\n",
       "        vertical-align: top;\n",
       "    }\n",
       "\n",
       "    .dataframe thead th {\n",
       "        text-align: right;\n",
       "    }\n",
       "</style>\n",
       "<table border=\"1\" class=\"dataframe\">\n",
       "  <thead>\n",
       "    <tr style=\"text-align: right;\">\n",
       "      <th></th>\n",
       "      <th>event_datetime</th>\n",
       "      <th>event_x</th>\n",
       "      <th>building_type</th>\n",
       "      <th>user_id</th>\n",
       "      <th>project_type</th>\n",
       "      <th>time</th>\n",
       "      <th>month</th>\n",
       "      <th>day</th>\n",
       "      <th>hour</th>\n",
       "      <th>minute</th>\n",
       "      <th>second</th>\n",
       "      <th>event_y</th>\n",
       "      <th>gamer_type</th>\n",
       "    </tr>\n",
       "  </thead>\n",
       "  <tbody>\n",
       "    <tr>\n",
       "      <td>7</td>\n",
       "      <td>2020-05-04 00:00:03</td>\n",
       "      <td>building</td>\n",
       "      <td>assembly_shop</td>\n",
       "      <td>c07b1c10-f477-44dc-81dc-ec82254b1347</td>\n",
       "      <td>NaN</td>\n",
       "      <td>00:00:03</td>\n",
       "      <td>5</td>\n",
       "      <td>4</td>\n",
       "      <td>0</td>\n",
       "      <td>0</td>\n",
       "      <td>3</td>\n",
       "      <td>2.0</td>\n",
       "      <td>build</td>\n",
       "    </tr>\n",
       "    <tr>\n",
       "      <td>8</td>\n",
       "      <td>2020-05-06 23:49:25</td>\n",
       "      <td>building</td>\n",
       "      <td>assembly_shop</td>\n",
       "      <td>c07b1c10-f477-44dc-81dc-ec82254b1347</td>\n",
       "      <td>NaN</td>\n",
       "      <td>23:49:25</td>\n",
       "      <td>5</td>\n",
       "      <td>6</td>\n",
       "      <td>23</td>\n",
       "      <td>49</td>\n",
       "      <td>25</td>\n",
       "      <td>2.0</td>\n",
       "      <td>build</td>\n",
       "    </tr>\n",
       "    <tr>\n",
       "      <td>9</td>\n",
       "      <td>2020-05-07 03:56:30</td>\n",
       "      <td>building</td>\n",
       "      <td>spaceport</td>\n",
       "      <td>c07b1c10-f477-44dc-81dc-ec82254b1347</td>\n",
       "      <td>NaN</td>\n",
       "      <td>03:56:30</td>\n",
       "      <td>5</td>\n",
       "      <td>7</td>\n",
       "      <td>3</td>\n",
       "      <td>56</td>\n",
       "      <td>30</td>\n",
       "      <td>2.0</td>\n",
       "      <td>build</td>\n",
       "    </tr>\n",
       "    <tr>\n",
       "      <td>10</td>\n",
       "      <td>2020-05-07 07:58:20</td>\n",
       "      <td>building</td>\n",
       "      <td>assembly_shop</td>\n",
       "      <td>c07b1c10-f477-44dc-81dc-ec82254b1347</td>\n",
       "      <td>NaN</td>\n",
       "      <td>07:58:20</td>\n",
       "      <td>5</td>\n",
       "      <td>7</td>\n",
       "      <td>7</td>\n",
       "      <td>58</td>\n",
       "      <td>20</td>\n",
       "      <td>2.0</td>\n",
       "      <td>build</td>\n",
       "    </tr>\n",
       "    <tr>\n",
       "      <td>11</td>\n",
       "      <td>2020-05-07 08:30:13</td>\n",
       "      <td>building</td>\n",
       "      <td>assembly_shop</td>\n",
       "      <td>c07b1c10-f477-44dc-81dc-ec82254b1347</td>\n",
       "      <td>NaN</td>\n",
       "      <td>08:30:13</td>\n",
       "      <td>5</td>\n",
       "      <td>7</td>\n",
       "      <td>8</td>\n",
       "      <td>30</td>\n",
       "      <td>13</td>\n",
       "      <td>2.0</td>\n",
       "      <td>build</td>\n",
       "    </tr>\n",
       "    <tr>\n",
       "      <td>...</td>\n",
       "      <td>...</td>\n",
       "      <td>...</td>\n",
       "      <td>...</td>\n",
       "      <td>...</td>\n",
       "      <td>...</td>\n",
       "      <td>...</td>\n",
       "      <td>...</td>\n",
       "      <td>...</td>\n",
       "      <td>...</td>\n",
       "      <td>...</td>\n",
       "      <td>...</td>\n",
       "      <td>...</td>\n",
       "      <td>...</td>\n",
       "    </tr>\n",
       "    <tr>\n",
       "      <td>135583</td>\n",
       "      <td>2020-05-28 08:45:57</td>\n",
       "      <td>building</td>\n",
       "      <td>spaceport</td>\n",
       "      <td>637a8d39-3872-4549-80cc-bebee6c88056</td>\n",
       "      <td>NaN</td>\n",
       "      <td>08:45:57</td>\n",
       "      <td>5</td>\n",
       "      <td>28</td>\n",
       "      <td>8</td>\n",
       "      <td>45</td>\n",
       "      <td>57</td>\n",
       "      <td>2.0</td>\n",
       "      <td>build</td>\n",
       "    </tr>\n",
       "    <tr>\n",
       "      <td>135584</td>\n",
       "      <td>2020-05-28 21:26:20</td>\n",
       "      <td>building</td>\n",
       "      <td>research_center</td>\n",
       "      <td>637a8d39-3872-4549-80cc-bebee6c88056</td>\n",
       "      <td>NaN</td>\n",
       "      <td>21:26:20</td>\n",
       "      <td>5</td>\n",
       "      <td>28</td>\n",
       "      <td>21</td>\n",
       "      <td>26</td>\n",
       "      <td>20</td>\n",
       "      <td>2.0</td>\n",
       "      <td>build</td>\n",
       "    </tr>\n",
       "    <tr>\n",
       "      <td>135585</td>\n",
       "      <td>2020-05-30 11:16:13</td>\n",
       "      <td>building</td>\n",
       "      <td>research_center</td>\n",
       "      <td>637a8d39-3872-4549-80cc-bebee6c88056</td>\n",
       "      <td>NaN</td>\n",
       "      <td>11:16:13</td>\n",
       "      <td>5</td>\n",
       "      <td>30</td>\n",
       "      <td>11</td>\n",
       "      <td>16</td>\n",
       "      <td>13</td>\n",
       "      <td>2.0</td>\n",
       "      <td>build</td>\n",
       "    </tr>\n",
       "    <tr>\n",
       "      <td>135586</td>\n",
       "      <td>2020-06-01 18:23:39</td>\n",
       "      <td>project</td>\n",
       "      <td>NaN</td>\n",
       "      <td>637a8d39-3872-4549-80cc-bebee6c88056</td>\n",
       "      <td>satellite_orbital_assembly</td>\n",
       "      <td>18:23:39</td>\n",
       "      <td>6</td>\n",
       "      <td>1</td>\n",
       "      <td>18</td>\n",
       "      <td>23</td>\n",
       "      <td>39</td>\n",
       "      <td>2.0</td>\n",
       "      <td>build</td>\n",
       "    </tr>\n",
       "    <tr>\n",
       "      <td>135587</td>\n",
       "      <td>2020-06-02 00:26:56</td>\n",
       "      <td>finished_stage_1</td>\n",
       "      <td>NaN</td>\n",
       "      <td>637a8d39-3872-4549-80cc-bebee6c88056</td>\n",
       "      <td>NaN</td>\n",
       "      <td>00:26:56</td>\n",
       "      <td>6</td>\n",
       "      <td>2</td>\n",
       "      <td>0</td>\n",
       "      <td>26</td>\n",
       "      <td>56</td>\n",
       "      <td>2.0</td>\n",
       "      <td>build</td>\n",
       "    </tr>\n",
       "  </tbody>\n",
       "</table>\n",
       "<p>27333 rows × 13 columns</p>\n",
       "</div>"
      ],
      "text/plain": [
       "            event_datetime           event_x    building_type  \\\n",
       "7      2020-05-04 00:00:03          building    assembly_shop   \n",
       "8      2020-05-06 23:49:25          building    assembly_shop   \n",
       "9      2020-05-07 03:56:30          building        spaceport   \n",
       "10     2020-05-07 07:58:20          building    assembly_shop   \n",
       "11     2020-05-07 08:30:13          building    assembly_shop   \n",
       "...                    ...               ...              ...   \n",
       "135583 2020-05-28 08:45:57          building        spaceport   \n",
       "135584 2020-05-28 21:26:20          building  research_center   \n",
       "135585 2020-05-30 11:16:13          building  research_center   \n",
       "135586 2020-06-01 18:23:39           project              NaN   \n",
       "135587 2020-06-02 00:26:56  finished_stage_1              NaN   \n",
       "\n",
       "                                     user_id                project_type  \\\n",
       "7       c07b1c10-f477-44dc-81dc-ec82254b1347                         NaN   \n",
       "8       c07b1c10-f477-44dc-81dc-ec82254b1347                         NaN   \n",
       "9       c07b1c10-f477-44dc-81dc-ec82254b1347                         NaN   \n",
       "10      c07b1c10-f477-44dc-81dc-ec82254b1347                         NaN   \n",
       "11      c07b1c10-f477-44dc-81dc-ec82254b1347                         NaN   \n",
       "...                                      ...                         ...   \n",
       "135583  637a8d39-3872-4549-80cc-bebee6c88056                         NaN   \n",
       "135584  637a8d39-3872-4549-80cc-bebee6c88056                         NaN   \n",
       "135585  637a8d39-3872-4549-80cc-bebee6c88056                         NaN   \n",
       "135586  637a8d39-3872-4549-80cc-bebee6c88056  satellite_orbital_assembly   \n",
       "135587  637a8d39-3872-4549-80cc-bebee6c88056                         NaN   \n",
       "\n",
       "            time  month  day  hour  minute  second  event_y gamer_type  \n",
       "7       00:00:03      5    4     0       0       3      2.0      build  \n",
       "8       23:49:25      5    6    23      49      25      2.0      build  \n",
       "9       03:56:30      5    7     3      56      30      2.0      build  \n",
       "10      07:58:20      5    7     7      58      20      2.0      build  \n",
       "11      08:30:13      5    7     8      30      13      2.0      build  \n",
       "...          ...    ...  ...   ...     ...     ...      ...        ...  \n",
       "135583  08:45:57      5   28     8      45      57      2.0      build  \n",
       "135584  21:26:20      5   28    21      26      20      2.0      build  \n",
       "135585  11:16:13      5   30    11      16      13      2.0      build  \n",
       "135586  18:23:39      6    1    18      23      39      2.0      build  \n",
       "135587  00:26:56      6    2     0      26      56      2.0      build  \n",
       "\n",
       "[27333 rows x 13 columns]"
      ]
     },
     "execution_count": 25,
     "metadata": {},
     "output_type": "execute_result"
    }
   ],
   "source": [
    "builders = data.query('gamer_type == \"build\"')\n",
    "builders"
   ]
  },
  {
   "cell_type": "markdown",
   "metadata": {},
   "source": [
    "### Высчитать среднюю стоимость кликов для каждого источника трафика"
   ]
  },
  {
   "cell_type": "code",
   "execution_count": 26,
   "metadata": {},
   "outputs": [
    {
     "data": {
      "image/png": "[encoded data removed]",
      "text/plain": [
       "<Figure size 432x288 with 1 Axes>"
      ]
     },
     "metadata": {
      "needs_background": "light"
     },
     "output_type": "display_data"
    }
   ],
   "source": [
    "fig, ax = plt.subplots()\n",
    "ad_costs['cost'].hist()\n",
    "plt.xlabel('Стоимость кликов')\n",
    "plt.ylabel('Количество кликов')\n",
    "plt.title('Распределение количества кликов к их стоимости')\n",
    "plt.show()"
   ]
  },
  {
   "cell_type": "code",
   "execution_count": 27,
   "metadata": {},
   "outputs": [
    {
     "data": {
      "text/plain": [
       "160.05644335530272"
      ]
     },
     "execution_count": 27,
     "metadata": {},
     "output_type": "execute_result"
    }
   ],
   "source": [
    "ad_costs['cost'].median()"
   ]
  },
  {
   "cell_type": "markdown",
   "metadata": {},
   "source": [
    "*По умолчанию, показ рекламы ожидается во время выбора постройки здания. Для прохождения уровня пользователи строят около 9 зданий, между постройками проходит примерно до 10 часов ожидания.У нас 13576 игроков.*"
   ]
  },
  {
   "cell_type": "markdown",
   "metadata": {},
   "source": [
    "## Создание модели монетизации"
   ]
  },
  {
   "cell_type": "markdown",
   "metadata": {},
   "source": [
    "*Монетизация в играх, а тем более в жанре стратегий с free-to-play механикой нужна для ускорения процесса. Поэтому я предлагаю добавить рекламу как способ апгрейда армии, времени строительства, улучшения и защиты построек. Это затронет каждую группу игроков.*"
   ]
  },
  {
   "cell_type": "markdown",
   "metadata": {},
   "source": [
    "### Посчитать количество пользователей на каждом событии. Посчитать количество пользователей на каждом типе реализованного проекта."
   ]
  },
  {
   "cell_type": "code",
   "execution_count": 28,
   "metadata": {},
   "outputs": [
    {
     "data": {
      "text/plain": [
       "1866"
      ]
     },
     "execution_count": 28,
     "metadata": {},
     "output_type": "execute_result"
    }
   ],
   "source": [
    "builders['user_id'].nunique()"
   ]
  },
  {
   "cell_type": "code",
   "execution_count": 29,
   "metadata": {},
   "outputs": [
    {
     "data": {
      "text/plain": [
       "3951"
      ]
     },
     "execution_count": 29,
     "metadata": {},
     "output_type": "execute_result"
    }
   ],
   "source": [
    "winners['user_id'].nunique()"
   ]
  },
  {
   "cell_type": "code",
   "execution_count": 30,
   "metadata": {},
   "outputs": [
    {
     "data": {
      "text/plain": [
       "7759"
      ]
     },
     "execution_count": 30,
     "metadata": {},
     "output_type": "execute_result"
    }
   ],
   "source": [
    "others['user_id'].nunique()"
   ]
  },
  {
   "cell_type": "markdown",
   "metadata": {},
   "source": [
    "### Высчитать количество  событий для показа рекламы на разных кластерах пользователей"
   ]
  },
  {
   "cell_type": "code",
   "execution_count": 31,
   "metadata": {},
   "outputs": [
    {
     "data": {
      "text/plain": [
       "user_id\n",
       "cefc5aac-4011-4e00-becc-2634c4527713    20\n",
       "a5add3ce-1ac4-4b97-aba0-f040efc4c1b0    20\n",
       "4c5782eb-6f86-4fde-a2e6-695dc86fa928    20\n",
       "a5f59d60-98b8-4455-ae5b-308f44715557    20\n",
       "a2f85d5e-5a53-43ee-9d41-9e1def085562    20\n",
       "                                        ..\n",
       "70362b15-8a0b-4fb7-8a67-4454fd7098d7     1\n",
       "ded24248-15c7-4037-9092-f64fcaa651e7     1\n",
       "f2750d16-16dc-420f-9a61-0a9c85308086     1\n",
       "dce8f331-d1ae-4d90-bc3e-0bc02929ea2e     1\n",
       "f6a91a2f-b1dd-4db2-bf11-532c8f893d24     1\n",
       "Name: building_type, Length: 7759, dtype: int64"
      ]
     },
     "execution_count": 31,
     "metadata": {},
     "output_type": "execute_result"
    }
   ],
   "source": [
    "others.groupby('user_id')['building_type'].count().sort_values(ascending=False)"
   ]
  },
  {
   "cell_type": "code",
   "execution_count": 32,
   "metadata": {},
   "outputs": [
    {
     "data": {
      "image/png": "[encoded data removed]",
      "text/plain": [
       "<Figure size 432x288 with 1 Axes>"
      ]
     },
     "metadata": {
      "needs_background": "light"
     },
     "output_type": "display_data"
    }
   ],
   "source": [
    "fig, ax = plt.subplots()\n",
    "others.groupby('user_id')['building_type'].count().sort_values(ascending=False).hist()\n",
    "plt.xlabel('Количество построек')\n",
    "plt.ylabel('Количество пользователей')\n",
    "plt.title('Распределение количества построек к пользователям группы \"остальные\"')\n",
    "plt.show()"
   ]
  },
  {
   "cell_type": "code",
   "execution_count": 33,
   "metadata": {},
   "outputs": [
    {
     "data": {
      "text/plain": [
       "8.657043433432143"
      ]
     },
     "execution_count": 33,
     "metadata": {},
     "output_type": "execute_result"
    }
   ],
   "source": [
    "# узнаем среднее количество построек группы\n",
    "others.groupby('user_id')['building_type'].count().sort_values(ascending=False).mean()"
   ]
  },
  {
   "cell_type": "code",
   "execution_count": 34,
   "metadata": {},
   "outputs": [
    {
     "data": {
      "text/plain": [
       "user_id\n",
       "7ab3cfa0-efcb-4849-ba0c-ea400cce8f05    19\n",
       "871e7334-271a-4fe1-a4e7-c43982a48cc0    19\n",
       "615bcae8-5553-40fc-83c6-4925c6aaaff7    19\n",
       "f0ef9e4d-5634-447e-9d10-40e26c067413    18\n",
       "33131337-034f-4b76-8895-a89d05e6a129    18\n",
       "                                        ..\n",
       "ed9fce65-e7f8-407d-92ce-539772f7c080     2\n",
       "5d7e74d9-71d2-4d79-97f0-99ede059e11a     2\n",
       "0bdf8f24-d773-4e2b-81bf-6923de7a904f     2\n",
       "875e414a-d8a8-4041-93c0-7ab12b9cd328     2\n",
       "6ff3138b-b242-4ec3-b50f-8d6f999c0848     2\n",
       "Name: building_type, Length: 3951, dtype: int64"
      ]
     },
     "execution_count": 34,
     "metadata": {},
     "output_type": "execute_result"
    }
   ],
   "source": [
    "winners.groupby('user_id')['building_type'].count().sort_values(ascending=False)"
   ]
  },
  {
   "cell_type": "code",
   "execution_count": 35,
   "metadata": {},
   "outputs": [
    {
     "data": {
      "image/png": "[encoded data removed]",
      "text/plain": [
       "<Figure size 432x288 with 1 Axes>"
      ]
     },
     "metadata": {
      "needs_background": "light"
     },
     "output_type": "display_data"
    }
   ],
   "source": [
    "fig, ax = plt.subplots()\n",
    "winners.groupby('user_id')['building_type'].count().sort_values(ascending=False).hist()\n",
    "plt.xlabel('Количество построек')\n",
    "plt.ylabel('Количество пользователей')\n",
    "plt.title('Распределение количества построек к пользователям группы \"победители\"')\n",
    "plt.show()"
   ]
  },
  {
   "cell_type": "code",
   "execution_count": 36,
   "metadata": {},
   "outputs": [
    {
     "data": {
      "text/plain": [
       "9.411541381928625"
      ]
     },
     "execution_count": 36,
     "metadata": {},
     "output_type": "execute_result"
    }
   ],
   "source": [
    "# узнаем среднее количество построек группы\n",
    "winners.groupby('user_id')['building_type'].count().sort_values(ascending=False).mean()"
   ]
  },
  {
   "cell_type": "code",
   "execution_count": 37,
   "metadata": {},
   "outputs": [
    {
     "data": {
      "text/plain": [
       "user_id\n",
       "d6aca06a-cd75-4cd8-b8cd-240a3c163884    20\n",
       "bf542075-e3a2-4e79-82d8-3838e86d2a25    20\n",
       "ff841992-d93b-462e-bc6e-18c24a514f36    20\n",
       "aee12ade-c6fa-4b31-a308-bd750c8511dc    19\n",
       "fa36cf08-cda1-4ee3-bee9-be16ded7071e    19\n",
       "                                        ..\n",
       "9613ef11-6780-402c-b6fc-919a4cf5116f    10\n",
       "2a6424c6-27d4-480c-9f01-e34666ec6158    10\n",
       "956a9cc8-fee4-46de-a6b1-39596990ae27    10\n",
       "2a8335d7-66cb-44bc-b7cf-7d4772e634a2    10\n",
       "2303f0ae-4980-4851-9a29-b7c73f8536d2    10\n",
       "Name: building_type, Length: 1866, dtype: int64"
      ]
     },
     "execution_count": 37,
     "metadata": {},
     "output_type": "execute_result"
    }
   ],
   "source": [
    "builders.groupby('user_id')['building_type'].count().sort_values(ascending=False)"
   ]
  },
  {
   "cell_type": "code",
   "execution_count": 38,
   "metadata": {},
   "outputs": [
    {
     "data": {
      "image/png": "[encoded data removed]",
      "text/plain": [
       "<Figure size 432x288 with 1 Axes>"
      ]
     },
     "metadata": {
      "needs_background": "light"
     },
     "output_type": "display_data"
    }
   ],
   "source": [
    "fig, ax = plt.subplots()\n",
    "builders.groupby('user_id')['building_type'].count().sort_values(ascending=False).hist()\n",
    "plt.xlabel('Количество построек')\n",
    "plt.ylabel('Количество пользователей')\n",
    "plt.title('Распределение количества построек к пользователям группы \"строители\"')\n",
    "plt.show()"
   ]
  },
  {
   "cell_type": "code",
   "execution_count": 39,
   "metadata": {},
   "outputs": [
    {
     "data": {
      "text/plain": [
       "12.64790996784566"
      ]
     },
     "execution_count": 39,
     "metadata": {},
     "output_type": "execute_result"
    }
   ],
   "source": [
    "# узнаем среднее количество построек группы\n",
    "builders.groupby('user_id')['building_type'].count().sort_values(ascending=False).mean()"
   ]
  },
  {
   "cell_type": "markdown",
   "metadata": {},
   "source": [
    "*В зависимости от способа и темпа игры, количество построек разниться. Об этом свидетельствуют среднее значение зданий в каждой из групп.*\n",
    "\n",
    "*7759 человек, не прошедших уровень, еще не выбрали каким способом его будут проходить. Поэтому реклама будет появлятся на время строительства постройки, а также, если они желают ускорить строительство или защитить постройку. Исходя из цифр это может быть от 1 до 20 показов во время постройки и один или два раза для улучшения этого здания.*\n",
    "\n",
    "*Группа игроков, проходящих уровень через постройку станции также обязана строить здания от 10 до 20 штук, чтобы собрать эту самую станцию. Рекламный буст для них идентичен, но после прохода уровня можно защитить свою станцию. Сделать это можно за счет сооружений армии и тд. - ускорение данных процессов также возможно через просмотр рекламы. Всего таковых на данный момент 1866 человек, то есть 1866 просмотров рекламы для защиты станции после прохождения уровня.*\n",
    "\n",
    "*Победители, идущие по тропе уничтожения противника, возводят от 2 до 19 сооружений, но создание армии, ресурсов и защиты своей базы стоят денег и времени. Уменьшение времени на все это сократит рекламные интеграции, ускоряющие процесс. 5817 человек/просмотров могут быть увеличены при желании пользователей уменьшить время на ожидание.*"
   ]
  },
  {
   "cell_type": "markdown",
   "metadata": {},
   "source": [
    "### Узнаем количество оставшихся пользователей после показа рекламы"
   ]
  },
  {
   "cell_type": "markdown",
   "metadata": {},
   "source": [
    "*Многие игроки не терпят рекламу или посчитают ее навязчивой. Возьмём 10% возможного оттока после ее показа*"
   ]
  },
  {
   "cell_type": "code",
   "execution_count": 40,
   "metadata": {},
   "outputs": [
    {
     "data": {
      "text/plain": [
       "1679.4"
      ]
     },
     "execution_count": 40,
     "metadata": {},
     "output_type": "execute_result"
    }
   ],
   "source": [
    "builders['user_id'].nunique()-(builders['user_id'].nunique() / 100 * 10)"
   ]
  },
  {
   "cell_type": "code",
   "execution_count": 41,
   "metadata": {},
   "outputs": [
    {
     "data": {
      "text/plain": [
       "3555.9"
      ]
     },
     "execution_count": 41,
     "metadata": {},
     "output_type": "execute_result"
    }
   ],
   "source": [
    "winners['user_id'].nunique()-(winners['user_id'].nunique() / 100 * 10)"
   ]
  },
  {
   "cell_type": "code",
   "execution_count": 42,
   "metadata": {},
   "outputs": [
    {
     "data": {
      "text/plain": [
       "6983.1"
      ]
     },
     "execution_count": 42,
     "metadata": {},
     "output_type": "execute_result"
    }
   ],
   "source": [
    "others['user_id'].nunique()-(others['user_id'].nunique() / 100 * 10)"
   ]
  },
  {
   "cell_type": "markdown",
   "metadata": {},
   "source": [
    "### Расчитать стоимость показа рекламы для разных источников"
   ]
  },
  {
   "cell_type": "markdown",
   "metadata": {},
   "source": [
    "*Необходимо найти САС - сумму привлечения пользователя*"
   ]
  },
  {
   "cell_type": "code",
   "execution_count": 43,
   "metadata": {},
   "outputs": [
    {
     "data": {
      "text/html": [
       "<div>\n",
       "<style scoped>\n",
       "    .dataframe tbody tr th:only-of-type {\n",
       "        vertical-align: middle;\n",
       "    }\n",
       "\n",
       "    .dataframe tbody tr th {\n",
       "        vertical-align: top;\n",
       "    }\n",
       "\n",
       "    .dataframe thead th {\n",
       "        text-align: right;\n",
       "    }\n",
       "</style>\n",
       "<table border=\"1\" class=\"dataframe\">\n",
       "  <thead>\n",
       "    <tr style=\"text-align: right;\">\n",
       "      <th></th>\n",
       "      <th>user_id</th>\n",
       "      <th>source</th>\n",
       "      <th>day</th>\n",
       "      <th>cost</th>\n",
       "    </tr>\n",
       "  </thead>\n",
       "  <tbody>\n",
       "    <tr>\n",
       "      <td>0</td>\n",
       "      <td>0001f83c-c6ac-4621-b7f0-8a28b283ac30</td>\n",
       "      <td>facebook_ads</td>\n",
       "      <td>2020-05-03</td>\n",
       "      <td>935.882786</td>\n",
       "    </tr>\n",
       "    <tr>\n",
       "      <td>1</td>\n",
       "      <td>0001f83c-c6ac-4621-b7f0-8a28b283ac30</td>\n",
       "      <td>facebook_ads</td>\n",
       "      <td>2020-05-04</td>\n",
       "      <td>548.354480</td>\n",
       "    </tr>\n",
       "    <tr>\n",
       "      <td>2</td>\n",
       "      <td>0001f83c-c6ac-4621-b7f0-8a28b283ac30</td>\n",
       "      <td>facebook_ads</td>\n",
       "      <td>2020-05-05</td>\n",
       "      <td>260.185754</td>\n",
       "    </tr>\n",
       "    <tr>\n",
       "      <td>3</td>\n",
       "      <td>0001f83c-c6ac-4621-b7f0-8a28b283ac30</td>\n",
       "      <td>facebook_ads</td>\n",
       "      <td>2020-05-06</td>\n",
       "      <td>177.982200</td>\n",
       "    </tr>\n",
       "    <tr>\n",
       "      <td>4</td>\n",
       "      <td>0001f83c-c6ac-4621-b7f0-8a28b283ac30</td>\n",
       "      <td>facebook_ads</td>\n",
       "      <td>2020-05-07</td>\n",
       "      <td>111.766796</td>\n",
       "    </tr>\n",
       "    <tr>\n",
       "      <td>...</td>\n",
       "      <td>...</td>\n",
       "      <td>...</td>\n",
       "      <td>...</td>\n",
       "      <td>...</td>\n",
       "    </tr>\n",
       "    <tr>\n",
       "      <td>95027</td>\n",
       "      <td>ffff194a-56b7-4c12-860d-3485242ae7f5</td>\n",
       "      <td>instagram_new_adverts</td>\n",
       "      <td>2020-05-05</td>\n",
       "      <td>NaN</td>\n",
       "    </tr>\n",
       "    <tr>\n",
       "      <td>95028</td>\n",
       "      <td>ffff194a-56b7-4c12-860d-3485242ae7f5</td>\n",
       "      <td>instagram_new_adverts</td>\n",
       "      <td>2020-05-06</td>\n",
       "      <td>NaN</td>\n",
       "    </tr>\n",
       "    <tr>\n",
       "      <td>95029</td>\n",
       "      <td>ffff194a-56b7-4c12-860d-3485242ae7f5</td>\n",
       "      <td>instagram_new_adverts</td>\n",
       "      <td>2020-05-07</td>\n",
       "      <td>NaN</td>\n",
       "    </tr>\n",
       "    <tr>\n",
       "      <td>95030</td>\n",
       "      <td>ffff194a-56b7-4c12-860d-3485242ae7f5</td>\n",
       "      <td>instagram_new_adverts</td>\n",
       "      <td>2020-05-08</td>\n",
       "      <td>NaN</td>\n",
       "    </tr>\n",
       "    <tr>\n",
       "      <td>95031</td>\n",
       "      <td>ffff194a-56b7-4c12-860d-3485242ae7f5</td>\n",
       "      <td>instagram_new_adverts</td>\n",
       "      <td>2020-05-09</td>\n",
       "      <td>NaN</td>\n",
       "    </tr>\n",
       "  </tbody>\n",
       "</table>\n",
       "<p>95032 rows × 4 columns</p>\n",
       "</div>"
      ],
      "text/plain": [
       "                                    user_id                 source        day  \\\n",
       "0      0001f83c-c6ac-4621-b7f0-8a28b283ac30           facebook_ads 2020-05-03   \n",
       "1      0001f83c-c6ac-4621-b7f0-8a28b283ac30           facebook_ads 2020-05-04   \n",
       "2      0001f83c-c6ac-4621-b7f0-8a28b283ac30           facebook_ads 2020-05-05   \n",
       "3      0001f83c-c6ac-4621-b7f0-8a28b283ac30           facebook_ads 2020-05-06   \n",
       "4      0001f83c-c6ac-4621-b7f0-8a28b283ac30           facebook_ads 2020-05-07   \n",
       "...                                     ...                    ...        ...   \n",
       "95027  ffff194a-56b7-4c12-860d-3485242ae7f5  instagram_new_adverts 2020-05-05   \n",
       "95028  ffff194a-56b7-4c12-860d-3485242ae7f5  instagram_new_adverts 2020-05-06   \n",
       "95029  ffff194a-56b7-4c12-860d-3485242ae7f5  instagram_new_adverts 2020-05-07   \n",
       "95030  ffff194a-56b7-4c12-860d-3485242ae7f5  instagram_new_adverts 2020-05-08   \n",
       "95031  ffff194a-56b7-4c12-860d-3485242ae7f5  instagram_new_adverts 2020-05-09   \n",
       "\n",
       "             cost  \n",
       "0      935.882786  \n",
       "1      548.354480  \n",
       "2      260.185754  \n",
       "3      177.982200  \n",
       "4      111.766796  \n",
       "...           ...  \n",
       "95027         NaN  \n",
       "95028         NaN  \n",
       "95029         NaN  \n",
       "95030         NaN  \n",
       "95031         NaN  \n",
       "\n",
       "[95032 rows x 4 columns]"
      ]
     },
     "execution_count": 43,
     "metadata": {},
     "output_type": "execute_result"
    }
   ],
   "source": [
    "costs = user_source.merge(ad_costs,how='inner',left_on='source', right_on='source')\n",
    "costs['cost'] = costs['cost'].drop_duplicates()\n",
    "costs"
   ]
  },
  {
   "cell_type": "code",
   "execution_count": 44,
   "metadata": {},
   "outputs": [
    {
     "data": {
      "text/plain": [
       "source\n",
       "facebook_ads               0.785365\n",
       "instagram_new_adverts      0.645785\n",
       "yandex_direct              0.463590\n",
       "youtube_channel_reklama    0.397662\n",
       "dtype: float64"
      ]
     },
     "execution_count": 44,
     "metadata": {},
     "output_type": "execute_result"
    }
   ],
   "source": [
    "CAC = costs.groupby('source')['cost'].sum() / costs.groupby('source')['user_id'].nunique()\n",
    "CAC"
   ]
  },
  {
   "cell_type": "code",
   "execution_count": 45,
   "metadata": {},
   "outputs": [
    {
     "data": {
      "image/png": "[encoded data removed]",
      "text/plain": [
       "<Figure size 432x288 with 1 Axes>"
      ]
     },
     "metadata": {
      "needs_background": "light"
     },
     "output_type": "display_data"
    }
   ],
   "source": [
    "fig, ax = plt.subplots()\n",
    "CAC.plot();\n",
    "plt.xlabel('Источники трафика')\n",
    "plt.ylabel('Стоимость')\n",
    "plt.title('График источников трафика к их стоимости')\n",
    "plt.show()"
   ]
  },
  {
   "cell_type": "markdown",
   "metadata": {},
   "source": [
    "*Стоимость привлечения одного пользователя с помощью рекламы в каналах на YouTube обходятся в два раза дешевле остальных источников.*"
   ]
  },
  {
   "cell_type": "code",
   "execution_count": 46,
   "metadata": {},
   "outputs": [
    {
     "data": {
      "text/plain": [
       "source\n",
       "facebook_ads               0.039268\n",
       "instagram_new_adverts      0.032289\n",
       "yandex_direct              0.023179\n",
       "youtube_channel_reklama    0.019883\n",
       "dtype: float64"
      ]
     },
     "execution_count": 46,
     "metadata": {},
     "output_type": "execute_result"
    }
   ],
   "source": [
    "CAC/20"
   ]
  },
  {
   "cell_type": "markdown",
   "metadata": {},
   "source": [
    "*По-умолчанию, минимальный порог рекламы для построек на каждой группе может быть 20 раз. На это количество мы и делим САС. Стоимость показа одной рекламы не должна привышать этих значений для выхода в ноль*"
   ]
  },
  {
   "cell_type": "markdown",
   "metadata": {},
   "source": [
    "##  Выдвижение и проверка гипотез"
   ]
  },
  {
   "cell_type": "markdown",
   "metadata": {},
   "source": [
    "### Проверить гипотезу различия времени прохождения уровня между пользователями, которые заканчивают уровень через реализацию проекта, и пользователями, которые заканчивают уровень победой над другим игроком"
   ]
  },
  {
   "cell_type": "markdown",
   "metadata": {},
   "source": [
    "Н_0: Время прохождения уровня строителей = Время прохождения уровня победителей\n",
    "\n",
    "Н_1: Время прохождения уровня строителей != Время прохождения уровня победителей"
   ]
  },
  {
   "cell_type": "code",
   "execution_count": 47,
   "metadata": {},
   "outputs": [
    {
     "data": {
      "text/html": [
       "<div>\n",
       "<style scoped>\n",
       "    .dataframe tbody tr th:only-of-type {\n",
       "        vertical-align: middle;\n",
       "    }\n",
       "\n",
       "    .dataframe tbody tr th {\n",
       "        vertical-align: top;\n",
       "    }\n",
       "\n",
       "    .dataframe thead tr th {\n",
       "        text-align: left;\n",
       "    }\n",
       "\n",
       "    .dataframe thead tr:last-of-type th {\n",
       "        text-align: right;\n",
       "    }\n",
       "</style>\n",
       "<table border=\"1\" class=\"dataframe\">\n",
       "  <thead>\n",
       "    <tr>\n",
       "      <th></th>\n",
       "      <th colspan=\"2\" halign=\"left\">event_datetime</th>\n",
       "      <th colspan=\"2\" halign=\"left\">event_x</th>\n",
       "    </tr>\n",
       "    <tr>\n",
       "      <th></th>\n",
       "      <th>min</th>\n",
       "      <th>max</th>\n",
       "      <th>min</th>\n",
       "      <th>max</th>\n",
       "    </tr>\n",
       "    <tr>\n",
       "      <th>user_id</th>\n",
       "      <th></th>\n",
       "      <th></th>\n",
       "      <th></th>\n",
       "      <th></th>\n",
       "    </tr>\n",
       "  </thead>\n",
       "  <tbody>\n",
       "    <tr>\n",
       "      <td>006380d6-67a6-45de-ab1e-6eb54ad8dbe8</td>\n",
       "      <td>2020-05-04 16:43:39</td>\n",
       "      <td>2020-05-16 11:22:33</td>\n",
       "      <td>building</td>\n",
       "      <td>project</td>\n",
       "    </tr>\n",
       "    <tr>\n",
       "      <td>00be7371-fa79-4fbd-b8e7-8ba32e3f8f82</td>\n",
       "      <td>2020-05-08 21:57:44</td>\n",
       "      <td>2020-05-24 19:05:12</td>\n",
       "      <td>building</td>\n",
       "      <td>project</td>\n",
       "    </tr>\n",
       "    <tr>\n",
       "      <td>00c2b9f2-2615-439c-aed0-6974e4c6c1c1</td>\n",
       "      <td>2020-05-07 10:26:09</td>\n",
       "      <td>2020-05-27 11:38:47</td>\n",
       "      <td>building</td>\n",
       "      <td>project</td>\n",
       "    </tr>\n",
       "    <tr>\n",
       "      <td>00de2809-403e-4476-a2f7-ca1b11700190</td>\n",
       "      <td>2020-05-04 07:48:50</td>\n",
       "      <td>2020-05-18 09:34:10</td>\n",
       "      <td>building</td>\n",
       "      <td>project</td>\n",
       "    </tr>\n",
       "    <tr>\n",
       "      <td>00e83261-5fd4-4939-9616-802b5a0202c6</td>\n",
       "      <td>2020-05-05 15:49:57</td>\n",
       "      <td>2020-05-20 09:35:04</td>\n",
       "      <td>building</td>\n",
       "      <td>project</td>\n",
       "    </tr>\n",
       "    <tr>\n",
       "      <td>...</td>\n",
       "      <td>...</td>\n",
       "      <td>...</td>\n",
       "      <td>...</td>\n",
       "      <td>...</td>\n",
       "    </tr>\n",
       "    <tr>\n",
       "      <td>ff50f63a-c4b3-494e-8bf9-3f19dbfc513e</td>\n",
       "      <td>2020-05-04 09:09:43</td>\n",
       "      <td>2020-05-23 16:59:43</td>\n",
       "      <td>building</td>\n",
       "      <td>project</td>\n",
       "    </tr>\n",
       "    <tr>\n",
       "      <td>ff60fcd1-4329-494e-b82d-461fbdf5b5eb</td>\n",
       "      <td>2020-05-05 01:03:38</td>\n",
       "      <td>2020-05-13 00:02:51</td>\n",
       "      <td>building</td>\n",
       "      <td>project</td>\n",
       "    </tr>\n",
       "    <tr>\n",
       "      <td>ff83bdd8-f49a-49fd-8aad-9fa1fb30d516</td>\n",
       "      <td>2020-05-04 06:39:58</td>\n",
       "      <td>2020-05-18 22:50:51</td>\n",
       "      <td>building</td>\n",
       "      <td>project</td>\n",
       "    </tr>\n",
       "    <tr>\n",
       "      <td>ff841992-d93b-462e-bc6e-18c24a514f36</td>\n",
       "      <td>2020-05-05 06:05:51</td>\n",
       "      <td>2020-05-16 00:28:59</td>\n",
       "      <td>building</td>\n",
       "      <td>project</td>\n",
       "    </tr>\n",
       "    <tr>\n",
       "      <td>ffff69cc-fec1-4fd3-9f98-93be1112a6b8</td>\n",
       "      <td>2020-05-08 06:57:30</td>\n",
       "      <td>2020-05-25 14:05:51</td>\n",
       "      <td>building</td>\n",
       "      <td>project</td>\n",
       "    </tr>\n",
       "  </tbody>\n",
       "</table>\n",
       "<p>1866 rows × 4 columns</p>\n",
       "</div>"
      ],
      "text/plain": [
       "                                          event_datetime                      \\\n",
       "                                                     min                 max   \n",
       "user_id                                                                        \n",
       "006380d6-67a6-45de-ab1e-6eb54ad8dbe8 2020-05-04 16:43:39 2020-05-16 11:22:33   \n",
       "00be7371-fa79-4fbd-b8e7-8ba32e3f8f82 2020-05-08 21:57:44 2020-05-24 19:05:12   \n",
       "00c2b9f2-2615-439c-aed0-6974e4c6c1c1 2020-05-07 10:26:09 2020-05-27 11:38:47   \n",
       "00de2809-403e-4476-a2f7-ca1b11700190 2020-05-04 07:48:50 2020-05-18 09:34:10   \n",
       "00e83261-5fd4-4939-9616-802b5a0202c6 2020-05-05 15:49:57 2020-05-20 09:35:04   \n",
       "...                                                  ...                 ...   \n",
       "ff50f63a-c4b3-494e-8bf9-3f19dbfc513e 2020-05-04 09:09:43 2020-05-23 16:59:43   \n",
       "ff60fcd1-4329-494e-b82d-461fbdf5b5eb 2020-05-05 01:03:38 2020-05-13 00:02:51   \n",
       "ff83bdd8-f49a-49fd-8aad-9fa1fb30d516 2020-05-04 06:39:58 2020-05-18 22:50:51   \n",
       "ff841992-d93b-462e-bc6e-18c24a514f36 2020-05-05 06:05:51 2020-05-16 00:28:59   \n",
       "ffff69cc-fec1-4fd3-9f98-93be1112a6b8 2020-05-08 06:57:30 2020-05-25 14:05:51   \n",
       "\n",
       "                                       event_x           \n",
       "                                           min      max  \n",
       "user_id                                                  \n",
       "006380d6-67a6-45de-ab1e-6eb54ad8dbe8  building  project  \n",
       "00be7371-fa79-4fbd-b8e7-8ba32e3f8f82  building  project  \n",
       "00c2b9f2-2615-439c-aed0-6974e4c6c1c1  building  project  \n",
       "00de2809-403e-4476-a2f7-ca1b11700190  building  project  \n",
       "00e83261-5fd4-4939-9616-802b5a0202c6  building  project  \n",
       "...                                        ...      ...  \n",
       "ff50f63a-c4b3-494e-8bf9-3f19dbfc513e  building  project  \n",
       "ff60fcd1-4329-494e-b82d-461fbdf5b5eb  building  project  \n",
       "ff83bdd8-f49a-49fd-8aad-9fa1fb30d516  building  project  \n",
       "ff841992-d93b-462e-bc6e-18c24a514f36  building  project  \n",
       "ffff69cc-fec1-4fd3-9f98-93be1112a6b8  building  project  \n",
       "\n",
       "[1866 rows x 4 columns]"
      ]
     },
     "execution_count": 47,
     "metadata": {},
     "output_type": "execute_result"
    }
   ],
   "source": [
    "#найдем время первой постройки и окончания уровня\n",
    "lvltime_builders = builders.groupby('user_id')[['event_datetime', 'event_x']].agg(['min','max'])\n",
    "lvltime_builders"
   ]
  },
  {
   "cell_type": "code",
   "execution_count": 48,
   "metadata": {},
   "outputs": [
    {
     "data": {
      "text/html": [
       "<div>\n",
       "<style scoped>\n",
       "    .dataframe tbody tr th:only-of-type {\n",
       "        vertical-align: middle;\n",
       "    }\n",
       "\n",
       "    .dataframe tbody tr th {\n",
       "        vertical-align: top;\n",
       "    }\n",
       "\n",
       "    .dataframe thead th {\n",
       "        text-align: right;\n",
       "    }\n",
       "</style>\n",
       "<table border=\"1\" class=\"dataframe\">\n",
       "  <thead>\n",
       "    <tr style=\"text-align: right;\">\n",
       "      <th></th>\n",
       "      <th>user_id</th>\n",
       "      <th>start</th>\n",
       "      <th>end</th>\n",
       "      <th>first_event</th>\n",
       "      <th>last_event</th>\n",
       "    </tr>\n",
       "  </thead>\n",
       "  <tbody>\n",
       "    <tr>\n",
       "      <td>0</td>\n",
       "      <td>006380d6-67a6-45de-ab1e-6eb54ad8dbe8</td>\n",
       "      <td>2020-05-04 16:43:39</td>\n",
       "      <td>2020-05-16 11:22:33</td>\n",
       "      <td>building</td>\n",
       "      <td>project</td>\n",
       "    </tr>\n",
       "    <tr>\n",
       "      <td>1</td>\n",
       "      <td>00be7371-fa79-4fbd-b8e7-8ba32e3f8f82</td>\n",
       "      <td>2020-05-08 21:57:44</td>\n",
       "      <td>2020-05-24 19:05:12</td>\n",
       "      <td>building</td>\n",
       "      <td>project</td>\n",
       "    </tr>\n",
       "    <tr>\n",
       "      <td>2</td>\n",
       "      <td>00c2b9f2-2615-439c-aed0-6974e4c6c1c1</td>\n",
       "      <td>2020-05-07 10:26:09</td>\n",
       "      <td>2020-05-27 11:38:47</td>\n",
       "      <td>building</td>\n",
       "      <td>project</td>\n",
       "    </tr>\n",
       "    <tr>\n",
       "      <td>3</td>\n",
       "      <td>00de2809-403e-4476-a2f7-ca1b11700190</td>\n",
       "      <td>2020-05-04 07:48:50</td>\n",
       "      <td>2020-05-18 09:34:10</td>\n",
       "      <td>building</td>\n",
       "      <td>project</td>\n",
       "    </tr>\n",
       "    <tr>\n",
       "      <td>4</td>\n",
       "      <td>00e83261-5fd4-4939-9616-802b5a0202c6</td>\n",
       "      <td>2020-05-05 15:49:57</td>\n",
       "      <td>2020-05-20 09:35:04</td>\n",
       "      <td>building</td>\n",
       "      <td>project</td>\n",
       "    </tr>\n",
       "    <tr>\n",
       "      <td>...</td>\n",
       "      <td>...</td>\n",
       "      <td>...</td>\n",
       "      <td>...</td>\n",
       "      <td>...</td>\n",
       "      <td>...</td>\n",
       "    </tr>\n",
       "    <tr>\n",
       "      <td>1861</td>\n",
       "      <td>ff50f63a-c4b3-494e-8bf9-3f19dbfc513e</td>\n",
       "      <td>2020-05-04 09:09:43</td>\n",
       "      <td>2020-05-23 16:59:43</td>\n",
       "      <td>building</td>\n",
       "      <td>project</td>\n",
       "    </tr>\n",
       "    <tr>\n",
       "      <td>1862</td>\n",
       "      <td>ff60fcd1-4329-494e-b82d-461fbdf5b5eb</td>\n",
       "      <td>2020-05-05 01:03:38</td>\n",
       "      <td>2020-05-13 00:02:51</td>\n",
       "      <td>building</td>\n",
       "      <td>project</td>\n",
       "    </tr>\n",
       "    <tr>\n",
       "      <td>1863</td>\n",
       "      <td>ff83bdd8-f49a-49fd-8aad-9fa1fb30d516</td>\n",
       "      <td>2020-05-04 06:39:58</td>\n",
       "      <td>2020-05-18 22:50:51</td>\n",
       "      <td>building</td>\n",
       "      <td>project</td>\n",
       "    </tr>\n",
       "    <tr>\n",
       "      <td>1864</td>\n",
       "      <td>ff841992-d93b-462e-bc6e-18c24a514f36</td>\n",
       "      <td>2020-05-05 06:05:51</td>\n",
       "      <td>2020-05-16 00:28:59</td>\n",
       "      <td>building</td>\n",
       "      <td>project</td>\n",
       "    </tr>\n",
       "    <tr>\n",
       "      <td>1865</td>\n",
       "      <td>ffff69cc-fec1-4fd3-9f98-93be1112a6b8</td>\n",
       "      <td>2020-05-08 06:57:30</td>\n",
       "      <td>2020-05-25 14:05:51</td>\n",
       "      <td>building</td>\n",
       "      <td>project</td>\n",
       "    </tr>\n",
       "  </tbody>\n",
       "</table>\n",
       "<p>1866 rows × 5 columns</p>\n",
       "</div>"
      ],
      "text/plain": [
       "                                   user_id               start  \\\n",
       "0     006380d6-67a6-45de-ab1e-6eb54ad8dbe8 2020-05-04 16:43:39   \n",
       "1     00be7371-fa79-4fbd-b8e7-8ba32e3f8f82 2020-05-08 21:57:44   \n",
       "2     00c2b9f2-2615-439c-aed0-6974e4c6c1c1 2020-05-07 10:26:09   \n",
       "3     00de2809-403e-4476-a2f7-ca1b11700190 2020-05-04 07:48:50   \n",
       "4     00e83261-5fd4-4939-9616-802b5a0202c6 2020-05-05 15:49:57   \n",
       "...                                    ...                 ...   \n",
       "1861  ff50f63a-c4b3-494e-8bf9-3f19dbfc513e 2020-05-04 09:09:43   \n",
       "1862  ff60fcd1-4329-494e-b82d-461fbdf5b5eb 2020-05-05 01:03:38   \n",
       "1863  ff83bdd8-f49a-49fd-8aad-9fa1fb30d516 2020-05-04 06:39:58   \n",
       "1864  ff841992-d93b-462e-bc6e-18c24a514f36 2020-05-05 06:05:51   \n",
       "1865  ffff69cc-fec1-4fd3-9f98-93be1112a6b8 2020-05-08 06:57:30   \n",
       "\n",
       "                     end first_event last_event  \n",
       "0    2020-05-16 11:22:33    building    project  \n",
       "1    2020-05-24 19:05:12    building    project  \n",
       "2    2020-05-27 11:38:47    building    project  \n",
       "3    2020-05-18 09:34:10    building    project  \n",
       "4    2020-05-20 09:35:04    building    project  \n",
       "...                  ...         ...        ...  \n",
       "1861 2020-05-23 16:59:43    building    project  \n",
       "1862 2020-05-13 00:02:51    building    project  \n",
       "1863 2020-05-18 22:50:51    building    project  \n",
       "1864 2020-05-16 00:28:59    building    project  \n",
       "1865 2020-05-25 14:05:51    building    project  \n",
       "\n",
       "[1866 rows x 5 columns]"
      ]
     },
     "execution_count": 48,
     "metadata": {},
     "output_type": "execute_result"
    }
   ],
   "source": [
    "# избавимся от мультииндекса и переименуем столбцы\n",
    "lvltime_builders.columns = lvltime_builders.columns.droplevel(0)\n",
    "lvltime_builders.reset_index(inplace=True)\n",
    "lvltime_builders.columns = ['user_id', 'start', 'end', 'first_event', 'last_event']\n",
    "lvltime_builders"
   ]
  },
  {
   "cell_type": "code",
   "execution_count": 49,
   "metadata": {},
   "outputs": [
    {
     "data": {
      "text/html": [
       "<div>\n",
       "<style scoped>\n",
       "    .dataframe tbody tr th:only-of-type {\n",
       "        vertical-align: middle;\n",
       "    }\n",
       "\n",
       "    .dataframe tbody tr th {\n",
       "        vertical-align: top;\n",
       "    }\n",
       "\n",
       "    .dataframe thead th {\n",
       "        text-align: right;\n",
       "    }\n",
       "</style>\n",
       "<table border=\"1\" class=\"dataframe\">\n",
       "  <thead>\n",
       "    <tr style=\"text-align: right;\">\n",
       "      <th></th>\n",
       "      <th>user_id</th>\n",
       "      <th>start</th>\n",
       "      <th>end</th>\n",
       "      <th>first_event</th>\n",
       "      <th>last_event</th>\n",
       "      <th>lvltime</th>\n",
       "    </tr>\n",
       "  </thead>\n",
       "  <tbody>\n",
       "    <tr>\n",
       "      <td>0</td>\n",
       "      <td>006380d6-67a6-45de-ab1e-6eb54ad8dbe8</td>\n",
       "      <td>2020-05-04 16:43:39</td>\n",
       "      <td>2020-05-16 11:22:33</td>\n",
       "      <td>building</td>\n",
       "      <td>project</td>\n",
       "      <td>16958</td>\n",
       "    </tr>\n",
       "    <tr>\n",
       "      <td>1</td>\n",
       "      <td>00be7371-fa79-4fbd-b8e7-8ba32e3f8f82</td>\n",
       "      <td>2020-05-08 21:57:44</td>\n",
       "      <td>2020-05-24 19:05:12</td>\n",
       "      <td>building</td>\n",
       "      <td>project</td>\n",
       "      <td>22867</td>\n",
       "    </tr>\n",
       "    <tr>\n",
       "      <td>2</td>\n",
       "      <td>00c2b9f2-2615-439c-aed0-6974e4c6c1c1</td>\n",
       "      <td>2020-05-07 10:26:09</td>\n",
       "      <td>2020-05-27 11:38:47</td>\n",
       "      <td>building</td>\n",
       "      <td>project</td>\n",
       "      <td>28872</td>\n",
       "    </tr>\n",
       "    <tr>\n",
       "      <td>3</td>\n",
       "      <td>00de2809-403e-4476-a2f7-ca1b11700190</td>\n",
       "      <td>2020-05-04 07:48:50</td>\n",
       "      <td>2020-05-18 09:34:10</td>\n",
       "      <td>building</td>\n",
       "      <td>project</td>\n",
       "      <td>20265</td>\n",
       "    </tr>\n",
       "    <tr>\n",
       "      <td>4</td>\n",
       "      <td>00e83261-5fd4-4939-9616-802b5a0202c6</td>\n",
       "      <td>2020-05-05 15:49:57</td>\n",
       "      <td>2020-05-20 09:35:04</td>\n",
       "      <td>building</td>\n",
       "      <td>project</td>\n",
       "      <td>21225</td>\n",
       "    </tr>\n",
       "    <tr>\n",
       "      <td>...</td>\n",
       "      <td>...</td>\n",
       "      <td>...</td>\n",
       "      <td>...</td>\n",
       "      <td>...</td>\n",
       "      <td>...</td>\n",
       "      <td>...</td>\n",
       "    </tr>\n",
       "    <tr>\n",
       "      <td>1861</td>\n",
       "      <td>ff50f63a-c4b3-494e-8bf9-3f19dbfc513e</td>\n",
       "      <td>2020-05-04 09:09:43</td>\n",
       "      <td>2020-05-23 16:59:43</td>\n",
       "      <td>building</td>\n",
       "      <td>project</td>\n",
       "      <td>27830</td>\n",
       "    </tr>\n",
       "    <tr>\n",
       "      <td>1862</td>\n",
       "      <td>ff60fcd1-4329-494e-b82d-461fbdf5b5eb</td>\n",
       "      <td>2020-05-05 01:03:38</td>\n",
       "      <td>2020-05-13 00:02:51</td>\n",
       "      <td>building</td>\n",
       "      <td>project</td>\n",
       "      <td>11459</td>\n",
       "    </tr>\n",
       "    <tr>\n",
       "      <td>1863</td>\n",
       "      <td>ff83bdd8-f49a-49fd-8aad-9fa1fb30d516</td>\n",
       "      <td>2020-05-04 06:39:58</td>\n",
       "      <td>2020-05-18 22:50:51</td>\n",
       "      <td>building</td>\n",
       "      <td>project</td>\n",
       "      <td>21130</td>\n",
       "    </tr>\n",
       "    <tr>\n",
       "      <td>1864</td>\n",
       "      <td>ff841992-d93b-462e-bc6e-18c24a514f36</td>\n",
       "      <td>2020-05-05 06:05:51</td>\n",
       "      <td>2020-05-16 00:28:59</td>\n",
       "      <td>building</td>\n",
       "      <td>project</td>\n",
       "      <td>15503</td>\n",
       "    </tr>\n",
       "    <tr>\n",
       "      <td>1865</td>\n",
       "      <td>ffff69cc-fec1-4fd3-9f98-93be1112a6b8</td>\n",
       "      <td>2020-05-08 06:57:30</td>\n",
       "      <td>2020-05-25 14:05:51</td>\n",
       "      <td>building</td>\n",
       "      <td>project</td>\n",
       "      <td>24908</td>\n",
       "    </tr>\n",
       "  </tbody>\n",
       "</table>\n",
       "<p>1866 rows × 6 columns</p>\n",
       "</div>"
      ],
      "text/plain": [
       "                                   user_id               start  \\\n",
       "0     006380d6-67a6-45de-ab1e-6eb54ad8dbe8 2020-05-04 16:43:39   \n",
       "1     00be7371-fa79-4fbd-b8e7-8ba32e3f8f82 2020-05-08 21:57:44   \n",
       "2     00c2b9f2-2615-439c-aed0-6974e4c6c1c1 2020-05-07 10:26:09   \n",
       "3     00de2809-403e-4476-a2f7-ca1b11700190 2020-05-04 07:48:50   \n",
       "4     00e83261-5fd4-4939-9616-802b5a0202c6 2020-05-05 15:49:57   \n",
       "...                                    ...                 ...   \n",
       "1861  ff50f63a-c4b3-494e-8bf9-3f19dbfc513e 2020-05-04 09:09:43   \n",
       "1862  ff60fcd1-4329-494e-b82d-461fbdf5b5eb 2020-05-05 01:03:38   \n",
       "1863  ff83bdd8-f49a-49fd-8aad-9fa1fb30d516 2020-05-04 06:39:58   \n",
       "1864  ff841992-d93b-462e-bc6e-18c24a514f36 2020-05-05 06:05:51   \n",
       "1865  ffff69cc-fec1-4fd3-9f98-93be1112a6b8 2020-05-08 06:57:30   \n",
       "\n",
       "                     end first_event last_event  lvltime  \n",
       "0    2020-05-16 11:22:33    building    project    16958  \n",
       "1    2020-05-24 19:05:12    building    project    22867  \n",
       "2    2020-05-27 11:38:47    building    project    28872  \n",
       "3    2020-05-18 09:34:10    building    project    20265  \n",
       "4    2020-05-20 09:35:04    building    project    21225  \n",
       "...                  ...         ...        ...      ...  \n",
       "1861 2020-05-23 16:59:43    building    project    27830  \n",
       "1862 2020-05-13 00:02:51    building    project    11459  \n",
       "1863 2020-05-18 22:50:51    building    project    21130  \n",
       "1864 2020-05-16 00:28:59    building    project    15503  \n",
       "1865 2020-05-25 14:05:51    building    project    24908  \n",
       "\n",
       "[1866 rows x 6 columns]"
      ]
     },
     "execution_count": 49,
     "metadata": {},
     "output_type": "execute_result"
    }
   ],
   "source": [
    "# найдем время прохождения уровня\n",
    "lvltime_builders['lvltime'] = (lvltime_builders['end'] - lvltime_builders['start']).astype('timedelta64[m]').astype(int)\n",
    "lvltime_builders"
   ]
  },
  {
   "cell_type": "code",
   "execution_count": 50,
   "metadata": {},
   "outputs": [
    {
     "data": {
      "text/html": [
       "<div>\n",
       "<style scoped>\n",
       "    .dataframe tbody tr th:only-of-type {\n",
       "        vertical-align: middle;\n",
       "    }\n",
       "\n",
       "    .dataframe tbody tr th {\n",
       "        vertical-align: top;\n",
       "    }\n",
       "\n",
       "    .dataframe thead tr th {\n",
       "        text-align: left;\n",
       "    }\n",
       "\n",
       "    .dataframe thead tr:last-of-type th {\n",
       "        text-align: right;\n",
       "    }\n",
       "</style>\n",
       "<table border=\"1\" class=\"dataframe\">\n",
       "  <thead>\n",
       "    <tr>\n",
       "      <th></th>\n",
       "      <th colspan=\"2\" halign=\"left\">event_datetime</th>\n",
       "      <th colspan=\"2\" halign=\"left\">event_x</th>\n",
       "    </tr>\n",
       "    <tr>\n",
       "      <th></th>\n",
       "      <th>min</th>\n",
       "      <th>max</th>\n",
       "      <th>min</th>\n",
       "      <th>max</th>\n",
       "    </tr>\n",
       "    <tr>\n",
       "      <th>user_id</th>\n",
       "      <th></th>\n",
       "      <th></th>\n",
       "      <th></th>\n",
       "      <th></th>\n",
       "    </tr>\n",
       "  </thead>\n",
       "  <tbody>\n",
       "    <tr>\n",
       "      <td>001d39dc-366c-4021-9604-6a3b9ff01e25</td>\n",
       "      <td>2020-05-05 21:02:05</td>\n",
       "      <td>2020-05-12 07:40:47</td>\n",
       "      <td>building</td>\n",
       "      <td>finished_stage_1</td>\n",
       "    </tr>\n",
       "    <tr>\n",
       "      <td>003ee7e8-6356-4286-a715-62f22a18d2a1</td>\n",
       "      <td>2020-05-05 08:31:04</td>\n",
       "      <td>2020-05-17 21:47:49</td>\n",
       "      <td>building</td>\n",
       "      <td>finished_stage_1</td>\n",
       "    </tr>\n",
       "    <tr>\n",
       "      <td>004074f8-251a-4776-922c-8348dca1a2f6</td>\n",
       "      <td>2020-05-04 01:07:35</td>\n",
       "      <td>2020-05-16 19:57:40</td>\n",
       "      <td>building</td>\n",
       "      <td>finished_stage_1</td>\n",
       "    </tr>\n",
       "    <tr>\n",
       "      <td>00464e5e-28ed-4be6-bf44-517ef7b3937b</td>\n",
       "      <td>2020-05-04 08:35:29</td>\n",
       "      <td>2020-05-15 16:02:01</td>\n",
       "      <td>building</td>\n",
       "      <td>finished_stage_1</td>\n",
       "    </tr>\n",
       "    <tr>\n",
       "      <td>0056c007-c082-43cc-bdef-afc49bca4cb9</td>\n",
       "      <td>2020-05-10 11:49:47</td>\n",
       "      <td>2020-05-16 13:48:39</td>\n",
       "      <td>building</td>\n",
       "      <td>finished_stage_1</td>\n",
       "    </tr>\n",
       "    <tr>\n",
       "      <td>...</td>\n",
       "      <td>...</td>\n",
       "      <td>...</td>\n",
       "      <td>...</td>\n",
       "      <td>...</td>\n",
       "    </tr>\n",
       "    <tr>\n",
       "      <td>ffc6f4fa-3476-47af-85cb-e2ee0551110a</td>\n",
       "      <td>2020-05-04 03:59:12</td>\n",
       "      <td>2020-05-15 12:18:42</td>\n",
       "      <td>building</td>\n",
       "      <td>finished_stage_1</td>\n",
       "    </tr>\n",
       "    <tr>\n",
       "      <td>ffd002f3-3545-423e-8dba-0c6a2d48a3aa</td>\n",
       "      <td>2020-05-06 06:34:18</td>\n",
       "      <td>2020-05-19 04:03:24</td>\n",
       "      <td>building</td>\n",
       "      <td>finished_stage_1</td>\n",
       "    </tr>\n",
       "    <tr>\n",
       "      <td>ffe810f4-1a1f-464b-924d-6f120b0cb8df</td>\n",
       "      <td>2020-05-04 17:46:05</td>\n",
       "      <td>2020-05-18 02:03:36</td>\n",
       "      <td>building</td>\n",
       "      <td>finished_stage_1</td>\n",
       "    </tr>\n",
       "    <tr>\n",
       "      <td>ffef4fed-164c-40e1-bde1-3980f76d0fb5</td>\n",
       "      <td>2020-05-04 01:58:59</td>\n",
       "      <td>2020-05-11 22:15:54</td>\n",
       "      <td>building</td>\n",
       "      <td>finished_stage_1</td>\n",
       "    </tr>\n",
       "    <tr>\n",
       "      <td>fffb626c-5ab6-47c9-8113-2062a2f18494</td>\n",
       "      <td>2020-05-04 02:05:09</td>\n",
       "      <td>2020-05-12 13:01:52</td>\n",
       "      <td>building</td>\n",
       "      <td>finished_stage_1</td>\n",
       "    </tr>\n",
       "  </tbody>\n",
       "</table>\n",
       "<p>3951 rows × 4 columns</p>\n",
       "</div>"
      ],
      "text/plain": [
       "                                          event_datetime                      \\\n",
       "                                                     min                 max   \n",
       "user_id                                                                        \n",
       "001d39dc-366c-4021-9604-6a3b9ff01e25 2020-05-05 21:02:05 2020-05-12 07:40:47   \n",
       "003ee7e8-6356-4286-a715-62f22a18d2a1 2020-05-05 08:31:04 2020-05-17 21:47:49   \n",
       "004074f8-251a-4776-922c-8348dca1a2f6 2020-05-04 01:07:35 2020-05-16 19:57:40   \n",
       "00464e5e-28ed-4be6-bf44-517ef7b3937b 2020-05-04 08:35:29 2020-05-15 16:02:01   \n",
       "0056c007-c082-43cc-bdef-afc49bca4cb9 2020-05-10 11:49:47 2020-05-16 13:48:39   \n",
       "...                                                  ...                 ...   \n",
       "ffc6f4fa-3476-47af-85cb-e2ee0551110a 2020-05-04 03:59:12 2020-05-15 12:18:42   \n",
       "ffd002f3-3545-423e-8dba-0c6a2d48a3aa 2020-05-06 06:34:18 2020-05-19 04:03:24   \n",
       "ffe810f4-1a1f-464b-924d-6f120b0cb8df 2020-05-04 17:46:05 2020-05-18 02:03:36   \n",
       "ffef4fed-164c-40e1-bde1-3980f76d0fb5 2020-05-04 01:58:59 2020-05-11 22:15:54   \n",
       "fffb626c-5ab6-47c9-8113-2062a2f18494 2020-05-04 02:05:09 2020-05-12 13:01:52   \n",
       "\n",
       "                                       event_x                    \n",
       "                                           min               max  \n",
       "user_id                                                           \n",
       "001d39dc-366c-4021-9604-6a3b9ff01e25  building  finished_stage_1  \n",
       "003ee7e8-6356-4286-a715-62f22a18d2a1  building  finished_stage_1  \n",
       "004074f8-251a-4776-922c-8348dca1a2f6  building  finished_stage_1  \n",
       "00464e5e-28ed-4be6-bf44-517ef7b3937b  building  finished_stage_1  \n",
       "0056c007-c082-43cc-bdef-afc49bca4cb9  building  finished_stage_1  \n",
       "...                                        ...               ...  \n",
       "ffc6f4fa-3476-47af-85cb-e2ee0551110a  building  finished_stage_1  \n",
       "ffd002f3-3545-423e-8dba-0c6a2d48a3aa  building  finished_stage_1  \n",
       "ffe810f4-1a1f-464b-924d-6f120b0cb8df  building  finished_stage_1  \n",
       "ffef4fed-164c-40e1-bde1-3980f76d0fb5  building  finished_stage_1  \n",
       "fffb626c-5ab6-47c9-8113-2062a2f18494  building  finished_stage_1  \n",
       "\n",
       "[3951 rows x 4 columns]"
      ]
     },
     "execution_count": 50,
     "metadata": {},
     "output_type": "execute_result"
    }
   ],
   "source": [
    "lvltime_winners = winners.groupby('user_id')[['event_datetime', 'event_x']].agg(['min','max'])\n",
    "lvltime_winners"
   ]
  },
  {
   "cell_type": "code",
   "execution_count": 51,
   "metadata": {},
   "outputs": [
    {
     "data": {
      "text/html": [
       "<div>\n",
       "<style scoped>\n",
       "    .dataframe tbody tr th:only-of-type {\n",
       "        vertical-align: middle;\n",
       "    }\n",
       "\n",
       "    .dataframe tbody tr th {\n",
       "        vertical-align: top;\n",
       "    }\n",
       "\n",
       "    .dataframe thead th {\n",
       "        text-align: right;\n",
       "    }\n",
       "</style>\n",
       "<table border=\"1\" class=\"dataframe\">\n",
       "  <thead>\n",
       "    <tr style=\"text-align: right;\">\n",
       "      <th></th>\n",
       "      <th>user_id</th>\n",
       "      <th>start</th>\n",
       "      <th>end</th>\n",
       "      <th>first_event</th>\n",
       "      <th>last_event</th>\n",
       "    </tr>\n",
       "  </thead>\n",
       "  <tbody>\n",
       "    <tr>\n",
       "      <td>0</td>\n",
       "      <td>001d39dc-366c-4021-9604-6a3b9ff01e25</td>\n",
       "      <td>2020-05-05 21:02:05</td>\n",
       "      <td>2020-05-12 07:40:47</td>\n",
       "      <td>building</td>\n",
       "      <td>finished_stage_1</td>\n",
       "    </tr>\n",
       "    <tr>\n",
       "      <td>1</td>\n",
       "      <td>003ee7e8-6356-4286-a715-62f22a18d2a1</td>\n",
       "      <td>2020-05-05 08:31:04</td>\n",
       "      <td>2020-05-17 21:47:49</td>\n",
       "      <td>building</td>\n",
       "      <td>finished_stage_1</td>\n",
       "    </tr>\n",
       "    <tr>\n",
       "      <td>2</td>\n",
       "      <td>004074f8-251a-4776-922c-8348dca1a2f6</td>\n",
       "      <td>2020-05-04 01:07:35</td>\n",
       "      <td>2020-05-16 19:57:40</td>\n",
       "      <td>building</td>\n",
       "      <td>finished_stage_1</td>\n",
       "    </tr>\n",
       "    <tr>\n",
       "      <td>3</td>\n",
       "      <td>00464e5e-28ed-4be6-bf44-517ef7b3937b</td>\n",
       "      <td>2020-05-04 08:35:29</td>\n",
       "      <td>2020-05-15 16:02:01</td>\n",
       "      <td>building</td>\n",
       "      <td>finished_stage_1</td>\n",
       "    </tr>\n",
       "    <tr>\n",
       "      <td>4</td>\n",
       "      <td>0056c007-c082-43cc-bdef-afc49bca4cb9</td>\n",
       "      <td>2020-05-10 11:49:47</td>\n",
       "      <td>2020-05-16 13:48:39</td>\n",
       "      <td>building</td>\n",
       "      <td>finished_stage_1</td>\n",
       "    </tr>\n",
       "    <tr>\n",
       "      <td>...</td>\n",
       "      <td>...</td>\n",
       "      <td>...</td>\n",
       "      <td>...</td>\n",
       "      <td>...</td>\n",
       "      <td>...</td>\n",
       "    </tr>\n",
       "    <tr>\n",
       "      <td>3946</td>\n",
       "      <td>ffc6f4fa-3476-47af-85cb-e2ee0551110a</td>\n",
       "      <td>2020-05-04 03:59:12</td>\n",
       "      <td>2020-05-15 12:18:42</td>\n",
       "      <td>building</td>\n",
       "      <td>finished_stage_1</td>\n",
       "    </tr>\n",
       "    <tr>\n",
       "      <td>3947</td>\n",
       "      <td>ffd002f3-3545-423e-8dba-0c6a2d48a3aa</td>\n",
       "      <td>2020-05-06 06:34:18</td>\n",
       "      <td>2020-05-19 04:03:24</td>\n",
       "      <td>building</td>\n",
       "      <td>finished_stage_1</td>\n",
       "    </tr>\n",
       "    <tr>\n",
       "      <td>3948</td>\n",
       "      <td>ffe810f4-1a1f-464b-924d-6f120b0cb8df</td>\n",
       "      <td>2020-05-04 17:46:05</td>\n",
       "      <td>2020-05-18 02:03:36</td>\n",
       "      <td>building</td>\n",
       "      <td>finished_stage_1</td>\n",
       "    </tr>\n",
       "    <tr>\n",
       "      <td>3949</td>\n",
       "      <td>ffef4fed-164c-40e1-bde1-3980f76d0fb5</td>\n",
       "      <td>2020-05-04 01:58:59</td>\n",
       "      <td>2020-05-11 22:15:54</td>\n",
       "      <td>building</td>\n",
       "      <td>finished_stage_1</td>\n",
       "    </tr>\n",
       "    <tr>\n",
       "      <td>3950</td>\n",
       "      <td>fffb626c-5ab6-47c9-8113-2062a2f18494</td>\n",
       "      <td>2020-05-04 02:05:09</td>\n",
       "      <td>2020-05-12 13:01:52</td>\n",
       "      <td>building</td>\n",
       "      <td>finished_stage_1</td>\n",
       "    </tr>\n",
       "  </tbody>\n",
       "</table>\n",
       "<p>3951 rows × 5 columns</p>\n",
       "</div>"
      ],
      "text/plain": [
       "                                   user_id               start  \\\n",
       "0     001d39dc-366c-4021-9604-6a3b9ff01e25 2020-05-05 21:02:05   \n",
       "1     003ee7e8-6356-4286-a715-62f22a18d2a1 2020-05-05 08:31:04   \n",
       "2     004074f8-251a-4776-922c-8348dca1a2f6 2020-05-04 01:07:35   \n",
       "3     00464e5e-28ed-4be6-bf44-517ef7b3937b 2020-05-04 08:35:29   \n",
       "4     0056c007-c082-43cc-bdef-afc49bca4cb9 2020-05-10 11:49:47   \n",
       "...                                    ...                 ...   \n",
       "3946  ffc6f4fa-3476-47af-85cb-e2ee0551110a 2020-05-04 03:59:12   \n",
       "3947  ffd002f3-3545-423e-8dba-0c6a2d48a3aa 2020-05-06 06:34:18   \n",
       "3948  ffe810f4-1a1f-464b-924d-6f120b0cb8df 2020-05-04 17:46:05   \n",
       "3949  ffef4fed-164c-40e1-bde1-3980f76d0fb5 2020-05-04 01:58:59   \n",
       "3950  fffb626c-5ab6-47c9-8113-2062a2f18494 2020-05-04 02:05:09   \n",
       "\n",
       "                     end first_event        last_event  \n",
       "0    2020-05-12 07:40:47    building  finished_stage_1  \n",
       "1    2020-05-17 21:47:49    building  finished_stage_1  \n",
       "2    2020-05-16 19:57:40    building  finished_stage_1  \n",
       "3    2020-05-15 16:02:01    building  finished_stage_1  \n",
       "4    2020-05-16 13:48:39    building  finished_stage_1  \n",
       "...                  ...         ...               ...  \n",
       "3946 2020-05-15 12:18:42    building  finished_stage_1  \n",
       "3947 2020-05-19 04:03:24    building  finished_stage_1  \n",
       "3948 2020-05-18 02:03:36    building  finished_stage_1  \n",
       "3949 2020-05-11 22:15:54    building  finished_stage_1  \n",
       "3950 2020-05-12 13:01:52    building  finished_stage_1  \n",
       "\n",
       "[3951 rows x 5 columns]"
      ]
     },
     "execution_count": 51,
     "metadata": {},
     "output_type": "execute_result"
    }
   ],
   "source": [
    "lvltime_winners.columns = lvltime_winners.columns.droplevel(0)\n",
    "lvltime_winners.reset_index(inplace=True)\n",
    "lvltime_winners.columns = ['user_id', 'start', 'end', 'first_event', 'last_event']\n",
    "lvltime_winners"
   ]
  },
  {
   "cell_type": "code",
   "execution_count": 52,
   "metadata": {},
   "outputs": [
    {
     "data": {
      "text/html": [
       "<div>\n",
       "<style scoped>\n",
       "    .dataframe tbody tr th:only-of-type {\n",
       "        vertical-align: middle;\n",
       "    }\n",
       "\n",
       "    .dataframe tbody tr th {\n",
       "        vertical-align: top;\n",
       "    }\n",
       "\n",
       "    .dataframe thead th {\n",
       "        text-align: right;\n",
       "    }\n",
       "</style>\n",
       "<table border=\"1\" class=\"dataframe\">\n",
       "  <thead>\n",
       "    <tr style=\"text-align: right;\">\n",
       "      <th></th>\n",
       "      <th>user_id</th>\n",
       "      <th>start</th>\n",
       "      <th>end</th>\n",
       "      <th>first_event</th>\n",
       "      <th>last_event</th>\n",
       "      <th>lvltime</th>\n",
       "    </tr>\n",
       "  </thead>\n",
       "  <tbody>\n",
       "    <tr>\n",
       "      <td>0</td>\n",
       "      <td>001d39dc-366c-4021-9604-6a3b9ff01e25</td>\n",
       "      <td>2020-05-05 21:02:05</td>\n",
       "      <td>2020-05-12 07:40:47</td>\n",
       "      <td>building</td>\n",
       "      <td>finished_stage_1</td>\n",
       "      <td>9278</td>\n",
       "    </tr>\n",
       "    <tr>\n",
       "      <td>1</td>\n",
       "      <td>003ee7e8-6356-4286-a715-62f22a18d2a1</td>\n",
       "      <td>2020-05-05 08:31:04</td>\n",
       "      <td>2020-05-17 21:47:49</td>\n",
       "      <td>building</td>\n",
       "      <td>finished_stage_1</td>\n",
       "      <td>18076</td>\n",
       "    </tr>\n",
       "    <tr>\n",
       "      <td>2</td>\n",
       "      <td>004074f8-251a-4776-922c-8348dca1a2f6</td>\n",
       "      <td>2020-05-04 01:07:35</td>\n",
       "      <td>2020-05-16 19:57:40</td>\n",
       "      <td>building</td>\n",
       "      <td>finished_stage_1</td>\n",
       "      <td>18410</td>\n",
       "    </tr>\n",
       "    <tr>\n",
       "      <td>3</td>\n",
       "      <td>00464e5e-28ed-4be6-bf44-517ef7b3937b</td>\n",
       "      <td>2020-05-04 08:35:29</td>\n",
       "      <td>2020-05-15 16:02:01</td>\n",
       "      <td>building</td>\n",
       "      <td>finished_stage_1</td>\n",
       "      <td>16286</td>\n",
       "    </tr>\n",
       "    <tr>\n",
       "      <td>4</td>\n",
       "      <td>0056c007-c082-43cc-bdef-afc49bca4cb9</td>\n",
       "      <td>2020-05-10 11:49:47</td>\n",
       "      <td>2020-05-16 13:48:39</td>\n",
       "      <td>building</td>\n",
       "      <td>finished_stage_1</td>\n",
       "      <td>8758</td>\n",
       "    </tr>\n",
       "    <tr>\n",
       "      <td>...</td>\n",
       "      <td>...</td>\n",
       "      <td>...</td>\n",
       "      <td>...</td>\n",
       "      <td>...</td>\n",
       "      <td>...</td>\n",
       "      <td>...</td>\n",
       "    </tr>\n",
       "    <tr>\n",
       "      <td>3946</td>\n",
       "      <td>ffc6f4fa-3476-47af-85cb-e2ee0551110a</td>\n",
       "      <td>2020-05-04 03:59:12</td>\n",
       "      <td>2020-05-15 12:18:42</td>\n",
       "      <td>building</td>\n",
       "      <td>finished_stage_1</td>\n",
       "      <td>16339</td>\n",
       "    </tr>\n",
       "    <tr>\n",
       "      <td>3947</td>\n",
       "      <td>ffd002f3-3545-423e-8dba-0c6a2d48a3aa</td>\n",
       "      <td>2020-05-06 06:34:18</td>\n",
       "      <td>2020-05-19 04:03:24</td>\n",
       "      <td>building</td>\n",
       "      <td>finished_stage_1</td>\n",
       "      <td>18569</td>\n",
       "    </tr>\n",
       "    <tr>\n",
       "      <td>3948</td>\n",
       "      <td>ffe810f4-1a1f-464b-924d-6f120b0cb8df</td>\n",
       "      <td>2020-05-04 17:46:05</td>\n",
       "      <td>2020-05-18 02:03:36</td>\n",
       "      <td>building</td>\n",
       "      <td>finished_stage_1</td>\n",
       "      <td>19217</td>\n",
       "    </tr>\n",
       "    <tr>\n",
       "      <td>3949</td>\n",
       "      <td>ffef4fed-164c-40e1-bde1-3980f76d0fb5</td>\n",
       "      <td>2020-05-04 01:58:59</td>\n",
       "      <td>2020-05-11 22:15:54</td>\n",
       "      <td>building</td>\n",
       "      <td>finished_stage_1</td>\n",
       "      <td>11296</td>\n",
       "    </tr>\n",
       "    <tr>\n",
       "      <td>3950</td>\n",
       "      <td>fffb626c-5ab6-47c9-8113-2062a2f18494</td>\n",
       "      <td>2020-05-04 02:05:09</td>\n",
       "      <td>2020-05-12 13:01:52</td>\n",
       "      <td>building</td>\n",
       "      <td>finished_stage_1</td>\n",
       "      <td>12176</td>\n",
       "    </tr>\n",
       "  </tbody>\n",
       "</table>\n",
       "<p>3951 rows × 6 columns</p>\n",
       "</div>"
      ],
      "text/plain": [
       "                                   user_id               start  \\\n",
       "0     001d39dc-366c-4021-9604-6a3b9ff01e25 2020-05-05 21:02:05   \n",
       "1     003ee7e8-6356-4286-a715-62f22a18d2a1 2020-05-05 08:31:04   \n",
       "2     004074f8-251a-4776-922c-8348dca1a2f6 2020-05-04 01:07:35   \n",
       "3     00464e5e-28ed-4be6-bf44-517ef7b3937b 2020-05-04 08:35:29   \n",
       "4     0056c007-c082-43cc-bdef-afc49bca4cb9 2020-05-10 11:49:47   \n",
       "...                                    ...                 ...   \n",
       "3946  ffc6f4fa-3476-47af-85cb-e2ee0551110a 2020-05-04 03:59:12   \n",
       "3947  ffd002f3-3545-423e-8dba-0c6a2d48a3aa 2020-05-06 06:34:18   \n",
       "3948  ffe810f4-1a1f-464b-924d-6f120b0cb8df 2020-05-04 17:46:05   \n",
       "3949  ffef4fed-164c-40e1-bde1-3980f76d0fb5 2020-05-04 01:58:59   \n",
       "3950  fffb626c-5ab6-47c9-8113-2062a2f18494 2020-05-04 02:05:09   \n",
       "\n",
       "                     end first_event        last_event  lvltime  \n",
       "0    2020-05-12 07:40:47    building  finished_stage_1     9278  \n",
       "1    2020-05-17 21:47:49    building  finished_stage_1    18076  \n",
       "2    2020-05-16 19:57:40    building  finished_stage_1    18410  \n",
       "3    2020-05-15 16:02:01    building  finished_stage_1    16286  \n",
       "4    2020-05-16 13:48:39    building  finished_stage_1     8758  \n",
       "...                  ...         ...               ...      ...  \n",
       "3946 2020-05-15 12:18:42    building  finished_stage_1    16339  \n",
       "3947 2020-05-19 04:03:24    building  finished_stage_1    18569  \n",
       "3948 2020-05-18 02:03:36    building  finished_stage_1    19217  \n",
       "3949 2020-05-11 22:15:54    building  finished_stage_1    11296  \n",
       "3950 2020-05-12 13:01:52    building  finished_stage_1    12176  \n",
       "\n",
       "[3951 rows x 6 columns]"
      ]
     },
     "execution_count": 52,
     "metadata": {},
     "output_type": "execute_result"
    }
   ],
   "source": [
    "lvltime_winners['lvltime'] = (lvltime_winners['end'] - lvltime_winners['start']).astype('timedelta64[m]').astype(int)\n",
    "lvltime_winners"
   ]
  },
  {
   "cell_type": "code",
   "execution_count": 53,
   "metadata": {},
   "outputs": [
    {
     "name": "stdout",
     "output_type": "stream",
     "text": [
      "p-значение:  7.261151385117754e-98\n",
      "Отвергаем нулевую гипотезу\n"
     ]
    }
   ],
   "source": [
    "alpha = 0.05 \n",
    "\n",
    "results = st.ttest_ind(lvltime_winners['lvltime'],lvltime_builders['lvltime'])\n",
    "\n",
    "print('p-значение: ', results.pvalue)\n",
    "\n",
    "if results.pvalue < alpha:\n",
    "    print(\"Отвергаем нулевую гипотезу\")\n",
    "else:\n",
    "    print(\"Не получилось отвергнуть нулевую гипотезу\") "
   ]
  },
  {
   "cell_type": "markdown",
   "metadata": {},
   "source": [
    "### Проверить гипотезу различия стоимости кликов в Facebook и остальных источников"
   ]
  },
  {
   "cell_type": "markdown",
   "metadata": {},
   "source": [
    "Н_0: Стоимость кликов в Facebook = Стоимость кликов в остальных источниках\n",
    "\n",
    "Н_1: Стоимость кликов в Facebook != Стоимость кликов в остальных источниках"
   ]
  },
  {
   "cell_type": "code",
   "execution_count": 54,
   "metadata": {},
   "outputs": [
    {
     "name": "stdout",
     "output_type": "stream",
     "text": [
      "p-значение:  0.7223387745070895\n",
      "Не получилось отвергнуть нулевую гипотезу\n"
     ]
    }
   ],
   "source": [
    "alpha = 0.05 \n",
    "\n",
    "results = st.ttest_ind(costs.dropna().query('source == \"facebook_ads\"')['cost'], \n",
    "                       costs.dropna().query('source != \"facebook_ads\"')['cost'])\n",
    "\n",
    "print('p-значение: ', results.pvalue)\n",
    "\n",
    "if results.pvalue < alpha:\n",
    "    print(\"Отвергаем нулевую гипотезу\")\n",
    "else:\n",
    "    print(\"Не получилось отвергнуть нулевую гипотезу\") "
   ]
  },
  {
   "cell_type": "markdown",
   "metadata": {},
   "source": [
    "*После проведенной работы выяснили, что среднее время на прохождение уровня, неважно каким способом, занимает 10 дней. В среднем игроки делают 9 построек для прохождения уровня, затрачивая на это около 4 дней и 4 часов. В датасете 13576 игроков, из которых 1866 человек заканчивают уровень через выполнение проекта, 3951 победой над противником и 7759 еще не выбрали стратегию игры. Основная монетизация осуществляется путем показа рекламы во время выбора постройки здания, создание армии и тд. Дополнительная с помощью реварда игроков - для защиты здания, армии или проекта, уменьшения скорости стройки - будет показана реклама. Она ненавязчивая и многим игрокам даже полезна. Минимальный порог рекламы 20 шт со стоимостью не выше 0.04у.е.*"
   ]
  }
 ],
 "metadata": {
  "ExecuteTimeLog": [
   {
    "duration": 3112,
    "start_time": "2021-10-08T10:52:54.076Z"
   },
   {
    "duration": 447,
    "start_time": "2021-10-08T10:54:54.962Z"
   },
   {
    "duration": 26,
    "start_time": "2021-10-08T10:55:22.379Z"
   },
   {
    "duration": 41,
    "start_time": "2021-10-08T10:55:29.682Z"
   },
   {
    "duration": 283,
    "start_time": "2021-10-08T12:01:51.977Z"
   },
   {
    "duration": 36,
    "start_time": "2021-10-08T12:07:27.140Z"
   },
   {
    "duration": 79,
    "start_time": "2021-10-08T12:09:50.035Z"
   },
   {
    "duration": 18,
    "start_time": "2021-10-08T12:09:58.289Z"
   },
   {
    "duration": 14,
    "start_time": "2021-10-08T12:11:15.028Z"
   },
   {
    "duration": 13,
    "start_time": "2021-10-08T12:11:18.519Z"
   },
   {
    "duration": 561,
    "start_time": "2021-10-08T12:13:00.478Z"
   },
   {
    "duration": 14,
    "start_time": "2021-10-08T12:13:04.023Z"
   },
   {
    "duration": 76,
    "start_time": "2021-10-08T12:19:18.148Z"
   },
   {
    "duration": 12,
    "start_time": "2021-10-08T12:21:01.541Z"
   },
   {
    "duration": 11,
    "start_time": "2021-10-08T12:22:00.227Z"
   },
   {
    "duration": 293,
    "start_time": "2021-10-08T12:30:34.231Z"
   },
   {
    "duration": 331,
    "start_time": "2021-10-08T12:34:57.184Z"
   },
   {
    "duration": 303,
    "start_time": "2021-10-08T12:36:41.810Z"
   },
   {
    "duration": 11,
    "start_time": "2021-10-08T12:37:39.632Z"
   },
   {
    "duration": 8,
    "start_time": "2021-10-08T12:38:03.578Z"
   },
   {
    "duration": 9,
    "start_time": "2021-10-08T12:38:18.922Z"
   },
   {
    "duration": 9,
    "start_time": "2021-10-08T12:38:27.888Z"
   },
   {
    "duration": 8,
    "start_time": "2021-10-08T13:24:09.326Z"
   },
   {
    "duration": 8,
    "start_time": "2021-10-08T13:24:16.703Z"
   },
   {
    "duration": 993,
    "start_time": "2021-10-08T13:24:25.478Z"
   },
   {
    "duration": 24,
    "start_time": "2021-10-08T13:24:26.474Z"
   },
   {
    "duration": 40,
    "start_time": "2021-10-08T13:24:26.502Z"
   },
   {
    "duration": 68,
    "start_time": "2021-10-08T13:24:26.545Z"
   },
   {
    "duration": 1266,
    "start_time": "2021-10-08T13:24:26.616Z"
   },
   {
    "duration": -2555,
    "start_time": "2021-10-08T13:24:30.439Z"
   },
   {
    "duration": -2559,
    "start_time": "2021-10-08T13:24:30.445Z"
   },
   {
    "duration": 303,
    "start_time": "2021-10-08T13:26:52.189Z"
   },
   {
    "duration": 72,
    "start_time": "2021-10-08T13:27:27.839Z"
   },
   {
    "duration": 141,
    "start_time": "2021-10-08T13:28:32.110Z"
   },
   {
    "duration": 136,
    "start_time": "2021-10-08T13:28:42.035Z"
   },
   {
    "duration": 70,
    "start_time": "2021-10-08T13:28:44.737Z"
   },
   {
    "duration": 88,
    "start_time": "2021-10-08T13:29:02.528Z"
   },
   {
    "duration": 75,
    "start_time": "2021-10-08T13:29:18.514Z"
   },
   {
    "duration": 89,
    "start_time": "2021-10-08T13:29:22.893Z"
   },
   {
    "duration": 15,
    "start_time": "2021-10-08T13:42:15.045Z"
   },
   {
    "duration": 8,
    "start_time": "2021-10-08T13:42:26.224Z"
   },
   {
    "duration": 5,
    "start_time": "2021-10-08T13:43:01.797Z"
   },
   {
    "duration": 8,
    "start_time": "2021-10-08T13:43:29.757Z"
   },
   {
    "duration": 7,
    "start_time": "2021-10-08T13:43:37.861Z"
   },
   {
    "duration": 18,
    "start_time": "2021-10-08T13:43:56.075Z"
   },
   {
    "duration": 14,
    "start_time": "2021-10-08T13:44:14.594Z"
   },
   {
    "duration": 14,
    "start_time": "2021-10-08T13:44:25.991Z"
   },
   {
    "duration": 14,
    "start_time": "2021-10-08T13:44:40.181Z"
   },
   {
    "duration": 28,
    "start_time": "2021-10-08T22:23:44.806Z"
   },
   {
    "duration": 13,
    "start_time": "2021-10-08T22:24:28.369Z"
   },
   {
    "duration": 31,
    "start_time": "2021-10-08T22:24:55.800Z"
   },
   {
    "duration": 15,
    "start_time": "2021-10-08T22:25:08.940Z"
   },
   {
    "duration": 24,
    "start_time": "2021-10-08T22:25:35.706Z"
   },
   {
    "duration": 34,
    "start_time": "2021-10-08T22:25:38.832Z"
   },
   {
    "duration": 30,
    "start_time": "2021-10-08T22:27:04.686Z"
   },
   {
    "duration": 50,
    "start_time": "2021-10-08T22:27:09.885Z"
   },
   {
    "duration": 183,
    "start_time": "2021-10-08T22:28:01.691Z"
   },
   {
    "duration": 301,
    "start_time": "2021-10-08T22:28:12.914Z"
   },
   {
    "duration": 407,
    "start_time": "2021-10-08T22:29:15.050Z"
   },
   {
    "duration": 133,
    "start_time": "2021-10-08T22:29:45.411Z"
   },
   {
    "duration": 81,
    "start_time": "2021-10-08T22:31:14.261Z"
   },
   {
    "duration": 1794,
    "start_time": "2021-10-08T22:33:01.157Z"
   },
   {
    "duration": 326,
    "start_time": "2021-10-08T22:33:15.242Z"
   },
   {
    "duration": 329,
    "start_time": "2021-10-08T22:33:26.864Z"
   },
   {
    "duration": 355,
    "start_time": "2021-10-08T22:33:51.358Z"
   },
   {
    "duration": 80,
    "start_time": "2021-10-08T22:34:51.964Z"
   },
   {
    "duration": 5,
    "start_time": "2021-10-08T22:37:32.542Z"
   },
   {
    "duration": 17,
    "start_time": "2021-10-08T22:37:49.243Z"
   },
   {
    "duration": 8240,
    "start_time": "2021-10-08T22:38:43.088Z"
   },
   {
    "duration": 310,
    "start_time": "2021-10-08T22:39:15.754Z"
   },
   {
    "duration": 1264,
    "start_time": "2021-10-08T22:41:38.041Z"
   },
   {
    "duration": 479,
    "start_time": "2021-10-08T22:42:09.855Z"
   },
   {
    "duration": 105,
    "start_time": "2021-10-08T22:43:59.597Z"
   },
   {
    "duration": 114,
    "start_time": "2021-10-08T22:44:06.025Z"
   },
   {
    "duration": 333,
    "start_time": "2021-10-08T22:44:15.404Z"
   },
   {
    "duration": 1202,
    "start_time": "2021-10-08T22:44:28.527Z"
   },
   {
    "duration": 308,
    "start_time": "2021-10-08T22:45:53.381Z"
   },
   {
    "duration": 98,
    "start_time": "2021-10-08T22:46:08.074Z"
   },
   {
    "duration": 377,
    "start_time": "2021-10-09T20:58:25.211Z"
   },
   {
    "duration": 1169,
    "start_time": "2021-10-09T20:58:33.678Z"
   },
   {
    "duration": 26,
    "start_time": "2021-10-09T20:58:34.850Z"
   },
   {
    "duration": 39,
    "start_time": "2021-10-09T20:58:34.879Z"
   },
   {
    "duration": 56,
    "start_time": "2021-10-09T20:58:34.922Z"
   },
   {
    "duration": 93,
    "start_time": "2021-10-09T20:58:34.981Z"
   },
   {
    "duration": 129,
    "start_time": "2021-10-09T20:58:35.077Z"
   },
   {
    "duration": 13,
    "start_time": "2021-10-09T20:58:35.208Z"
   },
   {
    "duration": 10,
    "start_time": "2021-10-09T20:58:35.224Z"
   },
   {
    "duration": 19,
    "start_time": "2021-10-09T20:58:35.237Z"
   },
   {
    "duration": 13,
    "start_time": "2021-10-09T20:58:35.258Z"
   },
   {
    "duration": 35,
    "start_time": "2021-10-09T20:58:35.274Z"
   },
   {
    "duration": 16,
    "start_time": "2021-10-09T20:58:35.312Z"
   },
   {
    "duration": 11,
    "start_time": "2021-10-09T20:58:35.331Z"
   },
   {
    "duration": 57,
    "start_time": "2021-10-09T20:58:35.345Z"
   },
   {
    "duration": 28,
    "start_time": "2021-10-09T20:58:35.405Z"
   },
   {
    "duration": 101,
    "start_time": "2021-10-09T21:04:10.056Z"
   },
   {
    "duration": 88,
    "start_time": "2021-10-09T21:08:35.193Z"
   },
   {
    "duration": 87,
    "start_time": "2021-10-09T21:09:46.836Z"
   },
   {
    "duration": 46,
    "start_time": "2021-10-09T21:10:01.406Z"
   },
   {
    "duration": 1118,
    "start_time": "2021-10-09T21:10:20.417Z"
   },
   {
    "duration": 7,
    "start_time": "2021-10-09T21:10:32.796Z"
   },
   {
    "duration": 87,
    "start_time": "2021-10-09T21:10:52.171Z"
   },
   {
    "duration": 7,
    "start_time": "2021-10-09T21:11:18.569Z"
   },
   {
    "duration": 7,
    "start_time": "2021-10-09T21:11:43.552Z"
   },
   {
    "duration": 81,
    "start_time": "2021-10-09T21:13:22.040Z"
   },
   {
    "duration": 333,
    "start_time": "2021-10-09T21:18:34.008Z"
   },
   {
    "duration": 35,
    "start_time": "2021-10-09T21:19:34.694Z"
   },
   {
    "duration": 1053,
    "start_time": "2021-10-09T21:21:31.606Z"
   },
   {
    "duration": 26,
    "start_time": "2021-10-09T21:21:32.662Z"
   },
   {
    "duration": 38,
    "start_time": "2021-10-09T21:21:32.691Z"
   },
   {
    "duration": 3,
    "start_time": "2021-10-09T21:21:32.732Z"
   },
   {
    "duration": 132,
    "start_time": "2021-10-09T21:21:32.737Z"
   },
   {
    "duration": 131,
    "start_time": "2021-10-09T21:21:32.872Z"
   },
   {
    "duration": 13,
    "start_time": "2021-10-09T21:21:33.005Z"
   },
   {
    "duration": 10,
    "start_time": "2021-10-09T21:21:33.021Z"
   },
   {
    "duration": 18,
    "start_time": "2021-10-09T21:21:33.033Z"
   },
   {
    "duration": 5,
    "start_time": "2021-10-09T21:21:33.054Z"
   },
   {
    "duration": 8,
    "start_time": "2021-10-09T21:21:33.101Z"
   },
   {
    "duration": 12,
    "start_time": "2021-10-09T21:21:33.112Z"
   },
   {
    "duration": 9,
    "start_time": "2021-10-09T21:21:33.126Z"
   },
   {
    "duration": 16,
    "start_time": "2021-10-09T21:21:33.137Z"
   },
   {
    "duration": 4894,
    "start_time": "2021-10-09T21:21:33.155Z"
   },
   {
    "duration": 1081,
    "start_time": "2021-10-09T21:21:59.583Z"
   },
   {
    "duration": 27,
    "start_time": "2021-10-09T21:22:00.666Z"
   },
   {
    "duration": 46,
    "start_time": "2021-10-09T21:22:00.696Z"
   },
   {
    "duration": 158,
    "start_time": "2021-10-09T21:22:00.745Z"
   },
   {
    "duration": 78,
    "start_time": "2021-10-09T21:22:00.905Z"
   },
   {
    "duration": 122,
    "start_time": "2021-10-09T21:22:00.985Z"
   },
   {
    "duration": 13,
    "start_time": "2021-10-09T21:22:01.109Z"
   },
   {
    "duration": 17,
    "start_time": "2021-10-09T21:22:01.125Z"
   },
   {
    "duration": 36,
    "start_time": "2021-10-09T21:22:01.145Z"
   },
   {
    "duration": 20,
    "start_time": "2021-10-09T21:22:01.183Z"
   },
   {
    "duration": 22,
    "start_time": "2021-10-09T21:22:01.206Z"
   },
   {
    "duration": 29,
    "start_time": "2021-10-09T21:22:01.230Z"
   },
   {
    "duration": 21,
    "start_time": "2021-10-09T21:22:01.261Z"
   },
   {
    "duration": 34,
    "start_time": "2021-10-09T21:22:01.285Z"
   },
   {
    "duration": 91,
    "start_time": "2021-10-09T21:22:01.321Z"
   },
   {
    "duration": 87,
    "start_time": "2021-10-09T21:30:27.290Z"
   },
   {
    "duration": 368,
    "start_time": "2021-10-09T21:33:57.498Z"
   },
   {
    "duration": 304,
    "start_time": "2021-10-09T21:34:07.489Z"
   },
   {
    "duration": 295,
    "start_time": "2021-10-09T21:38:26.616Z"
   },
   {
    "duration": 455,
    "start_time": "2021-10-09T21:42:49.160Z"
   },
   {
    "duration": 88,
    "start_time": "2021-10-09T21:43:00.363Z"
   },
   {
    "duration": 79,
    "start_time": "2021-10-09T21:43:13.170Z"
   },
   {
    "duration": 266,
    "start_time": "2021-10-09T21:43:44.180Z"
   },
   {
    "duration": 271,
    "start_time": "2021-10-09T21:46:32.154Z"
   },
   {
    "duration": 268,
    "start_time": "2021-10-09T21:47:23.333Z"
   },
   {
    "duration": 84,
    "start_time": "2021-10-09T21:48:38.544Z"
   },
   {
    "duration": 1055,
    "start_time": "2021-10-10T11:08:14.999Z"
   },
   {
    "duration": 27,
    "start_time": "2021-10-10T11:08:16.057Z"
   },
   {
    "duration": 41,
    "start_time": "2021-10-10T11:08:16.088Z"
   },
   {
    "duration": 77,
    "start_time": "2021-10-10T11:08:16.132Z"
   },
   {
    "duration": 88,
    "start_time": "2021-10-10T11:08:16.212Z"
   },
   {
    "duration": 110,
    "start_time": "2021-10-10T11:08:16.303Z"
   },
   {
    "duration": 14,
    "start_time": "2021-10-10T11:08:16.416Z"
   },
   {
    "duration": 9,
    "start_time": "2021-10-10T11:08:16.435Z"
   },
   {
    "duration": 62,
    "start_time": "2021-10-10T11:08:16.448Z"
   },
   {
    "duration": 7,
    "start_time": "2021-10-10T11:08:16.513Z"
   },
   {
    "duration": 10,
    "start_time": "2021-10-10T11:08:16.522Z"
   },
   {
    "duration": 15,
    "start_time": "2021-10-10T11:08:16.534Z"
   },
   {
    "duration": 56,
    "start_time": "2021-10-10T11:08:16.551Z"
   },
   {
    "duration": 16,
    "start_time": "2021-10-10T11:08:16.609Z"
   },
   {
    "duration": 106,
    "start_time": "2021-10-10T11:08:16.627Z"
   },
   {
    "duration": 1119,
    "start_time": "2021-10-10T11:13:31.862Z"
   },
   {
    "duration": 26,
    "start_time": "2021-10-10T11:13:32.984Z"
   },
   {
    "duration": 39,
    "start_time": "2021-10-10T11:13:33.013Z"
   },
   {
    "duration": 80,
    "start_time": "2021-10-10T11:13:33.055Z"
   },
   {
    "duration": 87,
    "start_time": "2021-10-10T11:13:33.138Z"
   },
   {
    "duration": 109,
    "start_time": "2021-10-10T11:13:33.227Z"
   },
   {
    "duration": 12,
    "start_time": "2021-10-10T11:13:33.339Z"
   },
   {
    "duration": 18,
    "start_time": "2021-10-10T11:13:33.355Z"
   },
   {
    "duration": 37,
    "start_time": "2021-10-10T11:13:33.375Z"
   },
   {
    "duration": 8,
    "start_time": "2021-10-10T11:13:33.414Z"
   },
   {
    "duration": 17,
    "start_time": "2021-10-10T11:13:33.424Z"
   },
   {
    "duration": 16,
    "start_time": "2021-10-10T11:13:33.443Z"
   },
   {
    "duration": 9,
    "start_time": "2021-10-10T11:13:33.461Z"
   },
   {
    "duration": 36,
    "start_time": "2021-10-10T11:13:33.473Z"
   },
   {
    "duration": 105,
    "start_time": "2021-10-10T11:13:33.512Z"
   },
   {
    "duration": 155585,
    "start_time": "2021-10-10T11:13:33.619Z"
   },
   {
    "duration": 8,
    "start_time": "2021-10-10T11:16:37.613Z"
   },
   {
    "duration": 56,
    "start_time": "2021-10-10T11:18:44.585Z"
   },
   {
    "duration": 842,
    "start_time": "2021-10-10T11:18:52.633Z"
   },
   {
    "duration": 828,
    "start_time": "2021-10-10T11:19:06.864Z"
   },
   {
    "duration": 825,
    "start_time": "2021-10-10T11:19:34.419Z"
   },
   {
    "duration": 661,
    "start_time": "2021-10-10T11:20:10.773Z"
   },
   {
    "duration": 12,
    "start_time": "2021-10-10T11:20:18.747Z"
   },
   {
    "duration": 13,
    "start_time": "2021-10-10T11:20:32.167Z"
   },
   {
    "duration": 295,
    "start_time": "2021-10-10T11:20:37.817Z"
   },
   {
    "duration": 807,
    "start_time": "2021-10-11T12:27:57.196Z"
   },
   {
    "duration": 17,
    "start_time": "2021-10-11T12:27:58.005Z"
   },
   {
    "duration": 29,
    "start_time": "2021-10-11T12:27:58.025Z"
   },
   {
    "duration": 40,
    "start_time": "2021-10-11T12:27:58.056Z"
   },
   {
    "duration": 70,
    "start_time": "2021-10-11T12:27:58.097Z"
   },
   {
    "duration": 68,
    "start_time": "2021-10-11T12:27:58.168Z"
   },
   {
    "duration": 9,
    "start_time": "2021-10-11T12:27:58.249Z"
   },
   {
    "duration": 8,
    "start_time": "2021-10-11T12:27:58.260Z"
   },
   {
    "duration": 14,
    "start_time": "2021-10-11T12:27:58.270Z"
   },
   {
    "duration": 5,
    "start_time": "2021-10-11T12:27:58.286Z"
   },
   {
    "duration": 9,
    "start_time": "2021-10-11T12:27:58.292Z"
   },
   {
    "duration": 12,
    "start_time": "2021-10-11T12:27:58.303Z"
   },
   {
    "duration": 35,
    "start_time": "2021-10-11T12:27:58.317Z"
   },
   {
    "duration": 9,
    "start_time": "2021-10-11T12:27:58.354Z"
   },
   {
    "duration": 60,
    "start_time": "2021-10-11T12:27:58.365Z"
   },
   {
    "duration": 12,
    "start_time": "2021-10-11T12:30:24.037Z"
   },
   {
    "duration": 263,
    "start_time": "2021-10-11T12:39:07.098Z"
   },
   {
    "duration": 6,
    "start_time": "2021-10-11T12:39:12.747Z"
   },
   {
    "duration": 65,
    "start_time": "2021-10-11T12:39:24.296Z"
   },
   {
    "duration": 10,
    "start_time": "2021-10-11T13:15:53.986Z"
   },
   {
    "duration": 236,
    "start_time": "2021-10-11T13:16:10.364Z"
   },
   {
    "duration": 20,
    "start_time": "2021-10-11T13:16:27.710Z"
   },
   {
    "duration": 13,
    "start_time": "2021-10-11T13:17:47.612Z"
   },
   {
    "duration": 15,
    "start_time": "2021-10-11T13:18:07.090Z"
   },
   {
    "duration": 25,
    "start_time": "2021-10-11T13:18:22.047Z"
   },
   {
    "duration": 789,
    "start_time": "2021-10-11T13:19:20.504Z"
   },
   {
    "duration": 20,
    "start_time": "2021-10-11T13:19:21.295Z"
   },
   {
    "duration": 37,
    "start_time": "2021-10-11T13:19:21.317Z"
   },
   {
    "duration": 42,
    "start_time": "2021-10-11T13:19:21.357Z"
   },
   {
    "duration": 67,
    "start_time": "2021-10-11T13:19:21.401Z"
   },
   {
    "duration": 12,
    "start_time": "2021-10-11T13:19:21.470Z"
   },
   {
    "duration": 9,
    "start_time": "2021-10-11T13:19:21.484Z"
   },
   {
    "duration": 8,
    "start_time": "2021-10-11T13:19:21.496Z"
   },
   {
    "duration": 44,
    "start_time": "2021-10-11T13:19:21.506Z"
   },
   {
    "duration": 4,
    "start_time": "2021-10-11T13:19:21.553Z"
   },
   {
    "duration": 7,
    "start_time": "2021-10-11T13:19:21.559Z"
   },
   {
    "duration": 10,
    "start_time": "2021-10-11T13:19:21.568Z"
   },
   {
    "duration": 8,
    "start_time": "2021-10-11T13:19:21.579Z"
   },
   {
    "duration": 9,
    "start_time": "2021-10-11T13:19:21.588Z"
   },
   {
    "duration": 92,
    "start_time": "2021-10-11T13:19:21.599Z"
   },
   {
    "duration": 12,
    "start_time": "2021-10-11T13:19:21.693Z"
   },
   {
    "duration": 24,
    "start_time": "2021-10-11T13:19:21.706Z"
   },
   {
    "duration": 830,
    "start_time": "2021-10-11T13:19:42.460Z"
   },
   {
    "duration": 20,
    "start_time": "2021-10-11T13:19:43.292Z"
   },
   {
    "duration": 29,
    "start_time": "2021-10-11T13:19:43.314Z"
   },
   {
    "duration": 37,
    "start_time": "2021-10-11T13:19:43.345Z"
   },
   {
    "duration": 51,
    "start_time": "2021-10-11T13:19:43.384Z"
   },
   {
    "duration": 77,
    "start_time": "2021-10-11T13:19:43.437Z"
   },
   {
    "duration": 9,
    "start_time": "2021-10-11T13:19:43.516Z"
   },
   {
    "duration": 25,
    "start_time": "2021-10-11T13:19:43.527Z"
   },
   {
    "duration": 14,
    "start_time": "2021-10-11T13:19:43.554Z"
   },
   {
    "duration": 3,
    "start_time": "2021-10-11T13:19:43.570Z"
   },
   {
    "duration": 8,
    "start_time": "2021-10-11T13:19:43.575Z"
   },
   {
    "duration": 12,
    "start_time": "2021-10-11T13:19:43.584Z"
   },
   {
    "duration": 8,
    "start_time": "2021-10-11T13:19:43.598Z"
   },
   {
    "duration": 42,
    "start_time": "2021-10-11T13:19:43.608Z"
   },
   {
    "duration": 61,
    "start_time": "2021-10-11T13:19:43.652Z"
   },
   {
    "duration": 12,
    "start_time": "2021-10-11T13:19:43.715Z"
   },
   {
    "duration": 45,
    "start_time": "2021-10-11T13:19:43.728Z"
   },
   {
    "duration": 25,
    "start_time": "2021-10-11T13:20:54.750Z"
   },
   {
    "duration": 20,
    "start_time": "2021-10-11T13:22:59.882Z"
   },
   {
    "duration": 26,
    "start_time": "2021-10-11T13:23:39.122Z"
   },
   {
    "duration": 21,
    "start_time": "2021-10-11T13:23:47.614Z"
   },
   {
    "duration": 20,
    "start_time": "2021-10-11T13:24:43.875Z"
   },
   {
    "duration": 18,
    "start_time": "2021-10-11T13:24:54.588Z"
   },
   {
    "duration": 23,
    "start_time": "2021-10-11T13:25:51.021Z"
   },
   {
    "duration": 16,
    "start_time": "2021-10-11T13:26:13.225Z"
   },
   {
    "duration": 24,
    "start_time": "2021-10-11T13:26:18.081Z"
   },
   {
    "duration": 8,
    "start_time": "2021-10-11T13:26:47.653Z"
   },
   {
    "duration": 20,
    "start_time": "2021-10-11T13:27:10.803Z"
   },
   {
    "duration": 38,
    "start_time": "2021-10-11T13:27:15.395Z"
   },
   {
    "duration": 20,
    "start_time": "2021-10-11T13:28:01.607Z"
   },
   {
    "duration": 72,
    "start_time": "2021-10-11T13:28:32.050Z"
   },
   {
    "duration": 27,
    "start_time": "2021-10-11T13:28:36.725Z"
   },
   {
    "duration": 23,
    "start_time": "2021-10-11T13:28:57.217Z"
   },
   {
    "duration": 39,
    "start_time": "2021-10-11T13:29:21.975Z"
   },
   {
    "duration": 39,
    "start_time": "2021-10-11T13:29:48.203Z"
   },
   {
    "duration": 38,
    "start_time": "2021-10-11T13:30:22.518Z"
   },
   {
    "duration": 25,
    "start_time": "2021-10-11T13:34:44.971Z"
   },
   {
    "duration": 18,
    "start_time": "2021-10-11T13:34:51.211Z"
   },
   {
    "duration": 21,
    "start_time": "2021-10-11T13:38:03.039Z"
   },
   {
    "duration": 13,
    "start_time": "2021-10-11T13:38:47.586Z"
   },
   {
    "duration": 13,
    "start_time": "2021-10-11T13:39:04.403Z"
   },
   {
    "duration": 18,
    "start_time": "2021-10-11T13:46:36.532Z"
   },
   {
    "duration": 95,
    "start_time": "2021-10-11T13:47:16.570Z"
   },
   {
    "duration": 36,
    "start_time": "2021-10-11T13:47:24.617Z"
   },
   {
    "duration": 31,
    "start_time": "2021-10-11T13:47:59.015Z"
   },
   {
    "duration": 33,
    "start_time": "2021-10-11T13:48:40.668Z"
   },
   {
    "duration": 41,
    "start_time": "2021-10-11T13:48:48.875Z"
   },
   {
    "duration": 33,
    "start_time": "2021-10-11T13:48:58.542Z"
   },
   {
    "duration": 40,
    "start_time": "2021-10-11T13:51:43.511Z"
   },
   {
    "duration": 283,
    "start_time": "2021-10-11T13:51:52.248Z"
   },
   {
    "duration": 46,
    "start_time": "2021-10-11T13:52:13.568Z"
   },
   {
    "duration": 80,
    "start_time": "2021-10-11T13:52:35.375Z"
   },
   {
    "duration": 42,
    "start_time": "2021-10-11T13:52:56.476Z"
   },
   {
    "duration": 337,
    "start_time": "2021-10-11T13:54:25.423Z"
   },
   {
    "duration": 34,
    "start_time": "2021-10-11T13:56:57.630Z"
   },
   {
    "duration": 37,
    "start_time": "2021-10-11T13:57:09.623Z"
   },
   {
    "duration": 23,
    "start_time": "2021-10-11T13:57:32.910Z"
   },
   {
    "duration": 12,
    "start_time": "2021-10-11T14:06:43.612Z"
   },
   {
    "duration": 261,
    "start_time": "2021-10-11T14:21:48.178Z"
   },
   {
    "duration": 50,
    "start_time": "2021-10-11T14:22:07.565Z"
   },
   {
    "duration": 285,
    "start_time": "2021-10-11T14:22:57.335Z"
   },
   {
    "duration": 37,
    "start_time": "2021-10-11T14:23:02.532Z"
   },
   {
    "duration": 32,
    "start_time": "2021-10-11T14:23:24.178Z"
   },
   {
    "duration": 3855,
    "start_time": "2021-10-11T14:24:05.816Z"
   },
   {
    "duration": 215,
    "start_time": "2021-10-11T14:24:22.448Z"
   },
   {
    "duration": 34,
    "start_time": "2021-10-11T14:24:29.150Z"
   },
   {
    "duration": 324,
    "start_time": "2021-10-11T14:25:31.308Z"
   },
   {
    "duration": 49,
    "start_time": "2021-10-11T14:25:37.914Z"
   },
   {
    "duration": 38,
    "start_time": "2021-10-11T14:26:07.182Z"
   },
   {
    "duration": 63,
    "start_time": "2021-10-11T14:26:19.945Z"
   },
   {
    "duration": 32,
    "start_time": "2021-10-11T14:26:51.325Z"
   },
   {
    "duration": 219,
    "start_time": "2021-10-11T14:27:05.103Z"
   },
   {
    "duration": 8,
    "start_time": "2021-10-11T14:27:10.984Z"
   },
   {
    "duration": 94,
    "start_time": "2021-10-11T14:27:54.972Z"
   },
   {
    "duration": 91,
    "start_time": "2021-10-11T14:28:22.146Z"
   },
   {
    "duration": 56,
    "start_time": "2021-10-11T14:32:01.193Z"
   },
   {
    "duration": 97,
    "start_time": "2021-10-11T14:32:20.588Z"
   },
   {
    "duration": 107,
    "start_time": "2021-10-11T14:32:25.343Z"
   },
   {
    "duration": 98,
    "start_time": "2021-10-11T14:32:57.825Z"
   },
   {
    "duration": 13,
    "start_time": "2021-10-11T14:35:44.336Z"
   },
   {
    "duration": 6,
    "start_time": "2021-10-11T14:36:18.028Z"
   },
   {
    "duration": 12,
    "start_time": "2021-10-11T14:51:53.815Z"
   },
   {
    "duration": 18,
    "start_time": "2021-10-11T14:52:08.477Z"
   },
   {
    "duration": 6,
    "start_time": "2021-10-11T14:52:17.716Z"
   },
   {
    "duration": 256,
    "start_time": "2021-10-11T14:52:26.066Z"
   },
   {
    "duration": 18,
    "start_time": "2021-10-11T14:52:30.196Z"
   },
   {
    "duration": 14,
    "start_time": "2021-10-11T14:53:11.446Z"
   },
   {
    "duration": 6,
    "start_time": "2021-10-11T14:53:28.104Z"
   },
   {
    "duration": 7,
    "start_time": "2021-10-11T14:53:31.015Z"
   },
   {
    "duration": 19,
    "start_time": "2021-10-11T14:53:31.510Z"
   },
   {
    "duration": 214,
    "start_time": "2021-10-11T14:54:58.996Z"
   },
   {
    "duration": 258,
    "start_time": "2021-10-11T14:55:09.492Z"
   },
   {
    "duration": 67,
    "start_time": "2021-10-11T14:55:15.701Z"
   },
   {
    "duration": 5,
    "start_time": "2021-10-11T14:55:18.435Z"
   },
   {
    "duration": 6,
    "start_time": "2021-10-11T14:55:30.351Z"
   },
   {
    "duration": 833,
    "start_time": "2021-10-12T10:23:41.119Z"
   },
   {
    "duration": 17,
    "start_time": "2021-10-12T10:23:41.955Z"
   },
   {
    "duration": 32,
    "start_time": "2021-10-12T10:23:41.974Z"
   },
   {
    "duration": 41,
    "start_time": "2021-10-12T10:23:42.008Z"
   },
   {
    "duration": 61,
    "start_time": "2021-10-12T10:23:42.050Z"
   },
   {
    "duration": 79,
    "start_time": "2021-10-12T10:23:42.112Z"
   },
   {
    "duration": 10,
    "start_time": "2021-10-12T10:23:42.193Z"
   },
   {
    "duration": 7,
    "start_time": "2021-10-12T10:23:42.207Z"
   },
   {
    "duration": 18,
    "start_time": "2021-10-12T10:23:42.217Z"
   },
   {
    "duration": 10,
    "start_time": "2021-10-12T10:23:42.237Z"
   },
   {
    "duration": 27,
    "start_time": "2021-10-12T10:23:42.249Z"
   },
   {
    "duration": 9,
    "start_time": "2021-10-12T10:23:42.278Z"
   },
   {
    "duration": 8,
    "start_time": "2021-10-12T10:23:42.289Z"
   },
   {
    "duration": 14,
    "start_time": "2021-10-12T10:23:42.299Z"
   },
   {
    "duration": 116,
    "start_time": "2021-10-12T10:23:42.315Z"
   },
   {
    "duration": 16,
    "start_time": "2021-10-12T10:23:42.433Z"
   },
   {
    "duration": 51,
    "start_time": "2021-10-12T10:23:42.451Z"
   },
   {
    "duration": 109,
    "start_time": "2021-10-12T10:23:42.504Z"
   },
   {
    "duration": 36,
    "start_time": "2021-10-12T10:23:42.615Z"
   },
   {
    "duration": 33,
    "start_time": "2021-10-12T10:23:42.653Z"
   },
   {
    "duration": 16,
    "start_time": "2021-10-12T10:23:42.687Z"
   },
   {
    "duration": 5,
    "start_time": "2021-10-12T10:23:42.705Z"
   },
   {
    "duration": 5,
    "start_time": "2021-10-12T10:23:42.713Z"
   },
   {
    "duration": 7,
    "start_time": "2021-10-12T10:23:42.720Z"
   },
   {
    "duration": 53,
    "start_time": "2021-10-12T10:23:42.729Z"
   },
   {
    "duration": 1148,
    "start_time": "2021-10-13T09:58:18.723Z"
   },
   {
    "duration": 1049,
    "start_time": "2021-10-13T09:58:42.480Z"
   },
   {
    "duration": 123,
    "start_time": "2021-10-13T10:00:05.806Z"
   },
   {
    "duration": 104,
    "start_time": "2021-10-13T10:00:14.764Z"
   },
   {
    "duration": 125,
    "start_time": "2021-10-13T10:00:26.354Z"
   },
   {
    "duration": 46,
    "start_time": "2021-10-13T10:00:32.248Z"
   },
   {
    "duration": 957,
    "start_time": "2021-10-13T10:00:47.098Z"
   },
   {
    "duration": 27,
    "start_time": "2021-10-13T10:00:48.057Z"
   },
   {
    "duration": 31,
    "start_time": "2021-10-13T10:00:48.087Z"
   },
   {
    "duration": 204,
    "start_time": "2021-10-13T10:00:48.120Z"
   },
   {
    "duration": 116,
    "start_time": "2021-10-13T10:00:48.326Z"
   },
   {
    "duration": 119,
    "start_time": "2021-10-13T10:00:48.444Z"
   },
   {
    "duration": 15,
    "start_time": "2021-10-13T10:00:48.565Z"
   },
   {
    "duration": 32,
    "start_time": "2021-10-13T10:00:48.583Z"
   },
   {
    "duration": 73,
    "start_time": "2021-10-13T10:00:48.617Z"
   },
   {
    "duration": 8,
    "start_time": "2021-10-13T10:00:48.694Z"
   },
   {
    "duration": 10,
    "start_time": "2021-10-13T10:00:48.710Z"
   },
   {
    "duration": 10,
    "start_time": "2021-10-13T10:00:48.722Z"
   },
   {
    "duration": 8,
    "start_time": "2021-10-13T10:00:48.734Z"
   },
   {
    "duration": 33,
    "start_time": "2021-10-13T10:00:48.744Z"
   },
   {
    "duration": 64,
    "start_time": "2021-10-13T10:00:48.785Z"
   },
   {
    "duration": 13,
    "start_time": "2021-10-13T10:00:48.850Z"
   },
   {
    "duration": 39,
    "start_time": "2021-10-13T10:00:48.878Z"
   },
   {
    "duration": 126,
    "start_time": "2021-10-13T10:00:48.919Z"
   },
   {
    "duration": 47,
    "start_time": "2021-10-13T10:00:49.046Z"
   },
   {
    "duration": 20,
    "start_time": "2021-10-13T10:00:49.094Z"
   },
   {
    "duration": 18,
    "start_time": "2021-10-13T10:00:49.116Z"
   },
   {
    "duration": 4,
    "start_time": "2021-10-13T10:00:49.135Z"
   },
   {
    "duration": 11,
    "start_time": "2021-10-13T10:00:49.142Z"
   },
   {
    "duration": 17,
    "start_time": "2021-10-13T10:00:49.178Z"
   },
   {
    "duration": 20,
    "start_time": "2021-10-13T10:00:49.197Z"
   },
   {
    "duration": 2907,
    "start_time": "2021-10-13T10:01:31.365Z"
   },
   {
    "duration": 871,
    "start_time": "2021-10-13T10:04:01.962Z"
   },
   {
    "duration": 18,
    "start_time": "2021-10-13T10:04:02.835Z"
   },
   {
    "duration": 29,
    "start_time": "2021-10-13T10:04:02.856Z"
   },
   {
    "duration": 182,
    "start_time": "2021-10-13T10:04:02.888Z"
   },
   {
    "duration": 105,
    "start_time": "2021-10-13T10:04:03.072Z"
   },
   {
    "duration": 114,
    "start_time": "2021-10-13T10:04:03.179Z"
   },
   {
    "duration": 9,
    "start_time": "2021-10-13T10:04:03.295Z"
   },
   {
    "duration": 6,
    "start_time": "2021-10-13T10:04:03.307Z"
   },
   {
    "duration": 13,
    "start_time": "2021-10-13T10:04:03.316Z"
   },
   {
    "duration": 3,
    "start_time": "2021-10-13T10:04:03.331Z"
   },
   {
    "duration": 42,
    "start_time": "2021-10-13T10:04:03.336Z"
   },
   {
    "duration": 8,
    "start_time": "2021-10-13T10:04:03.380Z"
   },
   {
    "duration": 8,
    "start_time": "2021-10-13T10:04:03.390Z"
   },
   {
    "duration": 11,
    "start_time": "2021-10-13T10:04:03.400Z"
   },
   {
    "duration": 2644,
    "start_time": "2021-10-13T10:04:03.413Z"
   },
   {
    "duration": -426,
    "start_time": "2021-10-13T10:04:06.485Z"
   },
   {
    "duration": -433,
    "start_time": "2021-10-13T10:04:06.493Z"
   },
   {
    "duration": -439,
    "start_time": "2021-10-13T10:04:06.500Z"
   },
   {
    "duration": -445,
    "start_time": "2021-10-13T10:04:06.507Z"
   },
   {
    "duration": -451,
    "start_time": "2021-10-13T10:04:06.514Z"
   },
   {
    "duration": -457,
    "start_time": "2021-10-13T10:04:06.521Z"
   },
   {
    "duration": -462,
    "start_time": "2021-10-13T10:04:06.527Z"
   },
   {
    "duration": -469,
    "start_time": "2021-10-13T10:04:06.535Z"
   },
   {
    "duration": -474,
    "start_time": "2021-10-13T10:04:06.541Z"
   },
   {
    "duration": -480,
    "start_time": "2021-10-13T10:04:06.548Z"
   },
   {
    "duration": 5,
    "start_time": "2021-10-13T10:05:00.263Z"
   },
   {
    "duration": 13,
    "start_time": "2021-10-13T10:05:07.035Z"
   },
   {
    "duration": 324,
    "start_time": "2021-10-13T10:05:24.389Z"
   },
   {
    "duration": 2666,
    "start_time": "2021-10-13T10:14:39.559Z"
   },
   {
    "duration": 116,
    "start_time": "2021-10-13T10:18:53.380Z"
   },
   {
    "duration": 2583,
    "start_time": "2021-10-13T10:19:09.338Z"
   },
   {
    "duration": 59,
    "start_time": "2021-10-13T10:19:41.047Z"
   },
   {
    "duration": 7,
    "start_time": "2021-10-13T10:20:07.746Z"
   },
   {
    "duration": 37,
    "start_time": "2021-10-13T10:20:15.556Z"
   },
   {
    "duration": 22,
    "start_time": "2021-10-13T10:20:28.992Z"
   },
   {
    "duration": 48,
    "start_time": "2021-10-13T10:23:45.721Z"
   },
   {
    "duration": 27,
    "start_time": "2021-10-13T10:23:52.699Z"
   },
   {
    "duration": 39,
    "start_time": "2021-10-13T10:24:09.915Z"
   },
   {
    "duration": 328,
    "start_time": "2021-10-13T10:26:19.773Z"
   },
   {
    "duration": 41,
    "start_time": "2021-10-13T10:26:51.626Z"
   },
   {
    "duration": 41,
    "start_time": "2021-10-13T10:27:02.764Z"
   },
   {
    "duration": 112,
    "start_time": "2021-10-13T10:27:59.875Z"
   },
   {
    "duration": 151,
    "start_time": "2021-10-13T10:28:20.593Z"
   },
   {
    "duration": 24,
    "start_time": "2021-10-13T10:29:33.047Z"
   },
   {
    "duration": 1364,
    "start_time": "2021-10-13T10:35:06.843Z"
   },
   {
    "duration": 490,
    "start_time": "2021-10-13T10:35:50.252Z"
   },
   {
    "duration": 64,
    "start_time": "2021-10-13T10:35:56.120Z"
   },
   {
    "duration": 67,
    "start_time": "2021-10-13T10:36:13.473Z"
   },
   {
    "duration": 318,
    "start_time": "2021-10-13T10:40:52.080Z"
   },
   {
    "duration": 314,
    "start_time": "2021-10-13T10:41:30.880Z"
   },
   {
    "duration": 59,
    "start_time": "2021-10-13T10:41:59.596Z"
   },
   {
    "duration": 16,
    "start_time": "2021-10-13T10:42:31.757Z"
   },
   {
    "duration": 69,
    "start_time": "2021-10-13T10:44:14.221Z"
   },
   {
    "duration": 112,
    "start_time": "2021-10-13T10:45:16.099Z"
   },
   {
    "duration": 969,
    "start_time": "2021-10-13T10:46:10.696Z"
   },
   {
    "duration": 18,
    "start_time": "2021-10-13T10:46:11.667Z"
   },
   {
    "duration": 28,
    "start_time": "2021-10-13T10:46:11.688Z"
   },
   {
    "duration": 2161,
    "start_time": "2021-10-13T10:46:11.718Z"
   },
   {
    "duration": -473,
    "start_time": "2021-10-13T10:46:14.354Z"
   },
   {
    "duration": -482,
    "start_time": "2021-10-13T10:46:14.365Z"
   },
   {
    "duration": -503,
    "start_time": "2021-10-13T10:46:14.386Z"
   },
   {
    "duration": -517,
    "start_time": "2021-10-13T10:46:14.402Z"
   },
   {
    "duration": -524,
    "start_time": "2021-10-13T10:46:14.410Z"
   },
   {
    "duration": -531,
    "start_time": "2021-10-13T10:46:14.418Z"
   },
   {
    "duration": -537,
    "start_time": "2021-10-13T10:46:14.425Z"
   },
   {
    "duration": -543,
    "start_time": "2021-10-13T10:46:14.432Z"
   },
   {
    "duration": -550,
    "start_time": "2021-10-13T10:46:14.440Z"
   },
   {
    "duration": -556,
    "start_time": "2021-10-13T10:46:14.447Z"
   },
   {
    "duration": -562,
    "start_time": "2021-10-13T10:46:14.454Z"
   },
   {
    "duration": -569,
    "start_time": "2021-10-13T10:46:14.462Z"
   },
   {
    "duration": -578,
    "start_time": "2021-10-13T10:46:14.472Z"
   },
   {
    "duration": -586,
    "start_time": "2021-10-13T10:46:14.481Z"
   },
   {
    "duration": -593,
    "start_time": "2021-10-13T10:46:14.489Z"
   },
   {
    "duration": -600,
    "start_time": "2021-10-13T10:46:14.497Z"
   },
   {
    "duration": -630,
    "start_time": "2021-10-13T10:46:14.528Z"
   },
   {
    "duration": -640,
    "start_time": "2021-10-13T10:46:14.539Z"
   },
   {
    "duration": -652,
    "start_time": "2021-10-13T10:46:14.552Z"
   },
   {
    "duration": -664,
    "start_time": "2021-10-13T10:46:14.565Z"
   },
   {
    "duration": -677,
    "start_time": "2021-10-13T10:46:14.579Z"
   },
   {
    "duration": 1984,
    "start_time": "2021-10-13T10:46:38.988Z"
   },
   {
    "duration": 2031,
    "start_time": "2021-10-13T10:47:55.528Z"
   },
   {
    "duration": 105,
    "start_time": "2021-10-13T10:49:37.431Z"
   },
   {
    "duration": 117,
    "start_time": "2021-10-13T10:53:21.478Z"
   },
   {
    "duration": 160,
    "start_time": "2021-10-13T10:53:36.533Z"
   },
   {
    "duration": 112,
    "start_time": "2021-10-13T10:53:44.818Z"
   },
   {
    "duration": 140,
    "start_time": "2021-10-13T10:58:39.206Z"
   },
   {
    "duration": 291,
    "start_time": "2021-10-13T10:58:44.402Z"
   },
   {
    "duration": 5454,
    "start_time": "2021-10-13T11:00:01.826Z"
   },
   {
    "duration": 73,
    "start_time": "2021-10-13T11:01:20.018Z"
   },
   {
    "duration": 871,
    "start_time": "2021-10-13T11:01:31.684Z"
   },
   {
    "duration": 18,
    "start_time": "2021-10-13T11:01:32.557Z"
   },
   {
    "duration": 30,
    "start_time": "2021-10-13T11:01:32.577Z"
   },
   {
    "duration": 171,
    "start_time": "2021-10-13T11:01:32.609Z"
   },
   {
    "duration": 110,
    "start_time": "2021-10-13T11:01:32.782Z"
   },
   {
    "duration": 142,
    "start_time": "2021-10-13T11:01:32.894Z"
   },
   {
    "duration": 9,
    "start_time": "2021-10-13T11:01:33.038Z"
   },
   {
    "duration": 6,
    "start_time": "2021-10-13T11:01:33.050Z"
   },
   {
    "duration": 29,
    "start_time": "2021-10-13T11:01:33.059Z"
   },
   {
    "duration": 7,
    "start_time": "2021-10-13T11:01:33.090Z"
   },
   {
    "duration": 9,
    "start_time": "2021-10-13T11:01:33.098Z"
   },
   {
    "duration": 10,
    "start_time": "2021-10-13T11:01:33.109Z"
   },
   {
    "duration": 8,
    "start_time": "2021-10-13T11:01:33.121Z"
   },
   {
    "duration": 17,
    "start_time": "2021-10-13T11:01:33.131Z"
   },
   {
    "duration": 80,
    "start_time": "2021-10-13T11:01:33.177Z"
   },
   {
    "duration": 27,
    "start_time": "2021-10-13T11:01:33.258Z"
   },
   {
    "duration": 43,
    "start_time": "2021-10-13T11:01:33.287Z"
   },
   {
    "duration": 126,
    "start_time": "2021-10-13T11:01:33.332Z"
   },
   {
    "duration": 45,
    "start_time": "2021-10-13T11:01:33.461Z"
   },
   {
    "duration": 20,
    "start_time": "2021-10-13T11:01:33.509Z"
   },
   {
    "duration": 18,
    "start_time": "2021-10-13T11:01:33.531Z"
   },
   {
    "duration": 28,
    "start_time": "2021-10-13T11:01:33.551Z"
   },
   {
    "duration": 17,
    "start_time": "2021-10-13T11:01:33.582Z"
   },
   {
    "duration": 6,
    "start_time": "2021-10-13T11:01:33.601Z"
   },
   {
    "duration": 25,
    "start_time": "2021-10-13T11:01:33.609Z"
   },
   {
    "duration": 6,
    "start_time": "2021-10-13T11:15:10.400Z"
   },
   {
    "duration": 13,
    "start_time": "2021-10-13T11:15:14.846Z"
   },
   {
    "duration": 429,
    "start_time": "2021-10-13T11:15:30.698Z"
   },
   {
    "duration": 603,
    "start_time": "2021-10-13T11:15:42.833Z"
   },
   {
    "duration": 31,
    "start_time": "2021-10-13T11:15:47.961Z"
   },
   {
    "duration": 17,
    "start_time": "2021-10-13T11:29:04.118Z"
   },
   {
    "duration": 6,
    "start_time": "2021-10-13T11:29:45.493Z"
   },
   {
    "duration": 17,
    "start_time": "2021-10-13T11:29:54.984Z"
   },
   {
    "duration": 298,
    "start_time": "2021-10-13T11:30:56.816Z"
   },
   {
    "duration": 8,
    "start_time": "2021-10-13T11:31:06.081Z"
   },
   {
    "duration": 303,
    "start_time": "2021-10-13T11:31:18.235Z"
   },
   {
    "duration": 17,
    "start_time": "2021-10-13T11:31:26.829Z"
   },
   {
    "duration": 4,
    "start_time": "2021-10-13T11:31:47.709Z"
   },
   {
    "duration": 4,
    "start_time": "2021-10-13T11:31:58.043Z"
   },
   {
    "duration": 5,
    "start_time": "2021-10-13T11:32:06.627Z"
   },
   {
    "duration": 5,
    "start_time": "2021-10-13T11:32:17.850Z"
   },
   {
    "duration": 4,
    "start_time": "2021-10-13T11:32:37.623Z"
   },
   {
    "duration": 5,
    "start_time": "2021-10-13T11:32:52.097Z"
   },
   {
    "duration": 104,
    "start_time": "2021-10-13T11:33:02.472Z"
   },
   {
    "duration": 5,
    "start_time": "2021-10-13T11:33:06.139Z"
   },
   {
    "duration": 103,
    "start_time": "2021-10-13T11:34:21.817Z"
   },
   {
    "duration": 62,
    "start_time": "2021-10-13T11:34:48.796Z"
   },
   {
    "duration": 6,
    "start_time": "2021-10-13T11:35:33.866Z"
   },
   {
    "duration": 18,
    "start_time": "2021-10-13T11:36:08.275Z"
   },
   {
    "duration": 5,
    "start_time": "2021-10-13T11:37:08.445Z"
   },
   {
    "duration": 16,
    "start_time": "2021-10-13T11:38:33.906Z"
   },
   {
    "duration": 15,
    "start_time": "2021-10-13T11:39:21.553Z"
   },
   {
    "duration": 60,
    "start_time": "2021-10-13T11:41:12.457Z"
   },
   {
    "duration": 2501,
    "start_time": "2021-10-13T11:41:29.381Z"
   },
   {
    "duration": 44,
    "start_time": "2021-10-13T11:41:42.759Z"
   },
   {
    "duration": 35,
    "start_time": "2021-10-13T11:43:36.994Z"
   },
   {
    "duration": 41,
    "start_time": "2021-10-13T11:44:06.209Z"
   },
   {
    "duration": 15,
    "start_time": "2021-10-13T11:44:34.631Z"
   },
   {
    "duration": 46,
    "start_time": "2021-10-13T11:44:35.647Z"
   },
   {
    "duration": 25,
    "start_time": "2021-10-13T11:45:41.413Z"
   },
   {
    "duration": 873,
    "start_time": "2021-10-13T11:46:19.716Z"
   },
   {
    "duration": 19,
    "start_time": "2021-10-13T11:46:20.591Z"
   },
   {
    "duration": 29,
    "start_time": "2021-10-13T11:46:20.612Z"
   },
   {
    "duration": 179,
    "start_time": "2021-10-13T11:46:20.644Z"
   },
   {
    "duration": 119,
    "start_time": "2021-10-13T11:46:20.826Z"
   },
   {
    "duration": 144,
    "start_time": "2021-10-13T11:46:20.947Z"
   },
   {
    "duration": 9,
    "start_time": "2021-10-13T11:46:21.093Z"
   },
   {
    "duration": 8,
    "start_time": "2021-10-13T11:46:21.105Z"
   },
   {
    "duration": 20,
    "start_time": "2021-10-13T11:46:21.115Z"
   },
   {
    "duration": 4,
    "start_time": "2021-10-13T11:46:21.137Z"
   },
   {
    "duration": 35,
    "start_time": "2021-10-13T11:46:21.143Z"
   },
   {
    "duration": 12,
    "start_time": "2021-10-13T11:46:21.180Z"
   },
   {
    "duration": 9,
    "start_time": "2021-10-13T11:46:21.194Z"
   },
   {
    "duration": 12,
    "start_time": "2021-10-13T11:46:21.205Z"
   },
   {
    "duration": 91,
    "start_time": "2021-10-13T11:46:21.219Z"
   },
   {
    "duration": 16,
    "start_time": "2021-10-13T11:46:21.312Z"
   },
   {
    "duration": 58,
    "start_time": "2021-10-13T11:46:21.330Z"
   },
   {
    "duration": 111,
    "start_time": "2021-10-13T11:46:21.390Z"
   },
   {
    "duration": 46,
    "start_time": "2021-10-13T11:46:21.503Z"
   },
   {
    "duration": 48,
    "start_time": "2021-10-13T11:46:21.552Z"
   },
   {
    "duration": 29,
    "start_time": "2021-10-13T11:46:21.603Z"
   },
   {
    "duration": 5,
    "start_time": "2021-10-13T11:46:21.634Z"
   },
   {
    "duration": 33,
    "start_time": "2021-10-13T11:46:21.643Z"
   },
   {
    "duration": 8,
    "start_time": "2021-10-13T11:46:21.679Z"
   },
   {
    "duration": 27,
    "start_time": "2021-10-13T11:46:21.689Z"
   },
   {
    "duration": 23,
    "start_time": "2021-10-13T11:46:21.719Z"
   },
   {
    "duration": 95,
    "start_time": "2021-10-13T11:46:21.744Z"
   },
   {
    "duration": 40,
    "start_time": "2021-10-13T11:47:10.734Z"
   },
   {
    "duration": 36,
    "start_time": "2021-10-13T11:47:13.766Z"
   },
   {
    "duration": 1419,
    "start_time": "2021-10-13T11:47:23.537Z"
   },
   {
    "duration": 35,
    "start_time": "2021-10-13T11:47:45.278Z"
   },
   {
    "duration": 33,
    "start_time": "2021-10-13T11:48:02.003Z"
   },
   {
    "duration": 222,
    "start_time": "2021-10-13T11:51:23.277Z"
   },
   {
    "duration": 185,
    "start_time": "2021-10-13T11:51:37.976Z"
   },
   {
    "duration": 180,
    "start_time": "2021-10-13T11:52:03.520Z"
   },
   {
    "duration": 37,
    "start_time": "2021-10-13T11:52:17.076Z"
   },
   {
    "duration": 64,
    "start_time": "2021-10-13T11:53:22.621Z"
   },
   {
    "duration": 263,
    "start_time": "2021-10-13T11:53:45.230Z"
   },
   {
    "duration": 2749,
    "start_time": "2021-10-13T11:54:09.762Z"
   },
   {
    "duration": 57,
    "start_time": "2021-10-13T11:54:31.588Z"
   },
   {
    "duration": 445,
    "start_time": "2021-10-13T11:54:58.757Z"
   },
   {
    "duration": 35,
    "start_time": "2021-10-13T11:55:24.627Z"
   },
   {
    "duration": 58,
    "start_time": "2021-10-13T11:55:38.640Z"
   },
   {
    "duration": 35,
    "start_time": "2021-10-13T11:55:57.420Z"
   },
   {
    "duration": 35,
    "start_time": "2021-10-13T11:56:10.524Z"
   },
   {
    "duration": 101,
    "start_time": "2021-10-13T11:56:32.944Z"
   },
   {
    "duration": 294,
    "start_time": "2021-10-13T11:56:36.277Z"
   },
   {
    "duration": 9,
    "start_time": "2021-10-13T11:56:52.419Z"
   },
   {
    "duration": 9,
    "start_time": "2021-10-13T11:57:06.755Z"
   },
   {
    "duration": 49,
    "start_time": "2021-10-13T11:58:11.344Z"
   },
   {
    "duration": 344,
    "start_time": "2021-10-13T11:58:28.664Z"
   },
   {
    "duration": 51,
    "start_time": "2021-10-13T11:58:45.006Z"
   },
   {
    "duration": 325,
    "start_time": "2021-10-13T11:59:19.151Z"
   },
   {
    "duration": 341,
    "start_time": "2021-10-13T11:59:38.289Z"
   },
   {
    "duration": 390,
    "start_time": "2021-10-13T11:59:53.939Z"
   },
   {
    "duration": 37,
    "start_time": "2021-10-13T12:00:43.047Z"
   },
   {
    "duration": 36,
    "start_time": "2021-10-13T12:02:19.220Z"
   },
   {
    "duration": 321,
    "start_time": "2021-10-13T12:02:43.462Z"
   },
   {
    "duration": 36,
    "start_time": "2021-10-13T12:02:52.928Z"
   },
   {
    "duration": 9,
    "start_time": "2021-10-13T12:04:57.960Z"
   },
   {
    "duration": 300,
    "start_time": "2021-10-13T12:07:04.244Z"
   },
   {
    "duration": 44,
    "start_time": "2021-10-13T12:07:17.757Z"
   },
   {
    "duration": 34,
    "start_time": "2021-10-13T12:08:44.392Z"
   },
   {
    "duration": 38,
    "start_time": "2021-10-13T12:08:57.649Z"
   },
   {
    "duration": 668,
    "start_time": "2021-10-13T12:09:09.762Z"
   },
   {
    "duration": 39,
    "start_time": "2021-10-13T12:09:17.612Z"
   },
   {
    "duration": 37,
    "start_time": "2021-10-13T12:10:25.847Z"
   },
   {
    "duration": 35,
    "start_time": "2021-10-13T12:10:46.978Z"
   },
   {
    "duration": 11,
    "start_time": "2021-10-13T13:16:13.007Z"
   },
   {
    "duration": 99,
    "start_time": "2021-10-13T13:28:35.836Z"
   },
   {
    "duration": 5,
    "start_time": "2021-10-13T13:28:52.037Z"
   },
   {
    "duration": 99,
    "start_time": "2021-10-13T13:32:41.518Z"
   },
   {
    "duration": 6,
    "start_time": "2021-10-13T13:32:48.947Z"
   },
   {
    "duration": 5,
    "start_time": "2021-10-13T13:33:44.046Z"
   },
   {
    "duration": 105,
    "start_time": "2021-10-13T13:35:42.136Z"
   },
   {
    "duration": 5,
    "start_time": "2021-10-13T13:35:45.960Z"
   },
   {
    "duration": 6,
    "start_time": "2021-10-13T13:36:12.104Z"
   },
   {
    "duration": 6,
    "start_time": "2021-10-13T13:36:41.519Z"
   },
   {
    "duration": 6,
    "start_time": "2021-10-13T13:37:04.903Z"
   },
   {
    "duration": 5,
    "start_time": "2021-10-13T13:37:52.622Z"
   },
   {
    "duration": 6,
    "start_time": "2021-10-13T13:39:17.993Z"
   },
   {
    "duration": 334,
    "start_time": "2021-10-13T13:44:53.867Z"
   },
   {
    "duration": 7,
    "start_time": "2021-10-13T13:45:00.551Z"
   },
   {
    "duration": 8,
    "start_time": "2021-10-13T13:45:19.830Z"
   },
   {
    "duration": 8,
    "start_time": "2021-10-13T13:45:29.112Z"
   },
   {
    "duration": 36,
    "start_time": "2021-10-13T13:46:23.272Z"
   },
   {
    "duration": 296,
    "start_time": "2021-10-13T14:16:20.399Z"
   },
   {
    "duration": 26,
    "start_time": "2021-10-13T14:16:25.350Z"
   },
   {
    "duration": 25,
    "start_time": "2021-10-13T14:17:20.499Z"
   },
   {
    "duration": 290,
    "start_time": "2021-10-13T14:18:26.494Z"
   },
   {
    "duration": 318,
    "start_time": "2021-10-13T14:18:37.723Z"
   },
   {
    "duration": 28,
    "start_time": "2021-10-13T14:19:07.738Z"
   },
   {
    "duration": 262,
    "start_time": "2021-10-13T14:20:32.785Z"
   },
   {
    "duration": 7840,
    "start_time": "2021-10-13T14:21:18.531Z"
   },
   {
    "duration": 281,
    "start_time": "2021-10-13T14:21:31.557Z"
   },
   {
    "duration": 327,
    "start_time": "2021-10-13T14:21:35.790Z"
   },
   {
    "duration": 25,
    "start_time": "2021-10-13T14:21:45.845Z"
   },
   {
    "duration": 323,
    "start_time": "2021-10-13T14:22:53.599Z"
   },
   {
    "duration": 197,
    "start_time": "2021-10-13T14:23:54.200Z"
   },
   {
    "duration": 34,
    "start_time": "2021-10-13T14:24:18.867Z"
   },
   {
    "duration": 34,
    "start_time": "2021-10-13T14:25:48.605Z"
   },
   {
    "duration": 151,
    "start_time": "2021-10-13T14:26:11.973Z"
   },
   {
    "duration": 194,
    "start_time": "2021-10-13T14:26:23.085Z"
   },
   {
    "duration": 25,
    "start_time": "2021-10-13T14:29:46.540Z"
   },
   {
    "duration": 342,
    "start_time": "2021-10-13T14:32:22.114Z"
   },
   {
    "duration": 293,
    "start_time": "2021-10-13T14:32:32.579Z"
   },
   {
    "duration": 17,
    "start_time": "2021-10-13T14:32:44.559Z"
   },
   {
    "duration": 11,
    "start_time": "2021-10-13T14:33:57.524Z"
   },
   {
    "duration": 23,
    "start_time": "2021-10-13T14:34:52.468Z"
   },
   {
    "duration": 18,
    "start_time": "2021-10-13T14:35:01.909Z"
   },
   {
    "duration": 17,
    "start_time": "2021-10-13T14:35:25.416Z"
   },
   {
    "duration": 324,
    "start_time": "2021-10-13T14:35:53.380Z"
   },
   {
    "duration": 350,
    "start_time": "2021-10-13T14:36:08.776Z"
   },
   {
    "duration": 19,
    "start_time": "2021-10-13T14:36:17.932Z"
   },
   {
    "duration": 16,
    "start_time": "2021-10-13T14:36:45.151Z"
   },
   {
    "duration": 12,
    "start_time": "2021-10-13T14:37:21.949Z"
   },
   {
    "duration": 12,
    "start_time": "2021-10-13T14:37:43.821Z"
   },
   {
    "duration": 12,
    "start_time": "2021-10-13T14:37:48.377Z"
   },
   {
    "duration": 15,
    "start_time": "2021-10-13T14:38:10.568Z"
   },
   {
    "duration": 17,
    "start_time": "2021-10-13T14:38:30.080Z"
   },
   {
    "duration": 10,
    "start_time": "2021-10-13T14:39:08.141Z"
   },
   {
    "duration": 13,
    "start_time": "2021-10-13T14:39:39.489Z"
   },
   {
    "duration": 18,
    "start_time": "2021-10-13T14:39:46.819Z"
   },
   {
    "duration": 304,
    "start_time": "2021-10-13T14:40:11.806Z"
   },
   {
    "duration": 10,
    "start_time": "2021-10-13T14:40:16.501Z"
   },
   {
    "duration": 28,
    "start_time": "2021-10-13T14:40:48.994Z"
   },
   {
    "duration": 298,
    "start_time": "2021-10-13T14:48:44.092Z"
   },
   {
    "duration": 15,
    "start_time": "2021-10-13T14:48:55.969Z"
   },
   {
    "duration": 311,
    "start_time": "2021-10-13T14:49:22.044Z"
   },
   {
    "duration": 326,
    "start_time": "2021-10-13T14:49:28.645Z"
   },
   {
    "duration": 13,
    "start_time": "2021-10-13T14:49:38.339Z"
   },
   {
    "duration": 294,
    "start_time": "2021-10-13T14:50:41.945Z"
   },
   {
    "duration": 451,
    "start_time": "2021-10-13T14:50:55.650Z"
   },
   {
    "duration": 26,
    "start_time": "2021-10-13T14:51:19.115Z"
   },
   {
    "duration": 309,
    "start_time": "2021-10-13T14:54:14.767Z"
   },
   {
    "duration": 294,
    "start_time": "2021-10-13T14:54:18.468Z"
   },
   {
    "duration": 53,
    "start_time": "2021-10-13T14:54:58.377Z"
   },
   {
    "duration": 3973,
    "start_time": "2021-10-13T14:55:47.749Z"
   },
   {
    "duration": 291,
    "start_time": "2021-10-13T14:56:03.905Z"
   },
   {
    "duration": 294,
    "start_time": "2021-10-13T14:56:08.589Z"
   },
   {
    "duration": 22,
    "start_time": "2021-10-13T14:56:59.789Z"
   },
   {
    "duration": 349,
    "start_time": "2021-10-13T14:57:45.302Z"
   },
   {
    "duration": 6,
    "start_time": "2021-10-13T14:57:56.279Z"
   },
   {
    "duration": 390,
    "start_time": "2021-10-13T14:58:21.889Z"
   },
   {
    "duration": 1656,
    "start_time": "2021-10-13T14:58:43.421Z"
   },
   {
    "duration": 37,
    "start_time": "2021-10-13T14:58:50.830Z"
   },
   {
    "duration": 32,
    "start_time": "2021-10-13T15:11:21.613Z"
   },
   {
    "duration": 22,
    "start_time": "2021-10-13T15:12:35.994Z"
   },
   {
    "duration": 23,
    "start_time": "2021-10-13T15:15:09.429Z"
   },
   {
    "duration": 41,
    "start_time": "2021-10-13T15:15:23.562Z"
   },
   {
    "duration": 22,
    "start_time": "2021-10-13T15:16:23.336Z"
   },
   {
    "duration": 46,
    "start_time": "2021-10-13T15:16:26.896Z"
   },
   {
    "duration": 33,
    "start_time": "2021-10-13T15:16:52.139Z"
   },
   {
    "duration": 39,
    "start_time": "2021-10-13T15:16:57.419Z"
   },
   {
    "duration": 18,
    "start_time": "2021-10-13T21:04:01.263Z"
   },
   {
    "duration": 105,
    "start_time": "2021-10-13T21:05:48.734Z"
   },
   {
    "duration": 11,
    "start_time": "2021-10-13T21:05:53.978Z"
   },
   {
    "duration": 11,
    "start_time": "2021-10-13T21:06:03.965Z"
   },
   {
    "duration": 10,
    "start_time": "2021-10-13T21:06:13.397Z"
   },
   {
    "duration": 10,
    "start_time": "2021-10-13T21:06:28.813Z"
   },
   {
    "duration": 107,
    "start_time": "2021-10-13T21:07:05.133Z"
   },
   {
    "duration": 107,
    "start_time": "2021-10-13T21:07:10.565Z"
   },
   {
    "duration": 325,
    "start_time": "2021-10-13T21:07:23.378Z"
   },
   {
    "duration": 11,
    "start_time": "2021-10-13T21:07:31.229Z"
   },
   {
    "duration": 14,
    "start_time": "2021-10-13T21:14:57.397Z"
   },
   {
    "duration": 376,
    "start_time": "2021-10-13T21:16:49.517Z"
   },
   {
    "duration": 27,
    "start_time": "2021-10-13T21:16:57.413Z"
   },
   {
    "duration": 18,
    "start_time": "2021-10-13T21:17:33.113Z"
   },
   {
    "duration": 20,
    "start_time": "2021-10-13T21:17:38.975Z"
   },
   {
    "duration": 16,
    "start_time": "2021-10-13T21:21:44.042Z"
   },
   {
    "duration": 15,
    "start_time": "2021-10-13T21:22:05.769Z"
   },
   {
    "duration": 132,
    "start_time": "2021-10-13T21:22:49.988Z"
   },
   {
    "duration": 108,
    "start_time": "2021-10-13T21:23:22.143Z"
   },
   {
    "duration": 20,
    "start_time": "2021-10-13T21:23:30.280Z"
   },
   {
    "duration": 20,
    "start_time": "2021-10-13T21:23:41.626Z"
   },
   {
    "duration": 15,
    "start_time": "2021-10-13T21:23:46.472Z"
   },
   {
    "duration": 11,
    "start_time": "2021-10-13T21:29:57.491Z"
   },
   {
    "duration": 10,
    "start_time": "2021-10-13T21:30:14.274Z"
   },
   {
    "duration": 11,
    "start_time": "2021-10-13T21:31:39.565Z"
   },
   {
    "duration": 13,
    "start_time": "2021-10-13T21:33:31.672Z"
   },
   {
    "duration": 23,
    "start_time": "2021-10-13T21:33:39.703Z"
   },
   {
    "duration": 26,
    "start_time": "2021-10-13T21:54:57.399Z"
   },
   {
    "duration": 102,
    "start_time": "2021-10-13T21:55:59.915Z"
   },
   {
    "duration": 1369,
    "start_time": "2021-10-13T21:56:41.530Z"
   },
   {
    "duration": 857,
    "start_time": "2021-10-13T21:57:02.434Z"
   },
   {
    "duration": 4,
    "start_time": "2021-10-13T21:57:19.453Z"
   },
   {
    "duration": 5,
    "start_time": "2021-10-13T21:57:26.238Z"
   },
   {
    "duration": 4,
    "start_time": "2021-10-13T21:57:36.326Z"
   },
   {
    "duration": 4,
    "start_time": "2021-10-13T21:57:46.301Z"
   },
   {
    "duration": 5,
    "start_time": "2021-10-13T21:57:55.946Z"
   },
   {
    "duration": 19,
    "start_time": "2021-10-13T22:03:59.491Z"
   },
   {
    "duration": 528,
    "start_time": "2021-10-13T22:04:56.126Z"
   },
   {
    "duration": 8,
    "start_time": "2021-10-13T22:06:20.825Z"
   },
   {
    "duration": 9,
    "start_time": "2021-10-13T22:06:29.587Z"
   },
   {
    "duration": 4,
    "start_time": "2021-10-13T22:08:07.086Z"
   },
   {
    "duration": 8,
    "start_time": "2021-10-13T22:08:19.678Z"
   },
   {
    "duration": 4,
    "start_time": "2021-10-13T22:08:36.916Z"
   },
   {
    "duration": 526,
    "start_time": "2021-10-13T22:08:38.883Z"
   },
   {
    "duration": 8,
    "start_time": "2021-10-13T22:10:22.835Z"
   },
   {
    "duration": 4115,
    "start_time": "2021-10-13T22:11:56.481Z"
   },
   {
    "duration": 344,
    "start_time": "2021-10-13T22:14:40.345Z"
   },
   {
    "duration": 319,
    "start_time": "2021-10-13T22:15:02.190Z"
   },
   {
    "duration": 848,
    "start_time": "2021-10-13T22:15:42.240Z"
   },
   {
    "duration": 16,
    "start_time": "2021-10-13T22:15:43.090Z"
   },
   {
    "duration": 26,
    "start_time": "2021-10-13T22:15:43.108Z"
   },
   {
    "duration": 165,
    "start_time": "2021-10-13T22:15:43.136Z"
   },
   {
    "duration": 113,
    "start_time": "2021-10-13T22:15:43.302Z"
   },
   {
    "duration": 138,
    "start_time": "2021-10-13T22:15:43.417Z"
   },
   {
    "duration": 8,
    "start_time": "2021-10-13T22:15:43.557Z"
   },
   {
    "duration": 5,
    "start_time": "2021-10-13T22:15:43.578Z"
   },
   {
    "duration": 13,
    "start_time": "2021-10-13T22:15:43.585Z"
   },
   {
    "duration": 6,
    "start_time": "2021-10-13T22:15:43.599Z"
   },
   {
    "duration": 7,
    "start_time": "2021-10-13T22:15:43.607Z"
   },
   {
    "duration": 11,
    "start_time": "2021-10-13T22:15:43.616Z"
   },
   {
    "duration": 7,
    "start_time": "2021-10-13T22:15:43.629Z"
   },
   {
    "duration": 44,
    "start_time": "2021-10-13T22:15:43.637Z"
   },
   {
    "duration": 58,
    "start_time": "2021-10-13T22:15:43.683Z"
   },
   {
    "duration": 15,
    "start_time": "2021-10-13T22:15:43.743Z"
   },
   {
    "duration": 36,
    "start_time": "2021-10-13T22:15:43.777Z"
   },
   {
    "duration": 117,
    "start_time": "2021-10-13T22:15:43.815Z"
   },
   {
    "duration": 53,
    "start_time": "2021-10-13T22:15:43.934Z"
   },
   {
    "duration": 24,
    "start_time": "2021-10-13T22:15:43.989Z"
   },
   {
    "duration": 20,
    "start_time": "2021-10-13T22:15:44.015Z"
   },
   {
    "duration": 4,
    "start_time": "2021-10-13T22:15:44.037Z"
   },
   {
    "duration": 34,
    "start_time": "2021-10-13T22:15:44.044Z"
   },
   {
    "duration": 5,
    "start_time": "2021-10-13T22:15:44.080Z"
   },
   {
    "duration": 18,
    "start_time": "2021-10-13T22:15:44.087Z"
   },
   {
    "duration": 39,
    "start_time": "2021-10-13T22:15:44.107Z"
   },
   {
    "duration": 30,
    "start_time": "2021-10-13T22:15:44.148Z"
   },
   {
    "duration": 7,
    "start_time": "2021-10-13T22:15:44.180Z"
   },
   {
    "duration": 31,
    "start_time": "2021-10-13T22:15:44.189Z"
   },
   {
    "duration": 25,
    "start_time": "2021-10-13T22:15:44.221Z"
   },
   {
    "duration": 70,
    "start_time": "2021-10-13T22:15:44.248Z"
   },
   {
    "duration": 15,
    "start_time": "2021-10-13T22:15:44.320Z"
   },
   {
    "duration": 40,
    "start_time": "2021-10-13T22:15:44.337Z"
   },
   {
    "duration": 14,
    "start_time": "2021-10-13T22:15:44.379Z"
   },
   {
    "duration": 23,
    "start_time": "2021-10-13T22:15:44.395Z"
   },
   {
    "duration": 991,
    "start_time": "2021-10-13T22:15:44.420Z"
   },
   {
    "duration": -748,
    "start_time": "2021-10-13T22:15:46.161Z"
   },
   {
    "duration": 527,
    "start_time": "2021-10-13T22:16:21.244Z"
   },
   {
    "duration": 5,
    "start_time": "2021-10-13T22:16:42.485Z"
   },
   {
    "duration": 8,
    "start_time": "2021-10-13T22:17:02.476Z"
   },
   {
    "duration": 1246,
    "start_time": "2021-10-13T22:17:49.471Z"
   },
   {
    "duration": 218,
    "start_time": "2021-10-13T22:21:19.565Z"
   },
   {
    "duration": 7816,
    "start_time": "2021-10-13T22:21:41.397Z"
   },
   {
    "duration": 214,
    "start_time": "2021-10-13T22:24:55.716Z"
   },
   {
    "duration": 9179,
    "start_time": "2021-10-13T22:25:01.292Z"
   },
   {
    "duration": 104,
    "start_time": "2021-10-13T22:25:24.207Z"
   },
   {
    "duration": 19,
    "start_time": "2021-10-13T22:25:34.027Z"
   },
   {
    "duration": 837,
    "start_time": "2021-10-13T22:26:25.658Z"
   },
   {
    "duration": 16,
    "start_time": "2021-10-13T22:26:26.497Z"
   },
   {
    "duration": 30,
    "start_time": "2021-10-13T22:26:26.515Z"
   },
   {
    "duration": 157,
    "start_time": "2021-10-13T22:26:26.547Z"
   },
   {
    "duration": 103,
    "start_time": "2021-10-13T22:26:26.706Z"
   },
   {
    "duration": 126,
    "start_time": "2021-10-13T22:26:26.811Z"
   },
   {
    "duration": 8,
    "start_time": "2021-10-13T22:26:26.939Z"
   },
   {
    "duration": 6,
    "start_time": "2021-10-13T22:26:26.949Z"
   },
   {
    "duration": 25,
    "start_time": "2021-10-13T22:26:26.957Z"
   },
   {
    "duration": 5,
    "start_time": "2021-10-13T22:26:26.984Z"
   },
   {
    "duration": 6,
    "start_time": "2021-10-13T22:26:26.991Z"
   },
   {
    "duration": 10,
    "start_time": "2021-10-13T22:26:26.999Z"
   },
   {
    "duration": 6,
    "start_time": "2021-10-13T22:26:27.011Z"
   },
   {
    "duration": 16,
    "start_time": "2021-10-13T22:26:27.019Z"
   },
   {
    "duration": 80,
    "start_time": "2021-10-13T22:26:27.037Z"
   },
   {
    "duration": 14,
    "start_time": "2021-10-13T22:26:27.118Z"
   },
   {
    "duration": 50,
    "start_time": "2021-10-13T22:26:27.133Z"
   },
   {
    "duration": 101,
    "start_time": "2021-10-13T22:26:27.184Z"
   },
   {
    "duration": 39,
    "start_time": "2021-10-13T22:26:27.287Z"
   },
   {
    "duration": 22,
    "start_time": "2021-10-13T22:26:27.328Z"
   },
   {
    "duration": 34,
    "start_time": "2021-10-13T22:26:27.352Z"
   },
   {
    "duration": 4,
    "start_time": "2021-10-13T22:26:27.387Z"
   },
   {
    "duration": 4,
    "start_time": "2021-10-13T22:26:27.395Z"
   },
   {
    "duration": 5,
    "start_time": "2021-10-13T22:26:27.401Z"
   },
   {
    "duration": 17,
    "start_time": "2021-10-13T22:26:27.408Z"
   },
   {
    "duration": 74,
    "start_time": "2021-10-13T22:26:27.426Z"
   },
   {
    "duration": 5,
    "start_time": "2021-10-13T22:26:27.501Z"
   },
   {
    "duration": 8,
    "start_time": "2021-10-13T22:26:27.508Z"
   },
   {
    "duration": 29,
    "start_time": "2021-10-13T22:26:27.518Z"
   },
   {
    "duration": 50,
    "start_time": "2021-10-13T22:26:27.548Z"
   },
   {
    "duration": 39,
    "start_time": "2021-10-13T22:26:27.599Z"
   },
   {
    "duration": 39,
    "start_time": "2021-10-13T22:26:27.640Z"
   },
   {
    "duration": 11,
    "start_time": "2021-10-13T22:26:27.681Z"
   },
   {
    "duration": 11,
    "start_time": "2021-10-13T22:26:27.694Z"
   },
   {
    "duration": 23,
    "start_time": "2021-10-13T22:26:27.707Z"
   },
   {
    "duration": 1387,
    "start_time": "2021-10-13T22:26:27.731Z"
   },
   {
    "duration": -773,
    "start_time": "2021-10-13T22:26:29.893Z"
   },
   {
    "duration": -797,
    "start_time": "2021-10-13T22:26:29.918Z"
   },
   {
    "duration": 935,
    "start_time": "2021-10-13T22:26:41.647Z"
   },
   {
    "duration": 20,
    "start_time": "2021-10-13T22:26:46.218Z"
   },
   {
    "duration": 221,
    "start_time": "2021-10-13T22:27:12.572Z"
   },
   {
    "duration": 105,
    "start_time": "2021-10-13T22:27:37.000Z"
   },
   {
    "duration": 977,
    "start_time": "2021-10-14T21:08:19.930Z"
   },
   {
    "duration": 25,
    "start_time": "2021-10-14T21:08:20.910Z"
   },
   {
    "duration": 50,
    "start_time": "2021-10-14T21:08:20.939Z"
   },
   {
    "duration": 223,
    "start_time": "2021-10-14T21:08:20.992Z"
   },
   {
    "duration": 144,
    "start_time": "2021-10-14T21:08:21.218Z"
   },
   {
    "duration": 196,
    "start_time": "2021-10-14T21:08:21.365Z"
   },
   {
    "duration": 19,
    "start_time": "2021-10-14T21:08:21.564Z"
   },
   {
    "duration": 8,
    "start_time": "2021-10-14T21:08:21.587Z"
   },
   {
    "duration": 19,
    "start_time": "2021-10-14T21:08:21.598Z"
   },
   {
    "duration": 9,
    "start_time": "2021-10-14T21:08:21.619Z"
   },
   {
    "duration": 9,
    "start_time": "2021-10-14T21:08:21.630Z"
   },
   {
    "duration": 48,
    "start_time": "2021-10-14T21:08:21.642Z"
   },
   {
    "duration": 11,
    "start_time": "2021-10-14T21:08:21.694Z"
   },
   {
    "duration": 18,
    "start_time": "2021-10-14T21:08:21.708Z"
   },
   {
    "duration": 110,
    "start_time": "2021-10-14T21:08:21.728Z"
   },
   {
    "duration": 23,
    "start_time": "2021-10-14T21:08:21.840Z"
   },
   {
    "duration": 61,
    "start_time": "2021-10-14T21:08:21.866Z"
   },
   {
    "duration": 152,
    "start_time": "2021-10-14T21:08:21.929Z"
   },
   {
    "duration": 61,
    "start_time": "2021-10-14T21:08:22.084Z"
   },
   {
    "duration": 51,
    "start_time": "2021-10-14T21:08:22.147Z"
   },
   {
    "duration": 28,
    "start_time": "2021-10-14T21:08:22.200Z"
   },
   {
    "duration": 5,
    "start_time": "2021-10-14T21:08:22.230Z"
   },
   {
    "duration": 6,
    "start_time": "2021-10-14T21:08:22.240Z"
   },
   {
    "duration": 8,
    "start_time": "2021-10-14T21:08:22.284Z"
   },
   {
    "duration": 25,
    "start_time": "2021-10-14T21:08:22.294Z"
   },
   {
    "duration": 76,
    "start_time": "2021-10-14T21:08:22.322Z"
   },
   {
    "duration": 7,
    "start_time": "2021-10-14T21:08:22.400Z"
   },
   {
    "duration": 9,
    "start_time": "2021-10-14T21:08:22.410Z"
   },
   {
    "duration": 68,
    "start_time": "2021-10-14T21:08:22.422Z"
   },
   {
    "duration": 37,
    "start_time": "2021-10-14T21:08:22.492Z"
   },
   {
    "duration": 84,
    "start_time": "2021-10-14T21:08:22.532Z"
   },
   {
    "duration": 19,
    "start_time": "2021-10-14T21:08:22.620Z"
   },
   {
    "duration": 43,
    "start_time": "2021-10-14T21:08:22.643Z"
   },
   {
    "duration": 21,
    "start_time": "2021-10-14T21:08:22.689Z"
   },
   {
    "duration": 34,
    "start_time": "2021-10-14T21:08:22.712Z"
   },
   {
    "duration": 1255,
    "start_time": "2021-10-14T21:08:22.748Z"
   },
   {
    "duration": -42,
    "start_time": "2021-10-14T21:08:24.049Z"
   },
   {
    "duration": 23,
    "start_time": "2021-10-14T21:13:57.794Z"
   },
   {
    "duration": 8,
    "start_time": "2021-10-14T21:14:08.559Z"
   },
   {
    "duration": 22,
    "start_time": "2021-10-14T21:15:53.560Z"
   },
   {
    "duration": 15,
    "start_time": "2021-10-14T21:16:03.721Z"
   },
   {
    "duration": 18,
    "start_time": "2021-10-14T21:16:14.407Z"
   },
   {
    "duration": 29,
    "start_time": "2021-10-14T21:17:17.825Z"
   },
   {
    "duration": 18,
    "start_time": "2021-10-14T21:17:34.917Z"
   },
   {
    "duration": 31,
    "start_time": "2021-10-14T21:18:01.897Z"
   },
   {
    "duration": 14,
    "start_time": "2021-10-14T21:22:35.953Z"
   },
   {
    "duration": 16,
    "start_time": "2021-10-14T21:23:58.305Z"
   },
   {
    "duration": 19,
    "start_time": "2021-10-14T21:34:30.441Z"
   },
   {
    "duration": 30,
    "start_time": "2021-10-14T21:34:53.110Z"
   },
   {
    "duration": 1088,
    "start_time": "2021-10-15T09:39:16.490Z"
   },
   {
    "duration": 26,
    "start_time": "2021-10-15T09:39:17.581Z"
   },
   {
    "duration": 39,
    "start_time": "2021-10-15T09:39:17.610Z"
   },
   {
    "duration": 260,
    "start_time": "2021-10-15T09:39:17.652Z"
   },
   {
    "duration": 156,
    "start_time": "2021-10-15T09:39:17.914Z"
   },
   {
    "duration": 193,
    "start_time": "2021-10-15T09:39:18.072Z"
   },
   {
    "duration": 12,
    "start_time": "2021-10-15T09:39:18.268Z"
   },
   {
    "duration": 23,
    "start_time": "2021-10-15T09:39:18.284Z"
   },
   {
    "duration": 19,
    "start_time": "2021-10-15T09:39:18.310Z"
   },
   {
    "duration": 5,
    "start_time": "2021-10-15T09:39:18.331Z"
   },
   {
    "duration": 11,
    "start_time": "2021-10-15T09:39:18.338Z"
   },
   {
    "duration": 50,
    "start_time": "2021-10-15T09:39:18.352Z"
   },
   {
    "duration": 9,
    "start_time": "2021-10-15T09:39:18.404Z"
   },
   {
    "duration": 18,
    "start_time": "2021-10-15T09:39:18.415Z"
   },
   {
    "duration": 83,
    "start_time": "2021-10-15T09:39:26.072Z"
   },
   {
    "duration": 336,
    "start_time": "2021-10-15T10:34:11.650Z"
   },
   {
    "duration": 16,
    "start_time": "2021-10-15T10:34:11.988Z"
   },
   {
    "duration": 47,
    "start_time": "2021-10-15T10:34:12.008Z"
   },
   {
    "duration": 261,
    "start_time": "2021-10-15T10:34:12.059Z"
   },
   {
    "duration": 164,
    "start_time": "2021-10-15T10:34:12.323Z"
   },
   {
    "duration": 216,
    "start_time": "2021-10-15T10:34:12.490Z"
   },
   {
    "duration": 15,
    "start_time": "2021-10-15T10:34:12.709Z"
   },
   {
    "duration": 11,
    "start_time": "2021-10-15T10:34:12.729Z"
   },
   {
    "duration": 60,
    "start_time": "2021-10-15T10:34:12.744Z"
   },
   {
    "duration": 6,
    "start_time": "2021-10-15T10:34:12.807Z"
   },
   {
    "duration": 11,
    "start_time": "2021-10-15T10:34:12.816Z"
   },
   {
    "duration": 15,
    "start_time": "2021-10-15T10:34:12.830Z"
   },
   {
    "duration": 13,
    "start_time": "2021-10-15T10:34:12.848Z"
   },
   {
    "duration": 51,
    "start_time": "2021-10-15T10:34:12.863Z"
   },
   {
    "duration": 703,
    "start_time": "2021-10-15T10:34:12.917Z"
   },
   {
    "duration": -2248,
    "start_time": "2021-10-15T10:34:15.873Z"
   },
   {
    "duration": -2261,
    "start_time": "2021-10-15T10:34:15.888Z"
   },
   {
    "duration": -2274,
    "start_time": "2021-10-15T10:34:15.903Z"
   },
   {
    "duration": -2283,
    "start_time": "2021-10-15T10:34:15.914Z"
   },
   {
    "duration": -2293,
    "start_time": "2021-10-15T10:34:15.927Z"
   },
   {
    "duration": -2301,
    "start_time": "2021-10-15T10:34:15.938Z"
   },
   {
    "duration": -2387,
    "start_time": "2021-10-15T10:34:16.026Z"
   },
   {
    "duration": -2398,
    "start_time": "2021-10-15T10:34:16.039Z"
   },
   {
    "duration": -2407,
    "start_time": "2021-10-15T10:34:16.050Z"
   },
   {
    "duration": -2415,
    "start_time": "2021-10-15T10:34:16.060Z"
   },
   {
    "duration": -2425,
    "start_time": "2021-10-15T10:34:16.073Z"
   },
   {
    "duration": -2437,
    "start_time": "2021-10-15T10:34:16.087Z"
   },
   {
    "duration": -2451,
    "start_time": "2021-10-15T10:34:16.103Z"
   },
   {
    "duration": -2417,
    "start_time": "2021-10-15T10:34:16.118Z"
   },
   {
    "duration": -2455,
    "start_time": "2021-10-15T10:34:16.158Z"
   },
   {
    "duration": -2469,
    "start_time": "2021-10-15T10:34:16.175Z"
   },
   {
    "duration": -2485,
    "start_time": "2021-10-15T10:34:16.193Z"
   },
   {
    "duration": -2500,
    "start_time": "2021-10-15T10:34:16.210Z"
   },
   {
    "duration": -2517,
    "start_time": "2021-10-15T10:34:16.230Z"
   },
   {
    "duration": -2533,
    "start_time": "2021-10-15T10:34:16.248Z"
   },
   {
    "duration": -2560,
    "start_time": "2021-10-15T10:34:16.277Z"
   },
   {
    "duration": -2571,
    "start_time": "2021-10-15T10:34:16.290Z"
   },
   {
    "duration": -2582,
    "start_time": "2021-10-15T10:34:16.304Z"
   },
   {
    "duration": 4951,
    "start_time": "2021-10-15T10:45:06.940Z"
   },
   {
    "duration": 4748,
    "start_time": "2021-10-15T10:45:37.347Z"
   },
   {
    "duration": 2226,
    "start_time": "2021-10-15T10:46:02.895Z"
   },
   {
    "duration": -2117,
    "start_time": "2021-10-15T10:48:30.619Z"
   },
   {
    "duration": 2327,
    "start_time": "2021-10-15T10:48:35.783Z"
   },
   {
    "duration": 8961,
    "start_time": "2021-10-15T10:50:39.890Z"
   },
   {
    "duration": 9047,
    "start_time": "2021-10-15T10:51:31.741Z"
   },
   {
    "duration": 2309,
    "start_time": "2021-10-15T10:53:31.414Z"
   },
   {
    "duration": 4893,
    "start_time": "2021-10-15T10:53:55.798Z"
   },
   {
    "duration": 304,
    "start_time": "2021-10-15T10:54:24.601Z"
   },
   {
    "duration": 93,
    "start_time": "2021-10-15T10:54:43.478Z"
   },
   {
    "duration": 83,
    "start_time": "2021-10-15T10:57:23.746Z"
   },
   {
    "duration": 563,
    "start_time": "2021-10-15T10:57:46.210Z"
   },
   {
    "duration": 51,
    "start_time": "2021-10-15T10:58:22.805Z"
   },
   {
    "duration": 139,
    "start_time": "2021-10-15T10:58:23.424Z"
   },
   {
    "duration": 308,
    "start_time": "2021-10-15T11:01:52.993Z"
   },
   {
    "duration": 558,
    "start_time": "2021-10-15T11:02:26.183Z"
   },
   {
    "duration": 320,
    "start_time": "2021-10-15T11:02:45.050Z"
   },
   {
    "duration": 1493,
    "start_time": "2021-10-15T11:02:50.826Z"
   },
   {
    "duration": 586,
    "start_time": "2021-10-15T11:03:05.891Z"
   },
   {
    "duration": 557,
    "start_time": "2021-10-15T11:04:03.265Z"
   },
   {
    "duration": 549,
    "start_time": "2021-10-15T11:04:18.164Z"
   },
   {
    "duration": 390,
    "start_time": "2021-10-15T11:12:04.250Z"
   },
   {
    "duration": 1187,
    "start_time": "2021-10-15T11:12:15.735Z"
   },
   {
    "duration": 22,
    "start_time": "2021-10-15T11:12:16.926Z"
   },
   {
    "duration": 59,
    "start_time": "2021-10-15T11:12:16.952Z"
   },
   {
    "duration": 254,
    "start_time": "2021-10-15T11:12:17.015Z"
   },
   {
    "duration": 173,
    "start_time": "2021-10-15T11:12:17.272Z"
   },
   {
    "duration": 202,
    "start_time": "2021-10-15T11:12:17.447Z"
   },
   {
    "duration": 13,
    "start_time": "2021-10-15T11:12:17.651Z"
   },
   {
    "duration": 23,
    "start_time": "2021-10-15T11:12:17.667Z"
   },
   {
    "duration": 18,
    "start_time": "2021-10-15T11:12:17.700Z"
   },
   {
    "duration": 5,
    "start_time": "2021-10-15T11:12:17.721Z"
   },
   {
    "duration": 15,
    "start_time": "2021-10-15T11:12:17.729Z"
   },
   {
    "duration": 25,
    "start_time": "2021-10-15T11:12:17.747Z"
   },
   {
    "duration": 33,
    "start_time": "2021-10-15T11:12:17.775Z"
   },
   {
    "duration": 18,
    "start_time": "2021-10-15T11:12:17.811Z"
   },
   {
    "duration": 427,
    "start_time": "2021-10-15T11:12:17.831Z"
   },
   {
    "duration": -2428,
    "start_time": "2021-10-15T11:12:20.689Z"
   },
   {
    "duration": -2437,
    "start_time": "2021-10-15T11:12:20.699Z"
   },
   {
    "duration": -2445,
    "start_time": "2021-10-15T11:12:20.709Z"
   },
   {
    "duration": -2463,
    "start_time": "2021-10-15T11:12:20.728Z"
   },
   {
    "duration": -2472,
    "start_time": "2021-10-15T11:12:20.738Z"
   },
   {
    "duration": -2479,
    "start_time": "2021-10-15T11:12:20.747Z"
   },
   {
    "duration": -2487,
    "start_time": "2021-10-15T11:12:20.757Z"
   },
   {
    "duration": -2494,
    "start_time": "2021-10-15T11:12:20.765Z"
   },
   {
    "duration": -2502,
    "start_time": "2021-10-15T11:12:20.775Z"
   },
   {
    "duration": -2515,
    "start_time": "2021-10-15T11:12:20.789Z"
   },
   {
    "duration": -2524,
    "start_time": "2021-10-15T11:12:20.800Z"
   },
   {
    "duration": -2534,
    "start_time": "2021-10-15T11:12:20.812Z"
   },
   {
    "duration": -2544,
    "start_time": "2021-10-15T11:12:20.824Z"
   },
   {
    "duration": -2567,
    "start_time": "2021-10-15T11:12:20.848Z"
   },
   {
    "duration": -2575,
    "start_time": "2021-10-15T11:12:20.857Z"
   },
   {
    "duration": -2582,
    "start_time": "2021-10-15T11:12:20.866Z"
   },
   {
    "duration": -2598,
    "start_time": "2021-10-15T11:12:20.883Z"
   },
   {
    "duration": -2611,
    "start_time": "2021-10-15T11:12:20.897Z"
   },
   {
    "duration": -2625,
    "start_time": "2021-10-15T11:12:20.913Z"
   },
   {
    "duration": -2640,
    "start_time": "2021-10-15T11:12:20.929Z"
   },
   {
    "duration": -2654,
    "start_time": "2021-10-15T11:12:20.944Z"
   },
   {
    "duration": -2700,
    "start_time": "2021-10-15T11:12:20.992Z"
   },
   {
    "duration": 350,
    "start_time": "2021-10-15T11:12:47.303Z"
   },
   {
    "duration": 646,
    "start_time": "2021-10-15T11:14:07.621Z"
   },
   {
    "duration": 360,
    "start_time": "2021-10-15T11:14:39.766Z"
   },
   {
    "duration": 42,
    "start_time": "2021-10-15T11:15:34.331Z"
   },
   {
    "duration": 704,
    "start_time": "2021-10-15T11:16:10.184Z"
   },
   {
    "duration": 361,
    "start_time": "2021-10-15T11:16:28.174Z"
   },
   {
    "duration": 6404,
    "start_time": "2021-10-15T11:17:19.353Z"
   },
   {
    "duration": 940,
    "start_time": "2021-10-15T11:17:46.163Z"
   },
   {
    "duration": 1032,
    "start_time": "2021-10-15T11:20:24.822Z"
   },
   {
    "duration": 86,
    "start_time": "2021-10-15T11:20:49.567Z"
   },
   {
    "duration": 6,
    "start_time": "2021-10-15T11:21:08.079Z"
   },
   {
    "duration": 14,
    "start_time": "2021-10-15T11:21:17.854Z"
   },
   {
    "duration": 1064,
    "start_time": "2021-10-15T11:21:54.461Z"
   },
   {
    "duration": 1600,
    "start_time": "2021-10-15T11:22:02.612Z"
   },
   {
    "duration": 2577,
    "start_time": "2021-10-15T11:22:17.191Z"
   },
   {
    "duration": 48,
    "start_time": "2021-10-15T11:24:03.162Z"
   },
   {
    "duration": 136,
    "start_time": "2021-10-15T11:24:04.028Z"
   },
   {
    "duration": 68,
    "start_time": "2021-10-15T11:40:56.188Z"
   },
   {
    "duration": 41,
    "start_time": "2021-10-15T11:40:56.605Z"
   },
   {
    "duration": 33,
    "start_time": "2021-10-15T11:40:57.010Z"
   },
   {
    "duration": 291,
    "start_time": "2021-10-15T11:41:24.320Z"
   },
   {
    "duration": 347,
    "start_time": "2021-10-15T11:42:46.856Z"
   },
   {
    "duration": 295,
    "start_time": "2021-10-15T11:42:56.965Z"
   },
   {
    "duration": 6,
    "start_time": "2021-10-15T11:43:16.900Z"
   },
   {
    "duration": 6,
    "start_time": "2021-10-15T11:44:11.310Z"
   },
   {
    "duration": 8,
    "start_time": "2021-10-15T11:44:11.809Z"
   },
   {
    "duration": 24,
    "start_time": "2021-10-15T11:44:12.365Z"
   },
   {
    "duration": 34,
    "start_time": "2021-10-15T12:54:58.675Z"
   },
   {
    "duration": 32,
    "start_time": "2021-10-15T12:55:17.657Z"
   },
   {
    "duration": 114,
    "start_time": "2021-10-15T13:02:26.940Z"
   },
   {
    "duration": 122,
    "start_time": "2021-10-15T13:02:41.670Z"
   },
   {
    "duration": 3236,
    "start_time": "2021-10-15T13:03:57.604Z"
   },
   {
    "duration": 60,
    "start_time": "2021-10-15T13:05:30.229Z"
   },
   {
    "duration": 56,
    "start_time": "2021-10-15T13:05:37.132Z"
   },
   {
    "duration": 15,
    "start_time": "2021-10-15T13:05:50.483Z"
   },
   {
    "duration": 63,
    "start_time": "2021-10-15T13:06:00.528Z"
   },
   {
    "duration": 120,
    "start_time": "2021-10-15T13:06:22.447Z"
   },
   {
    "duration": 36,
    "start_time": "2021-10-15T13:07:06.454Z"
   },
   {
    "duration": 8,
    "start_time": "2021-10-15T13:07:24.381Z"
   },
   {
    "duration": 8,
    "start_time": "2021-10-15T13:07:30.031Z"
   },
   {
    "duration": 60,
    "start_time": "2021-10-15T13:09:39.843Z"
   },
   {
    "duration": 52,
    "start_time": "2021-10-15T13:10:03.360Z"
   },
   {
    "duration": 43,
    "start_time": "2021-10-15T13:10:28.379Z"
   },
   {
    "duration": 45,
    "start_time": "2021-10-15T13:10:39.393Z"
   },
   {
    "duration": 50,
    "start_time": "2021-10-15T13:10:54.171Z"
   },
   {
    "duration": 60,
    "start_time": "2021-10-15T13:11:01.261Z"
   },
   {
    "duration": 34,
    "start_time": "2021-10-15T13:11:59.284Z"
   },
   {
    "duration": 33,
    "start_time": "2021-10-15T13:12:23.300Z"
   },
   {
    "duration": 14,
    "start_time": "2021-10-15T13:12:31.973Z"
   },
   {
    "duration": 36,
    "start_time": "2021-10-15T13:12:51.880Z"
   },
   {
    "duration": 1160,
    "start_time": "2021-10-15T13:24:44.739Z"
   },
   {
    "duration": 19,
    "start_time": "2021-10-15T13:24:45.902Z"
   },
   {
    "duration": 42,
    "start_time": "2021-10-15T13:24:45.924Z"
   },
   {
    "duration": 249,
    "start_time": "2021-10-15T13:24:45.969Z"
   },
   {
    "duration": 159,
    "start_time": "2021-10-15T13:24:46.221Z"
   },
   {
    "duration": 2,
    "start_time": "2021-10-15T13:24:46.383Z"
   },
   {
    "duration": 16,
    "start_time": "2021-10-15T13:24:46.388Z"
   },
   {
    "duration": 13,
    "start_time": "2021-10-15T13:24:46.407Z"
   },
   {
    "duration": 17,
    "start_time": "2021-10-15T13:24:46.422Z"
   },
   {
    "duration": 5,
    "start_time": "2021-10-15T13:24:46.441Z"
   },
   {
    "duration": 8,
    "start_time": "2021-10-15T13:24:46.448Z"
   },
   {
    "duration": 53,
    "start_time": "2021-10-15T13:24:46.458Z"
   },
   {
    "duration": 15,
    "start_time": "2021-10-15T13:24:46.513Z"
   },
   {
    "duration": 27,
    "start_time": "2021-10-15T13:24:46.530Z"
   },
   {
    "duration": 2467,
    "start_time": "2021-10-15T13:24:46.559Z"
   },
   {
    "duration": 129,
    "start_time": "2021-10-15T13:24:49.029Z"
   },
   {
    "duration": 55,
    "start_time": "2021-10-15T13:24:49.161Z"
   },
   {
    "duration": 155,
    "start_time": "2021-10-15T13:24:49.219Z"
   },
   {
    "duration": 36,
    "start_time": "2021-10-15T13:24:54.202Z"
   },
   {
    "duration": 32,
    "start_time": "2021-10-15T13:25:03.441Z"
   },
   {
    "duration": 61,
    "start_time": "2021-10-15T13:25:09.316Z"
   },
   {
    "duration": 189,
    "start_time": "2021-10-15T13:25:31.485Z"
   },
   {
    "duration": 20,
    "start_time": "2021-10-15T13:27:16.376Z"
   },
   {
    "duration": 20,
    "start_time": "2021-10-15T13:27:22.647Z"
   },
   {
    "duration": 33,
    "start_time": "2021-10-15T13:27:27.868Z"
   },
   {
    "duration": 423,
    "start_time": "2021-10-15T13:29:20.138Z"
   },
   {
    "duration": 89,
    "start_time": "2021-10-15T13:30:11.053Z"
   },
   {
    "duration": 78,
    "start_time": "2021-10-15T13:30:54.575Z"
   },
   {
    "duration": 78,
    "start_time": "2021-10-15T13:32:10.216Z"
   },
   {
    "duration": 375,
    "start_time": "2021-10-15T13:32:24.675Z"
   },
   {
    "duration": 358,
    "start_time": "2021-10-15T13:32:46.568Z"
   },
   {
    "duration": 336,
    "start_time": "2021-10-15T13:32:57.542Z"
   },
   {
    "duration": 88,
    "start_time": "2021-10-15T13:33:11.624Z"
   },
   {
    "duration": 7927,
    "start_time": "2021-10-15T13:33:45.103Z"
   },
   {
    "duration": 84,
    "start_time": "2021-10-15T13:34:00.868Z"
   },
   {
    "duration": 322,
    "start_time": "2021-10-15T13:34:13.891Z"
   },
   {
    "duration": 79,
    "start_time": "2021-10-15T13:34:27.009Z"
   },
   {
    "duration": 140,
    "start_time": "2021-10-15T13:34:51.221Z"
   },
   {
    "duration": 79,
    "start_time": "2021-10-15T13:34:54.310Z"
   },
   {
    "duration": 341,
    "start_time": "2021-10-15T13:35:36.867Z"
   },
   {
    "duration": 18,
    "start_time": "2021-10-15T13:35:37.212Z"
   },
   {
    "duration": 41,
    "start_time": "2021-10-15T13:35:37.234Z"
   },
   {
    "duration": 272,
    "start_time": "2021-10-15T13:35:37.279Z"
   },
   {
    "duration": 164,
    "start_time": "2021-10-15T13:35:37.554Z"
   },
   {
    "duration": 207,
    "start_time": "2021-10-15T13:35:37.721Z"
   },
   {
    "duration": 12,
    "start_time": "2021-10-15T13:35:37.931Z"
   },
   {
    "duration": 18,
    "start_time": "2021-10-15T13:35:37.948Z"
   },
   {
    "duration": 37,
    "start_time": "2021-10-15T13:35:37.969Z"
   },
   {
    "duration": 7,
    "start_time": "2021-10-15T13:35:38.009Z"
   },
   {
    "duration": 20,
    "start_time": "2021-10-15T13:35:38.018Z"
   },
   {
    "duration": 24,
    "start_time": "2021-10-15T13:35:38.041Z"
   },
   {
    "duration": 17,
    "start_time": "2021-10-15T13:35:38.068Z"
   },
   {
    "duration": 22,
    "start_time": "2021-10-15T13:35:38.087Z"
   },
   {
    "duration": 2589,
    "start_time": "2021-10-15T13:35:38.112Z"
   },
   {
    "duration": 98,
    "start_time": "2021-10-15T13:35:40.704Z"
   },
   {
    "duration": 50,
    "start_time": "2021-10-15T13:35:40.806Z"
   },
   {
    "duration": 181,
    "start_time": "2021-10-15T13:35:40.859Z"
   },
   {
    "duration": 32,
    "start_time": "2021-10-15T13:35:41.042Z"
   },
   {
    "duration": 62,
    "start_time": "2021-10-15T13:35:41.076Z"
   },
   {
    "duration": 139,
    "start_time": "2021-10-15T13:35:41.140Z"
   },
   {
    "duration": 92,
    "start_time": "2021-10-15T13:35:46.427Z"
   },
   {
    "duration": 375,
    "start_time": "2021-10-15T13:36:25.780Z"
   },
   {
    "duration": 57,
    "start_time": "2021-10-15T13:36:42.040Z"
   },
   {
    "duration": 47,
    "start_time": "2021-10-15T13:37:27.704Z"
   },
   {
    "duration": 378,
    "start_time": "2021-10-15T13:38:05.592Z"
   },
   {
    "duration": 62,
    "start_time": "2021-10-15T13:38:18.543Z"
   },
   {
    "duration": 1199,
    "start_time": "2021-10-15T13:39:06.661Z"
   },
   {
    "duration": 22,
    "start_time": "2021-10-15T13:39:07.863Z"
   },
   {
    "duration": 49,
    "start_time": "2021-10-15T13:39:07.888Z"
   },
   {
    "duration": 244,
    "start_time": "2021-10-15T13:39:07.940Z"
   },
   {
    "duration": 167,
    "start_time": "2021-10-15T13:39:08.187Z"
   },
   {
    "duration": 204,
    "start_time": "2021-10-15T13:39:08.356Z"
   },
   {
    "duration": 13,
    "start_time": "2021-10-15T13:39:08.562Z"
   },
   {
    "duration": 23,
    "start_time": "2021-10-15T13:39:08.579Z"
   },
   {
    "duration": 20,
    "start_time": "2021-10-15T13:39:08.606Z"
   },
   {
    "duration": 6,
    "start_time": "2021-10-15T13:39:08.629Z"
   },
   {
    "duration": 13,
    "start_time": "2021-10-15T13:39:08.637Z"
   },
   {
    "duration": 62,
    "start_time": "2021-10-15T13:39:08.653Z"
   },
   {
    "duration": 9,
    "start_time": "2021-10-15T13:39:08.718Z"
   },
   {
    "duration": 18,
    "start_time": "2021-10-15T13:39:08.729Z"
   },
   {
    "duration": 2487,
    "start_time": "2021-10-15T13:39:08.750Z"
   },
   {
    "duration": 111,
    "start_time": "2021-10-15T13:39:11.241Z"
   },
   {
    "duration": 65,
    "start_time": "2021-10-15T13:39:11.355Z"
   },
   {
    "duration": 158,
    "start_time": "2021-10-15T13:39:11.422Z"
   },
   {
    "duration": 72,
    "start_time": "2021-10-15T13:39:11.582Z"
   },
   {
    "duration": 49,
    "start_time": "2021-10-15T13:39:11.657Z"
   },
   {
    "duration": 32,
    "start_time": "2021-10-15T13:39:11.709Z"
   },
   {
    "duration": 333,
    "start_time": "2021-10-15T13:39:11.744Z"
   },
   {
    "duration": 22,
    "start_time": "2021-10-15T13:39:12.084Z"
   },
   {
    "duration": 10,
    "start_time": "2021-10-15T13:39:12.109Z"
   },
   {
    "duration": 18,
    "start_time": "2021-10-15T13:39:12.121Z"
   },
   {
    "duration": 26,
    "start_time": "2021-10-15T13:39:12.142Z"
   },
   {
    "duration": 86,
    "start_time": "2021-10-15T13:39:12.171Z"
   },
   {
    "duration": 8,
    "start_time": "2021-10-15T13:39:12.259Z"
   },
   {
    "duration": 40,
    "start_time": "2021-10-15T13:39:12.269Z"
   },
   {
    "duration": 47,
    "start_time": "2021-10-15T13:39:12.311Z"
   },
   {
    "duration": 61,
    "start_time": "2021-10-15T13:39:12.360Z"
   },
   {
    "duration": 58,
    "start_time": "2021-10-15T13:39:12.424Z"
   },
   {
    "duration": 37,
    "start_time": "2021-10-15T13:39:12.485Z"
   },
   {
    "duration": 17,
    "start_time": "2021-10-15T13:39:12.524Z"
   },
   {
    "duration": 18,
    "start_time": "2021-10-15T13:39:12.543Z"
   },
   {
    "duration": 70,
    "start_time": "2021-10-15T13:39:12.563Z"
   },
   {
    "duration": 1287,
    "start_time": "2021-10-15T13:39:12.636Z"
   },
   {
    "duration": -2185,
    "start_time": "2021-10-15T13:39:16.111Z"
   },
   {
    "duration": 25,
    "start_time": "2021-10-15T13:52:31.392Z"
   },
   {
    "duration": 99,
    "start_time": "2021-10-15T13:52:47.340Z"
   },
   {
    "duration": 24,
    "start_time": "2021-10-15T13:54:28.321Z"
   },
   {
    "duration": 71,
    "start_time": "2021-10-15T13:54:52.513Z"
   },
   {
    "duration": 61,
    "start_time": "2021-10-15T13:57:03.121Z"
   },
   {
    "duration": 19,
    "start_time": "2021-10-15T13:57:25.778Z"
   },
   {
    "duration": 18,
    "start_time": "2021-10-15T13:57:42.038Z"
   },
   {
    "duration": 20,
    "start_time": "2021-10-15T13:58:42.220Z"
   },
   {
    "duration": 30,
    "start_time": "2021-10-15T13:59:38.797Z"
   },
   {
    "duration": 95,
    "start_time": "2021-10-15T14:00:00.075Z"
   },
   {
    "duration": 25,
    "start_time": "2021-10-15T14:00:46.549Z"
   },
   {
    "duration": 27,
    "start_time": "2021-10-15T14:00:59.309Z"
   },
   {
    "duration": 25,
    "start_time": "2021-10-15T14:01:27.400Z"
   },
   {
    "duration": 35,
    "start_time": "2021-10-15T14:01:36.285Z"
   },
   {
    "duration": 17,
    "start_time": "2021-10-15T14:01:55.227Z"
   },
   {
    "duration": 126,
    "start_time": "2021-10-15T14:03:09.626Z"
   },
   {
    "duration": 22,
    "start_time": "2021-10-15T14:03:27.244Z"
   },
   {
    "duration": 18,
    "start_time": "2021-10-15T14:03:41.128Z"
   },
   {
    "duration": 34,
    "start_time": "2021-10-15T14:04:03.807Z"
   },
   {
    "duration": 31,
    "start_time": "2021-10-15T14:04:18.194Z"
   },
   {
    "duration": 59,
    "start_time": "2021-10-15T14:05:18.679Z"
   },
   {
    "duration": 25,
    "start_time": "2021-10-15T14:05:40.884Z"
   },
   {
    "duration": 65,
    "start_time": "2021-10-15T14:05:49.715Z"
   },
   {
    "duration": 24,
    "start_time": "2021-10-15T14:06:27.288Z"
   },
   {
    "duration": 57,
    "start_time": "2021-10-15T14:06:39.401Z"
   },
   {
    "duration": 22,
    "start_time": "2021-10-15T14:07:01.764Z"
   },
   {
    "duration": 17,
    "start_time": "2021-10-15T14:07:29.435Z"
   },
   {
    "duration": 23,
    "start_time": "2021-10-15T14:07:55.559Z"
   },
   {
    "duration": 30,
    "start_time": "2021-10-15T14:08:44.200Z"
   },
   {
    "duration": 46,
    "start_time": "2021-10-15T14:08:50.659Z"
   },
   {
    "duration": 22,
    "start_time": "2021-10-15T14:09:11.441Z"
   },
   {
    "duration": 47,
    "start_time": "2021-10-15T14:09:23.053Z"
   },
   {
    "duration": 39,
    "start_time": "2021-10-15T14:09:32.205Z"
   },
   {
    "duration": 39,
    "start_time": "2021-10-15T14:10:05.721Z"
   },
   {
    "duration": 8,
    "start_time": "2021-10-15T14:10:44.959Z"
   },
   {
    "duration": 12,
    "start_time": "2021-10-15T14:10:55.568Z"
   },
   {
    "duration": 15,
    "start_time": "2021-10-15T14:11:05.008Z"
   },
   {
    "duration": 27,
    "start_time": "2021-10-15T14:11:20.549Z"
   },
   {
    "duration": 32,
    "start_time": "2021-10-15T14:12:02.836Z"
   },
   {
    "duration": 329,
    "start_time": "2021-10-15T14:12:19.049Z"
   },
   {
    "duration": 254,
    "start_time": "2021-10-15T14:12:57.060Z"
   },
   {
    "duration": 19,
    "start_time": "2021-10-15T14:13:05.914Z"
   },
   {
    "duration": 62,
    "start_time": "2021-10-15T14:13:57.615Z"
   },
   {
    "duration": 47,
    "start_time": "2021-10-15T14:15:11.418Z"
   },
   {
    "duration": 51,
    "start_time": "2021-10-15T14:15:28.490Z"
   },
   {
    "duration": 45,
    "start_time": "2021-10-15T14:16:05.916Z"
   },
   {
    "duration": 59,
    "start_time": "2021-10-15T14:16:27.738Z"
   },
   {
    "duration": 61,
    "start_time": "2021-10-15T14:17:42.403Z"
   },
   {
    "duration": 54,
    "start_time": "2021-10-15T14:17:56.368Z"
   },
   {
    "duration": 55,
    "start_time": "2021-10-15T14:18:06.439Z"
   },
   {
    "duration": 54,
    "start_time": "2021-10-15T14:18:16.234Z"
   },
   {
    "duration": 8,
    "start_time": "2021-10-15T14:19:10.485Z"
   },
   {
    "duration": 11,
    "start_time": "2021-10-15T14:23:31.951Z"
   },
   {
    "duration": 41,
    "start_time": "2021-10-15T14:23:40.389Z"
   },
   {
    "duration": 63,
    "start_time": "2021-10-15T14:24:12.029Z"
   },
   {
    "duration": 18,
    "start_time": "2021-10-15T14:27:57.427Z"
   },
   {
    "duration": 19,
    "start_time": "2021-10-15T14:28:38.746Z"
   },
   {
    "duration": 22,
    "start_time": "2021-10-15T14:28:43.620Z"
   },
   {
    "duration": 51,
    "start_time": "2021-10-15T14:30:11.607Z"
   },
   {
    "duration": 34,
    "start_time": "2021-10-15T14:30:22.729Z"
   },
   {
    "duration": 15,
    "start_time": "2021-10-15T14:30:50.836Z"
   },
   {
    "duration": 347,
    "start_time": "2021-10-15T14:31:01.408Z"
   },
   {
    "duration": 14,
    "start_time": "2021-10-15T14:31:06.632Z"
   },
   {
    "duration": 30,
    "start_time": "2021-10-15T14:31:15.244Z"
   },
   {
    "duration": 52,
    "start_time": "2021-10-15T14:32:28.942Z"
   },
   {
    "duration": 57,
    "start_time": "2021-10-15T14:32:39.543Z"
   },
   {
    "duration": 1221,
    "start_time": "2021-10-15T14:48:33.579Z"
   },
   {
    "duration": 20,
    "start_time": "2021-10-15T14:48:34.803Z"
   },
   {
    "duration": 41,
    "start_time": "2021-10-15T14:48:34.826Z"
   },
   {
    "duration": 259,
    "start_time": "2021-10-15T14:48:34.870Z"
   },
   {
    "duration": 160,
    "start_time": "2021-10-15T14:48:35.132Z"
   },
   {
    "duration": 215,
    "start_time": "2021-10-15T14:48:35.295Z"
   },
   {
    "duration": 12,
    "start_time": "2021-10-15T14:48:35.513Z"
   },
   {
    "duration": 10,
    "start_time": "2021-10-15T14:48:35.529Z"
   },
   {
    "duration": 21,
    "start_time": "2021-10-15T14:48:35.542Z"
   },
   {
    "duration": 35,
    "start_time": "2021-10-15T14:48:35.566Z"
   },
   {
    "duration": 9,
    "start_time": "2021-10-15T14:48:35.604Z"
   },
   {
    "duration": 17,
    "start_time": "2021-10-15T14:48:35.615Z"
   },
   {
    "duration": 13,
    "start_time": "2021-10-15T14:48:35.634Z"
   },
   {
    "duration": 17,
    "start_time": "2021-10-15T14:48:35.650Z"
   },
   {
    "duration": 2353,
    "start_time": "2021-10-15T14:48:35.700Z"
   },
   {
    "duration": 112,
    "start_time": "2021-10-15T14:48:38.056Z"
   },
   {
    "duration": 56,
    "start_time": "2021-10-15T14:48:38.170Z"
   },
   {
    "duration": 157,
    "start_time": "2021-10-15T14:48:38.228Z"
   },
   {
    "duration": 34,
    "start_time": "2021-10-15T14:48:38.387Z"
   },
   {
    "duration": 80,
    "start_time": "2021-10-15T14:48:38.423Z"
   },
   {
    "duration": 33,
    "start_time": "2021-10-15T14:48:42.169Z"
   },
   {
    "duration": 30,
    "start_time": "2021-10-15T14:48:45.042Z"
   },
   {
    "duration": 1242,
    "start_time": "2021-10-15T15:44:01.812Z"
   },
   {
    "duration": 21,
    "start_time": "2021-10-15T15:44:03.056Z"
   },
   {
    "duration": 49,
    "start_time": "2021-10-15T15:44:03.080Z"
   },
   {
    "duration": 236,
    "start_time": "2021-10-15T15:44:03.132Z"
   },
   {
    "duration": 165,
    "start_time": "2021-10-15T15:44:03.371Z"
   },
   {
    "duration": 202,
    "start_time": "2021-10-15T15:44:03.539Z"
   },
   {
    "duration": 13,
    "start_time": "2021-10-15T15:44:03.744Z"
   },
   {
    "duration": 9,
    "start_time": "2021-10-15T15:44:03.760Z"
   },
   {
    "duration": 43,
    "start_time": "2021-10-15T15:44:03.772Z"
   },
   {
    "duration": 5,
    "start_time": "2021-10-15T15:44:03.817Z"
   },
   {
    "duration": 12,
    "start_time": "2021-10-15T15:44:03.825Z"
   },
   {
    "duration": 17,
    "start_time": "2021-10-15T15:44:03.839Z"
   },
   {
    "duration": 44,
    "start_time": "2021-10-15T15:44:03.858Z"
   },
   {
    "duration": 13,
    "start_time": "2021-10-15T15:44:03.904Z"
   },
   {
    "duration": 2370,
    "start_time": "2021-10-15T15:44:03.920Z"
   },
   {
    "duration": 101,
    "start_time": "2021-10-15T15:44:06.300Z"
   },
   {
    "duration": 50,
    "start_time": "2021-10-15T15:44:06.404Z"
   },
   {
    "duration": 170,
    "start_time": "2021-10-15T15:44:06.457Z"
   },
   {
    "duration": 27,
    "start_time": "2021-10-15T15:44:06.630Z"
   },
   {
    "duration": 484,
    "start_time": "2021-10-15T15:44:06.660Z"
   },
   {
    "duration": -2420,
    "start_time": "2021-10-15T15:44:09.570Z"
   },
   {
    "duration": -2483,
    "start_time": "2021-10-15T15:44:09.635Z"
   },
   {
    "duration": -2532,
    "start_time": "2021-10-15T15:44:09.687Z"
   },
   {
    "duration": -2579,
    "start_time": "2021-10-15T15:44:09.736Z"
   },
   {
    "duration": -2626,
    "start_time": "2021-10-15T15:44:09.785Z"
   },
   {
    "duration": -2656,
    "start_time": "2021-10-15T15:44:09.818Z"
   },
   {
    "duration": -2703,
    "start_time": "2021-10-15T15:44:09.867Z"
   },
   {
    "duration": -2745,
    "start_time": "2021-10-15T15:44:09.911Z"
   },
   {
    "duration": -2774,
    "start_time": "2021-10-15T15:44:09.942Z"
   },
   {
    "duration": -2820,
    "start_time": "2021-10-15T15:44:09.990Z"
   },
   {
    "duration": -2833,
    "start_time": "2021-10-15T15:44:10.033Z"
   },
   {
    "duration": -2866,
    "start_time": "2021-10-15T15:44:10.069Z"
   },
   {
    "duration": -2904,
    "start_time": "2021-10-15T15:44:10.109Z"
   },
   {
    "duration": -2945,
    "start_time": "2021-10-15T15:44:10.153Z"
   },
   {
    "duration": -2954,
    "start_time": "2021-10-15T15:44:10.164Z"
   },
   {
    "duration": -2963,
    "start_time": "2021-10-15T15:44:10.175Z"
   },
   {
    "duration": -2970,
    "start_time": "2021-10-15T15:44:10.185Z"
   },
   {
    "duration": -2978,
    "start_time": "2021-10-15T15:44:10.195Z"
   },
   {
    "duration": -2987,
    "start_time": "2021-10-15T15:44:10.206Z"
   },
   {
    "duration": -2996,
    "start_time": "2021-10-15T15:44:10.217Z"
   },
   {
    "duration": -3004,
    "start_time": "2021-10-15T15:44:10.227Z"
   },
   {
    "duration": 402,
    "start_time": "2021-10-15T15:44:20.885Z"
   },
   {
    "duration": 376,
    "start_time": "2021-10-15T15:44:57.443Z"
   },
   {
    "duration": 62,
    "start_time": "2021-10-15T15:45:11.947Z"
   },
   {
    "duration": 26,
    "start_time": "2021-10-15T15:45:21.509Z"
   },
   {
    "duration": 348,
    "start_time": "2021-10-15T15:45:35.281Z"
   },
   {
    "duration": 30,
    "start_time": "2021-10-15T15:45:41.548Z"
   },
   {
    "duration": 29,
    "start_time": "2021-10-15T15:45:42.151Z"
   },
   {
    "duration": 1393,
    "start_time": "2021-10-15T15:49:14.979Z"
   },
   {
    "duration": 21,
    "start_time": "2021-10-15T15:49:16.375Z"
   },
   {
    "duration": 41,
    "start_time": "2021-10-15T15:49:16.400Z"
   },
   {
    "duration": 247,
    "start_time": "2021-10-15T15:49:16.444Z"
   },
   {
    "duration": 178,
    "start_time": "2021-10-15T15:49:16.701Z"
   },
   {
    "duration": 248,
    "start_time": "2021-10-15T15:49:16.882Z"
   },
   {
    "duration": 14,
    "start_time": "2021-10-15T15:49:17.132Z"
   },
   {
    "duration": 14,
    "start_time": "2021-10-15T15:49:17.150Z"
   },
   {
    "duration": 45,
    "start_time": "2021-10-15T15:49:17.167Z"
   },
   {
    "duration": 23,
    "start_time": "2021-10-15T15:49:17.215Z"
   },
   {
    "duration": 16,
    "start_time": "2021-10-15T15:49:17.241Z"
   },
   {
    "duration": 19,
    "start_time": "2021-10-15T15:49:17.260Z"
   },
   {
    "duration": 20,
    "start_time": "2021-10-15T15:49:17.281Z"
   },
   {
    "duration": 20,
    "start_time": "2021-10-15T15:49:17.304Z"
   },
   {
    "duration": 2640,
    "start_time": "2021-10-15T15:49:17.326Z"
   },
   {
    "duration": 103,
    "start_time": "2021-10-15T15:49:19.968Z"
   },
   {
    "duration": 65,
    "start_time": "2021-10-15T15:49:20.073Z"
   },
   {
    "duration": 148,
    "start_time": "2021-10-15T15:49:20.141Z"
   },
   {
    "duration": 29,
    "start_time": "2021-10-15T15:49:20.292Z"
   },
   {
    "duration": 26,
    "start_time": "2021-10-15T15:49:20.323Z"
   },
   {
    "duration": 49,
    "start_time": "2021-10-15T15:49:20.351Z"
   },
   {
    "duration": 18,
    "start_time": "2021-10-15T15:49:20.403Z"
   },
   {
    "duration": 319,
    "start_time": "2021-10-15T15:49:20.426Z"
   },
   {
    "duration": 6,
    "start_time": "2021-10-15T15:49:20.748Z"
   },
   {
    "duration": 21,
    "start_time": "2021-10-15T15:49:20.756Z"
   },
   {
    "duration": 25,
    "start_time": "2021-10-15T15:49:20.779Z"
   },
   {
    "duration": 23,
    "start_time": "2021-10-15T15:49:20.806Z"
   },
   {
    "duration": 30,
    "start_time": "2021-10-15T15:49:20.832Z"
   },
   {
    "duration": 9,
    "start_time": "2021-10-15T15:49:20.864Z"
   },
   {
    "duration": 28,
    "start_time": "2021-10-15T15:49:20.875Z"
   },
   {
    "duration": 11,
    "start_time": "2021-10-15T15:49:20.905Z"
   },
   {
    "duration": 46,
    "start_time": "2021-10-15T15:49:20.919Z"
   },
   {
    "duration": 85,
    "start_time": "2021-10-15T15:49:20.967Z"
   },
   {
    "duration": 22,
    "start_time": "2021-10-15T15:49:21.054Z"
   },
   {
    "duration": 34,
    "start_time": "2021-10-15T15:49:21.078Z"
   },
   {
    "duration": 31,
    "start_time": "2021-10-15T15:49:21.116Z"
   },
   {
    "duration": 64,
    "start_time": "2021-10-15T15:49:21.151Z"
   },
   {
    "duration": 1761,
    "start_time": "2021-10-15T15:49:21.218Z"
   },
   {
    "duration": -2216,
    "start_time": "2021-10-15T15:49:25.199Z"
   },
   {
    "duration": 99,
    "start_time": "2021-10-15T15:50:04.650Z"
   },
   {
    "duration": 351,
    "start_time": "2021-10-15T15:52:43.561Z"
   },
   {
    "duration": 342,
    "start_time": "2021-10-15T15:52:51.720Z"
   },
   {
    "duration": 393,
    "start_time": "2021-10-15T15:52:56.257Z"
   },
   {
    "duration": 43,
    "start_time": "2021-10-15T15:53:05.901Z"
   },
   {
    "duration": 299,
    "start_time": "2021-10-15T15:56:04.064Z"
   },
   {
    "duration": 8,
    "start_time": "2021-10-15T15:57:06.142Z"
   },
   {
    "duration": 315,
    "start_time": "2021-10-15T15:57:43.092Z"
   },
   {
    "duration": 7,
    "start_time": "2021-10-15T15:57:51.386Z"
   },
   {
    "duration": 3097,
    "start_time": "2021-10-15T15:58:33.266Z"
   },
   {
    "duration": 79,
    "start_time": "2021-10-15T15:59:36.225Z"
   },
   {
    "duration": 15,
    "start_time": "2021-10-15T15:59:55.028Z"
   },
   {
    "duration": 8999,
    "start_time": "2021-10-15T16:00:08.807Z"
   },
   {
    "duration": 12,
    "start_time": "2021-10-15T16:00:34.854Z"
   },
   {
    "duration": 315,
    "start_time": "2021-10-15T16:00:57.480Z"
   },
   {
    "duration": 66,
    "start_time": "2021-10-15T16:04:00.099Z"
   },
   {
    "duration": 317,
    "start_time": "2021-10-15T16:04:28.742Z"
   },
   {
    "duration": 1227,
    "start_time": "2021-10-15T16:04:43.803Z"
   },
   {
    "duration": 21,
    "start_time": "2021-10-15T16:04:45.032Z"
   },
   {
    "duration": 56,
    "start_time": "2021-10-15T16:04:45.057Z"
   },
   {
    "duration": 239,
    "start_time": "2021-10-15T16:04:45.117Z"
   },
   {
    "duration": 165,
    "start_time": "2021-10-15T16:04:45.358Z"
   },
   {
    "duration": 211,
    "start_time": "2021-10-15T16:04:45.526Z"
   },
   {
    "duration": 13,
    "start_time": "2021-10-15T16:04:45.739Z"
   },
   {
    "duration": 8,
    "start_time": "2021-10-15T16:04:45.755Z"
   },
   {
    "duration": 46,
    "start_time": "2021-10-15T16:04:45.766Z"
   },
   {
    "duration": 6,
    "start_time": "2021-10-15T16:04:45.814Z"
   },
   {
    "duration": 10,
    "start_time": "2021-10-15T16:04:45.822Z"
   },
   {
    "duration": 14,
    "start_time": "2021-10-15T16:04:45.834Z"
   },
   {
    "duration": 11,
    "start_time": "2021-10-15T16:04:45.851Z"
   },
   {
    "duration": 48,
    "start_time": "2021-10-15T16:04:45.864Z"
   },
   {
    "duration": 2358,
    "start_time": "2021-10-15T16:04:45.914Z"
   },
   {
    "duration": 102,
    "start_time": "2021-10-15T16:04:48.274Z"
   },
   {
    "duration": 61,
    "start_time": "2021-10-15T16:04:48.378Z"
   },
   {
    "duration": 157,
    "start_time": "2021-10-15T16:04:48.443Z"
   },
   {
    "duration": 24,
    "start_time": "2021-10-15T16:04:48.602Z"
   },
   {
    "duration": 329,
    "start_time": "2021-10-15T16:04:48.628Z"
   },
   {
    "duration": 87,
    "start_time": "2021-10-15T16:04:48.960Z"
   },
   {
    "duration": 73,
    "start_time": "2021-10-15T16:04:49.050Z"
   },
   {
    "duration": 16,
    "start_time": "2021-10-15T16:04:49.128Z"
   },
   {
    "duration": 14,
    "start_time": "2021-10-15T16:04:49.147Z"
   },
   {
    "duration": 345,
    "start_time": "2021-10-15T16:04:49.163Z"
   },
   {
    "duration": 6,
    "start_time": "2021-10-15T16:04:49.511Z"
   },
   {
    "duration": 10,
    "start_time": "2021-10-15T16:04:49.519Z"
   },
   {
    "duration": 9,
    "start_time": "2021-10-15T16:04:49.531Z"
   },
   {
    "duration": 61,
    "start_time": "2021-10-15T16:04:49.542Z"
   },
   {
    "duration": 52,
    "start_time": "2021-10-15T16:04:49.606Z"
   },
   {
    "duration": 8,
    "start_time": "2021-10-15T16:04:49.660Z"
   },
   {
    "duration": 37,
    "start_time": "2021-10-15T16:04:49.670Z"
   },
   {
    "duration": 42,
    "start_time": "2021-10-15T16:04:49.709Z"
   },
   {
    "duration": 66,
    "start_time": "2021-10-15T16:04:49.753Z"
   },
   {
    "duration": 59,
    "start_time": "2021-10-15T16:04:49.822Z"
   },
   {
    "duration": 32,
    "start_time": "2021-10-15T16:04:49.883Z"
   },
   {
    "duration": 16,
    "start_time": "2021-10-15T16:04:49.917Z"
   },
   {
    "duration": 19,
    "start_time": "2021-10-15T16:04:49.936Z"
   },
   {
    "duration": 73,
    "start_time": "2021-10-15T16:04:49.957Z"
   },
   {
    "duration": 2331,
    "start_time": "2021-10-15T16:04:50.032Z"
   },
   {
    "duration": -2366,
    "start_time": "2021-10-15T16:04:54.731Z"
   },
   {
    "duration": 341,
    "start_time": "2021-10-15T16:05:23.649Z"
   },
   {
    "duration": 152,
    "start_time": "2021-10-15T16:05:28.974Z"
   },
   {
    "duration": 77,
    "start_time": "2021-10-15T16:05:31.381Z"
   },
   {
    "duration": 81,
    "start_time": "2021-10-15T16:06:23.264Z"
   },
   {
    "duration": 45,
    "start_time": "2021-10-15T16:07:15.508Z"
   },
   {
    "duration": 23,
    "start_time": "2021-10-15T16:07:36.587Z"
   },
   {
    "duration": 63,
    "start_time": "2021-10-15T16:08:16.522Z"
   },
   {
    "duration": 154,
    "start_time": "2021-10-15T16:09:51.546Z"
   },
   {
    "duration": 62,
    "start_time": "2021-10-15T16:09:56.518Z"
   },
   {
    "duration": 60,
    "start_time": "2021-10-15T16:10:10.837Z"
   },
   {
    "duration": 150,
    "start_time": "2021-10-15T16:10:25.901Z"
   },
   {
    "duration": 62,
    "start_time": "2021-10-15T16:10:58.962Z"
   },
   {
    "duration": 111,
    "start_time": "2021-10-15T16:14:03.553Z"
   },
   {
    "duration": 52,
    "start_time": "2021-10-15T16:14:14.903Z"
   },
   {
    "duration": 102,
    "start_time": "2021-10-15T16:15:14.458Z"
   },
   {
    "duration": 82,
    "start_time": "2021-10-15T16:15:41.322Z"
   },
   {
    "duration": 69,
    "start_time": "2021-10-15T16:16:06.222Z"
   },
   {
    "duration": 59,
    "start_time": "2021-10-15T16:16:16.712Z"
   },
   {
    "duration": 35,
    "start_time": "2021-10-15T16:16:25.416Z"
   },
   {
    "duration": 19,
    "start_time": "2021-10-15T16:16:29.364Z"
   },
   {
    "duration": 361,
    "start_time": "2021-10-15T16:19:26.841Z"
   },
   {
    "duration": 380,
    "start_time": "2021-10-15T16:20:06.794Z"
   },
   {
    "duration": 412,
    "start_time": "2021-10-15T16:20:17.809Z"
   },
   {
    "duration": 414,
    "start_time": "2021-10-15T16:20:35.662Z"
   },
   {
    "duration": 355,
    "start_time": "2021-10-15T16:20:51.626Z"
   },
   {
    "duration": 75,
    "start_time": "2021-10-15T16:23:12.723Z"
   },
   {
    "duration": 48,
    "start_time": "2021-10-15T16:24:12.578Z"
   },
   {
    "duration": 14,
    "start_time": "2021-10-15T16:24:23.071Z"
   },
   {
    "duration": 61,
    "start_time": "2021-10-15T16:24:44.416Z"
   },
   {
    "duration": 111,
    "start_time": "2021-10-15T16:24:58.605Z"
   },
   {
    "duration": 47,
    "start_time": "2021-10-15T16:25:04.675Z"
   },
   {
    "duration": 97,
    "start_time": "2021-10-15T16:25:07.614Z"
   },
   {
    "duration": 55,
    "start_time": "2021-10-15T16:26:42.786Z"
   },
   {
    "duration": 131,
    "start_time": "2021-10-15T16:26:48.382Z"
   },
   {
    "duration": 46,
    "start_time": "2021-10-15T16:27:37.147Z"
   },
   {
    "duration": 97,
    "start_time": "2021-10-15T16:27:39.516Z"
   },
   {
    "duration": 81,
    "start_time": "2021-10-15T16:30:26.208Z"
   },
   {
    "duration": 39,
    "start_time": "2021-10-15T16:30:46.361Z"
   },
   {
    "duration": 81,
    "start_time": "2021-10-15T16:31:30.194Z"
   },
   {
    "duration": 40,
    "start_time": "2021-10-15T16:31:34.245Z"
   },
   {
    "duration": 133,
    "start_time": "2021-10-15T16:32:15.074Z"
   },
   {
    "duration": 49,
    "start_time": "2021-10-15T16:32:18.448Z"
   },
   {
    "duration": 143,
    "start_time": "2021-10-15T16:32:32.696Z"
   },
   {
    "duration": 76,
    "start_time": "2021-10-15T16:32:36.703Z"
   },
   {
    "duration": 115,
    "start_time": "2021-10-15T16:33:38.087Z"
   },
   {
    "duration": 26,
    "start_time": "2021-10-15T16:34:28.726Z"
   },
   {
    "duration": 26,
    "start_time": "2021-10-15T16:35:04.601Z"
   },
   {
    "duration": 36,
    "start_time": "2021-10-15T16:35:10.194Z"
   },
   {
    "duration": 50,
    "start_time": "2021-10-15T16:35:16.535Z"
   },
   {
    "duration": 47,
    "start_time": "2021-10-15T16:35:27.113Z"
   },
   {
    "duration": 43,
    "start_time": "2021-10-15T16:35:35.261Z"
   },
   {
    "duration": 309,
    "start_time": "2021-10-15T16:36:20.734Z"
   },
   {
    "duration": 6,
    "start_time": "2021-10-15T16:36:21.046Z"
   },
   {
    "duration": 11,
    "start_time": "2021-10-15T16:36:21.055Z"
   },
   {
    "duration": 10,
    "start_time": "2021-10-15T16:36:21.102Z"
   },
   {
    "duration": 13,
    "start_time": "2021-10-15T16:36:21.115Z"
   },
   {
    "duration": 30,
    "start_time": "2021-10-15T16:36:21.131Z"
   },
   {
    "duration": 13,
    "start_time": "2021-10-15T16:36:21.201Z"
   },
   {
    "duration": 19,
    "start_time": "2021-10-15T16:36:21.217Z"
   },
   {
    "duration": 64,
    "start_time": "2021-10-15T16:36:21.240Z"
   },
   {
    "duration": 39,
    "start_time": "2021-10-15T16:36:21.307Z"
   },
   {
    "duration": 93,
    "start_time": "2021-10-15T16:36:21.349Z"
   },
   {
    "duration": 22,
    "start_time": "2021-10-15T16:36:21.445Z"
   },
   {
    "duration": 47,
    "start_time": "2021-10-15T16:36:21.470Z"
   },
   {
    "duration": 25,
    "start_time": "2021-10-15T16:36:21.520Z"
   },
   {
    "duration": 60,
    "start_time": "2021-10-15T16:36:21.548Z"
   },
   {
    "duration": 598,
    "start_time": "2021-10-15T16:36:21.611Z"
   },
   {
    "duration": -2293,
    "start_time": "2021-10-15T16:36:24.504Z"
   },
   {
    "duration": 9,
    "start_time": "2021-10-15T16:36:55.684Z"
   },
   {
    "duration": 10,
    "start_time": "2021-10-15T16:36:56.398Z"
   },
   {
    "duration": 13,
    "start_time": "2021-10-15T16:36:57.209Z"
   },
   {
    "duration": 29,
    "start_time": "2021-10-15T16:42:41.793Z"
   },
   {
    "duration": 21,
    "start_time": "2021-10-15T16:43:00.231Z"
   },
   {
    "duration": 17,
    "start_time": "2021-10-15T16:43:11.973Z"
   },
   {
    "duration": 12,
    "start_time": "2021-10-15T20:50:33.383Z"
   },
   {
    "duration": 16,
    "start_time": "2021-10-15T20:50:34.585Z"
   },
   {
    "duration": 22,
    "start_time": "2021-10-15T20:50:35.477Z"
   },
   {
    "duration": 43,
    "start_time": "2021-10-15T21:08:26.112Z"
   },
   {
    "duration": 28,
    "start_time": "2021-10-15T21:08:45.932Z"
   },
   {
    "duration": 29,
    "start_time": "2021-10-15T21:08:59.880Z"
   },
   {
    "duration": 1173,
    "start_time": "2021-10-15T21:09:34.537Z"
   },
   {
    "duration": 1112,
    "start_time": "2021-10-15T21:09:41.313Z"
   },
   {
    "duration": 40,
    "start_time": "2021-10-15T21:10:31.026Z"
   },
   {
    "duration": 30,
    "start_time": "2021-10-15T21:16:35.844Z"
   },
   {
    "duration": 34,
    "start_time": "2021-10-15T21:17:36.613Z"
   },
   {
    "duration": 50,
    "start_time": "2021-10-15T21:18:25.165Z"
   },
   {
    "duration": 30,
    "start_time": "2021-10-15T21:19:45.382Z"
   },
   {
    "duration": 32,
    "start_time": "2021-10-15T21:19:54.602Z"
   },
   {
    "duration": 408,
    "start_time": "2021-10-15T21:29:21.122Z"
   },
   {
    "duration": 41,
    "start_time": "2021-10-15T21:29:32.288Z"
   },
   {
    "duration": 408,
    "start_time": "2021-10-15T21:30:28.505Z"
   },
   {
    "duration": 410,
    "start_time": "2021-10-15T21:30:48.606Z"
   },
   {
    "duration": 9138,
    "start_time": "2021-10-15T21:31:23.193Z"
   },
   {
    "duration": 53,
    "start_time": "2021-10-15T21:31:59.814Z"
   },
   {
    "duration": 52,
    "start_time": "2021-10-15T21:32:19.737Z"
   },
   {
    "duration": 435,
    "start_time": "2021-10-15T21:33:46.049Z"
   },
   {
    "duration": 59,
    "start_time": "2021-10-15T21:34:11.002Z"
   },
   {
    "duration": 13,
    "start_time": "2021-10-15T21:36:33.374Z"
   },
   {
    "duration": 57,
    "start_time": "2021-10-15T21:41:56.510Z"
   },
   {
    "duration": 627,
    "start_time": "2021-10-15T21:51:30.727Z"
   },
   {
    "duration": 61,
    "start_time": "2021-10-15T21:52:00.904Z"
   },
   {
    "duration": 287,
    "start_time": "2021-10-15T21:52:18.125Z"
   },
   {
    "duration": 276,
    "start_time": "2021-10-15T21:52:25.658Z"
   },
   {
    "duration": 272,
    "start_time": "2021-10-15T21:52:56.236Z"
   },
   {
    "duration": 58,
    "start_time": "2021-10-15T21:53:09.567Z"
   },
   {
    "duration": 235,
    "start_time": "2021-10-15T21:54:17.961Z"
   },
   {
    "duration": 374,
    "start_time": "2021-10-15T21:54:42.471Z"
   },
   {
    "duration": 84,
    "start_time": "2021-10-15T22:06:23.157Z"
   },
   {
    "duration": 388,
    "start_time": "2021-10-15T22:07:25.953Z"
   },
   {
    "duration": 60,
    "start_time": "2021-10-15T22:07:44.589Z"
   },
   {
    "duration": 7,
    "start_time": "2021-10-15T22:09:38.426Z"
   },
   {
    "duration": 7,
    "start_time": "2021-10-15T22:10:18.247Z"
   },
   {
    "duration": 27,
    "start_time": "2021-10-15T22:17:59.363Z"
   },
   {
    "duration": 27,
    "start_time": "2021-10-15T22:18:09.855Z"
   },
   {
    "duration": 8,
    "start_time": "2021-10-15T22:19:27.593Z"
   },
   {
    "duration": 7,
    "start_time": "2021-10-15T22:19:51.002Z"
   },
   {
    "duration": 614,
    "start_time": "2021-10-15T22:20:33.642Z"
   },
   {
    "duration": 586,
    "start_time": "2021-10-15T22:20:50.369Z"
   },
   {
    "duration": 567,
    "start_time": "2021-10-15T22:27:34.817Z"
   },
   {
    "duration": 109,
    "start_time": "2021-10-15T22:28:03.097Z"
   },
   {
    "duration": 119,
    "start_time": "2021-10-15T22:28:09.526Z"
   },
   {
    "duration": 111,
    "start_time": "2021-10-15T22:28:29.270Z"
   },
   {
    "duration": 596,
    "start_time": "2021-10-15T22:28:48.548Z"
   },
   {
    "duration": 40,
    "start_time": "2021-10-15T22:30:16.941Z"
   },
   {
    "duration": 606,
    "start_time": "2021-10-15T22:30:50.118Z"
   },
   {
    "duration": 570,
    "start_time": "2021-10-15T22:31:09.935Z"
   },
   {
    "duration": 583,
    "start_time": "2021-10-15T22:31:22.409Z"
   },
   {
    "duration": 7839,
    "start_time": "2021-10-15T22:32:38.548Z"
   },
   {
    "duration": 356,
    "start_time": "2021-10-15T22:34:33.132Z"
   },
   {
    "duration": 341,
    "start_time": "2021-10-15T22:34:43.415Z"
   },
   {
    "duration": 583,
    "start_time": "2021-10-15T22:34:55.155Z"
   },
   {
    "duration": 8,
    "start_time": "2021-10-15T22:37:16.049Z"
   },
   {
    "duration": 338,
    "start_time": "2021-10-15T22:37:41.500Z"
   },
   {
    "duration": 27,
    "start_time": "2021-10-15T22:37:58.089Z"
   },
   {
    "duration": 9,
    "start_time": "2021-10-15T22:38:19.664Z"
   },
   {
    "duration": 8,
    "start_time": "2021-10-15T22:38:42.208Z"
   },
   {
    "duration": 604,
    "start_time": "2021-10-15T22:38:51.850Z"
   },
   {
    "duration": 380,
    "start_time": "2021-10-15T22:43:01.283Z"
   },
   {
    "duration": 358,
    "start_time": "2021-10-15T22:44:07.657Z"
   },
   {
    "duration": 596,
    "start_time": "2021-10-15T22:44:30.804Z"
   },
   {
    "duration": 36,
    "start_time": "2021-10-15T22:45:28.586Z"
   },
   {
    "duration": 357,
    "start_time": "2021-10-15T22:51:18.987Z"
   },
   {
    "duration": 27,
    "start_time": "2021-10-15T22:51:35.129Z"
   },
   {
    "duration": 654,
    "start_time": "2021-10-15T22:52:01.520Z"
   },
   {
    "duration": 619,
    "start_time": "2021-10-15T22:52:36.927Z"
   },
   {
    "duration": 649,
    "start_time": "2021-10-15T22:52:59.771Z"
   },
   {
    "duration": 27,
    "start_time": "2021-10-15T22:54:11.771Z"
   },
   {
    "duration": 347,
    "start_time": "2021-10-15T22:55:22.455Z"
   },
   {
    "duration": 6,
    "start_time": "2021-10-15T22:55:40.517Z"
   },
   {
    "duration": 346,
    "start_time": "2021-10-15T22:56:05.769Z"
   },
   {
    "duration": 8,
    "start_time": "2021-10-15T22:56:12.909Z"
   },
   {
    "duration": 567,
    "start_time": "2021-10-15T22:56:32.783Z"
   },
   {
    "duration": 33,
    "start_time": "2021-10-15T22:56:45.884Z"
   },
   {
    "duration": 76,
    "start_time": "2021-10-15T22:57:53.717Z"
   },
   {
    "duration": 32,
    "start_time": "2021-10-15T22:58:22.455Z"
   },
   {
    "duration": 1053,
    "start_time": "2021-10-15T22:58:57.699Z"
   },
   {
    "duration": 28,
    "start_time": "2021-10-15T22:59:28.811Z"
   },
   {
    "duration": 19,
    "start_time": "2021-10-15T22:59:40.289Z"
   },
   {
    "duration": 29,
    "start_time": "2021-10-15T22:59:58.304Z"
   },
   {
    "duration": 631,
    "start_time": "2021-10-15T23:00:05.977Z"
   },
   {
    "duration": 341,
    "start_time": "2021-10-15T23:02:06.856Z"
   },
   {
    "duration": 612,
    "start_time": "2021-10-15T23:02:16.376Z"
   },
   {
    "duration": 414,
    "start_time": "2021-10-16T10:35:51.270Z"
   },
   {
    "duration": 1259,
    "start_time": "2021-10-16T10:35:58.697Z"
   },
   {
    "duration": 615,
    "start_time": "2021-10-16T10:39:09.663Z"
   },
   {
    "duration": 725,
    "start_time": "2021-10-16T10:41:38.047Z"
   },
   {
    "duration": 687,
    "start_time": "2021-10-16T10:41:44.652Z"
   },
   {
    "duration": 989,
    "start_time": "2021-10-16T10:52:37.691Z"
   },
   {
    "duration": 661,
    "start_time": "2021-10-16T10:52:47.070Z"
   },
   {
    "duration": 1012,
    "start_time": "2021-10-16T10:53:02.074Z"
   },
   {
    "duration": 664,
    "start_time": "2021-10-16T10:53:10.637Z"
   },
   {
    "duration": 1091,
    "start_time": "2021-10-16T10:53:23.352Z"
   },
   {
    "duration": 723,
    "start_time": "2021-10-16T10:53:34.399Z"
   },
   {
    "duration": 357,
    "start_time": "2021-10-16T10:54:33.671Z"
   },
   {
    "duration": 633,
    "start_time": "2021-10-16T10:54:46.621Z"
   },
   {
    "duration": 626,
    "start_time": "2021-10-16T10:54:50.813Z"
   },
   {
    "duration": 370,
    "start_time": "2021-10-16T10:55:06.997Z"
   },
   {
    "duration": 636,
    "start_time": "2021-10-16T10:57:33.783Z"
   },
   {
    "duration": 343,
    "start_time": "2021-10-16T10:57:53.198Z"
   },
   {
    "duration": 23,
    "start_time": "2021-10-16T10:58:09.165Z"
   },
   {
    "duration": 26,
    "start_time": "2021-10-16T10:58:21.627Z"
   },
   {
    "duration": 9,
    "start_time": "2021-10-16T10:58:30.023Z"
   },
   {
    "duration": 29,
    "start_time": "2021-10-16T10:59:11.481Z"
   },
   {
    "duration": 695,
    "start_time": "2021-10-16T10:59:54.084Z"
   },
   {
    "duration": 694,
    "start_time": "2021-10-16T11:00:44.139Z"
   },
   {
    "duration": 378,
    "start_time": "2021-10-16T11:01:08.198Z"
   },
   {
    "duration": 679,
    "start_time": "2021-10-16T11:01:30.114Z"
   },
   {
    "duration": 1326,
    "start_time": "2021-10-16T11:02:02.346Z"
   },
   {
    "duration": 1954,
    "start_time": "2021-10-16T11:02:13.761Z"
   },
   {
    "duration": 646,
    "start_time": "2021-10-16T11:06:19.627Z"
   },
   {
    "duration": 1256,
    "start_time": "2021-10-16T11:06:20.276Z"
   },
   {
    "duration": 614,
    "start_time": "2021-10-16T11:06:24.089Z"
   },
   {
    "duration": 655,
    "start_time": "2021-10-16T11:08:17.992Z"
   },
   {
    "duration": 637,
    "start_time": "2021-10-16T11:08:28.488Z"
   },
   {
    "duration": 315,
    "start_time": "2021-10-16T11:12:47.213Z"
   },
   {
    "duration": 631,
    "start_time": "2021-10-16T11:12:56.882Z"
   },
   {
    "duration": 774,
    "start_time": "2021-10-16T11:19:43.910Z"
   },
   {
    "duration": 1265,
    "start_time": "2021-10-16T11:19:59.250Z"
   },
   {
    "duration": 10,
    "start_time": "2021-10-16T11:21:03.658Z"
   },
   {
    "duration": 566,
    "start_time": "2021-10-16T11:21:36.699Z"
   },
   {
    "duration": 690,
    "start_time": "2021-10-16T11:23:36.456Z"
   },
   {
    "duration": 1724,
    "start_time": "2021-10-16T11:23:40.291Z"
   },
   {
    "duration": 637,
    "start_time": "2021-10-16T11:23:42.018Z"
   },
   {
    "duration": 114,
    "start_time": "2021-10-16T11:26:15.500Z"
   },
   {
    "duration": 640,
    "start_time": "2021-10-16T11:26:21.679Z"
   },
   {
    "duration": 1312,
    "start_time": "2021-10-16T11:26:29.263Z"
   },
   {
    "duration": 420,
    "start_time": "2021-10-16T11:27:01.233Z"
   },
   {
    "duration": 676,
    "start_time": "2021-10-16T11:28:12.397Z"
   },
   {
    "duration": 1334,
    "start_time": "2021-10-16T11:28:14.188Z"
   },
   {
    "duration": 1266,
    "start_time": "2021-10-16T11:29:22.391Z"
   },
   {
    "duration": 1258,
    "start_time": "2021-10-16T11:29:35.598Z"
   },
   {
    "duration": 610,
    "start_time": "2021-10-16T11:30:13.428Z"
   },
   {
    "duration": 565,
    "start_time": "2021-10-16T11:30:49.719Z"
   },
   {
    "duration": 1654,
    "start_time": "2021-10-16T11:36:19.225Z"
   },
   {
    "duration": 19,
    "start_time": "2021-10-16T11:36:20.882Z"
   },
   {
    "duration": 44,
    "start_time": "2021-10-16T11:36:20.904Z"
   },
   {
    "duration": 236,
    "start_time": "2021-10-16T11:36:20.951Z"
   },
   {
    "duration": 164,
    "start_time": "2021-10-16T11:36:21.190Z"
   },
   {
    "duration": 216,
    "start_time": "2021-10-16T11:36:21.357Z"
   },
   {
    "duration": 24,
    "start_time": "2021-10-16T11:36:21.576Z"
   },
   {
    "duration": 9,
    "start_time": "2021-10-16T11:36:21.604Z"
   },
   {
    "duration": 20,
    "start_time": "2021-10-16T11:36:21.616Z"
   },
   {
    "duration": 6,
    "start_time": "2021-10-16T11:36:21.639Z"
   },
   {
    "duration": 10,
    "start_time": "2021-10-16T11:36:21.648Z"
   },
   {
    "duration": 50,
    "start_time": "2021-10-16T11:36:21.661Z"
   },
   {
    "duration": 11,
    "start_time": "2021-10-16T11:36:21.714Z"
   },
   {
    "duration": 16,
    "start_time": "2021-10-16T11:36:21.727Z"
   },
   {
    "duration": 977,
    "start_time": "2021-10-16T11:36:21.745Z"
   },
   {
    "duration": 102,
    "start_time": "2021-10-16T11:36:22.724Z"
   },
   {
    "duration": 50,
    "start_time": "2021-10-16T11:36:22.828Z"
   },
   {
    "duration": 165,
    "start_time": "2021-10-16T11:36:22.880Z"
   },
   {
    "duration": 169,
    "start_time": "2021-10-16T11:36:23.048Z"
   },
   {
    "duration": 118,
    "start_time": "2021-10-16T11:36:23.220Z"
   },
   {
    "duration": 100,
    "start_time": "2021-10-16T11:36:23.340Z"
   },
   {
    "duration": 60,
    "start_time": "2021-10-16T11:36:23.443Z"
   },
   {
    "duration": 39,
    "start_time": "2021-10-16T11:36:23.508Z"
   },
   {
    "duration": 314,
    "start_time": "2021-10-16T11:36:23.549Z"
   },
   {
    "duration": 6,
    "start_time": "2021-10-16T11:36:23.865Z"
   },
   {
    "duration": 29,
    "start_time": "2021-10-16T11:36:23.873Z"
   },
   {
    "duration": 11,
    "start_time": "2021-10-16T11:36:23.904Z"
   },
   {
    "duration": 16,
    "start_time": "2021-10-16T11:36:23.918Z"
   },
   {
    "duration": 62,
    "start_time": "2021-10-16T11:36:23.937Z"
   },
   {
    "duration": 23,
    "start_time": "2021-10-16T11:36:24.002Z"
   },
   {
    "duration": 15,
    "start_time": "2021-10-16T11:36:24.027Z"
   },
   {
    "duration": 12,
    "start_time": "2021-10-16T11:36:24.045Z"
   },
   {
    "duration": 53,
    "start_time": "2021-10-16T11:36:24.060Z"
   },
   {
    "duration": 21,
    "start_time": "2021-10-16T11:36:24.116Z"
   },
   {
    "duration": 63,
    "start_time": "2021-10-16T11:36:24.139Z"
   },
   {
    "duration": 64,
    "start_time": "2021-10-16T11:36:24.204Z"
   },
   {
    "duration": 264,
    "start_time": "2021-10-16T11:36:24.270Z"
   },
   {
    "duration": 7,
    "start_time": "2021-10-16T11:36:24.536Z"
   },
   {
    "duration": 22,
    "start_time": "2021-10-16T11:36:24.546Z"
   },
   {
    "duration": 23,
    "start_time": "2021-10-16T11:36:24.600Z"
   },
   {
    "duration": 26,
    "start_time": "2021-10-16T11:36:24.626Z"
   },
   {
    "duration": 815,
    "start_time": "2021-10-16T11:36:24.655Z"
   },
   {
    "duration": 1345,
    "start_time": "2021-10-16T11:36:25.473Z"
   },
   {
    "duration": 681,
    "start_time": "2021-10-16T11:36:26.821Z"
   },
   {
    "duration": -2788,
    "start_time": "2021-10-16T11:36:30.292Z"
   },
   {
    "duration": -2807,
    "start_time": "2021-10-16T11:36:30.313Z"
   },
   {
    "duration": 699,
    "start_time": "2021-10-16T12:18:37.480Z"
   },
   {
    "duration": 1690,
    "start_time": "2021-10-16T12:22:51.050Z"
   },
   {
    "duration": 597,
    "start_time": "2021-10-16T12:23:08.311Z"
   },
   {
    "duration": 482,
    "start_time": "2021-10-16T12:23:13.972Z"
   },
   {
    "duration": 1822,
    "start_time": "2021-10-16T12:23:33.944Z"
   },
   {
    "duration": 32,
    "start_time": "2021-10-16T12:23:35.770Z"
   },
   {
    "duration": 53,
    "start_time": "2021-10-16T12:23:35.808Z"
   },
   {
    "duration": 297,
    "start_time": "2021-10-16T12:23:35.865Z"
   },
   {
    "duration": 170,
    "start_time": "2021-10-16T12:23:36.164Z"
   },
   {
    "duration": 231,
    "start_time": "2021-10-16T12:23:36.337Z"
   },
   {
    "duration": 13,
    "start_time": "2021-10-16T12:23:36.570Z"
   },
   {
    "duration": 27,
    "start_time": "2021-10-16T12:23:36.586Z"
   },
   {
    "duration": 39,
    "start_time": "2021-10-16T12:23:36.617Z"
   },
   {
    "duration": 9,
    "start_time": "2021-10-16T12:23:36.659Z"
   },
   {
    "duration": 37,
    "start_time": "2021-10-16T12:23:36.670Z"
   },
   {
    "duration": 21,
    "start_time": "2021-10-16T12:23:36.713Z"
   },
   {
    "duration": 9,
    "start_time": "2021-10-16T12:23:36.737Z"
   },
   {
    "duration": 15,
    "start_time": "2021-10-16T12:23:36.748Z"
   },
   {
    "duration": 1266,
    "start_time": "2021-10-16T12:23:36.765Z"
   },
   {
    "duration": 128,
    "start_time": "2021-10-16T12:23:38.035Z"
   },
   {
    "duration": 123,
    "start_time": "2021-10-16T12:23:38.165Z"
   },
   {
    "duration": 193,
    "start_time": "2021-10-16T12:23:38.291Z"
   },
   {
    "duration": 195,
    "start_time": "2021-10-16T12:23:38.486Z"
   },
   {
    "duration": 127,
    "start_time": "2021-10-16T12:23:38.684Z"
   },
   {
    "duration": 101,
    "start_time": "2021-10-16T12:23:38.814Z"
   },
   {
    "duration": 48,
    "start_time": "2021-10-16T12:23:38.918Z"
   },
   {
    "duration": 74,
    "start_time": "2021-10-16T12:23:38.970Z"
   },
   {
    "duration": 343,
    "start_time": "2021-10-16T12:23:39.046Z"
   },
   {
    "duration": 18,
    "start_time": "2021-10-16T12:23:39.391Z"
   },
   {
    "duration": 16,
    "start_time": "2021-10-16T12:23:39.413Z"
   },
   {
    "duration": 10,
    "start_time": "2021-10-16T12:23:39.431Z"
   },
   {
    "duration": 13,
    "start_time": "2021-10-16T12:23:39.444Z"
   },
   {
    "duration": 72,
    "start_time": "2021-10-16T12:23:39.459Z"
   },
   {
    "duration": 22,
    "start_time": "2021-10-16T12:23:39.534Z"
   },
   {
    "duration": 58,
    "start_time": "2021-10-16T12:23:39.558Z"
   },
   {
    "duration": 15,
    "start_time": "2021-10-16T12:23:39.618Z"
   },
   {
    "duration": 17,
    "start_time": "2021-10-16T12:23:39.636Z"
   },
   {
    "duration": 59,
    "start_time": "2021-10-16T12:23:39.656Z"
   },
   {
    "duration": 47,
    "start_time": "2021-10-16T12:23:39.718Z"
   },
   {
    "duration": 89,
    "start_time": "2021-10-16T12:23:39.768Z"
   },
   {
    "duration": 305,
    "start_time": "2021-10-16T12:23:39.859Z"
   },
   {
    "duration": 7,
    "start_time": "2021-10-16T12:23:40.166Z"
   },
   {
    "duration": 46,
    "start_time": "2021-10-16T12:23:40.176Z"
   },
   {
    "duration": 29,
    "start_time": "2021-10-16T12:23:40.225Z"
   },
   {
    "duration": 48,
    "start_time": "2021-10-16T12:23:40.257Z"
   },
   {
    "duration": 845,
    "start_time": "2021-10-16T12:23:40.311Z"
   },
   {
    "duration": 1510,
    "start_time": "2021-10-16T12:23:41.158Z"
   },
   {
    "duration": -2762,
    "start_time": "2021-10-16T12:23:45.433Z"
   },
   {
    "duration": -2807,
    "start_time": "2021-10-16T12:23:45.480Z"
   },
   {
    "duration": -2838,
    "start_time": "2021-10-16T12:23:45.512Z"
   },
   {
    "duration": -2864,
    "start_time": "2021-10-16T12:23:45.539Z"
   },
   {
    "duration": 341,
    "start_time": "2021-10-16T12:24:26.530Z"
   },
   {
    "duration": 1389,
    "start_time": "2021-10-16T12:25:31.316Z"
   },
   {
    "duration": 350,
    "start_time": "2021-10-16T12:25:45.347Z"
   },
   {
    "duration": 340,
    "start_time": "2021-10-16T12:29:47.676Z"
   },
   {
    "duration": 1655,
    "start_time": "2021-10-16T12:29:57.542Z"
   },
   {
    "duration": 22,
    "start_time": "2021-10-16T12:29:59.199Z"
   },
   {
    "duration": 44,
    "start_time": "2021-10-16T12:29:59.225Z"
   },
   {
    "duration": 250,
    "start_time": "2021-10-16T12:29:59.273Z"
   },
   {
    "duration": 160,
    "start_time": "2021-10-16T12:29:59.526Z"
   },
   {
    "duration": 202,
    "start_time": "2021-10-16T12:29:59.688Z"
   },
   {
    "duration": 13,
    "start_time": "2021-10-16T12:29:59.900Z"
   },
   {
    "duration": 10,
    "start_time": "2021-10-16T12:29:59.917Z"
   },
   {
    "duration": 19,
    "start_time": "2021-10-16T12:29:59.930Z"
   },
   {
    "duration": 9,
    "start_time": "2021-10-16T12:29:59.951Z"
   },
   {
    "duration": 44,
    "start_time": "2021-10-16T12:29:59.962Z"
   },
   {
    "duration": 23,
    "start_time": "2021-10-16T12:30:00.008Z"
   },
   {
    "duration": 14,
    "start_time": "2021-10-16T12:30:00.033Z"
   },
   {
    "duration": 19,
    "start_time": "2021-10-16T12:30:00.050Z"
   },
   {
    "duration": 1096,
    "start_time": "2021-10-16T12:30:00.072Z"
   },
   {
    "duration": 102,
    "start_time": "2021-10-16T12:30:01.170Z"
   },
   {
    "duration": 68,
    "start_time": "2021-10-16T12:30:01.275Z"
   },
   {
    "duration": 160,
    "start_time": "2021-10-16T12:30:01.345Z"
   },
   {
    "duration": 168,
    "start_time": "2021-10-16T12:30:01.508Z"
   },
   {
    "duration": 105,
    "start_time": "2021-10-16T12:30:01.678Z"
   },
   {
    "duration": 99,
    "start_time": "2021-10-16T12:30:01.785Z"
   },
   {
    "duration": 53,
    "start_time": "2021-10-16T12:30:01.886Z"
   },
   {
    "duration": 58,
    "start_time": "2021-10-16T12:30:01.944Z"
   },
   {
    "duration": 309,
    "start_time": "2021-10-16T12:30:02.005Z"
   },
   {
    "duration": 6,
    "start_time": "2021-10-16T12:30:02.316Z"
   },
   {
    "duration": 30,
    "start_time": "2021-10-16T12:30:02.324Z"
   },
   {
    "duration": 22,
    "start_time": "2021-10-16T12:30:02.357Z"
   },
   {
    "duration": 21,
    "start_time": "2021-10-16T12:30:02.382Z"
   },
   {
    "duration": 31,
    "start_time": "2021-10-16T12:30:02.406Z"
   },
   {
    "duration": 19,
    "start_time": "2021-10-16T12:30:02.440Z"
   },
   {
    "duration": 49,
    "start_time": "2021-10-16T12:30:02.461Z"
   },
   {
    "duration": 12,
    "start_time": "2021-10-16T12:30:02.512Z"
   },
   {
    "duration": 14,
    "start_time": "2021-10-16T12:30:02.527Z"
   },
   {
    "duration": 20,
    "start_time": "2021-10-16T12:30:02.544Z"
   },
   {
    "duration": 71,
    "start_time": "2021-10-16T12:30:02.566Z"
   },
   {
    "duration": 84,
    "start_time": "2021-10-16T12:30:02.640Z"
   },
   {
    "duration": 270,
    "start_time": "2021-10-16T12:30:02.727Z"
   },
   {
    "duration": 7,
    "start_time": "2021-10-16T12:30:03.001Z"
   },
   {
    "duration": 28,
    "start_time": "2021-10-16T12:30:03.011Z"
   },
   {
    "duration": 21,
    "start_time": "2021-10-16T12:30:03.042Z"
   },
   {
    "duration": 50,
    "start_time": "2021-10-16T12:30:03.065Z"
   },
   {
    "duration": 632,
    "start_time": "2021-10-16T12:30:03.117Z"
   },
   {
    "duration": 22,
    "start_time": "2021-10-16T12:30:03.751Z"
   },
   {
    "duration": 1298,
    "start_time": "2021-10-16T12:30:03.776Z"
   },
   {
    "duration": 9093,
    "start_time": "2021-10-16T12:30:05.076Z"
   },
   {
    "duration": -2973,
    "start_time": "2021-10-16T12:30:17.145Z"
   },
   {
    "duration": -2997,
    "start_time": "2021-10-16T12:30:17.170Z"
   },
   {
    "duration": 4610,
    "start_time": "2021-10-16T12:31:59.715Z"
   },
   {
    "duration": 629,
    "start_time": "2021-10-16T12:32:15.073Z"
   },
   {
    "duration": 8590,
    "start_time": "2021-10-16T12:37:03.336Z"
   },
   {
    "duration": 8870,
    "start_time": "2021-10-16T12:37:43.385Z"
   },
   {
    "duration": 10770,
    "start_time": "2021-10-16T12:38:20.973Z"
   },
   {
    "duration": 18,
    "start_time": "2021-10-16T12:38:51.440Z"
   },
   {
    "duration": 25,
    "start_time": "2021-10-16T12:39:16.363Z"
   },
   {
    "duration": 395,
    "start_time": "2021-10-16T12:39:22.173Z"
   },
   {
    "duration": 346,
    "start_time": "2021-10-16T12:40:23.176Z"
   },
   {
    "duration": 356,
    "start_time": "2021-10-16T12:40:42.605Z"
   },
   {
    "duration": 23,
    "start_time": "2021-10-16T12:41:14.941Z"
   },
   {
    "duration": 1382,
    "start_time": "2021-10-16T12:42:06.712Z"
   },
   {
    "duration": 23,
    "start_time": "2021-10-16T12:42:44.564Z"
   },
   {
    "duration": 35,
    "start_time": "2021-10-16T12:43:19.346Z"
   },
   {
    "duration": 7,
    "start_time": "2021-10-16T12:43:33.725Z"
   },
   {
    "duration": 7,
    "start_time": "2021-10-16T12:54:45.535Z"
   },
   {
    "duration": 11,
    "start_time": "2021-10-16T19:48:52.701Z"
   },
   {
    "duration": 29,
    "start_time": "2021-10-16T19:49:14.770Z"
   },
   {
    "duration": 9,
    "start_time": "2021-10-16T19:49:38.649Z"
   },
   {
    "duration": 7,
    "start_time": "2021-10-16T19:49:46.483Z"
   },
   {
    "duration": 27,
    "start_time": "2021-10-16T19:50:06.227Z"
   },
   {
    "duration": 6,
    "start_time": "2021-10-16T19:50:35.903Z"
   },
   {
    "duration": 11,
    "start_time": "2021-10-16T19:50:55.009Z"
   },
   {
    "duration": 10,
    "start_time": "2021-10-16T19:50:57.939Z"
   },
   {
    "duration": 10,
    "start_time": "2021-10-16T19:51:05.911Z"
   },
   {
    "duration": 26,
    "start_time": "2021-10-16T19:51:20.788Z"
   },
   {
    "duration": 17,
    "start_time": "2021-10-16T19:52:46.188Z"
   },
   {
    "duration": 32,
    "start_time": "2021-10-16T19:54:18.588Z"
   },
   {
    "duration": 34,
    "start_time": "2021-10-16T19:54:29.200Z"
   },
   {
    "duration": 540,
    "start_time": "2021-10-16T19:56:46.933Z"
   },
   {
    "duration": 5309,
    "start_time": "2021-10-16T19:58:36.936Z"
   },
   {
    "duration": 34,
    "start_time": "2021-10-16T19:58:57.043Z"
   },
   {
    "duration": 34,
    "start_time": "2021-10-16T19:59:31.985Z"
   },
   {
    "duration": 5356,
    "start_time": "2021-10-16T19:59:56.197Z"
   },
   {
    "duration": 10697,
    "start_time": "2021-10-16T20:01:29.501Z"
   },
   {
    "duration": 10683,
    "start_time": "2021-10-16T20:03:19.712Z"
   },
   {
    "duration": 22,
    "start_time": "2021-10-16T20:04:18.482Z"
   },
   {
    "duration": 30,
    "start_time": "2021-10-16T20:05:34.866Z"
   },
   {
    "duration": 19,
    "start_time": "2021-10-16T20:05:46.273Z"
   },
   {
    "duration": 20,
    "start_time": "2021-10-16T20:05:55.990Z"
   },
   {
    "duration": 8,
    "start_time": "2021-10-16T20:06:30.027Z"
   },
   {
    "duration": 11,
    "start_time": "2021-10-16T20:06:58.246Z"
   },
   {
    "duration": 8,
    "start_time": "2021-10-16T20:07:05.094Z"
   },
   {
    "duration": 19,
    "start_time": "2021-10-16T20:09:07.086Z"
   },
   {
    "duration": 8449,
    "start_time": "2021-10-16T20:09:42.348Z"
   },
   {
    "duration": 25,
    "start_time": "2021-10-16T20:09:59.808Z"
   },
   {
    "duration": 12,
    "start_time": "2021-10-16T20:10:35.833Z"
   },
   {
    "duration": 22,
    "start_time": "2021-10-16T20:11:19.885Z"
   },
   {
    "duration": 17,
    "start_time": "2021-10-16T20:11:40.553Z"
   },
   {
    "duration": 25,
    "start_time": "2021-10-16T20:11:59.899Z"
   },
   {
    "duration": 6,
    "start_time": "2021-10-16T20:56:15.508Z"
   },
   {
    "duration": 6,
    "start_time": "2021-10-16T20:56:40.770Z"
   },
   {
    "duration": 22,
    "start_time": "2021-10-16T20:57:27.886Z"
   },
   {
    "duration": 1700,
    "start_time": "2021-10-16T20:57:38.338Z"
   },
   {
    "duration": 20,
    "start_time": "2021-10-16T20:57:40.041Z"
   },
   {
    "duration": 45,
    "start_time": "2021-10-16T20:57:40.064Z"
   },
   {
    "duration": 230,
    "start_time": "2021-10-16T20:57:40.112Z"
   },
   {
    "duration": 162,
    "start_time": "2021-10-16T20:57:40.344Z"
   },
   {
    "duration": 215,
    "start_time": "2021-10-16T20:57:40.509Z"
   },
   {
    "duration": 14,
    "start_time": "2021-10-16T20:57:40.726Z"
   },
   {
    "duration": 10,
    "start_time": "2021-10-16T20:57:40.744Z"
   },
   {
    "duration": 47,
    "start_time": "2021-10-16T20:57:40.757Z"
   },
   {
    "duration": 6,
    "start_time": "2021-10-16T20:57:40.806Z"
   },
   {
    "duration": 14,
    "start_time": "2021-10-16T20:57:40.814Z"
   },
   {
    "duration": 14,
    "start_time": "2021-10-16T20:57:40.831Z"
   },
   {
    "duration": 14,
    "start_time": "2021-10-16T20:57:40.847Z"
   },
   {
    "duration": 47,
    "start_time": "2021-10-16T20:57:40.864Z"
   },
   {
    "duration": 965,
    "start_time": "2021-10-16T20:57:40.914Z"
   },
   {
    "duration": 94,
    "start_time": "2021-10-16T20:57:41.881Z"
   },
   {
    "duration": 60,
    "start_time": "2021-10-16T20:57:41.978Z"
   },
   {
    "duration": 153,
    "start_time": "2021-10-16T20:57:42.040Z"
   },
   {
    "duration": 161,
    "start_time": "2021-10-16T20:57:42.200Z"
   },
   {
    "duration": 114,
    "start_time": "2021-10-16T20:57:42.363Z"
   },
   {
    "duration": 101,
    "start_time": "2021-10-16T20:57:42.479Z"
   },
   {
    "duration": 50,
    "start_time": "2021-10-16T20:57:42.583Z"
   },
   {
    "duration": 60,
    "start_time": "2021-10-16T20:57:42.641Z"
   },
   {
    "duration": 339,
    "start_time": "2021-10-16T20:57:42.705Z"
   },
   {
    "duration": 6,
    "start_time": "2021-10-16T20:57:43.046Z"
   },
   {
    "duration": 16,
    "start_time": "2021-10-16T20:57:43.055Z"
   },
   {
    "duration": 33,
    "start_time": "2021-10-16T20:57:43.074Z"
   },
   {
    "duration": 20,
    "start_time": "2021-10-16T20:57:43.110Z"
   },
   {
    "duration": 40,
    "start_time": "2021-10-16T20:57:43.133Z"
   },
   {
    "duration": 38,
    "start_time": "2021-10-16T20:57:43.175Z"
   },
   {
    "duration": 16,
    "start_time": "2021-10-16T20:57:43.216Z"
   },
   {
    "duration": 11,
    "start_time": "2021-10-16T20:57:43.234Z"
   },
   {
    "duration": 22,
    "start_time": "2021-10-16T20:57:43.247Z"
   },
   {
    "duration": 48,
    "start_time": "2021-10-16T20:57:43.272Z"
   },
   {
    "duration": 40,
    "start_time": "2021-10-16T20:57:43.323Z"
   },
   {
    "duration": 94,
    "start_time": "2021-10-16T20:57:43.365Z"
   },
   {
    "duration": 251,
    "start_time": "2021-10-16T20:57:43.462Z"
   },
   {
    "duration": 6,
    "start_time": "2021-10-16T20:57:43.715Z"
   },
   {
    "duration": 24,
    "start_time": "2021-10-16T20:57:43.723Z"
   },
   {
    "duration": 53,
    "start_time": "2021-10-16T20:57:43.749Z"
   },
   {
    "duration": 25,
    "start_time": "2021-10-16T20:57:43.804Z"
   },
   {
    "duration": 633,
    "start_time": "2021-10-16T20:57:43.831Z"
   },
   {
    "duration": 36,
    "start_time": "2021-10-16T20:57:44.466Z"
   },
   {
    "duration": 28,
    "start_time": "2021-10-16T20:57:44.505Z"
   },
   {
    "duration": 1271,
    "start_time": "2021-10-16T20:57:44.535Z"
   },
   {
    "duration": 22,
    "start_time": "2021-10-16T20:57:45.809Z"
   },
   {
    "duration": 30,
    "start_time": "2021-10-16T20:57:45.833Z"
   },
   {
    "duration": 36,
    "start_time": "2021-10-16T20:57:45.865Z"
   },
   {
    "duration": 28,
    "start_time": "2021-10-16T20:57:45.904Z"
   },
   {
    "duration": 331,
    "start_time": "2021-10-16T21:13:49.856Z"
   },
   {
    "duration": 448,
    "start_time": "2021-10-16T21:16:24.867Z"
   },
   {
    "duration": 322,
    "start_time": "2021-10-16T21:16:33.864Z"
   },
   {
    "duration": 337,
    "start_time": "2021-10-16T21:17:22.195Z"
   },
   {
    "duration": 661,
    "start_time": "2021-10-16T21:24:38.062Z"
   },
   {
    "duration": 53,
    "start_time": "2021-10-16T21:24:52.597Z"
   },
   {
    "duration": 206,
    "start_time": "2021-10-16T21:25:35.826Z"
   },
   {
    "duration": 491,
    "start_time": "2021-10-16T21:26:05.295Z"
   },
   {
    "duration": 750,
    "start_time": "2021-10-16T21:26:57.607Z"
   },
   {
    "duration": 53,
    "start_time": "2021-10-16T21:27:30.728Z"
   },
   {
    "duration": 589,
    "start_time": "2021-10-16T21:27:41.033Z"
   },
   {
    "duration": 52,
    "start_time": "2021-10-16T21:28:06.835Z"
   },
   {
    "duration": 344,
    "start_time": "2021-10-16T21:28:38.504Z"
   },
   {
    "duration": 356,
    "start_time": "2021-10-16T21:28:56.764Z"
   },
   {
    "duration": 335,
    "start_time": "2021-10-16T21:29:46.393Z"
   },
   {
    "duration": 678,
    "start_time": "2021-10-16T21:31:42.580Z"
   },
   {
    "duration": 303,
    "start_time": "2021-10-16T21:37:40.239Z"
   },
   {
    "duration": 317,
    "start_time": "2021-10-16T21:37:55.617Z"
   },
   {
    "duration": 330,
    "start_time": "2021-10-16T21:53:51.721Z"
   },
   {
    "duration": 56059,
    "start_time": "2021-10-16T21:55:20.000Z"
   },
   {
    "duration": -3403,
    "start_time": "2021-10-16T21:56:19.465Z"
   },
   {
    "duration": 327,
    "start_time": "2021-10-16T21:56:25.992Z"
   },
   {
    "duration": 295,
    "start_time": "2021-10-16T21:56:38.181Z"
   },
   {
    "duration": 345,
    "start_time": "2021-10-16T21:56:55.426Z"
   },
   {
    "duration": 319,
    "start_time": "2021-10-16T21:58:13.736Z"
   },
   {
    "duration": 312,
    "start_time": "2021-10-16T21:58:56.258Z"
   },
   {
    "duration": 1747,
    "start_time": "2021-10-16T22:28:50.068Z"
   },
   {
    "duration": 20,
    "start_time": "2021-10-16T22:28:51.818Z"
   },
   {
    "duration": 45,
    "start_time": "2021-10-16T22:28:51.842Z"
   },
   {
    "duration": 244,
    "start_time": "2021-10-16T22:28:51.901Z"
   },
   {
    "duration": 158,
    "start_time": "2021-10-16T22:28:52.147Z"
   },
   {
    "duration": 207,
    "start_time": "2021-10-16T22:28:52.307Z"
   },
   {
    "duration": 15,
    "start_time": "2021-10-16T22:28:52.517Z"
   },
   {
    "duration": 10,
    "start_time": "2021-10-16T22:28:52.535Z"
   },
   {
    "duration": 18,
    "start_time": "2021-10-16T22:28:52.548Z"
   },
   {
    "duration": 5,
    "start_time": "2021-10-16T22:28:52.600Z"
   },
   {
    "duration": 11,
    "start_time": "2021-10-16T22:28:52.607Z"
   },
   {
    "duration": 13,
    "start_time": "2021-10-16T22:28:52.621Z"
   },
   {
    "duration": 11,
    "start_time": "2021-10-16T22:28:52.637Z"
   },
   {
    "duration": 52,
    "start_time": "2021-10-16T22:28:52.651Z"
   },
   {
    "duration": 968,
    "start_time": "2021-10-16T22:28:52.706Z"
   },
   {
    "duration": 350,
    "start_time": "2021-10-16T22:28:53.676Z"
   },
   {
    "duration": 94,
    "start_time": "2021-10-16T22:28:54.028Z"
   },
   {
    "duration": 356,
    "start_time": "2021-10-16T22:28:54.125Z"
   },
   {
    "duration": 56,
    "start_time": "2021-10-16T22:28:54.484Z"
   },
   {
    "duration": 154,
    "start_time": "2021-10-16T22:28:54.542Z"
   },
   {
    "duration": 164,
    "start_time": "2021-10-16T22:28:54.700Z"
   },
   {
    "duration": 109,
    "start_time": "2021-10-16T22:28:54.867Z"
   },
   {
    "duration": 99,
    "start_time": "2021-10-16T22:28:54.981Z"
   },
   {
    "duration": 55,
    "start_time": "2021-10-16T22:28:55.083Z"
   },
   {
    "duration": 41,
    "start_time": "2021-10-16T22:28:55.140Z"
   },
   {
    "duration": 309,
    "start_time": "2021-10-16T22:28:55.200Z"
   },
   {
    "duration": 7,
    "start_time": "2021-10-16T22:28:55.511Z"
   },
   {
    "duration": 11,
    "start_time": "2021-10-16T22:28:55.520Z"
   },
   {
    "duration": 10,
    "start_time": "2021-10-16T22:28:55.533Z"
   },
   {
    "duration": 14,
    "start_time": "2021-10-16T22:28:55.546Z"
   },
   {
    "duration": 32,
    "start_time": "2021-10-16T22:28:55.601Z"
   },
   {
    "duration": 21,
    "start_time": "2021-10-16T22:28:55.635Z"
   },
   {
    "duration": 44,
    "start_time": "2021-10-16T22:28:55.658Z"
   },
   {
    "duration": 12,
    "start_time": "2021-10-16T22:28:55.704Z"
   },
   {
    "duration": 14,
    "start_time": "2021-10-16T22:28:55.718Z"
   },
   {
    "duration": 28,
    "start_time": "2021-10-16T22:28:55.734Z"
   },
   {
    "duration": 176,
    "start_time": "2021-10-16T22:28:55.764Z"
   },
   {
    "duration": 74,
    "start_time": "2021-10-16T22:28:55.942Z"
   },
   {
    "duration": 261,
    "start_time": "2021-10-16T22:28:56.019Z"
   },
   {
    "duration": 7,
    "start_time": "2021-10-16T22:28:56.282Z"
   },
   {
    "duration": 20,
    "start_time": "2021-10-16T22:28:56.301Z"
   },
   {
    "duration": 20,
    "start_time": "2021-10-16T22:28:56.323Z"
   },
   {
    "duration": 57,
    "start_time": "2021-10-16T22:28:56.345Z"
   },
   {
    "duration": 631,
    "start_time": "2021-10-16T22:28:56.404Z"
   },
   {
    "duration": 22,
    "start_time": "2021-10-16T22:28:57.037Z"
   },
   {
    "duration": 46,
    "start_time": "2021-10-16T22:28:57.062Z"
   },
   {
    "duration": 1245,
    "start_time": "2021-10-16T22:28:57.110Z"
   },
   {
    "duration": 22,
    "start_time": "2021-10-16T22:28:58.358Z"
   },
   {
    "duration": 42,
    "start_time": "2021-10-16T22:28:58.382Z"
   },
   {
    "duration": 7,
    "start_time": "2021-10-16T22:28:58.426Z"
   },
   {
    "duration": 26,
    "start_time": "2021-10-16T22:28:58.435Z"
   },
   {
    "duration": 29,
    "start_time": "2021-10-16T23:42:49.952Z"
   },
   {
    "duration": 24,
    "start_time": "2021-10-16T23:42:56.421Z"
   },
   {
    "duration": 1967,
    "start_time": "2021-10-16T23:43:19.092Z"
   },
   {
    "duration": 20,
    "start_time": "2021-10-16T23:43:21.062Z"
   },
   {
    "duration": 51,
    "start_time": "2021-10-16T23:43:21.085Z"
   },
   {
    "duration": 242,
    "start_time": "2021-10-16T23:43:21.138Z"
   },
   {
    "duration": 162,
    "start_time": "2021-10-16T23:43:21.383Z"
   },
   {
    "duration": 210,
    "start_time": "2021-10-16T23:43:21.547Z"
   },
   {
    "duration": 13,
    "start_time": "2021-10-16T23:43:21.760Z"
   },
   {
    "duration": 30,
    "start_time": "2021-10-16T23:43:21.779Z"
   },
   {
    "duration": 23,
    "start_time": "2021-10-16T23:43:21.813Z"
   },
   {
    "duration": 7,
    "start_time": "2021-10-16T23:43:21.839Z"
   },
   {
    "duration": 10,
    "start_time": "2021-10-16T23:43:21.849Z"
   },
   {
    "duration": 50,
    "start_time": "2021-10-16T23:43:21.861Z"
   },
   {
    "duration": 12,
    "start_time": "2021-10-16T23:43:21.913Z"
   },
   {
    "duration": 16,
    "start_time": "2021-10-16T23:43:21.928Z"
   },
   {
    "duration": 1014,
    "start_time": "2021-10-16T23:43:21.947Z"
   },
   {
    "duration": 358,
    "start_time": "2021-10-16T23:43:22.964Z"
   },
   {
    "duration": 106,
    "start_time": "2021-10-16T23:43:23.325Z"
   },
   {
    "duration": 360,
    "start_time": "2021-10-16T23:43:23.434Z"
   },
   {
    "duration": 52,
    "start_time": "2021-10-16T23:43:23.801Z"
   },
   {
    "duration": 167,
    "start_time": "2021-10-16T23:43:23.856Z"
   },
   {
    "duration": 168,
    "start_time": "2021-10-16T23:43:24.026Z"
   },
   {
    "duration": 110,
    "start_time": "2021-10-16T23:43:24.200Z"
   },
   {
    "duration": 97,
    "start_time": "2021-10-16T23:43:24.315Z"
   },
   {
    "duration": 43,
    "start_time": "2021-10-16T23:43:24.415Z"
   },
   {
    "duration": 60,
    "start_time": "2021-10-16T23:43:24.460Z"
   },
   {
    "duration": 314,
    "start_time": "2021-10-16T23:43:24.522Z"
   },
   {
    "duration": 5,
    "start_time": "2021-10-16T23:43:24.839Z"
   },
   {
    "duration": 12,
    "start_time": "2021-10-16T23:43:24.847Z"
   },
   {
    "duration": 11,
    "start_time": "2021-10-16T23:43:24.861Z"
   },
   {
    "duration": 14,
    "start_time": "2021-10-16T23:43:24.901Z"
   },
   {
    "duration": 31,
    "start_time": "2021-10-16T23:43:24.917Z"
   },
   {
    "duration": 50,
    "start_time": "2021-10-16T23:43:24.950Z"
   },
   {
    "duration": 16,
    "start_time": "2021-10-16T23:43:25.003Z"
   },
   {
    "duration": 12,
    "start_time": "2021-10-16T23:43:25.021Z"
   },
   {
    "duration": 16,
    "start_time": "2021-10-16T23:43:25.035Z"
   },
   {
    "duration": 58,
    "start_time": "2021-10-16T23:43:25.053Z"
   },
   {
    "duration": 171,
    "start_time": "2021-10-16T23:43:25.114Z"
   },
   {
    "duration": 73,
    "start_time": "2021-10-16T23:43:25.287Z"
   },
   {
    "duration": 257,
    "start_time": "2021-10-16T23:43:25.363Z"
   },
   {
    "duration": 8,
    "start_time": "2021-10-16T23:43:25.622Z"
   },
   {
    "duration": 20,
    "start_time": "2021-10-16T23:43:25.632Z"
   },
   {
    "duration": 53,
    "start_time": "2021-10-16T23:43:25.655Z"
   },
   {
    "duration": 23,
    "start_time": "2021-10-16T23:43:25.711Z"
   },
   {
    "duration": 716,
    "start_time": "2021-10-16T23:43:25.736Z"
   },
   {
    "duration": 24,
    "start_time": "2021-10-16T23:43:26.455Z"
   },
   {
    "duration": 26,
    "start_time": "2021-10-16T23:43:26.501Z"
   },
   {
    "duration": 1298,
    "start_time": "2021-10-16T23:43:26.529Z"
   },
   {
    "duration": 23,
    "start_time": "2021-10-16T23:43:27.829Z"
   },
   {
    "duration": 48,
    "start_time": "2021-10-16T23:43:27.855Z"
   },
   {
    "duration": 8,
    "start_time": "2021-10-16T23:43:27.905Z"
   },
   {
    "duration": 26,
    "start_time": "2021-10-16T23:43:27.915Z"
   },
   {
    "duration": 441,
    "start_time": "2021-10-16T23:55:26.477Z"
   },
   {
    "duration": 27,
    "start_time": "2021-10-16T23:55:38.383Z"
   },
   {
    "duration": 22,
    "start_time": "2021-10-16T23:56:04.321Z"
   },
   {
    "duration": 1786,
    "start_time": "2021-10-16T23:56:11.996Z"
   },
   {
    "duration": 24,
    "start_time": "2021-10-16T23:56:13.785Z"
   },
   {
    "duration": 41,
    "start_time": "2021-10-16T23:56:13.814Z"
   },
   {
    "duration": 255,
    "start_time": "2021-10-16T23:56:13.858Z"
   },
   {
    "duration": 156,
    "start_time": "2021-10-16T23:56:14.116Z"
   },
   {
    "duration": 207,
    "start_time": "2021-10-16T23:56:14.275Z"
   },
   {
    "duration": 24,
    "start_time": "2021-10-16T23:56:14.484Z"
   },
   {
    "duration": 9,
    "start_time": "2021-10-16T23:56:14.512Z"
   },
   {
    "duration": 22,
    "start_time": "2021-10-16T23:56:14.524Z"
   },
   {
    "duration": 10,
    "start_time": "2021-10-16T23:56:14.548Z"
   },
   {
    "duration": 10,
    "start_time": "2021-10-16T23:56:14.561Z"
   },
   {
    "duration": 13,
    "start_time": "2021-10-16T23:56:14.602Z"
   },
   {
    "duration": 14,
    "start_time": "2021-10-16T23:56:14.617Z"
   },
   {
    "duration": 19,
    "start_time": "2021-10-16T23:56:14.633Z"
   },
   {
    "duration": 1016,
    "start_time": "2021-10-16T23:56:14.655Z"
   },
   {
    "duration": 351,
    "start_time": "2021-10-16T23:56:15.674Z"
   },
   {
    "duration": 98,
    "start_time": "2021-10-16T23:56:16.027Z"
   },
   {
    "duration": 360,
    "start_time": "2021-10-16T23:56:16.128Z"
   },
   {
    "duration": 57,
    "start_time": "2021-10-16T23:56:16.491Z"
   },
   {
    "duration": 153,
    "start_time": "2021-10-16T23:56:16.550Z"
   },
   {
    "duration": 158,
    "start_time": "2021-10-16T23:56:16.705Z"
   },
   {
    "duration": 114,
    "start_time": "2021-10-16T23:56:16.865Z"
   },
   {
    "duration": 93,
    "start_time": "2021-10-16T23:56:16.985Z"
   },
   {
    "duration": 53,
    "start_time": "2021-10-16T23:56:17.082Z"
   },
   {
    "duration": 42,
    "start_time": "2021-10-16T23:56:17.137Z"
   },
   {
    "duration": 322,
    "start_time": "2021-10-16T23:56:17.181Z"
   },
   {
    "duration": 6,
    "start_time": "2021-10-16T23:56:17.505Z"
   },
   {
    "duration": 11,
    "start_time": "2021-10-16T23:56:17.514Z"
   },
   {
    "duration": 10,
    "start_time": "2021-10-16T23:56:17.527Z"
   },
   {
    "duration": 17,
    "start_time": "2021-10-16T23:56:17.540Z"
   },
   {
    "duration": 67,
    "start_time": "2021-10-16T23:56:17.560Z"
   },
   {
    "duration": 21,
    "start_time": "2021-10-16T23:56:17.629Z"
   },
   {
    "duration": 15,
    "start_time": "2021-10-16T23:56:17.652Z"
   },
   {
    "duration": 42,
    "start_time": "2021-10-16T23:56:17.669Z"
   },
   {
    "duration": 15,
    "start_time": "2021-10-16T23:56:17.713Z"
   },
   {
    "duration": 23,
    "start_time": "2021-10-16T23:56:17.730Z"
   },
   {
    "duration": 199,
    "start_time": "2021-10-16T23:56:17.756Z"
   },
   {
    "duration": 75,
    "start_time": "2021-10-16T23:56:17.957Z"
   },
   {
    "duration": 271,
    "start_time": "2021-10-16T23:56:18.035Z"
   },
   {
    "duration": 6,
    "start_time": "2021-10-16T23:56:18.309Z"
   },
   {
    "duration": 22,
    "start_time": "2021-10-16T23:56:18.318Z"
   },
   {
    "duration": 21,
    "start_time": "2021-10-16T23:56:18.342Z"
   },
   {
    "duration": 57,
    "start_time": "2021-10-16T23:56:18.365Z"
   },
   {
    "duration": 637,
    "start_time": "2021-10-16T23:56:18.424Z"
   },
   {
    "duration": 38,
    "start_time": "2021-10-16T23:56:19.064Z"
   },
   {
    "duration": 26,
    "start_time": "2021-10-16T23:56:19.105Z"
   },
   {
    "duration": 1269,
    "start_time": "2021-10-16T23:56:19.134Z"
   },
   {
    "duration": 23,
    "start_time": "2021-10-16T23:56:20.406Z"
   },
   {
    "duration": 24,
    "start_time": "2021-10-16T23:56:20.431Z"
   },
   {
    "duration": 43,
    "start_time": "2021-10-16T23:56:20.458Z"
   },
   {
    "duration": 26,
    "start_time": "2021-10-16T23:56:20.504Z"
   },
   {
    "duration": 52,
    "start_time": "2021-10-17T10:38:01.350Z"
   },
   {
    "duration": 11,
    "start_time": "2021-10-17T10:38:11.142Z"
   },
   {
    "duration": 23,
    "start_time": "2021-10-17T10:38:22.490Z"
   },
   {
    "duration": 1671,
    "start_time": "2021-10-17T10:38:32.736Z"
   },
   {
    "duration": 20,
    "start_time": "2021-10-17T10:38:34.410Z"
   },
   {
    "duration": 40,
    "start_time": "2021-10-17T10:38:34.432Z"
   },
   {
    "duration": 240,
    "start_time": "2021-10-17T10:38:34.500Z"
   },
   {
    "duration": 159,
    "start_time": "2021-10-17T10:38:34.743Z"
   },
   {
    "duration": 211,
    "start_time": "2021-10-17T10:38:34.905Z"
   },
   {
    "duration": 15,
    "start_time": "2021-10-17T10:38:35.119Z"
   },
   {
    "duration": 10,
    "start_time": "2021-10-17T10:38:35.140Z"
   },
   {
    "duration": 57,
    "start_time": "2021-10-17T10:38:35.154Z"
   },
   {
    "duration": 10,
    "start_time": "2021-10-17T10:38:35.214Z"
   },
   {
    "duration": 12,
    "start_time": "2021-10-17T10:38:35.226Z"
   },
   {
    "duration": 13,
    "start_time": "2021-10-17T10:38:35.240Z"
   },
   {
    "duration": 46,
    "start_time": "2021-10-17T10:38:35.255Z"
   },
   {
    "duration": 16,
    "start_time": "2021-10-17T10:38:35.303Z"
   },
   {
    "duration": 957,
    "start_time": "2021-10-17T10:38:35.322Z"
   },
   {
    "duration": 444,
    "start_time": "2021-10-17T10:38:36.281Z"
   },
   {
    "duration": 101,
    "start_time": "2021-10-17T10:38:36.727Z"
   },
   {
    "duration": 369,
    "start_time": "2021-10-17T10:38:36.831Z"
   },
   {
    "duration": 48,
    "start_time": "2021-10-17T10:38:37.202Z"
   },
   {
    "duration": 160,
    "start_time": "2021-10-17T10:38:37.253Z"
   },
   {
    "duration": 164,
    "start_time": "2021-10-17T10:38:37.415Z"
   },
   {
    "duration": 106,
    "start_time": "2021-10-17T10:38:37.581Z"
   },
   {
    "duration": 103,
    "start_time": "2021-10-17T10:38:37.703Z"
   },
   {
    "duration": 49,
    "start_time": "2021-10-17T10:38:37.810Z"
   },
   {
    "duration": 68,
    "start_time": "2021-10-17T10:38:37.862Z"
   },
   {
    "duration": 323,
    "start_time": "2021-10-17T10:38:37.932Z"
   },
   {
    "duration": 6,
    "start_time": "2021-10-17T10:38:38.257Z"
   },
   {
    "duration": 10,
    "start_time": "2021-10-17T10:38:38.266Z"
   },
   {
    "duration": 31,
    "start_time": "2021-10-17T10:38:38.279Z"
   },
   {
    "duration": 14,
    "start_time": "2021-10-17T10:38:38.312Z"
   },
   {
    "duration": 30,
    "start_time": "2021-10-17T10:38:38.328Z"
   },
   {
    "duration": 57,
    "start_time": "2021-10-17T10:38:38.360Z"
   },
   {
    "duration": 16,
    "start_time": "2021-10-17T10:38:38.419Z"
   },
   {
    "duration": 11,
    "start_time": "2021-10-17T10:38:38.437Z"
   },
   {
    "duration": 14,
    "start_time": "2021-10-17T10:38:38.450Z"
   },
   {
    "duration": 20,
    "start_time": "2021-10-17T10:38:38.501Z"
   },
   {
    "duration": 163,
    "start_time": "2021-10-17T10:38:38.523Z"
   },
   {
    "duration": 62,
    "start_time": "2021-10-17T10:38:38.700Z"
   },
   {
    "duration": 273,
    "start_time": "2021-10-17T10:38:38.764Z"
   },
   {
    "duration": 7,
    "start_time": "2021-10-17T10:38:39.039Z"
   },
   {
    "duration": 20,
    "start_time": "2021-10-17T10:38:39.048Z"
   },
   {
    "duration": 47,
    "start_time": "2021-10-17T10:38:39.071Z"
   },
   {
    "duration": 25,
    "start_time": "2021-10-17T10:38:39.120Z"
   },
   {
    "duration": 688,
    "start_time": "2021-10-17T10:38:39.148Z"
   },
   {
    "duration": 24,
    "start_time": "2021-10-17T10:38:39.839Z"
   },
   {
    "duration": 49,
    "start_time": "2021-10-17T10:38:39.866Z"
   },
   {
    "duration": 1329,
    "start_time": "2021-10-17T10:38:39.917Z"
   },
   {
    "duration": 24,
    "start_time": "2021-10-17T10:38:41.249Z"
   },
   {
    "duration": 44,
    "start_time": "2021-10-17T10:38:41.276Z"
   },
   {
    "duration": 8,
    "start_time": "2021-10-17T10:38:41.322Z"
   },
   {
    "duration": 29,
    "start_time": "2021-10-17T10:38:41.332Z"
   },
   {
    "duration": 1649,
    "start_time": "2021-10-17T10:53:11.335Z"
   },
   {
    "duration": 20,
    "start_time": "2021-10-17T10:53:12.987Z"
   },
   {
    "duration": 232,
    "start_time": "2021-10-17T10:54:27.879Z"
   },
   {
    "duration": 53,
    "start_time": "2021-10-17T10:54:50.477Z"
   },
   {
    "duration": 17,
    "start_time": "2021-10-17T10:56:54.203Z"
   },
   {
    "duration": 445,
    "start_time": "2021-10-17T17:25:55.886Z"
   },
   {
    "duration": 338,
    "start_time": "2021-10-17T17:29:44.644Z"
   },
   {
    "duration": 342,
    "start_time": "2021-10-17T17:29:59.782Z"
   },
   {
    "duration": 1800,
    "start_time": "2021-10-17T17:30:09.477Z"
   },
   {
    "duration": 20,
    "start_time": "2021-10-17T17:30:11.279Z"
   },
   {
    "duration": 55,
    "start_time": "2021-10-17T17:30:11.302Z"
   },
   {
    "duration": 235,
    "start_time": "2021-10-17T17:30:11.360Z"
   },
   {
    "duration": 174,
    "start_time": "2021-10-17T17:30:11.601Z"
   },
   {
    "duration": 218,
    "start_time": "2021-10-17T17:30:11.778Z"
   },
   {
    "duration": 13,
    "start_time": "2021-10-17T17:30:11.998Z"
   },
   {
    "duration": 24,
    "start_time": "2021-10-17T17:30:12.015Z"
   },
   {
    "duration": 20,
    "start_time": "2021-10-17T17:30:12.042Z"
   },
   {
    "duration": 11,
    "start_time": "2021-10-17T17:30:12.065Z"
   },
   {
    "duration": 23,
    "start_time": "2021-10-17T17:30:12.079Z"
   },
   {
    "duration": 16,
    "start_time": "2021-10-17T17:30:12.104Z"
   },
   {
    "duration": 14,
    "start_time": "2021-10-17T17:30:12.123Z"
   },
   {
    "duration": 25,
    "start_time": "2021-10-17T17:30:12.140Z"
   },
   {
    "duration": 1015,
    "start_time": "2021-10-17T17:30:12.168Z"
   },
   {
    "duration": 352,
    "start_time": "2021-10-17T17:30:13.186Z"
   },
   {
    "duration": 104,
    "start_time": "2021-10-17T17:30:13.541Z"
   },
   {
    "duration": 358,
    "start_time": "2021-10-17T17:30:13.647Z"
   },
   {
    "duration": 48,
    "start_time": "2021-10-17T17:30:14.007Z"
   },
   {
    "duration": 161,
    "start_time": "2021-10-17T17:30:14.058Z"
   },
   {
    "duration": 163,
    "start_time": "2021-10-17T17:30:14.222Z"
   },
   {
    "duration": 118,
    "start_time": "2021-10-17T17:30:14.387Z"
   },
   {
    "duration": 96,
    "start_time": "2021-10-17T17:30:14.511Z"
   },
   {
    "duration": 41,
    "start_time": "2021-10-17T17:30:14.610Z"
   },
   {
    "duration": 71,
    "start_time": "2021-10-17T17:30:14.653Z"
   },
   {
    "duration": 309,
    "start_time": "2021-10-17T17:30:14.727Z"
   },
   {
    "duration": 6,
    "start_time": "2021-10-17T17:30:15.038Z"
   },
   {
    "duration": 17,
    "start_time": "2021-10-17T17:30:15.046Z"
   },
   {
    "duration": 38,
    "start_time": "2021-10-17T17:30:15.066Z"
   },
   {
    "duration": 23,
    "start_time": "2021-10-17T17:30:15.107Z"
   },
   {
    "duration": 34,
    "start_time": "2021-10-17T17:30:15.133Z"
   },
   {
    "duration": 46,
    "start_time": "2021-10-17T17:30:15.169Z"
   },
   {
    "duration": 15,
    "start_time": "2021-10-17T17:30:15.217Z"
   },
   {
    "duration": 20,
    "start_time": "2021-10-17T17:30:15.234Z"
   },
   {
    "duration": 49,
    "start_time": "2021-10-17T17:30:15.256Z"
   },
   {
    "duration": 21,
    "start_time": "2021-10-17T17:30:15.307Z"
   },
   {
    "duration": 200,
    "start_time": "2021-10-17T17:30:15.330Z"
   },
   {
    "duration": 115,
    "start_time": "2021-10-17T17:30:15.533Z"
   },
   {
    "duration": 380,
    "start_time": "2021-10-17T17:30:15.651Z"
   },
   {
    "duration": 9,
    "start_time": "2021-10-17T17:30:16.035Z"
   },
   {
    "duration": 50,
    "start_time": "2021-10-17T17:30:16.047Z"
   },
   {
    "duration": 21,
    "start_time": "2021-10-17T17:30:16.099Z"
   },
   {
    "duration": 25,
    "start_time": "2021-10-17T17:30:16.123Z"
   },
   {
    "duration": 683,
    "start_time": "2021-10-17T17:30:16.150Z"
   },
   {
    "duration": 23,
    "start_time": "2021-10-17T17:30:16.836Z"
   },
   {
    "duration": 48,
    "start_time": "2021-10-17T17:30:16.861Z"
   },
   {
    "duration": 1318,
    "start_time": "2021-10-17T17:30:16.911Z"
   },
   {
    "duration": 21,
    "start_time": "2021-10-17T17:30:18.231Z"
   },
   {
    "duration": 46,
    "start_time": "2021-10-17T17:30:18.254Z"
   },
   {
    "duration": 463,
    "start_time": "2021-10-17T17:30:18.302Z"
   },
   {
    "duration": -4946,
    "start_time": "2021-10-17T17:30:23.713Z"
   },
   {
    "duration": 328,
    "start_time": "2021-10-17T17:30:41.015Z"
   },
   {
    "duration": 10,
    "start_time": "2021-10-17T17:30:47.313Z"
   },
   {
    "duration": 1763,
    "start_time": "2021-10-17T17:31:54.717Z"
   },
   {
    "duration": 20,
    "start_time": "2021-10-17T17:31:56.483Z"
   },
   {
    "duration": 41,
    "start_time": "2021-10-17T17:31:56.506Z"
   },
   {
    "duration": 253,
    "start_time": "2021-10-17T17:31:56.550Z"
   },
   {
    "duration": 158,
    "start_time": "2021-10-17T17:31:56.805Z"
   },
   {
    "duration": 204,
    "start_time": "2021-10-17T17:31:56.966Z"
   },
   {
    "duration": 12,
    "start_time": "2021-10-17T17:31:57.173Z"
   },
   {
    "duration": 11,
    "start_time": "2021-10-17T17:31:57.202Z"
   },
   {
    "duration": 23,
    "start_time": "2021-10-17T17:31:57.217Z"
   },
   {
    "duration": 5,
    "start_time": "2021-10-17T17:31:57.242Z"
   },
   {
    "duration": 10,
    "start_time": "2021-10-17T17:31:57.249Z"
   },
   {
    "duration": 50,
    "start_time": "2021-10-17T17:31:57.261Z"
   },
   {
    "duration": 8,
    "start_time": "2021-10-17T17:31:57.313Z"
   },
   {
    "duration": 16,
    "start_time": "2021-10-17T17:31:57.324Z"
   },
   {
    "duration": 983,
    "start_time": "2021-10-17T17:31:57.342Z"
   },
   {
    "duration": 341,
    "start_time": "2021-10-17T17:31:58.328Z"
   },
   {
    "duration": 96,
    "start_time": "2021-10-17T17:31:58.671Z"
   },
   {
    "duration": 370,
    "start_time": "2021-10-17T17:31:58.769Z"
   },
   {
    "duration": 62,
    "start_time": "2021-10-17T17:31:59.141Z"
   },
   {
    "duration": 152,
    "start_time": "2021-10-17T17:31:59.206Z"
   },
   {
    "duration": 165,
    "start_time": "2021-10-17T17:31:59.361Z"
   },
   {
    "duration": 118,
    "start_time": "2021-10-17T17:31:59.529Z"
   },
   {
    "duration": 107,
    "start_time": "2021-10-17T17:31:59.654Z"
   },
   {
    "duration": 57,
    "start_time": "2021-10-17T17:31:59.765Z"
   },
   {
    "duration": 43,
    "start_time": "2021-10-17T17:31:59.825Z"
   },
   {
    "duration": 327,
    "start_time": "2021-10-17T17:31:59.872Z"
   },
   {
    "duration": 9,
    "start_time": "2021-10-17T17:32:00.202Z"
   },
   {
    "duration": 17,
    "start_time": "2021-10-17T17:32:00.214Z"
   },
   {
    "duration": 16,
    "start_time": "2021-10-17T17:32:00.234Z"
   },
   {
    "duration": 51,
    "start_time": "2021-10-17T17:32:00.253Z"
   },
   {
    "duration": 31,
    "start_time": "2021-10-17T17:32:00.306Z"
   },
   {
    "duration": 22,
    "start_time": "2021-10-17T17:32:00.340Z"
   },
   {
    "duration": 45,
    "start_time": "2021-10-17T17:32:00.364Z"
   },
   {
    "duration": 19,
    "start_time": "2021-10-17T17:32:00.411Z"
   },
   {
    "duration": 16,
    "start_time": "2021-10-17T17:32:00.432Z"
   },
   {
    "duration": 57,
    "start_time": "2021-10-17T17:32:00.451Z"
   },
   {
    "duration": 183,
    "start_time": "2021-10-17T17:32:00.511Z"
   },
   {
    "duration": 113,
    "start_time": "2021-10-17T17:32:00.697Z"
   },
   {
    "duration": 388,
    "start_time": "2021-10-17T17:32:00.813Z"
   },
   {
    "duration": 9,
    "start_time": "2021-10-17T17:32:01.204Z"
   },
   {
    "duration": 41,
    "start_time": "2021-10-17T17:32:01.215Z"
   },
   {
    "duration": 44,
    "start_time": "2021-10-17T17:32:01.259Z"
   },
   {
    "duration": 38,
    "start_time": "2021-10-17T17:32:01.305Z"
   },
   {
    "duration": 665,
    "start_time": "2021-10-17T17:32:01.345Z"
   },
   {
    "duration": 29,
    "start_time": "2021-10-17T17:32:02.013Z"
   },
   {
    "duration": 131,
    "start_time": "2021-10-17T17:32:02.044Z"
   },
   {
    "duration": 1381,
    "start_time": "2021-10-17T17:32:02.178Z"
   },
   {
    "duration": 38,
    "start_time": "2021-10-17T17:32:03.562Z"
   },
   {
    "duration": 24,
    "start_time": "2021-10-17T17:32:03.602Z"
   },
   {
    "duration": 8,
    "start_time": "2021-10-17T17:32:03.628Z"
   },
   {
    "duration": 64,
    "start_time": "2021-10-17T17:32:03.639Z"
   },
   {
    "duration": 1774,
    "start_time": "2021-10-18T15:26:30.627Z"
   },
   {
    "duration": 20,
    "start_time": "2021-10-18T15:26:32.404Z"
   },
   {
    "duration": 41,
    "start_time": "2021-10-18T15:26:32.427Z"
   },
   {
    "duration": 233,
    "start_time": "2021-10-18T15:26:32.471Z"
   },
   {
    "duration": 151,
    "start_time": "2021-10-18T15:26:32.706Z"
   },
   {
    "duration": 193,
    "start_time": "2021-10-18T15:26:32.860Z"
   },
   {
    "duration": 13,
    "start_time": "2021-10-18T15:26:33.058Z"
   },
   {
    "duration": 8,
    "start_time": "2021-10-18T15:26:33.075Z"
   },
   {
    "duration": 18,
    "start_time": "2021-10-18T15:26:33.087Z"
   },
   {
    "duration": 6,
    "start_time": "2021-10-18T15:26:33.107Z"
   },
   {
    "duration": 44,
    "start_time": "2021-10-18T15:26:33.115Z"
   },
   {
    "duration": 14,
    "start_time": "2021-10-18T15:26:33.162Z"
   },
   {
    "duration": 13,
    "start_time": "2021-10-18T15:26:33.178Z"
   },
   {
    "duration": 14,
    "start_time": "2021-10-18T15:26:33.194Z"
   },
   {
    "duration": 973,
    "start_time": "2021-10-18T15:26:33.211Z"
   },
   {
    "duration": 363,
    "start_time": "2021-10-18T15:26:34.186Z"
   },
   {
    "duration": 86,
    "start_time": "2021-10-18T15:26:34.552Z"
   },
   {
    "duration": 357,
    "start_time": "2021-10-18T15:26:34.640Z"
   },
   {
    "duration": 60,
    "start_time": "2021-10-18T15:26:34.999Z"
   },
   {
    "duration": 147,
    "start_time": "2021-10-18T15:26:35.061Z"
   },
   {
    "duration": 159,
    "start_time": "2021-10-18T15:26:35.211Z"
   },
   {
    "duration": 143,
    "start_time": "2021-10-18T15:26:35.373Z"
   },
   {
    "duration": 91,
    "start_time": "2021-10-18T15:26:35.524Z"
   },
   {
    "duration": 53,
    "start_time": "2021-10-18T15:26:35.618Z"
   },
   {
    "duration": 39,
    "start_time": "2021-10-18T15:26:35.674Z"
   },
   {
    "duration": 336,
    "start_time": "2021-10-18T15:26:35.716Z"
   },
   {
    "duration": 6,
    "start_time": "2021-10-18T15:26:36.057Z"
   },
   {
    "duration": 16,
    "start_time": "2021-10-18T15:26:36.065Z"
   },
   {
    "duration": 19,
    "start_time": "2021-10-18T15:26:36.083Z"
   },
   {
    "duration": 37,
    "start_time": "2021-10-18T15:26:36.105Z"
   },
   {
    "duration": 35,
    "start_time": "2021-10-18T15:26:36.144Z"
   },
   {
    "duration": 19,
    "start_time": "2021-10-18T15:26:36.181Z"
   },
   {
    "duration": 18,
    "start_time": "2021-10-18T15:26:36.202Z"
   },
   {
    "duration": 40,
    "start_time": "2021-10-18T15:26:36.223Z"
   },
   {
    "duration": 14,
    "start_time": "2021-10-18T15:26:36.266Z"
   },
   {
    "duration": 19,
    "start_time": "2021-10-18T15:26:36.283Z"
   },
   {
    "duration": 174,
    "start_time": "2021-10-18T15:26:36.305Z"
   },
   {
    "duration": 59,
    "start_time": "2021-10-18T15:26:36.481Z"
   },
   {
    "duration": 243,
    "start_time": "2021-10-18T15:26:36.558Z"
   },
   {
    "duration": 7,
    "start_time": "2021-10-18T15:26:36.803Z"
   },
   {
    "duration": 26,
    "start_time": "2021-10-18T15:26:36.812Z"
   },
   {
    "duration": 33,
    "start_time": "2021-10-18T15:26:36.841Z"
   },
   {
    "duration": 32,
    "start_time": "2021-10-18T15:26:36.877Z"
   },
   {
    "duration": 693,
    "start_time": "2021-10-18T15:26:36.912Z"
   },
   {
    "duration": 22,
    "start_time": "2021-10-18T15:26:37.607Z"
   },
   {
    "duration": 41,
    "start_time": "2021-10-18T15:26:37.631Z"
   },
   {
    "duration": 1300,
    "start_time": "2021-10-18T15:26:37.675Z"
   },
   {
    "duration": 21,
    "start_time": "2021-10-18T15:26:38.978Z"
   },
   {
    "duration": 30,
    "start_time": "2021-10-18T15:26:39.001Z"
   },
   {
    "duration": 28,
    "start_time": "2021-10-18T15:26:39.034Z"
   },
   {
    "duration": 24,
    "start_time": "2021-10-18T15:26:39.064Z"
   },
   {
    "duration": 16,
    "start_time": "2021-10-18T15:26:53.667Z"
   },
   {
    "duration": 1594,
    "start_time": "2021-10-18T16:55:56.676Z"
   },
   {
    "duration": 21,
    "start_time": "2021-10-18T16:55:58.273Z"
   },
   {
    "duration": 37,
    "start_time": "2021-10-18T16:55:58.297Z"
   },
   {
    "duration": 237,
    "start_time": "2021-10-18T16:55:58.337Z"
   },
   {
    "duration": 146,
    "start_time": "2021-10-18T16:55:58.577Z"
   },
   {
    "duration": 197,
    "start_time": "2021-10-18T16:55:58.725Z"
   },
   {
    "duration": 12,
    "start_time": "2021-10-18T16:55:58.925Z"
   },
   {
    "duration": 8,
    "start_time": "2021-10-18T16:55:58.941Z"
   },
   {
    "duration": 45,
    "start_time": "2021-10-18T16:55:58.952Z"
   },
   {
    "duration": 7,
    "start_time": "2021-10-18T16:55:59.000Z"
   },
   {
    "duration": 11,
    "start_time": "2021-10-18T16:55:59.010Z"
   },
   {
    "duration": 18,
    "start_time": "2021-10-18T16:55:59.023Z"
   },
   {
    "duration": 13,
    "start_time": "2021-10-18T16:55:59.043Z"
   },
   {
    "duration": 13,
    "start_time": "2021-10-18T16:55:59.083Z"
   },
   {
    "duration": 904,
    "start_time": "2021-10-18T16:55:59.098Z"
   },
   {
    "duration": 344,
    "start_time": "2021-10-18T16:56:00.005Z"
   },
   {
    "duration": 89,
    "start_time": "2021-10-18T16:56:00.351Z"
   },
   {
    "duration": 345,
    "start_time": "2021-10-18T16:56:00.443Z"
   },
   {
    "duration": 47,
    "start_time": "2021-10-18T16:56:00.790Z"
   },
   {
    "duration": 156,
    "start_time": "2021-10-18T16:56:00.840Z"
   },
   {
    "duration": 155,
    "start_time": "2021-10-18T16:56:00.999Z"
   },
   {
    "duration": 109,
    "start_time": "2021-10-18T16:56:01.157Z"
   },
   {
    "duration": 89,
    "start_time": "2021-10-18T16:56:01.271Z"
   },
   {
    "duration": 51,
    "start_time": "2021-10-18T16:56:01.363Z"
   },
   {
    "duration": 36,
    "start_time": "2021-10-18T16:56:01.417Z"
   },
   {
    "duration": 310,
    "start_time": "2021-10-18T16:56:01.456Z"
   },
   {
    "duration": 15,
    "start_time": "2021-10-18T16:56:01.769Z"
   },
   {
    "duration": 17,
    "start_time": "2021-10-18T16:56:01.786Z"
   },
   {
    "duration": 10,
    "start_time": "2021-10-18T16:56:01.806Z"
   },
   {
    "duration": 18,
    "start_time": "2021-10-18T16:56:01.819Z"
   },
   {
    "duration": 59,
    "start_time": "2021-10-18T16:56:01.839Z"
   },
   {
    "duration": 21,
    "start_time": "2021-10-18T16:56:01.900Z"
   },
   {
    "duration": 17,
    "start_time": "2021-10-18T16:56:01.923Z"
   },
   {
    "duration": 46,
    "start_time": "2021-10-18T16:56:01.942Z"
   },
   {
    "duration": 15,
    "start_time": "2021-10-18T16:56:01.990Z"
   },
   {
    "duration": 20,
    "start_time": "2021-10-18T16:56:02.007Z"
   },
   {
    "duration": 168,
    "start_time": "2021-10-18T16:56:02.029Z"
   },
   {
    "duration": 60,
    "start_time": "2021-10-18T16:56:02.200Z"
   },
   {
    "duration": 253,
    "start_time": "2021-10-18T16:56:02.263Z"
   },
   {
    "duration": 7,
    "start_time": "2021-10-18T16:56:02.519Z"
   },
   {
    "duration": 21,
    "start_time": "2021-10-18T16:56:02.528Z"
   },
   {
    "duration": 48,
    "start_time": "2021-10-18T16:56:02.551Z"
   },
   {
    "duration": 24,
    "start_time": "2021-10-18T16:56:02.601Z"
   },
   {
    "duration": 605,
    "start_time": "2021-10-18T16:56:02.627Z"
   },
   {
    "duration": 23,
    "start_time": "2021-10-18T16:56:03.235Z"
   },
   {
    "duration": 44,
    "start_time": "2021-10-18T16:56:03.260Z"
   },
   {
    "duration": 1283,
    "start_time": "2021-10-18T16:56:03.307Z"
   },
   {
    "duration": 22,
    "start_time": "2021-10-18T16:56:04.592Z"
   },
   {
    "duration": 23,
    "start_time": "2021-10-18T16:56:04.617Z"
   },
   {
    "duration": 8,
    "start_time": "2021-10-18T16:56:04.642Z"
   },
   {
    "duration": 24,
    "start_time": "2021-10-18T16:56:04.683Z"
   },
   {
    "duration": 53,
    "start_time": "2021-10-18T16:56:42.624Z"
   },
   {
    "duration": 38,
    "start_time": "2021-10-18T16:56:59.943Z"
   },
   {
    "duration": 32,
    "start_time": "2021-10-18T16:57:15.336Z"
   },
   {
    "duration": 64,
    "start_time": "2021-10-18T16:57:21.206Z"
   },
   {
    "duration": 34,
    "start_time": "2021-10-18T16:57:29.676Z"
   },
   {
    "duration": 62,
    "start_time": "2021-10-18T16:57:31.786Z"
   },
   {
    "duration": 34,
    "start_time": "2021-10-18T16:57:57.770Z"
   },
   {
    "duration": 54,
    "start_time": "2021-10-18T16:58:00.792Z"
   },
   {
    "duration": 35,
    "start_time": "2021-10-18T16:58:07.369Z"
   },
   {
    "duration": 1010,
    "start_time": "2021-10-18T17:11:35.438Z"
   },
   {
    "duration": 324,
    "start_time": "2021-10-18T17:11:44.025Z"
   },
   {
    "duration": 336,
    "start_time": "2021-10-18T17:12:24.424Z"
   },
   {
    "duration": 291,
    "start_time": "2021-10-18T17:13:18.940Z"
   },
   {
    "duration": 242,
    "start_time": "2021-10-18T17:13:55.069Z"
   },
   {
    "duration": 22,
    "start_time": "2021-10-18T17:17:29.297Z"
   },
   {
    "duration": 32,
    "start_time": "2021-10-18T17:17:53.091Z"
   },
   {
    "duration": 7,
    "start_time": "2021-10-18T17:18:29.746Z"
   },
   {
    "duration": 14,
    "start_time": "2021-10-18T17:18:54.130Z"
   },
   {
    "duration": 399,
    "start_time": "2021-10-18T17:19:15.433Z"
   },
   {
    "duration": 14,
    "start_time": "2021-10-18T17:19:22.827Z"
   },
   {
    "duration": 30,
    "start_time": "2021-10-18T17:20:04.070Z"
   },
   {
    "duration": 32,
    "start_time": "2021-10-18T17:20:19.385Z"
   },
   {
    "duration": 21,
    "start_time": "2021-10-18T17:20:56.566Z"
   },
   {
    "duration": 136,
    "start_time": "2021-10-18T17:21:31.402Z"
   },
   {
    "duration": 32,
    "start_time": "2021-10-18T17:21:41.298Z"
   },
   {
    "duration": 43,
    "start_time": "2021-10-18T17:21:49.211Z"
   },
   {
    "duration": 258,
    "start_time": "2021-10-18T18:46:30.700Z"
   },
   {
    "duration": 8,
    "start_time": "2021-10-18T18:46:35.032Z"
   },
   {
    "duration": 20,
    "start_time": "2021-10-18T18:47:12.675Z"
   },
   {
    "duration": 28,
    "start_time": "2021-10-18T18:47:42.347Z"
   },
   {
    "duration": 23,
    "start_time": "2021-10-18T18:48:23.621Z"
   },
   {
    "duration": 26,
    "start_time": "2021-10-18T18:48:41.680Z"
   },
   {
    "duration": 14,
    "start_time": "2021-10-18T18:49:03.323Z"
   },
   {
    "duration": 17,
    "start_time": "2021-10-18T18:49:10.718Z"
   },
   {
    "duration": 13,
    "start_time": "2021-10-18T18:49:17.272Z"
   },
   {
    "duration": 20,
    "start_time": "2021-10-18T18:49:35.858Z"
   },
   {
    "duration": 38,
    "start_time": "2021-10-18T18:49:59.806Z"
   },
   {
    "duration": 14,
    "start_time": "2021-10-18T18:50:14.574Z"
   },
   {
    "duration": 17,
    "start_time": "2021-10-18T18:50:31.294Z"
   },
   {
    "duration": 17,
    "start_time": "2021-10-18T18:50:48.342Z"
   },
   {
    "duration": 17,
    "start_time": "2021-10-18T18:51:07.952Z"
   },
   {
    "duration": 2495,
    "start_time": "2021-10-18T18:51:36.961Z"
   },
   {
    "duration": 35,
    "start_time": "2021-10-18T18:51:43.934Z"
   },
   {
    "duration": 34,
    "start_time": "2021-10-18T18:52:52.747Z"
   },
   {
    "duration": 44,
    "start_time": "2021-10-18T18:52:58.047Z"
   },
   {
    "duration": 250,
    "start_time": "2021-10-18T18:53:04.022Z"
   },
   {
    "duration": 8,
    "start_time": "2021-10-18T18:53:10.007Z"
   },
   {
    "duration": 27,
    "start_time": "2021-10-18T18:53:36.568Z"
   },
   {
    "duration": 33,
    "start_time": "2021-10-18T18:54:50.234Z"
   },
   {
    "duration": 34,
    "start_time": "2021-10-18T18:55:06.411Z"
   },
   {
    "duration": 47,
    "start_time": "2021-10-18T18:55:17.650Z"
   },
   {
    "duration": 33,
    "start_time": "2021-10-18T18:55:32.409Z"
   },
   {
    "duration": 288,
    "start_time": "2021-10-18T18:57:10.572Z"
   },
   {
    "duration": 56,
    "start_time": "2021-10-18T18:57:17.306Z"
   },
   {
    "duration": 44,
    "start_time": "2021-10-18T18:57:21.281Z"
   },
   {
    "duration": 20,
    "start_time": "2021-10-18T18:58:09.655Z"
   },
   {
    "duration": 16,
    "start_time": "2021-10-18T18:58:58.943Z"
   },
   {
    "duration": 30,
    "start_time": "2021-10-18T18:59:15.526Z"
   },
   {
    "duration": 41,
    "start_time": "2021-10-18T19:03:10.536Z"
   },
   {
    "duration": 35,
    "start_time": "2021-10-18T19:03:22.188Z"
   },
   {
    "duration": 35,
    "start_time": "2021-10-18T19:03:48.044Z"
   },
   {
    "duration": 35,
    "start_time": "2021-10-18T19:04:05.797Z"
   },
   {
    "duration": 34,
    "start_time": "2021-10-18T19:05:05.189Z"
   },
   {
    "duration": 251,
    "start_time": "2021-10-18T19:05:10.498Z"
   },
   {
    "duration": 8,
    "start_time": "2021-10-18T19:05:12.442Z"
   },
   {
    "duration": 25,
    "start_time": "2021-10-18T19:05:29.867Z"
   },
   {
    "duration": 40,
    "start_time": "2021-10-18T19:06:23.991Z"
   },
   {
    "duration": 25,
    "start_time": "2021-10-18T19:06:31.160Z"
   },
   {
    "duration": 32,
    "start_time": "2021-10-18T19:06:56.192Z"
   },
   {
    "duration": 264,
    "start_time": "2021-10-18T19:09:25.316Z"
   },
   {
    "duration": 47,
    "start_time": "2021-10-18T19:10:11.565Z"
   },
   {
    "duration": 42,
    "start_time": "2021-10-18T19:10:17.933Z"
   },
   {
    "duration": 32,
    "start_time": "2021-10-18T19:10:38.995Z"
   },
   {
    "duration": 11,
    "start_time": "2021-10-18T19:10:45.290Z"
   },
   {
    "duration": 36,
    "start_time": "2021-10-18T19:11:05.756Z"
   },
   {
    "duration": 46,
    "start_time": "2021-10-18T19:11:10.996Z"
   },
   {
    "duration": 22,
    "start_time": "2021-10-18T19:11:20.480Z"
   },
   {
    "duration": 285,
    "start_time": "2021-10-18T19:11:55.826Z"
   },
   {
    "duration": 42,
    "start_time": "2021-10-18T19:12:01.066Z"
   },
   {
    "duration": 24,
    "start_time": "2021-10-18T19:12:09.350Z"
   },
   {
    "duration": 32,
    "start_time": "2021-10-18T19:12:27.623Z"
   },
   {
    "duration": 7,
    "start_time": "2021-10-18T19:13:00.245Z"
   },
   {
    "duration": 7,
    "start_time": "2021-10-18T19:13:56.775Z"
   },
   {
    "duration": 30,
    "start_time": "2021-10-18T19:13:58.527Z"
   },
   {
    "duration": 8,
    "start_time": "2021-10-18T19:13:59.792Z"
   },
   {
    "duration": 1616,
    "start_time": "2021-10-18T19:14:09.606Z"
   },
   {
    "duration": 19,
    "start_time": "2021-10-18T19:14:11.225Z"
   },
   {
    "duration": 42,
    "start_time": "2021-10-18T19:14:11.247Z"
   },
   {
    "duration": 232,
    "start_time": "2021-10-18T19:14:11.292Z"
   },
   {
    "duration": 156,
    "start_time": "2021-10-18T19:14:11.526Z"
   },
   {
    "duration": 198,
    "start_time": "2021-10-18T19:14:11.684Z"
   },
   {
    "duration": 13,
    "start_time": "2021-10-18T19:14:11.884Z"
   },
   {
    "duration": 10,
    "start_time": "2021-10-18T19:14:11.901Z"
   },
   {
    "duration": 23,
    "start_time": "2021-10-18T19:14:11.914Z"
   },
   {
    "duration": 7,
    "start_time": "2021-10-18T19:14:11.940Z"
   },
   {
    "duration": 39,
    "start_time": "2021-10-18T19:14:11.949Z"
   },
   {
    "duration": 17,
    "start_time": "2021-10-18T19:14:11.990Z"
   },
   {
    "duration": 15,
    "start_time": "2021-10-18T19:14:12.010Z"
   },
   {
    "duration": 31,
    "start_time": "2021-10-18T19:14:12.027Z"
   },
   {
    "duration": 938,
    "start_time": "2021-10-18T19:14:12.060Z"
   },
   {
    "duration": 338,
    "start_time": "2021-10-18T19:14:13.000Z"
   },
   {
    "duration": 134,
    "start_time": "2021-10-18T19:14:13.341Z"
   },
   {
    "duration": 488,
    "start_time": "2021-10-18T19:14:13.478Z"
   },
   {
    "duration": 69,
    "start_time": "2021-10-18T19:14:13.968Z"
   },
   {
    "duration": 176,
    "start_time": "2021-10-18T19:14:14.040Z"
   },
   {
    "duration": 167,
    "start_time": "2021-10-18T19:14:14.218Z"
   },
   {
    "duration": 117,
    "start_time": "2021-10-18T19:14:14.388Z"
   },
   {
    "duration": 100,
    "start_time": "2021-10-18T19:14:14.512Z"
   },
   {
    "duration": 41,
    "start_time": "2021-10-18T19:14:14.616Z"
   },
   {
    "duration": 38,
    "start_time": "2021-10-18T19:14:14.683Z"
   },
   {
    "duration": 319,
    "start_time": "2021-10-18T19:14:14.723Z"
   },
   {
    "duration": 6,
    "start_time": "2021-10-18T19:14:15.045Z"
   },
   {
    "duration": 30,
    "start_time": "2021-10-18T19:14:15.054Z"
   },
   {
    "duration": 10,
    "start_time": "2021-10-18T19:14:15.086Z"
   },
   {
    "duration": 18,
    "start_time": "2021-10-18T19:14:15.099Z"
   },
   {
    "duration": 29,
    "start_time": "2021-10-18T19:14:15.120Z"
   },
   {
    "duration": 48,
    "start_time": "2021-10-18T19:14:15.152Z"
   },
   {
    "duration": 17,
    "start_time": "2021-10-18T19:14:15.202Z"
   },
   {
    "duration": 10,
    "start_time": "2021-10-18T19:14:15.222Z"
   },
   {
    "duration": 52,
    "start_time": "2021-10-18T19:14:15.234Z"
   },
   {
    "duration": 20,
    "start_time": "2021-10-18T19:14:15.288Z"
   },
   {
    "duration": 182,
    "start_time": "2021-10-18T19:14:15.311Z"
   },
   {
    "duration": 12,
    "start_time": "2021-10-18T19:14:15.496Z"
   },
   {
    "duration": 46,
    "start_time": "2021-10-18T19:14:15.512Z"
   },
   {
    "duration": 265,
    "start_time": "2021-10-18T19:14:15.584Z"
   },
   {
    "duration": 6,
    "start_time": "2021-10-18T19:14:15.853Z"
   },
   {
    "duration": 623,
    "start_time": "2021-10-18T19:14:15.861Z"
   },
   {
    "duration": 25,
    "start_time": "2021-10-18T19:14:16.487Z"
   },
   {
    "duration": 36,
    "start_time": "2021-10-18T19:14:16.514Z"
   },
   {
    "duration": 1278,
    "start_time": "2021-10-18T19:14:16.552Z"
   },
   {
    "duration": 24,
    "start_time": "2021-10-18T19:14:17.832Z"
   },
   {
    "duration": 43,
    "start_time": "2021-10-18T19:14:17.858Z"
   },
   {
    "duration": 8,
    "start_time": "2021-10-18T19:14:17.903Z"
   },
   {
    "duration": 33,
    "start_time": "2021-10-18T19:14:17.914Z"
   },
   {
    "duration": 28,
    "start_time": "2021-10-18T21:38:42.258Z"
   },
   {
    "duration": 32,
    "start_time": "2021-10-18T21:40:31.268Z"
   },
   {
    "duration": 30,
    "start_time": "2021-10-18T21:41:01.304Z"
   },
   {
    "duration": 33,
    "start_time": "2021-10-18T21:41:02.563Z"
   },
   {
    "duration": 64,
    "start_time": "2021-10-18T21:41:27.687Z"
   },
   {
    "duration": 91,
    "start_time": "2021-10-18T21:42:59.753Z"
   },
   {
    "duration": 31,
    "start_time": "2021-10-18T21:43:30.649Z"
   },
   {
    "duration": 135,
    "start_time": "2021-10-18T21:43:33.464Z"
   },
   {
    "duration": 741,
    "start_time": "2021-10-18T21:44:10.791Z"
   },
   {
    "duration": 103,
    "start_time": "2021-10-18T21:44:24.069Z"
   },
   {
    "duration": 22,
    "start_time": "2021-10-18T21:45:05.943Z"
   },
   {
    "duration": 11099,
    "start_time": "2021-10-18T21:47:08.317Z"
   },
   {
    "duration": 22,
    "start_time": "2021-10-18T21:49:05.232Z"
   },
   {
    "duration": 35,
    "start_time": "2021-10-18T21:50:23.889Z"
   },
   {
    "duration": 236,
    "start_time": "2021-10-18T21:54:54.221Z"
   },
   {
    "duration": 261,
    "start_time": "2021-10-18T21:55:14.276Z"
   },
   {
    "duration": 276,
    "start_time": "2021-10-18T21:55:20.481Z"
   },
   {
    "duration": 313,
    "start_time": "2021-10-18T21:55:50.877Z"
   },
   {
    "duration": 403,
    "start_time": "2021-10-18T21:56:08.025Z"
   },
   {
    "duration": 349,
    "start_time": "2021-10-18T21:56:16.562Z"
   },
   {
    "duration": 299,
    "start_time": "2021-10-18T21:56:20.614Z"
   },
   {
    "duration": 312,
    "start_time": "2021-10-18T21:56:25.943Z"
   },
   {
    "duration": 316,
    "start_time": "2021-10-18T21:56:36.257Z"
   },
   {
    "duration": 339,
    "start_time": "2021-10-18T21:57:08.918Z"
   },
   {
    "duration": 404,
    "start_time": "2021-10-18T21:57:39.560Z"
   },
   {
    "duration": 312,
    "start_time": "2021-10-18T21:57:48.532Z"
   },
   {
    "duration": 787,
    "start_time": "2021-10-18T22:01:37.809Z"
   },
   {
    "duration": 975,
    "start_time": "2021-10-18T22:01:54.056Z"
   },
   {
    "duration": 688,
    "start_time": "2021-10-18T22:02:24.497Z"
   },
   {
    "duration": 346,
    "start_time": "2021-10-18T22:03:31.502Z"
   },
   {
    "duration": 318,
    "start_time": "2021-10-18T22:03:46.103Z"
   },
   {
    "duration": 330,
    "start_time": "2021-10-18T22:05:15.948Z"
   },
   {
    "duration": 325,
    "start_time": "2021-10-18T22:05:29.694Z"
   },
   {
    "duration": 320,
    "start_time": "2021-10-18T22:06:10.844Z"
   },
   {
    "duration": 329,
    "start_time": "2021-10-18T22:06:20.146Z"
   },
   {
    "duration": 409,
    "start_time": "2021-10-18T22:06:48.683Z"
   },
   {
    "duration": 245,
    "start_time": "2021-10-18T22:09:09.712Z"
   },
   {
    "duration": 20,
    "start_time": "2021-10-18T22:09:32.535Z"
   },
   {
    "duration": 16,
    "start_time": "2021-10-18T22:10:13.892Z"
   },
   {
    "duration": 28,
    "start_time": "2021-10-18T22:23:03.835Z"
   },
   {
    "duration": 28,
    "start_time": "2021-10-18T22:23:21.225Z"
   },
   {
    "duration": 19,
    "start_time": "2021-10-18T22:24:43.899Z"
   },
   {
    "duration": 19,
    "start_time": "2021-10-18T22:24:52.623Z"
   },
   {
    "duration": 20,
    "start_time": "2021-10-18T22:25:01.972Z"
   },
   {
    "duration": 25,
    "start_time": "2021-10-18T22:25:24.813Z"
   },
   {
    "duration": 20,
    "start_time": "2021-10-18T22:25:57.724Z"
   },
   {
    "duration": 543,
    "start_time": "2021-10-19T09:21:45.929Z"
   },
   {
    "duration": 11,
    "start_time": "2021-10-19T09:22:03.636Z"
   },
   {
    "duration": 359,
    "start_time": "2021-10-19T09:22:32.584Z"
   },
   {
    "duration": 469,
    "start_time": "2021-10-19T09:23:15.019Z"
   },
   {
    "duration": 429,
    "start_time": "2021-10-19T09:24:04.230Z"
   },
   {
    "duration": 513,
    "start_time": "2021-10-19T09:24:47.502Z"
   },
   {
    "duration": 542,
    "start_time": "2021-10-19T09:24:58.529Z"
   },
   {
    "duration": 469,
    "start_time": "2021-10-19T09:29:27.943Z"
   },
   {
    "duration": 560,
    "start_time": "2021-10-19T14:36:28.156Z"
   },
   {
    "duration": 373,
    "start_time": "2021-10-19T14:37:14.145Z"
   },
   {
    "duration": 93,
    "start_time": "2021-10-19T14:51:05.003Z"
   },
   {
    "duration": 100,
    "start_time": "2021-10-19T14:51:13.096Z"
   },
   {
    "duration": 355,
    "start_time": "2021-10-19T15:34:51.753Z"
   },
   {
    "duration": 2195,
    "start_time": "2021-10-29T12:44:45.068Z"
   },
   {
    "duration": 20,
    "start_time": "2021-10-29T12:44:47.265Z"
   },
   {
    "duration": 40,
    "start_time": "2021-10-29T12:44:47.288Z"
   },
   {
    "duration": 233,
    "start_time": "2021-10-29T12:44:47.332Z"
   },
   {
    "duration": 159,
    "start_time": "2021-10-29T12:44:47.567Z"
   },
   {
    "duration": 202,
    "start_time": "2021-10-29T12:44:47.729Z"
   },
   {
    "duration": 13,
    "start_time": "2021-10-29T12:44:47.934Z"
   },
   {
    "duration": 34,
    "start_time": "2021-10-29T12:44:47.951Z"
   },
   {
    "duration": 19,
    "start_time": "2021-10-29T12:44:47.988Z"
   },
   {
    "duration": 5,
    "start_time": "2021-10-29T12:44:48.010Z"
   },
   {
    "duration": 9,
    "start_time": "2021-10-29T12:44:48.018Z"
   },
   {
    "duration": 15,
    "start_time": "2021-10-29T12:44:48.029Z"
   },
   {
    "duration": 9,
    "start_time": "2021-10-29T12:44:48.083Z"
   },
   {
    "duration": 17,
    "start_time": "2021-10-29T12:44:48.095Z"
   },
   {
    "duration": 960,
    "start_time": "2021-10-29T12:44:48.115Z"
   },
   {
    "duration": 341,
    "start_time": "2021-10-29T12:44:49.081Z"
   },
   {
    "duration": 93,
    "start_time": "2021-10-29T12:44:49.425Z"
   },
   {
    "duration": 352,
    "start_time": "2021-10-29T12:44:49.520Z"
   },
   {
    "duration": 51,
    "start_time": "2021-10-29T12:44:49.874Z"
   },
   {
    "duration": 156,
    "start_time": "2021-10-29T12:44:49.927Z"
   },
   {
    "duration": 162,
    "start_time": "2021-10-29T12:44:50.085Z"
   },
   {
    "duration": 110,
    "start_time": "2021-10-29T12:44:50.250Z"
   },
   {
    "duration": 91,
    "start_time": "2021-10-29T12:44:50.366Z"
   },
   {
    "duration": 58,
    "start_time": "2021-10-29T12:44:50.460Z"
   },
   {
    "duration": 37,
    "start_time": "2021-10-29T12:44:50.521Z"
   },
   {
    "duration": 433,
    "start_time": "2021-10-29T12:44:50.561Z"
   },
   {
    "duration": 7,
    "start_time": "2021-10-29T12:44:50.997Z"
   },
   {
    "duration": 11,
    "start_time": "2021-10-29T12:44:51.006Z"
   },
   {
    "duration": 15,
    "start_time": "2021-10-29T12:44:51.020Z"
   },
   {
    "duration": 53,
    "start_time": "2021-10-29T12:44:51.037Z"
   },
   {
    "duration": 30,
    "start_time": "2021-10-29T12:44:51.092Z"
   },
   {
    "duration": 504,
    "start_time": "2021-10-29T12:44:51.124Z"
   },
   {
    "duration": 26,
    "start_time": "2021-10-29T12:44:51.630Z"
   },
   {
    "duration": 36,
    "start_time": "2021-10-29T12:44:51.659Z"
   },
   {
    "duration": 354,
    "start_time": "2021-10-29T12:44:51.698Z"
   },
   {
    "duration": 28,
    "start_time": "2021-10-29T12:44:52.055Z"
   },
   {
    "duration": 16,
    "start_time": "2021-10-29T12:44:52.085Z"
   },
   {
    "duration": 347,
    "start_time": "2021-10-29T12:44:52.103Z"
   },
   {
    "duration": 15,
    "start_time": "2021-10-29T12:44:52.452Z"
   },
   {
    "duration": 13,
    "start_time": "2021-10-29T12:44:52.482Z"
   },
   {
    "duration": 14,
    "start_time": "2021-10-29T12:44:52.497Z"
   },
   {
    "duration": 20,
    "start_time": "2021-10-29T12:44:52.514Z"
   },
   {
    "duration": 68,
    "start_time": "2021-10-29T12:44:52.537Z"
   },
   {
    "duration": 47,
    "start_time": "2021-10-29T12:44:52.608Z"
   },
   {
    "duration": 300,
    "start_time": "2021-10-29T12:44:52.658Z"
   },
   {
    "duration": 7,
    "start_time": "2021-10-29T12:44:52.961Z"
   },
   {
    "duration": 607,
    "start_time": "2021-10-29T12:44:52.983Z"
   },
   {
    "duration": 24,
    "start_time": "2021-10-29T12:44:53.592Z"
   },
   {
    "duration": 25,
    "start_time": "2021-10-29T12:44:53.618Z"
   },
   {
    "duration": 1351,
    "start_time": "2021-10-29T12:44:53.645Z"
   },
   {
    "duration": 23,
    "start_time": "2021-10-29T12:44:54.998Z"
   },
   {
    "duration": 31,
    "start_time": "2021-10-29T12:44:55.024Z"
   },
   {
    "duration": 28,
    "start_time": "2021-10-29T12:44:55.058Z"
   },
   {
    "duration": 36,
    "start_time": "2021-10-29T12:44:55.088Z"
   }
  ],
  "kernelspec": {
   "display_name": "Python 3",
   "language": "python",
   "name": "python3"
  },
  "language_info": {
   "codemirror_mode": {
    "name": "ipython",
    "version": 3
   },
   "file_extension": ".py",
   "mimetype": "text/x-python",
   "name": "python",
   "nbconvert_exporter": "python",
   "pygments_lexer": "ipython3",
   "version": "3.7.8"
  },
  "toc": {
   "base_numbering": 1,
   "nav_menu": {},
   "number_sections": true,
   "sideBar": true,
   "skip_h1_title": true,
   "title_cell": "Table of Contents",
   "title_sidebar": "Contents",
   "toc_cell": false,
   "toc_position": {},
   "toc_section_display": true,
   "toc_window_display": false
  }
 },
 "nbformat": 4,
 "nbformat_minor": 2
}
